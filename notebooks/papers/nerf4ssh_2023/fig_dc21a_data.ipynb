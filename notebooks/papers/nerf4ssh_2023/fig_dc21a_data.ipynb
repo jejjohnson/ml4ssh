{
 "cells": [
  {
   "cell_type": "markdown",
   "metadata": {},
   "source": [
    "# Figures - Data"
   ]
  },
  {
   "cell_type": "code",
   "execution_count": null,
   "metadata": {},
   "outputs": [],
   "source": [
    "import sys, os\n",
    "\n",
    "import ml_collections\n",
    "from pyprojroot import here\n",
    "\n",
    "# spyder up to find the root\n",
    "root = here(project_files=[\".root\"])\n",
    "\n",
    "\n",
    "# append to path\n",
    "sys.path.append(str(root))"
   ]
  },
  {
   "cell_type": "code",
   "execution_count": null,
   "metadata": {},
   "outputs": [],
   "source": [
    "from pathlib import Path\n",
    "import numpy as np\n",
    "from pathlib import Path\n",
    "import pandas as pd\n",
    "import xarray as xr\n",
    "import matplotlib.pyplot as plt\n",
    "\n",
    "import seaborn as sns\n",
    "\n",
    "sns.reset_defaults()\n",
    "sns.set_context(context=\"talk\", font_scale=0.7)\n",
    "import scienceplots\n",
    "\n",
    "# plt.style.use(\"science\")\n",
    "\n",
    "import hvplot.xarray\n",
    "import hvplot.pandas\n",
    "\n",
    "from inr4ssh._src.operators.finite_diff import calculate_gradient, calculate_laplacian\n",
    "from inr4ssh._src.preprocess.subset import temporal_subset, spatial_subset\n",
    "from inr4ssh._src.preprocess.coords import (\n",
    "    correct_coordinate_labels,\n",
    "    correct_longitude_domain,\n",
    ")\n",
    "from inr4ssh._src.data.ssh_obs import load_ssh_altimetry_data_train\n",
    "\n",
    "from inr4ssh._src.preprocess.coords import correct_longitude_domain\n",
    "from inr4ssh._src.preprocess.obs import bin_observations_xr, bin_observations_coords\n",
    "from inr4ssh._src.preprocess.grid import create_spatiotemporal_grid\n",
    "from inr4ssh._src.viz.movie import create_movie\n",
    "from inr4ssh._src.metrics.psd import psd_isotropic\n",
    "from inr4ssh._src.viz.psd.isotropic import plot_psd_isotropic\n",
    "from inr4ssh._src.viz.obs import plot_obs_demo\n",
    "from inr4ssh._src.metrics.psd import psd_spacetime, psd_spacetime_dask\n",
    "from inr4ssh._src.viz.psd.spacetime import (\n",
    "    plot_psd_spacetime_wavelength,\n",
    "    plot_psd_spacetime_wavenumber,\n",
    ")\n",
    "from inr4ssh._src.viz.psd.spacetime import (\n",
    "    plot_psd_spacetime_score_wavelength,\n",
    "    plot_psd_spacetime_score_wavenumber,\n",
    ")\n",
    "from loguru import logger\n",
    "\n",
    "%matplotlib inline\n",
    "%load_ext autoreload\n",
    "%autoreload 2"
   ]
  },
  {
   "cell_type": "markdown",
   "metadata": {},
   "source": [
    "## Data"
   ]
  },
  {
   "cell_type": "markdown",
   "metadata": {},
   "source": [
    "### Evaluation Field"
   ]
  },
  {
   "cell_type": "code",
   "execution_count": null,
   "metadata": {},
   "outputs": [],
   "source": [
    "from inr4ssh._src.preprocess.spatial import convert_lon_360_180, convert_lon_180_360\n",
    "\n",
    "\n",
    "def post_process(ds, variable):\n",
    "\n",
    "    # correct coordinate labels\n",
    "    logger.info(\"Fixing coordinate labels...\")\n",
    "    ds = correct_coordinate_labels(ds)\n",
    "\n",
    "    # correct labels\n",
    "    logger.info(\"Fixing labels\")\n",
    "    ds = ds.rename({variable: \"ssh\"})\n",
    "\n",
    "    # correct longitude domain\n",
    "    logger.info(\"Fixing longitude domain\")\n",
    "    from inr4ssh._src.preprocess.spatial import convert_lon_360_180\n",
    "\n",
    "    # ds[\"longitude\"] = convert_lon_180_360(ds.longitude)\n",
    "    ds[\"longitude\"] = convert_lon_360_180(ds.longitude)\n",
    "\n",
    "    # # subset temporal space\n",
    "    # ds = ds.sel(time=slice(np.datetime64(\"2017-02-01\"), np.datetime64(\"2017-03-01\")))\n",
    "\n",
    "    # # subset spatial space\n",
    "    # ds = ds.sel(\n",
    "    #     longitude=slice(-75.0, -45.0),\n",
    "    #     latitude=slice(33.0, 53.0)\n",
    "    # )\n",
    "\n",
    "    # # subset spatial space\n",
    "    # ds = ds.where(\n",
    "    #     (ds[\"longitude\"] >= -75.0)\n",
    "    #     & (ds[\"longitude\"] <= -45.0)\n",
    "    #     & (ds[\"latitude\"] >= 33.0)\n",
    "    #     & (ds[\"latitude\"] <= 53.0),\n",
    "    #     drop=True,\n",
    "    # )\n",
    "\n",
    "    # # subset spatial space (evaluation)\n",
    "    # ds = ds.where(\n",
    "    #     (ds[\"longitude\"] >= -65.0)\n",
    "    #     & (ds[\"longitude\"] <= -55.0)\n",
    "    #     & (ds[\"latitude\"] >= 33.0)\n",
    "    #     & (ds[\"latitude\"] <= 43.0),\n",
    "    #     drop=True,\n",
    "    # )\n",
    "\n",
    "    ds = ds.transpose(\"time\", \"latitude\", \"longitude\")\n",
    "\n",
    "    # regrid data\n",
    "    return ds"
   ]
  },
  {
   "cell_type": "code",
   "execution_count": null,
   "metadata": {},
   "outputs": [],
   "source": [
    "fig_path = Path(root).joinpath(\"figures/dc21a\")"
   ]
  },
  {
   "cell_type": "markdown",
   "metadata": {},
   "source": [
    "## Reference Grid"
   ]
  },
  {
   "cell_type": "code",
   "execution_count": null,
   "metadata": {},
   "outputs": [],
   "source": [
    "from inr4ssh._src.preprocess.regrid import oi_regrid\n",
    "\n",
    "logger.info(\"Dataset I - DUACS\")\n",
    "url = \"/Volumes/EMANS_HDD/data/dc21b_ose/test_2/results/OSE_ssh_mapping_DUACS.nc\"\n",
    "ds_field = xr.open_dataset(url)\n",
    "\n",
    "ds_field = post_process(ds_field, \"ssh\")\n",
    "ds_field"
   ]
  },
  {
   "cell_type": "code",
   "execution_count": null,
   "metadata": {},
   "outputs": [],
   "source": [
    "vmin = np.min([ds_field.ssh.values])\n",
    "vmax = np.max([ds_field.ssh.values])\n",
    "\n",
    "# with plt.style.context('science'):\n",
    "fig, ax = plt.subplots()\n",
    "\n",
    "ds_field.ssh.sel(time=\"2017-02-01\").plot(\n",
    "    ax=ax, cmap=\"viridis\", robust=True, cbar_kwargs={\"label\": \"\"}, vmin=vmin, vmax=vmax\n",
    ")\n",
    "ax.set(xlabel=\"Longitude\", ylabel=\"Latitude\", title=\"\")\n",
    "plt.show()"
   ]
  },
  {
   "cell_type": "markdown",
   "metadata": {},
   "source": [
    "### Regridding\n",
    "\n",
    "There are a few opertions that we are interested in doing:\n",
    "* Bounds <---> Coordinates\n",
    "* Coordinates <---> Grid"
   ]
  },
  {
   "cell_type": "code",
   "execution_count": null,
   "metadata": {},
   "outputs": [],
   "source": [
    "from ml_collections import config_dict\n",
    "\n",
    "# create configuration\n",
    "def get_lowres_config():\n",
    "    config = config_dict.ConfigDict()\n",
    "\n",
    "    config.lon_min = -65  # -75.0\n",
    "    config.lon_max = -55.0  # -45.0\n",
    "    config.dlon = 0.1\n",
    "    config.lat_min = 33.0\n",
    "    config.lat_max = 43.0  # 53.0\n",
    "    config.dlat = 0.1\n",
    "    config.time_min = np.datetime64(\"2017-02-01\")\n",
    "    config.time_max = np.datetime64(\"2017-03-01\")\n",
    "    config.dt_freq = 1\n",
    "    config.dt_unit = \"D\"\n",
    "    config.dtime = \"1_D\"  # np.timedelta64(1, \"D\")\n",
    "    config.time_buffer = np.timedelta64(1, \"D\")\n",
    "    return config\n",
    "\n",
    "\n",
    "def get_hires_config():\n",
    "    config = get_lowres_config()\n",
    "    config.dlon = 0.05\n",
    "    config.dlat = 0.05\n",
    "    config.dtime = \"12_h\"\n",
    "    return config\n",
    "\n",
    "\n",
    "def get_superres_config():\n",
    "    config = get_lowres_config()\n",
    "    config.dlon = 0.01\n",
    "    config.dlat = 0.01\n",
    "    config.dtime = \"6_h\"\n",
    "    return config"
   ]
  },
  {
   "cell_type": "code",
   "execution_count": null,
   "metadata": {},
   "outputs": [],
   "source": [
    "from inr4ssh._src.preprocess.coords import Bounds2DT, Coordinates2DT, Grid2DT\n",
    "\n",
    "# create coordinates class from config\n",
    "config = get_lowres_config()\n",
    "bounds = Bounds2DT.init_from_config(config)\n",
    "\n",
    "# create coordinates from bounds\n",
    "coords = bounds.create_coordinates()\n",
    "# create bounds from coordinates\n",
    "bounds_ = coords.create_bounds()\n",
    "np.testing.assert_almost_equal(bounds.lon_min, bounds_.lon_min, decimal=1)\n",
    "np.testing.assert_almost_equal(bounds.lon_max, bounds_.lon_max, decimal=1)\n",
    "np.testing.assert_almost_equal(bounds.dlon, bounds_.dlon, decimal=1)\n",
    "\n",
    "# create grid from coordinates\n",
    "grid = coords.create_grid()\n",
    "\n",
    "# create coordinates from grids\n",
    "coords_ = grid.create_coords()\n",
    "np.testing.assert_array_equal(coords.lon_coords, coords_.lon_coords)\n",
    "np.testing.assert_array_equal(coords.lat_coords, coords_.lat_coords)\n",
    "np.testing.assert_array_equal(coords.time_coords, coords_.time_coords)"
   ]
  },
  {
   "cell_type": "code",
   "execution_count": null,
   "metadata": {},
   "outputs": [],
   "source": [
    "# init config\n",
    "config = get_hires_config()\n",
    "\n",
    "# create target grid\n",
    "grid_target = Bounds2DT.init_from_config(config).create_coordinates().create_grid()"
   ]
  },
  {
   "cell_type": "code",
   "execution_count": null,
   "metadata": {},
   "outputs": [],
   "source": [
    "import pyinterp\n",
    "from einops import rearrange\n",
    "from inr4ssh._src.preprocess.regrid import (\n",
    "    create_pyinterp_grid_2dt,\n",
    "    regrid_2dt_from_grid,\n",
    "    regrid_2dt_from_da,\n",
    ")\n",
    "from inr4ssh._src.interp import interp_2dt"
   ]
  },
  {
   "cell_type": "code",
   "execution_count": null,
   "metadata": {},
   "outputs": [],
   "source": [
    "# regrid\n",
    "ds_field_hires = regrid_2dt_from_grid(\n",
    "    ds_field.ssh,\n",
    "    grid_target,\n",
    "    is_circle=False,\n",
    ")\n",
    "\n",
    "# fill gaps (around edges)\n",
    "ds_field_hires = interp_2dt(ds_field_hires, is_circle=False, method=\"loess\")\n",
    "\n",
    "ds_field.ssh.shape, ds_field_hires.shape"
   ]
  },
  {
   "cell_type": "markdown",
   "metadata": {},
   "source": [
    "### Figure"
   ]
  },
  {
   "cell_type": "code",
   "execution_count": null,
   "metadata": {},
   "outputs": [],
   "source": [
    "vmin = np.min([ds_field.ssh.values])\n",
    "vmax = np.max([ds_field.ssh.values])\n",
    "\n",
    "# with plt.style.context('science'):\n",
    "fig, ax = plt.subplots()\n",
    "\n",
    "ds_field_hires.sel(time=\"2017-02-01\")[0].plot(\n",
    "    ax=ax, cmap=\"viridis\", robust=True, cbar_kwargs={\"label\": \"\"}, vmin=vmin, vmax=vmax\n",
    ")\n",
    "ax.set(xlabel=\"Longitude\", ylabel=\"Latitude\", title=\"\")\n",
    "plt.tight_layout()\n",
    "plt.show()"
   ]
  },
  {
   "cell_type": "markdown",
   "metadata": {},
   "source": [
    "### Movie (GIF)"
   ]
  },
  {
   "cell_type": "code",
   "execution_count": null,
   "metadata": {},
   "outputs": [],
   "source": [
    "vmin = np.min([ds_field.ssh.values])\n",
    "vmax = np.max([ds_field.ssh.values])\n",
    "\n",
    "create_movie(\n",
    "    ds_field_hires.sel(time=slice(\"2017-02-01\", \"2017-03-01\")),\n",
    "    name=\"dc21a_ssh_duacs\",\n",
    "    file_path=fig_path,\n",
    "    framedim=\"time\",\n",
    "    cmap=\"viridis\",\n",
    "    cbar_kwargs={\"label\": \"\"},\n",
    "    robust=True,\n",
    ")"
   ]
  },
  {
   "cell_type": "code",
   "execution_count": null,
   "metadata": {},
   "outputs": [],
   "source": []
  },
  {
   "cell_type": "code",
   "execution_count": null,
   "metadata": {},
   "outputs": [],
   "source": []
  },
  {
   "cell_type": "code",
   "execution_count": null,
   "metadata": {},
   "outputs": [],
   "source": []
  },
  {
   "cell_type": "markdown",
   "metadata": {},
   "source": [
    "## Study Grid"
   ]
  },
  {
   "cell_type": "code",
   "execution_count": null,
   "metadata": {},
   "outputs": [],
   "source": [
    "logger.info(\"Dataset II - BASELINE\")\n",
    "url = \"/Volumes/EMANS_HDD/data/dc21b_ose/test_2/results/OSE_ssh_mapping_BASELINE.nc\"\n",
    "ds_predict = xr.open_dataset(url)\n",
    "\n",
    "ds_predict = post_process(ds_predict, \"ssh\")\n",
    "ds_predict\n",
    "# ds_field[\"ssh_oi\"] = oi_regrid(ds_predict[\"ssh\"], ds_field[\"ssh\"])\n",
    "#\n",
    "# ds_field"
   ]
  },
  {
   "cell_type": "markdown",
   "metadata": {},
   "source": [
    "### Regridding"
   ]
  },
  {
   "cell_type": "code",
   "execution_count": null,
   "metadata": {},
   "outputs": [],
   "source": [
    "# regrid\n",
    "ds_predict_hires = regrid_2dt_from_da(\n",
    "    ds_predict.ssh,\n",
    "    ds_field_hires,\n",
    "    is_circle=False,\n",
    ")\n",
    "\n",
    "# fill gaps (around edges)\n",
    "ds_predict_hires = interp_2dt(ds_predict_hires, is_circle=False, method=\"loess\")\n",
    "\n",
    "ds_predict.ssh.shape, ds_predict_hires.shape"
   ]
  },
  {
   "cell_type": "markdown",
   "metadata": {},
   "source": [
    "### Image (Static)"
   ]
  },
  {
   "cell_type": "code",
   "execution_count": null,
   "metadata": {},
   "outputs": [],
   "source": [
    "vmin = np.min([ds_predict_hires.values.min(), ds_field_hires.values.min()])\n",
    "vmax = np.max([ds_predict_hires.values.max(), ds_field_hires.values.max()])\n",
    "\n",
    "# with plt.style.context('science'):\n",
    "fig, ax = plt.subplots()\n",
    "\n",
    "ds_predict_hires.sel(time=\"2017-02-01\")[0].plot(\n",
    "    ax=ax, cmap=\"viridis\", robust=True, cbar_kwargs={\"label\": \"\"}, vmin=vmin, vmax=vmax\n",
    ")\n",
    "ax.set(xlabel=\"Longitude\", ylabel=\"Latitude\", title=\"\")\n",
    "plt.show()"
   ]
  },
  {
   "cell_type": "markdown",
   "metadata": {},
   "source": [
    "### Movie (GIF)"
   ]
  },
  {
   "cell_type": "code",
   "execution_count": null,
   "metadata": {},
   "outputs": [],
   "source": [
    "vmin = np.min([ds_predict_hires.values.min(), ds_field_hires.values.min()])\n",
    "vmax = np.max([ds_predict_hires.values.max(), ds_field_hires.values.max()])\n",
    "\n",
    "\n",
    "create_movie(\n",
    "    ds_predict_hires.sel(time=slice(\"2017-02-01\", \"2017-03-01\")),\n",
    "    name=\"dc21a_ssh_oi\",\n",
    "    file_path=fig_path,\n",
    "    framedim=\"time\",\n",
    "    cmap=\"viridis\",\n",
    "    cbar_kwargs={\"label\": \"\"},\n",
    "    robust=True,\n",
    ")"
   ]
  },
  {
   "cell_type": "markdown",
   "metadata": {},
   "source": [
    "## AlongTrack Observations"
   ]
  },
  {
   "cell_type": "code",
   "execution_count": null,
   "metadata": {},
   "outputs": [],
   "source": []
  },
  {
   "cell_type": "code",
   "execution_count": null,
   "metadata": {},
   "outputs": [],
   "source": [
    "filename = \"/Volumes/EMANS_HDD/data/dc21b_ose/test_2/ml_ready/train.nc\"\n",
    "ds_alongtrack = xr.open_dataset(filename, engine=\"netcdf4\")\n",
    "ds_alongtrack = correct_coordinate_labels(ds_alongtrack)\n",
    "ds_alongtrack[\"longitude\"] = convert_lon_360_180(ds_alongtrack.longitude)\n",
    "# ds_alongtrack[\"longitude\"] = convert_lon_360_180(ds_alongtrack.longitude)\n",
    "\n",
    "ds_alongtrack[\"ssh\"] = (\n",
    "    ds_alongtrack[\"sla_unfiltered\"] + ds_alongtrack[\"mdt\"] - ds_alongtrack[\"lwe\"]\n",
    ")\n",
    "ds_alongtrack"
   ]
  },
  {
   "cell_type": "code",
   "execution_count": null,
   "metadata": {},
   "outputs": [],
   "source": [
    "ds_alongtrack.longitude.min(), ds_alongtrack.longitude.max()"
   ]
  },
  {
   "cell_type": "markdown",
   "metadata": {},
   "source": [
    "### Binning (with Reference)"
   ]
  },
  {
   "cell_type": "code",
   "execution_count": null,
   "metadata": {},
   "outputs": [],
   "source": [
    "from inr4ssh._src.preprocess.alongtrack import (\n",
    "    alongtrack_bin_from_da,\n",
    "    alongtrack_bin_from_coords,\n",
    ")\n",
    "\n",
    "# with a reference\n",
    "ds_alongtrack_hires = alongtrack_bin_from_da(\n",
    "    ds_alongtrack,\n",
    "    variable=\"ssh\",\n",
    "    ds_ref=ds_field_hires,\n",
    "    time_buffer=np.timedelta64(12, \"h\"),\n",
    ")"
   ]
  },
  {
   "cell_type": "code",
   "execution_count": null,
   "metadata": {},
   "outputs": [],
   "source": [
    "config = get_hires_config()\n",
    "coords = Bounds2DT.init_from_config(config).create_coordinates()\n",
    "ds_alongtrack_hires = alongtrack_bin_from_coords(\n",
    "    ds_alongtrack, variable=\"ssh\", coords=coords, time_buffer=np.timedelta64(12, \"h\")\n",
    ")"
   ]
  },
  {
   "cell_type": "markdown",
   "metadata": {},
   "source": [
    "#### Figure"
   ]
  },
  {
   "cell_type": "code",
   "execution_count": null,
   "metadata": {},
   "outputs": [],
   "source": [
    "# with plt.style.context('science'):\n",
    "fig, ax = plt.subplots()\n",
    "\n",
    "ds_alongtrack_hires.ssh.sel(time=\"2017-02-15\")[0].plot.pcolormesh(\n",
    "    ax=ax, cmap=\"viridis\", robust=True, cbar_kwargs={\"label\": \"\"}\n",
    ")\n",
    "\n",
    "ax.set(xlabel=\"Longitude\", ylabel=\"Latitude\", title=\"\")\n",
    "plt.show()"
   ]
  },
  {
   "cell_type": "code",
   "execution_count": null,
   "metadata": {},
   "outputs": [],
   "source": [
    "import cartopy.crs as ccrs\n",
    "\n",
    "fig = plt.figure()\n",
    "\n",
    "ax = plt.subplot(\n",
    "    # projection=ccrs.Orthographic(-80,35)\n",
    "    projection=ccrs.PlateCarree()\n",
    ")\n",
    "\n",
    "\n",
    "ds_alongtrack_hires.ssh.sel(time=\"2017-02-15\")[0].plot(\n",
    "    ax=ax,\n",
    "    cmap=\"viridis\",\n",
    "    robust=True,\n",
    "    # transform=ccrs.PlateCarree(),\n",
    "    # infer_intervals=True,\n",
    "    cbar_kwargs={\"label\": \"\"},\n",
    ")\n",
    "\n",
    "ds_alongtrack_hires.ssh.sel(time=\"2017-02-15\")[0].plot.scatter(\n",
    "    x=\"latitude\", y=\"longitude\", transform=ccrs.PlateCarree()\n",
    ")\n",
    "ax.coastlines()\n",
    "ax.set_global()\n",
    "ax.gridlines(draw_labels=True)\n",
    "plt.tight_layout()\n",
    "plt.show()"
   ]
  },
  {
   "cell_type": "code",
   "execution_count": null,
   "metadata": {},
   "outputs": [],
   "source": [
    "# with plt.style.context('science'):\n",
    "fig, ax = plt.subplots()\n",
    "\n",
    "ds_alongtrack_hires.ssh.sel(time=\"2017-02-15\")[0].plot.pcolormesh(\n",
    "    ax=ax,\n",
    "    cmap=\"viridis\",\n",
    "    robust=True,\n",
    "    subplot_kws={\"projection\": ccrs.Orthographic(-80, 35)},\n",
    "    cbar_kwargs={\"label\": \"\"},\n",
    ")\n",
    "\n",
    "ax.set(xlabel=\"Longitude\", ylabel=\"Latitude\", title=\"\")\n",
    "plt.show()"
   ]
  },
  {
   "cell_type": "markdown",
   "metadata": {},
   "source": [
    "### Movie (GIF)"
   ]
  },
  {
   "cell_type": "code",
   "execution_count": null,
   "metadata": {},
   "outputs": [],
   "source": [
    "vmin = np.min(\n",
    "    [\n",
    "        ds_predict_hires.values.min(),\n",
    "        ds_field_hires.values.min(),\n",
    "        ds_alongtrack_hires.ssh.values.min(),\n",
    "    ]\n",
    ")\n",
    "vmax = np.max(\n",
    "    [\n",
    "        ds_predict_hires.values.max(),\n",
    "        ds_field_hires.values.max(),\n",
    "        ds_alongtrack_hires.ssh.values.max(),\n",
    "    ]\n",
    ")\n",
    "\n",
    "\n",
    "create_movie(\n",
    "    ds_alongtrack_hires.ssh.sel(time=slice(\"2017-02-01\", \"2017-03-01\")),\n",
    "    name=\"dc21a_ssh_obs\",\n",
    "    file_path=fig_path,\n",
    "    framedim=\"time\",\n",
    "    cmap=\"viridis\",\n",
    "    cbar_kwargs={\"label\": \"\"},\n",
    "    robust=True,\n",
    ")"
   ]
  },
  {
   "cell_type": "code",
   "execution_count": null,
   "metadata": {},
   "outputs": [],
   "source": []
  },
  {
   "cell_type": "markdown",
   "metadata": {},
   "source": [
    "### Binning (Without Reference)"
   ]
  },
  {
   "cell_type": "code",
   "execution_count": null,
   "metadata": {},
   "outputs": [],
   "source": [
    "from ml_collections import config_dict\n",
    "from inr4ssh._src.preprocess.grid import create_spatiotemporal_coords\n",
    "from inr4ssh._src.preprocess.obs import bin_observations_coords, bin_observations_xr\n",
    "\n",
    "# create configuration\n",
    "config = config_dict.ConfigDict()\n",
    "\n",
    "config.lon_min = 285.0  # -75.0\n",
    "config.lon_max = 315.0  # -45.0\n",
    "config.dlon = 0.1\n",
    "config.lat_min = 23.0\n",
    "config.lat_max = 53.0\n",
    "config.dlat = 0.1\n",
    "config.time_min = np.datetime64(\"2017-02-01\")\n",
    "config.time_max = np.datetime64(\"2017-03-01\")\n",
    "config.dt_freq = 1\n",
    "config.dt_unit = \"D\"\n",
    "config.dtime = np.timedelta64(1, \"D\")\n",
    "config.time_buffer = np.timedelta64(12, \"h\")\n",
    "\n",
    "# create spatiotemporal grid\n",
    "lon_coords, lat_coords, time_coords = create_spatiotemporal_coords(\n",
    "    lon_min=config.lon_min,\n",
    "    lon_max=config.lon_max,\n",
    "    lon_dx=config.dlon,\n",
    "    lat_min=config.lat_min,\n",
    "    lat_max=config.lat_max,\n",
    "    lat_dy=config.dlat,\n",
    "    time_min=config.time_min,\n",
    "    time_max=config.time_max,\n",
    "    time_dt=config.dtime,\n",
    ")\n",
    "\n",
    "# binning with coordinates\n",
    "ds_alongtrack_hires = bin_observations_coords(\n",
    "    ds_alongtrack,\n",
    "    variable=\"ssh\",\n",
    "    lon_coords=lon_coords,\n",
    "    lat_coords=lat_coords,\n",
    "    time_coords=time_coords,\n",
    "    time_buffer=config.time_buffer,\n",
    ")"
   ]
  },
  {
   "cell_type": "code",
   "execution_count": null,
   "metadata": {},
   "outputs": [],
   "source": [
    "ds_alongtrack_hires"
   ]
  },
  {
   "cell_type": "code",
   "execution_count": null,
   "metadata": {},
   "outputs": [],
   "source": [
    "# ds_field[\"obs\"]\\\n",
    "_ = bin_observations_xr(\n",
    "    ds_obs=ds_alongtrack,\n",
    "    ds_ref=ds_field,\n",
    "    variable=\"ssh\",\n",
    "    time_buffer=np.timedelta64(12, \"h\"),\n",
    ")[\"ssh\"]"
   ]
  },
  {
   "cell_type": "markdown",
   "metadata": {},
   "source": [
    "### Figure"
   ]
  },
  {
   "cell_type": "code",
   "execution_count": null,
   "metadata": {},
   "outputs": [],
   "source": [
    "# with plt.style.context('science'):\n",
    "fig, ax = plt.subplots()\n",
    "\n",
    "ds_field.obs.sel(time=\"2017-02-01\").plot(\n",
    "    ax=ax, cmap=\"viridis\", robust=True, cbar_kwargs={\"label\": \"\"}\n",
    ")\n",
    "ax.set(xlabel=\"Longitude\", ylabel=\"Latitude\", title=\"\")\n",
    "plt.show()"
   ]
  },
  {
   "cell_type": "markdown",
   "metadata": {},
   "source": [
    "### Video"
   ]
  },
  {
   "cell_type": "code",
   "execution_count": null,
   "metadata": {},
   "outputs": [],
   "source": []
  },
  {
   "cell_type": "code",
   "execution_count": null,
   "metadata": {},
   "outputs": [],
   "source": [
    "def count_num_obs(ds, central_date, delta_t):\n",
    "    tmin = central_date - delta_t\n",
    "    tmax = central_date + delta_t\n",
    "\n",
    "    ds = ds.sel(time=slice(tmin, tmax))\n",
    "\n",
    "    ds = ds.drop_duplicates(dim=\"time\")\n",
    "    return len(ds.values.flatten())"
   ]
  },
  {
   "cell_type": "code",
   "execution_count": null,
   "metadata": {},
   "outputs": [],
   "source": [
    "central_date = np.datetime64(\"2012-10-22\")\n",
    "num_days = 1_0000\n",
    "delta_t = np.timedelta64(num_days, \"D\")\n",
    "\n",
    "count_num_obs(ds_field.ssh, central_date, delta_t)"
   ]
  },
  {
   "cell_type": "code",
   "execution_count": null,
   "metadata": {},
   "outputs": [],
   "source": [
    "ds_field.isel(time=0).ssh.plot.imshow()"
   ]
  },
  {
   "cell_type": "markdown",
   "metadata": {},
   "source": [
    "### Density"
   ]
  },
  {
   "cell_type": "code",
   "execution_count": null,
   "metadata": {},
   "outputs": [],
   "source": [
    "# fig, ax = plt.subplots()\n",
    "# sns.kdeplot(\n",
    "#     # data=ds_field.ssh.values.flatten(),\n",
    "#     # data=np.log(ds_field.ssh_grad.values.flatten()),\n",
    "#     data=np.log(ds_field.ssh_lap.values.flatten()),\n",
    "#     cumulative=True, common_norm=False, common_grid=True,\n",
    "#     ax=ax\n",
    "# )\n",
    "# # ax.set_xlabel(\"SSH [m]\")\n",
    "# # ax.set_xlabel(r\"Log Kinetic Energy [m$^2$s$^{-2}$]\")\n",
    "# ax.set_xlabel(r\"Log Enstropy [s$^{-1}$]\")\n",
    "# ax.set_ylabel(\"Cumulative Density\")\n",
    "# plt.show()"
   ]
  },
  {
   "cell_type": "code",
   "execution_count": null,
   "metadata": {},
   "outputs": [],
   "source": [
    "# fig, ax = plt.subplots()\n",
    "# sns.kdeplot(\n",
    "#     # data=ds_field.ssh.values.flatten(),\n",
    "#     # data=np.log(ds_field.ssh_grad.values.flatten()),\n",
    "#     data=np.log(ds_field.ssh_lap.values.flatten()),\n",
    "#     cumulative=False, common_norm=False, common_grid=True,\n",
    "#     ax=ax\n",
    "# )\n",
    "# # ax.set_xlabel(\"SSH [m]\")\n",
    "# # ax.set_xlabel(r\"Log Kinetic Energy [m$^2$s$^{-2}$]\")\n",
    "# ax.set_xlabel(r\"Log Enstropy [s$^{-1}$]\")\n",
    "# ax.set_ylabel(\"Density\")\n",
    "# plt.show()"
   ]
  },
  {
   "cell_type": "markdown",
   "metadata": {},
   "source": [
    "#### Movie (GIF)"
   ]
  },
  {
   "cell_type": "code",
   "execution_count": null,
   "metadata": {},
   "outputs": [],
   "source": []
  },
  {
   "cell_type": "code",
   "execution_count": null,
   "metadata": {},
   "outputs": [],
   "source": [
    "# create_movie(ds_field.ssh, \"ssh_field\", framedim=\"time\", cmap=\"viridis\")"
   ]
  },
  {
   "cell_type": "markdown",
   "metadata": {},
   "source": [
    "#### Gradients/Laplacian"
   ]
  },
  {
   "cell_type": "code",
   "execution_count": null,
   "metadata": {},
   "outputs": [],
   "source": [
    "from inr4ssh._src.operators.finite_diff import calculate_gradient, calculate_laplacian\n",
    "\n",
    "ds_field[\"ssh_grad\"] = calculate_gradient(ds_field[\"ssh\"], \"longitude\", \"latitude\")\n",
    "ds_field[\"ssh_lap\"] = calculate_gradient(ds_field[\"ssh_grad\"], \"longitude\", \"latitude\")\n",
    "\n",
    "\n",
    "# create_movie(ds_field.ssh_grad, \"ssh_field_grad\", framedim=\"time\", cmap=\"Spectral_r\")\n",
    "create_movie(np.log(ds_field.ssh_lap), \"ssh_field_lap\", framedim=\"time\", cmap=\"RdBu_r\")"
   ]
  },
  {
   "cell_type": "code",
   "execution_count": null,
   "metadata": {},
   "outputs": [],
   "source": []
  },
  {
   "cell_type": "markdown",
   "metadata": {},
   "source": [
    "### PSD"
   ]
  },
  {
   "cell_type": "code",
   "execution_count": null,
   "metadata": {},
   "outputs": [],
   "source": [
    "ds_field_psd = correct_coordinate_labels(ds_field)\n",
    "\n",
    "# grab ssh\n",
    "ds_field_psd = ds_field_psd.ssh\n",
    "\n",
    "# correct units, degrees -> meters\n",
    "ds_field_psd[\"longitude\"] = ds_field_psd.longitude * 111e3\n",
    "ds_field_psd[\"latitude\"] = ds_field_psd.latitude * 111e3\n",
    "\n",
    "# calculate\n",
    "ds_field_psd = psd_isotropic(ds_field_psd)"
   ]
  },
  {
   "cell_type": "code",
   "execution_count": null,
   "metadata": {},
   "outputs": [],
   "source": [
    "fig, ax = plot_psd_isotropic(ds_field_psd.freq_r.values * 1e3, ds_field_psd.values)\n",
    "plt.tight_layout()\n",
    "plt.show()"
   ]
  },
  {
   "cell_type": "markdown",
   "metadata": {},
   "source": [
    "### PSD - Spatial-Temporal"
   ]
  },
  {
   "cell_type": "code",
   "execution_count": null,
   "metadata": {},
   "outputs": [],
   "source": [
    "ds_field_psd = correct_coordinate_labels(ds_field)\n",
    "\n",
    "# grab ssh\n",
    "ds_field_psd = ds_field_psd.ssh_grad\n",
    "\n",
    "# grab ssh\n",
    "ds_field_psd = ds_field_psd.compute()\n",
    "\n",
    "# correct units, degrees -> meters\n",
    "ds_field_psd[\"longitude\"] = ds_field_psd.longitude * 111e3\n",
    "ds_field_psd[\"latitude\"] = ds_field_psd.latitude * 111e3\n",
    "\n",
    "time_norm = np.timedelta64(1, \"D\")\n",
    "# mean psd of signal\n",
    "ds_field_psd[\"time\"] = (ds_field_psd.time - ds_field_psd.time[0]) / time_norm\n",
    "\n",
    "# calculate\n",
    "ds_field_psd = psd_spacetime_dask(ds_field_psd)"
   ]
  },
  {
   "cell_type": "code",
   "execution_count": null,
   "metadata": {},
   "outputs": [],
   "source": [
    "fig, ax, cbar = plot_psd_spacetime_wavelength(\n",
    "    ds_field_psd.freq_longitude * 1e3,\n",
    "    ds_field_psd.freq_time,\n",
    "    ds_field_psd,\n",
    ")\n",
    "\n",
    "plt.tight_layout()\n",
    "plt.show()"
   ]
  },
  {
   "cell_type": "code",
   "execution_count": null,
   "metadata": {},
   "outputs": [],
   "source": [
    "# fig, ax, cbar = plot_psd_spacetime_wavenumber(\n",
    "#     ds_field_psd.freq_longitude * 1e3,\n",
    "#     ds_field_psd.freq_time,\n",
    "#     ds_field_psd,\n",
    "# )\n",
    "\n",
    "# plt.tight_layout()\n",
    "# plt.show()"
   ]
  },
  {
   "cell_type": "markdown",
   "metadata": {},
   "source": [
    "## Observations"
   ]
  },
  {
   "cell_type": "code",
   "execution_count": null,
   "metadata": {},
   "outputs": [],
   "source": [
    "# # grab ssh\n",
    "# ds_field_psd = ds_field.ssh_grad\n",
    "\n",
    "# # correct units, degrees -> meters\n",
    "# ds_field_psd[\"longitude\"] = ds_field_psd.longitude * 111e3\n",
    "# ds_field_psd[\"latitude\"] = ds_field_psd.latitude * 111e3\n",
    "\n",
    "# # calculate\n",
    "# ds_field_psd = psd_isotropic(ds_field_psd)\n",
    "\n",
    "# fig, ax = plot_isotropic_psd(ds_field_psd, freq_scale=1e3)\n",
    "# ax.set_ylabel(r\"PSD [m$^2$s$^{-2}$/cyles/m\")\n",
    "# plt.tight_layout()\n",
    "# plt.show()"
   ]
  },
  {
   "cell_type": "markdown",
   "metadata": {},
   "source": [
    "### Missing Time"
   ]
  },
  {
   "cell_type": "code",
   "execution_count": null,
   "metadata": {},
   "outputs": [],
   "source": [
    "ds_obs = xr.open_dataset(\n",
    "    \"/Users/eman/code_projects/data/osse_2022b/dc_qg_obs_fullfields/ssh_obs_fullfields.nc\"\n",
    ")\n",
    "\n",
    "\n",
    "ds_obs = correct_coordinate_labels(ds_obs)\n",
    "\n",
    "ds_obs = ds_obs.rename({\"ssh\": \"ssh_obs\"})\n",
    "\n",
    "ds_obs"
   ]
  },
  {
   "cell_type": "code",
   "execution_count": null,
   "metadata": {},
   "outputs": [],
   "source": [
    "central_date = np.datetime64(\"2012-10-22\")\n",
    "num_days = 100\n",
    "delta_t = np.timedelta64(num_days, \"D\")\n",
    "\n",
    "count_num_obs(ds_obs.ssh_obs, central_date, delta_t)"
   ]
  },
  {
   "cell_type": "code",
   "execution_count": null,
   "metadata": {},
   "outputs": [],
   "source": [
    "ds_obs = xr.merge([ds_field, ds_obs])"
   ]
  },
  {
   "cell_type": "markdown",
   "metadata": {},
   "source": [
    "#### Movie (GIF)"
   ]
  },
  {
   "cell_type": "code",
   "execution_count": null,
   "metadata": {},
   "outputs": [],
   "source": [
    "# create_movie(ds_obs.ssh_obs, \"ssh_missing_time\", framedim=\"time\", cmap=\"viridis\")"
   ]
  },
  {
   "cell_type": "code",
   "execution_count": null,
   "metadata": {},
   "outputs": [],
   "source": [
    "# !ls /Users/eman/code_projects/data/osse_2022b/dc_qg_obs_nadirlike/"
   ]
  },
  {
   "cell_type": "markdown",
   "metadata": {},
   "source": [
    "### Jason-Like"
   ]
  },
  {
   "cell_type": "code",
   "execution_count": null,
   "metadata": {},
   "outputs": [],
   "source": [
    "ds_obs = xr.open_dataset(\n",
    "    \"/Users/eman/code_projects/data/osse_2022b/dc_qg_obs_jasonlike/ssh_obs_jasonlike.nc\"\n",
    ")\n",
    "\n",
    "ds_obs = ds_obs.sortby(\"time\")\n",
    "\n",
    "ds_obs = correct_coordinate_labels(ds_obs)\n",
    "\n",
    "# ds_obs = ds_obs.rename({\"ssh\": \"ssh_obs\"})\n",
    "ds_obs"
   ]
  },
  {
   "cell_type": "code",
   "execution_count": null,
   "metadata": {},
   "outputs": [],
   "source": [
    "central_date = np.datetime64(\"2012-10-22\")\n",
    "num_days = 100\n",
    "delta_t = np.timedelta64(num_days, \"D\")\n",
    "\n",
    "count_num_obs(ds_obs.ssh_obs, central_date, delta_t)"
   ]
  },
  {
   "cell_type": "code",
   "execution_count": null,
   "metadata": {},
   "outputs": [],
   "source": [
    "central_date = np.datetime64(\"2012-10-22\")\n",
    "num_days = 1\n",
    "delta_t = np.timedelta64(num_days, \"D\")\n",
    "variable = \"ssh_obs\"\n",
    "\n",
    "plot_obs_demo(ds_obs, central_date, delta_t, variable, verbose=True)"
   ]
  },
  {
   "cell_type": "markdown",
   "metadata": {},
   "source": [
    "#### Gridded Dataset"
   ]
  },
  {
   "cell_type": "code",
   "execution_count": null,
   "metadata": {},
   "outputs": [],
   "source": []
  },
  {
   "cell_type": "code",
   "execution_count": null,
   "metadata": {},
   "outputs": [],
   "source": [
    "ds_obs_binned = bin_observations(ds_obs, ds_field, \"ssh_obs\", np.timedelta64(12, \"h\"))"
   ]
  },
  {
   "cell_type": "code",
   "execution_count": null,
   "metadata": {},
   "outputs": [],
   "source": [
    "ds_obs_binned.isel(time=10).ssh_obs.plot()"
   ]
  },
  {
   "cell_type": "markdown",
   "metadata": {},
   "source": [
    "#### Movie (GIF)"
   ]
  },
  {
   "cell_type": "code",
   "execution_count": null,
   "metadata": {},
   "outputs": [],
   "source": [
    "# create_movie(ds_obs_binned.ssh_obs, \"ssh_jasonlike\", framedim=\"time\", cmap=\"viridis\")"
   ]
  },
  {
   "cell_type": "code",
   "execution_count": null,
   "metadata": {},
   "outputs": [],
   "source": []
  },
  {
   "cell_type": "markdown",
   "metadata": {},
   "source": [
    "### NADIR-Like"
   ]
  },
  {
   "cell_type": "code",
   "execution_count": null,
   "metadata": {},
   "outputs": [],
   "source": [
    "ds_obs = xr.open_mfdataset(\n",
    "    \"/Users/eman/code_projects/data/osse_2022b/dc_qg_obs_nadirlike/ssh_obs*.nc\",\n",
    "    combine=\"nested\",\n",
    "    concat_dim=\"time\",\n",
    "    parallel=True,\n",
    "    preprocess=None,\n",
    "    engine=\"netcdf4\",\n",
    ")\n",
    "\n",
    "\n",
    "ds_obs = ds_obs.sortby(\"time\")\n",
    "\n",
    "ds_obs = correct_coordinate_labels(ds_obs)\n",
    "\n",
    "# ds_obs = ds_obs.rename({\"ssh\": \"ssh_obs\"})\n",
    "ds_obs"
   ]
  },
  {
   "cell_type": "code",
   "execution_count": null,
   "metadata": {},
   "outputs": [],
   "source": [
    "central_date = np.datetime64(\"2012-10-22\")\n",
    "num_days = 1\n",
    "\n",
    "delta_t = np.timedelta64(num_days, \"D\")\n",
    "\n",
    "count_num_obs(ds_obs.ssh_obs, central_date, delta_t)"
   ]
  },
  {
   "cell_type": "markdown",
   "metadata": {},
   "source": [
    "#### Demo"
   ]
  },
  {
   "cell_type": "code",
   "execution_count": null,
   "metadata": {},
   "outputs": [],
   "source": [
    "central_date = np.datetime64(\"2012-10-22\")\n",
    "num_days = 10\n",
    "delta_t = np.timedelta64(num_days, \"D\")\n",
    "variable = \"ssh_obs\"\n",
    "\n",
    "plot_obs_demo(ds_obs, central_date, delta_t, variable, verbose=True)"
   ]
  },
  {
   "cell_type": "markdown",
   "metadata": {},
   "source": [
    "#### Gridded Dataset"
   ]
  },
  {
   "cell_type": "code",
   "execution_count": null,
   "metadata": {},
   "outputs": [],
   "source": [
    "ds_obs_binned = bin_observations(ds_obs, ds_field, \"ssh_obs\", np.timedelta64(12, \"h\"))"
   ]
  },
  {
   "cell_type": "code",
   "execution_count": null,
   "metadata": {},
   "outputs": [],
   "source": [
    "ds_obs_binned.isel(time=10).ssh_obs.plot()"
   ]
  },
  {
   "cell_type": "markdown",
   "metadata": {},
   "source": [
    "#### Movie (GIF)"
   ]
  },
  {
   "cell_type": "code",
   "execution_count": null,
   "metadata": {},
   "outputs": [],
   "source": [
    "# create_movie(ds_obs_binned.ssh_obs, \"ssh_nadirlike\", framedim=\"time\", cmap=\"viridis\")"
   ]
  }
 ],
 "metadata": {
  "kernelspec": {
   "display_name": "Python 3.9.13 ('torch_py39')",
   "language": "python",
   "name": "python3"
  },
  "language_info": {
   "codemirror_mode": {
    "name": "ipython",
    "version": 3
   },
   "file_extension": ".py",
   "mimetype": "text/x-python",
   "name": "python",
   "nbconvert_exporter": "python",
   "pygments_lexer": "ipython3",
   "version": "3.9.13"
  },
  "vscode": {
   "interpreter": {
    "hash": "ba845ae818c285ca2fe9389acfa2d2da9f6f964e42b65478d402ad448a072775"
   }
  }
 },
 "nbformat": 4,
 "nbformat_minor": 2
}
