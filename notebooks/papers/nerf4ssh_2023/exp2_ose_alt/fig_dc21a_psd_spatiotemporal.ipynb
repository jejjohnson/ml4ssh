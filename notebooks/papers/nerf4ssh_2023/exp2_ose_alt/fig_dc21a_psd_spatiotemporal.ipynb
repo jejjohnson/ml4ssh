{
 "cells": [
  {
   "cell_type": "markdown",
   "metadata": {},
   "source": [
    "# Figure - SpatioTemporal PSD"
   ]
  },
  {
   "cell_type": "code",
   "execution_count": null,
   "metadata": {},
   "outputs": [],
   "source": [
    "import sys, os\n",
    "from pyprojroot import here\n",
    "\n",
    "# spyder up to find the root\n",
    "root = here(project_files=[\".root\"])\n",
    "\n",
    "\n",
    "# append to path\n",
    "sys.path.append(str(root))"
   ]
  },
  {
   "cell_type": "code",
   "execution_count": null,
   "metadata": {},
   "outputs": [],
   "source": [
    "import numpy as np\n",
    "import pandas as pd\n",
    "import xarray as xr\n",
    "import matplotlib.pyplot as plt\n",
    "import seaborn as sns\n",
    "\n",
    "sns.reset_defaults()\n",
    "sns.set_context(context=\"talk\", font_scale=0.7)\n",
    "\n",
    "import hvplot.xarray\n",
    "import hvplot.pandas\n",
    "\n",
    "from inr4ssh._src.operators.finite_diff import calculate_gradient, calculate_laplacian\n",
    "from inr4ssh._src.preprocess.subset import temporal_subset, spatial_subset\n",
    "from inr4ssh._src.preprocess.coords import (\n",
    "    correct_coordinate_labels,\n",
    "    correct_longitude_domain,\n",
    ")\n",
    "from inr4ssh._src.data.ssh_obs import load_ssh_altimetry_data_train\n",
    "\n",
    "from inr4ssh._src.preprocess.coords import correct_coordinate_labels\n",
    "\n",
    "# from inr4ssh._src.preprocess.obs import bin_observations\n",
    "from inr4ssh._src.viz.movie import create_movie\n",
    "from inr4ssh._src.metrics.psd import psd_isotropic\n",
    "from inr4ssh._src.viz.psd.isotropic import plot_psd_isotropic\n",
    "from inr4ssh._src.viz.obs import plot_obs_demo\n",
    "from inr4ssh._src.metrics.psd import psd_spacetime, psd_spacetime_dask\n",
    "from inr4ssh._src.viz.psd.spacetime import (\n",
    "    plot_psd_spacetime_wavelength,\n",
    "    plot_psd_spacetime_wavenumber,\n",
    ")\n",
    "from inr4ssh._src.viz.psd.spacetime import (\n",
    "    plot_psd_spacetime_score_wavelength,\n",
    "    plot_psd_spacetime_score_wavenumber,\n",
    ")\n",
    "\n",
    "from loguru import logger\n",
    "\n",
    "%matplotlib inline\n",
    "%load_ext autoreload\n",
    "%autoreload 2"
   ]
  },
  {
   "cell_type": "markdown",
   "metadata": {},
   "source": [
    "## Data"
   ]
  },
  {
   "cell_type": "markdown",
   "metadata": {},
   "source": [
    "### Evaluation Field"
   ]
  },
  {
   "cell_type": "code",
   "execution_count": null,
   "metadata": {},
   "outputs": [],
   "source": [
    "from inr4ssh._src.preprocess.spatial import convert_lon_360_180, convert_lon_180_360\n",
    "\n",
    "\n",
    "def post_process(ds, variable):\n",
    "    # correct coordinate labels\n",
    "    logger.info(\"Fixing coordinate labels...\")\n",
    "    ds = correct_coordinate_labels(ds)\n",
    "\n",
    "    # correct labels\n",
    "    logger.info(\"Fixing labels\")\n",
    "    ds = ds.rename({variable: \"ssh\"})\n",
    "\n",
    "    # correct longitude domain\n",
    "    logger.info(\"Fixing longitude domain\")\n",
    "    from inr4ssh._src.preprocess.spatial import convert_lon_360_180\n",
    "\n",
    "    ds[\"longitude\"] = convert_lon_360_180(ds.longitude)\n",
    "\n",
    "    # subset temporal space\n",
    "    ds = ds.sel(\n",
    "        time=slice(np.datetime64(\"2017-01-01\"), np.datetime64(\"2017-12-31\")),\n",
    "        # longitude=slice(-75.0, -45.0),\n",
    "        longitude=slice(convert_lon_360_180(295), convert_lon_360_180(305)),\n",
    "        latitude=slice(33.0, 43.0),\n",
    "    )\n",
    "\n",
    "    ds[\"longitude\"] = convert_lon_180_360(ds.longitude)\n",
    "\n",
    "    # subset temporal space\n",
    "    # ds = ds.sel(time=slice(np.datetime64(\"2017-01-01\"), np.datetime64(\"2017-12-31\")))\n",
    "    # ds = ds.sel(time=slice(np.datetime64(\"2017-02-01\"), np.datetime64(\"2017-03-01\")))\n",
    "    # ds = ds.sel(\n",
    "    #     longitude=slice(-75.0, -45.0),\n",
    "    #     latitude=slice(33.0, 53.0),\n",
    "    # )\n",
    "\n",
    "    # # subset spatial space\n",
    "    # ds = ds.where(\n",
    "    #     (ds[\"longitude\"] >= -75.0)\n",
    "    #     & (ds[\"longitude\"] <= -45.0)\n",
    "    #     & (ds[\"latitude\"] >= 33.0)\n",
    "    #     & (ds[\"latitude\"] <= 53.0),\n",
    "    #     drop=True,\n",
    "    # )\n",
    "\n",
    "    # # subset spatial space (evaluation)\n",
    "    # ds = ds.where(\n",
    "    #     (ds[\"longitude\"] >= -65.0)\n",
    "    #     & (ds[\"longitude\"] <= -55.0)\n",
    "    #     & (ds[\"latitude\"] >= 33.0)\n",
    "    #     & (ds[\"latitude\"] <= 43.0),\n",
    "    #     drop=True,\n",
    "    # )\n",
    "\n",
    "    ds = ds.transpose(\"time\", \"latitude\", \"longitude\")\n",
    "\n",
    "    # regrid data\n",
    "    return ds"
   ]
  },
  {
   "cell_type": "code",
   "execution_count": null,
   "metadata": {},
   "outputs": [],
   "source": [
    "logger.info(\"Dataset I - DUACS\")\n",
    "url = \"/Volumes/EMANS_HDD/data/dc21b_ose/test_2/results/OSE_ssh_mapping_DUACS.nc\"\n",
    "ds_field = xr.open_dataset(url)\n",
    "\n",
    "ds_field = post_process(ds_field, \"ssh\")\n",
    "\n",
    "ds_field"
   ]
  },
  {
   "cell_type": "markdown",
   "metadata": {},
   "source": [
    "### Example Results"
   ]
  },
  {
   "cell_type": "markdown",
   "metadata": {},
   "source": [
    "```bash\n",
    "!wget https://ige-meom-opendap.univ-grenoble-alpes.fr/thredds/fileServer/meomopendap/extract/ocean-data-challenges/dc_data1/dc_mapping/2020a_SSH_mapping_NATL60_MIOST_en_j1_tpn_g2.nc\n",
    "!wget https://ige-meom-opendap.univ-grenoble-alpes.fr/thredds/fileServer/meomopendap/extract/ocean-data-challenges/dc_data1/dc_mapping/2020a_SSH_mapping_NATL60_MIOST_swot_en_j1_tpn_g2.nc\n",
    "!wget https://ige-meom-opendap.univ-grenoble-alpes.fr/thredds/fileServer/meomopendap/extract/ocean-data-challenges/dc_data1/dc_mapping/2020a_SSH_mapping_NATL60_DUACS_en_j1_tpn_g2.nc\n",
    "!wget https://ige-meom-opendap.univ-grenoble-alpes.fr/thredds/fileServer/meomopendap/extract/ocean-data-challenges/dc_data1/dc_mapping/2020a_SSH_mapping_NATL60_DUACS_swot_en_j1_tpn_g2.nc\n",
    "!wget https://ige-meom-opendap.univ-grenoble-alpes.fr/thredds/fileServer/meomopendap/extract/ocean-data-challenges/dc_data1/dc_mapping/2020a_SSH_mapping_NATL60_4DVarNet_v2022_nadirswot_GF_GF.nc\n",
    "!wget https://ige-meom-opendap.univ-grenoble-alpes.fr/thredds/fileServer/meomopendap/extract/ocean-data-challenges/dc_data1/dc_mapping/2020a_SSH_mapping_NATL60_4DVarNet_v2022_nadir_GF_GF.nc\n",
    "!wget https://ige-meom-opendap.univ-grenoble-alpes.fr/thredds/fileServer/meomopendap/extract/ocean-data-challenges/dc_data1/dc_mapping/2020a_SSH_mapping_NATL60_BFN_Steady_State_QG1L_en_j1_tpn_g2.nc\n",
    "!wget https://ige-meom-opendap.univ-grenoble-alpes.fr/thredds/fileServer/meomopendap/extract/ocean-data-challenges/dc_data1/dc_mapping/2020a_SSH_mapping_NATL60_BFN_Steady_State_QG1L_swot_en_j1_tpn_g2.nc\n",
    "```"
   ]
  },
  {
   "cell_type": "code",
   "execution_count": null,
   "metadata": {},
   "outputs": [],
   "source": [
    "!ls /Volumes/EMANS_HDD/data/dc21b_ose/test_2/results/"
   ]
  },
  {
   "cell_type": "markdown",
   "metadata": {},
   "source": [
    "## PostProcessing"
   ]
  },
  {
   "cell_type": "markdown",
   "metadata": {},
   "source": [
    "### Cleaning\n",
    "\n",
    "* Evaluation Period\n",
    "* Lat/Lon Labels\n",
    "* Longitude Range\n",
    "* Regridding"
   ]
  },
  {
   "cell_type": "code",
   "execution_count": null,
   "metadata": {},
   "outputs": [],
   "source": [
    "from inr4ssh._src.preprocess.regrid import oi_regrid\n",
    "\n",
    "logger.info(\"Dataset II - BASELINE\")\n",
    "url = \"/Volumes/EMANS_HDD/data/dc21b_ose/test_2/results/OSE_ssh_mapping_BASELINE.nc\"\n",
    "ds_predict = xr.open_dataset(url)\n",
    "\n",
    "ds_predict = post_process(ds_predict, \"ssh\")\n",
    "\n",
    "ds_field[\"ssh_oi\"] = oi_regrid(ds_predict[\"ssh\"], ds_field[\"ssh\"])\n",
    "\n",
    "logger.info(\"Dataset III - MIOST\")\n",
    "url = \"/Volumes/EMANS_HDD/data/dc21b_ose/test_2/results/OSE_ssh_mapping_MIOST.nc\"\n",
    "ds_predict = xr.open_dataset(url)\n",
    "\n",
    "ds_predict = post_process(ds_predict, \"ssh\")\n",
    "\n",
    "ds_field[\"ssh_miost\"] = oi_regrid(ds_predict[\"ssh\"], ds_field[\"ssh\"])\n",
    "\n",
    "logger.info(\"Dataset IV - NerF\")\n",
    "# url = \"/Users/eman/code_projects/logs/saved_data/test_dc21b_feb_pretrain.nc\"\n",
    "url = \"/Volumes/EMANS_HDD/data/dc21b/results/siren_136.nc\"\n",
    "# url = \"/Volumes/EMANS_HDD/data/dc21b_ose/test_2/results/OSE_ssh_mapping_4dvarNet_2022.nc\"\n",
    "ds_predict = xr.open_dataset(url)\n",
    "\n",
    "ds_predict = post_process(ds_predict, \"ssh\")\n",
    "\n",
    "ds_field[\"ssh_nerf\"] = oi_regrid(ds_predict[\"ssh\"], ds_field[\"ssh\"])\n",
    "\n",
    "ds_field"
   ]
  },
  {
   "cell_type": "code",
   "execution_count": null,
   "metadata": {},
   "outputs": [],
   "source": [
    "from tqdm.notebook import tqdm\n",
    "from inr4ssh._src.operators.ssh import (\n",
    "    ssh2uv_ds_2dt,\n",
    "    ssh2uv_da_2dt,\n",
    "    kinetic_energy,\n",
    "    enstropy,\n",
    "    ssh2rv_ds_2dt,\n",
    "    ssh2rv_da_2dt,\n",
    ")\n",
    "\n",
    "variables = [\"ssh\", \"ssh_oi\", \"ssh_miost\", \"ssh_nerf\"]\n",
    "\n",
    "logger.info(\"Calculating Kinetic Energy...\")\n",
    "for ivar in tqdm(variables):\n",
    "    # calculate UV components\n",
    "    u, v = ssh2uv_da_2dt(ds_field[ivar])\n",
    "    ke = kinetic_energy(u, v)\n",
    "\n",
    "    ds_field[f\"{ivar}_ke\"] = ((\"time\", \"latitude\", \"longitude\"), ke)\n",
    "\n",
    "logger.info(\"Calculating Enstropy...\")\n",
    "for ivar in tqdm(variables):\n",
    "    # calculate UV components\n",
    "    rv = ssh2rv_da_2dt(ds_field[ivar])\n",
    "\n",
    "    ds_field[f\"{ivar}_ens\"] = ((\"time\", \"latitude\", \"longitude\"), rv)"
   ]
  },
  {
   "cell_type": "code",
   "execution_count": null,
   "metadata": {},
   "outputs": [],
   "source": [
    "ds_field"
   ]
  },
  {
   "cell_type": "markdown",
   "metadata": {},
   "source": [
    "## Metrics II - Space-Time PSD"
   ]
  },
  {
   "cell_type": "markdown",
   "metadata": {},
   "source": [
    "#### Absolute Values"
   ]
  },
  {
   "cell_type": "code",
   "execution_count": null,
   "metadata": {},
   "outputs": [],
   "source": [
    "from inr4ssh._src.metrics.psd import (\n",
    "    psd_isotropic_score,\n",
    "    psd_spacetime_score,\n",
    "    wavelength_resolved_spacetime,\n",
    "    wavelength_resolved_isotropic,\n",
    ")"
   ]
  },
  {
   "cell_type": "code",
   "execution_count": null,
   "metadata": {},
   "outputs": [],
   "source": [
    "time_norm = np.timedelta64(1, \"D\")\n",
    "# mean psd of signal\n",
    "ds_field[\"time\"] = (ds_field.time - ds_field.time[0]) / time_norm"
   ]
  },
  {
   "cell_type": "markdown",
   "metadata": {},
   "source": [
    "#### Kilometers"
   ]
  },
  {
   "cell_type": "code",
   "execution_count": null,
   "metadata": {},
   "outputs": [],
   "source": [
    "ds_field[\"longitude\"] = ds_field.longitude * 111e3\n",
    "ds_field[\"latitude\"] = ds_field.latitude * 111e3\n",
    "\n",
    "# Time-Longitude (Lat avg) PSD Score\n",
    "ds_field = ds_field.chunk(\n",
    "    {\n",
    "        \"time\": 1,\n",
    "        \"longitude\": ds_field[\"longitude\"].size,\n",
    "        \"latitude\": ds_field[\"latitude\"].size,\n",
    "    }\n",
    ").compute()"
   ]
  },
  {
   "cell_type": "code",
   "execution_count": null,
   "metadata": {},
   "outputs": [],
   "source": [
    "ds_predict_psd_ssh_duacs = psd_spacetime(ds_field[\"ssh\"])\n",
    "ds_predict_psd_ssh_oi = psd_spacetime(ds_field[\"ssh_oi\"])\n",
    "ds_predict_psd_ssh_miost = psd_spacetime(ds_field[\"ssh_miost\"])\n",
    "ds_predict_psd_ssh_nerf = psd_spacetime(ds_field[\"ssh_nerf\"])"
   ]
  },
  {
   "cell_type": "code",
   "execution_count": null,
   "metadata": {},
   "outputs": [],
   "source": [
    "from pathlib import Path\n",
    "\n",
    "data = [\n",
    "    ds_predict_psd_ssh_oi,\n",
    "    ds_predict_psd_ssh_duacs,\n",
    "    ds_predict_psd_ssh_miost,\n",
    "    ds_predict_psd_ssh_nerf,\n",
    "]\n",
    "names = [\"oi\", \"duacs\", \"miost\", \"nerf\"]\n",
    "\n",
    "for idata, iname in zip(data, names):\n",
    "    fig, ax, cbar = plot_psd_spacetime_wavelength(\n",
    "        idata.freq_longitude * 1e3,\n",
    "        idata.freq_time,\n",
    "        idata,\n",
    "    )\n",
    "    # ax.set_xlim((1000, 10))\n",
    "    ax.set_xlabel(\"Wavelength [km]\")\n",
    "    # cbar.ax.set_ylabel(r\"PSD [m$^2$s$^{-2}$/cyles/m\")\n",
    "    # cbar.ax.set_ylabel(r\"PSD [s$^{-1}$/cyles/m\")\n",
    "\n",
    "    plt.tight_layout()\n",
    "    fig.savefig(Path(root).joinpath(f\"figures/dc21a_psd_{iname.lower()}.png\"))\n",
    "    plt.show()"
   ]
  },
  {
   "cell_type": "code",
   "execution_count": null,
   "metadata": {},
   "outputs": [],
   "source": [
    "from pathlib import Path\n",
    "\n",
    "ds_predict_psd_ssh_oi = psd_spacetime(ds_field[\"ssh_ke\"])\n",
    "ds_predict_psd_ssh_duacs = psd_spacetime(ds_field[\"ssh_oi_ke\"])\n",
    "ds_predict_psd_ssh_miost = psd_spacetime(ds_field[\"ssh_miost_ke\"])\n",
    "ds_predict_psd_ssh_nerf = psd_spacetime(ds_field[\"ssh_nerf_ke\"])\n",
    "\n",
    "data = [\n",
    "    ds_predict_psd_ssh_oi,\n",
    "    ds_predict_psd_ssh_duacs,\n",
    "    ds_predict_psd_ssh_miost,\n",
    "    ds_predict_psd_ssh_nerf,\n",
    "]\n",
    "names = [\"oi\", \"duacs\", \"miost\", \"nef\"]\n",
    "\n",
    "for idata, iname in zip(data, names):\n",
    "    fig, ax, cbar = plot_psd_spacetime_wavelength(\n",
    "        idata.freq_longitude * 1e3,\n",
    "        idata.freq_time,\n",
    "        idata,\n",
    "    )\n",
    "    # ax.set_xlim((1000, 10))\n",
    "    # ax.set_xlabel(\"Wavelength [km]\")\n",
    "    cbar.ax.set_ylabel(r\"PSD [m$^2$s$^{-2}$/cyles/m\")\n",
    "    # cbar.ax.set_ylabel(r\"PSD [s$^{-1}$/cyles/m\")\n",
    "\n",
    "    plt.tight_layout()\n",
    "    fig.savefig(Path(root).joinpath(f\"figures/dc21a_psd_{iname.lower()}_ke.png\"))\n",
    "    plt.show()"
   ]
  },
  {
   "cell_type": "code",
   "execution_count": null,
   "metadata": {},
   "outputs": [],
   "source": [
    "from pathlib import Path\n",
    "\n",
    "ds_predict_psd_ssh_oi = psd_spacetime(ds_field[\"ssh_oi_ens\"])\n",
    "ds_predict_psd_ssh_duacs = psd_spacetime(ds_field[\"ssh_ens\"])\n",
    "ds_predict_psd_ssh_miost = psd_spacetime(ds_field[\"ssh_miost_ens\"])\n",
    "ds_predict_psd_ssh_nerf = psd_spacetime(ds_field[\"ssh_nerf_ens\"])\n",
    "\n",
    "data = [\n",
    "    ds_predict_psd_ssh_oi,\n",
    "    ds_predict_psd_ssh_duacs,\n",
    "    ds_predict_psd_ssh_miost,\n",
    "    ds_predict_psd_ssh_nerf,\n",
    "]\n",
    "names = [\"oi\", \"duacs\", \"miost\", \"nerf\"]\n",
    "\n",
    "for idata, iname in zip(data, names):\n",
    "    fig, ax, cbar = plot_psd_spacetime_wavelength(\n",
    "        idata.freq_longitude * 1e3,\n",
    "        idata.freq_time,\n",
    "        idata,\n",
    "    )\n",
    "    # ax.set_xlim((1000, 10))\n",
    "    # ax.set_xlabel(\"Wavelength [km]\")\n",
    "    # cbar.ax.set_ylabel(r\"PSD [m$^2$s$^{-2}$/cyles/m\")\n",
    "    cbar.ax.set_ylabel(r\"PSD [s$^{-1}$/cyles/m\")\n",
    "\n",
    "    plt.tight_layout()\n",
    "    fig.savefig(Path(root).joinpath(f\"figures/dc21a_psd_{iname.lower()}_ens.png\"))\n",
    "    plt.show()"
   ]
  },
  {
   "cell_type": "markdown",
   "metadata": {},
   "source": [
    "### PSD Score"
   ]
  },
  {
   "cell_type": "code",
   "execution_count": null,
   "metadata": {},
   "outputs": [],
   "source": [
    "# # grab ssh\n",
    "# ds_field_psd = ds_field.ssh\n",
    "# ds_predict_psd = ds_field.ssh_predict\n",
    "#\n",
    "# # correct units, degrees -> meters\n",
    "# ds_field_psd[\"longitude\"] = ds_field_psd.longitude * 111e3\n",
    "# ds_field_psd[\"latitude\"] = ds_field_psd.latitude * 111e3\n",
    "# ds_predict_psd[\"longitude\"] = ds_predict_psd.longitude * 111e3\n",
    "# ds_predict_psd[\"latitude\"] = ds_predict_psd.latitude * 111e3\n",
    "#\n",
    "# # Time-Longitude (Lat avg) PSD Score\n",
    "# ds_field_psd = ds_field_psd.chunk(\n",
    "#     {\n",
    "#         \"time\": 1,\n",
    "#         \"longitude\": ds_field_psd[\"longitude\"].size,\n",
    "#         \"latitude\": ds_field_psd[\"latitude\"].size,\n",
    "#     }\n",
    "# ).compute()\n",
    "# ds_predict_psd = ds_predict_psd.chunk(\n",
    "#     {\n",
    "#         \"time\": 1,\n",
    "#         \"longitude\": ds_predict_psd[\"longitude\"].size,\n",
    "#         \"latitude\": ds_predict_psd[\"latitude\"].size,\n",
    "#     }\n",
    "# ).compute()\n",
    "#\n",
    "#\n",
    "# psd_score = psd_spacetime_score(ds_predict_psd, ds_field_psd)"
   ]
  },
  {
   "cell_type": "code",
   "execution_count": null,
   "metadata": {},
   "outputs": [],
   "source": [
    "# psd_score_duacs = psd_spacetime_score(ds_field[\"ssh_duacs\"], ds_field[\"ssh\"])\n",
    "# psd_score_miost = psd_spacetime_score(ds_field[\"ssh_miost\"], ds_field[\"ssh\"])\n",
    "# psd_score_nerf = psd_spacetime_score(ds_field[\"ssh_nerf\"], ds_field[\"ssh\"])"
   ]
  },
  {
   "cell_type": "code",
   "execution_count": null,
   "metadata": {},
   "outputs": [],
   "source": [
    "# fig, ax, cbar = plot_psd_spacetime_score_wavenumber(\n",
    "#     psd_score.freq_longitude * 1e3,\n",
    "#     psd_score.freq_time,\n",
    "#     psd_score,\n",
    "# )\n",
    "#\n",
    "# plt.tight_layout()\n",
    "# plt.show()"
   ]
  },
  {
   "cell_type": "markdown",
   "metadata": {},
   "source": [
    "### Sea Surface Height"
   ]
  },
  {
   "cell_type": "code",
   "execution_count": null,
   "metadata": {},
   "outputs": [],
   "source": [
    "# psd_score_duacs = psd_spacetime_score(ds_field[\"ssh_duacs\"], ds_field[\"ssh\"])\n",
    "# psd_score_miost = psd_spacetime_score(ds_field[\"ssh_miost\"], ds_field[\"ssh\"])\n",
    "# psd_score_nerf = psd_spacetime_score(ds_field[\"ssh_nerf\"], ds_field[\"ssh\"])\n",
    "#\n",
    "# data = [\n",
    "#     psd_score_duacs,\n",
    "#     psd_score_miost,\n",
    "#     psd_score_nerf,\n",
    "# ]\n",
    "# names = [\"duacs\", \"miost\", \"nef\"]\n",
    "#\n",
    "# for idata, iname in zip(data, names):\n",
    "#\n",
    "#     fig, ax, cbar = plot_psd_spacetime_score_wavelength(\n",
    "#         idata.freq_longitude * 1e3,\n",
    "#         idata.freq_time,\n",
    "#         idata,\n",
    "#     )\n",
    "#     # # ax.set_xlim((1000, 10))\n",
    "#     # # ax.set_xlabel(\"Wavelength [km]\")\n",
    "#     # cbar.ax.set_ylabel(r\"PSD [m$^2$s$^{-2}$/cyles/m\")\n",
    "#     # # cbar.ax.set_ylabel(r\"PSD [s$^{-1}$/cyles/m\")\n",
    "#\n",
    "#     plt.tight_layout()\n",
    "#     fig.savefig(\n",
    "#         Path(root).joinpath(f\"figures/osse_2020a_psd_score_{iname.lower()}.png\")\n",
    "#     )\n",
    "#     plt.show()"
   ]
  },
  {
   "cell_type": "markdown",
   "metadata": {},
   "source": [
    "### Kinetic Energy"
   ]
  },
  {
   "cell_type": "code",
   "execution_count": null,
   "metadata": {},
   "outputs": [],
   "source": [
    "# psd_score_duacs = psd_spacetime_score(ds_field[\"ssh_duacs_ke\"], ds_field[\"ssh_ke\"])\n",
    "# psd_score_miost = psd_spacetime_score(ds_field[\"ssh_miost_ke\"], ds_field[\"ssh_ke\"])\n",
    "# psd_score_nerf = psd_spacetime_score(ds_field[\"ssh_nerf_ke\"], ds_field[\"ssh_ke\"])\n",
    "#\n",
    "# data = [\n",
    "#     psd_score_duacs,\n",
    "#     psd_score_miost,\n",
    "#     psd_score_nerf,\n",
    "# ]\n",
    "# names = [\"duacs\", \"miost\", \"nef\"]\n",
    "#\n",
    "# for idata, iname in zip(data, names):\n",
    "#\n",
    "#     fig, ax, cbar = plot_psd_spacetime_score_wavelength(\n",
    "#         idata.freq_longitude * 1e3,\n",
    "#         idata.freq_time,\n",
    "#         idata,\n",
    "#     )\n",
    "#     # # ax.set_xlim((1000, 10))\n",
    "#     # # ax.set_xlabel(\"Wavelength [km]\")\n",
    "#     # cbar.ax.set_ylabel(r\"PSD [m$^2$s$^{-2}$/cyles/m\")\n",
    "#     # # cbar.ax.set_ylabel(r\"PSD [s$^{-1}$/cyles/m\")\n",
    "#\n",
    "#     plt.tight_layout()\n",
    "#     fig.savefig(\n",
    "#         Path(root).joinpath(f\"figures/osse_2020a_psd_score_{iname.lower()}_ke.png\")\n",
    "#     )\n",
    "#     plt.show()"
   ]
  },
  {
   "cell_type": "markdown",
   "metadata": {},
   "source": [
    "### Enstropy"
   ]
  },
  {
   "cell_type": "code",
   "execution_count": null,
   "metadata": {},
   "outputs": [],
   "source": [
    "# psd_score_duacs = psd_spacetime_score(ds_field[\"ssh_duacs_ens\"], ds_field[\"ssh_ens\"])\n",
    "# psd_score_miost = psd_spacetime_score(ds_field[\"ssh_miost_ens\"], ds_field[\"ssh_ens\"])\n",
    "# psd_score_nerf = psd_spacetime_score(ds_field[\"ssh_nerf_ens\"], ds_field[\"ssh_ens\"])\n",
    "#\n",
    "# data = [\n",
    "#     psd_score_duacs,\n",
    "#     psd_score_miost,\n",
    "#     psd_score_nerf,\n",
    "# ]\n",
    "# names = [\"duacs\", \"miost\", \"nef\"]\n",
    "#\n",
    "# for idata, iname in zip(data, names):\n",
    "#\n",
    "#     fig, ax, cbar = plot_psd_spacetime_score_wavelength(\n",
    "#         idata.freq_longitude * 1e3,\n",
    "#         idata.freq_time,\n",
    "#         idata,\n",
    "#     )\n",
    "#     # # ax.set_xlim((1000, 10))\n",
    "#     # # ax.set_xlabel(\"Wavelength [km]\")\n",
    "#     # cbar.ax.set_ylabel(r\"PSD [m$^2$s$^{-2}$/cyles/m\")\n",
    "#     # # cbar.ax.set_ylabel(r\"PSD [s$^{-1}$/cyles/m\")\n",
    "#\n",
    "#     plt.tight_layout()\n",
    "#     fig.savefig(\n",
    "#         Path(root).joinpath(f\"figures/osse_2020a_psd_score_{iname.lower()}_ens.png\")\n",
    "#     )\n",
    "#     plt.show()"
   ]
  },
  {
   "cell_type": "code",
   "execution_count": null,
   "metadata": {},
   "outputs": [],
   "source": [
    "# fig, ax, cbar = plot_psd_spacetime_score_wavelength(\n",
    "#     psd_score.freq_longitude * 1e3,\n",
    "#     psd_score.freq_time,\n",
    "#     psd_score,\n",
    "# )\n",
    "#\n",
    "# plt.tight_layout()\n",
    "# plt.show()"
   ]
  },
  {
   "cell_type": "code",
   "execution_count": null,
   "metadata": {},
   "outputs": [],
   "source": [
    "# spatial_resolved, time_resolved = wavelength_resolved_spacetime(psd_score)"
   ]
  },
  {
   "cell_type": "code",
   "execution_count": null,
   "metadata": {},
   "outputs": [],
   "source": [
    "# print(f\"Shortest Spatial Wavelength Resolved = {spatial_resolved*1e-3:.2f} (km lon)\")\n",
    "# print(f\"Shortest Temporal Wavelength Resolved = {time_resolved:.2f} (days)\")"
   ]
  }
 ],
 "metadata": {
  "kernelspec": {
   "display_name": "Python 3 (ipykernel)",
   "language": "python",
   "name": "python3"
  },
  "language_info": {
   "codemirror_mode": {
    "name": "ipython",
    "version": 3
   },
   "file_extension": ".py",
   "mimetype": "text/x-python",
   "name": "python",
   "nbconvert_exporter": "python",
   "pygments_lexer": "ipython3",
   "version": "3.10.8"
  },
  "vscode": {
   "interpreter": {
    "hash": "ba845ae818c285ca2fe9389acfa2d2da9f6f964e42b65478d402ad448a072775"
   }
  }
 },
 "nbformat": 4,
 "nbformat_minor": 4
}
