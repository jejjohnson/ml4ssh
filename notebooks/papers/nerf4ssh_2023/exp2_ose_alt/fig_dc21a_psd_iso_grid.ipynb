{
 "cells": [
  {
   "cell_type": "markdown",
   "metadata": {},
   "source": [
    "# Figure - Isotropic PSD (Grid)"
   ]
  },
  {
   "cell_type": "code",
   "execution_count": null,
   "metadata": {},
   "outputs": [],
   "source": [
    "import sys, os\n",
    "from pyprojroot import here\n",
    "\n",
    "# spyder up to find the root\n",
    "root = here(project_files=[\".root\"])\n",
    "\n",
    "\n",
    "# append to path\n",
    "sys.path.append(str(root))"
   ]
  },
  {
   "cell_type": "code",
   "execution_count": null,
   "metadata": {},
   "outputs": [],
   "source": [
    "import numpy as np\n",
    "from pathlib import Path\n",
    "import pandas as pd\n",
    "import xarray as xr\n",
    "import matplotlib.pyplot as plt\n",
    "\n",
    "import seaborn as sns\n",
    "\n",
    "sns.reset_defaults()\n",
    "sns.set_context(context=\"talk\", font_scale=0.7)\n",
    "import scienceplots\n",
    "\n",
    "# plt.style.use(\"science\")\n",
    "\n",
    "import hvplot.xarray\n",
    "import hvplot.pandas\n",
    "\n",
    "from inr4ssh._src.operators.finite_diff import calculate_gradient, calculate_laplacian\n",
    "from inr4ssh._src.preprocess.subset import temporal_subset, spatial_subset\n",
    "from inr4ssh._src.preprocess.coords import (\n",
    "    correct_coordinate_labels,\n",
    "    correct_longitude_domain,\n",
    ")\n",
    "from inr4ssh._src.data.ssh_obs import load_ssh_altimetry_data_train\n",
    "\n",
    "from inr4ssh._src.preprocess.coords import correct_longitude_domain\n",
    "\n",
    "# from inr4ssh._src.preprocess.obs import bin_observations\n",
    "from inr4ssh._src.viz.movie import create_movie\n",
    "from inr4ssh._src.metrics.psd import psd_isotropic\n",
    "from inr4ssh._src.viz.psd.isotropic import plot_psd_isotropic\n",
    "from inr4ssh._src.preprocess.regrid import oi_regrid\n",
    "from inr4ssh._src.viz.obs import plot_obs_demo\n",
    "from inr4ssh._src.metrics.psd import psd_spacetime, psd_spacetime_dask\n",
    "from inr4ssh._src.viz.psd.spacetime import (\n",
    "    plot_psd_spacetime_wavelength,\n",
    "    plot_psd_spacetime_wavenumber,\n",
    ")\n",
    "from inr4ssh._src.viz.psd.spacetime import (\n",
    "    plot_psd_spacetime_score_wavelength,\n",
    "    plot_psd_spacetime_score_wavenumber,\n",
    ")\n",
    "from loguru import logger\n",
    "\n",
    "%matplotlib inline\n",
    "%load_ext autoreload\n",
    "%autoreload 2"
   ]
  },
  {
   "cell_type": "markdown",
   "metadata": {},
   "source": [
    "## Data"
   ]
  },
  {
   "cell_type": "markdown",
   "metadata": {},
   "source": [
    "### Evaluation Field"
   ]
  },
  {
   "cell_type": "code",
   "execution_count": null,
   "metadata": {},
   "outputs": [],
   "source": [
    "from inr4ssh._src.preprocess.spatial import convert_lon_360_180, convert_lon_180_360\n",
    "\n",
    "convert_lon_360_180(295), convert_lon_360_180(305)"
   ]
  },
  {
   "cell_type": "code",
   "execution_count": null,
   "metadata": {},
   "outputs": [],
   "source": [
    "def post_process(ds, variable):\n",
    "    # correct coordinate labels\n",
    "    logger.info(\"Fixing coordinate labels...\")\n",
    "    ds = correct_coordinate_labels(ds)\n",
    "\n",
    "    # correct labels\n",
    "    logger.info(\"Fixing labels\")\n",
    "    ds = ds.rename({variable: \"ssh\"})\n",
    "\n",
    "    # correct longitude domain\n",
    "    logger.info(\"Fixing longitude domain\")\n",
    "    from inr4ssh._src.preprocess.spatial import convert_lon_360_180\n",
    "\n",
    "    ds[\"longitude\"] = convert_lon_360_180(ds.longitude)\n",
    "\n",
    "    # subset temporal space\n",
    "    ds = ds.sel(\n",
    "        time=slice(np.datetime64(\"2017-01-01\"), np.datetime64(\"2017-12-31\")),\n",
    "        # longitude=slice(-75.0, -45.0),\n",
    "        longitude=slice(convert_lon_360_180(295), convert_lon_360_180(305)),\n",
    "        latitude=slice(33.0, 53.0),\n",
    "    )\n",
    "    # ds = ds.sel(\n",
    "    #     time=slice(np.datetime64(\"2017-02-01\"), np.datetime64(\"2017-03-31\")),\n",
    "    #     longitude=slice(-75.0, -45.0),\n",
    "    #     latitude=slice(33.0, 53.0),\n",
    "    # )\n",
    "\n",
    "    # # subset spatial space\n",
    "    # ds = ds.where(\n",
    "    #     (ds[\"longitude\"] >= -75.0)\n",
    "    #     & (ds[\"longitude\"] <= -45.0)\n",
    "    #     & (ds[\"latitude\"] >= 33.0)\n",
    "    #     & (ds[\"latitude\"] <= 53.0),\n",
    "    #     drop=True,\n",
    "    # )\n",
    "\n",
    "    # # subset spatial space (evaluation)\n",
    "    # ds = ds.where(\n",
    "    #     (ds[\"longitude\"] >= -65.0)\n",
    "    #     & (ds[\"longitude\"] <= -55.0)\n",
    "    #     & (ds[\"latitude\"] >= 33.0)\n",
    "    #     & (ds[\"latitude\"] <= 43.0),\n",
    "    #     drop=True,\n",
    "    # )\n",
    "\n",
    "    ds = ds.transpose(\"time\", \"latitude\", \"longitude\")\n",
    "\n",
    "    # regrid data\n",
    "    return ds"
   ]
  },
  {
   "cell_type": "code",
   "execution_count": null,
   "metadata": {},
   "outputs": [],
   "source": [
    "logger.info(\"Dataset I - DUACS\")\n",
    "url = \"/Volumes/EMANS_HDD/data/dc21b_ose/test_2/results/OSE_ssh_mapping_DUACS.nc\"\n",
    "ds_field = xr.open_dataset(url)\n",
    "\n",
    "ds_field = post_process(ds_field, \"ssh\")"
   ]
  },
  {
   "cell_type": "code",
   "execution_count": null,
   "metadata": {},
   "outputs": [],
   "source": [
    "ds_field.longitude.min()"
   ]
  },
  {
   "cell_type": "markdown",
   "metadata": {},
   "source": [
    "### Example Results"
   ]
  },
  {
   "cell_type": "markdown",
   "metadata": {},
   "source": [
    "```bash\n",
    "!wget https://ige-meom-opendap.univ-grenoble-alpes.fr/thredds/fileServer/meomopendap/extract/ocean-data-challenges/dc_data1/dc_mapping/2020a_SSH_mapping_NATL60_MIOST_en_j1_tpn_g2.nc\n",
    "!wget https://ige-meom-opendap.univ-grenoble-alpes.fr/thredds/fileServer/meomopendap/extract/ocean-data-challenges/dc_data1/dc_mapping/2020a_SSH_mapping_NATL60_MIOST_swot_en_j1_tpn_g2.nc\n",
    "!wget https://ige-meom-opendap.univ-grenoble-alpes.fr/thredds/fileServer/meomopendap/extract/ocean-data-challenges/dc_data1/dc_mapping/2020a_SSH_mapping_NATL60_DUACS_en_j1_tpn_g2.nc\n",
    "!wget https://ige-meom-opendap.univ-grenoble-alpes.fr/thredds/fileServer/meomopendap/extract/ocean-data-challenges/dc_data1/dc_mapping/2020a_SSH_mapping_NATL60_DUACS_swot_en_j1_tpn_g2.nc\n",
    "!wget https://ige-meom-opendap.univ-grenoble-alpes.fr/thredds/fileServer/meomopendap/extract/ocean-data-challenges/dc_data1/dc_mapping/2020a_SSH_mapping_NATL60_4DVarNet_v2022_nadirswot_GF_GF.nc\n",
    "!wget https://ige-meom-opendap.univ-grenoble-alpes.fr/thredds/fileServer/meomopendap/extract/ocean-data-challenges/dc_data1/dc_mapping/2020a_SSH_mapping_NATL60_4DVarNet_v2022_nadir_GF_GF.nc\n",
    "!wget https://ige-meom-opendap.univ-grenoble-alpes.fr/thredds/fileServer/meomopendap/extract/ocean-data-challenges/dc_data1/dc_mapping/2020a_SSH_mapping_NATL60_BFN_Steady_State_QG1L_en_j1_tpn_g2.nc\n",
    "!wget https://ige-meom-opendap.univ-grenoble-alpes.fr/thredds/fileServer/meomopendap/extract/ocean-data-challenges/dc_data1/dc_mapping/2020a_SSH_mapping_NATL60_BFN_Steady_State_QG1L_swot_en_j1_tpn_g2.nc\n",
    "```"
   ]
  },
  {
   "cell_type": "code",
   "execution_count": null,
   "metadata": {},
   "outputs": [],
   "source": [
    "!ls /Volumes/EMANS_HDD/data/dc21b_ose/test_2/results/"
   ]
  },
  {
   "cell_type": "code",
   "execution_count": null,
   "metadata": {},
   "outputs": [],
   "source": [
    "# url = \"/Volumes/EMANS_HDD/data/dc20a_osse/results/nadir4/2020a_SSH_mapping_NATL60_DUACS_en_j1_tpn_g2.nc\"\n",
    "# # url =\n",
    "# ds_predict = xr.open_dataset(url)\n",
    "#\n",
    "# ds_predict"
   ]
  },
  {
   "cell_type": "markdown",
   "metadata": {},
   "source": [
    "## PostProcessing"
   ]
  },
  {
   "cell_type": "markdown",
   "metadata": {},
   "source": [
    "### Cleaning\n",
    "\n",
    "* Evaluation Period\n",
    "* Lat/Lon Labels\n",
    "* Longitude Range\n",
    "* Regridding"
   ]
  },
  {
   "cell_type": "code",
   "execution_count": null,
   "metadata": {},
   "outputs": [],
   "source": [
    "logger.info(\"Dataset II - BASELINE\")\n",
    "url = \"/Volumes/EMANS_HDD/data/dc21b_ose/test_2/results/OSE_ssh_mapping_BASELINE.nc\"\n",
    "ds_predict = xr.open_dataset(url)\n",
    "\n",
    "ds_predict = post_process(ds_predict, \"ssh\")\n",
    "\n",
    "ds_field[\"ssh_oi\"] = oi_regrid(ds_predict[\"ssh\"], ds_field[\"ssh\"])\n",
    "\n",
    "logger.info(\"Dataset III - MIOST\")\n",
    "url = \"/Volumes/EMANS_HDD/data/dc21b_ose/test_2/results/OSE_ssh_mapping_MIOST.nc\"\n",
    "ds_predict = xr.open_dataset(url)\n",
    "\n",
    "ds_predict = post_process(ds_predict, \"ssh\")\n",
    "\n",
    "ds_field[\"ssh_miost\"] = oi_regrid(ds_predict[\"ssh\"], ds_field[\"ssh\"])\n",
    "\n",
    "logger.info(\"Dataset IV - NerF\")\n",
    "url = \"/Users/eman/code_projects/logs/saved_data/test_dc21b_feb_pretrain.nc\"\n",
    "url = \"/Volumes/EMANS_HDD/data/dc21b/results/siren_136.nc\"\n",
    "# url = \"/Volumes/EMANS_HDD/data/dc21b_ose/test_2/results/OSE_ssh_mapping_4dvarNet_2022.nc\"\n",
    "ds_predict = xr.open_dataset(url)\n",
    "\n",
    "ds_predict = post_process(ds_predict, \"ssh\")\n",
    "\n",
    "ds_field[\"ssh_nerf\"] = oi_regrid(ds_predict[\"ssh\"], ds_field[\"ssh\"])\n",
    "\n",
    "ds_field"
   ]
  },
  {
   "cell_type": "code",
   "execution_count": null,
   "metadata": {},
   "outputs": [],
   "source": [
    "from tqdm.notebook import tqdm\n",
    "from inr4ssh._src.operators.ssh import (\n",
    "    ssh2uv_ds_2dt,\n",
    "    ssh2uv_da_2dt,\n",
    "    kinetic_energy,\n",
    "    enstropy,\n",
    "    ssh2rv_ds_2dt,\n",
    "    ssh2rv_da_2dt,\n",
    ")\n",
    "\n",
    "variables = [\"ssh\", \"ssh_oi\", \"ssh_miost\", \"ssh_nerf\"]\n",
    "\n",
    "logger.info(\"Calculating Kinetic Energy...\")\n",
    "for ivar in tqdm(variables):\n",
    "    # calculate UV components\n",
    "    u, v = ssh2uv_da_2dt(ds_field[ivar])\n",
    "    ke = kinetic_energy(u, v)\n",
    "\n",
    "    ds_field[f\"{ivar}_ke\"] = ((\"time\", \"latitude\", \"longitude\"), ke)\n",
    "\n",
    "logger.info(\"Calculating Enstropy...\")\n",
    "for ivar in tqdm(variables):\n",
    "    # calculate UV components\n",
    "    rv = ssh2rv_da_2dt(ds_field[ivar])\n",
    "\n",
    "    ds_field[f\"{ivar}_ens\"] = ((\"time\", \"latitude\", \"longitude\"), rv)"
   ]
  },
  {
   "cell_type": "markdown",
   "metadata": {},
   "source": [
    "## Metrics - Isotropic PSD"
   ]
  },
  {
   "cell_type": "code",
   "execution_count": null,
   "metadata": {},
   "outputs": [],
   "source": [
    "ds_field[\"longitude\"] = ds_field.longitude * 111e3\n",
    "ds_field[\"latitude\"] = ds_field.latitude * 111e3"
   ]
  },
  {
   "cell_type": "markdown",
   "metadata": {},
   "source": [
    "### Sea Surface Height"
   ]
  },
  {
   "cell_type": "code",
   "execution_count": null,
   "metadata": {},
   "outputs": [],
   "source": [
    "# calculate\n",
    "ds_field_psd_duacs = psd_isotropic(ds_field.ssh)\n",
    "ds_field_psd_oi = psd_isotropic(ds_field.ssh_oi)\n",
    "ds_field_psd_miost = psd_isotropic(ds_field.ssh_miost)\n",
    "ds_field_psd_nerf = psd_isotropic(ds_field.ssh_nerf)"
   ]
  },
  {
   "cell_type": "code",
   "execution_count": null,
   "metadata": {},
   "outputs": [],
   "source": [
    "fig, ax, secax = plot_psd_isotropic(\n",
    "    ds_field_psd_oi.freq_r.values * 1e3, ds_field_psd_oi.values, color=\"black\"\n",
    ")\n",
    "\n",
    "ax.plot(\n",
    "    ds_field_psd_duacs.freq_r.values * 1e3, ds_field_psd_duacs.values, color=\"tab:green\"\n",
    ")\n",
    "ax.plot(\n",
    "    ds_field_psd_miost.freq_r.values * 1e3, ds_field_psd_miost.values, color=\"tab:blue\"\n",
    ")\n",
    "ax.plot(\n",
    "    ds_field_psd_nerf.freq_r.values * 1e3, ds_field_psd_nerf.values, color=\"tab:red\"\n",
    ")\n",
    "# plt.xlim(\n",
    "#     (\n",
    "#         np.ma.min(np.ma.masked_invalid(ds_field_psd_duacs.freq_r.values * 1e3)),\n",
    "#         np.ma.max(np.ma.masked_invalid(ds_field_psd_duacs.freq_r.values * 1e3)),\n",
    "#     )\n",
    "# )\n",
    "plt.legend([\"OI\", \"DUACS\", \"MIOST\", \"NerF\"])\n",
    "plt.tight_layout()\n",
    "fig.savefig(Path(root).joinpath(\"figures/dc21a_psd_iso.png\"))\n",
    "plt.show()"
   ]
  },
  {
   "cell_type": "markdown",
   "metadata": {},
   "source": [
    "### Kinetic Energy"
   ]
  },
  {
   "cell_type": "code",
   "execution_count": null,
   "metadata": {},
   "outputs": [],
   "source": [
    "# calculate\n",
    "ds_field_psd_duacs_ke = psd_isotropic(ds_field.ssh_ke)\n",
    "ds_field_psd_oi_ke = psd_isotropic(ds_field.ssh_oi_ke)\n",
    "ds_field_psd_miost_ke = psd_isotropic(ds_field.ssh_miost_ke)\n",
    "ds_field_psd_nerf_ke = psd_isotropic(ds_field.ssh_nerf_ke)"
   ]
  },
  {
   "cell_type": "code",
   "execution_count": null,
   "metadata": {},
   "outputs": [],
   "source": [
    "fig, ax, secax = plot_psd_isotropic(\n",
    "    ds_field_psd_oi_ke.freq_r.values * 1e3,\n",
    "    ds_field_psd_oi_ke.values,\n",
    "    color=\"black\",\n",
    ")\n",
    "\n",
    "ax.plot(\n",
    "    ds_field_psd_duacs_ke.freq_r.values * 1e3,\n",
    "    ds_field_psd_duacs_ke.values,\n",
    "    color=\"tab:green\",\n",
    ")\n",
    "ax.plot(\n",
    "    ds_field_psd_miost_ke.freq_r.values * 1e3,\n",
    "    ds_field_psd_miost_ke.values,\n",
    "    color=\"tab:blue\",\n",
    ")\n",
    "ax.plot(\n",
    "    ds_field_psd_nerf_ke.freq_r.values * 1e3,\n",
    "    ds_field_psd_nerf_ke.values,\n",
    "    color=\"tab:red\",\n",
    ")\n",
    "plt.xlim(\n",
    "    (\n",
    "        np.ma.min(np.ma.masked_invalid(ds_field_psd_duacs_ke.freq_r.values * 1e3)),\n",
    "        np.ma.max(np.ma.masked_invalid(ds_field_psd_duacs_ke.freq_r.values * 1e3)),\n",
    "    )\n",
    ")\n",
    "ax.set_ylabel(f\"PSD [m$^2$s$^{-2}$/cycles/m\")\n",
    "plt.legend([\"NATL60\", \"DUACS\", \"MIOST\", \"NerF\"])\n",
    "plt.tight_layout()\n",
    "fig.savefig(Path(root).joinpath(\"figures/dc21a_psd_iso_ke.png\"))\n",
    "plt.show()"
   ]
  },
  {
   "cell_type": "markdown",
   "metadata": {},
   "source": [
    "### Enstropy"
   ]
  },
  {
   "cell_type": "code",
   "execution_count": null,
   "metadata": {},
   "outputs": [],
   "source": [
    "ds_field"
   ]
  },
  {
   "cell_type": "code",
   "execution_count": null,
   "metadata": {},
   "outputs": [],
   "source": [
    "# calculate\n",
    "ds_field_psd_duacs_ens = psd_isotropic(ds_field.ssh_ens)\n",
    "ds_field_psd_oi_ens = psd_isotropic(ds_field.ssh_oi_ens)\n",
    "ds_field_psd_miost_ens = psd_isotropic(ds_field.ssh_miost_ens)\n",
    "ds_field_psd_nerf_ens = psd_isotropic(ds_field.ssh_nerf_ens)"
   ]
  },
  {
   "cell_type": "code",
   "execution_count": null,
   "metadata": {},
   "outputs": [],
   "source": [
    "fig, ax, secax = plot_psd_isotropic(\n",
    "    ds_field_psd_oi_ens.freq_r.values * 1e3,\n",
    "    ds_field_psd_oi_ens.values,\n",
    "    color=\"black\",\n",
    ")\n",
    "\n",
    "ax.plot(\n",
    "    ds_field_psd_duacs_ens.freq_r.values * 1e3,\n",
    "    ds_field_psd_duacs_ens.values,\n",
    "    color=\"tab:green\",\n",
    ")\n",
    "ax.plot(\n",
    "    ds_field_psd_miost_ens.freq_r.values * 1e3,\n",
    "    ds_field_psd_miost_ens.values,\n",
    "    color=\"tab:blue\",\n",
    ")\n",
    "ax.plot(\n",
    "    ds_field_psd_nerf_ens.freq_r.values * 1e3,\n",
    "    ds_field_psd_nerf_ens.values,\n",
    "    color=\"tab:red\",\n",
    ")\n",
    "plt.xlim(\n",
    "    (\n",
    "        np.ma.min(np.ma.masked_invalid(ds_field_psd_duacs_ens.freq_r.values * 1e3)),\n",
    "        np.ma.max(np.ma.masked_invalid(ds_field_psd_duacs_ens.freq_r.values * 1e3)),\n",
    "    )\n",
    ")\n",
    "ax.set_ylabel(f\"PSD [s$^{-1}$/cycles/m\")\n",
    "plt.legend([\"NATL60\", \"DUACS\", \"MIOST\", \"SIREN\"])\n",
    "plt.tight_layout()\n",
    "fig.savefig(Path(root).joinpath(\"figures/osse_2020a_psd_iso_ens.png\"))\n",
    "plt.show()"
   ]
  },
  {
   "cell_type": "markdown",
   "metadata": {},
   "source": [
    "## Metrics - Isotropic PSD Score"
   ]
  },
  {
   "cell_type": "markdown",
   "metadata": {},
   "source": [
    "### Sea Surface Height"
   ]
  },
  {
   "cell_type": "code",
   "execution_count": null,
   "metadata": {},
   "outputs": [],
   "source": [
    "from inr4ssh._src.metrics.psd import psd_isotropic_score, wavelength_resolved_isotropic\n",
    "from tqdm.notebook import tqdm\n",
    "\n",
    "variables = [\"ssh_oi\", \"ssh_nerf\", \"ssh_miost\"]\n",
    "colours = [\"black\", \"tab:red\", \"tab:blue\"]\n",
    "linestyle = [\"-\", \"--\", \"-.\"]\n",
    "\n",
    "ax = None\n",
    "\n",
    "for ivariable, icolour, ilinestyle in tqdm(zip(variables, colours, linestyle)):\n",
    "    psd_iso_score = psd_isotropic_score(ds_field[\"ssh\"], ds_field[ivariable])\n",
    "\n",
    "    space_iso_resolved = wavelength_resolved_isotropic(psd_iso_score, level=0.5)\n",
    "    if ivariable != \"ssh\":\n",
    "        iname = ivariable.split(\"_\")[1].upper()\n",
    "    else:\n",
    "        iname = \"DUACS\"\n",
    "    print(\n",
    "        f\"Shortest Spatial Wavelength Resolved [{iname}] = {space_iso_resolved/1e3:.2f} (km)\"\n",
    "    )\n",
    "\n",
    "    fig, ax, secax = plot_psd_isotropic(\n",
    "        psd_iso_score.freq_r.values * 1e3,\n",
    "        psd_iso_score.values,\n",
    "        ax=ax,\n",
    "        color=icolour,\n",
    "        linestyle=\"-\",\n",
    "    )\n",
    "\n",
    "    ax.set(ylabel=\"PSD Score\", yscale=\"linear\")\n",
    "    plt.ylim((0, 1.0))\n",
    "    plt.xlim(\n",
    "        (\n",
    "            np.ma.min(np.ma.masked_invalid(psd_iso_score.freq_r.values * 1e3)),\n",
    "            np.ma.max(np.ma.masked_invalid(psd_iso_score.freq_r.values * 1e3)),\n",
    "        )\n",
    "    )\n",
    "\n",
    "    # plot the graph point\n",
    "    resolved_scale = 1 / (space_iso_resolved * 1e-3)\n",
    "    ax.vlines(\n",
    "        x=resolved_scale, ymin=0, ymax=0.5, color=icolour, linewidth=2, linestyle=\"--\"\n",
    "    )\n",
    "    ax.hlines(\n",
    "        y=0.5,\n",
    "        xmin=np.ma.min(np.ma.masked_invalid(psd_iso_score.freq_r.values * 1e3)),\n",
    "        xmax=resolved_scale,\n",
    "        color=icolour,\n",
    "        linewidth=2,\n",
    "        linestyle=\"--\",\n",
    "    )\n",
    "\n",
    "    label = f\"{iname} - $\\lambda$ > {int(space_iso_resolved*1e-3)} km\"\n",
    "    plt.scatter(\n",
    "        resolved_scale, 0.5, color=icolour, marker=\".\", linewidth=5, label=label\n",
    "    )\n",
    "\n",
    "plt.legend()\n",
    "plt.tight_layout()\n",
    "fig.savefig(Path(root).joinpath(\"figures/dc21a_psd_score_iso_ssh.png\"))\n",
    "plt.show()"
   ]
  },
  {
   "cell_type": "markdown",
   "metadata": {},
   "source": [
    "### Kinetic Energy"
   ]
  },
  {
   "cell_type": "code",
   "execution_count": null,
   "metadata": {},
   "outputs": [],
   "source": [
    "variables = [\"ssh_oi_ke\", \"ssh_miost_ke\", \"ssh_nerf_ke\"]\n",
    "colours = [\"black\", \"tab:blue\", \"tab:red\"]\n",
    "linestyle = [\"-\", \"--\", \"-.\"]\n",
    "\n",
    "ax = None\n",
    "\n",
    "for ivariable, icolour, ilinestyle in tqdm(zip(variables, colours, linestyle)):\n",
    "    psd_iso_score = psd_isotropic_score(ds_field[\"ssh_ke\"], ds_field[ivariable])\n",
    "\n",
    "    space_iso_resolved = wavelength_resolved_isotropic(psd_iso_score, level=0.5)\n",
    "    iname = ivariable.split(\"_\")[1].upper()\n",
    "    print(\n",
    "        f\"Shortest Spatial Wavelength Resolved [{iname}] = {space_iso_resolved/1e3:.2f} (km$^2$s$^{-2})\"\n",
    "    )\n",
    "\n",
    "    fig, ax, secax = plot_psd_isotropic(\n",
    "        psd_iso_score.freq_r.values * 1e3,\n",
    "        psd_iso_score.values,\n",
    "        ax=ax,\n",
    "        color=icolour,\n",
    "        linestyle=\"-\",\n",
    "    )\n",
    "\n",
    "    ax.set(ylabel=\"PSD Score\", yscale=\"linear\")\n",
    "    plt.ylim((0, 1.0))\n",
    "    plt.xlim(\n",
    "        (\n",
    "            np.ma.min(np.ma.masked_invalid(psd_iso_score.freq_r.values * 1e3)),\n",
    "            np.ma.max(np.ma.masked_invalid(psd_iso_score.freq_r.values * 1e3)),\n",
    "        )\n",
    "    )\n",
    "\n",
    "    # plot the graph point\n",
    "    resolved_scale = 1 / (space_iso_resolved * 1e-3)\n",
    "    ax.vlines(\n",
    "        x=resolved_scale, ymin=0, ymax=0.5, color=icolour, linewidth=2, linestyle=\"--\"\n",
    "    )\n",
    "    ax.hlines(\n",
    "        y=0.5,\n",
    "        xmin=np.ma.min(np.ma.masked_invalid(psd_iso_score.freq_r.values * 1e3)),\n",
    "        xmax=resolved_scale,\n",
    "        color=icolour,\n",
    "        linewidth=2,\n",
    "        linestyle=\"--\",\n",
    "    )\n",
    "\n",
    "    label = f\"{iname} - $\\lambda$ > {int(space_iso_resolved*1e-3)} km$^2$s$^{-2}$\"\n",
    "    plt.scatter(\n",
    "        resolved_scale, 0.5, color=icolour, marker=\".\", linewidth=5, label=label\n",
    "    )\n",
    "\n",
    "plt.legend()\n",
    "plt.tight_layout()\n",
    "fig.savefig(Path(root).joinpath(\"figures/dc21a_psd_score_iso_ke.png\"))\n",
    "plt.show()"
   ]
  },
  {
   "cell_type": "markdown",
   "metadata": {},
   "source": [
    "### Enstropy"
   ]
  },
  {
   "cell_type": "code",
   "execution_count": null,
   "metadata": {},
   "outputs": [],
   "source": [
    "variables = [\"ssh_oi_ens\", \"ssh_miost_ens\", \"ssh_nerf_ens\"]\n",
    "colours = [\"black\", \"tab:blue\", \"tab:red\"]\n",
    "linestyle = [\"-\", \"--\", \"-.\"]\n",
    "\n",
    "ax = None\n",
    "\n",
    "for ivariable, icolour, ilinestyle in tqdm(zip(variables, colours, linestyle)):\n",
    "    psd_iso_score = psd_isotropic_score(ds_field[\"ssh_ens\"], ds_field[ivariable])\n",
    "\n",
    "    space_iso_resolved = wavelength_resolved_isotropic(psd_iso_score, level=0.5)\n",
    "    iname = ivariable.split(\"_\")[1].upper()\n",
    "    print(\n",
    "        f\"Shortest Spatial Wavelength Resolved [{iname}] = {space_iso_resolved/1e3:.2f} (s$^{-1}$)\"\n",
    "    )\n",
    "\n",
    "    fig, ax, secax = plot_psd_isotropic(\n",
    "        psd_iso_score.freq_r.values * 1e3,\n",
    "        psd_iso_score.values,\n",
    "        ax=ax,\n",
    "        color=icolour,\n",
    "        linestyle=\"-\",\n",
    "    )\n",
    "\n",
    "    ax.set(ylabel=\"PSD Score\", yscale=\"linear\")\n",
    "    plt.ylim((0, 1.0))\n",
    "    plt.xlim(\n",
    "        (\n",
    "            np.ma.min(np.ma.masked_invalid(psd_iso_score.freq_r.values * 1e3)),\n",
    "            np.ma.max(np.ma.masked_invalid(psd_iso_score.freq_r.values * 1e3)),\n",
    "        )\n",
    "    )\n",
    "\n",
    "    # plot the graph point\n",
    "    resolved_scale = 1 / (space_iso_resolved * 1e-3)\n",
    "    ax.vlines(\n",
    "        x=resolved_scale, ymin=0, ymax=0.5, color=icolour, linewidth=2, linestyle=\"--\"\n",
    "    )\n",
    "    ax.hlines(\n",
    "        y=0.5,\n",
    "        xmin=np.ma.min(np.ma.masked_invalid(psd_iso_score.freq_r.values * 1e3)),\n",
    "        xmax=resolved_scale,\n",
    "        color=icolour,\n",
    "        linewidth=2,\n",
    "        linestyle=\"--\",\n",
    "    )\n",
    "\n",
    "    label = f\"{iname} - $\\lambda$ > {int(space_iso_resolved*1e-3)} s$^{-1}$\"\n",
    "    plt.scatter(\n",
    "        resolved_scale, 0.5, color=icolour, marker=\".\", linewidth=5, label=label\n",
    "    )\n",
    "\n",
    "plt.legend()\n",
    "plt.tight_layout()\n",
    "fig.savefig(Path(root).joinpath(\"figures/dc21a_psd_score_iso_ens.png\"))\n",
    "plt.show()"
   ]
  },
  {
   "cell_type": "code",
   "execution_count": null,
   "metadata": {},
   "outputs": [],
   "source": []
  },
  {
   "cell_type": "code",
   "execution_count": null,
   "metadata": {},
   "outputs": [],
   "source": []
  },
  {
   "cell_type": "code",
   "execution_count": null,
   "metadata": {},
   "outputs": [],
   "source": []
  }
 ],
 "metadata": {
  "kernelspec": {
   "display_name": "Python 3.9.13 ('torch_py39')",
   "language": "python",
   "name": "python3"
  },
  "language_info": {
   "codemirror_mode": {
    "name": "ipython",
    "version": 3
   },
   "file_extension": ".py",
   "mimetype": "text/x-python",
   "name": "python",
   "nbconvert_exporter": "python",
   "pygments_lexer": "ipython3",
   "version": "3.9.13"
  },
  "vscode": {
   "interpreter": {
    "hash": "ba845ae818c285ca2fe9389acfa2d2da9f6f964e42b65478d402ad448a072775"
   }
  }
 },
 "nbformat": 4,
 "nbformat_minor": 2
}
