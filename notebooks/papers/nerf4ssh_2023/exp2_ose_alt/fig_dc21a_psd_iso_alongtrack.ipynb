{
 "cells": [
  {
   "cell_type": "markdown",
   "metadata": {},
   "source": [
    "# Figure - Isotropic PSD (Alongtrack)"
   ]
  },
  {
   "cell_type": "code",
   "execution_count": null,
   "metadata": {},
   "outputs": [],
   "source": [
    "import sys, os\n",
    "from pyprojroot import here\n",
    "\n",
    "# spyder up to find the root\n",
    "root = here(project_files=[\".root\"])\n",
    "\n",
    "\n",
    "# append to path\n",
    "sys.path.append(str(root))"
   ]
  },
  {
   "cell_type": "code",
   "execution_count": null,
   "metadata": {},
   "outputs": [],
   "source": [
    "import numpy as np\n",
    "from pathlib import Path\n",
    "import pandas as pd\n",
    "import xarray as xr\n",
    "import matplotlib.pyplot as plt\n",
    "\n",
    "import seaborn as sns\n",
    "\n",
    "sns.reset_defaults()\n",
    "sns.set_context(context=\"talk\", font_scale=0.7)\n",
    "import scienceplots\n",
    "\n",
    "# plt.style.use(\"science\")\n",
    "\n",
    "import hvplot.xarray\n",
    "import hvplot.pandas\n",
    "\n",
    "from inr4ssh._src.operators.finite_diff import calculate_gradient, calculate_laplacian\n",
    "from inr4ssh._src.preprocess.subset import temporal_subset, spatial_subset\n",
    "from inr4ssh._src.preprocess.coords import (\n",
    "    correct_coordinate_labels,\n",
    "    correct_longitude_domain,\n",
    ")\n",
    "from inr4ssh._src.data.ssh_obs import load_ssh_altimetry_data_train\n",
    "\n",
    "from inr4ssh._src.preprocess.coords import correct_longitude_domain\n",
    "\n",
    "# from inr4ssh._src.preprocess.obs import bin_observations\n",
    "from inr4ssh._src.viz.movie import create_movie\n",
    "from inr4ssh._src.metrics.psd import psd_isotropic\n",
    "from inr4ssh._src.viz.psd.isotropic import plot_psd_isotropic\n",
    "from inr4ssh._src.preprocess.regrid import oi_regrid\n",
    "from inr4ssh._src.viz.obs import plot_obs_demo\n",
    "from inr4ssh._src.metrics.psd import psd_spacetime, psd_spacetime_dask\n",
    "from inr4ssh._src.viz.psd.spacetime import (\n",
    "    plot_psd_spacetime_wavelength,\n",
    "    plot_psd_spacetime_wavenumber,\n",
    ")\n",
    "from inr4ssh._src.viz.psd.spacetime import (\n",
    "    plot_psd_spacetime_score_wavelength,\n",
    "    plot_psd_spacetime_score_wavenumber,\n",
    ")\n",
    "from loguru import logger\n",
    "\n",
    "%matplotlib inline\n",
    "%load_ext autoreload\n",
    "%autoreload 2"
   ]
  },
  {
   "cell_type": "markdown",
   "metadata": {},
   "source": [
    "## Data"
   ]
  },
  {
   "cell_type": "markdown",
   "metadata": {},
   "source": [
    "### Evaluation Field"
   ]
  },
  {
   "cell_type": "code",
   "execution_count": null,
   "metadata": {},
   "outputs": [],
   "source": [
    "from inr4ssh._src.preprocess.spatial import convert_lon_360_180, convert_lon_180_360\n",
    "\n",
    "\n",
    "def post_process(ds, variable):\n",
    "    # correct coordinate labels\n",
    "    logger.info(\"Fixing coordinate labels...\")\n",
    "    ds = correct_coordinate_labels(ds)\n",
    "\n",
    "    # correct labels\n",
    "    logger.info(\"Fixing labels\")\n",
    "    ds = ds.rename({variable: \"ssh\"})\n",
    "\n",
    "    # correct longitude domain\n",
    "    logger.info(\"Fixing longitude domain\")\n",
    "    from inr4ssh._src.preprocess.spatial import convert_lon_360_180, convert_lon_180_360\n",
    "\n",
    "    ds[\"longitude\"] = convert_lon_360_180(ds.longitude)\n",
    "\n",
    "    # subset temporal space\n",
    "    ds = ds.sel(\n",
    "        time=slice(np.datetime64(\"2017-01-01\"), np.datetime64(\"2017-12-31\")),\n",
    "        # longitude=slice(-75.0, -45.0),\n",
    "        longitude=slice(convert_lon_360_180(295), convert_lon_360_180(305)),\n",
    "        latitude=slice(33.0, 43.0),\n",
    "    )\n",
    "\n",
    "    ds[\"longitude\"] = convert_lon_180_360(ds.longitude)\n",
    "\n",
    "    ds = ds.transpose(\"time\", \"latitude\", \"longitude\")\n",
    "\n",
    "    # regrid data\n",
    "    return ds"
   ]
  },
  {
   "cell_type": "code",
   "execution_count": null,
   "metadata": {},
   "outputs": [],
   "source": [
    "logger.info(\"Dataset I - DUACS\")\n",
    "url = \"/Volumes/EMANS_HDD/data/dc21b_ose/test_2/results/OSE_ssh_mapping_DUACS.nc\"\n",
    "ds_field = xr.open_dataset(url)\n",
    "\n",
    "ds_field = post_process(ds_field, \"ssh\")"
   ]
  },
  {
   "cell_type": "code",
   "execution_count": null,
   "metadata": {},
   "outputs": [],
   "source": [
    "ds_field"
   ]
  },
  {
   "cell_type": "markdown",
   "metadata": {},
   "source": [
    "### Example Results"
   ]
  },
  {
   "cell_type": "markdown",
   "metadata": {},
   "source": [
    "```bash\n",
    "!wget https://ige-meom-opendap.univ-grenoble-alpes.fr/thredds/fileServer/meomopendap/extract/ocean-data-challenges/dc_data1/dc_mapping/2020a_SSH_mapping_NATL60_MIOST_en_j1_tpn_g2.nc\n",
    "!wget https://ige-meom-opendap.univ-grenoble-alpes.fr/thredds/fileServer/meomopendap/extract/ocean-data-challenges/dc_data1/dc_mapping/2020a_SSH_mapping_NATL60_MIOST_swot_en_j1_tpn_g2.nc\n",
    "!wget https://ige-meom-opendap.univ-grenoble-alpes.fr/thredds/fileServer/meomopendap/extract/ocean-data-challenges/dc_data1/dc_mapping/2020a_SSH_mapping_NATL60_DUACS_en_j1_tpn_g2.nc\n",
    "!wget https://ige-meom-opendap.univ-grenoble-alpes.fr/thredds/fileServer/meomopendap/extract/ocean-data-challenges/dc_data1/dc_mapping/2020a_SSH_mapping_NATL60_DUACS_swot_en_j1_tpn_g2.nc\n",
    "!wget https://ige-meom-opendap.univ-grenoble-alpes.fr/thredds/fileServer/meomopendap/extract/ocean-data-challenges/dc_data1/dc_mapping/2020a_SSH_mapping_NATL60_4DVarNet_v2022_nadirswot_GF_GF.nc\n",
    "!wget https://ige-meom-opendap.univ-grenoble-alpes.fr/thredds/fileServer/meomopendap/extract/ocean-data-challenges/dc_data1/dc_mapping/2020a_SSH_mapping_NATL60_4DVarNet_v2022_nadir_GF_GF.nc\n",
    "!wget https://ige-meom-opendap.univ-grenoble-alpes.fr/thredds/fileServer/meomopendap/extract/ocean-data-challenges/dc_data1/dc_mapping/2020a_SSH_mapping_NATL60_BFN_Steady_State_QG1L_en_j1_tpn_g2.nc\n",
    "!wget https://ige-meom-opendap.univ-grenoble-alpes.fr/thredds/fileServer/meomopendap/extract/ocean-data-challenges/dc_data1/dc_mapping/2020a_SSH_mapping_NATL60_BFN_Steady_State_QG1L_swot_en_j1_tpn_g2.nc\n",
    "```"
   ]
  },
  {
   "cell_type": "code",
   "execution_count": null,
   "metadata": {},
   "outputs": [],
   "source": [
    "!ls /Volumes/EMANS_HDD/data/dc21b/results"
   ]
  },
  {
   "cell_type": "code",
   "execution_count": null,
   "metadata": {},
   "outputs": [],
   "source": [
    "# url = \"/Volumes/EMANS_HDD/data/dc20a_osse/results/nadir4/2020a_SSH_mapping_NATL60_DUACS_en_j1_tpn_g2.nc\"\n",
    "# # url =\n",
    "# ds_predict = xr.open_dataset(url)\n",
    "#\n",
    "# ds_predict"
   ]
  },
  {
   "cell_type": "markdown",
   "metadata": {},
   "source": [
    "## PostProcessing"
   ]
  },
  {
   "cell_type": "markdown",
   "metadata": {},
   "source": [
    "### Cleaning\n",
    "\n",
    "* Evaluation Period\n",
    "* Lat/Lon Labels\n",
    "* Longitude Range\n",
    "* Regridding"
   ]
  },
  {
   "cell_type": "code",
   "execution_count": null,
   "metadata": {},
   "outputs": [],
   "source": [
    "# url_nerf = \"/Users/eman/code_projects/logs/saved_data/test_dc21b_feb_pretrain.nc\"\n",
    "url_4dvarnet = (\n",
    "    \"/Volumes/EMANS_HDD/data/dc21b_ose/test_2/results/OSE_ssh_mapping_4dvarNet_2022.nc\"\n",
    ")\n",
    "url_bfn = \"/Volumes/EMANS_HDD/data/dc21b_ose/test_2/results/OSE_ssh_mapping_BFN.nc\"\n",
    "url_nerf = \"/Volumes/EMANS_HDD/data/dc21b/results/siren_136.nc\"\n",
    "url_duacs = \"/Volumes/EMANS_HDD/data/dc21b/results/OSE_ssh_mapping_MIOST.nc\"\n",
    "url_miost = \"/Volumes/EMANS_HDD/data/dc21b/results/OSE_ssh_mapping_MIOST.nc\""
   ]
  },
  {
   "cell_type": "code",
   "execution_count": null,
   "metadata": {},
   "outputs": [],
   "source": [
    "from inr4ssh._src.preprocess.spatial import convert_lon_360_180, convert_lon_180_360\n",
    "\n",
    "logger.info(\"Dataset II - BASELINE\")\n",
    "\n",
    "ds_predict = xr.open_dataset(url_duacs)\n",
    "ds_predict = post_process(ds_predict, \"ssh\")\n",
    "ds_field[\"ssh_oi\"] = oi_regrid(ds_predict[\"ssh\"], ds_field[\"ssh\"])\n",
    "\n",
    "logger.info(\"Dataset III - MIOST\")\n",
    "\n",
    "ds_predict = xr.open_dataset(url_miost)\n",
    "ds_predict = post_process(ds_predict, \"ssh\")\n",
    "ds_field[\"ssh_miost\"] = oi_regrid(ds_predict[\"ssh\"], ds_field[\"ssh\"])\n",
    "\n",
    "logger.info(\"Dataset IV - NerF\")\n",
    "\n",
    "ds_predict = xr.open_dataset(url_nerf)\n",
    "ds_predict = post_process(ds_predict, \"ssh\")\n",
    "ds_field[\"ssh_nerf\"] = oi_regrid(ds_predict[\"ssh\"], ds_field[\"ssh\"])\n",
    "\n",
    "# ds_field"
   ]
  },
  {
   "cell_type": "code",
   "execution_count": null,
   "metadata": {},
   "outputs": [],
   "source": [
    "ds_field"
   ]
  },
  {
   "cell_type": "code",
   "execution_count": null,
   "metadata": {},
   "outputs": [],
   "source": [
    "# url = \"/Users/eman/code_projects/logs/saved_data/test_alongtrack.nc\"\n",
    "# url = \"/Volumes/EMANS_HDD/data/dc21b_ose/test_2/results/OSE_ssh_mapping_4dvarNet_2022.nc\"\n",
    "# filename = \"/Volumes/EMANS_HDD/data/dc21b_ose/test_2/ml_ready/test.nc\"\n",
    "filename = \"/Volumes/EMANS_HDD/data/dc21b/test/dt_gulfstream_c2_phy_l3_20161201-20180131_285-315_23-53.nc\"\n",
    "ds_alongtrack = xr.open_dataset(filename, engine=\"netcdf4\")\n",
    "\n",
    "ds_alongtrack = correct_coordinate_labels(ds_alongtrack)\n",
    "# ds_alongtrack[\"longitude\"] = convert_lon_360_180(ds_alongtrack.longitude)\n",
    "ds_alongtrack[\"longitude\"] = convert_lon_360_180(ds_alongtrack.longitude)\n",
    "\n",
    "ds_alongtrack[\"ssh\"] = (\n",
    "    ds_alongtrack[\"sla_unfiltered\"] + ds_alongtrack[\"mdt\"] - ds_alongtrack[\"lwe\"]\n",
    ")\n",
    "ds_alongtrack"
   ]
  },
  {
   "cell_type": "code",
   "execution_count": null,
   "metadata": {},
   "outputs": [],
   "source": [
    "# from tqdm.notebook import tqdm\n",
    "# variables = [\n",
    "#     \"ssh\",\n",
    "#     \"ssh_oi\",\n",
    "#     \"ssh_miost\",\n",
    "#     \"ssh_nerf\"\n",
    "# ]\n",
    "#\n",
    "# logger.info(\"Calculating Kinetic Energy...\")\n",
    "# for ivar in tqdm(variables):\n",
    "#     ds_field[f\"{ivar}_ke\"] = calculate_gradient(ds_field[ivar], \"longitude\", \"latitude\")\n",
    "#\n",
    "# logger.info(\"Calculating Enstropy...\")\n",
    "# for ivar in tqdm(variables):\n",
    "#     ds_field[f\"{ivar}_ens\"] = 0.5 * calculate_laplacian(ds_field[ivar], \"longitude\", \"latitude\")**2"
   ]
  },
  {
   "cell_type": "markdown",
   "metadata": {},
   "source": [
    "## Metrics - Isotropic PSD"
   ]
  },
  {
   "cell_type": "code",
   "execution_count": null,
   "metadata": {},
   "outputs": [],
   "source": [
    "from inr4ssh._src.metrics.psd import compute_psd_scores, select_track_segments\n",
    "from inr4ssh._src.interp import interp_on_alongtrack\n",
    "from inr4ssh._src.preprocess.spatial import convert_lon_360_180, convert_lon_180_360"
   ]
  },
  {
   "cell_type": "code",
   "execution_count": null,
   "metadata": {},
   "outputs": [],
   "source": [
    "# ds_field[\"longitude\"] = convert_lon_180_360(ds_field.longitude)\n",
    "ds_alongtrack[\"longitude\"] = convert_lon_180_360(ds_alongtrack.longitude)"
   ]
  },
  {
   "cell_type": "code",
   "execution_count": null,
   "metadata": {},
   "outputs": [],
   "source": [
    "ds_alongtrack"
   ]
  },
  {
   "cell_type": "markdown",
   "metadata": {},
   "source": [
    "        time=slice(\n",
    "            np.datetime64(\"2017-02-01\"), np.datetime64(\"2017-03-31\")\n",
    "        ),\n",
    "        longitude=slice(-75.0, -45.0),\n",
    "        latitude=slice(33.0, 53.0)"
   ]
  },
  {
   "cell_type": "code",
   "execution_count": null,
   "metadata": {},
   "outputs": [],
   "source": [
    "from tqdm.notebook import tqdm\n",
    "\n",
    "urls = [\n",
    "    \"/Volumes/EMANS_HDD/data/dc21b_ose/test_2/results/OSE_ssh_mapping_DUACS.nc\",\n",
    "    # \"/Volumes/EMANS_HDD/data/dc21b/results/siren_136.nc\",\n",
    "    \"/Users/eman/code_projects/logs/saved_data/test_dc21b_feb_pretrain.nc\",\n",
    "    \"/Volumes/EMANS_HDD/data/dc21b_ose/test_2/results/OSE_ssh_mapping_BASELINE.nc\",\n",
    "    \"/Volumes/EMANS_HDD/data/dc21b_ose/test_2/results/OSE_ssh_mapping_MIOST.nc\",\n",
    "]\n",
    "names = [\"duacs\", \"nerf\", \"oi\", \"miost\"]\n",
    "\n",
    "psd_metrics = {}\n",
    "\n",
    "for iurl, iname in tqdm(list(zip(urls, names))):\n",
    "    ds_predict = xr.open_dataset(iurl, engine=\"netcdf4\")\n",
    "\n",
    "    ds_predict = post_process(ds_predict, \"ssh\")\n",
    "\n",
    "    alongtracks = interp_on_alongtrack(\n",
    "        gridded_dataset=ds_predict,\n",
    "        ds_alongtrack=ds_alongtrack,\n",
    "        lon_min=295,  # convert_lon_180_360(-75.0),\n",
    "        lon_max=305,  # convert_lon_180_360(-45.0),\n",
    "        lat_min=33.0,\n",
    "        lat_max=43.0,\n",
    "        time_min=\"2017-01-01\",\n",
    "        time_max=\"2017-12-31\",\n",
    "        variable=\"ssh\",\n",
    "    )\n",
    "\n",
    "    tracks = select_track_segments(\n",
    "        time_alongtrack=alongtracks.time,\n",
    "        lat_alongtrack=alongtracks.lat,\n",
    "        lon_alongtrack=convert_lon_360_180(alongtracks.lon),\n",
    "        ssh_alongtrack=alongtracks.ssh_alongtrack,\n",
    "        ssh_map_interp=alongtracks.ssh_map,\n",
    "    )\n",
    "\n",
    "    psd_metrics[iname] = compute_psd_scores(\n",
    "        ssh_true=tracks.ssh_alongtrack,\n",
    "        ssh_pred=tracks.ssh_map,\n",
    "        delta_x=6.77 * 0.9434,\n",
    "        npt=tracks.npt,\n",
    "        scaling=\"density\",\n",
    "        noverlap=0,\n",
    "    )"
   ]
  },
  {
   "cell_type": "code",
   "execution_count": null,
   "metadata": {},
   "outputs": [],
   "source": [
    "import seaborn as sns\n",
    "\n",
    "sns.set_context(context=\"talk\", font_scale=0.7)\n",
    "\n",
    "fig, ax, secax = plot_psd_isotropic(\n",
    "    psd_metrics[\"duacs\"].wavenumber,\n",
    "    psd_metrics[\"duacs\"].psd_ref,\n",
    "    color=\"black\",\n",
    "    linestyle=\"-\",\n",
    ")\n",
    "\n",
    "# ax.plot(\n",
    "#     psd_metrics[\"oi\"].wavenumber,\n",
    "#     psd_metrics[\"oi\"].psd_study,\n",
    "#     color=\"black\",\n",
    "#     linestyle=\"--\",\n",
    "# )\n",
    "\n",
    "ax.plot(\n",
    "    psd_metrics[\"duacs\"].wavenumber,\n",
    "    psd_metrics[\"duacs\"].psd_study,\n",
    "    color=\"tab:green\",\n",
    "    linestyle=\"-\",\n",
    ")\n",
    "\n",
    "ax.plot(\n",
    "    psd_metrics[\"miost\"].wavenumber,\n",
    "    psd_metrics[\"miost\"].psd_study,\n",
    "    color=\"tab:blue\",\n",
    "    linestyle=\"-\",\n",
    ")\n",
    "ax.plot(\n",
    "    psd_metrics[\"nerf\"].wavenumber,\n",
    "    psd_metrics[\"nerf\"].psd_study,\n",
    "    color=\"tab:red\",\n",
    "    linestyle=\"-\",\n",
    ")\n",
    "\n",
    "ax.set_xlim((10e-4, 10e-2))\n",
    "plt.legend([\"Reference\", \"DUACS\", \"MIOST\", \"NerF\"])\n",
    "plt.tight_layout()\n",
    "fig.savefig(Path(root).joinpath(\"figures/dc21a_psd_iso_alongtrack.png\"))\n",
    "plt.show()"
   ]
  },
  {
   "cell_type": "code",
   "execution_count": null,
   "metadata": {},
   "outputs": [],
   "source": [
    "from inr4ssh._src.viz.psd.psd import plot_psd_score"
   ]
  },
  {
   "cell_type": "code",
   "execution_count": null,
   "metadata": {},
   "outputs": [],
   "source": [
    "# plot_psd_score(\n",
    "#     psd_metrics[\"miost\"].psd_diff,\n",
    "#     psd_metrics[\"miost\"].psd_ref,\n",
    "#     psd_metrics[\"miost\"].wavenumber,\n",
    "#     psd_metrics[\"miost\"].resolved_scale\n",
    "# )"
   ]
  },
  {
   "cell_type": "code",
   "execution_count": null,
   "metadata": {},
   "outputs": [],
   "source": [
    "# plot_psd_score(\n",
    "#     psd_metrics[\"nerf\"].psd_diff,\n",
    "#     psd_metrics[\"nerf\"].psd_ref,\n",
    "#     psd_metrics[\"nerf\"].wavenumber,\n",
    "#     psd_metrics[\"nerf\"].resolved_scale\n",
    "# )"
   ]
  },
  {
   "cell_type": "code",
   "execution_count": null,
   "metadata": {},
   "outputs": [],
   "source": [
    "# plot_psd_score(\n",
    "#     psd_metrics[\"oi\"].psd_diff,\n",
    "#     psd_metrics[\"oi\"].psd_ref,\n",
    "#     psd_metrics[\"oi\"].wavenumber,\n",
    "#     psd_metrics[\"oi\"].resolved_scale\n",
    "# )"
   ]
  },
  {
   "cell_type": "code",
   "execution_count": null,
   "metadata": {},
   "outputs": [],
   "source": [
    "variables = [\"duacs\", \"miost\", \"nerf\"]\n",
    "colours = [\"tab:green\", \"tab:blue\", \"tab:red\"]\n",
    "linestyle = [\"-\", \"-\", \"-\", \"-\"]\n",
    "\n",
    "\n",
    "ax = None\n",
    "\n",
    "for ivariable, icolour, ilinestyle in tqdm(list(zip(variables, colours, linestyle))):\n",
    "    x = psd_metrics[ivariable].wavenumber\n",
    "    y = 1.0 - (psd_metrics[ivariable].psd_diff / psd_metrics[ivariable].psd_ref)\n",
    "    fig, ax, secax = plot_psd_isotropic(\n",
    "        x,\n",
    "        y,\n",
    "        ax=ax,\n",
    "        color=icolour,\n",
    "        linestyle=\"-\",\n",
    "    )\n",
    "\n",
    "    ax.set(ylabel=\"PSD Score\", yscale=\"linear\")\n",
    "    plt.ylim((0, 1.0))\n",
    "    plt.xlim((10e-4, 10e-2))\n",
    "\n",
    "    print(\n",
    "        f\"Shortest Spatial Wavelength Resolved [{ivariable}] = {psd_metrics[ivariable].resolved_scale:.2f} (km)\"\n",
    "    )\n",
    "\n",
    "    # plot the resolved point\n",
    "    resolved_scale = 1 / psd_metrics[ivariable].resolved_scale\n",
    "\n",
    "    ax.vlines(\n",
    "        x=resolved_scale, ymin=0, ymax=0.5, color=icolour, linewidth=2, linestyle=\"--\"\n",
    "    )\n",
    "    ax.hlines(\n",
    "        y=0.5,\n",
    "        xmin=10e-4,\n",
    "        xmax=resolved_scale,\n",
    "        color=icolour,\n",
    "        linewidth=2,\n",
    "        linestyle=\"--\",\n",
    "    )\n",
    "\n",
    "    label = f\"{ivariable.upper()} - $\\lambda$ > {int(psd_metrics[ivariable].resolved_scale):.0f} km\"\n",
    "    # idx = np.argwhere(np.diff(np.sign(x - y))-0.5).flatten()\n",
    "    # ax.plot(x[idx], y[idx])\n",
    "    plt.scatter(\n",
    "        resolved_scale,\n",
    "        0.5,\n",
    "        color=icolour,\n",
    "        marker=\".\",\n",
    "        linewidth=5,\n",
    "        label=label,\n",
    "        zorder=5,\n",
    "    )\n",
    "plt.legend()\n",
    "plt.tight_layout()\n",
    "fig.savefig(Path(root).joinpath(\"figures/dc21a_psd_iso_score_alongtrack.png\"))\n",
    "plt.show()"
   ]
  },
  {
   "cell_type": "code",
   "execution_count": null,
   "metadata": {},
   "outputs": [],
   "source": []
  }
 ],
 "metadata": {
  "kernelspec": {
   "display_name": "Python 3.9.13 ('torch_py39')",
   "language": "python",
   "name": "python3"
  },
  "language_info": {
   "codemirror_mode": {
    "name": "ipython",
    "version": 3
   },
   "file_extension": ".py",
   "mimetype": "text/x-python",
   "name": "python",
   "nbconvert_exporter": "python",
   "pygments_lexer": "ipython3",
   "version": "3.9.13"
  },
  "vscode": {
   "interpreter": {
    "hash": "ba845ae818c285ca2fe9389acfa2d2da9f6f964e42b65478d402ad448a072775"
   }
  }
 },
 "nbformat": 4,
 "nbformat_minor": 2
}
