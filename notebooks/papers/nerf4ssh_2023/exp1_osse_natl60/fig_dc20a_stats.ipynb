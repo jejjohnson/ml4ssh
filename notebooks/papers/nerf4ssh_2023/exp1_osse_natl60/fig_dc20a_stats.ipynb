{
 "cells": [
  {
   "cell_type": "markdown",
   "metadata": {},
   "source": [
    "# Figure - RMSE Stats"
   ]
  },
  {
   "cell_type": "code",
   "execution_count": null,
   "metadata": {},
   "outputs": [],
   "source": [
    "import sys, os\n",
    "from pyprojroot import here\n",
    "\n",
    "# spyder up to find the root\n",
    "root = here(project_files=[\".root\"])\n",
    "\n",
    "\n",
    "# append to path\n",
    "sys.path.append(str(root))"
   ]
  },
  {
   "cell_type": "code",
   "execution_count": null,
   "metadata": {},
   "outputs": [],
   "source": [
    "from pathlib import Path\n",
    "import numpy as np\n",
    "import pandas as pd\n",
    "import xarray as xr\n",
    "import matplotlib.pyplot as plt\n",
    "import seaborn as sns\n",
    "\n",
    "sns.reset_defaults()\n",
    "sns.set_context(context=\"talk\", font_scale=0.7)\n",
    "\n",
    "import hvplot.xarray\n",
    "import hvplot.pandas\n",
    "\n",
    "from inr4ssh._src.operators.finite_diff import calculate_gradient, calculate_laplacian\n",
    "from inr4ssh._src.preprocess.subset import temporal_subset, spatial_subset\n",
    "from inr4ssh._src.preprocess.coords import (\n",
    "    correct_coordinate_labels,\n",
    "    correct_longitude_domain,\n",
    ")\n",
    "from inr4ssh._src.data.ssh_obs import load_ssh_altimetry_data_train\n",
    "\n",
    "from inr4ssh._src.preprocess.coords import correct_coordinate_labels\n",
    "\n",
    "# from inr4ssh._src.preprocess.obs import bin_observations\n",
    "from inr4ssh._src.viz.movie import create_movie\n",
    "from inr4ssh._src.metrics.psd import psd_isotropic\n",
    "from inr4ssh._src.viz.psd.isotropic import plot_psd_isotropic\n",
    "from inr4ssh._src.viz.obs import plot_obs_demo\n",
    "from inr4ssh._src.metrics.psd import psd_spacetime, psd_spacetime_dask\n",
    "from inr4ssh._src.viz.psd.spacetime import (\n",
    "    plot_psd_spacetime_wavelength,\n",
    "    plot_psd_spacetime_wavenumber,\n",
    ")\n",
    "from inr4ssh._src.viz.psd.spacetime import (\n",
    "    plot_psd_spacetime_score_wavelength,\n",
    "    plot_psd_spacetime_score_wavenumber,\n",
    ")\n",
    "\n",
    "from loguru import logger\n",
    "\n",
    "%matplotlib inline\n",
    "%load_ext autoreload\n",
    "%autoreload 2"
   ]
  },
  {
   "cell_type": "markdown",
   "metadata": {},
   "source": [
    "## Data"
   ]
  },
  {
   "cell_type": "markdown",
   "metadata": {},
   "source": [
    "### Evaluation Field"
   ]
  },
  {
   "cell_type": "code",
   "execution_count": null,
   "metadata": {},
   "outputs": [],
   "source": [
    "url = \"/Volumes/EMANS_HDD/data/dc20a_osse/raw/dc_ref/NATL60-CJM165_GULFSTREAM_*.nc\"\n",
    "\n",
    "\n",
    "def preprocess(ds):\n",
    "    # subset time\n",
    "    # ds = ds.sel(time=slice(np.datetime64(\"2012-10-22\"), np.datetime64(\"2012-12-02\")))\n",
    "\n",
    "    # ds = ds.coarsen({\"lon\": 5, \"lat\": 5}).mean()\n",
    "\n",
    "    ds = ds.resample(time=\"1D\").mean()\n",
    "    return ds\n",
    "\n",
    "\n",
    "ds_field = xr.open_mfdataset(url, preprocess=preprocess)\n",
    "\n",
    "ds_field"
   ]
  },
  {
   "cell_type": "markdown",
   "metadata": {},
   "source": [
    "### Example Results"
   ]
  },
  {
   "cell_type": "code",
   "execution_count": null,
   "metadata": {},
   "outputs": [],
   "source": [
    "def post_process(ds, variable):\n",
    "    # subset temporal space\n",
    "    ds = ds.sel(time=slice(np.datetime64(\"2012-10-22\"), np.datetime64(\"2012-12-02\")))\n",
    "\n",
    "    # correct coordinate labels\n",
    "    logger.info(\"Fixing coordinate labels...\")\n",
    "    ds = correct_coordinate_labels(ds)\n",
    "\n",
    "    # correct labels\n",
    "    logger.info(\"Fixing labels\")\n",
    "    ds = ds.rename({variable: \"ssh\"})\n",
    "\n",
    "    # correct longitude domain\n",
    "    logger.info(\"Fixing longitude domain\")\n",
    "    ds = correct_longitude_domain(ds)\n",
    "\n",
    "    ds = ds.transpose(\"time\", \"latitude\", \"longitude\")\n",
    "\n",
    "    # regrid data\n",
    "    return ds"
   ]
  },
  {
   "cell_type": "code",
   "execution_count": null,
   "metadata": {},
   "outputs": [],
   "source": [
    "ds_field = post_process(ds_field, \"sossheig\")\n",
    "ds_field"
   ]
  },
  {
   "cell_type": "markdown",
   "metadata": {},
   "source": [
    "```bash\n",
    "!wget https://ige-meom-opendap.univ-grenoble-alpes.fr/thredds/fileServer/meomopendap/extract/ocean-data-challenges/dc_data1/dc_mapping/2020a_SSH_mapping_NATL60_MIOST_en_j1_tpn_g2.nc\n",
    "!wget https://ige-meom-opendap.univ-grenoble-alpes.fr/thredds/fileServer/meomopendap/extract/ocean-data-challenges/dc_data1/dc_mapping/2020a_SSH_mapping_NATL60_MIOST_swot_en_j1_tpn_g2.nc\n",
    "!wget https://ige-meom-opendap.univ-grenoble-alpes.fr/thredds/fileServer/meomopendap/extract/ocean-data-challenges/dc_data1/dc_mapping/2020a_SSH_mapping_NATL60_DUACS_en_j1_tpn_g2.nc\n",
    "!wget https://ige-meom-opendap.univ-grenoble-alpes.fr/thredds/fileServer/meomopendap/extract/ocean-data-challenges/dc_data1/dc_mapping/2020a_SSH_mapping_NATL60_DUACS_swot_en_j1_tpn_g2.nc\n",
    "!wget https://ige-meom-opendap.univ-grenoble-alpes.fr/thredds/fileServer/meomopendap/extract/ocean-data-challenges/dc_data1/dc_mapping/2020a_SSH_mapping_NATL60_4DVarNet_v2022_nadirswot_GF_GF.nc\n",
    "!wget https://ige-meom-opendap.univ-grenoble-alpes.fr/thredds/fileServer/meomopendap/extract/ocean-data-challenges/dc_data1/dc_mapping/2020a_SSH_mapping_NATL60_4DVarNet_v2022_nadir_GF_GF.nc\n",
    "!wget https://ige-meom-opendap.univ-grenoble-alpes.fr/thredds/fileServer/meomopendap/extract/ocean-data-challenges/dc_data1/dc_mapping/2020a_SSH_mapping_NATL60_BFN_Steady_State_QG1L_en_j1_tpn_g2.nc\n",
    "!wget https://ige-meom-opendap.univ-grenoble-alpes.fr/thredds/fileServer/meomopendap/extract/ocean-data-challenges/dc_data1/dc_mapping/2020a_SSH_mapping_NATL60_BFN_Steady_State_QG1L_swot_en_j1_tpn_g2.nc\n",
    "```"
   ]
  },
  {
   "cell_type": "code",
   "execution_count": null,
   "metadata": {},
   "outputs": [],
   "source": [
    "!ls /Volumes/EMANS_HDD/data/dc20a_osse/results/nadir4/"
   ]
  },
  {
   "cell_type": "code",
   "execution_count": null,
   "metadata": {},
   "outputs": [],
   "source": [
    "url = \"/Volumes/EMANS_HDD/data/dc20a_osse/results/nadir4/2020a_SSH_mapping_NATL60_DUACS_en_j1_tpn_g2.nc\"\n",
    "ds_predict = xr.open_dataset(url)\n",
    "\n",
    "ds_predict"
   ]
  },
  {
   "cell_type": "markdown",
   "metadata": {},
   "source": [
    "## PostProcessing"
   ]
  },
  {
   "cell_type": "markdown",
   "metadata": {},
   "source": [
    "### Cleaning\n",
    "\n",
    "* Evaluation Period\n",
    "* Lat/Lon Labels\n",
    "* Longitude Range\n",
    "* Regridding"
   ]
  },
  {
   "cell_type": "code",
   "execution_count": null,
   "metadata": {},
   "outputs": [],
   "source": [
    "from inr4ssh._src.preprocess.regrid import oi_regrid\n",
    "\n",
    "logger.info(\"Dataset I - MIOST\")\n",
    "url = \"/Volumes/EMANS_HDD/data/dc20a_osse/results/nadir4/2020a_SSH_mapping_NATL60_MIOST_en_j1_tpn_g2.nc\"\n",
    "ds_predict = xr.open_dataset(url)\n",
    "\n",
    "ds_predict = post_process(ds_predict, \"gssh\")\n",
    "\n",
    "ds_field[\"ssh_miost\"] = oi_regrid(ds_predict[\"ssh\"], ds_field[\"ssh\"])\n",
    "\n",
    "logger.info(\"Dataset II - DUACS\")\n",
    "url = \"/Volumes/EMANS_HDD/data/dc20a_osse/results/nadir4/2020a_SSH_mapping_NATL60_DUACS_en_j1_tpn_g2.nc\"\n",
    "ds_predict = xr.open_dataset(url)\n",
    "\n",
    "ds_predict = post_process(ds_predict, \"gssh\")\n",
    "\n",
    "ds_field[\"ssh_duacs\"] = oi_regrid(ds_predict[\"ssh\"], ds_field[\"ssh\"])\n",
    "\n",
    "logger.info(\"Dataset II - SIREN\")\n",
    "# url = \"/Users/eman/code_projects/logs/saved_data/test_res_nadir4_lb.nc\"\n",
    "url = \"/Users/eman/code_projects/logs/saved_data/test_res_nadir4_jz.nc\"\n",
    "ds_predict = xr.open_dataset(url)\n",
    "\n",
    "\n",
    "ds_predict = post_process(ds_predict, \"ssh_model_predict\")\n",
    "\n",
    "ds_field[\"ssh_nerf\"] = oi_regrid(ds_predict[\"ssh\"], ds_field[\"ssh\"])"
   ]
  },
  {
   "cell_type": "markdown",
   "metadata": {},
   "source": [
    "## Metric I - RMSE"
   ]
  },
  {
   "cell_type": "code",
   "execution_count": null,
   "metadata": {},
   "outputs": [],
   "source": [
    "from inr4ssh._src.metrics.field.stats import nrmse_spacetime, rmse_space, nrmse_time"
   ]
  },
  {
   "cell_type": "code",
   "execution_count": null,
   "metadata": {},
   "outputs": [],
   "source": [
    "nrmse_xyt = nrmse_spacetime(ds_field[\"ssh\"], ds_field[\"ssh_duacs\"]).values\n",
    "print(f\"Leaderboard SSH RMSE score [DUACS] =  {nrmse_xyt:.2f}\")\n",
    "nrmse_xyt = nrmse_spacetime(ds_field[\"ssh\"], ds_field[\"ssh_miost\"]).values\n",
    "print(f\"Leaderboard SSH RMSE score [MIOST] =  {nrmse_xyt:.2f}\")\n",
    "nrmse_xyt = nrmse_spacetime(ds_field[\"ssh\"], ds_field[\"ssh_nerf\"]).values\n",
    "print(f\"Leaderboard SSH RMSE score [NerF] =  {nrmse_xyt:.2f}\")"
   ]
  },
  {
   "cell_type": "markdown",
   "metadata": {},
   "source": [
    "#### Error Variability (Temporal)"
   ]
  },
  {
   "cell_type": "code",
   "execution_count": null,
   "metadata": {},
   "outputs": [],
   "source": [
    "rmse_t = {}\n",
    "rmse_t[\"duacs\"] = nrmse_time(ds_field[\"ssh_duacs\"], ds_field[\"ssh\"])\n",
    "err_var_time = rmse_t[\"duacs\"].std().values\n",
    "print(f\"Error Variability [DUACS] =  {err_var_time:.2f}\")\n",
    "rmse_t[\"miost\"] = nrmse_time(ds_field[\"ssh_miost\"], ds_field[\"ssh\"])\n",
    "err_var_time = rmse_t[\"miost\"].std().values\n",
    "print(f\"Error Variability [MIOST] =  {err_var_time:.2f}\")\n",
    "rmse_t[\"nerf\"] = nrmse_time(ds_field[\"ssh_nerf\"], ds_field[\"ssh\"])\n",
    "err_var_time = rmse_t[\"nerf\"].std().values\n",
    "print(f\"Error Variability [NerF] =  {err_var_time:.2f}\")"
   ]
  },
  {
   "cell_type": "code",
   "execution_count": null,
   "metadata": {},
   "outputs": [],
   "source": [
    "fig, ax = plt.subplots()\n",
    "\n",
    "\n",
    "rmse_t[\"duacs\"].plot(ax=ax, label=\"DUACS\", color=\"tab:green\")\n",
    "rmse_t[\"miost\"].plot(ax=ax, label=\"MIOST\", color=\"tab:blue\")\n",
    "rmse_t[\"nerf\"].plot(ax=ax, label=\"NerF\", color=\"tab:red\")\n",
    "\n",
    "ax.set(xlabel=\"Time\", ylabel=\"nRMSE\")\n",
    "ax.set_ylim((0.75, 1.0))\n",
    "plt.legend()\n",
    "plt.tight_layout()\n",
    "fig.savefig(Path(root).joinpath(f\"figures/osse_2020a_stats_nrsme.png\"))\n",
    "plt.show()"
   ]
  },
  {
   "cell_type": "markdown",
   "metadata": {},
   "source": [
    "#### Error Variability (Spatial)"
   ]
  },
  {
   "cell_type": "code",
   "execution_count": null,
   "metadata": {},
   "outputs": [],
   "source": [
    "rmse_xy = rmse_space(ds_field[\"ssh_predict\"], ds_field[\"ssh\"])\n",
    "err_var_space = rmse_xy.std().values\n",
    "print(f\"Error Variability (Spatial)=  {err_var_space:.2f}\")"
   ]
  },
  {
   "cell_type": "code",
   "execution_count": null,
   "metadata": {},
   "outputs": [],
   "source": [
    "fig, ax = plt.subplots()\n",
    "\n",
    "rmse_xy.T.plot.imshow(ax=ax)\n",
    "\n",
    "plt.tight_layout()\n",
    "plt.show()"
   ]
  },
  {
   "cell_type": "markdown",
   "metadata": {},
   "source": [
    "## Multivariate Statistics"
   ]
  },
  {
   "cell_type": "code",
   "execution_count": null,
   "metadata": {},
   "outputs": [],
   "source": [
    "from hyppo.independence import RV\n",
    "from hyppo.d_variate import dHsic\n",
    "from hyppo.ksample import Energy"
   ]
  },
  {
   "cell_type": "code",
   "execution_count": null,
   "metadata": {},
   "outputs": [],
   "source": [
    "from tqdm.notebook import tqdm\n",
    "\n",
    "times = []\n",
    "stats_dict = {\n",
    "    \"rv\": list(),\n",
    "    \"rvd\": list(),\n",
    "    \"hsic\": list(),\n",
    "    \"energy\": list(),\n",
    "}\n",
    "stats = {\n",
    "    \"duacs\": {\n",
    "        \"rv\": list(),\n",
    "        \"rvd\": list(),\n",
    "        \"hsic\": list(),\n",
    "        \"energy\": list(),\n",
    "    },\n",
    "    \"miost\": {\n",
    "        \"rv\": list(),\n",
    "        \"rvd\": list(),\n",
    "        \"hsic\": list(),\n",
    "        \"energy\": list(),\n",
    "    },\n",
    "    \"nerf\": {\n",
    "        \"rv\": list(),\n",
    "        \"rvd\": list(),\n",
    "        \"hsic\": list(),\n",
    "        \"energy\": list(),\n",
    "    },\n",
    "}\n",
    "\n",
    "with tqdm(ds_field.groupby(\"time\")) as pbar:\n",
    "    for idata in pbar:\n",
    "        # do statistic\n",
    "        pbar.set_description(f\"RV Coeff [DUACS]...\")\n",
    "        stats[\"duacs\"][\"rv\"].append(\n",
    "            RV().statistic(\n",
    "                idata[1][\"ssh\"].values.flatten()[:, None],\n",
    "                idata[1][\"ssh_duacs\"].values.flatten()[:, None],\n",
    "            )\n",
    "        )\n",
    "        pbar.set_description(f\"RV Coeff [DUACS]...\")\n",
    "        stats[\"miost\"][\"rv\"].append(\n",
    "            RV().statistic(\n",
    "                idata[1][\"ssh\"].values.flatten()[:, None],\n",
    "                idata[1][\"ssh_nerf\"].values.flatten()[:, None],\n",
    "            )\n",
    "        )\n",
    "        pbar.set_description(f\"RV Coeff [NerF]...\")\n",
    "        stats[\"nerf\"][\"rv\"].append(\n",
    "            RV().statistic(\n",
    "                idata[1][\"ssh\"].values.flatten()[:, None],\n",
    "                idata[1][\"ssh_nerf\"].values.flatten()[:, None],\n",
    "            )\n",
    "        )\n",
    "\n",
    "        # do statistic\n",
    "        pbar.set_description(f\"Spatial RV Coeff [DUACS]...\")\n",
    "        stats[\"duacs\"][\"rvd\"].append(\n",
    "            RV().statistic(idata[1][\"ssh\"].values, idata[1][\"ssh_duacs\"].values)\n",
    "        )\n",
    "        pbar.set_description(f\"Spatial RV Coeff [MIOST]...\")\n",
    "        stats[\"miost\"][\"rvd\"].append(\n",
    "            RV().statistic(idata[1][\"ssh\"].values, idata[1][\"ssh_miost\"].values)\n",
    "        )\n",
    "        pbar.set_description(f\"Spatial RV Coeff [NerF]...\")\n",
    "        stats[\"nerf\"][\"rvd\"].append(\n",
    "            RV().statistic(idata[1][\"ssh\"].values, idata[1][\"ssh_nerf\"].values)\n",
    "        )\n",
    "        # stats[\"energy\"].append(\n",
    "        #     Energy().statistic(idata[1][\"ssh\"].values, idata[1][\"ssh_predict\"].values)\n",
    "        # )\n",
    "        pbar.set_description(f\"nHSIC [DUACS]...\")\n",
    "        stats[\"duacs\"][\"hsic\"].append(\n",
    "            dHsic().statistic(idata[1][\"ssh\"].values, idata[1][\"ssh_duacs\"].values)\n",
    "            / (\n",
    "                np.sqrt(\n",
    "                    dHsic().statistic(idata[1][\"ssh\"].values, idata[1][\"ssh\"].values)\n",
    "                )\n",
    "                * np.sqrt(\n",
    "                    dHsic().statistic(\n",
    "                        idata[1][\"ssh_duacs\"].values, idata[1][\"ssh_duacs\"].values\n",
    "                    )\n",
    "                )\n",
    "            )\n",
    "        )\n",
    "        pbar.set_description(f\"nHSIC [MIOST]...\")\n",
    "        stats[\"miost\"][\"hsic\"].append(\n",
    "            dHsic().statistic(idata[1][\"ssh\"].values, idata[1][\"ssh_miost\"].values)\n",
    "            / (\n",
    "                np.sqrt(\n",
    "                    dHsic().statistic(idata[1][\"ssh\"].values, idata[1][\"ssh\"].values)\n",
    "                )\n",
    "                * np.sqrt(\n",
    "                    dHsic().statistic(\n",
    "                        idata[1][\"ssh_miost\"].values, idata[1][\"ssh_miost\"].values\n",
    "                    )\n",
    "                )\n",
    "            )\n",
    "        )\n",
    "        pbar.set_description(f\"nHSIC [NerF]...\")\n",
    "        stats[\"nerf\"][\"hsic\"].append(\n",
    "            dHsic().statistic(idata[1][\"ssh\"].values, idata[1][\"ssh_nerf\"].values)\n",
    "            / (\n",
    "                np.sqrt(\n",
    "                    dHsic().statistic(idata[1][\"ssh\"].values, idata[1][\"ssh\"].values)\n",
    "                )\n",
    "                * np.sqrt(\n",
    "                    dHsic().statistic(\n",
    "                        idata[1][\"ssh_nerf\"].values, idata[1][\"ssh_nerf\"].values\n",
    "                    )\n",
    "                )\n",
    "            )\n",
    "        )\n",
    "        times.append(idata[0])"
   ]
  },
  {
   "cell_type": "code",
   "execution_count": null,
   "metadata": {},
   "outputs": [],
   "source": [
    "fig, ax = plt.subplots()\n",
    "\n",
    "ax.plot(ds_field.time.values, stats[\"duacs\"][\"rv\"], label=\"DUACS\", color=\"tab:green\")\n",
    "ax.plot(ds_field.time.values, stats[\"miost\"][\"rv\"], label=\"MIOST\", color=\"tab:blue\")\n",
    "ax.plot(ds_field.time.values, stats[\"nerf\"][\"rv\"], label=\"NerF\", color=\"tab:red\")\n",
    "\n",
    "ax.set_ylim((0.75, 1.0))\n",
    "plt.xticks(rotation=45)\n",
    "# ax.set_yscale(\"log\")\n",
    "plt.tight_layout()\n",
    "plt.show()"
   ]
  },
  {
   "cell_type": "code",
   "execution_count": null,
   "metadata": {},
   "outputs": [],
   "source": [
    "fig, ax = plt.subplots()\n",
    "\n",
    "ax.plot(times, stats[\"duacs\"][\"rvd\"], label=\"DUACS\", color=\"tab:green\")\n",
    "ax.plot(times, stats[\"miost\"][\"rvd\"], label=\"MIOST\", color=\"tab:blue\")\n",
    "ax.plot(times, stats[\"nerf\"][\"rvd\"], label=\"NerF\", color=\"tab:red\")\n",
    "ax.set_ylim((0.90, 1.0))\n",
    "plt.xticks(rotation=45)\n",
    "# ax.set_yscale(\"log\")\n",
    "plt.tight_layout()\n",
    "plt.show()"
   ]
  },
  {
   "cell_type": "code",
   "execution_count": null,
   "metadata": {},
   "outputs": [],
   "source": [
    "fig, ax = plt.subplots()\n",
    "\n",
    "ax.plot(times, stats[\"duacs\"][\"hsic\"], label=\"DUACS\", color=\"tab:green\")\n",
    "ax.plot(times, stats[\"miost\"][\"hsic\"], label=\"MIOST\", color=\"tab:blue\")\n",
    "ax.plot(times, stats[\"nerf\"][\"hsic\"], label=\"NerF\", color=\"tab:red\")\n",
    "ax.set_ylim((0.75, 1.1))\n",
    "plt.xticks(rotation=45)\n",
    "# ax.set_yscale(\"log\")\n",
    "plt.tight_layout()\n",
    "plt.show()"
   ]
  },
  {
   "cell_type": "code",
   "execution_count": null,
   "metadata": {
    "pycharm": {
     "is_executing": true
    }
   },
   "outputs": [],
   "source": []
  },
  {
   "cell_type": "code",
   "execution_count": null,
   "metadata": {},
   "outputs": [],
   "source": []
  }
 ],
 "metadata": {
  "kernelspec": {
   "display_name": "Python 3.9.13 ('torch_py39')",
   "language": "python",
   "name": "python3"
  },
  "language_info": {
   "codemirror_mode": {
    "name": "ipython",
    "version": 3
   },
   "file_extension": ".py",
   "mimetype": "text/x-python",
   "name": "python",
   "nbconvert_exporter": "python",
   "pygments_lexer": "ipython3",
   "version": "3.9.13"
  },
  "vscode": {
   "interpreter": {
    "hash": "ba845ae818c285ca2fe9389acfa2d2da9f6f964e42b65478d402ad448a072775"
   }
  }
 },
 "nbformat": 4,
 "nbformat_minor": 2
}
