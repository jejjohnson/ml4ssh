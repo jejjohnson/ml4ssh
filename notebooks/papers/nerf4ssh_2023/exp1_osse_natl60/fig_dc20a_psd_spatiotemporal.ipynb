{
 "cells": [
  {
   "cell_type": "markdown",
   "metadata": {},
   "source": [
    "# Figure - SpatioTemporal PSD"
   ]
  },
  {
   "cell_type": "code",
   "execution_count": null,
   "metadata": {},
   "outputs": [],
   "source": [
    "import sys, os\n",
    "from pathlib import Path\n",
    "\n",
    "import ml_collections\n",
    "from pyprojroot import here\n",
    "\n",
    "# spyder up to find the root\n",
    "root = here(project_files=[\".root\"])\n",
    "exp = Path(root).joinpath(\"experiments/dc20a\")\n",
    "\n",
    "# append to path\n",
    "sys.path.append(str(root))\n",
    "sys.path.append(str(exp))"
   ]
  },
  {
   "cell_type": "code",
   "execution_count": null,
   "metadata": {},
   "outputs": [],
   "source": [
    "root, exp"
   ]
  },
  {
   "cell_type": "code",
   "execution_count": null,
   "metadata": {},
   "outputs": [],
   "source": []
  },
  {
   "cell_type": "code",
   "execution_count": null,
   "metadata": {},
   "outputs": [],
   "source": [
    "import numpy as np\n",
    "import pandas as pd\n",
    "import xarray as xr\n",
    "import matplotlib.pyplot as plt\n",
    "import seaborn as sns\n",
    "\n",
    "sns.reset_defaults()\n",
    "sns.set_context(context=\"talk\", font_scale=0.7)\n",
    "\n",
    "import hvplot.xarray\n",
    "import hvplot.pandas\n",
    "\n",
    "from inr4ssh._src.operators.finite_diff import calculate_gradient, calculate_laplacian\n",
    "from inr4ssh._src.preprocess.subset import temporal_subset, spatial_subset\n",
    "from inr4ssh._src.preprocess.coords import (\n",
    "    correct_coordinate_labels,\n",
    "    correct_longitude_domain,\n",
    ")\n",
    "from inr4ssh._src.data.ssh_obs import load_ssh_altimetry_data_train\n",
    "\n",
    "from inr4ssh._src.preprocess.coords import correct_coordinate_labels\n",
    "\n",
    "# from inr4ssh._src.preprocess.obs import bin_observations\n",
    "from inr4ssh._src.viz.movie import create_movie\n",
    "from inr4ssh._src.metrics.psd import psd_isotropic\n",
    "from inr4ssh._src.viz.psd.isotropic import plot_psd_isotropic\n",
    "from inr4ssh._src.viz.obs import plot_obs_demo\n",
    "from inr4ssh._src.metrics.psd import psd_spacetime, psd_spacetime_dask\n",
    "from inr4ssh._src.viz.psd.spacetime import (\n",
    "    plot_psd_spacetime_wavelength,\n",
    "    plot_psd_spacetime_wavenumber,\n",
    ")\n",
    "from inr4ssh._src.viz.psd.spacetime import (\n",
    "    plot_psd_spacetime_score_wavelength,\n",
    "    plot_psd_spacetime_score_wavenumber,\n",
    ")\n",
    "\n",
    "from loguru import logger\n",
    "\n",
    "%matplotlib inline\n",
    "%load_ext autoreload\n",
    "%autoreload 2"
   ]
  },
  {
   "cell_type": "markdown",
   "metadata": {},
   "source": [
    "## Data"
   ]
  },
  {
   "cell_type": "markdown",
   "metadata": {},
   "source": [
    "### Evaluation Field\n",
    "\n",
    "**Cleaning**\n",
    "\n",
    "* Evaluation Period\n",
    "* Lat/Lon Labels\n",
    "* Longitude Range\n",
    "* Regridding"
   ]
  },
  {
   "cell_type": "code",
   "execution_count": null,
   "metadata": {},
   "outputs": [],
   "source": [
    "!ls /Volumes/EMANS_HDD/data/dc20a_osse/results/nadir4/\n",
    "!ls /Volumes/EMANS_HDD/data/dc20a_osse/results/swot1nadir5/\n",
    "!ls /Users/eman/code_projects/logs/saved_data/"
   ]
  },
  {
   "cell_type": "code",
   "execution_count": null,
   "metadata": {},
   "outputs": [],
   "source": [
    "from ml_collections import config_dict\n",
    "\n",
    "config = config_dict.ConfigDict()\n",
    "\n",
    "# reference stuff\n",
    "config.reference = reference = config_dict.ConfigDict()\n",
    "reference.path = (\n",
    "    \"/Volumes/EMANS_HDD/data/dc20a_osse/raw/dc_ref/NATL60-CJM165_GULFSTREAM_*.nc\"\n",
    ")\n",
    "reference.var_name = \"sossheig\"\n",
    "reference.model_name = \"natl60\"\n",
    "\n",
    "# model stuff\n",
    "config.study = study = config_dict.ConfigDict()\n",
    "study.path = \"/Users/eman/code_projects/logs/saved_data/test_res_nadir4_jz_v40.nc\"\n",
    "study.var_name = \"ssh_model_predict\"\n",
    "study.model_name = \"siren\"\n",
    "\n",
    "config_study = config_dict.ConfigDict()\n",
    "config_study.miost = miost = config_dict.ConfigDict()\n",
    "miost.path = \"/Volumes/EMANS_HDD/data/dc20a_osse/results/nadir4/2020a_SSH_mapping_NATL60_MIOST_en_j1_tpn_g2.nc\"\n",
    "miost.var_name = \"gssh\"\n",
    "miost.model_name = \"miost\"\n",
    "config_study.duacs = duacs = config_dict.ConfigDict()\n",
    "duacs.path = \"/Volumes/EMANS_HDD/data/dc20a_osse/results/nadir4/2020a_SSH_mapping_NATL60_DUACS_en_j1_tpn_g2.nc\"\n",
    "duacs.var_name = \"gssh\"\n",
    "duacs.model_name = \"duacs\"\n",
    "\n",
    "# data stuff\n",
    "config.psd = psd = config_dict.ConfigDict()\n",
    "psd.factor_time = [1, \"D\"]\n",
    "psd.factor_space = 1\n",
    "psd.units = \"degrees\"\n",
    "\n",
    "# Figures stuff\n",
    "config.figure = figure = config_dict.ConfigDict()\n",
    "figure.save_path = Path(root).joinpath(\"figures/dc20a/\")\n",
    "figure.save_name = study.model_name"
   ]
  },
  {
   "cell_type": "code",
   "execution_count": null,
   "metadata": {},
   "outputs": [],
   "source": [
    "from evaluation import Evaluation\n",
    "\n",
    "\n",
    "eval_obj = Evaluation(config=config)\n",
    "\n",
    "eval_obj.load_reference()\n",
    "eval_obj.add_model()\n",
    "eval_obj.add_model(config=miost)\n",
    "eval_obj.add_model(config=duacs)\n",
    "eval_obj.add_ke()\n",
    "eval_obj.add_rv()\n",
    "\n",
    "eval_obj.ds_field"
   ]
  },
  {
   "cell_type": "code",
   "execution_count": null,
   "metadata": {},
   "outputs": [],
   "source": [
    "eval_obj.models, eval_obj.model_ref"
   ]
  },
  {
   "cell_type": "markdown",
   "metadata": {},
   "source": [
    "## Map I - Space Time PSD"
   ]
  },
  {
   "cell_type": "code",
   "execution_count": null,
   "metadata": {},
   "outputs": [],
   "source": [
    "from evaluation import plot_psd_spacetime_all\n",
    "\n",
    "# plot_psd_spacetime_all(dict_psd, config)"
   ]
  },
  {
   "cell_type": "markdown",
   "metadata": {},
   "source": [
    "### Map II - Space Time PSD Score"
   ]
  },
  {
   "cell_type": "code",
   "execution_count": null,
   "metadata": {},
   "outputs": [],
   "source": [
    "from evaluation import PSDSTScoreEval\n",
    "\n",
    "score_obj = PSDSTScoreEval(eval_obj=eval_obj)\n",
    "score_obj.standardize_coords()\n",
    "score_obj.calculate_psd_score()"
   ]
  },
  {
   "cell_type": "code",
   "execution_count": null,
   "metadata": {},
   "outputs": [],
   "source": [
    "# score_obj.plot(\"ssh\")\n",
    "# score_obj.plot_all()\n",
    "score_obj.stats(\"ssh\", \"siren\")\n",
    "score_obj.stats(\"ssh\", \"miost\")\n",
    "score_obj.stats(\"ssh\", \"duacs\")\n",
    "score_obj.stats_all()"
   ]
  },
  {
   "cell_type": "code",
   "execution_count": null,
   "metadata": {},
   "outputs": [],
   "source": [
    "score_obj"
   ]
  }
 ],
 "metadata": {
  "kernelspec": {
   "display_name": "Python 3.9.13 ('torch_py39')",
   "language": "python",
   "name": "python3"
  },
  "language_info": {
   "codemirror_mode": {
    "name": "ipython",
    "version": 3
   },
   "file_extension": ".py",
   "mimetype": "text/x-python",
   "name": "python",
   "nbconvert_exporter": "python",
   "pygments_lexer": "ipython3",
   "version": "3.9.13"
  },
  "vscode": {
   "interpreter": {
    "hash": "ba845ae818c285ca2fe9389acfa2d2da9f6f964e42b65478d402ad448a072775"
   }
  }
 },
 "nbformat": 4,
 "nbformat_minor": 2
}
