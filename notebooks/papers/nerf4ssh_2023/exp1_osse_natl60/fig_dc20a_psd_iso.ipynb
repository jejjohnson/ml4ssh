{
 "cells": [
  {
   "cell_type": "markdown",
   "metadata": {},
   "source": [
    "# Figure - Isotropic PSD"
   ]
  },
  {
   "cell_type": "code",
   "execution_count": null,
   "metadata": {},
   "outputs": [],
   "source": [
    "import sys, os\n",
    "from pyprojroot import here\n",
    "\n",
    "# spyder up to find the root\n",
    "root = here(project_files=[\".root\"])\n",
    "\n",
    "\n",
    "# append to path\n",
    "sys.path.append(str(root))"
   ]
  },
  {
   "cell_type": "code",
   "execution_count": null,
   "metadata": {},
   "outputs": [],
   "source": [
    "import numpy as np\n",
    "from pathlib import Path\n",
    "import pandas as pd\n",
    "import xarray as xr\n",
    "import matplotlib.pyplot as plt\n",
    "\n",
    "# import seaborn as sns\n",
    "#\n",
    "# sns.reset_defaults()\n",
    "# sns.set_context(context=\"talk\", font_scale=0.7)\n",
    "import scienceplots\n",
    "\n",
    "plt.style.use(\"science\")\n",
    "\n",
    "import hvplot.xarray\n",
    "import hvplot.pandas\n",
    "\n",
    "from inr4ssh._src.operators.finite_diff import calculate_gradient, calculate_laplacian\n",
    "from inr4ssh._src.preprocess.subset import temporal_subset, spatial_subset\n",
    "from inr4ssh._src.preprocess.coords import (\n",
    "    correct_coordinate_labels,\n",
    "    correct_longitude_domain,\n",
    ")\n",
    "from inr4ssh._src.data.ssh_obs import load_ssh_altimetry_data_train\n",
    "\n",
    "from inr4ssh._src.preprocess.coords import correct_longitude_domain\n",
    "\n",
    "# from inr4ssh._src.preprocess.obs import bin_observations\n",
    "from inr4ssh._src.viz.movie import create_movie\n",
    "from inr4ssh._src.metrics.psd import psd_isotropic\n",
    "from inr4ssh._src.viz.psd.isotropic import plot_psd_isotropic\n",
    "from inr4ssh._src.viz.obs import plot_obs_demo\n",
    "from inr4ssh._src.metrics.psd import psd_spacetime, psd_spacetime_dask\n",
    "from inr4ssh._src.viz.psd.spacetime import (\n",
    "    plot_psd_spacetime_wavelength,\n",
    "    plot_psd_spacetime_wavenumber,\n",
    ")\n",
    "from inr4ssh._src.viz.psd.spacetime import (\n",
    "    plot_psd_spacetime_score_wavelength,\n",
    "    plot_psd_spacetime_score_wavenumber,\n",
    ")\n",
    "from loguru import logger\n",
    "\n",
    "%matplotlib inline\n",
    "%load_ext autoreload\n",
    "%autoreload 2"
   ]
  },
  {
   "cell_type": "markdown",
   "metadata": {},
   "source": [
    "## Data"
   ]
  },
  {
   "cell_type": "markdown",
   "metadata": {},
   "source": [
    "### Evaluation Field"
   ]
  },
  {
   "cell_type": "code",
   "execution_count": null,
   "metadata": {},
   "outputs": [],
   "source": [
    "url = \"/Volumes/EMANS_HDD/data/dc20a_osse/raw/dc_ref/NATL60-CJM165_GULFSTREAM_*.nc\"\n",
    "\n",
    "\n",
    "def preprocess(ds):\n",
    "    # subset time\n",
    "    # ds = ds.sel(time=slice(np.datetime64(\"2012-10-22\"), np.datetime64(\"2012-12-02\")))\n",
    "\n",
    "    # ds = ds.coarsen({\"lon\": 5, \"lat\": 5}).mean()\n",
    "\n",
    "    ds = ds.resample(time=\"1D\").mean()\n",
    "    return ds\n",
    "\n",
    "\n",
    "ds_field = xr.open_mfdataset(url, preprocess=preprocess)\n",
    "\n",
    "ds_field"
   ]
  },
  {
   "cell_type": "code",
   "execution_count": null,
   "metadata": {},
   "outputs": [],
   "source": [
    "def post_process(ds, variable):\n",
    "    # subset temporal space\n",
    "    ds = ds.sel(time=slice(np.datetime64(\"2012-10-22\"), np.datetime64(\"2012-12-02\")))\n",
    "\n",
    "    # correct coordinate labels\n",
    "    logger.info(\"Fixing coordinate labels...\")\n",
    "    ds = correct_coordinate_labels(ds)\n",
    "\n",
    "    # correct labels\n",
    "    logger.info(\"Fixing labels\")\n",
    "    ds = ds.rename({variable: \"ssh\"})\n",
    "\n",
    "    # correct longitude domain\n",
    "    logger.info(\"Fixing longitude domain\")\n",
    "    ds = correct_longitude_domain(ds)\n",
    "\n",
    "    ds = ds.transpose(\"time\", \"latitude\", \"longitude\")\n",
    "\n",
    "    # regrid data\n",
    "    return ds"
   ]
  },
  {
   "cell_type": "code",
   "execution_count": null,
   "metadata": {},
   "outputs": [],
   "source": [
    "ds_field = post_process(ds_field, \"sossheig\")\n",
    "ds_field"
   ]
  },
  {
   "cell_type": "markdown",
   "metadata": {},
   "source": [
    "### Example Results"
   ]
  },
  {
   "cell_type": "markdown",
   "metadata": {},
   "source": [
    "```bash\n",
    "!wget https://ige-meom-opendap.univ-grenoble-alpes.fr/thredds/fileServer/meomopendap/extract/ocean-data-challenges/dc_data1/dc_mapping/2020a_SSH_mapping_NATL60_MIOST_en_j1_tpn_g2.nc\n",
    "!wget https://ige-meom-opendap.univ-grenoble-alpes.fr/thredds/fileServer/meomopendap/extract/ocean-data-challenges/dc_data1/dc_mapping/2020a_SSH_mapping_NATL60_MIOST_swot_en_j1_tpn_g2.nc\n",
    "!wget https://ige-meom-opendap.univ-grenoble-alpes.fr/thredds/fileServer/meomopendap/extract/ocean-data-challenges/dc_data1/dc_mapping/2020a_SSH_mapping_NATL60_DUACS_en_j1_tpn_g2.nc\n",
    "!wget https://ige-meom-opendap.univ-grenoble-alpes.fr/thredds/fileServer/meomopendap/extract/ocean-data-challenges/dc_data1/dc_mapping/2020a_SSH_mapping_NATL60_DUACS_swot_en_j1_tpn_g2.nc\n",
    "!wget https://ige-meom-opendap.univ-grenoble-alpes.fr/thredds/fileServer/meomopendap/extract/ocean-data-challenges/dc_data1/dc_mapping/2020a_SSH_mapping_NATL60_4DVarNet_v2022_nadirswot_GF_GF.nc\n",
    "!wget https://ige-meom-opendap.univ-grenoble-alpes.fr/thredds/fileServer/meomopendap/extract/ocean-data-challenges/dc_data1/dc_mapping/2020a_SSH_mapping_NATL60_4DVarNet_v2022_nadir_GF_GF.nc\n",
    "!wget https://ige-meom-opendap.univ-grenoble-alpes.fr/thredds/fileServer/meomopendap/extract/ocean-data-challenges/dc_data1/dc_mapping/2020a_SSH_mapping_NATL60_BFN_Steady_State_QG1L_en_j1_tpn_g2.nc\n",
    "!wget https://ige-meom-opendap.univ-grenoble-alpes.fr/thredds/fileServer/meomopendap/extract/ocean-data-challenges/dc_data1/dc_mapping/2020a_SSH_mapping_NATL60_BFN_Steady_State_QG1L_swot_en_j1_tpn_g2.nc\n",
    "```"
   ]
  },
  {
   "cell_type": "code",
   "execution_count": null,
   "metadata": {},
   "outputs": [],
   "source": [
    "!ls /Volumes/EMANS_HDD/data/dc20a_osse/results/nadir4/"
   ]
  },
  {
   "cell_type": "code",
   "execution_count": null,
   "metadata": {},
   "outputs": [],
   "source": [
    "!ls /Volumes/EMANS_HDD/data/dc20a_osse/results/swot1nadir5/"
   ]
  },
  {
   "cell_type": "code",
   "execution_count": null,
   "metadata": {},
   "outputs": [],
   "source": [
    "!ls /Users/eman/code_projects/logs/saved_data"
   ]
  },
  {
   "cell_type": "code",
   "execution_count": null,
   "metadata": {},
   "outputs": [],
   "source": [
    "# url = \"/Volumes/EMANS_HDD/data/dc20a_osse/results/nadir4/2020a_SSH_mapping_NATL60_DUACS_en_j1_tpn_g2.nc\"\n",
    "# # url =\n",
    "# ds_predict = xr.open_dataset(url)\n",
    "#\n",
    "# ds_predict"
   ]
  },
  {
   "cell_type": "markdown",
   "metadata": {},
   "source": [
    "## PostProcessing"
   ]
  },
  {
   "cell_type": "markdown",
   "metadata": {},
   "source": [
    "### Cleaning\n",
    "\n",
    "* Evaluation Period\n",
    "* Lat/Lon Labels\n",
    "* Longitude Range\n",
    "* Regridding"
   ]
  },
  {
   "cell_type": "code",
   "execution_count": null,
   "metadata": {},
   "outputs": [],
   "source": [
    "experiment = \"swot1nadir5\"\n",
    "\n",
    "if experiment == \"nadir4\":\n",
    "    url_miost = \"/Volumes/EMANS_HDD/data/dc20a_osse/results/nadir4/2020a_SSH_mapping_NATL60_MIOST_en_j1_tpn_g2.nc\"\n",
    "    url_duacs = \"/Volumes/EMANS_HDD/data/dc20a_osse/results/nadir4/2020a_SSH_mapping_NATL60_DUACS_en_j1_tpn_g2.nc\"\n",
    "    url_nerf = \"/Users/eman/code_projects/logs/saved_data/test_res_nadir4_jz.nc\"\n",
    "elif experiment == \"swot1nadir5\":\n",
    "    url_miost = \"/Volumes/EMANS_HDD/data/dc20a_osse/results/swot1nadir5/2020a_SSH_mapping_NATL60_MIOST_swot_en_j1_tpn_g2.nc\"\n",
    "    url_duacs = \"/Volumes/EMANS_HDD/data/dc20a_osse/results/swot1nadir5/2020a_SSH_mapping_NATL60_DUACS_swot_en_j1_tpn_g2.nc\"\n",
    "    url_nerf = \"/Users/eman/code_projects/logs/saved_data/test_res_swot1nadir5_jz.nc\"\n",
    "else:\n",
    "    raise ValueError(f\"Unrecognized exp: {experiment}\")"
   ]
  },
  {
   "cell_type": "code",
   "execution_count": null,
   "metadata": {},
   "outputs": [],
   "source": [
    "from inr4ssh._src.preprocess.regrid import oi_regrid\n",
    "\n",
    "\n",
    "logger.info(\"Dataset I - MIOST\")\n",
    "\n",
    "ds_predict = xr.open_dataset(url_miost)\n",
    "ds_predict = post_process(ds_predict, \"gssh\")\n",
    "ds_field[\"ssh_miost\"] = oi_regrid(ds_predict[\"ssh\"], ds_field[\"ssh\"])\n",
    "\n",
    "logger.info(\"Dataset II - DUACS\")\n",
    "ds_predict = xr.open_dataset(url_duacs)\n",
    "ds_predict = post_process(ds_predict, \"gssh\")\n",
    "ds_field[\"ssh_duacs\"] = oi_regrid(ds_predict[\"ssh\"], ds_field[\"ssh\"])\n",
    "\n",
    "logger.info(\"Dataset II - SIREN\")\n",
    "ds_predict = xr.open_dataset(url_nerf)\n",
    "ds_predict = post_process(ds_predict, \"ssh_model_predict\")\n",
    "ds_field[\"ssh_nerf\"] = oi_regrid(ds_predict[\"ssh\"], ds_field[\"ssh\"])"
   ]
  },
  {
   "cell_type": "code",
   "execution_count": null,
   "metadata": {},
   "outputs": [],
   "source": [
    "from tqdm.notebook import tqdm\n",
    "from inr4ssh._src.operators.ssh import (\n",
    "    ssh2uv_ds_2dt,\n",
    "    ssh2uv_da_2dt,\n",
    "    kinetic_energy,\n",
    "    enstropy,\n",
    "    ssh2rv_ds_2dt,\n",
    "    ssh2rv_da_2dt,\n",
    ")\n",
    "\n",
    "variables = [\"ssh\", \"ssh_duacs\", \"ssh_miost\", \"ssh_nerf\"]\n",
    "\n",
    "logger.info(\"Calculating Kinetic Energy...\")\n",
    "for ivar in tqdm(variables):\n",
    "    # calculate UV components\n",
    "    u, v = ssh2uv_da_2dt(ds_field[ivar])\n",
    "    ke = kinetic_energy(u, v)\n",
    "\n",
    "    ds_field[f\"{ivar}_ke\"] = ((\"time\", \"latitude\", \"longitude\"), ke)\n",
    "\n",
    "logger.info(\"Calculating Enstropy...\")\n",
    "for ivar in tqdm(variables):\n",
    "    # calculate UV components\n",
    "    rv = ssh2rv_da_2dt(ds_field[ivar])\n",
    "\n",
    "    ds_field[f\"{ivar}_ens\"] = ((\"time\", \"latitude\", \"longitude\"), rv)"
   ]
  },
  {
   "cell_type": "code",
   "execution_count": null,
   "metadata": {},
   "outputs": [],
   "source": [
    "ds_field"
   ]
  },
  {
   "cell_type": "markdown",
   "metadata": {},
   "source": [
    "## Metrics - Isotropic PSD"
   ]
  },
  {
   "cell_type": "code",
   "execution_count": null,
   "metadata": {},
   "outputs": [],
   "source": [
    "ds_field[\"longitude\"] = ds_field.longitude * 111e3\n",
    "ds_field[\"latitude\"] = ds_field.latitude * 111e3"
   ]
  },
  {
   "cell_type": "markdown",
   "metadata": {},
   "source": [
    "### Sea Surface Height"
   ]
  },
  {
   "cell_type": "code",
   "execution_count": null,
   "metadata": {},
   "outputs": [],
   "source": [
    "# calculate\n",
    "ds_field_psd_natl60 = psd_isotropic(ds_field.ssh)\n",
    "ds_field_psd_duacs = psd_isotropic(ds_field.ssh_duacs)\n",
    "ds_field_psd_miost = psd_isotropic(ds_field.ssh_miost)\n",
    "ds_field_psd_nerf = psd_isotropic(ds_field.ssh_nerf)"
   ]
  },
  {
   "cell_type": "code",
   "execution_count": null,
   "metadata": {},
   "outputs": [],
   "source": [
    "import seaborn as sns\n",
    "\n",
    "# with plt.style.context([\"science\"]):\n",
    "sns.set_context(context=\"talk\", font_scale=0.7)\n",
    "fig, ax, secax = plot_psd_isotropic(\n",
    "    ds_field_psd_natl60.freq_r.values * 1e3, ds_field_psd_natl60.values, color=\"black\"\n",
    ")\n",
    "\n",
    "ax.plot(\n",
    "    ds_field_psd_duacs.freq_r.values * 1e3, ds_field_psd_duacs.values, color=\"tab:green\"\n",
    ")\n",
    "ax.plot(\n",
    "    ds_field_psd_miost.freq_r.values * 1e3, ds_field_psd_miost.values, color=\"tab:blue\"\n",
    ")\n",
    "ax.plot(\n",
    "    ds_field_psd_nerf.freq_r.values * 1e3, ds_field_psd_nerf.values, color=\"tab:red\"\n",
    ")\n",
    "plt.xlim(\n",
    "    (\n",
    "        np.ma.min(np.ma.masked_invalid(ds_field_psd_natl60.freq_r.values * 1e3)),\n",
    "        0.25 * np.ma.max(np.ma.masked_invalid(ds_field_psd_natl60.freq_r.values * 1e3)),\n",
    "    )\n",
    ")\n",
    "plt.legend([\"NATL60\", \"DUACS\", \"MIOST\", \"NerF\"])\n",
    "plt.tight_layout()\n",
    "fig.savefig(Path(root).joinpath(\"figures/osse_2020a_psd_iso.png\"))\n",
    "plt.show()"
   ]
  },
  {
   "cell_type": "markdown",
   "metadata": {},
   "source": [
    "### Kinetic Energy"
   ]
  },
  {
   "cell_type": "code",
   "execution_count": null,
   "metadata": {},
   "outputs": [],
   "source": [
    "# calculate\n",
    "ds_field_psd_natl60_ke = psd_isotropic(ds_field.ssh_ke)\n",
    "ds_field_psd_duacs_ke = psd_isotropic(ds_field.ssh_duacs_ke)\n",
    "ds_field_psd_miost_ke = psd_isotropic(ds_field.ssh_miost_ke)\n",
    "ds_field_psd_nerf_ke = psd_isotropic(ds_field.ssh_nerf_ke)"
   ]
  },
  {
   "cell_type": "code",
   "execution_count": null,
   "metadata": {},
   "outputs": [],
   "source": [
    "fig, ax, secax = plot_psd_isotropic(\n",
    "    ds_field_psd_natl60_ke.freq_r.values * 1e3,\n",
    "    ds_field_psd_natl60_ke.values,\n",
    "    color=\"black\",\n",
    ")\n",
    "\n",
    "ax.plot(\n",
    "    ds_field_psd_duacs_ke.freq_r.values * 1e3,\n",
    "    ds_field_psd_duacs_ke.values,\n",
    "    color=\"tab:green\",\n",
    ")\n",
    "ax.plot(\n",
    "    ds_field_psd_miost_ke.freq_r.values * 1e3,\n",
    "    ds_field_psd_miost_ke.values,\n",
    "    color=\"tab:blue\",\n",
    ")\n",
    "ax.plot(\n",
    "    ds_field_psd_nerf_ke.freq_r.values * 1e3,\n",
    "    ds_field_psd_nerf_ke.values,\n",
    "    color=\"tab:red\",\n",
    ")\n",
    "plt.xlim(\n",
    "    (\n",
    "        np.ma.min(np.ma.masked_invalid(ds_field_psd_natl60_ke.freq_r.values * 1e3)),\n",
    "        0.25\n",
    "        * np.ma.max(np.ma.masked_invalid(ds_field_psd_natl60_ke.freq_r.values * 1e3)),\n",
    "    )\n",
    ")\n",
    "ax.set_ylabel(f\"PSD [m$^2$s$^{-2}$/cycles/m\")\n",
    "plt.legend([\"NATL60\", \"DUACS\", \"MIOST\", \"NerF\"])\n",
    "plt.tight_layout()\n",
    "fig.savefig(Path(root).joinpath(\"figures/osse_2020a_psd_iso_ke.png\"))\n",
    "plt.show()"
   ]
  },
  {
   "cell_type": "markdown",
   "metadata": {},
   "source": [
    "### Enstropy"
   ]
  },
  {
   "cell_type": "code",
   "execution_count": null,
   "metadata": {},
   "outputs": [],
   "source": [
    "# calculate\n",
    "ds_field_psd_natl60_ens = psd_isotropic(ds_field.ssh_ens)\n",
    "ds_field_psd_duacs_ens = psd_isotropic(ds_field.ssh_duacs_ens)\n",
    "ds_field_psd_miost_ens = psd_isotropic(ds_field.ssh_miost_ens)\n",
    "ds_field_psd_nerf_ens = psd_isotropic(ds_field.ssh_nerf_ens)"
   ]
  },
  {
   "cell_type": "code",
   "execution_count": null,
   "metadata": {},
   "outputs": [],
   "source": [
    "sns.set_context(context=\"talk\", font_scale=0.7)\n",
    "fig, ax, secax = plot_psd_isotropic(\n",
    "    ds_field_psd_natl60_ens.freq_r.values * 1e3,\n",
    "    ds_field_psd_natl60_ens.values,\n",
    "    color=\"black\",\n",
    ")\n",
    "\n",
    "ax.plot(\n",
    "    ds_field_psd_duacs_ens.freq_r.values * 1e3,\n",
    "    ds_field_psd_duacs_ens.values,\n",
    "    color=\"tab:green\",\n",
    ")\n",
    "ax.plot(\n",
    "    ds_field_psd_miost_ens.freq_r.values * 1e3,\n",
    "    ds_field_psd_miost_ens.values,\n",
    "    color=\"tab:blue\",\n",
    ")\n",
    "ax.plot(\n",
    "    ds_field_psd_nerf_ens.freq_r.values * 1e3,\n",
    "    ds_field_psd_nerf_ens.values,\n",
    "    color=\"tab:red\",\n",
    ")\n",
    "plt.xlim(\n",
    "    (\n",
    "        np.ma.min(np.ma.masked_invalid(ds_field_psd_natl60_ens.freq_r.values * 1e3)),\n",
    "        0.25\n",
    "        * np.ma.max(np.ma.masked_invalid(ds_field_psd_natl60_ens.freq_r.values * 1e3)),\n",
    "    )\n",
    ")\n",
    "ax.set_ylabel(f\"PSD [s$^{-1}$/cycles/m\")\n",
    "plt.legend([\"NATL60\", \"DUACS\", \"MIOST\", \"SIREN\"])\n",
    "plt.tight_layout()\n",
    "fig.savefig(Path(root).joinpath(\"figures/osse_2020a_psd_iso_ens.png\"))\n",
    "plt.show()"
   ]
  },
  {
   "cell_type": "markdown",
   "metadata": {},
   "source": [
    "## Metrics - Isotropic PSD Score"
   ]
  },
  {
   "cell_type": "markdown",
   "metadata": {},
   "source": [
    "### Sea Surface Height"
   ]
  },
  {
   "cell_type": "code",
   "execution_count": null,
   "metadata": {},
   "outputs": [],
   "source": [
    "from inr4ssh._src.metrics.psd import psd_isotropic_score, wavelength_resolved_isotropic\n",
    "from tqdm.notebook import tqdm\n",
    "\n",
    "sns.set_context(context=\"talk\", font_scale=0.7)\n",
    "variables = [\"ssh_duacs\", \"ssh_miost\", \"ssh_nerf\"]\n",
    "colours = [\"tab:green\", \"tab:blue\", \"tab:red\"]\n",
    "linestyle = [\"-\", \"--\", \"-.\"]\n",
    "\n",
    "ax = None\n",
    "\n",
    "for ivariable, icolour, ilinestyle in tqdm(zip(variables, colours, linestyle)):\n",
    "    psd_iso_score = psd_isotropic_score(ds_field[\"ssh\"], ds_field[ivariable])\n",
    "\n",
    "    space_iso_resolved = wavelength_resolved_isotropic(psd_iso_score, level=0.5)\n",
    "    iname = ivariable.split(\"_\")[1].upper()\n",
    "    print(\n",
    "        f\"Shortest Spatial Wavelength Resolved [{iname}] = {space_iso_resolved/1e3:.2f} (km)\"\n",
    "    )\n",
    "\n",
    "    fig, ax, secax = plot_psd_isotropic(\n",
    "        psd_iso_score.freq_r.values * 1e3,\n",
    "        psd_iso_score.values,\n",
    "        ax=ax,\n",
    "        color=icolour,\n",
    "        linestyle=\"-\",\n",
    "    )\n",
    "\n",
    "    ax.set(ylabel=\"PSD Score\", yscale=\"linear\")\n",
    "    plt.ylim((0, 1.0))\n",
    "    plt.xlim(\n",
    "        (\n",
    "            np.ma.min(np.ma.masked_invalid(psd_iso_score.freq_r.values * 1e3)),\n",
    "            0.25 * np.ma.max(np.ma.masked_invalid(psd_iso_score.freq_r.values * 1e3)),\n",
    "        )\n",
    "    )\n",
    "\n",
    "    # plot the graph point\n",
    "    resolved_scale = 1 / (space_iso_resolved * 1e-3)\n",
    "    ax.vlines(\n",
    "        x=resolved_scale, ymin=0, ymax=0.5, color=icolour, linewidth=2, linestyle=\"--\"\n",
    "    )\n",
    "    ax.hlines(\n",
    "        y=0.5,\n",
    "        xmin=np.ma.min(np.ma.masked_invalid(psd_iso_score.freq_r.values * 1e3)),\n",
    "        xmax=resolved_scale,\n",
    "        color=icolour,\n",
    "        linewidth=2,\n",
    "        linestyle=\"--\",\n",
    "    )\n",
    "    ax.set_aspect(\"equal\", \"box\")\n",
    "\n",
    "    label = f\"{iname} - $\\lambda$ > {int(space_iso_resolved*1e-3)} km\"\n",
    "    plt.scatter(\n",
    "        resolved_scale, 0.5, color=icolour, marker=\".\", linewidth=5, label=label\n",
    "    )\n",
    "\n",
    "plt.legend()\n",
    "plt.tight_layout()\n",
    "\n",
    "fig.savefig(Path(root).joinpath(\"figures/osse_2020a_psd_score_iso_ssh.png\"))\n",
    "plt.show()"
   ]
  },
  {
   "cell_type": "markdown",
   "metadata": {},
   "source": [
    "### Kinetic Energy"
   ]
  },
  {
   "cell_type": "code",
   "execution_count": null,
   "metadata": {},
   "outputs": [],
   "source": [
    "variables = [\"ssh_duacs_ke\", \"ssh_miost_ke\", \"ssh_nerf_ke\"]\n",
    "colours = [\"tab:green\", \"tab:blue\", \"tab:red\"]\n",
    "linestyle = [\"-\", \"--\", \"-.\"]\n",
    "sns.set_context(context=\"talk\", font_scale=0.7)\n",
    "ax = None\n",
    "\n",
    "for ivariable, icolour, ilinestyle in tqdm(zip(variables, colours, linestyle)):\n",
    "    psd_iso_score = psd_isotropic_score(ds_field[\"ssh_ke\"], ds_field[ivariable])\n",
    "\n",
    "    space_iso_resolved = wavelength_resolved_isotropic(psd_iso_score, level=0.5)\n",
    "    iname = ivariable.split(\"_\")[1].upper()\n",
    "    print(\n",
    "        f\"Shortest Spatial Wavelength Resolved [{iname}] = {space_iso_resolved/1e3:.2f} (km$^2$s$^{-2})\"\n",
    "    )\n",
    "\n",
    "    fig, ax, secax = plot_psd_isotropic(\n",
    "        psd_iso_score.freq_r.values * 1e3,\n",
    "        psd_iso_score.values,\n",
    "        ax=ax,\n",
    "        color=icolour,\n",
    "        linestyle=\"-\",\n",
    "    )\n",
    "\n",
    "    ax.set(ylabel=\"PSD Score\", yscale=\"linear\")\n",
    "    plt.ylim((0, 1.0))\n",
    "    plt.xlim(\n",
    "        (\n",
    "            np.ma.min(np.ma.masked_invalid(psd_iso_score.freq_r.values * 1e3)),\n",
    "            0.25 * np.ma.max(np.ma.masked_invalid(psd_iso_score.freq_r.values * 1e3)),\n",
    "        )\n",
    "    )\n",
    "\n",
    "    # plot the graph point\n",
    "    resolved_scale = 1 / (space_iso_resolved * 1e-3)\n",
    "    ax.vlines(\n",
    "        x=resolved_scale, ymin=0, ymax=0.5, color=icolour, linewidth=2, linestyle=\"--\"\n",
    "    )\n",
    "    ax.hlines(\n",
    "        y=0.5,\n",
    "        xmin=np.ma.min(np.ma.masked_invalid(psd_iso_score.freq_r.values * 1e3)),\n",
    "        xmax=resolved_scale,\n",
    "        color=icolour,\n",
    "        linewidth=2,\n",
    "        linestyle=\"--\",\n",
    "    )\n",
    "    ax.set_aspect(\"equal\", \"box\")\n",
    "\n",
    "    label = f\"{iname} - $\\lambda$ > {int(space_iso_resolved*1e-3)} km$^2$s$^{-2}$\"\n",
    "    plt.scatter(\n",
    "        resolved_scale, 0.5, color=icolour, marker=\".\", linewidth=5, label=label\n",
    "    )\n",
    "\n",
    "plt.legend()\n",
    "plt.tight_layout()\n",
    "fig.savefig(Path(root).joinpath(\"figures/osse_2020a_psd_score_iso_ke.png\"))\n",
    "plt.show()"
   ]
  },
  {
   "cell_type": "markdown",
   "metadata": {},
   "source": [
    "### Enstropy"
   ]
  },
  {
   "cell_type": "code",
   "execution_count": null,
   "metadata": {},
   "outputs": [],
   "source": [
    "variables = [\"ssh_duacs_ens\", \"ssh_miost_ens\", \"ssh_nerf_ens\"]\n",
    "colours = [\"tab:green\", \"tab:blue\", \"tab:red\"]\n",
    "linestyle = [\"-\", \"--\", \"-.\"]\n",
    "sns.set_context(context=\"talk\", font_scale=0.7)\n",
    "ax = None\n",
    "\n",
    "for ivariable, icolour, ilinestyle in tqdm(zip(variables, colours, linestyle)):\n",
    "    psd_iso_score = psd_isotropic_score(ds_field[\"ssh_ens\"], ds_field[ivariable])\n",
    "\n",
    "    space_iso_resolved = wavelength_resolved_isotropic(psd_iso_score, level=0.5)\n",
    "    iname = ivariable.split(\"_\")[1].upper()\n",
    "    print(\n",
    "        f\"Shortest Spatial Wavelength Resolved [{iname}] = {space_iso_resolved/1e3:.2f} (s$^{-1}$)\"\n",
    "    )\n",
    "\n",
    "    fig, ax, secax = plot_psd_isotropic(\n",
    "        psd_iso_score.freq_r.values * 1e3,\n",
    "        psd_iso_score.values,\n",
    "        ax=ax,\n",
    "        color=icolour,\n",
    "        linestyle=\"-\",\n",
    "    )\n",
    "    ax.set_aspect(\"equal\", \"box\")\n",
    "\n",
    "    ax.set(ylabel=\"PSD Score\", yscale=\"linear\")\n",
    "    plt.ylim((0, 1.0))\n",
    "    plt.xlim(\n",
    "        (\n",
    "            np.ma.min(np.ma.masked_invalid(psd_iso_score.freq_r.values * 1e3)),\n",
    "            0.25 * np.ma.max(np.ma.masked_invalid(psd_iso_score.freq_r.values * 1e3)),\n",
    "        )\n",
    "    )\n",
    "\n",
    "    # plot the graph point\n",
    "    resolved_scale = 1 / (space_iso_resolved * 1e-3)\n",
    "    ax.vlines(\n",
    "        x=resolved_scale, ymin=0, ymax=0.5, color=icolour, linewidth=2, linestyle=\"--\"\n",
    "    )\n",
    "    ax.hlines(\n",
    "        y=0.5,\n",
    "        xmin=np.ma.min(np.ma.masked_invalid(psd_iso_score.freq_r.values * 1e3)),\n",
    "        xmax=resolved_scale,\n",
    "        color=icolour,\n",
    "        linewidth=2,\n",
    "        linestyle=\"--\",\n",
    "    )\n",
    "\n",
    "    label = f\"{iname} - $\\lambda$ > {int(space_iso_resolved*1e-3)} s$^{-1}$\"\n",
    "    plt.scatter(\n",
    "        resolved_scale, 0.5, color=icolour, marker=\".\", linewidth=5, label=label\n",
    "    )\n",
    "\n",
    "plt.legend()\n",
    "plt.tight_layout()\n",
    "fig.savefig(Path(root).joinpath(\"figures/osse_2020a_psd_score_iso_ens.png\"))\n",
    "plt.show()"
   ]
  },
  {
   "cell_type": "code",
   "execution_count": null,
   "metadata": {},
   "outputs": [],
   "source": []
  }
 ],
 "metadata": {
  "kernelspec": {
   "display_name": "Python 3.9.13 ('torch_py39')",
   "language": "python",
   "name": "python3"
  },
  "language_info": {
   "codemirror_mode": {
    "name": "ipython",
    "version": 3
   },
   "file_extension": ".py",
   "mimetype": "text/x-python",
   "name": "python",
   "nbconvert_exporter": "python",
   "pygments_lexer": "ipython3",
   "version": "3.9.13"
  },
  "vscode": {
   "interpreter": {
    "hash": "ba845ae818c285ca2fe9389acfa2d2da9f6f964e42b65478d402ad448a072775"
   }
  }
 },
 "nbformat": 4,
 "nbformat_minor": 2
}
