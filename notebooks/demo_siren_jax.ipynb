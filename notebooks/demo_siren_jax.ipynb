{
 "cells": [
  {
   "cell_type": "code",
   "execution_count": 1,
   "id": "c8a2ee9e-04cc-4c5e-a3eb-4742a7ad7cd1",
   "metadata": {
    "pycharm": {
     "name": "#%%\n"
    }
   },
   "outputs": [],
   "source": [
    "import sys, os\n",
    "from pyprojroot import here\n",
    "\n",
    "\n",
    "# spyder up to find the roo\n",
    "\n",
    "root = here(project_files=[\".root\"])\n",
    "# append to path\n",
    "sys.path.append(str(root))"
   ]
  },
  {
   "cell_type": "code",
   "execution_count": 2,
   "id": "b43eaf2f-23b0-4937-80a3-21938dc73ed2",
   "metadata": {
    "pycharm": {
     "name": "#%%\n"
    }
   },
   "outputs": [],
   "source": [
    "import jax\n",
    "import jax.numpy as jnp\n",
    "import jax.random as jrandom\n",
    "import equinox as eqx\n",
    "\n",
    "from ml4ssh._src.models.siren import Siren, SirenNet\n",
    "from ml4ssh._src.models.activations import Sine, ReLU\n",
    "\n",
    "%load_ext autoreload\n",
    "%autoreload 2"
   ]
  },
  {
   "cell_type": "markdown",
   "id": "025da5c8",
   "metadata": {
    "pycharm": {
     "name": "#%% md\n"
    }
   },
   "source": [
    "## Siren Net\n"
   ]
  },
  {
   "cell_type": "markdown",
   "id": "0ab329b0-6df1-4e22-a750-2e1fae1e93e9",
   "metadata": {
    "pycharm": {
     "name": "#%% md\n"
    }
   },
   "source": [
    "### Sine Activation Layer"
   ]
  },
  {
   "cell_type": "code",
   "execution_count": 3,
   "id": "b2927b66",
   "metadata": {
    "pycharm": {
     "name": "#%%\n"
    }
   },
   "outputs": [
    {
     "name": "stderr",
     "output_type": "stream",
     "text": [
      "WARNING:absl:No GPU/TPU found, falling back to CPU. (Set TF_CPP_MIN_LOG_LEVEL=0 and rerun for more info.)\n"
     ]
    },
    {
     "name": "stdout",
     "output_type": "stream",
     "text": [
      "Sine(w0=1.0)\n"
     ]
    }
   ],
   "source": [
    "key = jrandom.PRNGKey(123)\n",
    "\n",
    "# generate some fake data\n",
    "n_dims = 10\n",
    "data_key, key = jrandom.split(key, 2)\n",
    "x = jrandom.normal(key=data_key, shape=(n_dims,))\n",
    "\n",
    "# init network\n",
    "w0 = 1.0\n",
    "activation = Sine(w0=w0)\n",
    "\n",
    "out = activation(x)\n",
    "\n",
    "print(activation)"
   ]
  },
  {
   "cell_type": "markdown",
   "id": "b9a4c15b-4674-450e-a7ff-f7c8d0ebcca9",
   "metadata": {
    "pycharm": {
     "name": "#%% md\n"
    }
   },
   "source": [
    "### Siren Layer"
   ]
  },
  {
   "cell_type": "code",
   "execution_count": 4,
   "id": "6262bca4-3ede-4361-888f-da93524b8400",
   "metadata": {
    "pycharm": {
     "name": "#%%\n"
    }
   },
   "outputs": [
    {
     "name": "stdout",
     "output_type": "stream",
     "text": [
      "Siren(weight=f32[2,10], bias=f32[2], w0=1.0, activation=Sine(w0=1.0))\n"
     ]
    }
   ],
   "source": [
    "layer_key, key = jrandom.split(key, 2)\n",
    "\n",
    "layer = Siren(  \n",
    "    in_dim = n_dims,\n",
    "    out_dim = 2,\n",
    "    w0 = 1.0,\n",
    "    c = 6.0,\n",
    "    key = layer_key\n",
    ")\n",
    "\n",
    "out = layer(x)\n",
    "\n",
    "print(layer)"
   ]
  },
  {
   "cell_type": "markdown",
   "id": "6dc3d115",
   "metadata": {
    "pycharm": {
     "name": "#%% md\n"
    }
   },
   "source": [
    "### Siren Network"
   ]
  },
  {
   "cell_type": "code",
   "execution_count": 33,
   "id": "467122fd-5fb6-4bde-a3a2-496a89230421",
   "metadata": {
    "pycharm": {
     "name": "#%%\n"
    }
   },
   "outputs": [
    {
     "name": "stdout",
     "output_type": "stream",
     "text": [
      "SirenNet(\n",
      "  layers=[\n",
      "    Siren(weight=f32[32,10], bias=f32[32], w0=30, activation=Sine(w0=30)),\n",
      "    Siren(weight=f32[32,32], bias=f32[32], w0=1.0, activation=Sine(w0=1.0)),\n",
      "    Siren(weight=f32[32,32], bias=f32[32], w0=1.0, activation=Sine(w0=1.0)),\n",
      "    Siren(weight=f32[32,32], bias=f32[32], w0=1.0, activation=Sine(w0=1.0)),\n",
      "    Siren(weight=f32[32,32], bias=f32[32], w0=1.0, activation=Sine(w0=1.0)),\n",
      "    Siren(weight=f32[2,32], bias=f32[2], w0=1.0, activation=Identity())\n",
      "  ],\n",
      "  num_layers=6,\n",
      "  hidden_dim=32,\n",
      "  final_scale=1.0,\n",
      "  final_activation=Identity()\n",
      ")\n"
     ]
    }
   ],
   "source": [
    "net_key, key = jrandom.split(key, 2)\n",
    "\n",
    "model = SirenNet(  \n",
    "    in_dim = n_dims,\n",
    "    hidden_dim = 32,\n",
    "    n_hidden = 5,\n",
    "    out_dim = 2,\n",
    "    w0_initial = 30,\n",
    "    w0 = 1.0,\n",
    "    c = 6.0,\n",
    "    key = net_key,\n",
    "    final_scale = 1.0,\n",
    "    final_activation = eqx.nn.Identity()\n",
    ")\n",
    "\n",
    "out = model(x)\n",
    "\n",
    "print(model)"
   ]
  },
  {
   "cell_type": "code",
   "execution_count": 34,
   "id": "6a7a8e8a-f736-498b-a8d0-24e73e95694b",
   "metadata": {
    "pycharm": {
     "name": "#%%\n"
    }
   },
   "outputs": [
    {
     "data": {
      "text/plain": [
       "DeviceArray([0.85978925, 2.5954645 ], dtype=float32)"
      ]
     },
     "execution_count": 34,
     "metadata": {},
     "output_type": "execute_result"
    }
   ],
   "source": [
    "out"
   ]
  },
  {
   "cell_type": "markdown",
   "id": "3af9f22c-7b7e-45f9-8a6b-4b2e77cc8827",
   "metadata": {
    "pycharm": {
     "name": "#%% md\n"
    }
   },
   "source": [
    "### Modulated Siren"
   ]
  },
  {
   "cell_type": "code",
   "execution_count": 6,
   "id": "05ba68a2-3bad-4556-bf56-2ffce49575e4",
   "metadata": {
    "pycharm": {
     "name": "#%%\n"
    }
   },
   "outputs": [],
   "source": [
    "from typing import List\n",
    "\n",
    "class Modulator(eqx.Module):\n",
    "    layers: List[eqx.Module]\n",
    "    def __init__(self, in_dim, hidden_dim, n_hidden, key):\n",
    "        super().__init__()\n",
    "        keys = jrandom.split(key, n_hidden + 1)\n",
    "        \n",
    "        self.layers = [\n",
    "            eqx.nn.Linear(in_dim, hidden_dim, key=keys[0])\n",
    "        ]\n",
    "        \n",
    "        # Hidden layers\n",
    "        for ikey in keys[1:-1]:\n",
    "            self.layers.append(eqx.nn.Sequential(\n",
    "                [\n",
    "                    eqx.nn.Linear(hidden_dim, hidden_dim, key=ikey),\n",
    "                    ReLU()\n",
    "                ]\n",
    "            ))\n",
    "            \n",
    "    def __call__(self, z):\n",
    "        \"\"\"\n",
    "        Parameters\n",
    "        ----------\n",
    "        z : Array,\n",
    "        \n",
    "        Returns\n",
    "        -------\n",
    "        out : tuple(x)\n",
    "        \"\"\"\n",
    "        x = z\n",
    "        \n",
    "        hidden = []\n",
    "        \n",
    "        for ilayer in self.layers:\n",
    "            x = ilayer(x)\n",
    "            print(x.shape, z.shape)\n",
    "            hidden.append(x)\n",
    "            x = jnp.concatenate([x, z])\n",
    "            print(x.shape)\n",
    "        \n",
    "        return tuple(hidden)\n",
    "        \n",
    "        \n",
    "        "
   ]
  },
  {
   "cell_type": "code",
   "execution_count": 11,
   "id": "27583a08-f592-4fcf-8e7e-611917879296",
   "metadata": {
    "collapsed": true,
    "jupyter": {
     "outputs_hidden": true
    },
    "tags": [],
    "pycharm": {
     "name": "#%%\n"
    }
   },
   "outputs": [
    {
     "name": "stdout",
     "output_type": "stream",
     "text": [
      "(32,) (512,)\n",
      "(544,)\n"
     ]
    },
    {
     "ename": "TypeError",
     "evalue": "dot_general requires contracting dimensions to have the same shape, got (32,) and (544,).",
     "output_type": "error",
     "traceback": [
      "\u001B[0;31m---------------------------------------------------------------------------\u001B[0m",
      "\u001B[0;31mTypeError\u001B[0m                                 Traceback (most recent call last)",
      "\u001B[0;32m/tmp/ipykernel_18146/1557549323.py\u001B[0m in \u001B[0;36m<module>\u001B[0;34m\u001B[0m\n\u001B[1;32m      4\u001B[0m \u001B[0;34m\u001B[0m\u001B[0m\n\u001B[1;32m      5\u001B[0m \u001B[0mlatent\u001B[0m \u001B[0;34m=\u001B[0m \u001B[0mjrandom\u001B[0m\u001B[0;34m.\u001B[0m\u001B[0mnormal\u001B[0m\u001B[0;34m(\u001B[0m\u001B[0mkey\u001B[0m\u001B[0;34m,\u001B[0m \u001B[0;34m(\u001B[0m\u001B[0mlatent_dim\u001B[0m\u001B[0;34m,\u001B[0m\u001B[0;34m)\u001B[0m\u001B[0;34m)\u001B[0m\u001B[0;34m\u001B[0m\u001B[0;34m\u001B[0m\u001B[0m\n\u001B[0;32m----> 6\u001B[0;31m \u001B[0mout\u001B[0m \u001B[0;34m=\u001B[0m \u001B[0mlayer\u001B[0m\u001B[0;34m(\u001B[0m\u001B[0mlatent\u001B[0m\u001B[0;34m)\u001B[0m\u001B[0;34m\u001B[0m\u001B[0;34m\u001B[0m\u001B[0m\n\u001B[0m\u001B[1;32m      7\u001B[0m \u001B[0;31m# out.shape\u001B[0m\u001B[0;34m\u001B[0m\u001B[0;34m\u001B[0m\u001B[0m\n",
      "\u001B[0;32m/tmp/ipykernel_18146/1583239932.py\u001B[0m in \u001B[0;36m__call__\u001B[0;34m(self, z)\u001B[0m\n\u001B[1;32m     35\u001B[0m \u001B[0;34m\u001B[0m\u001B[0m\n\u001B[1;32m     36\u001B[0m         \u001B[0;32mfor\u001B[0m \u001B[0milayer\u001B[0m \u001B[0;32min\u001B[0m \u001B[0mself\u001B[0m\u001B[0;34m.\u001B[0m\u001B[0mlayers\u001B[0m\u001B[0;34m:\u001B[0m\u001B[0;34m\u001B[0m\u001B[0;34m\u001B[0m\u001B[0m\n\u001B[0;32m---> 37\u001B[0;31m             \u001B[0mx\u001B[0m \u001B[0;34m=\u001B[0m \u001B[0milayer\u001B[0m\u001B[0;34m(\u001B[0m\u001B[0mx\u001B[0m\u001B[0;34m)\u001B[0m\u001B[0;34m\u001B[0m\u001B[0;34m\u001B[0m\u001B[0m\n\u001B[0m\u001B[1;32m     38\u001B[0m             \u001B[0mprint\u001B[0m\u001B[0;34m(\u001B[0m\u001B[0mx\u001B[0m\u001B[0;34m.\u001B[0m\u001B[0mshape\u001B[0m\u001B[0;34m,\u001B[0m \u001B[0mz\u001B[0m\u001B[0;34m.\u001B[0m\u001B[0mshape\u001B[0m\u001B[0;34m)\u001B[0m\u001B[0;34m\u001B[0m\u001B[0;34m\u001B[0m\u001B[0m\n\u001B[1;32m     39\u001B[0m             \u001B[0mhidden\u001B[0m\u001B[0;34m.\u001B[0m\u001B[0mappend\u001B[0m\u001B[0;34m(\u001B[0m\u001B[0mx\u001B[0m\u001B[0;34m)\u001B[0m\u001B[0;34m\u001B[0m\u001B[0;34m\u001B[0m\u001B[0m\n",
      "\u001B[0;32m~/miniconda3/envs/jax_cpu_py39/lib/python3.9/site-packages/equinox/nn/composed.py\u001B[0m in \u001B[0;36m__call__\u001B[0;34m(self, x, key)\u001B[0m\n\u001B[1;32m    122\u001B[0m             \u001B[0mkeys\u001B[0m \u001B[0;34m=\u001B[0m \u001B[0mjrandom\u001B[0m\u001B[0;34m.\u001B[0m\u001B[0msplit\u001B[0m\u001B[0;34m(\u001B[0m\u001B[0mkey\u001B[0m\u001B[0;34m,\u001B[0m \u001B[0mlen\u001B[0m\u001B[0;34m(\u001B[0m\u001B[0mself\u001B[0m\u001B[0;34m.\u001B[0m\u001B[0mlayers\u001B[0m\u001B[0;34m)\u001B[0m\u001B[0;34m)\u001B[0m\u001B[0;34m\u001B[0m\u001B[0;34m\u001B[0m\u001B[0m\n\u001B[1;32m    123\u001B[0m         \u001B[0;32mfor\u001B[0m \u001B[0mlayer\u001B[0m\u001B[0;34m,\u001B[0m \u001B[0mkey\u001B[0m \u001B[0;32min\u001B[0m \u001B[0mzip\u001B[0m\u001B[0;34m(\u001B[0m\u001B[0mself\u001B[0m\u001B[0;34m.\u001B[0m\u001B[0mlayers\u001B[0m\u001B[0;34m,\u001B[0m \u001B[0mkeys\u001B[0m\u001B[0;34m)\u001B[0m\u001B[0;34m:\u001B[0m\u001B[0;34m\u001B[0m\u001B[0;34m\u001B[0m\u001B[0m\n\u001B[0;32m--> 124\u001B[0;31m             \u001B[0mx\u001B[0m \u001B[0;34m=\u001B[0m \u001B[0mlayer\u001B[0m\u001B[0;34m(\u001B[0m\u001B[0mx\u001B[0m\u001B[0;34m,\u001B[0m \u001B[0mkey\u001B[0m\u001B[0;34m=\u001B[0m\u001B[0mkey\u001B[0m\u001B[0;34m)\u001B[0m\u001B[0;34m\u001B[0m\u001B[0;34m\u001B[0m\u001B[0m\n\u001B[0m\u001B[1;32m    125\u001B[0m         \u001B[0;32mreturn\u001B[0m \u001B[0mx\u001B[0m\u001B[0;34m\u001B[0m\u001B[0;34m\u001B[0m\u001B[0m\n\u001B[1;32m    126\u001B[0m \u001B[0;34m\u001B[0m\u001B[0m\n",
      "\u001B[0;32m~/miniconda3/envs/jax_cpu_py39/lib/python3.9/site-packages/equinox/nn/linear.py\u001B[0m in \u001B[0;36m__call__\u001B[0;34m(self, x, key)\u001B[0m\n\u001B[1;32m     73\u001B[0m         \"\"\"\n\u001B[1;32m     74\u001B[0m \u001B[0;34m\u001B[0m\u001B[0m\n\u001B[0;32m---> 75\u001B[0;31m         \u001B[0mx\u001B[0m \u001B[0;34m=\u001B[0m \u001B[0mself\u001B[0m\u001B[0;34m.\u001B[0m\u001B[0mweight\u001B[0m \u001B[0;34m@\u001B[0m \u001B[0mx\u001B[0m\u001B[0;34m\u001B[0m\u001B[0;34m\u001B[0m\u001B[0m\n\u001B[0m\u001B[1;32m     76\u001B[0m         \u001B[0;32mif\u001B[0m \u001B[0mself\u001B[0m\u001B[0;34m.\u001B[0m\u001B[0mbias\u001B[0m \u001B[0;32mis\u001B[0m \u001B[0;32mnot\u001B[0m \u001B[0;32mNone\u001B[0m\u001B[0;34m:\u001B[0m\u001B[0;34m\u001B[0m\u001B[0;34m\u001B[0m\u001B[0m\n\u001B[1;32m     77\u001B[0m             \u001B[0mx\u001B[0m \u001B[0;34m=\u001B[0m \u001B[0mx\u001B[0m \u001B[0;34m+\u001B[0m \u001B[0mself\u001B[0m\u001B[0;34m.\u001B[0m\u001B[0mbias\u001B[0m\u001B[0;34m\u001B[0m\u001B[0;34m\u001B[0m\u001B[0m\n",
      "\u001B[0;32m~/miniconda3/envs/jax_cpu_py39/lib/python3.9/site-packages/jax/_src/numpy/lax_numpy.py\u001B[0m in \u001B[0;36mdeferring_binary_op\u001B[0;34m(self, other)\u001B[0m\n\u001B[1;32m   4555\u001B[0m     \u001B[0;32mif\u001B[0m \u001B[0;32mnot\u001B[0m \u001B[0misinstance\u001B[0m\u001B[0;34m(\u001B[0m\u001B[0mother\u001B[0m\u001B[0;34m,\u001B[0m \u001B[0m_accepted_binop_types\u001B[0m\u001B[0;34m)\u001B[0m\u001B[0;34m:\u001B[0m\u001B[0;34m\u001B[0m\u001B[0;34m\u001B[0m\u001B[0m\n\u001B[1;32m   4556\u001B[0m       \u001B[0;32mreturn\u001B[0m \u001B[0mNotImplemented\u001B[0m\u001B[0;34m\u001B[0m\u001B[0;34m\u001B[0m\u001B[0m\n\u001B[0;32m-> 4557\u001B[0;31m     \u001B[0;32mreturn\u001B[0m \u001B[0mbinary_op\u001B[0m\u001B[0;34m(\u001B[0m\u001B[0mself\u001B[0m\u001B[0;34m,\u001B[0m \u001B[0mother\u001B[0m\u001B[0;34m)\u001B[0m\u001B[0;34m\u001B[0m\u001B[0;34m\u001B[0m\u001B[0m\n\u001B[0m\u001B[1;32m   4558\u001B[0m   \u001B[0;32mreturn\u001B[0m \u001B[0mdeferring_binary_op\u001B[0m\u001B[0;34m\u001B[0m\u001B[0;34m\u001B[0m\u001B[0m\n\u001B[1;32m   4559\u001B[0m \u001B[0;34m\u001B[0m\u001B[0m\n",
      "    \u001B[0;31m[... skipping hidden 14 frame]\u001B[0m\n",
      "\u001B[0;32m~/miniconda3/envs/jax_cpu_py39/lib/python3.9/site-packages/jax/_src/numpy/lax_numpy.py\u001B[0m in \u001B[0;36mmatmul\u001B[0;34m(a, b, precision)\u001B[0m\n\u001B[1;32m   2762\u001B[0m   \u001B[0ma\u001B[0m \u001B[0;34m=\u001B[0m \u001B[0mlax\u001B[0m\u001B[0;34m.\u001B[0m\u001B[0msqueeze\u001B[0m\u001B[0;34m(\u001B[0m\u001B[0ma\u001B[0m\u001B[0;34m,\u001B[0m \u001B[0mtuple\u001B[0m\u001B[0;34m(\u001B[0m\u001B[0ma_squeeze\u001B[0m\u001B[0;34m)\u001B[0m\u001B[0;34m)\u001B[0m\u001B[0;34m\u001B[0m\u001B[0;34m\u001B[0m\u001B[0m\n\u001B[1;32m   2763\u001B[0m   \u001B[0mb\u001B[0m \u001B[0;34m=\u001B[0m \u001B[0mlax\u001B[0m\u001B[0;34m.\u001B[0m\u001B[0msqueeze\u001B[0m\u001B[0;34m(\u001B[0m\u001B[0mb\u001B[0m\u001B[0;34m,\u001B[0m \u001B[0mtuple\u001B[0m\u001B[0;34m(\u001B[0m\u001B[0mb_squeeze\u001B[0m\u001B[0;34m)\u001B[0m\u001B[0;34m)\u001B[0m\u001B[0;34m\u001B[0m\u001B[0;34m\u001B[0m\u001B[0m\n\u001B[0;32m-> 2764\u001B[0;31m   out = lax.dot_general(\n\u001B[0m\u001B[1;32m   2765\u001B[0m     \u001B[0ma\u001B[0m\u001B[0;34m,\u001B[0m \u001B[0mb\u001B[0m\u001B[0;34m,\u001B[0m \u001B[0;34m(\u001B[0m\u001B[0;34m(\u001B[0m\u001B[0;34m(\u001B[0m\u001B[0mndim\u001B[0m\u001B[0;34m(\u001B[0m\u001B[0ma\u001B[0m\u001B[0;34m)\u001B[0m \u001B[0;34m-\u001B[0m \u001B[0;36m1\u001B[0m\u001B[0;34m,\u001B[0m\u001B[0;34m)\u001B[0m\u001B[0;34m,\u001B[0m \u001B[0;34m(\u001B[0m\u001B[0mndim\u001B[0m\u001B[0;34m(\u001B[0m\u001B[0mb\u001B[0m\u001B[0;34m)\u001B[0m \u001B[0;34m-\u001B[0m \u001B[0;36m1\u001B[0m \u001B[0;34m-\u001B[0m \u001B[0mb_is_mat\u001B[0m\u001B[0;34m,\u001B[0m\u001B[0;34m)\u001B[0m\u001B[0;34m)\u001B[0m\u001B[0;34m,\u001B[0m \u001B[0;34m(\u001B[0m\u001B[0ma_batch\u001B[0m\u001B[0;34m,\u001B[0m \u001B[0mb_batch\u001B[0m\u001B[0;34m)\u001B[0m\u001B[0;34m)\u001B[0m\u001B[0;34m,\u001B[0m\u001B[0;34m\u001B[0m\u001B[0;34m\u001B[0m\u001B[0m\n\u001B[1;32m   2766\u001B[0m     precision=precision)\n",
      "    \u001B[0;31m[... skipping hidden 7 frame]\u001B[0m\n",
      "\u001B[0;32m~/miniconda3/envs/jax_cpu_py39/lib/python3.9/site-packages/jax/_src/lax/lax.py\u001B[0m in \u001B[0;36m_dot_general_shape_rule\u001B[0;34m(lhs, rhs, dimension_numbers, precision, preferred_element_type)\u001B[0m\n\u001B[1;32m   2407\u001B[0m     msg = (\"dot_general requires contracting dimensions to have the same \"\n\u001B[1;32m   2408\u001B[0m            \"shape, got {} and {}.\")\n\u001B[0;32m-> 2409\u001B[0;31m     \u001B[0;32mraise\u001B[0m \u001B[0mTypeError\u001B[0m\u001B[0;34m(\u001B[0m\u001B[0mmsg\u001B[0m\u001B[0;34m.\u001B[0m\u001B[0mformat\u001B[0m\u001B[0;34m(\u001B[0m\u001B[0mlhs_contracting_shape\u001B[0m\u001B[0;34m,\u001B[0m \u001B[0mrhs_contracting_shape\u001B[0m\u001B[0;34m)\u001B[0m\u001B[0;34m)\u001B[0m\u001B[0;34m\u001B[0m\u001B[0;34m\u001B[0m\u001B[0m\n\u001B[0m\u001B[1;32m   2410\u001B[0m \u001B[0;34m\u001B[0m\u001B[0m\n\u001B[1;32m   2411\u001B[0m   \u001B[0;32mreturn\u001B[0m \u001B[0m_dot_general_shape_computation\u001B[0m\u001B[0;34m(\u001B[0m\u001B[0mlhs\u001B[0m\u001B[0;34m.\u001B[0m\u001B[0mshape\u001B[0m\u001B[0;34m,\u001B[0m \u001B[0mrhs\u001B[0m\u001B[0;34m.\u001B[0m\u001B[0mshape\u001B[0m\u001B[0;34m,\u001B[0m \u001B[0mdimension_numbers\u001B[0m\u001B[0;34m)\u001B[0m\u001B[0;34m\u001B[0m\u001B[0;34m\u001B[0m\u001B[0m\n",
      "\u001B[0;31mTypeError\u001B[0m: dot_general requires contracting dimensions to have the same shape, got (32,) and (544,)."
     ]
    }
   ],
   "source": [
    "latent_dim = 512\n",
    "n_hidden = 5\n",
    "layer = Modulator(latent_dim, model.hidden_dim, model.num_layers, key)\n",
    "\n",
    "latent = jrandom.normal(key, (latent_dim,))\n",
    "out = layer(latent)\n",
    "# out.shape"
   ]
  },
  {
   "cell_type": "code",
   "execution_count": 87,
   "id": "9c488269-400a-496e-bf16-4a515e6d653d",
   "metadata": {
    "pycharm": {
     "name": "#%%\n"
    }
   },
   "outputs": [],
   "source": [
    "from typing import Callable, List\n",
    "Array = jnp.ndarray\n",
    "from einops import rearrange\n",
    "\n",
    "class ModulatedSirenNet(eqx.Module):\n",
    "    \"\"\"SirenNet\"\"\"\n",
    "    siren_net: eqx.Module\n",
    "    latent : jnp.ndarray\n",
    "    layers: List[eqx.Module]\n",
    "\n",
    "    def __init__(\n",
    "        self,\n",
    "        siren_net: eqx.Module,\n",
    "        latent_dim,\n",
    "        key,\n",
    "    ):\n",
    "        super().__init__()\n",
    "        \"\"\"\"\"\"\n",
    "        keys = jrandom.split(key, siren_net.num_layers + 1)\n",
    "        \n",
    "        self.layers = [\n",
    "            eqx.nn.Linear(latent_dim, siren_net.hidden_dim, key=keys[0])\n",
    "        ]\n",
    "        \n",
    "        # Hidden layers\n",
    "        for ikey in keys[1:-1]:\n",
    "            self.layers.append(eqx.nn.Sequential(\n",
    "                [\n",
    "                    eqx.nn.Linear(\n",
    "                        siren_net.hidden_dim, siren_net.hidden_dim, key=ikey),\n",
    "                    ReLU()\n",
    "                ]\n",
    "            ))\n",
    "        \n",
    "        # First layer\n",
    "        self.siren_net = siren_net\n",
    "        self.latent = jrandom.normal(key=key, shape=(latent_dim,))\n",
    "\n",
    "    def __call__(self, x: Array) -> Array:\n",
    "        mod = self.latent\n",
    "        for ilayer_siren, ilayer_mod in zip(self.siren_net.layers[:-1], self.layers):\n",
    "            # siren layer\n",
    "            x = ilayer_siren(x)\n",
    "            #\n",
    "            mod = ilayer_mod(mod)\n",
    "            print(f\"z: {self.latent.shape} | mod: {mod.shape}\")\n",
    "            print(f\"x: {x.shape} | mod: {mod.shape}\")\n",
    "            # x *= rearrange(mod, 'd -> () d')\n",
    "            # mod = jnp.concatenate([mod, self.latent], axis=0)\n",
    "            print(f\"mod: {mod.shape}\")\n",
    "            break\n",
    "        return self.siren_net.layers[-1](x)"
   ]
  },
  {
   "cell_type": "code",
   "execution_count": 88,
   "id": "0cae16bb-fc57-4987-b46e-f66ff8194d3a",
   "metadata": {
    "pycharm": {
     "name": "#%%\n"
    }
   },
   "outputs": [
    {
     "name": "stdout",
     "output_type": "stream",
     "text": [
      "z: (512,) | mod: (32,)\n",
      "x: (32,) | mod: (32,)\n",
      "mod: (32,)\n",
      "(10,) (2,)\n"
     ]
    }
   ],
   "source": [
    "\n",
    "\n",
    "model = SirenNet(  \n",
    "    in_dim = n_dims,\n",
    "    hidden_dim = 32,\n",
    "    n_hidden = 5,\n",
    "    out_dim = 2,\n",
    "    w0_initial = 30,\n",
    "    w0 = 1.0,\n",
    "    c = 6.0,\n",
    "    key = net_key,\n",
    "    final_scale = 1.0,\n",
    "    final_activation = eqx.nn.Identity()\n",
    ")\n",
    "\n",
    "model = ModulatedSirenNet(\n",
    "    siren_net=model,\n",
    "    latent_dim=512,\n",
    "    key=key\n",
    ")\n",
    "\n",
    "# print(model)\n",
    "output = model(x)\n",
    "print(x.shape, output.shape)"
   ]
  },
  {
   "cell_type": "code",
   "execution_count": 36,
   "id": "7f4a065c-7785-4175-8fc9-9d9c610ae1dc",
   "metadata": {
    "pycharm": {
     "name": "#%%\n"
    }
   },
   "outputs": [
    {
     "data": {
      "text/plain": [
       "DeviceArray([0.85978925, 2.5954645 ], dtype=float32)"
      ]
     },
     "execution_count": 36,
     "metadata": {},
     "output_type": "execute_result"
    }
   ],
   "source": [
    "output"
   ]
  },
  {
   "cell_type": "code",
   "execution_count": null,
   "id": "e7bb1135-80e1-4e10-bea6-9cf64ecc4bd8",
   "metadata": {
    "pycharm": {
     "name": "#%%\n"
    }
   },
   "outputs": [],
   "source": []
  }
 ],
 "metadata": {
  "interpreter": {
   "hash": "70d2e25024e70c662658c456d9e0a340af3759493bed99b867179c40cf269d86"
  },
  "kernelspec": {
   "display_name": "Python [conda env:jax_cpu_py39]",
   "language": "python",
   "name": "conda-env-jax_cpu_py39-py"
  },
  "language_info": {
   "codemirror_mode": {
    "name": "ipython",
    "version": 3
   },
   "file_extension": ".py",
   "mimetype": "text/x-python",
   "name": "python",
   "nbconvert_exporter": "python",
   "pygments_lexer": "ipython3",
   "version": "3.9.12"
  }
 },
 "nbformat": 4,
 "nbformat_minor": 5
}