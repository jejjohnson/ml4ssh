{
 "cells": [
  {
   "cell_type": "markdown",
   "id": "7c00d4b7-e07e-4405-b643-c4db64f82510",
   "metadata": {
    "pycharm": {
     "name": "#%% md\n"
    }
   },
   "source": [
    "# Demo - Siren"
   ]
  },
  {
   "cell_type": "code",
   "execution_count": 62,
   "id": "c8a2ee9e-04cc-4c5e-a3eb-4742a7ad7cd1",
   "metadata": {
    "pycharm": {
     "name": "#%%\n"
    }
   },
   "outputs": [],
   "source": [
    "import os\n",
    "import sys\n",
    "\n",
    "from pyprojroot import here\n",
    "\n",
    "os.environ[\"PYTORCH_ENABLE_MPS_FALLBACK\"] = \"1\"\n",
    "\n",
    "# spyder up to find the root\n",
    "root = here(project_files=[\".root\"])\n",
    "exp = here(\n",
    "    relative_project_path=root.joinpath(\"experiments/expv2\"), project_files=[\".local\"]\n",
    ")\n",
    "\n",
    "\n",
    "# append to path\n",
    "sys.path.append(str(root))\n",
    "sys.path.append(str(exp))"
   ]
  },
  {
   "cell_type": "code",
   "execution_count": 2,
   "id": "b6cbe61e",
   "metadata": {
    "collapsed": false,
    "jupyter": {
     "outputs_hidden": false
    },
    "pycharm": {
     "name": "#%%\n"
    }
   },
   "outputs": [
    {
     "name": "stderr",
     "output_type": "stream",
     "text": [
      "Global seed set to 123\n"
     ]
    }
   ],
   "source": [
    "import imageio\n",
    "import numpy as np\n",
    "import pytorch_lightning as pl\n",
    "import torch\n",
    "import wandb\n",
    "from inr4ssh._src.data.ssh_obs import (\n",
    "    load_ssh_altimetry_data_test,\n",
    "    load_ssh_altimetry_data_train,\n",
    "    load_ssh_correction,\n",
    ")\n",
    "from inr4ssh._src.datamodules.ssh_obs import SSHAltimetry\n",
    "from inr4ssh._src.features.data_struct import df_2_xr\n",
    "from inr4ssh._src.interp import interp_on_alongtrack\n",
    "from inr4ssh._src.metrics.psd import compute_psd_scores, select_track_segments\n",
    "from inr4ssh._src.metrics.stats import (\n",
    "    calculate_nrmse,\n",
    "    calculate_nrmse_elementwise,\n",
    "    calculate_rmse_elementwise,\n",
    ")\n",
    "from inr4ssh._src.models.activations import get_activation\n",
    "from inr4ssh._src.models.siren import ModulatedSirenNet, Modulator, Siren, SirenNet\n",
    "from inr4ssh._src.postprocess.ssh_obs import postprocess\n",
    "from inr4ssh._src.preprocess.coords import (\n",
    "    correct_coordinate_labels,\n",
    "    correct_longitude_domain,\n",
    ")\n",
    "from inr4ssh._src.preprocess.subset import spatial_subset, temporal_subset\n",
    "from inr4ssh._src.viz.psd import plot_psd_score, plot_psd_spectrum\n",
    "from loguru import logger\n",
    "from skorch import NeuralNetRegressor\n",
    "from skorch.callbacks import EarlyStopping, LRScheduler, WandbLogger\n",
    "from skorch.dataset import ValidSplit\n",
    "from torch import nn\n",
    "from torch.optim.lr_scheduler import CosineAnnealingLR\n",
    "from tqdm.notebook import tqdm as tqdm\n",
    "\n",
    "pl.seed_everything(123)\n",
    "\n",
    "import matplotlib.pyplot as plt\n",
    "import seaborn as sns\n",
    "from inr4ssh._src.viz.movie import create_movie\n",
    "\n",
    "sns.reset_defaults()\n",
    "sns.set_context(context=\"talk\", font_scale=0.7)\n",
    "\n",
    "%matplotlib inline\n",
    "%load_ext autoreload\n",
    "%autoreload 2"
   ]
  },
  {
   "cell_type": "code",
   "execution_count": 3,
   "id": "4bb1ec00-7df4-4d5c-b8ad-b25c019f9ac5",
   "metadata": {},
   "outputs": [],
   "source": [
    "import argparse\n",
    "\n",
    "import config"
   ]
  },
  {
   "cell_type": "code",
   "execution_count": 4,
   "id": "b00dfbe2-1591-4880-8bfa-4a8ed4a716d6",
   "metadata": {},
   "outputs": [],
   "source": [
    "# initialize argparse\n",
    "parser = argparse.ArgumentParser()\n",
    "\n",
    "# add all experiment arguments\n",
    "parser = config.add_logging_args(parser)\n",
    "parser = config.add_data_dir_args(parser)\n",
    "parser = config.add_data_preprocess_args(parser)\n",
    "parser = config.add_feature_transform_args(parser)\n",
    "parser = config.add_train_split_args(parser)\n",
    "parser = config.add_dataloader_args(parser)\n",
    "parser = config.add_model_args(parser)\n",
    "parser = config.add_loss_args(parser)\n",
    "parser = config.add_optimizer_args(parser)\n",
    "parser = config.add_eval_data_args(parser)\n",
    "parser = config.add_eval_metrics_args(parser)\n",
    "parser = config.add_viz_data_args(parser)\n",
    "\n",
    "# parse args\n",
    "args = parser.parse_args([])\n",
    "\n",
    "# modify args (PERSONAL)\n",
    "args.train_data_dir = \"/Users/eman/.CMVolumes/cal1_workdir/data/dc_2021/raw/train\"\n",
    "args.ref_data_dir = \"/Users/eman/.CMVolumes/cal1_workdir/data/dc_2021/raw/ref\"\n",
    "args.test_data_dir = \"/Users/eman/.CMVolumes/cal1_workdir/data/dc_2021/raw/test\"\n",
    "\n",
    "# # modify args (MEOMCAL1)\n",
    "# args.train_data_dir = \"/home/johnsonj/data/dc_2021/raw/train\"\n",
    "# args.ref_data_dir = \"/home/johnsonj/data/dc_2021/raw/ref\"\n",
    "# args.test_data_dir = \"/home/johnsonj/data/dc_2021/raw/test\"\n",
    "#\n",
    "args.time_min = \"2017-01-01\"\n",
    "args.time_max = \"2017-02-01\"\n",
    "args.eval_time_min = \"2017-01-01\"\n",
    "args.eval_time_max = \"2017-02-01\"\n",
    "args.eval_dtime = \"12_h\"\n",
    "\n",
    "# logger args\n",
    "args.wandb_resume = True\n",
    "args.wandb_mode = \"disabled\"\n",
    "args.wandb_project = \"inr4ssh\"\n",
    "args.wandb_entity = \"ige\"\n",
    "args.wandb_log_dir = \"/Users/eman/code_projects/logs\"\n",
    "args.wandb_id = None"
   ]
  },
  {
   "cell_type": "code",
   "execution_count": 5,
   "id": "0fca27d6-260d-4f33-a6a7-449345da22a7",
   "metadata": {},
   "outputs": [
    {
     "name": "stderr",
     "output_type": "stream",
     "text": [
      "Failed to detect the name of this notebook, you can set it manually with the WANDB_NOTEBOOK_NAME environment variable to enable code saving.\n"
     ]
    }
   ],
   "source": [
    "wandb_run = wandb.init(\n",
    "    config=args,\n",
    "    mode=args.wandb_mode,\n",
    "    project=args.wandb_project,\n",
    "    entity=args.wandb_entity,\n",
    "    dir=args.wandb_log_dir,\n",
    "    resume=args.wandb_resume,\n",
    ")"
   ]
  },
  {
   "cell_type": "markdown",
   "id": "fbfb5c79-c118-4109-b973-36be10f0ced5",
   "metadata": {},
   "source": [
    "to extract a default argument if it is in the name space\n",
    "`lr = getattr(args, \"lr\", 1e-4)`"
   ]
  },
  {
   "cell_type": "code",
   "execution_count": 6,
   "id": "de9671ef-93b0-4ad0-9b1f-18443addeae8",
   "metadata": {},
   "outputs": [],
   "source": [
    "logger.info(\"Initializing data module...\")\n",
    "dm = SSHAltimetry(args)"
   ]
  },
  {
   "cell_type": "code",
   "execution_count": 7,
   "id": "3d40bc05-da7e-4f83-8c92-09500b741ad0",
   "metadata": {},
   "outputs": [
    {
     "name": "stderr",
     "output_type": "stream",
     "text": [
      "2022-07-06 10:48:15.253 | INFO     | inr4ssh._src.datamodules.ssh_obs:setup:24 - Getting training data...\n",
      "2022-07-06 10:48:15.253 | INFO     | inr4ssh._src.datamodules.ssh_obs:get_train_data:58 - loading data...\n",
      "100%|█████████████████████████████████████████████████████████████████████████████████████████████████████████████████████████████████████████████████████████████████████████████████████████████████████████████████████████████████████████████████████████████████████████████████████████████████████████████████████████████████████████| 6/6 [00:00<00:00, 90.31it/s]\n",
      "2022-07-06 10:48:15.498 | INFO     | inr4ssh._src.datamodules.ssh_obs:get_train_data:61 - subsetting data...\n",
      "2022-07-06 10:48:15.524 | INFO     | inr4ssh._src.datamodules.ssh_obs:get_train_data:64 - getting feature scaler...\n",
      "2022-07-06 10:48:15.524 | INFO     | inr4ssh._src.datamodules.ssh_obs:get_train_data:67 - feature scaling...\n",
      "2022-07-06 10:48:15.582 | INFO     | inr4ssh._src.datamodules.ssh_obs:setup:28 - Train/Validation Split...\n",
      "2022-07-06 10:48:15.592 | INFO     | inr4ssh._src.datamodules.ssh_obs:setup:31 - Getting evalulation data...\n",
      "2022-07-06 10:48:15.592 | INFO     | inr4ssh._src.datamodules.ssh_obs:get_eval_data:75 - loading evaluation data...\n",
      "2022-07-06 10:48:15.599 | INFO     | inr4ssh._src.datamodules.ssh_obs:setup:36 - scaling evaluation data...\n",
      "2022-07-06 10:48:15.628 | INFO     | inr4ssh._src.datamodules.ssh_obs:setup:41 - Creating dataloaders...\n"
     ]
    }
   ],
   "source": [
    "dm.setup()"
   ]
  },
  {
   "cell_type": "code",
   "execution_count": 8,
   "id": "6adaf9fd-214f-4070-92c9-2a42b1d643f9",
   "metadata": {},
   "outputs": [],
   "source": [
    "dl_train = dm.train_dataloader()\n",
    "dl_valid = dm.val_dataloader()\n",
    "dl_predict = dm.predict_dataloader()"
   ]
  },
  {
   "cell_type": "code",
   "execution_count": 9,
   "id": "b64937b0-37c1-45ef-94a8-f52eafad74ef",
   "metadata": {},
   "outputs": [
    {
     "data": {
      "text/plain": [
       "(255185, 28354, 167076)"
      ]
     },
     "execution_count": 9,
     "metadata": {},
     "output_type": "execute_result"
    }
   ],
   "source": [
    "len(dm.ds_train), len(dm.ds_valid), len(dm.ds_predict)"
   ]
  },
  {
   "cell_type": "markdown",
   "id": "432ef165-4e2a-41a6-94b8-a41f744946b7",
   "metadata": {},
   "source": [
    "## Skorch Training"
   ]
  },
  {
   "cell_type": "code",
   "execution_count": 10,
   "id": "9057e0f2-f12b-4818-aa87-cdae1cc908d1",
   "metadata": {},
   "outputs": [],
   "source": [
    "X_train, y_train = dm.ds_train[:]\n",
    "X_valid, y_valid = dm.ds_valid[:]\n",
    "(X_test,) = dm.ds_predict[:]\n",
    "X_train = torch.cat([X_train, X_valid])\n",
    "y_train = torch.cat([y_train, y_valid])"
   ]
  },
  {
   "cell_type": "code",
   "execution_count": 11,
   "id": "e31bc25c-a14f-45a0-94cd-17b4dd9dc1ff",
   "metadata": {},
   "outputs": [
    {
     "data": {
      "text/plain": [
       "(torch.Size([283539, 4]), torch.Size([167076, 4]))"
      ]
     },
     "execution_count": 11,
     "metadata": {},
     "output_type": "execute_result"
    }
   ],
   "source": [
    "X_train.shape, X_test.shape"
   ]
  },
  {
   "cell_type": "code",
   "execution_count": 12,
   "id": "78cc9388-628e-4017-aacc-bb65c3aa9eef",
   "metadata": {},
   "outputs": [],
   "source": [
    "logger.info(\"Creating neural network...\")\n",
    "dim_in = X_train.shape[1]\n",
    "dim_hidden = args.hidden_dim\n",
    "dim_out = y_train.shape[1]\n",
    "num_layers = args.n_hidden\n",
    "w0 = args.siren_w0\n",
    "w0_initial = args.siren_w0_initial\n",
    "c = args.siren_c\n",
    "final_activation = get_activation(args.final_activation)"
   ]
  },
  {
   "cell_type": "code",
   "execution_count": 13,
   "id": "950c4fd7-4748-4a19-b23e-4afd46281d46",
   "metadata": {},
   "outputs": [],
   "source": [
    "siren_net = SirenNet(\n",
    "    dim_in=dim_in,\n",
    "    dim_hidden=dim_hidden,\n",
    "    dim_out=dim_out,\n",
    "    num_layers=num_layers,\n",
    "    w0=w0,\n",
    "    w0_initial=w0_initial,\n",
    "    final_activation=final_activation,\n",
    ")"
   ]
  },
  {
   "cell_type": "code",
   "execution_count": 14,
   "id": "9df76795-a926-4d6d-9e28-190544641e0b",
   "metadata": {},
   "outputs": [],
   "source": [
    "# if torch.has_mps:\n",
    "#     device = \"mps\"\n",
    "# elif torch.has_cuda:\n",
    "#     device = \"cuda\"\n",
    "# else:\n",
    "#     device = \"cpu\"\n",
    "device = \"mps\""
   ]
  },
  {
   "cell_type": "code",
   "execution_count": 15,
   "id": "9bebe3b9-111c-480b-8533-c2f7e94432cf",
   "metadata": {},
   "outputs": [],
   "source": [
    "args.num_epochs = 500\n",
    "args.learning_rate = 1e-3"
   ]
  },
  {
   "cell_type": "code",
   "execution_count": 16,
   "id": "ed04efa7-382e-4e24-a0cb-9662f6166354",
   "metadata": {},
   "outputs": [],
   "source": [
    "# learning rate scheduler\n",
    "lr_scheduler = LRScheduler(\n",
    "    policy=\"ReduceLROnPlateau\",\n",
    "    monitor=\"valid_loss\",\n",
    "    mode=\"min\",\n",
    "    factor=0.1,\n",
    "    patience=10,\n",
    ")\n",
    "# learning rate scheduler\n",
    "\n",
    "# lr_scheduler = LRScheduler(\n",
    "#     policy=CosineAnnealingLR,\n",
    "#     T_max=args.num_epochs\n",
    "# )\n",
    "\n",
    "# early stopping\n",
    "estop_callback = EarlyStopping(\n",
    "    monitor=\"valid_loss\",\n",
    "    patience=50,\n",
    ")\n",
    "\n",
    "wandb_callback = WandbLogger(wandb_run, save_model=True)\n",
    "\n",
    "callbacks = [\n",
    "    (\"earlystopping\", estop_callback),\n",
    "    (\"lrscheduler\", lr_scheduler),\n",
    "    (\"wandb_logger\", wandb_callback),\n",
    "]"
   ]
  },
  {
   "cell_type": "code",
   "execution_count": 17,
   "id": "d704ed0d-b5c0-44ad-b637-af4b1a79b87d",
   "metadata": {},
   "outputs": [],
   "source": [
    "# train split percentage\n",
    "train_split = ValidSplit(0.1, stratified=False)"
   ]
  },
  {
   "cell_type": "code",
   "execution_count": 18,
   "id": "f250ae0e-39ee-4a2c-b527-4cf259bf6861",
   "metadata": {},
   "outputs": [],
   "source": [
    "skorch_net = NeuralNetRegressor(\n",
    "    module=siren_net,\n",
    "    max_epochs=args.num_epochs,\n",
    "    lr=args.learning_rate,\n",
    "    batch_size=args.batch_size,\n",
    "    device=device,\n",
    "    optimizer=torch.optim.Adam,\n",
    "    train_split=train_split,\n",
    "    callbacks=callbacks,\n",
    ")"
   ]
  },
  {
   "cell_type": "code",
   "execution_count": 19,
   "id": "f217fb2e-59d5-4d3f-97e0-3292118a0243",
   "metadata": {},
   "outputs": [
    {
     "name": "stdout",
     "output_type": "stream",
     "text": [
      "  epoch    train_loss    valid_loss     dur\n",
      "-------  ------------  ------------  ------\n",
      "      1        \u001b[36m0.9359\u001b[0m        \u001b[32m0.0186\u001b[0m  4.3141\n",
      "      2        \u001b[36m0.0161\u001b[0m        \u001b[32m0.0158\u001b[0m  4.4356\n",
      "      3        \u001b[36m0.0149\u001b[0m        \u001b[32m0.0149\u001b[0m  4.0709\n",
      "      4        \u001b[36m0.0144\u001b[0m        \u001b[32m0.0148\u001b[0m  3.8812\n",
      "      5        \u001b[36m0.0140\u001b[0m        \u001b[32m0.0146\u001b[0m  3.7104\n",
      "      6        \u001b[36m0.0138\u001b[0m        0.0157  3.7077\n",
      "      7        0.0139        \u001b[32m0.0144\u001b[0m  3.7633\n",
      "      8        \u001b[36m0.0138\u001b[0m        0.0145  3.7403\n",
      "      9        0.0138        \u001b[32m0.0141\u001b[0m  3.6911\n",
      "     10        0.0138        0.0155  3.7701\n",
      "     11        \u001b[36m0.0136\u001b[0m        0.0146  3.8288\n",
      "     12        \u001b[36m0.0135\u001b[0m        0.0155  3.7505\n",
      "     13        \u001b[36m0.0133\u001b[0m        0.0143  3.8396\n",
      "     14        \u001b[36m0.0131\u001b[0m        0.0155  3.7832\n",
      "     15        \u001b[36m0.0128\u001b[0m        \u001b[32m0.0134\u001b[0m  3.7820\n",
      "     16        \u001b[36m0.0127\u001b[0m        0.0154  3.7673\n",
      "     17        \u001b[36m0.0123\u001b[0m        \u001b[32m0.0126\u001b[0m  3.7131\n",
      "     18        0.0123        0.0154  3.7139\n",
      "     19        \u001b[36m0.0119\u001b[0m        \u001b[32m0.0123\u001b[0m  3.7325\n",
      "     20        0.0120        0.0148  4.0619\n",
      "     21        \u001b[36m0.0116\u001b[0m        \u001b[32m0.0121\u001b[0m  4.0091\n",
      "     22        0.0117        0.0144  4.1004\n",
      "     23        \u001b[36m0.0113\u001b[0m        \u001b[32m0.0120\u001b[0m  3.9685\n",
      "     24        0.0114        0.0142  3.8907\n",
      "     25        \u001b[36m0.0110\u001b[0m        \u001b[32m0.0116\u001b[0m  3.9106\n",
      "     26        0.0112        0.0141  3.8709\n",
      "     27        \u001b[36m0.0107\u001b[0m        \u001b[32m0.0111\u001b[0m  3.8848\n",
      "     28        0.0108        0.0136  3.7807\n",
      "     29        \u001b[36m0.0103\u001b[0m        \u001b[32m0.0106\u001b[0m  3.8283\n",
      "     30        0.0104        0.0123  3.7411\n",
      "     31        \u001b[36m0.0100\u001b[0m        \u001b[32m0.0105\u001b[0m  3.8214\n",
      "     32        \u001b[36m0.0100\u001b[0m        0.0114  3.7646\n",
      "     33        \u001b[36m0.0098\u001b[0m        \u001b[32m0.0103\u001b[0m  3.7542\n",
      "     34        \u001b[36m0.0096\u001b[0m        0.0109  3.8602\n",
      "     35        \u001b[36m0.0095\u001b[0m        \u001b[32m0.0101\u001b[0m  3.8819\n",
      "     36        \u001b[36m0.0094\u001b[0m        0.0103  3.8101\n",
      "     37        \u001b[36m0.0093\u001b[0m        \u001b[32m0.0098\u001b[0m  3.9213\n",
      "     38        \u001b[36m0.0093\u001b[0m        0.0099  3.7371\n",
      "     39        \u001b[36m0.0092\u001b[0m        0.0099  3.9515\n",
      "     40        \u001b[36m0.0091\u001b[0m        0.0100  3.7849\n",
      "     41        \u001b[36m0.0090\u001b[0m        0.0101  3.8076\n",
      "     42        \u001b[36m0.0089\u001b[0m        0.0099  3.7592\n",
      "     43        \u001b[36m0.0088\u001b[0m        \u001b[32m0.0096\u001b[0m  3.8476\n",
      "     44        \u001b[36m0.0086\u001b[0m        \u001b[32m0.0093\u001b[0m  3.8105\n",
      "     45        \u001b[36m0.0085\u001b[0m        \u001b[32m0.0090\u001b[0m  3.9462\n",
      "     46        \u001b[36m0.0084\u001b[0m        \u001b[32m0.0088\u001b[0m  3.8427\n",
      "     47        \u001b[36m0.0084\u001b[0m        \u001b[32m0.0086\u001b[0m  3.8518\n",
      "     48        \u001b[36m0.0083\u001b[0m        \u001b[32m0.0085\u001b[0m  3.8694\n",
      "     49        \u001b[36m0.0082\u001b[0m        \u001b[32m0.0084\u001b[0m  3.8536\n",
      "     50        \u001b[36m0.0082\u001b[0m        \u001b[32m0.0083\u001b[0m  3.7919\n",
      "     51        \u001b[36m0.0081\u001b[0m        \u001b[32m0.0082\u001b[0m  3.8349\n",
      "     52        \u001b[36m0.0081\u001b[0m        0.0084  3.8193\n",
      "     53        \u001b[36m0.0080\u001b[0m        0.0084  3.8933\n",
      "     54        \u001b[36m0.0079\u001b[0m        0.0085  3.8900\n",
      "     55        0.0081        0.0092  3.9177\n",
      "     56        0.0083        0.0085  3.8390\n",
      "     57        0.0081        \u001b[32m0.0079\u001b[0m  3.7829\n",
      "     58        0.0084        0.0091  3.9359\n",
      "     59        0.0081        0.0088  3.8689\n",
      "     60        \u001b[36m0.0079\u001b[0m        0.0086  3.9049\n",
      "     61        \u001b[36m0.0077\u001b[0m        0.0086  3.7986\n",
      "     62        \u001b[36m0.0077\u001b[0m        0.0089  3.7983\n",
      "     63        \u001b[36m0.0076\u001b[0m        \u001b[32m0.0079\u001b[0m  3.7906\n",
      "     64        \u001b[36m0.0076\u001b[0m        0.0082  3.7463\n",
      "     65        0.0076        0.0084  3.7603\n",
      "     66        \u001b[36m0.0074\u001b[0m        0.0085  3.9588\n",
      "     67        0.0075        \u001b[32m0.0078\u001b[0m  3.7336\n",
      "     68        0.0076        0.0080  3.8308\n",
      "     69        \u001b[36m0.0073\u001b[0m        \u001b[32m0.0074\u001b[0m  3.7885\n",
      "     70        \u001b[36m0.0072\u001b[0m        \u001b[32m0.0068\u001b[0m  3.7844\n",
      "     71        0.0072        0.0072  3.7978\n",
      "     72        0.0073        0.0073  3.7728\n",
      "     73        \u001b[36m0.0069\u001b[0m        0.0070  3.6943\n",
      "     74        0.0072        0.0085  3.7790\n",
      "     75        0.0070        0.0071  3.6977\n",
      "     76        0.0069        \u001b[32m0.0063\u001b[0m  3.7527\n",
      "     77        0.0072        0.0072  3.8120\n",
      "     78        \u001b[36m0.0066\u001b[0m        0.0096  3.7443\n",
      "     79        0.0076        0.0071  3.6789\n",
      "     80        0.0067        \u001b[32m0.0062\u001b[0m  3.7662\n",
      "     81        0.0071        0.0068  3.7669\n",
      "     82        \u001b[36m0.0063\u001b[0m        0.0102  3.7300\n",
      "     83        0.0070        0.0069  3.7379\n",
      "     84        0.0064        0.0063  3.7135\n",
      "     85        0.0064        \u001b[32m0.0061\u001b[0m  3.7487\n",
      "     86        0.0066        0.0064  3.8109\n",
      "     87        \u001b[36m0.0062\u001b[0m        \u001b[32m0.0059\u001b[0m  3.7699\n",
      "     88        0.0066        0.0066  3.7862\n",
      "     89        0.0067        \u001b[32m0.0057\u001b[0m  3.7558\n",
      "     90        0.0064        \u001b[32m0.0054\u001b[0m  3.7903\n",
      "     91        0.0063        0.0059  3.7862\n",
      "     92        \u001b[36m0.0060\u001b[0m        \u001b[32m0.0048\u001b[0m  3.7661\n",
      "     93        0.0073        0.0055  3.7532\n",
      "     94        \u001b[36m0.0060\u001b[0m        0.0056  3.9003\n",
      "     95        0.0063        0.0059  3.7648\n",
      "     96        0.0060        0.0052  3.7832\n",
      "     97        \u001b[36m0.0059\u001b[0m        0.0119  3.7504\n",
      "     98        0.0067        0.0058  3.7977\n",
      "     99        0.0060        0.0053  3.7794\n",
      "    100        \u001b[36m0.0058\u001b[0m        0.0053  3.8185\n",
      "    101        0.0058        0.0071  3.7789\n",
      "    102        0.0059        0.0065  3.7545\n",
      "    103        \u001b[36m0.0057\u001b[0m        0.0054  3.8474\n",
      "    104        \u001b[36m0.0037\u001b[0m        \u001b[32m0.0036\u001b[0m  3.8437\n",
      "    105        \u001b[36m0.0035\u001b[0m        \u001b[32m0.0035\u001b[0m  3.7670\n",
      "    106        \u001b[36m0.0034\u001b[0m        \u001b[32m0.0035\u001b[0m  3.8343\n",
      "    107        \u001b[36m0.0034\u001b[0m        \u001b[32m0.0035\u001b[0m  3.7737\n",
      "    108        \u001b[36m0.0034\u001b[0m        \u001b[32m0.0034\u001b[0m  3.7683\n",
      "    109        \u001b[36m0.0034\u001b[0m        \u001b[32m0.0034\u001b[0m  3.8028\n",
      "    110        \u001b[36m0.0033\u001b[0m        \u001b[32m0.0034\u001b[0m  3.7470\n",
      "    111        \u001b[36m0.0033\u001b[0m        \u001b[32m0.0034\u001b[0m  3.7558\n",
      "    112        \u001b[36m0.0033\u001b[0m        \u001b[32m0.0034\u001b[0m  3.8212\n",
      "    113        \u001b[36m0.0033\u001b[0m        \u001b[32m0.0033\u001b[0m  3.8205\n",
      "    114        \u001b[36m0.0033\u001b[0m        \u001b[32m0.0033\u001b[0m  3.7763\n",
      "    115        \u001b[36m0.0032\u001b[0m        \u001b[32m0.0033\u001b[0m  3.7937\n",
      "    116        \u001b[36m0.0032\u001b[0m        \u001b[32m0.0033\u001b[0m  4.1152\n",
      "    117        \u001b[36m0.0032\u001b[0m        \u001b[32m0.0033\u001b[0m  3.8657\n",
      "    118        \u001b[36m0.0032\u001b[0m        \u001b[32m0.0033\u001b[0m  3.8329\n",
      "    119        \u001b[36m0.0032\u001b[0m        \u001b[32m0.0033\u001b[0m  3.7873\n",
      "    120        \u001b[36m0.0032\u001b[0m        \u001b[32m0.0033\u001b[0m  3.7600\n",
      "    121        \u001b[36m0.0032\u001b[0m        \u001b[32m0.0033\u001b[0m  3.7534\n",
      "    122        \u001b[36m0.0032\u001b[0m        \u001b[32m0.0032\u001b[0m  3.7603\n",
      "    123        \u001b[36m0.0032\u001b[0m        \u001b[32m0.0032\u001b[0m  3.7590\n",
      "    124        \u001b[36m0.0031\u001b[0m        \u001b[32m0.0032\u001b[0m  3.7728\n",
      "    125        \u001b[36m0.0031\u001b[0m        \u001b[32m0.0032\u001b[0m  3.8512\n",
      "    126        \u001b[36m0.0031\u001b[0m        \u001b[32m0.0032\u001b[0m  3.8432\n",
      "    127        \u001b[36m0.0031\u001b[0m        \u001b[32m0.0032\u001b[0m  3.7160\n",
      "    128        \u001b[36m0.0031\u001b[0m        \u001b[32m0.0032\u001b[0m  3.7204\n",
      "    129        \u001b[36m0.0031\u001b[0m        \u001b[32m0.0032\u001b[0m  3.7684\n",
      "    130        \u001b[36m0.0031\u001b[0m        \u001b[32m0.0031\u001b[0m  3.7323\n",
      "    131        \u001b[36m0.0031\u001b[0m        \u001b[32m0.0031\u001b[0m  3.7346\n",
      "    132        \u001b[36m0.0031\u001b[0m        \u001b[32m0.0031\u001b[0m  3.7290\n",
      "    133        \u001b[36m0.0031\u001b[0m        \u001b[32m0.0031\u001b[0m  3.7364\n",
      "    134        \u001b[36m0.0031\u001b[0m        \u001b[32m0.0031\u001b[0m  3.7259\n",
      "    135        \u001b[36m0.0031\u001b[0m        \u001b[32m0.0031\u001b[0m  3.7198\n",
      "    136        \u001b[36m0.0030\u001b[0m        \u001b[32m0.0030\u001b[0m  3.7269\n",
      "    137        \u001b[36m0.0030\u001b[0m        \u001b[32m0.0030\u001b[0m  3.7350\n",
      "    138        \u001b[36m0.0030\u001b[0m        \u001b[32m0.0030\u001b[0m  3.7455\n",
      "    139        \u001b[36m0.0030\u001b[0m        \u001b[32m0.0030\u001b[0m  3.7541\n",
      "    140        \u001b[36m0.0030\u001b[0m        \u001b[32m0.0030\u001b[0m  3.7316\n",
      "    141        \u001b[36m0.0030\u001b[0m        \u001b[32m0.0030\u001b[0m  3.7325\n",
      "    142        \u001b[36m0.0030\u001b[0m        \u001b[32m0.0030\u001b[0m  3.7433\n",
      "    143        \u001b[36m0.0029\u001b[0m        \u001b[32m0.0030\u001b[0m  3.7201\n",
      "    144        \u001b[36m0.0029\u001b[0m        0.0030  3.7226\n",
      "    145        \u001b[36m0.0029\u001b[0m        0.0030  3.7468\n",
      "    146        \u001b[36m0.0029\u001b[0m        0.0030  3.7262\n",
      "    147        \u001b[36m0.0029\u001b[0m        0.0031  3.7176\n",
      "    148        \u001b[36m0.0029\u001b[0m        0.0031  3.7324\n",
      "    149        \u001b[36m0.0029\u001b[0m        0.0031  3.7286\n",
      "    150        \u001b[36m0.0029\u001b[0m        0.0031  3.7156\n",
      "    151        \u001b[36m0.0029\u001b[0m        0.0031  3.7444\n",
      "    152        \u001b[36m0.0029\u001b[0m        0.0031  3.7708\n",
      "    153        \u001b[36m0.0028\u001b[0m        0.0030  3.7726\n",
      "    154        \u001b[36m0.0028\u001b[0m        0.0030  3.7574\n",
      "    155        \u001b[36m0.0026\u001b[0m        \u001b[32m0.0027\u001b[0m  3.7894\n",
      "    156        \u001b[36m0.0026\u001b[0m        \u001b[32m0.0027\u001b[0m  3.8800\n",
      "    157        \u001b[36m0.0026\u001b[0m        \u001b[32m0.0027\u001b[0m  3.7952\n",
      "    158        \u001b[36m0.0026\u001b[0m        \u001b[32m0.0027\u001b[0m  3.7580\n",
      "    159        \u001b[36m0.0026\u001b[0m        \u001b[32m0.0026\u001b[0m  3.7645\n",
      "    160        \u001b[36m0.0026\u001b[0m        \u001b[32m0.0026\u001b[0m  3.7308\n",
      "    161        \u001b[36m0.0026\u001b[0m        \u001b[32m0.0026\u001b[0m  3.7692\n",
      "    162        \u001b[36m0.0026\u001b[0m        \u001b[32m0.0026\u001b[0m  3.7696\n",
      "    163        \u001b[36m0.0026\u001b[0m        \u001b[32m0.0026\u001b[0m  3.8032\n",
      "    164        \u001b[36m0.0026\u001b[0m        \u001b[32m0.0026\u001b[0m  3.7830\n",
      "    165        \u001b[36m0.0026\u001b[0m        \u001b[32m0.0026\u001b[0m  3.7659\n",
      "    166        \u001b[36m0.0026\u001b[0m        \u001b[32m0.0026\u001b[0m  3.7369\n",
      "    167        \u001b[36m0.0026\u001b[0m        \u001b[32m0.0026\u001b[0m  3.8016\n",
      "    168        \u001b[36m0.0026\u001b[0m        \u001b[32m0.0026\u001b[0m  3.9336\n",
      "    169        \u001b[36m0.0026\u001b[0m        \u001b[32m0.0026\u001b[0m  3.7713\n",
      "    170        \u001b[36m0.0026\u001b[0m        \u001b[32m0.0026\u001b[0m  3.8732\n",
      "    171        \u001b[36m0.0026\u001b[0m        \u001b[32m0.0026\u001b[0m  3.8431\n",
      "    172        \u001b[36m0.0026\u001b[0m        \u001b[32m0.0026\u001b[0m  3.7653\n",
      "    173        \u001b[36m0.0026\u001b[0m        \u001b[32m0.0026\u001b[0m  3.7974\n",
      "    174        \u001b[36m0.0026\u001b[0m        \u001b[32m0.0026\u001b[0m  3.8743\n",
      "    175        \u001b[36m0.0026\u001b[0m        \u001b[32m0.0026\u001b[0m  3.7141\n",
      "    176        \u001b[36m0.0026\u001b[0m        \u001b[32m0.0026\u001b[0m  3.7719\n",
      "    177        \u001b[36m0.0026\u001b[0m        \u001b[32m0.0026\u001b[0m  3.8151\n",
      "    178        \u001b[36m0.0026\u001b[0m        \u001b[32m0.0026\u001b[0m  3.8436\n",
      "    179        \u001b[36m0.0026\u001b[0m        \u001b[32m0.0026\u001b[0m  3.7807\n",
      "    180        \u001b[36m0.0025\u001b[0m        \u001b[32m0.0026\u001b[0m  3.8281\n",
      "    181        \u001b[36m0.0025\u001b[0m        \u001b[32m0.0026\u001b[0m  3.7430\n",
      "    182        \u001b[36m0.0025\u001b[0m        \u001b[32m0.0026\u001b[0m  3.8494\n",
      "    183        \u001b[36m0.0025\u001b[0m        \u001b[32m0.0026\u001b[0m  3.8860\n",
      "    184        \u001b[36m0.0025\u001b[0m        \u001b[32m0.0026\u001b[0m  3.8360\n",
      "    185        \u001b[36m0.0025\u001b[0m        \u001b[32m0.0026\u001b[0m  3.7475\n",
      "    186        \u001b[36m0.0025\u001b[0m        \u001b[32m0.0026\u001b[0m  3.7631\n",
      "    187        \u001b[36m0.0025\u001b[0m        \u001b[32m0.0026\u001b[0m  4.1596\n",
      "    188        \u001b[36m0.0025\u001b[0m        \u001b[32m0.0026\u001b[0m  3.7888\n",
      "    189        \u001b[36m0.0025\u001b[0m        \u001b[32m0.0026\u001b[0m  3.7699\n",
      "    190        \u001b[36m0.0025\u001b[0m        \u001b[32m0.0026\u001b[0m  3.7498\n",
      "    191        \u001b[36m0.0025\u001b[0m        \u001b[32m0.0026\u001b[0m  3.8027\n",
      "    192        \u001b[36m0.0025\u001b[0m        \u001b[32m0.0026\u001b[0m  3.8627\n",
      "    193        \u001b[36m0.0025\u001b[0m        \u001b[32m0.0026\u001b[0m  3.9138\n",
      "    194        \u001b[36m0.0025\u001b[0m        \u001b[32m0.0026\u001b[0m  3.9624\n",
      "    195        \u001b[36m0.0025\u001b[0m        \u001b[32m0.0026\u001b[0m  3.8632\n",
      "    196        \u001b[36m0.0025\u001b[0m        \u001b[32m0.0026\u001b[0m  3.8461\n",
      "    197        \u001b[36m0.0025\u001b[0m        \u001b[32m0.0026\u001b[0m  3.8076\n",
      "    198        \u001b[36m0.0025\u001b[0m        \u001b[32m0.0026\u001b[0m  3.8226\n",
      "    199        \u001b[36m0.0025\u001b[0m        \u001b[32m0.0026\u001b[0m  3.7923\n",
      "    200        \u001b[36m0.0025\u001b[0m        \u001b[32m0.0026\u001b[0m  3.8257\n",
      "    201        \u001b[36m0.0025\u001b[0m        \u001b[32m0.0026\u001b[0m  3.8983\n",
      "    202        \u001b[36m0.0025\u001b[0m        \u001b[32m0.0026\u001b[0m  3.9154\n",
      "    203        \u001b[36m0.0025\u001b[0m        \u001b[32m0.0026\u001b[0m  4.1010\n",
      "    204        \u001b[36m0.0025\u001b[0m        \u001b[32m0.0026\u001b[0m  4.5419\n",
      "    205        \u001b[36m0.0025\u001b[0m        \u001b[32m0.0026\u001b[0m  4.5008\n",
      "    206        \u001b[36m0.0025\u001b[0m        \u001b[32m0.0026\u001b[0m  4.5357\n",
      "    207        \u001b[36m0.0025\u001b[0m        \u001b[32m0.0026\u001b[0m  4.7502\n",
      "    208        \u001b[36m0.0025\u001b[0m        \u001b[32m0.0026\u001b[0m  4.1252\n",
      "    209        \u001b[36m0.0025\u001b[0m        \u001b[32m0.0026\u001b[0m  4.1407\n",
      "    210        \u001b[36m0.0025\u001b[0m        \u001b[32m0.0025\u001b[0m  3.8924\n",
      "    211        \u001b[36m0.0025\u001b[0m        \u001b[32m0.0025\u001b[0m  3.8414\n",
      "    212        \u001b[36m0.0025\u001b[0m        \u001b[32m0.0025\u001b[0m  4.1068\n",
      "    213        \u001b[36m0.0025\u001b[0m        \u001b[32m0.0025\u001b[0m  4.5929\n",
      "    214        \u001b[36m0.0025\u001b[0m        \u001b[32m0.0025\u001b[0m  4.7248\n",
      "    215        \u001b[36m0.0025\u001b[0m        \u001b[32m0.0025\u001b[0m  4.3794\n",
      "    216        \u001b[36m0.0025\u001b[0m        \u001b[32m0.0025\u001b[0m  4.4967\n",
      "    217        \u001b[36m0.0025\u001b[0m        \u001b[32m0.0025\u001b[0m  5.1467\n",
      "    218        \u001b[36m0.0025\u001b[0m        \u001b[32m0.0025\u001b[0m  4.1593\n",
      "    219        \u001b[36m0.0025\u001b[0m        \u001b[32m0.0025\u001b[0m  3.8374\n",
      "    220        \u001b[36m0.0025\u001b[0m        \u001b[32m0.0025\u001b[0m  3.7703\n",
      "    221        \u001b[36m0.0025\u001b[0m        \u001b[32m0.0025\u001b[0m  3.8377\n",
      "    222        \u001b[36m0.0025\u001b[0m        \u001b[32m0.0025\u001b[0m  3.7984\n",
      "    223        \u001b[36m0.0025\u001b[0m        \u001b[32m0.0025\u001b[0m  3.7975\n",
      "    224        \u001b[36m0.0025\u001b[0m        \u001b[32m0.0025\u001b[0m  3.8722\n",
      "    225        \u001b[36m0.0025\u001b[0m        \u001b[32m0.0025\u001b[0m  3.8129\n",
      "    226        \u001b[36m0.0024\u001b[0m        \u001b[32m0.0025\u001b[0m  3.8007\n",
      "    227        \u001b[36m0.0024\u001b[0m        \u001b[32m0.0025\u001b[0m  3.8065\n",
      "    228        \u001b[36m0.0024\u001b[0m        \u001b[32m0.0025\u001b[0m  3.8888\n",
      "    229        \u001b[36m0.0024\u001b[0m        \u001b[32m0.0025\u001b[0m  3.9370\n",
      "    230        \u001b[36m0.0024\u001b[0m        \u001b[32m0.0025\u001b[0m  3.8331\n",
      "    231        \u001b[36m0.0024\u001b[0m        \u001b[32m0.0025\u001b[0m  3.7725\n",
      "    232        \u001b[36m0.0024\u001b[0m        \u001b[32m0.0025\u001b[0m  3.7749\n",
      "    233        \u001b[36m0.0024\u001b[0m        \u001b[32m0.0025\u001b[0m  3.7806\n",
      "    234        \u001b[36m0.0024\u001b[0m        \u001b[32m0.0025\u001b[0m  3.7693\n",
      "    235        \u001b[36m0.0024\u001b[0m        \u001b[32m0.0025\u001b[0m  3.8265\n",
      "    236        \u001b[36m0.0024\u001b[0m        \u001b[32m0.0025\u001b[0m  3.8094\n",
      "    237        \u001b[36m0.0024\u001b[0m        \u001b[32m0.0025\u001b[0m  3.7777\n",
      "    238        \u001b[36m0.0024\u001b[0m        \u001b[32m0.0025\u001b[0m  3.7776\n",
      "    239        \u001b[36m0.0024\u001b[0m        \u001b[32m0.0025\u001b[0m  3.7625\n",
      "    240        \u001b[36m0.0024\u001b[0m        \u001b[32m0.0025\u001b[0m  3.8115\n",
      "    241        \u001b[36m0.0024\u001b[0m        \u001b[32m0.0025\u001b[0m  3.7802\n",
      "    242        \u001b[36m0.0024\u001b[0m        \u001b[32m0.0025\u001b[0m  3.7770\n",
      "    243        \u001b[36m0.0024\u001b[0m        \u001b[32m0.0025\u001b[0m  3.7685\n",
      "    244        \u001b[36m0.0024\u001b[0m        \u001b[32m0.0025\u001b[0m  3.7782\n",
      "    245        \u001b[36m0.0024\u001b[0m        \u001b[32m0.0025\u001b[0m  3.7877\n",
      "    246        \u001b[36m0.0024\u001b[0m        \u001b[32m0.0025\u001b[0m  3.7784\n",
      "    247        \u001b[36m0.0024\u001b[0m        \u001b[32m0.0025\u001b[0m  3.9779\n",
      "    248        \u001b[36m0.0024\u001b[0m        \u001b[32m0.0025\u001b[0m  4.3280\n",
      "    249        \u001b[36m0.0024\u001b[0m        \u001b[32m0.0025\u001b[0m  3.8111\n",
      "    250        \u001b[36m0.0024\u001b[0m        \u001b[32m0.0025\u001b[0m  3.8386\n",
      "    251        \u001b[36m0.0024\u001b[0m        \u001b[32m0.0025\u001b[0m  4.1150\n",
      "    252        \u001b[36m0.0024\u001b[0m        \u001b[32m0.0024\u001b[0m  4.5810\n",
      "    253        \u001b[36m0.0024\u001b[0m        \u001b[32m0.0024\u001b[0m  5.6038\n",
      "    254        \u001b[36m0.0024\u001b[0m        \u001b[32m0.0024\u001b[0m  4.8475\n",
      "    255        \u001b[36m0.0024\u001b[0m        \u001b[32m0.0024\u001b[0m  4.9621\n",
      "    256        \u001b[36m0.0024\u001b[0m        \u001b[32m0.0024\u001b[0m  4.7112\n",
      "    257        \u001b[36m0.0024\u001b[0m        \u001b[32m0.0024\u001b[0m  4.3687\n",
      "    258        \u001b[36m0.0024\u001b[0m        \u001b[32m0.0024\u001b[0m  4.0621\n",
      "    259        \u001b[36m0.0024\u001b[0m        \u001b[32m0.0024\u001b[0m  4.0170\n",
      "    260        \u001b[36m0.0024\u001b[0m        \u001b[32m0.0024\u001b[0m  3.8973\n",
      "    261        \u001b[36m0.0024\u001b[0m        \u001b[32m0.0024\u001b[0m  3.7532\n",
      "    262        \u001b[36m0.0024\u001b[0m        \u001b[32m0.0024\u001b[0m  3.7510\n",
      "    263        \u001b[36m0.0024\u001b[0m        \u001b[32m0.0024\u001b[0m  3.9287\n",
      "    264        \u001b[36m0.0024\u001b[0m        \u001b[32m0.0024\u001b[0m  3.8231\n",
      "    265        \u001b[36m0.0024\u001b[0m        \u001b[32m0.0024\u001b[0m  4.1159\n",
      "    266        \u001b[36m0.0024\u001b[0m        \u001b[32m0.0024\u001b[0m  3.8473\n",
      "    267        \u001b[36m0.0024\u001b[0m        \u001b[32m0.0024\u001b[0m  3.7627\n",
      "    268        \u001b[36m0.0024\u001b[0m        \u001b[32m0.0024\u001b[0m  4.0394\n",
      "    269        \u001b[36m0.0024\u001b[0m        \u001b[32m0.0024\u001b[0m  3.9525\n",
      "    270        \u001b[36m0.0024\u001b[0m        \u001b[32m0.0024\u001b[0m  3.8526\n",
      "    271        \u001b[36m0.0024\u001b[0m        \u001b[32m0.0024\u001b[0m  3.8577\n",
      "    272        \u001b[36m0.0024\u001b[0m        \u001b[32m0.0024\u001b[0m  3.7936\n",
      "    273        \u001b[36m0.0023\u001b[0m        \u001b[32m0.0024\u001b[0m  3.9080\n",
      "    274        \u001b[36m0.0023\u001b[0m        \u001b[32m0.0024\u001b[0m  3.9415\n",
      "    275        \u001b[36m0.0023\u001b[0m        \u001b[32m0.0024\u001b[0m  3.9028\n",
      "    276        \u001b[36m0.0023\u001b[0m        \u001b[32m0.0024\u001b[0m  3.8009\n",
      "    277        \u001b[36m0.0023\u001b[0m        \u001b[32m0.0024\u001b[0m  3.9315\n",
      "    278        \u001b[36m0.0023\u001b[0m        \u001b[32m0.0024\u001b[0m  3.8002\n",
      "    279        \u001b[36m0.0023\u001b[0m        \u001b[32m0.0024\u001b[0m  3.7530\n",
      "    280        \u001b[36m0.0023\u001b[0m        \u001b[32m0.0024\u001b[0m  3.7514\n",
      "    281        \u001b[36m0.0023\u001b[0m        \u001b[32m0.0024\u001b[0m  3.8872\n",
      "    282        \u001b[36m0.0023\u001b[0m        \u001b[32m0.0024\u001b[0m  4.2536\n",
      "    283        \u001b[36m0.0023\u001b[0m        \u001b[32m0.0024\u001b[0m  3.7817\n",
      "    284        \u001b[36m0.0023\u001b[0m        \u001b[32m0.0024\u001b[0m  3.8168\n",
      "    285        \u001b[36m0.0023\u001b[0m        \u001b[32m0.0024\u001b[0m  3.7944\n",
      "    286        \u001b[36m0.0023\u001b[0m        \u001b[32m0.0024\u001b[0m  3.7608\n",
      "    287        \u001b[36m0.0023\u001b[0m        \u001b[32m0.0024\u001b[0m  3.7878\n",
      "    288        \u001b[36m0.0023\u001b[0m        \u001b[32m0.0024\u001b[0m  3.8952\n",
      "    289        \u001b[36m0.0023\u001b[0m        \u001b[32m0.0024\u001b[0m  3.7928\n",
      "    290        \u001b[36m0.0023\u001b[0m        \u001b[32m0.0024\u001b[0m  3.8757\n",
      "    291        \u001b[36m0.0023\u001b[0m        \u001b[32m0.0024\u001b[0m  3.7786\n",
      "    292        \u001b[36m0.0023\u001b[0m        \u001b[32m0.0024\u001b[0m  3.7759\n",
      "    293        \u001b[36m0.0023\u001b[0m        \u001b[32m0.0024\u001b[0m  3.7729\n",
      "    294        \u001b[36m0.0023\u001b[0m        \u001b[32m0.0024\u001b[0m  3.7817\n",
      "    295        \u001b[36m0.0023\u001b[0m        \u001b[32m0.0024\u001b[0m  3.7652\n",
      "    296        \u001b[36m0.0023\u001b[0m        \u001b[32m0.0024\u001b[0m  3.8044\n",
      "    297        \u001b[36m0.0023\u001b[0m        \u001b[32m0.0024\u001b[0m  3.8381\n",
      "    298        \u001b[36m0.0023\u001b[0m        \u001b[32m0.0024\u001b[0m  3.7851\n",
      "    299        \u001b[36m0.0023\u001b[0m        \u001b[32m0.0024\u001b[0m  3.7935\n",
      "    300        \u001b[36m0.0023\u001b[0m        \u001b[32m0.0024\u001b[0m  3.7675\n",
      "    301        \u001b[36m0.0023\u001b[0m        \u001b[32m0.0024\u001b[0m  3.8000\n",
      "    302        \u001b[36m0.0023\u001b[0m        \u001b[32m0.0024\u001b[0m  3.7804\n",
      "    303        \u001b[36m0.0023\u001b[0m        \u001b[32m0.0024\u001b[0m  3.7679\n",
      "    304        \u001b[36m0.0023\u001b[0m        \u001b[32m0.0024\u001b[0m  3.7792\n",
      "    305        \u001b[36m0.0023\u001b[0m        \u001b[32m0.0023\u001b[0m  3.7797\n",
      "    306        \u001b[36m0.0023\u001b[0m        \u001b[32m0.0023\u001b[0m  3.7786\n",
      "    307        \u001b[36m0.0023\u001b[0m        \u001b[32m0.0023\u001b[0m  3.7678\n",
      "    308        \u001b[36m0.0023\u001b[0m        \u001b[32m0.0023\u001b[0m  3.7680\n",
      "    309        \u001b[36m0.0023\u001b[0m        \u001b[32m0.0023\u001b[0m  3.7925\n",
      "    310        \u001b[36m0.0023\u001b[0m        \u001b[32m0.0023\u001b[0m  3.7746\n",
      "    311        \u001b[36m0.0023\u001b[0m        \u001b[32m0.0023\u001b[0m  3.8192\n",
      "    312        \u001b[36m0.0023\u001b[0m        \u001b[32m0.0023\u001b[0m  3.8987\n",
      "    313        \u001b[36m0.0023\u001b[0m        \u001b[32m0.0023\u001b[0m  3.8613\n",
      "    314        \u001b[36m0.0023\u001b[0m        \u001b[32m0.0023\u001b[0m  3.7852\n",
      "    315        \u001b[36m0.0023\u001b[0m        \u001b[32m0.0023\u001b[0m  3.7808\n",
      "    316        \u001b[36m0.0023\u001b[0m        \u001b[32m0.0023\u001b[0m  3.7972\n",
      "    317        \u001b[36m0.0023\u001b[0m        \u001b[32m0.0023\u001b[0m  3.8104\n",
      "    318        \u001b[36m0.0023\u001b[0m        \u001b[32m0.0023\u001b[0m  3.7863\n",
      "    319        \u001b[36m0.0023\u001b[0m        \u001b[32m0.0023\u001b[0m  3.8159\n",
      "    320        \u001b[36m0.0023\u001b[0m        \u001b[32m0.0023\u001b[0m  3.7869\n",
      "    321        \u001b[36m0.0023\u001b[0m        \u001b[32m0.0023\u001b[0m  3.8989\n",
      "    322        \u001b[36m0.0023\u001b[0m        \u001b[32m0.0023\u001b[0m  4.0427\n",
      "    323        \u001b[36m0.0023\u001b[0m        \u001b[32m0.0023\u001b[0m  3.8048\n",
      "    324        \u001b[36m0.0023\u001b[0m        \u001b[32m0.0023\u001b[0m  4.0304\n",
      "    325        \u001b[36m0.0023\u001b[0m        \u001b[32m0.0023\u001b[0m  3.9419\n",
      "    326        \u001b[36m0.0023\u001b[0m        \u001b[32m0.0023\u001b[0m  3.9867\n",
      "    327        \u001b[36m0.0023\u001b[0m        \u001b[32m0.0023\u001b[0m  3.8682\n",
      "    328        \u001b[36m0.0023\u001b[0m        \u001b[32m0.0023\u001b[0m  3.8342\n",
      "    329        \u001b[36m0.0023\u001b[0m        \u001b[32m0.0023\u001b[0m  3.7690\n",
      "    330        \u001b[36m0.0023\u001b[0m        \u001b[32m0.0023\u001b[0m  3.9698\n",
      "    331        \u001b[36m0.0023\u001b[0m        \u001b[32m0.0023\u001b[0m  3.9536\n",
      "    332        \u001b[36m0.0023\u001b[0m        \u001b[32m0.0023\u001b[0m  3.8800\n",
      "    333        \u001b[36m0.0022\u001b[0m        \u001b[32m0.0023\u001b[0m  3.8013\n",
      "    334        \u001b[36m0.0022\u001b[0m        \u001b[32m0.0023\u001b[0m  3.7949\n",
      "    335        \u001b[36m0.0022\u001b[0m        \u001b[32m0.0023\u001b[0m  3.7828\n",
      "    336        \u001b[36m0.0022\u001b[0m        \u001b[32m0.0023\u001b[0m  3.8981\n",
      "    337        \u001b[36m0.0022\u001b[0m        \u001b[32m0.0023\u001b[0m  3.9623\n",
      "    338        \u001b[36m0.0022\u001b[0m        \u001b[32m0.0023\u001b[0m  3.8819\n",
      "    339        \u001b[36m0.0022\u001b[0m        \u001b[32m0.0023\u001b[0m  3.7987\n",
      "    340        \u001b[36m0.0022\u001b[0m        \u001b[32m0.0023\u001b[0m  3.8292\n",
      "    341        \u001b[36m0.0022\u001b[0m        \u001b[32m0.0023\u001b[0m  3.8259\n",
      "    342        \u001b[36m0.0022\u001b[0m        \u001b[32m0.0023\u001b[0m  4.0624\n",
      "    343        \u001b[36m0.0022\u001b[0m        \u001b[32m0.0023\u001b[0m  3.9362\n",
      "    344        \u001b[36m0.0022\u001b[0m        \u001b[32m0.0023\u001b[0m  3.9610\n",
      "    345        \u001b[36m0.0022\u001b[0m        \u001b[32m0.0023\u001b[0m  3.7842\n",
      "    346        \u001b[36m0.0022\u001b[0m        \u001b[32m0.0023\u001b[0m  3.8232\n",
      "    347        \u001b[36m0.0022\u001b[0m        \u001b[32m0.0023\u001b[0m  3.8014\n",
      "    348        \u001b[36m0.0022\u001b[0m        \u001b[32m0.0023\u001b[0m  3.7809\n",
      "    349        \u001b[36m0.0022\u001b[0m        \u001b[32m0.0023\u001b[0m  3.8063\n",
      "    350        \u001b[36m0.0022\u001b[0m        \u001b[32m0.0023\u001b[0m  3.8607\n",
      "    351        \u001b[36m0.0022\u001b[0m        \u001b[32m0.0023\u001b[0m  3.7995\n",
      "    352        \u001b[36m0.0022\u001b[0m        \u001b[32m0.0023\u001b[0m  3.8746\n",
      "    353        \u001b[36m0.0022\u001b[0m        \u001b[32m0.0023\u001b[0m  3.8008\n",
      "    354        \u001b[36m0.0022\u001b[0m        \u001b[32m0.0023\u001b[0m  3.7816\n",
      "    355        \u001b[36m0.0022\u001b[0m        \u001b[32m0.0023\u001b[0m  3.8146\n",
      "    356        \u001b[36m0.0022\u001b[0m        \u001b[32m0.0023\u001b[0m  3.7930\n",
      "    357        \u001b[36m0.0022\u001b[0m        \u001b[32m0.0023\u001b[0m  3.7869\n",
      "    358        \u001b[36m0.0022\u001b[0m        \u001b[32m0.0023\u001b[0m  3.8180\n",
      "    359        \u001b[36m0.0022\u001b[0m        \u001b[32m0.0023\u001b[0m  3.7782\n",
      "    360        \u001b[36m0.0022\u001b[0m        \u001b[32m0.0023\u001b[0m  3.7911\n",
      "    361        \u001b[36m0.0022\u001b[0m        \u001b[32m0.0023\u001b[0m  3.7801\n",
      "    362        \u001b[36m0.0022\u001b[0m        \u001b[32m0.0023\u001b[0m  3.7911\n",
      "    363        \u001b[36m0.0022\u001b[0m        \u001b[32m0.0023\u001b[0m  3.8127\n",
      "    364        \u001b[36m0.0022\u001b[0m        \u001b[32m0.0023\u001b[0m  3.8337\n",
      "    365        \u001b[36m0.0022\u001b[0m        \u001b[32m0.0023\u001b[0m  4.0888\n",
      "    366        \u001b[36m0.0022\u001b[0m        \u001b[32m0.0023\u001b[0m  3.8889\n",
      "    367        \u001b[36m0.0022\u001b[0m        \u001b[32m0.0023\u001b[0m  4.0599\n",
      "    368        \u001b[36m0.0022\u001b[0m        \u001b[32m0.0023\u001b[0m  3.9170\n",
      "    369        \u001b[36m0.0022\u001b[0m        \u001b[32m0.0023\u001b[0m  4.0934\n",
      "    370        \u001b[36m0.0022\u001b[0m        \u001b[32m0.0023\u001b[0m  3.8138\n",
      "    371        \u001b[36m0.0022\u001b[0m        \u001b[32m0.0023\u001b[0m  3.7822\n",
      "    372        \u001b[36m0.0022\u001b[0m        \u001b[32m0.0023\u001b[0m  3.8132\n",
      "    373        \u001b[36m0.0022\u001b[0m        \u001b[32m0.0022\u001b[0m  3.8247\n",
      "    374        \u001b[36m0.0022\u001b[0m        \u001b[32m0.0022\u001b[0m  4.0472\n",
      "    375        \u001b[36m0.0022\u001b[0m        \u001b[32m0.0022\u001b[0m  3.7916\n",
      "    376        \u001b[36m0.0022\u001b[0m        \u001b[32m0.0022\u001b[0m  3.9689\n",
      "    377        \u001b[36m0.0022\u001b[0m        \u001b[32m0.0022\u001b[0m  4.0048\n",
      "    378        \u001b[36m0.0022\u001b[0m        \u001b[32m0.0022\u001b[0m  4.5136\n",
      "    379        \u001b[36m0.0022\u001b[0m        \u001b[32m0.0022\u001b[0m  4.4283\n",
      "    380        \u001b[36m0.0022\u001b[0m        \u001b[32m0.0022\u001b[0m  4.5335\n",
      "    381        \u001b[36m0.0022\u001b[0m        \u001b[32m0.0022\u001b[0m  4.4865\n",
      "    382        \u001b[36m0.0022\u001b[0m        \u001b[32m0.0022\u001b[0m  4.4790\n",
      "    383        \u001b[36m0.0022\u001b[0m        \u001b[32m0.0022\u001b[0m  4.4989\n",
      "    384        \u001b[36m0.0022\u001b[0m        \u001b[32m0.0022\u001b[0m  4.6499\n",
      "    385        \u001b[36m0.0022\u001b[0m        \u001b[32m0.0022\u001b[0m  4.6351\n",
      "    386        \u001b[36m0.0022\u001b[0m        \u001b[32m0.0022\u001b[0m  4.7026\n",
      "    387        \u001b[36m0.0022\u001b[0m        \u001b[32m0.0022\u001b[0m  4.5830\n",
      "    388        \u001b[36m0.0022\u001b[0m        \u001b[32m0.0022\u001b[0m  4.5920\n",
      "    389        \u001b[36m0.0022\u001b[0m        \u001b[32m0.0022\u001b[0m  4.6666\n",
      "    390        \u001b[36m0.0022\u001b[0m        \u001b[32m0.0022\u001b[0m  4.6873\n",
      "    391        \u001b[36m0.0022\u001b[0m        \u001b[32m0.0022\u001b[0m  4.5532\n",
      "    392        \u001b[36m0.0022\u001b[0m        \u001b[32m0.0022\u001b[0m  4.6051\n",
      "    393        \u001b[36m0.0022\u001b[0m        \u001b[32m0.0022\u001b[0m  4.4690\n",
      "    394        \u001b[36m0.0022\u001b[0m        \u001b[32m0.0022\u001b[0m  4.6961\n",
      "    395        \u001b[36m0.0022\u001b[0m        \u001b[32m0.0022\u001b[0m  4.7469\n",
      "    396        \u001b[36m0.0022\u001b[0m        \u001b[32m0.0022\u001b[0m  4.4931\n",
      "    397        \u001b[36m0.0022\u001b[0m        \u001b[32m0.0022\u001b[0m  4.8583\n",
      "    398        \u001b[36m0.0022\u001b[0m        \u001b[32m0.0022\u001b[0m  4.4735\n",
      "    399        \u001b[36m0.0022\u001b[0m        \u001b[32m0.0022\u001b[0m  4.4852\n",
      "    400        \u001b[36m0.0022\u001b[0m        \u001b[32m0.0022\u001b[0m  4.5409\n",
      "    401        \u001b[36m0.0022\u001b[0m        \u001b[32m0.0022\u001b[0m  4.5036\n",
      "    402        \u001b[36m0.0022\u001b[0m        \u001b[32m0.0022\u001b[0m  4.4702\n",
      "    403        \u001b[36m0.0022\u001b[0m        \u001b[32m0.0022\u001b[0m  4.7862\n",
      "    404        \u001b[36m0.0022\u001b[0m        \u001b[32m0.0022\u001b[0m  4.5495\n",
      "    405        \u001b[36m0.0022\u001b[0m        \u001b[32m0.0022\u001b[0m  4.6588\n",
      "    406        \u001b[36m0.0022\u001b[0m        \u001b[32m0.0022\u001b[0m  4.6124\n",
      "    407        \u001b[36m0.0022\u001b[0m        \u001b[32m0.0022\u001b[0m  4.4778\n",
      "    408        \u001b[36m0.0021\u001b[0m        \u001b[32m0.0022\u001b[0m  4.5841\n",
      "    409        \u001b[36m0.0021\u001b[0m        \u001b[32m0.0022\u001b[0m  4.4712\n",
      "    410        \u001b[36m0.0021\u001b[0m        \u001b[32m0.0022\u001b[0m  4.5075\n",
      "    411        \u001b[36m0.0021\u001b[0m        \u001b[32m0.0022\u001b[0m  4.4136\n",
      "    412        \u001b[36m0.0021\u001b[0m        \u001b[32m0.0022\u001b[0m  4.4940\n",
      "    413        \u001b[36m0.0021\u001b[0m        \u001b[32m0.0022\u001b[0m  4.7874\n",
      "    414        \u001b[36m0.0021\u001b[0m        \u001b[32m0.0022\u001b[0m  5.3168\n",
      "    415        \u001b[36m0.0021\u001b[0m        \u001b[32m0.0022\u001b[0m  4.7029\n",
      "    416        \u001b[36m0.0021\u001b[0m        \u001b[32m0.0022\u001b[0m  4.7149\n",
      "    417        \u001b[36m0.0021\u001b[0m        \u001b[32m0.0022\u001b[0m  4.4478\n",
      "    418        \u001b[36m0.0021\u001b[0m        \u001b[32m0.0022\u001b[0m  4.3932\n",
      "    419        \u001b[36m0.0021\u001b[0m        \u001b[32m0.0022\u001b[0m  4.4089\n",
      "    420        \u001b[36m0.0021\u001b[0m        \u001b[32m0.0022\u001b[0m  4.5271\n",
      "    421        \u001b[36m0.0021\u001b[0m        \u001b[32m0.0022\u001b[0m  4.4554\n",
      "    422        \u001b[36m0.0021\u001b[0m        \u001b[32m0.0022\u001b[0m  4.4077\n",
      "    423        \u001b[36m0.0021\u001b[0m        \u001b[32m0.0022\u001b[0m  4.4148\n",
      "    424        \u001b[36m0.0021\u001b[0m        \u001b[32m0.0022\u001b[0m  4.2300\n",
      "    425        \u001b[36m0.0021\u001b[0m        \u001b[32m0.0022\u001b[0m  4.1547\n",
      "    426        \u001b[36m0.0021\u001b[0m        \u001b[32m0.0022\u001b[0m  3.9641\n",
      "    427        \u001b[36m0.0021\u001b[0m        \u001b[32m0.0022\u001b[0m  3.9120\n",
      "    428        \u001b[36m0.0021\u001b[0m        \u001b[32m0.0022\u001b[0m  4.1458\n",
      "    429        \u001b[36m0.0021\u001b[0m        \u001b[32m0.0022\u001b[0m  3.9004\n",
      "    430        \u001b[36m0.0021\u001b[0m        \u001b[32m0.0022\u001b[0m  3.9370\n",
      "    431        \u001b[36m0.0021\u001b[0m        \u001b[32m0.0022\u001b[0m  3.9321\n",
      "    432        \u001b[36m0.0021\u001b[0m        \u001b[32m0.0022\u001b[0m  3.9713\n",
      "    433        \u001b[36m0.0021\u001b[0m        \u001b[32m0.0022\u001b[0m  4.1116\n",
      "    434        \u001b[36m0.0021\u001b[0m        \u001b[32m0.0022\u001b[0m  4.5022\n",
      "    435        \u001b[36m0.0021\u001b[0m        \u001b[32m0.0022\u001b[0m  4.6350\n",
      "    436        \u001b[36m0.0021\u001b[0m        \u001b[32m0.0022\u001b[0m  4.5270\n",
      "    437        \u001b[36m0.0021\u001b[0m        \u001b[32m0.0022\u001b[0m  4.4628\n",
      "    438        \u001b[36m0.0021\u001b[0m        \u001b[32m0.0022\u001b[0m  5.0852\n",
      "    439        \u001b[36m0.0021\u001b[0m        \u001b[32m0.0022\u001b[0m  4.9962\n",
      "    440        \u001b[36m0.0021\u001b[0m        \u001b[32m0.0022\u001b[0m  5.0643\n",
      "    441        \u001b[36m0.0021\u001b[0m        \u001b[32m0.0022\u001b[0m  4.7982\n",
      "    442        \u001b[36m0.0021\u001b[0m        \u001b[32m0.0022\u001b[0m  4.6000\n",
      "    443        \u001b[36m0.0021\u001b[0m        \u001b[32m0.0022\u001b[0m  4.7401\n",
      "    444        \u001b[36m0.0021\u001b[0m        \u001b[32m0.0022\u001b[0m  4.5739\n",
      "    445        \u001b[36m0.0021\u001b[0m        \u001b[32m0.0022\u001b[0m  4.4412\n",
      "    446        \u001b[36m0.0021\u001b[0m        \u001b[32m0.0022\u001b[0m  4.0177\n",
      "    447        \u001b[36m0.0021\u001b[0m        \u001b[32m0.0022\u001b[0m  3.9485\n",
      "    448        \u001b[36m0.0021\u001b[0m        \u001b[32m0.0022\u001b[0m  3.9103\n",
      "    449        \u001b[36m0.0021\u001b[0m        \u001b[32m0.0022\u001b[0m  3.8498\n",
      "    450        \u001b[36m0.0021\u001b[0m        \u001b[32m0.0022\u001b[0m  3.9116\n",
      "    451        \u001b[36m0.0021\u001b[0m        \u001b[32m0.0022\u001b[0m  3.8875\n",
      "    452        \u001b[36m0.0021\u001b[0m        \u001b[32m0.0022\u001b[0m  3.8040\n",
      "    453        \u001b[36m0.0021\u001b[0m        \u001b[32m0.0022\u001b[0m  3.8706\n",
      "    454        \u001b[36m0.0021\u001b[0m        \u001b[32m0.0022\u001b[0m  3.9535\n",
      "    455        \u001b[36m0.0021\u001b[0m        \u001b[32m0.0022\u001b[0m  4.0903\n",
      "    456        \u001b[36m0.0021\u001b[0m        \u001b[32m0.0022\u001b[0m  3.9307\n",
      "    457        \u001b[36m0.0021\u001b[0m        \u001b[32m0.0022\u001b[0m  3.8281\n",
      "    458        \u001b[36m0.0021\u001b[0m        \u001b[32m0.0022\u001b[0m  3.7910\n",
      "    459        \u001b[36m0.0021\u001b[0m        \u001b[32m0.0022\u001b[0m  3.7606\n",
      "    460        \u001b[36m0.0021\u001b[0m        \u001b[32m0.0022\u001b[0m  3.7542\n",
      "    461        \u001b[36m0.0021\u001b[0m        \u001b[32m0.0021\u001b[0m  3.8788\n",
      "    462        \u001b[36m0.0021\u001b[0m        \u001b[32m0.0021\u001b[0m  3.9449\n",
      "    463        \u001b[36m0.0021\u001b[0m        \u001b[32m0.0021\u001b[0m  4.2632\n",
      "    464        \u001b[36m0.0021\u001b[0m        \u001b[32m0.0021\u001b[0m  4.2711\n",
      "    465        \u001b[36m0.0021\u001b[0m        \u001b[32m0.0021\u001b[0m  4.1988\n",
      "    466        \u001b[36m0.0021\u001b[0m        \u001b[32m0.0021\u001b[0m  4.2694\n",
      "    467        \u001b[36m0.0021\u001b[0m        \u001b[32m0.0021\u001b[0m  3.9006\n",
      "    468        \u001b[36m0.0021\u001b[0m        \u001b[32m0.0021\u001b[0m  3.8886\n",
      "    469        \u001b[36m0.0021\u001b[0m        \u001b[32m0.0021\u001b[0m  3.8307\n",
      "    470        \u001b[36m0.0021\u001b[0m        \u001b[32m0.0021\u001b[0m  3.8166\n",
      "    471        \u001b[36m0.0021\u001b[0m        \u001b[32m0.0021\u001b[0m  3.8475\n",
      "    472        \u001b[36m0.0021\u001b[0m        \u001b[32m0.0021\u001b[0m  3.9736\n",
      "    473        \u001b[36m0.0021\u001b[0m        \u001b[32m0.0021\u001b[0m  3.9287\n",
      "    474        \u001b[36m0.0021\u001b[0m        \u001b[32m0.0021\u001b[0m  4.0200\n",
      "    475        \u001b[36m0.0021\u001b[0m        \u001b[32m0.0021\u001b[0m  4.0412\n",
      "    476        \u001b[36m0.0021\u001b[0m        \u001b[32m0.0021\u001b[0m  3.9708\n",
      "    477        \u001b[36m0.0021\u001b[0m        \u001b[32m0.0021\u001b[0m  3.9548\n",
      "    478        \u001b[36m0.0021\u001b[0m        \u001b[32m0.0021\u001b[0m  4.0890\n",
      "    479        \u001b[36m0.0021\u001b[0m        \u001b[32m0.0021\u001b[0m  3.9587\n",
      "    480        \u001b[36m0.0021\u001b[0m        \u001b[32m0.0021\u001b[0m  3.8400\n",
      "    481        \u001b[36m0.0021\u001b[0m        \u001b[32m0.0021\u001b[0m  3.8896\n",
      "    482        \u001b[36m0.0021\u001b[0m        \u001b[32m0.0021\u001b[0m  4.0197\n",
      "    483        \u001b[36m0.0021\u001b[0m        \u001b[32m0.0021\u001b[0m  3.9849\n",
      "    484        \u001b[36m0.0021\u001b[0m        \u001b[32m0.0021\u001b[0m  4.0710\n",
      "    485        \u001b[36m0.0021\u001b[0m        \u001b[32m0.0021\u001b[0m  4.1618\n",
      "    486        \u001b[36m0.0021\u001b[0m        \u001b[32m0.0021\u001b[0m  3.9073\n",
      "    487        \u001b[36m0.0021\u001b[0m        \u001b[32m0.0021\u001b[0m  3.8096\n",
      "    488        \u001b[36m0.0021\u001b[0m        \u001b[32m0.0021\u001b[0m  4.1722\n",
      "    489        \u001b[36m0.0021\u001b[0m        \u001b[32m0.0021\u001b[0m  3.8533\n",
      "    490        \u001b[36m0.0021\u001b[0m        \u001b[32m0.0021\u001b[0m  3.7939\n",
      "    491        \u001b[36m0.0021\u001b[0m        \u001b[32m0.0021\u001b[0m  3.8320\n",
      "    492        \u001b[36m0.0021\u001b[0m        \u001b[32m0.0021\u001b[0m  3.8568\n",
      "    493        \u001b[36m0.0021\u001b[0m        \u001b[32m0.0021\u001b[0m  3.8906\n",
      "    494        \u001b[36m0.0021\u001b[0m        \u001b[32m0.0021\u001b[0m  3.9924\n",
      "    495        \u001b[36m0.0021\u001b[0m        \u001b[32m0.0021\u001b[0m  3.8676\n",
      "    496        \u001b[36m0.0021\u001b[0m        \u001b[32m0.0021\u001b[0m  3.8486\n",
      "    497        \u001b[36m0.0021\u001b[0m        \u001b[32m0.0021\u001b[0m  3.8026\n",
      "    498        \u001b[36m0.0021\u001b[0m        \u001b[32m0.0021\u001b[0m  4.1290\n",
      "    499        \u001b[36m0.0021\u001b[0m        \u001b[32m0.0021\u001b[0m  4.1902\n",
      "    500        \u001b[36m0.0021\u001b[0m        \u001b[32m0.0021\u001b[0m  4.1631\n"
     ]
    },
    {
     "data": {
      "text/plain": [
       "<class 'skorch.regressor.NeuralNetRegressor'>[initialized](\n",
       "  module_=SirenNet(\n",
       "    (layers): ModuleList(\n",
       "      (0): Siren(\n",
       "        (activation): Sine()\n",
       "      )\n",
       "      (1): Siren(\n",
       "        (activation): Sine()\n",
       "      )\n",
       "      (2): Siren(\n",
       "        (activation): Sine()\n",
       "      )\n",
       "      (3): Siren(\n",
       "        (activation): Sine()\n",
       "      )\n",
       "      (4): Siren(\n",
       "        (activation): Sine()\n",
       "      )\n",
       "      (5): Siren(\n",
       "        (activation): Sine()\n",
       "      )\n",
       "    )\n",
       "    (last_layer): Siren(\n",
       "      (activation): Identity()\n",
       "    )\n",
       "  ),\n",
       ")"
      ]
     },
     "execution_count": 19,
     "metadata": {},
     "output_type": "execute_result"
    }
   ],
   "source": [
    "skorch_net.fit(X_train, y_train)"
   ]
  },
  {
   "cell_type": "code",
   "execution_count": 20,
   "id": "850dc3a3-3b0d-4e33-9749-6fcc39b4d88e",
   "metadata": {},
   "outputs": [
    {
     "data": {
      "image/png": "[encoded data removed]",
      "text/plain": [
       "<Figure size 432x288 with 1 Axes>"
      ]
     },
     "metadata": {
      "needs_background": "light"
     },
     "output_type": "display_data"
    }
   ],
   "source": [
    "fig, ax = plt.subplots()\n",
    "\n",
    "ax.plot(skorch_net.history[:, \"train_loss\"], label=\"Train Loss\")\n",
    "ax.plot(skorch_net.history[:, \"valid_loss\"], label=\"Validation Loss\")\n",
    "\n",
    "ax.set(yscale=\"log\", xlabel=\"Epochs\", ylabel=\"Mean Squared Error\")\n",
    "\n",
    "plt.legend()\n",
    "plt.show()"
   ]
  },
  {
   "cell_type": "markdown",
   "id": "583a31ad-5ec3-490f-9a49-1fa781370c4f",
   "metadata": {},
   "source": [
    "## Predictions"
   ]
  },
  {
   "cell_type": "markdown",
   "id": "d5371e08-62dd-4d32-a518-6c8a76c6dfb2",
   "metadata": {},
   "source": [
    "### SSH Along Track"
   ]
  },
  {
   "cell_type": "code",
   "execution_count": 21,
   "id": "1c07e6ba-4c74-4aa7-90c6-fb7c76cac1e6",
   "metadata": {},
   "outputs": [
    {
     "name": "stdout",
     "output_type": "stream",
     "text": [
      "CPU times: user 1.45 s, sys: 109 ms, total: 1.56 s\n",
      "Wall time: 1.6 s\n"
     ]
    }
   ],
   "source": [
    "%%time\n",
    "\n",
    "# open along track dataset\n",
    "ds_alongtrack = load_ssh_altimetry_data_test(args.test_data_dir)\n",
    "\n",
    "# correct labels\n",
    "ds_alongtrack = correct_coordinate_labels(ds_alongtrack)\n",
    "\n",
    "# correct longitude domain\n",
    "ds_alongtrack = correct_longitude_domain(ds_alongtrack)\n",
    "\n",
    "# temporal subset\n",
    "ds_alongtrack = temporal_subset(\n",
    "    ds_alongtrack,\n",
    "    time_min=np.datetime64(args.time_min),\n",
    "    time_max=np.datetime64(args.time_max),\n",
    "    time_buffer=args.time_buffer,\n",
    ")\n",
    "\n",
    "# spatial subset\n",
    "ds_alongtrack = spatial_subset(\n",
    "    ds_alongtrack,\n",
    "    lon_min=args.eval_lon_min,\n",
    "    lon_max=args.eval_lon_max,\n",
    "    lon_buffer=args.eval_lon_buffer,\n",
    "    lat_min=args.eval_lat_min,\n",
    "    lat_max=args.eval_lat_max,\n",
    "    lat_buffer=args.eval_lat_buffer,\n",
    ")\n",
    "\n",
    "# convert to dataframe\n",
    "ds_alongtrack = ds_alongtrack.to_dataframe().reset_index().dropna()\n",
    "\n",
    "# convert to df using the transform\n",
    "X_test = dm.scaler.transform(ds_alongtrack)\n",
    "y_test = ds_alongtrack[\"sla_unfiltered\"]"
   ]
  },
  {
   "cell_type": "code",
   "execution_count": 22,
   "id": "db7ed229-2673-4848-9eb5-6108a6509d56",
   "metadata": {},
   "outputs": [
    {
     "name": "stdout",
     "output_type": "stream",
     "text": [
      "CPU times: user 123 ms, sys: 18.2 ms, total: 141 ms\n",
      "Wall time: 183 ms\n"
     ]
    }
   ],
   "source": [
    "%%time\n",
    "import time\n",
    "\n",
    "t0 = time.time()\n",
    "predictions = skorch_net.predict(torch.Tensor(X_test))\n",
    "t1 = time.time() - t0\n",
    "\n",
    "wandb_run.log(\n",
    "    {\n",
    "        \"time_predict_alongtrack\": t1,\n",
    "    }\n",
    ")"
   ]
  },
  {
   "cell_type": "markdown",
   "id": "a5de5886-56c8-4676-b6d2-601de20f5386",
   "metadata": {},
   "source": [
    "#### Stats"
   ]
  },
  {
   "cell_type": "code",
   "execution_count": 23,
   "id": "ba6dea67-5cd7-4f0f-b1d8-80624414093d",
   "metadata": {},
   "outputs": [],
   "source": [
    "rmse_mean, rmse_std = calculate_rmse_elementwise(y_test, predictions)\n",
    "\n",
    "wandb_run.log(\n",
    "    {\n",
    "        f\"rmse_mean_alongtrack\": rmse_mean,\n",
    "        f\"rmse_std_alongtrack\": rmse_std,\n",
    "    }\n",
    ")"
   ]
  },
  {
   "cell_type": "code",
   "execution_count": 24,
   "id": "8d4152f6-230b-4ece-8934-142dc20a8be8",
   "metadata": {},
   "outputs": [
    {
     "name": "stdout",
     "output_type": "stream",
     "text": [
      "RMSE: 0.04646690562367439\n",
      "RMSE (stddev): 0.04398259520530701\n"
     ]
    }
   ],
   "source": [
    "print(f\"RMSE: {rmse_mean}\\nRMSE (stddev): {rmse_std}\")"
   ]
  },
  {
   "cell_type": "code",
   "execution_count": 25,
   "id": "4a590035-e01e-4344-b160-49e79312de62",
   "metadata": {},
   "outputs": [
    {
     "name": "stdout",
     "output_type": "stream",
     "text": [
      "RMSE (custom): mean - 0.7756, stddev - 0.2124\n",
      "RMSE (std): mean - 0.7536, stddev - 0.2332\n",
      "RMSE (mean): mean - 0.4572, stddev - 0.5137\n",
      "RMSE (minmax): mean - 0.9744, stddev - 0.0242\n",
      "RMSE (iqr): mean - 0.7218, stddev - 0.2634\n"
     ]
    }
   ],
   "source": [
    "metrics = [\"custom\", \"std\", \"mean\", \"minmax\", \"iqr\"]\n",
    "\n",
    "for imetric in metrics:\n",
    "\n",
    "    nrmse_mean, nrmse_std = calculate_nrmse_elementwise(y_test, predictions, imetric)\n",
    "\n",
    "    print(f\"RMSE ({imetric}): mean - {nrmse_mean:.4f}, stddev - {nrmse_std:.4f}\")\n",
    "\n",
    "    wandb_run.log(\n",
    "        {\n",
    "            f\"nrmse_mean_alongtrack_{imetric}\": nrmse_mean,\n",
    "            f\"nrmse_std_alongtrack_{imetric}\": nrmse_std,\n",
    "        }\n",
    "    )"
   ]
  },
  {
   "cell_type": "markdown",
   "id": "19957eb6-b850-460b-8c3e-82fc06c354ad",
   "metadata": {},
   "source": [
    "#### PSD Score"
   ]
  },
  {
   "cell_type": "code",
   "execution_count": 26,
   "id": "eb6dade6-96cc-49ad-aea3-a4b8e19fee9a",
   "metadata": {},
   "outputs": [],
   "source": [
    "psd_metrics = compute_psd_scores(\n",
    "    ssh_true=y_test.squeeze(),\n",
    "    ssh_pred=predictions.squeeze(),\n",
    "    delta_x=args.eval_psd_velocity * args.eval_psd_delta_t,\n",
    "    npt=None,\n",
    "    scaling=\"density\",\n",
    "    noverlap=0,\n",
    ")"
   ]
  },
  {
   "cell_type": "code",
   "execution_count": 27,
   "id": "a10acf8d-8dbd-47e8-b7ea-a7470e73a2b1",
   "metadata": {},
   "outputs": [
    {
     "name": "stdout",
     "output_type": "stream",
     "text": [
      "Resolved Scale: 148.880 (km)\n"
     ]
    }
   ],
   "source": [
    "print(psd_metrics)"
   ]
  },
  {
   "cell_type": "code",
   "execution_count": 28,
   "id": "1d16a7e9-3d20-4fcc-8dba-29e9f273d783",
   "metadata": {},
   "outputs": [],
   "source": [
    "wandb_run.log(\n",
    "    {\n",
    "        \"resolved_scale_alongtrack\": psd_metrics.resolved_scale,\n",
    "    }\n",
    ")"
   ]
  },
  {
   "cell_type": "markdown",
   "id": "4dc9a6b7-5e75-4243-addd-996c7784f895",
   "metadata": {},
   "source": [
    "#### Viz - PSD Score"
   ]
  },
  {
   "cell_type": "code",
   "execution_count": 29,
   "id": "714b451b-125a-493f-af6c-f189a1038214",
   "metadata": {},
   "outputs": [
    {
     "data": {
      "image/png": "[encoded data removed]",
      "text/plain": [
       "<Figure size 504x360 with 1 Axes>"
      ]
     },
     "metadata": {
      "needs_background": "light"
     },
     "output_type": "display_data"
    }
   ],
   "source": [
    "fig, ax = plot_psd_score(\n",
    "    psd_diff=psd_metrics.psd_diff,\n",
    "    psd_ref=psd_metrics.psd_ref,\n",
    "    wavenumber=psd_metrics.wavenumber,\n",
    "    resolved_scale=psd_metrics.resolved_scale,\n",
    ")\n",
    "\n",
    "wandb_run.log(\n",
    "    {\n",
    "        \"psd_score_alongtrack\": wandb.Image(fig),\n",
    "    }\n",
    ")"
   ]
  },
  {
   "cell_type": "markdown",
   "id": "9ac21662-e3e8-4279-bcb8-f82c52146512",
   "metadata": {},
   "source": [
    "#### Viz - PSD Spectrum"
   ]
  },
  {
   "cell_type": "code",
   "execution_count": 30,
   "id": "95c30b2b-cbca-4dfa-a87a-9e6e47e498ae",
   "metadata": {},
   "outputs": [
    {
     "data": {
      "image/png": "[encoded data removed]",
      "text/plain": [
       "<Figure size 504x360 with 1 Axes>"
      ]
     },
     "metadata": {
      "needs_background": "light"
     },
     "output_type": "display_data"
    }
   ],
   "source": [
    "fig, ax = plot_psd_spectrum(\n",
    "    psd_study=psd_metrics.psd_study,\n",
    "    psd_ref=psd_metrics.psd_ref,\n",
    "    wavenumber=psd_metrics.wavenumber,\n",
    ")\n",
    "\n",
    "wandb_run.log(\n",
    "    {\n",
    "        \"psd_spectrum_alongtrack\": wandb.Image(fig),\n",
    "    }\n",
    ")"
   ]
  },
  {
   "cell_type": "markdown",
   "id": "84ae57ea-97f1-4564-a8ef-0d5e1b140416",
   "metadata": {},
   "source": [
    "### SSH Grid"
   ]
  },
  {
   "cell_type": "code",
   "execution_count": 31,
   "id": "719760fc-b65e-4c16-8158-399b702fe3b2",
   "metadata": {},
   "outputs": [
    {
     "name": "stderr",
     "output_type": "stream",
     "text": [
      "2022-07-06 11:21:37.478 | INFO     | __main__:<module>:5 - Making predictions...\n"
     ]
    },
    {
     "name": "stdout",
     "output_type": "stream",
     "text": [
      "CPU times: user 926 ms, sys: 68.9 ms, total: 995 ms\n",
      "Wall time: 1.4 s\n"
     ]
    }
   ],
   "source": [
    "%%time\n",
    "# extract grid variables\n",
    "(X_test,) = dm.ds_predict[:]\n",
    "\n",
    "# TESTING\n",
    "logger.info(\"Making predictions...\")\n",
    "t0 = time.time()\n",
    "predictions = skorch_net.predict(torch.FloatTensor(X_test))\n",
    "t1 = time.time() - t0"
   ]
  },
  {
   "cell_type": "code",
   "execution_count": 32,
   "id": "ccbc5476-015d-4eef-b4a7-df065dcf5fb8",
   "metadata": {},
   "outputs": [
    {
     "name": "stderr",
     "output_type": "stream",
     "text": [
      "2022-07-06 11:21:38.914 | INFO     | __main__:<cell line: 2>:2 - Convert data to xarray ds...\n"
     ]
    }
   ],
   "source": [
    "# convert to da\n",
    "logger.info(\"Convert data to xarray ds...\")\n",
    "ds_oi = dm.X_pred_index\n",
    "ds_oi[\"ssh\"] = predictions\n",
    "ds_oi = df_2_xr(ds_oi)"
   ]
  },
  {
   "cell_type": "code",
   "execution_count": 33,
   "id": "ccb28258-dbec-4150-8b67-639fb0d3a3c1",
   "metadata": {},
   "outputs": [
    {
     "name": "stderr",
     "output_type": "stream",
     "text": [
      "2022-07-06 11:21:38.965 | INFO     | __main__:<cell line: 2>:2 - Loading SSH corrections...\n"
     ]
    }
   ],
   "source": [
    "# open correction dataset\n",
    "logger.info(\"Loading SSH corrections...\")\n",
    "ds_correct = load_ssh_correction(args.ref_data_dir)"
   ]
  },
  {
   "cell_type": "code",
   "execution_count": 34,
   "id": "84dd47a9-1ea2-49a1-9d25-57f5c90ad8a5",
   "metadata": {},
   "outputs": [
    {
     "name": "stderr",
     "output_type": "stream",
     "text": [
      "2022-07-06 11:21:39.127 | INFO     | __main__:<cell line: 2>:2 - Correcting SSH predictions...\n"
     ]
    }
   ],
   "source": [
    "# correct predictions\n",
    "logger.info(\"Correcting SSH predictions...\")\n",
    "ds_oi = postprocess(ds_oi, ds_correct)"
   ]
  },
  {
   "cell_type": "code",
   "execution_count": 35,
   "id": "0a6426f6-db87-4e34-a121-884b92358a65",
   "metadata": {},
   "outputs": [
    {
     "name": "stderr",
     "output_type": "stream",
     "text": [
      "2022-07-06 11:21:39.162 | INFO     | __main__:<cell line: 2>:2 - Loading test dataset...\n",
      "2022-07-06 11:21:39.185 | INFO     | __main__:<cell line: 6>:6 - Interpolating alongtrack obs...\n"
     ]
    }
   ],
   "source": [
    "# open along track dataset\n",
    "logger.info(\"Loading test dataset...\")\n",
    "ds_alongtrack = load_ssh_altimetry_data_test(args.test_data_dir)\n",
    "\n",
    "# interpolate along track\n",
    "logger.info(\"Interpolating alongtrack obs...\")\n",
    "alongtracks = interp_on_alongtrack(\n",
    "    gridded_dataset=ds_oi,\n",
    "    ds_alongtrack=ds_alongtrack,\n",
    "    lon_min=args.eval_lon_min,\n",
    "    lon_max=args.eval_lon_max,\n",
    "    lat_min=args.eval_lat_min,\n",
    "    lat_max=args.eval_lat_max,\n",
    "    time_min=args.eval_time_min,\n",
    "    time_max=args.eval_time_max,\n",
    ")"
   ]
  },
  {
   "cell_type": "markdown",
   "id": "f9ac7c00-6364-4368-a00d-2ec2c053c99b",
   "metadata": {},
   "source": [
    "#### Stats"
   ]
  },
  {
   "cell_type": "code",
   "execution_count": 36,
   "id": "4e41fe16-601e-49d1-aab8-d3e82b2046c2",
   "metadata": {},
   "outputs": [
    {
     "name": "stderr",
     "output_type": "stream",
     "text": [
      "2022-07-06 11:21:39.277 | INFO     | __main__:<cell line: 2>:2 - Getting RMSE Metrics...\n"
     ]
    },
    {
     "name": "stdout",
     "output_type": "stream",
     "text": [
      "RMSE (Mean): 0.071\n",
      "RMSE (Std): 0.019\n",
      "NRMSE (Mean): 0.862\n",
      "NRMSE (Std): 0.069\n"
     ]
    }
   ],
   "source": [
    "# RMSE\n",
    "logger.info(\"Getting RMSE Metrics...\")\n",
    "\n",
    "\n",
    "rmse_metrics = calculate_nrmse(\n",
    "    true=alongtracks.ssh_alongtrack,\n",
    "    pred=alongtracks.ssh_map,\n",
    "    time_vector=alongtracks.time,\n",
    "    dt_freq=args.eval_bin_time_step,\n",
    "    min_obs=args.eval_min_obs,\n",
    ")\n",
    "\n",
    "print(rmse_metrics)\n",
    "wandb_run.log(\n",
    "    {\n",
    "        \"rmse_mean_grid\": rmse_metrics.rmse_mean,\n",
    "        \"rmse_std_grid\": rmse_metrics.rmse_std,\n",
    "        \"nrmse_mean_grid\": rmse_metrics.nrmse_mean,\n",
    "        \"nrmse_std_grid\": rmse_metrics.nrmse_std,\n",
    "    }\n",
    ")"
   ]
  },
  {
   "cell_type": "markdown",
   "id": "546c3943-55e6-4e09-b297-70f2b8d0adf8",
   "metadata": {},
   "source": [
    "#### PSD"
   ]
  },
  {
   "cell_type": "code",
   "execution_count": 37,
   "id": "a86ffbd6-89c0-4241-af6b-e853a31e19f6",
   "metadata": {},
   "outputs": [
    {
     "name": "stderr",
     "output_type": "stream",
     "text": [
      "2022-07-06 11:21:39.526 | INFO     | __main__:<cell line: 1>:1 - Selecting track segments...\n"
     ]
    }
   ],
   "source": [
    "logger.info(\"Selecting track segments...\")\n",
    "tracks = select_track_segments(\n",
    "    time_alongtrack=alongtracks.time,\n",
    "    lat_alongtrack=alongtracks.lat,\n",
    "    lon_alongtrack=alongtracks.lon,\n",
    "    ssh_alongtrack=alongtracks.ssh_alongtrack,\n",
    "    ssh_map_interp=alongtracks.ssh_map,\n",
    ")\n",
    "\n",
    "delta_x = args.eval_psd_velocity * args.eval_psd_delta_t"
   ]
  },
  {
   "cell_type": "code",
   "execution_count": 38,
   "id": "48085a9e-8874-42c6-94bc-861b1135b37a",
   "metadata": {},
   "outputs": [
    {
     "name": "stderr",
     "output_type": "stream",
     "text": [
      "2022-07-06 11:21:39.559 | INFO     | __main__:<cell line: 2>:2 - Computing PSD Scores...\n"
     ]
    }
   ],
   "source": [
    "# compute scores\n",
    "logger.info(\"Computing PSD Scores...\")\n",
    "psd_metrics = compute_psd_scores(\n",
    "    ssh_true=tracks.ssh_alongtrack,\n",
    "    ssh_pred=tracks.ssh_map,\n",
    "    delta_x=delta_x,\n",
    "    npt=tracks.npt,\n",
    "    scaling=\"density\",\n",
    "    noverlap=0,\n",
    ")"
   ]
  },
  {
   "cell_type": "code",
   "execution_count": 39,
   "id": "ec35488e-abed-47ce-adb3-debd2f15e447",
   "metadata": {},
   "outputs": [
    {
     "name": "stdout",
     "output_type": "stream",
     "text": [
      "Resolved Scale: 134.759 (km)\n"
     ]
    }
   ],
   "source": [
    "print(psd_metrics)"
   ]
  },
  {
   "cell_type": "code",
   "execution_count": 40,
   "id": "3268b065-7bbe-4208-b257-477cc5e8efa4",
   "metadata": {},
   "outputs": [],
   "source": [
    "wandb_run.log(\n",
    "    {\n",
    "        \"resolved_scale_grid\": psd_metrics.resolved_scale,\n",
    "    }\n",
    ")"
   ]
  },
  {
   "cell_type": "markdown",
   "id": "8f8850c6-bb0e-45b2-b276-ec7fe787ac55",
   "metadata": {},
   "source": [
    "#### Viz - PSD Spectraum"
   ]
  },
  {
   "cell_type": "code",
   "execution_count": 41,
   "id": "b435f45c-ff25-40fa-a348-5ee0b7f84e22",
   "metadata": {},
   "outputs": [
    {
     "name": "stderr",
     "output_type": "stream",
     "text": [
      "2022-07-06 11:21:39.662 | INFO     | __main__:<cell line: 1>:1 - Plotting PSD Score...\n"
     ]
    },
    {
     "data": {
      "image/png": "[encoded data removed]",
      "text/plain": [
       "<Figure size 504x360 with 1 Axes>"
      ]
     },
     "metadata": {
      "needs_background": "light"
     },
     "output_type": "display_data"
    }
   ],
   "source": [
    "logger.info(\"Plotting PSD Score...\")\n",
    "fig, ax = plot_psd_spectrum(\n",
    "    psd_study=psd_metrics.psd_study,\n",
    "    psd_ref=psd_metrics.psd_ref,\n",
    "    wavenumber=psd_metrics.wavenumber,\n",
    ")\n",
    "\n",
    "wandb_run.log(\n",
    "    {\n",
    "        \"psd_spectrum_grid\": wandb.Image(fig),\n",
    "    }\n",
    ")"
   ]
  },
  {
   "cell_type": "markdown",
   "id": "324b2c6b-dde3-4a39-a985-0b8c1f6c1326",
   "metadata": {},
   "source": [
    "#### Viz - PSD Score"
   ]
  },
  {
   "cell_type": "code",
   "execution_count": null,
   "id": "2c605e78-8a24-4254-84ed-f6027fc7424b",
   "metadata": {},
   "outputs": [],
   "source": []
  },
  {
   "cell_type": "code",
   "execution_count": 42,
   "id": "7e56f4f0-3e09-4476-ab34-80299638ea7c",
   "metadata": {},
   "outputs": [
    {
     "name": "stderr",
     "output_type": "stream",
     "text": [
      "2022-07-06 11:21:40.113 | INFO     | __main__:<cell line: 1>:1 - Plotting PSD Score...\n"
     ]
    },
    {
     "data": {
      "image/png": "[encoded data removed]",
      "text/plain": [
       "<Figure size 504x360 with 1 Axes>"
      ]
     },
     "metadata": {
      "needs_background": "light"
     },
     "output_type": "display_data"
    },
    {
     "name": "stderr",
     "output_type": "stream",
     "text": [
      "2022-07-06 11:21:40.312 | INFO     | __main__:<cell line: 15>:15 - Finished Script...!\n"
     ]
    }
   ],
   "source": [
    "logger.info(\"Plotting PSD Score...\")\n",
    "fig, ax = plot_psd_score(\n",
    "    psd_diff=psd_metrics.psd_diff,\n",
    "    psd_ref=psd_metrics.psd_ref,\n",
    "    wavenumber=psd_metrics.wavenumber,\n",
    "    resolved_scale=psd_metrics.resolved_scale,\n",
    ")\n",
    "\n",
    "wandb_run.log(\n",
    "    {\n",
    "        \"psd_score_grid\": wandb.Image(fig),\n",
    "    }\n",
    ")\n",
    "\n",
    "logger.info(\"Finished Script...!\")"
   ]
  },
  {
   "cell_type": "markdown",
   "id": "29683d68-c519-4bbc-b1fd-abfca1570d1e",
   "metadata": {},
   "source": [
    "## Visualization"
   ]
  },
  {
   "cell_type": "markdown",
   "id": "7979d9f2-3659-4048-bd68-0288d162a6ef",
   "metadata": {},
   "source": [
    "#### SSH Field"
   ]
  },
  {
   "cell_type": "code",
   "execution_count": 43,
   "id": "b52e7988-b7a7-4007-98ab-56613724ff21",
   "metadata": {},
   "outputs": [],
   "source": [
    "# import hvplot.xarray"
   ]
  },
  {
   "cell_type": "code",
   "execution_count": 44,
   "id": "76c623ab-4d90-45a6-a336-5414e5e9ad5e",
   "metadata": {},
   "outputs": [],
   "source": [
    "# ds_oi.ssh.hvplot.image(\n",
    "#     x=\"longitude\",\n",
    "#     y=\"latitude\",\n",
    "#     # groupby='time',\n",
    "#     # rasterize=True,\n",
    "#     width=500, height=400, cmap=\"viridis\")"
   ]
  },
  {
   "cell_type": "code",
   "execution_count": 45,
   "id": "a0752139-9106-45fc-b9bb-cef023536416",
   "metadata": {},
   "outputs": [],
   "source": [
    "save_path = wandb.run.dir"
   ]
  },
  {
   "cell_type": "code",
   "execution_count": 46,
   "id": "d9ed904b-38c8-4e3d-a474-2cf06ab94937",
   "metadata": {},
   "outputs": [
    {
     "name": "stderr",
     "output_type": "stream",
     "text": [
      "/Users/eman/miniconda3/envs/torch_py39/lib/python3.9/site-packages/xmovie/core.py:46: UserWarning: No `vmin` provided. Data limits are calculated from input. Depending on the input this can take long. Pass `vmin` to avoid this step\n",
      "  warnings.warn(\n",
      "/Users/eman/miniconda3/envs/torch_py39/lib/python3.9/site-packages/xmovie/core.py:53: UserWarning: No `vmax` provided. Data limits are calculated from input. Depending on the input this can take long. Pass `vmax` to avoid this step\n",
      "  warnings.warn(\n"
     ]
    },
    {
     "data": {
      "application/vnd.jupyter.widget-view+json": {
       "model_id": "19f0e4f0d7cc4d2eb1f2e6c9ed159d68",
       "version_major": 2,
       "version_minor": 0
      },
      "text/plain": [
       "  0%|          | 0/63 [00:00<?, ?it/s]"
      ]
     },
     "metadata": {},
     "output_type": "display_data"
    },
    {
     "name": "stdout",
     "output_type": "stream",
     "text": [
      "Movie created at movie_pred.mp4\n",
      "GIF created at movie_pred.gif\n"
     ]
    }
   ],
   "source": [
    "create_movie(ds_oi.ssh, f\"pred\", \"time\", cmap=\"viridis\", file_path=save_path)"
   ]
  },
  {
   "cell_type": "markdown",
   "id": "20ecc79a-d1e7-45cc-8f8d-03b7db604256",
   "metadata": {},
   "source": [
    "#### Gradient (Norm)"
   ]
  },
  {
   "cell_type": "code",
   "execution_count": 47,
   "id": "1c37aae7-ec21-453f-8127-1a6cb4ca1df9",
   "metadata": {},
   "outputs": [],
   "source": [
    "from inr4ssh._src.operators.finite_diff import calculate_gradient, calculate_laplacian\n",
    "\n",
    "ds_oi[\"ssh_grad\"] = calculate_gradient(ds_oi[\"ssh\"], \"longitude\", \"latitude\")"
   ]
  },
  {
   "cell_type": "code",
   "execution_count": 48,
   "id": "be6f7828",
   "metadata": {},
   "outputs": [
    {
     "name": "stderr",
     "output_type": "stream",
     "text": [
      "/Users/eman/miniconda3/envs/torch_py39/lib/python3.9/site-packages/xmovie/core.py:46: UserWarning: No `vmin` provided. Data limits are calculated from input. Depending on the input this can take long. Pass `vmin` to avoid this step\n",
      "  warnings.warn(\n",
      "/Users/eman/miniconda3/envs/torch_py39/lib/python3.9/site-packages/xmovie/core.py:53: UserWarning: No `vmax` provided. Data limits are calculated from input. Depending on the input this can take long. Pass `vmax` to avoid this step\n",
      "  warnings.warn(\n"
     ]
    },
    {
     "data": {
      "application/vnd.jupyter.widget-view+json": {
       "model_id": "35285ba41ba9415e949f59d421cd6282",
       "version_major": 2,
       "version_minor": 0
      },
      "text/plain": [
       "  0%|          | 0/63 [00:00<?, ?it/s]"
      ]
     },
     "metadata": {},
     "output_type": "display_data"
    },
    {
     "name": "stdout",
     "output_type": "stream",
     "text": [
      "Movie created at movie_pred_grad.mp4\n",
      "GIF created at movie_pred_grad.gif\n"
     ]
    }
   ],
   "source": [
    "create_movie(\n",
    "    ds_oi.ssh_grad, f\"pred_grad\", \"time\", cmap=\"Spectral_r\", file_path=save_path\n",
    ")"
   ]
  },
  {
   "cell_type": "code",
   "execution_count": 49,
   "id": "998d63e5-59fa-47b7-be7d-034d22654770",
   "metadata": {},
   "outputs": [],
   "source": [
    "# ds_oi.ssh_grad.hvplot.image(\n",
    "#     x=\"longitude\",\n",
    "#     y=\"latitude\",\n",
    "#     # groupby='time',\n",
    "#     # rasterize=True,\n",
    "#     width=500, height=400, cmap=\"Spectral_r\")"
   ]
  },
  {
   "cell_type": "markdown",
   "id": "817b46d0-fef0-4197-bdd8-a5f4ac6f977b",
   "metadata": {},
   "source": [
    "#### Laplacian (Norm)"
   ]
  },
  {
   "cell_type": "code",
   "execution_count": 50,
   "id": "8b3fe306-99e3-4908-9082-050826879bd6",
   "metadata": {},
   "outputs": [],
   "source": [
    "ds_oi[\"ssh_lap\"] = calculate_laplacian(ds_oi[\"ssh\"], \"longitude\", \"latitude\")"
   ]
  },
  {
   "cell_type": "code",
   "execution_count": 51,
   "id": "9486c99c-c253-4dce-ae51-f98aec5ed7e9",
   "metadata": {},
   "outputs": [],
   "source": [
    "# ds_oi.ssh_lap.hvplot.image(\n",
    "#     x=\"longitude\",\n",
    "#     y=\"latitude\",\n",
    "#     # groupby='time',\n",
    "#     # rasterize=True,\n",
    "#     width=500, height=400, cmap=\"RdBu_r\")"
   ]
  },
  {
   "cell_type": "code",
   "execution_count": 52,
   "id": "1402adbf-76dc-4bbe-b462-ea0b70aa0782",
   "metadata": {},
   "outputs": [
    {
     "name": "stderr",
     "output_type": "stream",
     "text": [
      "/Users/eman/miniconda3/envs/torch_py39/lib/python3.9/site-packages/xmovie/core.py:46: UserWarning: No `vmin` provided. Data limits are calculated from input. Depending on the input this can take long. Pass `vmin` to avoid this step\n",
      "  warnings.warn(\n",
      "/Users/eman/miniconda3/envs/torch_py39/lib/python3.9/site-packages/xmovie/core.py:53: UserWarning: No `vmax` provided. Data limits are calculated from input. Depending on the input this can take long. Pass `vmax` to avoid this step\n",
      "  warnings.warn(\n"
     ]
    },
    {
     "data": {
      "application/vnd.jupyter.widget-view+json": {
       "model_id": "b6a3ebe1d9bd491f9948f8a6b9b8b2d1",
       "version_major": 2,
       "version_minor": 0
      },
      "text/plain": [
       "  0%|          | 0/63 [00:00<?, ?it/s]"
      ]
     },
     "metadata": {},
     "output_type": "display_data"
    },
    {
     "name": "stdout",
     "output_type": "stream",
     "text": [
      "Movie created at movie_pred_lap.mp4\n",
      "GIF created at movie_pred_lap.gif\n"
     ]
    }
   ],
   "source": [
    "create_movie(ds_oi.ssh_lap, f\"pred_lap\", \"time\", cmap=\"RdBu_r\", file_path=save_path)"
   ]
  },
  {
   "cell_type": "code",
   "execution_count": 53,
   "id": "d987e0e5-94f9-42b2-9802-45168c27da3e",
   "metadata": {},
   "outputs": [],
   "source": [
    "# def custom_plotfunc(ds, fig, tt, *args, **kwargs):\n",
    "\n",
    "#     # find indices\n",
    "#     indx = np.where(\n",
    "#         (np.abs(ds_test_obs_summer.time.values - ds.time.values[tt]) <= dt)\n",
    "#     )[0]\n",
    "\n",
    "#     # subset data\n",
    "#     lat = ds_test_obs_summer.latitude.values[indx]\n",
    "#     lon = ds_test_obs_summer.longitude.values[indx]\n",
    "#     data = ds_test_obs_summer.sla_unfiltered.values[indx]\n",
    "\n",
    "#     vmin = ds_test_obs_summer.sla_unfiltered.min()\n",
    "#     vmax = ds_test_obs_summer.sla_unfiltered.max()\n",
    "\n",
    "#     # do scatter plot\n",
    "#     ax = fig.add_subplot(111, aspect=\"equal\")\n",
    "\n",
    "#     pts = ax.scatter(\n",
    "#         lon,\n",
    "#         lat,\n",
    "#         c=data,\n",
    "#         cmap=\"RdBu_r\",\n",
    "#         vmin=ds_test_obs_summer.sla_unfiltered.min(),\n",
    "#         vmax=ds_test_obs_summer.sla_unfiltered.max(),\n",
    "#     )\n",
    "#     ax.set_title(\"\")\n",
    "#     ax.set_facecolor(\"0.5\")\n",
    "#     ax.set_aspect(0.75)\n",
    "#     ax.set(\n",
    "#         xlim=[ds.longitude.values.min() - 0.5, ds.longitude.values.max() + 0.5],\n",
    "#         ylim=[\n",
    "#             ds.latitude.values.min() - 0.5,\n",
    "#             ds.latitude.values.max() + 0.5,\n",
    "#         ],\n",
    "#     )\n",
    "#     plt.colorbar(pts)\n",
    "#     # plt.tight_layout()\n",
    "\n",
    "#     return None, None"
   ]
  },
  {
   "cell_type": "code",
   "execution_count": 54,
   "id": "5ceb8a8b-27e6-471e-8153-7501e42aaeb4",
   "metadata": {},
   "outputs": [],
   "source": [
    "# mov_custom = Movie(ds_summer.sla, custom_plotfunc)"
   ]
  },
  {
   "cell_type": "code",
   "execution_count": 55,
   "id": "06a702e5-cc3f-4657-b41a-edcae71a24d9",
   "metadata": {},
   "outputs": [],
   "source": [
    "# mov_custom.preview(9)"
   ]
  },
  {
   "cell_type": "code",
   "execution_count": 56,
   "id": "b5b925ee-bb80-4cd2-82d3-8a10fff2e19b",
   "metadata": {},
   "outputs": [],
   "source": [
    "# mov_custom.save(\n",
    "#     \"plots/movie_ssh_gulf_jja_test.gif\",\n",
    "#     remove_movie=True,\n",
    "#     progress=True,\n",
    "#     framerate=5,\n",
    "#     gif_framerate=5,\n",
    "#     overwrite_existing=True,\n",
    "# )"
   ]
  },
  {
   "cell_type": "code",
   "execution_count": 57,
   "id": "2770d43f-14ef-4e2a-959f-6486ccb1f012",
   "metadata": {},
   "outputs": [],
   "source": [
    "# def make_customplotfunc(ds_obs):\n",
    "#     def f(ds, fig, tt, *args, **kwargs):\n",
    "\n",
    "#         # find indices\n",
    "#         indx = np.where((np.abs(ds_obs.time.values - ds.time.values[tt]) <= dt))[0]\n",
    "\n",
    "#         # subset data\n",
    "#         lat = ds_obs.latitude.values[indx]\n",
    "#         lon = ds_obs.longitude.values[indx]\n",
    "#         data = ds_obs.sla_unfiltered.values[indx]\n",
    "\n",
    "#         vmin = ds_obs.sla_unfiltered.min()\n",
    "#         vmax = ds_obs.sla_unfiltered.max()\n",
    "\n",
    "#         # do scatter plot\n",
    "#         ax = fig.add_subplot(111, aspect=\"equal\")\n",
    "\n",
    "#         pts = ax.scatter(\n",
    "#             lon,\n",
    "#             lat,\n",
    "#             c=data,\n",
    "#             cmap=\"RdBu_r\",\n",
    "#             vmin=ds_obs.sla_unfiltered.min(),\n",
    "#             vmax=ds_obs.sla_unfiltered.max(),\n",
    "#         )\n",
    "#         ax.set_title(f\"{ds.time.values[tt]:.10}\")\n",
    "#         ax.set_facecolor(\"0.5\")\n",
    "#         ax.set_aspect(0.75)\n",
    "#         ax.set(\n",
    "#             xlim=[ds.longitude.values.min() - 0.5, ds.longitude.values.max() + 0.5],\n",
    "#             ylim=[\n",
    "#                 ds.latitude.values.min() - 0.5,\n",
    "#                 ds.latitude.values.max() + 0.5,\n",
    "#             ],\n",
    "#             xlabel=\"Longitudes [degrees_east]\",\n",
    "#             ylabel=\"Latitudes [degrees_north]\",\n",
    "#         )\n",
    "#         plt.colorbar(pts)\n",
    "#         plt.tight_layout()\n",
    "\n",
    "#         return None, None\n",
    "\n",
    "#     return f"
   ]
  },
  {
   "cell_type": "code",
   "execution_count": 58,
   "id": "78a16e9f-3d3b-4b09-93b7-395c4eb8cdbb",
   "metadata": {},
   "outputs": [],
   "source": [
    "# f_cust = make_customplotfunc(ds_test_obs_winter)\n",
    "\n",
    "# mov_custom = Movie(ds_winter.sla, f_cust)"
   ]
  },
  {
   "cell_type": "code",
   "execution_count": 59,
   "id": "d659f712-1568-430a-a9b4-0b08b7af705a",
   "metadata": {},
   "outputs": [],
   "source": [
    "# mov_custom.save(\n",
    "#     \"plots/movie_ssh_gulf_djf_test.gif\",\n",
    "#     remove_movie=True,\n",
    "#     progress=True,\n",
    "#     framerate=5,\n",
    "#     gif_framerate=5,\n",
    "#     overwrite_existing=True,\n",
    "# )"
   ]
  }
 ],
 "metadata": {
  "interpreter": {
   "hash": "70d2e25024e70c662658c456d9e0a340af3759493bed99b867179c40cf269d86"
  },
  "kernelspec": {
   "display_name": "Python [conda env:torch_py39]",
   "language": "python",
   "name": "conda-env-torch_py39-py"
  },
  "language_info": {
   "codemirror_mode": {
    "name": "ipython",
    "version": 3
   },
   "file_extension": ".py",
   "mimetype": "text/x-python",
   "name": "python",
   "nbconvert_exporter": "python",
   "pygments_lexer": "ipython3",
   "version": "3.9.13"
  }
 },
 "nbformat": 4,
 "nbformat_minor": 5
}
