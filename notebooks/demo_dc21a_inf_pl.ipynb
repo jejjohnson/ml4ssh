{
 "cells": [
  {
   "cell_type": "markdown",
   "id": "7c00d4b7-e07e-4405-b643-c4db64f82510",
   "metadata": {
    "pycharm": {
     "name": "#%% md\n"
    }
   },
   "source": [
    "# Demo - Inference (+Metrics) Pipeline"
   ]
  },
  {
   "cell_type": "code",
   "execution_count": null,
   "id": "c8a2ee9e-04cc-4c5e-a3eb-4742a7ad7cd1",
   "metadata": {
    "pycharm": {
     "name": "#%%\n"
    }
   },
   "outputs": [],
   "source": [
    "import os\n",
    "import sys\n",
    "\n",
    "from pyprojroot import here\n",
    "\n",
    "os.environ[\"PYTORCH_ENABLE_MPS_FALLBACK\"] = \"1\"\n",
    "\n",
    "# spyder up to find the root\n",
    "root = here(project_files=[\".root\"])\n",
    "exp = here(\n",
    "    relative_project_path=root.joinpath(\"experiments/dc21a\"), project_files=[\".local\"]\n",
    ")\n",
    "\n",
    "\n",
    "# append to path\n",
    "sys.path.append(str(root))\n",
    "sys.path.append(str(exp))"
   ]
  },
  {
   "cell_type": "code",
   "execution_count": null,
   "id": "87a4fdc2-c662-47b9-95e0-8e7c388902dd",
   "metadata": {},
   "outputs": [],
   "source": [
    "import time\n",
    "\n",
    "import pytorch_lightning as pl\n",
    "import torch\n",
    "import torch.nn as nn\n",
    "import wandb\n",
    "from inr4ssh._src.datamodules.ssh_obs import SSHAltimetry\n",
    "from inr4ssh._src.io import get_wandb_config, get_wandb_model\n",
    "from inr4ssh._src.metrics.psd import compute_psd_scores\n",
    "from loguru import logger\n",
    "from ml_collections import config_dict\n",
    "from models import model_factory\n",
    "from pytorch_lightning import Trainer\n",
    "from pytorch_lightning.loggers import WandbLogger\n",
    "from torch.utils.data import DataLoader, TensorDataset\n",
    "from utils import (\n",
    "    get_alongtrack_prediction_ds,\n",
    "    get_alongtrack_stats,\n",
    "    get_grid_stats,\n",
    "    get_interpolation_alongtrack_prediction_ds,\n",
    "    plot_psd_figs,\n",
    "    postprocess_predictions,\n",
    ")\n",
    "\n",
    "%matplotlib inline\n",
    "%load_ext autoreload\n",
    "%autoreload 2"
   ]
  },
  {
   "cell_type": "markdown",
   "id": "d1522e5d-3090-4a75-8f2f-430d3d0a846e",
   "metadata": {},
   "source": [
    "## Load Config\n",
    "\n",
    "* `ige/inr4ssh/34behz0w` | `epoch=839-step=330960.ckpt` | `elated-galaxy`\n",
    "* `ige/inr4ssh/25d69t9z` | `epoch=148-step=58706.ckpt` | `firm-salad`\n",
    "* `ige/inr4ssh/2z8tsrfn` | `epoch=836-step=329778.ckpt` | `ruby-dew-62` | `siren`\n",
    "* `ige/inr4ssh/1t0yk7rc` | `epoch=710-step=280134.ckpt` | `fearless-glade` | `fouriernet`\n",
    "* `ige/inr4ssh/25d69t9z` | `epoch=959-step=378240.ckpt` | `firm-salad-58` | `gabornet`\n",
    "* `ige/inr4ssh/11h89im3` | `epoch=502-step=198182.ckpt` | `ethereal-aardvark-73`\n",
    "* `ige/inr4ssh/14s2md8s` | `epoch=739-step=291560.ckpt` | `eager-surf-74`"
   ]
  },
  {
   "cell_type": "code",
   "execution_count": null,
   "id": "0888129b-85d5-48cc-b8f7-d14b3e72bc6c",
   "metadata": {},
   "outputs": [],
   "source": [
    "wandb_path = \"ige/inr4ssh/2z8tsrfn\"\n",
    "checkpoint_name = \"checkpoints/epoch=836-step=329778.ckpt\"\n",
    "# checkpoint_name = \"checkpoints/last.ckpt\""
   ]
  },
  {
   "cell_type": "code",
   "execution_count": null,
   "id": "c1ff9941-e829-4820-84bc-e6dafff028f9",
   "metadata": {},
   "outputs": [],
   "source": [
    "# download wandb config\n",
    "config = get_wandb_config(wandb_path)\n",
    "\n",
    "# download model checkpoint\n",
    "best_model = get_wandb_model(wandb_path, checkpoint_name)\n",
    "best_model.download(replace=True)\n",
    "\n",
    "# convert to configdict\n",
    "args = config_dict.ConfigDict(config)"
   ]
  },
  {
   "cell_type": "code",
   "execution_count": null,
   "id": "885a6e77-b940-4834-94de-e0f4213d23b5",
   "metadata": {},
   "outputs": [],
   "source": [
    "best_model"
   ]
  },
  {
   "cell_type": "code",
   "execution_count": null,
   "id": "93c6c4ca-30da-40f9-880f-ddae3673c433",
   "metadata": {},
   "outputs": [],
   "source": [
    "args.data.train_data_dir = \"/Users/eman/.CMVolumes/cal1_workdir/data/dc_2021/raw/train\"\n",
    "args.data.ref_data_dir = \"/Users/eman/.CMVolumes/cal1_workdir/data/dc_2021/raw/ref\"\n",
    "args.data.test_data_dir = \"/Users/eman/.CMVolumes/cal1_workdir/data/dc_2021/raw/test\"\n",
    "# modify args (PERSONAL)\n",
    "# args.data.train_data_dir = \"/Volumes/EMANS_HDD/data/dc21b/train\"\n",
    "# args.data.ref_data_dir = \"/Volumes/EMANS_HDD/data/dc21b/ref\"\n",
    "# args.data.test_data_dir = \"/Volumes/EMANS_HDD/data/dc21b/test\"\n",
    "args.siren.use_bias = True"
   ]
  },
  {
   "cell_type": "markdown",
   "id": "39b59deb-545b-42a5-939a-af6f99cf3bef",
   "metadata": {},
   "source": [
    "## Load Data"
   ]
  },
  {
   "cell_type": "code",
   "execution_count": null,
   "id": "825497c4-b2ea-4596-8b62-8b11c463b25b",
   "metadata": {},
   "outputs": [],
   "source": [
    "args.dataloader.batchsize_predict = 1_000"
   ]
  },
  {
   "cell_type": "code",
   "execution_count": null,
   "id": "2e7e47ce-afed-4d75-a89d-b00e7007062d",
   "metadata": {},
   "outputs": [],
   "source": [
    "# DATA MODULE\n",
    "logger.info(\"Initializing data module...\")\n",
    "dm = SSHAltimetry(\n",
    "    data=args.data,\n",
    "    preprocess=args.preprocess,\n",
    "    traintest=args.traintest,\n",
    "    features=args.features,\n",
    "    dataloader=args.dataloader,\n",
    "    eval=args.eval,\n",
    ")"
   ]
  },
  {
   "cell_type": "code",
   "execution_count": null,
   "id": "d778a1c1-cf97-4af8-b654-ed0dc9cfea86",
   "metadata": {},
   "outputs": [],
   "source": [
    "dm.setup()"
   ]
  },
  {
   "cell_type": "markdown",
   "id": "ef9a117c-5d03-48f6-81ae-1d5c113c1cce",
   "metadata": {},
   "source": [
    "## Init Model"
   ]
  },
  {
   "cell_type": "code",
   "execution_count": null,
   "id": "dd1978a4-a4ee-4e9a-be5c-131d3fc8af81",
   "metadata": {},
   "outputs": [],
   "source": [
    "logger.info(\"extracting train/test dims\")\n",
    "dim_in = dm.dim_in\n",
    "dim_out = dm.dim_out\n",
    "\n",
    "logger.info(f\"Creating {args.model.model} neural network...\")\n",
    "net = model_factory(\n",
    "    model=args.model.model, dim_in=dim_in, dim_out=dim_out, config=args.modsiren\n",
    ")"
   ]
  },
  {
   "cell_type": "code",
   "execution_count": null,
   "id": "cc912b97-cffe-4b15-979e-ac44cbde9cba",
   "metadata": {},
   "outputs": [],
   "source": [
    "logger.info(\"Initializing trainer class...\")\n",
    "\n",
    "\n",
    "class CoordinatesLearner(pl.LightningModule):\n",
    "    def __init__(self, model: nn.Module):\n",
    "        super().__init__()\n",
    "        self.model = model\n",
    "        self.loss = nn.MSELoss(reduction=args.losses.reduction)\n",
    "\n",
    "    def forward(self, x):\n",
    "        return self.model(x)\n",
    "\n",
    "    def predict_step(self, batch, batch_idx, dataloader_idx=0):\n",
    "\n",
    "        (x,) = batch\n",
    "\n",
    "        pred = self.forward(x)\n",
    "\n",
    "        return pred\n",
    "\n",
    "    def training_step(self, batch, batch_idx):\n",
    "        x, y = batch\n",
    "        # loss function\n",
    "        pred = self.forward(x)\n",
    "        loss = self.loss(pred, y)\n",
    "\n",
    "        self.log(\"train_loss\", loss)\n",
    "\n",
    "        return loss\n",
    "\n",
    "    def validation_step(self, batch, batch_idx):\n",
    "        x, y = batch\n",
    "        # loss function\n",
    "        pred = self.forward(x)\n",
    "        loss = self.loss(pred, y)\n",
    "\n",
    "        self.log(\"valid_loss\", loss)\n",
    "\n",
    "        return loss\n",
    "\n",
    "    def configure_optimizers(self):\n",
    "\n",
    "        optimizer = torch.optim.Adam(\n",
    "            self.model.parameters(), lr=args.optimizer.learning_rate\n",
    "        )\n",
    "        scheduler = ReduceLROnPlateau(\n",
    "            optimizer,\n",
    "            patience=args.lr_scheduler.patience,\n",
    "            factor=args.lr_scheduler.factor,\n",
    "            mode=\"min\",\n",
    "        )\n",
    "        return {\n",
    "            \"optimizer\": optimizer,\n",
    "            \"lr_scheduler\": scheduler,\n",
    "            \"monitor\": \"valid_loss\",\n",
    "        }"
   ]
  },
  {
   "cell_type": "markdown",
   "id": "a62731b8-95ca-49b2-9463-5e43131c4a21",
   "metadata": {},
   "source": [
    "## Load Model State"
   ]
  },
  {
   "cell_type": "code",
   "execution_count": null,
   "id": "895a165b-974c-402c-9fcf-b0d8875a3393",
   "metadata": {},
   "outputs": [],
   "source": [
    "learn = CoordinatesLearner.load_from_checkpoint(\n",
    "    checkpoint_path=best_model.name, model=net\n",
    ")"
   ]
  },
  {
   "cell_type": "code",
   "execution_count": null,
   "id": "c2efef33-42ab-49ea-87d3-064f8e0e4f66",
   "metadata": {},
   "outputs": [],
   "source": []
  },
  {
   "cell_type": "markdown",
   "id": "84a04b3d-f05e-444a-be70-7b43fa211dee",
   "metadata": {},
   "source": [
    "## Initialize Trainer"
   ]
  },
  {
   "cell_type": "code",
   "execution_count": null,
   "id": "470bf75d-6755-4821-884b-ac244d2da80e",
   "metadata": {},
   "outputs": [],
   "source": [
    "logger.info(\"Initializing trainer...\")\n",
    "trainer = Trainer(\n",
    "    min_epochs=args.optimizer.min_epochs,\n",
    "    max_epochs=args.optimizer.num_epochs,\n",
    "    accelerator=\"mps\" if args.optimizer.device == \"mps\" else None,\n",
    "    devices=1 if args.optimizer.device == \"mps\" else None,\n",
    "    gpus=args.optimizer.gpus if torch.cuda.is_available() else 0,\n",
    "    enable_progress_bar=True,\n",
    ")"
   ]
  },
  {
   "cell_type": "markdown",
   "id": "c82d3b56-5a99-4228-a8ee-ea75ff16ab73",
   "metadata": {},
   "source": [
    "## Predictions (Grid)"
   ]
  },
  {
   "cell_type": "code",
   "execution_count": null,
   "id": "4e9a40f8-90df-42c3-af33-5d49f0fc15b0",
   "metadata": {},
   "outputs": [],
   "source": [
    "logger.info(\"GRID STATS...\")\n",
    "\n",
    "# TESTING\n",
    "logger.info(\"Making predictions (grid)...\")\n",
    "t0 = time.time()\n",
    "with torch.inference_mode():\n",
    "    predictions = trainer.predict(learn, datamodule=dm, return_predictions=True)\n",
    "    predictions = torch.cat(predictions)\n",
    "    predictions = predictions.numpy()\n",
    "t1 = time.time() - t0"
   ]
  },
  {
   "cell_type": "code",
   "execution_count": null,
   "id": "af1c13c9-67e4-43d7-8840-4ca9c313d549",
   "metadata": {},
   "outputs": [],
   "source": [
    "logger.info(f\"Time Taken for {dm.ds_predict[:][0].shape[0]} points: {t1:.4f} secs\")"
   ]
  },
  {
   "cell_type": "markdown",
   "id": "ab895e32-83b8-4b8e-8d7a-9eae38fb2d5a",
   "metadata": {},
   "source": [
    "### Post Processing"
   ]
  },
  {
   "cell_type": "code",
   "execution_count": null,
   "id": "26a382ef-5823-410f-b676-22b2fe20a04f",
   "metadata": {},
   "outputs": [],
   "source": [
    "args.eval"
   ]
  },
  {
   "cell_type": "code",
   "execution_count": null,
   "id": "4d88a48d-3433-409d-807f-540394e7b500",
   "metadata": {},
   "outputs": [],
   "source": [
    "logger.info(\"Getting RMSE Metrics (GRID)...\")\n",
    "\n",
    "ds_oi = postprocess_predictions(predictions, dm, args.data.ref_data_dir, logger)\n",
    "\n",
    "alongtracks, tracks = get_interpolation_alongtrack_prediction_ds(\n",
    "    ds_oi, args.data.test_data_dir, args.eval, logger\n",
    ")"
   ]
  },
  {
   "cell_type": "markdown",
   "id": "7a38c26b-faeb-418c-a9af-bfa94d32adb0",
   "metadata": {},
   "source": [
    "### RMSE Metrics"
   ]
  },
  {
   "cell_type": "code",
   "execution_count": null,
   "id": "e47c41da-f2c1-4395-ab76-86c015d3aa2d",
   "metadata": {},
   "outputs": [],
   "source": [
    "logger.info(\"Getting RMSE Metrics (GRID)...\")\n",
    "rmse_metrics = get_grid_stats(\n",
    "    alongtracks, args.metrics, None, None  # wandb_logger.log_metrics\n",
    ")\n",
    "\n",
    "\n",
    "logger.info(f\"Grid Stats: {rmse_metrics}\")"
   ]
  },
  {
   "cell_type": "markdown",
   "id": "0d1a5112-7eb2-4777-a311-fcf168fa15e0",
   "metadata": {},
   "source": [
    "### PSD Metrics"
   ]
  },
  {
   "cell_type": "code",
   "execution_count": null,
   "id": "c0039b5d-667f-48b0-ba73-b1ddc2db40f5",
   "metadata": {},
   "outputs": [],
   "source": [
    "# compute scores\n",
    "logger.info(\"Computing PSD Scores (Grid)...\")\n",
    "psd_metrics = compute_psd_scores(\n",
    "    ssh_true=tracks.ssh_alongtrack,\n",
    "    ssh_pred=tracks.ssh_map,\n",
    "    delta_x=args.metrics.velocity * args.metrics.delta_t,\n",
    "    npt=tracks.npt,\n",
    "    scaling=\"density\",\n",
    "    noverlap=0,\n",
    ")\n",
    "\n",
    "logger.info(f\"Grid PSD: {psd_metrics}\")"
   ]
  },
  {
   "cell_type": "markdown",
   "id": "481e6bf2-c0e5-4881-8817-92fc97f3455f",
   "metadata": {},
   "source": [
    "### Figures"
   ]
  },
  {
   "cell_type": "code",
   "execution_count": null,
   "id": "e2e81d09-06e5-4aea-9b6f-d1593dd1ada4",
   "metadata": {},
   "outputs": [],
   "source": [
    "#\n",
    "logger.info(f\"Plotting PSD Score and Spectrum (Grid)...\")\n",
    "plot_psd_figs(psd_metrics, logger, None, method=\"grid\")  # wandb_logger.experiment.log,\n",
    "logger.info(\"Finished GRID Script...!\")"
   ]
  },
  {
   "cell_type": "markdown",
   "id": "c993e192-8331-4630-98b0-d2a4071e6991",
   "metadata": {},
   "source": [
    "## AlongTrack Predictions"
   ]
  },
  {
   "cell_type": "code",
   "execution_count": null,
   "id": "dd050ce4-8d95-49ca-ba63-a4f38cb0e19b",
   "metadata": {},
   "outputs": [],
   "source": [
    "logger.info(\"ALONGTRACK STATS...\")\n",
    "\n",
    "X_test, y_test = get_alongtrack_prediction_ds(dm, args, logger)\n",
    "\n",
    "# initialize dataset\n",
    "ds_test = TensorDataset(\n",
    "    torch.FloatTensor(X_test)\n",
    "    # torch.Tensor(y_test)\n",
    ")\n",
    "# initialize dataloader\n",
    "dl_test = DataLoader(\n",
    "    ds_test,\n",
    "    batch_size=args.dataloader.batch_size_eval,\n",
    "    shuffle=False,\n",
    "    num_workers=args.dataloader.num_workers,\n",
    "    pin_memory=args.dataloader.pin_memory,\n",
    ")"
   ]
  },
  {
   "cell_type": "code",
   "execution_count": null,
   "id": "e9d059e3-3d16-4cea-982e-a71248b36075",
   "metadata": {},
   "outputs": [],
   "source": [
    "logger.info(f\"Predicting alongtrack data...\")\n",
    "t0 = time.time()\n",
    "with torch.inference_mode():\n",
    "    predictions = trainer.predict(learn, dataloaders=dl_test, return_predictions=True)\n",
    "    predictions = torch.cat(predictions)\n",
    "    predictions = predictions.numpy()\n",
    "t1 = time.time() - t0"
   ]
  },
  {
   "cell_type": "markdown",
   "id": "363b029e-2933-4bb5-9ad6-c0f0bfe42665",
   "metadata": {},
   "source": [
    "### RMSE Stats"
   ]
  },
  {
   "cell_type": "code",
   "execution_count": null,
   "id": "fac31679-b491-4660-8990-2851b9c533c9",
   "metadata": {},
   "outputs": [],
   "source": [
    "logger.info(\"Calculating stats (alongtrack)...\")\n",
    "get_alongtrack_stats(\n",
    "    y_test,\n",
    "    predictions,\n",
    "    logger,\n",
    "    None,  # wandb_logger.log_metrics\n",
    ")"
   ]
  },
  {
   "cell_type": "markdown",
   "id": "dc50162b-3e10-4e74-917d-09e7e05caae1",
   "metadata": {},
   "source": [
    "### PSD Stats"
   ]
  },
  {
   "cell_type": "code",
   "execution_count": null,
   "id": "8ddf1b52-c5d0-47f6-99a5-cfdb6b4c48e9",
   "metadata": {},
   "outputs": [],
   "source": [
    "# PSD\n",
    "logger.info(f\"Getting PSD Scores (alongtrack)...\")\n",
    "psd_metrics = compute_psd_scores(\n",
    "    ssh_true=y_test.squeeze(),\n",
    "    ssh_pred=predictions.squeeze(),\n",
    "    delta_x=args.metrics.velocity * args.metrics.delta_t,\n",
    "    npt=None,\n",
    "    scaling=\"density\",\n",
    "    noverlap=0,\n",
    ")\n",
    "\n",
    "logger.info(f\"Grid PSD: {psd_metrics}\")"
   ]
  },
  {
   "cell_type": "markdown",
   "id": "47922b61-0028-48f9-bd96-628a90d3fa8f",
   "metadata": {},
   "source": [
    "### Figures"
   ]
  },
  {
   "cell_type": "code",
   "execution_count": null,
   "id": "5f861a0c-c476-4a74-9c5d-6b2b4dc10d48",
   "metadata": {},
   "outputs": [],
   "source": [
    "logger.info(f\"Plotting PSD Score and Spectrum (AlongTrack)...\")\n",
    "plot_psd_figs(\n",
    "    psd_metrics, logger, None, method=\"alongtrack\"  # wandb_logger.experiment.log,\n",
    ")"
   ]
  },
  {
   "cell_type": "code",
   "execution_count": null,
   "id": "c7cf8a4f-464a-4fe0-8374-2849cc952f81",
   "metadata": {},
   "outputs": [],
   "source": [
    "ds_oi.to_netcdf(\"/Volumes/EMANS_HDD/data/dc21b/results/siren_136.nc\")"
   ]
  },
  {
   "cell_type": "markdown",
   "id": "7979d9f2-3659-4048-bd68-0288d162a6ef",
   "metadata": {},
   "source": [
    "#### SSH Field"
   ]
  },
  {
   "cell_type": "code",
   "execution_count": null,
   "id": "b52e7988-b7a7-4007-98ab-56613724ff21",
   "metadata": {},
   "outputs": [],
   "source": [
    "import hvplot.xarray"
   ]
  },
  {
   "cell_type": "code",
   "execution_count": null,
   "id": "76c623ab-4d90-45a6-a336-5414e5e9ad5e",
   "metadata": {},
   "outputs": [],
   "source": [
    "ds_oi.ssh.hvplot.image(\n",
    "    x=\"longitude\",\n",
    "    y=\"latitude\",\n",
    "    # groupby='time',\n",
    "    # rasterize=True,\n",
    "    width=500,\n",
    "    height=400,\n",
    "    cmap=\"viridis\",\n",
    ")"
   ]
  },
  {
   "cell_type": "code",
   "execution_count": null,
   "id": "ad2c3fc3-fc4d-4584-8e01-fdbd78a885a2",
   "metadata": {},
   "outputs": [],
   "source": [
    "ds_oi_sub = ds_oi.sel(time=slice(\"2017-01-01\", \"2017-02-01\"))\n",
    "ds_oi_sub"
   ]
  },
  {
   "cell_type": "code",
   "execution_count": null,
   "id": "7d4ee9bc-ad82-49a5-970f-02921f6e3481",
   "metadata": {},
   "outputs": [],
   "source": [
    "from inr4ssh._src.viz.movie import create_movie\n",
    "\n",
    "save_path = \"./\""
   ]
  },
  {
   "cell_type": "code",
   "execution_count": null,
   "id": "767d26a2-21e6-4747-b09e-836f8e8b2430",
   "metadata": {},
   "outputs": [],
   "source": [
    "ds_oi.sel(time=\"2017-01-20\").ssh.plot(cmap=\"viridis\")"
   ]
  },
  {
   "cell_type": "code",
   "execution_count": null,
   "id": "d9ed904b-38c8-4e3d-a474-2cf06ab94937",
   "metadata": {},
   "outputs": [],
   "source": [
    "create_movie(ds_oi_sub.ssh, f\"pred\", \"time\", cmap=\"viridis\", file_path=save_path)"
   ]
  },
  {
   "cell_type": "code",
   "execution_count": null,
   "id": "01098258-4afb-4d5d-a421-b94078b0d05e",
   "metadata": {},
   "outputs": [],
   "source": []
  },
  {
   "cell_type": "markdown",
   "id": "20ecc79a-d1e7-45cc-8f8d-03b7db604256",
   "metadata": {},
   "source": [
    "#### Gradient (Norm)"
   ]
  },
  {
   "cell_type": "code",
   "execution_count": null,
   "id": "1c37aae7-ec21-453f-8127-1a6cb4ca1df9",
   "metadata": {},
   "outputs": [],
   "source": [
    "from inr4ssh._src.operators.finite_diff import calculate_gradient, calculate_laplacian\n",
    "\n",
    "ds_oi[\"ssh_grad\"] = calculate_gradient(ds_oi[\"ssh\"], \"longitude\", \"latitude\")"
   ]
  },
  {
   "cell_type": "code",
   "execution_count": null,
   "id": "be6f7828",
   "metadata": {},
   "outputs": [],
   "source": [
    "# create_movie(\n",
    "#     ds_oi.ssh_grad, f\"pred_grad\", \"time\", cmap=\"Spectral_r\", file_path=save_path\n",
    "# )"
   ]
  },
  {
   "cell_type": "code",
   "execution_count": null,
   "id": "998d63e5-59fa-47b7-be7d-034d22654770",
   "metadata": {},
   "outputs": [],
   "source": [
    "ds_oi.ssh_grad.hvplot.image(\n",
    "    x=\"longitude\",\n",
    "    y=\"latitude\",\n",
    "    # groupby='time',\n",
    "    # rasterize=True,\n",
    "    width=500,\n",
    "    height=400,\n",
    "    cmap=\"Spectral_r\",\n",
    ")"
   ]
  },
  {
   "cell_type": "code",
   "execution_count": null,
   "id": "aefc9371-15e5-458d-87e3-5856de4ad0df",
   "metadata": {},
   "outputs": [],
   "source": [
    "ds_oi.sel(time=\"2017-01-20\").ssh_grad.plot(cmap=\"Spectral_r\")"
   ]
  },
  {
   "cell_type": "markdown",
   "id": "817b46d0-fef0-4197-bdd8-a5f4ac6f977b",
   "metadata": {},
   "source": [
    "#### Laplacian (Norm)"
   ]
  },
  {
   "cell_type": "code",
   "execution_count": null,
   "id": "8b3fe306-99e3-4908-9082-050826879bd6",
   "metadata": {},
   "outputs": [],
   "source": [
    "ds_oi[\"ssh_lap\"] = calculate_laplacian(ds_oi[\"ssh\"], \"longitude\", \"latitude\")"
   ]
  },
  {
   "cell_type": "code",
   "execution_count": null,
   "id": "9486c99c-c253-4dce-ae51-f98aec5ed7e9",
   "metadata": {},
   "outputs": [],
   "source": [
    "ds_oi.ssh_lap.hvplot.image(\n",
    "    x=\"longitude\",\n",
    "    y=\"latitude\",\n",
    "    # groupby='time',\n",
    "    # rasterize=True,\n",
    "    width=500,\n",
    "    height=400,\n",
    "    cmap=\"RdBu_r\",\n",
    ")"
   ]
  },
  {
   "cell_type": "code",
   "execution_count": null,
   "id": "23f5a855-02d5-4603-8217-2d3ba9599a0b",
   "metadata": {},
   "outputs": [],
   "source": [
    "ds_oi.sel(time=\"2017-01-20\").ssh_lap.plot(cmap=\"RdBu_r\")"
   ]
  },
  {
   "cell_type": "code",
   "execution_count": null,
   "id": "1402adbf-76dc-4bbe-b462-ea0b70aa0782",
   "metadata": {},
   "outputs": [],
   "source": [
    "# create_movie(ds_oi.ssh_lap, f\"pred_lap\", \"time\", cmap=\"RdBu_r\", file_path=save_path)"
   ]
  },
  {
   "cell_type": "code",
   "execution_count": null,
   "id": "425094cf-e0dc-4168-b207-ca07fe6ffcbc",
   "metadata": {},
   "outputs": [],
   "source": []
  }
 ],
 "metadata": {
  "interpreter": {
   "hash": "70d2e25024e70c662658c456d9e0a340af3759493bed99b867179c40cf269d86"
  },
  "kernelspec": {
   "display_name": "Python [conda env:torch_py39]",
   "language": "python",
   "name": "conda-env-torch_py39-py"
  },
  "language_info": {
   "codemirror_mode": {
    "name": "ipython",
    "version": 3
   },
   "file_extension": ".py",
   "mimetype": "text/x-python",
   "name": "python",
   "nbconvert_exporter": "python",
   "pygments_lexer": "ipython3",
   "version": "3.9.13"
  }
 },
 "nbformat": 4,
 "nbformat_minor": 5
}
