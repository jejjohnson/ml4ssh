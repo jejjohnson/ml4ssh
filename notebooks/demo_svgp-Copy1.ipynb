{
 "cells": [
  {
   "cell_type": "code",
   "execution_count": 1,
   "id": "c8a2ee9e-04cc-4c5e-a3eb-4742a7ad7cd1",
   "metadata": {},
   "outputs": [],
   "source": [
    "import sys, os\n",
    "from pyprojroot import here\n",
    "\n",
    "\n",
    "# spyder up to find the root\n",
    "\n",
    "root = here(project_files=[\".root\"])\n",
    "local = here(project_files=[\".local\"])\n",
    "\n",
    "# append to path\n",
    "sys.path.append(str(root))\n",
    "sys.path.append(str(local))"
   ]
  },
  {
   "cell_type": "code",
   "execution_count": 27,
   "id": "4e08b309-df46-4190-96f7-914907b8b422",
   "metadata": {},
   "outputs": [
    {
     "name": "stdout",
     "output_type": "stream",
     "text": [
      "The autoreload extension is already loaded. To reload it, use:\n",
      "  %reload_ext autoreload\n"
     ]
    }
   ],
   "source": [
    "from pathlib import Path\n",
    "import argparse\n",
    "import wandb\n",
    "import tqdm\n",
    "import numpy as np\n",
    "import matplotlib.pyplot as plt\n",
    "import seaborn as sns\n",
    "sns.reset_defaults()\n",
    "sns.set_context(context=\"talk\", font_scale=0.7)\n",
    "# import hvplot.xarray\n",
    "\n",
    "import tensorflow as tf\n",
    "import tensorflow_datasets as tfd\n",
    "import jax\n",
    "import jax.random as jrandom\n",
    "import jax.numpy as jnp\n",
    "import equinox as eqx\n",
    "from ml4ssh._src.io import load_object, save_object\n",
    "from ml4ssh._src.viz import create_movie, plot_psd_spectrum, plot_psd_score\n",
    "from ml4ssh._src.utils import get_meshgrid, calculate_gradient, calculate_laplacian\n",
    "\n",
    "# import parsers\n",
    "from data import get_data_args, load_data\n",
    "from preprocess import add_preprocess_args, preprocess_data\n",
    "from features import add_feature_args, feature_transform\n",
    "from split import add_split_args, split_data\n",
    "from models.gp_tf import add_model_args, get_likelihood, get_kernel, get_inducing_points\n",
    "from loss import add_loss_args, get_loss_fn\n",
    "from logger import add_logger_args\n",
    "from optimizer import add_optimizer_args, get_optimizer\n",
    "from postprocess import add_postprocess_args, postprocess_data, generate_eval_data\n",
    "from evaluation import add_eval_args, get_rmse_metrics, get_psd_metrics\n",
    "from smoke_test import add_winter_smoke_test_args, add_january_smoke_test_args\n",
    "\n",
    "%matplotlib inline\n",
    "%load_ext autoreload\n",
    "%autoreload 2"
   ]
  },
  {
   "cell_type": "markdown",
   "id": "305ed40f-5926-41e3-8f76-22d50df60c1e",
   "metadata": {},
   "source": [
    "### Arguments"
   ]
  },
  {
   "cell_type": "code",
   "execution_count": 30,
   "id": "ad519f7b-be94-419e-ba50-f14958c2b2a8",
   "metadata": {},
   "outputs": [],
   "source": [
    "parser = argparse.ArgumentParser()\n",
    "\n",
    "# logger\n",
    "parser = add_logger_args(parser)\n",
    "\n",
    "# data\n",
    "parser = get_data_args(parser)\n",
    "\n",
    "# preprocessing, feature transform, split\n",
    "parser = add_preprocess_args(parser)\n",
    "parser = add_feature_args(parser)\n",
    "parser = add_split_args(parser)\n",
    "\n",
    "# model, optimizer, loss\n",
    "parser = add_model_args(parser)\n",
    "parser = add_optimizer_args(parser)\n",
    "parser = add_loss_args(parser)\n",
    "\n",
    "# postprocessing, metrics\n",
    "parser = add_postprocess_args(parser)\n",
    "parser = add_eval_args(parser)\n",
    "\n",
    "# parse args\n",
    "args = parser.parse_args([])\n",
    "\n",
    "# # jeanzay specific\n",
    "# args.train_data_dir = \"/gpfsdswork/projects/rech/cli/uvo53rl/data/data_challenges/ssh_mapping_2021/train/\"\n",
    "# args.ref_data_dir = \"/gpfsdswork/projects/rech/cli/uvo53rl/data/data_challenges/ssh_mapping_2021/ref/\"\n",
    "# args.test_data_dir = \"/gpfsdswork/projects/rech/cli/uvo53rl/data/data_challenges/ssh_mapping_2021/test/\"\n",
    "# args.log_dir = \"/gpfswork/rech/cli/uvo53rl/logs\"\n",
    "\n",
    "# subset\n",
    "args.feature_scaler = \"standard\"\n",
    "args.model = \"svgp\"\n",
    "args.smoke_test = False\n",
    "args.wandb_mode = \"disabled\"\n",
    "args.wandb_resume = True\n",
    "args.id = None # \"2uuq7tks\"\n",
    "args.batch_size = 2048\n",
    "args.n_epochs = 10\n",
    "\n",
    "args = add_january_smoke_test_args(args)\n",
    "# args = add_winter_smoke_test_args(args)"
   ]
  },
  {
   "cell_type": "markdown",
   "id": "2816cbb2-1a8f-431d-a12b-d0e4f008b7f5",
   "metadata": {},
   "source": [
    "### Logger\n"
   ]
  },
  {
   "cell_type": "code",
   "execution_count": 11,
   "id": "7733fbe0-fb43-4eda-af8e-50f00e380ec1",
   "metadata": {},
   "outputs": [
    {
     "data": {
      "text/plain": []
     },
     "execution_count": 11,
     "metadata": {},
     "output_type": "execute_result"
    }
   ],
   "source": [
    "# init wandb logger\n",
    "wandb.init(\n",
    "    id=args.id,\n",
    "    config=args,\n",
    "    mode=args.wandb_mode,\n",
    "    project=args.project,\n",
    "    entity=args.entity,\n",
    "    dir=args.log_dir,\n",
    "    resume=args.wandb_resume\n",
    ")"
   ]
  },
  {
   "cell_type": "markdown",
   "id": "dce2df15-f422-406b-8e53-64edf65f4172",
   "metadata": {},
   "source": [
    "### Load Data"
   ]
  },
  {
   "cell_type": "code",
   "execution_count": 16,
   "id": "74eae4be-332c-4a7a-ad1c-d6055bf6cea6",
   "metadata": {},
   "outputs": [
    {
     "name": "stderr",
     "output_type": "stream",
     "text": [
      "100%|██████████| 6/6 [00:00<00:00, 60.28it/s]\n"
     ]
    },
    {
     "name": "stdout",
     "output_type": "stream",
     "text": [
      "CPU times: user 552 ms, sys: 164 ms, total: 716 ms\n",
      "Wall time: 718 ms\n"
     ]
    }
   ],
   "source": [
    "%%time\n",
    "\n",
    "# load data\n",
    "data = load_data(args)\n",
    "\n",
    "# preprocess data\n",
    "data = preprocess_data(data, args)\n",
    "\n",
    "# feature transformation\n",
    "data, scaler = feature_transform(data, args)"
   ]
  },
  {
   "cell_type": "code",
   "execution_count": 17,
   "id": "7fd13e5c-5611-45db-8c6b-d168a2a878af",
   "metadata": {},
   "outputs": [
    {
     "data": {
      "text/html": [
       "<div>\n",
       "<style scoped>\n",
       "    .dataframe tbody tr th:only-of-type {\n",
       "        vertical-align: middle;\n",
       "    }\n",
       "\n",
       "    .dataframe tbody tr th {\n",
       "        vertical-align: top;\n",
       "    }\n",
       "\n",
       "    .dataframe thead th {\n",
       "        text-align: right;\n",
       "    }\n",
       "</style>\n",
       "<table border=\"1\" class=\"dataframe\">\n",
       "  <thead>\n",
       "    <tr style=\"text-align: right;\">\n",
       "      <th></th>\n",
       "      <th>longitude</th>\n",
       "      <th>latitude</th>\n",
       "      <th>time</th>\n",
       "    </tr>\n",
       "  </thead>\n",
       "  <tbody>\n",
       "    <tr>\n",
       "      <th>0</th>\n",
       "      <td>1.600540</td>\n",
       "      <td>0.545403</td>\n",
       "      <td>-1.706420</td>\n",
       "    </tr>\n",
       "    <tr>\n",
       "      <th>1</th>\n",
       "      <td>1.598256</td>\n",
       "      <td>0.552926</td>\n",
       "      <td>-1.706420</td>\n",
       "    </tr>\n",
       "    <tr>\n",
       "      <th>2</th>\n",
       "      <td>1.595968</td>\n",
       "      <td>0.560448</td>\n",
       "      <td>-1.706419</td>\n",
       "    </tr>\n",
       "    <tr>\n",
       "      <th>3</th>\n",
       "      <td>1.593677</td>\n",
       "      <td>0.567970</td>\n",
       "      <td>-1.706418</td>\n",
       "    </tr>\n",
       "    <tr>\n",
       "      <th>4</th>\n",
       "      <td>1.591384</td>\n",
       "      <td>0.575492</td>\n",
       "      <td>-1.706418</td>\n",
       "    </tr>\n",
       "  </tbody>\n",
       "</table>\n",
       "</div>"
      ],
      "text/plain": [
       "   longitude  latitude      time\n",
       "0   1.600540  0.545403 -1.706420\n",
       "1   1.598256  0.552926 -1.706420\n",
       "2   1.595968  0.560448 -1.706419\n",
       "3   1.593677  0.567970 -1.706418\n",
       "4   1.591384  0.575492 -1.706418"
      ]
     },
     "execution_count": 17,
     "metadata": {},
     "output_type": "execute_result"
    }
   ],
   "source": [
    "data[data.attrs[\"input_cols\"]].head()"
   ]
  },
  {
   "cell_type": "code",
   "execution_count": 18,
   "id": "db36ee78-49b1-49c9-933a-cc63b04c9403",
   "metadata": {},
   "outputs": [
    {
     "data": {
      "text/html": [
       "<div>\n",
       "<style scoped>\n",
       "    .dataframe tbody tr th:only-of-type {\n",
       "        vertical-align: middle;\n",
       "    }\n",
       "\n",
       "    .dataframe tbody tr th {\n",
       "        vertical-align: top;\n",
       "    }\n",
       "\n",
       "    .dataframe thead th {\n",
       "        text-align: right;\n",
       "    }\n",
       "</style>\n",
       "<table border=\"1\" class=\"dataframe\">\n",
       "  <thead>\n",
       "    <tr style=\"text-align: right;\">\n",
       "      <th></th>\n",
       "      <th>longitude</th>\n",
       "      <th>latitude</th>\n",
       "      <th>time</th>\n",
       "    </tr>\n",
       "  </thead>\n",
       "  <tbody>\n",
       "    <tr>\n",
       "      <th>count</th>\n",
       "      <td>2.835390e+05</td>\n",
       "      <td>2.835390e+05</td>\n",
       "      <td>2.835390e+05</td>\n",
       "    </tr>\n",
       "    <tr>\n",
       "      <th>mean</th>\n",
       "      <td>-4.498517e-13</td>\n",
       "      <td>9.988473e-15</td>\n",
       "      <td>-1.240917e-09</td>\n",
       "    </tr>\n",
       "    <tr>\n",
       "      <th>std</th>\n",
       "      <td>1.000002e+00</td>\n",
       "      <td>1.000002e+00</td>\n",
       "      <td>1.000002e+00</td>\n",
       "    </tr>\n",
       "    <tr>\n",
       "      <th>min</th>\n",
       "      <td>-1.945946e+00</td>\n",
       "      <td>-1.642479e+00</td>\n",
       "      <td>-1.706420e+00</td>\n",
       "    </tr>\n",
       "    <tr>\n",
       "      <th>25%</th>\n",
       "      <td>-8.227600e-01</td>\n",
       "      <td>-8.426432e-01</td>\n",
       "      <td>-8.609840e-01</td>\n",
       "    </tr>\n",
       "    <tr>\n",
       "      <th>50%</th>\n",
       "      <td>5.412140e-02</td>\n",
       "      <td>-5.230742e-02</td>\n",
       "      <td>-2.617701e-02</td>\n",
       "    </tr>\n",
       "    <tr>\n",
       "      <th>75%</th>\n",
       "      <td>8.788459e-01</td>\n",
       "      <td>7.522707e-01</td>\n",
       "      <td>8.565812e-01</td>\n",
       "    </tr>\n",
       "    <tr>\n",
       "      <th>max</th>\n",
       "      <td>1.601480e+00</td>\n",
       "      <td>2.220775e+00</td>\n",
       "      <td>1.760150e+00</td>\n",
       "    </tr>\n",
       "  </tbody>\n",
       "</table>\n",
       "</div>"
      ],
      "text/plain": [
       "          longitude      latitude          time\n",
       "count  2.835390e+05  2.835390e+05  2.835390e+05\n",
       "mean  -4.498517e-13  9.988473e-15 -1.240917e-09\n",
       "std    1.000002e+00  1.000002e+00  1.000002e+00\n",
       "min   -1.945946e+00 -1.642479e+00 -1.706420e+00\n",
       "25%   -8.227600e-01 -8.426432e-01 -8.609840e-01\n",
       "50%    5.412140e-02 -5.230742e-02 -2.617701e-02\n",
       "75%    8.788459e-01  7.522707e-01  8.565812e-01\n",
       "max    1.601480e+00  2.220775e+00  1.760150e+00"
      ]
     },
     "execution_count": 18,
     "metadata": {},
     "output_type": "execute_result"
    }
   ],
   "source": [
    "data[data.attrs[\"input_cols\"]].describe()"
   ]
  },
  {
   "cell_type": "code",
   "execution_count": 19,
   "id": "7386abc3-3927-4ae3-8eb8-cf0ac87426a1",
   "metadata": {},
   "outputs": [
    {
     "name": "stdout",
     "output_type": "stream",
     "text": [
      "255185\n",
      "CPU times: user 68 ms, sys: 4 ms, total: 72 ms\n",
      "Wall time: 71.4 ms\n"
     ]
    }
   ],
   "source": [
    "%%time\n",
    "\n",
    "\n",
    "# split data\n",
    "xtrain, ytrain, xvalid, yvalid = split_data(data, args)\n",
    "\n",
    "args.in_dim = xtrain.shape[-1]\n",
    "args.n_train = xtrain.shape[0]\n",
    "args.n_valid = xvalid.shape[0]\n",
    "\n",
    "print(args.n_train)\n",
    "# if args.smoke_test:\n",
    "    \n",
    "rng = np.random.RandomState(args.split_seed)\n",
    "idx = rng.choice(np.arange(args.n_train), size=2_000)\n",
    "xtrain = xtrain[idx]\n",
    "ytrain = ytrain[idx]\n",
    "\n",
    "# rng = np.random.RandomState(args.split_seed+10)\n",
    "# idx = rng.choice(np.arange(args.n_valid), size=1_000)\n",
    "# xvalid = xvalid[idx]\n",
    "# yvalid = yvalid[idx]\n",
    "\n",
    "    \n",
    "wandb.config.update(\n",
    "    {\n",
    "        \"in_dim\": args.in_dim,\n",
    "        \"n_train\": args.n_train,\n",
    "        \"n_valid\": args.n_valid,\n",
    "    }\n",
    ")"
   ]
  },
  {
   "cell_type": "code",
   "execution_count": 20,
   "id": "c169bc3e-4352-4b51-88b5-7d08676a8c6c",
   "metadata": {},
   "outputs": [
    {
     "data": {
      "text/plain": [
       "(2000, 3)"
      ]
     },
     "execution_count": 20,
     "metadata": {},
     "output_type": "execute_result"
    }
   ],
   "source": [
    "xtrain.shape"
   ]
  },
  {
   "cell_type": "markdown",
   "id": "ef39f5ec-1066-467c-b4ba-d205adc4fba2",
   "metadata": {},
   "source": [
    "## Model - Stochastic Variational GP"
   ]
  },
  {
   "cell_type": "code",
   "execution_count": 21,
   "id": "e71cdd9a-be48-405e-a2ea-cd4e8d6b55a3",
   "metadata": {},
   "outputs": [
    {
     "name": "stderr",
     "output_type": "stream",
     "text": [
      "2022-06-03 14:30:45.327455: W tensorflow/stream_executor/platform/default/dso_loader.cc:64] Could not load dynamic library 'libcuda.so.1'; dlerror: libcuda.so.1: cannot open shared object file: No such file or directory\n",
      "2022-06-03 14:30:45.327507: W tensorflow/stream_executor/cuda/cuda_driver.cc:326] failed call to cuInit: UNKNOWN ERROR (303)\n",
      "2022-06-03 14:30:45.327534: I tensorflow/stream_executor/cuda/cuda_diagnostics.cc:156] kernel driver does not appear to be running on this host (ige-meom-cal1): /proc/driver/nvidia/version does not exist\n"
     ]
    }
   ],
   "source": [
    "import gpflow\n",
    "import gpflux\n",
    "import numpy as np\n",
    "from gpflow.utilities import print_summary\n",
    "\n",
    "# # Ensure TF does not see GPU and grab all GPU memory.\n",
    "import tensorflow as tf\n",
    "tf.config.set_visible_devices([], device_type='GPU')"
   ]
  },
  {
   "cell_type": "code",
   "execution_count": 17,
   "id": "39fc5bcf-f260-4d62-bb85-7ba3ef796b98",
   "metadata": {},
   "outputs": [],
   "source": [
    "from scipy.cluster.vq import kmeans2"
   ]
  },
  {
   "cell_type": "code",
   "execution_count": 18,
   "id": "74952440-7e2f-4d65-8d83-5be4ee14b533",
   "metadata": {},
   "outputs": [],
   "source": [
    "data_train = (xtrain.astype(np.float64), ytrain.astype(np.float64))"
   ]
  },
  {
   "cell_type": "code",
   "execution_count": 31,
   "id": "f9d910f7-9642-4253-8f57-0b20415728b2",
   "metadata": {},
   "outputs": [],
   "source": [
    "# get kernel\n",
    "kernel = get_kernel(args)\n",
    "# get likelihood\n",
    "likelihood = get_likelihood(args)\n",
    "# get inducing points\n",
    "Z = get_inducing_points(xtrain, args)"
   ]
  },
  {
   "cell_type": "code",
   "execution_count": null,
   "id": "fc9f0a88-5a3b-44d3-a917-882fc1700b15",
   "metadata": {},
   "outputs": [],
   "source": [
    "def make_svgp_model(n_inducing: int=100):\n",
    "    # kernel function\n",
    "    lengthscales = [1.0, 1.0, 7.0]\n",
    "    kernel = gpflow.kernels.SquaredExponential(\n",
    "        lengthscales=lengthscales,\n",
    "    )\n",
    "\n",
    "    # likelihood\n",
    "    noise = 0.01\n",
    "    likelihood = gpflow.likelihoods.Gaussian(variance=noise)\n",
    "\n",
    "    # inducing points\n",
    "    Z = kmeans2(xtrain, n_inducing, minit=\"points\")[0]\n",
    "\n",
    "    num_data = xtrain.shape[0]\n",
    "\n",
    "    # create gp model\n",
    "    model = gpflow.models.SVGP(kernel, likelihood, Z.astype(np.float64), num_data=num_data)\n",
    "    \n",
    "    return model"
   ]
  },
  {
   "cell_type": "code",
   "execution_count": null,
   "id": "b1c29a5e-adbb-4e35-a3e8-7e1e4a1f8c9f",
   "metadata": {},
   "outputs": [
    {
     "name": "stderr",
     "output_type": "stream",
     "text": [
      "2022-06-02 00:05:19.342672: I tensorflow/core/platform/cpu_feature_guard.cc:142] This TensorFlow binary is optimized with oneAPI Deep Neural Network Library (oneDNN) to use the following CPU instructions in performance-critical operations:  AVX2 FMA\n",
      "To enable them in other operations, rebuild TensorFlow with the appropriate compiler flags.\n"
     ]
    }
   ],
   "source": [
    "# kernel function\n",
    "lengthscales = [1.0, 1.0, 7.0]\n",
    "kernel = gpflow.kernels.SquaredExponential(\n",
    "    lengthscales=lengthscales,\n",
    ")\n",
    "\n",
    "# likelihood\n",
    "noise = 0.01\n",
    "likelihood = gpflow.likelihoods.Gaussian(variance=noise)"
   ]
  },
  {
   "cell_type": "code",
   "execution_count": null,
   "id": "c3ea8b5a-3084-450a-993f-1d2e8cc9ad70",
   "metadata": {},
   "outputs": [
    {
     "name": "stdout",
     "output_type": "stream",
     "text": [
      "CPU times: user 8 ms, sys: 4 ms, total: 12 ms\n",
      "Wall time: 12.2 ms\n"
     ]
    }
   ],
   "source": [
    "%%time\n",
    "\n",
    "# inducing points\n",
    "n_inducing = 100\n",
    "Z = kmeans2(xtrain, n_inducing, minit=\"points\")[0]"
   ]
  },
  {
   "cell_type": "code",
   "execution_count": null,
   "id": "d57fd112-0c59-4762-8b7a-fe5395907f91",
   "metadata": {},
   "outputs": [],
   "source": [
    "num_data = xtrain.shape[0]\n",
    "\n",
    "# create gp model\n",
    "model = gpflow.models.SVGP(kernel, likelihood, Z.astype(np.float64), num_data=num_data)"
   ]
  },
  {
   "cell_type": "code",
   "execution_count": null,
   "id": "14ade9a0-976d-4d5d-9d3e-218edf3251d6",
   "metadata": {},
   "outputs": [
    {
     "name": "stderr",
     "output_type": "stream",
     "text": [
      "2022-06-02 00:05:19.554931: W tensorflow/python/util/util.cc:348] Sets are not currently considered sequences, but this may change in the future, so consider avoiding using them.\n"
     ]
    }
   ],
   "source": [
    "# don't train the inducing inputs\n",
    "gpflow.set_trainable(model.inducing_variable, False)"
   ]
  },
  {
   "cell_type": "code",
   "execution_count": 24,
   "id": "32d978e4-a5ce-478d-a246-a807f7c307a9",
   "metadata": {},
   "outputs": [],
   "source": [
    "# compile\n",
    "elbo = tf.function(model.elbo)"
   ]
  },
  {
   "cell_type": "code",
   "execution_count": 25,
   "id": "09b7d080-c083-4bad-aba2-db11d2ba0457",
   "metadata": {},
   "outputs": [],
   "source": [
    "\n",
    "\n",
    "# tensor_data = tuple(map(tf.convert_to_tensor, data_train))\n",
    "# elbo(tensor_data)  # run it once to trace & compile"
   ]
  },
  {
   "cell_type": "code",
   "execution_count": 26,
   "id": "249dd35c-fd55-41ce-ac1e-03e4f4abd8d6",
   "metadata": {},
   "outputs": [],
   "source": [
    "# %%timeit\n",
    "# elbo(tensor_data)"
   ]
  },
  {
   "cell_type": "code",
   "execution_count": 27,
   "id": "92d24845-390d-4a25-b11e-f890a316d4cc",
   "metadata": {},
   "outputs": [],
   "source": [
    "# Make dataloader, set batch size and prefetch buffer:\n",
    "prefetch_buffer = 5\n",
    "batch_size = 100"
   ]
  },
  {
   "cell_type": "code",
   "execution_count": 28,
   "id": "88236593-ed23-4553-bd61-ef7e7c0e4d87",
   "metadata": {},
   "outputs": [],
   "source": [
    "def make_ds(batch_size: int=100, shuffle: bool=True):\n",
    "    ds = tf.data.Dataset.from_tensor_slices(\n",
    "        (xtrain.astype(np.float64), ytrain.astype(np.float64))\n",
    "    )\n",
    "\n",
    "    \n",
    "    ds = ds.prefetch(prefetch_buffer)\n",
    "    ds = ds.repeat()\n",
    "    if shuffle:\n",
    "        ds = ds.shuffle(buffer_size=10 * batch_size)\n",
    "    ds = ds.batch(batch_size)\n",
    "    \n",
    "    \n",
    "    return iter(ds)\n",
    "\n",
    "ds_train = make_ds()\n",
    "    "
   ]
  },
  {
   "cell_type": "code",
   "execution_count": 29,
   "id": "b2414fb2-30dc-4426-bacf-710542a43e5d",
   "metadata": {},
   "outputs": [
    {
     "name": "stderr",
     "output_type": "stream",
     "text": [
      "2022-06-02 00:05:23.047428: I tensorflow/compiler/mlir/mlir_graph_optimization_pass.cc:176] None of the MLIR Optimization Passes are enabled (registered 2)\n",
      "2022-06-02 00:05:23.051060: I tensorflow/core/platform/profile_utils/cpu_utils.cc:114] CPU Frequency: 2299995000 Hz\n"
     ]
    },
    {
     "data": {
      "text/plain": [
       "<tf.Tensor: shape=(), dtype=float64, numpy=-100830.78823361931>"
      ]
     },
     "execution_count": 29,
     "metadata": {},
     "output_type": "execute_result"
    }
   ],
   "source": [
    "elbo(next(ds_train))"
   ]
  },
  {
   "cell_type": "code",
   "execution_count": 30,
   "id": "50a3a7ff-7ab8-4a65-b74c-9559b250b5ca",
   "metadata": {},
   "outputs": [
    {
     "name": "stdout",
     "output_type": "stream",
     "text": [
      "1.42 ms ± 17.7 µs per loop (mean ± std. dev. of 7 runs, 1000 loops each)\n"
     ]
    }
   ],
   "source": [
    "%%timeit\n",
    "elbo(next(ds_train))"
   ]
  },
  {
   "cell_type": "code",
   "execution_count": 31,
   "id": "c6ba6093-88f1-46f5-a99e-2b9e6afd6c63",
   "metadata": {},
   "outputs": [],
   "source": [
    "from tqdm.notebook import trange"
   ]
  },
  {
   "cell_type": "code",
   "execution_count": 32,
   "id": "ea7978f3-4c59-4f4e-b170-8b13853d012a",
   "metadata": {},
   "outputs": [],
   "source": [
    "losses = {}"
   ]
  },
  {
   "cell_type": "code",
   "execution_count": 33,
   "id": "85cb2ac0-1774-439f-997f-4ec3d1323a6d",
   "metadata": {},
   "outputs": [
    {
     "data": {
      "application/vnd.jupyter.widget-view+json": {
       "model_id": "15db09c913474b58aac3575d4c8b3264",
       "version_major": 2,
       "version_minor": 0
      },
      "text/plain": [
       "  0%|          | 0/10000 [00:00<?, ?it/s]"
      ]
     },
     "metadata": {},
     "output_type": "display_data"
    }
   ],
   "source": [
    "\n",
    "# make dataset\n",
    "ds_train = make_ds()\n",
    "\n",
    "# make gp model\n",
    "n_inducing = 100\n",
    "model = make_svgp_model(n_inducing)\n",
    "# don't train the inducing inputs\n",
    "gpflow.set_trainable(model.inducing_variable, False)\n",
    "\n",
    "\n",
    "# Create an Adam Optimizer\n",
    "n_iterations = 10_000\n",
    "losses[\"standard\"] = []\n",
    "optimizer = tf.optimizers.Adam()\n",
    "\n",
    "# make training loss\n",
    "training_loss = model.training_loss_closure(ds_train, compile=True)\n",
    "\n",
    "\n",
    "@tf.function\n",
    "def optimization_step():\n",
    "    optimizer.minimize(training_loss, model.trainable_variables)\n",
    "\n",
    "with trange(n_iterations) as pbar:\n",
    "    for step in pbar:\n",
    "        optimization_step()\n",
    "        elbo = -training_loss().numpy()\n",
    "        losses[\"standard\"].append(elbo)\n",
    "        \n",
    "        if step % 10 == 0:\n",
    "            pbar.set_description(f\"Loss (ELBO): {elbo:.4e}\")\n",
    "            \n",
    "            "
   ]
  },
  {
   "cell_type": "code",
   "execution_count": 34,
   "id": "3341dc7f-e574-4c26-9987-dc62b88d157b",
   "metadata": {},
   "outputs": [
    {
     "data": {
      "image/png": "[encoded data removed]",
      "text/plain": [
       "<Figure size 432x288 with 1 Axes>"
      ]
     },
     "metadata": {
      "needs_background": "light"
     },
     "output_type": "display_data"
    }
   ],
   "source": [
    "fig, ax = plt.subplots()\n",
    "\n",
    "ax.plot(losses[\"standard\"], label=\"Training Loss (Standard)\")\n",
    "ax.set(xlabel=\"Iterations\", ylabel=\"ELBO\")\n",
    "plt.legend()\n",
    "plt.show()"
   ]
  },
  {
   "cell_type": "code",
   "execution_count": 35,
   "id": "1127003c-b427-4ac0-a9b3-315f5518ea0a",
   "metadata": {},
   "outputs": [
    {
     "name": "stdout",
     "output_type": "stream",
     "text": [
      "╒══════════════════════════╤═══════════╤══════════════════╤═════════╤═════════════╤═══════════════╤═════════╤═════════════════════════════════════════════╕\n",
      "│ name                     │ class     │ transform        │ prior   │ trainable   │ shape         │ dtype   │ value                                       │\n",
      "╞══════════════════════════╪═══════════╪══════════════════╪═════════╪═════════════╪═══════════════╪═════════╪═════════════════════════════════════════════╡\n",
      "│ SVGP.kernel.variance     │ Parameter │ Softplus         │         │ True        │ ()            │ float64 │ 0.0853100424625464                          │\n",
      "├──────────────────────────┼───────────┼──────────────────┼─────────┼─────────────┼───────────────┼─────────┼─────────────────────────────────────────────┤\n",
      "│ SVGP.kernel.lengthscales │ Parameter │ Softplus         │         │ True        │ (3,)          │ float64 │ [ 6.2871535   6.38146228 13.73560092]       │\n",
      "├──────────────────────────┼───────────┼──────────────────┼─────────┼─────────────┼───────────────┼─────────┼─────────────────────────────────────────────┤\n",
      "│ SVGP.likelihood.variance │ Parameter │ Softplus + Shift │         │ True        │ ()            │ float64 │ 0.0249399255572094                          │\n",
      "├──────────────────────────┼───────────┼──────────────────┼─────────┼─────────────┼───────────────┼─────────┼─────────────────────────────────────────────┤\n",
      "│ SVGP.inducing_variable.Z │ Parameter │ Identity         │         │ False       │ (100, 3)      │ float64 │ [[296.46831807, 41.31409593, 59.96697532... │\n",
      "├──────────────────────────┼───────────┼──────────────────┼─────────┼─────────────┼───────────────┼─────────┼─────────────────────────────────────────────┤\n",
      "│ SVGP.q_mu                │ Parameter │ Identity         │         │ True        │ (100, 1)      │ float64 │ [[-0.05687181...                            │\n",
      "├──────────────────────────┼───────────┼──────────────────┼─────────┼─────────────┼───────────────┼─────────┼─────────────────────────────────────────────┤\n",
      "│ SVGP.q_sqrt              │ Parameter │ FillTriangular   │         │ True        │ (1, 100, 100) │ float64 │ [[[0.10602401, 0., 0....                    │\n",
      "╘══════════════════════════╧═══════════╧══════════════════╧═════════╧═════════════╧═══════════════╧═════════╧═════════════════════════════════════════════╛\n"
     ]
    }
   ],
   "source": [
    "print_summary(model)"
   ]
  },
  {
   "cell_type": "markdown",
   "id": "0d79c857-3338-473a-966a-180acefefa80",
   "metadata": {},
   "source": [
    "## Natural Gradients"
   ]
  },
  {
   "cell_type": "code",
   "execution_count": 36,
   "id": "cacbe85c-0bca-4b46-bbca-f0981a4f35e8",
   "metadata": {},
   "outputs": [],
   "source": [
    "from gpflow import set_trainable\n",
    "from gpflow.optimizers import NaturalGradient\n",
    "\n",
    "# make dataset\n",
    "ds_train = make_ds()\n",
    "\n",
    "# make gp model\n",
    "n_inducing = 100\n",
    "model = make_svgp_model(n_inducing)\n",
    "# don't train the inducing inputs\n",
    "gpflow.set_trainable(model.inducing_variable, False)\n",
    "\n",
    "\n",
    "# Create an Adam Optimizer\n",
    "n_iterations = 10_000\n",
    "learning_rate = 1e-3\n",
    "\n",
    "ordinary_adam_opt = tf.optimizers.Adam(learning_rate)\n",
    "\n",
    "\n",
    "# NatGrads and Adam for SVGP\n",
    "# Stop Adam from optimizing the variational parameters\n",
    "set_trainable(model.q_mu, False)\n",
    "set_trainable(model.q_sqrt, False)\n",
    "\n",
    "# Create the optimize_tensors for SVGP\n",
    "natgrad_adam_opt = tf.optimizers.Adam(learning_rate)\n",
    "\n",
    "natgrad_opt = NaturalGradient(gamma=0.1)\n",
    "variational_params = [(model.q_mu, model.q_sqrt)]\n",
    "\n",
    "\n",
    "# make training loss\n",
    "training_loss = model.training_loss_closure(ds_train, compile=True)"
   ]
  },
  {
   "cell_type": "code",
   "execution_count": 37,
   "id": "06d9bfd2-29ae-4ad9-9c5c-659c2bc24a97",
   "metadata": {},
   "outputs": [
    {
     "data": {
      "application/vnd.jupyter.widget-view+json": {
       "model_id": "6073e101857941b3a18b52ddfc998112",
       "version_major": 2,
       "version_minor": 0
      },
      "text/plain": [
       "  0%|          | 0/10000 [00:00<?, ?it/s]"
      ]
     },
     "metadata": {},
     "output_type": "display_data"
    }
   ],
   "source": [
    "losses[\"natgrad\"] = []\n",
    "@tf.function\n",
    "def optimization_step():\n",
    "    natgrad_adam_opt.minimize(training_loss, var_list=model.trainable_variables)\n",
    "\n",
    "@tf.function\n",
    "def natgrad_optimization_step():\n",
    "    natgrad_opt.minimize(training_loss, var_list=variational_params)\n",
    "    \n",
    "with trange(n_iterations) as pbar:\n",
    "    for step in pbar:\n",
    "        optimization_step()\n",
    "        natgrad_optimization_step()\n",
    "        elbo = -training_loss().numpy()\n",
    "        losses[\"natgrad\"].append(elbo)\n",
    "        \n",
    "        if step % 10 == 0:\n",
    "            pbar.set_description(f\"Loss (ELBO): {elbo:.4e}\")"
   ]
  },
  {
   "cell_type": "code",
   "execution_count": 38,
   "id": "e3f11a00-a654-469a-ab13-984eec1787ca",
   "metadata": {},
   "outputs": [
    {
     "data": {
      "image/png": "[encoded data removed]",
      "text/plain": [
       "<Figure size 432x288 with 1 Axes>"
      ]
     },
     "metadata": {
      "needs_background": "light"
     },
     "output_type": "display_data"
    }
   ],
   "source": [
    "fig, ax = plt.subplots()\n",
    "\n",
    "ax.plot(losses[\"standard\"], label=\"Training Loss (Standard)\")\n",
    "ax.plot(losses[\"natgrad\"], label=\"Training Loss (NatGrad)\")\n",
    "ax.set(xlabel=\"Iterations\", ylabel=\"ELBO\", xscale=\"log\")\n",
    "plt.legend()\n",
    "plt.show()"
   ]
  },
  {
   "cell_type": "code",
   "execution_count": 39,
   "id": "1dd47cb6-5676-4d5b-a387-868ee3e48ad4",
   "metadata": {},
   "outputs": [
    {
     "name": "stdout",
     "output_type": "stream",
     "text": [
      "╒══════════════════════════╤═══════════╤══════════════════╤═════════╤═════════════╤═══════════════╤═════════╤═════════════════════════════════════════════╕\n",
      "│ name                     │ class     │ transform        │ prior   │ trainable   │ shape         │ dtype   │ value                                       │\n",
      "╞══════════════════════════╪═══════════╪══════════════════╪═════════╪═════════════╪═══════════════╪═════════╪═════════════════════════════════════════════╡\n",
      "│ SVGP.kernel.variance     │ Parameter │ Softplus         │         │ True        │ ()            │ float64 │ 0.05200053763778622                         │\n",
      "├──────────────────────────┼───────────┼──────────────────┼─────────┼─────────────┼───────────────┼─────────┼─────────────────────────────────────────────┤\n",
      "│ SVGP.kernel.lengthscales │ Parameter │ Softplus         │         │ True        │ (3,)          │ float64 │ [ 5.30798236  5.36966031 12.82426735]       │\n",
      "├──────────────────────────┼───────────┼──────────────────┼─────────┼─────────────┼───────────────┼─────────┼─────────────────────────────────────────────┤\n",
      "│ SVGP.likelihood.variance │ Parameter │ Softplus + Shift │         │ True        │ ()            │ float64 │ 0.02702954793618634                         │\n",
      "├──────────────────────────┼───────────┼──────────────────┼─────────┼─────────────┼───────────────┼─────────┼─────────────────────────────────────────────┤\n",
      "│ SVGP.inducing_variable.Z │ Parameter │ Identity         │         │ False       │ (100, 3)      │ float64 │ [[287.65521956, 34.61322162, 48.62496283... │\n",
      "├──────────────────────────┼───────────┼──────────────────┼─────────┼─────────────┼───────────────┼─────────┼─────────────────────────────────────────────┤\n",
      "│ SVGP.q_mu                │ Parameter │ Identity         │         │ False       │ (100, 1)      │ float64 │ [[0.33029582...                             │\n",
      "├──────────────────────────┼───────────┼──────────────────┼─────────┼─────────────┼───────────────┼─────────┼─────────────────────────────────────────────┤\n",
      "│ SVGP.q_sqrt              │ Parameter │ FillTriangular   │         │ False       │ (1, 100, 100) │ float64 │ [[[0.13868083, 0., 0....                    │\n",
      "╘══════════════════════════╧═══════════╧══════════════════╧═════════╧═════════════╧═══════════════╧═════════╧═════════════════════════════════════════════╛\n"
     ]
    }
   ],
   "source": [
    "print_summary(model)"
   ]
  },
  {
   "cell_type": "code",
   "execution_count": 40,
   "id": "f88e177a-892b-43b8-a0e2-ddd697bfdbad",
   "metadata": {},
   "outputs": [],
   "source": [
    "import tensorflow_datasets as tfd\n",
    "\n",
    "def predict_grid(gp_model, n_batches:int=5_000):\n",
    "    # generate grid\n",
    "    df_grid = generate_eval_data(args)\n",
    "    \n",
    "    # set input columns\n",
    "    df_pred = df_grid[df_grid.attrs[\"input_cols\"]].values\n",
    "    \n",
    "    # create dataloader\n",
    "    ds_test = tf.data.Dataset.from_tensor_slices(df_pred).batch(n_batches)\n",
    "    n_iters = len(ds_test)\n",
    "    means, variances = [], []\n",
    "    ds_test = iter(ds_test)\n",
    "    with trange(n_iters) as pbar:\n",
    "        for i in pbar:\n",
    "            ix = next(ds_test)\n",
    "            # predict using GP\n",
    "            imean, ivar = gp_model.predict_f(ix)\n",
    "\n",
    "            # add stuff\n",
    "            means.append(imean)\n",
    "            variances.append(ivar)\n",
    "\n",
    "    mean = np.vstack(means)\n",
    "    variance = np.vstack(variances)\n",
    "    \n",
    "    df_grid[\"pred\"] = mean\n",
    "    df_grid[\"variance\"] = variance\n",
    "    \n",
    "    return df_grid\n",
    "    "
   ]
  },
  {
   "cell_type": "code",
   "execution_count": 41,
   "id": "54b7afff-747e-4f75-a020-eb6ca80d9bee",
   "metadata": {},
   "outputs": [
    {
     "data": {
      "application/vnd.jupyter.widget-view+json": {
       "model_id": "d9552696193c4db283bbcb1f44f73294",
       "version_major": 2,
       "version_minor": 0
      },
      "text/plain": [
       "  0%|          | 0/17 [00:00<?, ?it/s]"
      ]
     },
     "metadata": {},
     "output_type": "display_data"
    },
    {
     "name": "stderr",
     "output_type": "stream",
     "text": [
      "/home/johnsonj/miniconda3/envs/jaxtf_cpu_py39/lib/python3.9/site-packages/xarray/core/missing.py:562: FutureWarning: Passing method to Float64Index.get_loc is deprecated and will raise in a future version. Use index.get_indexer([item], method=...) instead.\n",
      "  imin = index.get_loc(minval, method=\"nearest\")\n",
      "/home/johnsonj/miniconda3/envs/jaxtf_cpu_py39/lib/python3.9/site-packages/xarray/core/missing.py:563: FutureWarning: Passing method to Float64Index.get_loc is deprecated and will raise in a future version. Use index.get_indexer([item], method=...) instead.\n",
      "  imax = index.get_loc(maxval, method=\"nearest\")\n",
      "/home/johnsonj/miniconda3/envs/jaxtf_cpu_py39/lib/python3.9/site-packages/xarray/core/missing.py:562: FutureWarning: Passing method to Float64Index.get_loc is deprecated and will raise in a future version. Use index.get_indexer([item], method=...) instead.\n",
      "  imin = index.get_loc(minval, method=\"nearest\")\n",
      "/home/johnsonj/miniconda3/envs/jaxtf_cpu_py39/lib/python3.9/site-packages/xarray/core/missing.py:563: FutureWarning: Passing method to Float64Index.get_loc is deprecated and will raise in a future version. Use index.get_indexer([item], method=...) instead.\n",
      "  imax = index.get_loc(maxval, method=\"nearest\")\n"
     ]
    }
   ],
   "source": [
    "# make predictions\n",
    "df_grid = predict_grid(model)\n",
    "\n",
    "# create OI\n",
    "ds_oi = postprocess_data(df_grid, args)"
   ]
  },
  {
   "cell_type": "markdown",
   "id": "671a4cfd-15ec-4812-82be-27d7748bf0c6",
   "metadata": {},
   "source": [
    "### Metrics"
   ]
  },
  {
   "cell_type": "code",
   "execution_count": 42,
   "id": "ea592896-57ab-4058-bebb-fd675c6afaf9",
   "metadata": {},
   "outputs": [
    {
     "name": "stdout",
     "output_type": "stream",
     "text": [
      "RMSE (Mean): 0.216\n",
      "RMSE (Std): 0.061\n",
      "NRMSE (Mean): 0.607\n",
      "NRMSE (Std): 0.114\n",
      "CPU times: user 296 ms, sys: 8 ms, total: 304 ms\n",
      "Wall time: 289 ms\n"
     ]
    }
   ],
   "source": [
    "%%time\n",
    "\n",
    "rmse_metrics = get_rmse_metrics(ds_oi, args)\n",
    "print(rmse_metrics)"
   ]
  },
  {
   "cell_type": "code",
   "execution_count": 43,
   "id": "c84d5382-2d8a-41a8-b576-e26943b19aac",
   "metadata": {},
   "outputs": [
    {
     "name": "stdout",
     "output_type": "stream",
     "text": [
      "Resolved Scale: 799140606628042.500 (km)\n"
     ]
    }
   ],
   "source": [
    "psd_metrics = get_psd_metrics(ds_oi, args)\n",
    "print(psd_metrics)"
   ]
  },
  {
   "cell_type": "code",
   "execution_count": 44,
   "id": "edf2e43c-4e20-4800-aa65-826baeeed91f",
   "metadata": {},
   "outputs": [
    {
     "data": {
      "image/png": "[encoded data removed]",
      "text/plain": [
       "<Figure size 504x360 with 1 Axes>"
      ]
     },
     "metadata": {
      "needs_background": "light"
     },
     "output_type": "display_data"
    },
    {
     "data": {
      "image/png": "[encoded data removed]",
      "text/plain": [
       "<Figure size 504x360 with 1 Axes>"
      ]
     },
     "metadata": {
      "needs_background": "light"
     },
     "output_type": "display_data"
    }
   ],
   "source": [
    "\n",
    "fig, ax = plot_psd_spectrum(\n",
    "    psd_metrics.psd_study, \n",
    "    psd_metrics.psd_ref, \n",
    "    psd_metrics.wavenumber\n",
    ")\n",
    "fig, ax = plot_psd_score(\n",
    "    psd_metrics.psd_diff, \n",
    "    psd_metrics.psd_ref, \n",
    "    psd_metrics.wavenumber, \n",
    "    psd_metrics.resolved_scale)"
   ]
  },
  {
   "cell_type": "markdown",
   "id": "a7fa6dbd-7699-41a8-aba6-eefff8bbc311",
   "metadata": {},
   "source": [
    "### Viz"
   ]
  },
  {
   "cell_type": "code",
   "execution_count": 45,
   "id": "ebe17c3d-ef51-4c54-8a87-1a2144ae7c5c",
   "metadata": {},
   "outputs": [],
   "source": [
    "# ds_oi.ssh.hvplot.image(\n",
    "#     x=\"longitude\",\n",
    "#     y=\"latitude\",\n",
    "#     groupby='time',\n",
    "#     # rasterize=True, \n",
    "#     width=500, height=400, cmap=\"viridis\")"
   ]
  },
  {
   "cell_type": "code",
   "execution_count": 46,
   "id": "45cb024a-6821-4648-8004-221356ddf92b",
   "metadata": {},
   "outputs": [],
   "source": [
    "# ds_oi.variance.hvplot.image(\n",
    "#     x=\"longitude\",\n",
    "#     y=\"latitude\",\n",
    "#     # groupby='time',\n",
    "#     # rasterize=True, \n",
    "#     width=500, height=400, cmap=\"viridis\")"
   ]
  },
  {
   "cell_type": "code",
   "execution_count": 47,
   "id": "aeb20015-65e5-4320-9407-8929c3f1e94c",
   "metadata": {},
   "outputs": [],
   "source": [
    "ds_oi[\"ssh_grad\"] = calculate_gradient(ds_oi[\"ssh\"], \"longitude\", \"latitude\")\n"
   ]
  },
  {
   "cell_type": "code",
   "execution_count": 48,
   "id": "a6e3c05c-53ae-4e9f-9fb0-9cd140bacf97",
   "metadata": {},
   "outputs": [],
   "source": [
    "# ds_oi.ssh_grad.hvplot.image(\n",
    "#     x=\"longitude\",\n",
    "#     y=\"latitude\",\n",
    "#     # groupby='time',\n",
    "#     # rasterize=True, \n",
    "#     width=500, height=400, cmap=\"Spectral_r\")"
   ]
  },
  {
   "cell_type": "code",
   "execution_count": 49,
   "id": "369e6680-7bfd-456e-82d5-f1870a492bdf",
   "metadata": {},
   "outputs": [],
   "source": [
    "ds_oi[\"ssh_lap\"] = calculate_laplacian(ds_oi[\"ssh\"], \"longitude\", \"latitude\")\n"
   ]
  },
  {
   "cell_type": "code",
   "execution_count": 86,
   "id": "2bc60772-6f8e-456a-a0c5-c2e70a66f514",
   "metadata": {},
   "outputs": [],
   "source": [
    "# ds_oi.ssh_lap.hvplot.image(\n",
    "#     x=\"longitude\",\n",
    "#     y=\"latitude\",\n",
    "#     # groupby='time',\n",
    "#     # rasterize=True, \n",
    "#     width=500, height=400, cmap=\"RdBu_r\")"
   ]
  },
  {
   "cell_type": "code",
   "execution_count": 50,
   "id": "31a16d59-b52f-42ab-84b0-2e6fdd9cf76a",
   "metadata": {},
   "outputs": [],
   "source": [
    "from gpflux.helpers import construct_basic_inducing_variables, construct_basic_kernel"
   ]
  },
  {
   "cell_type": "code",
   "execution_count": 51,
   "id": "997f49e4-b162-4919-b645-4c6a043b383e",
   "metadata": {},
   "outputs": [
    {
     "name": "stderr",
     "output_type": "stream",
     "text": [
      "/home/johnsonj/miniconda3/envs/jaxtf_cpu_py39/lib/python3.9/site-packages/gpflux/helpers.py:121: UserWarning: No `z_init` has been specified in `construct_basic_inducing_variables`. Default initialization using random normal N(0, 1) will be used.\n",
      "  warnings.warn(\n",
      "/home/johnsonj/miniconda3/envs/jaxtf_cpu_py39/lib/python3.9/site-packages/gpflux/layers/gp_layer.py:175: UserWarning: Beware, no mean function was specified in the construction of the `GPLayer` so the default `gpflow.mean_functions.Identity` is being used. This mean function will only work if the input dimensionality matches the number of latent Gaussian processes in the layer.\n",
      "  warnings.warn(\n",
      "/tmp/ipykernel_5565/2358229022.py:25: DeprecationWarning: Call to deprecated class TrackableLayer. (GPflux's `TrackableLayer` was prior to TF2.5 used to collect GPflow variables in subclassed layers. As of TF 2.5, `tf.Module` supports this natively and there is no need for `TrackableLayer` anymore. It will be removed in GPflux version `1.0.0`.)\n",
      "  likelihood_layer = gpflux.layers.LikelihoodLayer(gpflow.likelihoods.Gaussian(0.1))\n"
     ]
    }
   ],
   "source": [
    "num_data = xtrain.shape[0]\n",
    "input_dim = xtrain.shape[1]\n",
    "num_inducing = 100\n",
    "output_dim = ytrain.shape[1]\n",
    "\n",
    "\n",
    "# kernel\n",
    "kernel = construct_basic_kernel(gpflow.kernels.RBF(), output_dim)\n",
    "\n",
    "# inducing points layer\n",
    "inducing_vars = construct_basic_inducing_variables(\n",
    "    num_inducing, \n",
    "    input_dim, \n",
    "    output_dim\n",
    ")\n",
    "\n",
    "# gp layer\n",
    "gp_layer = gpflux.layers.GPLayer(\n",
    "    kernel=kernel,\n",
    "    inducing_variable=inducing_vars,\n",
    "    num_data=num_data\n",
    ")\n",
    "\n",
    "# likelihood layer\n",
    "likelihood_layer = gpflux.layers.LikelihoodLayer(gpflow.likelihoods.Gaussian(0.1))\n",
    "\n",
    "\n",
    "# create DEEPGP\n",
    "gp_model = gpflux.models.DeepGP(\n",
    "    [gp_layer], \n",
    "    likelihood_layer,\n",
    "    input_dim=input_dim\n",
    ")"
   ]
  },
  {
   "cell_type": "code",
   "execution_count": 52,
   "id": "de39bcd5-a3e4-4e8f-bbdd-e68d0175167e",
   "metadata": {},
   "outputs": [
    {
     "data": {
      "text/plain": [
       "('0.2.7', '2.5.3', '2.5.2')"
      ]
     },
     "execution_count": 52,
     "metadata": {},
     "output_type": "execute_result"
    }
   ],
   "source": [
    "gpflux.__version__, tf.__version__, gpflow.__version__"
   ]
  },
  {
   "cell_type": "code",
   "execution_count": 53,
   "id": "b98dce6f-62bf-473f-9635-febfd5616266",
   "metadata": {},
   "outputs": [
    {
     "name": "stderr",
     "output_type": "stream",
     "text": [
      "  0%|          | 0/10 [00:00<?, ?it/s]"
     ]
    },
    {
     "name": "stdout",
     "output_type": "stream",
     "text": [
      "WARNING:tensorflow:From /home/johnsonj/miniconda3/envs/jaxtf_cpu_py39/lib/python3.9/site-packages/tensorflow/python/util/deprecation.py:602: calling map_fn_v2 (from tensorflow.python.ops.map_fn) with dtype is deprecated and will be removed in a future version.\n",
      "Instructions for updating:\n",
      "Use fn_output_signature instead\n",
      "WARNING:tensorflow:From /home/johnsonj/miniconda3/envs/jaxtf_cpu_py39/lib/python3.9/site-packages/tensorflow_probability/python/distributions/distribution.py:346: calling MultivariateNormalDiag.__init__ (from tensorflow_probability.python.distributions.mvn_diag) with scale_identity_multiplier is deprecated and will be removed after 2020-01-01.\n",
      "Instructions for updating:\n",
      "`scale_identity_multiplier` is deprecated; please combine it into `scale_diag` directly instead.\n"
     ]
    },
    {
     "name": "stderr",
     "output_type": "stream",
     "text": [
      "  0%|          | 0/10 [00:01<?, ?it/s]\n"
     ]
    },
    {
     "ename": "ValueError",
     "evalue": "in user code:\n\n    /tmp/ipykernel_5565/4031792773.py:9 step  *\n        optimizer.minimize(objective_closure, gp_model.trainable_variables)\n    /home/johnsonj/miniconda3/envs/jaxtf_cpu_py39/lib/python3.9/site-packages/tensorflow/python/keras/optimizer_v2/optimizer_v2.py:528 minimize  **\n        grads_and_vars = self._compute_gradients(\n    /home/johnsonj/miniconda3/envs/jaxtf_cpu_py39/lib/python3.9/site-packages/tensorflow/python/keras/optimizer_v2/optimizer_v2.py:571 _compute_gradients\n        loss = loss()\n    /home/johnsonj/miniconda3/envs/jaxtf_cpu_py39/lib/python3.9/site-packages/tensorflow/python/eager/def_function.py:889 __call__\n        result = self._call(*args, **kwds)\n    /home/johnsonj/miniconda3/envs/jaxtf_cpu_py39/lib/python3.9/site-packages/tensorflow/python/eager/def_function.py:933 _call\n        self._initialize(args, kwds, add_initializers_to=initializers)\n    /home/johnsonj/miniconda3/envs/jaxtf_cpu_py39/lib/python3.9/site-packages/tensorflow/python/eager/def_function.py:763 _initialize\n        self._stateful_fn._get_concrete_function_internal_garbage_collected(  # pylint: disable=protected-access\n    /home/johnsonj/miniconda3/envs/jaxtf_cpu_py39/lib/python3.9/site-packages/tensorflow/python/eager/function.py:3050 _get_concrete_function_internal_garbage_collected\n        graph_function, _ = self._maybe_define_function(args, kwargs)\n    /home/johnsonj/miniconda3/envs/jaxtf_cpu_py39/lib/python3.9/site-packages/tensorflow/python/eager/function.py:3444 _maybe_define_function\n        graph_function = self._create_graph_function(args, kwargs)\n    /home/johnsonj/miniconda3/envs/jaxtf_cpu_py39/lib/python3.9/site-packages/tensorflow/python/eager/function.py:3279 _create_graph_function\n        func_graph_module.func_graph_from_py_func(\n    /home/johnsonj/miniconda3/envs/jaxtf_cpu_py39/lib/python3.9/site-packages/tensorflow/python/framework/func_graph.py:999 func_graph_from_py_func\n        func_outputs = python_func(*func_args, **func_kwargs)\n    /home/johnsonj/miniconda3/envs/jaxtf_cpu_py39/lib/python3.9/site-packages/tensorflow/python/eager/def_function.py:672 wrapped_fn\n        out = weak_wrapped_fn().__wrapped__(*args, **kwds)\n    /tmp/ipykernel_5565/4031792773.py:5 objective_closure\n        return -gp_model.elbo((xtrain,ytrain))\n    /home/johnsonj/miniconda3/envs/jaxtf_cpu_py39/lib/python3.9/site-packages/gpflux/models/deep_gp.py:202 elbo\n        _ = self.call(X, Y, training=True)\n    /home/johnsonj/miniconda3/envs/jaxtf_cpu_py39/lib/python3.9/site-packages/gpflux/models/deep_gp.py:183 call\n        f_outputs = self._evaluate_deep_gp(inputs, targets=targets, training=training)\n    /home/johnsonj/miniconda3/envs/jaxtf_cpu_py39/lib/python3.9/site-packages/gpflux/models/deep_gp.py:162 _evaluate_deep_gp\n        features = layer(features, training=training)\n    /home/johnsonj/miniconda3/envs/jaxtf_cpu_py39/lib/python3.9/site-packages/tensorflow_probability/python/layers/distribution_layer.py:230 __call__\n        distribution, _ = super(DistributionLambda, self).__call__(\n    /home/johnsonj/miniconda3/envs/jaxtf_cpu_py39/lib/python3.9/site-packages/tensorflow/python/keras/engine/base_layer.py:1030 __call__\n        outputs = call_fn(inputs, *args, **kwargs)\n    /home/johnsonj/miniconda3/envs/jaxtf_cpu_py39/lib/python3.9/site-packages/gpflux/layers/gp_layer.py:284 call  **\n        outputs = super().call(inputs, *args, **kwargs)\n    /home/johnsonj/miniconda3/envs/jaxtf_cpu_py39/lib/python3.9/site-packages/tensorflow_probability/python/layers/distribution_layer.py:236 call\n        distribution, value = super(DistributionLambda, self).call(\n    /home/johnsonj/miniconda3/envs/jaxtf_cpu_py39/lib/python3.9/site-packages/tensorflow/python/keras/layers/core.py:919 call\n        result = self.function(inputs, **kwargs)\n    /home/johnsonj/miniconda3/envs/jaxtf_cpu_py39/lib/python3.9/site-packages/tensorflow_probability/python/layers/distribution_layer.py:176 _fn\n        d = make_distribution_fn(*fargs, **fkwargs)\n    /home/johnsonj/miniconda3/envs/jaxtf_cpu_py39/lib/python3.9/site-packages/gpflux/layers/gp_layer.py:338 _make_distribution_fn\n        return tfp.distributions.MultivariateNormalDiag(loc=mean, scale_diag=tf.sqrt(cov))\n    /home/johnsonj/miniconda3/envs/jaxtf_cpu_py39/lib/python3.9/site-packages/decorator.py:232 fun\n        return caller(func, *(extras + args), **kw)\n    /home/johnsonj/miniconda3/envs/jaxtf_cpu_py39/lib/python3.9/site-packages/tensorflow_probability/python/distributions/distribution.py:346 wrapped_init\n        default_init(self_, *args, **kwargs)\n    /home/johnsonj/miniconda3/envs/jaxtf_cpu_py39/lib/python3.9/site-packages/tensorflow/python/util/deprecation.py:535 new_func\n        return func(*args, **kwargs)\n    /home/johnsonj/miniconda3/envs/jaxtf_cpu_py39/lib/python3.9/site-packages/tensorflow_probability/python/distributions/mvn_diag.py:268 __init__\n        super(MultivariateNormalDiag, self).__init__(\n    /home/johnsonj/miniconda3/envs/jaxtf_cpu_py39/lib/python3.9/site-packages/decorator.py:232 fun\n        return caller(func, *(extras + args), **kw)\n    /home/johnsonj/miniconda3/envs/jaxtf_cpu_py39/lib/python3.9/site-packages/tensorflow_probability/python/distributions/distribution.py:346 wrapped_init\n        default_init(self_, *args, **kwargs)\n    /home/johnsonj/miniconda3/envs/jaxtf_cpu_py39/lib/python3.9/site-packages/tensorflow_probability/python/distributions/mvn_linear_operator.py:199 __init__\n        batch_shape, event_shape = distribution_util.shapes_from_loc_and_scale(\n    /home/johnsonj/miniconda3/envs/jaxtf_cpu_py39/lib/python3.9/site-packages/tensorflow_probability/python/internal/distribution_util.py:134 shapes_from_loc_and_scale\n        raise ValueError(\n\n    ValueError: Event size of `scale` (1) could not be broadcast up to that of `loc` (3).\n",
     "output_type": "error",
     "traceback": [
      "\u001b[0;31m---------------------------------------------------------------------------\u001b[0m",
      "\u001b[0;31mValueError\u001b[0m                                Traceback (most recent call last)",
      "\u001b[0;32m/tmp/ipykernel_5565/4031792773.py\u001b[0m in \u001b[0;36m<module>\u001b[0;34m\u001b[0m\n\u001b[1;32m     11\u001b[0m \u001b[0mtq\u001b[0m \u001b[0;34m=\u001b[0m \u001b[0mtqdm\u001b[0m\u001b[0;34m.\u001b[0m\u001b[0mtqdm\u001b[0m\u001b[0;34m(\u001b[0m\u001b[0mrange\u001b[0m\u001b[0;34m(\u001b[0m\u001b[0margs\u001b[0m\u001b[0;34m.\u001b[0m\u001b[0mn_epochs\u001b[0m\u001b[0;34m)\u001b[0m\u001b[0;34m)\u001b[0m\u001b[0;34m\u001b[0m\u001b[0;34m\u001b[0m\u001b[0m\n\u001b[1;32m     12\u001b[0m \u001b[0;32mfor\u001b[0m \u001b[0mi\u001b[0m \u001b[0;32min\u001b[0m \u001b[0mtq\u001b[0m\u001b[0;34m:\u001b[0m\u001b[0;34m\u001b[0m\u001b[0;34m\u001b[0m\u001b[0m\n\u001b[0;32m---> 13\u001b[0;31m     \u001b[0mstep\u001b[0m\u001b[0;34m(\u001b[0m\u001b[0;34m)\u001b[0m\u001b[0;34m\u001b[0m\u001b[0;34m\u001b[0m\u001b[0m\n\u001b[0m",
      "\u001b[0;32m~/miniconda3/envs/jaxtf_cpu_py39/lib/python3.9/site-packages/tensorflow/python/eager/def_function.py\u001b[0m in \u001b[0;36m__call__\u001b[0;34m(self, *args, **kwds)\u001b[0m\n\u001b[1;32m    887\u001b[0m \u001b[0;34m\u001b[0m\u001b[0m\n\u001b[1;32m    888\u001b[0m       \u001b[0;32mwith\u001b[0m \u001b[0mOptionalXlaContext\u001b[0m\u001b[0;34m(\u001b[0m\u001b[0mself\u001b[0m\u001b[0;34m.\u001b[0m\u001b[0m_jit_compile\u001b[0m\u001b[0;34m)\u001b[0m\u001b[0;34m:\u001b[0m\u001b[0;34m\u001b[0m\u001b[0;34m\u001b[0m\u001b[0m\n\u001b[0;32m--> 889\u001b[0;31m         \u001b[0mresult\u001b[0m \u001b[0;34m=\u001b[0m \u001b[0mself\u001b[0m\u001b[0;34m.\u001b[0m\u001b[0m_call\u001b[0m\u001b[0;34m(\u001b[0m\u001b[0;34m*\u001b[0m\u001b[0margs\u001b[0m\u001b[0;34m,\u001b[0m \u001b[0;34m**\u001b[0m\u001b[0mkwds\u001b[0m\u001b[0;34m)\u001b[0m\u001b[0;34m\u001b[0m\u001b[0;34m\u001b[0m\u001b[0m\n\u001b[0m\u001b[1;32m    890\u001b[0m \u001b[0;34m\u001b[0m\u001b[0m\n\u001b[1;32m    891\u001b[0m       \u001b[0mnew_tracing_count\u001b[0m \u001b[0;34m=\u001b[0m \u001b[0mself\u001b[0m\u001b[0;34m.\u001b[0m\u001b[0mexperimental_get_tracing_count\u001b[0m\u001b[0;34m(\u001b[0m\u001b[0;34m)\u001b[0m\u001b[0;34m\u001b[0m\u001b[0;34m\u001b[0m\u001b[0m\n",
      "\u001b[0;32m~/miniconda3/envs/jaxtf_cpu_py39/lib/python3.9/site-packages/tensorflow/python/eager/def_function.py\u001b[0m in \u001b[0;36m_call\u001b[0;34m(self, *args, **kwds)\u001b[0m\n\u001b[1;32m    931\u001b[0m       \u001b[0;31m# This is the first call of __call__, so we have to initialize.\u001b[0m\u001b[0;34m\u001b[0m\u001b[0;34m\u001b[0m\u001b[0m\n\u001b[1;32m    932\u001b[0m       \u001b[0minitializers\u001b[0m \u001b[0;34m=\u001b[0m \u001b[0;34m[\u001b[0m\u001b[0;34m]\u001b[0m\u001b[0;34m\u001b[0m\u001b[0;34m\u001b[0m\u001b[0m\n\u001b[0;32m--> 933\u001b[0;31m       \u001b[0mself\u001b[0m\u001b[0;34m.\u001b[0m\u001b[0m_initialize\u001b[0m\u001b[0;34m(\u001b[0m\u001b[0margs\u001b[0m\u001b[0;34m,\u001b[0m \u001b[0mkwds\u001b[0m\u001b[0;34m,\u001b[0m \u001b[0madd_initializers_to\u001b[0m\u001b[0;34m=\u001b[0m\u001b[0minitializers\u001b[0m\u001b[0;34m)\u001b[0m\u001b[0;34m\u001b[0m\u001b[0;34m\u001b[0m\u001b[0m\n\u001b[0m\u001b[1;32m    934\u001b[0m     \u001b[0;32mfinally\u001b[0m\u001b[0;34m:\u001b[0m\u001b[0;34m\u001b[0m\u001b[0;34m\u001b[0m\u001b[0m\n\u001b[1;32m    935\u001b[0m       \u001b[0;31m# At this point we know that the initialization is complete (or less\u001b[0m\u001b[0;34m\u001b[0m\u001b[0;34m\u001b[0m\u001b[0m\n",
      "\u001b[0;32m~/miniconda3/envs/jaxtf_cpu_py39/lib/python3.9/site-packages/tensorflow/python/eager/def_function.py\u001b[0m in \u001b[0;36m_initialize\u001b[0;34m(self, args, kwds, add_initializers_to)\u001b[0m\n\u001b[1;32m    761\u001b[0m     \u001b[0mself\u001b[0m\u001b[0;34m.\u001b[0m\u001b[0m_graph_deleter\u001b[0m \u001b[0;34m=\u001b[0m \u001b[0mFunctionDeleter\u001b[0m\u001b[0;34m(\u001b[0m\u001b[0mself\u001b[0m\u001b[0;34m.\u001b[0m\u001b[0m_lifted_initializer_graph\u001b[0m\u001b[0;34m)\u001b[0m\u001b[0;34m\u001b[0m\u001b[0;34m\u001b[0m\u001b[0m\n\u001b[1;32m    762\u001b[0m     self._concrete_stateful_fn = (\n\u001b[0;32m--> 763\u001b[0;31m         self._stateful_fn._get_concrete_function_internal_garbage_collected(  # pylint: disable=protected-access\n\u001b[0m\u001b[1;32m    764\u001b[0m             *args, **kwds))\n\u001b[1;32m    765\u001b[0m \u001b[0;34m\u001b[0m\u001b[0m\n",
      "\u001b[0;32m~/miniconda3/envs/jaxtf_cpu_py39/lib/python3.9/site-packages/tensorflow/python/eager/function.py\u001b[0m in \u001b[0;36m_get_concrete_function_internal_garbage_collected\u001b[0;34m(self, *args, **kwargs)\u001b[0m\n\u001b[1;32m   3048\u001b[0m       \u001b[0margs\u001b[0m\u001b[0;34m,\u001b[0m \u001b[0mkwargs\u001b[0m \u001b[0;34m=\u001b[0m \u001b[0;32mNone\u001b[0m\u001b[0;34m,\u001b[0m \u001b[0;32mNone\u001b[0m\u001b[0;34m\u001b[0m\u001b[0;34m\u001b[0m\u001b[0m\n\u001b[1;32m   3049\u001b[0m     \u001b[0;32mwith\u001b[0m \u001b[0mself\u001b[0m\u001b[0;34m.\u001b[0m\u001b[0m_lock\u001b[0m\u001b[0;34m:\u001b[0m\u001b[0;34m\u001b[0m\u001b[0;34m\u001b[0m\u001b[0m\n\u001b[0;32m-> 3050\u001b[0;31m       \u001b[0mgraph_function\u001b[0m\u001b[0;34m,\u001b[0m \u001b[0m_\u001b[0m \u001b[0;34m=\u001b[0m \u001b[0mself\u001b[0m\u001b[0;34m.\u001b[0m\u001b[0m_maybe_define_function\u001b[0m\u001b[0;34m(\u001b[0m\u001b[0margs\u001b[0m\u001b[0;34m,\u001b[0m \u001b[0mkwargs\u001b[0m\u001b[0;34m)\u001b[0m\u001b[0;34m\u001b[0m\u001b[0;34m\u001b[0m\u001b[0m\n\u001b[0m\u001b[1;32m   3051\u001b[0m     \u001b[0;32mreturn\u001b[0m \u001b[0mgraph_function\u001b[0m\u001b[0;34m\u001b[0m\u001b[0;34m\u001b[0m\u001b[0m\n\u001b[1;32m   3052\u001b[0m \u001b[0;34m\u001b[0m\u001b[0m\n",
      "\u001b[0;32m~/miniconda3/envs/jaxtf_cpu_py39/lib/python3.9/site-packages/tensorflow/python/eager/function.py\u001b[0m in \u001b[0;36m_maybe_define_function\u001b[0;34m(self, args, kwargs)\u001b[0m\n\u001b[1;32m   3442\u001b[0m \u001b[0;34m\u001b[0m\u001b[0m\n\u001b[1;32m   3443\u001b[0m           \u001b[0mself\u001b[0m\u001b[0;34m.\u001b[0m\u001b[0m_function_cache\u001b[0m\u001b[0;34m.\u001b[0m\u001b[0mmissed\u001b[0m\u001b[0;34m.\u001b[0m\u001b[0madd\u001b[0m\u001b[0;34m(\u001b[0m\u001b[0mcall_context_key\u001b[0m\u001b[0;34m)\u001b[0m\u001b[0;34m\u001b[0m\u001b[0;34m\u001b[0m\u001b[0m\n\u001b[0;32m-> 3444\u001b[0;31m           \u001b[0mgraph_function\u001b[0m \u001b[0;34m=\u001b[0m \u001b[0mself\u001b[0m\u001b[0;34m.\u001b[0m\u001b[0m_create_graph_function\u001b[0m\u001b[0;34m(\u001b[0m\u001b[0margs\u001b[0m\u001b[0;34m,\u001b[0m \u001b[0mkwargs\u001b[0m\u001b[0;34m)\u001b[0m\u001b[0;34m\u001b[0m\u001b[0;34m\u001b[0m\u001b[0m\n\u001b[0m\u001b[1;32m   3445\u001b[0m           \u001b[0mself\u001b[0m\u001b[0;34m.\u001b[0m\u001b[0m_function_cache\u001b[0m\u001b[0;34m.\u001b[0m\u001b[0mprimary\u001b[0m\u001b[0;34m[\u001b[0m\u001b[0mcache_key\u001b[0m\u001b[0;34m]\u001b[0m \u001b[0;34m=\u001b[0m \u001b[0mgraph_function\u001b[0m\u001b[0;34m\u001b[0m\u001b[0;34m\u001b[0m\u001b[0m\n\u001b[1;32m   3446\u001b[0m \u001b[0;34m\u001b[0m\u001b[0m\n",
      "\u001b[0;32m~/miniconda3/envs/jaxtf_cpu_py39/lib/python3.9/site-packages/tensorflow/python/eager/function.py\u001b[0m in \u001b[0;36m_create_graph_function\u001b[0;34m(self, args, kwargs, override_flat_arg_shapes)\u001b[0m\n\u001b[1;32m   3277\u001b[0m     \u001b[0marg_names\u001b[0m \u001b[0;34m=\u001b[0m \u001b[0mbase_arg_names\u001b[0m \u001b[0;34m+\u001b[0m \u001b[0mmissing_arg_names\u001b[0m\u001b[0;34m\u001b[0m\u001b[0;34m\u001b[0m\u001b[0m\n\u001b[1;32m   3278\u001b[0m     graph_function = ConcreteFunction(\n\u001b[0;32m-> 3279\u001b[0;31m         func_graph_module.func_graph_from_py_func(\n\u001b[0m\u001b[1;32m   3280\u001b[0m             \u001b[0mself\u001b[0m\u001b[0;34m.\u001b[0m\u001b[0m_name\u001b[0m\u001b[0;34m,\u001b[0m\u001b[0;34m\u001b[0m\u001b[0;34m\u001b[0m\u001b[0m\n\u001b[1;32m   3281\u001b[0m             \u001b[0mself\u001b[0m\u001b[0;34m.\u001b[0m\u001b[0m_python_function\u001b[0m\u001b[0;34m,\u001b[0m\u001b[0;34m\u001b[0m\u001b[0;34m\u001b[0m\u001b[0m\n",
      "\u001b[0;32m~/miniconda3/envs/jaxtf_cpu_py39/lib/python3.9/site-packages/tensorflow/python/framework/func_graph.py\u001b[0m in \u001b[0;36mfunc_graph_from_py_func\u001b[0;34m(name, python_func, args, kwargs, signature, func_graph, autograph, autograph_options, add_control_dependencies, arg_names, op_return_value, collections, capture_by_value, override_flat_arg_shapes)\u001b[0m\n\u001b[1;32m    997\u001b[0m         \u001b[0m_\u001b[0m\u001b[0;34m,\u001b[0m \u001b[0moriginal_func\u001b[0m \u001b[0;34m=\u001b[0m \u001b[0mtf_decorator\u001b[0m\u001b[0;34m.\u001b[0m\u001b[0munwrap\u001b[0m\u001b[0;34m(\u001b[0m\u001b[0mpython_func\u001b[0m\u001b[0;34m)\u001b[0m\u001b[0;34m\u001b[0m\u001b[0;34m\u001b[0m\u001b[0m\n\u001b[1;32m    998\u001b[0m \u001b[0;34m\u001b[0m\u001b[0m\n\u001b[0;32m--> 999\u001b[0;31m       \u001b[0mfunc_outputs\u001b[0m \u001b[0;34m=\u001b[0m \u001b[0mpython_func\u001b[0m\u001b[0;34m(\u001b[0m\u001b[0;34m*\u001b[0m\u001b[0mfunc_args\u001b[0m\u001b[0;34m,\u001b[0m \u001b[0;34m**\u001b[0m\u001b[0mfunc_kwargs\u001b[0m\u001b[0;34m)\u001b[0m\u001b[0;34m\u001b[0m\u001b[0;34m\u001b[0m\u001b[0m\n\u001b[0m\u001b[1;32m   1000\u001b[0m \u001b[0;34m\u001b[0m\u001b[0m\n\u001b[1;32m   1001\u001b[0m       \u001b[0;31m# invariant: `func_outputs` contains only Tensors, CompositeTensors,\u001b[0m\u001b[0;34m\u001b[0m\u001b[0;34m\u001b[0m\u001b[0m\n",
      "\u001b[0;32m~/miniconda3/envs/jaxtf_cpu_py39/lib/python3.9/site-packages/tensorflow/python/eager/def_function.py\u001b[0m in \u001b[0;36mwrapped_fn\u001b[0;34m(*args, **kwds)\u001b[0m\n\u001b[1;32m    670\u001b[0m         \u001b[0;31m# the function a weak reference to itself to avoid a reference cycle.\u001b[0m\u001b[0;34m\u001b[0m\u001b[0;34m\u001b[0m\u001b[0m\n\u001b[1;32m    671\u001b[0m         \u001b[0;32mwith\u001b[0m \u001b[0mOptionalXlaContext\u001b[0m\u001b[0;34m(\u001b[0m\u001b[0mcompile_with_xla\u001b[0m\u001b[0;34m)\u001b[0m\u001b[0;34m:\u001b[0m\u001b[0;34m\u001b[0m\u001b[0;34m\u001b[0m\u001b[0m\n\u001b[0;32m--> 672\u001b[0;31m           \u001b[0mout\u001b[0m \u001b[0;34m=\u001b[0m \u001b[0mweak_wrapped_fn\u001b[0m\u001b[0;34m(\u001b[0m\u001b[0;34m)\u001b[0m\u001b[0;34m.\u001b[0m\u001b[0m__wrapped__\u001b[0m\u001b[0;34m(\u001b[0m\u001b[0;34m*\u001b[0m\u001b[0margs\u001b[0m\u001b[0;34m,\u001b[0m \u001b[0;34m**\u001b[0m\u001b[0mkwds\u001b[0m\u001b[0;34m)\u001b[0m\u001b[0;34m\u001b[0m\u001b[0;34m\u001b[0m\u001b[0m\n\u001b[0m\u001b[1;32m    673\u001b[0m         \u001b[0;32mreturn\u001b[0m \u001b[0mout\u001b[0m\u001b[0;34m\u001b[0m\u001b[0;34m\u001b[0m\u001b[0m\n\u001b[1;32m    674\u001b[0m \u001b[0;34m\u001b[0m\u001b[0m\n",
      "\u001b[0;32m~/miniconda3/envs/jaxtf_cpu_py39/lib/python3.9/site-packages/tensorflow/python/framework/func_graph.py\u001b[0m in \u001b[0;36mwrapper\u001b[0;34m(*args, **kwargs)\u001b[0m\n\u001b[1;32m    984\u001b[0m           \u001b[0;32mexcept\u001b[0m \u001b[0mException\u001b[0m \u001b[0;32mas\u001b[0m \u001b[0me\u001b[0m\u001b[0;34m:\u001b[0m  \u001b[0;31m# pylint:disable=broad-except\u001b[0m\u001b[0;34m\u001b[0m\u001b[0;34m\u001b[0m\u001b[0m\n\u001b[1;32m    985\u001b[0m             \u001b[0;32mif\u001b[0m \u001b[0mhasattr\u001b[0m\u001b[0;34m(\u001b[0m\u001b[0me\u001b[0m\u001b[0;34m,\u001b[0m \u001b[0;34m\"ag_error_metadata\"\u001b[0m\u001b[0;34m)\u001b[0m\u001b[0;34m:\u001b[0m\u001b[0;34m\u001b[0m\u001b[0;34m\u001b[0m\u001b[0m\n\u001b[0;32m--> 986\u001b[0;31m               \u001b[0;32mraise\u001b[0m \u001b[0me\u001b[0m\u001b[0;34m.\u001b[0m\u001b[0mag_error_metadata\u001b[0m\u001b[0;34m.\u001b[0m\u001b[0mto_exception\u001b[0m\u001b[0;34m(\u001b[0m\u001b[0me\u001b[0m\u001b[0;34m)\u001b[0m\u001b[0;34m\u001b[0m\u001b[0;34m\u001b[0m\u001b[0m\n\u001b[0m\u001b[1;32m    987\u001b[0m             \u001b[0;32melse\u001b[0m\u001b[0;34m:\u001b[0m\u001b[0;34m\u001b[0m\u001b[0;34m\u001b[0m\u001b[0m\n\u001b[1;32m    988\u001b[0m               \u001b[0;32mraise\u001b[0m\u001b[0;34m\u001b[0m\u001b[0;34m\u001b[0m\u001b[0m\n",
      "\u001b[0;31mValueError\u001b[0m: in user code:\n\n    /tmp/ipykernel_5565/4031792773.py:9 step  *\n        optimizer.minimize(objective_closure, gp_model.trainable_variables)\n    /home/johnsonj/miniconda3/envs/jaxtf_cpu_py39/lib/python3.9/site-packages/tensorflow/python/keras/optimizer_v2/optimizer_v2.py:528 minimize  **\n        grads_and_vars = self._compute_gradients(\n    /home/johnsonj/miniconda3/envs/jaxtf_cpu_py39/lib/python3.9/site-packages/tensorflow/python/keras/optimizer_v2/optimizer_v2.py:571 _compute_gradients\n        loss = loss()\n    /home/johnsonj/miniconda3/envs/jaxtf_cpu_py39/lib/python3.9/site-packages/tensorflow/python/eager/def_function.py:889 __call__\n        result = self._call(*args, **kwds)\n    /home/johnsonj/miniconda3/envs/jaxtf_cpu_py39/lib/python3.9/site-packages/tensorflow/python/eager/def_function.py:933 _call\n        self._initialize(args, kwds, add_initializers_to=initializers)\n    /home/johnsonj/miniconda3/envs/jaxtf_cpu_py39/lib/python3.9/site-packages/tensorflow/python/eager/def_function.py:763 _initialize\n        self._stateful_fn._get_concrete_function_internal_garbage_collected(  # pylint: disable=protected-access\n    /home/johnsonj/miniconda3/envs/jaxtf_cpu_py39/lib/python3.9/site-packages/tensorflow/python/eager/function.py:3050 _get_concrete_function_internal_garbage_collected\n        graph_function, _ = self._maybe_define_function(args, kwargs)\n    /home/johnsonj/miniconda3/envs/jaxtf_cpu_py39/lib/python3.9/site-packages/tensorflow/python/eager/function.py:3444 _maybe_define_function\n        graph_function = self._create_graph_function(args, kwargs)\n    /home/johnsonj/miniconda3/envs/jaxtf_cpu_py39/lib/python3.9/site-packages/tensorflow/python/eager/function.py:3279 _create_graph_function\n        func_graph_module.func_graph_from_py_func(\n    /home/johnsonj/miniconda3/envs/jaxtf_cpu_py39/lib/python3.9/site-packages/tensorflow/python/framework/func_graph.py:999 func_graph_from_py_func\n        func_outputs = python_func(*func_args, **func_kwargs)\n    /home/johnsonj/miniconda3/envs/jaxtf_cpu_py39/lib/python3.9/site-packages/tensorflow/python/eager/def_function.py:672 wrapped_fn\n        out = weak_wrapped_fn().__wrapped__(*args, **kwds)\n    /tmp/ipykernel_5565/4031792773.py:5 objective_closure\n        return -gp_model.elbo((xtrain,ytrain))\n    /home/johnsonj/miniconda3/envs/jaxtf_cpu_py39/lib/python3.9/site-packages/gpflux/models/deep_gp.py:202 elbo\n        _ = self.call(X, Y, training=True)\n    /home/johnsonj/miniconda3/envs/jaxtf_cpu_py39/lib/python3.9/site-packages/gpflux/models/deep_gp.py:183 call\n        f_outputs = self._evaluate_deep_gp(inputs, targets=targets, training=training)\n    /home/johnsonj/miniconda3/envs/jaxtf_cpu_py39/lib/python3.9/site-packages/gpflux/models/deep_gp.py:162 _evaluate_deep_gp\n        features = layer(features, training=training)\n    /home/johnsonj/miniconda3/envs/jaxtf_cpu_py39/lib/python3.9/site-packages/tensorflow_probability/python/layers/distribution_layer.py:230 __call__\n        distribution, _ = super(DistributionLambda, self).__call__(\n    /home/johnsonj/miniconda3/envs/jaxtf_cpu_py39/lib/python3.9/site-packages/tensorflow/python/keras/engine/base_layer.py:1030 __call__\n        outputs = call_fn(inputs, *args, **kwargs)\n    /home/johnsonj/miniconda3/envs/jaxtf_cpu_py39/lib/python3.9/site-packages/gpflux/layers/gp_layer.py:284 call  **\n        outputs = super().call(inputs, *args, **kwargs)\n    /home/johnsonj/miniconda3/envs/jaxtf_cpu_py39/lib/python3.9/site-packages/tensorflow_probability/python/layers/distribution_layer.py:236 call\n        distribution, value = super(DistributionLambda, self).call(\n    /home/johnsonj/miniconda3/envs/jaxtf_cpu_py39/lib/python3.9/site-packages/tensorflow/python/keras/layers/core.py:919 call\n        result = self.function(inputs, **kwargs)\n    /home/johnsonj/miniconda3/envs/jaxtf_cpu_py39/lib/python3.9/site-packages/tensorflow_probability/python/layers/distribution_layer.py:176 _fn\n        d = make_distribution_fn(*fargs, **fkwargs)\n    /home/johnsonj/miniconda3/envs/jaxtf_cpu_py39/lib/python3.9/site-packages/gpflux/layers/gp_layer.py:338 _make_distribution_fn\n        return tfp.distributions.MultivariateNormalDiag(loc=mean, scale_diag=tf.sqrt(cov))\n    /home/johnsonj/miniconda3/envs/jaxtf_cpu_py39/lib/python3.9/site-packages/decorator.py:232 fun\n        return caller(func, *(extras + args), **kw)\n    /home/johnsonj/miniconda3/envs/jaxtf_cpu_py39/lib/python3.9/site-packages/tensorflow_probability/python/distributions/distribution.py:346 wrapped_init\n        default_init(self_, *args, **kwargs)\n    /home/johnsonj/miniconda3/envs/jaxtf_cpu_py39/lib/python3.9/site-packages/tensorflow/python/util/deprecation.py:535 new_func\n        return func(*args, **kwargs)\n    /home/johnsonj/miniconda3/envs/jaxtf_cpu_py39/lib/python3.9/site-packages/tensorflow_probability/python/distributions/mvn_diag.py:268 __init__\n        super(MultivariateNormalDiag, self).__init__(\n    /home/johnsonj/miniconda3/envs/jaxtf_cpu_py39/lib/python3.9/site-packages/decorator.py:232 fun\n        return caller(func, *(extras + args), **kw)\n    /home/johnsonj/miniconda3/envs/jaxtf_cpu_py39/lib/python3.9/site-packages/tensorflow_probability/python/distributions/distribution.py:346 wrapped_init\n        default_init(self_, *args, **kwargs)\n    /home/johnsonj/miniconda3/envs/jaxtf_cpu_py39/lib/python3.9/site-packages/tensorflow_probability/python/distributions/mvn_linear_operator.py:199 __init__\n        batch_shape, event_shape = distribution_util.shapes_from_loc_and_scale(\n    /home/johnsonj/miniconda3/envs/jaxtf_cpu_py39/lib/python3.9/site-packages/tensorflow_probability/python/internal/distribution_util.py:134 shapes_from_loc_and_scale\n        raise ValueError(\n\n    ValueError: Event size of `scale` (1) could not be broadcast up to that of `loc` (3).\n"
     ]
    }
   ],
   "source": [
    "optimizer = tf.optimizers.Adam()\n",
    "\n",
    "@tf.function(autograph=False)\n",
    "def objective_closure():\n",
    "    return -gp_model.elbo((xtrain,ytrain))\n",
    "\n",
    "@tf.function\n",
    "def step():\n",
    "    optimizer.minimize(objective_closure, gp_model.trainable_variables)\n",
    "\n",
    "tq = tqdm.tqdm(range(args.n_epochs))\n",
    "for i in tq:\n",
    "    step()"
   ]
  },
  {
   "cell_type": "code",
   "execution_count": 54,
   "id": "3a247515-8e74-4738-b3ec-40e0e8aeb690",
   "metadata": {},
   "outputs": [
    {
     "ename": "AttributeError",
     "evalue": "'DeepGP' object has no attribute 'compile'",
     "output_type": "error",
     "traceback": [
      "\u001b[0;31m---------------------------------------------------------------------------\u001b[0m",
      "\u001b[0;31mAttributeError\u001b[0m                            Traceback (most recent call last)",
      "\u001b[0;32m/tmp/ipykernel_5565/639626826.py\u001b[0m in \u001b[0;36m<module>\u001b[0;34m\u001b[0m\n\u001b[0;32m----> 1\u001b[0;31m \u001b[0mgp_model\u001b[0m\u001b[0;34m.\u001b[0m\u001b[0mcompile\u001b[0m\u001b[0;34m(\u001b[0m\u001b[0mtf\u001b[0m\u001b[0;34m.\u001b[0m\u001b[0moptimizers\u001b[0m\u001b[0;34m.\u001b[0m\u001b[0mAdam\u001b[0m\u001b[0;34m(\u001b[0m\u001b[0;36m0.01\u001b[0m\u001b[0;34m)\u001b[0m\u001b[0;34m)\u001b[0m\u001b[0;34m\u001b[0m\u001b[0;34m\u001b[0m\u001b[0m\n\u001b[0m",
      "\u001b[0;31mAttributeError\u001b[0m: 'DeepGP' object has no attribute 'compile'"
     ]
    }
   ],
   "source": [
    "gp_model.compile(tf.optimizers.Adam(0.01))"
   ]
  },
  {
   "cell_type": "code",
   "execution_count": null,
   "id": "ba443733-48f8-400d-aee6-05489941f0ad",
   "metadata": {},
   "outputs": [],
   "source": [
    "history = gp_model.fit({\"inputs\": xtrain, \"targets\": ytrain}, epochs=int(10), verbose=1)"
   ]
  },
  {
   "cell_type": "code",
   "execution_count": 55,
   "id": "59496bc0-f85b-4b78-b5e7-a9805c120e4f",
   "metadata": {},
   "outputs": [
    {
     "ename": "NameError",
     "evalue": "name 'single_layer_dgp' is not defined",
     "output_type": "error",
     "traceback": [
      "\u001b[0;31m---------------------------------------------------------------------------\u001b[0m",
      "\u001b[0;31mNameError\u001b[0m                                 Traceback (most recent call last)",
      "\u001b[0;32m/tmp/ipykernel_5565/1777506610.py\u001b[0m in \u001b[0;36m<module>\u001b[0;34m\u001b[0m\n\u001b[0;32m----> 1\u001b[0;31m \u001b[0mmodel\u001b[0m \u001b[0;34m=\u001b[0m \u001b[0msingle_layer_dgp\u001b[0m\u001b[0;34m.\u001b[0m\u001b[0mas_training_model\u001b[0m\u001b[0;34m(\u001b[0m\u001b[0;34m)\u001b[0m\u001b[0;34m\u001b[0m\u001b[0;34m\u001b[0m\u001b[0m\n\u001b[0m\u001b[1;32m      2\u001b[0m \u001b[0mmodel\u001b[0m\u001b[0;34m.\u001b[0m\u001b[0mcompile\u001b[0m\u001b[0;34m(\u001b[0m\u001b[0mtf\u001b[0m\u001b[0;34m.\u001b[0m\u001b[0moptimizers\u001b[0m\u001b[0;34m.\u001b[0m\u001b[0mAdam\u001b[0m\u001b[0;34m(\u001b[0m\u001b[0;36m0.01\u001b[0m\u001b[0;34m)\u001b[0m\u001b[0;34m)\u001b[0m\u001b[0;34m\u001b[0m\u001b[0;34m\u001b[0m\u001b[0m\n",
      "\u001b[0;31mNameError\u001b[0m: name 'single_layer_dgp' is not defined"
     ]
    }
   ],
   "source": [
    "model = single_layer_dgp.as_training_model()\n",
    "model.compile(tf.optimizers.Adam(0.01))"
   ]
  },
  {
   "cell_type": "code",
   "execution_count": 56,
   "id": "a246b237-be8b-48a3-95ad-04aa31a90116",
   "metadata": {},
   "outputs": [
    {
     "name": "stderr",
     "output_type": "stream",
     "text": [
      "/home/johnsonj/miniconda3/envs/jaxtf_cpu_py39/lib/python3.9/site-packages/gpflux/layers/gp_layer.py:198: UserWarning: Could not verify the compatibility of the `kernel`, `inducing_variable` and `mean_function`. We advise using `gpflux.helpers.construct_*` to create compatible kernels and inducing variables. As `num_latent_gps=1` has been specified explicitly, this will be used to create the `q_mu` and `q_sqrt` parameters.\n",
      "  warnings.warn(\n",
      "/tmp/ipykernel_5565/1564550960.py:15: DeprecationWarning: Call to deprecated class TrackableLayer. (GPflux's `TrackableLayer` was prior to TF2.5 used to collect GPflow variables in subclassed layers. As of TF 2.5, `tf.Module` supports this natively and there is no need for `TrackableLayer` anymore. It will be removed in GPflux version `1.0.0`.)\n",
      "  likelihood_layer = gpflux.layers.LikelihoodLayer(gpflow.likelihoods.Gaussian(0.1))\n"
     ]
    }
   ],
   "source": [
    "num_data = xtrain.shape[0]\n",
    "num_inducing = 100\n",
    "output_dim = ytrain.shape[1]\n",
    "\n",
    "kernel = gpflow.kernels.SquaredExponential()\n",
    "z = np.linspace(xtrain.min(), xtrain.max(), num_inducing).reshape(-1, 1)\n",
    "inducing_variable = gpflow.inducing_variables.InducingPoints(z)\n",
    "\n",
    "# init gp layer\n",
    "gp_layer = gpflux.layers.GPLayer(\n",
    "    kernel, inducing_variable, num_data=num_data, num_latent_gps=output_dim\n",
    ")\n",
    "\n",
    "# likelihood layer\n",
    "likelihood_layer = gpflux.layers.LikelihoodLayer(gpflow.likelihoods.Gaussian(0.1))\n",
    "\n",
    "\n",
    "# create dgp\n",
    "single_layer_dgp = gpflux.models.DeepGP([gp_layer], likelihood_layer)\n"
   ]
  },
  {
   "cell_type": "code",
   "execution_count": 57,
   "id": "16299a08-7d96-424d-bc03-14dd44422eba",
   "metadata": {},
   "outputs": [
    {
     "ename": "AttributeError",
     "evalue": "'SVGP' object has no attribute 'fit'",
     "output_type": "error",
     "traceback": [
      "\u001b[0;31m---------------------------------------------------------------------------\u001b[0m",
      "\u001b[0;31mAttributeError\u001b[0m                            Traceback (most recent call last)",
      "\u001b[0;32m/tmp/ipykernel_5565/1537570816.py\u001b[0m in \u001b[0;36m<module>\u001b[0;34m\u001b[0m\n\u001b[0;32m----> 1\u001b[0;31m \u001b[0mhistory\u001b[0m \u001b[0;34m=\u001b[0m \u001b[0mmodel\u001b[0m\u001b[0;34m.\u001b[0m\u001b[0mfit\u001b[0m\u001b[0;34m(\u001b[0m\u001b[0;34m{\u001b[0m\u001b[0;34m\"inputs\"\u001b[0m\u001b[0;34m:\u001b[0m \u001b[0mxtrain\u001b[0m\u001b[0;34m,\u001b[0m \u001b[0;34m\"targets\"\u001b[0m\u001b[0;34m:\u001b[0m \u001b[0mytrain\u001b[0m\u001b[0;34m}\u001b[0m\u001b[0;34m,\u001b[0m \u001b[0mepochs\u001b[0m\u001b[0;34m=\u001b[0m\u001b[0mint\u001b[0m\u001b[0;34m(\u001b[0m\u001b[0;36m10\u001b[0m\u001b[0;34m)\u001b[0m\u001b[0;34m,\u001b[0m \u001b[0mverbose\u001b[0m\u001b[0;34m=\u001b[0m\u001b[0;36m1\u001b[0m\u001b[0;34m)\u001b[0m\u001b[0;34m\u001b[0m\u001b[0;34m\u001b[0m\u001b[0m\n\u001b[0m",
      "\u001b[0;31mAttributeError\u001b[0m: 'SVGP' object has no attribute 'fit'"
     ]
    }
   ],
   "source": [
    "history = model.fit({\"inputs\": xtrain, \"targets\": ytrain}, epochs=int(10), verbose=1)\n"
   ]
  },
  {
   "cell_type": "code",
   "execution_count": 58,
   "id": "e0601358-fdee-4ce6-82a8-7297c05c38f4",
   "metadata": {},
   "outputs": [
    {
     "ename": "NameError",
     "evalue": "name 'history' is not defined",
     "output_type": "error",
     "traceback": [
      "\u001b[0;31m---------------------------------------------------------------------------\u001b[0m",
      "\u001b[0;31mNameError\u001b[0m                                 Traceback (most recent call last)",
      "\u001b[0;32m/tmp/ipykernel_5565/1377252534.py\u001b[0m in \u001b[0;36m<module>\u001b[0;34m\u001b[0m\n\u001b[0;32m----> 1\u001b[0;31m \u001b[0mplt\u001b[0m\u001b[0;34m.\u001b[0m\u001b[0mplot\u001b[0m\u001b[0;34m(\u001b[0m\u001b[0mhistory\u001b[0m\u001b[0;34m.\u001b[0m\u001b[0mhistory\u001b[0m\u001b[0;34m[\u001b[0m\u001b[0;34m\"loss\"\u001b[0m\u001b[0;34m]\u001b[0m\u001b[0;34m)\u001b[0m\u001b[0;34m\u001b[0m\u001b[0;34m\u001b[0m\u001b[0m\n\u001b[0m",
      "\u001b[0;31mNameError\u001b[0m: name 'history' is not defined"
     ]
    }
   ],
   "source": [
    "plt.plot(history.history[\"loss\"])"
   ]
  },
  {
   "cell_type": "code",
   "execution_count": 59,
   "id": "575288f1-04f7-4bd0-bc3f-cf11615ce605",
   "metadata": {},
   "outputs": [
    {
     "name": "stderr",
     "output_type": "stream",
     "text": [
      "WARNING:absl:No GPU/TPU found, falling back to CPU. (Set TF_CPP_MIN_LOG_LEVEL=0 and rerun for more info.)\n"
     ]
    },
    {
     "ename": "ValueError",
     "evalue": "Unrecognized model: svgp",
     "output_type": "error",
     "traceback": [
      "\u001b[0;31m---------------------------------------------------------------------------\u001b[0m",
      "\u001b[0;31mValueError\u001b[0m                                Traceback (most recent call last)",
      "\u001b[0;32m<timed exec>\u001b[0m in \u001b[0;36m<module>\u001b[0;34m\u001b[0m\n",
      "\u001b[0;32m/mnt/meom/workdir/johnsonj/projects/ml4ssh/experiments/dc_2021b/model.py\u001b[0m in \u001b[0;36mget_model\u001b[0;34m(config)\u001b[0m\n\u001b[1;32m     63\u001b[0m \u001b[0;34m\u001b[0m\u001b[0m\n\u001b[1;32m     64\u001b[0m     \u001b[0;32melse\u001b[0m\u001b[0;34m:\u001b[0m\u001b[0;34m\u001b[0m\u001b[0;34m\u001b[0m\u001b[0m\n\u001b[0;32m---> 65\u001b[0;31m         \u001b[0;32mraise\u001b[0m \u001b[0mValueError\u001b[0m\u001b[0;34m(\u001b[0m\u001b[0;34mf\"Unrecognized model: {config.model}\"\u001b[0m\u001b[0;34m)\u001b[0m\u001b[0;34m\u001b[0m\u001b[0;34m\u001b[0m\u001b[0m\n\u001b[0m\u001b[1;32m     66\u001b[0m \u001b[0;34m\u001b[0m\u001b[0m\n\u001b[1;32m     67\u001b[0m     \u001b[0;32mreturn\u001b[0m \u001b[0mmodel\u001b[0m\u001b[0;34m\u001b[0m\u001b[0;34m\u001b[0m\u001b[0m\n",
      "\u001b[0;31mValueError\u001b[0m: Unrecognized model: svgp"
     ]
    }
   ],
   "source": [
    "%%time\n",
    "\n",
    "\n",
    "# model\n",
    "model = get_model(args)\n",
    "\n",
    "# optimizer\n",
    "optimizer = get_optimizer(args)\n",
    "\n",
    "# loss\n",
    "make_step, val_step = get_loss_fn(args)\n",
    "\n",
    "# init model\n",
    "opt_state = optimizer.init(model)"
   ]
  },
  {
   "cell_type": "code",
   "execution_count": 12,
   "id": "1208851b-909f-4489-be12-b1818c00f2cf",
   "metadata": {},
   "outputs": [],
   "source": [
    "n_steps_per_epoch = args.n_train / args.batch_size\n",
    "steps = int(n_steps_per_epoch * args.n_epochs) if not args.smoke_test else 500\n",
    "\n",
    "\n",
    "wandb.config.update(\n",
    "    {\n",
    "        \"steps\": steps,\n",
    "        \"n_steps_per_epoch\": n_steps_per_epoch,\n",
    "    }\n",
    ")"
   ]
  },
  {
   "cell_type": "markdown",
   "id": "c2a1d68f-2cc9-4246-8bd8-a83b234dd49f",
   "metadata": {},
   "source": [
    "### Training"
   ]
  },
  {
   "cell_type": "code",
   "execution_count": 13,
   "id": "5b5c443d-31a6-4336-9c27-2d5890e56335",
   "metadata": {},
   "outputs": [
    {
     "name": "stderr",
     "output_type": "stream",
     "text": [
      "2022-05-31 10:21:56.474378: I tensorflow/core/platform/cpu_feature_guard.cc:193] This TensorFlow binary is optimized with oneAPI Deep Neural Network Library (oneDNN) to use the following CPU instructions in performance-critical operations:  AVX2 AVX512F AVX512_VNNI FMA\n",
      "To enable them in other operations, rebuild TensorFlow with the appropriate compiler flags.\n",
      "Step: 7_860 | Train Loss: 1.422e-02 | Valid Loss: 3.308e-02: 100%|██████████| 7866/7866 [16:35<00:00,  7.90it/s]\n"
     ]
    }
   ],
   "source": [
    "train_ds = make_mini_batcher(xtrain, ytrain, args.batch_size, 5, shuffle=True)\n",
    "valid_ds = make_mini_batcher(xvalid, yvalid, args.batch_size, 5, shuffle=False)\n",
    "\n",
    "\n",
    "losses = {} \n",
    "losses[\"train\"] = []\n",
    "losses[\"valid\"] = []\n",
    "\n",
    "\n",
    "with tqdm.trange(steps) as pbar:\n",
    "    for step in pbar:\n",
    "        \n",
    "        ix, iy = next(train_ds)\n",
    "        loss, grads = make_step(model, jnp.asarray(ix), jnp.asarray(iy))\n",
    "        \n",
    "        updates, opt_state = optimizer.update(grads, opt_state)\n",
    "        model = eqx.apply_updates(model, updates)\n",
    "        \n",
    "        losses[\"train\"].append(loss)\n",
    "        wandb.log({\"train_loss\": loss}, step=step)\n",
    "        ix, iy = next(valid_ds)\n",
    "        # validation step\n",
    "        vloss = val_step(model, jnp.asarray(ix), jnp.asarray(iy))\n",
    "        losses[\"valid\"].append(vloss)\n",
    "        \n",
    "        \n",
    "        wandb.log({\"val_loss\": vloss}, step=step)\n",
    "        \n",
    "        if step % 10 == 0:\n",
    "            pbar.set_description(f\"Step: {step:_} | Train Loss: {loss:.3e} | Valid Loss: {vloss:.3e}\")\n",
    "            \n"
   ]
  },
  {
   "cell_type": "markdown",
   "id": "62ed2cdc-b549-4969-8d98-204f9728bee3",
   "metadata": {},
   "source": [
    "### Save models"
   ]
  },
  {
   "cell_type": "code",
   "execution_count": null,
   "id": "3b341ba6-3961-4eca-bb9e-8edd2d72ef6a",
   "metadata": {},
   "outputs": [],
   "source": []
  },
  {
   "cell_type": "code",
   "execution_count": 23,
   "id": "ed63a01f-45a1-4c00-bc03-2cfcb9910978",
   "metadata": {},
   "outputs": [
    {
     "data": {
      "text/plain": []
     },
     "execution_count": 23,
     "metadata": {},
     "output_type": "execute_result"
    }
   ],
   "source": [
    "# objects\n",
    "path_model = Path(wandb.run.dir).joinpath(\"model.pickle\")\n",
    "path_scaler = Path(wandb.run.dir).joinpath(\"scaler.pickle\")\n",
    "\n",
    "# models to save\n",
    "save_object(model, path_model)\n",
    "save_object(scaler, path_scaler)\n",
    "\n",
    "# save with wandb\n",
    "wandb.save(str(path_model), policy=\"now\")\n",
    "wandb.save(str(path_scaler), policy=\"now\")"
   ]
  },
  {
   "cell_type": "markdown",
   "id": "3952eecb-b099-4422-8c91-52285bb01c6e",
   "metadata": {},
   "source": [
    "### Load Models (Optional)"
   ]
  },
  {
   "cell_type": "code",
   "execution_count": 60,
   "id": "50cccbdb-ac0a-49e0-84e9-e14067312257",
   "metadata": {},
   "outputs": [],
   "source": [
    "# # if args.server == \"jz\":\n",
    "# # get id (from this run or a run you can set)\n",
    "# run_id = wandb.run.id\n",
    "\n",
    "# # initialize api\n",
    "# api = wandb.Api()\n",
    "\n",
    "# # get run\n",
    "# run = api.run(f\"{args.entity}/{args.project}/{run_id}\")\n",
    "\n",
    "# # download the files\n",
    "# files = [\"scaler.pickle\", \"model.pickle\"]\n",
    "\n",
    "# for ifile in files:\n",
    "    \n",
    "#     run.file(ifile).download(replace=True)"
   ]
  },
  {
   "cell_type": "code",
   "execution_count": 61,
   "id": "cef597ca-bc1f-4996-b51a-f5deed6c5491",
   "metadata": {},
   "outputs": [],
   "source": [
    "# model = load_object(\"./model.pickle\")\n",
    "# scaler = load_object(\"./scaler.pickle\")"
   ]
  },
  {
   "cell_type": "markdown",
   "id": "450003ae-4943-4704-b6f4-5b7eab4f21ba",
   "metadata": {},
   "source": [
    "### PostProcessing"
   ]
  },
  {
   "cell_type": "code",
   "execution_count": 62,
   "id": "316e79d9-efc8-4707-9c67-e9781e110004",
   "metadata": {},
   "outputs": [
    {
     "ename": "NameError",
     "evalue": "name 'scaler' is not defined",
     "output_type": "error",
     "traceback": [
      "\u001b[0;31m---------------------------------------------------------------------------\u001b[0m",
      "\u001b[0;31mNameError\u001b[0m                                 Traceback (most recent call last)",
      "\u001b[0;32m/tmp/ipykernel_5565/3842368026.py\u001b[0m in \u001b[0;36m<module>\u001b[0;34m\u001b[0m\n\u001b[1;32m      1\u001b[0m \u001b[0mdf_grid\u001b[0m \u001b[0;34m=\u001b[0m \u001b[0mgenerate_eval_data\u001b[0m\u001b[0;34m(\u001b[0m\u001b[0margs\u001b[0m\u001b[0;34m)\u001b[0m\u001b[0;34m\u001b[0m\u001b[0;34m\u001b[0m\u001b[0m\n\u001b[0;32m----> 2\u001b[0;31m \u001b[0mdf_pred\u001b[0m \u001b[0;34m=\u001b[0m \u001b[0mfeature_transform\u001b[0m\u001b[0;34m(\u001b[0m\u001b[0mdf_grid\u001b[0m\u001b[0;34m.\u001b[0m\u001b[0mcopy\u001b[0m\u001b[0;34m(\u001b[0m\u001b[0;34m)\u001b[0m\u001b[0;34m,\u001b[0m \u001b[0margs\u001b[0m\u001b[0;34m,\u001b[0m \u001b[0mscaler\u001b[0m\u001b[0;34m=\u001b[0m\u001b[0mscaler\u001b[0m\u001b[0;34m)\u001b[0m\u001b[0;34m\u001b[0m\u001b[0;34m\u001b[0m\u001b[0m\n\u001b[0m\u001b[1;32m      3\u001b[0m \u001b[0;34m\u001b[0m\u001b[0m\n\u001b[1;32m      4\u001b[0m \u001b[0mdf_grid\u001b[0m\u001b[0;34m.\u001b[0m\u001b[0mdescribe\u001b[0m\u001b[0;34m(\u001b[0m\u001b[0;34m)\u001b[0m\u001b[0;34m\u001b[0m\u001b[0;34m\u001b[0m\u001b[0m\n",
      "\u001b[0;31mNameError\u001b[0m: name 'scaler' is not defined"
     ]
    }
   ],
   "source": [
    "df_grid = generate_eval_data(args)\n",
    "df_pred = feature_transform(df_grid.copy(), args, scaler=scaler)\n",
    "\n",
    "df_grid.describe()"
   ]
  },
  {
   "cell_type": "code",
   "execution_count": 63,
   "id": "d4d296bb-b91d-4993-b0ee-bff91208b6e9",
   "metadata": {},
   "outputs": [
    {
     "ename": "NameError",
     "evalue": "name 'scaler' is not defined",
     "output_type": "error",
     "traceback": [
      "\u001b[0;31m---------------------------------------------------------------------------\u001b[0m",
      "\u001b[0;31mNameError\u001b[0m                                 Traceback (most recent call last)",
      "\u001b[0;32m/tmp/ipykernel_5565/1491986625.py\u001b[0m in \u001b[0;36m<module>\u001b[0;34m\u001b[0m\n\u001b[0;32m----> 1\u001b[0;31m \u001b[0mdf_pred\u001b[0m \u001b[0;34m=\u001b[0m \u001b[0mfeature_transform\u001b[0m\u001b[0;34m(\u001b[0m\u001b[0mdf_grid\u001b[0m\u001b[0;34m.\u001b[0m\u001b[0mcopy\u001b[0m\u001b[0;34m(\u001b[0m\u001b[0;34m)\u001b[0m\u001b[0;34m,\u001b[0m \u001b[0margs\u001b[0m\u001b[0;34m,\u001b[0m \u001b[0mscaler\u001b[0m\u001b[0;34m=\u001b[0m\u001b[0mscaler\u001b[0m\u001b[0;34m)\u001b[0m\u001b[0;34m\u001b[0m\u001b[0;34m\u001b[0m\u001b[0m\n\u001b[0m\u001b[1;32m      2\u001b[0m \u001b[0mdf_pred\u001b[0m\u001b[0;34m.\u001b[0m\u001b[0mdescribe\u001b[0m\u001b[0;34m(\u001b[0m\u001b[0;34m)\u001b[0m\u001b[0;34m,\u001b[0m \u001b[0mdf_grid\u001b[0m\u001b[0;34m.\u001b[0m\u001b[0mdescribe\u001b[0m\u001b[0;34m(\u001b[0m\u001b[0;34m)\u001b[0m\u001b[0;34m\u001b[0m\u001b[0;34m\u001b[0m\u001b[0m\n",
      "\u001b[0;31mNameError\u001b[0m: name 'scaler' is not defined"
     ]
    }
   ],
   "source": [
    "df_pred = feature_transform(df_grid.copy(), args, scaler=scaler)\n",
    "df_pred.describe(), df_grid.describe()"
   ]
  },
  {
   "cell_type": "code",
   "execution_count": 64,
   "id": "665740c1-03cb-49ea-8ce1-22db16a85b84",
   "metadata": {},
   "outputs": [
    {
     "ename": "NameError",
     "evalue": "name 'df_pred' is not defined",
     "output_type": "error",
     "traceback": [
      "\u001b[0;31m---------------------------------------------------------------------------\u001b[0m",
      "\u001b[0;31mNameError\u001b[0m                                 Traceback (most recent call last)",
      "\u001b[0;32m/tmp/ipykernel_5565/3321382369.py\u001b[0m in \u001b[0;36m<module>\u001b[0;34m\u001b[0m\n\u001b[1;32m      1\u001b[0m wandb.config.update(\n\u001b[1;32m      2\u001b[0m     {\n\u001b[0;32m----> 3\u001b[0;31m         \u001b[0;34m\"n_test\"\u001b[0m\u001b[0;34m:\u001b[0m \u001b[0mdf_pred\u001b[0m\u001b[0;34m.\u001b[0m\u001b[0mshape\u001b[0m\u001b[0;34m[\u001b[0m\u001b[0;36m0\u001b[0m\u001b[0;34m]\u001b[0m\u001b[0;34m,\u001b[0m\u001b[0;34m\u001b[0m\u001b[0;34m\u001b[0m\u001b[0m\n\u001b[0m\u001b[1;32m      4\u001b[0m     }\n\u001b[1;32m      5\u001b[0m )\n",
      "\u001b[0;31mNameError\u001b[0m: name 'df_pred' is not defined"
     ]
    }
   ],
   "source": [
    "wandb.config.update(\n",
    "    {\n",
    "        \"n_test\": df_pred.shape[0],\n",
    "    }\n",
    ")"
   ]
  },
  {
   "cell_type": "markdown",
   "id": "b1224ed1-2071-47a2-abe6-df2767580fc4",
   "metadata": {},
   "source": [
    "### Predictions\n"
   ]
  },
  {
   "cell_type": "code",
   "execution_count": 65,
   "id": "2abeed1c-76f0-4f4f-a54a-fecef4cf0981",
   "metadata": {},
   "outputs": [],
   "source": [
    "@jax.jit\n",
    "def pred_step(model, data):\n",
    "    return jax.vmap(model)(data)"
   ]
  },
  {
   "cell_type": "code",
   "execution_count": 66,
   "id": "54c2ef06-b427-448f-87b7-28d8f33cd6bc",
   "metadata": {},
   "outputs": [],
   "source": [
    "from ml4ssh._src.model_utils import batch_predict\n",
    "from functools import partial\n",
    "import time"
   ]
  },
  {
   "cell_type": "code",
   "execution_count": 67,
   "id": "02fd8a42-3bc2-4d1f-bc00-19801a1b92e7",
   "metadata": {},
   "outputs": [
    {
     "ename": "NameError",
     "evalue": "name 'df_pred' is not defined",
     "output_type": "error",
     "traceback": [
      "\u001b[0;31m---------------------------------------------------------------------------\u001b[0m",
      "\u001b[0;31mNameError\u001b[0m                                 Traceback (most recent call last)",
      "\u001b[0;32m/tmp/ipykernel_5565/4115343966.py\u001b[0m in \u001b[0;36m<module>\u001b[0;34m\u001b[0m\n\u001b[0;32m----> 1\u001b[0;31m \u001b[0mdf_pred\u001b[0m \u001b[0;34m=\u001b[0m \u001b[0mjnp\u001b[0m\u001b[0;34m.\u001b[0m\u001b[0masarray\u001b[0m\u001b[0;34m(\u001b[0m\u001b[0mdf_pred\u001b[0m\u001b[0;34m[\u001b[0m\u001b[0mdf_pred\u001b[0m\u001b[0;34m.\u001b[0m\u001b[0mcolumns\u001b[0m\u001b[0;34m.\u001b[0m\u001b[0mdifference\u001b[0m\u001b[0;34m(\u001b[0m\u001b[0;34m[\u001b[0m\u001b[0;34m\"time\"\u001b[0m\u001b[0;34m]\u001b[0m\u001b[0;34m)\u001b[0m\u001b[0;34m]\u001b[0m\u001b[0;34m.\u001b[0m\u001b[0mvalues\u001b[0m\u001b[0;34m)\u001b[0m\u001b[0;34m\u001b[0m\u001b[0;34m\u001b[0m\u001b[0m\n\u001b[0m\u001b[1;32m      2\u001b[0m \u001b[0;34m\u001b[0m\u001b[0m\n\u001b[1;32m      3\u001b[0m \u001b[0mfn\u001b[0m \u001b[0;34m=\u001b[0m \u001b[0mpartial\u001b[0m\u001b[0;34m(\u001b[0m\u001b[0mpred_step\u001b[0m\u001b[0;34m,\u001b[0m \u001b[0mmodel\u001b[0m\u001b[0;34m)\u001b[0m\u001b[0;34m\u001b[0m\u001b[0;34m\u001b[0m\u001b[0m\n\u001b[1;32m      4\u001b[0m \u001b[0;34m\u001b[0m\u001b[0m\n\u001b[1;32m      5\u001b[0m \u001b[0mt0\u001b[0m \u001b[0;34m=\u001b[0m \u001b[0mtime\u001b[0m\u001b[0;34m.\u001b[0m\u001b[0mtime\u001b[0m\u001b[0;34m(\u001b[0m\u001b[0;34m)\u001b[0m\u001b[0;34m\u001b[0m\u001b[0;34m\u001b[0m\u001b[0m\n",
      "\u001b[0;31mNameError\u001b[0m: name 'df_pred' is not defined"
     ]
    }
   ],
   "source": [
    "df_pred = jnp.asarray(df_pred[df_pred.columns.difference([\"time\"])].values)\n",
    "\n",
    "fn = partial(pred_step, model)\n",
    "\n",
    "t0 = time.time()\n",
    "df_grid[\"pred\"] = batch_predict(df_pred, fn, args.eval_batch_size)\n",
    "t1 = time.time() - t0"
   ]
  },
  {
   "cell_type": "code",
   "execution_count": 68,
   "id": "3888b407-18b4-4827-99ee-bed6ff447912",
   "metadata": {},
   "outputs": [
    {
     "ename": "NameError",
     "evalue": "name 't1' is not defined",
     "output_type": "error",
     "traceback": [
      "\u001b[0;31m---------------------------------------------------------------------------\u001b[0m",
      "\u001b[0;31mNameError\u001b[0m                                 Traceback (most recent call last)",
      "\u001b[0;32m/tmp/ipykernel_5565/1177532111.py\u001b[0m in \u001b[0;36m<module>\u001b[0;34m\u001b[0m\n\u001b[1;32m      1\u001b[0m wandb.config.update(\n\u001b[1;32m      2\u001b[0m     {\n\u001b[0;32m----> 3\u001b[0;31m         \u001b[0;34m\"time_predict_batches\"\u001b[0m\u001b[0;34m:\u001b[0m \u001b[0mt1\u001b[0m\u001b[0;34m,\u001b[0m\u001b[0;34m\u001b[0m\u001b[0;34m\u001b[0m\u001b[0m\n\u001b[0m\u001b[1;32m      4\u001b[0m     }\n\u001b[1;32m      5\u001b[0m )\n",
      "\u001b[0;31mNameError\u001b[0m: name 't1' is not defined"
     ]
    }
   ],
   "source": [
    "wandb.config.update(\n",
    "    {\n",
    "        \"time_predict_batches\": t1,\n",
    "    }\n",
    ")"
   ]
  },
  {
   "cell_type": "code",
   "execution_count": null,
   "id": "ecbf45c8-782b-4267-9b6c-207ce2af0d4d",
   "metadata": {},
   "outputs": [],
   "source": []
  },
  {
   "cell_type": "code",
   "execution_count": 69,
   "id": "11412828-7bd7-4c9c-aaf9-3b638d638313",
   "metadata": {},
   "outputs": [
    {
     "name": "stderr",
     "output_type": "stream",
     "text": [
      "/home/johnsonj/miniconda3/envs/jaxtf_cpu_py39/lib/python3.9/site-packages/xarray/core/missing.py:562: FutureWarning: Passing method to Float64Index.get_loc is deprecated and will raise in a future version. Use index.get_indexer([item], method=...) instead.\n",
      "  imin = index.get_loc(minval, method=\"nearest\")\n",
      "/home/johnsonj/miniconda3/envs/jaxtf_cpu_py39/lib/python3.9/site-packages/xarray/core/missing.py:563: FutureWarning: Passing method to Float64Index.get_loc is deprecated and will raise in a future version. Use index.get_indexer([item], method=...) instead.\n",
      "  imax = index.get_loc(maxval, method=\"nearest\")\n",
      "/home/johnsonj/miniconda3/envs/jaxtf_cpu_py39/lib/python3.9/site-packages/xarray/core/missing.py:562: FutureWarning: Passing method to Float64Index.get_loc is deprecated and will raise in a future version. Use index.get_indexer([item], method=...) instead.\n",
      "  imin = index.get_loc(minval, method=\"nearest\")\n",
      "/home/johnsonj/miniconda3/envs/jaxtf_cpu_py39/lib/python3.9/site-packages/xarray/core/missing.py:563: FutureWarning: Passing method to Float64Index.get_loc is deprecated and will raise in a future version. Use index.get_indexer([item], method=...) instead.\n",
      "  imax = index.get_loc(maxval, method=\"nearest\")\n"
     ]
    },
    {
     "ename": "KeyError",
     "evalue": "'pred'",
     "output_type": "error",
     "traceback": [
      "\u001b[0;31m---------------------------------------------------------------------------\u001b[0m",
      "\u001b[0;31mKeyError\u001b[0m                                  Traceback (most recent call last)",
      "\u001b[0;32m~/miniconda3/envs/jaxtf_cpu_py39/lib/python3.9/site-packages/xarray/core/dataset.py\u001b[0m in \u001b[0;36m_construct_dataarray\u001b[0;34m(self, name)\u001b[0m\n\u001b[1;32m   1394\u001b[0m         \u001b[0;32mtry\u001b[0m\u001b[0;34m:\u001b[0m\u001b[0;34m\u001b[0m\u001b[0;34m\u001b[0m\u001b[0m\n\u001b[0;32m-> 1395\u001b[0;31m             \u001b[0mvariable\u001b[0m \u001b[0;34m=\u001b[0m \u001b[0mself\u001b[0m\u001b[0;34m.\u001b[0m\u001b[0m_variables\u001b[0m\u001b[0;34m[\u001b[0m\u001b[0mname\u001b[0m\u001b[0;34m]\u001b[0m\u001b[0;34m\u001b[0m\u001b[0;34m\u001b[0m\u001b[0m\n\u001b[0m\u001b[1;32m   1396\u001b[0m         \u001b[0;32mexcept\u001b[0m \u001b[0mKeyError\u001b[0m\u001b[0;34m:\u001b[0m\u001b[0;34m\u001b[0m\u001b[0;34m\u001b[0m\u001b[0m\n",
      "\u001b[0;31mKeyError\u001b[0m: 'pred'",
      "\nDuring handling of the above exception, another exception occurred:\n",
      "\u001b[0;31mKeyError\u001b[0m                                  Traceback (most recent call last)",
      "\u001b[0;32m/tmp/ipykernel_5565/3728844763.py\u001b[0m in \u001b[0;36m<module>\u001b[0;34m\u001b[0m\n\u001b[0;32m----> 1\u001b[0;31m \u001b[0mds_oi\u001b[0m \u001b[0;34m=\u001b[0m \u001b[0mpostprocess_data\u001b[0m\u001b[0;34m(\u001b[0m\u001b[0mdf_grid\u001b[0m\u001b[0;34m,\u001b[0m \u001b[0margs\u001b[0m\u001b[0;34m)\u001b[0m\u001b[0;34m\u001b[0m\u001b[0;34m\u001b[0m\u001b[0m\n\u001b[0m",
      "\u001b[0;32m/mnt/meom/workdir/johnsonj/projects/ml4ssh/experiments/dc_2021b/postprocess.py\u001b[0m in \u001b[0;36mpostprocess_data\u001b[0;34m(df, args)\u001b[0m\n\u001b[1;32m     52\u001b[0m \u001b[0;34m\u001b[0m\u001b[0m\n\u001b[1;32m     53\u001b[0m     \u001b[0;31m# add correction\u001b[0m\u001b[0;34m\u001b[0m\u001b[0;34m\u001b[0m\u001b[0m\n\u001b[0;32m---> 54\u001b[0;31m     \u001b[0mds_oi\u001b[0m\u001b[0;34m[\u001b[0m\u001b[0;34m\"ssh\"\u001b[0m\u001b[0;34m]\u001b[0m \u001b[0;34m=\u001b[0m \u001b[0mds_oi\u001b[0m\u001b[0;34m[\u001b[0m\u001b[0;34m\"pred\"\u001b[0m\u001b[0;34m]\u001b[0m \u001b[0;34m+\u001b[0m \u001b[0mds_correct\u001b[0m\u001b[0;34m[\u001b[0m\u001b[0;34m\"mdt\"\u001b[0m\u001b[0;34m]\u001b[0m\u001b[0;34m\u001b[0m\u001b[0;34m\u001b[0m\u001b[0m\n\u001b[0m\u001b[1;32m     55\u001b[0m \u001b[0;34m\u001b[0m\u001b[0m\n\u001b[1;32m     56\u001b[0m     \u001b[0;32mreturn\u001b[0m \u001b[0mds_oi\u001b[0m\u001b[0;34m\u001b[0m\u001b[0;34m\u001b[0m\u001b[0m\n",
      "\u001b[0;32m~/miniconda3/envs/jaxtf_cpu_py39/lib/python3.9/site-packages/xarray/core/dataset.py\u001b[0m in \u001b[0;36m__getitem__\u001b[0;34m(self, key)\u001b[0m\n\u001b[1;32m   1497\u001b[0m \u001b[0;34m\u001b[0m\u001b[0m\n\u001b[1;32m   1498\u001b[0m         \u001b[0;32mif\u001b[0m \u001b[0mhashable\u001b[0m\u001b[0;34m(\u001b[0m\u001b[0mkey\u001b[0m\u001b[0;34m)\u001b[0m\u001b[0;34m:\u001b[0m\u001b[0;34m\u001b[0m\u001b[0;34m\u001b[0m\u001b[0m\n\u001b[0;32m-> 1499\u001b[0;31m             \u001b[0;32mreturn\u001b[0m \u001b[0mself\u001b[0m\u001b[0;34m.\u001b[0m\u001b[0m_construct_dataarray\u001b[0m\u001b[0;34m(\u001b[0m\u001b[0mkey\u001b[0m\u001b[0;34m)\u001b[0m\u001b[0;34m\u001b[0m\u001b[0;34m\u001b[0m\u001b[0m\n\u001b[0m\u001b[1;32m   1500\u001b[0m         \u001b[0;32melse\u001b[0m\u001b[0;34m:\u001b[0m\u001b[0;34m\u001b[0m\u001b[0;34m\u001b[0m\u001b[0m\n\u001b[1;32m   1501\u001b[0m             \u001b[0;32mreturn\u001b[0m \u001b[0mself\u001b[0m\u001b[0;34m.\u001b[0m\u001b[0m_copy_listed\u001b[0m\u001b[0;34m(\u001b[0m\u001b[0mkey\u001b[0m\u001b[0;34m)\u001b[0m\u001b[0;34m\u001b[0m\u001b[0;34m\u001b[0m\u001b[0m\n",
      "\u001b[0;32m~/miniconda3/envs/jaxtf_cpu_py39/lib/python3.9/site-packages/xarray/core/dataset.py\u001b[0m in \u001b[0;36m_construct_dataarray\u001b[0;34m(self, name)\u001b[0m\n\u001b[1;32m   1395\u001b[0m             \u001b[0mvariable\u001b[0m \u001b[0;34m=\u001b[0m \u001b[0mself\u001b[0m\u001b[0;34m.\u001b[0m\u001b[0m_variables\u001b[0m\u001b[0;34m[\u001b[0m\u001b[0mname\u001b[0m\u001b[0;34m]\u001b[0m\u001b[0;34m\u001b[0m\u001b[0;34m\u001b[0m\u001b[0m\n\u001b[1;32m   1396\u001b[0m         \u001b[0;32mexcept\u001b[0m \u001b[0mKeyError\u001b[0m\u001b[0;34m:\u001b[0m\u001b[0;34m\u001b[0m\u001b[0;34m\u001b[0m\u001b[0m\n\u001b[0;32m-> 1397\u001b[0;31m             _, name, variable = _get_virtual_variable(\n\u001b[0m\u001b[1;32m   1398\u001b[0m                 \u001b[0mself\u001b[0m\u001b[0;34m.\u001b[0m\u001b[0m_variables\u001b[0m\u001b[0;34m,\u001b[0m \u001b[0mname\u001b[0m\u001b[0;34m,\u001b[0m \u001b[0mself\u001b[0m\u001b[0;34m.\u001b[0m\u001b[0m_level_coords\u001b[0m\u001b[0;34m,\u001b[0m \u001b[0mself\u001b[0m\u001b[0;34m.\u001b[0m\u001b[0mdims\u001b[0m\u001b[0;34m\u001b[0m\u001b[0;34m\u001b[0m\u001b[0m\n\u001b[1;32m   1399\u001b[0m             )\n",
      "\u001b[0;32m~/miniconda3/envs/jaxtf_cpu_py39/lib/python3.9/site-packages/xarray/core/dataset.py\u001b[0m in \u001b[0;36m_get_virtual_variable\u001b[0;34m(variables, key, level_vars, dim_sizes)\u001b[0m\n\u001b[1;32m    168\u001b[0m         \u001b[0mref_var\u001b[0m \u001b[0;34m=\u001b[0m \u001b[0mdim_var\u001b[0m\u001b[0;34m.\u001b[0m\u001b[0mto_index_variable\u001b[0m\u001b[0;34m(\u001b[0m\u001b[0;34m)\u001b[0m\u001b[0;34m.\u001b[0m\u001b[0mget_level_variable\u001b[0m\u001b[0;34m(\u001b[0m\u001b[0mref_name\u001b[0m\u001b[0;34m)\u001b[0m\u001b[0;34m\u001b[0m\u001b[0;34m\u001b[0m\u001b[0m\n\u001b[1;32m    169\u001b[0m     \u001b[0;32melse\u001b[0m\u001b[0;34m:\u001b[0m\u001b[0;34m\u001b[0m\u001b[0;34m\u001b[0m\u001b[0m\n\u001b[0;32m--> 170\u001b[0;31m         \u001b[0mref_var\u001b[0m \u001b[0;34m=\u001b[0m \u001b[0mvariables\u001b[0m\u001b[0;34m[\u001b[0m\u001b[0mref_name\u001b[0m\u001b[0;34m]\u001b[0m\u001b[0;34m\u001b[0m\u001b[0;34m\u001b[0m\u001b[0m\n\u001b[0m\u001b[1;32m    171\u001b[0m \u001b[0;34m\u001b[0m\u001b[0m\n\u001b[1;32m    172\u001b[0m     \u001b[0;32mif\u001b[0m \u001b[0mvar_name\u001b[0m \u001b[0;32mis\u001b[0m \u001b[0;32mNone\u001b[0m\u001b[0;34m:\u001b[0m\u001b[0;34m\u001b[0m\u001b[0;34m\u001b[0m\u001b[0m\n",
      "\u001b[0;31mKeyError\u001b[0m: 'pred'"
     ]
    }
   ],
   "source": [
    "ds_oi = postprocess_data(df_grid, args)"
   ]
  },
  {
   "cell_type": "code",
   "execution_count": 70,
   "id": "974dab93-a32b-4fa7-82f8-dc6fcffbc68a",
   "metadata": {},
   "outputs": [
    {
     "data": {
      "text/html": [
       "<div><svg style=\"position: absolute; width: 0; height: 0; overflow: hidden\">\n",
       "<defs>\n",
       "<symbol id=\"icon-database\" viewBox=\"0 0 32 32\">\n",
       "<path d=\"M16 0c-8.837 0-16 2.239-16 5v4c0 2.761 7.163 5 16 5s16-2.239 16-5v-4c0-2.761-7.163-5-16-5z\"></path>\n",
       "<path d=\"M16 17c-8.837 0-16-2.239-16-5v6c0 2.761 7.163 5 16 5s16-2.239 16-5v-6c0 2.761-7.163 5-16 5z\"></path>\n",
       "<path d=\"M16 26c-8.837 0-16-2.239-16-5v6c0 2.761 7.163 5 16 5s16-2.239 16-5v-6c0 2.761-7.163 5-16 5z\"></path>\n",
       "</symbol>\n",
       "<symbol id=\"icon-file-text2\" viewBox=\"0 0 32 32\">\n",
       "<path d=\"M28.681 7.159c-0.694-0.947-1.662-2.053-2.724-3.116s-2.169-2.030-3.116-2.724c-1.612-1.182-2.393-1.319-2.841-1.319h-15.5c-1.378 0-2.5 1.121-2.5 2.5v27c0 1.378 1.122 2.5 2.5 2.5h23c1.378 0 2.5-1.122 2.5-2.5v-19.5c0-0.448-0.137-1.23-1.319-2.841zM24.543 5.457c0.959 0.959 1.712 1.825 2.268 2.543h-4.811v-4.811c0.718 0.556 1.584 1.309 2.543 2.268zM28 29.5c0 0.271-0.229 0.5-0.5 0.5h-23c-0.271 0-0.5-0.229-0.5-0.5v-27c0-0.271 0.229-0.5 0.5-0.5 0 0 15.499-0 15.5 0v7c0 0.552 0.448 1 1 1h7v19.5z\"></path>\n",
       "<path d=\"M23 26h-14c-0.552 0-1-0.448-1-1s0.448-1 1-1h14c0.552 0 1 0.448 1 1s-0.448 1-1 1z\"></path>\n",
       "<path d=\"M23 22h-14c-0.552 0-1-0.448-1-1s0.448-1 1-1h14c0.552 0 1 0.448 1 1s-0.448 1-1 1z\"></path>\n",
       "<path d=\"M23 18h-14c-0.552 0-1-0.448-1-1s0.448-1 1-1h14c0.552 0 1 0.448 1 1s-0.448 1-1 1z\"></path>\n",
       "</symbol>\n",
       "</defs>\n",
       "</svg>\n",
       "<style>/* CSS stylesheet for displaying xarray objects in jupyterlab.\n",
       " *\n",
       " */\n",
       "\n",
       ":root {\n",
       "  --xr-font-color0: var(--jp-content-font-color0, rgba(0, 0, 0, 1));\n",
       "  --xr-font-color2: var(--jp-content-font-color2, rgba(0, 0, 0, 0.54));\n",
       "  --xr-font-color3: var(--jp-content-font-color3, rgba(0, 0, 0, 0.38));\n",
       "  --xr-border-color: var(--jp-border-color2, #e0e0e0);\n",
       "  --xr-disabled-color: var(--jp-layout-color3, #bdbdbd);\n",
       "  --xr-background-color: var(--jp-layout-color0, white);\n",
       "  --xr-background-color-row-even: var(--jp-layout-color1, white);\n",
       "  --xr-background-color-row-odd: var(--jp-layout-color2, #eeeeee);\n",
       "}\n",
       "\n",
       "html[theme=dark],\n",
       "body.vscode-dark {\n",
       "  --xr-font-color0: rgba(255, 255, 255, 1);\n",
       "  --xr-font-color2: rgba(255, 255, 255, 0.54);\n",
       "  --xr-font-color3: rgba(255, 255, 255, 0.38);\n",
       "  --xr-border-color: #1F1F1F;\n",
       "  --xr-disabled-color: #515151;\n",
       "  --xr-background-color: #111111;\n",
       "  --xr-background-color-row-even: #111111;\n",
       "  --xr-background-color-row-odd: #313131;\n",
       "}\n",
       "\n",
       ".xr-wrap {\n",
       "  display: block;\n",
       "  min-width: 300px;\n",
       "  max-width: 700px;\n",
       "}\n",
       "\n",
       ".xr-text-repr-fallback {\n",
       "  /* fallback to plain text repr when CSS is not injected (untrusted notebook) */\n",
       "  display: none;\n",
       "}\n",
       "\n",
       ".xr-header {\n",
       "  padding-top: 6px;\n",
       "  padding-bottom: 6px;\n",
       "  margin-bottom: 4px;\n",
       "  border-bottom: solid 1px var(--xr-border-color);\n",
       "}\n",
       "\n",
       ".xr-header > div,\n",
       ".xr-header > ul {\n",
       "  display: inline;\n",
       "  margin-top: 0;\n",
       "  margin-bottom: 0;\n",
       "}\n",
       "\n",
       ".xr-obj-type,\n",
       ".xr-array-name {\n",
       "  margin-left: 2px;\n",
       "  margin-right: 10px;\n",
       "}\n",
       "\n",
       ".xr-obj-type {\n",
       "  color: var(--xr-font-color2);\n",
       "}\n",
       "\n",
       ".xr-sections {\n",
       "  padding-left: 0 !important;\n",
       "  display: grid;\n",
       "  grid-template-columns: 150px auto auto 1fr 20px 20px;\n",
       "}\n",
       "\n",
       ".xr-section-item {\n",
       "  display: contents;\n",
       "}\n",
       "\n",
       ".xr-section-item input {\n",
       "  display: none;\n",
       "}\n",
       "\n",
       ".xr-section-item input + label {\n",
       "  color: var(--xr-disabled-color);\n",
       "}\n",
       "\n",
       ".xr-section-item input:enabled + label {\n",
       "  cursor: pointer;\n",
       "  color: var(--xr-font-color2);\n",
       "}\n",
       "\n",
       ".xr-section-item input:enabled + label:hover {\n",
       "  color: var(--xr-font-color0);\n",
       "}\n",
       "\n",
       ".xr-section-summary {\n",
       "  grid-column: 1;\n",
       "  color: var(--xr-font-color2);\n",
       "  font-weight: 500;\n",
       "}\n",
       "\n",
       ".xr-section-summary > span {\n",
       "  display: inline-block;\n",
       "  padding-left: 0.5em;\n",
       "}\n",
       "\n",
       ".xr-section-summary-in:disabled + label {\n",
       "  color: var(--xr-font-color2);\n",
       "}\n",
       "\n",
       ".xr-section-summary-in + label:before {\n",
       "  display: inline-block;\n",
       "  content: '►';\n",
       "  font-size: 11px;\n",
       "  width: 15px;\n",
       "  text-align: center;\n",
       "}\n",
       "\n",
       ".xr-section-summary-in:disabled + label:before {\n",
       "  color: var(--xr-disabled-color);\n",
       "}\n",
       "\n",
       ".xr-section-summary-in:checked + label:before {\n",
       "  content: '▼';\n",
       "}\n",
       "\n",
       ".xr-section-summary-in:checked + label > span {\n",
       "  display: none;\n",
       "}\n",
       "\n",
       ".xr-section-summary,\n",
       ".xr-section-inline-details {\n",
       "  padding-top: 4px;\n",
       "  padding-bottom: 4px;\n",
       "}\n",
       "\n",
       ".xr-section-inline-details {\n",
       "  grid-column: 2 / -1;\n",
       "}\n",
       "\n",
       ".xr-section-details {\n",
       "  display: none;\n",
       "  grid-column: 1 / -1;\n",
       "  margin-bottom: 5px;\n",
       "}\n",
       "\n",
       ".xr-section-summary-in:checked ~ .xr-section-details {\n",
       "  display: contents;\n",
       "}\n",
       "\n",
       ".xr-array-wrap {\n",
       "  grid-column: 1 / -1;\n",
       "  display: grid;\n",
       "  grid-template-columns: 20px auto;\n",
       "}\n",
       "\n",
       ".xr-array-wrap > label {\n",
       "  grid-column: 1;\n",
       "  vertical-align: top;\n",
       "}\n",
       "\n",
       ".xr-preview {\n",
       "  color: var(--xr-font-color3);\n",
       "}\n",
       "\n",
       ".xr-array-preview,\n",
       ".xr-array-data {\n",
       "  padding: 0 5px !important;\n",
       "  grid-column: 2;\n",
       "}\n",
       "\n",
       ".xr-array-data,\n",
       ".xr-array-in:checked ~ .xr-array-preview {\n",
       "  display: none;\n",
       "}\n",
       "\n",
       ".xr-array-in:checked ~ .xr-array-data,\n",
       ".xr-array-preview {\n",
       "  display: inline-block;\n",
       "}\n",
       "\n",
       ".xr-dim-list {\n",
       "  display: inline-block !important;\n",
       "  list-style: none;\n",
       "  padding: 0 !important;\n",
       "  margin: 0;\n",
       "}\n",
       "\n",
       ".xr-dim-list li {\n",
       "  display: inline-block;\n",
       "  padding: 0;\n",
       "  margin: 0;\n",
       "}\n",
       "\n",
       ".xr-dim-list:before {\n",
       "  content: '(';\n",
       "}\n",
       "\n",
       ".xr-dim-list:after {\n",
       "  content: ')';\n",
       "}\n",
       "\n",
       ".xr-dim-list li:not(:last-child):after {\n",
       "  content: ',';\n",
       "  padding-right: 5px;\n",
       "}\n",
       "\n",
       ".xr-has-index {\n",
       "  font-weight: bold;\n",
       "}\n",
       "\n",
       ".xr-var-list,\n",
       ".xr-var-item {\n",
       "  display: contents;\n",
       "}\n",
       "\n",
       ".xr-var-item > div,\n",
       ".xr-var-item label,\n",
       ".xr-var-item > .xr-var-name span {\n",
       "  background-color: var(--xr-background-color-row-even);\n",
       "  margin-bottom: 0;\n",
       "}\n",
       "\n",
       ".xr-var-item > .xr-var-name:hover span {\n",
       "  padding-right: 5px;\n",
       "}\n",
       "\n",
       ".xr-var-list > li:nth-child(odd) > div,\n",
       ".xr-var-list > li:nth-child(odd) > label,\n",
       ".xr-var-list > li:nth-child(odd) > .xr-var-name span {\n",
       "  background-color: var(--xr-background-color-row-odd);\n",
       "}\n",
       "\n",
       ".xr-var-name {\n",
       "  grid-column: 1;\n",
       "}\n",
       "\n",
       ".xr-var-dims {\n",
       "  grid-column: 2;\n",
       "}\n",
       "\n",
       ".xr-var-dtype {\n",
       "  grid-column: 3;\n",
       "  text-align: right;\n",
       "  color: var(--xr-font-color2);\n",
       "}\n",
       "\n",
       ".xr-var-preview {\n",
       "  grid-column: 4;\n",
       "}\n",
       "\n",
       ".xr-var-name,\n",
       ".xr-var-dims,\n",
       ".xr-var-dtype,\n",
       ".xr-preview,\n",
       ".xr-attrs dt {\n",
       "  white-space: nowrap;\n",
       "  overflow: hidden;\n",
       "  text-overflow: ellipsis;\n",
       "  padding-right: 10px;\n",
       "}\n",
       "\n",
       ".xr-var-name:hover,\n",
       ".xr-var-dims:hover,\n",
       ".xr-var-dtype:hover,\n",
       ".xr-attrs dt:hover {\n",
       "  overflow: visible;\n",
       "  width: auto;\n",
       "  z-index: 1;\n",
       "}\n",
       "\n",
       ".xr-var-attrs,\n",
       ".xr-var-data {\n",
       "  display: none;\n",
       "  background-color: var(--xr-background-color) !important;\n",
       "  padding-bottom: 5px !important;\n",
       "}\n",
       "\n",
       ".xr-var-attrs-in:checked ~ .xr-var-attrs,\n",
       ".xr-var-data-in:checked ~ .xr-var-data {\n",
       "  display: block;\n",
       "}\n",
       "\n",
       ".xr-var-data > table {\n",
       "  float: right;\n",
       "}\n",
       "\n",
       ".xr-var-name span,\n",
       ".xr-var-data,\n",
       ".xr-attrs {\n",
       "  padding-left: 25px !important;\n",
       "}\n",
       "\n",
       ".xr-attrs,\n",
       ".xr-var-attrs,\n",
       ".xr-var-data {\n",
       "  grid-column: 1 / -1;\n",
       "}\n",
       "\n",
       "dl.xr-attrs {\n",
       "  padding: 0;\n",
       "  margin: 0;\n",
       "  display: grid;\n",
       "  grid-template-columns: 125px auto;\n",
       "}\n",
       "\n",
       ".xr-attrs dt,\n",
       ".xr-attrs dd {\n",
       "  padding: 0;\n",
       "  margin: 0;\n",
       "  float: left;\n",
       "  padding-right: 10px;\n",
       "  width: auto;\n",
       "}\n",
       "\n",
       ".xr-attrs dt {\n",
       "  font-weight: normal;\n",
       "  grid-column: 1;\n",
       "}\n",
       "\n",
       ".xr-attrs dt:hover span {\n",
       "  display: inline-block;\n",
       "  background: var(--xr-background-color);\n",
       "  padding-right: 10px;\n",
       "}\n",
       "\n",
       ".xr-attrs dd {\n",
       "  grid-column: 2;\n",
       "  white-space: pre-wrap;\n",
       "  word-break: break-all;\n",
       "}\n",
       "\n",
       ".xr-icon-database,\n",
       ".xr-icon-file-text2 {\n",
       "  display: inline-block;\n",
       "  vertical-align: middle;\n",
       "  width: 1em;\n",
       "  height: 1.5em !important;\n",
       "  stroke-width: 0;\n",
       "  stroke: currentColor;\n",
       "  fill: currentColor;\n",
       "}\n",
       "</style><pre class='xr-text-repr-fallback'>&lt;xarray.Dataset&gt;\n",
       "Dimensions:    (latitude: 52, longitude: 51, time: 32)\n",
       "Coordinates:\n",
       "  * latitude   (latitude) float64 33.0 33.2 33.4 33.6 ... 42.6 42.8 43.0 43.2\n",
       "  * longitude  (longitude) float64 295.0 295.2 295.4 295.6 ... 304.6 304.8 305.0\n",
       "  * time       (time) datetime64[ns] 2017-01-01 2017-01-02 ... 2017-02-01\n",
       "Data variables:\n",
       "    index      (latitude, longitude, time) int64 0 1 2 3 ... 84861 84862 84863\n",
       "    vtime      (latitude, longitude, time) float64 31.0 32.0 33.0 ... 61.0 62.0\n",
       "    pred       (latitude, longitude, time) float64 0.1331 0.1351 ... 0.09146\n",
       "    variance   (latitude, longitude, time) float64 0.001586 ... 0.001367\n",
       "    ssh        (latitude, longitude, time) float64 0.7328 0.7348 ... -0.08488\n",
       "    ssh_grad   (latitude, longitude, time) float64 4.339e-05 ... 0.0006119\n",
       "    ssh_lap    (latitude, longitude, time) float64 0.0009498 ... 0.001397</pre><div class='xr-wrap' hidden><div class='xr-header'><div class='xr-obj-type'>xarray.Dataset</div></div><ul class='xr-sections'><li class='xr-section-item'><input id='section-a5a7d020-09c0-400f-8308-958f1258eb29' class='xr-section-summary-in' type='checkbox' disabled ><label for='section-a5a7d020-09c0-400f-8308-958f1258eb29' class='xr-section-summary'  title='Expand/collapse section'>Dimensions:</label><div class='xr-section-inline-details'><ul class='xr-dim-list'><li><span class='xr-has-index'>latitude</span>: 52</li><li><span class='xr-has-index'>longitude</span>: 51</li><li><span class='xr-has-index'>time</span>: 32</li></ul></div><div class='xr-section-details'></div></li><li class='xr-section-item'><input id='section-cab1a3cf-37e9-4201-a08a-43ea15b1eec7' class='xr-section-summary-in' type='checkbox'  checked><label for='section-cab1a3cf-37e9-4201-a08a-43ea15b1eec7' class='xr-section-summary' >Coordinates: <span>(3)</span></label><div class='xr-section-inline-details'></div><div class='xr-section-details'><ul class='xr-var-list'><li class='xr-var-item'><div class='xr-var-name'><span class='xr-has-index'>latitude</span></div><div class='xr-var-dims'>(latitude)</div><div class='xr-var-dtype'>float64</div><div class='xr-var-preview xr-preview'>33.0 33.2 33.4 ... 42.8 43.0 43.2</div><input id='attrs-1725b067-2407-40e1-be3c-221401b7136f' class='xr-var-attrs-in' type='checkbox' disabled><label for='attrs-1725b067-2407-40e1-be3c-221401b7136f' title='Show/Hide attributes'><svg class='icon xr-icon-file-text2'><use xlink:href='#icon-file-text2'></use></svg></label><input id='data-c8b57f15-7071-4ad5-bc64-311616207cf3' class='xr-var-data-in' type='checkbox'><label for='data-c8b57f15-7071-4ad5-bc64-311616207cf3' title='Show/Hide data repr'><svg class='icon xr-icon-database'><use xlink:href='#icon-database'></use></svg></label><div class='xr-var-attrs'><dl class='xr-attrs'></dl></div><div class='xr-var-data'><pre>array([33. , 33.2, 33.4, 33.6, 33.8, 34. , 34.2, 34.4, 34.6, 34.8, 35. , 35.2,\n",
       "       35.4, 35.6, 35.8, 36. , 36.2, 36.4, 36.6, 36.8, 37. , 37.2, 37.4, 37.6,\n",
       "       37.8, 38. , 38.2, 38.4, 38.6, 38.8, 39. , 39.2, 39.4, 39.6, 39.8, 40. ,\n",
       "       40.2, 40.4, 40.6, 40.8, 41. , 41.2, 41.4, 41.6, 41.8, 42. , 42.2, 42.4,\n",
       "       42.6, 42.8, 43. , 43.2])</pre></div></li><li class='xr-var-item'><div class='xr-var-name'><span class='xr-has-index'>longitude</span></div><div class='xr-var-dims'>(longitude)</div><div class='xr-var-dtype'>float64</div><div class='xr-var-preview xr-preview'>295.0 295.2 295.4 ... 304.8 305.0</div><input id='attrs-041f5b55-aa70-45cc-95a4-0869f6c08fa2' class='xr-var-attrs-in' type='checkbox' disabled><label for='attrs-041f5b55-aa70-45cc-95a4-0869f6c08fa2' title='Show/Hide attributes'><svg class='icon xr-icon-file-text2'><use xlink:href='#icon-file-text2'></use></svg></label><input id='data-2476e449-8eb0-460f-a7a5-b30733be04c3' class='xr-var-data-in' type='checkbox'><label for='data-2476e449-8eb0-460f-a7a5-b30733be04c3' title='Show/Hide data repr'><svg class='icon xr-icon-database'><use xlink:href='#icon-database'></use></svg></label><div class='xr-var-attrs'><dl class='xr-attrs'></dl></div><div class='xr-var-data'><pre>array([295. , 295.2, 295.4, 295.6, 295.8, 296. , 296.2, 296.4, 296.6, 296.8,\n",
       "       297. , 297.2, 297.4, 297.6, 297.8, 298. , 298.2, 298.4, 298.6, 298.8,\n",
       "       299. , 299.2, 299.4, 299.6, 299.8, 300. , 300.2, 300.4, 300.6, 300.8,\n",
       "       301. , 301.2, 301.4, 301.6, 301.8, 302. , 302.2, 302.4, 302.6, 302.8,\n",
       "       303. , 303.2, 303.4, 303.6, 303.8, 304. , 304.2, 304.4, 304.6, 304.8,\n",
       "       305. ])</pre></div></li><li class='xr-var-item'><div class='xr-var-name'><span class='xr-has-index'>time</span></div><div class='xr-var-dims'>(time)</div><div class='xr-var-dtype'>datetime64[ns]</div><div class='xr-var-preview xr-preview'>2017-01-01 ... 2017-02-01</div><input id='attrs-5e4511eb-beb4-4117-8ff0-7eb60ea9e841' class='xr-var-attrs-in' type='checkbox' disabled><label for='attrs-5e4511eb-beb4-4117-8ff0-7eb60ea9e841' title='Show/Hide attributes'><svg class='icon xr-icon-file-text2'><use xlink:href='#icon-file-text2'></use></svg></label><input id='data-9add0cd8-6c09-42c9-b3d7-7b41efe77804' class='xr-var-data-in' type='checkbox'><label for='data-9add0cd8-6c09-42c9-b3d7-7b41efe77804' title='Show/Hide data repr'><svg class='icon xr-icon-database'><use xlink:href='#icon-database'></use></svg></label><div class='xr-var-attrs'><dl class='xr-attrs'></dl></div><div class='xr-var-data'><pre>array([&#x27;2017-01-01T00:00:00.000000000&#x27;, &#x27;2017-01-02T00:00:00.000000000&#x27;,\n",
       "       &#x27;2017-01-03T00:00:00.000000000&#x27;, &#x27;2017-01-04T00:00:00.000000000&#x27;,\n",
       "       &#x27;2017-01-05T00:00:00.000000000&#x27;, &#x27;2017-01-06T00:00:00.000000000&#x27;,\n",
       "       &#x27;2017-01-07T00:00:00.000000000&#x27;, &#x27;2017-01-08T00:00:00.000000000&#x27;,\n",
       "       &#x27;2017-01-09T00:00:00.000000000&#x27;, &#x27;2017-01-10T00:00:00.000000000&#x27;,\n",
       "       &#x27;2017-01-11T00:00:00.000000000&#x27;, &#x27;2017-01-12T00:00:00.000000000&#x27;,\n",
       "       &#x27;2017-01-13T00:00:00.000000000&#x27;, &#x27;2017-01-14T00:00:00.000000000&#x27;,\n",
       "       &#x27;2017-01-15T00:00:00.000000000&#x27;, &#x27;2017-01-16T00:00:00.000000000&#x27;,\n",
       "       &#x27;2017-01-17T00:00:00.000000000&#x27;, &#x27;2017-01-18T00:00:00.000000000&#x27;,\n",
       "       &#x27;2017-01-19T00:00:00.000000000&#x27;, &#x27;2017-01-20T00:00:00.000000000&#x27;,\n",
       "       &#x27;2017-01-21T00:00:00.000000000&#x27;, &#x27;2017-01-22T00:00:00.000000000&#x27;,\n",
       "       &#x27;2017-01-23T00:00:00.000000000&#x27;, &#x27;2017-01-24T00:00:00.000000000&#x27;,\n",
       "       &#x27;2017-01-25T00:00:00.000000000&#x27;, &#x27;2017-01-26T00:00:00.000000000&#x27;,\n",
       "       &#x27;2017-01-27T00:00:00.000000000&#x27;, &#x27;2017-01-28T00:00:00.000000000&#x27;,\n",
       "       &#x27;2017-01-29T00:00:00.000000000&#x27;, &#x27;2017-01-30T00:00:00.000000000&#x27;,\n",
       "       &#x27;2017-01-31T00:00:00.000000000&#x27;, &#x27;2017-02-01T00:00:00.000000000&#x27;],\n",
       "      dtype=&#x27;datetime64[ns]&#x27;)</pre></div></li></ul></div></li><li class='xr-section-item'><input id='section-67337b3c-d3b9-449c-b6df-e71011db7324' class='xr-section-summary-in' type='checkbox'  checked><label for='section-67337b3c-d3b9-449c-b6df-e71011db7324' class='xr-section-summary' >Data variables: <span>(7)</span></label><div class='xr-section-inline-details'></div><div class='xr-section-details'><ul class='xr-var-list'><li class='xr-var-item'><div class='xr-var-name'><span>index</span></div><div class='xr-var-dims'>(latitude, longitude, time)</div><div class='xr-var-dtype'>int64</div><div class='xr-var-preview xr-preview'>0 1 2 3 ... 84860 84861 84862 84863</div><input id='attrs-8fc1149c-9edd-4f9a-b1d9-e0264d8bef20' class='xr-var-attrs-in' type='checkbox' disabled><label for='attrs-8fc1149c-9edd-4f9a-b1d9-e0264d8bef20' title='Show/Hide attributes'><svg class='icon xr-icon-file-text2'><use xlink:href='#icon-file-text2'></use></svg></label><input id='data-4f9dce70-a09b-452a-b778-862563df8760' class='xr-var-data-in' type='checkbox'><label for='data-4f9dce70-a09b-452a-b778-862563df8760' title='Show/Hide data repr'><svg class='icon xr-icon-database'><use xlink:href='#icon-database'></use></svg></label><div class='xr-var-attrs'><dl class='xr-attrs'></dl></div><div class='xr-var-data'><pre>array([[[    0,     1,     2, ...,    29,    30,    31],\n",
       "        [   32,    33,    34, ...,    61,    62,    63],\n",
       "        [   64,    65,    66, ...,    93,    94,    95],\n",
       "        ...,\n",
       "        [ 1536,  1537,  1538, ...,  1565,  1566,  1567],\n",
       "        [ 1568,  1569,  1570, ...,  1597,  1598,  1599],\n",
       "        [ 1600,  1601,  1602, ...,  1629,  1630,  1631]],\n",
       "\n",
       "       [[ 1632,  1633,  1634, ...,  1661,  1662,  1663],\n",
       "        [ 1664,  1665,  1666, ...,  1693,  1694,  1695],\n",
       "        [ 1696,  1697,  1698, ...,  1725,  1726,  1727],\n",
       "        ...,\n",
       "        [ 3168,  3169,  3170, ...,  3197,  3198,  3199],\n",
       "        [ 3200,  3201,  3202, ...,  3229,  3230,  3231],\n",
       "        [ 3232,  3233,  3234, ...,  3261,  3262,  3263]],\n",
       "\n",
       "       [[ 3264,  3265,  3266, ...,  3293,  3294,  3295],\n",
       "        [ 3296,  3297,  3298, ...,  3325,  3326,  3327],\n",
       "        [ 3328,  3329,  3330, ...,  3357,  3358,  3359],\n",
       "        ...,\n",
       "...\n",
       "        ...,\n",
       "        [81504, 81505, 81506, ..., 81533, 81534, 81535],\n",
       "        [81536, 81537, 81538, ..., 81565, 81566, 81567],\n",
       "        [81568, 81569, 81570, ..., 81597, 81598, 81599]],\n",
       "\n",
       "       [[81600, 81601, 81602, ..., 81629, 81630, 81631],\n",
       "        [81632, 81633, 81634, ..., 81661, 81662, 81663],\n",
       "        [81664, 81665, 81666, ..., 81693, 81694, 81695],\n",
       "        ...,\n",
       "        [83136, 83137, 83138, ..., 83165, 83166, 83167],\n",
       "        [83168, 83169, 83170, ..., 83197, 83198, 83199],\n",
       "        [83200, 83201, 83202, ..., 83229, 83230, 83231]],\n",
       "\n",
       "       [[83232, 83233, 83234, ..., 83261, 83262, 83263],\n",
       "        [83264, 83265, 83266, ..., 83293, 83294, 83295],\n",
       "        [83296, 83297, 83298, ..., 83325, 83326, 83327],\n",
       "        ...,\n",
       "        [84768, 84769, 84770, ..., 84797, 84798, 84799],\n",
       "        [84800, 84801, 84802, ..., 84829, 84830, 84831],\n",
       "        [84832, 84833, 84834, ..., 84861, 84862, 84863]]])</pre></div></li><li class='xr-var-item'><div class='xr-var-name'><span>vtime</span></div><div class='xr-var-dims'>(latitude, longitude, time)</div><div class='xr-var-dtype'>float64</div><div class='xr-var-preview xr-preview'>31.0 32.0 33.0 ... 60.0 61.0 62.0</div><input id='attrs-2798697c-f772-418e-bac8-700f6e7e2ca4' class='xr-var-attrs-in' type='checkbox' disabled><label for='attrs-2798697c-f772-418e-bac8-700f6e7e2ca4' title='Show/Hide attributes'><svg class='icon xr-icon-file-text2'><use xlink:href='#icon-file-text2'></use></svg></label><input id='data-519a697e-a38d-4803-ad8f-2c96e1b58099' class='xr-var-data-in' type='checkbox'><label for='data-519a697e-a38d-4803-ad8f-2c96e1b58099' title='Show/Hide data repr'><svg class='icon xr-icon-database'><use xlink:href='#icon-database'></use></svg></label><div class='xr-var-attrs'><dl class='xr-attrs'></dl></div><div class='xr-var-data'><pre>array([[[31., 32., 33., ..., 60., 61., 62.],\n",
       "        [31., 32., 33., ..., 60., 61., 62.],\n",
       "        [31., 32., 33., ..., 60., 61., 62.],\n",
       "        ...,\n",
       "        [31., 32., 33., ..., 60., 61., 62.],\n",
       "        [31., 32., 33., ..., 60., 61., 62.],\n",
       "        [31., 32., 33., ..., 60., 61., 62.]],\n",
       "\n",
       "       [[31., 32., 33., ..., 60., 61., 62.],\n",
       "        [31., 32., 33., ..., 60., 61., 62.],\n",
       "        [31., 32., 33., ..., 60., 61., 62.],\n",
       "        ...,\n",
       "        [31., 32., 33., ..., 60., 61., 62.],\n",
       "        [31., 32., 33., ..., 60., 61., 62.],\n",
       "        [31., 32., 33., ..., 60., 61., 62.]],\n",
       "\n",
       "       [[31., 32., 33., ..., 60., 61., 62.],\n",
       "        [31., 32., 33., ..., 60., 61., 62.],\n",
       "        [31., 32., 33., ..., 60., 61., 62.],\n",
       "        ...,\n",
       "...\n",
       "        ...,\n",
       "        [31., 32., 33., ..., 60., 61., 62.],\n",
       "        [31., 32., 33., ..., 60., 61., 62.],\n",
       "        [31., 32., 33., ..., 60., 61., 62.]],\n",
       "\n",
       "       [[31., 32., 33., ..., 60., 61., 62.],\n",
       "        [31., 32., 33., ..., 60., 61., 62.],\n",
       "        [31., 32., 33., ..., 60., 61., 62.],\n",
       "        ...,\n",
       "        [31., 32., 33., ..., 60., 61., 62.],\n",
       "        [31., 32., 33., ..., 60., 61., 62.],\n",
       "        [31., 32., 33., ..., 60., 61., 62.]],\n",
       "\n",
       "       [[31., 32., 33., ..., 60., 61., 62.],\n",
       "        [31., 32., 33., ..., 60., 61., 62.],\n",
       "        [31., 32., 33., ..., 60., 61., 62.],\n",
       "        ...,\n",
       "        [31., 32., 33., ..., 60., 61., 62.],\n",
       "        [31., 32., 33., ..., 60., 61., 62.],\n",
       "        [31., 32., 33., ..., 60., 61., 62.]]])</pre></div></li><li class='xr-var-item'><div class='xr-var-name'><span>pred</span></div><div class='xr-var-dims'>(latitude, longitude, time)</div><div class='xr-var-dtype'>float64</div><div class='xr-var-preview xr-preview'>0.1331 0.1351 ... 0.09318 0.09146</div><input id='attrs-bc1039e5-7bdf-4b14-a443-4501338f8c6b' class='xr-var-attrs-in' type='checkbox' disabled><label for='attrs-bc1039e5-7bdf-4b14-a443-4501338f8c6b' title='Show/Hide attributes'><svg class='icon xr-icon-file-text2'><use xlink:href='#icon-file-text2'></use></svg></label><input id='data-eb99d57b-0a80-4d01-9cdb-21a386b7b250' class='xr-var-data-in' type='checkbox'><label for='data-eb99d57b-0a80-4d01-9cdb-21a386b7b250' title='Show/Hide data repr'><svg class='icon xr-icon-database'><use xlink:href='#icon-database'></use></svg></label><div class='xr-var-attrs'><dl class='xr-attrs'></dl></div><div class='xr-var-data'><pre>array([[[ 0.13307136,  0.13513724,  0.13719444, ...,  0.04378544,\n",
       "          0.04088648,  0.03906893],\n",
       "        [ 0.13358504,  0.13595241,  0.13830405, ...,  0.04435369,\n",
       "          0.04159084,  0.03994546],\n",
       "        [ 0.13388783,  0.13654477,  0.13918022, ...,  0.0451102 ,\n",
       "          0.04249191,  0.04102411],\n",
       "        ...,\n",
       "        [ 0.07379169,  0.07481753,  0.07658618, ...,  0.14453132,\n",
       "          0.14547105,  0.14659103],\n",
       "        [ 0.07738373,  0.07812003,  0.07958758, ...,  0.14343407,\n",
       "          0.14431967,  0.14536332],\n",
       "        [ 0.0812408 ,  0.08168748,  0.08285145, ...,  0.14213774,\n",
       "          0.14296687,  0.14393323]],\n",
       "\n",
       "       [[ 0.13318296,  0.1353833 ,  0.13756848, ...,  0.0382277 ,\n",
       "          0.03516579,  0.03324854],\n",
       "        [ 0.13365754,  0.13616055,  0.13864149, ...,  0.03879303,\n",
       "          0.0358765 ,  0.03414047],\n",
       "        [ 0.13391423,  0.13670853,  0.13947511, ...,  0.03955687,\n",
       "          0.03679422,  0.03524469],\n",
       "...\n",
       "        [ 0.0123651 ,  0.01647504,  0.02120285, ...,  0.09792755,\n",
       "          0.09692094,  0.09511469],\n",
       "        [ 0.01152669,  0.01593009,  0.02095347, ...,  0.09682198,\n",
       "          0.09588874,  0.09417513],\n",
       "        [ 0.01107005,  0.01574865,  0.02104687, ...,  0.09519683,\n",
       "          0.094342  ,  0.09273098]],\n",
       "\n",
       "       [[ 0.10775481,  0.09931416,  0.09141719, ..., -0.00223605,\n",
       "         -0.00404963, -0.00528846],\n",
       "        [ 0.11082807,  0.1022731 ,  0.09422906, ..., -0.00558746,\n",
       "         -0.00725258, -0.00833204],\n",
       "        [ 0.11373284,  0.10508391,  0.09691312, ..., -0.00871279,\n",
       "         -0.01024025, -0.01117382],\n",
       "        ...,\n",
       "        [ 0.01652036,  0.02052853,  0.02515233, ...,  0.09682434,\n",
       "          0.0956634 ,  0.09372905],\n",
       "        [ 0.01555337,  0.01987055,  0.02480517, ...,  0.09575553,\n",
       "          0.09467356,  0.09283824],\n",
       "        [ 0.01495115,  0.01955978,  0.02478534, ...,  0.09418044,\n",
       "          0.09318249,  0.09145605]]])</pre></div></li><li class='xr-var-item'><div class='xr-var-name'><span>variance</span></div><div class='xr-var-dims'>(latitude, longitude, time)</div><div class='xr-var-dtype'>float64</div><div class='xr-var-preview xr-preview'>0.001586 0.001611 ... 0.001367</div><input id='attrs-a369c514-d763-4553-a413-7378b85e7d7b' class='xr-var-attrs-in' type='checkbox' disabled><label for='attrs-a369c514-d763-4553-a413-7378b85e7d7b' title='Show/Hide attributes'><svg class='icon xr-icon-file-text2'><use xlink:href='#icon-file-text2'></use></svg></label><input id='data-726b2540-1491-4689-aa93-833e296db73b' class='xr-var-data-in' type='checkbox'><label for='data-726b2540-1491-4689-aa93-833e296db73b' title='Show/Hide data repr'><svg class='icon xr-icon-database'><use xlink:href='#icon-database'></use></svg></label><div class='xr-var-attrs'><dl class='xr-attrs'></dl></div><div class='xr-var-data'><pre>array([[[0.00158605, 0.00161122, 0.00164114, ..., 0.00194186,\n",
       "         0.00172887, 0.0015638 ],\n",
       "        [0.00148531, 0.00151615, 0.00155134, ..., 0.00197194,\n",
       "         0.00176988, 0.00161431],\n",
       "        [0.00139904, 0.0014352 , 0.00147521, ..., 0.00201414,\n",
       "         0.00182436, 0.00167916],\n",
       "        ...,\n",
       "        [0.00217648, 0.00208234, 0.00198816, ..., 0.00149035,\n",
       "         0.00148208, 0.00148767],\n",
       "        [0.00209369, 0.001988  , 0.00188668, ..., 0.00142423,\n",
       "         0.00141861, 0.00142983],\n",
       "        [0.00202732, 0.00191257, 0.00180637, ..., 0.00135812,\n",
       "         0.00135616, 0.00137401]],\n",
       "\n",
       "       [[0.0016751 , 0.00171338, 0.00175199, ..., 0.00178206,\n",
       "         0.00159081, 0.00145348],\n",
       "        [0.00156722, 0.00161163, 0.00165626, ..., 0.00180403,\n",
       "         0.00162247, 0.00149348],\n",
       "        [0.00147331, 0.0015235 , 0.00157372, ..., 0.00183884,\n",
       "         0.00166824, 0.00154834],\n",
       "...\n",
       "        [0.00242884, 0.00242439, 0.00239646, ..., 0.00129707,\n",
       "         0.00134156, 0.00141945],\n",
       "        [0.00229162, 0.00229537, 0.0022822 , ..., 0.00127992,\n",
       "         0.00130485, 0.00136711],\n",
       "        [0.00215088, 0.00216311, 0.00216518, ..., 0.0012811 ,\n",
       "         0.00128725, 0.00133378]],\n",
       "\n",
       "       [[0.00458025, 0.00449978, 0.00443351, ..., 0.00389219,\n",
       "         0.00404424, 0.00421124],\n",
       "        [0.00436237, 0.00431123, 0.00427911, ..., 0.0038766 ,\n",
       "         0.00400666, 0.00414799],\n",
       "        [0.0041492 , 0.00412706, 0.00412847, ..., 0.00387819,\n",
       "         0.00398676, 0.0041028 ],\n",
       "        ...,\n",
       "        [0.00257099, 0.00257402, 0.00255444, ..., 0.00132015,\n",
       "         0.00136722, 0.00145097],\n",
       "        [0.00242373, 0.00243405, 0.00242879, ..., 0.00130517,\n",
       "         0.00133237, 0.00140009],\n",
       "        [0.0022721 , 0.00228996, 0.00229945, ..., 0.00130767,\n",
       "         0.00131582, 0.00136747]]])</pre></div></li><li class='xr-var-item'><div class='xr-var-name'><span>ssh</span></div><div class='xr-var-dims'>(latitude, longitude, time)</div><div class='xr-var-dtype'>float64</div><div class='xr-var-preview xr-preview'>0.7328 0.7348 ... -0.08316 -0.08488</div><input id='attrs-ca1bb3e6-cd0d-435e-a2cf-cb8c8bcb0390' class='xr-var-attrs-in' type='checkbox' disabled><label for='attrs-ca1bb3e6-cd0d-435e-a2cf-cb8c8bcb0390' title='Show/Hide attributes'><svg class='icon xr-icon-file-text2'><use xlink:href='#icon-file-text2'></use></svg></label><input id='data-5a28bb59-81d3-4680-bda4-4d52fae9041e' class='xr-var-data-in' type='checkbox'><label for='data-5a28bb59-81d3-4680-bda4-4d52fae9041e' title='Show/Hide data repr'><svg class='icon xr-icon-database'><use xlink:href='#icon-database'></use></svg></label><div class='xr-var-attrs'><dl class='xr-attrs'></dl></div><div class='xr-var-data'><pre>array([[[ 0.73275073,  0.73481661,  0.7368738 , ...,  0.64346481,\n",
       "          0.64056585,  0.63874829],\n",
       "        [ 0.73256702,  0.73493439,  0.73728603, ...,  0.64333567,\n",
       "          0.64057281,  0.63892744],\n",
       "        [ 0.73344767,  0.73610461,  0.73874006, ...,  0.64467005,\n",
       "          0.64205176,  0.64058396],\n",
       "        ...,\n",
       "        [ 0.61126256,  0.6122884 ,  0.61405705, ...,  0.68200219,\n",
       "          0.68294192,  0.6840619 ],\n",
       "        [ 0.61332994,  0.61406623,  0.61553378, ...,  0.67938027,\n",
       "          0.68026587,  0.68130953],\n",
       "        [ 0.61606351,  0.6165102 ,  0.61767417, ...,  0.67696045,\n",
       "          0.67778959,  0.67875594]],\n",
       "\n",
       "       [[ 0.7359726 ,  0.73817294,  0.74035811, ...,  0.64101733,\n",
       "          0.63795542,  0.63603818],\n",
       "        [ 0.7346689 ,  0.73717192,  0.73965285, ...,  0.6398044 ,\n",
       "          0.63688787,  0.63515184],\n",
       "        [ 0.73436139,  0.73715569,  0.73992227, ...,  0.64000403,\n",
       "          0.63724139,  0.63569185],\n",
       "...\n",
       "        [-0.16107259, -0.15696265, -0.15223484, ..., -0.07551014,\n",
       "         -0.07651675, -0.078323  ],\n",
       "        [-0.16053018, -0.15612678, -0.1511034 , ..., -0.07523489,\n",
       "         -0.07616813, -0.07788174],\n",
       "        [-0.16038407, -0.15570547, -0.15040725, ..., -0.07625729,\n",
       "         -0.07711212, -0.07872314]],\n",
       "\n",
       "       [[ 0.00704199, -0.00139866, -0.00929563, ..., -0.10294888,\n",
       "         -0.10476245, -0.10600128],\n",
       "        [ 0.01032684,  0.00177187, -0.00627217, ..., -0.10608869,\n",
       "         -0.10775381, -0.10883327],\n",
       "        [ 0.01203931,  0.00339038, -0.00478041, ..., -0.11040632,\n",
       "         -0.11193377, -0.11286735],\n",
       "        ...,\n",
       "        [-0.16054236, -0.15653419, -0.15191039, ..., -0.08023839,\n",
       "         -0.08139933, -0.08333368],\n",
       "        [-0.16070756, -0.15639039, -0.15145576, ..., -0.0805054 ,\n",
       "         -0.08158737, -0.0834227 ],\n",
       "        [-0.16138956, -0.15678092, -0.15155536, ..., -0.08216026,\n",
       "         -0.08315821, -0.08488465]]])</pre></div></li><li class='xr-var-item'><div class='xr-var-name'><span>ssh_grad</span></div><div class='xr-var-dims'>(latitude, longitude, time)</div><div class='xr-var-dtype'>float64</div><div class='xr-var-preview xr-preview'>4.339e-05 4.56e-05 ... 0.0006119</div><input id='attrs-f8e90c1a-3dac-43b5-b3cd-190f970f304d' class='xr-var-attrs-in' type='checkbox' disabled><label for='attrs-f8e90c1a-3dac-43b5-b3cd-190f970f304d' title='Show/Hide attributes'><svg class='icon xr-icon-file-text2'><use xlink:href='#icon-file-text2'></use></svg></label><input id='data-f3eae244-5760-480a-976e-a4b8c3a7d051' class='xr-var-data-in' type='checkbox'><label for='data-f3eae244-5760-480a-976e-a4b8c3a7d051' title='Show/Hide data repr'><svg class='icon xr-icon-database'><use xlink:href='#icon-database'></use></svg></label><div class='xr-var-attrs'><dl class='xr-attrs'></dl></div><div class='xr-var-data'><pre>array([[[4.33910848e-05, 4.56012659e-05, 5.04148330e-05, ...,\n",
       "         1.97980244e-04, 2.12257203e-04, 2.20451765e-04],\n",
       "        [3.63397254e-06, 9.08604881e-06, 1.70079479e-05, ...,\n",
       "         3.36307757e-04, 3.59703878e-04, 3.76359023e-04],\n",
       "        [2.61275703e-05, 3.14272344e-05, 3.91826268e-05, ...,\n",
       "         5.60921735e-04, 5.92411080e-04, 6.15971718e-04],\n",
       "        ...,\n",
       "        [6.28177086e-05, 4.47396883e-05, 2.90913577e-05, ...,\n",
       "         3.47637047e-04, 3.62095378e-04, 3.74604354e-04],\n",
       "        [1.18668102e-04, 9.34080636e-05, 6.98136490e-05, ...,\n",
       "         2.52182449e-04, 2.64927093e-04, 2.76356467e-04],\n",
       "        [1.82860285e-04, 1.51509909e-04, 1.21190609e-04, ...,\n",
       "         2.00906562e-04, 2.12668909e-04, 2.23254220e-04]],\n",
       "\n",
       "       [[3.19488189e-04, 3.21527961e-04, 3.25705949e-04, ...,\n",
       "         5.87790623e-05, 5.64881471e-05, 5.17666100e-05],\n",
       "        [1.87884691e-04, 1.94957641e-04, 2.03979713e-04, ...,\n",
       "         4.88433638e-05, 5.44954026e-05, 5.76927151e-05],\n",
       "        [9.79147669e-05, 1.06607629e-04, 1.17179975e-04, ...,\n",
       "         1.06139832e-04, 1.18664189e-04, 1.28146331e-04],\n",
       "...\n",
       "        [2.24730102e-05, 2.15834394e-05, 2.32212549e-05, ...,\n",
       "         1.92136442e-04, 2.08609704e-04, 2.23333829e-04],\n",
       "        [5.16589459e-06, 7.58661249e-06, 1.21964669e-05, ...,\n",
       "         2.58154805e-04, 2.75170186e-04, 2.89599888e-04],\n",
       "        [3.42070993e-06, 4.87262347e-06, 8.22641593e-06, ...,\n",
       "         3.98908131e-04, 4.15827247e-04, 4.28583734e-04]],\n",
       "\n",
       "       [[1.17519590e-03, 1.09768807e-03, 1.01219679e-03, ...,\n",
       "         9.55016384e-05, 9.33633099e-05, 9.44425481e-05],\n",
       "        [1.02580781e-03, 9.57189047e-04, 8.81491932e-04, ...,\n",
       "         1.86443525e-04, 1.80576468e-04, 1.77752472e-04],\n",
       "        [7.64991407e-04, 7.09818514e-04, 6.49333391e-04, ...,\n",
       "         3.02398355e-04, 2.88093766e-04, 2.75900769e-04],\n",
       "        ...,\n",
       "        [1.21644256e-06, 2.11222977e-06, 5.86368166e-06, ...,\n",
       "         3.85503449e-04, 4.07006585e-04, 4.25468838e-04],\n",
       "        [1.23159123e-05, 1.23781573e-05, 1.49685888e-05, ...,\n",
       "         4.63332054e-04, 4.83382760e-04, 4.99360847e-04],\n",
       "        [3.88221480e-05, 3.59983297e-05, 3.54406214e-05, ...,\n",
       "         5.82508932e-04, 5.99937577e-04, 6.11871379e-04]]])</pre></div></li><li class='xr-var-item'><div class='xr-var-name'><span>ssh_lap</span></div><div class='xr-var-dims'>(latitude, longitude, time)</div><div class='xr-var-dtype'>float64</div><div class='xr-var-preview xr-preview'>0.0009498 0.0009318 ... 0.001397</div><input id='attrs-4262759f-8219-484f-bc6b-202580003cef' class='xr-var-attrs-in' type='checkbox' disabled><label for='attrs-4262759f-8219-484f-bc6b-202580003cef' title='Show/Hide attributes'><svg class='icon xr-icon-file-text2'><use xlink:href='#icon-file-text2'></use></svg></label><input id='data-74ab3e68-825f-4d6e-96db-f93c0d949396' class='xr-var-data-in' type='checkbox'><label for='data-74ab3e68-825f-4d6e-96db-f93c0d949396' title='Show/Hide data repr'><svg class='icon xr-icon-database'><use xlink:href='#icon-database'></use></svg></label><div class='xr-var-attrs'><dl class='xr-attrs'></dl></div><div class='xr-var-data'><pre>array([[[9.49843310e-04, 9.31765473e-04, 9.15751975e-04, ...,\n",
       "         1.65586462e-03, 1.67354051e-03, 1.68505106e-03],\n",
       "        [5.01716647e-04, 4.88298489e-04, 4.76510615e-04, ...,\n",
       "         1.05516808e-03, 1.06864819e-03, 1.07709370e-03],\n",
       "        [2.68509288e-04, 2.58401647e-04, 2.49625627e-04, ...,\n",
       "         7.16466743e-04, 7.26765833e-04, 7.32778755e-04],\n",
       "        ...,\n",
       "        [6.11564419e-05, 6.06311450e-05, 5.91255973e-05, ...,\n",
       "         2.17864777e-05, 2.23698313e-05, 2.26211215e-05],\n",
       "        [1.84077454e-04, 1.83821867e-04, 1.81901038e-04, ...,\n",
       "         3.01889511e-06, 2.81589521e-06, 2.73390629e-06],\n",
       "        [3.89750127e-04, 3.90023235e-04, 3.87922977e-04, ...,\n",
       "         7.00189244e-05, 6.90549416e-05, 6.86642874e-05]],\n",
       "\n",
       "       [[8.71853486e-04, 8.55331226e-04, 8.40747768e-04, ...,\n",
       "         1.58624711e-03, 1.60363826e-03, 1.61472608e-03],\n",
       "        [4.11357498e-04, 3.99751633e-04, 3.89603361e-04, ...,\n",
       "         9.48671953e-04, 9.61488232e-04, 9.69320472e-04],\n",
       "        [2.94416851e-04, 2.84269723e-04, 2.75484275e-04, ...,\n",
       "         7.83036516e-04, 7.93781448e-04, 7.99848834e-04],\n",
       "...\n",
       "        [2.18172389e-04, 2.05532058e-04, 1.91556786e-04, ...,\n",
       "         6.15843816e-05, 5.94830993e-05, 5.55257112e-05],\n",
       "        [6.39784734e-06, 8.88282551e-06, 1.22023509e-05, ...,\n",
       "         6.29803642e-04, 6.23389717e-04, 6.10860033e-04],\n",
       "        [2.98796368e-04, 3.14975769e-04, 3.33832424e-04, ...,\n",
       "         1.58293872e-03, 1.57313413e-03, 1.55367310e-03]],\n",
       "\n",
       "       [[1.51258320e-03, 1.47342360e-03, 1.43498721e-03, ...,\n",
       "         8.59536829e-04, 8.75216677e-04, 8.95043698e-04],\n",
       "        [1.57823039e-03, 1.53787723e-03, 1.49800389e-03, ...,\n",
       "         8.74580114e-04, 8.90785483e-04, 9.11302047e-04],\n",
       "        [1.64489901e-03, 1.60319558e-03, 1.56159093e-03, ...,\n",
       "         8.72859292e-04, 8.89591937e-04, 9.10820301e-04],\n",
       "        ...,\n",
       "        [4.04992327e-06, 5.88690771e-06, 8.40532519e-06, ...,\n",
       "         5.68350266e-04, 5.61919185e-04, 5.49736299e-04],\n",
       "        [9.69071594e-05, 1.05606865e-04, 1.15950252e-04, ...,\n",
       "         1.00138194e-03, 9.93270780e-04, 9.77594000e-04],\n",
       "        [2.55860885e-04, 2.70275456e-04, 2.87083180e-04, ...,\n",
       "         1.42485842e-03, 1.41552957e-03, 1.39725304e-03]]])</pre></div></li></ul></div></li><li class='xr-section-item'><input id='section-d26b1462-4fb1-4294-99c1-5432b9a0cbc6' class='xr-section-summary-in' type='checkbox' disabled ><label for='section-d26b1462-4fb1-4294-99c1-5432b9a0cbc6' class='xr-section-summary'  title='Expand/collapse section'>Attributes: <span>(0)</span></label><div class='xr-section-inline-details'></div><div class='xr-section-details'><dl class='xr-attrs'></dl></div></li></ul></div></div>"
      ],
      "text/plain": [
       "<xarray.Dataset>\n",
       "Dimensions:    (latitude: 52, longitude: 51, time: 32)\n",
       "Coordinates:\n",
       "  * latitude   (latitude) float64 33.0 33.2 33.4 33.6 ... 42.6 42.8 43.0 43.2\n",
       "  * longitude  (longitude) float64 295.0 295.2 295.4 295.6 ... 304.6 304.8 305.0\n",
       "  * time       (time) datetime64[ns] 2017-01-01 2017-01-02 ... 2017-02-01\n",
       "Data variables:\n",
       "    index      (latitude, longitude, time) int64 0 1 2 3 ... 84861 84862 84863\n",
       "    vtime      (latitude, longitude, time) float64 31.0 32.0 33.0 ... 61.0 62.0\n",
       "    pred       (latitude, longitude, time) float64 0.1331 0.1351 ... 0.09146\n",
       "    variance   (latitude, longitude, time) float64 0.001586 ... 0.001367\n",
       "    ssh        (latitude, longitude, time) float64 0.7328 0.7348 ... -0.08488\n",
       "    ssh_grad   (latitude, longitude, time) float64 4.339e-05 ... 0.0006119\n",
       "    ssh_lap    (latitude, longitude, time) float64 0.0009498 ... 0.001397"
      ]
     },
     "execution_count": 70,
     "metadata": {},
     "output_type": "execute_result"
    }
   ],
   "source": [
    "ds_oi"
   ]
  },
  {
   "cell_type": "code",
   "execution_count": 71,
   "id": "f0779492-1be0-48fc-a10b-413666ad305d",
   "metadata": {},
   "outputs": [
    {
     "name": "stdout",
     "output_type": "stream",
     "text": [
      "CPU times: user 304 ms, sys: 16 ms, total: 320 ms\n",
      "Wall time: 306 ms\n"
     ]
    }
   ],
   "source": [
    "%%time\n",
    "\n",
    "rmse_metrics = get_rmse_metrics(ds_oi, args)\n",
    "\n",
    "wandb.log(\n",
    "    {\n",
    "        \"model_rmse_mean\": rmse_metrics[0],\n",
    "        \"model_rmse_std\": rmse_metrics[1],\n",
    "        \"model_nrmse_mean\": rmse_metrics[2],\n",
    "        \"model_nrmse_std\": rmse_metrics[3],\n",
    "    }\n",
    ")"
   ]
  },
  {
   "cell_type": "code",
   "execution_count": 72,
   "id": "07446478-0947-46d3-9c92-f2d609be69ed",
   "metadata": {},
   "outputs": [],
   "source": [
    "psd_metrics = get_psd_metrics(ds_oi, args)"
   ]
  },
  {
   "cell_type": "markdown",
   "id": "bd079855-f082-4097-94d5-d5d13d9a31df",
   "metadata": {},
   "source": [
    "### Figures"
   ]
  },
  {
   "cell_type": "code",
   "execution_count": null,
   "id": "979029d9-c8c8-499d-8e4b-ae75d87fd263",
   "metadata": {},
   "outputs": [],
   "source": []
  },
  {
   "cell_type": "code",
   "execution_count": 73,
   "id": "9dd9f802-4cc7-4458-8ce7-ffc63fbab688",
   "metadata": {},
   "outputs": [
    {
     "data": {
      "image/png": "[encoded data removed]",
      "text/plain": [
       "<Figure size 504x360 with 1 Axes>"
      ]
     },
     "metadata": {
      "needs_background": "light"
     },
     "output_type": "display_data"
    }
   ],
   "source": [
    "fig, ax = plot_psd_spectrum(\n",
    "    psd_metrics.psd_study, \n",
    "    psd_metrics.psd_ref, \n",
    "    psd_metrics.wavenumber\n",
    ")\n",
    "\n",
    "\n",
    "wandb.log(\n",
    "    {\n",
    "        \"model_psd_spectrum\": wandb.Image(fig),\n",
    "    }\n",
    ")"
   ]
  },
  {
   "cell_type": "code",
   "execution_count": 74,
   "id": "230a6088-eeb1-4ab3-8031-a2d267b1cdb6",
   "metadata": {},
   "outputs": [
    {
     "data": {
      "image/png": "[encoded data removed]",
      "text/plain": [
       "<Figure size 504x360 with 1 Axes>"
      ]
     },
     "metadata": {
      "needs_background": "light"
     },
     "output_type": "display_data"
    }
   ],
   "source": [
    "fig, ax = plot_psd_score(\n",
    "    psd_metrics.psd_diff, \n",
    "    psd_metrics.psd_ref, \n",
    "    psd_metrics.wavenumber, \n",
    "    psd_metrics.resolved_scale)\n",
    "\n",
    "wandb.log(\n",
    "    {\n",
    "        \"model_psd_score\": wandb.Image(fig),\n",
    "    }\n",
    ")"
   ]
  },
  {
   "cell_type": "markdown",
   "id": "4a2bd7b7-dcb5-4536-b326-cc679b9a8300",
   "metadata": {},
   "source": [
    "### Movies"
   ]
  },
  {
   "cell_type": "code",
   "execution_count": 75,
   "id": "e5998a5e-152a-47b0-8e35-f364e630bcab",
   "metadata": {},
   "outputs": [],
   "source": [
    "save_path = wandb.run.dir #Path(root).joinpath(\"experiments/dc_2021b\")"
   ]
  },
  {
   "cell_type": "code",
   "execution_count": 76,
   "id": "af137cf9-e718-497d-be4e-80bf049b6271",
   "metadata": {},
   "outputs": [],
   "source": [
    "# import hvplot.xarray\n",
    "\n",
    "\n",
    "# ds_oi.ssh.hvplot.image(\n",
    "#     x=\"longitude\",\n",
    "#     y=\"latitude\",\n",
    "#     # groupby='time',\n",
    "#     # rasterize=True, \n",
    "#     width=500, height=400, cmap=\"viridis\")"
   ]
  },
  {
   "cell_type": "code",
   "execution_count": 77,
   "id": "98f0bcf3-7732-44bd-b30a-48e6612325af",
   "metadata": {},
   "outputs": [],
   "source": [
    "# if args.smoke_test:\n",
    "#     create_movie(ds_oi.ssh.isel(time=slice(50,60)), f\"pred\", \"time\", cmap=\"viridis\", file_path=save_path)\n",
    "# else:\n",
    "#     create_movie(ds_oi.ssh, f\"pred\", \"time\", cmap=\"viridis\", file_path=save_path)\n"
   ]
  },
  {
   "cell_type": "code",
   "execution_count": 78,
   "id": "4292fd48-f99a-4a12-9ba2-35b9f32c403e",
   "metadata": {},
   "outputs": [],
   "source": [
    "# wandb.log(\n",
    "#     {\n",
    "#         \"predictions_gif\": wandb.Image(f\"{save_path}/movie_pred.gif\"),\n",
    "#     }\n",
    "# )"
   ]
  },
  {
   "cell_type": "markdown",
   "id": "3f7cdb4b-468b-4f37-992b-6403056a2ba9",
   "metadata": {},
   "source": [
    "### Gradients"
   ]
  },
  {
   "cell_type": "code",
   "execution_count": 79,
   "id": "22e7dfb4-8f7c-4cbe-8989-e9e64eab9453",
   "metadata": {},
   "outputs": [],
   "source": [
    "ds_oi[\"ssh_grad\"] = calculate_gradient(ds_oi[\"ssh\"], \"longitude\", \"latitude\")"
   ]
  },
  {
   "cell_type": "code",
   "execution_count": 80,
   "id": "278f6131-30c8-48f5-8250-386124ecc956",
   "metadata": {},
   "outputs": [],
   "source": [
    "ds_oi[\"ssh_grad\"] = calculate_gradient(ds_oi[\"ssh\"], \"longitude\", \"latitude\")\n",
    "# ds_oi.ssh_grad.hvplot.image(\n",
    "#     x=\"longitude\",\n",
    "#     y=\"latitude\",\n",
    "#     # groupby='time',\n",
    "#     # rasterize=True, \n",
    "#     width=500, height=400, cmap=\"Spectral_r\")"
   ]
  },
  {
   "cell_type": "code",
   "execution_count": 81,
   "id": "3975b43e-f722-4948-999f-4e60eaf87362",
   "metadata": {},
   "outputs": [],
   "source": [
    "# if args.smoke_test:\n",
    "#     create_movie(ds_oi.ssh_grad.isel(time=slice(50,60)), f\"pred_grad\", \"time\", cmap=\"Spectral_r\", file_path=save_path)\n",
    "# else:\n",
    "#     create_movie(ds_oi.ssh_grad, f\"pred_grad\", \"time\", cmap=\"Spectral_r\", file_path=save_path)"
   ]
  },
  {
   "cell_type": "code",
   "execution_count": 82,
   "id": "6872c78a-d596-446f-911f-3444b2701991",
   "metadata": {},
   "outputs": [],
   "source": [
    "# wandb.log(\n",
    "#     {\n",
    "#         \"predictions_grad_gif\": wandb.Image(f\"{save_path}/movie_pred_grad.gif\"),\n",
    "#     }\n",
    "# )"
   ]
  },
  {
   "cell_type": "markdown",
   "id": "5d08cd6d-20cb-4726-9204-bab5405e584d",
   "metadata": {},
   "source": [
    "### Laplacian"
   ]
  },
  {
   "cell_type": "code",
   "execution_count": 83,
   "id": "2816a06f-c1bf-485a-8966-a0adffd91df0",
   "metadata": {},
   "outputs": [],
   "source": [
    "ds_oi[\"ssh_lap\"] = calculate_laplacian(ds_oi[\"ssh\"], \"longitude\", \"latitude\")"
   ]
  },
  {
   "cell_type": "code",
   "execution_count": 84,
   "id": "7d39b798-65d0-4f04-a655-16b1f202667b",
   "metadata": {},
   "outputs": [],
   "source": [
    "ds_oi[\"ssh_lap\"] = calculate_laplacian(ds_oi[\"ssh\"], \"longitude\", \"latitude\")\n",
    "# ds_oi.ssh_lap.hvplot.image(\n",
    "#     x=\"longitude\",\n",
    "#     y=\"latitude\",\n",
    "#     # groupby='time',\n",
    "#     # rasterize=True, \n",
    "#     width=500, height=400, cmap=\"RdBu_r\")"
   ]
  },
  {
   "cell_type": "code",
   "execution_count": 85,
   "id": "6f401c5c-1ff3-4934-8a24-404366860b99",
   "metadata": {},
   "outputs": [],
   "source": [
    "# if args.smoke_test:\n",
    "#     create_movie(ds_oi.ssh_lap.isel(time=slice(50,60)), f\"pred_lap\", \"time\", cmap=\"RdBu_r\", file_path=save_path)\n",
    "# else:\n",
    "#     create_movie(ds_oi.ssh_lap, f\"pred_lap\", \"time\", cmap=\"RdBu_r\", file_path=save_path)\n"
   ]
  },
  {
   "cell_type": "code",
   "execution_count": 86,
   "id": "05ede2ed-4fe4-4209-83b0-6b25ac618daf",
   "metadata": {},
   "outputs": [],
   "source": [
    "# wandb.log(\n",
    "#     {\n",
    "#         \"predictions_laplacian_gif\": wandb.Image(f\"{save_path}/movie_pred_lap.gif\"),\n",
    "#     }\n",
    "# )"
   ]
  },
  {
   "cell_type": "code",
   "execution_count": null,
   "id": "d377f7ff-4392-4510-8f9f-6664e50c862f",
   "metadata": {},
   "outputs": [],
   "source": []
  }
 ],
 "metadata": {
  "kernelspec": {
   "display_name": "Python [conda env:jaxtf_cpu_py39]",
   "language": "python",
   "name": "conda-env-jaxtf_cpu_py39-py"
  },
  "language_info": {
   "codemirror_mode": {
    "name": "ipython",
    "version": 3
   },
   "file_extension": ".py",
   "mimetype": "text/x-python",
   "name": "python",
   "nbconvert_exporter": "python",
   "pygments_lexer": "ipython3",
   "version": "3.9.12"
  }
 },
 "nbformat": 4,
 "nbformat_minor": 5
}
