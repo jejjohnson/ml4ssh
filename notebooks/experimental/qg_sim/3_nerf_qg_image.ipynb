{
 "cells": [
  {
   "cell_type": "markdown",
   "id": "69d67b99-71be-4f66-9397-b15b60ee0226",
   "metadata": {},
   "source": [
    "# NerF + QG Loss"
   ]
  },
  {
   "cell_type": "markdown",
   "id": "59583528-46e3-4e59-99c6-338029736d60",
   "metadata": {},
   "source": [
    "The full QG equation is given by:\n",
    "\n",
    "$$\n",
    "\\begin{aligned}\n",
    "\\partial_t q + \\det \\boldsymbol{J}(q, \\psi) &= 0\n",
    "\\end{aligned}\n",
    "$$\n",
    "\n",
    "where:\n",
    "\n",
    "* $q=\\nabla^2 \\psi$\n",
    "* $\\det \\boldsymbol{J}(q, \\psi)=\\partial_x q\\partial_y\\psi - \\partial_y q\\partial_x\\psi$.\n",
    "\n",
    "We are interested in finding some NerF method that can take in the spatial-temporal coordinates, $\\mathbf{x}_\\phi$, and output a vector corresponding to the PV and stream function, $\\psi$, i.e. $\\mathbf{y}_\\text{obs}$.\n",
    "\n",
    "$$\n",
    "\\mathbf{y}_\\text{obs} = \\boldsymbol{f_\\theta}(\\mathbf{x}_\\phi) + \\epsilon, \\hspace{5mm}\\epsilon \\sim \\mathcal{N}(0, \\sigma^2)\n",
    "$$\n",
    "\n",
    "We use a SIREN network which is a fully connected neural network with the $sin$ activation function.\n",
    "\n",
    "* **Data Inputs**: `256x256x11`\n",
    "* **Data Ouputs**: `2`\n"
   ]
  },
  {
   "cell_type": "code",
   "execution_count": null,
   "id": "7d850f86-a38d-41f6-972c-4ecb70a3af42",
   "metadata": {},
   "outputs": [],
   "source": [
    "import sys, os\n",
    "from pyprojroot import here\n",
    "\n",
    "# spyder up to find the root\n",
    "root = here(project_files=[\".root\"])\n",
    "\n",
    "# append to path\n",
    "sys.path.append(str(root))"
   ]
  },
  {
   "cell_type": "code",
   "execution_count": null,
   "id": "6bbd0d72",
   "metadata": {},
   "outputs": [],
   "source": [
    "import xarray as xr\n",
    "import numpy as np\n",
    "import matplotlib.pyplot as plt\n",
    "import torch\n",
    "import torch.nn as nn\n",
    "import torch.nn.functional as F\n",
    "from torch.utils.data import TensorDataset, DataLoader, Dataset\n",
    "from ml_collections import config_dict\n",
    "import pytorch_lightning as pl\n",
    "from pytorch_lightning import Trainer, seed_everything\n",
    "from pytorch_lightning.loggers import WandbLogger\n",
    "\n",
    "from inr4ssh._src.datamodules.qg_sim import QGSimulation\n",
    "from inr4ssh._src.models.siren import Siren, SirenNet\n",
    "from pl_bolts.optimizers.lr_scheduler import LinearWarmupCosineAnnealingLR\n",
    "from functools import partial\n",
    "from typing import Dict, Any, cast\n",
    "from torch.optim import Adam\n",
    "from pytorch_lightning.callbacks import TQDMProgressBar, ModelCheckpoint\n",
    "from pathlib import Path\n",
    "from inr4ssh._src.operators import differential_simp as diffops_simp\n",
    "from inr4ssh._src.operators import differential as diffops\n",
    "import copy\n",
    "from tqdm.notebook import tqdm\n",
    "\n",
    "pl.seed_everything(123)\n",
    "\n",
    "import matplotlib.pyplot as plt\n",
    "import seaborn as sns\n",
    "import wandb\n",
    "from experiments.qg.configs.config_image import get_config\n",
    "from experiments.qg.losses import RegQG\n",
    "\n",
    "\n",
    "sns.reset_defaults()\n",
    "sns.set_context(context=\"talk\", font_scale=0.7)\n",
    "\n",
    "%matplotlib inline\n",
    "%load_ext autoreload\n",
    "%autoreload 2"
   ]
  },
  {
   "cell_type": "code",
   "execution_count": null,
   "id": "3975fa36-64cc-4848-938a-3c1cdd14b287",
   "metadata": {},
   "outputs": [],
   "source": [
    "# from ml_collections import config_dict\n",
    "\n",
    "# cfg = config_dict.ConfigDict()\n",
    "\n",
    "# # logging args\n",
    "# cfg.log = config_dict.ConfigDict()\n",
    "# cfg.log.mode = \"online\" #\"disabled\"\n",
    "# cfg.log.project =\"inr4ssh\"\n",
    "# cfg.log.entity = \"ige\"\n",
    "# cfg.log.log_dir = \"/Users/eman/code_projects/logs/\"\n",
    "# cfg.log.resume = False\n",
    "\n",
    "# # data args\n",
    "# cfg.data = config_dict.ConfigDict()\n",
    "# cfg.data.data_dir =  f\"/Users/eman/code_projects/torchqg/data/qgsim_simple_128x128.nc\"\n",
    "\n",
    "# # preprocessing args\n",
    "# cfg.pre = config_dict.ConfigDict()\n",
    "# cfg.pre.noise = 0.01\n",
    "# cfg.pre.dt = 1.0\n",
    "# cfg.pre.time_min = 500\n",
    "# cfg.pre.time_max = 511\n",
    "# cfg.pre.seed = 123\n",
    "\n",
    "# # train/test args\n",
    "# cfg.split = config_dict.ConfigDict()\n",
    "# cfg.split.train_prct = 0.9\n",
    "\n",
    "# # dataloader args\n",
    "# cfg.dl = config_dict.ConfigDict()\n",
    "# cfg.dl.batchsize_train = 2048\n",
    "# cfg.dl.batchsize_val = 1_000\n",
    "# cfg.dl.batchsize_test = 5_000\n",
    "# cfg.dl.batchsize_predict = 10_000\n",
    "# cfg.dl.num_workers = 0\n",
    "# cfg.dl.pin_memory = False\n",
    "\n",
    "# # loss arguments\n",
    "# cfg.loss = config_dict.ConfigDict()\n",
    "# cfg.loss.qg = True\n",
    "# cfg.loss.alpha = 1e-4\n",
    "\n",
    "# # optimizer args\n",
    "# cfg.optim = config_dict.ConfigDict()\n",
    "# cfg.optim.warmup = 10\n",
    "# cfg.optim.num_epochs = 100\n",
    "# cfg.optim.learning_rate = 1e-4\n",
    "\n",
    "# # trainer args\n",
    "# cfg.trainer = config_dict.ConfigDict()\n",
    "# cfg.trainer.accelerator = None\n",
    "# cfg.trainer.devices = 1\n",
    "# cfg.trainer.grad_batches = 1"
   ]
  },
  {
   "cell_type": "code",
   "execution_count": null,
   "id": "3ac47ef1-8d2d-4e12-8f17-fc53fe4a5c61",
   "metadata": {},
   "outputs": [],
   "source": [
    "from inr4ssh._src.io import transform_dict\n",
    "\n",
    "cfg = get_config()\n",
    "# custom config for local\n",
    "\n",
    "# data, log directory\n",
    "cfg.data.data_dir = \"/Users/eman/code_projects/torchqg/data/qgsim_simple_128x128.nc\"\n",
    "cfg.data.log_dir = \"/Users/eman/code_projects/logs/\"\n",
    "cfg.data.res = \"128x128\"\n",
    "\n",
    "# logging args\n",
    "cfg.log.mode = \"online\"\n",
    "\n",
    "# preprocessing params\n",
    "cfg.pre.time_max = 2\n",
    "\n",
    "# model params\n",
    "cfg.model.hidden_dims = 512\n",
    "\n",
    "# dataloader params\n",
    "cfg.dl.batchsize_train = 128\n",
    "cfg.dl.batchsize_val = 2048\n",
    "cfg.dl.num_workers = 0\n",
    "cfg.dl.pin_memory = False\n",
    "\n",
    "# optimization args\n",
    "cfg.optim.num_epochs = 2_000\n",
    "cfg.optim.warmup = 50\n",
    "cfg.optim_qg.num_epochs = 5_000\n",
    "cfg.optim_qg.warmup = 50\n",
    "\n",
    "# trainer params\n",
    "cfg.trainer.grad_batches = 1\n",
    "cfg.trainer.accelerator = \"mps\"\n",
    "cfg.trainer_qg.accelerator = \"cpu\"\n",
    "\n",
    "\n",
    "# cfg.to_dict()\n",
    "cfg"
   ]
  },
  {
   "cell_type": "code",
   "execution_count": null,
   "id": "65bbc68f-7f2c-4932-bfbc-2516abb68aef",
   "metadata": {},
   "outputs": [],
   "source": [
    "wandb.finish()"
   ]
  },
  {
   "cell_type": "code",
   "execution_count": null,
   "id": "9788b8f2-9941-4da8-b906-038115cb8ff5",
   "metadata": {},
   "outputs": [],
   "source": [
    "wandb_logger = WandbLogger(\n",
    "    config=cfg.to_dict(),\n",
    "    mode=cfg.log.mode,\n",
    "    project=cfg.log.project,\n",
    "    entity=cfg.log.entity,\n",
    "    dir=cfg.log.log_dir,\n",
    "    resume=False,\n",
    ")"
   ]
  },
  {
   "cell_type": "markdown",
   "id": "e4858b20-4c08-496b-aa14-64d72cc6b65f",
   "metadata": {},
   "source": [
    "## Data Module\n",
    "\n",
    "Now we will put all of the preprocessing routines together. This is **very important** for a few reasons:\n",
    "\n",
    "1. It collapses all of the operations in a modular way\n",
    "2. It makes it reproducible for the next people\n",
    "3. It makes it very easy for the PyTorch-Lightning framework down the line."
   ]
  },
  {
   "cell_type": "code",
   "execution_count": null,
   "id": "67da7217-f0a7-42b9-9351-db849446c975",
   "metadata": {},
   "outputs": [],
   "source": [
    "dm = QGSimulation(cfg)\n",
    "dm.setup()"
   ]
  },
  {
   "cell_type": "code",
   "execution_count": null,
   "id": "76d75a4e-641f-40c9-b640-5df86a3e7b85",
   "metadata": {},
   "outputs": [],
   "source": [
    "len(dm.ds_train)"
   ]
  },
  {
   "cell_type": "code",
   "execution_count": null,
   "id": "26556dbd-af01-42cf-8f79-c857b09c479f",
   "metadata": {},
   "outputs": [],
   "source": []
  },
  {
   "cell_type": "code",
   "execution_count": null,
   "id": "f924f943-f3bd-481c-9e20-e1fc9403aaa9",
   "metadata": {},
   "outputs": [],
   "source": [
    "x_init, y_init = dm.ds_train[:10]"
   ]
  },
  {
   "cell_type": "code",
   "execution_count": null,
   "id": "6b14ad86-9688-4d02-8fa8-5e691763a3f3",
   "metadata": {},
   "outputs": [],
   "source": [
    "x_init.shape, y_init.shape"
   ]
  },
  {
   "cell_type": "markdown",
   "id": "d7a68f60-19d7-439e-988b-8a99263ee269",
   "metadata": {},
   "source": [
    "## NerF\n",
    "\n",
    "This standard Neural Fields."
   ]
  },
  {
   "cell_type": "code",
   "execution_count": null,
   "id": "eb2f1b7f-e81c-4f96-a310-f766872f0368",
   "metadata": {},
   "outputs": [],
   "source": [
    "dim_in = x_init.shape[1]\n",
    "dim_hidden = 256\n",
    "dim_out = y_init.shape[1]\n",
    "num_layers = 4\n",
    "w0 = 1.0\n",
    "w0_initial = 30.0\n",
    "c = 6.0\n",
    "final_activation = None  # nn.Sigmoid()\n",
    "\n",
    "net = SirenNet(\n",
    "    dim_in=dim_in,\n",
    "    dim_hidden=dim_hidden,\n",
    "    dim_out=dim_out,\n",
    "    num_layers=num_layers,\n",
    "    w0=w0,\n",
    "    w0_initial=w0_initial,\n",
    "    c=c,\n",
    "    final_activation=final_activation,\n",
    ")"
   ]
  },
  {
   "cell_type": "code",
   "execution_count": null,
   "id": "a3b8b3c9-60a0-4cea-89f9-8f16daf2b66f",
   "metadata": {},
   "outputs": [],
   "source": [
    "out = net(x_init)"
   ]
  },
  {
   "cell_type": "markdown",
   "id": "d98a0ab8-3e63-44f1-98d7-3a5541e2ab9c",
   "metadata": {},
   "source": [
    "## PINNS Loss"
   ]
  },
  {
   "cell_type": "markdown",
   "id": "d4409bd4-cbce-4308-9425-587a2382db84",
   "metadata": {},
   "source": [
    "$$\n",
    "\\partial_t \\nabla^2 \\psi + \\det J(\\psi, \\nabla^2\\psi) = 0\n",
    "$$"
   ]
  },
  {
   "cell_type": "code",
   "execution_count": null,
   "id": "4323b37a-2380-4f09-a118-8d7706193ca9",
   "metadata": {},
   "outputs": [],
   "source": [
    "x_init.max(dim=0)"
   ]
  },
  {
   "cell_type": "markdown",
   "id": "aea7ab29-f515-465d-a4c5-1f786806008e",
   "metadata": {},
   "source": [
    "## Experiment"
   ]
  },
  {
   "cell_type": "code",
   "execution_count": null,
   "id": "d19971dc-5040-4e82-8bf8-5b68ed145ab2",
   "metadata": {},
   "outputs": [],
   "source": [
    "data_loss = nn.MSELoss(reduction=cfg.loss.reduction)"
   ]
  },
  {
   "cell_type": "markdown",
   "id": "d614a086-9047-409a-bca0-a6c5f5397560",
   "metadata": {},
   "source": [
    "### Callbacks"
   ]
  },
  {
   "cell_type": "code",
   "execution_count": null,
   "id": "7fcda2a4-ed6a-4f00-a5f7-c91a370a33cf",
   "metadata": {},
   "outputs": [],
   "source": [
    "model_cb = ModelCheckpoint(\n",
    "    dirpath=str(Path(wandb_logger.experiment.dir).joinpath(\"checkpoints\")),\n",
    "    monitor=\"val_loss\",\n",
    "    mode=\"min\",\n",
    "    save_top_k=1,\n",
    ")"
   ]
  },
  {
   "cell_type": "code",
   "execution_count": null,
   "id": "a5d01235-05c7-4419-bbdf-c297290d810d",
   "metadata": {},
   "outputs": [],
   "source": [
    "callbacks = [model_cb, TQDMProgressBar(refresh_rate=9)]"
   ]
  },
  {
   "cell_type": "markdown",
   "id": "ac691f0e-8563-466b-ba03-aa5e036a6937",
   "metadata": {},
   "source": [
    "### Learner"
   ]
  },
  {
   "cell_type": "code",
   "execution_count": null,
   "id": "ab21629a-f0de-47bb-807c-cb685d7aa310",
   "metadata": {},
   "outputs": [],
   "source": [
    "from experiments.qg.trainer import INRModel"
   ]
  },
  {
   "cell_type": "code",
   "execution_count": null,
   "id": "9764224d-c5f7-4811-bc90-95a7e52d2ff7",
   "metadata": {},
   "outputs": [],
   "source": [
    "learn = INRModel(\n",
    "    model=net,\n",
    "    loss_data=data_loss,\n",
    "    reg_pde=None,\n",
    "    learning_rate=cfg.optim.learning_rate,\n",
    "    warmup=cfg.optim.warmup,\n",
    "    warmup_start_lr=cfg.optim.warmup_start_lr,\n",
    "    eta_min=cfg.optim.eta_min,\n",
    "    num_epochs=cfg.optim.num_epochs,\n",
    "    alpha=0.0,\n",
    "    qg=False,\n",
    ")"
   ]
  },
  {
   "cell_type": "markdown",
   "id": "8b94dae0-3f14-471b-bb82-5206b862d5ad",
   "metadata": {},
   "source": [
    "### Trainer"
   ]
  },
  {
   "cell_type": "code",
   "execution_count": null,
   "id": "bc58be52-50e3-4072-82c4-7ef17fb24fa2",
   "metadata": {},
   "outputs": [],
   "source": [
    "trainer = Trainer(\n",
    "    min_epochs=1,\n",
    "    max_epochs=cfg.optim.num_epochs,\n",
    "    accelerator=cfg.trainer.accelerator,\n",
    "    devices=cfg.trainer.devices,\n",
    "    enable_progress_bar=True,\n",
    "    logger=wandb_logger,\n",
    "    callbacks=callbacks,\n",
    "    accumulate_grad_batches=cfg.trainer.grad_batches,\n",
    ")"
   ]
  },
  {
   "cell_type": "markdown",
   "id": "cdbd7117-e4db-426f-b470-bfb22c424570",
   "metadata": {},
   "source": [
    "### Train"
   ]
  },
  {
   "cell_type": "code",
   "execution_count": null,
   "id": "0889c892-20c6-4446-8818-f8b7a6df9e82",
   "metadata": {},
   "outputs": [],
   "source": [
    "trainer.fit(\n",
    "    learn,\n",
    "    datamodule=dm,\n",
    ")"
   ]
  },
  {
   "cell_type": "code",
   "execution_count": null,
   "id": "054fa4be-b7ca-4265-b629-3b0d89bdc18e",
   "metadata": {},
   "outputs": [],
   "source": []
  },
  {
   "cell_type": "markdown",
   "id": "1e87e6b4-1d97-4d5d-a00b-2c14b28677e0",
   "metadata": {},
   "source": [
    "## Results"
   ]
  },
  {
   "cell_type": "markdown",
   "id": "45b7dc94-9401-46b7-99dd-9643352951e0",
   "metadata": {},
   "source": [
    "### Testing"
   ]
  },
  {
   "cell_type": "code",
   "execution_count": null,
   "id": "4ceb782e-493c-43cb-a481-9a36bdf33045",
   "metadata": {},
   "outputs": [],
   "source": [
    "# res = trainer.test(learn, dataloaders=dm.test_dataloader())\n",
    "\n",
    "# results[\"data\"] = res"
   ]
  },
  {
   "cell_type": "code",
   "execution_count": null,
   "id": "5923b2c1-0b0d-47de-9940-3e020d5b2f1a",
   "metadata": {},
   "outputs": [],
   "source": [
    "# import wandb\n",
    "\n",
    "# wandb.finish()"
   ]
  },
  {
   "cell_type": "markdown",
   "id": "47e93692-f60c-457a-b483-eb7a8da4d771",
   "metadata": {},
   "source": [
    "### Predictions"
   ]
  },
  {
   "cell_type": "code",
   "execution_count": null,
   "id": "b9b77091-4ca8-4084-9bc3-a2eb75ae545d",
   "metadata": {},
   "outputs": [],
   "source": [
    "# t0 = time.time()\n",
    "predictions = trainer.predict(learn, datamodule=dm, return_predictions=True)\n",
    "predictions = torch.cat(predictions)\n",
    "# t1 = time.time() - t0"
   ]
  },
  {
   "cell_type": "code",
   "execution_count": null,
   "id": "932098d9-76d6-4b55-a162-67f9d58ac325",
   "metadata": {},
   "outputs": [],
   "source": [
    "ds_pred = dm.create_predictions_ds(predictions)"
   ]
  },
  {
   "cell_type": "code",
   "execution_count": null,
   "id": "0e050c0e-a4a7-4385-a9a0-69f76769223f",
   "metadata": {},
   "outputs": [],
   "source": [
    "# ds_pred = dm.create_predictions_ds(predictions)\n",
    "# ds_pred"
   ]
  },
  {
   "cell_type": "markdown",
   "id": "5503bf1c-88c5-49b8-831f-ea35f5dfb0a4",
   "metadata": {},
   "source": [
    "The full QG equation is given by:\n",
    "\n",
    "$$\n",
    "\\begin{aligned}\n",
    "\\partial_t q + \\det \\boldsymbol{J}(q, \\psi) &= 0\n",
    "\\end{aligned}\n",
    "$$\n",
    "\n",
    "where:\n",
    "\n",
    "* $q=\\nabla^2 \\psi$\n",
    "* $\\det \\boldsymbol{J}(q, \\psi)=\\partial_x q\\partial_y\\psi - \\partial_y q\\partial_x\\psi$."
   ]
  },
  {
   "cell_type": "code",
   "execution_count": null,
   "id": "11eb307e-2096-4330-bb07-353ed1b58d62",
   "metadata": {},
   "outputs": [],
   "source": [
    "# learn.model.eval()\n",
    "# coords, truths, preds, grads, qs = [], [], [], [], []\n",
    "# for ix, iy in tqdm(dm.predict_dataloader()):\n",
    "#     with torch.set_grad_enabled(True):\n",
    "#         # prediction\n",
    "#         ix = torch.autograd.Variable(ix.clone(), requires_grad=True)\n",
    "#         p_pred = learn.model(ix)\n",
    "\n",
    "#         # p_pred = p_pred.clone()\n",
    "#         # p_pred.require_grad_ = True\n",
    "\n",
    "#         # gradient\n",
    "#         p_grad = diffops_simp.gradient(p_pred, ix)\n",
    "#         # p_grad = diffops.grad(p_pred, ix)\n",
    "#         # q\n",
    "#         q = diffops_simp.divergence(p_grad, ix)\n",
    "#         # q = diffops.div(p_grad, ix)\n",
    "\n",
    "#     # collect\n",
    "#     truths.append(iy.detach().cpu())\n",
    "#     coords.append(ix.detach().cpu())\n",
    "#     preds.append(p_pred.detach().cpu())\n",
    "#     grads.append(p_grad.detach().cpu())\n",
    "#     qs.append(q.detach().cpu())"
   ]
  },
  {
   "cell_type": "code",
   "execution_count": null,
   "id": "f41860c7-d962-4068-b62c-74404b92dd18",
   "metadata": {},
   "outputs": [],
   "source": [
    "learn.model.eval()\n",
    "coords, truths, preds, grads, qs = [], [], [], [], []\n",
    "for ix, iy in tqdm(dm.predict_dataloader()):\n",
    "    with torch.set_grad_enabled(True):\n",
    "        # prediction\n",
    "        ix = torch.autograd.Variable(ix.clone(), requires_grad=True)\n",
    "        p_pred = learn.model(ix)\n",
    "\n",
    "        # p_pred = p_pred.clone()\n",
    "        # p_pred.require_grad_ = True\n",
    "\n",
    "        # gradient\n",
    "        p_grad = diffops_simp.gradient(p_pred, ix)\n",
    "        # p_grad = diffops.grad(p_pred, ix)\n",
    "        # q\n",
    "        q = diffops_simp.divergence(p_grad, ix, (0, 1))\n",
    "        # q = diffops_simp.laplace(p_pred, ix)\n",
    "        # q = diffops.div(p_grad, ix)\n",
    "\n",
    "    # collect\n",
    "    truths.append(iy.detach().cpu())\n",
    "    coords.append(ix.detach().cpu())\n",
    "    preds.append(p_pred.detach().cpu())\n",
    "    grads.append(p_grad.detach().cpu())\n",
    "    qs.append(q.detach().cpu())"
   ]
  },
  {
   "cell_type": "code",
   "execution_count": null,
   "id": "5f6e4aae-57de-46b1-ab95-aaba01dc798c",
   "metadata": {},
   "outputs": [],
   "source": [
    "coords = torch.cat(coords).numpy()\n",
    "preds = torch.cat(preds).numpy()\n",
    "truths = torch.cat(truths).numpy()\n",
    "grads = torch.cat(grads).numpy()\n",
    "qs = torch.cat(qs).numpy()"
   ]
  },
  {
   "cell_type": "code",
   "execution_count": null,
   "id": "68314fd9-4d21-44d7-8d4e-ccab8243a4ff",
   "metadata": {},
   "outputs": [],
   "source": [
    "df_data = dm.create_predictions_df()\n",
    "\n",
    "np.testing.assert_array_almost_equal(coords, df_data[[\"Nx\", \"Ny\", \"steps\"]])\n",
    "np.testing.assert_array_almost_equal(truths, df_data[[\"p\"]])"
   ]
  },
  {
   "cell_type": "code",
   "execution_count": null,
   "id": "e87471d4-55cc-4d97-a174-d063f19c818d",
   "metadata": {},
   "outputs": [],
   "source": [
    "df_data[\"p_pred\"] = preds\n",
    "df_data[\"u_pred\"] = -grads[:, 0]\n",
    "df_data[\"v_pred\"] = grads[:, 1]\n",
    "df_data[\"q_pred\"] = qs\n",
    "\n",
    "xr_data = df_data.set_index([\"Nx\", \"Ny\", \"steps\"]).to_xarray()"
   ]
  },
  {
   "cell_type": "markdown",
   "id": "2c07d577-c1dc-4e4a-bf74-3fcf4238671c",
   "metadata": {},
   "source": [
    "### Figure I: Stream Function"
   ]
  },
  {
   "cell_type": "code",
   "execution_count": null,
   "id": "371074d9-6e15-4cc8-9a34-d5df99116f31",
   "metadata": {},
   "outputs": [],
   "source": [
    "xr_data.p_pred.thin(steps=1).plot.imshow(\n",
    "    col=\"steps\",\n",
    "    robust=True,\n",
    "    col_wrap=3,\n",
    "    cmap=\"viridis\",\n",
    ")\n",
    "\n",
    "xr_data.p.thin(steps=1).plot.imshow(\n",
    "    col=\"steps\",\n",
    "    robust=True,\n",
    "    col_wrap=3,\n",
    "    cmap=\"viridis\",\n",
    ")\n",
    "np.abs(xr_data.p_pred - xr_data.p).thin(steps=1).plot.imshow(\n",
    "    col=\"steps\",\n",
    "    robust=True,\n",
    "    col_wrap=3,\n",
    "    cmap=\"Reds\",\n",
    ")"
   ]
  },
  {
   "cell_type": "code",
   "execution_count": null,
   "id": "716c20d6-d0f9-413e-8d11-00f35fae2a1d",
   "metadata": {},
   "outputs": [],
   "source": [
    "# ds_pred.pred.hvplot.image(x=\"Nx\", y=\"Ny\", width=500, height=400, cmap=\"viridis\")"
   ]
  },
  {
   "cell_type": "markdown",
   "id": "cb2f6335-81a6-4ceb-949b-2662225e8a7b",
   "metadata": {},
   "source": [
    "### Figure II: PV"
   ]
  },
  {
   "cell_type": "code",
   "execution_count": null,
   "id": "ccdb20ec-9944-4fb2-b531-ebe0f1277dd7",
   "metadata": {},
   "outputs": [],
   "source": [
    "xr_data.q_pred.thin(steps=1).plot.imshow(\n",
    "    col=\"steps\",\n",
    "    robust=True,\n",
    "    col_wrap=3,\n",
    "    cmap=\"viridis\",\n",
    ")\n",
    "\n",
    "xr_data.q.thin(steps=1).plot.imshow(\n",
    "    col=\"steps\",\n",
    "    robust=True,\n",
    "    col_wrap=3,\n",
    "    cmap=\"viridis\",\n",
    ")\n",
    "np.abs(xr_data.q_pred - xr_data.q).thin(steps=1).plot.imshow(\n",
    "    col=\"steps\",\n",
    "    robust=True,\n",
    "    col_wrap=3,\n",
    "    cmap=\"viridis\",\n",
    ")"
   ]
  },
  {
   "cell_type": "code",
   "execution_count": null,
   "id": "b98ef878-2f4f-4f9e-9249-049b5ac27a4f",
   "metadata": {},
   "outputs": [],
   "source": [
    "# ds_pred.true.hvplot.image(x=\"Nx\", y=\"Ny\", width=500, height=400, cmap=\"viridis\")"
   ]
  },
  {
   "cell_type": "markdown",
   "id": "0887d598-dcc4-4691-a187-f8f334f120f8",
   "metadata": {},
   "source": [
    "### Figure III: U Velocity"
   ]
  },
  {
   "cell_type": "code",
   "execution_count": null,
   "id": "6dc5262c-2b6e-44e2-a5eb-a49d58ddcf59",
   "metadata": {},
   "outputs": [],
   "source": [
    "xr_data.u_pred.thin(steps=1).plot.imshow(\n",
    "    col=\"steps\",\n",
    "    robust=True,\n",
    "    col_wrap=3,\n",
    "    cmap=\"viridis\",\n",
    ")\n",
    "\n",
    "xr_data.u.thin(steps=1).plot.imshow(\n",
    "    col=\"steps\",\n",
    "    robust=True,\n",
    "    col_wrap=3,\n",
    "    cmap=\"viridis\",\n",
    ")\n",
    "np.abs(xr_data.u_pred - xr_data.u).thin(steps=1).plot.imshow(\n",
    "    col=\"steps\",\n",
    "    robust=True,\n",
    "    col_wrap=3,\n",
    "    cmap=\"Reds\",\n",
    ")"
   ]
  },
  {
   "cell_type": "code",
   "execution_count": null,
   "id": "50f73aa0-204b-40b3-9afc-c74803dff47e",
   "metadata": {},
   "outputs": [],
   "source": [
    "# (ds_pred.true - ds_pred.pred).hvplot.image(\n",
    "#     x=\"Nx\", y=\"Ny\", width=500, height=400, cmap=\"viridis\"\n",
    "# )"
   ]
  },
  {
   "cell_type": "markdown",
   "id": "b34fb3dd-a23b-49fb-9acf-04f79a5c3fce",
   "metadata": {},
   "source": [
    "### Figure IV: V Velocity"
   ]
  },
  {
   "cell_type": "code",
   "execution_count": null,
   "id": "d033600e-86c6-4a40-8717-6a79a7c2c6c8",
   "metadata": {},
   "outputs": [],
   "source": [
    "xr_data.v_pred.thin(steps=1).plot.imshow(\n",
    "    col=\"steps\",\n",
    "    robust=True,\n",
    "    col_wrap=3,\n",
    "    cmap=\"viridis\",\n",
    ")\n",
    "\n",
    "xr_data.v.thin(steps=1).plot.imshow(\n",
    "    col=\"steps\",\n",
    "    robust=True,\n",
    "    col_wrap=3,\n",
    "    cmap=\"viridis\",\n",
    ")\n",
    "np.abs(xr_data.v_pred - xr_data.v).thin(steps=1).plot.imshow(\n",
    "    col=\"steps\",\n",
    "    robust=True,\n",
    "    col_wrap=3,\n",
    "    cmap=\"Reds\",\n",
    ")"
   ]
  },
  {
   "cell_type": "markdown",
   "id": "ad86784f-393b-40d3-9663-8fc9ba792b36",
   "metadata": {},
   "source": [
    "## QG PDE Regularization"
   ]
  },
  {
   "cell_type": "code",
   "execution_count": null,
   "id": "2d4da335-ff8c-4b64-a061-58f320e07418",
   "metadata": {},
   "outputs": [],
   "source": [
    "class RegQG(nn.Module):\n",
    "    \"\"\"QG Regularization Loss\n",
    "\n",
    "    Parameters\n",
    "    ----------\n",
    "    alpha: float\n",
    "        the weight for the loss to regularize\n",
    "        default=1e-4\n",
    "    \"\"\"\n",
    "\n",
    "    def __init__(self, alpha: float = 1e-4, trainable=False):\n",
    "        super().__init__()\n",
    "\n",
    "        alpha = torch.Tensor([alpha])\n",
    "\n",
    "        if trainable:\n",
    "            self.alpha = nn.Parameter(alpha, requires_grad=True)\n",
    "        else:\n",
    "            self.register_buffer(\"alpha\", alpha)\n",
    "\n",
    "    def forward(self, x, f):\n",
    "        \"\"\"The forward operation to compute the loss.\n",
    "\n",
    "        Parameters\n",
    "        ----------\n",
    "        x: torch.Tensor, [Batch, Dims]\n",
    "            the input tensor where the dims are [Dx,Dy,Dt]\n",
    "        f: Callable[[torch.Tensor], torch.Tensor]\n",
    "            the function that takes the coordinates and outputs a\n",
    "            scalar value\n",
    "\n",
    "        Returns\n",
    "        -------\n",
    "        loss: torch.Tensor, [Batch,]\"\"\"\n",
    "        with torch.set_grad_enabled(True):\n",
    "            x = torch.autograd.Variable(x, requires_grad=True)\n",
    "\n",
    "            u = f(x)\n",
    "\n",
    "            # 𝛁𝑢\n",
    "            u_grad = diffops_simp.gradient(u, x)\n",
    "            u_x, u_y, u_t = torch.split(u_grad, [1, 1, 1], dim=1)\n",
    "\n",
    "            # div𝛁𝑢 = ∂𝑥𝛁𝑢 + ∂𝑦𝛁𝑢 = △𝑢\n",
    "            u_lap = diffops_simp.divergence(u_grad, x, [0, 1])\n",
    "\n",
    "            # 𝛁△𝑢\n",
    "            u_lap_x, u_lap_y, u_lap_t = torch.split(\n",
    "                diffops_simp.gradient(u_lap, x), [1, 1, 1], dim=1\n",
    "            )\n",
    "\n",
    "            # det𝑱(𝐮,△𝐮) = ∂𝑥𝐮∂𝑦△𝐮 − ∂𝑦𝐮∂𝑥△𝐮\n",
    "            det_u_ulap = u_x * u_lap_y - u_y * u_lap_x\n",
    "\n",
    "            # ∂𝑡△𝐮 + det𝑱(𝐮,△𝐮) = 0\n",
    "            pde_loss = F.mse_loss(u_lap_t + det_u_ulap, torch.zeros_like(det_u_ulap))\n",
    "\n",
    "            return self.alpha * pde_loss"
   ]
  },
  {
   "cell_type": "code",
   "execution_count": null,
   "id": "c56070e0-f798-4e6e-95e6-3f34cf750b30",
   "metadata": {},
   "outputs": [],
   "source": [
    "dim_in = x_init.shape[1]\n",
    "dim_hidden = 256\n",
    "dim_out = y_init.shape[1]\n",
    "num_layers = 4\n",
    "w0 = 1.0\n",
    "w0_initial = 30.0\n",
    "c = 6.0\n",
    "final_activation = None  # nn.Sigmoid()\n",
    "\n",
    "net = SirenNet(\n",
    "    dim_in=dim_in,\n",
    "    dim_hidden=dim_hidden,\n",
    "    dim_out=dim_out,\n",
    "    num_layers=num_layers,\n",
    "    w0=w0,\n",
    "    w0_initial=w0_initial,\n",
    "    c=c,\n",
    "    final_activation=final_activation,\n",
    ")"
   ]
  },
  {
   "cell_type": "code",
   "execution_count": null,
   "id": "ce7fb888-2fb7-4884-a429-dd48d6ee0997",
   "metadata": {},
   "outputs": [],
   "source": [
    "data_loss = nn.MSELoss(reduction=cfg.loss.reduction)\n",
    "\n",
    "reg_loss = RegQG(cfg.loss.alpha)"
   ]
  },
  {
   "cell_type": "code",
   "execution_count": null,
   "id": "bb037e39-6341-4ed7-8bb5-d96818b74e49",
   "metadata": {},
   "outputs": [],
   "source": [
    "learn_qg = INRModel(\n",
    "    model=copy.deepcopy(learn.model),\n",
    "    # model=net,\n",
    "    loss_data=data_loss,\n",
    "    reg_pde=reg_loss,\n",
    "    learning_rate=cfg.optim_qg.learning_rate,\n",
    "    warmup=cfg.optim_qg.warmup,\n",
    "    warmup_start_lr=cfg.optim_qg.warmup_start_lr,\n",
    "    eta_min=cfg.optim_qg.eta_min,\n",
    "    num_epochs=cfg.optim.num_epochs,\n",
    "    alpha=cfg.loss.alpha,\n",
    "    qg=True,\n",
    ")"
   ]
  },
  {
   "cell_type": "code",
   "execution_count": null,
   "id": "9d7a37cf-3af0-4b65-af95-fc12d5ce10cb",
   "metadata": {},
   "outputs": [],
   "source": [
    "model_cb = ModelCheckpoint(\n",
    "    dirpath=str(Path(wandb_logger.experiment.dir).joinpath(\"checkpoints_qg\")),\n",
    "    monitor=\"val_loss\",\n",
    "    mode=\"min\",\n",
    "    save_top_k=1,\n",
    ")\n",
    "\n",
    "callbacks = [model_cb, TQDMProgressBar(refresh_rate=10)]"
   ]
  },
  {
   "cell_type": "code",
   "execution_count": null,
   "id": "c59a1a31-f3e5-4ea2-b8a0-83345a43b4bb",
   "metadata": {},
   "outputs": [],
   "source": [
    "trainer = Trainer(\n",
    "    min_epochs=1,\n",
    "    max_epochs=cfg.optim_qg.num_epochs,\n",
    "    accelerator=cfg.trainer_qg.accelerator,\n",
    "    devices=cfg.trainer_qg.devices,\n",
    "    enable_progress_bar=True,\n",
    "    logger=wandb_logger,\n",
    "    callbacks=callbacks,\n",
    "    accumulate_grad_batches=cfg.trainer.grad_batches,\n",
    ")"
   ]
  },
  {
   "cell_type": "code",
   "execution_count": null,
   "id": "18dd3e43-162b-4925-ae03-01b2b2600aa4",
   "metadata": {},
   "outputs": [],
   "source": [
    "trainer.fit(\n",
    "    learn_qg,\n",
    "    datamodule=dm,\n",
    ")"
   ]
  },
  {
   "cell_type": "code",
   "execution_count": null,
   "id": "b472c1fb-8378-4441-8fdb-233093447a0e",
   "metadata": {},
   "outputs": [],
   "source": []
  },
  {
   "cell_type": "code",
   "execution_count": null,
   "id": "d38f4377-2721-4e49-a031-7055db13df57",
   "metadata": {},
   "outputs": [],
   "source": [
    "# t0 = time.time()\n",
    "predictions = trainer.predict(learn_qg, datamodule=dm, return_predictions=True)\n",
    "predictions = torch.cat(predictions)\n",
    "# t1 = time.time() - t0"
   ]
  },
  {
   "cell_type": "code",
   "execution_count": null,
   "id": "cf46e342-344b-4039-82dd-ae367bc2b8cf",
   "metadata": {},
   "outputs": [],
   "source": [
    "ds_pred = dm.create_predictions_ds(predictions)"
   ]
  },
  {
   "cell_type": "code",
   "execution_count": null,
   "id": "49119196-5659-4e74-aeb3-077cd202197e",
   "metadata": {},
   "outputs": [],
   "source": []
  },
  {
   "cell_type": "code",
   "execution_count": null,
   "id": "1e89f145-16c2-4352-9e4d-ed7a29dd1de7",
   "metadata": {},
   "outputs": [],
   "source": [
    "# ds_pred = dm.create_predictions_ds(predictions)\n",
    "# ds_pred"
   ]
  },
  {
   "cell_type": "code",
   "execution_count": null,
   "id": "5a0e1f9f-fd0d-4f17-a91d-3429ac0b2b9c",
   "metadata": {},
   "outputs": [],
   "source": []
  },
  {
   "cell_type": "markdown",
   "id": "ae60f255-3d02-42e9-8e27-8aa1871fe39a",
   "metadata": {},
   "source": [
    "The full QG equation is given by:\n",
    "\n",
    "$$\n",
    "\\begin{aligned}\n",
    "\\partial_t q + \\det \\boldsymbol{J}(q, \\psi) &= 0\n",
    "\\end{aligned}\n",
    "$$\n",
    "\n",
    "where:\n",
    "\n",
    "* $q=\\nabla^2 \\psi$\n",
    "* $\\det \\boldsymbol{J}(q, \\psi)=\\partial_x q\\partial_y\\psi - \\partial_y q\\partial_x\\psi$."
   ]
  },
  {
   "cell_type": "code",
   "execution_count": null,
   "id": "efaa6024-8ea4-4f4c-a4fa-8c0b9f829c02",
   "metadata": {},
   "outputs": [],
   "source": [
    "# learn.model.eval()\n",
    "# coords, truths, preds, grads, qs = [], [], [], [], []\n",
    "# for ix, iy in tqdm(dm.predict_dataloader()):\n",
    "#     with torch.set_grad_enabled(True):\n",
    "#         # prediction\n",
    "#         ix = torch.autograd.Variable(ix.clone(), requires_grad=True)\n",
    "#         p_pred = learn.model(ix)\n",
    "\n",
    "#         # p_pred = p_pred.clone()\n",
    "#         # p_pred.require_grad_ = True\n",
    "\n",
    "#         # gradient\n",
    "#         p_grad = diffops_simp.gradient(p_pred, ix)\n",
    "#         # p_grad = diffops.grad(p_pred, ix)\n",
    "#         # q\n",
    "#         q = diffops_simp.divergence(p_grad, ix)\n",
    "#         # q = diffops.div(p_grad, ix)\n",
    "\n",
    "#     # collect\n",
    "#     truths.append(iy.detach().cpu())\n",
    "#     coords.append(ix.detach().cpu())\n",
    "#     preds.append(p_pred.detach().cpu())\n",
    "#     grads.append(p_grad.detach().cpu())\n",
    "#     qs.append(q.detach().cpu())"
   ]
  },
  {
   "cell_type": "code",
   "execution_count": null,
   "id": "775e92dc-eb4b-497a-9bd5-5df87205877d",
   "metadata": {},
   "outputs": [],
   "source": [
    "dm.ds_train[:][0].min(axis=0), dm.ds_train[:][0].max(axis=0)"
   ]
  },
  {
   "cell_type": "code",
   "execution_count": null,
   "id": "fcdb8921-a387-4475-b7db-c90aea2ebe47",
   "metadata": {},
   "outputs": [],
   "source": [
    "learn_qg.model.eval()\n",
    "coords, truths, preds, grads, qs = [], [], [], [], []\n",
    "for ix, iy in tqdm(dm.predict_dataloader()):\n",
    "    with torch.set_grad_enabled(True):\n",
    "        # prediction\n",
    "        ix = torch.autograd.Variable(ix.clone(), requires_grad=True)\n",
    "        p_pred = learn_qg.model(ix)\n",
    "\n",
    "        # p_pred = p_pred.clone()\n",
    "        # p_pred.require_grad_ = True\n",
    "\n",
    "        # gradient\n",
    "        p_grad = diffops_simp.gradient(p_pred, ix)\n",
    "        # p_grad = diffops.grad(p_pred, ix)\n",
    "        # q\n",
    "        q = diffops_simp.divergence(p_grad, ix, (0, 1))\n",
    "        # q = diffops_simp.laplace(p_pred, ix[:,:2])\n",
    "        # q = diffops.div(p_grad, ix)\n",
    "\n",
    "    # collect\n",
    "    truths.append(iy.detach().cpu())\n",
    "    coords.append(ix.detach().cpu())\n",
    "    preds.append(p_pred.detach().cpu())\n",
    "    grads.append(p_grad.detach().cpu())\n",
    "    qs.append(q.detach().cpu())"
   ]
  },
  {
   "cell_type": "code",
   "execution_count": null,
   "id": "a976bb46-e1cc-4e14-b5da-9e277720d296",
   "metadata": {},
   "outputs": [],
   "source": [
    "coords = torch.cat(coords).numpy()\n",
    "preds = torch.cat(preds).numpy()\n",
    "truths = torch.cat(truths).numpy()\n",
    "grads = torch.cat(grads).numpy()\n",
    "qs = torch.cat(qs).numpy()"
   ]
  },
  {
   "cell_type": "code",
   "execution_count": null,
   "id": "21adb831-424a-48e5-b3c1-d8581b646ee0",
   "metadata": {},
   "outputs": [],
   "source": [
    "df_data = dm.create_predictions_df()\n",
    "\n",
    "# np.testing.assert_array_almost_equal(coords, df_data[[\"Nx\", \"Ny\", \"steps\"]])\n",
    "# np.testing.assert_array_almost_equal(truths, df_data[[\"p\"]])"
   ]
  },
  {
   "cell_type": "code",
   "execution_count": null,
   "id": "50613fe4-d236-4d38-8cbc-0cb511fd090b",
   "metadata": {},
   "outputs": [],
   "source": [
    "df_data[\"p_pred_qg\"] = preds\n",
    "df_data[\"u_pred_qg\"] = -grads[:, 0]\n",
    "df_data[\"v_pred_qg\"] = grads[:, 1]\n",
    "df_data[\"q_pred_qg\"] = qs\n",
    "\n",
    "xr_data = df_data.set_index([\"Nx\", \"Ny\", \"steps\"]).to_xarray()"
   ]
  },
  {
   "cell_type": "markdown",
   "id": "5ff49c72-57ac-4a29-b9b6-3b7ce2f48c26",
   "metadata": {},
   "source": [
    "### Figure I: Stream Function"
   ]
  },
  {
   "cell_type": "code",
   "execution_count": null,
   "id": "983f603d-744b-43a8-84df-6f2a8c6a806f",
   "metadata": {},
   "outputs": [],
   "source": [
    "# xr_data.p_pred.thin(steps=1).plot.imshow(\n",
    "#     col=\"steps\",\n",
    "#     robust=True,\n",
    "#     col_wrap=3,\n",
    "#     cmap=\"viridis\",\n",
    "# )\n",
    "\n",
    "xr_data.p_pred_qg.thin(steps=1).plot.imshow(\n",
    "    col=\"steps\",\n",
    "    robust=True,\n",
    "    col_wrap=3,\n",
    "    cmap=\"viridis\",\n",
    ")\n",
    "\n",
    "xr_data.p.thin(steps=1).plot.imshow(\n",
    "    col=\"steps\",\n",
    "    robust=True,\n",
    "    col_wrap=3,\n",
    "    cmap=\"viridis\",\n",
    ")\n",
    "np.abs(xr_data.p_pred_qg - xr_data.p).thin(steps=1).plot.imshow(\n",
    "    col=\"steps\",\n",
    "    robust=True,\n",
    "    col_wrap=3,\n",
    "    cmap=\"Reds\",\n",
    ")"
   ]
  },
  {
   "cell_type": "code",
   "execution_count": null,
   "id": "744c59ab-e0fa-47bd-8aa3-51eebf0f460a",
   "metadata": {},
   "outputs": [],
   "source": [
    "# ds_pred.pred.hvplot.image(x=\"Nx\", y=\"Ny\", width=500, height=400, cmap=\"viridis\")"
   ]
  },
  {
   "cell_type": "markdown",
   "id": "58da6381-b153-44c7-a252-8865d6703ba9",
   "metadata": {},
   "source": [
    "### Figure II: PV"
   ]
  },
  {
   "cell_type": "code",
   "execution_count": null,
   "id": "4fa37cc2-978b-4e98-a07c-e2db2a17a5de",
   "metadata": {},
   "outputs": [],
   "source": [
    "# xr_data.q_pred.thin(steps=1).plot.imshow(\n",
    "#     col=\"steps\",\n",
    "#     robust=True,\n",
    "#     col_wrap=3,\n",
    "#     cmap=\"viridis\",\n",
    "# )\n",
    "\n",
    "xr_data.q_pred_qg.thin(steps=1).plot.imshow(\n",
    "    col=\"steps\",\n",
    "    robust=True,\n",
    "    col_wrap=3,\n",
    "    cmap=\"viridis\",\n",
    ")\n",
    "\n",
    "xr_data.q.thin(steps=1).plot.imshow(\n",
    "    col=\"steps\",\n",
    "    robust=True,\n",
    "    col_wrap=3,\n",
    "    cmap=\"viridis\",\n",
    ")\n",
    "np.abs(xr_data.q_pred_qg - xr_data.q).thin(steps=1).plot.imshow(\n",
    "    col=\"steps\",\n",
    "    robust=True,\n",
    "    col_wrap=3,\n",
    "    cmap=\"viridis\",\n",
    ")"
   ]
  },
  {
   "cell_type": "code",
   "execution_count": null,
   "id": "0c081368-1a01-43d0-82a3-60f3337169a2",
   "metadata": {},
   "outputs": [],
   "source": [
    "# ds_pred.true.hvplot.image(x=\"Nx\", y=\"Ny\", width=500, height=400, cmap=\"viridis\")"
   ]
  },
  {
   "cell_type": "markdown",
   "id": "0694baa9-697c-4bef-a6f0-86dd76d5dbb9",
   "metadata": {},
   "source": [
    "### Figure III: U Velocity"
   ]
  },
  {
   "cell_type": "code",
   "execution_count": null,
   "id": "e503fa31-7e85-4b6e-89c2-43332b1fad68",
   "metadata": {},
   "outputs": [],
   "source": [
    "# xr_data.u_pred.thin(steps=1).plot.imshow(\n",
    "#     col=\"steps\",\n",
    "#     robust=True,\n",
    "#     col_wrap=3,\n",
    "#     cmap=\"viridis\",\n",
    "# )\n",
    "\n",
    "xr_data.u_pred_qg.thin(steps=1).plot.imshow(\n",
    "    col=\"steps\",\n",
    "    robust=True,\n",
    "    col_wrap=3,\n",
    "    cmap=\"viridis\",\n",
    ")\n",
    "\n",
    "xr_data.u.thin(steps=1).plot.imshow(\n",
    "    col=\"steps\",\n",
    "    robust=True,\n",
    "    col_wrap=3,\n",
    "    cmap=\"viridis\",\n",
    ")\n",
    "np.abs(xr_data.u_pred_qg - xr_data.u).thin(steps=1).plot.imshow(\n",
    "    col=\"steps\",\n",
    "    robust=True,\n",
    "    col_wrap=3,\n",
    "    cmap=\"Reds\",\n",
    ")"
   ]
  },
  {
   "cell_type": "code",
   "execution_count": null,
   "id": "68796e59-853a-45e1-8e45-cbc93840559f",
   "metadata": {},
   "outputs": [],
   "source": [
    "# (ds_pred.true - ds_pred.pred).hvplot.image(\n",
    "#     x=\"Nx\", y=\"Ny\", width=500, height=400, cmap=\"viridis\"\n",
    "# )"
   ]
  },
  {
   "cell_type": "markdown",
   "id": "b04e6b7d-94e9-4e12-8f20-1a28d9f04fa8",
   "metadata": {},
   "source": [
    "### Figure IV: V Velocity"
   ]
  },
  {
   "cell_type": "code",
   "execution_count": null,
   "id": "aa1d08f5-726e-48d2-a4f2-e26334692e37",
   "metadata": {},
   "outputs": [],
   "source": [
    "# xr_data.v_pred.thin(steps=1).plot.imshow(\n",
    "#     col=\"steps\",\n",
    "#     robust=True,\n",
    "#     col_wrap=3,\n",
    "#     cmap=\"viridis\",\n",
    "# )\n",
    "\n",
    "xr_data.v_pred_qg.thin(steps=1).plot.imshow(\n",
    "    col=\"steps\",\n",
    "    robust=True,\n",
    "    col_wrap=3,\n",
    "    cmap=\"viridis\",\n",
    ")\n",
    "\n",
    "xr_data.v.thin(steps=1).plot.imshow(\n",
    "    col=\"steps\",\n",
    "    robust=True,\n",
    "    col_wrap=3,\n",
    "    cmap=\"viridis\",\n",
    ")\n",
    "np.abs(xr_data.v_pred_qg - xr_data.v).thin(steps=1).plot.imshow(\n",
    "    col=\"steps\",\n",
    "    robust=True,\n",
    "    col_wrap=3,\n",
    "    cmap=\"Reds\",\n",
    ")"
   ]
  },
  {
   "cell_type": "code",
   "execution_count": null,
   "id": "02eb06cb-ac70-4d9f-8cd8-b91ed9728480",
   "metadata": {},
   "outputs": [],
   "source": [
    "class RegQG(nn.Module):\n",
    "    \"\"\"QG Regularization Loss\n",
    "\n",
    "    Parameters\n",
    "    ----------\n",
    "    alpha: float\n",
    "        the weight for the loss to regularize\n",
    "        default=1e-4\n",
    "    \"\"\"\n",
    "\n",
    "    def __init__(self, alpha: float = 1e-4, trainable=False):\n",
    "        super().__init__()\n",
    "\n",
    "        alpha = torch.Tensor([alpha])\n",
    "\n",
    "        if trainable:\n",
    "            self.alpha = nn.Parameter(alpha, requires_grad=True)\n",
    "        else:\n",
    "            self.register_buffer(\"alpha\", alpha)\n",
    "\n",
    "    def forward(self, x, f):\n",
    "        \"\"\"The forward operation to compute the loss.\n",
    "\n",
    "        Parameters\n",
    "        ----------\n",
    "        x: torch.Tensor, [Batch, Dims]\n",
    "            the input tensor where the dims are [Dx,Dy,Dt]\n",
    "        f: Callable[[torch.Tensor], torch.Tensor]\n",
    "            the function that takes the coordinates and outputs a\n",
    "            scalar value\n",
    "\n",
    "        Returns\n",
    "        -------\n",
    "        loss: torch.Tensor, [Batch,]\"\"\"\n",
    "        with torch.set_grad_enabled(True):\n",
    "            x = torch.autograd.Variable(x, requires_grad=True)\n",
    "\n",
    "            u = f(x)\n",
    "\n",
    "            # 𝛁𝑢\n",
    "            u_grad = diffops_simp.gradient(u, x)\n",
    "            u_x, u_y, u_t = torch.split(u_grad, [1, 1, 1], dim=1)\n",
    "\n",
    "            # div𝛁𝑢 = ∂𝑥𝛁𝑢 + ∂𝑦𝛁𝑢 = △𝑢\n",
    "            u_lap = diffops_simp.divergence(u_grad, x, [0, 1])\n",
    "\n",
    "            # 𝛁△𝑢\n",
    "            u_lap_x, u_lap_y, u_lap_t = torch.split(\n",
    "                diffops_simp.gradient(u_lap, x), [1, 1, 1], dim=1\n",
    "            )\n",
    "\n",
    "            # det𝑱(𝐮,△𝐮) = ∂𝑥𝐮∂𝑦△𝐮 − ∂𝑦𝐮∂𝑥△𝐮\n",
    "            det_u_ulap = u_x * u_lap_y - u_y * u_lap_x\n",
    "\n",
    "            # ∂𝑡△𝐮 + det𝑱(𝐮,△𝐮) = 0\n",
    "            pde_loss = F.mse_loss(u_lap_t + det_u_ulap, torch.zeros_like(det_u_ulap))\n",
    "\n",
    "            return self.alpha * pde_loss"
   ]
  },
  {
   "cell_type": "markdown",
   "id": "b52e6df2-6949-49a7-8450-6e205530394b",
   "metadata": {},
   "source": [
    "$$\n",
    "\\begin{aligned}\n",
    "\\boldsymbol{\\nabla}u &= \\\\\n",
    "\\text{div}\\boldsymbol{\\nabla}u &= \\partial_x \\boldsymbol{\\nabla}u + \\partial_y \\boldsymbol{\\nabla}u = \\boldsymbol{\\triangle}u \\\\\n",
    "\\boldsymbol{\\nabla} \\boldsymbol{\\triangle}u \\\\\n",
    "\\det\\boldsymbol{J}(\\mathbf{u},\\boldsymbol{\\triangle}\\mathbf{u}) &= \n",
    "\\partial_x \\mathbf{u}\\partial_y\\boldsymbol{\\triangle}\\mathbf{u} - \n",
    "\\partial_y \\mathbf{u}\\partial_x\\boldsymbol{\\triangle}\\mathbf{u}\\\\\n",
    "\\partial_t\\boldsymbol{\\triangle}\\mathbf{u} + \\det\\boldsymbol{J}(\\mathbf{u},\\boldsymbol{\\triangle}\\mathbf{u}) &= 0\n",
    "\\end{aligned}\n",
    "$$"
   ]
  },
  {
   "cell_type": "code",
   "execution_count": null,
   "id": "bab776e3-d1eb-4b4d-86dd-b3743afdbb42",
   "metadata": {},
   "outputs": [],
   "source": []
  }
 ],
 "metadata": {
  "kernelspec": {
   "display_name": "Python [conda env:torch_py39]",
   "language": "python",
   "name": "conda-env-torch_py39-py"
  },
  "language_info": {
   "codemirror_mode": {
    "name": "ipython",
    "version": 3
   },
   "file_extension": ".py",
   "mimetype": "text/x-python",
   "name": "python",
   "nbconvert_exporter": "python",
   "pygments_lexer": "ipython3",
   "version": "3.9.13"
  }
 },
 "nbformat": 4,
 "nbformat_minor": 5
}
