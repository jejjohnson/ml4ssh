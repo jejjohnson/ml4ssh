{
 "cells": [
  {
   "cell_type": "markdown",
   "id": "2ebb4354-26f9-404d-8406-a172a2952143",
   "metadata": {},
   "source": [
    "# Tips n Tricks"
   ]
  },
  {
   "cell_type": "code",
   "execution_count": null,
   "id": "ab91f6a3-282c-4d5f-99d9-ccdc70656a50",
   "metadata": {},
   "outputs": [],
   "source": []
  },
  {
   "cell_type": "markdown",
   "id": "2853b1d3-633e-4a5b-aa87-bbded5d66e33",
   "metadata": {},
   "source": [
    "## Training"
   ]
  },
  {
   "cell_type": "code",
   "execution_count": null,
   "id": "900095c5-08dc-425e-b841-5e44d6c826c0",
   "metadata": {},
   "outputs": [],
   "source": [
    "import torch\n",
    "from tqdm.notebook import trange\n",
    "import matplotlib.pyplot as plt\n",
    "import seaborn as sns\n",
    "\n",
    "sns.reset_defaults()\n",
    "sns.set_context(context=\"talk\", font_scale=0.7)\n",
    "\n",
    "%matplotlib inline"
   ]
  },
  {
   "cell_type": "markdown",
   "id": "b44ccbcb-2ce7-4421-a17d-ce15d9180cf0",
   "metadata": {},
   "source": [
    "### Learning Rate"
   ]
  },
  {
   "cell_type": "markdown",
   "id": "a33b0c44-5481-4b38-ac2b-524ed420a4ed",
   "metadata": {},
   "source": [
    "#### Cosine Annealing"
   ]
  },
  {
   "cell_type": "code",
   "execution_count": null,
   "id": "1d223063-0235-4b00-b1c9-be7cec6e2a81",
   "metadata": {},
   "outputs": [],
   "source": [
    "num_epochs = 300\n",
    "\n",
    "model = torch.nn.Linear(2, 1)\n",
    "optimizer = torch.optim.Adam(model.parameters(), lr=10)\n",
    "\n",
    "# Cosine Annealing\n",
    "schedulers = {}\n",
    "schedulers[\"cosneal\"] = [\n",
    "    optimizer,\n",
    "    torch.optim.lr_scheduler.CosineAnnealingLR(optimizer, T_max=num_epochs, eta_min=0),\n",
    "]\n",
    "\n",
    "# Cosine Annealing with Warmups\n",
    "model2 = torch.nn.Linear(2, 1)\n",
    "optimizer2 = torch.optim.Adam(model.parameters(), lr=10)\n",
    "schedulers[\"cosnealwarm\"] = [\n",
    "    optimizer2,\n",
    "    LinearWarmupCosineAnnealingLR(\n",
    "        optimizer2,\n",
    "        warmup_epochs=10,\n",
    "        max_epochs=num_epochs,\n",
    "    ),\n",
    "]\n",
    "\n",
    "# One Cycle\n",
    "model3 = torch.nn.Linear(2, 1)\n",
    "optimizer3 = torch.optim.Adam(model.parameters(), lr=10)\n",
    "schedulers[\"1cycle\"] = [\n",
    "    optimizer3,\n",
    "    torch.optim.lr_scheduler.OneCycleLR(\n",
    "        optimizer3, max_lr=10, epochs=num_epochs, steps_per_epoch=1\n",
    "    ),\n",
    "]\n",
    "\n",
    "\n",
    "# Exponential\n",
    "model4 = torch.nn.Linear(2, 1)\n",
    "optimizer4 = torch.optim.Adam(model.parameters(), lr=10)\n",
    "schedulers[\"exp\"] = [\n",
    "    optimizer4,\n",
    "    torch.optim.lr_scheduler.ExponentialLR(\n",
    "        optimizer4,\n",
    "        gamma=0.95,\n",
    "    ),\n",
    "]"
   ]
  },
  {
   "cell_type": "code",
   "execution_count": null,
   "id": "a7e5f510-760b-4415-b917-1481d9b70727",
   "metadata": {},
   "outputs": [],
   "source": [
    "lrs = {}\n",
    "\n",
    "for imethod, (ioptimizer, ischeduler) in schedulers.items():\n",
    "    lrs[imethod] = list()\n",
    "    for i in trange(num_epochs):\n",
    "        ioptimizer.step()\n",
    "        lrs[imethod].append(ioptimizer.param_groups[0][\"lr\"])\n",
    "        ischeduler.step()"
   ]
  },
  {
   "cell_type": "code",
   "execution_count": null,
   "id": "cf61d28a-ea1b-4233-815b-cfebfe46cdcb",
   "metadata": {},
   "outputs": [],
   "source": [
    "fig, ax = plt.subplots()\n",
    "\n",
    "ax.plot(lrs[\"cosneal\"], label=\"Cosine Annealing\")\n",
    "ax.plot(lrs[\"cosnealwarm\"], label=\"Cosine Annealing + Lin Warmup\")\n",
    "ax.plot(lrs[\"1cycle\"], label=\"OneCycle\")\n",
    "ax.plot(lrs[\"exp\"], label=\"Exponential\")\n",
    "ax.set(xlabel=\"Epoch\", ylabel=\"Learning Rate\")\n",
    "plt.legend(fontsize=12, framealpha=0.2)\n",
    "plt.show()"
   ]
  },
  {
   "cell_type": "markdown",
   "id": "0ca78b33-96ed-4b3c-9ac4-4368c2a1a0ee",
   "metadata": {},
   "source": [
    "#### Cosine Annealing + Linear Warmup"
   ]
  },
  {
   "cell_type": "code",
   "execution_count": null,
   "id": "a6027a5c-4cab-4add-bc5c-169e9880de66",
   "metadata": {},
   "outputs": [],
   "source": [
    "from pl_bolts.optimizers.lr_scheduler import LinearWarmupCosineAnnealingLR"
   ]
  },
  {
   "cell_type": "code",
   "execution_count": null,
   "id": "9dcc910c-6f89-4003-895f-e61ad00cd6d7",
   "metadata": {},
   "outputs": [],
   "source": [
    "scheduler = LinearWarmupCosineAnnealingLR(\n",
    "    optimizer,\n",
    "    warmup_epochs=25,\n",
    "    max_epochs=num_epochs,\n",
    ")"
   ]
  },
  {
   "cell_type": "code",
   "execution_count": null,
   "id": "7b8b0601-62cb-4583-8e66-737d34c473e2",
   "metadata": {},
   "outputs": [],
   "source": [
    "lrs = []\n",
    "\n",
    "for i in trange(num_epochs):\n",
    "    optimizer.step()\n",
    "    lrs.append(optimizer.param_groups[0][\"lr\"])\n",
    "    scheduler.step()\n",
    "\n",
    "\n",
    "fig, ax = plt.subplots()\n",
    "\n",
    "ax.plot(lrs)\n",
    "ax.set(xlabel=\"epochs\", ylabel=\"learning rate\")\n",
    "plt.show()"
   ]
  },
  {
   "cell_type": "code",
   "execution_count": null,
   "id": "75b74419-1c80-4ad9-b294-b39ea4d1ccf6",
   "metadata": {},
   "outputs": [],
   "source": []
  }
 ],
 "metadata": {
  "kernelspec": {
   "display_name": "Python [conda env:torch_py39]",
   "language": "python",
   "name": "conda-env-torch_py39-py"
  },
  "language_info": {
   "codemirror_mode": {
    "name": "ipython",
    "version": 3
   },
   "file_extension": ".py",
   "mimetype": "text/x-python",
   "name": "python",
   "nbconvert_exporter": "python",
   "pygments_lexer": "ipython3",
   "version": "3.9.13"
  }
 },
 "nbformat": 4,
 "nbformat_minor": 5
}
