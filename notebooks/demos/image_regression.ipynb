{
 "cells": [
  {
   "cell_type": "markdown",
   "id": "7c00d4b7-e07e-4405-b643-c4db64f82510",
   "metadata": {
    "pycharm": {
     "name": "#%% md\n"
    }
   },
   "source": [
    "# Deterministic Models\n",
    "\n",
    "* Fourier Feature Networks (FFN)\n",
    "* Siren\n",
    "* Modulated Siren (ModSiren)\n",
    "* Multiplicative Filter Networks (MFN)\n",
    "    * Fourier\n",
    "    * Gabor"
   ]
  },
  {
   "cell_type": "code",
   "execution_count": null,
   "id": "c8a2ee9e-04cc-4c5e-a3eb-4742a7ad7cd1",
   "metadata": {
    "pycharm": {
     "name": "#%%\n"
    }
   },
   "outputs": [],
   "source": [
    "import sys, os\n",
    "from pyprojroot import here\n",
    "\n",
    "# spyder up to find the root\n",
    "root = here(project_files=[\".root\"])\n",
    "\n",
    "# append to path\n",
    "sys.path.append(str(root))"
   ]
  },
  {
   "cell_type": "code",
   "execution_count": null,
   "id": "b43eaf2f-23b0-4937-80a3-21938dc73ed2",
   "metadata": {
    "pycharm": {
     "name": "#%%\n"
    }
   },
   "outputs": [],
   "source": [
    "from typing import Dict, Any, cast\n",
    "import tabulate\n",
    "from IPython.display import display, HTML\n",
    "\n",
    "import numpy as np\n",
    "import pandas as pd\n",
    "import torch\n",
    "import torch.nn.functional as F\n",
    "from torch import nn\n",
    "from torch.optim import Adam\n",
    "from torch.optim.lr_scheduler import ReduceLROnPlateau\n",
    "from torch.nn import ReLU\n",
    "\n",
    "from tqdm.notebook import tqdm as tqdm\n",
    "import os, imageio\n",
    "\n",
    "from inr4ssh._src.models.mlp import MLP\n",
    "from inr4ssh._src.models.activations import Swish\n",
    "from inr4ssh._src.data.images import load_fox\n",
    "\n",
    "# from inr4ssh._src.features import get_image_coordinates\n",
    "from inr4ssh._src.datamodules.images import ImageFox, ImageCameraman\n",
    "\n",
    "import pytorch_lightning as pl\n",
    "from inr4ssh._src.models.image import ImageModel\n",
    "from inr4ssh._src.models.siren import Siren, SirenNet, Modulator, ModulatedSirenNet\n",
    "from inr4ssh._src.models.mfn import FourierNet, GaborNet\n",
    "from inr4ssh._src.models.activations import get_activation\n",
    "\n",
    "import pytorch_lightning as pl\n",
    "from pytorch_lightning import Trainer, seed_everything\n",
    "from pytorch_lightning.callbacks.early_stopping import EarlyStopping\n",
    "from pytorch_lightning.callbacks import TQDMProgressBar\n",
    "from pytorch_lightning.callbacks.model_checkpoint import ModelCheckpoint\n",
    "from pytorch_lightning.utilities.argparse import add_argparse_args\n",
    "from pytorch_lightning.loggers import WandbLogger\n",
    "\n",
    "\n",
    "pl.seed_everything(123)\n",
    "\n",
    "import matplotlib.pyplot as plt\n",
    "import seaborn as sns\n",
    "import wandb\n",
    "\n",
    "sns.reset_defaults()\n",
    "sns.set_context(context=\"talk\", font_scale=0.7)\n",
    "\n",
    "%load_ext autoreload\n",
    "%autoreload 2"
   ]
  },
  {
   "cell_type": "markdown",
   "id": "664d10c6-f915-4f3c-9ee2-a6b4d2fc769e",
   "metadata": {},
   "source": [
    "## Logger"
   ]
  },
  {
   "cell_type": "code",
   "execution_count": null,
   "id": "525c4179-3fae-4a30-978d-f0da657cd897",
   "metadata": {},
   "outputs": [],
   "source": [
    "# wandb_logger = WandbLogger(\n",
    "#     mode=\"online\", #\"offline\",\n",
    "#     project=\"inr4ssh\",\n",
    "#     entity=\"ige\",\n",
    "#     dir=\"/Users/eman/code_projects/logs\",\n",
    "#     resume=False\n",
    "# )"
   ]
  },
  {
   "cell_type": "markdown",
   "id": "3e9c836a-8790-4f6c-b5c2-4af553875648",
   "metadata": {
    "pycharm": {
     "name": "#%% md\n"
    }
   },
   "source": [
    "## Data"
   ]
  },
  {
   "cell_type": "markdown",
   "id": "0a850a1a-760a-45c0-9edb-7380fe7dbe87",
   "metadata": {
    "pycharm": {
     "name": "#%% md\n"
    }
   },
   "source": [
    "The input data is a coordinate vector, $\\mathbf{x}_\\phi$, of the image coordinates.\n",
    "\n",
    "$$\n",
    "\\mathbf{x}_\\phi \\in \\mathbb{R}^{D_\\phi}\n",
    "$$\n",
    "\n",
    "where $D_\\phi = [\\text{x}, \\text{y}]$. So we are interested in learning a function, $\\boldsymbol{f}$, such that we can input a coordinate vector and output a scaler/vector value of the pixel value.\n",
    "\n",
    "$$\n",
    "\\mathbf{u} = \\boldsymbol{f}(\\mathbf{x}_\\phi; \\boldsymbol{\\theta})\n",
    "$$"
   ]
  },
  {
   "cell_type": "code",
   "execution_count": null,
   "id": "e449c421",
   "metadata": {
    "pycharm": {
     "name": "#%%\n"
    }
   },
   "outputs": [],
   "source": [
    "img = load_fox()"
   ]
  },
  {
   "cell_type": "code",
   "execution_count": null,
   "id": "42021a01-2792-45e9-9e94-fc80241499c5",
   "metadata": {
    "pycharm": {
     "name": "#%%\n"
    }
   },
   "outputs": [],
   "source": [
    "plt.figure()\n",
    "plt.imshow(img)\n",
    "plt.show()"
   ]
  },
  {
   "cell_type": "markdown",
   "id": "1ccc0de5",
   "metadata": {
    "pycharm": {
     "name": "#%% md\n"
    }
   },
   "source": [
    "### Data Module\n",
    "\n",
    "\n",
    "#### Train-Test Split\n",
    "\n",
    "In this example, we are only taking every other pixel for training and validation. It is a very simple and well-defined problem which each of the neural networks should be able to solve. The final test image is the original full resolution image."
   ]
  },
  {
   "cell_type": "code",
   "execution_count": null,
   "id": "6cc27385",
   "metadata": {
    "pycharm": {
     "name": "#%%\n"
    }
   },
   "outputs": [],
   "source": [
    "# dm = ImageFox(batch_size=1024).setup()\n",
    "dm = ImageFox(batch_size=4096, shuffle=True).setup()"
   ]
  },
  {
   "cell_type": "code",
   "execution_count": null,
   "id": "61df4542",
   "metadata": {
    "pycharm": {
     "name": "#%%\n"
    }
   },
   "outputs": [],
   "source": [
    "len(dm.ds_train), len(dm.ds_valid), len(dm.ds_test)"
   ]
  },
  {
   "cell_type": "markdown",
   "id": "75c54fc3-f3b5-45f4-b68f-15192bbfc605",
   "metadata": {},
   "source": [
    "Notice how we have `131_072` points from training and validation and `262_144` for the testing. This is because we have *raveled* the image where each coordinate is a vector of `x,y`. So these are a lot of points..."
   ]
  },
  {
   "cell_type": "code",
   "execution_count": null,
   "id": "e3fcb801-d1e5-4f3b-88a1-ec4580b29162",
   "metadata": {
    "pycharm": {
     "name": "#%%\n"
    }
   },
   "outputs": [],
   "source": [
    "init = dm.ds_train[:32]\n",
    "x_init, y_init = init\n",
    "x_init.shape, y_init.shape"
   ]
  },
  {
   "cell_type": "markdown",
   "id": "255b934c-ab01-4818-8ecb-cbfab71a9192",
   "metadata": {},
   "source": [
    "### Optimizer\n",
    "\n",
    "For this, we will use a simple adam optimizer with a `learning_rate` of 1e-4. From many studies, it appears that a lower learning rate works well with this methods because there is a lot of data. In addition, a bigger `batch_size` is also desireable. We will set the `num_epochs` to `1_000` which should be good enough for a single image. Obviously more epochs and a better learning rate scheduler would result in better results but this will be sufficient for this demo."
   ]
  },
  {
   "cell_type": "code",
   "execution_count": null,
   "id": "2eb2b217-a6b4-4210-97b5-2f00a0cefc1c",
   "metadata": {},
   "outputs": [],
   "source": [
    "num_epochs = 500\n",
    "learning_rate = 1e-3"
   ]
  },
  {
   "cell_type": "markdown",
   "id": "53f9b10d-159a-4d90-9a3d-a893a5b7d87d",
   "metadata": {},
   "source": [
    "### Scheduler\n",
    "\n",
    "<p align=\"center\">\n",
    "<img src=\"http://www.bdhammel.com/assets/learning-rate/resnet_loss.png\" alt=\"drawing\" width=\"300\"/>\n",
    "<figcaption align = \"center\">\n",
    "  <b>Fig.1 - An example for learning rate reduction when the validation loss stagnates. Source: \n",
    "    <a href=\"http://www.bdhammel.com/assets/learning-rate/resnet_loss.png\">Blog</a>\n",
    "  </b>\n",
    "  </figcaption>\n",
    "</p>\n",
    "\n",
    "We will use a simple learning rate scheduler - `reduce_lr_on_plateau`. This will automatically reduce the learning rate as the validation loss stagnates. It will ensure that we really squeeze out as much performance as possible from our models during the training procedure.We start with a (relatively) high `learning_rate` of `1e-4` so we will set the `patience` to 5 epochs. So if there is no change in with every epoch, we decrease the learning rate by a factor of `0.1`.\n",
    "\n",
    "This is a rather crude (but effective) method but it tends to work well in some situations. A better method might be the `cosine_annealing` method or the `exponential_decay` method. See other [examples](https://www.kaggle.com/code/snnclsr/learning-rate-schedulers/)."
   ]
  },
  {
   "cell_type": "markdown",
   "id": "cfd7a402-e645-4c97-81ac-c8658a8a56f9",
   "metadata": {},
   "source": [
    "### Loss\n",
    "\n",
    "We are going with a very simple `loss` function: the *mean squared error* (MSE). This is given by:\n",
    "\n",
    "$$\n",
    "\\mathcal{L}(\\boldsymbol{\\theta}) = \\frac{1}{N} \\sum_n^N \\left( \\mathbf{y}_n - \\boldsymbol{f}_{\\boldsymbol{\\theta}}(\\mathbf{x}_n) \\right)^2\n",
    "$$\n",
    "\n",
    "We won't code this from scratch, we will just use the PyTorch function, `nn.MSELoss`, and we will use the `mean` reduction parameter.\n",
    "\n",
    "\n",
    "### PSNR\n",
    "\n",
    "We will also keep track of the signal to noise ratio (PSNR) which will give us an indication of how well we are learning.\n",
    "\n",
    "$$\n",
    "\\text{PSNR}(\\mathbf{x}) = - 10 \\log (2 * \\text{MSE}(\\mathbf{x}))\n",
    "$$"
   ]
  },
  {
   "cell_type": "code",
   "execution_count": null,
   "id": "5fe9971a-8108-4e2e-ae58-5e412c6c27a5",
   "metadata": {},
   "outputs": [],
   "source": [
    "results = dict()\n",
    "images = dict()"
   ]
  },
  {
   "cell_type": "markdown",
   "id": "2dc78bc6-8540-44d1-8ec2-3e08c8ad1ef6",
   "metadata": {},
   "source": [
    "## Experiment"
   ]
  },
  {
   "cell_type": "code",
   "execution_count": null,
   "id": "59bebfb9-2b68-400c-8af9-5f2d83cd6a5c",
   "metadata": {},
   "outputs": [],
   "source": [
    "class ImageModel(pl.LightningModule):\n",
    "    def __init__(self, model, **kwargs):\n",
    "        super().__init__()\n",
    "\n",
    "        self.save_hyperparameters()\n",
    "        self.model = model\n",
    "        self.hyperparams = cast(Dict[str, Any], self.hparams)\n",
    "        self.loss = nn.MSELoss(reduction=\"mean\")\n",
    "\n",
    "    def forward(self, x):\n",
    "        return self.model(x)\n",
    "\n",
    "    def training_step(self, batch, batch_idx):\n",
    "        # output\n",
    "        x, y = batch\n",
    "\n",
    "        pred = self.forward(x)\n",
    "\n",
    "        # loss function\n",
    "        loss = self.loss(y, pred)\n",
    "\n",
    "        self.log(\"train_loss\", loss, prog_bar=True, logger=True)\n",
    "        self.log(\n",
    "            \"train_psnr\", -10 * torch.log10(2.0 * loss), prog_bar=True, logger=True\n",
    "        )\n",
    "\n",
    "        return loss\n",
    "\n",
    "    def validation_step(self, batch, batch_idx):\n",
    "        # output\n",
    "        x, y = batch\n",
    "\n",
    "        pred = self.forward(x)\n",
    "\n",
    "        # loss function\n",
    "        loss = self.loss(y, pred)\n",
    "\n",
    "        self.log(\"val_loss\", loss, prog_bar=True, logger=True)\n",
    "        self.log(\"val_psnr\", -10 * torch.log10(2.0 * loss), prog_bar=True, logger=True)\n",
    "\n",
    "        return loss\n",
    "\n",
    "    def test_step(self, batch, batch_idx):\n",
    "        # output\n",
    "        x, y = batch\n",
    "\n",
    "        pred = self.forward(x)\n",
    "\n",
    "        # loss function\n",
    "        loss = self.loss(y, pred)\n",
    "\n",
    "        self.log(\"test_loss\", loss)\n",
    "        self.log(\"test_psnr\", -10 * torch.log10(2.0 * loss))\n",
    "\n",
    "        return loss\n",
    "\n",
    "    def predict_step(self, batch, batch_idx):\n",
    "        # output\n",
    "        x, y = batch\n",
    "\n",
    "        pred = self.forward(x)\n",
    "\n",
    "        return pred\n",
    "\n",
    "    def configure_optimizers(self):\n",
    "\n",
    "        optimizer = Adam(self.model.parameters(), lr=self.hyperparams.get(\"lr\", 1e-4))\n",
    "        scheduler = LinearWarmupCosineAnnealingLR(\n",
    "            optimizer,\n",
    "            warmup_epochs=self.hyperparams.get(\"lr_schedule_warmup\", 25),\n",
    "            max_epochs=num_epochs,\n",
    "        )\n",
    "        # scheduler = ReduceLROnPlateau(\n",
    "        #     optimizer, patience=self.hyperparams.get(\"lr_schedule_patience\", 5)\n",
    "        # )\n",
    "        return {\n",
    "            \"optimizer\": optimizer,\n",
    "            \"lr_scheduler\": scheduler,\n",
    "            \"monitor\": \"val_loss\",\n",
    "        }"
   ]
  },
  {
   "cell_type": "markdown",
   "id": "6220c818-62ab-45fa-b104-914eb6a47f5e",
   "metadata": {},
   "source": [
    "### Callbacks"
   ]
  },
  {
   "cell_type": "code",
   "execution_count": null,
   "id": "5e4ca869-16be-426e-a358-a05c0208209a",
   "metadata": {},
   "outputs": [],
   "source": [
    "callbacks = [TQDMProgressBar(refresh_rate=10)]"
   ]
  },
  {
   "cell_type": "markdown",
   "id": "025da5c8",
   "metadata": {
    "pycharm": {
     "name": "#%% md\n"
    }
   },
   "source": [
    "## Multi-layer Perceptron (MLP)\n"
   ]
  },
  {
   "cell_type": "markdown",
   "id": "0ab329b0-6df1-4e22-a750-2e1fae1e93e9",
   "metadata": {
    "pycharm": {
     "name": "#%% md\n"
    }
   },
   "source": [
    "### Swish Activation Layer"
   ]
  },
  {
   "cell_type": "code",
   "execution_count": null,
   "id": "fcf39a77-ce11-4e4e-8ead-e2faeb2be12a",
   "metadata": {
    "pycharm": {
     "name": "#%%\n"
    }
   },
   "outputs": [],
   "source": [
    "out = Swish()(x_init)\n",
    "\n",
    "out.shape"
   ]
  },
  {
   "cell_type": "markdown",
   "id": "b9a4c15b-4674-450e-a7ff-f7c8d0ebcca9",
   "metadata": {
    "pycharm": {
     "name": "#%% md\n"
    }
   },
   "source": [
    "### MLP Layer\n",
    "\n",
    "$$\n",
    "\\mathbf{f}_\\ell(\\mathbf{x}) = \\sigma\\left(\\mathbf{w}^{(\\ell)}\\mathbf{x} + \\mathbf{b}^{(\\ell)} \\right)\n",
    "$$\n",
    "\n",
    "where $\\sigma$ is the *swish* activation function.\n",
    "\n",
    "$$\n",
    "\\sigma(\\mathbf{x}) = \\mathbf{x} \\odot \\text{Sigmoid}(\\mathbf{x})\n",
    "$$"
   ]
  },
  {
   "cell_type": "code",
   "execution_count": null,
   "id": "5c2fac68-f6af-4c25-8caa-2c9ce0a2557f",
   "metadata": {
    "pycharm": {
     "name": "#%%\n"
    }
   },
   "outputs": [],
   "source": [
    "dim_in = x_init.shape[1]\n",
    "dim_hidden = 256\n",
    "dim_out = y_init.shape[1]\n",
    "num_layers = 5\n",
    "activation = \"swish\"  # Swish()  # nn.ReLU()#\n",
    "final_activation = \"sigmoid\"\n",
    "\n",
    "mlp_net = MLP(\n",
    "    dim_in=dim_in,\n",
    "    dim_hidden=dim_hidden,\n",
    "    dim_out=dim_out,\n",
    "    num_layers=num_layers,\n",
    "    activation=get_activation(activation),\n",
    "    final_activation=get_activation(final_activation),\n",
    ")"
   ]
  },
  {
   "cell_type": "code",
   "execution_count": null,
   "id": "40db191f-8271-482a-8390-ed974b2e44a8",
   "metadata": {
    "pycharm": {
     "name": "#%%\n"
    }
   },
   "outputs": [],
   "source": [
    "out = mlp_net(x_init)"
   ]
  },
  {
   "cell_type": "code",
   "execution_count": null,
   "id": "1abd7391-3317-4243-8eea-b8816ce4cca9",
   "metadata": {},
   "outputs": [],
   "source": [
    "out.shape"
   ]
  },
  {
   "cell_type": "code",
   "execution_count": null,
   "id": "2d88b6fc",
   "metadata": {
    "pycharm": {
     "name": "#%%\n"
    }
   },
   "outputs": [],
   "source": [
    "learn = ImageModel(mlp_net, learning_rate=learning_rate)"
   ]
  },
  {
   "cell_type": "code",
   "execution_count": null,
   "id": "9dbb96b4-6d83-47f0-92b7-42337db88522",
   "metadata": {},
   "outputs": [],
   "source": [
    "out = learn.forward(x_init)\n",
    "\n",
    "out.shape"
   ]
  },
  {
   "cell_type": "code",
   "execution_count": null,
   "id": "d12e506e",
   "metadata": {
    "pycharm": {
     "name": "#%%\n"
    }
   },
   "outputs": [],
   "source": [
    "trainer = Trainer(\n",
    "    min_epochs=1,\n",
    "    max_epochs=num_epochs,\n",
    "    accelerator=\"mps\",\n",
    "    # devices=1,\n",
    "    enable_progress_bar=True,\n",
    "    # logger=wandb_logger,\n",
    "    callbacks=callbacks,\n",
    ")"
   ]
  },
  {
   "cell_type": "code",
   "execution_count": null,
   "id": "d27eb75f",
   "metadata": {
    "pycharm": {
     "name": "#%%\n"
    }
   },
   "outputs": [],
   "source": [
    "trainer.fit(\n",
    "    learn,\n",
    "    datamodule=dm,\n",
    ")"
   ]
  },
  {
   "cell_type": "code",
   "execution_count": null,
   "id": "1ecaf881",
   "metadata": {
    "pycharm": {
     "name": "#%%\n"
    }
   },
   "outputs": [],
   "source": [
    "res = trainer.test(learn, dataloaders=dm.test_dataloader())\n",
    "\n",
    "results[\"mlp\"] = res[0]"
   ]
  },
  {
   "cell_type": "code",
   "execution_count": null,
   "id": "227a0da9-8545-4329-ad65-d1071685fc24",
   "metadata": {},
   "outputs": [],
   "source": [
    "table = [\n",
    "    [\n",
    "        key,\n",
    "        f\"{results[key]['test_loss']:4.4f}\",\n",
    "        f\"{results[key]['test_psnr']:4.3f}\",\n",
    "        # \"{:,}\".format(sum([np.prod(p.shape) for p in flow_dict[key][\"model\"].parameters()]))\n",
    "    ]\n",
    "    for key in results\n",
    "]\n",
    "display(\n",
    "    HTML(\n",
    "        tabulate.tabulate(\n",
    "            table,\n",
    "            tablefmt=\"html\",\n",
    "            headers=[\n",
    "                \"Model\",\n",
    "                \"MSE\",\n",
    "                \"PSNR\",  # \"Num Parameters\"\n",
    "            ],\n",
    "        )\n",
    "    )\n",
    ")"
   ]
  },
  {
   "cell_type": "code",
   "execution_count": null,
   "id": "134f3c60-971d-40bf-90ec-b0d42cb573f8",
   "metadata": {},
   "outputs": [],
   "source": [
    "# wandb_logger.log_metrics(\n",
    "#     {\"mse\": results[\"mlp\"][0][\"test_loss\"],\n",
    "#      \"pnsr\": results[\"mlp\"][0][\"test_psnr\"],\n",
    "#     }\n",
    "# )"
   ]
  },
  {
   "cell_type": "code",
   "execution_count": null,
   "id": "87ded860",
   "metadata": {
    "pycharm": {
     "name": "#%%\n"
    }
   },
   "outputs": [],
   "source": [
    "# t0 = time.time()\n",
    "predictions = trainer.predict(learn, dataloaders=dm, return_predictions=True)\n",
    "predictions = torch.cat(predictions)\n",
    "# t1 = time.time() - t0"
   ]
  },
  {
   "cell_type": "code",
   "execution_count": null,
   "id": "151339ed",
   "metadata": {
    "pycharm": {
     "name": "#%%\n"
    }
   },
   "outputs": [],
   "source": [
    "img_pred = dm.coordinates_2_image(predictions)\n",
    "\n",
    "images[\"mlp\"] = img_pred"
   ]
  },
  {
   "cell_type": "code",
   "execution_count": null,
   "id": "7f3ebbba-fa57-4a27-9629-b344c97c4d5a",
   "metadata": {},
   "outputs": [],
   "source": [
    "fig, ax = plt.subplots(figsize=(8, 6))\n",
    "ax.imshow(img_pred, cmap=\"gray\")\n",
    "plt.tight_layout()\n",
    "\n",
    "# wandb_logger.log_image(\"reconstruction\", [wandb.Image(fig)])\n",
    "plt.savefig(\n",
    "    f\"./results/img_reg_nn.png\",\n",
    "    bbox_inches=\"tight\",\n",
    ")\n",
    "plt.close()"
   ]
  },
  {
   "cell_type": "code",
   "execution_count": null,
   "id": "4f7697fa",
   "metadata": {
    "pycharm": {
     "name": "#%%\n"
    }
   },
   "outputs": [],
   "source": [
    "fig, ax = plt.subplots(ncols=3, figsize=(8, 6))\n",
    "ax[0].imshow(img, cmap=\"gray\")\n",
    "ax[1].imshow(img_pred, cmap=\"gray\")\n",
    "ax[2].imshow(np.abs(img_pred - img), cmap=\"gray\")\n",
    "plt.tight_layout()\n",
    "plt.show()"
   ]
  },
  {
   "cell_type": "markdown",
   "id": "443feaee-0db7-4ec7-be20-eadb3a0d445f",
   "metadata": {},
   "source": [
    "## Fourier Feature Networks\n",
    "\n",
    "These methods include a "
   ]
  },
  {
   "cell_type": "markdown",
   "id": "b55fe13a",
   "metadata": {
    "pycharm": {
     "name": "#%% md\n"
    }
   },
   "source": [
    "### Encoders"
   ]
  },
  {
   "cell_type": "markdown",
   "id": "03b03e54-7feb-4403-b228-674b56f0b174",
   "metadata": {},
   "source": [
    "$$\n",
    "\\mathbf{z} = \\boldsymbol{\\gamma}(\\mathbf{x})\n",
    "$$"
   ]
  },
  {
   "cell_type": "markdown",
   "id": "96310e6c-d6fc-49e0-8ffb-2c3de4e47385",
   "metadata": {},
   "source": [
    "**Identity**\n",
    "\n",
    "$$\n",
    "\\mathbf{z} = \\boldsymbol{\\gamma}(\\mathbf{x})\n",
    "$$"
   ]
  },
  {
   "cell_type": "markdown",
   "id": "a62aa72b-d9dd-4698-ae30-5a1ca33b169c",
   "metadata": {},
   "source": [
    "**Basic Mapping**\n",
    "\n",
    "$$\n",
    "\\boldsymbol{\\gamma}(\\mathbf{x}) = [\\sin(2\\pi \\mathbf{x}), \\cos(2\\pi\\mathbf{x})]^\\top\n",
    "$$"
   ]
  },
  {
   "cell_type": "markdown",
   "id": "56c46f94-8a9e-4f50-aac3-9c2c918579e4",
   "metadata": {},
   "source": [
    "**Positional Encoding**\n",
    "\n",
    "\n",
    "$$\n",
    "\\boldsymbol{\\gamma}(\\mathbf{x}) = [\\sin(2\\pi \\boldsymbol{\\Omega}\\mathbf{x}), \\cos(2\\pi \\boldsymbol{\\Omega}\\mathbf{x})]^\\top\n",
    "$$\n",
    "\n",
    "where $\\boldsymbol{\\Omega} \\in \\mathbb{R}^{d} \\sim \\mathcal{N}\\left(\\mathbf{0}, \\gamma^2\\mathbf{I}\\right)$"
   ]
  },
  {
   "cell_type": "code",
   "execution_count": null,
   "id": "d24da212",
   "metadata": {
    "pycharm": {
     "name": "#%%\n"
    }
   },
   "outputs": [],
   "source": [
    "from inr4ssh._src.models.encoders import (\n",
    "    IdentityPositionalEncoding,\n",
    "    NeRFPositionalEncoding,\n",
    "    GaussianFourierFeatureTransform,\n",
    ")\n",
    "from inr4ssh._src.models.ffn import FourierFeatureMLP"
   ]
  },
  {
   "cell_type": "code",
   "execution_count": null,
   "id": "95a2c552",
   "metadata": {
    "pycharm": {
     "name": "#%%\n"
    }
   },
   "outputs": [],
   "source": [
    "# encoder = IdentityPositionalEncoding(in_dim=dim_in)\n",
    "# encoder = NeRFPositionalEncoding(in_dim=dim_in, mapping_size=50)\n",
    "encoder = GaussianFourierFeatureTransform(\n",
    "    in_dim=x_init.shape[1], mapping_size=256, sigma=10.0\n",
    ")"
   ]
  },
  {
   "cell_type": "code",
   "execution_count": null,
   "id": "4c4a8007",
   "metadata": {
    "pycharm": {
     "name": "#%%\n"
    }
   },
   "outputs": [],
   "source": [
    "out = encoder(x_init)\n",
    "x_init.shape, out.shape"
   ]
  },
  {
   "cell_type": "code",
   "execution_count": null,
   "id": "8a4713c4",
   "metadata": {
    "pycharm": {
     "name": "#%%\n"
    }
   },
   "outputs": [],
   "source": [
    "dim_in = x_init.shape[1]\n",
    "dim_hidden = 256\n",
    "dim_out = y_init.shape[1]\n",
    "num_layers = 4\n",
    "activation = \"swish\"  # Swish() # nn.ReLU() #\n",
    "final_activation = \"sigmoid\"  # nn.Sigmoid()\n",
    "\n",
    "ffn_net = FourierFeatureMLP(\n",
    "    encoder=encoder,\n",
    "    dim_hidden=dim_hidden,\n",
    "    dim_out=dim_out,\n",
    "    num_layers=num_layers,\n",
    "    activation=get_activation(activation),\n",
    "    final_activation=get_activation(final_activation),\n",
    ")"
   ]
  },
  {
   "cell_type": "code",
   "execution_count": null,
   "id": "e17f3fbd",
   "metadata": {
    "pycharm": {
     "name": "#%%\n"
    }
   },
   "outputs": [],
   "source": [
    "out = ffn_net(x_init)\n",
    "x_init.shape, out.shape"
   ]
  },
  {
   "cell_type": "code",
   "execution_count": null,
   "id": "c1d756e2",
   "metadata": {
    "pycharm": {
     "name": "#%%\n"
    }
   },
   "outputs": [],
   "source": [
    "learn = ImageModel(ffn_net, learning_rate=learning_rate)"
   ]
  },
  {
   "cell_type": "code",
   "execution_count": null,
   "id": "8b8bee06",
   "metadata": {
    "pycharm": {
     "name": "#%%\n"
    }
   },
   "outputs": [],
   "source": [
    "trainer = Trainer(\n",
    "    min_epochs=1,\n",
    "    max_epochs=num_epochs,\n",
    "    accelerator=\"mps\",\n",
    "    enable_progress_bar=True,\n",
    "    logger=None,\n",
    "    callbacks=callbacks,\n",
    ")"
   ]
  },
  {
   "cell_type": "code",
   "execution_count": null,
   "id": "bcd7261a",
   "metadata": {
    "pycharm": {
     "name": "#%%\n"
    }
   },
   "outputs": [],
   "source": [
    "trainer.fit(learn, datamodule=dm)"
   ]
  },
  {
   "cell_type": "code",
   "execution_count": null,
   "id": "e526266b",
   "metadata": {
    "pycharm": {
     "name": "#%%\n"
    }
   },
   "outputs": [],
   "source": [
    "res = trainer.test(learn, dataloaders=dm.test_dataloader())\n",
    "\n",
    "results[\"ffn\"] = res[0]"
   ]
  },
  {
   "cell_type": "code",
   "execution_count": null,
   "id": "79e573cd-7520-4b8e-bd06-7da03e1301c9",
   "metadata": {},
   "outputs": [],
   "source": [
    "table = [\n",
    "    [\n",
    "        key,\n",
    "        f\"{results[key]['test_loss']:4.4f}\",\n",
    "        f\"{results[key]['test_psnr']:4.3f}\",\n",
    "        # \"{:,}\".format(sum([np.prod(p.shape) for p in flow_dict[key][\"model\"].parameters()]))\n",
    "    ]\n",
    "    for key in results\n",
    "]\n",
    "display(\n",
    "    HTML(\n",
    "        tabulate.tabulate(\n",
    "            table,\n",
    "            tablefmt=\"html\",\n",
    "            headers=[\n",
    "                \"Model\",\n",
    "                \"MSE\",\n",
    "                \"PSNR\",  # \"Num Parameters\"\n",
    "            ],\n",
    "        )\n",
    "    )\n",
    ")"
   ]
  },
  {
   "cell_type": "code",
   "execution_count": null,
   "id": "73e1ca72",
   "metadata": {
    "pycharm": {
     "name": "#%%\n"
    }
   },
   "outputs": [],
   "source": [
    "# t0 = time.time()\n",
    "predictions = trainer.predict(learn, dataloaders=dm, return_predictions=True)\n",
    "predictions = torch.cat(predictions)\n",
    "# t1 = time.time() - t0"
   ]
  },
  {
   "cell_type": "code",
   "execution_count": null,
   "id": "c7d57fbc",
   "metadata": {
    "pycharm": {
     "name": "#%%\n"
    }
   },
   "outputs": [],
   "source": [
    "img_pred = dm.coordinates_2_image(predictions)\n",
    "images[\"ffn\"] = img_pred"
   ]
  },
  {
   "cell_type": "code",
   "execution_count": null,
   "id": "9204dd7a-efd0-4c9b-9998-b12ac88ed0d0",
   "metadata": {},
   "outputs": [],
   "source": [
    "fig, ax = plt.subplots(figsize=(8, 6))\n",
    "ax.imshow(img_pred, cmap=\"gray\")\n",
    "plt.tight_layout()\n",
    "plt.savefig(\n",
    "    f\"./results/img_reg_ffn.png\",\n",
    "    bbox_inches=\"tight\",\n",
    ")\n",
    "plt.close()"
   ]
  },
  {
   "cell_type": "code",
   "execution_count": null,
   "id": "0f022cbb",
   "metadata": {
    "pycharm": {
     "name": "#%%\n"
    }
   },
   "outputs": [],
   "source": [
    "fig, ax = plt.subplots(ncols=3, figsize=(8, 6))\n",
    "ax[0].imshow(img, cmap=\"gray\")\n",
    "ax[1].imshow(img_pred, cmap=\"gray\")\n",
    "ax[2].imshow(np.abs(img_pred - img), cmap=\"gray\")\n",
    "plt.tight_layout()\n",
    "plt.show()"
   ]
  },
  {
   "cell_type": "markdown",
   "id": "db8e3677-63e7-4e0d-ac03-8d52960b53ef",
   "metadata": {
    "pycharm": {
     "name": "#%%\n"
    }
   },
   "source": [
    "## Siren"
   ]
  },
  {
   "cell_type": "code",
   "execution_count": null,
   "id": "eb264d2c-2933-4b5c-8e35-77d1e0d84097",
   "metadata": {},
   "outputs": [],
   "source": [
    "dim_in = x_init.shape[1]\n",
    "dim_hidden = 256\n",
    "dim_out = y_init.shape[1]\n",
    "num_layers = 4\n",
    "w0 = 1.0\n",
    "w0_initial = 30.0\n",
    "c = 6.0\n",
    "final_activation = \"sigmoid\"  # nn.Sigmoid()\n",
    "\n",
    "siren_net = SirenNet(\n",
    "    dim_in=dim_in,\n",
    "    dim_hidden=dim_hidden,\n",
    "    dim_out=dim_out,\n",
    "    num_layers=num_layers,\n",
    "    w0=w0,\n",
    "    w0_initial=w0_initial,\n",
    "    c=c,\n",
    "    final_activation=get_activation(final_activation),\n",
    ")"
   ]
  },
  {
   "cell_type": "code",
   "execution_count": null,
   "id": "696dbb44-da5d-4f1a-9e34-0f1fc9dacc88",
   "metadata": {},
   "outputs": [],
   "source": [
    "out = siren_net(x_init)\n",
    "x_init.shape, out.shape"
   ]
  },
  {
   "cell_type": "code",
   "execution_count": null,
   "id": "3274b42b-a132-4d21-91b2-dd4f18696416",
   "metadata": {},
   "outputs": [],
   "source": [
    "learn = ImageModel(siren_net, learning_rate=learning_rate)"
   ]
  },
  {
   "cell_type": "code",
   "execution_count": null,
   "id": "c9dc1417-8964-4305-aee0-e9164703c672",
   "metadata": {},
   "outputs": [],
   "source": [
    "trainer = Trainer(\n",
    "    min_epochs=1,\n",
    "    max_epochs=num_epochs,\n",
    "    accelerator=\"mps\",\n",
    "    enable_progress_bar=True,\n",
    "    logger=None,\n",
    "    callbacks=callbacks,\n",
    ")"
   ]
  },
  {
   "cell_type": "code",
   "execution_count": null,
   "id": "c25ae9c7-5f44-4082-8f46-ab4c8c44ce0b",
   "metadata": {},
   "outputs": [],
   "source": [
    "trainer.fit(learn, datamodule=dm)"
   ]
  },
  {
   "cell_type": "code",
   "execution_count": null,
   "id": "dcb57ca6-083e-41b6-ba25-be511a1acd21",
   "metadata": {},
   "outputs": [],
   "source": [
    "res = trainer.test(learn, dataloaders=dm.test_dataloader())\n",
    "\n",
    "results[\"siren\"] = res[0]"
   ]
  },
  {
   "cell_type": "code",
   "execution_count": null,
   "id": "1e471fd2-4e66-4a9b-a573-d5e43f5a7535",
   "metadata": {},
   "outputs": [],
   "source": [
    "table = [\n",
    "    [\n",
    "        key,\n",
    "        f\"{results[key]['test_loss']:4.4f}\",\n",
    "        f\"{results[key]['test_psnr']:4.3f}\",\n",
    "        # \"{:,}\".format(sum([np.prod(p.shape) for p in flow_dict[key][\"model\"].parameters()]))\n",
    "    ]\n",
    "    for key in results\n",
    "]\n",
    "display(\n",
    "    HTML(\n",
    "        tabulate.tabulate(\n",
    "            table,\n",
    "            tablefmt=\"html\",\n",
    "            headers=[\n",
    "                \"Model\",\n",
    "                \"MSE\",\n",
    "                \"PSNR\",  # \"Num Parameters\"\n",
    "            ],\n",
    "        )\n",
    "    )\n",
    ")"
   ]
  },
  {
   "cell_type": "code",
   "execution_count": null,
   "id": "f456d3af-cca8-4012-bcb5-3c31abeec9cd",
   "metadata": {},
   "outputs": [],
   "source": [
    "# t0 = time.time()\n",
    "predictions = trainer.predict(learn, dataloaders=dm, return_predictions=True)\n",
    "predictions = torch.cat(predictions)\n",
    "# t1 = time.time() - t0"
   ]
  },
  {
   "cell_type": "code",
   "execution_count": null,
   "id": "e9fdc3da-8d99-45b3-b76b-ab38813631cd",
   "metadata": {},
   "outputs": [],
   "source": [
    "img_pred = dm.coordinates_2_image(predictions)\n",
    "\n",
    "images[\"siren\"] = img_pred"
   ]
  },
  {
   "cell_type": "code",
   "execution_count": null,
   "id": "0a14ff87-3105-4d49-a034-acf5c02a785e",
   "metadata": {},
   "outputs": [],
   "source": [
    "fig, ax = plt.subplots(figsize=(8, 6))\n",
    "ax.imshow(img_pred, cmap=\"gray\")\n",
    "plt.tight_layout()\n",
    "plt.savefig(\n",
    "    f\"./results/img_reg_siren.png\",\n",
    "    bbox_inches=\"tight\",\n",
    ")\n",
    "plt.close()"
   ]
  },
  {
   "cell_type": "code",
   "execution_count": null,
   "id": "a6ea80d4-1ad6-4f1f-a734-82fc7c08f662",
   "metadata": {},
   "outputs": [],
   "source": [
    "fig, ax = plt.subplots(ncols=3, figsize=(8, 6))\n",
    "ax[0].imshow(img, cmap=\"gray\")\n",
    "ax[1].imshow(img_pred, cmap=\"gray\")\n",
    "ax[2].imshow(np.abs(img_pred - img), cmap=\"gray\")\n",
    "plt.tight_layout()\n",
    "plt.show()"
   ]
  },
  {
   "cell_type": "markdown",
   "id": "aba87e43-dc29-4db8-bae3-1e0fa64a3728",
   "metadata": {},
   "source": [
    "## Modulated Siren"
   ]
  },
  {
   "cell_type": "code",
   "execution_count": null,
   "id": "f1028cf5-7b2d-4465-adb7-04573c63562c",
   "metadata": {},
   "outputs": [],
   "source": [
    "dim_in = x_init.shape[1]\n",
    "dim_hidden = 256\n",
    "dim_out = y_init.shape[1]\n",
    "num_layers = 4\n",
    "w0 = 1.0\n",
    "w0_initial = 30.0\n",
    "c = 6.0\n",
    "final_activation = \"sigmoid\"\n",
    "latent_dim = 256\n",
    "num_layers_latent = 4\n",
    "latent_operation = \"sum\"\n",
    "\n",
    "\n",
    "modsiren_net = ModulatedSirenNet(\n",
    "    dim_in=dim_in,\n",
    "    dim_hidden=dim_hidden,\n",
    "    dim_out=dim_out,\n",
    "    num_layers=num_layers,\n",
    "    w0=w0,\n",
    "    w0_initial=w0_initial,\n",
    "    c=c,\n",
    "    final_activation=get_activation(final_activation),\n",
    "    latent_dim=latent_dim,\n",
    "    num_layers_latent=num_layers_latent,\n",
    "    operation=latent_operation,\n",
    ")"
   ]
  },
  {
   "cell_type": "code",
   "execution_count": null,
   "id": "ae957b46-3855-4392-82d8-9bbefddda561",
   "metadata": {},
   "outputs": [],
   "source": [
    "out = modsiren_net(x_init)\n",
    "x_init.shape, out.shape"
   ]
  },
  {
   "cell_type": "code",
   "execution_count": null,
   "id": "6afc622c-8f76-4e25-88fe-9c7ec45a4ee8",
   "metadata": {},
   "outputs": [],
   "source": [
    "learn = ImageModel(modsiren_net, learning_rate=learning_rate)"
   ]
  },
  {
   "cell_type": "code",
   "execution_count": null,
   "id": "b849aba9-0191-4f34-b5b2-ba4684acbc8b",
   "metadata": {},
   "outputs": [],
   "source": [
    "trainer = Trainer(\n",
    "    min_epochs=1,\n",
    "    max_epochs=num_epochs,\n",
    "    accelerator=\"cpu\",\n",
    "    enable_progress_bar=True,\n",
    "    logger=None,\n",
    "    callbacks=callbacks,\n",
    ")"
   ]
  },
  {
   "cell_type": "code",
   "execution_count": null,
   "id": "705c5192-34f6-496f-a040-06d692f97176",
   "metadata": {
    "tags": []
   },
   "outputs": [],
   "source": [
    "trainer.fit(learn, datamodule=dm)"
   ]
  },
  {
   "cell_type": "code",
   "execution_count": null,
   "id": "c4c569ae-923c-4a46-ac8a-ec9ac3932b49",
   "metadata": {},
   "outputs": [],
   "source": [
    "res = trainer.test(learn, dataloaders=dm.test_dataloader())\n",
    "\n",
    "results[\"modsiren\"] = res[0]"
   ]
  },
  {
   "cell_type": "code",
   "execution_count": null,
   "id": "3fbbb16f-2235-4c61-8395-2cf538873044",
   "metadata": {},
   "outputs": [],
   "source": [
    "table = [\n",
    "    [\n",
    "        key,\n",
    "        f\"{results[key]['test_loss']:4.4f}\",\n",
    "        f\"{results[key]['test_psnr']:4.3f}\",\n",
    "        # \"{:,}\".format(sum([np.prod(p.shape) for p in flow_dict[key][\"model\"].parameters()]))\n",
    "    ]\n",
    "    for key in results\n",
    "]\n",
    "display(\n",
    "    HTML(\n",
    "        tabulate.tabulate(\n",
    "            table,\n",
    "            tablefmt=\"html\",\n",
    "            headers=[\n",
    "                \"Model\",\n",
    "                \"MSE\",\n",
    "                \"PSNR\",  # \"Num Parameters\"\n",
    "            ],\n",
    "        )\n",
    "    )\n",
    ")"
   ]
  },
  {
   "cell_type": "code",
   "execution_count": null,
   "id": "026761ed-709b-4e69-b8d1-549832e7a367",
   "metadata": {},
   "outputs": [],
   "source": [
    "# t0 = time.time()\n",
    "predictions = trainer.predict(learn, dataloaders=dm, return_predictions=True)\n",
    "predictions = torch.cat(predictions)\n",
    "# t1 = time.time() - t0"
   ]
  },
  {
   "cell_type": "code",
   "execution_count": null,
   "id": "1c2b38c2-eaa8-4067-82a3-06ea9ae1ed00",
   "metadata": {},
   "outputs": [],
   "source": [
    "img_pred = dm.coordinates_2_image(predictions)\n",
    "\n",
    "images[\"modsiren\"] = img_pred"
   ]
  },
  {
   "cell_type": "code",
   "execution_count": null,
   "id": "a54f32ee-d57f-4be8-921d-b12afd264e7b",
   "metadata": {},
   "outputs": [],
   "source": [
    "fig, ax = plt.subplots(figsize=(8, 6))\n",
    "ax.imshow(img_pred, cmap=\"gray\")\n",
    "plt.tight_layout()\n",
    "plt.savefig(\n",
    "    f\"./results/img_reg_modsiren.png\",\n",
    "    bbox_inches=\"tight\",\n",
    ")\n",
    "plt.close()"
   ]
  },
  {
   "cell_type": "code",
   "execution_count": null,
   "id": "cf4e6b76-1b92-47e2-90de-4f7cf76fca00",
   "metadata": {},
   "outputs": [],
   "source": [
    "fig, ax = plt.subplots(ncols=3, figsize=(8, 6))\n",
    "ax[0].imshow(img, cmap=\"gray\")\n",
    "ax[1].imshow(img_pred, cmap=\"gray\")\n",
    "ax[2].imshow(np.abs(img_pred - img), cmap=\"gray\")\n",
    "plt.tight_layout()\n",
    "plt.show()"
   ]
  },
  {
   "cell_type": "markdown",
   "id": "a5d5c46b-c372-4006-8cdf-e151500cb546",
   "metadata": {},
   "source": [
    "## Multiplicative Filter Networks"
   ]
  },
  {
   "cell_type": "markdown",
   "id": "6bdfc583-aef8-4ad0-8b6d-45724ec5f9e1",
   "metadata": {},
   "source": [
    "### Fourier Net"
   ]
  },
  {
   "cell_type": "code",
   "execution_count": null,
   "id": "8270e08f-7cfb-4067-b90d-472baff1169d",
   "metadata": {},
   "outputs": [],
   "source": [
    "dim_in = x_init.shape[1]\n",
    "dim_out = y_init.shape[1]\n",
    "dim_hidden = 256\n",
    "num_layers = 4\n",
    "use_bias = True\n",
    "input_scale = 256.0\n",
    "weight_scale = 1.0\n",
    "final_activation = \"sigmoid\"\n",
    "\n",
    "fourier_net = FourierNet(\n",
    "    dim_in=dim_in,\n",
    "    dim_out=dim_out,\n",
    "    dim_hidden=dim_hidden,\n",
    "    num_layers=num_layers,\n",
    "    input_scale=input_scale,\n",
    "    weight_scale=weight_scale,\n",
    "    use_bias=use_bias,\n",
    "    final_activation=get_activation(final_activation),\n",
    ")"
   ]
  },
  {
   "cell_type": "code",
   "execution_count": null,
   "id": "3b4a6936-68a4-4e06-9f54-ad7c94c990b7",
   "metadata": {},
   "outputs": [],
   "source": [
    "out = fourier_net(x_init)\n",
    "x_init.shape, out.shape"
   ]
  },
  {
   "cell_type": "code",
   "execution_count": null,
   "id": "d349b656-b461-4441-835a-24190a679960",
   "metadata": {},
   "outputs": [],
   "source": [
    "learn = ImageModel(fourier_net, learning_rate=learning_rate)"
   ]
  },
  {
   "cell_type": "code",
   "execution_count": null,
   "id": "c214da20-9c70-490f-b164-a404c6441623",
   "metadata": {},
   "outputs": [],
   "source": [
    "trainer = Trainer(\n",
    "    min_epochs=1,\n",
    "    max_epochs=num_epochs,\n",
    "    accelerator=\"mps\",\n",
    "    enable_progress_bar=True,\n",
    "    logger=None,\n",
    "    callbacks=callbacks,\n",
    ")"
   ]
  },
  {
   "cell_type": "code",
   "execution_count": null,
   "id": "2fdccbc9-718d-4a95-aec5-9b428bcdb347",
   "metadata": {},
   "outputs": [],
   "source": [
    "trainer.fit(learn, datamodule=dm)"
   ]
  },
  {
   "cell_type": "code",
   "execution_count": null,
   "id": "876766c0-b91e-4bf4-930b-03926c8bc1a8",
   "metadata": {},
   "outputs": [],
   "source": [
    "res = trainer.test(learn, dataloaders=dm.test_dataloader())\n",
    "\n",
    "results[\"fouriernet\"] = res[0]"
   ]
  },
  {
   "cell_type": "code",
   "execution_count": null,
   "id": "b673ab6b-e33a-4c59-b5b6-2fe3dea67d91",
   "metadata": {},
   "outputs": [],
   "source": [
    "table = [\n",
    "    [\n",
    "        key,\n",
    "        f\"{results[key]['test_loss']:4.4f}\",\n",
    "        f\"{results[key]['test_psnr']:4.3f}\",\n",
    "        # \"{:,}\".format(sum([np.prod(p.shape) for p in flow_dict[key][\"model\"].parameters()]))\n",
    "    ]\n",
    "    for key in results\n",
    "]\n",
    "display(\n",
    "    HTML(\n",
    "        tabulate.tabulate(\n",
    "            table,\n",
    "            tablefmt=\"html\",\n",
    "            headers=[\n",
    "                \"Model\",\n",
    "                \"MSE\",\n",
    "                \"PSNR\",  # \"Num Parameters\"\n",
    "            ],\n",
    "        )\n",
    "    )\n",
    ")"
   ]
  },
  {
   "cell_type": "code",
   "execution_count": null,
   "id": "af43239d-d995-487f-a1dd-f134552bfc4f",
   "metadata": {},
   "outputs": [],
   "source": [
    "# t0 = time.time()\n",
    "predictions = trainer.predict(learn, dataloaders=dm, return_predictions=True)\n",
    "predictions = torch.cat(predictions)\n",
    "# t1 = time.time() - t0"
   ]
  },
  {
   "cell_type": "code",
   "execution_count": null,
   "id": "f8069d29-07ae-4861-b388-e48a9d63cc0d",
   "metadata": {},
   "outputs": [],
   "source": [
    "img_pred = dm.coordinates_2_image(predictions)\n",
    "\n",
    "images[\"fouriernet\"] = img_pred"
   ]
  },
  {
   "cell_type": "code",
   "execution_count": null,
   "id": "cbd7714d-7dcc-42ee-a3a7-a6518b0df32a",
   "metadata": {},
   "outputs": [],
   "source": [
    "fig, ax = plt.subplots(figsize=(8, 6))\n",
    "ax.imshow(img_pred, cmap=\"gray\")\n",
    "plt.tight_layout()\n",
    "plt.savefig(\n",
    "    f\"./results/img_reg_fouriernet.png\",\n",
    "    bbox_inches=\"tight\",\n",
    ")\n",
    "plt.close()"
   ]
  },
  {
   "cell_type": "code",
   "execution_count": null,
   "id": "a53ab190-71dd-43de-bcc9-ad09678c7ac6",
   "metadata": {},
   "outputs": [],
   "source": [
    "fig, ax = plt.subplots(ncols=3, figsize=(8, 6))\n",
    "ax[0].imshow(img, cmap=\"gray\")\n",
    "ax[1].imshow(img_pred, cmap=\"gray\")\n",
    "ax[2].imshow(np.abs(img_pred - img), cmap=\"gray\")\n",
    "plt.tight_layout()\n",
    "plt.show()"
   ]
  },
  {
   "cell_type": "markdown",
   "id": "bddb53a3-8b91-4ea8-974d-f13c02b66472",
   "metadata": {},
   "source": [
    "### GaborNet"
   ]
  },
  {
   "cell_type": "code",
   "execution_count": null,
   "id": "84c03504-1305-4a07-9746-cac2782e74fb",
   "metadata": {},
   "outputs": [],
   "source": [
    "dim_in = x_init.shape[1]\n",
    "dim_out = y_init.shape[1]\n",
    "dim_hidden = 256\n",
    "num_layers = 4\n",
    "use_bias = True\n",
    "input_scale = 256.0\n",
    "weight_scale = 1.0\n",
    "alpha = 6.0\n",
    "beta = 1.0\n",
    "final_activation = \"sigmoid\"\n",
    "\n",
    "\n",
    "gabor_net = GaborNet(\n",
    "    dim_in=dim_in,\n",
    "    dim_out=dim_out,\n",
    "    dim_hidden=dim_hidden,\n",
    "    num_layers=num_layers,\n",
    "    input_scale=input_scale,\n",
    "    weight_scale=weight_scale,\n",
    "    alpha=alpha,\n",
    "    beta=beta,\n",
    "    use_bias=use_bias,\n",
    "    final_activation=get_activation(final_activation),\n",
    ")"
   ]
  },
  {
   "cell_type": "code",
   "execution_count": null,
   "id": "7cf60bd1-7433-400c-95e9-e2c377a65ecf",
   "metadata": {},
   "outputs": [],
   "source": [
    "out = gabor_net(x_init)\n",
    "x_init.shape, out.shape"
   ]
  },
  {
   "cell_type": "code",
   "execution_count": null,
   "id": "1ebb9a38-17b5-44b8-ab7a-fe98897d55ea",
   "metadata": {},
   "outputs": [],
   "source": [
    "learn = ImageModel(gabor_net, learning_rate=learning_rate)"
   ]
  },
  {
   "cell_type": "code",
   "execution_count": null,
   "id": "fccc9d22-da39-4ad6-9f33-d9565cf026a0",
   "metadata": {},
   "outputs": [],
   "source": [
    "trainer = Trainer(\n",
    "    min_epochs=1,\n",
    "    max_epochs=num_epochs,\n",
    "    accelerator=\"mps\",\n",
    "    enable_progress_bar=True,\n",
    "    logger=None,\n",
    "    callbacks=callbacks,\n",
    ")"
   ]
  },
  {
   "cell_type": "code",
   "execution_count": null,
   "id": "084e2ddf-1a73-4869-b26a-0c635e58b4b8",
   "metadata": {},
   "outputs": [],
   "source": [
    "trainer.fit(learn, datamodule=dm)"
   ]
  },
  {
   "cell_type": "code",
   "execution_count": null,
   "id": "a83699da-99d4-4d06-97f4-6e35b84e503c",
   "metadata": {},
   "outputs": [],
   "source": [
    "res = trainer.test(learn, dataloaders=dm.test_dataloader())\n",
    "\n",
    "results[\"gabornet\"] = res[0]"
   ]
  },
  {
   "cell_type": "code",
   "execution_count": null,
   "id": "81094d0a-0996-4a80-a904-c55395e280d6",
   "metadata": {},
   "outputs": [],
   "source": [
    "table = [\n",
    "    [\n",
    "        key,\n",
    "        f\"{results[key]['test_loss']:4.4f}\",\n",
    "        f\"{results[key]['test_psnr']:4.3f}\",\n",
    "        # \"{:,}\".format(sum([np.prod(p.shape) for p in flow_dict[key][\"model\"].parameters()]))\n",
    "    ]\n",
    "    for key in results\n",
    "]\n",
    "display(\n",
    "    HTML(\n",
    "        tabulate.tabulate(\n",
    "            table,\n",
    "            tablefmt=\"html\",\n",
    "            headers=[\n",
    "                \"Model\",\n",
    "                \"MSE\",\n",
    "                \"PSNR\",  # \"Num Parameters\"\n",
    "            ],\n",
    "        )\n",
    "    )\n",
    ")"
   ]
  },
  {
   "cell_type": "code",
   "execution_count": null,
   "id": "1084d904-1d6b-4379-aff0-cefef145814f",
   "metadata": {},
   "outputs": [],
   "source": [
    "# t0 = time.time()\n",
    "predictions = trainer.predict(learn, dataloaders=dm, return_predictions=True)\n",
    "predictions = torch.cat(predictions)\n",
    "# t1 = time.time() - t0"
   ]
  },
  {
   "cell_type": "code",
   "execution_count": null,
   "id": "cc2cfe67-d169-4395-a393-8c399c88850e",
   "metadata": {},
   "outputs": [],
   "source": [
    "img_pred = dm.coordinates_2_image(predictions)\n",
    "\n",
    "images[\"gabornet\"] = img_pred"
   ]
  },
  {
   "cell_type": "code",
   "execution_count": null,
   "id": "57d3a47d-885a-4a8a-b619-1eefc08f7660",
   "metadata": {},
   "outputs": [],
   "source": [
    "fig, ax = plt.subplots(figsize=(8, 6))\n",
    "ax.imshow(img_pred, cmap=\"gray\")\n",
    "plt.tight_layout()\n",
    "plt.savefig(\n",
    "    f\"./results/img_reg_gabornet.png\",\n",
    "    bbox_inches=\"tight\",\n",
    ")\n",
    "plt.close()"
   ]
  },
  {
   "cell_type": "code",
   "execution_count": null,
   "id": "21980812-8a18-446c-a5f6-7a4524b57b0f",
   "metadata": {},
   "outputs": [],
   "source": [
    "fig, ax = plt.subplots(ncols=3, figsize=(8, 6))\n",
    "ax[0].imshow(img, cmap=\"gray\")\n",
    "ax[1].imshow(img_pred, cmap=\"gray\")\n",
    "ax[2].imshow(np.abs(img_pred - img), cmap=\"gray\")\n",
    "plt.tight_layout()\n",
    "plt.show()"
   ]
  },
  {
   "cell_type": "code",
   "execution_count": null,
   "id": "95ac5d73-229a-4f41-9a5b-0869828c02d8",
   "metadata": {},
   "outputs": [],
   "source": [
    "results"
   ]
  },
  {
   "cell_type": "code",
   "execution_count": null,
   "id": "0a92a0a6-8b8b-49ce-8218-c53d76d3a280",
   "metadata": {},
   "outputs": [],
   "source": []
  },
  {
   "cell_type": "code",
   "execution_count": null,
   "id": "ecb4bd0f-ba65-496a-8961-f34a19696c72",
   "metadata": {},
   "outputs": [],
   "source": [
    "results_ = pd.DataFrame(results).T"
   ]
  },
  {
   "cell_type": "code",
   "execution_count": null,
   "id": "b50bbe65-2fd5-4430-a0f2-746e211050f5",
   "metadata": {},
   "outputs": [],
   "source": [
    "results_.to_csv(\"./results/metrics.csv\")"
   ]
  },
  {
   "cell_type": "code",
   "execution_count": null,
   "id": "4e868585-040a-4338-93a7-9e448b6a4de3",
   "metadata": {},
   "outputs": [],
   "source": []
  }
 ],
 "metadata": {
  "interpreter": {
   "hash": "70d2e25024e70c662658c456d9e0a340af3759493bed99b867179c40cf269d86"
  },
  "kernelspec": {
   "display_name": "Python [conda env:torch_py39]",
   "language": "python",
   "name": "conda-env-torch_py39-py"
  },
  "language_info": {
   "codemirror_mode": {
    "name": "ipython",
    "version": 3
   },
   "file_extension": ".py",
   "mimetype": "text/x-python",
   "name": "python",
   "nbconvert_exporter": "python",
   "pygments_lexer": "ipython3",
   "version": "3.9.13"
  }
 },
 "nbformat": 4,
 "nbformat_minor": 5
}
