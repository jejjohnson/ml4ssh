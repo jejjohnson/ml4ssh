{
 "cells": [
  {
   "cell_type": "markdown",
   "id": "ce899155-f3ea-41d5-bd9f-e3a571de6665",
   "metadata": {
    "pycharm": {
     "name": "#%% md\n"
    }
   },
   "source": [
    "# Feature Transformations"
   ]
  },
  {
   "cell_type": "markdown",
   "id": "83b7cb7b-e30f-4b4a-8607-ebcff8899440",
   "metadata": {
    "pycharm": {
     "name": "#%% md\n"
    }
   },
   "source": [
    "We typically use neural networks (NNs) as a very complex, automated feature extraction. The hope this that the NN will be able to provide a feature representation that allows us to do learning. However, there are some tricky features which require a little bit of preprocessing. These include spatial and temporal (spatio-temporal) features. This notebook will go through some of the ways we can *help* our network by giving some informative features."
   ]
  },
  {
   "cell_type": "code",
   "execution_count": null,
   "id": "c8a2ee9e-04cc-4c5e-a3eb-4742a7ad7cd1",
   "metadata": {
    "pycharm": {
     "name": "#%%\n"
    }
   },
   "outputs": [],
   "source": [
    "import sys, os\n",
    "from pyprojroot import here\n",
    "\n",
    "\n",
    "# spyder up to find the root\n",
    "\n",
    "root = here(project_files=[\".root\"])\n",
    "local = root.joinpath(\"experiments/dc_2021b/\")\n",
    "\n",
    "# append to path\n",
    "sys.path.append(str(root))\n",
    "sys.path.append(str(local))"
   ]
  },
  {
   "cell_type": "code",
   "execution_count": null,
   "id": "4e08b309-df46-4190-96f7-914907b8b422",
   "metadata": {
    "pycharm": {
     "name": "#%%\n"
    }
   },
   "outputs": [],
   "source": [
    "from pathlib import Path\n",
    "import argparse\n",
    "import wandb\n",
    "import tqdm\n",
    "\n",
    "\n",
    "# # Ensure TF does not see GPU and grab all GPU memory.\n",
    "# import tensorflow as tf\n",
    "# tf.config.set_visible_devices([], device_type='GPU')\n",
    "\n",
    "import jax\n",
    "import jax.random as jrandom\n",
    "import jax.numpy as jnp\n",
    "import equinox as eqx\n",
    "from ml4ssh._src.io import load_object, save_object\n",
    "from ml4ssh._src.viz import create_movie, plot_psd_spectrum, plot_psd_score\n",
    "from ml4ssh._src.utils import get_meshgrid, calculate_gradient, calculate_laplacian\n",
    "\n",
    "# import parsers\n",
    "from data import get_data_args, load_data\n",
    "from preprocess import add_preprocess_args, preprocess_data\n",
    "from features import add_feature_args, feature_transform\n",
    "from split import add_split_args, split_data\n",
    "from model import add_model_args, get_model\n",
    "from loss import add_loss_args, get_loss_fn\n",
    "from logger import add_logger_args\n",
    "from optimizer import add_optimizer_args, get_optimizer\n",
    "from postprocess import add_postprocess_args, postprocess_data, generate_eval_data\n",
    "from evaluation import add_eval_args, get_rmse_metrics, get_psd_metrics\n",
    "\n",
    "%matplotlib inline\n",
    "%load_ext autoreload\n",
    "%autoreload 2"
   ]
  },
  {
   "cell_type": "markdown",
   "id": "305ed40f-5926-41e3-8f76-22d50df60c1e",
   "metadata": {
    "pycharm": {
     "name": "#%% md\n"
    }
   },
   "source": [
    "### Argumentsget_data_args"
   ]
  },
  {
   "cell_type": "code",
   "execution_count": null,
   "id": "ad519f7b-be94-419e-ba50-f14958c2b2a8",
   "metadata": {
    "pycharm": {
     "name": "#%%\n"
    }
   },
   "outputs": [],
   "source": [
    "parser = argparse.ArgumentParser()\n",
    "\n",
    "# logger\n",
    "parser = add_logger_args(parser)\n",
    "\n",
    "# data\n",
    "parser = get_data_args(parser)\n",
    "\n",
    "# preprocessing, feature transform, split\n",
    "parser = add_preprocess_args(parser)\n",
    "parser = add_feature_args(parser)\n",
    "parser = add_split_args(parser)\n",
    "\n",
    "# postprocessing, metrics\n",
    "parser = add_postprocess_args(parser)\n",
    "parser = add_eval_args(parser)\n",
    "\n",
    "# parse args\n",
    "args = parser.parse_args([])\n",
    "\n",
    "# # jeanzay specific\n",
    "# args.train_data_dir = \"/gpfsdswork/projects/rech/cli/uvo53rl/data/data_challenges/ssh_mapping_2021/train/\"\n",
    "# args.ref_data_dir = \"/gpfsdswork/projects/rech/cli/uvo53rl/data/data_challenges/ssh_mapping_2021/ref/\"\n",
    "# args.test_data_dir = \"/gpfsdswork/projects/rech/cli/uvo53rl/data/data_challenges/ssh_mapping_2021/test/\"\n",
    "# args.log_dir = \"/gpfswork/rech/cli/uvo53rl/logs\"\n",
    "args.feature_scaler = \"standard\"\n",
    "\n",
    "args.smoke_test = False\n",
    "args.wandb_mode = \"disabled\"\n",
    "args.wandb_resume = True"
   ]
  },
  {
   "cell_type": "markdown",
   "id": "2816cbb2-1a8f-431d-a12b-d0e4f008b7f5",
   "metadata": {
    "pycharm": {
     "name": "#%% md\n"
    }
   },
   "source": [
    "### Logger\n"
   ]
  },
  {
   "cell_type": "code",
   "execution_count": null,
   "id": "7733fbe0-fb43-4eda-af8e-50f00e380ec1",
   "metadata": {
    "pycharm": {
     "name": "#%%\n"
    }
   },
   "outputs": [],
   "source": [
    "# init wandb logger\n",
    "wandb.init(\n",
    "    id=args.id,\n",
    "    config=args,\n",
    "    mode=args.wandb_mode,\n",
    "    project=args.project,\n",
    "    entity=args.entity,\n",
    "    dir=args.log_dir,\n",
    "    resume=args.wandb_resume,\n",
    ")"
   ]
  },
  {
   "cell_type": "markdown",
   "id": "6c2a3d23-cc41-450a-9bde-0b87f6b74ad4",
   "metadata": {
    "pycharm": {
     "name": "#%% md\n"
    }
   },
   "source": [
    "## Transformations\n",
    "\n",
    "**Coordinates**\n",
    "\n",
    "* **Latitude**: `-90 =< lat <= 90`\n",
    "* **Longtiude**: `-180 =< lon <= 180`\n",
    "\n",
    "* Cartesian/Spherical\n",
    "\n",
    "\n",
    "**Time**\n",
    "\n",
    "* Cycle\n",
    "* "
   ]
  },
  {
   "cell_type": "markdown",
   "id": "66b4273c-2443-448d-8009-323f3a45ce69",
   "metadata": {
    "pycharm": {
     "name": "#%% md\n"
    }
   },
   "source": [
    "### Cartesian Coordinates"
   ]
  },
  {
   "cell_type": "markdown",
   "id": "87bea91a-86d7-47f2-b0f3-08054f529a58",
   "metadata": {
    "pycharm": {
     "name": "#%% md\n"
    }
   },
   "source": [
    "\n",
    "$$\n",
    "\\begin{aligned}\n",
    "x &= r \\cos(\\lambda)\\cos(\\phi) \\\\\n",
    "y &= r \\cos(\\lambda)\\sin(\\phi) \\\\\n",
    "z &= r \\sin(\\lambda)\n",
    "\\end{aligned}\n",
    "$$\n",
    "\n",
    "where:\n",
    "\n",
    "* $\\phi \\in [-90, 90]$ - longitude\n",
    "* $\\lambda \\in [-180, 180]$ - latitude\n",
    "* $r$ - radius"
   ]
  },
  {
   "cell_type": "code",
   "execution_count": null,
   "id": "6293e1c0-49f2-4238-91a2-1bb08cee6d8b",
   "metadata": {
    "pycharm": {
     "name": "#%%\n"
    }
   },
   "outputs": [],
   "source": [
    "import numpy as np\n",
    "import matplotlib.pyplot as plt\n",
    "import seaborn as sns\n",
    "\n",
    "sns.reset_defaults()\n",
    "sns.set_context(context=\"talk\", font_scale=0.7)\n",
    "\n",
    "from sklearn.preprocessing import FunctionTransformer\n",
    "from sklearn.compose import ColumnTransformer\n",
    "from sklearn.base import BaseEstimator, TransformerMixin\n",
    "import pandas as pd\n",
    "from sklearn.pipeline import Pipeline"
   ]
  },
  {
   "cell_type": "code",
   "execution_count": null,
   "id": "014e5775-7674-47e1-ad9e-29b7cc6c1633",
   "metadata": {
    "pycharm": {
     "name": "#%%\n"
    }
   },
   "outputs": [],
   "source": [
    "from inr4ssh._src.features.spatial import Spherical2Cartesian3D\n",
    "from inr4ssh._src.features.temporal import TimeMinMaxScaler\n",
    "from inr4ssh._src.features."
   ]
  },
  {
   "cell_type": "code",
   "execution_count": null,
   "id": "d82598e1-2367-494b-9730-17e13df42405",
   "metadata": {
    "pycharm": {
     "name": "#%%\n"
    }
   },
   "outputs": [],
   "source": [
    "# create longitude coords\n",
    "n_points = 100\n",
    "buffer = 0.001  # to ensure we don't git the boundaries exactly\n",
    "\n",
    "lon_min = 10\n",
    "\n",
    "lon_coords = np.linspace(-(90 - buffer), 90 - buffer, n_points)\n",
    "lat_coords = np.linspace(-(180 - buffer), 180 - buffer, n_points)\n",
    "\n",
    "# create grid\n",
    "lon_grid, lat_grid = np.meshgrid(lon_coords, lat_coords)\n",
    "lon_grid, lat_grid = lon_grid.ravel(), lat_grid.ravel()\n",
    "\n",
    "assert lon_grid.shape[0] == n_points * n_points\n",
    "assert lat_grid.shape[0] == n_points * n_points\n",
    "\n",
    "# create dataframe\n",
    "data = pd.DataFrame(\n",
    "    {\n",
    "        \"longitude\": lon_grid,\n",
    "        \"latitude\": lat_grid,\n",
    "    }\n",
    ")\n",
    "assert data.shape[0] == n_points * n_points"
   ]
  },
  {
   "cell_type": "code",
   "execution_count": null,
   "id": "11e9c1cc-dcba-4175-a4ac-8fb775783ccc",
   "metadata": {
    "pycharm": {
     "name": "#%%\n"
    }
   },
   "outputs": [],
   "source": [
    "lon_grid.shape"
   ]
  },
  {
   "cell_type": "code",
   "execution_count": null,
   "id": "420e79b1-d70d-4bac-ae6d-827e944c8381",
   "metadata": {
    "pycharm": {
     "name": "#%%\n"
    }
   },
   "outputs": [],
   "source": [
    "spatial_transform = Pipeline([(\"cartesian3d\", Spherical2Cartesian3D(radius=1.0))])\n",
    "\n",
    "spatial_features = [\"longitude\", \"latitude\"]"
   ]
  },
  {
   "cell_type": "code",
   "execution_count": null,
   "id": "afe5060f-2630-4dce-8eb4-814ae48194e9",
   "metadata": {
    "pycharm": {
     "name": "#%%\n"
    }
   },
   "outputs": [],
   "source": [
    "data_ = spatial_transform.fit_transform(data)\n",
    "data_.shape"
   ]
  },
  {
   "cell_type": "code",
   "execution_count": null,
   "id": "efcfb75b-7a6d-4231-8ad0-dc63ae2f4223",
   "metadata": {},
   "outputs": [],
   "source": [
    "data_.min(), data_.max()"
   ]
  },
  {
   "cell_type": "code",
   "execution_count": null,
   "id": "53b3d28a-2cee-47e6-b3f6-bb494584d941",
   "metadata": {
    "pycharm": {
     "name": "#%%\n"
    }
   },
   "outputs": [],
   "source": [
    "fig = plt.figure(figsize=(7, 7))\n",
    "ax = plt.axes(projection=\"3d\")\n",
    "ax.scatter3D(data_[:, 0], data_[:, 1], data_[:, 2], s=1.0)\n",
    "plt.show()"
   ]
  },
  {
   "cell_type": "markdown",
   "id": "6a1eff70-ae9a-4197-987e-1d7ac0674e29",
   "metadata": {
    "pycharm": {
     "name": "#%% md\n"
    }
   },
   "source": [
    "### Column Transformer\n",
    "\n",
    "Now we can use this as a part of a `scikit-learn` `pipeline`. This allows us to automate things a little bit."
   ]
  },
  {
   "cell_type": "code",
   "execution_count": null,
   "id": "bc09e27a-8a6a-4e57-997b-54a9f0193975",
   "metadata": {
    "pycharm": {
     "name": "#%%\n"
    }
   },
   "outputs": [],
   "source": [
    "scaler = ColumnTransformer(\n",
    "    transformers=[\n",
    "        (\"cartesian3d\", Spherical2Cartesian3D(radius=1.0), spatial_features),\n",
    "    ],\n",
    "    remainder=\"drop\",\n",
    ")"
   ]
  },
  {
   "cell_type": "code",
   "execution_count": null,
   "id": "a9a80569-33e2-4fa0-84ff-fb7eceecb77d",
   "metadata": {
    "pycharm": {
     "name": "#%%\n"
    }
   },
   "outputs": [],
   "source": [
    "data_ = scaler.fit_transform(data)"
   ]
  },
  {
   "cell_type": "code",
   "execution_count": null,
   "id": "c2d21e7e-8f3a-4811-b7e8-0658602c4d2e",
   "metadata": {},
   "outputs": [],
   "source": []
  },
  {
   "cell_type": "code",
   "execution_count": null,
   "id": "6cc44d0f-0a7a-43c3-91fe-5ba9c66cd3cc",
   "metadata": {
    "pycharm": {
     "name": "#%%\n"
    }
   },
   "outputs": [],
   "source": [
    "data_.shape"
   ]
  },
  {
   "cell_type": "markdown",
   "id": "2880d130-4585-4d91-920e-01073fe0ae20",
   "metadata": {
    "pycharm": {
     "name": "#%% md\n"
    }
   },
   "source": [
    "## Temporal Coordinates"
   ]
  },
  {
   "cell_type": "code",
   "execution_count": null,
   "id": "6c9b9ae5-d909-4416-9ee5-25dcf3c11abe",
   "metadata": {
    "pycharm": {
     "name": "#%%\n"
    }
   },
   "outputs": [],
   "source": [
    "# from ml4ssh._src.features import TimeMinMaxScaler\n",
    "from sklearn.preprocessing import minmax_scale, MinMaxScaler"
   ]
  },
  {
   "cell_type": "code",
   "execution_count": null,
   "id": "24ede0b3-fb4b-4add-960c-a8942505c5b5",
   "metadata": {
    "pycharm": {
     "name": "#%%\n"
    }
   },
   "outputs": [],
   "source": [
    "time_coords = np.arange(\"2010-01-01\", \"2015-12-31\", dtype=\"datetime64[1h]\")\n",
    "df_ts = pd.DataFrame({\"time\": time_coords})"
   ]
  },
  {
   "cell_type": "code",
   "execution_count": null,
   "id": "0e2e7b6f-cafa-4263-807a-59f80cb9e4a9",
   "metadata": {
    "pycharm": {
     "name": "#%%\n"
    }
   },
   "outputs": [],
   "source": [
    "df_ts.head()"
   ]
  },
  {
   "cell_type": "code",
   "execution_count": null,
   "id": "82cc10c7-7ad9-44f3-bf73-9c10e93a747b",
   "metadata": {
    "pycharm": {
     "name": "#%%\n"
    }
   },
   "outputs": [],
   "source": [
    "df_ts.plot()"
   ]
  },
  {
   "cell_type": "markdown",
   "id": "6736489b-8c52-46b4-9ca0-0fb75124633e",
   "metadata": {
    "pycharm": {
     "name": "#%% md\n"
    }
   },
   "source": [
    "### Scaling"
   ]
  },
  {
   "cell_type": "markdown",
   "id": "fd14452a-e317-4e8c-9355-7d8fb3741389",
   "metadata": {
    "pycharm": {
     "name": "#%% md\n"
    }
   },
   "source": [
    "So, the fourier feature methods and SIREN networks in general, we need to do some sort of scaling of the inputs.\n",
    "\n",
    "**Absolute Time**\n",
    "\n",
    "* `t0 = 2005-01-01`\n",
    "* `t1 = 2022-01-01`\n",
    "\n",
    "**Absolute Scale**\n",
    "\n",
    "* `scale_min = -1.0`\n",
    "* `scale_max = 1.0`"
   ]
  },
  {
   "cell_type": "code",
   "execution_count": null,
   "id": "9878cccd-5ab0-4253-8963-11968451484b",
   "metadata": {
    "pycharm": {
     "name": "#%%\n"
    }
   },
   "outputs": [],
   "source": [
    "time_min = np.datetime64(\"2010-01-01\")\n",
    "time_max = np.datetime64(\"2015-12-30\")\n",
    "max_scale = 1.0\n",
    "min_scale = -1.0"
   ]
  },
  {
   "cell_type": "code",
   "execution_count": null,
   "id": "80789333-4bec-4aa3-a3e8-46bb6df7f958",
   "metadata": {},
   "outputs": [],
   "source": [
    "time_coords.min(), time_coords.max()"
   ]
  },
  {
   "cell_type": "code",
   "execution_count": null,
   "id": "f56fdbc7-817f-426a-b581-a2e90b101233",
   "metadata": {
    "pycharm": {
     "name": "#%%\n"
    }
   },
   "outputs": [],
   "source": [
    "time_std = (time_coords - time_min) / (time_max - time_min)\n",
    "time_scaled = time_std * (max_scale - min_scale) + min_scale"
   ]
  },
  {
   "cell_type": "code",
   "execution_count": null,
   "id": "e50f8451-0fda-44fb-af5c-235e87478be7",
   "metadata": {
    "pycharm": {
     "name": "#%%\n"
    }
   },
   "outputs": [],
   "source": [
    "time_std"
   ]
  },
  {
   "cell_type": "code",
   "execution_count": null,
   "id": "c4ec092c-2a31-4a36-af44-4dd9987db1d8",
   "metadata": {
    "pycharm": {
     "name": "#%%\n"
    }
   },
   "outputs": [],
   "source": [
    "time_scaled"
   ]
  },
  {
   "cell_type": "code",
   "execution_count": null,
   "id": "8feed12b-65e7-47dc-ad2c-c84c3857ea8b",
   "metadata": {
    "pycharm": {
     "name": "#%%\n"
    }
   },
   "outputs": [],
   "source": [
    "temporal_transform = Pipeline(\n",
    "    [\n",
    "        (\"timestd\", TimeMinMaxScaler(julian_date=True)),\n",
    "        # (\"minmax\", MinMaxScaler(feature_range=(-1,1)))\n",
    "    ]\n",
    ")\n",
    "\n",
    "temporal_features = [\"time\"]"
   ]
  },
  {
   "cell_type": "code",
   "execution_count": null,
   "id": "63ae3d3c-a518-4b3d-b13f-dc7fdbc62d45",
   "metadata": {
    "pycharm": {
     "name": "#%%\n"
    }
   },
   "outputs": [],
   "source": [
    "df_ts_ = temporal_transform.fit_transform(df_ts)\n",
    "df_ts_.shape"
   ]
  },
  {
   "cell_type": "code",
   "execution_count": null,
   "id": "304115db-9f6e-450d-af44-fe57df84ae52",
   "metadata": {},
   "outputs": [],
   "source": [
    "df_ts_.min(), df_ts_.max()"
   ]
  },
  {
   "cell_type": "code",
   "execution_count": null,
   "id": "8d4fdf6c-0449-422a-8892-abef821a11c2",
   "metadata": {
    "pycharm": {
     "name": "#%%\n"
    }
   },
   "outputs": [],
   "source": [
    "df_ts_"
   ]
  },
  {
   "cell_type": "code",
   "execution_count": null,
   "id": "70877e76-655a-47dd-8c07-864e38c223da",
   "metadata": {
    "pycharm": {
     "name": "#%%\n"
    }
   },
   "outputs": [],
   "source": [
    "data_.shape"
   ]
  },
  {
   "cell_type": "code",
   "execution_count": null,
   "id": "3b854a51-920b-400f-95c9-93a11c323f81",
   "metadata": {
    "pycharm": {
     "name": "#%%\n"
    }
   },
   "outputs": [],
   "source": [
    "data_"
   ]
  },
  {
   "cell_type": "markdown",
   "id": "8779ed69-1a13-44f6-85cb-95aad61d7673",
   "metadata": {
    "pycharm": {
     "name": "#%% md\n"
    }
   },
   "source": [
    "## Putting Everything Together\n",
    "\n",
    "So now, we are going to have a full spatio-temporal vector\n",
    "\n",
    "$$\n",
    "\\mathbf{x} \\in \\mathbb{R}^{D_\\phi}, \\;\\;\\; D_\\phi = \\{ \\text{lon, lat, time} \\}\n",
    "$$\n",
    "\n",
    "And we are going to do some transformations on the spatial and temporal features independently."
   ]
  },
  {
   "cell_type": "code",
   "execution_count": null,
   "id": "99784db9-ab8a-414c-9d1d-dcee85bdbd90",
   "metadata": {
    "pycharm": {
     "name": "#%%\n"
    }
   },
   "outputs": [],
   "source": [
    "# create dataframe\n",
    "data = pd.DataFrame(\n",
    "    {\n",
    "        \"longitude\": lon_grid,\n",
    "        \"latitude\": lat_grid,\n",
    "        \"time\": df_ts.sample(n=lon_grid.shape[0], random_state=1).values[:, 0],\n",
    "    }\n",
    ")"
   ]
  },
  {
   "cell_type": "code",
   "execution_count": null,
   "id": "851e63f0-2124-4e20-b05d-2fa069f40a47",
   "metadata": {
    "pycharm": {
     "name": "#%%\n"
    }
   },
   "outputs": [],
   "source": [
    "data.head()"
   ]
  },
  {
   "cell_type": "code",
   "execution_count": null,
   "id": "c5ea17ac-118c-4ff9-9ed7-ae2e76a45a4f",
   "metadata": {
    "pycharm": {
     "name": "#%%\n"
    }
   },
   "outputs": [],
   "source": [
    "from sklearn.compose import ColumnTransformer"
   ]
  },
  {
   "cell_type": "code",
   "execution_count": null,
   "id": "2a6eca1b-29ce-41b3-8470-24067469cf7a",
   "metadata": {
    "pycharm": {
     "name": "#%%\n"
    }
   },
   "outputs": [],
   "source": [
    "spatial_features = [\"longitude\", \"latitude\"]\n",
    "temporal_features = [\"time\"]"
   ]
  },
  {
   "cell_type": "code",
   "execution_count": null,
   "id": "82990615-f69a-4c30-a1e6-9ddbf5691c53",
   "metadata": {
    "pycharm": {
     "name": "#%%\n"
    }
   },
   "outputs": [],
   "source": [
    "# spatial transform\n",
    "spatial_transform = Pipeline([(\"cartesian3d\", Spherical2Cartesian3D(radius=1.0))])\n",
    "\n",
    "spatial_features = [\"longitude\", \"latitude\"]\n",
    "\n",
    "# temporal transform\n",
    "temporal_transform = Pipeline(\n",
    "    [\n",
    "        (\"timestd\", TimeMinMaxScaler(julian_date=True)),\n",
    "        (\"minmax\", MinMaxScaler(feature_range=(-1, 1))),\n",
    "    ]\n",
    ")\n",
    "\n",
    "temporal_features = [\"time\"]"
   ]
  },
  {
   "cell_type": "code",
   "execution_count": null,
   "id": "4c3fce49-c8e0-47c2-8f06-b480d2d0a2b9",
   "metadata": {
    "pycharm": {
     "name": "#%%\n"
    }
   },
   "outputs": [],
   "source": [
    "scaler = ColumnTransformer(\n",
    "    transformers=[\n",
    "        (\"cartesian3d\", spatial_transform, spatial_features),\n",
    "        (\"timeminmax\", temporal_transform, temporal_features),\n",
    "    ],\n",
    "    remainder=\"drop\",\n",
    ")"
   ]
  },
  {
   "cell_type": "code",
   "execution_count": null,
   "id": "a9feb0d0-a035-4f39-a62b-b83fc714a72a",
   "metadata": {
    "pycharm": {
     "name": "#%%\n"
    }
   },
   "outputs": [],
   "source": [
    "data_ = scaler.fit_transform(data)"
   ]
  },
  {
   "cell_type": "code",
   "execution_count": null,
   "id": "305038be-3d9b-4d81-b21a-9f5820d8267e",
   "metadata": {
    "pycharm": {
     "name": "#%%\n"
    }
   },
   "outputs": [],
   "source": [
    "assert data_.shape[1] == 4"
   ]
  },
  {
   "cell_type": "code",
   "execution_count": null,
   "id": "e5e7108e-b1db-4c2c-85be-b6a8ec59b88f",
   "metadata": {},
   "outputs": [],
   "source": [
    "data_[:, -1].min(), data_[:, -1].max()"
   ]
  },
  {
   "cell_type": "markdown",
   "id": "f9735e0c-0235-45d8-abc9-99b057e7755c",
   "metadata": {
    "pycharm": {
     "name": "#%% md\n"
    }
   },
   "source": [
    "### Cyclic Coordinates"
   ]
  },
  {
   "cell_type": "code",
   "execution_count": null,
   "id": "077b0ff5-d616-416b-8d94-6621c52e1796",
   "metadata": {
    "pycharm": {
     "name": "#%%\n"
    }
   },
   "outputs": [],
   "source": [
    "lon_max = 180\n",
    "lon_min = -180\n",
    "min_scale = -1\n",
    "max_scale = 1"
   ]
  },
  {
   "cell_type": "code",
   "execution_count": null,
   "id": "ba7cb998-0283-4819-9f8e-4464a455fe6c",
   "metadata": {
    "pycharm": {
     "name": "#%%\n"
    }
   },
   "outputs": [],
   "source": [
    "lon_std = (lon_coords - lon_min) / (lon_max - lon_min)\n",
    "lon_coords_scaled = lon_std * (max_scale - min_scale) + min_scale\n",
    "lon_coords_scaled.min(), lon_coords_scaled.max()"
   ]
  },
  {
   "cell_type": "code",
   "execution_count": null,
   "id": "96ce3bf6-ac1d-4708-bda3-8700f4bd65f5",
   "metadata": {
    "pycharm": {
     "name": "#%%\n"
    }
   },
   "outputs": [],
   "source": [
    "fig, ax = plt.subplots()\n",
    "ax.plot(lon_coords, lon_coords_scaled)\n",
    "plt.show()"
   ]
  },
  {
   "cell_type": "code",
   "execution_count": null,
   "id": "eae43e82-a74f-4546-94f1-86de815bf2b5",
   "metadata": {
    "pycharm": {
     "name": "#%%\n"
    }
   },
   "outputs": [],
   "source": [
    "# scale between\n",
    "lon_coords_scaled_sin = np.sin(np.pi * lon_coords_scaled)\n",
    "lon_coords_scaled_cos = np.cos(np.pi * lon_coords_scaled)"
   ]
  },
  {
   "cell_type": "code",
   "execution_count": null,
   "id": "2c1c3d4a-f4af-4011-887f-35f2c577ad70",
   "metadata": {
    "pycharm": {
     "name": "#%%\n"
    }
   },
   "outputs": [],
   "source": [
    "fig, ax = plt.subplots()\n",
    "ax.plot(lon_coords, lon_coords_scaled_sin)\n",
    "plt.tight_layout()\n",
    "plt.show()"
   ]
  },
  {
   "cell_type": "code",
   "execution_count": null,
   "id": "25ac63df-1773-4dab-8e79-6454d48ebf81",
   "metadata": {
    "pycharm": {
     "name": "#%%\n"
    }
   },
   "outputs": [],
   "source": [
    "fig, ax = plt.subplots()\n",
    "ax.plot(lon_coords, lon_coords_scaled_cos)\n",
    "plt.tight_layout()\n",
    "plt.show()"
   ]
  },
  {
   "cell_type": "code",
   "execution_count": null,
   "id": "64c18e02-3a74-4936-ae1a-231e6d789790",
   "metadata": {
    "pycharm": {
     "name": "#%%\n"
    }
   },
   "outputs": [],
   "source": [
    "fig, ax = plt.subplots()\n",
    "ax.plot(lon_coords_scaled_sin, lon_coords_scaled_cos)\n",
    "plt.tight_layout()\n",
    "plt.axis(\"equal\")\n",
    "plt.show()"
   ]
  }
 ],
 "metadata": {
  "kernelspec": {
   "display_name": "Python [conda env:torch_py39]",
   "language": "python",
   "name": "conda-env-torch_py39-py"
  },
  "language_info": {
   "codemirror_mode": {
    "name": "ipython",
    "version": 3
   },
   "file_extension": ".py",
   "mimetype": "text/x-python",
   "name": "python",
   "nbconvert_exporter": "python",
   "pygments_lexer": "ipython3",
   "version": "3.9.13"
  }
 },
 "nbformat": 4,
 "nbformat_minor": 5
}
