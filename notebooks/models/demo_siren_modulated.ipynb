{
 "cells": [
  {
   "cell_type": "markdown",
   "id": "7c00d4b7-e07e-4405-b643-c4db64f82510",
   "metadata": {
    "pycharm": {
     "name": "#%% md\n"
    }
   },
   "source": [
    "# Demo - Siren"
   ]
  },
  {
   "cell_type": "code",
   "execution_count": null,
   "id": "c8a2ee9e-04cc-4c5e-a3eb-4742a7ad7cd1",
   "metadata": {
    "pycharm": {
     "name": "#%%\n"
    }
   },
   "outputs": [],
   "source": [
    "import sys, os\n",
    "from pyprojroot import here\n",
    "\n",
    "# spyder up to find the root\n",
    "root = here(project_files=[\".root\"])\n",
    "\n",
    "# append to path\n",
    "sys.path.append(str(root))"
   ]
  },
  {
   "cell_type": "code",
   "execution_count": null,
   "id": "b43eaf2f-23b0-4937-80a3-21938dc73ed2",
   "metadata": {
    "pycharm": {
     "name": "#%%\n"
    }
   },
   "outputs": [],
   "source": [
    "import numpy as np\n",
    "import torch\n",
    "from torch import nn\n",
    "from tqdm.notebook import tqdm as tqdm\n",
    "import os, imageio\n",
    "\n",
    "from ml4ssh._src.models.siren import Siren, SirenNet, Modulator, ModulatedSirenNet\n",
    "from ml4ssh._src.models.activations import Sine\n",
    "from torch.nn import ReLU\n",
    "\n",
    "import matplotlib.pyplot as plt\n",
    "import seaborn as sns\n",
    "\n",
    "sns.reset_defaults()\n",
    "sns.set_context(context=\"talk\", font_scale=0.7)\n",
    "\n",
    "%load_ext autoreload\n",
    "%autoreload 2"
   ]
  },
  {
   "cell_type": "markdown",
   "id": "3e9c836a-8790-4f6c-b5c2-4af553875648",
   "metadata": {
    "pycharm": {
     "name": "#%% md\n"
    }
   },
   "source": [
    "## Data"
   ]
  },
  {
   "cell_type": "markdown",
   "id": "0a850a1a-760a-45c0-9edb-7380fe7dbe87",
   "metadata": {
    "pycharm": {
     "name": "#%% md\n"
    }
   },
   "source": [
    "$$\n",
    "\\mathbf{u} = \\boldsymbol{f}(\\mathbf{x}_\\phi; \\boldsymbol{\\theta})\n",
    "$$"
   ]
  },
  {
   "cell_type": "code",
   "execution_count": null,
   "id": "5f7fcc47-7694-47a0-b9ef-a2642938a83e",
   "metadata": {
    "pycharm": {
     "name": "#%%\n"
    }
   },
   "outputs": [],
   "source": [
    "# Download image, take a square crop from the center\n",
    "image = \"fox\"\n",
    "\n",
    "\n",
    "if image == \"earth\":\n",
    "    # EARTH\n",
    "    image_url = \"https://i0.wp.com/thepythoncodingbook.com/wp-content/uploads/2021/08/Earth.png?w=301&ssl=1\"\n",
    "    img = imageio.imread(image_url)[..., :3] / 255.0\n",
    "\n",
    "elif image == \"fox\":\n",
    "    # FOX\n",
    "    image_url = \"https://live.staticflickr.com/7492/15677707699_d9d67acf9d_b.jpg\"\n",
    "    img = imageio.imread(image_url)[..., :3] / 255.0\n",
    "    c = [img.shape[0] // 2, img.shape[1] // 2]\n",
    "    r = 256\n",
    "    img = img[c[0] - r : c[0] + r, c[1] - r : c[1] + r]"
   ]
  },
  {
   "cell_type": "code",
   "execution_count": null,
   "id": "42021a01-2792-45e9-9e94-fc80241499c5",
   "metadata": {
    "pycharm": {
     "name": "#%%\n"
    }
   },
   "outputs": [],
   "source": [
    "plt.figure()\n",
    "plt.imshow(img)\n",
    "plt.show()"
   ]
  },
  {
   "cell_type": "code",
   "execution_count": null,
   "id": "26860695-0127-43b9-ab7e-c7ca730b0aa6",
   "metadata": {
    "pycharm": {
     "name": "#%%\n"
    }
   },
   "outputs": [],
   "source": [
    "# Create input pixel coordinates in the unit square\n",
    "coords = np.linspace(0, 1, img.shape[0], endpoint=False)\n",
    "x_test = np.stack(np.meshgrid(coords, coords), -1)\n",
    "# y_test = img\n",
    "# x_train =\n",
    "test_data = [x_test, img]\n",
    "train_data = [x_test[::2, ::2], img[::2, ::2]]"
   ]
  },
  {
   "cell_type": "code",
   "execution_count": null,
   "id": "05241161-9d57-4f93-a6bd-1c969da273f4",
   "metadata": {
    "pycharm": {
     "name": "#%%\n"
    }
   },
   "outputs": [],
   "source": [
    "from einops import rearrange"
   ]
  },
  {
   "cell_type": "code",
   "execution_count": null,
   "id": "62c1d292-9986-4357-8d76-a8052139774e",
   "metadata": {
    "pycharm": {
     "name": "#%%\n"
    }
   },
   "outputs": [],
   "source": [
    "x_train = rearrange(train_data[0], \"x y c -> (x y) c\")\n",
    "y_train = rearrange(train_data[1], \"x y c -> (x y) c\")\n",
    "x_test = rearrange(test_data[0], \"x y c -> (x y) c\")\n",
    "y_test = rearrange(test_data[1], \"x y c -> (x y) c\")"
   ]
  },
  {
   "cell_type": "code",
   "execution_count": null,
   "id": "a40a3d02-4579-4214-b34e-ed23f1937c03",
   "metadata": {
    "pycharm": {
     "name": "#%%\n"
    }
   },
   "outputs": [],
   "source": [
    "x_train.shape, x_test.shape"
   ]
  },
  {
   "cell_type": "markdown",
   "id": "025da5c8",
   "metadata": {
    "pycharm": {
     "name": "#%% md\n"
    }
   },
   "source": [
    "## Siren Net\n"
   ]
  },
  {
   "cell_type": "markdown",
   "id": "0ab329b0-6df1-4e22-a750-2e1fae1e93e9",
   "metadata": {
    "pycharm": {
     "name": "#%% md\n"
    }
   },
   "source": [
    "### Sine Activation Layer"
   ]
  },
  {
   "cell_type": "code",
   "execution_count": null,
   "id": "e3fcb801-d1e5-4f3b-88a1-ec4580b29162",
   "metadata": {
    "pycharm": {
     "name": "#%%\n"
    }
   },
   "outputs": [],
   "source": [
    "x_train_tensor = torch.Tensor(x_train)\n",
    "y_train_tensor = torch.Tensor(y_train)\n",
    "x_train_tensor = torch.Tensor(x_test)\n",
    "y_train_tensor = torch.Tensor(y_test)"
   ]
  },
  {
   "cell_type": "code",
   "execution_count": null,
   "id": "54857cd4-6ab2-4430-82a5-3f712d5e0b18",
   "metadata": {
    "pycharm": {
     "name": "#%%\n"
    }
   },
   "outputs": [],
   "source": [
    "x_train_tensor.min(), x_train_tensor.max()"
   ]
  },
  {
   "cell_type": "code",
   "execution_count": null,
   "id": "fcf39a77-ce11-4e4e-8ead-e2faeb2be12a",
   "metadata": {
    "pycharm": {
     "name": "#%%\n"
    }
   },
   "outputs": [],
   "source": [
    "out = Sine()(x_train_tensor)\n",
    "\n",
    "out.shape"
   ]
  },
  {
   "cell_type": "code",
   "execution_count": null,
   "id": "e07c6091-10f5-4c11-9f66-1deba23372c0",
   "metadata": {
    "pycharm": {
     "name": "#%%\n"
    }
   },
   "outputs": [],
   "source": [
    "x_img = rearrange(out.numpy(), \"(x y) c -> x y c\", x=img.shape[0], y=img.shape[0])"
   ]
  },
  {
   "cell_type": "code",
   "execution_count": null,
   "id": "bcd6f7ae-80fd-4307-9623-cfc756482bdc",
   "metadata": {
    "pycharm": {
     "name": "#%%\n"
    }
   },
   "outputs": [],
   "source": []
  },
  {
   "cell_type": "code",
   "execution_count": null,
   "id": "aff15f8c-d7bb-4e68-b1fe-ca228fa043b0",
   "metadata": {
    "pycharm": {
     "name": "#%%\n"
    }
   },
   "outputs": [],
   "source": [
    "# plt.imshow(x_img)\n",
    "# plt.show()"
   ]
  },
  {
   "cell_type": "markdown",
   "id": "b9a4c15b-4674-450e-a7ff-f7c8d0ebcca9",
   "metadata": {
    "pycharm": {
     "name": "#%% md\n"
    }
   },
   "source": [
    "### Siren Layer\n",
    "\n",
    "$$\n",
    "\\mathbf{f}_\\ell(\\mathbf{x}) = \\sin\\left(\\omega_0 \\left(\\mathbf{w}^{(\\ell)}\\mathbf{x} + \\mathbf{b}^{(\\ell)} \\right)\\right)\n",
    "$$"
   ]
  },
  {
   "cell_type": "code",
   "execution_count": null,
   "id": "b7cd3110-fbbe-4599-8b4a-29d3a6492fb5",
   "metadata": {
    "pycharm": {
     "name": "#%%\n"
    }
   },
   "outputs": [],
   "source": [
    "dim_in = 2\n",
    "dim_out = 3\n",
    "w0 = 1.0\n",
    "c = 6.0\n",
    "\n",
    "layer = Siren(\n",
    "    dim_in=dim_in,\n",
    "    dim_out=dim_out,\n",
    "    w0=w0,\n",
    "    c=c,\n",
    ")"
   ]
  },
  {
   "cell_type": "code",
   "execution_count": null,
   "id": "3fd2cb9a-8927-4f0a-969d-e43d51639866",
   "metadata": {
    "pycharm": {
     "name": "#%%\n"
    }
   },
   "outputs": [],
   "source": [
    "out = layer(x_train_tensor[:100])"
   ]
  },
  {
   "cell_type": "code",
   "execution_count": null,
   "id": "bade769d-345a-4385-b10d-ef5d6f0e2b2d",
   "metadata": {
    "pycharm": {
     "name": "#%%\n"
    }
   },
   "outputs": [],
   "source": [
    "# x_img = rearrange(out.detach().numpy(), \"(x y) c -> x y c\", x=img.shape[0], y=img.shape[0])"
   ]
  },
  {
   "cell_type": "code",
   "execution_count": null,
   "id": "20a9cc6e-b8d1-44eb-b7c2-c7abc75d5e1c",
   "metadata": {
    "pycharm": {
     "name": "#%%\n"
    }
   },
   "outputs": [],
   "source": [
    "# plt.imshow(x_img)\n",
    "# plt.show()"
   ]
  },
  {
   "cell_type": "markdown",
   "id": "6dc3d115",
   "metadata": {
    "pycharm": {
     "name": "#%% md\n"
    }
   },
   "source": [
    "### Siren Network"
   ]
  },
  {
   "cell_type": "code",
   "execution_count": null,
   "id": "5c2fac68-f6af-4c25-8caa-2c9ce0a2557f",
   "metadata": {
    "pycharm": {
     "name": "#%%\n"
    }
   },
   "outputs": [],
   "source": [
    "dim_in = 2\n",
    "dim_hidden = 128\n",
    "dim_out = 3\n",
    "num_layers = 5\n",
    "w0 = 1.0\n",
    "w0_initial = 30.0\n",
    "c = 6.0\n",
    "\n",
    "siren_net = SirenNet(\n",
    "    dim_in=dim_in,\n",
    "    dim_hidden=dim_hidden,\n",
    "    dim_out=dim_out,\n",
    "    num_layers=num_layers,\n",
    "    w0=w0,\n",
    "    w0_initial=w0_initial,\n",
    ")"
   ]
  },
  {
   "cell_type": "code",
   "execution_count": null,
   "id": "40db191f-8271-482a-8390-ed974b2e44a8",
   "metadata": {
    "pycharm": {
     "name": "#%%\n"
    }
   },
   "outputs": [],
   "source": [
    "out = net(x_train_tensor[:100])"
   ]
  },
  {
   "cell_type": "code",
   "execution_count": null,
   "id": "807a001b-63bd-4f33-9bfb-228d9920d9d7",
   "metadata": {
    "pycharm": {
     "name": "#%%\n"
    }
   },
   "outputs": [],
   "source": [
    "# x_img = rearrange(out.detach().numpy(), \"(x y) c -> x y c\", x=img.shape[0], y=img.shape[0])"
   ]
  },
  {
   "cell_type": "code",
   "execution_count": null,
   "id": "6a7a8e8a-f736-498b-a8d0-24e73e95694b",
   "metadata": {
    "pycharm": {
     "name": "#%%\n"
    }
   },
   "outputs": [],
   "source": [
    "net"
   ]
  },
  {
   "cell_type": "markdown",
   "id": "3af9f22c-7b7e-45f9-8a6b-4b2e77cc8827",
   "metadata": {
    "pycharm": {
     "name": "#%% md\n"
    }
   },
   "source": [
    "### Modulated Siren"
   ]
  },
  {
   "cell_type": "markdown",
   "id": "ef005078",
   "metadata": {
    "pycharm": {
     "name": "#%% md\n"
    }
   },
   "source": [
    "#### Modulator"
   ]
  },
  {
   "cell_type": "code",
   "execution_count": null,
   "id": "e7bb1135-80e1-4e10-bea6-9cf64ecc4bd8",
   "metadata": {
    "pycharm": {
     "name": "#%%\n"
    }
   },
   "outputs": [],
   "source": [
    "latent_dim_in = 512\n",
    "latent_dim_hidden = 128\n",
    "latent_num_layers = 5\n",
    "\n",
    "# initialize the parameter\n",
    "latent = nn.Parameter(torch.zeros(512).normal_(0, 1e-2))\n",
    "\n",
    "mod_layer = Modulator(\n",
    "    dim_in=latent_dim_in, dim_hidden=latent_dim_hidden, num_layers=latent_num_layers\n",
    ")"
   ]
  },
  {
   "cell_type": "code",
   "execution_count": null,
   "id": "5c3b6efd-ba59-4b52-8011-6bef8ef83d53",
   "metadata": {
    "pycharm": {
     "name": "#%%\n"
    }
   },
   "outputs": [],
   "source": [
    "mods = mod_layer(latent)"
   ]
  },
  {
   "cell_type": "code",
   "execution_count": null,
   "id": "b6fe0c06-88f4-4223-bbf4-dbb1dec11f14",
   "metadata": {
    "pycharm": {
     "name": "#%%\n"
    }
   },
   "outputs": [],
   "source": [
    "for imod in mods:\n",
    "    print(imod.shape)"
   ]
  },
  {
   "cell_type": "markdown",
   "id": "cb43b2fb",
   "metadata": {
    "pycharm": {
     "name": "#%% md\n"
    }
   },
   "source": [
    "#### Modulated Siren Layer"
   ]
  },
  {
   "cell_type": "code",
   "execution_count": null,
   "id": "ac69b914",
   "metadata": {
    "jupyter": {
     "outputs_hidden": false
    },
    "pycharm": {
     "name": "#%%\n"
    }
   },
   "outputs": [],
   "source": [
    "out_modded = net(x_train_tensor[:100], mods)"
   ]
  },
  {
   "cell_type": "code",
   "execution_count": null,
   "id": "3131bd88",
   "metadata": {
    "jupyter": {
     "outputs_hidden": false
    },
    "pycharm": {
     "name": "#%%\n"
    }
   },
   "outputs": [],
   "source": [
    "out_modded.shape"
   ]
  },
  {
   "cell_type": "code",
   "execution_count": null,
   "id": "224495d7",
   "metadata": {
    "jupyter": {
     "outputs_hidden": false
    },
    "pycharm": {
     "name": "#%%\n"
    }
   },
   "outputs": [],
   "source": [
    "latent_dim_in = 512\n",
    "latent_dim_hidden = 128\n",
    "latent_num_layers = 5\n",
    "\n",
    "latent = nn.Parameter(torch.zeros(512).normal_(0, 1e-2))\n",
    "\n",
    "mod_layer = Modulator(\n",
    "    dim_in=latent_dim_in, dim_hidden=latent_dim_hidden, num_layers=latent_num_layers\n",
    ")"
   ]
  },
  {
   "cell_type": "code",
   "execution_count": null,
   "id": "03c81b9f-b523-4a9f-87ce-d42568424c8f",
   "metadata": {
    "pycharm": {
     "name": "#%%\n"
    }
   },
   "outputs": [],
   "source": [
    "# from typing import Callable, Optional\n",
    "\n",
    "# class ModulatedSirenNet(nn.Module):\n",
    "#     def __init__(self,\n",
    "#                  dim_in,\n",
    "#                  dim_hidden,\n",
    "#                  dim_out,\n",
    "#                  num_layers: int=5,\n",
    "#                  latent_dim: int=512,\n",
    "#                  num_layers_latent: int=3,\n",
    "#                  w0: float = 1.,\n",
    "#                  w0_initial: float = 30.,\n",
    "#                  c: float = 6.0,\n",
    "#                  use_bias: bool = True,\n",
    "#                  final_activation: Optional[nn.Module] = None,\n",
    "#                  resnet: bool = False\n",
    "#                 ):\n",
    "#         super().__init__()\n",
    "#         self.num_layers = num_layers\n",
    "#         self.dim_hidden = dim_hidden\n",
    "\n",
    "#         self.layers = nn.ModuleList([])\n",
    "#         for ind in range(num_layers):\n",
    "#             is_first = ind == 0\n",
    "#             layer_w0 = w0_initial if is_first else w0\n",
    "#             layer_dim_in = dim_in if is_first else dim_hidden\n",
    "#             res_first = False\n",
    "\n",
    "#             self.layers.append(Siren(\n",
    "#                 dim_in = layer_dim_in,\n",
    "#                 dim_out = dim_hidden,\n",
    "#                 w0 = layer_w0,\n",
    "#                 c = c,\n",
    "#                 use_bias = use_bias,\n",
    "#                 is_first = is_first,\n",
    "#                 resnet = True if resnet and res_first else False\n",
    "#             ))\n",
    "#             if res_first:\n",
    "#                 res_first = False\n",
    "\n",
    "#             self.latent = nn.Parameter(torch.zeros(latent_dim).normal_(0, 1e-2))\n",
    "\n",
    "#             self.modulator = Modulator(\n",
    "#                 dim_in=latent_dim,\n",
    "#                 dim_hidden=dim_hidden,\n",
    "#                 num_layers=num_layers_latent,\n",
    "#             )\n",
    "\n",
    "#         final_activation = nn.Identity() if not exists(final_activation) else final_activation\n",
    "#         self.last_layer = Siren(dim_in = dim_hidden, dim_out = dim_out, w0 = w0, use_bias = use_bias, activation = final_activation)\n",
    "\n",
    "#     def forward(self, x):\n",
    "\n",
    "#         mods = self.modulator(self.latent)\n",
    "\n",
    "#         mods = cast_tuple(mods, self.num_layers)\n",
    "\n",
    "\n",
    "#         for layer, mod in zip(self.layers, mods):\n",
    "#             x = layer(x)\n",
    "\n",
    "#             x *= rearrange(mod, 'd -> () d')\n",
    "\n",
    "#         return self.last_layer(x)"
   ]
  },
  {
   "cell_type": "code",
   "execution_count": null,
   "id": "d96519c0-e546-47c5-89b3-06185429e1db",
   "metadata": {
    "pycharm": {
     "name": "#%%\n"
    }
   },
   "outputs": [],
   "source": [
    "dim_in = 2\n",
    "dim_hidden = 128\n",
    "dim_out = 3\n",
    "num_layers = 5\n",
    "w0 = 1.0\n",
    "w0_initial = 30.0\n",
    "c = 6.0\n",
    "latent_dim = 512\n",
    "num_layers_latent = 3\n",
    "operation = \"add\"\n",
    "\n",
    "latent = nn.Parameter(torch.zeros(latent_dim).normal_(0, 1e-2))\n",
    "\n",
    "net = ModulatedSirenNet(\n",
    "    dim_in=dim_in,\n",
    "    dim_hidden=dim_hidden,\n",
    "    dim_out=dim_out,\n",
    "    num_layers=num_layers,\n",
    "    w0=w0,\n",
    "    w0_initial=w0_initial,\n",
    "    latent_dim=latent_dim,\n",
    "    num_layers_latent=num_layers_latent,\n",
    "    operation=operation,\n",
    ")"
   ]
  },
  {
   "cell_type": "code",
   "execution_count": null,
   "id": "bd270a02-aa5e-4587-9fc3-7053e158d76a",
   "metadata": {
    "pycharm": {
     "name": "#%%\n"
    }
   },
   "outputs": [],
   "source": []
  },
  {
   "cell_type": "code",
   "execution_count": null,
   "id": "054f3ae2-a0b8-4a45-bb3f-bc47170f13b0",
   "metadata": {
    "pycharm": {
     "name": "#%%\n"
    }
   },
   "outputs": [],
   "source": [
    "out = net(x_train_tensor[:100], latent)"
   ]
  },
  {
   "cell_type": "code",
   "execution_count": null,
   "id": "3e6b337c-eeed-4052-a55e-115cd2f13129",
   "metadata": {
    "pycharm": {
     "name": "#%%\n"
    }
   },
   "outputs": [],
   "source": [
    "assert out.shape == y_train_tensor[:100].shape"
   ]
  },
  {
   "cell_type": "code",
   "execution_count": null,
   "id": "81b6b47f-f463-4f1d-9e55-7d5f32ad8d32",
   "metadata": {
    "pycharm": {
     "name": "#%%\n"
    }
   },
   "outputs": [],
   "source": []
  }
 ],
 "metadata": {
  "interpreter": {
   "hash": "70d2e25024e70c662658c456d9e0a340af3759493bed99b867179c40cf269d86"
  },
  "kernelspec": {
   "display_name": "Python [conda env:torch_py39]",
   "language": "python",
   "name": "conda-env-torch_py39-py"
  },
  "language_info": {
   "codemirror_mode": {
    "name": "ipython",
    "version": 3
   },
   "file_extension": ".py",
   "mimetype": "text/x-python",
   "name": "python",
   "nbconvert_exporter": "python",
   "pygments_lexer": "ipython3",
   "version": "3.9.13"
  }
 },
 "nbformat": 4,
 "nbformat_minor": 5
}
