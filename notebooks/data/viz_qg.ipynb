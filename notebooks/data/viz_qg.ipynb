{
 "cells": [
  {
   "cell_type": "markdown",
   "id": "56c2fddd-17f7-48e2-a678-fcad405ad89b",
   "metadata": {},
   "source": [
    "# Viz + QG Data"
   ]
  },
  {
   "cell_type": "code",
   "execution_count": null,
   "id": "37b0c8a3-f00d-474e-8dde-aa99e47d0546",
   "metadata": {},
   "outputs": [],
   "source": [
    "import os\n",
    "import sys\n",
    "\n",
    "from pyprojroot import here\n",
    "\n",
    "# spyder up to find the root\n",
    "root = here(project_files=[\".root\"])\n",
    "\n",
    "\n",
    "# append to path\n",
    "sys.path.append(str(root))"
   ]
  },
  {
   "cell_type": "code",
   "execution_count": null,
   "id": "7126cda8-5d79-4817-83a8-d21966d59665",
   "metadata": {},
   "outputs": [],
   "source": [
    "import matplotlib.pyplot as plt\n",
    "import numpy as np\n",
    "import pandas as pd\n",
    "import seaborn as sns\n",
    "import xarray as xr\n",
    "\n",
    "sns.reset_defaults()\n",
    "sns.set_context(context=\"talk\", font_scale=0.7)\n",
    "\n",
    "import hvplot.pandas\n",
    "import hvplot.xarray\n",
    "from inr4ssh._src.data.ssh_obs import load_ssh_altimetry_data_train\n",
    "from inr4ssh._src.features.temporal import MinMaxFixedScaler\n",
    "from inr4ssh._src.operators.finite_diff import calculate_gradient, calculate_laplacian\n",
    "from inr4ssh._src.preprocess.coords import (\n",
    "    correct_coordinate_labels,\n",
    "    correct_longitude_domain,\n",
    ")\n",
    "from inr4ssh._src.preprocess.missing import (\n",
    "    generate_random_missing_data,\n",
    "    generate_skipped_missing_data,\n",
    ")\n",
    "from inr4ssh._src.preprocess.obs import add_noise\n",
    "from inr4ssh._src.preprocess.subset import spatial_subset, temporal_subset\n",
    "from inr4ssh._src.viz.movie import create_movie\n",
    "\n",
    "%matplotlib inline\n",
    "%load_ext autoreload\n",
    "%autoreload 2"
   ]
  },
  {
   "cell_type": "markdown",
   "id": "80762636-5595-44c1-bd4c-0a54ea5a7a15",
   "metadata": {},
   "source": [
    "## Observations"
   ]
  },
  {
   "cell_type": "code",
   "execution_count": null,
   "id": "016af0f0-f9d9-4e23-9174-a1349fcf0d98",
   "metadata": {},
   "outputs": [],
   "source": [
    "train_data_dir = f\"/Volumes/EMANS_HDD/data/qg_sim/qg_sim.nc\"\n",
    "train_data_dir = f\"/Users/eman/.CMVolumes/cal1_workdir/data/qg_data/public/qg_sim.nc\"\n",
    "# train_data_dir =\n",
    "\n",
    "ds_obs = xr.open_dataset(train_data_dir)\n",
    "\n",
    "ds_obs"
   ]
  },
  {
   "cell_type": "markdown",
   "id": "7f759de5-867e-489b-8821-2aa705f95993",
   "metadata": {},
   "source": [
    "**Comments**:\n",
    "\n",
    "* Case - Inspired from the paper (use the exact same parameters) - Gram Ringler\n",
    "    * Graham and Ringler 2013 : https://doi.org/10.1016/j.ocemod.2013.01.004\n",
    "    * Dimensional Version in the paper (Hugo may not be using that...)\n",
    "* Non-dimensional version\n",
    "* PyQG\n",
    "* Later could be used for a data challenge :)"
   ]
  },
  {
   "cell_type": "code",
   "execution_count": null,
   "id": "42af7175-c729-4db9-9b25-8cff129d7924",
   "metadata": {},
   "outputs": [],
   "source": [
    "# ds_obs.p.hvplot.image(x=\"Nx\", y=\"Ny\", width=500, height=400, cmap=\"viridis\")"
   ]
  },
  {
   "cell_type": "code",
   "execution_count": null,
   "id": "5ac786d1-63d6-481d-bfaa-8094fce91685",
   "metadata": {},
   "outputs": [],
   "source": [
    "# fig, ax = plt.subplots()\n",
    "\n",
    "# ds_obs.p.plot.hist(bins=100, ax=ax, density=True)\n",
    "\n",
    "# ax.set(\n",
    "#     xlabel=\"\",\n",
    "#     ylabel=\"\",\n",
    "# )\n",
    "# plt.tight_layout()\n",
    "# plt.show()"
   ]
  },
  {
   "cell_type": "markdown",
   "id": "41e5e0ff-bb2e-4ba9-8812-6613a56e4489",
   "metadata": {},
   "source": [
    "## Observations\n",
    "\n",
    "* Random Sampling\n",
    "* Different Spatial Resolutions\n",
    "* Different Temporal Resolutions\n",
    "* Different Spatio-Temporal Resolutions\n",
    "* Simulated Altimetry Tracks"
   ]
  },
  {
   "cell_type": "markdown",
   "id": "20ff6560-f497-4a18-bee9-d4083b4e6659",
   "metadata": {},
   "source": [
    "### Random Sampling"
   ]
  },
  {
   "cell_type": "markdown",
   "id": "e54d96e1-0dca-43b6-8f6b-5b76a46d57c5",
   "metadata": {},
   "source": [
    "#### 50% Coverage"
   ]
  },
  {
   "cell_type": "code",
   "execution_count": null,
   "id": "93c60d42-8dc0-4ebd-9bd8-152b6b6ce87c",
   "metadata": {},
   "outputs": [],
   "source": [
    "p_rand = generate_random_missing_data(\n",
    "    ds_obs.p.values.copy(), missing_data_rate=0.0, return_mask=False, seed=123\n",
    ")\n",
    "\n",
    "ds_obs[\"obs_p_rand\"] = (ds_obs.p.dims, p_rand)"
   ]
  },
  {
   "cell_type": "code",
   "execution_count": null,
   "id": "c478dee4-0207-48ae-8dc1-d2c4209e76ff",
   "metadata": {},
   "outputs": [],
   "source": [
    "# ds_obs"
   ]
  },
  {
   "cell_type": "code",
   "execution_count": null,
   "id": "772a8d2e-8057-4bc4-bf8d-f436b5f52c95",
   "metadata": {},
   "outputs": [],
   "source": [
    "# ds_obs.obs_p_rand.hvplot.image(x=\"Nx\", y=\"Ny\", width=500, height=400, cmap=\"viridis\")"
   ]
  },
  {
   "cell_type": "markdown",
   "id": "0a10a772-2366-4bc8-8dd2-e9e912d60189",
   "metadata": {},
   "source": [
    "#### 20% Coverage"
   ]
  },
  {
   "cell_type": "code",
   "execution_count": null,
   "id": "008c3e9c-654f-403f-beda-3b4b50f62e68",
   "metadata": {},
   "outputs": [],
   "source": [
    "p_rand = generate_random_missing_data(\n",
    "    ds_obs.p.values.copy(), missing_data_rate=0.80, return_mask=False, seed=123\n",
    ")\n",
    "\n",
    "ds_obs[\"obs_p_rand\"] = (ds_obs.p.dims, p_rand)"
   ]
  },
  {
   "cell_type": "code",
   "execution_count": null,
   "id": "515a73b0-ba98-4678-94d9-488eef1a8f9a",
   "metadata": {},
   "outputs": [],
   "source": [
    "# ds_obs.obs_p_rand.hvplot.image(x=\"Nx\", y=\"Ny\", width=500, height=400, cmap=\"viridis\")"
   ]
  },
  {
   "cell_type": "markdown",
   "id": "e1f4b601-5c55-491e-b7e1-568569ff4473",
   "metadata": {},
   "source": [
    "#### 5% Coverage"
   ]
  },
  {
   "cell_type": "code",
   "execution_count": null,
   "id": "75d3f48a-439b-4d3c-aed0-6d37966d5ec3",
   "metadata": {},
   "outputs": [],
   "source": [
    "p_rand = generate_random_missing_data(\n",
    "    ds_obs.p.values.copy(), missing_data_rate=0.95, return_mask=False, seed=123\n",
    ")\n",
    "\n",
    "ds_obs[\"obs_p_rand\"] = (ds_obs.p.dims, p_rand)"
   ]
  },
  {
   "cell_type": "code",
   "execution_count": null,
   "id": "609b268b-5c5c-4c59-8ec7-a80df5280e60",
   "metadata": {},
   "outputs": [],
   "source": [
    "# ds_obs.obs_p_rand.hvplot.image(x=\"Nx\", y=\"Ny\", width=500, height=400, cmap=\"viridis\")"
   ]
  },
  {
   "cell_type": "markdown",
   "id": "4a7db5d3-400d-4553-842e-059db6901a43",
   "metadata": {},
   "source": [
    "#### 1% Coverage"
   ]
  },
  {
   "cell_type": "code",
   "execution_count": null,
   "id": "f6925d78-4a2b-41e4-ac5e-36c24548e024",
   "metadata": {},
   "outputs": [],
   "source": [
    "p_rand = generate_random_missing_data(\n",
    "    ds_obs.p.values.copy(), missing_data_rate=0.99, return_mask=False, seed=123\n",
    ")\n",
    "\n",
    "ds_obs[\"obs_p_rand\"] = (ds_obs.p.dims, p_rand)"
   ]
  },
  {
   "cell_type": "code",
   "execution_count": null,
   "id": "576d849b-2bae-4479-9337-8a40546f43e9",
   "metadata": {},
   "outputs": [],
   "source": [
    "# ds_obs.obs_p_rand.hvplot.image(x=\"Nx\", y=\"Ny\", width=500, height=400, cmap=\"viridis\")"
   ]
  },
  {
   "cell_type": "code",
   "execution_count": null,
   "id": "ff571c62-17b6-4b50-bc91-026d5658b496",
   "metadata": {},
   "outputs": [],
   "source": [
    "# fig, ax = plt.subplots()\n",
    "\n",
    "# ds_obs.p.plot.hist(bins=100, ax=ax, density=True, label=\"True\")\n",
    "# ds_obs.obs_p_rand.plot.hist(bins=100, ax=ax, density=True, label=\"Observations\")\n",
    "\n",
    "# ax.set(\n",
    "#     xlabel=\"\",\n",
    "#     ylabel=\"\",\n",
    "# )\n",
    "# plt.tight_layout()\n",
    "# plt.legend()\n",
    "# plt.show()"
   ]
  },
  {
   "cell_type": "markdown",
   "id": "4d148e08-90c7-47ba-85b6-2ceabcbf0bb2",
   "metadata": {},
   "source": [
    "### Spatial Resolution"
   ]
  },
  {
   "cell_type": "code",
   "execution_count": null,
   "id": "4cc2d3ac-7b15-4b03-aaec-259f0f2d77d7",
   "metadata": {},
   "outputs": [],
   "source": [
    "step = 3\n",
    "data = generate_skipped_missing_data(ds_obs.p.values.copy(), step=step, dim=1)\n",
    "data = generate_skipped_missing_data(data, step=step, dim=2)"
   ]
  },
  {
   "cell_type": "code",
   "execution_count": null,
   "id": "5ecb6b50-0818-4554-a9a5-7c11afe1c312",
   "metadata": {},
   "outputs": [],
   "source": [
    "ds_obs[\"obs_p_spares\"] = (ds_obs.p.dims, data)"
   ]
  },
  {
   "cell_type": "code",
   "execution_count": null,
   "id": "3417df52-34ce-4669-a7dd-0492598b9b9a",
   "metadata": {},
   "outputs": [],
   "source": [
    "# ds_obs.obs_p_spares.hvplot.image(x=\"Nx\", y=\"Ny\", width=500, height=400, cmap=\"viridis\")"
   ]
  },
  {
   "cell_type": "markdown",
   "id": "ca77236e-4e7f-4756-8b37-0e46c6d71dbc",
   "metadata": {},
   "source": [
    "### Temporal Resolution"
   ]
  },
  {
   "cell_type": "code",
   "execution_count": null,
   "id": "69038405-5763-479b-b0d4-b1563ab0fad3",
   "metadata": {},
   "outputs": [],
   "source": [
    "step = 3\n",
    "data = generate_skipped_missing_data(ds_obs.p.values.copy(), step=step, dim=0)\n",
    "\n",
    "ds_obs[\"obs_p_tempres\"] = (ds_obs.p.dims, data)"
   ]
  },
  {
   "cell_type": "code",
   "execution_count": null,
   "id": "3a1a8c28-be7e-4a44-9499-5a1310421e92",
   "metadata": {},
   "outputs": [],
   "source": [
    "# ds_obs.obs_p_tempres.hvplot.image(x=\"Nx\", y=\"Ny\", width=500, height=400, cmap=\"viridis\")"
   ]
  },
  {
   "cell_type": "markdown",
   "id": "65b672d3-055f-44a1-916a-15c324f2b4c1",
   "metadata": {},
   "source": [
    "### Spatio-Temporal Resolution"
   ]
  },
  {
   "cell_type": "code",
   "execution_count": null,
   "id": "a5c52772-365a-4f22-88c9-14a064c3a339",
   "metadata": {},
   "outputs": [],
   "source": [
    "step = 5\n",
    "data = generate_skipped_missing_data(ds_obs.p.values.copy(), step=step, dim=1)\n",
    "data = generate_skipped_missing_data(data, step=step, dim=2)\n",
    "\n",
    "step = 2\n",
    "data = generate_skipped_missing_data(data, step=step, dim=0)\n",
    "\n",
    "ds_obs[\"obs_p_spatempres\"] = (ds_obs.p.dims, data)"
   ]
  },
  {
   "cell_type": "code",
   "execution_count": null,
   "id": "09c68898-f940-472a-ab9d-aaeee8db4dc5",
   "metadata": {},
   "outputs": [],
   "source": [
    "# ds_obs.obs_p_spatempres.hvplot.image(\n",
    "#     x=\"Nx\", y=\"Ny\", width=500, height=400, cmap=\"viridis\"\n",
    "# )"
   ]
  },
  {
   "cell_type": "markdown",
   "id": "9fb2193a-2346-461f-9e94-460f6ace116f",
   "metadata": {},
   "source": [
    "### AlongTrack Simulations"
   ]
  },
  {
   "cell_type": "code",
   "execution_count": null,
   "id": "20cb66eb-d82d-461f-bc0a-a92ffa966835",
   "metadata": {},
   "outputs": [],
   "source": [
    "# ds_obs.obs_p.hvplot.image(x=\"Nx\", y=\"Ny\", width=500, height=400, cmap=\"viridis\")"
   ]
  },
  {
   "cell_type": "code",
   "execution_count": null,
   "id": "f642865d-b3ff-4564-a01d-be7bfe3fbf9a",
   "metadata": {},
   "outputs": [],
   "source": [
    "# fig, ax = plt.subplots()\n",
    "\n",
    "# ds_obs.obs_p.plot.hist(bins=100, ax=ax, density=True)\n",
    "\n",
    "# ax.set(\n",
    "#     xlabel=\"\",\n",
    "#     ylabel=\"\",\n",
    "# )\n",
    "# plt.tight_layout()\n",
    "# plt.show()"
   ]
  },
  {
   "cell_type": "code",
   "execution_count": null,
   "id": "45d4cf78-eb09-43ce-865e-d259c8d35602",
   "metadata": {},
   "outputs": [],
   "source": [
    "# fig, ax = plt.subplots()\n",
    "\n",
    "# ds_obs.p.plot.hist(bins=100, ax=ax, density=True, label=\"True\")\n",
    "# ds_obs.obs_p.plot.hist(bins=100, ax=ax, density=True, label=\"Observations\")\n",
    "\n",
    "# ax.set(\n",
    "#     xlabel=\"Potential Vorticity\",\n",
    "#     ylabel=\"Density\",\n",
    "# )\n",
    "# plt.tight_layout()\n",
    "# plt.legend()\n",
    "# plt.show()"
   ]
  },
  {
   "cell_type": "code",
   "execution_count": null,
   "id": "52be914c-5fb6-42b9-a2a9-d49cb2fe1fce",
   "metadata": {},
   "outputs": [],
   "source": [
    "sigma = 0.1\n",
    "noise = \"gauss\"\n",
    "ds_obs[\"obs_p_n\"] = add_noise(ds_obs.obs_p, sigma=sigma, noise=noise)"
   ]
  },
  {
   "cell_type": "code",
   "execution_count": null,
   "id": "e343c09c-cff1-4983-a75b-2c7762d8e231",
   "metadata": {},
   "outputs": [],
   "source": [
    "fig, ax = plt.subplots()\n",
    "\n",
    "ds_obs.obs_p_n.plot.hist(bins=100, ax=ax, density=True)\n",
    "ds_obs.obs_p.plot.hist(bins=100, ax=ax, density=True)\n",
    "\n",
    "ax.set(\n",
    "    xlabel=\"\",\n",
    "    ylabel=\"\",\n",
    ")\n",
    "plt.tight_layout()\n",
    "plt.show()"
   ]
  },
  {
   "cell_type": "code",
   "execution_count": null,
   "id": "0f547bc2-b9f6-4731-ad6b-010c14c098e1",
   "metadata": {},
   "outputs": [],
   "source": [
    "# ds_obs.obs_p_n.hvplot.image(x=\"Nx\", y=\"Ny\", width=500, height=400, cmap=\"viridis\")"
   ]
  },
  {
   "cell_type": "code",
   "execution_count": null,
   "id": "4438ef90-9c48-4cdb-b700-cfed7e172afb",
   "metadata": {},
   "outputs": [],
   "source": [
    "# save_path = \"./\"\n",
    "# create_movie(ds.ssh, f\"field_{model.lower()}\", \"time\", cmap=\"viridis\", file_path=save_path)"
   ]
  },
  {
   "cell_type": "markdown",
   "id": "b55095c0-4a78-4157-9279-748c66cc8fd1",
   "metadata": {},
   "source": [
    "#### SSH"
   ]
  },
  {
   "cell_type": "code",
   "execution_count": null,
   "id": "7216894e-27de-4e69-8569-e90e051a4a88",
   "metadata": {},
   "outputs": [],
   "source": [
    "# ds.ssh.hvplot.image(\n",
    "#     x=\"longitude\",\n",
    "#     y=\"latitude\",\n",
    "#     # groupby='time',\n",
    "#     # rasterize=True,\n",
    "#     width=500, height=400, cmap=\"viridis\")"
   ]
  },
  {
   "cell_type": "markdown",
   "id": "9aca140a-69a9-4d78-a0e9-3bd6e33c0dfa",
   "metadata": {},
   "source": [
    "#### Gradient"
   ]
  },
  {
   "cell_type": "code",
   "execution_count": null,
   "id": "146be86a-6868-4346-8803-0767d376b79f",
   "metadata": {},
   "outputs": [],
   "source": [
    "ds_obs[\"obs_p_n_grad\"] = calculate_gradient(ds_obs[\"obs_p_n\"], \"Nx\", \"Ny\", edge_order=1)"
   ]
  },
  {
   "cell_type": "code",
   "execution_count": null,
   "id": "f4e20864-3073-4bf7-be57-fa524b0eae7f",
   "metadata": {},
   "outputs": [],
   "source": [
    "calculate_gradient??"
   ]
  },
  {
   "cell_type": "code",
   "execution_count": null,
   "id": "50f75168-f81e-4646-95f7-23fedcc97693",
   "metadata": {},
   "outputs": [],
   "source": [
    "# create_movie(ds.ssh_grad, f\"field_{model.lower()}_grad\", \"time\", cmap=\"Spectral_r\", file_path=save_path)"
   ]
  },
  {
   "cell_type": "code",
   "execution_count": null,
   "id": "63302803-ef09-4d01-8e27-137df7e78918",
   "metadata": {},
   "outputs": [],
   "source": [
    "# ds_obs.obs_p_n_grad.hvplot.image(\n",
    "#     x=\"Nx\",\n",
    "#     y=\"Ny\",\n",
    "#     # groupby='time',\n",
    "#     # rasterize=True,\n",
    "#     width=500,\n",
    "#     height=400,\n",
    "#     cmap=\"Spectral_r\",\n",
    "# )"
   ]
  },
  {
   "cell_type": "markdown",
   "id": "d17be056-0cf9-4768-ba8a-e0ea23be9052",
   "metadata": {},
   "source": [
    "#### (Norm) Laplacian"
   ]
  },
  {
   "cell_type": "code",
   "execution_count": null,
   "id": "18557df0-00fb-49ae-8d8e-517ab639181b",
   "metadata": {
    "tags": []
   },
   "outputs": [],
   "source": [
    "ds_obs[\"obs_p_n_lap\"] = calculate_laplacian(ds_obs[\"obs_p_n\"], \"Nx\", \"Ny\", edge_order=1)"
   ]
  },
  {
   "cell_type": "code",
   "execution_count": null,
   "id": "010ff15e-6ccb-4b38-a150-454535e200c3",
   "metadata": {},
   "outputs": [],
   "source": [
    "# create_movie(ds.ssh_lap, f\"field_{model.lower()}_lap\", \"time\", cmap=\"RdBu_r\", file_path=save_path)"
   ]
  },
  {
   "cell_type": "code",
   "execution_count": null,
   "id": "1184aacd-a5d0-4875-9b0a-8f6a78952265",
   "metadata": {},
   "outputs": [],
   "source": [
    "# ds_obs.obs_p_n_lap.hvplot.image(\n",
    "#     x=\"Nx\",\n",
    "#     y=\"Ny\",\n",
    "#     # groupby='time',\n",
    "#     # rasterize=True,\n",
    "#     width=500,\n",
    "#     height=400,\n",
    "#     cmap=\"RdBu_r\",\n",
    "# )"
   ]
  },
  {
   "cell_type": "code",
   "execution_count": null,
   "id": "05a9d50e-1bf7-4572-ac7e-f4e569430493",
   "metadata": {},
   "outputs": [],
   "source": []
  }
 ],
 "metadata": {
  "kernelspec": {
   "display_name": "Python [conda env:torch_py39]",
   "language": "python",
   "name": "conda-env-torch_py39-py"
  },
  "language_info": {
   "codemirror_mode": {
    "name": "ipython",
    "version": 3
   },
   "file_extension": ".py",
   "mimetype": "text/x-python",
   "name": "python",
   "nbconvert_exporter": "python",
   "pygments_lexer": "ipython3",
   "version": "3.9.13"
  }
 },
 "nbformat": 4,
 "nbformat_minor": 5
}
