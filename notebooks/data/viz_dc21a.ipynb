{
 "cells": [
  {
   "cell_type": "markdown",
   "id": "56c2fddd-17f7-48e2-a678-fcad405ad89b",
   "metadata": {},
   "source": [
    "# Viz + Data Challenge 2021a"
   ]
  },
  {
   "cell_type": "code",
   "execution_count": null,
   "id": "37b0c8a3-f00d-474e-8dde-aa99e47d0546",
   "metadata": {},
   "outputs": [],
   "source": [
    "import sys, os\n",
    "from pyprojroot import here\n",
    "\n",
    "# spyder up to find the root\n",
    "root = here(project_files=[\".root\"])\n",
    "\n",
    "\n",
    "# append to path\n",
    "sys.path.append(str(root))"
   ]
  },
  {
   "cell_type": "code",
   "execution_count": null,
   "id": "7126cda8-5d79-4817-83a8-d21966d59665",
   "metadata": {},
   "outputs": [],
   "source": [
    "import numpy as np\n",
    "import pandas as pd\n",
    "import xarray as xr\n",
    "import matplotlib.pyplot as plt\n",
    "import seaborn as sns\n",
    "\n",
    "sns.reset_defaults()\n",
    "sns.set_context(context=\"talk\", font_scale=0.7)\n",
    "\n",
    "import hvplot.xarray\n",
    "import hvplot.pandas\n",
    "\n",
    "from inr4ssh._src.operators.finite_diff import calculate_gradient, calculate_laplacian\n",
    "from inr4ssh._src.preprocess.subset import temporal_subset, spatial_subset\n",
    "from inr4ssh._src.preprocess.coords import (\n",
    "    correct_coordinate_labels,\n",
    "    correct_longitude_domain,\n",
    ")\n",
    "from inr4ssh._src.data.ssh_obs import load_ssh_altimetry_data_train\n",
    "from inr4ssh._src.viz.movie import create_movie\n",
    "\n",
    "%matplotlib inline\n",
    "%load_ext autoreload\n",
    "%autoreload 2"
   ]
  },
  {
   "cell_type": "markdown",
   "id": "80762636-5595-44c1-bd4c-0a54ea5a7a15",
   "metadata": {},
   "source": [
    "## Observations"
   ]
  },
  {
   "cell_type": "code",
   "execution_count": null,
   "id": "016af0f0-f9d9-4e23-9174-a1349fcf0d98",
   "metadata": {},
   "outputs": [],
   "source": [
    "train_data_dir = f\"/Volumes/EMANS_HDD/data/dc21b/train\"\n",
    "# train_data_dir =\n",
    "\n",
    "ds_obs = load_ssh_altimetry_data_train(train_data_dir)"
   ]
  },
  {
   "cell_type": "code",
   "execution_count": null,
   "id": "ac389e3a-7eee-4bcc-a0dc-6591da15fea3",
   "metadata": {},
   "outputs": [],
   "source": [
    "variable = \"sla_unfiltered\""
   ]
  },
  {
   "cell_type": "code",
   "execution_count": null,
   "id": "2d3eea59-6c53-46a2-a9e7-b7e2ba6bdde9",
   "metadata": {},
   "outputs": [],
   "source": [
    "# temporal subset\n",
    "ds_obs = temporal_subset(\n",
    "    ds_obs,\n",
    "    time_min=np.datetime64(\"2017-01-01\"),\n",
    "    time_max=np.datetime64(\"2018-01-01\"),\n",
    "    # time_min=np.datetime64(\"2017-01-01\"),\n",
    "    # time_max=np.datetime64(\"2017-02-01\"),\n",
    "    time_buffer=0.0,\n",
    "    time_buffer_order=\"D\",\n",
    ")"
   ]
  },
  {
   "cell_type": "code",
   "execution_count": null,
   "id": "38596c0d-41d1-43c6-8500-b3a894bdc7d8",
   "metadata": {},
   "outputs": [],
   "source": []
  },
  {
   "cell_type": "code",
   "execution_count": null,
   "id": "74093ea4-c200-4b26-a02c-fb52ad187ad7",
   "metadata": {},
   "outputs": [],
   "source": [
    "ds_obs = ds_obs[[\"latitude\", \"longitude\", variable]].reset_coords().astype(\"f4\").load()"
   ]
  },
  {
   "cell_type": "code",
   "execution_count": null,
   "id": "70011ac5-d815-4e36-86bc-2961acaf3b27",
   "metadata": {},
   "outputs": [],
   "source": [
    "ds_obs"
   ]
  },
  {
   "cell_type": "code",
   "execution_count": null,
   "id": "cea0dc8e-aa92-4830-8af1-0e7e147bb842",
   "metadata": {},
   "outputs": [],
   "source": [
    "df_obs = ds_obs.to_dataframe()  # .reset_index()"
   ]
  },
  {
   "cell_type": "code",
   "execution_count": null,
   "id": "e0510746-c306-4bd3-9a35-58d191a04bfe",
   "metadata": {},
   "outputs": [],
   "source": [
    "df_obs"
   ]
  },
  {
   "cell_type": "code",
   "execution_count": null,
   "id": "9455652a-414e-4206-a436-fd480d5ee002",
   "metadata": {},
   "outputs": [],
   "source": [
    "df_sla_mean = (\n",
    "    df_obs.groupby([\"latitude\", \"longitude\", pd.Grouper(freq=\"D\", level=\"time\")])[\n",
    "        variable\n",
    "    ]\n",
    "    .mean()\n",
    "    .reset_index()\n",
    ")"
   ]
  },
  {
   "cell_type": "code",
   "execution_count": null,
   "id": "5c22bc5b-1c5c-4e88-b4c7-953c25b99ab6",
   "metadata": {},
   "outputs": [],
   "source": [
    "# df_sla_mean.hvplot.scatter(\n",
    "#     x='longitude', y='latitude', groupby='time',\n",
    "#     datashade=True, #coastline=True\n",
    "#     # tiles=True\n",
    "# )"
   ]
  },
  {
   "cell_type": "code",
   "execution_count": null,
   "id": "b5efc8df-d5b3-4b1f-b70f-719eb0362275",
   "metadata": {},
   "outputs": [],
   "source": [
    "import pyinterp\n",
    "\n",
    "lon_min = 285.0\n",
    "lon_max = 315.0\n",
    "lon_buffer = 1.0\n",
    "lat_min = 23.0\n",
    "lat_max = 53.0\n",
    "bin_lon_step = 0.1\n",
    "bin_lat_step = 0.1"
   ]
  },
  {
   "cell_type": "code",
   "execution_count": null,
   "id": "6024566f-6531-427a-a7a4-671b95cb02ae",
   "metadata": {},
   "outputs": [],
   "source": [
    "binning = pyinterp.Histogram2D(\n",
    "    pyinterp.Axis(np.arange(lon_min, lon_max, bin_lon_step), is_circle=True),\n",
    "    pyinterp.Axis(np.arange(lat_min, lat_max + bin_lat_step, bin_lat_step)),\n",
    ")"
   ]
  },
  {
   "cell_type": "code",
   "execution_count": null,
   "id": "eb907c46-cf52-4dee-b546-22379fbbce11",
   "metadata": {},
   "outputs": [],
   "source": [
    "binning"
   ]
  },
  {
   "cell_type": "code",
   "execution_count": null,
   "id": "3c50707a-1ea1-4ae9-aba7-f9cab547e96f",
   "metadata": {},
   "outputs": [],
   "source": [
    "binning.x[:].shape, binning.y[:].shape, binning.variable(\"mean\").shape,"
   ]
  },
  {
   "cell_type": "code",
   "execution_count": null,
   "id": "c3cb9669-474c-43a8-a51c-83ef1f773c7d",
   "metadata": {},
   "outputs": [],
   "source": [
    "def create_xarray(grid, lon_coord, lat_coord, time_coord):\n",
    "    return xr.Dataset(\n",
    "        {\n",
    "            \"ssh\": ((\"time\", \"latitude\", \"longitude\"), grid),\n",
    "            \"time\": (\"time\", time_coord),\n",
    "            \"latitude\": (\"latitude\", lat_coord),\n",
    "            \"longitude\": (\"longitude\", lon_coord),\n",
    "        },\n",
    "    )"
   ]
  },
  {
   "cell_type": "code",
   "execution_count": null,
   "id": "e3d60e91-a2cf-4f3b-b506-5609a77e2c11",
   "metadata": {},
   "outputs": [],
   "source": []
  },
  {
   "cell_type": "code",
   "execution_count": null,
   "id": "e1a992ec-4778-4029-b44c-3e34f26cba08",
   "metadata": {},
   "outputs": [],
   "source": [
    "ds_xr = []\n",
    "from tqdm.notebook import tqdm\n",
    "\n",
    "for itime in tqdm(df_sla_mean.groupby(\"time\")):\n",
    "\n",
    "    # do binning\n",
    "    binning.push(\n",
    "        itime[1].longitude,\n",
    "        itime[1].latitude,\n",
    "        itime[1][variable],\n",
    "        # simple=True\n",
    "    )\n",
    "\n",
    "    # create temp df\n",
    "    ids = create_xarray(\n",
    "        binning.variable(\"mean\").T[None, :], binning.x[:], binning.y[:], [itime[0]]\n",
    "    )\n",
    "\n",
    "    binning.clear()\n",
    "\n",
    "    # add to dataframe\n",
    "    ds_xr.append(ids)"
   ]
  },
  {
   "cell_type": "code",
   "execution_count": null,
   "id": "121bf95a-e84a-47cd-b29b-808ab867ed20",
   "metadata": {},
   "outputs": [],
   "source": [
    "ds_xr = xr.concat(ds_xr, dim=\"time\")"
   ]
  },
  {
   "cell_type": "code",
   "execution_count": null,
   "id": "fcaa7b2c-ad57-4ccb-8e36-7df8d2cfa5eb",
   "metadata": {},
   "outputs": [],
   "source": [
    "# correct longitude domain\n",
    "ds_xr = correct_longitude_domain(ds_xr)"
   ]
  },
  {
   "cell_type": "code",
   "execution_count": null,
   "id": "9dd72da1-1831-4146-8683-da2e086ba1b1",
   "metadata": {},
   "outputs": [],
   "source": [
    "ds_xr"
   ]
  },
  {
   "cell_type": "code",
   "execution_count": null,
   "id": "388f1166-6254-430b-8bce-7e7155c263e0",
   "metadata": {},
   "outputs": [],
   "source": [
    "# save_path = \"./\"\n",
    "# create_movie(ds_xr.ssh, f\"obs\", \"time\", cmap=\"viridis\", file_path=save_path)"
   ]
  },
  {
   "cell_type": "code",
   "execution_count": null,
   "id": "6a6d6301-9878-430f-8117-0c6201f4602d",
   "metadata": {},
   "outputs": [],
   "source": [
    "ds_xr.ssh.hvplot.image(\n",
    "    x=\"longitude\",\n",
    "    y=\"latitude\",\n",
    "    # groupby='time',\n",
    "    # rasterize=True,\n",
    "    width=500,\n",
    "    height=400,\n",
    "    cmap=\"viridis\",\n",
    ")"
   ]
  },
  {
   "cell_type": "code",
   "execution_count": null,
   "id": "1c2cf97f-2f13-49ab-87e2-8ababadf345d",
   "metadata": {},
   "outputs": [],
   "source": [
    "import powerspec as ps"
   ]
  },
  {
   "cell_type": "code",
   "execution_count": null,
   "id": "278d3197-a43c-4d9b-a052-11e8e72ce633",
   "metadata": {},
   "outputs": [],
   "source": []
  },
  {
   "cell_type": "markdown",
   "id": "efd277f1-c914-4d23-80c4-b7890f47725a",
   "metadata": {},
   "source": [
    "## Previous Work"
   ]
  },
  {
   "cell_type": "code",
   "execution_count": null,
   "id": "fcdcc6ec-3faa-4d00-9991-24d9204996a7",
   "metadata": {},
   "outputs": [],
   "source": [
    "model = \"DYMOST\"  # \"MIOST\" # \"DUACS\" # \"BASELINE\" # \"BFN\" # \"4DVARNET\" #"
   ]
  },
  {
   "cell_type": "code",
   "execution_count": null,
   "id": "ef2eb442-437b-4279-942f-37f461cd3d64",
   "metadata": {},
   "outputs": [],
   "source": [
    "!ls /Volumes/EMANS_HDD/data/dc21b/results/"
   ]
  },
  {
   "cell_type": "code",
   "execution_count": null,
   "id": "2aa9e572-20c8-4203-9441-f41552db5f55",
   "metadata": {},
   "outputs": [],
   "source": [
    "data_dir = f\"/Volumes/EMANS_HDD/data/dc21b/results/OSE_ssh_mapping_{model}.nc\""
   ]
  },
  {
   "cell_type": "code",
   "execution_count": null,
   "id": "620c5c27-fad0-4328-882e-e3ae2b51c561",
   "metadata": {},
   "outputs": [],
   "source": [
    "ds = xr.open_dataset(data_dir)"
   ]
  },
  {
   "cell_type": "markdown",
   "id": "b467e2cb-32e0-4b24-88a9-1dd934ad7c8b",
   "metadata": {},
   "source": [
    "#### Corrections"
   ]
  },
  {
   "cell_type": "code",
   "execution_count": null,
   "id": "c99551c7-382e-46e7-bb99-9a3357d19525",
   "metadata": {},
   "outputs": [],
   "source": [
    "# correct labels\n",
    "ds = correct_coordinate_labels(ds)\n",
    "\n",
    "# correct longitude domain\n",
    "ds = correct_longitude_domain(ds)"
   ]
  },
  {
   "cell_type": "markdown",
   "id": "f9851603-6b37-43b6-94be-121982620446",
   "metadata": {},
   "source": [
    "#### Time Period\n",
    "\n",
    "**Daily Mean**"
   ]
  },
  {
   "cell_type": "code",
   "execution_count": null,
   "id": "c719d9b2-06eb-47a7-94bf-0add8a6df1b0",
   "metadata": {},
   "outputs": [],
   "source": [
    "# resample to daily mean\n",
    "ds = ds.resample(time=\"1D\").mean()"
   ]
  },
  {
   "cell_type": "markdown",
   "id": "501d1829-67d6-4036-9987-049408fcad6f",
   "metadata": {},
   "source": [
    "#### Spatio-Temporal Subset"
   ]
  },
  {
   "cell_type": "code",
   "execution_count": null,
   "id": "d5a36205-0d9d-4f9f-8b18-d08efd1a99b4",
   "metadata": {},
   "outputs": [],
   "source": [
    "# temporal subset\n",
    "ds = temporal_subset(\n",
    "    ds,\n",
    "    time_min=np.datetime64(\"2017-01-01\"),\n",
    "    time_max=np.datetime64(\"2018-01-01\"),\n",
    "    time_buffer=7.0,\n",
    "    time_buffer_order=\"D\",\n",
    ")"
   ]
  },
  {
   "cell_type": "code",
   "execution_count": null,
   "id": "1300821b-f776-4e21-b7bd-c221c2d02d7d",
   "metadata": {},
   "outputs": [],
   "source": [
    "# spatial subset\n",
    "if model != \"4DVARNET\":\n",
    "    ds = spatial_subset(\n",
    "        ds,\n",
    "        lon_min=285.0,\n",
    "        lon_max=315.0,\n",
    "        lon_buffer=1.0,\n",
    "        lat_min=23.0,\n",
    "        lat_max=53.0,\n",
    "        lat_buffer=1.0,\n",
    "    )"
   ]
  },
  {
   "cell_type": "code",
   "execution_count": null,
   "id": "281ea42d-9331-4f10-851c-6b225c6cc898",
   "metadata": {},
   "outputs": [],
   "source": [
    "ds"
   ]
  },
  {
   "cell_type": "code",
   "execution_count": null,
   "id": "4438ef90-9c48-4cdb-b700-cfed7e172afb",
   "metadata": {},
   "outputs": [],
   "source": [
    "# save_path = \"./\"\n",
    "# create_movie(ds.ssh, f\"field_{model.lower()}\", \"time\", cmap=\"viridis\", file_path=save_path)"
   ]
  },
  {
   "cell_type": "markdown",
   "id": "b55095c0-4a78-4157-9279-748c66cc8fd1",
   "metadata": {},
   "source": [
    "#### SSH"
   ]
  },
  {
   "cell_type": "code",
   "execution_count": null,
   "id": "7216894e-27de-4e69-8569-e90e051a4a88",
   "metadata": {},
   "outputs": [],
   "source": [
    "ds.ssh.hvplot.image(\n",
    "    x=\"longitude\",\n",
    "    y=\"latitude\",\n",
    "    # groupby='time',\n",
    "    # rasterize=True,\n",
    "    width=500,\n",
    "    height=400,\n",
    "    cmap=\"viridis\",\n",
    ")"
   ]
  },
  {
   "cell_type": "markdown",
   "id": "9aca140a-69a9-4d78-a0e9-3bd6e33c0dfa",
   "metadata": {},
   "source": [
    "#### Gradient"
   ]
  },
  {
   "cell_type": "code",
   "execution_count": null,
   "id": "146be86a-6868-4346-8803-0767d376b79f",
   "metadata": {},
   "outputs": [],
   "source": [
    "ds[\"ssh_grad\"] = calculate_gradient(ds[\"ssh\"], \"longitude\", \"latitude\")"
   ]
  },
  {
   "cell_type": "code",
   "execution_count": null,
   "id": "50f75168-f81e-4646-95f7-23fedcc97693",
   "metadata": {},
   "outputs": [],
   "source": [
    "# create_movie(ds.ssh_grad, f\"field_{model.lower()}_grad\", \"time\", cmap=\"Spectral_r\", file_path=save_path)\n",
    "#"
   ]
  },
  {
   "cell_type": "code",
   "execution_count": null,
   "id": "63302803-ef09-4d01-8e27-137df7e78918",
   "metadata": {},
   "outputs": [],
   "source": [
    "ds.ssh_grad.hvplot.image(\n",
    "    x=\"longitude\",\n",
    "    y=\"latitude\",\n",
    "    # groupby='time',\n",
    "    # rasterize=True,\n",
    "    width=500,\n",
    "    height=400,\n",
    "    cmap=\"Spectral_r\",\n",
    ")"
   ]
  },
  {
   "cell_type": "markdown",
   "id": "d17be056-0cf9-4768-ba8a-e0ea23be9052",
   "metadata": {},
   "source": [
    "#### (Norm) Laplacian"
   ]
  },
  {
   "cell_type": "code",
   "execution_count": null,
   "id": "18557df0-00fb-49ae-8d8e-517ab639181b",
   "metadata": {
    "tags": []
   },
   "outputs": [],
   "source": [
    "ds[\"ssh_lap\"] = calculate_laplacian(ds[\"ssh\"], \"longitude\", \"latitude\")"
   ]
  },
  {
   "cell_type": "code",
   "execution_count": null,
   "id": "010ff15e-6ccb-4b38-a150-454535e200c3",
   "metadata": {},
   "outputs": [],
   "source": [
    "# create_movie(ds.ssh_lap, f\"field_{model.lower()}_lap\", \"time\", cmap=\"RdBu_r\", file_path=save_path)"
   ]
  },
  {
   "cell_type": "code",
   "execution_count": null,
   "id": "1184aacd-a5d0-4875-9b0a-8f6a78952265",
   "metadata": {},
   "outputs": [],
   "source": [
    "ds.ssh_lap.hvplot.image(\n",
    "    x=\"longitude\",\n",
    "    y=\"latitude\",\n",
    "    # groupby='time',\n",
    "    # rasterize=True,\n",
    "    width=500,\n",
    "    height=400,\n",
    "    cmap=\"RdBu_r\",\n",
    ")"
   ]
  },
  {
   "cell_type": "code",
   "execution_count": null,
   "id": "05a9d50e-1bf7-4572-ac7e-f4e569430493",
   "metadata": {},
   "outputs": [],
   "source": []
  }
 ],
 "metadata": {
  "kernelspec": {
   "display_name": "Python [conda env:anaconda]",
   "language": "python",
   "name": "conda-env-anaconda-py"
  },
  "language_info": {
   "codemirror_mode": {
    "name": "ipython",
    "version": 3
   },
   "file_extension": ".py",
   "mimetype": "text/x-python",
   "name": "python",
   "nbconvert_exporter": "python",
   "pygments_lexer": "ipython3",
   "version": "3.9.13"
  }
 },
 "nbformat": 4,
 "nbformat_minor": 5
}
