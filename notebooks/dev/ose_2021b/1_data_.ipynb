{
 "cells": [
  {
   "cell_type": "code",
   "execution_count": null,
   "metadata": {},
   "outputs": [],
   "source": [
    "import sys, os\n",
    "from pyprojroot import here\n",
    "\n",
    "# spyder up to find the root\n",
    "root = here(project_files=[\".root\"])\n",
    "\n",
    "\n",
    "# append to path\n",
    "sys.path.append(str(root))"
   ]
  },
  {
   "cell_type": "code",
   "execution_count": null,
   "metadata": {},
   "outputs": [],
   "source": [
    "import numpy as np\n",
    "import pandas as pd\n",
    "import xarray as xr\n",
    "import matplotlib.pyplot as plt\n",
    "import seaborn as sns\n",
    "\n",
    "sns.reset_defaults()\n",
    "sns.set_context(context=\"talk\", font_scale=0.7)\n",
    "\n",
    "import hvplot.xarray\n",
    "import hvplot.pandas\n",
    "\n",
    "from inr4ssh._src.operators.finite_diff import calculate_gradient, calculate_laplacian\n",
    "from inr4ssh._src.preprocess.subset import temporal_subset, spatial_subset\n",
    "from inr4ssh._src.preprocess.coords import (\n",
    "    correct_coordinate_labels,\n",
    "    correct_longitude_domain,\n",
    ")\n",
    "from inr4ssh._src.data.ssh_obs import load_ssh_altimetry_data_train\n",
    "\n",
    "from inr4ssh._src.preprocess.coords import correct_coordinate_labels\n",
    "from inr4ssh._src.preprocess.obs import bin_observations\n",
    "from inr4ssh._src.viz.movie import create_movie\n",
    "from inr4ssh._src.metrics.psd import psd_isotropic\n",
    "from inr4ssh._src.viz.psd.isotropic import plot_psd_isotropic\n",
    "from inr4ssh._src.viz.obs import plot_obs_demo\n",
    "from inr4ssh._src.metrics.psd import psd_spacetime, psd_spacetime_dask\n",
    "from inr4ssh._src.viz.psd.spacetime import (\n",
    "    plot_psd_spacetime_wavelength,\n",
    "    plot_psd_spacetime_wavenumber,\n",
    ")\n",
    "\n",
    "%matplotlib inline\n",
    "%load_ext autoreload\n",
    "%autoreload 2"
   ]
  },
  {
   "cell_type": "markdown",
   "metadata": {},
   "source": [
    "## Data"
   ]
  },
  {
   "cell_type": "markdown",
   "metadata": {},
   "source": [
    "### Evaluation Field"
   ]
  },
  {
   "cell_type": "code",
   "execution_count": null,
   "metadata": {},
   "outputs": [],
   "source": [
    "!ls /Volumes/EMANS_HDD/data/dc21b/results/"
   ]
  },
  {
   "cell_type": "code",
   "execution_count": null,
   "metadata": {},
   "outputs": [],
   "source": [
    "url = \"/Volumes/EMANS_HDD/data/dc21b/results/OSE_ssh_mapping_MIOST.nc\"\n",
    "\n",
    "\n",
    "def preprocess(ds):\n",
    "\n",
    "    # subset time\n",
    "    ds = ds.sel(time=slice(np.datetime64(\"2012-10-22\"), np.datetime64(\"2012-12-02\")))\n",
    "\n",
    "    return ds\n",
    "\n",
    "\n",
    "ds_field = xr.open_dataset(url)\n",
    "\n",
    "# ds_field = ds_field.sel(\n",
    "#     time=slice(np.datetime64(\"2012-10-22\"), np.datetime64(\"2012-12-02\"))\n",
    "# )\n",
    "#\n",
    "# ds_field = (\n",
    "#     ds_field.rename({\"lon\": \"longitude\"})\n",
    "#     .rename({\"lat\": \"latitude\"})\n",
    "#     .rename({\"sossheig\": \"ssh\"})\n",
    "# )\n",
    "#\n",
    "# ds_field = ds_field.resample(time=\"1D\").mean()\n",
    "\n",
    "ds_field = correct_coordinate_labels(ds_field)\n",
    "\n",
    "ds_field"
   ]
  },
  {
   "cell_type": "code",
   "execution_count": null,
   "metadata": {},
   "outputs": [],
   "source": [
    "# create_movie(ds_field.ssh, \"ssh_dc21b_siren\", framedim=\"time\", cmap=\"viridis\")"
   ]
  },
  {
   "cell_type": "markdown",
   "metadata": {},
   "source": [
    "## Alongtrack Observations"
   ]
  },
  {
   "cell_type": "code",
   "execution_count": null,
   "metadata": {},
   "outputs": [],
   "source": [
    "url = \"/Volumes/EMANS_HDD/data/dc21b/train/dt_gulfstream_*.nc\"\n",
    "\n",
    "\n",
    "def preprocess(ds):\n",
    "\n",
    "    # subset time\n",
    "    ds = ds.sel(time=slice(np.datetime64(\"2012-10-22\"), np.datetime64(\"2012-12-02\")))\n",
    "\n",
    "    return ds\n",
    "\n",
    "\n",
    "ds_obs = xr.open_mfdataset(url, preprocess=None, combine=\"nested\", concat_dim=\"time\")\n",
    "\n",
    "# ds_field = ds_field.sel(\n",
    "#     time=slice(np.datetime64(\"2012-10-22\"), np.datetime64(\"2012-12-02\"))\n",
    "# )\n",
    "#\n",
    "# ds_field = (\n",
    "#     ds_field.rename({\"lon\": \"longitude\"})\n",
    "#     .rename({\"lat\": \"latitude\"})\n",
    "#     .rename({\"sossheig\": \"ssh\"})\n",
    "# )\n",
    "#\n",
    "# ds_field = ds_field.resample(time=\"1D\").mean()\n",
    "\n",
    "ds_obs = correct_coordinate_labels(ds_obs)\n",
    "\n",
    "ds_obs = ds_obs.sortby(\"time\")\n",
    "\n",
    "ds_obs"
   ]
  },
  {
   "cell_type": "code",
   "execution_count": null,
   "metadata": {},
   "outputs": [],
   "source": [
    "ds_obs"
   ]
  },
  {
   "cell_type": "code",
   "execution_count": null,
   "metadata": {},
   "outputs": [],
   "source": [
    "from inr4ssh._src.viz.obs import plot_obs_demo"
   ]
  },
  {
   "cell_type": "code",
   "execution_count": null,
   "metadata": {},
   "outputs": [],
   "source": []
  },
  {
   "cell_type": "code",
   "execution_count": null,
   "metadata": {},
   "outputs": [],
   "source": [
    "ds_obs.time.min().values, ds_obs.time.max().values"
   ]
  },
  {
   "cell_type": "code",
   "execution_count": null,
   "metadata": {},
   "outputs": [],
   "source": [
    "central_date = np.datetime64(\"2017-01-20\")\n",
    "num_days = 1\n",
    "delta_t = np.timedelta64(num_days, \"D\")\n",
    "variable = \"sla_unfiltered\"\n",
    "\n",
    "ds_obs[\"time\"] = pd.to_datetime(ds_obs[\"time\"].values)\n",
    "\n",
    "plot_obs_demo(ds_obs, central_date, delta_t, variable, verbose=True)"
   ]
  },
  {
   "cell_type": "code",
   "execution_count": null,
   "metadata": {},
   "outputs": [],
   "source": [
    "ds_obs.sel(time=\"2017-01-20\")"
   ]
  },
  {
   "cell_type": "code",
   "execution_count": null,
   "metadata": {},
   "outputs": [],
   "source": [
    "ds_obs.sel(time=\"2017-1-20\")"
   ]
  },
  {
   "cell_type": "code",
   "execution_count": null,
   "metadata": {},
   "outputs": [],
   "source": [
    "ds_obs.time.min().values, ds_obs.time.max().values"
   ]
  },
  {
   "cell_type": "code",
   "execution_count": null,
   "metadata": {},
   "outputs": [],
   "source": [
    "ds_obs_binned = bin_observations(\n",
    "    ds_obs, ds_field, \"sla_filtered\", np.timedelta64(12, \"h\")\n",
    ")"
   ]
  },
  {
   "cell_type": "code",
   "execution_count": null,
   "metadata": {},
   "outputs": [],
   "source": [
    "ds_obs_binned"
   ]
  },
  {
   "cell_type": "code",
   "execution_count": null,
   "metadata": {},
   "outputs": [],
   "source": [
    "ds_obs_binned = ds_obs_binned.rename({\"sla_filtered\": \"ssh\"})"
   ]
  },
  {
   "cell_type": "code",
   "execution_count": null,
   "metadata": {},
   "outputs": [],
   "source": [
    "ds_obs_binned"
   ]
  },
  {
   "cell_type": "code",
   "execution_count": null,
   "metadata": {},
   "outputs": [],
   "source": [
    "fig, ax = plt.subplots()\n",
    "ds_obs_binned.ssh.sel(time=\"2017-01-20\").plot(cmap=\"viridis\", vmin=-1.3, vmax=1.3)\n",
    "ax.set(xlabel=\"\", ylabel=\"\", title=\"\")\n",
    "plt.tight_layout()\n",
    "plt.show()"
   ]
  },
  {
   "cell_type": "code",
   "execution_count": null,
   "metadata": {},
   "outputs": [],
   "source": [
    "# create_movie(ds_obs_binned.ssh, \"ssh_dc21b_obs\", framedim=\"time\", cmap=\"viridis\")"
   ]
  },
  {
   "cell_type": "code",
   "execution_count": null,
   "metadata": {},
   "outputs": [],
   "source": [
    "def count_num_obs(ds, central_date, delta_t):\n",
    "    tmin = central_date - delta_t\n",
    "    tmax = central_date + delta_t\n",
    "\n",
    "    ds = ds.sel(time=slice(tmin, tmax))\n",
    "\n",
    "    ds = ds.drop_duplicates(dim=\"time\")\n",
    "    return len(ds.values.flatten())"
   ]
  },
  {
   "cell_type": "code",
   "execution_count": null,
   "metadata": {},
   "outputs": [],
   "source": [
    "central_date = np.datetime64(\"2012-10-22\")\n",
    "num_days = 1_0000\n",
    "delta_t = np.timedelta64(num_days, \"D\")\n",
    "\n",
    "count_num_obs(ds_field.ssh, central_date, delta_t)"
   ]
  },
  {
   "cell_type": "code",
   "execution_count": null,
   "metadata": {},
   "outputs": [],
   "source": [
    "ds_field.isel(time=0).ssh.plot.imshow()"
   ]
  },
  {
   "cell_type": "markdown",
   "metadata": {},
   "source": [
    "### Density"
   ]
  },
  {
   "cell_type": "code",
   "execution_count": null,
   "metadata": {},
   "outputs": [],
   "source": [
    "# fig, ax = plt.subplots()\n",
    "# sns.kdeplot(\n",
    "#     # data=ds_field.ssh.values.flatten(),\n",
    "#     # data=np.log(ds_field.ssh_grad.values.flatten()),\n",
    "#     data=np.log(ds_field.ssh_lap.values.flatten()),\n",
    "#     cumulative=True, common_norm=False, common_grid=True,\n",
    "#     ax=ax\n",
    "# )\n",
    "# # ax.set_xlabel(\"SSH [m]\")\n",
    "# # ax.set_xlabel(r\"Log Kinetic Energy [m$^2$s$^{-2}$]\")\n",
    "# ax.set_xlabel(r\"Log Enstropy [s$^{-1}$]\")\n",
    "# ax.set_ylabel(\"Cumulative Density\")\n",
    "# plt.show()"
   ]
  },
  {
   "cell_type": "code",
   "execution_count": null,
   "metadata": {},
   "outputs": [],
   "source": [
    "# fig, ax = plt.subplots()\n",
    "# sns.kdeplot(\n",
    "#     # data=ds_field.ssh.values.flatten(),\n",
    "#     # data=np.log(ds_field.ssh_grad.values.flatten()),\n",
    "#     data=np.log(ds_field.ssh_lap.values.flatten()),\n",
    "#     cumulative=False, common_norm=False, common_grid=True,\n",
    "#     ax=ax\n",
    "# )\n",
    "# # ax.set_xlabel(\"SSH [m]\")\n",
    "# # ax.set_xlabel(r\"Log Kinetic Energy [m$^2$s$^{-2}$]\")\n",
    "# ax.set_xlabel(r\"Log Enstropy [s$^{-1}$]\")\n",
    "# ax.set_ylabel(\"Density\")\n",
    "# plt.show()"
   ]
  },
  {
   "cell_type": "markdown",
   "metadata": {},
   "source": [
    "#### Movie (GIF)"
   ]
  },
  {
   "cell_type": "code",
   "execution_count": null,
   "metadata": {},
   "outputs": [],
   "source": []
  },
  {
   "cell_type": "code",
   "execution_count": null,
   "metadata": {},
   "outputs": [],
   "source": [
    "# create_movie(ds_field.ssh, \"ssh_field\", framedim=\"time\", cmap=\"viridis\")"
   ]
  },
  {
   "cell_type": "markdown",
   "metadata": {},
   "source": [
    "#### Gradients/Laplacian"
   ]
  },
  {
   "cell_type": "code",
   "execution_count": null,
   "metadata": {},
   "outputs": [],
   "source": [
    "from inr4ssh._src.operators.finite_diff import calculate_gradient, calculate_laplacian\n",
    "\n",
    "ds_field[\"ssh_grad\"] = calculate_gradient(ds_field[\"ssh\"], \"longitude\", \"latitude\")\n",
    "ds_field[\"ssh_lap\"] = calculate_gradient(ds_field[\"ssh_grad\"], \"longitude\", \"latitude\")\n",
    "\n",
    "\n",
    "# create_movie(ds_field.ssh_grad, \"ssh_field_grad\", framedim=\"time\", cmap=\"Spectral_r\")\n",
    "create_movie(np.log(ds_field.ssh_lap), \"ssh_field_lap\", framedim=\"time\", cmap=\"RdBu_r\")"
   ]
  },
  {
   "cell_type": "code",
   "execution_count": null,
   "metadata": {},
   "outputs": [],
   "source": []
  },
  {
   "cell_type": "markdown",
   "metadata": {},
   "source": [
    "### PSD"
   ]
  },
  {
   "cell_type": "code",
   "execution_count": null,
   "metadata": {},
   "outputs": [],
   "source": [
    "ds_field_psd = correct_coordinate_labels(ds_field)\n",
    "\n",
    "# grab ssh\n",
    "ds_field_psd = ds_field_psd.ssh\n",
    "\n",
    "# correct units, degrees -> meters\n",
    "ds_field_psd[\"longitude\"] = ds_field_psd.longitude * 111e3\n",
    "ds_field_psd[\"latitude\"] = ds_field_psd.latitude * 111e3\n",
    "\n",
    "# calculate\n",
    "ds_field_psd = psd_isotropic(ds_field_psd)"
   ]
  },
  {
   "cell_type": "code",
   "execution_count": null,
   "metadata": {},
   "outputs": [],
   "source": [
    "fig, ax = plot_psd_isotropic(ds_field_psd.freq_r.values * 1e3, ds_field_psd.values)\n",
    "plt.tight_layout()\n",
    "plt.show()"
   ]
  },
  {
   "cell_type": "markdown",
   "metadata": {},
   "source": [
    "### PSD - Spatial-Temporal"
   ]
  },
  {
   "cell_type": "code",
   "execution_count": null,
   "metadata": {},
   "outputs": [],
   "source": [
    "ds_field_psd = correct_coordinate_labels(ds_field)\n",
    "\n",
    "# grab ssh\n",
    "ds_field_psd = ds_field_psd.ssh_grad\n",
    "\n",
    "# grab ssh\n",
    "ds_field_psd = ds_field_psd.compute()\n",
    "\n",
    "# correct units, degrees -> meters\n",
    "ds_field_psd[\"longitude\"] = ds_field_psd.longitude * 111e3\n",
    "ds_field_psd[\"latitude\"] = ds_field_psd.latitude * 111e3\n",
    "\n",
    "time_norm = np.timedelta64(1, \"D\")\n",
    "# mean psd of signal\n",
    "ds_field_psd[\"time\"] = (ds_field_psd.time - ds_field_psd.time[0]) / time_norm\n",
    "\n",
    "# calculate\n",
    "ds_field_psd = psd_spacetime_dask(ds_field_psd)"
   ]
  },
  {
   "cell_type": "code",
   "execution_count": null,
   "metadata": {},
   "outputs": [],
   "source": [
    "fig, ax, cbar = plot_psd_spacetime_wavelength(\n",
    "    ds_field_psd.freq_longitude * 1e3,\n",
    "    ds_field_psd.freq_time,\n",
    "    ds_field_psd,\n",
    ")\n",
    "\n",
    "plt.tight_layout()\n",
    "plt.show()"
   ]
  },
  {
   "cell_type": "code",
   "execution_count": null,
   "metadata": {},
   "outputs": [],
   "source": [
    "# fig, ax, cbar = plot_psd_spacetime_wavenumber(\n",
    "#     ds_field_psd.freq_longitude * 1e3,\n",
    "#     ds_field_psd.freq_time,\n",
    "#     ds_field_psd,\n",
    "# )\n",
    "\n",
    "# plt.tight_layout()\n",
    "# plt.show()"
   ]
  },
  {
   "cell_type": "markdown",
   "metadata": {},
   "source": [
    "## Observations"
   ]
  },
  {
   "cell_type": "code",
   "execution_count": null,
   "metadata": {},
   "outputs": [],
   "source": [
    "# # grab ssh\n",
    "# ds_field_psd = ds_field.ssh_grad\n",
    "\n",
    "# # correct units, degrees -> meters\n",
    "# ds_field_psd[\"longitude\"] = ds_field_psd.longitude * 111e3\n",
    "# ds_field_psd[\"latitude\"] = ds_field_psd.latitude * 111e3\n",
    "\n",
    "# # calculate\n",
    "# ds_field_psd = psd_isotropic(ds_field_psd)\n",
    "\n",
    "# fig, ax = plot_isotropic_psd(ds_field_psd, freq_scale=1e3)\n",
    "# ax.set_ylabel(r\"PSD [m$^2$s$^{-2}$/cyles/m\")\n",
    "# plt.tight_layout()\n",
    "# plt.show()"
   ]
  },
  {
   "cell_type": "markdown",
   "metadata": {},
   "source": [
    "### Missing Time"
   ]
  },
  {
   "cell_type": "code",
   "execution_count": null,
   "metadata": {},
   "outputs": [],
   "source": [
    "ds_obs = xr.open_dataset(\n",
    "    \"/Users/eman/code_projects/data/osse_2022b/dc_qg_obs_fullfields/ssh_obs_fullfields.nc\"\n",
    ")\n",
    "\n",
    "\n",
    "ds_obs = correct_coordinate_labels(ds_obs)\n",
    "\n",
    "ds_obs = ds_obs.rename({\"ssh\": \"ssh_obs\"})\n",
    "\n",
    "ds_obs"
   ]
  },
  {
   "cell_type": "code",
   "execution_count": null,
   "metadata": {},
   "outputs": [],
   "source": [
    "central_date = np.datetime64(\"2012-10-22\")\n",
    "num_days = 100\n",
    "delta_t = np.timedelta64(num_days, \"D\")\n",
    "\n",
    "count_num_obs(ds_obs.ssh_obs, central_date, delta_t)"
   ]
  },
  {
   "cell_type": "code",
   "execution_count": null,
   "metadata": {},
   "outputs": [],
   "source": [
    "ds_obs = xr.merge([ds_field, ds_obs])"
   ]
  },
  {
   "cell_type": "markdown",
   "metadata": {},
   "source": [
    "#### Movie (GIF)"
   ]
  },
  {
   "cell_type": "code",
   "execution_count": null,
   "metadata": {},
   "outputs": [],
   "source": [
    "# create_movie(ds_obs.ssh_obs, \"ssh_missing_time\", framedim=\"time\", cmap=\"viridis\")"
   ]
  },
  {
   "cell_type": "code",
   "execution_count": null,
   "metadata": {},
   "outputs": [],
   "source": [
    "# !ls /Users/eman/code_projects/data/osse_2022b/dc_qg_obs_nadirlike/"
   ]
  },
  {
   "cell_type": "markdown",
   "metadata": {},
   "source": [
    "### Jason-Like"
   ]
  },
  {
   "cell_type": "code",
   "execution_count": null,
   "metadata": {},
   "outputs": [],
   "source": [
    "ds_obs = xr.open_dataset(\n",
    "    \"/Users/eman/code_projects/data/osse_2022b/dc_qg_obs_jasonlike/ssh_obs_jasonlike.nc\"\n",
    ")\n",
    "\n",
    "ds_obs = ds_obs.sortby(\"time\")\n",
    "\n",
    "ds_obs = correct_coordinate_labels(ds_obs)\n",
    "\n",
    "# ds_obs = ds_obs.rename({\"ssh\": \"ssh_obs\"})\n",
    "ds_obs"
   ]
  },
  {
   "cell_type": "code",
   "execution_count": null,
   "metadata": {},
   "outputs": [],
   "source": [
    "central_date = np.datetime64(\"2012-10-22\")\n",
    "num_days = 100\n",
    "delta_t = np.timedelta64(num_days, \"D\")\n",
    "\n",
    "count_num_obs(ds_obs.ssh_obs, central_date, delta_t)"
   ]
  },
  {
   "cell_type": "code",
   "execution_count": null,
   "metadata": {},
   "outputs": [],
   "source": [
    "central_date = np.datetime64(\"2012-10-22\")\n",
    "num_days = 1\n",
    "delta_t = np.timedelta64(num_days, \"D\")\n",
    "variable = \"ssh_obs\"\n",
    "\n",
    "plot_obs_demo(ds_obs, central_date, delta_t, variable, verbose=True)"
   ]
  },
  {
   "cell_type": "markdown",
   "metadata": {},
   "source": [
    "#### Gridded Dataset"
   ]
  },
  {
   "cell_type": "code",
   "execution_count": null,
   "metadata": {},
   "outputs": [],
   "source": []
  },
  {
   "cell_type": "code",
   "execution_count": null,
   "metadata": {},
   "outputs": [],
   "source": [
    "ds_obs_binned = bin_observations(ds_obs, ds_field, \"ssh_obs\", np.timedelta64(12, \"h\"))"
   ]
  },
  {
   "cell_type": "code",
   "execution_count": null,
   "metadata": {},
   "outputs": [],
   "source": [
    "ds_obs_binned.isel(time=10).ssh_obs.plot()"
   ]
  },
  {
   "cell_type": "markdown",
   "metadata": {},
   "source": [
    "#### Movie (GIF)"
   ]
  },
  {
   "cell_type": "code",
   "execution_count": null,
   "metadata": {},
   "outputs": [],
   "source": [
    "# create_movie(ds_obs_binned.ssh_obs, \"ssh_jasonlike\", framedim=\"time\", cmap=\"viridis\")"
   ]
  },
  {
   "cell_type": "code",
   "execution_count": null,
   "metadata": {},
   "outputs": [],
   "source": []
  },
  {
   "cell_type": "markdown",
   "metadata": {},
   "source": [
    "### NADIR-Like"
   ]
  },
  {
   "cell_type": "code",
   "execution_count": null,
   "metadata": {},
   "outputs": [],
   "source": [
    "ds_obs = xr.open_mfdataset(\n",
    "    \"/Users/eman/code_projects/data/osse_2022b/dc_qg_obs_nadirlike/ssh_obs*.nc\",\n",
    "    combine=\"nested\",\n",
    "    concat_dim=\"time\",\n",
    "    parallel=True,\n",
    "    preprocess=None,\n",
    "    engine=\"netcdf4\",\n",
    ")\n",
    "\n",
    "\n",
    "ds_obs = ds_obs.sortby(\"time\")\n",
    "\n",
    "ds_obs = correct_coordinate_labels(ds_obs)\n",
    "\n",
    "# ds_obs = ds_obs.rename({\"ssh\": \"ssh_obs\"})\n",
    "ds_obs"
   ]
  },
  {
   "cell_type": "code",
   "execution_count": null,
   "metadata": {},
   "outputs": [],
   "source": [
    "central_date = np.datetime64(\"2012-10-22\")\n",
    "num_days = 1\n",
    "\n",
    "delta_t = np.timedelta64(num_days, \"D\")\n",
    "\n",
    "count_num_obs(ds_obs.ssh_obs, central_date, delta_t)"
   ]
  },
  {
   "cell_type": "markdown",
   "metadata": {},
   "source": [
    "#### Demo"
   ]
  },
  {
   "cell_type": "code",
   "execution_count": null,
   "metadata": {},
   "outputs": [],
   "source": [
    "central_date = np.datetime64(\"2012-10-22\")\n",
    "num_days = 10\n",
    "delta_t = np.timedelta64(num_days, \"D\")\n",
    "variable = \"ssh_obs\"\n",
    "\n",
    "plot_obs_demo(ds_obs, central_date, delta_t, variable, verbose=True)"
   ]
  },
  {
   "cell_type": "markdown",
   "metadata": {},
   "source": [
    "#### Gridded Dataset"
   ]
  },
  {
   "cell_type": "code",
   "execution_count": null,
   "metadata": {},
   "outputs": [],
   "source": [
    "ds_obs_binned = bin_observations(ds_obs, ds_field, \"ssh_obs\", np.timedelta64(12, \"h\"))"
   ]
  },
  {
   "cell_type": "code",
   "execution_count": null,
   "metadata": {},
   "outputs": [],
   "source": [
    "ds_obs_binned.isel(time=10).ssh_obs.plot()"
   ]
  },
  {
   "cell_type": "markdown",
   "metadata": {},
   "source": [
    "#### Movie (GIF)"
   ]
  },
  {
   "cell_type": "code",
   "execution_count": null,
   "metadata": {},
   "outputs": [],
   "source": [
    "# create_movie(ds_obs_binned.ssh_obs, \"ssh_nadirlike\", framedim=\"time\", cmap=\"viridis\")"
   ]
  }
 ],
 "metadata": {
  "kernelspec": {
   "display_name": "Python 3.9.13 ('torch_py39')",
   "language": "python",
   "name": "python3"
  },
  "language_info": {
   "codemirror_mode": {
    "name": "ipython",
    "version": 3
   },
   "file_extension": ".py",
   "mimetype": "text/x-python",
   "name": "python",
   "nbconvert_exporter": "python",
   "pygments_lexer": "ipython3",
   "version": "3.9.13"
  },
  "vscode": {
   "interpreter": {
    "hash": "ba845ae818c285ca2fe9389acfa2d2da9f6f964e42b65478d402ad448a072775"
   }
  }
 },
 "nbformat": 4,
 "nbformat_minor": 2
}
