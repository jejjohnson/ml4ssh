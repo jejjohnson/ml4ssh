{
 "cells": [
  {
   "cell_type": "markdown",
   "metadata": {},
   "source": [
    "# Analysis I - Pixel-Wise Stats"
   ]
  },
  {
   "cell_type": "code",
   "execution_count": null,
   "metadata": {},
   "outputs": [],
   "source": [
    "import sys, os\n",
    "from pyprojroot import here\n",
    "\n",
    "# spyder up to find the root\n",
    "root = here(project_files=[\".root\"])\n",
    "\n",
    "\n",
    "# append to path\n",
    "sys.path.append(str(root))"
   ]
  },
  {
   "cell_type": "code",
   "execution_count": null,
   "metadata": {},
   "outputs": [],
   "source": [
    "import numpy as np\n",
    "import pandas as pd\n",
    "import xarray as xr\n",
    "import matplotlib.pyplot as plt\n",
    "import seaborn as sns\n",
    "\n",
    "sns.reset_defaults()\n",
    "sns.set_context(context=\"talk\", font_scale=0.7)\n",
    "\n",
    "import hvplot.xarray\n",
    "import hvplot.pandas\n",
    "\n",
    "from inr4ssh._src.operators.finite_diff import calculate_gradient, calculate_laplacian\n",
    "from inr4ssh._src.preprocess.subset import temporal_subset, spatial_subset\n",
    "from inr4ssh._src.preprocess.coords import (\n",
    "    correct_coordinate_labels,\n",
    "    correct_longitude_domain,\n",
    ")\n",
    "from inr4ssh._src.data.ssh_obs import load_ssh_altimetry_data_train\n",
    "\n",
    "from inr4ssh._src.preprocess.coords import correct_coordinate_labels\n",
    "from inr4ssh._src.preprocess.obs import bin_observations\n",
    "from inr4ssh._src.viz.movie import create_movie\n",
    "from inr4ssh._src.metrics.psd import psd_isotropic\n",
    "from inr4ssh._src.viz.psd.isotropic import plot_psd_isotropic\n",
    "from inr4ssh._src.viz.obs import plot_obs_demo\n",
    "from inr4ssh._src.metrics.psd import psd_spacetime, psd_spacetime_dask\n",
    "from inr4ssh._src.viz.psd.spacetime import (\n",
    "    plot_psd_spacetime_wavelength,\n",
    "    plot_psd_spacetime_wavenumber,\n",
    ")\n",
    "from inr4ssh._src.viz.psd.spacetime import (\n",
    "    plot_psd_spacetime_score_wavelength,\n",
    "    plot_psd_spacetime_score_wavenumber,\n",
    ")\n",
    "\n",
    "%matplotlib inline\n",
    "%load_ext autoreload\n",
    "%autoreload 2"
   ]
  },
  {
   "cell_type": "markdown",
   "metadata": {},
   "source": [
    "## Data"
   ]
  },
  {
   "cell_type": "markdown",
   "metadata": {},
   "source": [
    "### Evaluation Field"
   ]
  },
  {
   "cell_type": "code",
   "execution_count": null,
   "metadata": {},
   "outputs": [],
   "source": [
    "url = \"/Volumes/EMANS_HDD/data/dc20a_osse/raw/dc_ref/NATL60-CJM165_GULFSTREAM_*.nc\"\n",
    "\n",
    "\n",
    "def preprocess(ds):\n",
    "\n",
    "    # subset time\n",
    "    ds = ds.sel(time=slice(np.datetime64(\"2012-10-22\"), np.datetime64(\"2012-12-02\")))\n",
    "\n",
    "    return ds\n",
    "\n",
    "\n",
    "ds_field = xr.open_mfdataset(url, preprocess=None)\n",
    "\n",
    "# ds_field = ds_field.sel(\n",
    "#     time=slice(np.datetime64(\"2012-10-22\"), np.datetime64(\"2012-12-02\"))\n",
    "# )\n",
    "\n",
    "# ds_field = (\n",
    "#     ds_field.rename({\"lon\": \"longitude\"})\n",
    "#     .rename({\"lat\": \"latitude\"})\n",
    "#     .rename({\"sossheig\": \"ssh\"})\n",
    "# )\n",
    "\n",
    "# ds_field = ds_field.resample(time=\"1D\").mean()\n",
    "\n",
    "# # ds_field = correct_coordinate_labels(ds_field)\n",
    "\n",
    "ds_field"
   ]
  },
  {
   "cell_type": "markdown",
   "metadata": {},
   "source": [
    "### Example Results"
   ]
  },
  {
   "cell_type": "markdown",
   "metadata": {},
   "source": [
    "```bash\n",
    "!wget https://ige-meom-opendap.univ-grenoble-alpes.fr/thredds/fileServer/meomopendap/extract/ocean-data-challenges/dc_data1/dc_mapping/2020a_SSH_mapping_NATL60_MIOST_en_j1_tpn_g2.nc\n",
    "!wget https://ige-meom-opendap.univ-grenoble-alpes.fr/thredds/fileServer/meomopendap/extract/ocean-data-challenges/dc_data1/dc_mapping/2020a_SSH_mapping_NATL60_MIOST_swot_en_j1_tpn_g2.nc\n",
    "!wget https://ige-meom-opendap.univ-grenoble-alpes.fr/thredds/fileServer/meomopendap/extract/ocean-data-challenges/dc_data1/dc_mapping/2020a_SSH_mapping_NATL60_DUACS_en_j1_tpn_g2.nc\n",
    "!wget https://ige-meom-opendap.univ-grenoble-alpes.fr/thredds/fileServer/meomopendap/extract/ocean-data-challenges/dc_data1/dc_mapping/2020a_SSH_mapping_NATL60_DUACS_swot_en_j1_tpn_g2.nc\n",
    "!wget https://ige-meom-opendap.univ-grenoble-alpes.fr/thredds/fileServer/meomopendap/extract/ocean-data-challenges/dc_data1/dc_mapping/2020a_SSH_mapping_NATL60_4DVarNet_v2022_nadirswot_GF_GF.nc\n",
    "!wget https://ige-meom-opendap.univ-grenoble-alpes.fr/thredds/fileServer/meomopendap/extract/ocean-data-challenges/dc_data1/dc_mapping/2020a_SSH_mapping_NATL60_4DVarNet_v2022_nadir_GF_GF.nc\n",
    "!wget https://ige-meom-opendap.univ-grenoble-alpes.fr/thredds/fileServer/meomopendap/extract/ocean-data-challenges/dc_data1/dc_mapping/2020a_SSH_mapping_NATL60_BFN_Steady_State_QG1L_en_j1_tpn_g2.nc\n",
    "!wget https://ige-meom-opendap.univ-grenoble-alpes.fr/thredds/fileServer/meomopendap/extract/ocean-data-challenges/dc_data1/dc_mapping/2020a_SSH_mapping_NATL60_BFN_Steady_State_QG1L_swot_en_j1_tpn_g2.nc\n",
    "```"
   ]
  },
  {
   "cell_type": "code",
   "execution_count": null,
   "metadata": {},
   "outputs": [],
   "source": [
    "!ls /Volumes/EMANS_HDD/data/dc20a_osse/results/nadir4/"
   ]
  },
  {
   "cell_type": "code",
   "execution_count": null,
   "metadata": {},
   "outputs": [],
   "source": [
    "url = \"/Volumes/EMANS_HDD/data/dc20a_osse/results/nadir4/2020a_SSH_mapping_NATL60_DUACS_en_j1_tpn_g2.nc\"\n",
    "ds_predict = xr.open_dataset(url)\n",
    "\n",
    "ds_predict"
   ]
  },
  {
   "cell_type": "markdown",
   "metadata": {},
   "source": [
    "## PostProcessing"
   ]
  },
  {
   "cell_type": "markdown",
   "metadata": {},
   "source": [
    "### Cleaning\n",
    "\n",
    "* Evaluation Period\n",
    "* Lat/Lon Labels\n",
    "* Longitude Range\n",
    "* Regridding"
   ]
  },
  {
   "cell_type": "code",
   "execution_count": null,
   "metadata": {},
   "outputs": [],
   "source": [
    "from inr4ssh._src.preprocess.regrid import oi_regrid\n",
    "\n",
    "\n",
    "def post_process(ds, ds_ref, variable_ref, variable_pred):\n",
    "\n",
    "    # subset temporal space\n",
    "    ds = ds.sel(time=slice(np.datetime64(\"2012-10-22\"), np.datetime64(\"2012-12-02\")))\n",
    "    ds_ref = ds_ref.sel(\n",
    "        time=slice(np.datetime64(\"2012-10-22\"), np.datetime64(\"2012-12-02\"))\n",
    "    )\n",
    "\n",
    "    # resample the reference grid\n",
    "    # TODO: make this optional\n",
    "    ds_ref = ds_ref.resample(time=\"1D\").mean()\n",
    "\n",
    "    # correct coordinate labels\n",
    "    ds = correct_coordinate_labels(ds)\n",
    "    ds_ref = correct_coordinate_labels(ds_ref)\n",
    "\n",
    "    # correct labels\n",
    "    ds_ref = ds_ref.rename({variable_ref: \"ssh\"})\n",
    "    ds = ds.rename({variable_pred: \"ssh\"})\n",
    "\n",
    "    # correct longitude domain\n",
    "    ds = correct_longitude_domain(ds)\n",
    "    ds_ref = correct_longitude_domain(ds_ref)\n",
    "\n",
    "    # regrid data\n",
    "    ds_ref[\"ssh_predict\"] = oi_regrid(ds[\"ssh\"], ds_ref[\"ssh\"])\n",
    "\n",
    "    return ds_ref"
   ]
  },
  {
   "cell_type": "code",
   "execution_count": null,
   "metadata": {},
   "outputs": [],
   "source": [
    "ds_field = post_process(ds_predict, ds_field, \"sossheig\", \"gssh\")"
   ]
  },
  {
   "cell_type": "code",
   "execution_count": null,
   "metadata": {},
   "outputs": [],
   "source": [
    "ds_field"
   ]
  },
  {
   "cell_type": "markdown",
   "metadata": {},
   "source": [
    "## Metrics - Isotropic PSD"
   ]
  },
  {
   "cell_type": "code",
   "execution_count": null,
   "metadata": {},
   "outputs": [],
   "source": [
    "def lonlat2dxdy(lon, lat):\n",
    "    dlon = np.gradient(lon)\n",
    "    dlat = np.gradient(lat)\n",
    "    dx = np.sqrt(\n",
    "        (dlon[1] * 111000 * np.cos(np.deg2rad(lat))) ** 2 + (dlat[1] * 111000) ** 2\n",
    "    )\n",
    "    dy = np.sqrt(\n",
    "        (dlon[0] * 111000 * np.cos(np.deg2rad(lat))) ** 2 + (dlat[0] * 111000) ** 2\n",
    "    )\n",
    "    dx[0, :] = dx[1, :]\n",
    "    dx[-1, :] = dx[-2, :]\n",
    "    dx[:, 0] = dx[:, 1]\n",
    "    dx[:, -1] = dx[:, -2]\n",
    "    dy[0, :] = dy[1, :]\n",
    "    dy[-1, :] = dy[-2, :]\n",
    "    dy[:, 0] = dy[:, 1]\n",
    "    dy[:, -1] = dy[:, -2]\n",
    "\n",
    "    return dx, dy"
   ]
  },
  {
   "cell_type": "code",
   "execution_count": null,
   "metadata": {},
   "outputs": [],
   "source": [
    "lon.shape, lat.shape, lon_grid.shape, lat_grid.shape, dx.shape, dy.shape"
   ]
  },
  {
   "cell_type": "code",
   "execution_count": null,
   "metadata": {},
   "outputs": [],
   "source": [
    "from inr4ssh._src.operators.finite_diff import calculate_gradient, calculate_laplacian\n",
    "\n",
    "url = \"/Volumes/EMANS_HDD/data/dc21b/results/OSE_ssh_mapping_BASELINE.nc\"\n",
    "ds_baseline = xr.open_dataset(url)\n",
    "ds_baseline = correct_coordinate_labels(ds_baseline)\n",
    "\n",
    "lon, lat = ds_baseline.longitude, ds_baseline.latitude\n",
    "lon_grid, lat_grid = np.meshgrid(lon, lat)\n",
    "\n",
    "dx, dy = lonlat2dxdy(lon_grid, lat_grid)\n",
    "\n",
    "ds_baseline[\"longitude\"] = dy[0, :]\n",
    "ds_baseline[\"latitude\"] = dx[:, 0]\n",
    "\n",
    "ds_baseline = ds_baseline.set_coords([\"longitude\", \"latitude\"])\n",
    "\n",
    "\n",
    "# ds_baseline[\"ssh_grad\"] = calculate_gradient(ds_baseline[\"ssh\"], \"longitude\", \"latitude\")\n",
    "# ds_baseline[\"ssh_lap\"] = calculate_laplacian(ds_baseline[\"ssh\"], \"longitude\", \"latitude\")\n",
    "\n",
    "ds_baseline_psd = psd_isotropic(ds_baseline.ssh)"
   ]
  },
  {
   "cell_type": "code",
   "execution_count": null,
   "metadata": {},
   "outputs": [],
   "source": [
    "from inr4ssh._src.operators.finite_diff import calculate_gradient, calculate_laplacian\n",
    "\n",
    "url = \"/Volumes/EMANS_HDD/data/dc21b/results/OSE_ssh_mapping_BASELINE.nc\"\n",
    "ds_baseline = xr.open_dataset(url)\n",
    "ds_baseline = correct_coordinate_labels(ds_baseline)\n",
    "\n",
    "ds_baseline[\"longitude\"] = ds_baseline.longitude * 111e3\n",
    "ds_baseline[\"latitude\"] = ds_baseline.latitude * 111e3\n",
    "\n",
    "ds_baseline[\"ssh_ke\"] = calculate_gradient(ds_baseline[\"ssh\"], \"longitude\", \"latitude\")\n",
    "ds_baseline[\"ssh_enstrophy\"] = calculate_laplacian(\n",
    "    ds_baseline[\"ssh\"], \"longitude\", \"latitude\"\n",
    ")\n",
    "\n",
    "ds_baseline_psd = psd_isotropic(ds_baseline.ssh)"
   ]
  },
  {
   "cell_type": "code",
   "execution_count": null,
   "metadata": {},
   "outputs": [],
   "source": [
    "# ds_baseline"
   ]
  },
  {
   "cell_type": "code",
   "execution_count": null,
   "metadata": {},
   "outputs": [],
   "source": [
    "url = \"/Volumes/EMANS_HDD/data/dc21b/results/OSE_ssh_mapping_DUACS.nc\"\n",
    "ds_duacs = xr.open_dataset(url)\n",
    "ds_duacs = correct_coordinate_labels(ds_duacs)\n",
    "\n",
    "ds_duacs[\"longitude\"] = ds_duacs.longitude * 111e3\n",
    "ds_duacs[\"latitude\"] = ds_duacs.latitude * 111e3\n",
    "\n",
    "ds_duacs[\"ssh_ke\"] = calculate_gradient(ds_duacs[\"ssh\"], \"longitude\", \"latitude\")\n",
    "ds_duacs[\"ssh_enstrophy\"] = calculate_laplacian(\n",
    "    ds_duacs[\"ssh\"], \"longitude\", \"latitude\"\n",
    ")\n",
    "\n",
    "ds_duacs_psd = psd_isotropic(ds_duacs.ssh)"
   ]
  },
  {
   "cell_type": "code",
   "execution_count": null,
   "metadata": {},
   "outputs": [],
   "source": [
    "url = \"/Volumes/EMANS_HDD/data/dc21b/results/siren_136.nc\"\n",
    "ds_siren = xr.open_dataset(url)\n",
    "ds_siren = correct_coordinate_labels(ds_siren)\n",
    "\n",
    "ds_siren[\"longitude\"] = ds_siren.longitude * 111e3\n",
    "ds_siren[\"latitude\"] = ds_siren.latitude * 111e3\n",
    "\n",
    "ds_siren[\"ssh_ke\"] = calculate_gradient(ds_siren[\"ssh\"], \"longitude\", \"latitude\")\n",
    "ds_siren[\"ssh_enstrophy\"] = calculate_laplacian(\n",
    "    ds_siren[\"ssh\"], \"longitude\", \"latitude\"\n",
    ")\n",
    "\n",
    "ds_siren_psd = psd_isotropic(ds_siren.ssh)"
   ]
  },
  {
   "cell_type": "code",
   "execution_count": null,
   "metadata": {},
   "outputs": [],
   "source": [
    "fig, ax, secax = plot_psd_isotropic(\n",
    "    ds_duacs_psd.freq_r.values * 1e3, ds_duacs_psd.values, color=\"black\"\n",
    ")\n",
    "\n",
    "ax.plot(ds_baseline_psd.freq_r.values * 1e3, ds_baseline_psd.values, color=\"red\")\n",
    "ax.plot(ds_siren_psd.freq_r.values * 1e3, ds_siren_psd.values, color=\"blue\")\n",
    "plt.xlim(\n",
    "    (\n",
    "        min(\n",
    "            np.ma.min(np.ma.masked_invalid(ds_duacs_psd.freq_r.values * 1e3)),\n",
    "            np.ma.min(np.ma.masked_invalid(ds_baseline_psd.freq_r.values * 1e3)),\n",
    "            np.ma.min(np.ma.masked_invalid(ds_siren_psd.freq_r.values * 1e3)),\n",
    "        ),\n",
    "        max(\n",
    "            np.ma.max(np.ma.masked_invalid(ds_duacs_psd.freq_r.values * 1e3)),\n",
    "            np.ma.max(np.ma.masked_invalid(ds_baseline_psd.freq_r.values * 1e3)),\n",
    "            np.ma.max(np.ma.masked_invalid(ds_siren_psd.freq_r.values * 1e3)),\n",
    "        ),\n",
    "    )\n",
    ")\n",
    "plt.legend([\"DUACS\", \"Naive OI\", \"SIREN\"])\n",
    "plt.tight_layout()\n",
    "plt.show()"
   ]
  },
  {
   "cell_type": "code",
   "execution_count": null,
   "metadata": {},
   "outputs": [],
   "source": [
    "ds_baseline_psd = psd_isotropic(ds_baseline.ssh_ke)\n",
    "ds_duacs_psd = psd_isotropic(ds_duacs.ssh_ke)\n",
    "ds_siren_psd = psd_isotropic(ds_siren.ssh_ke)"
   ]
  },
  {
   "cell_type": "code",
   "execution_count": null,
   "metadata": {},
   "outputs": [],
   "source": [
    "fig, ax, secax = plot_psd_isotropic(\n",
    "    ds_duacs_psd.freq_r.values * 1e3, ds_duacs_psd.values, color=\"black\"\n",
    ")\n",
    "\n",
    "ax.plot(ds_baseline_psd.freq_r.values * 1e3, ds_baseline_psd.values, color=\"red\")\n",
    "ax.plot(ds_siren_psd.freq_r.values * 1e3, ds_siren_psd.values, color=\"blue\")\n",
    "plt.xlim(\n",
    "    (\n",
    "        min(\n",
    "            np.ma.min(np.ma.masked_invalid(ds_duacs_psd.freq_r.values * 1e3)),\n",
    "            np.ma.min(np.ma.masked_invalid(ds_baseline_psd.freq_r.values * 1e3)),\n",
    "            np.ma.min(np.ma.masked_invalid(ds_siren_psd.freq_r.values * 1e3)),\n",
    "        ),\n",
    "        max(\n",
    "            np.ma.max(np.ma.masked_invalid(ds_duacs_psd.freq_r.values * 1e3)),\n",
    "            np.ma.max(np.ma.masked_invalid(ds_baseline_psd.freq_r.values * 1e3)),\n",
    "            np.ma.max(np.ma.masked_invalid(ds_siren_psd.freq_r.values * 1e3)),\n",
    "        ),\n",
    "    )\n",
    ")\n",
    "ax.set_ylabel(r\"Kinetic Energy [m$^2$s$^{-2}$/cycles/m]\")\n",
    "plt.legend([\"DUACS\", \"Naive OI\", \"SIREN\"])\n",
    "plt.tight_layout()\n",
    "plt.show()"
   ]
  },
  {
   "cell_type": "code",
   "execution_count": null,
   "metadata": {},
   "outputs": [],
   "source": [
    "ds_baseline_psd = psd_isotropic(ds_baseline.ssh_enstrophy)\n",
    "ds_duacs_psd = psd_isotropic(ds_duacs.ssh_enstrophy)\n",
    "ds_siren_psd = psd_isotropic(ds_siren.ssh_enstrophy)"
   ]
  },
  {
   "cell_type": "code",
   "execution_count": null,
   "metadata": {},
   "outputs": [],
   "source": [
    "fig, ax, secax = plot_psd_isotropic(\n",
    "    ds_duacs_psd.freq_r.values * 1e3, ds_duacs_psd.values, color=\"black\"\n",
    ")\n",
    "\n",
    "ax.plot(ds_baseline_psd.freq_r.values * 1e3, ds_baseline_psd.values, color=\"red\")\n",
    "ax.plot(ds_siren_psd.freq_r.values * 1e3, ds_siren_psd.values, color=\"blue\")\n",
    "plt.xlim(\n",
    "    (\n",
    "        min(\n",
    "            np.ma.min(np.ma.masked_invalid(ds_duacs_psd.freq_r.values * 1e3)),\n",
    "            np.ma.min(np.ma.masked_invalid(ds_baseline_psd.freq_r.values * 1e3)),\n",
    "            np.ma.min(np.ma.masked_invalid(ds_siren_psd.freq_r.values * 1e3)),\n",
    "        ),\n",
    "        max(\n",
    "            np.ma.max(np.ma.masked_invalid(ds_duacs_psd.freq_r.values * 1e3)),\n",
    "            np.ma.max(np.ma.masked_invalid(ds_baseline_psd.freq_r.values * 1e3)),\n",
    "            np.ma.max(np.ma.masked_invalid(ds_siren_psd.freq_r.values * 1e3)),\n",
    "        ),\n",
    "    )\n",
    ")\n",
    "ax.set_ylabel(r\"Vorticity [s$^{-1}$/cycles/m]\")\n",
    "plt.legend([\"DUACS\", \"Naive OI\", \"SIREN\"])\n",
    "plt.tight_layout()\n",
    "plt.show()"
   ]
  },
  {
   "cell_type": "code",
   "execution_count": null,
   "metadata": {},
   "outputs": [],
   "source": [
    "# grab ssh\n",
    "ds_field_psd = ds_field.ssh\n",
    "ds_predict_psd = ds_field.ssh_predict\n",
    "\n",
    "# calculate\n",
    "ds_field_psd = psd_isotropic(ds_field_psd)\n",
    "ds_predict_psd = psd_isotropic(ds_predict_psd)"
   ]
  },
  {
   "cell_type": "code",
   "execution_count": null,
   "metadata": {},
   "outputs": [],
   "source": [
    "fig, ax, secax = plot_psd_isotropic(\n",
    "    ds_field_psd.freq_r.values, ds_field_psd.values, color=\"black\"\n",
    ")\n",
    "\n",
    "ax.plot(ds_predict_psd.freq_r.values, ds_predict_psd.values, color=\"red\")\n",
    "plt.xlim(\n",
    "    (\n",
    "        np.ma.min(np.ma.masked_invalid(ds_predict_psd.freq_r.values)),\n",
    "        np.ma.max(np.ma.masked_invalid(ds_predict_psd.freq_r.values)),\n",
    "    )\n",
    ")\n",
    "ax.set_xlabel(\"Wavenumber [cyles/degrees]\")\n",
    "secax.set_xlabel(\"Wavelength [degrees]\")\n",
    "plt.legend([\"Reference\", \"DUACS\"])\n",
    "plt.tight_layout()\n",
    "plt.show()"
   ]
  },
  {
   "cell_type": "code",
   "execution_count": null,
   "metadata": {},
   "outputs": [],
   "source": [
    "from inr4ssh._src.metrics.psd import psd_isotropic_score, wavelength_resolved_isotropic"
   ]
  },
  {
   "cell_type": "code",
   "execution_count": null,
   "metadata": {},
   "outputs": [],
   "source": [
    "from inr4ssh._src.metrics.psd import psd_isotropic_score, wavelength_resolved_isotropic\n",
    "\n",
    "# grab ssh\n",
    "ds_field_psd = ds_field.ssh\n",
    "ds_predict_psd = ds_field.ssh_predict\n",
    "\n",
    "psd_iso_score = psd_isotropic_score(ds_predict_psd, ds_field_psd)"
   ]
  },
  {
   "cell_type": "code",
   "execution_count": null,
   "metadata": {},
   "outputs": [],
   "source": [
    "space_iso_resolved = wavelength_resolved_isotropic(psd_iso_score, level=0.5)\n",
    "print(f\"Shortest Spatial Wavelength Resolved = {space_iso_resolved:.2f} (degrees)\")"
   ]
  },
  {
   "cell_type": "code",
   "execution_count": null,
   "metadata": {},
   "outputs": [],
   "source": [
    "fig, ax, secax = plot_psd_isotropic(\n",
    "    psd_iso_score.freq_r.values, psd_iso_score.values, color=\"black\"\n",
    ")\n",
    "\n",
    "ax.set(ylabel=\"PSD Score\", yscale=\"linear\")\n",
    "plt.ylim((0, 1.0))\n",
    "plt.xlim(\n",
    "    (\n",
    "        np.ma.min(np.ma.masked_invalid(psd_iso_score.freq_r.values)),\n",
    "        np.ma.max(np.ma.masked_invalid(psd_iso_score.freq_r.values)),\n",
    "    )\n",
    ")\n",
    "\n",
    "# plot the graph point\n",
    "resolved_scale = 1 / (space_iso_resolved)\n",
    "ax.vlines(\n",
    "    x=resolved_scale, ymin=0, ymax=0.5, color=\"green\", linewidth=2, linestyle=\"--\"\n",
    ")\n",
    "ax.hlines(\n",
    "    y=0.5,\n",
    "    xmin=np.ma.min(np.ma.masked_invalid(psd_iso_score.freq_r.values)),\n",
    "    xmax=resolved_scale,\n",
    "    color=\"green\",\n",
    "    linewidth=2,\n",
    "    linestyle=\"--\",\n",
    ")\n",
    "\n",
    "\n",
    "label = f\"Resolved Scales \\n $\\lambda$ > {space_iso_resolved:.2f} degrees\"\n",
    "plt.scatter(resolved_scale, 0.5, color=\"green\", marker=\".\", linewidth=5, label=label)\n",
    "ax.set_xlabel(\"Wavenumber [cyles/degrees]\")\n",
    "secax.set_xlabel(\"Wavelength [degrees]\")\n",
    "plt.legend()\n",
    "plt.tight_layout()\n",
    "plt.show()"
   ]
  },
  {
   "cell_type": "markdown",
   "metadata": {},
   "source": [
    "#### Isotropic PSD (Kilometers)"
   ]
  },
  {
   "cell_type": "code",
   "execution_count": null,
   "metadata": {},
   "outputs": [],
   "source": [
    "# grab ssh\n",
    "ds_field_psd = ds_field.ssh\n",
    "ds_predict_psd = ds_field.ssh_predict\n",
    "\n",
    "# correct units, degrees -> meters\n",
    "ds_field_psd[\"longitude\"] = ds_field_psd.longitude * 111e3\n",
    "ds_field_psd[\"latitude\"] = ds_field_psd.latitude * 111e3\n",
    "ds_predict_psd[\"longitude\"] = ds_predict_psd.longitude * 111e3\n",
    "ds_predict_psd[\"latitude\"] = ds_predict_psd.latitude * 111e3\n",
    "\n",
    "# calculate\n",
    "ds_field_psd = psd_isotropic(ds_field_psd)\n",
    "ds_predict_psd = psd_isotropic(ds_predict_psd)"
   ]
  },
  {
   "cell_type": "code",
   "execution_count": null,
   "metadata": {},
   "outputs": [],
   "source": [
    "fig, ax, secax = plot_psd_isotropic(\n",
    "    ds_field_psd.freq_r.values * 1e3, ds_field_psd.values, color=\"black\"\n",
    ")\n",
    "\n",
    "ax.plot(ds_predict_psd.freq_r.values * 1e3, ds_predict_psd.values, color=\"red\")\n",
    "plt.xlim(\n",
    "    (\n",
    "        np.ma.min(np.ma.masked_invalid(ds_predict_psd.freq_r.values * 1e3)),\n",
    "        np.ma.max(np.ma.masked_invalid(ds_predict_psd.freq_r.values * 1e3)),\n",
    "    )\n",
    ")\n",
    "plt.legend([\"Reference\", \"DUACS\"])\n",
    "plt.tight_layout()\n",
    "plt.show()"
   ]
  },
  {
   "cell_type": "code",
   "execution_count": null,
   "metadata": {},
   "outputs": [],
   "source": [
    "# grab ssh\n",
    "ds_field_psd = ds_field.ssh\n",
    "ds_predict_psd = ds_field.ssh_predict\n",
    "\n",
    "# correct units, degrees -> meters\n",
    "ds_field_psd[\"longitude\"] = ds_field_psd.longitude * 111e3\n",
    "ds_field_psd[\"latitude\"] = ds_field_psd.latitude * 111e3\n",
    "ds_predict_psd[\"longitude\"] = ds_predict_psd.longitude * 111e3\n",
    "ds_predict_psd[\"latitude\"] = ds_predict_psd.latitude * 111e3\n",
    "\n",
    "psd_iso_score = psd_isotropic_score(ds_predict_psd, ds_field_psd)"
   ]
  },
  {
   "cell_type": "code",
   "execution_count": null,
   "metadata": {},
   "outputs": [],
   "source": [
    "space_iso_resolved = wavelength_resolved_isotropic(psd_iso_score, level=0.5)\n",
    "print(f\"Shortest Spatial Wavelength Resolved = {space_iso_resolved/1e3:.2f} (km)\")"
   ]
  },
  {
   "cell_type": "code",
   "execution_count": null,
   "metadata": {},
   "outputs": [],
   "source": [
    "fig, ax, secax = plot_psd_isotropic(\n",
    "    psd_iso_score.freq_r.values * 1e3, psd_iso_score.values, color=\"black\"\n",
    ")\n",
    "\n",
    "ax.set(ylabel=\"PSD Score\", yscale=\"linear\")\n",
    "plt.ylim((0, 1.0))\n",
    "plt.xlim(\n",
    "    (\n",
    "        np.ma.min(np.ma.masked_invalid(psd_iso_score.freq_r.values * 1e3)),\n",
    "        np.ma.max(np.ma.masked_invalid(psd_iso_score.freq_r.values * 1e3)),\n",
    "    )\n",
    ")\n",
    "\n",
    "# plot the graph point\n",
    "resolved_scale = 1 / (space_iso_resolved * 1e-3)\n",
    "ax.vlines(\n",
    "    x=resolved_scale, ymin=0, ymax=0.5, color=\"green\", linewidth=2, linestyle=\"--\"\n",
    ")\n",
    "ax.hlines(\n",
    "    y=0.5,\n",
    "    xmin=np.ma.min(np.ma.masked_invalid(psd_iso_score.freq_r.values * 1e3)),\n",
    "    xmax=resolved_scale,\n",
    "    color=\"green\",\n",
    "    linewidth=2,\n",
    "    linestyle=\"--\",\n",
    ")\n",
    "\n",
    "\n",
    "label = f\"Resolved Scales \\n $\\lambda$ > {int(space_iso_resolved*1e-3)} km\"\n",
    "plt.scatter(resolved_scale, 0.5, color=\"green\", marker=\".\", linewidth=5, label=label)\n",
    "plt.legend()\n",
    "plt.tight_layout()\n",
    "plt.show()"
   ]
  }
 ],
 "metadata": {
  "kernelspec": {
   "display_name": "Python 3.9.13 ('torch_py39')",
   "language": "python",
   "name": "python3"
  },
  "language_info": {
   "codemirror_mode": {
    "name": "ipython",
    "version": 3
   },
   "file_extension": ".py",
   "mimetype": "text/x-python",
   "name": "python",
   "nbconvert_exporter": "python",
   "pygments_lexer": "ipython3",
   "version": "3.9.13"
  },
  "vscode": {
   "interpreter": {
    "hash": "ba845ae818c285ca2fe9389acfa2d2da9f6f964e42b65478d402ad448a072775"
   }
  }
 },
 "nbformat": 4,
 "nbformat_minor": 2
}
