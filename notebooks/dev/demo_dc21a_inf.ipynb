{
 "cells": [
  {
   "cell_type": "markdown",
   "id": "7c00d4b7-e07e-4405-b643-c4db64f82510",
   "metadata": {
    "pycharm": {
     "name": "#%% md\n"
    }
   },
   "source": [
    "# Demo - Siren"
   ]
  },
  {
   "cell_type": "code",
   "execution_count": null,
   "id": "c8a2ee9e-04cc-4c5e-a3eb-4742a7ad7cd1",
   "metadata": {
    "pycharm": {
     "name": "#%%\n"
    }
   },
   "outputs": [],
   "source": [
    "import os\n",
    "import sys\n",
    "\n",
    "from pyprojroot import here\n",
    "\n",
    "os.environ[\"PYTORCH_ENABLE_MPS_FALLBACK\"] = \"1\"\n",
    "\n",
    "# spyder up to find the root\n",
    "root = here(project_files=[\".root\"])\n",
    "exp = here(\n",
    "    relative_project_path=root.joinpath(\"experiments/expv2\"), project_files=[\".local\"]\n",
    ")\n",
    "\n",
    "\n",
    "# append to path\n",
    "sys.path.append(str(root))\n",
    "sys.path.append(str(exp))"
   ]
  },
  {
   "cell_type": "code",
   "execution_count": null,
   "id": "b6cbe61e",
   "metadata": {
    "jupyter": {
     "outputs_hidden": false
    },
    "pycharm": {
     "name": "#%%\n"
    }
   },
   "outputs": [],
   "source": [
    "import imageio\n",
    "import numpy as np\n",
    "import pytorch_lightning as pl\n",
    "import torch\n",
    "import wandb\n",
    "from inr4ssh._src.data.ssh_obs import (\n",
    "    load_ssh_altimetry_data_test,\n",
    "    load_ssh_altimetry_data_train,\n",
    "    load_ssh_correction,\n",
    ")\n",
    "from inr4ssh._src.datamodules.ssh_obs import SSHAltimetry\n",
    "from inr4ssh._src.features.data_struct import df_2_xr\n",
    "from inr4ssh._src.interp import interp_on_alongtrack\n",
    "from inr4ssh._src.metrics.psd import compute_psd_scores, select_track_segments\n",
    "from inr4ssh._src.metrics.stats import (\n",
    "    calculate_nrmse,\n",
    "    calculate_nrmse_elementwise,\n",
    "    calculate_rmse_elementwise,\n",
    ")\n",
    "from inr4ssh._src.models.activations import get_activation\n",
    "from inr4ssh._src.models.siren import ModulatedSirenNet, Modulator, Siren, SirenNet\n",
    "from inr4ssh._src.postprocess.ssh_obs import postprocess\n",
    "from inr4ssh._src.preprocess.coords import (\n",
    "    correct_coordinate_labels,\n",
    "    correct_longitude_domain,\n",
    ")\n",
    "from inr4ssh._src.preprocess.subset import spatial_subset, temporal_subset\n",
    "from inr4ssh._src.viz.psd import plot_psd_score, plot_psd_spectrum\n",
    "from loguru import logger\n",
    "from skorch import NeuralNetRegressor\n",
    "from skorch.callbacks import EarlyStopping, LRScheduler, WandbLogger\n",
    "from skorch.dataset import ValidSplit\n",
    "from torch import nn\n",
    "from torch.optim.lr_scheduler import CosineAnnealingLR\n",
    "from tqdm.notebook import tqdm as tqdm\n",
    "\n",
    "pl.seed_everything(123)\n",
    "\n",
    "import matplotlib.pyplot as plt\n",
    "import seaborn as sns\n",
    "from inr4ssh._src.viz.movie import create_movie\n",
    "\n",
    "sns.reset_defaults()\n",
    "sns.set_context(context=\"talk\", font_scale=0.7)\n",
    "\n",
    "%matplotlib inline\n",
    "%load_ext autoreload\n",
    "%autoreload 2"
   ]
  },
  {
   "cell_type": "code",
   "execution_count": null,
   "id": "4bb1ec00-7df4-4d5c-b8ad-b25c019f9ac5",
   "metadata": {},
   "outputs": [],
   "source": [
    "import argparse\n",
    "\n",
    "import config"
   ]
  },
  {
   "cell_type": "code",
   "execution_count": null,
   "id": "b00dfbe2-1591-4880-8bfa-4a8ed4a716d6",
   "metadata": {},
   "outputs": [],
   "source": [
    "# initialize argparse\n",
    "parser = argparse.ArgumentParser()\n",
    "\n",
    "# add all experiment arguments\n",
    "parser = config.add_logging_args(parser)\n",
    "parser = config.add_data_dir_args(parser)\n",
    "parser = config.add_data_preprocess_args(parser)\n",
    "parser = config.add_feature_transform_args(parser)\n",
    "parser = config.add_train_split_args(parser)\n",
    "parser = config.add_dataloader_args(parser)\n",
    "parser = config.add_model_args(parser)\n",
    "parser = config.add_loss_args(parser)\n",
    "parser = config.add_optimizer_args(parser)\n",
    "parser = config.add_eval_data_args(parser)\n",
    "parser = config.add_eval_metrics_args(parser)\n",
    "parser = config.add_viz_data_args(parser)\n",
    "\n",
    "# parse args\n",
    "args = parser.parse_args([])\n",
    "\n",
    "# modify args (PERSONAL)\n",
    "args.train_data_dir = \"/Users/eman/.CMVolumes/cal1_workdir/data/dc_2021/raw/train\"\n",
    "args.ref_data_dir = \"/Users/eman/.CMVolumes/cal1_workdir/data/dc_2021/raw/ref\"\n",
    "args.test_data_dir = \"/Users/eman/.CMVolumes/cal1_workdir/data/dc_2021/raw/test\"\n",
    "\n",
    "# # modify args (MEOMCAL1)\n",
    "# args.train_data_dir = \"/home/johnsonj/data/dc_2021/raw/train\"\n",
    "# args.ref_data_dir = \"/home/johnsonj/data/dc_2021/raw/ref\"\n",
    "# args.test_data_dir = \"/home/johnsonj/data/dc_2021/raw/test\"\n",
    "#\n",
    "# args.time_min = \"2017-01-01\"\n",
    "# args.time_max = \"2017-02-01\"\n",
    "# args.eval_time_min = \"2017-01-01\"\n",
    "# args.eval_time_max = \"2017-02-01\"\n",
    "# args.eval_dtime = \"12_h\"\n",
    "\n",
    "# logger args\n",
    "# ige/inr4ssh/2avm7u7m\n",
    "# ige/inr4ssh/3rzy4mbv - genial-deluge-8\n",
    "# ige/inr4ssh/nlbgt9aq - dazzling tree 12\n",
    "# ige/inr4ssh/ymwqgoj7 - leafy moon\n",
    "args.wandb_resume = True\n",
    "args.wandb_mode = \"online\"\n",
    "args.wandb_project = \"inr4ssh\"\n",
    "args.wandb_entity = \"ige\"\n",
    "args.wandb_log_dir = \"/Users/eman/code_projects/logs\"\n",
    "args.wandb_id = \"ymwqgoj7\""
   ]
  },
  {
   "cell_type": "code",
   "execution_count": null,
   "id": "0fca27d6-260d-4f33-a6a7-449345da22a7",
   "metadata": {},
   "outputs": [],
   "source": [
    "wandb_run = wandb.init(\n",
    "    # config=args,\n",
    "    mode=args.wandb_mode,\n",
    "    project=args.wandb_project,\n",
    "    entity=args.wandb_entity,\n",
    "    dir=args.wandb_log_dir,\n",
    "    resume=args.wandb_resume,\n",
    "    id=args.wandb_id,\n",
    ")"
   ]
  },
  {
   "cell_type": "code",
   "execution_count": null,
   "id": "3e499685-9d44-463b-a35e-875fc39ece6c",
   "metadata": {},
   "outputs": [],
   "source": [
    "args = wandb_run.config\n",
    "args"
   ]
  },
  {
   "cell_type": "code",
   "execution_count": null,
   "id": "361b761d-0a9b-422d-b7f8-162bd1441079",
   "metadata": {},
   "outputs": [],
   "source": [
    "# modify args (PERSONAL)\n",
    "args.train_data_dir = \"/Users/eman/.CMVolumes/cal1_workdir/data/dc_2021/raw/train\"\n",
    "args.ref_data_dir = \"/Users/eman/.CMVolumes/cal1_workdir/data/dc_2021/raw/ref\"\n",
    "args.test_data_dir = \"/Users/eman/.CMVolumes/cal1_workdir/data/dc_2021/raw/test\""
   ]
  },
  {
   "cell_type": "markdown",
   "id": "fbfb5c79-c118-4109-b973-36be10f0ced5",
   "metadata": {},
   "source": [
    "to extract a default argument if it is in the name space\n",
    "`lr = getattr(args, \"lr\", 1e-4)`"
   ]
  },
  {
   "cell_type": "code",
   "execution_count": null,
   "id": "de9671ef-93b0-4ad0-9b1f-18443addeae8",
   "metadata": {},
   "outputs": [],
   "source": [
    "logger.info(\"Initializing data module...\")\n",
    "dm = SSHAltimetry(args)"
   ]
  },
  {
   "cell_type": "code",
   "execution_count": null,
   "id": "3d40bc05-da7e-4f83-8c92-09500b741ad0",
   "metadata": {},
   "outputs": [],
   "source": [
    "dm.setup()"
   ]
  },
  {
   "cell_type": "code",
   "execution_count": null,
   "id": "6adaf9fd-214f-4070-92c9-2a42b1d643f9",
   "metadata": {},
   "outputs": [],
   "source": [
    "dl_train = dm.train_dataloader()\n",
    "dl_valid = dm.val_dataloader()\n",
    "dl_predict = dm.predict_dataloader()"
   ]
  },
  {
   "cell_type": "code",
   "execution_count": null,
   "id": "b64937b0-37c1-45ef-94a8-f52eafad74ef",
   "metadata": {},
   "outputs": [],
   "source": [
    "len(dm.ds_train), len(dm.ds_valid), len(dm.ds_predict)"
   ]
  },
  {
   "cell_type": "markdown",
   "id": "432ef165-4e2a-41a6-94b8-a41f744946b7",
   "metadata": {},
   "source": [
    "## Skorch Training"
   ]
  },
  {
   "cell_type": "code",
   "execution_count": null,
   "id": "9057e0f2-f12b-4818-aa87-cdae1cc908d1",
   "metadata": {},
   "outputs": [],
   "source": [
    "X_train, y_train = dm.ds_train[:]\n",
    "X_valid, y_valid = dm.ds_valid[:]\n",
    "(X_test,) = dm.ds_predict[:]\n",
    "X_train = torch.cat([X_train, X_valid])\n",
    "y_train = torch.cat([y_train, y_valid])"
   ]
  },
  {
   "cell_type": "code",
   "execution_count": null,
   "id": "e31bc25c-a14f-45a0-94cd-17b4dd9dc1ff",
   "metadata": {},
   "outputs": [],
   "source": [
    "X_train.shape, X_test.shape"
   ]
  },
  {
   "cell_type": "code",
   "execution_count": null,
   "id": "78cc9388-628e-4017-aacc-bb65c3aa9eef",
   "metadata": {},
   "outputs": [],
   "source": [
    "logger.info(\"Creating neural network...\")\n",
    "dim_in = X_train.shape[1]\n",
    "dim_hidden = args.hidden_dim\n",
    "dim_out = y_train.shape[1]\n",
    "num_layers = args.n_hidden\n",
    "w0 = args.siren_w0\n",
    "w0_initial = args.siren_w0_initial\n",
    "c = args.siren_c\n",
    "final_activation = get_activation(args.final_activation)"
   ]
  },
  {
   "cell_type": "code",
   "execution_count": null,
   "id": "950c4fd7-4748-4a19-b23e-4afd46281d46",
   "metadata": {},
   "outputs": [],
   "source": [
    "siren_net = SirenNet(\n",
    "    dim_in=dim_in,\n",
    "    dim_hidden=dim_hidden,\n",
    "    dim_out=dim_out,\n",
    "    num_layers=num_layers,\n",
    "    w0=w0,\n",
    "    w0_initial=w0_initial,\n",
    "    final_activation=final_activation,\n",
    ")"
   ]
  },
  {
   "cell_type": "code",
   "execution_count": null,
   "id": "9df76795-a926-4d6d-9e28-190544641e0b",
   "metadata": {},
   "outputs": [],
   "source": [
    "# if torch.has_mps:\n",
    "#     device = \"mps\"\n",
    "# elif torch.has_cuda:\n",
    "#     device = \"cuda\"\n",
    "# else:\n",
    "#     device = \"cpu\"\n",
    "device = \"mps\""
   ]
  },
  {
   "cell_type": "code",
   "execution_count": null,
   "id": "9bebe3b9-111c-480b-8533-c2f7e94432cf",
   "metadata": {},
   "outputs": [],
   "source": [
    "# args.num_epochs = 500\n",
    "# args.learning_rate = 1e-3"
   ]
  },
  {
   "cell_type": "code",
   "execution_count": null,
   "id": "ed04efa7-382e-4e24-a0cb-9662f6166354",
   "metadata": {},
   "outputs": [],
   "source": [
    "# learning rate scheduler\n",
    "lr_scheduler = LRScheduler(\n",
    "    policy=\"ReduceLROnPlateau\",\n",
    "    monitor=\"valid_loss\",\n",
    "    mode=\"min\",\n",
    "    factor=0.1,\n",
    "    patience=10,\n",
    ")\n",
    "# learning rate scheduler\n",
    "\n",
    "# lr_scheduler = LRScheduler(\n",
    "#     policy=CosineAnnealingLR,\n",
    "#     T_max=args.num_epochs\n",
    "# )\n",
    "\n",
    "# early stopping\n",
    "estop_callback = EarlyStopping(\n",
    "    monitor=\"valid_loss\",\n",
    "    patience=50,\n",
    ")\n",
    "\n",
    "wandb_callback = WandbLogger(wandb_run, save_model=True)\n",
    "\n",
    "callbacks = [\n",
    "    (\"earlystopping\", estop_callback),\n",
    "    (\"lrscheduler\", lr_scheduler),\n",
    "    (\"wandb_logger\", wandb_callback),\n",
    "]"
   ]
  },
  {
   "cell_type": "code",
   "execution_count": null,
   "id": "d704ed0d-b5c0-44ad-b637-af4b1a79b87d",
   "metadata": {},
   "outputs": [],
   "source": [
    "# train split percentage\n",
    "train_split = ValidSplit(0.1, stratified=False)"
   ]
  },
  {
   "cell_type": "code",
   "execution_count": null,
   "id": "f250ae0e-39ee-4a2c-b527-4cf259bf6861",
   "metadata": {},
   "outputs": [],
   "source": [
    "skorch_net = NeuralNetRegressor(\n",
    "    module=siren_net,\n",
    "    max_epochs=args.num_epochs,\n",
    "    lr=args.learning_rate,\n",
    "    batch_size=args.batch_size,\n",
    "    device=device,\n",
    "    optimizer=torch.optim.Adam,\n",
    "    train_split=train_split,\n",
    "    callbacks=callbacks,\n",
    ")"
   ]
  },
  {
   "cell_type": "code",
   "execution_count": null,
   "id": "b93a7339-0219-45fd-80b8-afe99859d189",
   "metadata": {},
   "outputs": [],
   "source": [
    "# if args.server == \"jz\":\n",
    "# get id (from this run or a run you can set)\n",
    "run_id = wandb_run.id\n",
    "\n",
    "# initialize api\n",
    "api = wandb.Api()\n",
    "\n",
    "# get run\n",
    "run = api.run(f\"{args.wandb_entity}/{args.wandb_project}/{run_id}\")\n",
    "\n",
    "\n",
    "# download the files\n",
    "files = [\n",
    "    # \"scaler.pickle\",\n",
    "    f\"checkpoints/params.ckpt\"\n",
    "    # \"checkpoints/last.ckpt\"\n",
    "]\n",
    "\n",
    "for ifile in files:\n",
    "\n",
    "    run.file(ifile).download(replace=True)"
   ]
  },
  {
   "cell_type": "code",
   "execution_count": null,
   "id": "f53f002a-aafc-4ccb-9fa9-399277ad15e3",
   "metadata": {},
   "outputs": [],
   "source": [
    "from inr4ssh._src.io import load_object"
   ]
  },
  {
   "cell_type": "code",
   "execution_count": null,
   "id": "4b86a256-1c37-4012-bfc7-ead2f7f15afb",
   "metadata": {},
   "outputs": [],
   "source": [
    "scaler = load_object(\"./scaler.pickle\")"
   ]
  },
  {
   "cell_type": "code",
   "execution_count": null,
   "id": "2c670b3a-2aa1-41c6-b02a-53bd3fe7b7de",
   "metadata": {},
   "outputs": [],
   "source": [
    "skorch_net.initialize()  # This is important!\n",
    "# skorch_net.load_params(f_params='./best_model.pth')\n",
    "skorch_net.load_params(f_params=\"checkpoints/params.ckpt\")"
   ]
  },
  {
   "cell_type": "code",
   "execution_count": null,
   "id": "f217fb2e-59d5-4d3f-97e0-3292118a0243",
   "metadata": {},
   "outputs": [],
   "source": [
    "# skorch_net.fit(X_train, y_train)"
   ]
  },
  {
   "cell_type": "code",
   "execution_count": null,
   "id": "850dc3a3-3b0d-4e33-9749-6fcc39b4d88e",
   "metadata": {},
   "outputs": [],
   "source": [
    "# fig, ax = plt.subplots()\n",
    "\n",
    "# ax.plot(skorch_net.history[:, \"train_loss\"], label=\"Train Loss\")\n",
    "# ax.plot(skorch_net.history[:, \"valid_loss\"], label=\"Validation Loss\")\n",
    "\n",
    "# ax.set(yscale=\"log\", xlabel=\"Epochs\", ylabel=\"Mean Squared Error\")\n",
    "\n",
    "# plt.legend()\n",
    "# plt.show()"
   ]
  },
  {
   "cell_type": "markdown",
   "id": "583a31ad-5ec3-490f-9a49-1fa781370c4f",
   "metadata": {},
   "source": [
    "## Predictions"
   ]
  },
  {
   "cell_type": "markdown",
   "id": "d5371e08-62dd-4d32-a518-6c8a76c6dfb2",
   "metadata": {},
   "source": [
    "### SSH Along Track"
   ]
  },
  {
   "cell_type": "code",
   "execution_count": null,
   "id": "1c07e6ba-4c74-4aa7-90c6-fb7c76cac1e6",
   "metadata": {},
   "outputs": [],
   "source": [
    "%%time\n",
    "\n",
    "# open along track dataset\n",
    "ds_alongtrack = load_ssh_altimetry_data_test(args.test_data_dir)\n",
    "\n",
    "# correct labels\n",
    "ds_alongtrack = correct_coordinate_labels(ds_alongtrack)\n",
    "\n",
    "# correct longitude domain\n",
    "ds_alongtrack = correct_longitude_domain(ds_alongtrack)\n",
    "\n",
    "# temporal subset\n",
    "ds_alongtrack = temporal_subset(\n",
    "    ds_alongtrack,\n",
    "    time_min=np.datetime64(args.time_min),\n",
    "    time_max=np.datetime64(args.time_max),\n",
    "    time_buffer=args.time_buffer,\n",
    ")\n",
    "\n",
    "# spatial subset\n",
    "ds_alongtrack = spatial_subset(\n",
    "    ds_alongtrack,\n",
    "    lon_min=args.eval_lon_min,\n",
    "    lon_max=args.eval_lon_max,\n",
    "    lon_buffer=args.eval_lon_buffer,\n",
    "    lat_min=args.eval_lat_min,\n",
    "    lat_max=args.eval_lat_max,\n",
    "    lat_buffer=args.eval_lat_buffer,\n",
    ")\n",
    "\n",
    "# convert to dataframe\n",
    "ds_alongtrack = ds_alongtrack.to_dataframe().reset_index().dropna()\n",
    "\n",
    "# convert to df using the transform\n",
    "X_test = dm.scaler.transform(ds_alongtrack)\n",
    "y_test = ds_alongtrack[\"sla_unfiltered\"]"
   ]
  },
  {
   "cell_type": "code",
   "execution_count": null,
   "id": "db7ed229-2673-4848-9eb5-6108a6509d56",
   "metadata": {},
   "outputs": [],
   "source": [
    "%%time\n",
    "import time\n",
    "\n",
    "t0 = time.time()\n",
    "predictions = skorch_net.predict(torch.Tensor(X_test))\n",
    "t1 = time.time() - t0\n",
    "\n",
    "wandb_run.log(\n",
    "    {\n",
    "        \"time_predict_alongtrack\": t1,\n",
    "    }\n",
    ")"
   ]
  },
  {
   "cell_type": "markdown",
   "id": "a5de5886-56c8-4676-b6d2-601de20f5386",
   "metadata": {},
   "source": [
    "#### Stats"
   ]
  },
  {
   "cell_type": "code",
   "execution_count": null,
   "id": "ba6dea67-5cd7-4f0f-b1d8-80624414093d",
   "metadata": {},
   "outputs": [],
   "source": [
    "rmse_mean, rmse_std = calculate_rmse_elementwise(y_test, predictions)\n",
    "\n",
    "wandb_run.log(\n",
    "    {\n",
    "        f\"rmse_mean_alongtrack\": rmse_mean,\n",
    "        f\"rmse_std_alongtrack\": rmse_std,\n",
    "    }\n",
    ")"
   ]
  },
  {
   "cell_type": "code",
   "execution_count": null,
   "id": "8d4152f6-230b-4ece-8934-142dc20a8be8",
   "metadata": {},
   "outputs": [],
   "source": [
    "print(f\"RMSE: {rmse_mean}\\nRMSE (stddev): {rmse_std}\")"
   ]
  },
  {
   "cell_type": "code",
   "execution_count": null,
   "id": "4a590035-e01e-4344-b160-49e79312de62",
   "metadata": {},
   "outputs": [],
   "source": [
    "metrics = [\"custom\", \"std\", \"mean\", \"minmax\", \"iqr\"]\n",
    "\n",
    "for imetric in metrics:\n",
    "\n",
    "    nrmse_mean, nrmse_std = calculate_nrmse_elementwise(y_test, predictions, imetric)\n",
    "\n",
    "    print(f\"RMSE ({imetric}): mean - {nrmse_mean:.4f}, stddev - {nrmse_std:.4f}\")\n",
    "\n",
    "    wandb_run.log(\n",
    "        {\n",
    "            f\"nrmse_mean_alongtrack_{imetric}\": nrmse_mean,\n",
    "            f\"nrmse_std_alongtrack_{imetric}\": nrmse_std,\n",
    "        }\n",
    "    )"
   ]
  },
  {
   "cell_type": "markdown",
   "id": "19957eb6-b850-460b-8c3e-82fc06c354ad",
   "metadata": {},
   "source": [
    "#### PSD Score"
   ]
  },
  {
   "cell_type": "code",
   "execution_count": null,
   "id": "eb6dade6-96cc-49ad-aea3-a4b8e19fee9a",
   "metadata": {},
   "outputs": [],
   "source": [
    "psd_metrics = compute_psd_scores(\n",
    "    ssh_true=y_test.squeeze(),\n",
    "    ssh_pred=predictions.squeeze(),\n",
    "    delta_x=args.eval_psd_velocity * args.eval_psd_delta_t,\n",
    "    npt=None,\n",
    "    scaling=\"density\",\n",
    "    noverlap=0,\n",
    ")"
   ]
  },
  {
   "cell_type": "code",
   "execution_count": null,
   "id": "a10acf8d-8dbd-47e8-b7ea-a7470e73a2b1",
   "metadata": {},
   "outputs": [],
   "source": [
    "print(psd_metrics)"
   ]
  },
  {
   "cell_type": "code",
   "execution_count": null,
   "id": "1d16a7e9-3d20-4fcc-8dba-29e9f273d783",
   "metadata": {},
   "outputs": [],
   "source": [
    "wandb_run.log(\n",
    "    {\n",
    "        \"resolved_scale_alongtrack\": psd_metrics.resolved_scale,\n",
    "    }\n",
    ")"
   ]
  },
  {
   "cell_type": "markdown",
   "id": "4dc9a6b7-5e75-4243-addd-996c7784f895",
   "metadata": {},
   "source": [
    "#### Viz - PSD Score"
   ]
  },
  {
   "cell_type": "code",
   "execution_count": null,
   "id": "714b451b-125a-493f-af6c-f189a1038214",
   "metadata": {},
   "outputs": [],
   "source": [
    "fig, ax = plot_psd_score(\n",
    "    psd_diff=psd_metrics.psd_diff,\n",
    "    psd_ref=psd_metrics.psd_ref,\n",
    "    wavenumber=psd_metrics.wavenumber,\n",
    "    resolved_scale=psd_metrics.resolved_scale,\n",
    ")\n",
    "\n",
    "wandb_run.log(\n",
    "    {\n",
    "        \"psd_score_alongtrack\": wandb.Image(fig),\n",
    "    }\n",
    ")"
   ]
  },
  {
   "cell_type": "markdown",
   "id": "9ac21662-e3e8-4279-bcb8-f82c52146512",
   "metadata": {},
   "source": [
    "#### Viz - PSD Spectrum"
   ]
  },
  {
   "cell_type": "code",
   "execution_count": null,
   "id": "95c30b2b-cbca-4dfa-a87a-9e6e47e498ae",
   "metadata": {},
   "outputs": [],
   "source": [
    "fig, ax = plot_psd_spectrum(\n",
    "    psd_study=psd_metrics.psd_study,\n",
    "    psd_ref=psd_metrics.psd_ref,\n",
    "    wavenumber=psd_metrics.wavenumber,\n",
    ")\n",
    "\n",
    "wandb_run.log(\n",
    "    {\n",
    "        \"psd_spectrum_alongtrack\": wandb.Image(fig),\n",
    "    }\n",
    ")"
   ]
  },
  {
   "cell_type": "markdown",
   "id": "84ae57ea-97f1-4564-a8ef-0d5e1b140416",
   "metadata": {},
   "source": [
    "### SSH Grid"
   ]
  },
  {
   "cell_type": "code",
   "execution_count": null,
   "id": "719760fc-b65e-4c16-8158-399b702fe3b2",
   "metadata": {},
   "outputs": [],
   "source": [
    "%%time\n",
    "# extract grid variables\n",
    "(X_test,) = dm.ds_predict[:]\n",
    "\n",
    "# TESTING\n",
    "logger.info(\"Making predictions...\")\n",
    "t0 = time.time()\n",
    "predictions = skorch_net.predict(torch.FloatTensor(X_test))\n",
    "t1 = time.time() - t0"
   ]
  },
  {
   "cell_type": "code",
   "execution_count": null,
   "id": "fda49ba1-5665-4893-80e0-b4dd52cb2f13",
   "metadata": {},
   "outputs": [],
   "source": [
    "wandb_run.log(\n",
    "    {\n",
    "        \"time_predict_grid\": t1,\n",
    "    }\n",
    ")"
   ]
  },
  {
   "cell_type": "code",
   "execution_count": null,
   "id": "ccbc5476-015d-4eef-b4a7-df065dcf5fb8",
   "metadata": {},
   "outputs": [],
   "source": [
    "# convert to da\n",
    "logger.info(\"Convert data to xarray ds...\")\n",
    "ds_oi = dm.X_pred_index\n",
    "ds_oi[\"ssh\"] = predictions\n",
    "ds_oi = df_2_xr(ds_oi)"
   ]
  },
  {
   "cell_type": "code",
   "execution_count": null,
   "id": "ccb28258-dbec-4150-8b67-639fb0d3a3c1",
   "metadata": {},
   "outputs": [],
   "source": [
    "# open correction dataset\n",
    "logger.info(\"Loading SSH corrections...\")\n",
    "ds_correct = load_ssh_correction(args.ref_data_dir)"
   ]
  },
  {
   "cell_type": "code",
   "execution_count": null,
   "id": "84dd47a9-1ea2-49a1-9d25-57f5c90ad8a5",
   "metadata": {},
   "outputs": [],
   "source": [
    "# correct predictions\n",
    "logger.info(\"Correcting SSH predictions...\")\n",
    "ds_oi = postprocess(ds_oi, ds_correct)"
   ]
  },
  {
   "cell_type": "code",
   "execution_count": null,
   "id": "0a6426f6-db87-4e34-a121-884b92358a65",
   "metadata": {},
   "outputs": [],
   "source": [
    "# open along track dataset\n",
    "logger.info(\"Loading test dataset...\")\n",
    "ds_alongtrack = load_ssh_altimetry_data_test(args.test_data_dir)\n",
    "\n",
    "# interpolate along track\n",
    "logger.info(\"Interpolating alongtrack obs...\")\n",
    "alongtracks = interp_on_alongtrack(\n",
    "    gridded_dataset=ds_oi,\n",
    "    ds_alongtrack=ds_alongtrack,\n",
    "    lon_min=args.eval_lon_min,\n",
    "    lon_max=args.eval_lon_max,\n",
    "    lat_min=args.eval_lat_min,\n",
    "    lat_max=args.eval_lat_max,\n",
    "    time_min=args.eval_time_min,\n",
    "    time_max=args.eval_time_max,\n",
    ")"
   ]
  },
  {
   "cell_type": "markdown",
   "id": "f9ac7c00-6364-4368-a00d-2ec2c053c99b",
   "metadata": {},
   "source": [
    "#### Stats"
   ]
  },
  {
   "cell_type": "code",
   "execution_count": null,
   "id": "4e41fe16-601e-49d1-aab8-d3e82b2046c2",
   "metadata": {},
   "outputs": [],
   "source": [
    "# RMSE\n",
    "logger.info(\"Getting RMSE Metrics...\")\n",
    "\n",
    "\n",
    "rmse_metrics = calculate_nrmse(\n",
    "    true=alongtracks.ssh_alongtrack,\n",
    "    pred=alongtracks.ssh_map,\n",
    "    time_vector=alongtracks.time,\n",
    "    dt_freq=args.eval_bin_time_step,\n",
    "    min_obs=args.eval_min_obs,\n",
    ")\n",
    "\n",
    "print(rmse_metrics)\n",
    "wandb_run.log(\n",
    "    {\n",
    "        \"rmse_mean_grid\": rmse_metrics.rmse_mean,\n",
    "        \"rmse_std_grid\": rmse_metrics.rmse_std,\n",
    "        \"nrmse_mean_grid\": rmse_metrics.nrmse_mean,\n",
    "        \"nrmse_std_grid\": rmse_metrics.nrmse_std,\n",
    "    }\n",
    ")"
   ]
  },
  {
   "cell_type": "markdown",
   "id": "546c3943-55e6-4e09-b297-70f2b8d0adf8",
   "metadata": {},
   "source": [
    "#### PSD"
   ]
  },
  {
   "cell_type": "code",
   "execution_count": null,
   "id": "a86ffbd6-89c0-4241-af6b-e853a31e19f6",
   "metadata": {},
   "outputs": [],
   "source": [
    "logger.info(\"Selecting track segments...\")\n",
    "tracks = select_track_segments(\n",
    "    time_alongtrack=alongtracks.time,\n",
    "    lat_alongtrack=alongtracks.lat,\n",
    "    lon_alongtrack=alongtracks.lon,\n",
    "    ssh_alongtrack=alongtracks.ssh_alongtrack,\n",
    "    ssh_map_interp=alongtracks.ssh_map,\n",
    ")\n",
    "\n",
    "delta_x = args.eval_psd_velocity * args.eval_psd_delta_t"
   ]
  },
  {
   "cell_type": "code",
   "execution_count": null,
   "id": "48085a9e-8874-42c6-94bc-861b1135b37a",
   "metadata": {},
   "outputs": [],
   "source": [
    "# compute scores\n",
    "logger.info(\"Computing PSD Scores...\")\n",
    "psd_metrics = compute_psd_scores(\n",
    "    ssh_true=tracks.ssh_alongtrack,\n",
    "    ssh_pred=tracks.ssh_map,\n",
    "    delta_x=delta_x,\n",
    "    npt=tracks.npt,\n",
    "    scaling=\"density\",\n",
    "    noverlap=0,\n",
    ")"
   ]
  },
  {
   "cell_type": "code",
   "execution_count": null,
   "id": "ec35488e-abed-47ce-adb3-debd2f15e447",
   "metadata": {},
   "outputs": [],
   "source": [
    "print(psd_metrics)"
   ]
  },
  {
   "cell_type": "code",
   "execution_count": null,
   "id": "3268b065-7bbe-4208-b257-477cc5e8efa4",
   "metadata": {},
   "outputs": [],
   "source": [
    "wandb_run.log(\n",
    "    {\n",
    "        \"resolved_scale_grid\": psd_metrics.resolved_scale,\n",
    "    }\n",
    ")"
   ]
  },
  {
   "cell_type": "markdown",
   "id": "8f8850c6-bb0e-45b2-b276-ec7fe787ac55",
   "metadata": {},
   "source": [
    "#### Viz - PSD Spectraum"
   ]
  },
  {
   "cell_type": "code",
   "execution_count": null,
   "id": "b435f45c-ff25-40fa-a348-5ee0b7f84e22",
   "metadata": {},
   "outputs": [],
   "source": [
    "logger.info(\"Plotting PSD Score...\")\n",
    "fig, ax = plot_psd_spectrum(\n",
    "    psd_study=psd_metrics.psd_study,\n",
    "    psd_ref=psd_metrics.psd_ref,\n",
    "    wavenumber=psd_metrics.wavenumber,\n",
    ")\n",
    "\n",
    "wandb_run.log(\n",
    "    {\n",
    "        \"psd_spectrum_grid\": wandb.Image(fig),\n",
    "    }\n",
    ")"
   ]
  },
  {
   "cell_type": "markdown",
   "id": "324b2c6b-dde3-4a39-a985-0b8c1f6c1326",
   "metadata": {},
   "source": [
    "#### Viz - PSD Score"
   ]
  },
  {
   "cell_type": "code",
   "execution_count": null,
   "id": "2c605e78-8a24-4254-84ed-f6027fc7424b",
   "metadata": {},
   "outputs": [],
   "source": []
  },
  {
   "cell_type": "code",
   "execution_count": null,
   "id": "7e56f4f0-3e09-4476-ab34-80299638ea7c",
   "metadata": {},
   "outputs": [],
   "source": [
    "logger.info(\"Plotting PSD Score...\")\n",
    "fig, ax = plot_psd_score(\n",
    "    psd_diff=psd_metrics.psd_diff,\n",
    "    psd_ref=psd_metrics.psd_ref,\n",
    "    wavenumber=psd_metrics.wavenumber,\n",
    "    resolved_scale=psd_metrics.resolved_scale,\n",
    ")\n",
    "\n",
    "wandb_run.log(\n",
    "    {\n",
    "        \"psd_score_grid\": wandb.Image(fig),\n",
    "    }\n",
    ")\n",
    "\n",
    "logger.info(\"Finished Script...!\")"
   ]
  },
  {
   "cell_type": "code",
   "execution_count": null,
   "id": "4c7cdb52-1a2b-44a2-ab87-68f11800d4bd",
   "metadata": {},
   "outputs": [],
   "source": [
    "wandb_run.finish()"
   ]
  },
  {
   "cell_type": "markdown",
   "id": "29683d68-c519-4bbc-b1fd-abfca1570d1e",
   "metadata": {},
   "source": [
    "## Visualization"
   ]
  },
  {
   "cell_type": "markdown",
   "id": "7979d9f2-3659-4048-bd68-0288d162a6ef",
   "metadata": {},
   "source": [
    "#### SSH Field"
   ]
  },
  {
   "cell_type": "code",
   "execution_count": null,
   "id": "b52e7988-b7a7-4007-98ab-56613724ff21",
   "metadata": {},
   "outputs": [],
   "source": [
    "import hvplot.xarray"
   ]
  },
  {
   "cell_type": "code",
   "execution_count": null,
   "id": "76c623ab-4d90-45a6-a336-5414e5e9ad5e",
   "metadata": {},
   "outputs": [],
   "source": [
    "ds_oi.ssh.hvplot.image(\n",
    "    x=\"longitude\",\n",
    "    y=\"latitude\",\n",
    "    # groupby='time',\n",
    "    # rasterize=True,\n",
    "    width=500,\n",
    "    height=400,\n",
    "    cmap=\"viridis\",\n",
    ")"
   ]
  },
  {
   "cell_type": "code",
   "execution_count": null,
   "id": "a0752139-9106-45fc-b9bb-cef023536416",
   "metadata": {},
   "outputs": [],
   "source": [
    "save_path = wandb.run.dir"
   ]
  },
  {
   "cell_type": "code",
   "execution_count": null,
   "id": "d9ed904b-38c8-4e3d-a474-2cf06ab94937",
   "metadata": {},
   "outputs": [],
   "source": [
    "create_movie(ds_oi.ssh, f\"pred\", \"time\", cmap=\"viridis\", file_path=save_path)"
   ]
  },
  {
   "cell_type": "markdown",
   "id": "20ecc79a-d1e7-45cc-8f8d-03b7db604256",
   "metadata": {},
   "source": [
    "#### Gradient (Norm)"
   ]
  },
  {
   "cell_type": "code",
   "execution_count": null,
   "id": "1c37aae7-ec21-453f-8127-1a6cb4ca1df9",
   "metadata": {},
   "outputs": [],
   "source": [
    "from inr4ssh._src.operators.finite_diff import calculate_gradient, calculate_laplacian\n",
    "\n",
    "ds_oi[\"ssh_grad\"] = calculate_gradient(ds_oi[\"ssh\"], \"longitude\", \"latitude\")"
   ]
  },
  {
   "cell_type": "code",
   "execution_count": null,
   "id": "be6f7828",
   "metadata": {},
   "outputs": [],
   "source": [
    "# create_movie(\n",
    "#     ds_oi.ssh_grad, f\"pred_grad\", \"time\", cmap=\"Spectral_r\", file_path=save_path\n",
    "# )"
   ]
  },
  {
   "cell_type": "code",
   "execution_count": null,
   "id": "998d63e5-59fa-47b7-be7d-034d22654770",
   "metadata": {},
   "outputs": [],
   "source": [
    "ds_oi.ssh_grad.hvplot.image(\n",
    "    x=\"longitude\",\n",
    "    y=\"latitude\",\n",
    "    # groupby='time',\n",
    "    # rasterize=True,\n",
    "    width=500,\n",
    "    height=400,\n",
    "    cmap=\"Spectral_r\",\n",
    ")"
   ]
  },
  {
   "cell_type": "markdown",
   "id": "817b46d0-fef0-4197-bdd8-a5f4ac6f977b",
   "metadata": {},
   "source": [
    "#### Laplacian (Norm)"
   ]
  },
  {
   "cell_type": "code",
   "execution_count": null,
   "id": "8b3fe306-99e3-4908-9082-050826879bd6",
   "metadata": {},
   "outputs": [],
   "source": [
    "ds_oi[\"ssh_lap\"] = calculate_laplacian(ds_oi[\"ssh\"], \"longitude\", \"latitude\")"
   ]
  },
  {
   "cell_type": "code",
   "execution_count": null,
   "id": "9486c99c-c253-4dce-ae51-f98aec5ed7e9",
   "metadata": {},
   "outputs": [],
   "source": [
    "ds_oi.ssh_lap.hvplot.image(\n",
    "    x=\"longitude\",\n",
    "    y=\"latitude\",\n",
    "    # groupby='time',\n",
    "    # rasterize=True,\n",
    "    width=500,\n",
    "    height=400,\n",
    "    cmap=\"RdBu_r\",\n",
    ")"
   ]
  },
  {
   "cell_type": "code",
   "execution_count": null,
   "id": "1402adbf-76dc-4bbe-b462-ea0b70aa0782",
   "metadata": {},
   "outputs": [],
   "source": [
    "# create_movie(ds_oi.ssh_lap, f\"pred_lap\", \"time\", cmap=\"RdBu_r\", file_path=save_path)"
   ]
  },
  {
   "cell_type": "code",
   "execution_count": null,
   "id": "d987e0e5-94f9-42b2-9802-45168c27da3e",
   "metadata": {},
   "outputs": [],
   "source": [
    "# def custom_plotfunc(ds, fig, tt, *args, **kwargs):\n",
    "\n",
    "#     # find indices\n",
    "#     indx = np.where(\n",
    "#         (np.abs(ds_test_obs_summer.time.values - ds.time.values[tt]) <= dt)\n",
    "#     )[0]\n",
    "\n",
    "#     # subset data\n",
    "#     lat = ds_test_obs_summer.latitude.values[indx]\n",
    "#     lon = ds_test_obs_summer.longitude.values[indx]\n",
    "#     data = ds_test_obs_summer.sla_unfiltered.values[indx]\n",
    "\n",
    "#     vmin = ds_test_obs_summer.sla_unfiltered.min()\n",
    "#     vmax = ds_test_obs_summer.sla_unfiltered.max()\n",
    "\n",
    "#     # do scatter plot\n",
    "#     ax = fig.add_subplot(111, aspect=\"equal\")\n",
    "\n",
    "#     pts = ax.scatter(\n",
    "#         lon,\n",
    "#         lat,\n",
    "#         c=data,\n",
    "#         cmap=\"RdBu_r\",\n",
    "#         vmin=ds_test_obs_summer.sla_unfiltered.min(),\n",
    "#         vmax=ds_test_obs_summer.sla_unfiltered.max(),\n",
    "#     )\n",
    "#     ax.set_title(\"\")\n",
    "#     ax.set_facecolor(\"0.5\")\n",
    "#     ax.set_aspect(0.75)\n",
    "#     ax.set(\n",
    "#         xlim=[ds.longitude.values.min() - 0.5, ds.longitude.values.max() + 0.5],\n",
    "#         ylim=[\n",
    "#             ds.latitude.values.min() - 0.5,\n",
    "#             ds.latitude.values.max() + 0.5,\n",
    "#         ],\n",
    "#     )\n",
    "#     plt.colorbar(pts)\n",
    "#     # plt.tight_layout()\n",
    "\n",
    "#     return None, None"
   ]
  },
  {
   "cell_type": "code",
   "execution_count": null,
   "id": "5ceb8a8b-27e6-471e-8153-7501e42aaeb4",
   "metadata": {},
   "outputs": [],
   "source": [
    "# mov_custom = Movie(ds_summer.sla, custom_plotfunc)"
   ]
  },
  {
   "cell_type": "code",
   "execution_count": null,
   "id": "06a702e5-cc3f-4657-b41a-edcae71a24d9",
   "metadata": {},
   "outputs": [],
   "source": [
    "# mov_custom.preview(9)"
   ]
  },
  {
   "cell_type": "code",
   "execution_count": null,
   "id": "b5b925ee-bb80-4cd2-82d3-8a10fff2e19b",
   "metadata": {},
   "outputs": [],
   "source": [
    "# mov_custom.save(\n",
    "#     \"plots/movie_ssh_gulf_jja_test.gif\",\n",
    "#     remove_movie=True,\n",
    "#     progress=True,\n",
    "#     framerate=5,\n",
    "#     gif_framerate=5,\n",
    "#     overwrite_existing=True,\n",
    "# )"
   ]
  },
  {
   "cell_type": "code",
   "execution_count": null,
   "id": "2770d43f-14ef-4e2a-959f-6486ccb1f012",
   "metadata": {},
   "outputs": [],
   "source": [
    "# def make_customplotfunc(ds_obs):\n",
    "#     def f(ds, fig, tt, *args, **kwargs):\n",
    "\n",
    "#         # find indices\n",
    "#         indx = np.where((np.abs(ds_obs.time.values - ds.time.values[tt]) <= dt))[0]\n",
    "\n",
    "#         # subset data\n",
    "#         lat = ds_obs.latitude.values[indx]\n",
    "#         lon = ds_obs.longitude.values[indx]\n",
    "#         data = ds_obs.sla_unfiltered.values[indx]\n",
    "\n",
    "#         vmin = ds_obs.sla_unfiltered.min()\n",
    "#         vmax = ds_obs.sla_unfiltered.max()\n",
    "\n",
    "#         # do scatter plot\n",
    "#         ax = fig.add_subplot(111, aspect=\"equal\")\n",
    "\n",
    "#         pts = ax.scatter(\n",
    "#             lon,\n",
    "#             lat,\n",
    "#             c=data,\n",
    "#             cmap=\"RdBu_r\",\n",
    "#             vmin=ds_obs.sla_unfiltered.min(),\n",
    "#             vmax=ds_obs.sla_unfiltered.max(),\n",
    "#         )\n",
    "#         ax.set_title(f\"{ds.time.values[tt]:.10}\")\n",
    "#         ax.set_facecolor(\"0.5\")\n",
    "#         ax.set_aspect(0.75)\n",
    "#         ax.set(\n",
    "#             xlim=[ds.longitude.values.min() - 0.5, ds.longitude.values.max() + 0.5],\n",
    "#             ylim=[\n",
    "#                 ds.latitude.values.min() - 0.5,\n",
    "#                 ds.latitude.values.max() + 0.5,\n",
    "#             ],\n",
    "#             xlabel=\"Longitudes [degrees_east]\",\n",
    "#             ylabel=\"Latitudes [degrees_north]\",\n",
    "#         )\n",
    "#         plt.colorbar(pts)\n",
    "#         plt.tight_layout()\n",
    "\n",
    "#         return None, None\n",
    "\n",
    "#     return f"
   ]
  },
  {
   "cell_type": "code",
   "execution_count": null,
   "id": "78a16e9f-3d3b-4b09-93b7-395c4eb8cdbb",
   "metadata": {},
   "outputs": [],
   "source": [
    "# f_cust = make_customplotfunc(ds_test_obs_winter)\n",
    "\n",
    "# mov_custom = Movie(ds_winter.sla, f_cust)"
   ]
  },
  {
   "cell_type": "code",
   "execution_count": null,
   "id": "d659f712-1568-430a-a9b4-0b08b7af705a",
   "metadata": {},
   "outputs": [],
   "source": [
    "# mov_custom.save(\n",
    "#     \"plots/movie_ssh_gulf_djf_test.gif\",\n",
    "#     remove_movie=True,\n",
    "#     progress=True,\n",
    "#     framerate=5,\n",
    "#     gif_framerate=5,\n",
    "#     overwrite_existing=True,\n",
    "# )"
   ]
  }
 ],
 "metadata": {
  "interpreter": {
   "hash": "70d2e25024e70c662658c456d9e0a340af3759493bed99b867179c40cf269d86"
  },
  "kernelspec": {
   "display_name": "Python [conda env:torch_py39]",
   "language": "python",
   "name": "conda-env-torch_py39-py"
  },
  "language_info": {
   "codemirror_mode": {
    "name": "ipython",
    "version": 3
   },
   "file_extension": ".py",
   "mimetype": "text/x-python",
   "name": "python",
   "nbconvert_exporter": "python",
   "pygments_lexer": "ipython3",
   "version": "3.9.13"
  }
 },
 "nbformat": 4,
 "nbformat_minor": 5
}
