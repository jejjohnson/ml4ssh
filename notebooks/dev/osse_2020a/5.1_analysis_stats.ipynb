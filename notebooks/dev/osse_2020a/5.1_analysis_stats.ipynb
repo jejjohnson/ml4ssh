{
 "cells": [
  {
   "cell_type": "markdown",
   "metadata": {},
   "source": [
    "# Analysis I - Pixel-Wise Stats"
   ]
  },
  {
   "cell_type": "code",
   "execution_count": null,
   "metadata": {},
   "outputs": [],
   "source": [
    "import sys, os\n",
    "from pyprojroot import here\n",
    "\n",
    "# spyder up to find the root\n",
    "root = here(project_files=[\".root\"])\n",
    "\n",
    "\n",
    "# append to path\n",
    "sys.path.append(str(root))"
   ]
  },
  {
   "cell_type": "code",
   "execution_count": null,
   "metadata": {},
   "outputs": [],
   "source": [
    "import numpy as np\n",
    "import pandas as pd\n",
    "import xarray as xr\n",
    "import matplotlib.pyplot as plt\n",
    "import seaborn as sns\n",
    "\n",
    "sns.reset_defaults()\n",
    "sns.set_context(context=\"talk\", font_scale=0.7)\n",
    "\n",
    "import hvplot.xarray\n",
    "import hvplot.pandas\n",
    "\n",
    "from inr4ssh._src.operators.finite_diff import calculate_gradient, calculate_laplacian\n",
    "from inr4ssh._src.preprocess.subset import temporal_subset, spatial_subset\n",
    "from inr4ssh._src.preprocess.coords import (\n",
    "    correct_coordinate_labels,\n",
    "    correct_longitude_domain,\n",
    ")\n",
    "from inr4ssh._src.data.ssh_obs import load_ssh_altimetry_data_train\n",
    "\n",
    "from inr4ssh._src.preprocess.coords import correct_coordinate_labels\n",
    "from inr4ssh._src.preprocess.obs import bin_observations\n",
    "from inr4ssh._src.viz.movie import create_movie\n",
    "from inr4ssh._src.metrics.psd import psd_isotropic\n",
    "from inr4ssh._src.viz.psd.isotropic import plot_psd_isotropic\n",
    "from inr4ssh._src.viz.obs import plot_obs_demo\n",
    "from inr4ssh._src.metrics.psd import psd_spacetime, psd_spacetime_dask\n",
    "from inr4ssh._src.viz.psd.spacetime import (\n",
    "    plot_psd_spacetime_wavelength,\n",
    "    plot_psd_spacetime_wavenumber,\n",
    ")\n",
    "from inr4ssh._src.viz.psd.spacetime import (\n",
    "    plot_psd_spacetime_score_wavelength,\n",
    "    plot_psd_spacetime_score_wavenumber,\n",
    ")\n",
    "\n",
    "%matplotlib inline\n",
    "%load_ext autoreload\n",
    "%autoreload 2"
   ]
  },
  {
   "cell_type": "markdown",
   "metadata": {},
   "source": [
    "## Data"
   ]
  },
  {
   "cell_type": "markdown",
   "metadata": {},
   "source": [
    "### Evaluation Field"
   ]
  },
  {
   "cell_type": "code",
   "execution_count": null,
   "metadata": {},
   "outputs": [],
   "source": [
    "url = \"/Volumes/EMANS_HDD/data/dc20a_osse/raw/dc_ref/NATL60-CJM165_GULFSTREAM_*.nc\"\n",
    "\n",
    "\n",
    "def preprocess(ds):\n",
    "\n",
    "    # subset time\n",
    "    ds = ds.sel(time=slice(np.datetime64(\"2012-10-22\"), np.datetime64(\"2012-12-02\")))\n",
    "\n",
    "    return ds\n",
    "\n",
    "\n",
    "ds_field = xr.open_mfdataset(url, preprocess=None)\n",
    "\n",
    "# ds_field = ds_field.sel(\n",
    "#     time=slice(np.datetime64(\"2012-10-22\"), np.datetime64(\"2012-12-02\"))\n",
    "# )\n",
    "\n",
    "# ds_field = (\n",
    "#     ds_field.rename({\"lon\": \"longitude\"})\n",
    "#     .rename({\"lat\": \"latitude\"})\n",
    "#     .rename({\"sossheig\": \"ssh\"})\n",
    "# )\n",
    "\n",
    "# ds_field = ds_field.resample(time=\"1D\").mean()\n",
    "\n",
    "# # ds_field = correct_coordinate_labels(ds_field)\n",
    "\n",
    "ds_field"
   ]
  },
  {
   "cell_type": "markdown",
   "metadata": {},
   "source": [
    "### Example Results"
   ]
  },
  {
   "cell_type": "markdown",
   "metadata": {},
   "source": [
    "```bash\n",
    "!wget https://ige-meom-opendap.univ-grenoble-alpes.fr/thredds/fileServer/meomopendap/extract/ocean-data-challenges/dc_data1/dc_mapping/2020a_SSH_mapping_NATL60_MIOST_en_j1_tpn_g2.nc\n",
    "!wget https://ige-meom-opendap.univ-grenoble-alpes.fr/thredds/fileServer/meomopendap/extract/ocean-data-challenges/dc_data1/dc_mapping/2020a_SSH_mapping_NATL60_MIOST_swot_en_j1_tpn_g2.nc\n",
    "!wget https://ige-meom-opendap.univ-grenoble-alpes.fr/thredds/fileServer/meomopendap/extract/ocean-data-challenges/dc_data1/dc_mapping/2020a_SSH_mapping_NATL60_DUACS_en_j1_tpn_g2.nc\n",
    "!wget https://ige-meom-opendap.univ-grenoble-alpes.fr/thredds/fileServer/meomopendap/extract/ocean-data-challenges/dc_data1/dc_mapping/2020a_SSH_mapping_NATL60_DUACS_swot_en_j1_tpn_g2.nc\n",
    "!wget https://ige-meom-opendap.univ-grenoble-alpes.fr/thredds/fileServer/meomopendap/extract/ocean-data-challenges/dc_data1/dc_mapping/2020a_SSH_mapping_NATL60_4DVarNet_v2022_nadirswot_GF_GF.nc\n",
    "!wget https://ige-meom-opendap.univ-grenoble-alpes.fr/thredds/fileServer/meomopendap/extract/ocean-data-challenges/dc_data1/dc_mapping/2020a_SSH_mapping_NATL60_4DVarNet_v2022_nadir_GF_GF.nc\n",
    "!wget https://ige-meom-opendap.univ-grenoble-alpes.fr/thredds/fileServer/meomopendap/extract/ocean-data-challenges/dc_data1/dc_mapping/2020a_SSH_mapping_NATL60_BFN_Steady_State_QG1L_en_j1_tpn_g2.nc\n",
    "!wget https://ige-meom-opendap.univ-grenoble-alpes.fr/thredds/fileServer/meomopendap/extract/ocean-data-challenges/dc_data1/dc_mapping/2020a_SSH_mapping_NATL60_BFN_Steady_State_QG1L_swot_en_j1_tpn_g2.nc\n",
    "```"
   ]
  },
  {
   "cell_type": "code",
   "execution_count": null,
   "metadata": {},
   "outputs": [],
   "source": [
    "!ls /Volumes/EMANS_HDD/data/dc20a_osse/results/nadir4/"
   ]
  },
  {
   "cell_type": "code",
   "execution_count": null,
   "metadata": {},
   "outputs": [],
   "source": [
    "url = \"/Volumes/EMANS_HDD/data/dc20a_osse/results/nadir4/2020a_SSH_mapping_NATL60_DUACS_en_j1_tpn_g2.nc\"\n",
    "ds_predict = xr.open_dataset(url)\n",
    "\n",
    "ds_predict"
   ]
  },
  {
   "cell_type": "markdown",
   "metadata": {},
   "source": [
    "## PostProcessing"
   ]
  },
  {
   "cell_type": "markdown",
   "metadata": {},
   "source": [
    "### Cleaning\n",
    "\n",
    "* Evaluation Period\n",
    "* Lat/Lon Labels\n",
    "* Longitude Range\n",
    "* Regridding"
   ]
  },
  {
   "cell_type": "code",
   "execution_count": null,
   "metadata": {},
   "outputs": [],
   "source": [
    "from inr4ssh._src.preprocess.regrid import oi_regrid\n",
    "\n",
    "\n",
    "def post_process(ds, ds_ref, variable_ref, variable_pred):\n",
    "\n",
    "    # subset temporal space\n",
    "    ds = ds.sel(time=slice(np.datetime64(\"2012-10-22\"), np.datetime64(\"2012-12-02\")))\n",
    "    ds_ref = ds_ref.sel(\n",
    "        time=slice(np.datetime64(\"2012-10-22\"), np.datetime64(\"2012-12-02\"))\n",
    "    )\n",
    "\n",
    "    # resample the reference grid\n",
    "    # TODO: make this optional\n",
    "    ds_ref = ds_ref.resample(time=\"1D\").mean()\n",
    "\n",
    "    # correct coordinate labels\n",
    "    ds = correct_coordinate_labels(ds)\n",
    "    ds_ref = correct_coordinate_labels(ds_ref)\n",
    "\n",
    "    # correct labels\n",
    "    ds_ref = ds_ref.rename({variable_ref: \"ssh\"})\n",
    "    ds = ds.rename({variable_pred: \"ssh\"})\n",
    "\n",
    "    # correct longitude domain\n",
    "    ds = correct_longitude_domain(ds)\n",
    "    ds_ref = correct_longitude_domain(ds_ref)\n",
    "\n",
    "    # regrid data\n",
    "    ds_ref[\"ssh_predict\"] = oi_regrid(ds[\"ssh\"], ds_ref[\"ssh\"])\n",
    "\n",
    "    return ds_ref"
   ]
  },
  {
   "cell_type": "code",
   "execution_count": null,
   "metadata": {},
   "outputs": [],
   "source": [
    "ds_field = post_process(ds_predict, ds_field, \"sossheig\", \"gssh\")"
   ]
  },
  {
   "cell_type": "code",
   "execution_count": null,
   "metadata": {},
   "outputs": [],
   "source": [
    "ds_field"
   ]
  },
  {
   "cell_type": "markdown",
   "metadata": {},
   "source": [
    "## Metric I - RMSE"
   ]
  },
  {
   "cell_type": "code",
   "execution_count": null,
   "metadata": {},
   "outputs": [],
   "source": [
    "from inr4ssh._src.metrics.field.stats import nrmse_spacetime, rmse_space, nrmse_time"
   ]
  },
  {
   "cell_type": "code",
   "execution_count": null,
   "metadata": {},
   "outputs": [],
   "source": [
    "nrmse_xyt = nrmse_spacetime(ds_field[\"ssh_predict\"], ds_field[\"ssh\"]).values\n",
    "print(f\"Leaderboard SSH RMSE score =  {nrmse_xyt:.2f}\")"
   ]
  },
  {
   "cell_type": "markdown",
   "metadata": {},
   "source": [
    "#### Error Variability (Temporal)"
   ]
  },
  {
   "cell_type": "code",
   "execution_count": null,
   "metadata": {},
   "outputs": [],
   "source": [
    "rmse_t = nrmse_time(ds_field[\"ssh_predict\"], ds_field[\"ssh\"])\n",
    "err_var_time = rmse_t.std().values\n",
    "print(f\"Error Variability =  {err_var_time:.2f}\")"
   ]
  },
  {
   "cell_type": "code",
   "execution_count": null,
   "metadata": {},
   "outputs": [],
   "source": [
    "fig, ax = plt.subplots()\n",
    "\n",
    "rmse_t.plot(ax=ax)\n",
    "\n",
    "ax.set(xlabel=\"Time\", ylabel=\"nRMSE\")\n",
    "ax.set_ylim((0, 1.0))\n",
    "plt.tight_layout()\n",
    "plt.show()"
   ]
  },
  {
   "cell_type": "markdown",
   "metadata": {},
   "source": [
    "#### Error Variability (Spatial)"
   ]
  },
  {
   "cell_type": "code",
   "execution_count": null,
   "metadata": {},
   "outputs": [],
   "source": [
    "rmse_xy = rmse_space(ds_field[\"ssh_predict\"], ds_field[\"ssh\"])\n",
    "err_var_space = rmse_xy.std().values\n",
    "print(f\"Error Variability (Spatial)=  {err_var_space:.2f}\")"
   ]
  },
  {
   "cell_type": "code",
   "execution_count": null,
   "metadata": {},
   "outputs": [],
   "source": [
    "fig, ax = plt.subplots()\n",
    "\n",
    "rmse_xy.T.plot.imshow(ax=ax)\n",
    "\n",
    "plt.tight_layout()\n",
    "plt.show()"
   ]
  },
  {
   "cell_type": "markdown",
   "metadata": {},
   "source": [
    "## Multivariate Statistics"
   ]
  },
  {
   "cell_type": "code",
   "execution_count": null,
   "metadata": {},
   "outputs": [],
   "source": [
    "from hyppo.independence import RV\n",
    "from hyppo.d_variate import dHsic\n",
    "from hyppo.ksample import Energy"
   ]
  },
  {
   "cell_type": "code",
   "execution_count": null,
   "metadata": {},
   "outputs": [],
   "source": [
    "from tqdm.notebook import tqdm\n",
    "\n",
    "times = []\n",
    "stats = {\n",
    "    \"rv\": list(),\n",
    "    \"rvd\": list(),\n",
    "    \"hsic\": list(),\n",
    "    \"energy\": list(),\n",
    "}\n",
    "\n",
    "for idata in tqdm(ds_field.groupby(\"time\")):\n",
    "\n",
    "    # do statistic\n",
    "    stats[\"rv\"].append(\n",
    "        RV().statistic(\n",
    "            idata[1][\"ssh\"].values.flatten()[:, None],\n",
    "            idata[1][\"ssh_predict\"].values.flatten()[:, None],\n",
    "        )\n",
    "    )\n",
    "\n",
    "    # do statistic\n",
    "    stats[\"rvd\"].append(\n",
    "        RV().statistic(idata[1][\"ssh\"].values, idata[1][\"ssh_predict\"].values)\n",
    "    )\n",
    "    # stats[\"energy\"].append(\n",
    "    #     Energy().statistic(idata[1][\"ssh\"].values, idata[1][\"ssh_predict\"].values)\n",
    "    # )\n",
    "    stats[\"hsic\"].append(\n",
    "        dHsic().statistic(idata[1][\"ssh\"].values, idata[1][\"ssh_predict\"].values)\n",
    "        / (\n",
    "            np.sqrt(dHsic().statistic(idata[1][\"ssh\"].values, idata[1][\"ssh\"].values))\n",
    "            * np.sqrt(\n",
    "                dHsic().statistic(\n",
    "                    idata[1][\"ssh_predict\"].values, idata[1][\"ssh_predict\"].values\n",
    "                )\n",
    "            )\n",
    "        )\n",
    "    )\n",
    "    times.append(idata[0])"
   ]
  },
  {
   "cell_type": "code",
   "execution_count": null,
   "metadata": {},
   "outputs": [],
   "source": [
    "fig, ax = plt.subplots()\n",
    "\n",
    "ax.plot(times, stats[\"rv\"], label=\"RV Coeff.\")\n",
    "ax.set_ylim((0.75, 1.0))\n",
    "# ax.set_yscale(\"log\")\n",
    "plt.tight_layout()\n",
    "plt.show()"
   ]
  },
  {
   "cell_type": "code",
   "execution_count": null,
   "metadata": {},
   "outputs": [],
   "source": [
    "fig, ax = plt.subplots()\n",
    "\n",
    "ax.plot(times, stats[\"rvd\"], label=\"RV Coeff.\")\n",
    "ax.set_ylim((0.75, 1.0))\n",
    "# ax.set_yscale(\"log\")\n",
    "plt.tight_layout()\n",
    "plt.show()"
   ]
  },
  {
   "cell_type": "code",
   "execution_count": null,
   "metadata": {},
   "outputs": [],
   "source": [
    "fig, ax = plt.subplots()\n",
    "\n",
    "ax.plot(times, stats[\"hsic\"], label=\"nHSIC\")\n",
    "ax.set_ylim((0.75, 1.0))\n",
    "# ax.set_yscale(\"log\")\n",
    "plt.tight_layout()\n",
    "plt.show()"
   ]
  },
  {
   "cell_type": "code",
   "execution_count": null,
   "metadata": {},
   "outputs": [],
   "source": []
  }
 ],
 "metadata": {
  "kernelspec": {
   "display_name": "Python 3.9.13 ('torch_py39')",
   "language": "python",
   "name": "python3"
  },
  "language_info": {
   "codemirror_mode": {
    "name": "ipython",
    "version": 3
   },
   "file_extension": ".py",
   "mimetype": "text/x-python",
   "name": "python",
   "nbconvert_exporter": "python",
   "pygments_lexer": "ipython3",
   "version": "3.9.13"
  },
  "vscode": {
   "interpreter": {
    "hash": "ba845ae818c285ca2fe9389acfa2d2da9f6f964e42b65478d402ad448a072775"
   }
  }
 },
 "nbformat": 4,
 "nbformat_minor": 2
}
