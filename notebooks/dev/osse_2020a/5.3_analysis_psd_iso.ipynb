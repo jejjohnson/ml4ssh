{
 "cells": [
  {
   "cell_type": "markdown",
   "metadata": {},
   "source": [
    "# Analysis I - Pixel-Wise Stats"
   ]
  },
  {
   "cell_type": "code",
   "execution_count": null,
   "metadata": {},
   "outputs": [],
   "source": [
    "import sys, os\n",
    "from pyprojroot import here\n",
    "\n",
    "# spyder up to find the root\n",
    "root = here(project_files=[\".root\"])\n",
    "\n",
    "\n",
    "# append to path\n",
    "sys.path.append(str(root))"
   ]
  },
  {
   "cell_type": "code",
   "execution_count": null,
   "metadata": {},
   "outputs": [],
   "source": [
    "import numpy as np\n",
    "import pandas as pd\n",
    "import xarray as xr\n",
    "import matplotlib.pyplot as plt\n",
    "import seaborn as sns\n",
    "\n",
    "sns.reset_defaults()\n",
    "sns.set_context(context=\"talk\", font_scale=0.7)\n",
    "\n",
    "import hvplot.xarray\n",
    "import hvplot.pandas\n",
    "\n",
    "from inr4ssh._src.operators.finite_diff import calculate_gradient, calculate_laplacian\n",
    "from inr4ssh._src.preprocess.subset import temporal_subset, spatial_subset\n",
    "from inr4ssh._src.preprocess.coords import (\n",
    "    correct_coordinate_labels,\n",
    "    correct_longitude_domain,\n",
    ")\n",
    "from inr4ssh._src.data.ssh_obs import load_ssh_altimetry_data_train\n",
    "\n",
    "from inr4ssh._src.preprocess.coords import correct_longitude_domain\n",
    "from inr4ssh._src.preprocess.obs import bin_observations\n",
    "from inr4ssh._src.viz.movie import create_movie\n",
    "from inr4ssh._src.metrics.psd import psd_isotropic\n",
    "from inr4ssh._src.viz.psd.isotropic import plot_psd_isotropic\n",
    "from inr4ssh._src.viz.obs import plot_obs_demo\n",
    "from inr4ssh._src.metrics.psd import psd_spacetime, psd_spacetime_dask\n",
    "from inr4ssh._src.viz.psd.spacetime import (\n",
    "    plot_psd_spacetime_wavelength,\n",
    "    plot_psd_spacetime_wavenumber,\n",
    ")\n",
    "from inr4ssh._src.viz.psd.spacetime import (\n",
    "    plot_psd_spacetime_score_wavelength,\n",
    "    plot_psd_spacetime_score_wavenumber,\n",
    ")\n",
    "from loguru import logger\n",
    "\n",
    "%matplotlib inline\n",
    "%load_ext autoreload\n",
    "%autoreload 2"
   ]
  },
  {
   "cell_type": "markdown",
   "metadata": {},
   "source": [
    "## Data"
   ]
  },
  {
   "cell_type": "markdown",
   "metadata": {},
   "source": [
    "### Evaluation Field"
   ]
  },
  {
   "cell_type": "code",
   "execution_count": null,
   "metadata": {},
   "outputs": [],
   "source": [
    "url = \"/Volumes/EMANS_HDD/data/dc20a_osse/raw/dc_ref/NATL60-CJM165_GULFSTREAM_*.nc\"\n",
    "\n",
    "\n",
    "def preprocess(ds):\n",
    "\n",
    "    # subset time\n",
    "    # ds = ds.sel(time=slice(np.datetime64(\"2012-10-22\"), np.datetime64(\"2012-12-02\")))\n",
    "\n",
    "    ds = ds.coarsen({\"lon\": 5, \"lat\": 5}).mean()\n",
    "\n",
    "    ds = ds.resample(time=\"1D\").mean()\n",
    "    return ds\n",
    "\n",
    "\n",
    "ds_field = xr.open_mfdataset(url, preprocess=preprocess)\n",
    "\n",
    "ds_field\n",
    "\n",
    "# ds_field = ds_field.sel(\n",
    "#     time=slice(np.datetime64(\"2012-10-22\"), np.datetime64(\"2012-12-02\"))\n",
    "# )\n",
    "\n",
    "# ds_field = (\n",
    "#     ds_field.rename({\"lon\": \"longitude\"})\n",
    "#     .rename({\"lat\": \"latitude\"})\n",
    "#     .rename({\"sossheig\": \"ssh\"})\n",
    "# )\n",
    "\n",
    "# ds_field = ds_field.resample(time=\"1D\").mean()\n",
    "\n",
    "# # ds_field = correct_coordinate_labels(ds_field)\n",
    "\n",
    "ds_field"
   ]
  },
  {
   "cell_type": "code",
   "execution_count": null,
   "metadata": {},
   "outputs": [],
   "source": [
    "def post_process(ds, variable):\n",
    "\n",
    "    # subset temporal space\n",
    "    ds = ds.sel(time=slice(np.datetime64(\"2012-10-22\"), np.datetime64(\"2012-12-02\")))\n",
    "\n",
    "    # correct coordinate labels\n",
    "    logger.info(\"Fixing coordinate labels...\")\n",
    "    ds = correct_coordinate_labels(ds)\n",
    "\n",
    "    # correct labels\n",
    "    logger.info(\"Fixing labels\")\n",
    "    ds = ds.rename({variable: \"ssh\"})\n",
    "\n",
    "    # correct longitude domain\n",
    "    logger.info(\"Fixing longitude domain\")\n",
    "    ds = correct_longitude_domain(ds)\n",
    "\n",
    "    ds = ds.transpose(\"time\", \"latitude\", \"longitude\")\n",
    "\n",
    "    # regrid data\n",
    "    return ds"
   ]
  },
  {
   "cell_type": "code",
   "execution_count": null,
   "metadata": {},
   "outputs": [],
   "source": [
    "ds_field = post_process(ds_field, \"sossheig\")\n",
    "ds_field"
   ]
  },
  {
   "cell_type": "markdown",
   "metadata": {},
   "source": [
    "### Example Results"
   ]
  },
  {
   "cell_type": "markdown",
   "metadata": {},
   "source": [
    "```bash\n",
    "!wget https://ige-meom-opendap.univ-grenoble-alpes.fr/thredds/fileServer/meomopendap/extract/ocean-data-challenges/dc_data1/dc_mapping/2020a_SSH_mapping_NATL60_MIOST_en_j1_tpn_g2.nc\n",
    "!wget https://ige-meom-opendap.univ-grenoble-alpes.fr/thredds/fileServer/meomopendap/extract/ocean-data-challenges/dc_data1/dc_mapping/2020a_SSH_mapping_NATL60_MIOST_swot_en_j1_tpn_g2.nc\n",
    "!wget https://ige-meom-opendap.univ-grenoble-alpes.fr/thredds/fileServer/meomopendap/extract/ocean-data-challenges/dc_data1/dc_mapping/2020a_SSH_mapping_NATL60_DUACS_en_j1_tpn_g2.nc\n",
    "!wget https://ige-meom-opendap.univ-grenoble-alpes.fr/thredds/fileServer/meomopendap/extract/ocean-data-challenges/dc_data1/dc_mapping/2020a_SSH_mapping_NATL60_DUACS_swot_en_j1_tpn_g2.nc\n",
    "!wget https://ige-meom-opendap.univ-grenoble-alpes.fr/thredds/fileServer/meomopendap/extract/ocean-data-challenges/dc_data1/dc_mapping/2020a_SSH_mapping_NATL60_4DVarNet_v2022_nadirswot_GF_GF.nc\n",
    "!wget https://ige-meom-opendap.univ-grenoble-alpes.fr/thredds/fileServer/meomopendap/extract/ocean-data-challenges/dc_data1/dc_mapping/2020a_SSH_mapping_NATL60_4DVarNet_v2022_nadir_GF_GF.nc\n",
    "!wget https://ige-meom-opendap.univ-grenoble-alpes.fr/thredds/fileServer/meomopendap/extract/ocean-data-challenges/dc_data1/dc_mapping/2020a_SSH_mapping_NATL60_BFN_Steady_State_QG1L_en_j1_tpn_g2.nc\n",
    "!wget https://ige-meom-opendap.univ-grenoble-alpes.fr/thredds/fileServer/meomopendap/extract/ocean-data-challenges/dc_data1/dc_mapping/2020a_SSH_mapping_NATL60_BFN_Steady_State_QG1L_swot_en_j1_tpn_g2.nc\n",
    "```"
   ]
  },
  {
   "cell_type": "code",
   "execution_count": null,
   "metadata": {},
   "outputs": [],
   "source": [
    "!ls /Volumes/EMANS_HDD/data/dc20a_osse/results/nadir4/"
   ]
  },
  {
   "cell_type": "code",
   "execution_count": null,
   "metadata": {},
   "outputs": [],
   "source": [
    "url = \"/Volumes/EMANS_HDD/data/dc20a_osse/results/nadir4/2020a_SSH_mapping_NATL60_DUACS_en_j1_tpn_g2.nc\"\n",
    "# url =\n",
    "ds_predict = xr.open_dataset(url)\n",
    "\n",
    "ds_predict"
   ]
  },
  {
   "cell_type": "markdown",
   "metadata": {},
   "source": [
    "## PostProcessing"
   ]
  },
  {
   "cell_type": "markdown",
   "metadata": {},
   "source": [
    "### Cleaning\n",
    "\n",
    "* Evaluation Period\n",
    "* Lat/Lon Labels\n",
    "* Longitude Range\n",
    "* Regridding"
   ]
  },
  {
   "cell_type": "code",
   "execution_count": null,
   "metadata": {},
   "outputs": [],
   "source": [
    "from inr4ssh._src.preprocess.regrid import oi_regrid\n",
    "\n",
    "#\n",
    "#\n",
    "# def post_process(ds, ds_ref, variable_ref, variable_pred):\n",
    "#\n",
    "#     # subset temporal space\n",
    "#     ds = ds.sel(time=slice(np.datetime64(\"2012-10-22\"), np.datetime64(\"2012-12-02\")))\n",
    "#     ds_ref = ds_ref.sel(\n",
    "#         time=slice(np.datetime64(\"2012-10-22\"), np.datetime64(\"2012-12-02\"))\n",
    "#     )\n",
    "#\n",
    "#     # resample the reference grid\n",
    "#     # TODO: make this optional\n",
    "#     logger.info(\"Resampling...\")\n",
    "#     ds_ref = ds_ref.resample(time=\"1D\").mean()\n",
    "#\n",
    "#     # correct coordinate labels\n",
    "#     logger.info(\"Fixing coordinate labels...\")\n",
    "#     ds = correct_coordinate_labels(ds)\n",
    "#     ds_ref = correct_coordinate_labels(ds_ref)\n",
    "#\n",
    "#     # correct labels\n",
    "#     logger.info(\"Fixing labels\")\n",
    "#     ds_ref = ds_ref.rename({variable_ref: \"ssh\"})\n",
    "#     ds = ds.rename({variable_pred: \"ssh\"})\n",
    "#\n",
    "#     # correct longitude domain\n",
    "#     logger.info(\"Fixing longitude domain\")\n",
    "#     ds = correct_longitude_domain(ds)\n",
    "#     ds_ref = correct_longitude_domain(ds_ref)\n",
    "#\n",
    "#     # regrid data\n",
    "#     logger.info(\"Regriding...\")\n",
    "#     return oi_regrid(ds[\"ssh\"], ds_ref[\"ssh\"])"
   ]
  },
  {
   "cell_type": "code",
   "execution_count": null,
   "metadata": {},
   "outputs": [],
   "source": [
    "ds_field"
   ]
  },
  {
   "cell_type": "code",
   "execution_count": null,
   "metadata": {},
   "outputs": [],
   "source": [
    "from inr4ssh._src.preprocess.regrid import oi_regrid\n",
    "\n",
    "dims = (\"time\", \"latitude\", \"longitude\")\n",
    "\n",
    "url = \"/Volumes/EMANS_HDD/data/dc20a_osse/results/nadir4/2020a_SSH_mapping_NATL60_DUACS_en_j1_tpn_g2.nc\"\n",
    "ds_predict = xr.open_dataset(url)\n",
    "\n",
    "ds_predict = post_process(ds_predict, \"gssh\")\n",
    "\n",
    "ds_predict"
   ]
  },
  {
   "cell_type": "code",
   "execution_count": null,
   "metadata": {},
   "outputs": [],
   "source": [
    "ds_field[\"ssh_duacs\"] = oi_regrid(\n",
    "    ds_field[\"ssh\"].transpose(*dims), ds_predict[\"ssh\"].transpose(*dims)\n",
    ")\n",
    "\n",
    "url = \"/Volumes/EMANS_HDD/data/dc20a_osse/results/nadir4/2020a_SSH_mapping_NATL60_MIOST_en_j1_tpn_g2.nc\"\n",
    "ds_predict = xr.open_dataset(url)\n",
    "\n",
    "ds_predict = post_process(ds_predict, \"gssh\")\n",
    "\n",
    "ds_field[\"ssh_miost\"] = oi_regrid(ds_predict[\"ssh\"], ds_field[\"ssh\"])\n",
    "\n",
    "url = \"/Volumes/EMANS_HDD/data/dc20a_osse/results/nadir4/2020a_SSH_mapping_NATL60_DUACS_en_j1_tpn_g2.nc\"\n",
    "ds_predict = xr.open_dataset(url)\n",
    "\n",
    "ds_predict = post_process(ds_predict, \"gssh\")\n",
    "\n",
    "ds_field[\"ssh_duacs\"] = oi_regrid(ds_predict[\"ssh\"], ds_field[\"ssh\"])"
   ]
  },
  {
   "cell_type": "code",
   "execution_count": null,
   "metadata": {},
   "outputs": [],
   "source": [
    "ds_field"
   ]
  },
  {
   "cell_type": "markdown",
   "metadata": {},
   "source": [
    "## Metrics - Isotropic PSD"
   ]
  },
  {
   "cell_type": "code",
   "execution_count": null,
   "metadata": {},
   "outputs": [],
   "source": [
    "# grab ssh\n",
    "ds_field_psd = ds_field.ssh\n",
    "ds_predict_psd = ds_field.ssh_predict\n",
    "\n",
    "# calculate\n",
    "ds_field_psd = psd_isotropic(ds_field_psd)\n",
    "ds_predict_psd = psd_isotropic(ds_predict_psd)"
   ]
  },
  {
   "cell_type": "code",
   "execution_count": null,
   "metadata": {},
   "outputs": [],
   "source": [
    "fig, ax, secax = plot_psd_isotropic(\n",
    "    ds_field_psd.freq_r.values, ds_field_psd.values, color=\"black\"\n",
    ")\n",
    "\n",
    "ax.plot(ds_predict_psd.freq_r.values, ds_predict_psd.values, color=\"red\")\n",
    "plt.xlim(\n",
    "    (\n",
    "        np.ma.min(np.ma.masked_invalid(ds_predict_psd.freq_r.values)),\n",
    "        np.ma.max(np.ma.masked_invalid(ds_predict_psd.freq_r.values)),\n",
    "    )\n",
    ")\n",
    "ax.set_xlabel(\"Wavenumber [cyles/degrees]\")\n",
    "secax.set_xlabel(\"Wavelength [degrees]\")\n",
    "plt.legend([\"Reference\", \"DUACS\"])\n",
    "plt.tight_layout()\n",
    "plt.show()"
   ]
  },
  {
   "cell_type": "code",
   "execution_count": null,
   "metadata": {},
   "outputs": [],
   "source": [
    "from inr4ssh._src.metrics.psd import psd_isotropic_score, wavelength_resolved_isotropic"
   ]
  },
  {
   "cell_type": "code",
   "execution_count": null,
   "metadata": {},
   "outputs": [],
   "source": [
    "from inr4ssh._src.metrics.psd import psd_isotropic_score, wavelength_resolved_isotropic\n",
    "\n",
    "# grab ssh\n",
    "ds_field_psd = ds_field.ssh\n",
    "ds_predict_psd = ds_field.ssh_predict\n",
    "\n",
    "psd_iso_score = psd_isotropic_score(ds_predict_psd, ds_field_psd)"
   ]
  },
  {
   "cell_type": "code",
   "execution_count": null,
   "metadata": {},
   "outputs": [],
   "source": [
    "space_iso_resolved = wavelength_resolved_isotropic(psd_iso_score, level=0.5)\n",
    "print(f\"Shortest Spatial Wavelength Resolved = {space_iso_resolved:.2f} (degrees)\")"
   ]
  },
  {
   "cell_type": "code",
   "execution_count": null,
   "metadata": {},
   "outputs": [],
   "source": [
    "fig, ax, secax = plot_psd_isotropic(\n",
    "    psd_iso_score.freq_r.values, psd_iso_score.values, color=\"black\"\n",
    ")\n",
    "\n",
    "ax.set(ylabel=\"PSD Score\", yscale=\"linear\")\n",
    "plt.ylim((0, 1.0))\n",
    "plt.xlim(\n",
    "    (\n",
    "        np.ma.min(np.ma.masked_invalid(psd_iso_score.freq_r.values)),\n",
    "        np.ma.max(np.ma.masked_invalid(psd_iso_score.freq_r.values)),\n",
    "    )\n",
    ")\n",
    "\n",
    "# plot the graph point\n",
    "resolved_scale = 1 / (space_iso_resolved)\n",
    "ax.vlines(\n",
    "    x=resolved_scale, ymin=0, ymax=0.5, color=\"green\", linewidth=2, linestyle=\"--\"\n",
    ")\n",
    "ax.hlines(\n",
    "    y=0.5,\n",
    "    xmin=np.ma.min(np.ma.masked_invalid(psd_iso_score.freq_r.values)),\n",
    "    xmax=resolved_scale,\n",
    "    color=\"green\",\n",
    "    linewidth=2,\n",
    "    linestyle=\"--\",\n",
    ")\n",
    "\n",
    "\n",
    "label = f\"Resolved Scales \\n $\\lambda$ > {space_iso_resolved:.2f} degrees\"\n",
    "plt.scatter(resolved_scale, 0.5, color=\"green\", marker=\".\", linewidth=5, label=label)\n",
    "ax.set_xlabel(\"Wavenumber [cyles/degrees]\")\n",
    "secax.set_xlabel(\"Wavelength [degrees]\")\n",
    "plt.legend()\n",
    "plt.tight_layout()\n",
    "plt.show()"
   ]
  },
  {
   "cell_type": "markdown",
   "metadata": {},
   "source": [
    "#### Isotropic PSD (Kilometers)"
   ]
  },
  {
   "cell_type": "code",
   "execution_count": null,
   "metadata": {},
   "outputs": [],
   "source": [
    "ds_field[\"longitude\"] = ds_field.longitude * 111e3\n",
    "ds_field[\"latitude\"] = ds_field.latitude * 111e3"
   ]
  },
  {
   "cell_type": "code",
   "execution_count": null,
   "metadata": {},
   "outputs": [],
   "source": [
    "# calculate\n",
    "ds_field_psd_natl60 = psd_isotropic(ds_field.ssh)\n",
    "ds_field_psd_duacs = psd_isotropic(ds_field.ssh_duacs)\n",
    "ds_field_psd_miost = psd_isotropic(ds_field.ssh_miost)"
   ]
  },
  {
   "cell_type": "code",
   "execution_count": null,
   "metadata": {},
   "outputs": [],
   "source": [
    "# grab ssh\n",
    "ds_field_psd = ds_field.ssh\n",
    "ds_predict_psd = ds_field.ssh_predict\n",
    "\n",
    "# correct units, degrees -> meters\n",
    "ds_field_psd[\"longitude\"] = ds_field_psd.longitude * 111e3\n",
    "ds_field_psd[\"latitude\"] = ds_field_psd.latitude * 111e3\n",
    "ds_predict_psd[\"longitude\"] = ds_predict_psd.longitude * 111e3\n",
    "ds_predict_psd[\"latitude\"] = ds_predict_psd.latitude * 111e3\n",
    "\n",
    "# calculate\n",
    "ds_field_psd = psd_isotropic(ds_field_psd)\n",
    "ds_predict_psd = psd_isotropic(ds_predict_psd)"
   ]
  },
  {
   "cell_type": "code",
   "execution_count": null,
   "metadata": {},
   "outputs": [],
   "source": [
    "fig, ax, secax = plot_psd_isotropic(\n",
    "    ds_field_psd_natl60.freq_r.values * 1e3, ds_field_psd_natl60.values, color=\"black\"\n",
    ")\n",
    "\n",
    "ax.plot(ds_field_psd_duacs.freq_r.values * 1e3, ds_field_psd_duacs.values, color=\"red\")\n",
    "ax.plot(\n",
    "    ds_field_psd_miost.freq_r.values * 1e3, ds_field_psd_miost.values, color=\"green\"\n",
    ")\n",
    "plt.xlim(\n",
    "    (\n",
    "        np.ma.min(np.ma.masked_invalid(ds_field_psd_natl60.freq_r.values * 1e3)),\n",
    "        np.ma.max(np.ma.masked_invalid(ds_field_psd_natl60.freq_r.values * 1e3)),\n",
    "    )\n",
    ")\n",
    "plt.legend([\"NATL60\", \"DUACS\", \"MIOST\"])\n",
    "plt.tight_layout()\n",
    "plt.show()"
   ]
  },
  {
   "cell_type": "code",
   "execution_count": null,
   "metadata": {},
   "outputs": [],
   "source": [
    "# grab ssh\n",
    "ds_field_psd = ds_field.ssh\n",
    "ds_predict_psd = ds_field.ssh_predict\n",
    "\n",
    "# correct units, degrees -> meters\n",
    "ds_field_psd[\"longitude\"] = ds_field_psd.longitude * 111e3\n",
    "ds_field_psd[\"latitude\"] = ds_field_psd.latitude * 111e3\n",
    "ds_predict_psd[\"longitude\"] = ds_predict_psd.longitude * 111e3\n",
    "ds_predict_psd[\"latitude\"] = ds_predict_psd.latitude * 111e3\n",
    "\n",
    "psd_iso_score = psd_isotropic_score(ds_predict_psd, ds_field_psd)"
   ]
  },
  {
   "cell_type": "code",
   "execution_count": null,
   "metadata": {},
   "outputs": [],
   "source": [
    "space_iso_resolved = wavelength_resolved_isotropic(psd_iso_score, level=0.5)\n",
    "print(f\"Shortest Spatial Wavelength Resolved = {space_iso_resolved/1e3:.2f} (km)\")"
   ]
  },
  {
   "cell_type": "code",
   "execution_count": null,
   "metadata": {},
   "outputs": [],
   "source": [
    "fig, ax, secax = plot_psd_isotropic(\n",
    "    psd_iso_score.freq_r.values * 1e3, psd_iso_score.values, color=\"black\"\n",
    ")\n",
    "\n",
    "ax.set(ylabel=\"PSD Score\", yscale=\"linear\")\n",
    "plt.ylim((0, 1.0))\n",
    "plt.xlim(\n",
    "    (\n",
    "        np.ma.min(np.ma.masked_invalid(psd_iso_score.freq_r.values * 1e3)),\n",
    "        np.ma.max(np.ma.masked_invalid(psd_iso_score.freq_r.values * 1e3)),\n",
    "    )\n",
    ")\n",
    "\n",
    "# plot the graph point\n",
    "resolved_scale = 1 / (space_iso_resolved * 1e-3)\n",
    "ax.vlines(\n",
    "    x=resolved_scale, ymin=0, ymax=0.5, color=\"green\", linewidth=2, linestyle=\"--\"\n",
    ")\n",
    "ax.hlines(\n",
    "    y=0.5,\n",
    "    xmin=np.ma.min(np.ma.masked_invalid(psd_iso_score.freq_r.values * 1e3)),\n",
    "    xmax=resolved_scale,\n",
    "    color=\"green\",\n",
    "    linewidth=2,\n",
    "    linestyle=\"--\",\n",
    ")\n",
    "\n",
    "\n",
    "label = f\"Resolved Scales \\n $\\lambda$ > {int(space_iso_resolved*1e-3)} km\"\n",
    "plt.scatter(resolved_scale, 0.5, color=\"green\", marker=\".\", linewidth=5, label=label)\n",
    "plt.legend()\n",
    "plt.tight_layout()\n",
    "plt.show()"
   ]
  }
 ],
 "metadata": {
  "kernelspec": {
   "display_name": "Python 3.9.13 ('torch_py39')",
   "language": "python",
   "name": "python3"
  },
  "language_info": {
   "codemirror_mode": {
    "name": "ipython",
    "version": 3
   },
   "file_extension": ".py",
   "mimetype": "text/x-python",
   "name": "python",
   "nbconvert_exporter": "python",
   "pygments_lexer": "ipython3",
   "version": "3.9.13"
  },
  "vscode": {
   "interpreter": {
    "hash": "ba845ae818c285ca2fe9389acfa2d2da9f6f964e42b65478d402ad448a072775"
   }
  }
 },
 "nbformat": 4,
 "nbformat_minor": 2
}
