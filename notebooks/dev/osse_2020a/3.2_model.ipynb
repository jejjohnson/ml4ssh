{
 "cells": [
  {
   "cell_type": "markdown",
   "id": "69d67b99-71be-4f66-9397-b15b60ee0226",
   "metadata": {},
   "source": [
    "\n",
    "# 2.2 Model Training - Continue / Pretraining"
   ]
  },
  {
   "cell_type": "code",
   "execution_count": null,
   "id": "7d850f86-a38d-41f6-972c-4ecb70a3af42",
   "metadata": {},
   "outputs": [],
   "source": [
    "import os\n",
    "import sys\n",
    "\n",
    "from pyprojroot import here\n",
    "\n",
    "os.environ[\"PYTORCH_ENABLE_MPS_FALLBACK\"] = \"1\"\n",
    "\n",
    "# spyder up to find the root\n",
    "root = here(project_files=[\".root\"])\n",
    "exp = here(\n",
    "    relative_project_path=root.joinpath(\"experiments/dc20a\"), project_files=[\".local\"]\n",
    ")\n",
    "\n",
    "\n",
    "# append to path\n",
    "sys.path.append(str(root))\n",
    "sys.path.append(str(exp))"
   ]
  },
  {
   "cell_type": "code",
   "execution_count": null,
   "id": "4488d7ef",
   "metadata": {},
   "outputs": [],
   "source": [
    "import time\n",
    "\n",
    "import pytorch_lightning as pl\n",
    "import torch\n",
    "import torch.nn as nn\n",
    "import xarray as xr\n",
    "\n",
    "%matplotlib inline\n",
    "%load_ext autoreload\n",
    "%autoreload 2"
   ]
  },
  {
   "cell_type": "code",
   "execution_count": null,
   "id": "6bbd0d72",
   "metadata": {},
   "outputs": [],
   "source": [
    "import xarray as xr\n",
    "import numpy as np\n",
    "import matplotlib.pyplot as plt\n",
    "import torch\n",
    "import torch.nn as nn\n",
    "import torch.nn.functional as F\n",
    "from torch.utils.data import TensorDataset, DataLoader, Dataset\n",
    "from ml_collections import config_dict\n",
    "import pytorch_lightning as pl\n",
    "from pytorch_lightning import Trainer, seed_everything\n",
    "from pytorch_lightning.loggers import WandbLogger\n",
    "from inr4ssh._src.datamodules.osse_2020a import AlongTrackDataModule\n",
    "from configs.config_local import get_config\n",
    "\n",
    "pl.seed_everything(123)\n",
    "\n",
    "import matplotlib.pyplot as plt\n",
    "import seaborn as sns\n",
    "import wandb\n",
    "from loguru import logger\n",
    "\n",
    "sns.reset_defaults()\n",
    "sns.set_context(context=\"talk\", font_scale=0.7)\n",
    "\n",
    "%matplotlib inline\n",
    "%load_ext autoreload\n",
    "%autoreload 2"
   ]
  },
  {
   "cell_type": "markdown",
   "id": "95ec4688",
   "metadata": {},
   "source": [
    "## Steps\n",
    "\n",
    "1. Download Previous Config\n",
    "2. Download Previous Model\n",
    "3. Merge New Config with Old Config\n",
    "4. Continue Script (Like standard training)\n",
    "\n",
    "---\n",
    "**Pretraining**\n",
    "\n",
    "In this case, we are interested in an already trained model and using it for a new task. Ideally, this model should be trained on a similar problem.\n",
    "\n",
    "---\n",
    "**Continue Training**\n",
    "\n",
    "In this case, we are interested in continuing modeling training."
   ]
  },
  {
   "cell_type": "code",
   "execution_count": null,
   "id": "4899f046",
   "metadata": {},
   "outputs": [],
   "source": [
    "config = get_config()\n",
    "config.model"
   ]
  },
  {
   "cell_type": "code",
   "execution_count": null,
   "id": "6e55befb",
   "metadata": {},
   "outputs": [],
   "source": []
  },
  {
   "cell_type": "code",
   "execution_count": null,
   "id": "1172e240",
   "metadata": {},
   "outputs": [],
   "source": [
    "from pathlib import Path\n",
    "from inr4ssh._src.logging.wandb import load_wandb_checkpoint, load_wandb_run_config\n",
    "from ml_collections import config_dict\n",
    "\n",
    "\n",
    "def update_config_pretrain(config):\n",
    "\n",
    "    if config.pretrain:\n",
    "\n",
    "        # load previous config\n",
    "        logger.info(f\"Loading previous wandb config...\")\n",
    "        logger.info(\n",
    "            f\"wandb run: {config.pretrain_entity}/{config.pretrain_project}/{config.pretrain_id}\"\n",
    "        )\n",
    "        prev_config = load_wandb_run_config(\n",
    "            entity=config.pretrain_entity,\n",
    "            project=config.pretrain_project,\n",
    "            id=config.pretrain_id,\n",
    "        )\n",
    "        # print(prev_config)\n",
    "        # prev_config = config_dict.ConfigDict(prev_config)\n",
    "\n",
    "        # load previous checkpoint\n",
    "        logger.info(f\"Downloading prev run checkpoint...\")\n",
    "        logger.info(f\"Prev Run: {config.pretrain_reference}\")\n",
    "        checkpoint_dir = load_wandb_checkpoint(\n",
    "            entity=config.pretrain_entity,\n",
    "            project=config.pretrain_project,\n",
    "            reference=config.pretrain_reference,\n",
    "            mode=\"online\",\n",
    "        )\n",
    "\n",
    "        checkpoint_file = Path(checkpoint_dir).joinpath(config.pretrain_checkpoint)\n",
    "        logger.info(f\"Checkpoint file: {checkpoint_file}\")\n",
    "\n",
    "        # TODO: fix hack for pretraining config params\n",
    "        logger.info(f\"Hack: copying prev config pretrain params...\")\n",
    "        pretrain = True\n",
    "        pretrain_id = config.pretrain_id\n",
    "        pretrain_checkpoint = config.pretrain_checkpoint\n",
    "        pretrain_reference = config.pretrain_reference\n",
    "\n",
    "        # overwrite config\n",
    "        logger.info(f\"Overwriting previous config...\")\n",
    "\n",
    "        config = config_dict.ConfigDict(prev_config[\"model\"])\n",
    "        config.pretrain = pretrain\n",
    "        config.pretrain_id = pretrain_id\n",
    "        config.pretrain_checkpoint = pretrain_checkpoint\n",
    "        config.pretrain_reference = pretrain_reference\n",
    "        config.pretrain_checkpoint_file = checkpoint_file\n",
    "\n",
    "    return config"
   ]
  },
  {
   "cell_type": "markdown",
   "id": "833e6f9f",
   "metadata": {},
   "source": [
    "ige/inr4ssh/experiment-ckpts:v16"
   ]
  },
  {
   "cell_type": "code",
   "execution_count": null,
   "id": "a0fd5a9c",
   "metadata": {},
   "outputs": [],
   "source": [
    "config = get_config()\n",
    "config.model = update_config_pretrain(config.model)"
   ]
  },
  {
   "cell_type": "code",
   "execution_count": null,
   "id": "e13d5816",
   "metadata": {},
   "outputs": [],
   "source": []
  },
  {
   "cell_type": "code",
   "execution_count": null,
   "id": "3975fa36-64cc-4848-938a-3c1cdd14b287",
   "metadata": {},
   "outputs": [],
   "source": [
    "# from ml_collections import config_dict\n",
    "\n",
    "# cfg = config_dict.ConfigDict()\n",
    "\n",
    "# # logging args\n",
    "# cfg.log = config_dict.ConfigDict()\n",
    "# cfg.log.mode = \"online\" #\"disabled\"\n",
    "# cfg.log.project =\"inr4ssh\"\n",
    "# cfg.log.entity = \"ige\"\n",
    "# cfg.log.log_dir = \"/Users/eman/code_projects/logs/\"\n",
    "# cfg.log.resume = False\n",
    "\n",
    "# # data args\n",
    "# cfg.data = config_dict.ConfigDict()\n",
    "# cfg.data.data_dir =  f\"/Users/eman/code_projects/torchqg/data/qgsim_simple_128x128.nc\"\n",
    "\n",
    "# # preprocessing args\n",
    "# cfg.pre = config_dict.ConfigDict()\n",
    "# cfg.pre.noise = 0.01\n",
    "# cfg.pre.dt = 1.0\n",
    "# cfg.pre.time_min = 500\n",
    "# cfg.pre.time_max = 511\n",
    "# cfg.pre.seed = 123\n",
    "\n",
    "# # train/test args\n",
    "# cfg.split = config_dict.ConfigDict()\n",
    "# cfg.split.train_prct = 0.9\n",
    "\n",
    "# # dataloader args\n",
    "# cfg.dl = config_dict.ConfigDict()\n",
    "# cfg.dl.batchsize_train = 2048\n",
    "# cfg.dl.batchsize_val = 1_000\n",
    "# cfg.dl.batchsize_test = 5_000\n",
    "# cfg.dl.batchsize_predict = 10_000\n",
    "# cfg.dl.num_workers = 0\n",
    "# cfg.dl.pin_memory = False\n",
    "\n",
    "# # loss arguments\n",
    "# cfg.loss = config_dict.ConfigDict()\n",
    "# cfg.loss.qg = True\n",
    "# cfg.loss.alpha = 1e-4\n",
    "\n",
    "# # optimizer args\n",
    "# cfg.optim = config_dict.ConfigDict()\n",
    "# cfg.optim.warmup = 10\n",
    "# cfg.optim.num_epochs = 100\n",
    "# cfg.optim.learning_rate = 1e-4\n",
    "\n",
    "# # trainer args\n",
    "# cfg.trainer = config_dict.ConfigDict()\n",
    "# cfg.trainer.accelerator = None\n",
    "# cfg.trainer.devices = 1\n",
    "# cfg.trainer.grad_batches = 1"
   ]
  },
  {
   "cell_type": "code",
   "execution_count": null,
   "id": "3ac47ef1-8d2d-4e12-8f17-fc53fe4a5c61",
   "metadata": {},
   "outputs": [],
   "source": [
    "# from inr4ssh._src.io import transform_dict\n",
    "\n",
    "# cfg = get_config()\n",
    "\n",
    "# cfg.to_dict()"
   ]
  },
  {
   "cell_type": "markdown",
   "id": "e4858b20-4c08-496b-aa14-64d72cc6b65f",
   "metadata": {},
   "source": [
    "## Data Module\n",
    "\n",
    "Now we will put all of the preprocessing routines together. This is **very important** for a few reasons:\n",
    "\n",
    "1. It collapses all of the operations in a modular way\n",
    "2. It makes it reproducible for the next people\n",
    "3. It makes it very easy for the PyTorch-Lightning framework down the line."
   ]
  },
  {
   "cell_type": "code",
   "execution_count": null,
   "id": "93fc205b",
   "metadata": {},
   "outputs": [],
   "source": [
    "config.log.mode = \"disabled\"\n",
    "wandb_logger = WandbLogger(\n",
    "    config=config.to_dict(),\n",
    "    # mode=\"offline\",\n",
    "    mode=config.log.mode,\n",
    "    project=config.log.project,\n",
    "    entity=config.log.entity,\n",
    "    dir=config.log.log_dir,\n",
    "    resume=False,\n",
    ")"
   ]
  },
  {
   "cell_type": "code",
   "execution_count": null,
   "id": "53d8f2d7",
   "metadata": {},
   "outputs": [],
   "source": [
    "config.preprocess.subset_time.time_max = \"2012-12-02\"\n",
    "config.evaluation.time_max = \"2012-12-02\"\n",
    "config.preprocess.subset_spatial.lon_min = -62.0\n",
    "config.preprocess.subset_spatial.lon_min = -62.0\n",
    "config.preprocess.subset_spatial.lon_max = -58.0\n",
    "config.preprocess.subset_spatial.lat_min = 35.0\n",
    "config.preprocess.subset_spatial.lat_max = 40.0\n",
    "config.evaluation.lon_min = -62.0\n",
    "config.evaluation.lon_max = -58.0\n",
    "config.evaluation.lat_min = 35.0\n",
    "config.evaluation.lat_max = 40.0"
   ]
  },
  {
   "cell_type": "code",
   "execution_count": null,
   "id": "67da7217-f0a7-42b9-9351-db849446c975",
   "metadata": {},
   "outputs": [],
   "source": [
    "# initialize data module\n",
    "dm = AlongTrackDataModule(\n",
    "    root=None,\n",
    "    config=config,\n",
    "    download=False,\n",
    ")\n",
    "\n",
    "# initialize datamodule params\n",
    "dm.setup()\n",
    "\n",
    "# initialize dataloaders\n",
    "ds_train = dm.train_dataloader()\n",
    "\n",
    "ds_valid = dm.val_dataloader()\n",
    "\n",
    "ds_test = dm.test_dataloader()\n",
    "\n",
    "ds_predict = dm.predict_dataloader()"
   ]
  },
  {
   "cell_type": "code",
   "execution_count": null,
   "id": "f924f943-f3bd-481c-9e20-e1fc9403aaa9",
   "metadata": {},
   "outputs": [],
   "source": [
    "import math\n",
    "\n",
    "data = dm.ds_train[:10]\n",
    "\n",
    "data[\"spatial\"].shape, data[\"temporal\"].shape, data[\"output\"].shape"
   ]
  },
  {
   "cell_type": "code",
   "execution_count": null,
   "id": "23d28584",
   "metadata": {},
   "outputs": [],
   "source": [
    "dm.ds_train[:][\"spatial\"].min(), dm.ds_train[:][\"spatial\"].max()"
   ]
  },
  {
   "cell_type": "code",
   "execution_count": null,
   "id": "5d925a3d",
   "metadata": {},
   "outputs": [],
   "source": [
    "x_init = torch.cat([data[\"spatial\"], data[\"temporal\"]], dim=1)\n",
    "y_init = data[\"output\"]\n",
    "x_init.shape, y_init.shape"
   ]
  },
  {
   "cell_type": "markdown",
   "id": "d0beae39",
   "metadata": {},
   "source": [
    "### Transformations\n",
    "\n",
    "**Spatial**:\n",
    "\n",
    "> We want to transform this from degrees to radians\n",
    "\n",
    "\n",
    "**Temporal**:\n",
    "\n",
    "> We want to transform this from time to sines and cosines"
   ]
  },
  {
   "cell_type": "markdown",
   "id": "d7a68f60-19d7-439e-988b-8a99263ee269",
   "metadata": {},
   "source": [
    "## NerF\n",
    "\n",
    "This standard Neural Fields."
   ]
  },
  {
   "cell_type": "code",
   "execution_count": null,
   "id": "3b9ab32f",
   "metadata": {},
   "outputs": [],
   "source": [
    "from inr4ssh._src.models.models_factory import model_factory\n",
    "\n",
    "dim_in = x_init.shape[1]\n",
    "dim_out = y_init.shape[1]\n",
    "\n",
    "net = model_factory(\n",
    "    model=config.model.model,\n",
    "    # dim_in=x_train.shape[1],\n",
    "    dim_in=dim_in,\n",
    "    # dim_out=y_train.shape[1],\n",
    "    dim_out=dim_out,\n",
    "    config=config.model,\n",
    ")"
   ]
  },
  {
   "cell_type": "code",
   "execution_count": null,
   "id": "1b91042a",
   "metadata": {},
   "outputs": [],
   "source": [
    "checkpoint"
   ]
  },
  {
   "cell_type": "code",
   "execution_count": null,
   "id": "a3b8b3c9-60a0-4cea-89f9-8f16daf2b66f",
   "metadata": {},
   "outputs": [],
   "source": [
    "out = net(x_init)"
   ]
  },
  {
   "cell_type": "markdown",
   "id": "aea7ab29-f515-465d-a4c5-1f786806008e",
   "metadata": {},
   "source": [
    "## Experiment"
   ]
  },
  {
   "cell_type": "code",
   "execution_count": null,
   "id": "83a674b4",
   "metadata": {},
   "outputs": [],
   "source": [
    "from inr4ssh._src.transforms.utils import (\n",
    "    spatial_transform_factory,\n",
    "    temporal_transform_factory,\n",
    ")\n",
    "\n",
    "spatial_transform = spatial_transform_factory(config.transform_spatial)\n",
    "temporal_transform = temporal_transform_factory(config.transform_temporal)"
   ]
  },
  {
   "cell_type": "code",
   "execution_count": null,
   "id": "d21b2a59",
   "metadata": {},
   "outputs": [],
   "source": [
    "spatial_transform, temporal_transform"
   ]
  },
  {
   "cell_type": "code",
   "execution_count": null,
   "id": "131c1172",
   "metadata": {},
   "outputs": [],
   "source": [
    "config.lr_scheduler.max_epochs = config.trainer.num_epochs"
   ]
  },
  {
   "cell_type": "code",
   "execution_count": null,
   "id": "3c3d97d7",
   "metadata": {},
   "outputs": [],
   "source": [
    "from inr4ssh._src.trainers.osse_2020a import INRModel\n",
    "\n",
    "# # option 1\n",
    "# learn = INRModel.load_from_checkpoint(\n",
    "#     config.model.pretrain_checkpoint_file,\n",
    "#     model=net,\n",
    "# )\n",
    "\n",
    "# # overwrite new criteria\n",
    "# learn.spatial_transform = spatial_transform\n",
    "# learn.temporal_transform = temporal_transform\n",
    "# learn.optimizer_config = config.optimizer\n",
    "# learn.loss_config = config.loss\n",
    "# learn.lr_scheduler = config.lr_scheduler\n",
    "\n",
    "# option 2\n",
    "# option 1\n",
    "learn = INRModel.load_from_checkpoint(\n",
    "    config.model.pretrain_checkpoint_file,\n",
    "    model=net,\n",
    "    optimizer_config=config.optimizer,\n",
    "    loss_config=config.loss,\n",
    "    lr_scheduler=config.lr_scheduler,\n",
    ")\n",
    "\n",
    "# overwrite new criteria\n",
    "learn.spatial_transform = spatial_transform\n",
    "learn.temporal_transform = temporal_transform\n",
    "\n",
    "# # learn = INRModel(\n",
    "#     model=net,\n",
    "#     spatial_transform=spatial_transform,\n",
    "#     temporal_transform=temporal_transform,\n",
    "#     optimizer_config=config.optimizer,\n",
    "#     lr_scheduler_config=config.lr_scheduler,\n",
    "#     loss_config=config.loss\n",
    "# # )"
   ]
  },
  {
   "cell_type": "code",
   "execution_count": null,
   "id": "eabe37d1-9ba0-4c06-855d-2eacb9280d6e",
   "metadata": {},
   "outputs": [],
   "source": [
    "# run_path = \"ige/inr4ssh/1st3rtl0\"\n",
    "# model_path = \"checkpoints/epoch=990-step=39640.ckpt\""
   ]
  },
  {
   "cell_type": "code",
   "execution_count": null,
   "id": "641689c3-858f-47d3-8a5a-d0a5f51d3ab4",
   "metadata": {},
   "outputs": [],
   "source": [
    "# from inr4ssh._src.io import get_wandb_config, get_wandb_model"
   ]
  },
  {
   "cell_type": "code",
   "execution_count": null,
   "id": "421a42b7-4c8b-4bc8-8615-bed4076bad6e",
   "metadata": {},
   "outputs": [],
   "source": [
    "# best_model = get_wandb_model(run_path, model_path)\n",
    "# best_model.download(replace=True)"
   ]
  },
  {
   "cell_type": "markdown",
   "id": "d614a086-9047-409a-bca0-a6c5f5397560",
   "metadata": {},
   "source": [
    "### Callbacks"
   ]
  },
  {
   "cell_type": "code",
   "execution_count": null,
   "id": "f902eb12",
   "metadata": {},
   "outputs": [],
   "source": [
    "from inr4ssh._src.callbacks.utils import get_callbacks"
   ]
  },
  {
   "cell_type": "code",
   "execution_count": null,
   "id": "d1b2157b",
   "metadata": {},
   "outputs": [],
   "source": [
    "# config.callbacks = config_dict.ConfigDict()\n",
    "# # wandb logging\n",
    "# config.callbacks.wandb = True\n",
    "\n",
    "# config.callbacks.model_checkpoint = True\n",
    "# # early stopping\n",
    "# config.callbacks.early_stopping = False\n",
    "# config.callbacks.patience = 20\n",
    "# config.callbacks.watch_model = False\n",
    "# # tqdm\n",
    "# config.callbacks.tqdm = True\n",
    "# config.callbacks.tqdm_refresh = 10"
   ]
  },
  {
   "cell_type": "code",
   "execution_count": null,
   "id": "195f3fa3",
   "metadata": {},
   "outputs": [],
   "source": [
    "callbacks = get_callbacks(config.callbacks, wandb_logger)"
   ]
  },
  {
   "cell_type": "markdown",
   "id": "ac691f0e-8563-466b-ba03-aa5e036a6937",
   "metadata": {},
   "source": [
    "### Learner"
   ]
  },
  {
   "cell_type": "code",
   "execution_count": null,
   "id": "512d74bf-df3e-4040-ade6-3ed1f60b2263",
   "metadata": {},
   "outputs": [],
   "source": [
    "# state = torch.load(best_model.name, map_location=torch.device(\"cpu\"))"
   ]
  },
  {
   "cell_type": "code",
   "execution_count": null,
   "id": "92ac1925-e2cf-4f54-9197-5d245057f501",
   "metadata": {},
   "outputs": [],
   "source": [
    "# state[\"state_dict\"]"
   ]
  },
  {
   "cell_type": "code",
   "execution_count": null,
   "id": "ab6e95d4-5df7-4a3c-a10a-a7bb2541e700",
   "metadata": {},
   "outputs": [],
   "source": [
    "# kwargs,\n",
    "# net = SirenNet(**kwargs)\n",
    "# net.load_state_dict(state_dict)"
   ]
  },
  {
   "cell_type": "code",
   "execution_count": null,
   "id": "9764224d-c5f7-4811-bc90-95a7e52d2ff7",
   "metadata": {},
   "outputs": [],
   "source": [
    "# learn = INRModel.load_from_checkpoint(\n",
    "#     best_model.name,\n",
    "#     model=net,\n",
    "#     loss_data=nn.MSELoss(\"mean\"),\n",
    "#     reg_pde=reg_loss,\n",
    "#     learning_rate=cfg.optim.learning_rate,\n",
    "#     warmup=cfg.optim.warmup,\n",
    "#     num_epochs=cfg.optim.num_epochs,\n",
    "#     alpha=cfg.loss.alpha,\n",
    "#     qg=cfg.loss.qg,\n",
    "# )"
   ]
  },
  {
   "cell_type": "markdown",
   "id": "8b94dae0-3f14-471b-bb82-5206b862d5ad",
   "metadata": {},
   "source": [
    "### Trainer"
   ]
  },
  {
   "cell_type": "code",
   "execution_count": null,
   "id": "f9fd2b64",
   "metadata": {},
   "outputs": [],
   "source": [
    "# config.trainer = config_dict.ConfigDict()\n",
    "# config.trainer.num_epochs = config.lr_scheduler.num_epochs\n",
    "# config.trainer.accelerator = \"mps\"  # \"cpu\", \"gpu\"\n",
    "# config.trainer.devices = 1\n",
    "# config.trainer.strategy = config_dict.placeholder(str)\n",
    "# config.trainer.num_nodes = 1\n",
    "# config.trainer.grad_batches = 10\n",
    "# config.trainer.dev_run = False"
   ]
  },
  {
   "cell_type": "code",
   "execution_count": null,
   "id": "bc58be52-50e3-4072-82c4-7ef17fb24fa2",
   "metadata": {},
   "outputs": [],
   "source": [
    "trainer = Trainer(\n",
    "    min_epochs=1,\n",
    "    max_epochs=config.trainer.num_epochs,\n",
    "    accelerator=config.trainer.accelerator,\n",
    "    devices=config.trainer.devices,\n",
    "    enable_progress_bar=True,\n",
    "    logger=wandb_logger,\n",
    "    callbacks=callbacks,\n",
    "    accumulate_grad_batches=config.trainer.grad_batches,\n",
    "    strategy=config.trainer.strategy,\n",
    "    num_nodes=config.trainer.num_nodes,\n",
    "    deterministic=config.trainer.deterministic,\n",
    ")\n",
    "\n",
    "# trainer = Trainer(\n",
    "#     min_epochs=1,\n",
    "#     max_epochs=config.trainer.num_epochs,\n",
    "#     accelerator=config.trainer.accelerator,\n",
    "#     devices=config.trainer.devices,\n",
    "#     enable_progress_bar=True,\n",
    "#     # logger=wandb_logger,\n",
    "#     # callbacks=callbacks,\n",
    "#     accumulate_grad_batches=config.trainer.grad_batches,\n",
    "# )"
   ]
  },
  {
   "cell_type": "code",
   "execution_count": null,
   "id": "b4c7aac0",
   "metadata": {},
   "outputs": [],
   "source": [
    "config.trainer.num_epochs"
   ]
  },
  {
   "cell_type": "markdown",
   "id": "cdbd7117-e4db-426f-b470-bfb22c424570",
   "metadata": {},
   "source": [
    "### Train"
   ]
  },
  {
   "cell_type": "code",
   "execution_count": null,
   "id": "0889c892-20c6-4446-8818-f8b7a6df9e82",
   "metadata": {},
   "outputs": [],
   "source": [
    "trainer.fit(\n",
    "    learn,\n",
    "    datamodule=dm,\n",
    ")"
   ]
  },
  {
   "cell_type": "markdown",
   "id": "1e87e6b4-1d97-4d5d-a00b-2c14b28677e0",
   "metadata": {},
   "source": [
    "## Results"
   ]
  },
  {
   "cell_type": "markdown",
   "id": "8e2ee560",
   "metadata": {},
   "source": [
    "### Test"
   ]
  },
  {
   "cell_type": "code",
   "execution_count": null,
   "id": "cfa25d57",
   "metadata": {},
   "outputs": [],
   "source": [
    "# res = trainer.test(learn, dataloaders=dm.test_dataloader())"
   ]
  },
  {
   "cell_type": "code",
   "execution_count": null,
   "id": "344d396d",
   "metadata": {},
   "outputs": [],
   "source": []
  },
  {
   "cell_type": "markdown",
   "id": "45b7dc94-9401-46b7-99dd-9643352951e0",
   "metadata": {},
   "source": [
    "### Inference"
   ]
  },
  {
   "cell_type": "code",
   "execution_count": null,
   "id": "caecf359",
   "metadata": {},
   "outputs": [],
   "source": [
    "t0 = time.time()\n",
    "# predictions = trainer.predict(learn, dataloaders=dm.predict_dataloader(), return_predictions=True)\n",
    "\n",
    "predictions = trainer.predict(\n",
    "    learn, dataloaders=dm.test_dataloader(), return_predictions=True\n",
    ")\n",
    "predictions = torch.cat(predictions)\n",
    "t1 = time.time() - t0\n",
    "print(f\"Time Taken: {t1:.2f} secs\")"
   ]
  },
  {
   "cell_type": "code",
   "execution_count": null,
   "id": "aab76840",
   "metadata": {},
   "outputs": [],
   "source": [
    "df_pred = dm.ds_test.create_predict_df(predictions.detach().numpy())\n",
    "ds_pred = df_pred.reset_index().set_index([\"longitude\", \"latitude\", \"time\"]).to_xarray()\n",
    "ds_pred"
   ]
  },
  {
   "cell_type": "code",
   "execution_count": null,
   "id": "556b1900",
   "metadata": {},
   "outputs": [],
   "source": [
    "ds_pred.to_netcdf(\"/Volumes/EMANS_HDD/data/dc20a_osse/test/results/test.nc\")"
   ]
  },
  {
   "cell_type": "code",
   "execution_count": null,
   "id": "62fc6873",
   "metadata": {},
   "outputs": [],
   "source": [
    "ds_pred = xr.open_dataset(\"/Volumes/EMANS_HDD/data/dc20a_osse/test/results/test.nc\")"
   ]
  },
  {
   "cell_type": "code",
   "execution_count": null,
   "id": "508c970b",
   "metadata": {},
   "outputs": [],
   "source": [
    "ds_pred[\"ssh_model_noise\"] = ds_pred[\"ssh_model\"] + 0.01 * np.random.randn(\n",
    "    *ds_pred[\"ssh_model\"].shape\n",
    ")"
   ]
  },
  {
   "cell_type": "markdown",
   "id": "7767b61f",
   "metadata": {},
   "source": [
    "#### Metrics: Statistics"
   ]
  },
  {
   "cell_type": "code",
   "execution_count": null,
   "id": "9d580f76",
   "metadata": {},
   "outputs": [],
   "source": [
    "from inr4ssh._src.metrics.field.stats import nrmse_spacetime, rmse_space, nrmse_time"
   ]
  },
  {
   "cell_type": "markdown",
   "id": "f8017d1b",
   "metadata": {},
   "source": [
    "#### Normalized RMSE (Space-Time)"
   ]
  },
  {
   "cell_type": "code",
   "execution_count": null,
   "id": "2699e992",
   "metadata": {},
   "outputs": [],
   "source": [
    "nrmse_xyt = nrmse_spacetime(ds_pred[\"ssh_model_predict\"], ds_pred[\"ssh_model\"]).values\n",
    "logger.info(f\"Leaderboard SSH RMSE score =  {nrmse_xyt:.2f}\")\n",
    "wandb_logger.log_metrics(\n",
    "    {\n",
    "        \"nrmse_mu\": nrmse_xyt,\n",
    "    }\n",
    ")"
   ]
  },
  {
   "cell_type": "markdown",
   "id": "23a0f613",
   "metadata": {},
   "source": [
    "##### Error Variability (Temporal)\n"
   ]
  },
  {
   "cell_type": "code",
   "execution_count": null,
   "id": "e429c169",
   "metadata": {},
   "outputs": [],
   "source": [
    "rmse_t = nrmse_time(ds_pred[\"ssh_model_predict\"], ds_pred[\"ssh_model\"])\n",
    "\n",
    "err_var_time = rmse_t.std().values\n",
    "logger.info(f\"Error Variability =  {err_var_time:.2f}\")\n",
    "wandb_logger.log_metrics(\n",
    "    {\n",
    "        \"nrmse_std\": err_var_time,\n",
    "    }\n",
    ")"
   ]
  },
  {
   "cell_type": "code",
   "execution_count": null,
   "id": "5fc9b7a1",
   "metadata": {},
   "outputs": [],
   "source": [
    "fig, ax = plt.subplots()\n",
    "\n",
    "rmse_t.plot(ax=ax)\n",
    "\n",
    "ax.set(xlabel=\"Time\", ylabel=\"nRMSE\")\n",
    "plt.tight_layout()\n",
    "plt.show()"
   ]
  },
  {
   "cell_type": "markdown",
   "id": "1dbecf22",
   "metadata": {},
   "source": [
    "##### Error Variability (Spatial)"
   ]
  },
  {
   "cell_type": "code",
   "execution_count": null,
   "id": "1a5a3093",
   "metadata": {},
   "outputs": [],
   "source": [
    "rmse_xy = rmse_space(ds_pred[\"ssh_model_noise\"], ds_pred[\"ssh_model\"])"
   ]
  },
  {
   "cell_type": "code",
   "execution_count": null,
   "id": "4593c862",
   "metadata": {},
   "outputs": [],
   "source": [
    "fig, ax = plt.subplots()\n",
    "\n",
    "rmse_xy.T.plot.imshow(ax=ax)\n",
    "\n",
    "plt.tight_layout()\n",
    "plt.show()"
   ]
  },
  {
   "cell_type": "markdown",
   "id": "162fb5bb",
   "metadata": {},
   "source": [
    "#### Metrics: PSD"
   ]
  },
  {
   "cell_type": "code",
   "execution_count": null,
   "id": "48e11242",
   "metadata": {},
   "outputs": [],
   "source": [
    "from inr4ssh._src.metrics.psd import (\n",
    "    psd_isotropic_score,\n",
    "    psd_spacetime_score,\n",
    "    wavelength_resolved_spacetime,\n",
    "    wavelength_resolved_isotropic,\n",
    ")"
   ]
  },
  {
   "cell_type": "code",
   "execution_count": null,
   "id": "23c550f1",
   "metadata": {},
   "outputs": [],
   "source": [
    "ds_pred = xr.open_dataset(\"/Volumes/EMANS_HDD/data/dc20a_osse/test/results/test.nc\")\n",
    "ds_pred[\"ssh_model_noise\"] = ds_pred[\"ssh_model\"] + 0.01 * np.random.randn(\n",
    "    *ds_pred[\"ssh_model\"].shape\n",
    ")\n",
    "# rescale spatial coords\n",
    "# rescale time coords\n",
    "# time_norm = np.timedelta64(1, \"D\")\n",
    "time_norm = np.timedelta64(1, \"D\")\n",
    "# mean psd of signal\n",
    "ds_pred[\"time\"] = (ds_pred.time - ds_pred.time[0]) / time_norm"
   ]
  },
  {
   "cell_type": "markdown",
   "id": "4deadb7e",
   "metadata": {},
   "source": [
    "#### PSD Score: Space-Time\n",
    "\n",
    "* Space-Time Average\n",
    "* Isotropic"
   ]
  },
  {
   "cell_type": "code",
   "execution_count": null,
   "id": "1870e12d",
   "metadata": {},
   "outputs": [],
   "source": [
    "# Time-Longitude (Lat avg) PSD Score\n",
    "psd_score = psd_spacetime_score(ds_pred[\"ssh_model\"], ds_pred[\"ssh_model_predict\"])"
   ]
  },
  {
   "cell_type": "code",
   "execution_count": null,
   "id": "68bcba5c",
   "metadata": {},
   "outputs": [],
   "source": [
    "spatial_resolved, time_resolved = wavelength_resolved_spacetime(psd_score)\n",
    "logger.info(\n",
    "    f\"Shortest Spatial Wavelength Resolved = {spatial_resolved:.2f} (degree lon)\"\n",
    ")\n",
    "logger.info(f\"Shortest Temporal Wavelength Resolved = {time_resolved:.2f} (days)\")\n",
    "\n",
    "wandb_logger.log_metrics(\n",
    "    {\n",
    "        \"wavelength_space_deg\": spatial_resolved,\n",
    "    }\n",
    ")\n",
    "wandb_logger.log_metrics(\n",
    "    {\n",
    "        \"wavelength_time_days\": time_resolved,\n",
    "    }\n",
    ")"
   ]
  },
  {
   "cell_type": "code",
   "execution_count": null,
   "id": "c2854c9d",
   "metadata": {},
   "outputs": [],
   "source": [
    "# Isotropic (Time avg) PSD Score\n",
    "psd_iso_score = psd_isotropic_score(ds_pred[\"ssh_model\"], ds_pred[\"ssh_model_predict\"])"
   ]
  },
  {
   "cell_type": "code",
   "execution_count": null,
   "id": "526f8c00",
   "metadata": {},
   "outputs": [],
   "source": [
    "space_iso_resolved = wavelength_resolved_isotropic(psd_iso_score, level=0.5)\n",
    "logger.info(f\"Shortest Spatial Wavelength Resolved = {space_iso_resolved:.2f} (degree)\")\n",
    "wandb_logger.log_metrics(\n",
    "    {\n",
    "        \"wavelength_iso_degree\": space_iso_resolved,\n",
    "    }\n",
    ")"
   ]
  },
  {
   "cell_type": "markdown",
   "id": "f9a69b63",
   "metadata": {},
   "source": [
    "#### Summary"
   ]
  },
  {
   "cell_type": "code",
   "execution_count": null,
   "id": "a4817937",
   "metadata": {},
   "outputs": [],
   "source": [
    "import pandas as pd\n",
    "\n",
    "data = [\n",
    "    [\n",
    "        \"SIREN GF/GF\",\n",
    "        nrmse_xyt,\n",
    "        err_var_time,\n",
    "        spatial_resolved,\n",
    "        time_resolved,\n",
    "        space_iso_resolved,\n",
    "        \"GF/GF\",\n",
    "        \"eval_siren.ipynb\",\n",
    "    ]\n",
    "]\n",
    "\n",
    "Leaderboard = pd.DataFrame(\n",
    "    data,\n",
    "    columns=[\n",
    "        \"Method\",\n",
    "        \"µ(RMSE) \",\n",
    "        \"σ(RMSE)\",\n",
    "        \"λx (degree)\",\n",
    "        \"λt (days)\",\n",
    "        \"λr (degree)\",\n",
    "        \"Notes\",\n",
    "        \"Reference\",\n",
    "    ],\n",
    ")\n",
    "print(\"Summary of the leaderboard metrics:\")\n",
    "print(Leaderboard.to_markdown())"
   ]
  },
  {
   "cell_type": "markdown",
   "id": "b86addc2",
   "metadata": {},
   "source": [
    "Summary of the leaderboard metrics:\n",
    "|    | Method      |   µ(RMSE)  |    σ(RMSE) |   λx (degree) |   λt (days) |   λr (degree) | Notes   | Reference        |\n",
    "|---:|:------------|-----------:|-----------:|--------------:|------------:|--------------:|:--------|:-----------------|\n",
    "|  0 | SIREN GF/GF |  -0.101113 | 0.00143019 |     0.0374532 |        2.75 |       2.72525 | GF/GF   | eval_siren.ipynb |"
   ]
  },
  {
   "cell_type": "code",
   "execution_count": null,
   "id": "0494424c",
   "metadata": {},
   "outputs": [],
   "source": [
    "wandb.finish()"
   ]
  },
  {
   "cell_type": "markdown",
   "id": "457bdd95",
   "metadata": {},
   "source": [
    "---\n",
    "**DATA**\n",
    "\n",
    "* convert this reference grid to `lat,lon,time,sossheig`\n",
    "* create dataloader\n",
    "* Make predictions\n",
    "* Create xr.dataset from predictions\n",
    "\n",
    "---\n",
    "**Metrics**\n",
    "\n",
    "* RMSE Metrics\n",
    "* PSD Metrics"
   ]
  },
  {
   "cell_type": "code",
   "execution_count": null,
   "id": "4ceb782e-493c-43cb-a481-9a36bdf33045",
   "metadata": {},
   "outputs": [],
   "source": [
    "# res = trainer.test(learn, dataloaders=dm.test_dataloader())\n",
    "\n",
    "# results[\"data\"] = res"
   ]
  },
  {
   "cell_type": "code",
   "execution_count": null,
   "id": "5923b2c1-0b0d-47de-9940-3e020d5b2f1a",
   "metadata": {},
   "outputs": [],
   "source": [
    "# import wandb\n",
    "\n",
    "# wandb.finish()"
   ]
  },
  {
   "cell_type": "markdown",
   "id": "47e93692-f60c-457a-b483-eb7a8da4d771",
   "metadata": {},
   "source": [
    "### Predictions"
   ]
  },
  {
   "cell_type": "code",
   "execution_count": null,
   "id": "b9b77091-4ca8-4084-9bc3-a2eb75ae545d",
   "metadata": {},
   "outputs": [],
   "source": [
    "t0 = time.time()\n",
    "predictions = trainer.predict(learn, datamodule=dm, return_predictions=True)\n",
    "predictions = torch.cat(predictions)\n",
    "t1 = time.time() - t0\n",
    "print(f\"Time Taken: {t1:.2f} secs\")"
   ]
  },
  {
   "cell_type": "code",
   "execution_count": null,
   "id": "8accfbe4-5fbf-4158-8ef2-8cc3bb09c58d",
   "metadata": {},
   "outputs": [],
   "source": [
    "# ds_pred = dm.create_predictions_ds(predictions)\n",
    "\n",
    "from inr4ssh._src.operators import differential_simp as diffops_simp\n",
    "\n",
    "from inr4ssh._src.operators import differential as diffops"
   ]
  },
  {
   "cell_type": "code",
   "execution_count": null,
   "id": "acb8db49",
   "metadata": {},
   "outputs": [],
   "source": []
  },
  {
   "cell_type": "code",
   "execution_count": null,
   "id": "665c8109",
   "metadata": {},
   "outputs": [],
   "source": [
    "ds_pred"
   ]
  },
  {
   "cell_type": "code",
   "execution_count": null,
   "id": "2db6d2d5",
   "metadata": {},
   "outputs": [],
   "source": [
    "ds_pred.predict.thin(time=4).plot.imshow(\n",
    "    col=\"time\",\n",
    "    robust=True,\n",
    "    col_wrap=4,\n",
    "    cmap=\"viridis\",\n",
    ")"
   ]
  },
  {
   "cell_type": "code",
   "execution_count": null,
   "id": "2db0d911",
   "metadata": {},
   "outputs": [],
   "source": [
    "# ds_pred.predict.hvplot.image(x=\"Longitude\", y=\"Latitude\", width=500, height=400, cmap=\"viridis\")"
   ]
  },
  {
   "cell_type": "code",
   "execution_count": null,
   "id": "0e050c0e-a4a7-4385-a9a0-69f76769223f",
   "metadata": {},
   "outputs": [],
   "source": [
    "# ds_pred = dm.create_predictions_ds(predictions)\n",
    "# ds_pred"
   ]
  },
  {
   "cell_type": "code",
   "execution_count": null,
   "id": "a7a3a909",
   "metadata": {},
   "outputs": [],
   "source": [
    "from tqdm.notebook import tqdm, trange"
   ]
  },
  {
   "cell_type": "code",
   "execution_count": null,
   "id": "f41860c7-d962-4068-b62c-74404b92dd18",
   "metadata": {},
   "outputs": [],
   "source": [
    "learn.model.eval()\n",
    "coords, truths, preds, grads, qs = [], [], [], [], []\n",
    "for ibatch in tqdm(dm.predict_dataloader()):\n",
    "    with torch.set_grad_enabled(True):\n",
    "        # prediction\n",
    "        ibatch[\"spatial\"] = torch.autograd.Variable(\n",
    "            ibatch[\"spatial\"].clone(), requires_grad=True\n",
    "        )\n",
    "        ibatch[\"temporal\"] = torch.autograd.Variable(\n",
    "            ibatch[\"temporal\"].clone(), requires_grad=True\n",
    "        )\n",
    "        ix = torch.cat([ibatch[\"spatial\"], ibatch[\"temporal\"]], dim=1)\n",
    "        p_pred = learn.model(ix)\n",
    "\n",
    "        # p_pred = p_pred.clone()\n",
    "        # p_pred.require_grad_ = True\n",
    "\n",
    "        # gradient\n",
    "        p_grad = diffops_simp.gradient(p_pred, ibatch[\"spatial\"])\n",
    "        # p_grad = diffops.grad(p_pred, ix)\n",
    "        # q\n",
    "        q = diffops_simp.divergence(p_grad, ibatch[\"spatial\"])\n",
    "        # q = diffops.div(p_grad, ix)\n",
    "\n",
    "    # collect\n",
    "    # truths.append(ibatch[\"output\"])\n",
    "    coords.append(ix)\n",
    "    preds.append(p_pred)\n",
    "    grads.append(p_grad)\n",
    "    qs.append(q)"
   ]
  },
  {
   "cell_type": "code",
   "execution_count": null,
   "id": "e49d7f44",
   "metadata": {},
   "outputs": [],
   "source": [
    "coords = torch.cat(coords).detach().numpy()\n",
    "preds = torch.cat(preds).detach().numpy()\n",
    "# truths = torch.cat(truths).detach().numpy()\n",
    "grads = torch.cat(grads).detach().numpy()\n",
    "qs = torch.cat(qs).detach().numpy()"
   ]
  },
  {
   "cell_type": "code",
   "execution_count": null,
   "id": "3494f6c1",
   "metadata": {},
   "outputs": [],
   "source": [
    "df_pred = dm.ds_predict.create_predict_df(predictions.detach().numpy())\n",
    "df_pred[\"u\"] = -grads[:, 1]\n",
    "df_pred[\"v\"] = grads[:, 0]\n",
    "df_pred[\"q\"] = qs\n",
    "ds_pred = df_pred.reset_index().set_index([\"longitude\", \"latitude\", \"time\"]).to_xarray()"
   ]
  },
  {
   "cell_type": "markdown",
   "id": "2c07d577-c1dc-4e4a-bf74-3fcf4238671c",
   "metadata": {},
   "source": [
    "### Figure I: Predictions"
   ]
  },
  {
   "cell_type": "code",
   "execution_count": null,
   "id": "371074d9-6e15-4cc8-9a34-d5df99116f31",
   "metadata": {},
   "outputs": [],
   "source": [
    "ds_pred.q.thin(time=4).plot.imshow(\n",
    "    col=\"time\",\n",
    "    robust=True,\n",
    "    col_wrap=4,\n",
    "    cmap=\"viridis\",\n",
    ")"
   ]
  },
  {
   "cell_type": "code",
   "execution_count": null,
   "id": "8a2ecdc1",
   "metadata": {},
   "outputs": [],
   "source": []
  },
  {
   "cell_type": "code",
   "execution_count": null,
   "id": "716c20d6-d0f9-413e-8d11-00f35fae2a1d",
   "metadata": {},
   "outputs": [],
   "source": [
    "ds_pred.pred.hvplot.image(x=\"Nx\", y=\"Ny\", width=500, height=400, cmap=\"viridis\")"
   ]
  },
  {
   "cell_type": "markdown",
   "id": "cb2f6335-81a6-4ceb-949b-2662225e8a7b",
   "metadata": {},
   "source": [
    "### Figure II: Ground Truth"
   ]
  },
  {
   "cell_type": "code",
   "execution_count": null,
   "id": "ccdb20ec-9944-4fb2-b531-ebe0f1277dd7",
   "metadata": {},
   "outputs": [],
   "source": [
    "ds_pred.true.thin(time=1).plot.imshow(\n",
    "    col=\"time\",\n",
    "    robust=True,\n",
    "    col_wrap=3,\n",
    "    cmap=\"viridis\",\n",
    ")"
   ]
  },
  {
   "cell_type": "code",
   "execution_count": null,
   "id": "b98ef878-2f4f-4f9e-9249-049b5ac27a4f",
   "metadata": {},
   "outputs": [],
   "source": [
    "ds_pred.true.hvplot.image(x=\"Nx\", y=\"Ny\", width=500, height=400, cmap=\"viridis\")"
   ]
  },
  {
   "cell_type": "markdown",
   "id": "0887d598-dcc4-4691-a187-f8f334f120f8",
   "metadata": {},
   "source": [
    "### Figure III: Absolute Error"
   ]
  },
  {
   "cell_type": "code",
   "execution_count": null,
   "id": "6dc5262c-2b6e-44e2-a5eb-a49d58ddcf59",
   "metadata": {},
   "outputs": [],
   "source": [
    "(ds_pred.true - ds_pred.pred).thin(time=1).plot.imshow(\n",
    "    col=\"time\",\n",
    "    robust=True,\n",
    "    col_wrap=3,\n",
    "    cmap=\"RdBu_r\",\n",
    ")"
   ]
  },
  {
   "cell_type": "code",
   "execution_count": null,
   "id": "50f73aa0-204b-40b3-9afc-c74803dff47e",
   "metadata": {},
   "outputs": [],
   "source": [
    "(ds_pred.true - ds_pred.pred).hvplot.image(\n",
    "    x=\"Nx\", y=\"Ny\", width=500, height=400, cmap=\"viridis\"\n",
    ")"
   ]
  }
 ],
 "metadata": {
  "kernelspec": {
   "display_name": "Python 3.9.13 ('torch_py39')",
   "language": "python",
   "name": "python3"
  },
  "language_info": {
   "codemirror_mode": {
    "name": "ipython",
    "version": 3
   },
   "file_extension": ".py",
   "mimetype": "text/x-python",
   "name": "python",
   "nbconvert_exporter": "python",
   "pygments_lexer": "ipython3",
   "version": "3.9.13"
  },
  "vscode": {
   "interpreter": {
    "hash": "ba845ae818c285ca2fe9389acfa2d2da9f6f964e42b65478d402ad448a072775"
   }
  }
 },
 "nbformat": 4,
 "nbformat_minor": 5
}
