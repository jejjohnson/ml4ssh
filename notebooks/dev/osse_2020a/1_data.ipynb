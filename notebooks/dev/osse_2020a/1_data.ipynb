{
 "cells": [
  {
   "cell_type": "code",
   "execution_count": null,
   "metadata": {},
   "outputs": [],
   "source": []
  },
  {
   "cell_type": "code",
   "execution_count": null,
   "metadata": {},
   "outputs": [],
   "source": [
    "import xarray as xr"
   ]
  },
  {
   "cell_type": "markdown",
   "metadata": {},
   "source": [
    "```python\n",
    "spatial_columns = [\"lon\", \"lat\"], [\"x\", \"y\", \"z\"], [\"lon_rad\", \"lat_rad\"]\n",
    "temporal_columns = [\"time\"], [\"vtime\"]\n",
    "```\n",
    "\n",
    "**Transformations**\n",
    "\n",
    "* Spherical 2 Cartesian\n",
    "* Spherical Degrees to Radians\n",
    "* Temporal to Julian\n",
    "* TimeStamps 2 Days of the Year\n",
    "* TimeStamps 2 Cycles\n",
    "* Temporal Scaling"
   ]
  },
  {
   "cell_type": "code",
   "execution_count": null,
   "metadata": {},
   "outputs": [],
   "source": [
    "ds_link = \"/Volumes/EMANS_HDD/data/dc20a_osse/test/ml/swot1nadir5.nc\"\n",
    "\n",
    "ds = xr.open_dataset(ds_link)\n",
    "\n",
    "ds"
   ]
  },
  {
   "cell_type": "code",
   "execution_count": null,
   "metadata": {},
   "outputs": [],
   "source": [
    "import torch\n",
    "import pandas as pd\n",
    "\n",
    "\n",
    "class AlongTrackDataset(torch.utils.data.Dataset):\n",
    "    def __init__(\n",
    "        self,\n",
    "        ds,\n",
    "        spatial_columns,\n",
    "        temporal_columns,\n",
    "        output_columns,\n",
    "        spatial_transforms=None,\n",
    "        temporal_transforms=None,\n",
    "        output_transforms=None,\n",
    "    ):\n",
    "        df = ds.to_dataframe().reset_index().dropna()\n",
    "        self.x = df[spatial_columns].values\n",
    "        self.t = df[temporal_columns].values\n",
    "        self.y = df[output_columns].values\n",
    "        self.spatial_transforms = spatial_transforms\n",
    "        self.temporal_transforms = temporal_transforms\n",
    "        self.output_transforms = output_transforms\n",
    "        self.output_columns = output_columns\n",
    "        self.spatial_columns = spatial_columns\n",
    "        self.temporal_columns = temporal_columns\n",
    "\n",
    "    def __len__(self):\n",
    "        return len(self.x)\n",
    "\n",
    "    def __getitem__(self, item):\n",
    "\n",
    "        # get spatial columns\n",
    "        x = self.x[item]\n",
    "\n",
    "        # spatial transform\n",
    "        if self.spatial_transforms is not None:\n",
    "            for itransform in self.spatial_transforms:\n",
    "                # print(x, x.shape)\n",
    "                x = itransform(x)\n",
    "                # print(x, x.shape)\n",
    "\n",
    "        # temporal transform\n",
    "        t = self.t[item]\n",
    "\n",
    "        if self.temporal_transforms is not None:\n",
    "            t = self.temporal_transforms(t)\n",
    "\n",
    "        # output transform\n",
    "        # temporal transform\n",
    "        y = self.y[item]\n",
    "\n",
    "        if self.output_transforms is not None:\n",
    "            for itransform in self.output_transforms:\n",
    "                # print(y)\n",
    "                y = itransform(y)\n",
    "                # print(y)11\n",
    "\n",
    "        return {\"spatial\": x, \"temporal\": t, \"output\": y}\n",
    "\n",
    "    def create_predict_df(self, outputs):\n",
    "        assert outputs.shape == self.y.shape\n",
    "        df = pd.DataFrame()\n",
    "        df[self.spatial_columns] = self.x\n",
    "        df[self.temporal_columns] = self.t\n",
    "        df[self.output_columns] = self.y\n",
    "        names = list(map(lambda x: x + \"_predict\", self.output_columns))\n",
    "        df[names] = outputs\n",
    "        return df\n",
    "\n",
    "    def create_predict_ds(self, outputs):\n",
    "        ds = (\n",
    "            self.create_predict_df(outputs).set_index(self.temporal_columns).to_xarray()\n",
    "        )\n",
    "        return ds"
   ]
  },
  {
   "cell_type": "code",
   "execution_count": null,
   "metadata": {},
   "outputs": [],
   "source": []
  },
  {
   "cell_type": "code",
   "execution_count": null,
   "metadata": {},
   "outputs": [],
   "source": [
    "from torchvision.transforms import ToTensor, Lambda, Compose\n",
    "import numpy as np\n",
    "import math\n",
    "\n",
    "import pandas as pd\n",
    "\n",
    "\n",
    "class JulianTime:\n",
    "    def __init__(self):\n",
    "        pass\n",
    "\n",
    "    def __call__(self, x):\n",
    "        # return x.toordinal()[:, None]\n",
    "        print(x.shape)\n",
    "        shape = x.shape\n",
    "        x = pd.to_datetime(x.flatten()).to_julian_date()\n",
    "        print(x.shape)\n",
    "        x = np.asarray(x)\n",
    "        print(x.shape)\n",
    "        x = x.reshape(*shape)\n",
    "        print(x.shape)\n",
    "        return x\n",
    "\n",
    "\n",
    "class TimeMinMax:\n",
    "    def __init__(self, time_min: str = \"2005-01-10\", time_max: str = \"2022-01-01\"):\n",
    "        self.time_min = time_min\n",
    "        self.time_max = time_max\n",
    "\n",
    "    def __call__(self, x):\n",
    "        time_min, time_max = np.datetime64(self.time_min), np.datetime64(self.time_max)\n",
    "        x = (x - time_min) / (time_max - time_min)\n",
    "        return x\n",
    "\n",
    "\n",
    "# class TimeSinCos:\n",
    "#     def __init__(self):\n",
    "#         pass\n",
    "\n",
    "#     def __call__(self, x):\n",
    "#         print(x.shape)\n",
    "#         x1 = torch.sin(2*math.pi * x/24)\n",
    "#         x2 = torch.cos(2*math.pi * x/24)\n",
    "#         print(x1.shape, x2.shape)\n",
    "#         return torch.cat([x1, x2], dim=1)"
   ]
  },
  {
   "cell_type": "code",
   "execution_count": null,
   "metadata": {},
   "outputs": [],
   "source": [
    "to_tensor = Lambda(torch.tensor)\n",
    "# temporal_transforms = [JulianTime(), torch.FloatTensor]\n",
    "# temporal_transforms = Compose(\n",
    "#     [JulianTime(), to_tensor]\n",
    "# )\n",
    "\n",
    "temporal_transforms = Compose([TimeMinMax(), to_tensor])"
   ]
  },
  {
   "cell_type": "code",
   "execution_count": null,
   "metadata": {},
   "outputs": [],
   "source": [
    "spatial_columns = [\"lon\", \"lat\"]\n",
    "temporal_columns = [\"time\"]\n",
    "output_columns = [\"ssh_model\"]"
   ]
  },
  {
   "cell_type": "code",
   "execution_count": null,
   "metadata": {},
   "outputs": [],
   "source": [
    "torch_ds = AlongTrackDataset(\n",
    "    ds,\n",
    "    spatial_columns,\n",
    "    temporal_columns,\n",
    "    output_columns,\n",
    "    temporal_transforms=temporal_transforms,\n",
    "    spatial_transforms=[to_tensor],\n",
    "    output_transforms=[to_tensor],\n",
    ")\n",
    "\n",
    "ibatch = torch_ds[0:3]\n",
    "\n",
    "ibatch[\"spatial\"].shape, ibatch[\"temporal\"].shape, ibatch[\"output\"].shape"
   ]
  },
  {
   "cell_type": "code",
   "execution_count": null,
   "metadata": {},
   "outputs": [],
   "source": [
    "outputs = torch_ds[:][\"output\"]\n",
    "\n",
    "ds_ = torch_ds.create_predict_df(outputs)\n",
    "ds_.head()"
   ]
  },
  {
   "cell_type": "code",
   "execution_count": null,
   "metadata": {},
   "outputs": [],
   "source": [
    "ds_ = torch_ds.create_predict_ds(outputs)\n",
    "ds_"
   ]
  },
  {
   "cell_type": "code",
   "execution_count": null,
   "metadata": {},
   "outputs": [],
   "source": [
    "torch_dl = torch.utils.data.DataLoader(torch_ds, batch_size=32)"
   ]
  },
  {
   "cell_type": "code",
   "execution_count": null,
   "metadata": {},
   "outputs": [],
   "source": [
    "# torch_ds[0:10]"
   ]
  },
  {
   "cell_type": "code",
   "execution_count": null,
   "metadata": {},
   "outputs": [],
   "source": [
    "# ibatch = next(iter(torch_dl))\n",
    "for ibatch in torch_dl:\n",
    "    break"
   ]
  },
  {
   "cell_type": "code",
   "execution_count": null,
   "metadata": {},
   "outputs": [],
   "source": [
    "ibatch[\"spatial\"].shape, ibatch[\"temporal\"].shape, ibatch[\"output\"].shape"
   ]
  },
  {
   "cell_type": "code",
   "execution_count": null,
   "metadata": {},
   "outputs": [],
   "source": []
  }
 ],
 "metadata": {
  "kernelspec": {
   "display_name": "Python 3.9.13 ('torch_py39')",
   "language": "python",
   "name": "python3"
  },
  "language_info": {
   "codemirror_mode": {
    "name": "ipython",
    "version": 3
   },
   "file_extension": ".py",
   "mimetype": "text/x-python",
   "name": "python",
   "nbconvert_exporter": "python",
   "pygments_lexer": "ipython3",
   "version": "3.9.13"
  },
  "vscode": {
   "interpreter": {
    "hash": "ba845ae818c285ca2fe9389acfa2d2da9f6f964e42b65478d402ad448a072775"
   }
  }
 },
 "nbformat": 4,
 "nbformat_minor": 2
}
