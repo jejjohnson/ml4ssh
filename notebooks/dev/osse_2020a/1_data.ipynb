{
 "cells": [
  {
   "cell_type": "code",
   "execution_count": null,
   "metadata": {},
   "outputs": [],
   "source": [
    "import sys, os\n",
    "from pyprojroot import here\n",
    "\n",
    "# spyder up to find the root\n",
    "root = here(project_files=[\".root\"])\n",
    "\n",
    "\n",
    "# append to path\n",
    "sys.path.append(str(root))"
   ]
  },
  {
   "cell_type": "code",
   "execution_count": null,
   "metadata": {},
   "outputs": [],
   "source": [
    "import numpy as np\n",
    "import pandas as pd\n",
    "import xarray as xr\n",
    "import matplotlib.pyplot as plt\n",
    "import seaborn as sns\n",
    "\n",
    "sns.reset_defaults()\n",
    "sns.set_context(context=\"talk\", font_scale=0.7)\n",
    "\n",
    "import hvplot.xarray\n",
    "import hvplot.pandas\n",
    "\n",
    "from inr4ssh._src.operators.finite_diff import calculate_gradient, calculate_laplacian\n",
    "from inr4ssh._src.preprocess.subset import temporal_subset, spatial_subset\n",
    "from inr4ssh._src.preprocess.coords import (\n",
    "    correct_coordinate_labels,\n",
    "    correct_longitude_domain,\n",
    ")\n",
    "from inr4ssh._src.data.ssh_obs import load_ssh_altimetry_data_train\n",
    "\n",
    "from inr4ssh._src.preprocess.coords import correct_coordinate_labels\n",
    "from inr4ssh._src.viz.movie import create_movie\n",
    "from inr4ssh._src.metrics.psd import psd_isotropic\n",
    "from inr4ssh._src.viz.psd.isotropic import plot_psd_isotropic\n",
    "from inr4ssh._src.viz.obs import plot_obs_demo\n",
    "\n",
    "%matplotlib inline\n",
    "%load_ext autoreload\n",
    "%autoreload 2"
   ]
  },
  {
   "cell_type": "markdown",
   "metadata": {},
   "source": [
    "## Data"
   ]
  },
  {
   "cell_type": "markdown",
   "metadata": {},
   "source": [
    "### Evaluation Field"
   ]
  },
  {
   "cell_type": "code",
   "execution_count": null,
   "metadata": {},
   "outputs": [],
   "source": [
    "url = \"/Users/eman/code_projects/data/osse_2022b/dc_qg_eval/dc_qg_eval_*.nc\"\n",
    "url = \"/Volumes/EMANS_HDD/data/dc22b_osse/raw/dc_qg_eval/dc_qg_eval_*.nc\"\n",
    "ds_field = xr.open_mfdataset(url)\n",
    "\n",
    "ds_field = ds_field.rename({\"nav_lon\": \"lon\"}).rename({\"nav_lat\": \"lat\"})\n",
    "\n",
    "ds_field = correct_coordinate_labels(ds_field)\n",
    "\n",
    "ds_field"
   ]
  },
  {
   "cell_type": "code",
   "execution_count": null,
   "metadata": {},
   "outputs": [],
   "source": [
    "ds_field.isel(time=0).ssh.plot.imshow()"
   ]
  },
  {
   "cell_type": "code",
   "execution_count": null,
   "metadata": {},
   "outputs": [],
   "source": []
  },
  {
   "cell_type": "code",
   "execution_count": null,
   "metadata": {},
   "outputs": [],
   "source": [
    "# create_movie(ds_field.ssh_lap, \"ssh_field_lap\", framedim=\"time\", cmap=\"RdBu_r\")"
   ]
  },
  {
   "cell_type": "markdown",
   "metadata": {},
   "source": [
    "#### Gradients/Laplacian"
   ]
  },
  {
   "cell_type": "code",
   "execution_count": null,
   "metadata": {},
   "outputs": [],
   "source": [
    "# from inr4ssh._src.operators.finite_diff import calculate_gradient, calculate_laplacian\n",
    "\n",
    "# ds_field[\"ssh_grad\"] = calculate_gradient(ds_field[\"ssh\"], \"longitude\", \"latitude\")\n",
    "# ds_field[\"ssh_lap\"] = calculate_gradient(ds_field[\"ssh_grad\"], \"longitude\", \"latitude\")\n",
    "\n",
    "# create_movie(ds_field.ssh_grad, \"ssh_field_grad\", framedim=\"time\", cmap=\"Spectral_r\")\n",
    "# create_movie(ds_field.ssh_lap, \"ssh_field_lap\", framedim=\"time\", cmap=\"RdBu_r\")"
   ]
  },
  {
   "cell_type": "code",
   "execution_count": null,
   "metadata": {},
   "outputs": [],
   "source": []
  },
  {
   "cell_type": "markdown",
   "metadata": {},
   "source": [
    "### PSD"
   ]
  },
  {
   "cell_type": "code",
   "execution_count": null,
   "metadata": {},
   "outputs": [],
   "source": [
    "ds_field_psd = correct_coordinate_labels(ds_field)\n",
    "\n",
    "# grab ssh\n",
    "ds_field_psd = ds_field_psd.ssh\n",
    "\n",
    "# correct units, degrees -> meters\n",
    "ds_field_psd[\"longitude\"] = ds_field_psd.longitude * 111e3\n",
    "ds_field_psd[\"latitude\"] = ds_field_psd.latitude * 111e3\n",
    "\n",
    "# calculate\n",
    "ds_field_psd = psd_isotropic(ds_field_psd)"
   ]
  },
  {
   "cell_type": "code",
   "execution_count": null,
   "metadata": {},
   "outputs": [],
   "source": [
    "fig, ax = plot_psd_isotropic(ds_field_psd.freq_r.values * 1e3, ds_field_psd.values)\n",
    "plt.tight_layout()\n",
    "plt.show()"
   ]
  },
  {
   "cell_type": "markdown",
   "metadata": {},
   "source": [
    "### PSD - Spatial-Temporal"
   ]
  },
  {
   "cell_type": "code",
   "execution_count": null,
   "metadata": {},
   "outputs": [],
   "source": [
    "from inr4ssh._src.metrics.psd import psd_spacetime, psd_spacetime_dask\n",
    "from inr4ssh._src.viz.psd.spacetime import (\n",
    "    plot_psd_spacetime_wavelength,\n",
    "    plot_psd_spacetime_wavenumber,\n",
    ")\n",
    "\n",
    "ds_field_psd = correct_coordinate_labels(ds_field)\n",
    "\n",
    "# grab ssh\n",
    "ds_field_psd = ds_field_psd.ssh\n",
    "\n",
    "# grab ssh\n",
    "ds_field_psd = ds_field_psd.compute()\n",
    "\n",
    "# correct units, degrees -> meters\n",
    "ds_field_psd[\"longitude\"] = ds_field_psd.longitude * 111e3\n",
    "ds_field_psd[\"latitude\"] = ds_field_psd.latitude * 111e3\n",
    "\n",
    "time_norm = np.timedelta64(1, \"D\")\n",
    "# mean psd of signal\n",
    "ds_field_psd[\"time\"] = (ds_field_psd.time - ds_field_psd.time[0]) / time_norm\n",
    "\n",
    "# calculate\n",
    "ds_field_psd = psd_spacetime_dask(ds_field_psd)"
   ]
  },
  {
   "cell_type": "code",
   "execution_count": null,
   "metadata": {},
   "outputs": [],
   "source": [
    "fig, ax, cbar = plot_psd_spacetime_wavelength(\n",
    "    ds_field_psd.freq_longitude * 1e3,\n",
    "    ds_field_psd.freq_time,\n",
    "    ds_field_psd,\n",
    ")\n",
    "\n",
    "plt.tight_layout()\n",
    "plt.show()"
   ]
  },
  {
   "cell_type": "code",
   "execution_count": null,
   "metadata": {},
   "outputs": [],
   "source": [
    "# fig, ax, cbar = plot_psd_spacetime_wavenumber(\n",
    "#     ds_field_psd.freq_longitude * 1e3,\n",
    "#     ds_field_psd.freq_time,\n",
    "#     ds_field_psd,\n",
    "# )\n",
    "\n",
    "# plt.tight_layout()\n",
    "# plt.show()"
   ]
  },
  {
   "cell_type": "markdown",
   "metadata": {},
   "source": [
    "## Observations"
   ]
  },
  {
   "cell_type": "code",
   "execution_count": null,
   "metadata": {},
   "outputs": [],
   "source": [
    "# # grab ssh\n",
    "# ds_field_psd = ds_field.ssh_grad\n",
    "\n",
    "# # correct units, degrees -> meters\n",
    "# ds_field_psd[\"longitude\"] = ds_field_psd.longitude * 111e3\n",
    "# ds_field_psd[\"latitude\"] = ds_field_psd.latitude * 111e3\n",
    "\n",
    "# # calculate\n",
    "# ds_field_psd = psd_isotropic(ds_field_psd)\n",
    "\n",
    "# fig, ax = plot_isotropic_psd(ds_field_psd, freq_scale=1e3)\n",
    "# ax.set_ylabel(r\"PSD [m$^2$s$^{-2}$/cyles/m\")\n",
    "# plt.tight_layout()\n",
    "# plt.show()"
   ]
  },
  {
   "cell_type": "markdown",
   "metadata": {},
   "source": [
    "### Missing Time"
   ]
  },
  {
   "cell_type": "code",
   "execution_count": null,
   "metadata": {},
   "outputs": [],
   "source": [
    "ds_obs = xr.open_dataset(\n",
    "    \"/Users/eman/code_projects/data/osse_2022b/dc_qg_obs_fullfields/ssh_obs_fullfields.nc\"\n",
    ")\n",
    "\n",
    "\n",
    "ds_obs = correct_coordinate_labels(ds_obs)\n",
    "\n",
    "ds_obs = ds_obs.rename({\"ssh\": \"ssh_obs\"})\n",
    "\n",
    "ds_obs"
   ]
  },
  {
   "cell_type": "code",
   "execution_count": null,
   "metadata": {},
   "outputs": [],
   "source": [
    "ds_obs = xr.merge([ds_field, ds_obs])"
   ]
  },
  {
   "cell_type": "markdown",
   "metadata": {},
   "source": [
    "#### Movie (GIF)"
   ]
  },
  {
   "cell_type": "code",
   "execution_count": null,
   "metadata": {},
   "outputs": [],
   "source": [
    "# create_movie(ds_obs.ssh_obs, \"ssh_missing_time\", framedim=\"time\", cmap=\"viridis\")"
   ]
  },
  {
   "cell_type": "code",
   "execution_count": null,
   "metadata": {},
   "outputs": [],
   "source": [
    "# !ls /Users/eman/code_projects/data/osse_2022b/dc_qg_obs_nadirlike/"
   ]
  },
  {
   "cell_type": "markdown",
   "metadata": {},
   "source": [
    "### Jason-Like"
   ]
  },
  {
   "cell_type": "code",
   "execution_count": null,
   "metadata": {},
   "outputs": [],
   "source": [
    "ds_obs = xr.open_dataset(\n",
    "    \"/Users/eman/code_projects/data/osse_2022b/dc_qg_obs_jasonlike/ssh_obs_jasonlike.nc\"\n",
    ")\n",
    "\n",
    "ds_obs = ds_obs.sortby(\"time\")\n",
    "\n",
    "ds_obs = correct_coordinate_labels(ds_obs)\n",
    "\n",
    "# ds_obs = ds_obs.rename({\"ssh\": \"ssh_obs\"})\n",
    "ds_obs"
   ]
  },
  {
   "cell_type": "code",
   "execution_count": null,
   "metadata": {},
   "outputs": [],
   "source": [
    "central_date = np.datetime64(\"2012-10-22\")\n",
    "num_days = 1\n",
    "delta_t = np.timedelta64(num_days, \"D\")\n",
    "variable = \"ssh_obs\"\n",
    "\n",
    "plot_obs_demo(ds_obs, central_date, delta_t, variable, verbose=True)"
   ]
  },
  {
   "cell_type": "markdown",
   "metadata": {},
   "source": [
    "#### Gridded Dataset"
   ]
  },
  {
   "cell_type": "code",
   "execution_count": null,
   "metadata": {},
   "outputs": [],
   "source": [
    "from inr4ssh._src.preprocess.obs import bin_observations"
   ]
  },
  {
   "cell_type": "code",
   "execution_count": null,
   "metadata": {},
   "outputs": [],
   "source": [
    "ds_obs_binned = bin_observations(ds_obs, ds_field, \"ssh_obs\", np.timedelta64(12, \"h\"))"
   ]
  },
  {
   "cell_type": "code",
   "execution_count": null,
   "metadata": {},
   "outputs": [],
   "source": [
    "ds_obs_binned.isel(time=10).ssh_obs.plot()"
   ]
  },
  {
   "cell_type": "markdown",
   "metadata": {},
   "source": [
    "#### Movie (GIF)"
   ]
  },
  {
   "cell_type": "code",
   "execution_count": null,
   "metadata": {},
   "outputs": [],
   "source": [
    "# create_movie(ds_obs_binned.ssh_obs, \"ssh_jasonlike\", framedim=\"time\", cmap=\"viridis\")"
   ]
  },
  {
   "cell_type": "code",
   "execution_count": null,
   "metadata": {},
   "outputs": [],
   "source": []
  },
  {
   "cell_type": "markdown",
   "metadata": {},
   "source": [
    "### NADIR-Like"
   ]
  },
  {
   "cell_type": "code",
   "execution_count": null,
   "metadata": {},
   "outputs": [],
   "source": [
    "ds_obs = xr.open_mfdataset(\n",
    "    \"/Users/eman/code_projects/data/osse_2022b/dc_qg_obs_nadirlike/ssh_obs*.nc\",\n",
    "    combine=\"nested\",\n",
    "    concat_dim=\"time\",\n",
    "    parallel=True,\n",
    "    preprocess=None,\n",
    "    engine=\"netcdf4\",\n",
    ")\n",
    "\n",
    "\n",
    "ds_obs = ds_obs.sortby(\"time\")\n",
    "\n",
    "ds_obs = correct_coordinate_labels(ds_obs)\n",
    "\n",
    "# ds_obs = ds_obs.rename({\"ssh\": \"ssh_obs\"})\n",
    "ds_obs"
   ]
  },
  {
   "cell_type": "markdown",
   "metadata": {},
   "source": [
    "#### Demo"
   ]
  },
  {
   "cell_type": "code",
   "execution_count": null,
   "metadata": {},
   "outputs": [],
   "source": [
    "central_date = np.datetime64(\"2012-10-22\")\n",
    "num_days = 10\n",
    "delta_t = np.timedelta64(num_days, \"D\")\n",
    "variable = \"ssh_obs\"\n",
    "\n",
    "plot_obs_demo(ds_obs, central_date, delta_t, variable, verbose=True)"
   ]
  },
  {
   "cell_type": "markdown",
   "metadata": {},
   "source": [
    "#### Gridded Dataset"
   ]
  },
  {
   "cell_type": "code",
   "execution_count": null,
   "metadata": {},
   "outputs": [],
   "source": [
    "ds_obs_binned = bin_observations(ds_obs, ds_field, \"ssh_obs\", np.timedelta64(12, \"h\"))"
   ]
  },
  {
   "cell_type": "code",
   "execution_count": null,
   "metadata": {},
   "outputs": [],
   "source": [
    "ds_obs_binned.isel(time=10).ssh_obs.plot()"
   ]
  },
  {
   "cell_type": "markdown",
   "metadata": {},
   "source": [
    "#### Movie (GIF)"
   ]
  },
  {
   "cell_type": "code",
   "execution_count": null,
   "metadata": {},
   "outputs": [],
   "source": [
    "# create_movie(ds_obs_binned.ssh_obs, \"ssh_nadirlike\", framedim=\"time\", cmap=\"viridis\")"
   ]
  }
 ],
 "metadata": {
  "kernelspec": {
   "display_name": "Python 3.9.13 ('torch_py39')",
   "language": "python",
   "name": "python3"
  },
  "language_info": {
   "codemirror_mode": {
    "name": "ipython",
    "version": 3
   },
   "file_extension": ".py",
   "mimetype": "text/x-python",
   "name": "python",
   "nbconvert_exporter": "python",
   "pygments_lexer": "ipython3",
   "version": "3.9.13"
  },
  "vscode": {
   "interpreter": {
    "hash": "ba845ae818c285ca2fe9389acfa2d2da9f6f964e42b65478d402ad448a072775"
   }
  }
 },
 "nbformat": 4,
 "nbformat_minor": 2
}
