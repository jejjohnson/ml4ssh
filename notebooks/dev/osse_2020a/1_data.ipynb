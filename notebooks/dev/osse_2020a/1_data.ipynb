{
 "cells": [
  {
   "cell_type": "code",
   "execution_count": null,
   "metadata": {},
   "outputs": [],
   "source": [
    "import sys, os\n",
    "from pyprojroot import here\n",
    "\n",
    "# spyder up to find the root\n",
    "root = here(project_files=[\".root\"])\n",
    "\n",
    "\n",
    "# append to path\n",
    "sys.path.append(str(root))"
   ]
  },
  {
   "cell_type": "code",
   "execution_count": null,
   "metadata": {},
   "outputs": [],
   "source": [
    "import numpy as np\n",
    "import pandas as pd\n",
    "import xarray as xr\n",
    "import matplotlib.pyplot as plt\n",
    "import seaborn as sns\n",
    "\n",
    "sns.reset_defaults()\n",
    "sns.set_context(context=\"talk\", font_scale=0.7)\n",
    "\n",
    "import hvplot.xarray\n",
    "import hvplot.pandas\n",
    "\n",
    "from inr4ssh._src.operators.finite_diff import calculate_gradient, calculate_laplacian\n",
    "from inr4ssh._src.preprocess.subset import temporal_subset, spatial_subset\n",
    "from inr4ssh._src.preprocess.coords import (\n",
    "    correct_coordinate_labels,\n",
    "    correct_longitude_domain,\n",
    ")\n",
    "from inr4ssh._src.data.ssh_obs import load_ssh_altimetry_data_train\n",
    "\n",
    "from inr4ssh._src.preprocess.coords import correct_coordinate_labels\n",
    "from inr4ssh._src.viz.movie import create_movie\n",
    "from inr4ssh._src.metrics.psd import psd_isotropic\n",
    "from inr4ssh._src.viz.psd import plot_isotropic_psd\n",
    "\n",
    "%matplotlib inline\n",
    "%load_ext autoreload\n",
    "%autoreload 2"
   ]
  },
  {
   "cell_type": "markdown",
   "metadata": {},
   "source": [
    "## Data"
   ]
  },
  {
   "cell_type": "markdown",
   "metadata": {},
   "source": [
    "### Evaluation Field"
   ]
  },
  {
   "cell_type": "code",
   "execution_count": null,
   "metadata": {},
   "outputs": [],
   "source": [
    "ds_field = xr.open_mfdataset(\n",
    "    \"/Users/eman/code_projects/data/osse_2022b/dc_qg_eval/dc_qg_eval_*.nc\"\n",
    ")\n",
    "\n",
    "\n",
    "ds_field = correct_coordinate_labels(ds_field)"
   ]
  },
  {
   "cell_type": "code",
   "execution_count": null,
   "metadata": {},
   "outputs": [],
   "source": [
    "200 * 200 * 43"
   ]
  },
  {
   "cell_type": "code",
   "execution_count": null,
   "metadata": {},
   "outputs": [],
   "source": [
    "ds_field.isel(time=0).ssh.plot.imshow()"
   ]
  },
  {
   "cell_type": "code",
   "execution_count": null,
   "metadata": {},
   "outputs": [],
   "source": [
    "from inr4ssh._src.operators.finite_diff import calculate_gradient, calculate_laplacian\n",
    "\n",
    "ds_field[\"ssh_grad\"] = calculate_gradient(ds_field[\"ssh\"], \"longitude\", \"latitude\")\n",
    "ds_field[\"ssh_lap\"] = calculate_gradient(ds_field[\"ssh_grad\"], \"longitude\", \"latitude\")"
   ]
  },
  {
   "cell_type": "code",
   "execution_count": null,
   "metadata": {},
   "outputs": [],
   "source": [
    "# create_movie(ds_field.ssh, \"ssh_field\", framedim=\"time\", cmap=\"viridis\")\n",
    "# create_movie(ds_field.ssh_grad, \"ssh_field_grad\", framedim=\"time\", cmap=\"Spectral_r\")\n",
    "create_movie(ds_field.ssh_lap, \"ssh_field_lap\", framedim=\"time\", cmap=\"RdBu_r\")"
   ]
  },
  {
   "cell_type": "code",
   "execution_count": null,
   "metadata": {},
   "outputs": [],
   "source": []
  },
  {
   "cell_type": "code",
   "execution_count": null,
   "metadata": {},
   "outputs": [],
   "source": [
    "# grab ssh\n",
    "ds_field_psd = ds_field.ssh\n",
    "\n",
    "# correct units, degrees -> meters\n",
    "ds_field_psd[\"longitude\"] = ds_field_psd.longitude * 111e3\n",
    "ds_field_psd[\"latitude\"] = ds_field_psd.latitude * 111e3\n",
    "\n",
    "# calculate\n",
    "ds_field_psd = psd_isotropic(ds_field_psd)\n",
    "\n",
    "fig, ax = plot_isotropic_psd(ds_field_psd, freq_scale=1e3)\n",
    "plt.tight_layout()\n",
    "plt.show()"
   ]
  },
  {
   "cell_type": "code",
   "execution_count": null,
   "metadata": {},
   "outputs": [],
   "source": [
    "# # grab ssh\n",
    "# ds_field_psd = ds_field.ssh_grad\n",
    "\n",
    "# # correct units, degrees -> meters\n",
    "# ds_field_psd[\"longitude\"] = ds_field_psd.longitude * 111e3\n",
    "# ds_field_psd[\"latitude\"] = ds_field_psd.latitude * 111e3\n",
    "\n",
    "# # calculate\n",
    "# ds_field_psd = psd_isotropic(ds_field_psd)\n",
    "\n",
    "# fig, ax = plot_isotropic_psd(ds_field_psd, freq_scale=1e3)\n",
    "# ax.set_ylabel(r\"PSD [m$^2$s$^{-2}$/cyles/m\")\n",
    "# plt.tight_layout()\n",
    "# plt.show()"
   ]
  },
  {
   "cell_type": "markdown",
   "metadata": {},
   "source": [
    "### Obs: Missing Time"
   ]
  },
  {
   "cell_type": "code",
   "execution_count": null,
   "metadata": {},
   "outputs": [],
   "source": [
    "ds_field = xr.open_dataset(\n",
    "    \"/Users/eman/code_projects/data/osse_2022b/dc_qg_obs_fullfields/ssh_obs_fullfields.nc\"\n",
    ")\n",
    "\n",
    "\n",
    "ds_field = correct_coordinate_labels(ds_field)\n",
    "\n",
    "ds_field"
   ]
  },
  {
   "cell_type": "code",
   "execution_count": null,
   "metadata": {},
   "outputs": [],
   "source": [
    "create_movie(ds_field.ssh, \"ssh_field\", framedim=\"time\", cmap=\"viridis\")"
   ]
  },
  {
   "cell_type": "markdown",
   "metadata": {},
   "source": [
    "### NADIR-Like"
   ]
  },
  {
   "cell_type": "code",
   "execution_count": null,
   "metadata": {},
   "outputs": [],
   "source": [
    "ds_obs = xr.open_dataset(\n",
    "    \"/Users/eman/code_projects/data/osse_2022b/dc_qg_obs_jasonlike/ssh_obs_jasonlike.nc\"\n",
    ")\n",
    "\n",
    "# ds_obs = xr.open_mfdataset(\n",
    "#     \"/Users/eman/code_projects/data/osse_2022b/dc_qg_obs_nadirlike/ssh_obs*.nc\",\n",
    "#     combine=\"nested\",\n",
    "#     concat_dim=\"time\",\n",
    "#     parallel=True,\n",
    "#     preprocess=None,\n",
    "#     engine=\"netcdf4\",\n",
    "# )\n",
    "\n",
    "# ds_obs = xr.open_dataset(\"/Users/eman/code_projects/data/osse_2022b/dc_qg_obs_fullfields/ssh_obs_fullfields.nc\")\n",
    "\n",
    "ds_obs = ds_obs.sortby(\"time\")\n",
    "\n",
    "ds_obs = correct_coordinate_labels(ds_obs)\n",
    "\n",
    "# ds_obs = ds_obs.rename({\"ssh\": \"ssh_obs\"})\n",
    "ds_obs"
   ]
  },
  {
   "cell_type": "code",
   "execution_count": null,
   "metadata": {},
   "outputs": [],
   "source": [
    "create_movie(ds_obs.ssh_obs, \"ssh_missing_space\", framedim=\"time\", cmap=\"viridis\")"
   ]
  },
  {
   "cell_type": "code",
   "execution_count": null,
   "metadata": {},
   "outputs": [],
   "source": [
    "ds_obs = xr.merge([ds_field, ds_obs])"
   ]
  },
  {
   "cell_type": "code",
   "execution_count": null,
   "metadata": {},
   "outputs": [],
   "source": [
    "ds_obs"
   ]
  },
  {
   "cell_type": "code",
   "execution_count": null,
   "metadata": {},
   "outputs": [],
   "source": [
    "from tqdm.notebook import tqdm\n",
    "\n",
    "variable = \"ssh_obs\"\n",
    "# create binning\n",
    "binning = pyinterp.Binning2D(\n",
    "    pyinterp.Axis(ds_field.nav_lon.values), pyinterp.Axis(ds_field.nav_lat.values)\n",
    ")\n",
    "grid_day_dses = []\n",
    "\n",
    "for t in tqdm(ds_field.time):\n",
    "    binning.clear()\n",
    "    # TODO: add some buffers\n",
    "    tds = ds_obs.isel(\n",
    "        time=pd.to_datetime(ds_obs.time.values).date == pd.to_datetime(t.values).date()\n",
    "    )\n",
    "\n",
    "    values = np.ravel(tds[variable].values)\n",
    "    lons = np.ravel(tds.longitude.values)\n",
    "    lats = np.ravel(tds.latitude.values)\n",
    "    msk = np.isfinite(values)\n",
    "    binning.push(lons[msk], lats[msk], values[msk])\n",
    "    gridded = ((\"time\", \"latitude\", \"longitude\"), binning.variable(\"mean\").T[None, ...])\n",
    "    grid_day_dses.append(\n",
    "        xr.Dataset(\n",
    "            {\"gridded\": gridded},\n",
    "            {\n",
    "                \"time\": [t.values],\n",
    "                \"latitude\": np.array(binning.y),\n",
    "                \"longitude\": np.array(binning.x),\n",
    "            },\n",
    "        )  # .astype('float32', casting='same_kind')\n",
    "    )\n",
    "tgt_ds = xr.concat(grid_day_dses, dim=\"time\")"
   ]
  },
  {
   "cell_type": "code",
   "execution_count": null,
   "metadata": {},
   "outputs": [],
   "source": [
    "create_movie(tgt_ds.gridded, \"ssh_missing_space\", framedim=\"time\", cmap=\"viridis\")"
   ]
  },
  {
   "cell_type": "code",
   "execution_count": null,
   "metadata": {},
   "outputs": [],
   "source": [
    "def custom_plotfunc(ds, fig, tt, *args, **kwargs):\n",
    "    # Define station location for timeseries\n",
    "\n",
    "    fig, ax = plt.subplots()\n",
    "\n",
    "    # subset date\n",
    "    ids = ds.isel(time=tt)\n",
    "\n",
    "    # convert to dataframe\n",
    "    ids = ids.to_dataframe().reset_index()\n",
    "\n",
    "    # drop nans\n",
    "    ids = ids.dropna()\n",
    "\n",
    "    # plot remaining\n",
    "    pts = ax.scatter(\n",
    "        ids[\"longitude\"],\n",
    "        ids[\"latitude\"],\n",
    "        c=ids[\"gridded\"],\n",
    "        vmin=ds.min().values,\n",
    "        vmax=ds.max().values,\n",
    "    )\n",
    "\n",
    "    # Map axis\n",
    "    # # Colorlimits need to be fixed or your video is going to cause seizures.\n",
    "    # # This is the only modification from the code above!\n",
    "    # ds.isel(time=tt).plot(ax=ax1, vmin=ds.min(), vmax=ds.max(), cmap='RdBu_r')\n",
    "    # ax1.plot(station['x'], station['y'], marker='*', color='k' ,markersize=15)\n",
    "    # ax1.text(station['x']+4, station['y']+4, 'Station', color='k' )\n",
    "    # ax1.set_aspect(1)\n",
    "    # ax1.set_facecolor('0.5')\n",
    "    # ax1.set_title('');\n",
    "\n",
    "    # # Time series\n",
    "    # ds_station.isel(time=slice(0,tt+1)).plot.line(ax=ax2, x='time')\n",
    "    # ax2.set_xlim(ds.time.min().data, ds.time.max().data)\n",
    "    # ax2.set_ylim(ds_station.min(), ds_station.max())\n",
    "    # ax2.set_title('Data at station');\n",
    "\n",
    "    # fig.subplots_adjust(wspace=0.6)\n",
    "\n",
    "    return None, None"
   ]
  },
  {
   "cell_type": "code",
   "execution_count": null,
   "metadata": {},
   "outputs": [],
   "source": [
    "from xmovie import Movie\n",
    "\n",
    "mov_custom = Movie(tgt_ds.gridded, custom_plotfunc)\n",
    "mov_custom.preview(3)"
   ]
  },
  {
   "cell_type": "code",
   "execution_count": null,
   "metadata": {},
   "outputs": [],
   "source": [
    "tgt_ds = tgt_ds.fillna(np.nan)"
   ]
  },
  {
   "cell_type": "code",
   "execution_count": null,
   "metadata": {},
   "outputs": [],
   "source": [
    "tgt_ds.isel(time=1).gridded"
   ]
  },
  {
   "cell_type": "code",
   "execution_count": null,
   "metadata": {},
   "outputs": [],
   "source": [
    "tgt_ds.isel(time=1).gridded.astype(np.float64).plot(cmap=\"viridis\")"
   ]
  },
  {
   "cell_type": "code",
   "execution_count": null,
   "metadata": {},
   "outputs": [],
   "source": [
    "create_movie(tgt_ds.gridded, \"ssh_nadir\", framedim=\"time\", cmap=\"viridis\")"
   ]
  },
  {
   "cell_type": "code",
   "execution_count": null,
   "metadata": {},
   "outputs": [],
   "source": [
    "values = np.ravel(tds.pred.values)\n",
    "lons = np.ravel(tds.lon.values) - 360\n",
    "lats = np.ravel(tds.lat.values)\n",
    "msk = np.isfinite(values)\n",
    "binning.push(lons[msk], lats[msk], values[msk])\n",
    "gridded = ((\"time\", \"lat\", \"lon\"), binning.variable(\"mean\").T[None, ...])\n",
    "grid_day_dses.append(\n",
    "    xr.Dataset(\n",
    "        {\"gridded\": gridded},\n",
    "        {\"time\": [t.values], \"lat\": np.array(binning.y), \"lon\": np.array(binning.x)},\n",
    "    ).astype(\"float32\", casting=\"same_kind\")\n",
    ")\n",
    "tgt_ds = xr.concat(grid_day_dses, dim=\"time\")"
   ]
  },
  {
   "cell_type": "code",
   "execution_count": null,
   "metadata": {},
   "outputs": [],
   "source": [
    "import pyinterp\n",
    "\n",
    "ds = swath_data[[\"pred\", \"lat\", \"lon\", \"time\"]]\n",
    "binning = pyinterp.Binning2D(\n",
    "    pyinterp.Axis(tgt_grid.lon.values), pyinterp.Axis(tgt_grid.lat.values)\n",
    ")\n",
    "grid_day_dses = []\n",
    "\n",
    "for t in tgt_grid.time:\n",
    "    binning.clear()\n",
    "    tds = ds.isel(\n",
    "        time=pd.to_datetime(ds.time.values).date == pd.to_datetime(t.values).date()\n",
    "    )\n",
    "\n",
    "    values = np.ravel(tds.pred.values)\n",
    "    lons = np.ravel(tds.lon.values) - 360\n",
    "    lats = np.ravel(tds.lat.values)\n",
    "    msk = np.isfinite(values)\n",
    "    binning.push(lons[msk], lats[msk], values[msk])\n",
    "    gridded = ((\"time\", \"lat\", \"lon\"), binning.variable(\"mean\").T[None, ...])\n",
    "    grid_day_dses.append(\n",
    "        xr.Dataset(\n",
    "            {\"gridded\": gridded},\n",
    "            {\n",
    "                \"time\": [t.values],\n",
    "                \"lat\": np.array(binning.y),\n",
    "                \"lon\": np.array(binning.x),\n",
    "            },\n",
    "        ).astype(\"float32\", casting=\"same_kind\")\n",
    "    )\n",
    "tgt_ds = xr.concat(grid_day_dses, dim=\"time\")"
   ]
  },
  {
   "cell_type": "code",
   "execution_count": null,
   "metadata": {},
   "outputs": [],
   "source": [
    "variable = \"ssh_obs\"\n",
    "\n",
    "df_jason = ds_jason.to_dataframe()\n",
    "\n",
    "df_jason_1D = (\n",
    "    df_jason.groupby([\"latitude\", \"longitude\", pd.Grouper(freq=\"D\", level=\"time\")])[\n",
    "        variable\n",
    "    ]\n",
    "    .mean()\n",
    "    .reset_index()\n",
    ")"
   ]
  },
  {
   "cell_type": "code",
   "execution_count": null,
   "metadata": {},
   "outputs": [],
   "source": [
    "df_jason_1D.head()"
   ]
  },
  {
   "cell_type": "code",
   "execution_count": null,
   "metadata": {},
   "outputs": [],
   "source": [
    "ds_xr = []\n",
    "from tqdm.notebook import tqdm\n",
    "\n",
    "for itime in tqdm(df_jason_1D.groupby(\"time\")):\n",
    "\n",
    "    # do binning\n",
    "    binning.push(\n",
    "        itime[1].longitude,\n",
    "        itime[1].latitude,\n",
    "        itime[1][variable],\n",
    "        # simple=True\n",
    "    )\n",
    "\n",
    "    # create temp df\n",
    "    ids = create_xarray(\n",
    "        binning.variable(\"mean\").T[None, :], binning.x[:], binning.y[:], [itime[0]]\n",
    "    )\n",
    "    break\n",
    "\n",
    "    binning.clear()\n",
    "\n",
    "    # add to dataframe\n",
    "    ds_xr.append(ids)"
   ]
  },
  {
   "cell_type": "code",
   "execution_count": null,
   "metadata": {},
   "outputs": [],
   "source": [
    "binning.x[:].shape, binning.y[:].shape, binning.z[:].shape"
   ]
  },
  {
   "cell_type": "code",
   "execution_count": null,
   "metadata": {},
   "outputs": [],
   "source": [
    "ids"
   ]
  },
  {
   "cell_type": "code",
   "execution_count": null,
   "metadata": {},
   "outputs": [],
   "source": [
    "itime[1].longitude"
   ]
  },
  {
   "cell_type": "code",
   "execution_count": null,
   "metadata": {},
   "outputs": [],
   "source": []
  },
  {
   "cell_type": "markdown",
   "metadata": {},
   "source": [
    "### NADIR-Like"
   ]
  },
  {
   "cell_type": "code",
   "execution_count": null,
   "metadata": {},
   "outputs": [],
   "source": [
    "ds_xr = xr.concat(ds_xr, dim=\"time\")\n",
    "ds_xr"
   ]
  },
  {
   "cell_type": "code",
   "execution_count": null,
   "metadata": {},
   "outputs": [],
   "source": [
    "ds_xr.ssh.min(), ds_xr.ssh.max()"
   ]
  },
  {
   "cell_type": "code",
   "execution_count": null,
   "metadata": {},
   "outputs": [],
   "source": [
    "ds_xr.isel(time=20).ssh"
   ]
  },
  {
   "cell_type": "code",
   "execution_count": null,
   "metadata": {},
   "outputs": [],
   "source": [
    "create_movie(ds_xr.ssh, \"ssh_missing_space\", framedim=\"time\", cmap=\"viridis\")"
   ]
  },
  {
   "cell_type": "code",
   "execution_count": null,
   "metadata": {},
   "outputs": [],
   "source": [
    "from xhistogram.xarray import histogram"
   ]
  },
  {
   "cell_type": "code",
   "execution_count": null,
   "metadata": {},
   "outputs": [],
   "source": [
    "lon_bins = np.linspace(\n",
    "    ds_field.nav_lon.min().values, ds_field.nav_lon.max().values, 200\n",
    ")\n",
    "lat_bins = np.linspace(\n",
    "    ds_field.nav_lat.min().values, ds_field.nav_lat.max().values, 200\n",
    ")\n",
    "time_bins = np.arange(\n",
    "    ds_field.time.min().values,\n",
    "    ds_field.time.max().values + np.timedelta64(1, \"D\"),\n",
    "    np.timedelta64(1, \"D\"),\n",
    ")\n",
    "\n",
    "assert time_bins.shape == ds_field.time.shape\n",
    "assert ds_field.nav_lat.shape == lat_bins.shape\n",
    "assert ds_field.nav_lon.shape == lon_bins.shape"
   ]
  },
  {
   "cell_type": "code",
   "execution_count": null,
   "metadata": {},
   "outputs": [],
   "source": [
    "ds_jason.time"
   ]
  },
  {
   "cell_type": "code",
   "execution_count": null,
   "metadata": {},
   "outputs": [],
   "source": [
    "h = histogram(\n",
    "    ds_jason.longitude,\n",
    "    ds_jason.latitude,\n",
    "    ds_jason.time,\n",
    "    bins=[lon_bins, lat_bins, time_bins],\n",
    ")"
   ]
  },
  {
   "cell_type": "code",
   "execution_count": null,
   "metadata": {},
   "outputs": [],
   "source": [
    "time_bins.shape, ds_field.time.shape"
   ]
  },
  {
   "cell_type": "code",
   "execution_count": null,
   "metadata": {},
   "outputs": [],
   "source": [
    "lon_bins = np.arange(0, 361, 2)\n",
    "lat_bins = np.arange(-70, 71, 2)\n",
    "\n",
    "# helps with memory management\n",
    "ds_ll_chunked = ds_ll.chunk({\"time\": \"5MB\"})\n",
    "\n",
    "sla_variance = histogram(\n",
    "    ds_ll_chunked.longitude,\n",
    "    ds_ll_chunked.latitude,\n",
    "    bins=[lon_bins, lat_bins],\n",
    "    weights=ds_ll_chunked.sla_filtered.fillna(0.0) ** 2,\n",
    ")\n",
    "\n",
    "norm = histogram(\n",
    "    ds_ll_chunked.longitude, ds_ll_chunked.latitude, bins=[lon_bins, lat_bins]\n",
    ")"
   ]
  }
 ],
 "metadata": {
  "kernelspec": {
   "display_name": "Python 3.9.13 ('torch_py39')",
   "language": "python",
   "name": "python3"
  },
  "language_info": {
   "codemirror_mode": {
    "name": "ipython",
    "version": 3
   },
   "file_extension": ".py",
   "mimetype": "text/x-python",
   "name": "python",
   "nbconvert_exporter": "python",
   "pygments_lexer": "ipython3",
   "version": "3.9.13"
  },
  "vscode": {
   "interpreter": {
    "hash": "ba845ae818c285ca2fe9389acfa2d2da9f6f964e42b65478d402ad448a072775"
   }
  }
 },
 "nbformat": 4,
 "nbformat_minor": 2
}
