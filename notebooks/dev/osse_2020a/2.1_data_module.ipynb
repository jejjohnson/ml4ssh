{
 "cells": [
  {
   "cell_type": "code",
   "execution_count": null,
   "metadata": {},
   "outputs": [],
   "source": [
    "import os\n",
    "import sys\n",
    "\n",
    "from pyprojroot import here\n",
    "\n",
    "os.environ[\"PYTORCH_ENABLE_MPS_FALLBACK\"] = \"1\"\n",
    "\n",
    "# spyder up to find the root\n",
    "root = here(project_files=[\".root\"])\n",
    "exp = here(\n",
    "    relative_project_path=root.joinpath(\"experiments/dc21a\"), project_files=[\".local\"]\n",
    ")\n",
    "\n",
    "\n",
    "# append to path\n",
    "sys.path.append(str(root))\n",
    "sys.path.append(str(exp))"
   ]
  },
  {
   "cell_type": "code",
   "execution_count": null,
   "metadata": {},
   "outputs": [],
   "source": [
    "import time\n",
    "\n",
    "import pytorch_lightning as pl\n",
    "from inr4ssh._src.datamodules.osse_2020a import AlongTrackDataModule\n",
    "import torch\n",
    "import torch.nn as nn\n",
    "import xarray as xr\n",
    "\n",
    "%matplotlib inline\n",
    "%load_ext autoreload\n",
    "%autoreload 2"
   ]
  },
  {
   "cell_type": "markdown",
   "metadata": {},
   "source": [
    "```python\n",
    "spatial_columns = [\"lon\", \"lat\"], [\"x\", \"y\", \"z\"], [\"lon_rad\", \"lat_rad\"]\n",
    "temporal_columns = [\"time\"], [\"vtime\"]\n",
    "```\n",
    "\n",
    "**Transformations**\n",
    "\n",
    "* Spherical 2 Cartesian\n",
    "* Spherical Degrees to Radians\n",
    "* Temporal to Julian\n",
    "* TimeStamps 2 Days of the Year\n",
    "* TimeStamps 2 Cycles\n",
    "* Temporal Scaling"
   ]
  },
  {
   "cell_type": "code",
   "execution_count": null,
   "metadata": {},
   "outputs": [],
   "source": [
    "ds_link = \"/Volumes/EMANS_HDD/data/dc20a_osse/test/ml/nadir1.nc\"\n",
    "\n",
    "ds = xr.open_dataset(ds_link)\n",
    "\n",
    "ds"
   ]
  },
  {
   "cell_type": "markdown",
   "metadata": {},
   "source": [
    "## DataModule"
   ]
  },
  {
   "cell_type": "markdown",
   "metadata": {},
   "source": [
    "**Configs**\n",
    "\n",
    "* `data` - the dataset directory and setup arguments, e.g. data_dir\n",
    "* `preprocess` - the preprocessing arguments, e.g. spatial/temporal subset, coarsening\n",
    "* `traintest` - the train/valid split arguments, e.g. train_prct\n",
    "* `dataloader` - the dataloader arguments, e.g. batchsize, num_workers\n",
    "* `evaluation` - the evaluation grid for the prediction dataloader, e.g. lon/lon bnds"
   ]
  },
  {
   "cell_type": "code",
   "execution_count": null,
   "metadata": {},
   "outputs": [],
   "source": [
    "from ml_collections import config_dict\n",
    "\n",
    "config = config_dict.ConfigDict()\n",
    "\n",
    "# data directory\n",
    "config.data = data = config_dict.ConfigDict()\n",
    "data.dataset_dir = \"/Volumes/EMANS_HDD/data/dc20a_osse/test/ml/nadir1.nc\"\n",
    "\n",
    "# preprocessing\n",
    "config.preprocess = config_dict.ConfigDict()\n",
    "config.preprocess.subset_time = subset_time = config_dict.ConfigDict()\n",
    "subset_time.subset_time = True\n",
    "subset_time.time_min = \"2012-10-22\"\n",
    "subset_time.time_max = \"2012-12-02\"\n",
    "\n",
    "config.preprocess.subset_spatial = subset_spatial = config_dict.ConfigDict()\n",
    "subset_spatial.subset_spatial = True\n",
    "subset_spatial.lon_min = -65.0\n",
    "subset_spatial.lon_max = -55.0\n",
    "subset_spatial.lat_min = 33.0\n",
    "subset_spatial.lat_max = 43.0\n",
    "\n",
    "# transformations\n",
    "config.preprocess.transform = transform = config_dict.ConfigDict()\n",
    "transform.time_transform = \"minmax\"\n",
    "transform.time_min = \"2011-01-01\"\n",
    "transform.time_max = \"2013-12-12\"\n",
    "\n",
    "# train/valid arguments\n",
    "config.traintest = traintest = config_dict.ConfigDict()\n",
    "traintest.train_prct = 0.9\n",
    "traintest.seed = 42\n",
    "\n",
    "# dataloader\n",
    "config.dataloader = dataloader = config_dict.ConfigDict()\n",
    "# train dataloader\n",
    "dataloader.batchsize_train = 32\n",
    "dataloader.num_workers_train = 1\n",
    "dataloader.shuffle_train = True\n",
    "dataloader.pin_memory_train = False\n",
    "# valid dataloader\n",
    "dataloader.batchsize_valid = 32\n",
    "dataloader.num_workers_valid = 1\n",
    "dataloader.shuffle_valid = False\n",
    "dataloader.pin_memory_valid = False\n",
    "# predict dataloader\n",
    "dataloader.batchsize_predict = 32\n",
    "dataloader.num_workers_predict = 1\n",
    "dataloader.shuffle_predict = False\n",
    "dataloader.pin_memory_predict = False\n",
    "\n",
    "# EVALUATION\n",
    "config.evaluation = evaluation = config_dict.ConfigDict()\n",
    "evaluation.lon_min = -65.0\n",
    "evaluation.lon_max = -55.0\n",
    "evaluation.dlon = 0.1\n",
    "evaluation.lat_min = 33.0\n",
    "evaluation.lat_max = 43.0\n",
    "evaluation.dlat = 0.1\n",
    "\n",
    "evaluation.time_min = \"2012-10-22\"\n",
    "evaluation.time_max = \"2012-12-02\"\n",
    "evaluation.dt_freq = 1\n",
    "evaluation.dt_unit = \"D\""
   ]
  },
  {
   "cell_type": "code",
   "execution_count": null,
   "metadata": {},
   "outputs": [],
   "source": [
    "# , get_demo_config\n",
    "\n",
    "# config = get_demo_config()\n",
    "\n",
    "config.preprocess.subset_spatial.subset_spatial = True\n",
    "config.preprocess.subset_time.subset_time = True\n",
    "\n",
    "config"
   ]
  },
  {
   "cell_type": "code",
   "execution_count": null,
   "metadata": {},
   "outputs": [],
   "source": [
    "# initialize data module\n",
    "dm = AlongTrackDataModule(\n",
    "    root=None,\n",
    "    config=config,\n",
    "    download=False,\n",
    ")\n",
    "\n",
    "# initialize datamodule params\n",
    "dm.setup()\n",
    "\n",
    "# initialize dataloaders\n",
    "train_ds = dm.train_dataloader()\n",
    "\n",
    "valid_ds = dm.val_dataloader()\n",
    "\n",
    "predict_ds = dm.predict_dataloader()"
   ]
  },
  {
   "cell_type": "code",
   "execution_count": null,
   "metadata": {},
   "outputs": [],
   "source": [
    "ibatch_train = next(iter(train_ds))\n",
    "ibatch_valid = next(iter(valid_ds))\n",
    "ibatch_predict = next(iter(predict_ds))"
   ]
  },
  {
   "cell_type": "code",
   "execution_count": null,
   "metadata": {},
   "outputs": [],
   "source": []
  }
 ],
 "metadata": {
  "kernelspec": {
   "display_name": "Python 3.9.13 ('torch_py39')",
   "language": "python",
   "name": "python3"
  },
  "language_info": {
   "codemirror_mode": {
    "name": "ipython",
    "version": 3
   },
   "file_extension": ".py",
   "mimetype": "text/x-python",
   "name": "python",
   "nbconvert_exporter": "python",
   "pygments_lexer": "ipython3",
   "version": "3.9.13"
  },
  "vscode": {
   "interpreter": {
    "hash": "ba845ae818c285ca2fe9389acfa2d2da9f6f964e42b65478d402ad448a072775"
   }
  }
 },
 "nbformat": 4,
 "nbformat_minor": 2
}
