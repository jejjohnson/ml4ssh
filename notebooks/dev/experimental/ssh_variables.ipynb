{
 "cells": [
  {
   "cell_type": "markdown",
   "metadata": {},
   "source": [
    "# Sea Surface Height - Derived Quantities\n",
    "\n",
    "In this notebook, we will be looking at how we can derive quantities from sea surface height. Namely we will look at:\n",
    "\n",
    "* U,V - Velocity components\n",
    "* RV - relative vorticity"
   ]
  },
  {
   "cell_type": "code",
   "execution_count": null,
   "metadata": {},
   "outputs": [],
   "source": [
    "import sys, os\n",
    "\n",
    "import ml_collections\n",
    "from pyprojroot import here\n",
    "\n",
    "# spyder up to find the root\n",
    "root = here(project_files=[\".root\"])\n",
    "\n",
    "\n",
    "# append to path\n",
    "sys.path.append(str(root))"
   ]
  },
  {
   "cell_type": "code",
   "execution_count": null,
   "metadata": {},
   "outputs": [],
   "source": [
    "from pathlib import Path\n",
    "import numpy as np\n",
    "from pathlib import Path\n",
    "import pandas as pd\n",
    "import xarray as xr\n",
    "import matplotlib.pyplot as plt\n",
    "\n",
    "import seaborn as sns\n",
    "\n",
    "sns.reset_defaults()\n",
    "sns.set_context(context=\"talk\", font_scale=0.7)\n",
    "import scienceplots\n",
    "\n",
    "# plt.style.use(\"science\")\n",
    "\n",
    "import hvplot.xarray\n",
    "import hvplot.pandas\n",
    "\n",
    "from inr4ssh._src.operators.finite_diff import calculate_gradient, calculate_laplacian\n",
    "from inr4ssh._src.preprocess.subset import temporal_subset, spatial_subset\n",
    "from inr4ssh._src.preprocess.coords import (\n",
    "    correct_coordinate_labels,\n",
    "    correct_longitude_domain,\n",
    ")\n",
    "from inr4ssh._src.data.ssh_obs import load_ssh_altimetry_data_train\n",
    "\n",
    "from inr4ssh._src.preprocess.coords import correct_longitude_domain\n",
    "from inr4ssh._src.preprocess.obs import bin_observations_xr, bin_observations_coords\n",
    "from inr4ssh._src.preprocess.grid import create_spatiotemporal_grid\n",
    "from inr4ssh._src.viz.movie import create_movie\n",
    "from inr4ssh._src.metrics.psd import psd_isotropic\n",
    "from inr4ssh._src.viz.psd.isotropic import plot_psd_isotropic\n",
    "from inr4ssh._src.viz.obs import plot_obs_demo\n",
    "from inr4ssh._src.metrics.psd import psd_spacetime, psd_spacetime_dask\n",
    "from inr4ssh._src.viz.psd.spacetime import (\n",
    "    plot_psd_spacetime_wavelength,\n",
    "    plot_psd_spacetime_wavenumber,\n",
    ")\n",
    "from inr4ssh._src.viz.psd.spacetime import (\n",
    "    plot_psd_spacetime_score_wavelength,\n",
    "    plot_psd_spacetime_score_wavenumber,\n",
    ")\n",
    "from loguru import logger\n",
    "\n",
    "%matplotlib inline\n",
    "%load_ext autoreload\n",
    "%autoreload 2"
   ]
  },
  {
   "cell_type": "markdown",
   "metadata": {},
   "source": [
    "## Data"
   ]
  },
  {
   "cell_type": "code",
   "execution_count": null,
   "metadata": {},
   "outputs": [],
   "source": [
    "from inr4ssh._src.preprocess.spatial import convert_lon_360_180, convert_lon_180_360\n",
    "\n",
    "\n",
    "def post_process(ds, variable):\n",
    "\n",
    "    # correct coordinate labels\n",
    "    logger.info(\"Fixing coordinate labels...\")\n",
    "    ds = correct_coordinate_labels(ds)\n",
    "\n",
    "    # correct labels\n",
    "    logger.info(\"Fixing labels\")\n",
    "    ds = ds.rename({variable: \"ssh\"})\n",
    "\n",
    "    # correct longitude domain\n",
    "    logger.info(\"Fixing longitude domain\")\n",
    "    from inr4ssh._src.preprocess.spatial import convert_lon_360_180\n",
    "\n",
    "    ds[\"longitude\"] = convert_lon_180_360(ds.longitude)\n",
    "    # ds[\"longitude\"] = convert_lon_360_180(ds.longitude)\n",
    "\n",
    "    # # subset temporal space\n",
    "    # ds = ds.sel(time=slice(np.datetime64(\"2017-02-01\"), np.datetime64(\"2017-03-01\")))\n",
    "\n",
    "    # # subset spatial space\n",
    "    # ds = ds.sel(\n",
    "    #     longitude=slice(-75.0, -45.0),\n",
    "    #     latitude=slice(33.0, 53.0)\n",
    "    # )\n",
    "\n",
    "    ds = ds.transpose(\"time\", \"latitude\", \"longitude\")\n",
    "\n",
    "    # regrid data\n",
    "    return ds"
   ]
  },
  {
   "cell_type": "code",
   "execution_count": null,
   "metadata": {},
   "outputs": [],
   "source": [
    "fig_path = Path(root).joinpath(\"figures/dc21a\")"
   ]
  },
  {
   "cell_type": "markdown",
   "metadata": {},
   "source": [
    "## Reference Grid"
   ]
  },
  {
   "cell_type": "code",
   "execution_count": null,
   "metadata": {},
   "outputs": [],
   "source": [
    "!ls /Volumes/EMANS_HDD/data/dc21b_ose/test_2/results/"
   ]
  },
  {
   "cell_type": "code",
   "execution_count": null,
   "metadata": {},
   "outputs": [],
   "source": [
    "from inr4ssh._src.preprocess.regrid import oi_regrid\n",
    "\n",
    "logger.info(\"Dataset I - DUACS\")\n",
    "url = \"/Volumes/EMANS_HDD/data/dc21b_ose/test_2/results/OSE_ssh_mapping_MIOST.nc\"\n",
    "url = \"/Volumes/EMANS_HDD/data/dc21b/results/siren_136.nc\"\n",
    "ds_field = xr.open_dataset(url)\n",
    "\n",
    "ds_field = post_process(ds_field, \"ssh\")\n",
    "ds_field"
   ]
  },
  {
   "cell_type": "code",
   "execution_count": null,
   "metadata": {},
   "outputs": [],
   "source": [
    "# from ml_collections import config_dict\n",
    "#\n",
    "# # create configuration\n",
    "# def get_lowres_config():\n",
    "#     config = config_dict.ConfigDict()\n",
    "#\n",
    "#     config.lon_min = -65  # -75.0\n",
    "#     config.lon_max = -55.0  # -45.0\n",
    "#     config.dlon = 0.1\n",
    "#     config.lat_min = 33.0\n",
    "#     config.lat_max = 43.0  # 53.0\n",
    "#     config.dlat = 0.1\n",
    "#     config.time_min = np.datetime64(\"2017-02-01\")\n",
    "#     config.time_max = np.datetime64(\"2017-03-01\")\n",
    "#     config.dt_freq = 1\n",
    "#     config.dt_unit = \"D\"\n",
    "#     config.dtime = \"1_D\"  # np.timedelta64(1, \"D\")\n",
    "#     config.time_buffer = np.timedelta64(1, \"D\")\n",
    "#     return config\n",
    "#\n",
    "#\n",
    "# def get_hires_config():\n",
    "#     config = get_lowres_config()\n",
    "#     config.dlon = 0.05\n",
    "#     config.dlat = 0.05\n",
    "#     config.dtime = \"12_h\"\n",
    "#     return config\n",
    "#\n",
    "#\n",
    "# def get_superres_config():\n",
    "#     config = get_lowres_config()\n",
    "#     config.dlon = 0.01\n",
    "#     config.dlat = 0.01\n",
    "#     config.dtime = \"6_h\"\n",
    "#     return config"
   ]
  },
  {
   "cell_type": "code",
   "execution_count": null,
   "metadata": {},
   "outputs": [],
   "source": [
    "# import pyinterp\n",
    "# from einops import rearrange\n",
    "# from inr4ssh._src.preprocess.regrid import (\n",
    "#     create_pyinterp_grid_2dt,\n",
    "#     regrid_2dt_from_grid,\n",
    "#     regrid_2dt_from_da,\n",
    "# )\n",
    "# from inr4ssh._src.interp import interp_2dt\n",
    "# from inr4ssh._src.preprocess.coords import Bounds2DT"
   ]
  },
  {
   "cell_type": "code",
   "execution_count": null,
   "metadata": {},
   "outputs": [],
   "source": [
    "# # init config\n",
    "# config = get_hires_config()\n",
    "#\n",
    "# # create target grid\n",
    "# grid_target = Bounds2DT.init_from_config(config).create_coordinates().create_grid()\n",
    "#\n",
    "# # regrid\n",
    "# ds_field_hires = regrid_2dt_from_grid(\n",
    "#     ds_field.ssh,\n",
    "#     grid_target,\n",
    "#     is_circle=True,\n",
    "# )\n",
    "#\n",
    "# # fill gaps (around edges)\n",
    "# ds_field_hires = interp_2dt(ds_field_hires, is_circle=True, method=\"gauss_seidel\")\n",
    "#\n",
    "# ds_field_hires = xr.Dataset({\"ssh\": ds_field_hires})\n",
    "#\n",
    "# ds_field.ssh.shape, ds_field_hires.ssh.shape"
   ]
  },
  {
   "cell_type": "code",
   "execution_count": null,
   "metadata": {},
   "outputs": [],
   "source": [
    "vmin = np.min([ds_field.ssh.values])\n",
    "vmax = np.max([ds_field.ssh.values])\n",
    "\n",
    "# with plt.style.context('science'):\n",
    "fig, ax = plt.subplots()\n",
    "\n",
    "ds_field.ssh.sel(time=\"2017-02-01\").plot(\n",
    "    ax=ax, cmap=\"viridis\", robust=True, cbar_kwargs={\"label\": \"\"}, vmin=vmin, vmax=vmax\n",
    ")\n",
    "ax.set(xlabel=\"Longitude\", ylabel=\"Latitude\", title=\"\")\n",
    "plt.show()"
   ]
  },
  {
   "cell_type": "code",
   "execution_count": null,
   "metadata": {},
   "outputs": [],
   "source": [
    "from inr4ssh._src.operators.ssh import (\n",
    "    ssh2uv_ds_2dt,\n",
    "    kinetic_energy,\n",
    "    enstropy,\n",
    "    ssh2rv_ds_2dt,\n",
    ")\n",
    "\n",
    "\n",
    "# calculate UV components\n",
    "ds_field = ssh2uv_ds_2dt(ds_field)\n",
    "\n",
    "# calculate kinetic energy\n",
    "ds_field[\"ke\"] = kinetic_energy(ds_field.u, ds_field.v)\n",
    "\n",
    "# calculate relative vorticity\n",
    "ds_field = ssh2rv_ds_2dt(ds_field)\n",
    "\n",
    "# calculate enstropy\n",
    "ds_field[\"ens\"] = enstropy(ds_field.rv)"
   ]
  },
  {
   "cell_type": "code",
   "execution_count": null,
   "metadata": {},
   "outputs": [],
   "source": [
    "# with plt.style.context('science'):\n",
    "vmin = np.min([ds_field.u.values, ds_field.v.values])\n",
    "vmax = np.max([ds_field.u.values, ds_field.v.values])\n",
    "fig, ax = plt.subplots(ncols=2, figsize=(15, 5))\n",
    "\n",
    "ds_field.u.sel(time=\"2017-02-01\").plot(\n",
    "    ax=ax[0],\n",
    "    cmap=\"coolwarm\",\n",
    "    robust=True,\n",
    "    cbar_kwargs={\"label\": \"\"},\n",
    "    vmin=vmin,\n",
    "    vmax=vmax,\n",
    ")\n",
    "ds_field.v.sel(time=\"2017-02-01\").plot(\n",
    "    ax=ax[1],\n",
    "    cmap=\"coolwarm\",\n",
    "    robust=True,\n",
    "    cbar_kwargs={\"label\": \"\"},\n",
    "    vmin=vmin,\n",
    "    vmax=vmax,\n",
    ")\n",
    "ax[0].set(xlabel=\"Longitude\", ylabel=\"Latitude\", title=\"\")\n",
    "ax[1].set(xlabel=\"Longitude\", ylabel=\"Latitude\", title=\"\")\n",
    "plt.show()"
   ]
  },
  {
   "cell_type": "code",
   "execution_count": null,
   "metadata": {},
   "outputs": [],
   "source": [
    "# with plt.style.context('science'):\n",
    "fig, ax = plt.subplots()\n",
    "\n",
    "ds_field.ke.sel(time=\"2017-02-01\").plot(\n",
    "    ax=ax,\n",
    "    cmap=\"coolwarm\",\n",
    "    robust=True,\n",
    "    cbar_kwargs={\"label\": \"\"},\n",
    "    # vmin=vmin, vmax=vmax\n",
    ")\n",
    "ax.set(xlabel=\"Longitude\", ylabel=\"Latitude\", title=\"\")\n",
    "plt.show()"
   ]
  },
  {
   "cell_type": "code",
   "execution_count": null,
   "metadata": {},
   "outputs": [],
   "source": [
    "# with plt.style.context('science'):\n",
    "fig, ax = plt.subplots()\n",
    "\n",
    "ds_field.rv.sel(time=\"2017-02-01\").plot(\n",
    "    ax=ax,\n",
    "    cmap=\"coolwarm\",\n",
    "    robust=True,\n",
    "    cbar_kwargs={\"label\": \"\"},\n",
    "    # vmin=vmin, vmax=vmax\n",
    ")\n",
    "ax.set(xlabel=\"Longitude\", ylabel=\"Latitude\", title=\"\")\n",
    "plt.show()"
   ]
  },
  {
   "cell_type": "code",
   "execution_count": null,
   "metadata": {},
   "outputs": [],
   "source": [
    "# with plt.style.context('science'):\n",
    "fig, ax = plt.subplots()\n",
    "\n",
    "ds_field.ens.sel(time=\"2017-02-01\").plot(\n",
    "    ax=ax,\n",
    "    cmap=\"coolwarm\",\n",
    "    robust=True,\n",
    "    cbar_kwargs={\"label\": \"\"},\n",
    "    # vmin=vmin, vmax=vmax\n",
    ")\n",
    "ax.set(xlabel=\"Longitude\", ylabel=\"Latitude\", title=\"\")\n",
    "plt.show()"
   ]
  },
  {
   "cell_type": "code",
   "execution_count": null,
   "metadata": {},
   "outputs": [],
   "source": []
  }
 ],
 "metadata": {
  "kernelspec": {
   "display_name": "Python 3",
   "language": "python",
   "name": "python3"
  },
  "language_info": {
   "codemirror_mode": {
    "name": "ipython",
    "version": 2
   },
   "file_extension": ".py",
   "mimetype": "text/x-python",
   "name": "python",
   "nbconvert_exporter": "python",
   "pygments_lexer": "ipython2",
   "version": "2.7.6"
  }
 },
 "nbformat": 4,
 "nbformat_minor": 0
}
