{
 "cells": [
  {
   "cell_type": "markdown",
   "metadata": {},
   "source": [
    "# OSSE 2022b - QG Simulations"
   ]
  },
  {
   "cell_type": "code",
   "execution_count": null,
   "metadata": {},
   "outputs": [],
   "source": [
    "import sys, os\n",
    "from pyprojroot import here\n",
    "\n",
    "# spyder up to find the root\n",
    "root = here(project_files=[\".root\"])\n",
    "\n",
    "\n",
    "# append to path\n",
    "sys.path.append(str(root))"
   ]
  },
  {
   "cell_type": "code",
   "execution_count": null,
   "metadata": {},
   "outputs": [],
   "source": [
    "import numpy as np\n",
    "import pandas as pd\n",
    "import xarray as xr\n",
    "import matplotlib.pyplot as plt\n",
    "import seaborn as sns\n",
    "\n",
    "sns.reset_defaults()\n",
    "sns.set_context(context=\"talk\", font_scale=0.7)\n",
    "\n",
    "import hvplot.xarray\n",
    "import hvplot.pandas\n",
    "\n",
    "from inr4ssh._src.operators.finite_diff import calculate_gradient, calculate_laplacian\n",
    "from inr4ssh._src.preprocess.subset import temporal_subset, spatial_subset\n",
    "from inr4ssh._src.preprocess.coords import (\n",
    "    correct_coordinate_labels,\n",
    "    correct_longitude_domain,\n",
    ")\n",
    "from inr4ssh._src.data.ssh_obs import load_ssh_altimetry_data_train\n",
    "\n",
    "from inr4ssh._src.preprocess.coords import correct_coordinate_labels\n",
    "from inr4ssh._src.preprocess.obs import bin_observations\n",
    "from inr4ssh._src.viz.movie import create_movie\n",
    "from inr4ssh._src.metrics.psd import psd_isotropic\n",
    "from inr4ssh._src.viz.psd.isotropic import plot_psd_isotropic\n",
    "from inr4ssh._src.viz.obs import plot_obs_demo\n",
    "from inr4ssh._src.metrics.psd import psd_spacetime, psd_spacetime_dask\n",
    "from inr4ssh._src.viz.psd.spacetime import (\n",
    "    plot_psd_spacetime_wavelength,\n",
    "    plot_psd_spacetime_wavenumber,\n",
    ")\n",
    "\n",
    "%matplotlib inline\n",
    "%load_ext autoreload\n",
    "%autoreload 2"
   ]
  },
  {
   "cell_type": "markdown",
   "metadata": {},
   "source": [
    "## Data"
   ]
  },
  {
   "cell_type": "markdown",
   "metadata": {},
   "source": [
    "### Evaluation Field"
   ]
  },
  {
   "cell_type": "code",
   "execution_count": null,
   "metadata": {},
   "outputs": [],
   "source": [
    "url = \"/Users/eman/code_projects/data/osse_2022b/dc_qg_eval/dc_qg_eval_*.nc\"\n",
    "url = \"/Volumes/EMANS_HDD/data/dc22b_osse/raw/dc_qg_eval/dc_qg_eval_*.nc\"\n",
    "ds_field = xr.open_mfdataset(url)\n",
    "\n",
    "ds_field = ds_field.rename({\"nav_lon\": \"lon\"}).rename({\"nav_lat\": \"lat\"})\n",
    "\n",
    "ds_field = correct_coordinate_labels(ds_field)\n",
    "\n",
    "ds_field = correct_longitude_domain(ds_field)\n",
    "\n",
    "ds_field"
   ]
  },
  {
   "cell_type": "code",
   "execution_count": null,
   "metadata": {},
   "outputs": [],
   "source": [
    "def count_num_obs(ds, central_date, delta_t, drop_duplicates=False):\n",
    "    tmin = central_date - delta_t\n",
    "    tmax = central_date + delta_t\n",
    "\n",
    "    ds = ds.sel(time=slice(tmin, tmax))\n",
    "\n",
    "    if drop_duplicates:\n",
    "        ds = ds.drop_duplicates(dim=\"time\")\n",
    "    return len(ds.values.flatten())"
   ]
  },
  {
   "cell_type": "code",
   "execution_count": null,
   "metadata": {},
   "outputs": [],
   "source": [
    "central_date = np.datetime64(\"2012-10-22\")\n",
    "num_days = 100\n",
    "delta_t = np.timedelta64(num_days, \"D\")\n",
    "\n",
    "count_num_obs(ds_field.ssh, central_date, delta_t)"
   ]
  },
  {
   "cell_type": "code",
   "execution_count": null,
   "metadata": {},
   "outputs": [],
   "source": [
    "ds_field.isel(time=0).ssh.plot.imshow()"
   ]
  },
  {
   "cell_type": "markdown",
   "metadata": {},
   "source": [
    "#### Movie (GIF)"
   ]
  },
  {
   "cell_type": "code",
   "execution_count": null,
   "metadata": {},
   "outputs": [],
   "source": []
  },
  {
   "cell_type": "code",
   "execution_count": null,
   "metadata": {},
   "outputs": [],
   "source": [
    "# create_movie(ds_field.ssh_lap, \"ssh_field_lap\", framedim=\"time\", cmap=\"RdBu_r\")"
   ]
  },
  {
   "cell_type": "markdown",
   "metadata": {},
   "source": [
    "### Density"
   ]
  },
  {
   "cell_type": "markdown",
   "metadata": {},
   "source": []
  },
  {
   "cell_type": "code",
   "execution_count": null,
   "metadata": {},
   "outputs": [],
   "source": [
    "fig, ax = plt.subplots()\n",
    "sns.kdeplot(\n",
    "    data=np.log(ds_field.ssh_grad.values.flatten()),\n",
    "    cumulative=True,\n",
    "    common_norm=False,\n",
    "    common_grid=True,\n",
    "    ax=ax,\n",
    ")\n",
    "# ax.set_xlabel(\"SSH [m]\")\n",
    "ax.set_xlabel(r\"Log Kinetic Energy [m$^2$s$^{-2}$]\")\n",
    "# ax.set_xlabel(r\"Log Enstropy [s$^{-1}$]\")\n",
    "ax.set_ylabel(\"Cumulative Density\")\n",
    "plt.show()"
   ]
  },
  {
   "cell_type": "code",
   "execution_count": null,
   "metadata": {},
   "outputs": [],
   "source": [
    "fig, ax = plt.subplots()\n",
    "sns.kdeplot(\n",
    "    data=np.log(ds_field.ssh_grad.values.flatten()),\n",
    "    cumulative=False,\n",
    "    common_norm=False,\n",
    "    common_grid=True,\n",
    "    ax=ax,\n",
    ")\n",
    "# ax.set_xlabel(\"SSH [m]\")\n",
    "ax.set_xlabel(r\"Log Kinetic Energy [m$^2$s$^{-2}$]\")\n",
    "# ax.set_xlabel(r\"Log Enstropy [s$^{-1}$]\")\n",
    "ax.set_ylabel(\"Density\")\n",
    "plt.show()"
   ]
  },
  {
   "cell_type": "markdown",
   "metadata": {},
   "source": [
    "#### Gradients/Laplacian"
   ]
  },
  {
   "cell_type": "code",
   "execution_count": null,
   "metadata": {},
   "outputs": [],
   "source": [
    "from inr4ssh._src.operators.finite_diff import calculate_gradient, calculate_laplacian\n",
    "\n",
    "ds_field[\"ssh_grad\"] = calculate_gradient(ds_field[\"ssh\"], \"longitude\", \"latitude\")\n",
    "ds_field[\"ssh_lap\"] = calculate_gradient(ds_field[\"ssh_grad\"], \"longitude\", \"latitude\")\n",
    "\n",
    "# create_movie(ds_field.ssh_grad, \"ssh_field_grad\", framedim=\"time\", cmap=\"Spectral_r\")\n",
    "# create_movie(ds_field.ssh_lap, \"ssh_field_lap\", framedim=\"time\", cmap=\"RdBu_r\")\n",
    "create_movie(\n",
    "    np.log(ds_field.ssh_lap), \"ssh_field_loglap\", framedim=\"time\", cmap=\"RdBu_r\"\n",
    ")"
   ]
  },
  {
   "cell_type": "code",
   "execution_count": null,
   "metadata": {},
   "outputs": [],
   "source": []
  },
  {
   "cell_type": "markdown",
   "metadata": {},
   "source": [
    "### PSD"
   ]
  },
  {
   "cell_type": "code",
   "execution_count": null,
   "metadata": {},
   "outputs": [],
   "source": [
    "ds_field_psd = correct_coordinate_labels(ds_field)\n",
    "\n",
    "# grab ssh\n",
    "ds_field_psd = ds_field_psd.ssh_lap\n",
    "\n",
    "# correct units, degrees -> meters\n",
    "ds_field_psd[\"longitude\"] = ds_field_psd.longitude * 111e3\n",
    "ds_field_psd[\"latitude\"] = ds_field_psd.latitude * 111e3\n",
    "\n",
    "# calculate\n",
    "ds_field_psd = psd_isotropic(ds_field_psd)"
   ]
  },
  {
   "cell_type": "code",
   "execution_count": null,
   "metadata": {},
   "outputs": [],
   "source": [
    "fig, ax = plot_psd_isotropic(ds_field_psd.freq_r.values * 1e3, ds_field_psd.values)\n",
    "# ax.set_ylabel(r\"PSD [m$^2$s$^{-2}$/cyles/m\")\n",
    "# ax.set_ylabel(r\"PSD [s$^{-1}$/cyles/m\")\n",
    "plt.tight_layout()\n",
    "plt.show()"
   ]
  },
  {
   "cell_type": "markdown",
   "metadata": {},
   "source": [
    "### PSD - Spatial-Temporal"
   ]
  },
  {
   "cell_type": "code",
   "execution_count": null,
   "metadata": {},
   "outputs": [],
   "source": [
    "ds_field_psd = correct_coordinate_labels(ds_field)\n",
    "\n",
    "# grab ssh\n",
    "ds_field_psd = ds_field_psd.ssh\n",
    "\n",
    "# grab ssh\n",
    "ds_field_psd = ds_field_psd.compute()\n",
    "\n",
    "# correct units, degrees -> meters\n",
    "ds_field_psd[\"longitude\"] = ds_field_psd.longitude * 111e3\n",
    "ds_field_psd[\"latitude\"] = ds_field_psd.latitude * 111e3\n",
    "\n",
    "time_norm = np.timedelta64(1, \"D\")\n",
    "# mean psd of signal\n",
    "ds_field_psd[\"time\"] = (ds_field_psd.time - ds_field_psd.time[0]) / time_norm\n",
    "\n",
    "# calculate\n",
    "ds_field_psd = psd_spacetime_dask(ds_field_psd)"
   ]
  },
  {
   "cell_type": "code",
   "execution_count": null,
   "metadata": {},
   "outputs": [],
   "source": [
    "fig, ax, cbar = plot_psd_spacetime_wavelength(\n",
    "    ds_field_psd.freq_longitude * 1e3,\n",
    "    ds_field_psd.freq_time,\n",
    "    ds_field_psd,\n",
    ")\n",
    "# ax.set_xlim((1000, 10))\n",
    "# cbar.ax.set_ylabel(r\"PSD [m$^2$s$^{-2}$/cyles/m\")\n",
    "# cbar.ax.set_ylabel(r\"PSD [s$^{-1}$/cyles/m\")\n",
    "\n",
    "plt.tight_layout()\n",
    "plt.show()"
   ]
  },
  {
   "cell_type": "code",
   "execution_count": null,
   "metadata": {},
   "outputs": [],
   "source": [
    "fig, ax, cbar = plot_psd_spacetime_wavenumber(\n",
    "    ds_field_psd.freq_longitude * 1e3,\n",
    "    ds_field_psd.freq_time,\n",
    "    ds_field_psd,\n",
    ")\n",
    "\n",
    "plt.tight_layout()\n",
    "plt.show()"
   ]
  },
  {
   "cell_type": "code",
   "execution_count": null,
   "metadata": {},
   "outputs": [],
   "source": []
  },
  {
   "cell_type": "markdown",
   "metadata": {},
   "source": [
    "## Observations"
   ]
  },
  {
   "cell_type": "code",
   "execution_count": null,
   "metadata": {},
   "outputs": [],
   "source": [
    "# # grab ssh\n",
    "# ds_field_psd = ds_field.ssh_grad\n",
    "\n",
    "# # correct units, degrees -> meters\n",
    "# ds_field_psd[\"longitude\"] = ds_field_psd.longitude * 111e3\n",
    "# ds_field_psd[\"latitude\"] = ds_field_psd.latitude * 111e3\n",
    "\n",
    "# # calculate\n",
    "# ds_field_psd = psd_isotropic(ds_field_psd)\n",
    "\n",
    "# fig, ax = plot_isotropic_psd(ds_field_psd, freq_scale=1e3)\n",
    "# ax.set_ylabel(r\"PSD [m$^2$s$^{-2}$/cyles/m\")\n",
    "# plt.tight_layout()\n",
    "# plt.show()"
   ]
  },
  {
   "cell_type": "markdown",
   "metadata": {},
   "source": [
    "### Jason-Like"
   ]
  },
  {
   "cell_type": "code",
   "execution_count": null,
   "metadata": {},
   "outputs": [],
   "source": [
    "ds_obs = xr.open_dataset(\n",
    "    \"/Volumes/EMANS_HDD/data/dc20a_osse/test/preprocess/osse_2020a_natl60/2020a_SSH_mapping_NATL60_jason1.nc\"\n",
    ")\n",
    "\n",
    "\n",
    "ds_obs = ds_obs.sortby(\"time\")\n",
    "\n",
    "ds_obs = correct_coordinate_labels(ds_obs)\n",
    "\n",
    "# ds_obs = ds_obs.rename({\"ssh\": \"ssh_obs\"})\n",
    "ds_obs"
   ]
  },
  {
   "cell_type": "code",
   "execution_count": null,
   "metadata": {},
   "outputs": [],
   "source": [
    "central_date = np.datetime64(\"2012-10-22\")\n",
    "num_days = 100\n",
    "delta_t = np.timedelta64(num_days, \"D\")\n",
    "\n",
    "count_num_obs(ds_obs.ssh_obs, central_date, delta_t)"
   ]
  },
  {
   "cell_type": "code",
   "execution_count": null,
   "metadata": {},
   "outputs": [],
   "source": [
    "central_date = np.datetime64(\"2012-10-22\")\n",
    "num_days = 1\n",
    "delta_t = np.timedelta64(num_days, \"D\")\n",
    "variable = \"ssh_obs\"\n",
    "\n",
    "plot_obs_demo(ds_obs, central_date, delta_t, variable, verbose=True)"
   ]
  },
  {
   "cell_type": "markdown",
   "metadata": {},
   "source": [
    "#### Gridded Dataset"
   ]
  },
  {
   "cell_type": "code",
   "execution_count": null,
   "metadata": {},
   "outputs": [],
   "source": []
  },
  {
   "cell_type": "code",
   "execution_count": null,
   "metadata": {},
   "outputs": [],
   "source": [
    "ds_obs_binned = bin_observations(ds_obs, ds_field, \"ssh_obs\", np.timedelta64(12, \"h\"))"
   ]
  },
  {
   "cell_type": "code",
   "execution_count": null,
   "metadata": {},
   "outputs": [],
   "source": [
    "ds_obs_binned.isel(time=10).ssh_obs.plot()"
   ]
  },
  {
   "cell_type": "markdown",
   "metadata": {},
   "source": [
    "#### Movie (GIF)"
   ]
  },
  {
   "cell_type": "code",
   "execution_count": null,
   "metadata": {},
   "outputs": [],
   "source": [
    "create_movie(ds_obs_binned.ssh_obs, \"ssh_jason1\", framedim=\"time\", cmap=\"viridis\")"
   ]
  },
  {
   "cell_type": "code",
   "execution_count": null,
   "metadata": {},
   "outputs": [],
   "source": []
  },
  {
   "cell_type": "markdown",
   "metadata": {},
   "source": [
    "### NADIR-Like"
   ]
  },
  {
   "cell_type": "code",
   "execution_count": null,
   "metadata": {},
   "outputs": [],
   "source": [
    "ds_files = [\n",
    "    \"/Volumes/EMANS_HDD/data/dc20a_osse/test/preprocess/osse_2020a_natl60/2020a_SSH_mapping_NATL60_jason1.nc\",\n",
    "    \"/Volumes/EMANS_HDD/data/dc20a_osse/test/preprocess/osse_2020a_natl60/2020a_SSH_mapping_NATL60_envisat.nc\",\n",
    "    \"/Volumes/EMANS_HDD/data/dc20a_osse/test/preprocess/osse_2020a_natl60/2020a_SSH_mapping_NATL60_geosat2.nc\",\n",
    "    \"/Volumes/EMANS_HDD/data/dc20a_osse/test/preprocess/osse_2020a_natl60/2020a_SSH_mapping_NATL60_topex-poseidon_interleaved.nc\",\n",
    "]\n",
    "\n",
    "ds_obs = xr.open_mfdataset(\n",
    "    ds_files,\n",
    "    combine=\"nested\",\n",
    "    concat_dim=\"time\",\n",
    "    parallel=True,\n",
    "    preprocess=None,\n",
    "    engine=\"netcdf4\",\n",
    ")\n",
    "\n",
    "\n",
    "ds_obs = ds_obs.sortby(\"time\")\n",
    "\n",
    "ds_obs = correct_coordinate_labels(ds_obs)\n",
    "\n",
    "# ds_obs = ds_obs.rename({\"ssh\": \"ssh_obs\"})\n",
    "ds_obs"
   ]
  },
  {
   "cell_type": "code",
   "execution_count": null,
   "metadata": {},
   "outputs": [],
   "source": [
    "central_date = np.datetime64(\"2012-10-22\")\n",
    "num_days = 1\n",
    "\n",
    "delta_t = np.timedelta64(num_days, \"D\")\n",
    "\n",
    "count_num_obs(ds_obs.ssh_obs, central_date, delta_t)"
   ]
  },
  {
   "cell_type": "markdown",
   "metadata": {},
   "source": [
    "#### Demo"
   ]
  },
  {
   "cell_type": "code",
   "execution_count": null,
   "metadata": {},
   "outputs": [],
   "source": [
    "central_date = np.datetime64(\"2012-10-22\")\n",
    "num_days = 10\n",
    "delta_t = np.timedelta64(num_days, \"D\")\n",
    "variable = \"ssh_obs\"\n",
    "\n",
    "plot_obs_demo(ds_obs, central_date, delta_t, variable, verbose=True)"
   ]
  },
  {
   "cell_type": "markdown",
   "metadata": {},
   "source": [
    "#### Gridded Dataset"
   ]
  },
  {
   "cell_type": "code",
   "execution_count": null,
   "metadata": {},
   "outputs": [],
   "source": [
    "ds_obs_binned = bin_observations(ds_obs, ds_field, \"ssh_obs\", np.timedelta64(12, \"h\"))"
   ]
  },
  {
   "cell_type": "code",
   "execution_count": null,
   "metadata": {},
   "outputs": [],
   "source": [
    "ds_obs_binned.isel(time=10).ssh_obs.plot()"
   ]
  },
  {
   "cell_type": "markdown",
   "metadata": {},
   "source": [
    "#### Movie (GIF)"
   ]
  },
  {
   "cell_type": "code",
   "execution_count": null,
   "metadata": {},
   "outputs": [],
   "source": [
    "create_movie(ds_obs_binned.ssh_obs, \"ssh_nadir4\", framedim=\"time\", cmap=\"viridis\")"
   ]
  },
  {
   "cell_type": "markdown",
   "metadata": {},
   "source": [
    "### SWOT 1 + NADIR 1"
   ]
  },
  {
   "cell_type": "code",
   "execution_count": null,
   "metadata": {},
   "outputs": [],
   "source": [
    "ds_files = [\n",
    "    # \"/Volumes/EMANS_HDD/data/dc20a_osse/test/ml/nadir1.nc\",\n",
    "    # \"/Volumes/EMANS_HDD/data/dc20a_osse/test/ml/nadir4.nc\",\n",
    "    # \"/Volumes/EMANS_HDD/data/dc20a_osse/test/ml/swot1nadir1.nc\",\n",
    "    \"/Volumes/EMANS_HDD/data/dc20a_osse/test/ml/swot1nadir5.nc\",\n",
    "]\n",
    "\n",
    "ds_obs = xr.open_mfdataset(\n",
    "    ds_files,\n",
    "    combine=\"nested\",\n",
    "    concat_dim=\"time\",\n",
    "    parallel=True,\n",
    "    preprocess=None,\n",
    "    engine=\"netcdf4\",\n",
    ")\n",
    "\n",
    "\n",
    "ds_obs = ds_obs.sortby(\"time\")\n",
    "\n",
    "ds_obs = correct_coordinate_labels(ds_obs)\n",
    "\n",
    "# ds_obs = ds_obs.rename({\"ssh\": \"ssh_obs\"})\n",
    "ds_obs"
   ]
  },
  {
   "cell_type": "code",
   "execution_count": null,
   "metadata": {},
   "outputs": [],
   "source": [
    "central_date = np.datetime64(\"2012-10-22\")\n",
    "num_days = 1\n",
    "\n",
    "delta_t = np.timedelta64(num_days, \"D\")\n",
    "\n",
    "count_num_obs(ds_obs.ssh_model, central_date, delta_t)"
   ]
  },
  {
   "cell_type": "markdown",
   "metadata": {},
   "source": [
    "#### Demo"
   ]
  },
  {
   "cell_type": "code",
   "execution_count": null,
   "metadata": {},
   "outputs": [],
   "source": [
    "central_date = np.datetime64(\"2012-10-22\")\n",
    "num_days = 5\n",
    "delta_t = np.timedelta64(num_days, \"D\")\n",
    "variable = \"ssh_model\"\n",
    "\n",
    "plot_obs_demo(ds_obs, central_date, delta_t, variable, verbose=True)"
   ]
  },
  {
   "cell_type": "markdown",
   "metadata": {},
   "source": [
    "#### Gridded Dataset"
   ]
  },
  {
   "cell_type": "code",
   "execution_count": null,
   "metadata": {},
   "outputs": [],
   "source": [
    "import pyinterp\n",
    "from tqdm.notebook import tqdm\n",
    "\n",
    "\n",
    "def bin_observations_swot(\n",
    "    ds_obs: xr.Dataset, ds_ref: xr.Dataset, variable: str, time_buffer: np.timedelta64\n",
    ") -> xr.Dataset:\n",
    "\n",
    "    # create binning object\n",
    "    binning = pyinterp.Binning2D(\n",
    "        pyinterp.Axis(ds_ref.longitude.values), pyinterp.Axis(ds_ref.latitude.values)\n",
    "    )\n",
    "\n",
    "    # initialize datasets\n",
    "    ds_obs_binned = []\n",
    "\n",
    "    for t in tqdm(ds_ref.time):\n",
    "        binning.clear()\n",
    "\n",
    "        # get all indices within timestamp + buffer\n",
    "        # ids = np.where((np.abs(ds_obs.time.values - t.values) < 2.0 * time_buffer))[0]\n",
    "        tds = ds_obs.isel(\n",
    "            time=pd.to_datetime(ds_obs.time.values).date\n",
    "            == pd.to_datetime(t.values).date()\n",
    "        )\n",
    "\n",
    "        # extract lat,lon,values\n",
    "        values = np.ravel(ds_obs[variable].values)\n",
    "        lons = np.ravel(ds_obs.longitude.values) - 360\n",
    "        lats = np.ravel(ds_obs.latitude.values)\n",
    "\n",
    "        # mask all nans\n",
    "        msk = np.isfinite(values)\n",
    "\n",
    "        binning.push(lons[msk], lats[msk], values[msk])\n",
    "\n",
    "        gridded = (\n",
    "            (\"time\", \"latitude\", \"longitude\"),\n",
    "            binning.variable(\"mean\").T[None, ...],\n",
    "        )\n",
    "\n",
    "        # create gridded dataset\n",
    "        ds_obs_binned.append(\n",
    "            xr.Dataset(\n",
    "                {variable: gridded},\n",
    "                {\n",
    "                    \"time\": [t.values],\n",
    "                    \"latitude\": np.array(binning.y),\n",
    "                    \"longitude\": np.array(binning.x),\n",
    "                },\n",
    "            ).astype(\"float32\", casting=\"same_kind\")\n",
    "        )\n",
    "\n",
    "    # concatenate final dataset\n",
    "    ds_obs_binned = xr.concat(ds_obs_binned, dim=\"time\")\n",
    "    return ds_obs_binned"
   ]
  },
  {
   "cell_type": "code",
   "execution_count": null,
   "metadata": {},
   "outputs": [],
   "source": [
    "ds_obs_binned = bin_observations_swot(\n",
    "    ds_obs, ds_field, \"ssh_model\", np.timedelta64(12, \"h\")\n",
    ")"
   ]
  },
  {
   "cell_type": "code",
   "execution_count": null,
   "metadata": {},
   "outputs": [],
   "source": [
    "# ds_obs_binned.isel(time=0).values"
   ]
  },
  {
   "cell_type": "code",
   "execution_count": null,
   "metadata": {},
   "outputs": [],
   "source": [
    "ds_obs_binned.isel(time=0).ssh_model.plot()"
   ]
  },
  {
   "cell_type": "markdown",
   "metadata": {},
   "source": [
    "#### Movie (GIF)"
   ]
  },
  {
   "cell_type": "code",
   "execution_count": null,
   "metadata": {},
   "outputs": [],
   "source": [
    "create_movie(\n",
    "    ds_obs_binned.ssh_model, \"ssh_swot1nadir5\", framedim=\"time\", cmap=\"viridis\"\n",
    ")"
   ]
  },
  {
   "cell_type": "code",
   "execution_count": null,
   "metadata": {},
   "outputs": [],
   "source": []
  }
 ],
 "metadata": {
  "kernelspec": {
   "display_name": "Python 3.9.13 ('torch_py39')",
   "language": "python",
   "name": "python3"
  },
  "language_info": {
   "codemirror_mode": {
    "name": "ipython",
    "version": 3
   },
   "file_extension": ".py",
   "mimetype": "text/x-python",
   "name": "python",
   "nbconvert_exporter": "python",
   "pygments_lexer": "ipython3",
   "version": "3.9.13"
  },
  "vscode": {
   "interpreter": {
    "hash": "ba845ae818c285ca2fe9389acfa2d2da9f6f964e42b65478d402ad448a072775"
   }
  }
 },
 "nbformat": 4,
 "nbformat_minor": 2
}
