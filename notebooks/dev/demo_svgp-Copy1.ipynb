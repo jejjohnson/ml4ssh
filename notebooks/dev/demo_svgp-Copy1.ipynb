{
 "cells": [
  {
   "cell_type": "code",
   "execution_count": null,
   "id": "c8a2ee9e-04cc-4c5e-a3eb-4742a7ad7cd1",
   "metadata": {
    "pycharm": {
     "name": "#%%\n"
    }
   },
   "outputs": [],
   "source": [
    "import sys, os\n",
    "from pyprojroot import here\n",
    "\n",
    "\n",
    "# spyder up to find the root\n",
    "\n",
    "root = here(project_files=[\".root\"])\n",
    "local = here(project_files=[\".local\"])\n",
    "\n",
    "# append to path\n",
    "sys.path.append(str(root))\n",
    "sys.path.append(str(local))"
   ]
  },
  {
   "cell_type": "code",
   "execution_count": null,
   "id": "4e08b309-df46-4190-96f7-914907b8b422",
   "metadata": {
    "pycharm": {
     "name": "#%%\n"
    }
   },
   "outputs": [],
   "source": [
    "from pathlib import Path\n",
    "import argparse\n",
    "import wandb\n",
    "import tqdm\n",
    "import numpy as np\n",
    "import matplotlib.pyplot as plt\n",
    "import seaborn as sns\n",
    "\n",
    "sns.reset_defaults()\n",
    "sns.set_context(context=\"talk\", font_scale=0.7)\n",
    "# import hvplot.xarray\n",
    "\n",
    "import tensorflow as tf\n",
    "import tensorflow_datasets as tfd\n",
    "import jax\n",
    "import jax.random as jrandom\n",
    "import jax.numpy as jnp\n",
    "import equinox as eqx\n",
    "from ml4ssh._src.io import load_object, save_object\n",
    "from ml4ssh._src.viz import create_movie, plot_psd_spectrum, plot_psd_score\n",
    "from ml4ssh._src.utils import get_meshgrid, calculate_gradient, calculate_laplacian\n",
    "\n",
    "# import parsers\n",
    "from data import get_data_args, load_data\n",
    "from preprocess import add_preprocess_args, preprocess_data\n",
    "from features import add_feature_args, feature_transform\n",
    "from split import add_split_args, split_data\n",
    "from models.gp_tf import add_model_args, get_likelihood, get_kernel, get_inducing_points\n",
    "from loss import add_loss_args, get_loss_fn\n",
    "from logger import add_logger_args\n",
    "from optimizer import add_optimizer_args, get_optimizer\n",
    "from postprocess import add_postprocess_args, postprocess_data, generate_eval_data\n",
    "from evaluation import add_eval_args, get_rmse_metrics, get_psd_metrics\n",
    "from smoke_test import add_winter_smoke_test_args, add_january_smoke_test_args\n",
    "\n",
    "%matplotlib inline\n",
    "%load_ext autoreload\n",
    "%autoreload 2"
   ]
  },
  {
   "cell_type": "markdown",
   "id": "305ed40f-5926-41e3-8f76-22d50df60c1e",
   "metadata": {
    "pycharm": {
     "name": "#%% md\n"
    }
   },
   "source": [
    "### Arguments"
   ]
  },
  {
   "cell_type": "code",
   "execution_count": null,
   "id": "ad519f7b-be94-419e-ba50-f14958c2b2a8",
   "metadata": {
    "pycharm": {
     "name": "#%%\n"
    }
   },
   "outputs": [],
   "source": [
    "parser = argparse.ArgumentParser()\n",
    "\n",
    "# logger\n",
    "parser = add_logger_args(parser)\n",
    "\n",
    "# data\n",
    "parser = get_data_args(parser)\n",
    "\n",
    "# preprocessing, feature transform, split\n",
    "parser = add_preprocess_args(parser)\n",
    "parser = add_feature_args(parser)\n",
    "parser = add_split_args(parser)\n",
    "\n",
    "# model, optimizer, loss\n",
    "parser = add_model_args(parser)\n",
    "parser = add_optimizer_args(parser)\n",
    "parser = add_loss_args(parser)\n",
    "\n",
    "# postprocessing, metrics\n",
    "parser = add_postprocess_args(parser)\n",
    "parser = add_eval_args(parser)\n",
    "\n",
    "# parse args\n",
    "args = parser.parse_args([])\n",
    "\n",
    "# # jeanzay specific\n",
    "# args.train_data_dir = \"/gpfsdswork/projects/rech/cli/uvo53rl/data/data_challenges/ssh_mapping_2021/train/\"\n",
    "# args.ref_data_dir = \"/gpfsdswork/projects/rech/cli/uvo53rl/data/data_challenges/ssh_mapping_2021/ref/\"\n",
    "# args.test_data_dir = \"/gpfsdswork/projects/rech/cli/uvo53rl/data/data_challenges/ssh_mapping_2021/test/\"\n",
    "# args.log_dir = \"/gpfswork/rech/cli/uvo53rl/logs\"\n",
    "\n",
    "# subset\n",
    "args.feature_scaler = \"standard\"\n",
    "args.model = \"svgp\"\n",
    "args.smoke_test = False\n",
    "args.wandb_mode = \"disabled\"\n",
    "args.wandb_resume = True\n",
    "args.id = None  # \"2uuq7tks\"\n",
    "args.batch_size = 2048\n",
    "args.n_epochs = 10\n",
    "\n",
    "args = add_january_smoke_test_args(args)\n",
    "# args = add_winter_smoke_test_args(args)"
   ]
  },
  {
   "cell_type": "markdown",
   "id": "2816cbb2-1a8f-431d-a12b-d0e4f008b7f5",
   "metadata": {
    "pycharm": {
     "name": "#%% md\n"
    }
   },
   "source": [
    "### Logger\n"
   ]
  },
  {
   "cell_type": "code",
   "execution_count": null,
   "id": "7733fbe0-fb43-4eda-af8e-50f00e380ec1",
   "metadata": {
    "pycharm": {
     "name": "#%%\n"
    }
   },
   "outputs": [],
   "source": [
    "# init wandb logger\n",
    "wandb.init(\n",
    "    id=args.id,\n",
    "    config=args,\n",
    "    mode=args.wandb_mode,\n",
    "    project=args.project,\n",
    "    entity=args.entity,\n",
    "    dir=args.log_dir,\n",
    "    resume=args.wandb_resume,\n",
    ")"
   ]
  },
  {
   "cell_type": "markdown",
   "id": "dce2df15-f422-406b-8e53-64edf65f4172",
   "metadata": {
    "pycharm": {
     "name": "#%% md\n"
    }
   },
   "source": [
    "### Load Data"
   ]
  },
  {
   "cell_type": "code",
   "execution_count": null,
   "id": "74eae4be-332c-4a7a-ad1c-d6055bf6cea6",
   "metadata": {
    "pycharm": {
     "name": "#%%\n"
    }
   },
   "outputs": [],
   "source": [
    "%%time\n",
    "\n",
    "# load data\n",
    "data = load_data(args)\n",
    "\n",
    "# preprocess data\n",
    "data = preprocess_data(data, args)\n",
    "\n",
    "# feature transformation\n",
    "data, scaler = feature_transform(data, args)"
   ]
  },
  {
   "cell_type": "code",
   "execution_count": null,
   "id": "7fd13e5c-5611-45db-8c6b-d168a2a878af",
   "metadata": {
    "pycharm": {
     "name": "#%%\n"
    }
   },
   "outputs": [],
   "source": [
    "data[data.attrs[\"input_cols\"]].head()"
   ]
  },
  {
   "cell_type": "code",
   "execution_count": null,
   "id": "db36ee78-49b1-49c9-933a-cc63b04c9403",
   "metadata": {
    "pycharm": {
     "name": "#%%\n"
    }
   },
   "outputs": [],
   "source": [
    "data[data.attrs[\"input_cols\"]].describe()"
   ]
  },
  {
   "cell_type": "code",
   "execution_count": null,
   "id": "7386abc3-3927-4ae3-8eb8-cf0ac87426a1",
   "metadata": {
    "pycharm": {
     "name": "#%%\n"
    }
   },
   "outputs": [],
   "source": [
    "%%time\n",
    "\n",
    "\n",
    "# split data\n",
    "xtrain, ytrain, xvalid, yvalid = split_data(data, args)\n",
    "\n",
    "args.in_dim = xtrain.shape[-1]\n",
    "args.n_train = xtrain.shape[0]\n",
    "args.n_valid = xvalid.shape[0]\n",
    "\n",
    "print(args.n_train)\n",
    "# if args.smoke_test:\n",
    "\n",
    "rng = np.random.RandomState(args.split_seed)\n",
    "idx = rng.choice(np.arange(args.n_train), size=2_000)\n",
    "xtrain = xtrain[idx]\n",
    "ytrain = ytrain[idx]\n",
    "\n",
    "# rng = np.random.RandomState(args.split_seed+10)\n",
    "# idx = rng.choice(np.arange(args.n_valid), size=1_000)\n",
    "# xvalid = xvalid[idx]\n",
    "# yvalid = yvalid[idx]\n",
    "\n",
    "\n",
    "wandb.config.update(\n",
    "    {\n",
    "        \"in_dim\": args.in_dim,\n",
    "        \"n_train\": args.n_train,\n",
    "        \"n_valid\": args.n_valid,\n",
    "    }\n",
    ")"
   ]
  },
  {
   "cell_type": "code",
   "execution_count": null,
   "id": "c169bc3e-4352-4b51-88b5-7d08676a8c6c",
   "metadata": {
    "pycharm": {
     "name": "#%%\n"
    }
   },
   "outputs": [],
   "source": [
    "xtrain.shape"
   ]
  },
  {
   "cell_type": "markdown",
   "id": "ef39f5ec-1066-467c-b4ba-d205adc4fba2",
   "metadata": {
    "pycharm": {
     "name": "#%% md\n"
    }
   },
   "source": [
    "## Model - Stochastic Variational GP"
   ]
  },
  {
   "cell_type": "code",
   "execution_count": null,
   "id": "e71cdd9a-be48-405e-a2ea-cd4e8d6b55a3",
   "metadata": {
    "pycharm": {
     "name": "#%%\n"
    }
   },
   "outputs": [],
   "source": [
    "import gpflow\n",
    "import gpflux\n",
    "import numpy as np\n",
    "from gpflow.utilities import print_summary\n",
    "\n",
    "# # Ensure TF does not see GPU and grab all GPU memory.\n",
    "import tensorflow as tf\n",
    "\n",
    "tf.config.set_visible_devices([], device_type=\"GPU\")"
   ]
  },
  {
   "cell_type": "code",
   "execution_count": null,
   "id": "39fc5bcf-f260-4d62-bb85-7ba3ef796b98",
   "metadata": {
    "pycharm": {
     "name": "#%%\n"
    }
   },
   "outputs": [],
   "source": [
    "from scipy.cluster.vq import kmeans2"
   ]
  },
  {
   "cell_type": "code",
   "execution_count": null,
   "id": "74952440-7e2f-4d65-8d83-5be4ee14b533",
   "metadata": {
    "pycharm": {
     "name": "#%%\n"
    }
   },
   "outputs": [],
   "source": [
    "data_train = (xtrain.astype(np.float64), ytrain.astype(np.float64))"
   ]
  },
  {
   "cell_type": "code",
   "execution_count": null,
   "id": "f9d910f7-9642-4253-8f57-0b20415728b2",
   "metadata": {
    "pycharm": {
     "name": "#%%\n"
    }
   },
   "outputs": [],
   "source": [
    "# get kernel\n",
    "kernel = get_kernel(args)\n",
    "# get likelihood\n",
    "likelihood = get_likelihood(args)\n",
    "# get inducing points\n",
    "Z = get_inducing_points(xtrain, args)"
   ]
  },
  {
   "cell_type": "code",
   "execution_count": null,
   "id": "fc9f0a88-5a3b-44d3-a917-882fc1700b15",
   "metadata": {
    "pycharm": {
     "name": "#%%\n"
    }
   },
   "outputs": [],
   "source": [
    "def make_svgp_model(n_inducing: int = 100):\n",
    "    # kernel function\n",
    "    lengthscales = [1.0, 1.0, 7.0]\n",
    "    kernel = gpflow.kernels.SquaredExponential(\n",
    "        lengthscales=lengthscales,\n",
    "    )\n",
    "\n",
    "    # likelihood\n",
    "    noise = 0.01\n",
    "    likelihood = gpflow.likelihoods.Gaussian(variance=noise)\n",
    "\n",
    "    # inducing points\n",
    "    Z = kmeans2(xtrain, n_inducing, minit=\"points\")[0]\n",
    "\n",
    "    num_data = xtrain.shape[0]\n",
    "\n",
    "    # create gp model\n",
    "    model = gpflow.models.SVGP(\n",
    "        kernel, likelihood, Z.astype(np.float64), num_data=num_data\n",
    "    )\n",
    "\n",
    "    return model"
   ]
  },
  {
   "cell_type": "code",
   "execution_count": null,
   "id": "b1c29a5e-adbb-4e35-a3e8-7e1e4a1f8c9f",
   "metadata": {
    "pycharm": {
     "name": "#%%\n"
    }
   },
   "outputs": [],
   "source": [
    "# kernel function\n",
    "lengthscales = [1.0, 1.0, 7.0]\n",
    "kernel = gpflow.kernels.SquaredExponential(\n",
    "    lengthscales=lengthscales,\n",
    ")\n",
    "\n",
    "# likelihood\n",
    "noise = 0.01\n",
    "likelihood = gpflow.likelihoods.Gaussian(variance=noise)"
   ]
  },
  {
   "cell_type": "code",
   "execution_count": null,
   "id": "c3ea8b5a-3084-450a-993f-1d2e8cc9ad70",
   "metadata": {
    "pycharm": {
     "name": "#%%\n"
    }
   },
   "outputs": [],
   "source": [
    "%%time\n",
    "\n",
    "# inducing points\n",
    "n_inducing = 100\n",
    "Z = kmeans2(xtrain, n_inducing, minit=\"points\")[0]"
   ]
  },
  {
   "cell_type": "code",
   "execution_count": null,
   "id": "d57fd112-0c59-4762-8b7a-fe5395907f91",
   "metadata": {
    "pycharm": {
     "name": "#%%\n"
    }
   },
   "outputs": [],
   "source": [
    "num_data = xtrain.shape[0]\n",
    "\n",
    "# create gp model\n",
    "model = gpflow.models.SVGP(kernel, likelihood, Z.astype(np.float64), num_data=num_data)"
   ]
  },
  {
   "cell_type": "code",
   "execution_count": null,
   "id": "14ade9a0-976d-4d5d-9d3e-218edf3251d6",
   "metadata": {
    "pycharm": {
     "name": "#%%\n"
    }
   },
   "outputs": [],
   "source": [
    "# don't train the inducing inputs\n",
    "gpflow.set_trainable(model.inducing_variable, False)"
   ]
  },
  {
   "cell_type": "code",
   "execution_count": null,
   "id": "32d978e4-a5ce-478d-a246-a807f7c307a9",
   "metadata": {
    "pycharm": {
     "name": "#%%\n"
    }
   },
   "outputs": [],
   "source": [
    "# compile\n",
    "elbo = tf.function(model.elbo)"
   ]
  },
  {
   "cell_type": "code",
   "execution_count": null,
   "id": "09b7d080-c083-4bad-aba2-db11d2ba0457",
   "metadata": {
    "pycharm": {
     "name": "#%%\n"
    }
   },
   "outputs": [],
   "source": [
    "# tensor_data = tuple(map(tf.convert_to_tensor, data_train))\n",
    "# elbo(tensor_data)  # run it once to trace & compile"
   ]
  },
  {
   "cell_type": "code",
   "execution_count": null,
   "id": "249dd35c-fd55-41ce-ac1e-03e4f4abd8d6",
   "metadata": {
    "pycharm": {
     "name": "#%%\n"
    }
   },
   "outputs": [],
   "source": [
    "# %%timeit\n",
    "# elbo(tensor_data)"
   ]
  },
  {
   "cell_type": "code",
   "execution_count": null,
   "id": "92d24845-390d-4a25-b11e-f890a316d4cc",
   "metadata": {
    "pycharm": {
     "name": "#%%\n"
    }
   },
   "outputs": [],
   "source": [
    "# Make dataloader, set batch size and prefetch buffer:\n",
    "prefetch_buffer = 5\n",
    "batch_size = 100"
   ]
  },
  {
   "cell_type": "code",
   "execution_count": null,
   "id": "88236593-ed23-4553-bd61-ef7e7c0e4d87",
   "metadata": {
    "pycharm": {
     "name": "#%%\n"
    }
   },
   "outputs": [],
   "source": [
    "def make_ds(batch_size: int = 100, shuffle: bool = True):\n",
    "    ds = tf.data.Dataset.from_tensor_slices(\n",
    "        (xtrain.astype(np.float64), ytrain.astype(np.float64))\n",
    "    )\n",
    "\n",
    "    ds = ds.prefetch(prefetch_buffer)\n",
    "    ds = ds.repeat()\n",
    "    if shuffle:\n",
    "        ds = ds.shuffle(buffer_size=10 * batch_size)\n",
    "    ds = ds.batch(batch_size)\n",
    "\n",
    "    return iter(ds)\n",
    "\n",
    "\n",
    "ds_train = make_ds()"
   ]
  },
  {
   "cell_type": "code",
   "execution_count": null,
   "id": "b2414fb2-30dc-4426-bacf-710542a43e5d",
   "metadata": {
    "pycharm": {
     "name": "#%%\n"
    }
   },
   "outputs": [],
   "source": [
    "elbo(next(ds_train))"
   ]
  },
  {
   "cell_type": "code",
   "execution_count": null,
   "id": "50a3a7ff-7ab8-4a65-b74c-9559b250b5ca",
   "metadata": {
    "pycharm": {
     "name": "#%%\n"
    }
   },
   "outputs": [],
   "source": [
    "%%timeit\n",
    "elbo(next(ds_train))"
   ]
  },
  {
   "cell_type": "code",
   "execution_count": null,
   "id": "c6ba6093-88f1-46f5-a99e-2b9e6afd6c63",
   "metadata": {
    "pycharm": {
     "name": "#%%\n"
    }
   },
   "outputs": [],
   "source": [
    "from tqdm.notebook import trange"
   ]
  },
  {
   "cell_type": "code",
   "execution_count": null,
   "id": "ea7978f3-4c59-4f4e-b170-8b13853d012a",
   "metadata": {
    "pycharm": {
     "name": "#%%\n"
    }
   },
   "outputs": [],
   "source": [
    "losses = {}"
   ]
  },
  {
   "cell_type": "code",
   "execution_count": null,
   "id": "85cb2ac0-1774-439f-997f-4ec3d1323a6d",
   "metadata": {
    "pycharm": {
     "name": "#%%\n"
    }
   },
   "outputs": [],
   "source": [
    "# make dataset\n",
    "ds_train = make_ds()\n",
    "\n",
    "# make gp model\n",
    "n_inducing = 100\n",
    "model = make_svgp_model(n_inducing)\n",
    "# don't train the inducing inputs\n",
    "gpflow.set_trainable(model.inducing_variable, False)\n",
    "\n",
    "\n",
    "# Create an Adam Optimizer\n",
    "n_iterations = 10_000\n",
    "losses[\"standard\"] = []\n",
    "optimizer = tf.optimizers.Adam()\n",
    "\n",
    "# make training loss\n",
    "training_loss = model.training_loss_closure(ds_train, compile=True)\n",
    "\n",
    "\n",
    "@tf.function\n",
    "def optimization_step():\n",
    "    optimizer.minimize(training_loss, model.trainable_variables)\n",
    "\n",
    "\n",
    "with trange(n_iterations) as pbar:\n",
    "    for step in pbar:\n",
    "        optimization_step()\n",
    "        elbo = -training_loss().numpy()\n",
    "        losses[\"standard\"].append(elbo)\n",
    "\n",
    "        if step % 10 == 0:\n",
    "            pbar.set_description(f\"Loss (ELBO): {elbo:.4e}\")"
   ]
  },
  {
   "cell_type": "code",
   "execution_count": null,
   "id": "3341dc7f-e574-4c26-9987-dc62b88d157b",
   "metadata": {
    "pycharm": {
     "name": "#%%\n"
    }
   },
   "outputs": [],
   "source": [
    "fig, ax = plt.subplots()\n",
    "\n",
    "ax.plot(losses[\"standard\"], label=\"Training Loss (Standard)\")\n",
    "ax.set(xlabel=\"Iterations\", ylabel=\"ELBO\")\n",
    "plt.legend()\n",
    "plt.show()"
   ]
  },
  {
   "cell_type": "code",
   "execution_count": null,
   "id": "1127003c-b427-4ac0-a9b3-315f5518ea0a",
   "metadata": {
    "pycharm": {
     "name": "#%%\n"
    }
   },
   "outputs": [],
   "source": [
    "print_summary(model)"
   ]
  },
  {
   "cell_type": "markdown",
   "id": "0d79c857-3338-473a-966a-180acefefa80",
   "metadata": {
    "pycharm": {
     "name": "#%% md\n"
    }
   },
   "source": [
    "## Natural Gradients"
   ]
  },
  {
   "cell_type": "code",
   "execution_count": null,
   "id": "cacbe85c-0bca-4b46-bbca-f0981a4f35e8",
   "metadata": {
    "pycharm": {
     "name": "#%%\n"
    }
   },
   "outputs": [],
   "source": [
    "from gpflow import set_trainable\n",
    "from gpflow.optimizers import NaturalGradient\n",
    "\n",
    "# make dataset\n",
    "ds_train = make_ds()\n",
    "\n",
    "# make gp model\n",
    "n_inducing = 100\n",
    "model = make_svgp_model(n_inducing)\n",
    "# don't train the inducing inputs\n",
    "gpflow.set_trainable(model.inducing_variable, False)\n",
    "\n",
    "\n",
    "# Create an Adam Optimizer\n",
    "n_iterations = 10_000\n",
    "learning_rate = 1e-3\n",
    "\n",
    "ordinary_adam_opt = tf.optimizers.Adam(learning_rate)\n",
    "\n",
    "\n",
    "# NatGrads and Adam for SVGP\n",
    "# Stop Adam from optimizing the variational parameters\n",
    "set_trainable(model.q_mu, False)\n",
    "set_trainable(model.q_sqrt, False)\n",
    "\n",
    "# Create the optimize_tensors for SVGP\n",
    "natgrad_adam_opt = tf.optimizers.Adam(learning_rate)\n",
    "\n",
    "natgrad_opt = NaturalGradient(gamma=0.1)\n",
    "variational_params = [(model.q_mu, model.q_sqrt)]\n",
    "\n",
    "\n",
    "# make training loss\n",
    "training_loss = model.training_loss_closure(ds_train, compile=True)"
   ]
  },
  {
   "cell_type": "code",
   "execution_count": null,
   "id": "06d9bfd2-29ae-4ad9-9c5c-659c2bc24a97",
   "metadata": {
    "pycharm": {
     "name": "#%%\n"
    }
   },
   "outputs": [],
   "source": [
    "losses[\"natgrad\"] = []\n",
    "\n",
    "\n",
    "@tf.function\n",
    "def optimization_step():\n",
    "    natgrad_adam_opt.minimize(training_loss, var_list=model.trainable_variables)\n",
    "\n",
    "\n",
    "@tf.function\n",
    "def natgrad_optimization_step():\n",
    "    natgrad_opt.minimize(training_loss, var_list=variational_params)\n",
    "\n",
    "\n",
    "with trange(n_iterations) as pbar:\n",
    "    for step in pbar:\n",
    "        optimization_step()\n",
    "        natgrad_optimization_step()\n",
    "        elbo = -training_loss().numpy()\n",
    "        losses[\"natgrad\"].append(elbo)\n",
    "\n",
    "        if step % 10 == 0:\n",
    "            pbar.set_description(f\"Loss (ELBO): {elbo:.4e}\")"
   ]
  },
  {
   "cell_type": "code",
   "execution_count": null,
   "id": "e3f11a00-a654-469a-ab13-984eec1787ca",
   "metadata": {
    "pycharm": {
     "name": "#%%\n"
    }
   },
   "outputs": [],
   "source": [
    "fig, ax = plt.subplots()\n",
    "\n",
    "ax.plot(losses[\"standard\"], label=\"Training Loss (Standard)\")\n",
    "ax.plot(losses[\"natgrad\"], label=\"Training Loss (NatGrad)\")\n",
    "ax.set(xlabel=\"Iterations\", ylabel=\"ELBO\", xscale=\"log\")\n",
    "plt.legend()\n",
    "plt.show()"
   ]
  },
  {
   "cell_type": "code",
   "execution_count": null,
   "id": "1dd47cb6-5676-4d5b-a387-868ee3e48ad4",
   "metadata": {
    "pycharm": {
     "name": "#%%\n"
    }
   },
   "outputs": [],
   "source": [
    "print_summary(model)"
   ]
  },
  {
   "cell_type": "code",
   "execution_count": null,
   "id": "f88e177a-892b-43b8-a0e2-ddd697bfdbad",
   "metadata": {
    "pycharm": {
     "name": "#%%\n"
    }
   },
   "outputs": [],
   "source": [
    "import tensorflow_datasets as tfd\n",
    "\n",
    "\n",
    "def predict_grid(gp_model, n_batches: int = 5_000):\n",
    "    # generate grid\n",
    "    df_grid = generate_eval_data(args)\n",
    "\n",
    "    # set input columns\n",
    "    df_pred = df_grid[df_grid.attrs[\"input_cols\"]].values\n",
    "\n",
    "    # create dataloader\n",
    "    ds_test = tf.data.Dataset.from_tensor_slices(df_pred).batch(n_batches)\n",
    "    n_iters = len(ds_test)\n",
    "    means, variances = [], []\n",
    "    ds_test = iter(ds_test)\n",
    "    with trange(n_iters) as pbar:\n",
    "        for i in pbar:\n",
    "            ix = next(ds_test)\n",
    "            # predict using GP\n",
    "            imean, ivar = gp_model.predict_f(ix)\n",
    "\n",
    "            # add stuff\n",
    "            means.append(imean)\n",
    "            variances.append(ivar)\n",
    "\n",
    "    mean = np.vstack(means)\n",
    "    variance = np.vstack(variances)\n",
    "\n",
    "    df_grid[\"pred\"] = mean\n",
    "    df_grid[\"variance\"] = variance\n",
    "\n",
    "    return df_grid"
   ]
  },
  {
   "cell_type": "code",
   "execution_count": null,
   "id": "54b7afff-747e-4f75-a020-eb6ca80d9bee",
   "metadata": {
    "pycharm": {
     "name": "#%%\n"
    }
   },
   "outputs": [],
   "source": [
    "# make predictions\n",
    "df_grid = predict_grid(model)\n",
    "\n",
    "# create OI\n",
    "ds_oi = postprocess_data(df_grid, args)"
   ]
  },
  {
   "cell_type": "markdown",
   "id": "671a4cfd-15ec-4812-82be-27d7748bf0c6",
   "metadata": {
    "pycharm": {
     "name": "#%% md\n"
    }
   },
   "source": [
    "### Metrics"
   ]
  },
  {
   "cell_type": "code",
   "execution_count": null,
   "id": "ea592896-57ab-4058-bebb-fd675c6afaf9",
   "metadata": {
    "pycharm": {
     "name": "#%%\n"
    }
   },
   "outputs": [],
   "source": [
    "%%time\n",
    "\n",
    "rmse_metrics = get_rmse_metrics(ds_oi, args)\n",
    "print(rmse_metrics)"
   ]
  },
  {
   "cell_type": "code",
   "execution_count": null,
   "id": "c84d5382-2d8a-41a8-b576-e26943b19aac",
   "metadata": {
    "pycharm": {
     "name": "#%%\n"
    }
   },
   "outputs": [],
   "source": [
    "psd_metrics = get_psd_metrics(ds_oi, args)\n",
    "print(psd_metrics)"
   ]
  },
  {
   "cell_type": "code",
   "execution_count": null,
   "id": "edf2e43c-4e20-4800-aa65-826baeeed91f",
   "metadata": {
    "pycharm": {
     "name": "#%%\n"
    }
   },
   "outputs": [],
   "source": [
    "fig, ax = plot_psd_spectrum(\n",
    "    psd_metrics.psd_study, psd_metrics.psd_ref, psd_metrics.wavenumber\n",
    ")\n",
    "fig, ax = plot_psd_score(\n",
    "    psd_metrics.psd_diff,\n",
    "    psd_metrics.psd_ref,\n",
    "    psd_metrics.wavenumber,\n",
    "    psd_metrics.resolved_scale,\n",
    ")"
   ]
  },
  {
   "cell_type": "markdown",
   "id": "a7fa6dbd-7699-41a8-aba6-eefff8bbc311",
   "metadata": {
    "pycharm": {
     "name": "#%% md\n"
    }
   },
   "source": [
    "### Viz"
   ]
  },
  {
   "cell_type": "code",
   "execution_count": null,
   "id": "ebe17c3d-ef51-4c54-8a87-1a2144ae7c5c",
   "metadata": {
    "pycharm": {
     "name": "#%%\n"
    }
   },
   "outputs": [],
   "source": [
    "# ds_oi.ssh.hvplot.image(\n",
    "#     x=\"longitude\",\n",
    "#     y=\"latitude\",\n",
    "#     groupby='time',\n",
    "#     # rasterize=True,\n",
    "#     width=500, height=400, cmap=\"viridis\")"
   ]
  },
  {
   "cell_type": "code",
   "execution_count": null,
   "id": "45cb024a-6821-4648-8004-221356ddf92b",
   "metadata": {
    "pycharm": {
     "name": "#%%\n"
    }
   },
   "outputs": [],
   "source": [
    "# ds_oi.variance.hvplot.image(\n",
    "#     x=\"longitude\",\n",
    "#     y=\"latitude\",\n",
    "#     # groupby='time',\n",
    "#     # rasterize=True,\n",
    "#     width=500, height=400, cmap=\"viridis\")"
   ]
  },
  {
   "cell_type": "code",
   "execution_count": null,
   "id": "aeb20015-65e5-4320-9407-8929c3f1e94c",
   "metadata": {
    "pycharm": {
     "name": "#%%\n"
    }
   },
   "outputs": [],
   "source": [
    "ds_oi[\"ssh_grad\"] = calculate_gradient(ds_oi[\"ssh\"], \"longitude\", \"latitude\")"
   ]
  },
  {
   "cell_type": "code",
   "execution_count": null,
   "id": "a6e3c05c-53ae-4e9f-9fb0-9cd140bacf97",
   "metadata": {
    "pycharm": {
     "name": "#%%\n"
    }
   },
   "outputs": [],
   "source": [
    "# ds_oi.ssh_grad.hvplot.image(\n",
    "#     x=\"longitude\",\n",
    "#     y=\"latitude\",\n",
    "#     # groupby='time',\n",
    "#     # rasterize=True,\n",
    "#     width=500, height=400, cmap=\"Spectral_r\")"
   ]
  },
  {
   "cell_type": "code",
   "execution_count": null,
   "id": "369e6680-7bfd-456e-82d5-f1870a492bdf",
   "metadata": {
    "pycharm": {
     "name": "#%%\n"
    }
   },
   "outputs": [],
   "source": [
    "ds_oi[\"ssh_lap\"] = calculate_laplacian(ds_oi[\"ssh\"], \"longitude\", \"latitude\")"
   ]
  },
  {
   "cell_type": "code",
   "execution_count": null,
   "id": "2bc60772-6f8e-456a-a0c5-c2e70a66f514",
   "metadata": {
    "pycharm": {
     "name": "#%%\n"
    }
   },
   "outputs": [],
   "source": [
    "# ds_oi.ssh_lap.hvplot.image(\n",
    "#     x=\"longitude\",\n",
    "#     y=\"latitude\",\n",
    "#     # groupby='time',\n",
    "#     # rasterize=True,\n",
    "#     width=500, height=400, cmap=\"RdBu_r\")"
   ]
  },
  {
   "cell_type": "code",
   "execution_count": null,
   "id": "31a16d59-b52f-42ab-84b0-2e6fdd9cf76a",
   "metadata": {
    "pycharm": {
     "name": "#%%\n"
    }
   },
   "outputs": [],
   "source": [
    "from gpflux.helpers import construct_basic_inducing_variables, construct_basic_kernel"
   ]
  },
  {
   "cell_type": "code",
   "execution_count": null,
   "id": "997f49e4-b162-4919-b645-4c6a043b383e",
   "metadata": {
    "pycharm": {
     "name": "#%%\n"
    }
   },
   "outputs": [],
   "source": [
    "num_data = xtrain.shape[0]\n",
    "input_dim = xtrain.shape[1]\n",
    "num_inducing = 100\n",
    "output_dim = ytrain.shape[1]\n",
    "\n",
    "\n",
    "# kernel\n",
    "kernel = construct_basic_kernel(gpflow.kernels.RBF(), output_dim)\n",
    "\n",
    "# inducing points layer\n",
    "inducing_vars = construct_basic_inducing_variables(num_inducing, input_dim, output_dim)\n",
    "\n",
    "# gp layer\n",
    "gp_layer = gpflux.layers.GPLayer(\n",
    "    kernel=kernel, inducing_variable=inducing_vars, num_data=num_data\n",
    ")\n",
    "\n",
    "# likelihood layer\n",
    "likelihood_layer = gpflux.layers.LikelihoodLayer(gpflow.likelihoods.Gaussian(0.1))\n",
    "\n",
    "\n",
    "# create DEEPGP\n",
    "gp_model = gpflux.models.DeepGP([gp_layer], likelihood_layer, input_dim=input_dim)"
   ]
  },
  {
   "cell_type": "code",
   "execution_count": null,
   "id": "de39bcd5-a3e4-4e8f-bbdd-e68d0175167e",
   "metadata": {
    "pycharm": {
     "name": "#%%\n"
    }
   },
   "outputs": [],
   "source": [
    "gpflux.__version__, tf.__version__, gpflow.__version__"
   ]
  },
  {
   "cell_type": "code",
   "execution_count": null,
   "id": "b98dce6f-62bf-473f-9635-febfd5616266",
   "metadata": {
    "pycharm": {
     "name": "#%%\n"
    }
   },
   "outputs": [],
   "source": [
    "optimizer = tf.optimizers.Adam()\n",
    "\n",
    "\n",
    "@tf.function(autograph=False)\n",
    "def objective_closure():\n",
    "    return -gp_model.elbo((xtrain, ytrain))\n",
    "\n",
    "\n",
    "@tf.function\n",
    "def step():\n",
    "    optimizer.minimize(objective_closure, gp_model.trainable_variables)\n",
    "\n",
    "\n",
    "tq = tqdm.tqdm(range(args.n_epochs))\n",
    "for i in tq:\n",
    "    step()"
   ]
  },
  {
   "cell_type": "code",
   "execution_count": null,
   "id": "3a247515-8e74-4738-b3ec-40e0e8aeb690",
   "metadata": {
    "pycharm": {
     "name": "#%%\n"
    }
   },
   "outputs": [],
   "source": [
    "gp_model.compile(tf.optimizers.Adam(0.01))"
   ]
  },
  {
   "cell_type": "code",
   "execution_count": null,
   "id": "ba443733-48f8-400d-aee6-05489941f0ad",
   "metadata": {
    "pycharm": {
     "name": "#%%\n"
    }
   },
   "outputs": [],
   "source": [
    "history = gp_model.fit({\"inputs\": xtrain, \"targets\": ytrain}, epochs=int(10), verbose=1)"
   ]
  },
  {
   "cell_type": "code",
   "execution_count": null,
   "id": "59496bc0-f85b-4b78-b5e7-a9805c120e4f",
   "metadata": {
    "pycharm": {
     "name": "#%%\n"
    }
   },
   "outputs": [],
   "source": [
    "model = single_layer_dgp.as_training_model()\n",
    "model.compile(tf.optimizers.Adam(0.01))"
   ]
  },
  {
   "cell_type": "code",
   "execution_count": null,
   "id": "a246b237-be8b-48a3-95ad-04aa31a90116",
   "metadata": {
    "pycharm": {
     "name": "#%%\n"
    }
   },
   "outputs": [],
   "source": [
    "num_data = xtrain.shape[0]\n",
    "num_inducing = 100\n",
    "output_dim = ytrain.shape[1]\n",
    "\n",
    "kernel = gpflow.kernels.SquaredExponential()\n",
    "z = np.linspace(xtrain.min(), xtrain.max(), num_inducing).reshape(-1, 1)\n",
    "inducing_variable = gpflow.inducing_variables.InducingPoints(z)\n",
    "\n",
    "# init gp layer\n",
    "gp_layer = gpflux.layers.GPLayer(\n",
    "    kernel, inducing_variable, num_data=num_data, num_latent_gps=output_dim\n",
    ")\n",
    "\n",
    "# likelihood layer\n",
    "likelihood_layer = gpflux.layers.LikelihoodLayer(gpflow.likelihoods.Gaussian(0.1))\n",
    "\n",
    "\n",
    "# create dgp\n",
    "single_layer_dgp = gpflux.models.DeepGP([gp_layer], likelihood_layer)"
   ]
  },
  {
   "cell_type": "code",
   "execution_count": null,
   "id": "16299a08-7d96-424d-bc03-14dd44422eba",
   "metadata": {
    "pycharm": {
     "name": "#%%\n"
    }
   },
   "outputs": [],
   "source": [
    "history = model.fit({\"inputs\": xtrain, \"targets\": ytrain}, epochs=int(10), verbose=1)"
   ]
  },
  {
   "cell_type": "code",
   "execution_count": null,
   "id": "e0601358-fdee-4ce6-82a8-7297c05c38f4",
   "metadata": {
    "pycharm": {
     "name": "#%%\n"
    }
   },
   "outputs": [],
   "source": [
    "plt.plot(history.history[\"loss\"])"
   ]
  },
  {
   "cell_type": "code",
   "execution_count": null,
   "id": "575288f1-04f7-4bd0-bc3f-cf11615ce605",
   "metadata": {
    "pycharm": {
     "name": "#%%\n"
    }
   },
   "outputs": [],
   "source": [
    "%%time\n",
    "\n",
    "\n",
    "# model\n",
    "model = get_model(args)\n",
    "\n",
    "# optimizer\n",
    "optimizer = get_optimizer(args)\n",
    "\n",
    "# loss\n",
    "make_step, val_step = get_loss_fn(args)\n",
    "\n",
    "# init model\n",
    "opt_state = optimizer.init(model)"
   ]
  },
  {
   "cell_type": "code",
   "execution_count": null,
   "id": "1208851b-909f-4489-be12-b1818c00f2cf",
   "metadata": {
    "pycharm": {
     "name": "#%%\n"
    }
   },
   "outputs": [],
   "source": [
    "n_steps_per_epoch = args.n_train / args.batch_size\n",
    "steps = int(n_steps_per_epoch * args.n_epochs) if not args.smoke_test else 500\n",
    "\n",
    "\n",
    "wandb.config.update(\n",
    "    {\n",
    "        \"steps\": steps,\n",
    "        \"n_steps_per_epoch\": n_steps_per_epoch,\n",
    "    }\n",
    ")"
   ]
  },
  {
   "cell_type": "markdown",
   "id": "c2a1d68f-2cc9-4246-8bd8-a83b234dd49f",
   "metadata": {
    "pycharm": {
     "name": "#%% md\n"
    }
   },
   "source": [
    "### Training"
   ]
  },
  {
   "cell_type": "code",
   "execution_count": null,
   "id": "5b5c443d-31a6-4336-9c27-2d5890e56335",
   "metadata": {
    "pycharm": {
     "name": "#%%\n"
    }
   },
   "outputs": [],
   "source": [
    "train_ds = make_mini_batcher(xtrain, ytrain, args.batch_size, 5, shuffle=True)\n",
    "valid_ds = make_mini_batcher(xvalid, yvalid, args.batch_size, 5, shuffle=False)\n",
    "\n",
    "\n",
    "losses = {}\n",
    "losses[\"train\"] = []\n",
    "losses[\"valid\"] = []\n",
    "\n",
    "\n",
    "with tqdm.trange(steps) as pbar:\n",
    "    for step in pbar:\n",
    "\n",
    "        ix, iy = next(train_ds)\n",
    "        loss, grads = make_step(model, jnp.asarray(ix), jnp.asarray(iy))\n",
    "\n",
    "        updates, opt_state = optimizer.update(grads, opt_state)\n",
    "        model = eqx.apply_updates(model, updates)\n",
    "\n",
    "        losses[\"train\"].append(loss)\n",
    "        wandb.log({\"train_loss\": loss}, step=step)\n",
    "        ix, iy = next(valid_ds)\n",
    "        # validation step\n",
    "        vloss = val_step(model, jnp.asarray(ix), jnp.asarray(iy))\n",
    "        losses[\"valid\"].append(vloss)\n",
    "\n",
    "        wandb.log({\"val_loss\": vloss}, step=step)\n",
    "\n",
    "        if step % 10 == 0:\n",
    "            pbar.set_description(\n",
    "                f\"Step: {step:_} | Train Loss: {loss:.3e} | Valid Loss: {vloss:.3e}\"\n",
    "            )"
   ]
  },
  {
   "cell_type": "markdown",
   "id": "62ed2cdc-b549-4969-8d98-204f9728bee3",
   "metadata": {
    "pycharm": {
     "name": "#%% md\n"
    }
   },
   "source": [
    "### Save models"
   ]
  },
  {
   "cell_type": "code",
   "execution_count": null,
   "id": "3b341ba6-3961-4eca-bb9e-8edd2d72ef6a",
   "metadata": {
    "pycharm": {
     "name": "#%%\n"
    }
   },
   "outputs": [],
   "source": []
  },
  {
   "cell_type": "code",
   "execution_count": null,
   "id": "ed63a01f-45a1-4c00-bc03-2cfcb9910978",
   "metadata": {
    "pycharm": {
     "name": "#%%\n"
    }
   },
   "outputs": [],
   "source": [
    "# objects\n",
    "path_model = Path(wandb.run.dir).joinpath(\"model.pickle\")\n",
    "path_scaler = Path(wandb.run.dir).joinpath(\"scaler.pickle\")\n",
    "\n",
    "# models to save\n",
    "save_object(model, path_model)\n",
    "save_object(scaler, path_scaler)\n",
    "\n",
    "# save with wandb\n",
    "wandb.save(str(path_model), policy=\"now\")\n",
    "wandb.save(str(path_scaler), policy=\"now\")"
   ]
  },
  {
   "cell_type": "markdown",
   "id": "3952eecb-b099-4422-8c91-52285bb01c6e",
   "metadata": {
    "pycharm": {
     "name": "#%% md\n"
    }
   },
   "source": [
    "### Load Models (Optional)"
   ]
  },
  {
   "cell_type": "code",
   "execution_count": null,
   "id": "50cccbdb-ac0a-49e0-84e9-e14067312257",
   "metadata": {
    "pycharm": {
     "name": "#%%\n"
    }
   },
   "outputs": [],
   "source": [
    "# # if args.server == \"jz\":\n",
    "# # get id (from this run or a run you can set)\n",
    "# run_id = wandb.run.id\n",
    "\n",
    "# # initialize api\n",
    "# api = wandb.Api()\n",
    "\n",
    "# # get run\n",
    "# run = api.run(f\"{args.entity}/{args.project}/{run_id}\")\n",
    "\n",
    "# # download the files\n",
    "# files = [\"scaler.pickle\", \"model.pickle\"]\n",
    "\n",
    "# for ifile in files:\n",
    "\n",
    "#     run.file(ifile).download(replace=True)"
   ]
  },
  {
   "cell_type": "code",
   "execution_count": null,
   "id": "cef597ca-bc1f-4996-b51a-f5deed6c5491",
   "metadata": {
    "pycharm": {
     "name": "#%%\n"
    }
   },
   "outputs": [],
   "source": [
    "# model = load_object(\"./model.pickle\")\n",
    "# scaler = load_object(\"./scaler.pickle\")"
   ]
  },
  {
   "cell_type": "markdown",
   "id": "450003ae-4943-4704-b6f4-5b7eab4f21ba",
   "metadata": {
    "pycharm": {
     "name": "#%% md\n"
    }
   },
   "source": [
    "### PostProcessing"
   ]
  },
  {
   "cell_type": "code",
   "execution_count": null,
   "id": "316e79d9-efc8-4707-9c67-e9781e110004",
   "metadata": {
    "pycharm": {
     "name": "#%%\n"
    }
   },
   "outputs": [],
   "source": [
    "df_grid = generate_eval_data(args)\n",
    "df_pred = feature_transform(df_grid.copy(), args, scaler=scaler)\n",
    "\n",
    "df_grid.describe()"
   ]
  },
  {
   "cell_type": "code",
   "execution_count": null,
   "id": "d4d296bb-b91d-4993-b0ee-bff91208b6e9",
   "metadata": {
    "pycharm": {
     "name": "#%%\n"
    }
   },
   "outputs": [],
   "source": [
    "df_pred = feature_transform(df_grid.copy(), args, scaler=scaler)\n",
    "df_pred.describe(), df_grid.describe()"
   ]
  },
  {
   "cell_type": "code",
   "execution_count": null,
   "id": "665740c1-03cb-49ea-8ce1-22db16a85b84",
   "metadata": {
    "pycharm": {
     "name": "#%%\n"
    }
   },
   "outputs": [],
   "source": [
    "wandb.config.update(\n",
    "    {\n",
    "        \"n_test\": df_pred.shape[0],\n",
    "    }\n",
    ")"
   ]
  },
  {
   "cell_type": "markdown",
   "id": "b1224ed1-2071-47a2-abe6-df2767580fc4",
   "metadata": {
    "pycharm": {
     "name": "#%% md\n"
    }
   },
   "source": [
    "### Predictions\n"
   ]
  },
  {
   "cell_type": "code",
   "execution_count": null,
   "id": "2abeed1c-76f0-4f4f-a54a-fecef4cf0981",
   "metadata": {
    "pycharm": {
     "name": "#%%\n"
    }
   },
   "outputs": [],
   "source": [
    "@jax.jit\n",
    "def pred_step(model, data):\n",
    "    return jax.vmap(model)(data)"
   ]
  },
  {
   "cell_type": "code",
   "execution_count": null,
   "id": "54c2ef06-b427-448f-87b7-28d8f33cd6bc",
   "metadata": {
    "pycharm": {
     "name": "#%%\n"
    }
   },
   "outputs": [],
   "source": [
    "from ml4ssh._src.model_utils import batch_predict\n",
    "from functools import partial\n",
    "import time"
   ]
  },
  {
   "cell_type": "code",
   "execution_count": null,
   "id": "02fd8a42-3bc2-4d1f-bc00-19801a1b92e7",
   "metadata": {
    "pycharm": {
     "name": "#%%\n"
    }
   },
   "outputs": [],
   "source": [
    "df_pred = jnp.asarray(df_pred[df_pred.columns.difference([\"time\"])].values)\n",
    "\n",
    "fn = partial(pred_step, model)\n",
    "\n",
    "t0 = time.time()\n",
    "df_grid[\"pred\"] = batch_predict(df_pred, fn, args.eval_batch_size)\n",
    "t1 = time.time() - t0"
   ]
  },
  {
   "cell_type": "code",
   "execution_count": null,
   "id": "3888b407-18b4-4827-99ee-bed6ff447912",
   "metadata": {
    "pycharm": {
     "name": "#%%\n"
    }
   },
   "outputs": [],
   "source": [
    "wandb.config.update(\n",
    "    {\n",
    "        \"time_predict_batches\": t1,\n",
    "    }\n",
    ")"
   ]
  },
  {
   "cell_type": "code",
   "execution_count": null,
   "id": "ecbf45c8-782b-4267-9b6c-207ce2af0d4d",
   "metadata": {
    "pycharm": {
     "name": "#%%\n"
    }
   },
   "outputs": [],
   "source": []
  },
  {
   "cell_type": "code",
   "execution_count": null,
   "id": "11412828-7bd7-4c9c-aaf9-3b638d638313",
   "metadata": {
    "pycharm": {
     "name": "#%%\n"
    }
   },
   "outputs": [],
   "source": [
    "ds_oi = postprocess_data(df_grid, args)"
   ]
  },
  {
   "cell_type": "code",
   "execution_count": null,
   "id": "974dab93-a32b-4fa7-82f8-dc6fcffbc68a",
   "metadata": {
    "pycharm": {
     "name": "#%%\n"
    }
   },
   "outputs": [],
   "source": [
    "ds_oi"
   ]
  },
  {
   "cell_type": "code",
   "execution_count": null,
   "id": "f0779492-1be0-48fc-a10b-413666ad305d",
   "metadata": {
    "pycharm": {
     "name": "#%%\n"
    }
   },
   "outputs": [],
   "source": [
    "%%time\n",
    "\n",
    "rmse_metrics = get_rmse_metrics(ds_oi, args)\n",
    "\n",
    "wandb.log(\n",
    "    {\n",
    "        \"model_rmse_mean\": rmse_metrics[0],\n",
    "        \"model_rmse_std\": rmse_metrics[1],\n",
    "        \"model_nrmse_mean\": rmse_metrics[2],\n",
    "        \"model_nrmse_std\": rmse_metrics[3],\n",
    "    }\n",
    ")"
   ]
  },
  {
   "cell_type": "code",
   "execution_count": null,
   "id": "07446478-0947-46d3-9c92-f2d609be69ed",
   "metadata": {
    "pycharm": {
     "name": "#%%\n"
    }
   },
   "outputs": [],
   "source": [
    "psd_metrics = get_psd_metrics(ds_oi, args)"
   ]
  },
  {
   "cell_type": "markdown",
   "id": "bd079855-f082-4097-94d5-d5d13d9a31df",
   "metadata": {
    "pycharm": {
     "name": "#%% md\n"
    }
   },
   "source": [
    "### Figures"
   ]
  },
  {
   "cell_type": "code",
   "execution_count": null,
   "id": "979029d9-c8c8-499d-8e4b-ae75d87fd263",
   "metadata": {
    "pycharm": {
     "name": "#%%\n"
    }
   },
   "outputs": [],
   "source": []
  },
  {
   "cell_type": "code",
   "execution_count": null,
   "id": "9dd9f802-4cc7-4458-8ce7-ffc63fbab688",
   "metadata": {
    "pycharm": {
     "name": "#%%\n"
    }
   },
   "outputs": [],
   "source": [
    "fig, ax = plot_psd_spectrum(\n",
    "    psd_metrics.psd_study, psd_metrics.psd_ref, psd_metrics.wavenumber\n",
    ")\n",
    "\n",
    "\n",
    "wandb.log(\n",
    "    {\n",
    "        \"model_psd_spectrum\": wandb.Image(fig),\n",
    "    }\n",
    ")"
   ]
  },
  {
   "cell_type": "code",
   "execution_count": null,
   "id": "230a6088-eeb1-4ab3-8031-a2d267b1cdb6",
   "metadata": {
    "pycharm": {
     "name": "#%%\n"
    }
   },
   "outputs": [],
   "source": [
    "fig, ax = plot_psd_score(\n",
    "    psd_metrics.psd_diff,\n",
    "    psd_metrics.psd_ref,\n",
    "    psd_metrics.wavenumber,\n",
    "    psd_metrics.resolved_scale,\n",
    ")\n",
    "\n",
    "wandb.log(\n",
    "    {\n",
    "        \"model_psd_score\": wandb.Image(fig),\n",
    "    }\n",
    ")"
   ]
  },
  {
   "cell_type": "markdown",
   "id": "4a2bd7b7-dcb5-4536-b326-cc679b9a8300",
   "metadata": {
    "pycharm": {
     "name": "#%% md\n"
    }
   },
   "source": [
    "### Movies"
   ]
  },
  {
   "cell_type": "code",
   "execution_count": null,
   "id": "e5998a5e-152a-47b0-8e35-f364e630bcab",
   "metadata": {
    "pycharm": {
     "name": "#%%\n"
    }
   },
   "outputs": [],
   "source": [
    "save_path = wandb.run.dir  # Path(root).joinpath(\"experiments/dc_2021b\")"
   ]
  },
  {
   "cell_type": "code",
   "execution_count": null,
   "id": "af137cf9-e718-497d-be4e-80bf049b6271",
   "metadata": {
    "pycharm": {
     "name": "#%%\n"
    }
   },
   "outputs": [],
   "source": [
    "# import hvplot.xarray\n",
    "\n",
    "\n",
    "# ds_oi.ssh.hvplot.image(\n",
    "#     x=\"longitude\",\n",
    "#     y=\"latitude\",\n",
    "#     # groupby='time',\n",
    "#     # rasterize=True,\n",
    "#     width=500, height=400, cmap=\"viridis\")"
   ]
  },
  {
   "cell_type": "code",
   "execution_count": null,
   "id": "98f0bcf3-7732-44bd-b30a-48e6612325af",
   "metadata": {
    "pycharm": {
     "name": "#%%\n"
    }
   },
   "outputs": [],
   "source": [
    "# if args.smoke_test:\n",
    "#     create_movie(ds_oi.ssh.isel(time=slice(50,60)), f\"pred\", \"time\", cmap=\"viridis\", file_path=save_path)\n",
    "# else:\n",
    "#     create_movie(ds_oi.ssh, f\"pred\", \"time\", cmap=\"viridis\", file_path=save_path)"
   ]
  },
  {
   "cell_type": "code",
   "execution_count": null,
   "id": "4292fd48-f99a-4a12-9ba2-35b9f32c403e",
   "metadata": {
    "pycharm": {
     "name": "#%%\n"
    }
   },
   "outputs": [],
   "source": [
    "# wandb.log(\n",
    "#     {\n",
    "#         \"predictions_gif\": wandb.Image(f\"{save_path}/movie_pred.gif\"),\n",
    "#     }\n",
    "# )"
   ]
  },
  {
   "cell_type": "markdown",
   "id": "3f7cdb4b-468b-4f37-992b-6403056a2ba9",
   "metadata": {
    "pycharm": {
     "name": "#%% md\n"
    }
   },
   "source": [
    "### Gradients"
   ]
  },
  {
   "cell_type": "code",
   "execution_count": null,
   "id": "22e7dfb4-8f7c-4cbe-8989-e9e64eab9453",
   "metadata": {
    "pycharm": {
     "name": "#%%\n"
    }
   },
   "outputs": [],
   "source": [
    "ds_oi[\"ssh_grad\"] = calculate_gradient(ds_oi[\"ssh\"], \"longitude\", \"latitude\")"
   ]
  },
  {
   "cell_type": "code",
   "execution_count": null,
   "id": "278f6131-30c8-48f5-8250-386124ecc956",
   "metadata": {
    "pycharm": {
     "name": "#%%\n"
    }
   },
   "outputs": [],
   "source": [
    "ds_oi[\"ssh_grad\"] = calculate_gradient(ds_oi[\"ssh\"], \"longitude\", \"latitude\")\n",
    "# ds_oi.ssh_grad.hvplot.image(\n",
    "#     x=\"longitude\",\n",
    "#     y=\"latitude\",\n",
    "#     # groupby='time',\n",
    "#     # rasterize=True,\n",
    "#     width=500, height=400, cmap=\"Spectral_r\")"
   ]
  },
  {
   "cell_type": "code",
   "execution_count": null,
   "id": "3975b43e-f722-4948-999f-4e60eaf87362",
   "metadata": {
    "pycharm": {
     "name": "#%%\n"
    }
   },
   "outputs": [],
   "source": [
    "# if args.smoke_test:\n",
    "#     create_movie(ds_oi.ssh_grad.isel(time=slice(50,60)), f\"pred_grad\", \"time\", cmap=\"Spectral_r\", file_path=save_path)\n",
    "# else:\n",
    "#     create_movie(ds_oi.ssh_grad, f\"pred_grad\", \"time\", cmap=\"Spectral_r\", file_path=save_path)"
   ]
  },
  {
   "cell_type": "code",
   "execution_count": null,
   "id": "6872c78a-d596-446f-911f-3444b2701991",
   "metadata": {
    "pycharm": {
     "name": "#%%\n"
    }
   },
   "outputs": [],
   "source": [
    "# wandb.log(\n",
    "#     {\n",
    "#         \"predictions_grad_gif\": wandb.Image(f\"{save_path}/movie_pred_grad.gif\"),\n",
    "#     }\n",
    "# )"
   ]
  },
  {
   "cell_type": "markdown",
   "id": "5d08cd6d-20cb-4726-9204-bab5405e584d",
   "metadata": {
    "pycharm": {
     "name": "#%% md\n"
    }
   },
   "source": [
    "### Laplacian"
   ]
  },
  {
   "cell_type": "code",
   "execution_count": null,
   "id": "2816a06f-c1bf-485a-8966-a0adffd91df0",
   "metadata": {
    "pycharm": {
     "name": "#%%\n"
    }
   },
   "outputs": [],
   "source": [
    "ds_oi[\"ssh_lap\"] = calculate_laplacian(ds_oi[\"ssh\"], \"longitude\", \"latitude\")"
   ]
  },
  {
   "cell_type": "code",
   "execution_count": null,
   "id": "7d39b798-65d0-4f04-a655-16b1f202667b",
   "metadata": {
    "pycharm": {
     "name": "#%%\n"
    }
   },
   "outputs": [],
   "source": [
    "ds_oi[\"ssh_lap\"] = calculate_laplacian(ds_oi[\"ssh\"], \"longitude\", \"latitude\")\n",
    "# ds_oi.ssh_lap.hvplot.image(\n",
    "#     x=\"longitude\",\n",
    "#     y=\"latitude\",\n",
    "#     # groupby='time',\n",
    "#     # rasterize=True,\n",
    "#     width=500, height=400, cmap=\"RdBu_r\")"
   ]
  },
  {
   "cell_type": "code",
   "execution_count": null,
   "id": "6f401c5c-1ff3-4934-8a24-404366860b99",
   "metadata": {
    "pycharm": {
     "name": "#%%\n"
    }
   },
   "outputs": [],
   "source": [
    "# if args.smoke_test:\n",
    "#     create_movie(ds_oi.ssh_lap.isel(time=slice(50,60)), f\"pred_lap\", \"time\", cmap=\"RdBu_r\", file_path=save_path)\n",
    "# else:\n",
    "#     create_movie(ds_oi.ssh_lap, f\"pred_lap\", \"time\", cmap=\"RdBu_r\", file_path=save_path)"
   ]
  },
  {
   "cell_type": "code",
   "execution_count": null,
   "id": "05ede2ed-4fe4-4209-83b0-6b25ac618daf",
   "metadata": {
    "pycharm": {
     "name": "#%%\n"
    }
   },
   "outputs": [],
   "source": [
    "# wandb.log(\n",
    "#     {\n",
    "#         \"predictions_laplacian_gif\": wandb.Image(f\"{save_path}/movie_pred_lap.gif\"),\n",
    "#     }\n",
    "# )"
   ]
  },
  {
   "cell_type": "code",
   "execution_count": null,
   "id": "d377f7ff-4392-4510-8f9f-6664e50c862f",
   "metadata": {
    "pycharm": {
     "name": "#%%\n"
    }
   },
   "outputs": [],
   "source": []
  }
 ],
 "metadata": {
  "kernelspec": {
   "display_name": "Python [conda env:jaxtf_cpu_py39]",
   "language": "python",
   "name": "conda-env-jaxtf_cpu_py39-py"
  },
  "language_info": {
   "codemirror_mode": {
    "name": "ipython",
    "version": 3
   },
   "file_extension": ".py",
   "mimetype": "text/x-python",
   "name": "python",
   "nbconvert_exporter": "python",
   "pygments_lexer": "ipython3",
   "version": "3.9.12"
  }
 },
 "nbformat": 4,
 "nbformat_minor": 5
}
