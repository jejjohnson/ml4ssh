{
 "cells": [
  {
   "cell_type": "markdown",
   "id": "7c00d4b7-e07e-4405-b643-c4db64f82510",
   "metadata": {
    "pycharm": {
     "name": "#%% md\n"
    }
   },
   "source": [
    "# Demo - Siren"
   ]
  },
  {
   "cell_type": "code",
   "execution_count": null,
   "id": "c8a2ee9e-04cc-4c5e-a3eb-4742a7ad7cd1",
   "metadata": {
    "pycharm": {
     "name": "#%%\n"
    }
   },
   "outputs": [],
   "source": [
    "import sys, os\n",
    "from pyprojroot import here\n",
    "\n",
    "# spyder up to find the root\n",
    "root = here(project_files=[\".root\"])\n",
    "\n",
    "# append to path\n",
    "sys.path.append(str(root))"
   ]
  },
  {
   "cell_type": "code",
   "execution_count": null,
   "id": "b43eaf2f-23b0-4937-80a3-21938dc73ed2",
   "metadata": {
    "pycharm": {
     "name": "#%%\n"
    }
   },
   "outputs": [],
   "source": [
    "import numpy as np\n",
    "import torch\n",
    "from torch import nn\n",
    "from tqdm.notebook import tqdm as tqdm\n",
    "import os, imageio\n",
    "\n",
    "from inr4ssh._src.models.siren import Siren, SirenNet, Modulator, ModulatedSirenNet\n",
    "from inr4ssh._src.models.activations import Sine\n",
    "from inr4ssh._src.data.images import load_fox\n",
    "from inr4ssh._src.features.coords import get_image_coordinates\n",
    "from inr4ssh._src.datamodules.images import ImageFox, ImageCameraman\n",
    "from torch.nn import ReLU\n",
    "import pytorch_lightning as pl\n",
    "from inr4ssh._src.models.image import ImageModel\n",
    "from pytorch_lightning import Trainer, seed_everything\n",
    "from pytorch_lightning.callbacks.early_stopping import EarlyStopping\n",
    "from pytorch_lightning.callbacks import TQDMProgressBar\n",
    "from pytorch_lightning.callbacks.model_checkpoint import ModelCheckpoint\n",
    "from pytorch_lightning.utilities.argparse import add_argparse_args\n",
    "from pytorch_lightning.loggers import WandbLogger\n",
    "\n",
    "import matplotlib.pyplot as plt\n",
    "import seaborn as sns\n",
    "\n",
    "sns.reset_defaults()\n",
    "sns.set_context(context=\"talk\", font_scale=0.7)\n",
    "\n",
    "%load_ext autoreload\n",
    "%autoreload 2"
   ]
  },
  {
   "cell_type": "markdown",
   "id": "3e9c836a-8790-4f6c-b5c2-4af553875648",
   "metadata": {
    "pycharm": {
     "name": "#%% md\n"
    }
   },
   "source": [
    "## Data"
   ]
  },
  {
   "cell_type": "markdown",
   "id": "0a850a1a-760a-45c0-9edb-7380fe7dbe87",
   "metadata": {
    "pycharm": {
     "name": "#%% md\n"
    }
   },
   "source": [
    "The input data is a coordinate vector, $\\mathbf{x}_\\phi$, of the image coordinates.\n",
    "\n",
    "$$\n",
    "\\mathbf{x}_\\phi \\in \\mathbb{R}^{D_\\phi}\n",
    "$$\n",
    "\n",
    "where $D_\\phi = [\\text{x}, \\text{y}]$. So we are interested in learning a function, $\\boldsymbol{f}$, such that we can input a coordinate vector and output a scaler/vector value of the pixel value.\n",
    "\n",
    "$$\n",
    "\\mathbf{u} = \\boldsymbol{f}(\\mathbf{x}_\\phi; \\boldsymbol{\\theta})\n",
    "$$"
   ]
  },
  {
   "cell_type": "code",
   "execution_count": null,
   "id": "c4cac0d5",
   "metadata": {
    "jupyter": {
     "outputs_hidden": false
    },
    "pycharm": {
     "name": "#%%\n"
    }
   },
   "outputs": [],
   "source": [
    "img = load_fox()"
   ]
  },
  {
   "cell_type": "code",
   "execution_count": null,
   "id": "42021a01-2792-45e9-9e94-fc80241499c5",
   "metadata": {
    "pycharm": {
     "name": "#%%\n"
    }
   },
   "outputs": [],
   "source": [
    "plt.figure()\n",
    "plt.imshow(img)\n",
    "plt.show()"
   ]
  },
  {
   "cell_type": "markdown",
   "id": "4da297bc",
   "metadata": {
    "pycharm": {
     "name": "#%% md\n"
    }
   },
   "source": [
    "### Data Module"
   ]
  },
  {
   "cell_type": "code",
   "execution_count": null,
   "id": "6d1c814b",
   "metadata": {
    "jupyter": {
     "outputs_hidden": false
    },
    "pycharm": {
     "name": "#%%\n"
    }
   },
   "outputs": [],
   "source": [
    "dm = ImageFox(batch_size=4096).setup()\n",
    "# dm = ImageCameraman(batch_size=4096).setup()"
   ]
  },
  {
   "cell_type": "code",
   "execution_count": null,
   "id": "ee019ed5",
   "metadata": {
    "jupyter": {
     "outputs_hidden": false
    },
    "pycharm": {
     "name": "#%%\n"
    }
   },
   "outputs": [],
   "source": [
    "len(dm.ds_train)"
   ]
  },
  {
   "cell_type": "code",
   "execution_count": null,
   "id": "1dfd0d73-9dd7-4409-b54f-b2f669df8fb4",
   "metadata": {},
   "outputs": [],
   "source": [
    "X_train, y_train = dm.ds_train[:]\n",
    "X_valid, y_valid = dm.ds_valid[:]\n",
    "X_test, y_test = dm.ds_test[:]\n",
    "X_train = torch.cat([X_train, X_valid])\n",
    "y_train = torch.cat([y_train, y_valid])"
   ]
  },
  {
   "cell_type": "markdown",
   "id": "025da5c8",
   "metadata": {
    "pycharm": {
     "name": "#%% md\n"
    }
   },
   "source": [
    "## Siren Net\n"
   ]
  },
  {
   "cell_type": "markdown",
   "id": "0ab329b0-6df1-4e22-a750-2e1fae1e93e9",
   "metadata": {
    "pycharm": {
     "name": "#%% md\n"
    }
   },
   "source": [
    "### Sine Activation Layer"
   ]
  },
  {
   "cell_type": "code",
   "execution_count": null,
   "id": "e3fcb801-d1e5-4f3b-88a1-ec4580b29162",
   "metadata": {
    "pycharm": {
     "name": "#%%\n"
    }
   },
   "outputs": [],
   "source": [
    "init = dm.ds_train[:32]\n",
    "x_init, y_init = init\n",
    "x_init.shape, y_init.shape"
   ]
  },
  {
   "cell_type": "code",
   "execution_count": null,
   "id": "fcf39a77-ce11-4e4e-8ead-e2faeb2be12a",
   "metadata": {
    "pycharm": {
     "name": "#%%\n"
    }
   },
   "outputs": [],
   "source": [
    "out = Sine()(x_init)\n",
    "\n",
    "out.shape"
   ]
  },
  {
   "cell_type": "markdown",
   "id": "b9a4c15b-4674-450e-a7ff-f7c8d0ebcca9",
   "metadata": {
    "pycharm": {
     "name": "#%% md\n"
    }
   },
   "source": [
    "### Siren Layer\n",
    "\n",
    "$$\n",
    "\\mathbf{f}_\\ell(\\mathbf{x}) = \\sin\\left(\\omega_0 \\left(\\mathbf{w}^{(\\ell)}\\mathbf{x} + \\mathbf{b}^{(\\ell)} \\right)\\right)\n",
    "$$"
   ]
  },
  {
   "cell_type": "code",
   "execution_count": null,
   "id": "b7cd3110-fbbe-4599-8b4a-29d3a6492fb5",
   "metadata": {
    "pycharm": {
     "name": "#%%\n"
    }
   },
   "outputs": [],
   "source": [
    "dim_in = x_init.shape[1]\n",
    "dim_out = y_init.shape[1]\n",
    "w0 = 1.0\n",
    "c = 6.0\n",
    "\n",
    "layer = Siren(\n",
    "    dim_in=dim_in,\n",
    "    dim_out=dim_out,\n",
    "    w0=w0,\n",
    "    c=c,\n",
    ")"
   ]
  },
  {
   "cell_type": "code",
   "execution_count": null,
   "id": "3fd2cb9a-8927-4f0a-969d-e43d51639866",
   "metadata": {
    "pycharm": {
     "name": "#%%\n"
    }
   },
   "outputs": [],
   "source": [
    "out = layer(x_init)"
   ]
  },
  {
   "cell_type": "markdown",
   "id": "6dc3d115",
   "metadata": {
    "pycharm": {
     "name": "#%% md\n"
    }
   },
   "source": [
    "### Siren Network"
   ]
  },
  {
   "cell_type": "code",
   "execution_count": null,
   "id": "5c2fac68-f6af-4c25-8caa-2c9ce0a2557f",
   "metadata": {
    "pycharm": {
     "name": "#%%\n"
    }
   },
   "outputs": [],
   "source": [
    "dim_in = x_init.shape[1]\n",
    "dim_hidden = 256\n",
    "dim_out = y_init.shape[1]\n",
    "num_layers = 4\n",
    "w0 = 1.0\n",
    "w0_initial = 30.0\n",
    "c = 6.0\n",
    "final_activation = nn.Sigmoid()\n",
    "\n",
    "siren_net = SirenNet(\n",
    "    dim_in=dim_in,\n",
    "    dim_hidden=dim_hidden,\n",
    "    dim_out=dim_out,\n",
    "    num_layers=num_layers,\n",
    "    w0=w0,\n",
    "    w0_initial=w0_initial,\n",
    "    final_activation=final_activation,\n",
    ")"
   ]
  },
  {
   "cell_type": "code",
   "execution_count": null,
   "id": "40db191f-8271-482a-8390-ed974b2e44a8",
   "metadata": {
    "pycharm": {
     "name": "#%%\n"
    }
   },
   "outputs": [],
   "source": [
    "out = siren_net(x_init)"
   ]
  },
  {
   "cell_type": "code",
   "execution_count": null,
   "id": "6a7a8e8a-f736-498b-a8d0-24e73e95694b",
   "metadata": {
    "pycharm": {
     "name": "#%%\n"
    }
   },
   "outputs": [],
   "source": [
    "siren_net"
   ]
  },
  {
   "cell_type": "markdown",
   "id": "f544a9ca-5ed8-4027-ae0f-b9e02f7d6763",
   "metadata": {},
   "source": [
    "## Training"
   ]
  },
  {
   "cell_type": "code",
   "execution_count": null,
   "id": "3cd9b12b-01d0-4059-a4c9-4d2c49f29a4f",
   "metadata": {},
   "outputs": [],
   "source": [
    "if torch.has_mps:\n",
    "    device = \"mps\"\n",
    "elif torch.has_cuda:\n",
    "    device = \"cuda\"\n",
    "else:\n",
    "    device = \"cpu\""
   ]
  },
  {
   "cell_type": "markdown",
   "id": "d4827397-9ebf-4b61-838c-b37b41ee77f2",
   "metadata": {},
   "source": [
    "### Optimization"
   ]
  },
  {
   "cell_type": "code",
   "execution_count": null,
   "id": "97f160a5-7187-446e-a3fb-247c78258219",
   "metadata": {},
   "outputs": [],
   "source": [
    "from skorch.callbacks import EarlyStopping, LRScheduler"
   ]
  },
  {
   "cell_type": "code",
   "execution_count": null,
   "id": "a68b6606-061a-4425-9973-7e40573a1442",
   "metadata": {},
   "outputs": [],
   "source": [
    "# learning rate scheduler\n",
    "lr_scheduler = LRScheduler(\n",
    "    policy=\"ReduceLROnPlateau\",\n",
    "    monitor=\"valid_loss\",\n",
    "    mode=\"min\",\n",
    "    factor=0.1,\n",
    "    patience=5,\n",
    ")\n",
    "# learning rate scheduler\n",
    "# lr_scheduler = LRScheduler(\n",
    "#     policy=\"CosineAnnealingWarmUpLR\",\n",
    "#     monitor=\"valid_loss\",\n",
    "#     mode=\"min\",\n",
    "#     factor=0.1,\n",
    "#     patience=5,\n",
    "# )\n",
    "\n",
    "# early stopping\n",
    "estop_callback = EarlyStopping(\n",
    "    monitor=\"valid_loss\",\n",
    "    patience=10,\n",
    ")\n",
    "\n",
    "callbacks = [\n",
    "    (\"earlystopping\", estop_callback),\n",
    "    (\"lrscheduler\", lr_scheduler),\n",
    "]"
   ]
  },
  {
   "cell_type": "code",
   "execution_count": null,
   "id": "0195128e-8df0-4da1-ad1f-4cae08cdd1f7",
   "metadata": {},
   "outputs": [],
   "source": [
    "from skorch.dataset import ValidSplit\n",
    "\n",
    "# train split percentage\n",
    "train_split = ValidSplit(0.5, stratified=False)"
   ]
  },
  {
   "cell_type": "markdown",
   "id": "dcea3b0e-3f20-4ad5-8b40-5a6f9f50fa76",
   "metadata": {},
   "source": [
    "### Model Wrapper"
   ]
  },
  {
   "cell_type": "code",
   "execution_count": null,
   "id": "5e20b460-0762-4cb5-9291-31d57eb5d9cb",
   "metadata": {},
   "outputs": [],
   "source": [
    "from skorch import NeuralNetRegressor\n",
    "\n",
    "skorch_net = NeuralNetRegressor(\n",
    "    module=siren_net,\n",
    "    max_epochs=200,\n",
    "    lr=0.01,\n",
    "    batch_size=4096,\n",
    "    device=device,\n",
    "    optimizer=torch.optim.Adam,\n",
    "    train_split=train_split,\n",
    "    callbacks=callbacks,\n",
    "    iterator_train__num_workers=2,\n",
    ")"
   ]
  },
  {
   "cell_type": "code",
   "execution_count": null,
   "id": "3df7f3c7-0629-4aaf-9e81-f88a632dba2d",
   "metadata": {},
   "outputs": [],
   "source": [
    "skorch_net.fit(X_train, y_train)"
   ]
  },
  {
   "cell_type": "code",
   "execution_count": null,
   "id": "e43800b4-b545-4714-b058-c13a5b4b2b68",
   "metadata": {},
   "outputs": [],
   "source": [
    "fig, ax = plt.subplots()\n",
    "\n",
    "ax.plot(skorch_net.history[:, \"train_loss\"], label=\"Train Loss\")\n",
    "ax.plot(skorch_net.history[:, \"valid_loss\"], label=\"Validation Loss\")\n",
    "\n",
    "ax.set(yscale=\"log\", xlabel=\"Epochs\", ylabel=\"Mean Squared Error\")\n",
    "\n",
    "plt.legend()\n",
    "plt.show()"
   ]
  },
  {
   "cell_type": "code",
   "execution_count": null,
   "id": "a62e3d15-a031-44a6-8740-9aa76ac50821",
   "metadata": {},
   "outputs": [],
   "source": [
    "y_pred = skorch_net.predict(X_test)"
   ]
  },
  {
   "cell_type": "code",
   "execution_count": null,
   "id": "05273211-8b38-4eb9-ba08-c7300155f855",
   "metadata": {},
   "outputs": [],
   "source": [
    "img_pred = dm.coordinates_2_image(y_pred)"
   ]
  },
  {
   "cell_type": "code",
   "execution_count": null,
   "id": "e94b4b25-d141-49ac-ae81-6420d39e21ed",
   "metadata": {},
   "outputs": [],
   "source": [
    "fig, axs = plt.subplots(ncols=2)\n",
    "axs[0].imshow(\n",
    "    img,\n",
    "    cmap=\"gray\",\n",
    ")\n",
    "axs[0].set_title(\"True Image\")\n",
    "axs[1].imshow(\n",
    "    img_pred,\n",
    "    cmap=\"gray\",\n",
    ")\n",
    "axs[1].set_title(\"Interpolated Image\")\n",
    "plt.tight_layout()\n",
    "plt.show()"
   ]
  },
  {
   "cell_type": "code",
   "execution_count": null,
   "id": "fcfc3cdc-7f2c-4c6e-aefa-45f864ef506e",
   "metadata": {},
   "outputs": [],
   "source": []
  },
  {
   "cell_type": "code",
   "execution_count": null,
   "id": "816d3b3e-2ac2-4cc9-9f5a-5bf49393ed1a",
   "metadata": {},
   "outputs": [],
   "source": []
  },
  {
   "cell_type": "code",
   "execution_count": null,
   "id": "bef5d012-be4a-447d-815a-bfe536fdcf5f",
   "metadata": {},
   "outputs": [],
   "source": []
  },
  {
   "cell_type": "code",
   "execution_count": null,
   "id": "60207cf8-fe47-4bf7-a8c3-44397739123b",
   "metadata": {},
   "outputs": [],
   "source": [
    "plt.figure()\n",
    "plt.imshow(img, cmap=\"gray\")\n",
    "plt.show()"
   ]
  },
  {
   "cell_type": "code",
   "execution_count": null,
   "id": "406822ce-af78-4008-b5b3-b5f8e21c1c63",
   "metadata": {},
   "outputs": [],
   "source": []
  },
  {
   "cell_type": "code",
   "execution_count": null,
   "id": "0e25f39e-70cb-4222-acf4-ff111ffef9b5",
   "metadata": {},
   "outputs": [],
   "source": []
  },
  {
   "cell_type": "code",
   "execution_count": null,
   "id": "954a0524-14d2-4303-94d7-72bbbdcd8e3a",
   "metadata": {},
   "outputs": [],
   "source": []
  },
  {
   "cell_type": "code",
   "execution_count": null,
   "id": "27de3941-2136-4738-8465-0eafab3a691d",
   "metadata": {},
   "outputs": [],
   "source": []
  },
  {
   "cell_type": "code",
   "execution_count": null,
   "id": "49635a79-1bac-491b-8754-bf56107e9184",
   "metadata": {},
   "outputs": [],
   "source": [
    "img_pred = dm.coordinates_2_image(y_pred)"
   ]
  },
  {
   "cell_type": "code",
   "execution_count": null,
   "id": "4a105bb4-fe30-497e-a140-adef207e36f4",
   "metadata": {},
   "outputs": [],
   "source": []
  },
  {
   "cell_type": "code",
   "execution_count": null,
   "id": "d6228228-c4f9-4294-a0cf-2151392b0f4b",
   "metadata": {},
   "outputs": [],
   "source": []
  },
  {
   "cell_type": "markdown",
   "id": "22b7667d",
   "metadata": {
    "pycharm": {
     "name": "#%% md\n"
    }
   },
   "source": [
    "## Experiment"
   ]
  },
  {
   "cell_type": "code",
   "execution_count": null,
   "id": "02971c76",
   "metadata": {
    "jupyter": {
     "outputs_hidden": false
    },
    "pycharm": {
     "name": "#%%\n"
    }
   },
   "outputs": [],
   "source": [
    "import pytorch_lightning as pl\n",
    "\n",
    "pl.seed_everything(123)"
   ]
  },
  {
   "cell_type": "markdown",
   "id": "f1b4dfb2",
   "metadata": {
    "pycharm": {
     "name": "#%% md\n"
    }
   },
   "source": [
    "#### Dataset\n",
    "\n"
   ]
  },
  {
   "cell_type": "code",
   "execution_count": null,
   "id": "ddc40bf7",
   "metadata": {
    "jupyter": {
     "outputs_hidden": false
    },
    "pycharm": {
     "name": "#%%\n"
    }
   },
   "outputs": [],
   "source": [
    "learning_rate = 1e-4\n",
    "siren_net = SirenNet(\n",
    "    dim_in=dim_in,\n",
    "    dim_hidden=dim_hidden,\n",
    "    dim_out=dim_out,\n",
    "    num_layers=num_layers,\n",
    "    w0=w0,\n",
    "    w0_initial=w0_initial,\n",
    "    final_activation=final_activation,\n",
    ")\n",
    "dm = ImageFox(batch_size=4096).setup()"
   ]
  },
  {
   "cell_type": "code",
   "execution_count": null,
   "id": "2a985101",
   "metadata": {
    "jupyter": {
     "outputs_hidden": false
    },
    "pycharm": {
     "name": "#%%\n"
    }
   },
   "outputs": [],
   "source": [
    "learn = ImageModel(siren_net, learning_rate=learning_rate)"
   ]
  },
  {
   "cell_type": "code",
   "execution_count": null,
   "id": "56d0a095",
   "metadata": {
    "jupyter": {
     "outputs_hidden": false
    },
    "pycharm": {
     "name": "#%%\n"
    }
   },
   "outputs": [],
   "source": [
    "callbacks = [TQDMProgressBar(refresh_rate=100)]"
   ]
  },
  {
   "cell_type": "code",
   "execution_count": null,
   "id": "16b41b4b",
   "metadata": {
    "jupyter": {
     "outputs_hidden": false
    },
    "pycharm": {
     "name": "#%%\n"
    }
   },
   "outputs": [],
   "source": [
    "trainer = Trainer(\n",
    "    min_epochs=1,\n",
    "    max_epochs=100,\n",
    "    accelerator=\"mps\",\n",
    "    enable_progress_bar=True,\n",
    "    logger=None,\n",
    "    callbacks=callbacks,\n",
    ")"
   ]
  },
  {
   "cell_type": "code",
   "execution_count": null,
   "id": "896e4c9d",
   "metadata": {
    "jupyter": {
     "outputs_hidden": false
    },
    "pycharm": {
     "name": "#%%\n"
    }
   },
   "outputs": [],
   "source": [
    "trainer.fit(\n",
    "    learn,\n",
    "    train_dataloaders=dm.train_dataloader(),\n",
    "    val_dataloaders=dm.train_dataloader(),\n",
    ")"
   ]
  },
  {
   "cell_type": "code",
   "execution_count": null,
   "id": "2a17893d",
   "metadata": {
    "jupyter": {
     "outputs_hidden": false
    },
    "pycharm": {
     "name": "#%%\n"
    }
   },
   "outputs": [],
   "source": [
    "trainer.test(learn, dataloaders=dm.test_dataloader())"
   ]
  },
  {
   "cell_type": "code",
   "execution_count": null,
   "id": "8c0d5c6e",
   "metadata": {
    "jupyter": {
     "outputs_hidden": false
    },
    "pycharm": {
     "name": "#%%\n"
    }
   },
   "outputs": [],
   "source": [
    "# t0 = time.time()\n",
    "predictions = trainer.predict(learn, dataloaders=dm, return_predictions=True)\n",
    "predictions = torch.cat(predictions)\n",
    "# t1 = time.time() - t0"
   ]
  },
  {
   "cell_type": "code",
   "execution_count": null,
   "id": "f58e0c10",
   "metadata": {
    "jupyter": {
     "outputs_hidden": false
    },
    "pycharm": {
     "name": "#%%\n"
    }
   },
   "outputs": [],
   "source": [
    "predictions.shape"
   ]
  },
  {
   "cell_type": "code",
   "execution_count": null,
   "id": "bc2e7343",
   "metadata": {
    "jupyter": {
     "outputs_hidden": false
    },
    "pycharm": {
     "name": "#%%\n"
    }
   },
   "outputs": [],
   "source": [
    "predictions.min(), predictions.max()"
   ]
  },
  {
   "cell_type": "code",
   "execution_count": null,
   "id": "eff458ec",
   "metadata": {
    "jupyter": {
     "outputs_hidden": false
    },
    "pycharm": {
     "name": "#%%\n"
    }
   },
   "outputs": [],
   "source": [
    "from einops import rearrange"
   ]
  },
  {
   "cell_type": "code",
   "execution_count": null,
   "id": "f6f80558",
   "metadata": {
    "jupyter": {
     "outputs_hidden": false
    },
    "pycharm": {
     "name": "#%%\n"
    }
   },
   "outputs": [],
   "source": [
    "img_pred = dm.coordinates_2_image(predictions)"
   ]
  },
  {
   "cell_type": "code",
   "execution_count": null,
   "id": "c357b9e9",
   "metadata": {
    "jupyter": {
     "outputs_hidden": false
    },
    "pycharm": {
     "name": "#%%\n"
    }
   },
   "outputs": [],
   "source": [
    "plt.figure()\n",
    "plt.imshow(img_pred, cmap=\"gray\")\n",
    "plt.show()"
   ]
  },
  {
   "cell_type": "code",
   "execution_count": null,
   "id": "95e67cb9",
   "metadata": {
    "jupyter": {
     "outputs_hidden": false
    },
    "pycharm": {
     "name": "#%%\n"
    }
   },
   "outputs": [],
   "source": []
  }
 ],
 "metadata": {
  "interpreter": {
   "hash": "70d2e25024e70c662658c456d9e0a340af3759493bed99b867179c40cf269d86"
  },
  "kernelspec": {
   "display_name": "Python [conda env:torch_py39]",
   "language": "python",
   "name": "conda-env-torch_py39-py"
  },
  "language_info": {
   "codemirror_mode": {
    "name": "ipython",
    "version": 3
   },
   "file_extension": ".py",
   "mimetype": "text/x-python",
   "name": "python",
   "nbconvert_exporter": "python",
   "pygments_lexer": "ipython3",
   "version": "3.9.13"
  }
 },
 "nbformat": 4,
 "nbformat_minor": 5
}
