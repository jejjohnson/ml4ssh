{
 "cells": [
  {
   "cell_type": "markdown",
   "id": "48671f14-4157-4801-9aeb-26379ae459ea",
   "metadata": {},
   "source": [
    "# Demo - SVGP (PyTorch)"
   ]
  },
  {
   "cell_type": "code",
   "execution_count": 77,
   "id": "c8a2ee9e-04cc-4c5e-a3eb-4742a7ad7cd1",
   "metadata": {},
   "outputs": [],
   "source": [
    "import sys, os\n",
    "from pyprojroot import here\n",
    "\n",
    "\n",
    "# spyder up to find the root, local\n",
    "root = here(project_files=[\".root\"])\n",
    "local = here(project_files=[\".local\"])\n",
    "\n",
    "# append to path\n",
    "sys.path.append(str(root))\n",
    "sys.path.append(str(local))"
   ]
  },
  {
   "cell_type": "code",
   "execution_count": 154,
   "id": "4e08b309-df46-4190-96f7-914907b8b422",
   "metadata": {},
   "outputs": [
    {
     "name": "stdout",
     "output_type": "stream",
     "text": [
      "The autoreload extension is already loaded. To reload it, use:\n",
      "  %reload_ext autoreload\n"
     ]
    }
   ],
   "source": [
    "from pathlib import Path\n",
    "import argparse\n",
    "import wandb\n",
    "import tqdm\n",
    "import matplotlib.pyplot as plt\n",
    "import seaborn as sns\n",
    "import numpy as np\n",
    "sns.reset_defaults()\n",
    "sns.set_context(context=\"talk\", font_scale=0.7)\n",
    "\n",
    "# # Ensure TF does not see GPU and grab all GPU memory.\n",
    "# import tensorflow as tf\n",
    "# tf.config.set_visible_devices([], device_type='GPU')\n",
    "\n",
    "# os.environ[\"JAX_PLATFORM_NAME\"] = \"CPU\"\n",
    "# # ENSURE JAX DOESNT PREALLOCATE\n",
    "# os.environ[\"XLA_PYTHON_CLIENT_PREALLOCATE\"] = str(False)\n",
    "\n",
    "\n",
    "from ml4ssh._src.io import load_object, save_object\n",
    "from ml4ssh._src.viz import create_movie, plot_psd_spectrum, plot_psd_score\n",
    "from ml4ssh._src.utils import get_meshgrid, calculate_gradient, calculate_laplacian\n",
    "\n",
    "# import parsers\n",
    "from data import get_data_args, load_data\n",
    "from preprocess import add_preprocess_args, preprocess_data\n",
    "from features import add_feature_args, feature_transform\n",
    "from split import add_split_args, split_data\n",
    "from models.gp_torch import add_model_args, get_inducing_points\n",
    "from losses.gp_torch import add_loss_args, get_loss_fn\n",
    "from logger import add_logger_args\n",
    "from optimizers.gp_torch import add_optimizer_args\n",
    "from postprocess import add_postprocess_args, postprocess_data, generate_eval_data\n",
    "from evaluation import add_eval_args, get_rmse_metrics, get_psd_metrics\n",
    "\n",
    "from pytorch_lightning.loggers import WandbLogger\n",
    "from pytorch_lightning import Trainer\n",
    "from pytorch_lightning.utilities.argparse import add_argparse_args\n",
    "\n",
    "%matplotlib inline\n",
    "%load_ext autoreload\n",
    "%autoreload 2"
   ]
  },
  {
   "cell_type": "code",
   "execution_count": 155,
   "id": "48e97f26-5316-4b1b-b3cb-5dc94badb788",
   "metadata": {},
   "outputs": [],
   "source": [
    "import loguru"
   ]
  },
  {
   "cell_type": "markdown",
   "id": "305ed40f-5926-41e3-8f76-22d50df60c1e",
   "metadata": {},
   "source": [
    "### Arguments"
   ]
  },
  {
   "cell_type": "code",
   "execution_count": 156,
   "id": "ad519f7b-be94-419e-ba50-f14958c2b2a8",
   "metadata": {},
   "outputs": [],
   "source": [
    "parser = argparse.ArgumentParser()\n",
    "\n",
    "# logger\n",
    "parser = add_logger_args(parser)\n",
    "\n",
    "# data\n",
    "parser = get_data_args(parser)\n",
    "\n",
    "# preprocessing, feature transform, split\n",
    "parser = add_preprocess_args(parser)\n",
    "parser = add_feature_args(parser)\n",
    "parser = add_split_args(parser)\n",
    "\n",
    "# model, optimizer, loss\n",
    "parser = add_model_args(parser)\n",
    "parser = add_optimizer_args(parser)\n",
    "parser = add_loss_args(parser)\n",
    "parser = add_argparse_args(Trainer, parser)\n",
    "\n",
    "# postprocessing, metrics\n",
    "parser = add_postprocess_args(parser)\n",
    "parser = add_eval_args(parser)\n",
    "\n",
    "# parse args\n",
    "args = parser.parse_args([])\n",
    "\n",
    "# # jeanzay specific\n",
    "# args.train_data_dir = \"/gpfsdswork/projects/rech/cli/uvo53rl/data/data_challenges/ssh_mapping_2021/train/\"\n",
    "# args.ref_data_dir = \"/gpfsdswork/projects/rech/cli/uvo53rl/data/data_challenges/ssh_mapping_2021/ref/\"\n",
    "# args.test_data_dir = \"/gpfsdswork/projects/rech/cli/uvo53rl/data/data_challenges/ssh_mapping_2021/test/\"\n",
    "# args.log_dir = \"/gpfswork/rech/cli/uvo53rl/logs\"\n",
    "\n",
    "# training args\n",
    "# args.log_dir = \n",
    "args.batch_size = 4096\n",
    "args.n_epochs = 2\n",
    "args.feature_scaler = \"standard\"\n",
    "args.gpus = 0\n",
    "args.num_workers = 0\n",
    "\n",
    "# model args\n",
    "args.model = \"svgp\"\n",
    "args.n_inducing\n",
    "args.framework = \"pytorch\"\n",
    "\n",
    "# smoke test\n",
    "args.smoke_test = True\n",
    "\n",
    "# logging stuff\n",
    "args.project = \"gps4ssh\"\n",
    "args.wandb_mode = \"disabled\"\n",
    "args.wandb_resume = False\n",
    "# ige/nerf4ssh/kx2nr6qb\n",
    "args.id = None # \"mikf2n1v\" # \"2uuq7tks\" \"kx2nr6qb\"\n",
    "# args.entity = \"ige\"\n"
   ]
  },
  {
   "cell_type": "code",
   "execution_count": 237,
   "id": "00e0bb43-dfd1-4a8c-a5da-d7d50e9be5b0",
   "metadata": {},
   "outputs": [
    {
     "data": {
      "text/plain": [
       "0.1"
      ]
     },
     "execution_count": 237,
     "metadata": {},
     "output_type": "execute_result"
    }
   ],
   "source": [
    "1e-1"
   ]
  },
  {
   "cell_type": "markdown",
   "id": "2816cbb2-1a8f-431d-a12b-d0e4f008b7f5",
   "metadata": {},
   "source": [
    "### Logger\n"
   ]
  },
  {
   "cell_type": "code",
   "execution_count": 136,
   "id": "7733fbe0-fb43-4eda-af8e-50f00e380ec1",
   "metadata": {},
   "outputs": [
    {
     "data": {
      "text/plain": []
     },
     "execution_count": 136,
     "metadata": {},
     "output_type": "execute_result"
    }
   ],
   "source": [
    "# init wandb logger\n",
    "wandb.init(\n",
    "    id=args.id,\n",
    "    config=args,\n",
    "    mode=args.wandb_mode,\n",
    "    project=args.project,\n",
    "    entity=args.entity,\n",
    "    dir=args.log_dir,\n",
    "    resume=args.wandb_resume,\n",
    ")"
   ]
  },
  {
   "cell_type": "markdown",
   "id": "dce2df15-f422-406b-8e53-64edf65f4172",
   "metadata": {},
   "source": [
    "### Load Data"
   ]
  },
  {
   "cell_type": "code",
   "execution_count": 162,
   "id": "1a204743-93da-4f08-a080-67fcd404f1ec",
   "metadata": {},
   "outputs": [
    {
     "name": "stderr",
     "output_type": "stream",
     "text": [
      "100%|██████████| 6/6 [00:00<00:00, 59.14it/s]\n"
     ]
    },
    {
     "name": "stdout",
     "output_type": "stream",
     "text": [
      "CPU times: user 264 ms, sys: 280 ms, total: 544 ms\n",
      "Wall time: 545 ms\n"
     ]
    }
   ],
   "source": [
    "%%time\n",
    "\n",
    "# load data\n",
    "data = load_data(args)"
   ]
  },
  {
   "cell_type": "code",
   "execution_count": 163,
   "id": "255a4c24-1d0a-47f1-a6d8-60d91ff6c572",
   "metadata": {},
   "outputs": [],
   "source": [
    "# preprocess data\n",
    "data = preprocess_data(data, args)"
   ]
  },
  {
   "cell_type": "code",
   "execution_count": 164,
   "id": "359782c7-7835-4303-b544-b51a2857da57",
   "metadata": {},
   "outputs": [],
   "source": [
    "# feature transformation\n",
    "data, scaler = feature_transform(data, args)"
   ]
  },
  {
   "cell_type": "code",
   "execution_count": 165,
   "id": "c4df878b-966d-427d-b218-1bdef0b4fcbd",
   "metadata": {},
   "outputs": [
    {
     "data": {
      "text/plain": [
       "['longitude', 'latitude', 'time']"
      ]
     },
     "execution_count": 165,
     "metadata": {},
     "output_type": "execute_result"
    }
   ],
   "source": [
    "data.attrs[\"input_cols\"]"
   ]
  },
  {
   "cell_type": "code",
   "execution_count": 209,
   "id": "7386abc3-3927-4ae3-8eb8-cf0ac87426a1",
   "metadata": {},
   "outputs": [],
   "source": [
    "# split data\n",
    "xtrain = data[data.attrs[\"input_cols\"]].values\n",
    "ytrain = data[data.attrs[\"output_cols\"]].values.squeeze()\n",
    "\n",
    "args.in_dim = xtrain.shape[-1]\n",
    "args.n_train = xtrain.shape[0]\n",
    "\n",
    "if args.smoke_test:\n",
    "    \n",
    "    rng = np.random.RandomState(args.split_seed)\n",
    "    idx = rng.choice(np.arange(args.n_train), size=2_000)\n",
    "    xtrain = xtrain[idx]\n",
    "    ytrain = ytrain[idx]\n",
    "\n",
    "wandb.config.update(\n",
    "    {\n",
    "        \"in_dim\": args.in_dim,\n",
    "        \"n_train\": args.n_train,\n",
    "    }\n",
    ")"
   ]
  },
  {
   "cell_type": "code",
   "execution_count": 210,
   "id": "734addf4-bc15-41c1-b9be-4963e2132bfc",
   "metadata": {},
   "outputs": [
    {
     "data": {
      "text/plain": [
       "((2000, 3), (2000,))"
      ]
     },
     "execution_count": 210,
     "metadata": {},
     "output_type": "execute_result"
    }
   ],
   "source": [
    "xtrain.shape, ytrain.shape"
   ]
  },
  {
   "cell_type": "markdown",
   "id": "426d54d7-20bd-4139-bf64-938301bc73fa",
   "metadata": {},
   "source": [
    "### Dataset"
   ]
  },
  {
   "cell_type": "code",
   "execution_count": 211,
   "id": "9555d40a-8cd1-4b64-96f8-4ff81fa7691d",
   "metadata": {},
   "outputs": [],
   "source": [
    "import torch\n",
    "from torch.utils.data import Dataset, DataLoader"
   ]
  },
  {
   "cell_type": "code",
   "execution_count": 212,
   "id": "b3822730-7c0e-47c1-aaae-66b68ef13c3d",
   "metadata": {},
   "outputs": [],
   "source": [
    "class PointsDataset(Dataset):\n",
    "    def __init__(self, X, y):\n",
    "        self.X = X\n",
    "        self.y = y\n",
    "        \n",
    "    def __len__(self):\n",
    "        return len(self.X)\n",
    "    \n",
    "    def __getitem__(self, index):\n",
    "        X = self.X[index]\n",
    "        y = self.y[index]\n",
    "        \n",
    "        return X, y"
   ]
  },
  {
   "cell_type": "code",
   "execution_count": 213,
   "id": "320345f0-9294-42aa-ba82-7501a63f784b",
   "metadata": {},
   "outputs": [],
   "source": [
    "# initialize dataset\n",
    "ds_train = PointsDataset(torch.Tensor(xtrain), torch.Tensor(ytrain))\n",
    "# initialize dataloader\n",
    "# initialize dataloader\n",
    "dl_train = DataLoader(\n",
    "    ds_train, \n",
    "    batch_size=args.batch_size, \n",
    "    shuffle=True, \n",
    "    pin_memory=True,\n",
    "    num_workers=args.num_workers\n",
    ")"
   ]
  },
  {
   "cell_type": "code",
   "execution_count": 5,
   "id": "3a1550ac-bd36-41c2-91f8-8b334ede5896",
   "metadata": {},
   "outputs": [
    {
     "ename": "ModuleNotFoundError",
     "evalue": "No module named 'gpytorch.examples'",
     "output_type": "error",
     "traceback": [
      "\u001b[0;31m---------------------------------------------------------------------------\u001b[0m",
      "\u001b[0;31mModuleNotFoundError\u001b[0m                       Traceback (most recent call last)",
      "\u001b[0;32m/tmp/ipykernel_23787/1999208640.py\u001b[0m in \u001b[0;36m<module>\u001b[0;34m\u001b[0m\n\u001b[1;32m      1\u001b[0m \u001b[0;32mimport\u001b[0m \u001b[0mgc\u001b[0m\u001b[0;34m\u001b[0m\u001b[0;34m\u001b[0m\u001b[0m\n\u001b[0;32m----> 2\u001b[0;31m \u001b[0;32mfrom\u001b[0m \u001b[0mgpytorch\u001b[0m\u001b[0;34m.\u001b[0m\u001b[0mexamples\u001b[0m \u001b[0;32mimport\u001b[0m \u001b[0mLBFGS\u001b[0m\u001b[0;34m\u001b[0m\u001b[0;34m\u001b[0m\u001b[0m\n\u001b[0m",
      "\u001b[0;31mModuleNotFoundError\u001b[0m: No module named 'gpytorch.examples'"
     ]
    }
   ],
   "source": [
    "import gc\n",
    "from gpytorch.examples import LBFGS"
   ]
  },
  {
   "cell_type": "markdown",
   "id": "ef39f5ec-1066-467c-b4ba-d205adc4fba2",
   "metadata": {},
   "source": [
    "### Model"
   ]
  },
  {
   "cell_type": "code",
   "execution_count": 1,
   "id": "6bf5c2c4-98af-40b8-8175-e99b005fa6a6",
   "metadata": {},
   "outputs": [],
   "source": [
    "import gpytorch"
   ]
  },
  {
   "cell_type": "code",
   "execution_count": 2,
   "id": "26d1334c-9170-439c-9a7f-ef86701a86c9",
   "metadata": {},
   "outputs": [],
   "source": [
    "class ExactGPModel(gpytorch.models.ExactGP):\n",
    "    def __init__(self, train_x, train_y, likelihood, kernel):\n",
    "        super(ExactGPModel, self).__init__(train_x, train_y, likelihood)\n",
    "        self.mean_module = gpytorch.means.ConstantMean()\n",
    "        self.covar_module = gpytorch.kernels.ScaleKernel(gpytorch.kernels.RBFKernel())\n",
    "\n",
    "    def forward(self, x):\n",
    "        mean_x = self.mean_module(x)\n",
    "        covar_x = self.covar_module(x)\n",
    "        return gpytorch.distributions.MultivariateNormal(mean_x, covar_x)"
   ]
  },
  {
   "cell_type": "code",
   "execution_count": 205,
   "id": "94d5159e-3c0f-4b36-840c-1d435cc6eaef",
   "metadata": {},
   "outputs": [],
   "source": [
    "from models.gp_torch import get_kernel, get_likelihood, get_variational_dist"
   ]
  },
  {
   "cell_type": "code",
   "execution_count": 206,
   "id": "40eed3a0-5af3-4f5e-966f-92fc7307f205",
   "metadata": {},
   "outputs": [],
   "source": [
    "# get inducing points\n",
    "inducing_points = get_inducing_points(xtrain, args)\n",
    "\n",
    "# get kernel\n",
    "kernel = get_kernel(args)\n",
    "\n",
    "# get variational dist\n",
    "variational_dist = get_variational_dist(torch.Tensor(inducing_points), args)\n",
    "\n",
    "# initialize model\n",
    "model = SVGPModel(\n",
    "    kernel=kernel,\n",
    "    variational_dist=variational_dist,\n",
    "    inducing_points=torch.Tensor(inducing_points)\n",
    ")\n",
    "\n",
    "# initialize likelihood\n",
    "likelihood = get_likelihood(args)\n",
    "\n",
    "if torch.cuda.is_available() and args.gpus > 0:\n",
    "    model = model.cuda()\n",
    "    likelihood = likelihood.cuda()"
   ]
  },
  {
   "cell_type": "markdown",
   "id": "c2a1d68f-2cc9-4246-8bd8-a83b234dd49f",
   "metadata": {},
   "source": [
    "### Training"
   ]
  },
  {
   "cell_type": "code",
   "execution_count": 182,
   "id": "904b7680-498a-4586-a3a9-506f45d80597",
   "metadata": {},
   "outputs": [],
   "source": [
    "variational_ngd_optimizer = gpytorch.optim.NGD(\n",
    "    model.variational_parameters(), \n",
    "    num_data=ytrain.shape[0], \n",
    "    lr=args.learning_rate_ng\n",
    ")\n",
    "\n",
    "hyperparameter_optimizer = torch.optim.Adam([\n",
    "    {'params': model.hyperparameters()},\n",
    "    {'params': likelihood.parameters()},\n",
    "], lr=args.learning_rate)"
   ]
  },
  {
   "cell_type": "code",
   "execution_count": 183,
   "id": "1f137363-959b-4dee-bd8b-1f9b09c26951",
   "metadata": {},
   "outputs": [],
   "source": [
    "model.train()\n",
    "likelihood.train()\n",
    "mll = get_loss_fn(likelihood, model, ytrain.shape[0], args=args)"
   ]
  },
  {
   "cell_type": "code",
   "execution_count": 184,
   "id": "55da9713-e3b0-4d93-8054-e8a4ec885742",
   "metadata": {},
   "outputs": [
    {
     "data": {
      "application/vnd.jupyter.widget-view+json": {
       "model_id": "94f256b0efe7435c9389609ccd79e818",
       "version_major": 2,
       "version_minor": 0
      },
      "text/plain": [
       "Epoch:   0%|          | 0/100 [00:00<?, ?it/s]"
      ]
     },
     "metadata": {},
     "output_type": "display_data"
    },
    {
     "data": {
      "application/vnd.jupyter.widget-view+json": {
       "model_id": "",
       "version_major": 2,
       "version_minor": 0
      },
      "text/plain": [
       "Minibatch:   0%|          | 0/1 [00:00<?, ?it/s]"
      ]
     },
     "metadata": {},
     "output_type": "display_data"
    },
    {
     "data": {
      "application/vnd.jupyter.widget-view+json": {
       "model_id": "",
       "version_major": 2,
       "version_minor": 0
      },
      "text/plain": [
       "Minibatch:   0%|          | 0/1 [00:00<?, ?it/s]"
      ]
     },
     "metadata": {},
     "output_type": "display_data"
    },
    {
     "data": {
      "application/vnd.jupyter.widget-view+json": {
       "model_id": "",
       "version_major": 2,
       "version_minor": 0
      },
      "text/plain": [
       "Minibatch:   0%|          | 0/1 [00:00<?, ?it/s]"
      ]
     },
     "metadata": {},
     "output_type": "display_data"
    },
    {
     "data": {
      "application/vnd.jupyter.widget-view+json": {
       "model_id": "",
       "version_major": 2,
       "version_minor": 0
      },
      "text/plain": [
       "Minibatch:   0%|          | 0/1 [00:00<?, ?it/s]"
      ]
     },
     "metadata": {},
     "output_type": "display_data"
    },
    {
     "data": {
      "application/vnd.jupyter.widget-view+json": {
       "model_id": "",
       "version_major": 2,
       "version_minor": 0
      },
      "text/plain": [
       "Minibatch:   0%|          | 0/1 [00:00<?, ?it/s]"
      ]
     },
     "metadata": {},
     "output_type": "display_data"
    },
    {
     "data": {
      "application/vnd.jupyter.widget-view+json": {
       "model_id": "",
       "version_major": 2,
       "version_minor": 0
      },
      "text/plain": [
       "Minibatch:   0%|          | 0/1 [00:00<?, ?it/s]"
      ]
     },
     "metadata": {},
     "output_type": "display_data"
    },
    {
     "data": {
      "application/vnd.jupyter.widget-view+json": {
       "model_id": "",
       "version_major": 2,
       "version_minor": 0
      },
      "text/plain": [
       "Minibatch:   0%|          | 0/1 [00:00<?, ?it/s]"
      ]
     },
     "metadata": {},
     "output_type": "display_data"
    },
    {
     "data": {
      "application/vnd.jupyter.widget-view+json": {
       "model_id": "",
       "version_major": 2,
       "version_minor": 0
      },
      "text/plain": [
       "Minibatch:   0%|          | 0/1 [00:00<?, ?it/s]"
      ]
     },
     "metadata": {},
     "output_type": "display_data"
    },
    {
     "data": {
      "application/vnd.jupyter.widget-view+json": {
       "model_id": "",
       "version_major": 2,
       "version_minor": 0
      },
      "text/plain": [
       "Minibatch:   0%|          | 0/1 [00:00<?, ?it/s]"
      ]
     },
     "metadata": {},
     "output_type": "display_data"
    },
    {
     "data": {
      "application/vnd.jupyter.widget-view+json": {
       "model_id": "",
       "version_major": 2,
       "version_minor": 0
      },
      "text/plain": [
       "Minibatch:   0%|          | 0/1 [00:00<?, ?it/s]"
      ]
     },
     "metadata": {},
     "output_type": "display_data"
    },
    {
     "data": {
      "application/vnd.jupyter.widget-view+json": {
       "model_id": "",
       "version_major": 2,
       "version_minor": 0
      },
      "text/plain": [
       "Minibatch:   0%|          | 0/1 [00:00<?, ?it/s]"
      ]
     },
     "metadata": {},
     "output_type": "display_data"
    },
    {
     "data": {
      "application/vnd.jupyter.widget-view+json": {
       "model_id": "",
       "version_major": 2,
       "version_minor": 0
      },
      "text/plain": [
       "Minibatch:   0%|          | 0/1 [00:00<?, ?it/s]"
      ]
     },
     "metadata": {},
     "output_type": "display_data"
    },
    {
     "data": {
      "application/vnd.jupyter.widget-view+json": {
       "model_id": "",
       "version_major": 2,
       "version_minor": 0
      },
      "text/plain": [
       "Minibatch:   0%|          | 0/1 [00:00<?, ?it/s]"
      ]
     },
     "metadata": {},
     "output_type": "display_data"
    },
    {
     "data": {
      "application/vnd.jupyter.widget-view+json": {
       "model_id": "",
       "version_major": 2,
       "version_minor": 0
      },
      "text/plain": [
       "Minibatch:   0%|          | 0/1 [00:00<?, ?it/s]"
      ]
     },
     "metadata": {},
     "output_type": "display_data"
    },
    {
     "data": {
      "application/vnd.jupyter.widget-view+json": {
       "model_id": "",
       "version_major": 2,
       "version_minor": 0
      },
      "text/plain": [
       "Minibatch:   0%|          | 0/1 [00:00<?, ?it/s]"
      ]
     },
     "metadata": {},
     "output_type": "display_data"
    },
    {
     "data": {
      "application/vnd.jupyter.widget-view+json": {
       "model_id": "",
       "version_major": 2,
       "version_minor": 0
      },
      "text/plain": [
       "Minibatch:   0%|          | 0/1 [00:00<?, ?it/s]"
      ]
     },
     "metadata": {},
     "output_type": "display_data"
    },
    {
     "data": {
      "application/vnd.jupyter.widget-view+json": {
       "model_id": "",
       "version_major": 2,
       "version_minor": 0
      },
      "text/plain": [
       "Minibatch:   0%|          | 0/1 [00:00<?, ?it/s]"
      ]
     },
     "metadata": {},
     "output_type": "display_data"
    },
    {
     "data": {
      "application/vnd.jupyter.widget-view+json": {
       "model_id": "",
       "version_major": 2,
       "version_minor": 0
      },
      "text/plain": [
       "Minibatch:   0%|          | 0/1 [00:00<?, ?it/s]"
      ]
     },
     "metadata": {},
     "output_type": "display_data"
    },
    {
     "data": {
      "application/vnd.jupyter.widget-view+json": {
       "model_id": "",
       "version_major": 2,
       "version_minor": 0
      },
      "text/plain": [
       "Minibatch:   0%|          | 0/1 [00:00<?, ?it/s]"
      ]
     },
     "metadata": {},
     "output_type": "display_data"
    },
    {
     "data": {
      "application/vnd.jupyter.widget-view+json": {
       "model_id": "",
       "version_major": 2,
       "version_minor": 0
      },
      "text/plain": [
       "Minibatch:   0%|          | 0/1 [00:00<?, ?it/s]"
      ]
     },
     "metadata": {},
     "output_type": "display_data"
    },
    {
     "data": {
      "application/vnd.jupyter.widget-view+json": {
       "model_id": "",
       "version_major": 2,
       "version_minor": 0
      },
      "text/plain": [
       "Minibatch:   0%|          | 0/1 [00:00<?, ?it/s]"
      ]
     },
     "metadata": {},
     "output_type": "display_data"
    },
    {
     "data": {
      "application/vnd.jupyter.widget-view+json": {
       "model_id": "",
       "version_major": 2,
       "version_minor": 0
      },
      "text/plain": [
       "Minibatch:   0%|          | 0/1 [00:00<?, ?it/s]"
      ]
     },
     "metadata": {},
     "output_type": "display_data"
    },
    {
     "data": {
      "application/vnd.jupyter.widget-view+json": {
       "model_id": "",
       "version_major": 2,
       "version_minor": 0
      },
      "text/plain": [
       "Minibatch:   0%|          | 0/1 [00:00<?, ?it/s]"
      ]
     },
     "metadata": {},
     "output_type": "display_data"
    },
    {
     "data": {
      "application/vnd.jupyter.widget-view+json": {
       "model_id": "",
       "version_major": 2,
       "version_minor": 0
      },
      "text/plain": [
       "Minibatch:   0%|          | 0/1 [00:00<?, ?it/s]"
      ]
     },
     "metadata": {},
     "output_type": "display_data"
    },
    {
     "data": {
      "application/vnd.jupyter.widget-view+json": {
       "model_id": "",
       "version_major": 2,
       "version_minor": 0
      },
      "text/plain": [
       "Minibatch:   0%|          | 0/1 [00:00<?, ?it/s]"
      ]
     },
     "metadata": {},
     "output_type": "display_data"
    },
    {
     "data": {
      "application/vnd.jupyter.widget-view+json": {
       "model_id": "",
       "version_major": 2,
       "version_minor": 0
      },
      "text/plain": [
       "Minibatch:   0%|          | 0/1 [00:00<?, ?it/s]"
      ]
     },
     "metadata": {},
     "output_type": "display_data"
    },
    {
     "data": {
      "application/vnd.jupyter.widget-view+json": {
       "model_id": "",
       "version_major": 2,
       "version_minor": 0
      },
      "text/plain": [
       "Minibatch:   0%|          | 0/1 [00:00<?, ?it/s]"
      ]
     },
     "metadata": {},
     "output_type": "display_data"
    },
    {
     "data": {
      "application/vnd.jupyter.widget-view+json": {
       "model_id": "",
       "version_major": 2,
       "version_minor": 0
      },
      "text/plain": [
       "Minibatch:   0%|          | 0/1 [00:00<?, ?it/s]"
      ]
     },
     "metadata": {},
     "output_type": "display_data"
    },
    {
     "data": {
      "application/vnd.jupyter.widget-view+json": {
       "model_id": "",
       "version_major": 2,
       "version_minor": 0
      },
      "text/plain": [
       "Minibatch:   0%|          | 0/1 [00:00<?, ?it/s]"
      ]
     },
     "metadata": {},
     "output_type": "display_data"
    },
    {
     "data": {
      "application/vnd.jupyter.widget-view+json": {
       "model_id": "",
       "version_major": 2,
       "version_minor": 0
      },
      "text/plain": [
       "Minibatch:   0%|          | 0/1 [00:00<?, ?it/s]"
      ]
     },
     "metadata": {},
     "output_type": "display_data"
    },
    {
     "data": {
      "application/vnd.jupyter.widget-view+json": {
       "model_id": "",
       "version_major": 2,
       "version_minor": 0
      },
      "text/plain": [
       "Minibatch:   0%|          | 0/1 [00:00<?, ?it/s]"
      ]
     },
     "metadata": {},
     "output_type": "display_data"
    },
    {
     "data": {
      "application/vnd.jupyter.widget-view+json": {
       "model_id": "",
       "version_major": 2,
       "version_minor": 0
      },
      "text/plain": [
       "Minibatch:   0%|          | 0/1 [00:00<?, ?it/s]"
      ]
     },
     "metadata": {},
     "output_type": "display_data"
    },
    {
     "data": {
      "application/vnd.jupyter.widget-view+json": {
       "model_id": "",
       "version_major": 2,
       "version_minor": 0
      },
      "text/plain": [
       "Minibatch:   0%|          | 0/1 [00:00<?, ?it/s]"
      ]
     },
     "metadata": {},
     "output_type": "display_data"
    },
    {
     "data": {
      "application/vnd.jupyter.widget-view+json": {
       "model_id": "",
       "version_major": 2,
       "version_minor": 0
      },
      "text/plain": [
       "Minibatch:   0%|          | 0/1 [00:00<?, ?it/s]"
      ]
     },
     "metadata": {},
     "output_type": "display_data"
    },
    {
     "data": {
      "application/vnd.jupyter.widget-view+json": {
       "model_id": "",
       "version_major": 2,
       "version_minor": 0
      },
      "text/plain": [
       "Minibatch:   0%|          | 0/1 [00:00<?, ?it/s]"
      ]
     },
     "metadata": {},
     "output_type": "display_data"
    },
    {
     "data": {
      "application/vnd.jupyter.widget-view+json": {
       "model_id": "",
       "version_major": 2,
       "version_minor": 0
      },
      "text/plain": [
       "Minibatch:   0%|          | 0/1 [00:00<?, ?it/s]"
      ]
     },
     "metadata": {},
     "output_type": "display_data"
    },
    {
     "data": {
      "application/vnd.jupyter.widget-view+json": {
       "model_id": "",
       "version_major": 2,
       "version_minor": 0
      },
      "text/plain": [
       "Minibatch:   0%|          | 0/1 [00:00<?, ?it/s]"
      ]
     },
     "metadata": {},
     "output_type": "display_data"
    },
    {
     "data": {
      "application/vnd.jupyter.widget-view+json": {
       "model_id": "",
       "version_major": 2,
       "version_minor": 0
      },
      "text/plain": [
       "Minibatch:   0%|          | 0/1 [00:00<?, ?it/s]"
      ]
     },
     "metadata": {},
     "output_type": "display_data"
    },
    {
     "data": {
      "application/vnd.jupyter.widget-view+json": {
       "model_id": "",
       "version_major": 2,
       "version_minor": 0
      },
      "text/plain": [
       "Minibatch:   0%|          | 0/1 [00:00<?, ?it/s]"
      ]
     },
     "metadata": {},
     "output_type": "display_data"
    },
    {
     "data": {
      "application/vnd.jupyter.widget-view+json": {
       "model_id": "",
       "version_major": 2,
       "version_minor": 0
      },
      "text/plain": [
       "Minibatch:   0%|          | 0/1 [00:00<?, ?it/s]"
      ]
     },
     "metadata": {},
     "output_type": "display_data"
    },
    {
     "data": {
      "application/vnd.jupyter.widget-view+json": {
       "model_id": "",
       "version_major": 2,
       "version_minor": 0
      },
      "text/plain": [
       "Minibatch:   0%|          | 0/1 [00:00<?, ?it/s]"
      ]
     },
     "metadata": {},
     "output_type": "display_data"
    },
    {
     "data": {
      "application/vnd.jupyter.widget-view+json": {
       "model_id": "",
       "version_major": 2,
       "version_minor": 0
      },
      "text/plain": [
       "Minibatch:   0%|          | 0/1 [00:00<?, ?it/s]"
      ]
     },
     "metadata": {},
     "output_type": "display_data"
    },
    {
     "data": {
      "application/vnd.jupyter.widget-view+json": {
       "model_id": "",
       "version_major": 2,
       "version_minor": 0
      },
      "text/plain": [
       "Minibatch:   0%|          | 0/1 [00:00<?, ?it/s]"
      ]
     },
     "metadata": {},
     "output_type": "display_data"
    },
    {
     "data": {
      "application/vnd.jupyter.widget-view+json": {
       "model_id": "",
       "version_major": 2,
       "version_minor": 0
      },
      "text/plain": [
       "Minibatch:   0%|          | 0/1 [00:00<?, ?it/s]"
      ]
     },
     "metadata": {},
     "output_type": "display_data"
    },
    {
     "data": {
      "application/vnd.jupyter.widget-view+json": {
       "model_id": "",
       "version_major": 2,
       "version_minor": 0
      },
      "text/plain": [
       "Minibatch:   0%|          | 0/1 [00:00<?, ?it/s]"
      ]
     },
     "metadata": {},
     "output_type": "display_data"
    },
    {
     "data": {
      "application/vnd.jupyter.widget-view+json": {
       "model_id": "",
       "version_major": 2,
       "version_minor": 0
      },
      "text/plain": [
       "Minibatch:   0%|          | 0/1 [00:00<?, ?it/s]"
      ]
     },
     "metadata": {},
     "output_type": "display_data"
    },
    {
     "data": {
      "application/vnd.jupyter.widget-view+json": {
       "model_id": "",
       "version_major": 2,
       "version_minor": 0
      },
      "text/plain": [
       "Minibatch:   0%|          | 0/1 [00:00<?, ?it/s]"
      ]
     },
     "metadata": {},
     "output_type": "display_data"
    },
    {
     "data": {
      "application/vnd.jupyter.widget-view+json": {
       "model_id": "",
       "version_major": 2,
       "version_minor": 0
      },
      "text/plain": [
       "Minibatch:   0%|          | 0/1 [00:00<?, ?it/s]"
      ]
     },
     "metadata": {},
     "output_type": "display_data"
    },
    {
     "data": {
      "application/vnd.jupyter.widget-view+json": {
       "model_id": "",
       "version_major": 2,
       "version_minor": 0
      },
      "text/plain": [
       "Minibatch:   0%|          | 0/1 [00:00<?, ?it/s]"
      ]
     },
     "metadata": {},
     "output_type": "display_data"
    },
    {
     "data": {
      "application/vnd.jupyter.widget-view+json": {
       "model_id": "",
       "version_major": 2,
       "version_minor": 0
      },
      "text/plain": [
       "Minibatch:   0%|          | 0/1 [00:00<?, ?it/s]"
      ]
     },
     "metadata": {},
     "output_type": "display_data"
    },
    {
     "data": {
      "application/vnd.jupyter.widget-view+json": {
       "model_id": "",
       "version_major": 2,
       "version_minor": 0
      },
      "text/plain": [
       "Minibatch:   0%|          | 0/1 [00:00<?, ?it/s]"
      ]
     },
     "metadata": {},
     "output_type": "display_data"
    },
    {
     "data": {
      "application/vnd.jupyter.widget-view+json": {
       "model_id": "",
       "version_major": 2,
       "version_minor": 0
      },
      "text/plain": [
       "Minibatch:   0%|          | 0/1 [00:00<?, ?it/s]"
      ]
     },
     "metadata": {},
     "output_type": "display_data"
    },
    {
     "data": {
      "application/vnd.jupyter.widget-view+json": {
       "model_id": "",
       "version_major": 2,
       "version_minor": 0
      },
      "text/plain": [
       "Minibatch:   0%|          | 0/1 [00:00<?, ?it/s]"
      ]
     },
     "metadata": {},
     "output_type": "display_data"
    },
    {
     "data": {
      "application/vnd.jupyter.widget-view+json": {
       "model_id": "",
       "version_major": 2,
       "version_minor": 0
      },
      "text/plain": [
       "Minibatch:   0%|          | 0/1 [00:00<?, ?it/s]"
      ]
     },
     "metadata": {},
     "output_type": "display_data"
    },
    {
     "data": {
      "application/vnd.jupyter.widget-view+json": {
       "model_id": "",
       "version_major": 2,
       "version_minor": 0
      },
      "text/plain": [
       "Minibatch:   0%|          | 0/1 [00:00<?, ?it/s]"
      ]
     },
     "metadata": {},
     "output_type": "display_data"
    },
    {
     "data": {
      "application/vnd.jupyter.widget-view+json": {
       "model_id": "",
       "version_major": 2,
       "version_minor": 0
      },
      "text/plain": [
       "Minibatch:   0%|          | 0/1 [00:00<?, ?it/s]"
      ]
     },
     "metadata": {},
     "output_type": "display_data"
    },
    {
     "data": {
      "application/vnd.jupyter.widget-view+json": {
       "model_id": "",
       "version_major": 2,
       "version_minor": 0
      },
      "text/plain": [
       "Minibatch:   0%|          | 0/1 [00:00<?, ?it/s]"
      ]
     },
     "metadata": {},
     "output_type": "display_data"
    },
    {
     "data": {
      "application/vnd.jupyter.widget-view+json": {
       "model_id": "",
       "version_major": 2,
       "version_minor": 0
      },
      "text/plain": [
       "Minibatch:   0%|          | 0/1 [00:00<?, ?it/s]"
      ]
     },
     "metadata": {},
     "output_type": "display_data"
    },
    {
     "data": {
      "application/vnd.jupyter.widget-view+json": {
       "model_id": "",
       "version_major": 2,
       "version_minor": 0
      },
      "text/plain": [
       "Minibatch:   0%|          | 0/1 [00:00<?, ?it/s]"
      ]
     },
     "metadata": {},
     "output_type": "display_data"
    },
    {
     "data": {
      "application/vnd.jupyter.widget-view+json": {
       "model_id": "",
       "version_major": 2,
       "version_minor": 0
      },
      "text/plain": [
       "Minibatch:   0%|          | 0/1 [00:00<?, ?it/s]"
      ]
     },
     "metadata": {},
     "output_type": "display_data"
    },
    {
     "data": {
      "application/vnd.jupyter.widget-view+json": {
       "model_id": "",
       "version_major": 2,
       "version_minor": 0
      },
      "text/plain": [
       "Minibatch:   0%|          | 0/1 [00:00<?, ?it/s]"
      ]
     },
     "metadata": {},
     "output_type": "display_data"
    },
    {
     "data": {
      "application/vnd.jupyter.widget-view+json": {
       "model_id": "",
       "version_major": 2,
       "version_minor": 0
      },
      "text/plain": [
       "Minibatch:   0%|          | 0/1 [00:00<?, ?it/s]"
      ]
     },
     "metadata": {},
     "output_type": "display_data"
    },
    {
     "data": {
      "application/vnd.jupyter.widget-view+json": {
       "model_id": "",
       "version_major": 2,
       "version_minor": 0
      },
      "text/plain": [
       "Minibatch:   0%|          | 0/1 [00:00<?, ?it/s]"
      ]
     },
     "metadata": {},
     "output_type": "display_data"
    },
    {
     "data": {
      "application/vnd.jupyter.widget-view+json": {
       "model_id": "",
       "version_major": 2,
       "version_minor": 0
      },
      "text/plain": [
       "Minibatch:   0%|          | 0/1 [00:00<?, ?it/s]"
      ]
     },
     "metadata": {},
     "output_type": "display_data"
    },
    {
     "data": {
      "application/vnd.jupyter.widget-view+json": {
       "model_id": "",
       "version_major": 2,
       "version_minor": 0
      },
      "text/plain": [
       "Minibatch:   0%|          | 0/1 [00:00<?, ?it/s]"
      ]
     },
     "metadata": {},
     "output_type": "display_data"
    },
    {
     "data": {
      "application/vnd.jupyter.widget-view+json": {
       "model_id": "",
       "version_major": 2,
       "version_minor": 0
      },
      "text/plain": [
       "Minibatch:   0%|          | 0/1 [00:00<?, ?it/s]"
      ]
     },
     "metadata": {},
     "output_type": "display_data"
    },
    {
     "data": {
      "application/vnd.jupyter.widget-view+json": {
       "model_id": "",
       "version_major": 2,
       "version_minor": 0
      },
      "text/plain": [
       "Minibatch:   0%|          | 0/1 [00:00<?, ?it/s]"
      ]
     },
     "metadata": {},
     "output_type": "display_data"
    },
    {
     "data": {
      "application/vnd.jupyter.widget-view+json": {
       "model_id": "",
       "version_major": 2,
       "version_minor": 0
      },
      "text/plain": [
       "Minibatch:   0%|          | 0/1 [00:00<?, ?it/s]"
      ]
     },
     "metadata": {},
     "output_type": "display_data"
    },
    {
     "data": {
      "application/vnd.jupyter.widget-view+json": {
       "model_id": "",
       "version_major": 2,
       "version_minor": 0
      },
      "text/plain": [
       "Minibatch:   0%|          | 0/1 [00:00<?, ?it/s]"
      ]
     },
     "metadata": {},
     "output_type": "display_data"
    },
    {
     "data": {
      "application/vnd.jupyter.widget-view+json": {
       "model_id": "",
       "version_major": 2,
       "version_minor": 0
      },
      "text/plain": [
       "Minibatch:   0%|          | 0/1 [00:00<?, ?it/s]"
      ]
     },
     "metadata": {},
     "output_type": "display_data"
    },
    {
     "data": {
      "application/vnd.jupyter.widget-view+json": {
       "model_id": "",
       "version_major": 2,
       "version_minor": 0
      },
      "text/plain": [
       "Minibatch:   0%|          | 0/1 [00:00<?, ?it/s]"
      ]
     },
     "metadata": {},
     "output_type": "display_data"
    },
    {
     "data": {
      "application/vnd.jupyter.widget-view+json": {
       "model_id": "",
       "version_major": 2,
       "version_minor": 0
      },
      "text/plain": [
       "Minibatch:   0%|          | 0/1 [00:00<?, ?it/s]"
      ]
     },
     "metadata": {},
     "output_type": "display_data"
    },
    {
     "data": {
      "application/vnd.jupyter.widget-view+json": {
       "model_id": "",
       "version_major": 2,
       "version_minor": 0
      },
      "text/plain": [
       "Minibatch:   0%|          | 0/1 [00:00<?, ?it/s]"
      ]
     },
     "metadata": {},
     "output_type": "display_data"
    },
    {
     "data": {
      "application/vnd.jupyter.widget-view+json": {
       "model_id": "",
       "version_major": 2,
       "version_minor": 0
      },
      "text/plain": [
       "Minibatch:   0%|          | 0/1 [00:00<?, ?it/s]"
      ]
     },
     "metadata": {},
     "output_type": "display_data"
    },
    {
     "data": {
      "application/vnd.jupyter.widget-view+json": {
       "model_id": "",
       "version_major": 2,
       "version_minor": 0
      },
      "text/plain": [
       "Minibatch:   0%|          | 0/1 [00:00<?, ?it/s]"
      ]
     },
     "metadata": {},
     "output_type": "display_data"
    },
    {
     "data": {
      "application/vnd.jupyter.widget-view+json": {
       "model_id": "",
       "version_major": 2,
       "version_minor": 0
      },
      "text/plain": [
       "Minibatch:   0%|          | 0/1 [00:00<?, ?it/s]"
      ]
     },
     "metadata": {},
     "output_type": "display_data"
    },
    {
     "data": {
      "application/vnd.jupyter.widget-view+json": {
       "model_id": "",
       "version_major": 2,
       "version_minor": 0
      },
      "text/plain": [
       "Minibatch:   0%|          | 0/1 [00:00<?, ?it/s]"
      ]
     },
     "metadata": {},
     "output_type": "display_data"
    },
    {
     "data": {
      "application/vnd.jupyter.widget-view+json": {
       "model_id": "",
       "version_major": 2,
       "version_minor": 0
      },
      "text/plain": [
       "Minibatch:   0%|          | 0/1 [00:00<?, ?it/s]"
      ]
     },
     "metadata": {},
     "output_type": "display_data"
    },
    {
     "data": {
      "application/vnd.jupyter.widget-view+json": {
       "model_id": "",
       "version_major": 2,
       "version_minor": 0
      },
      "text/plain": [
       "Minibatch:   0%|          | 0/1 [00:00<?, ?it/s]"
      ]
     },
     "metadata": {},
     "output_type": "display_data"
    },
    {
     "data": {
      "application/vnd.jupyter.widget-view+json": {
       "model_id": "",
       "version_major": 2,
       "version_minor": 0
      },
      "text/plain": [
       "Minibatch:   0%|          | 0/1 [00:00<?, ?it/s]"
      ]
     },
     "metadata": {},
     "output_type": "display_data"
    },
    {
     "data": {
      "application/vnd.jupyter.widget-view+json": {
       "model_id": "",
       "version_major": 2,
       "version_minor": 0
      },
      "text/plain": [
       "Minibatch:   0%|          | 0/1 [00:00<?, ?it/s]"
      ]
     },
     "metadata": {},
     "output_type": "display_data"
    },
    {
     "data": {
      "application/vnd.jupyter.widget-view+json": {
       "model_id": "",
       "version_major": 2,
       "version_minor": 0
      },
      "text/plain": [
       "Minibatch:   0%|          | 0/1 [00:00<?, ?it/s]"
      ]
     },
     "metadata": {},
     "output_type": "display_data"
    },
    {
     "data": {
      "application/vnd.jupyter.widget-view+json": {
       "model_id": "",
       "version_major": 2,
       "version_minor": 0
      },
      "text/plain": [
       "Minibatch:   0%|          | 0/1 [00:00<?, ?it/s]"
      ]
     },
     "metadata": {},
     "output_type": "display_data"
    },
    {
     "data": {
      "application/vnd.jupyter.widget-view+json": {
       "model_id": "",
       "version_major": 2,
       "version_minor": 0
      },
      "text/plain": [
       "Minibatch:   0%|          | 0/1 [00:00<?, ?it/s]"
      ]
     },
     "metadata": {},
     "output_type": "display_data"
    },
    {
     "data": {
      "application/vnd.jupyter.widget-view+json": {
       "model_id": "",
       "version_major": 2,
       "version_minor": 0
      },
      "text/plain": [
       "Minibatch:   0%|          | 0/1 [00:00<?, ?it/s]"
      ]
     },
     "metadata": {},
     "output_type": "display_data"
    },
    {
     "data": {
      "application/vnd.jupyter.widget-view+json": {
       "model_id": "",
       "version_major": 2,
       "version_minor": 0
      },
      "text/plain": [
       "Minibatch:   0%|          | 0/1 [00:00<?, ?it/s]"
      ]
     },
     "metadata": {},
     "output_type": "display_data"
    },
    {
     "data": {
      "application/vnd.jupyter.widget-view+json": {
       "model_id": "",
       "version_major": 2,
       "version_minor": 0
      },
      "text/plain": [
       "Minibatch:   0%|          | 0/1 [00:00<?, ?it/s]"
      ]
     },
     "metadata": {},
     "output_type": "display_data"
    },
    {
     "data": {
      "application/vnd.jupyter.widget-view+json": {
       "model_id": "",
       "version_major": 2,
       "version_minor": 0
      },
      "text/plain": [
       "Minibatch:   0%|          | 0/1 [00:00<?, ?it/s]"
      ]
     },
     "metadata": {},
     "output_type": "display_data"
    },
    {
     "data": {
      "application/vnd.jupyter.widget-view+json": {
       "model_id": "",
       "version_major": 2,
       "version_minor": 0
      },
      "text/plain": [
       "Minibatch:   0%|          | 0/1 [00:00<?, ?it/s]"
      ]
     },
     "metadata": {},
     "output_type": "display_data"
    },
    {
     "data": {
      "application/vnd.jupyter.widget-view+json": {
       "model_id": "",
       "version_major": 2,
       "version_minor": 0
      },
      "text/plain": [
       "Minibatch:   0%|          | 0/1 [00:00<?, ?it/s]"
      ]
     },
     "metadata": {},
     "output_type": "display_data"
    },
    {
     "data": {
      "application/vnd.jupyter.widget-view+json": {
       "model_id": "",
       "version_major": 2,
       "version_minor": 0
      },
      "text/plain": [
       "Minibatch:   0%|          | 0/1 [00:00<?, ?it/s]"
      ]
     },
     "metadata": {},
     "output_type": "display_data"
    },
    {
     "data": {
      "application/vnd.jupyter.widget-view+json": {
       "model_id": "",
       "version_major": 2,
       "version_minor": 0
      },
      "text/plain": [
       "Minibatch:   0%|          | 0/1 [00:00<?, ?it/s]"
      ]
     },
     "metadata": {},
     "output_type": "display_data"
    },
    {
     "data": {
      "application/vnd.jupyter.widget-view+json": {
       "model_id": "",
       "version_major": 2,
       "version_minor": 0
      },
      "text/plain": [
       "Minibatch:   0%|          | 0/1 [00:00<?, ?it/s]"
      ]
     },
     "metadata": {},
     "output_type": "display_data"
    },
    {
     "data": {
      "application/vnd.jupyter.widget-view+json": {
       "model_id": "",
       "version_major": 2,
       "version_minor": 0
      },
      "text/plain": [
       "Minibatch:   0%|          | 0/1 [00:00<?, ?it/s]"
      ]
     },
     "metadata": {},
     "output_type": "display_data"
    },
    {
     "data": {
      "application/vnd.jupyter.widget-view+json": {
       "model_id": "",
       "version_major": 2,
       "version_minor": 0
      },
      "text/plain": [
       "Minibatch:   0%|          | 0/1 [00:00<?, ?it/s]"
      ]
     },
     "metadata": {},
     "output_type": "display_data"
    },
    {
     "data": {
      "application/vnd.jupyter.widget-view+json": {
       "model_id": "",
       "version_major": 2,
       "version_minor": 0
      },
      "text/plain": [
       "Minibatch:   0%|          | 0/1 [00:00<?, ?it/s]"
      ]
     },
     "metadata": {},
     "output_type": "display_data"
    },
    {
     "data": {
      "application/vnd.jupyter.widget-view+json": {
       "model_id": "",
       "version_major": 2,
       "version_minor": 0
      },
      "text/plain": [
       "Minibatch:   0%|          | 0/1 [00:00<?, ?it/s]"
      ]
     },
     "metadata": {},
     "output_type": "display_data"
    },
    {
     "data": {
      "application/vnd.jupyter.widget-view+json": {
       "model_id": "",
       "version_major": 2,
       "version_minor": 0
      },
      "text/plain": [
       "Minibatch:   0%|          | 0/1 [00:00<?, ?it/s]"
      ]
     },
     "metadata": {},
     "output_type": "display_data"
    },
    {
     "data": {
      "application/vnd.jupyter.widget-view+json": {
       "model_id": "",
       "version_major": 2,
       "version_minor": 0
      },
      "text/plain": [
       "Minibatch:   0%|          | 0/1 [00:00<?, ?it/s]"
      ]
     },
     "metadata": {},
     "output_type": "display_data"
    },
    {
     "data": {
      "application/vnd.jupyter.widget-view+json": {
       "model_id": "",
       "version_major": 2,
       "version_minor": 0
      },
      "text/plain": [
       "Minibatch:   0%|          | 0/1 [00:00<?, ?it/s]"
      ]
     },
     "metadata": {},
     "output_type": "display_data"
    }
   ],
   "source": [
    "epochs_iter = tqdm.notebook.tqdm(range(100), desc=\"Epoch\")\n",
    "\n",
    "for i in epochs_iter:\n",
    "    minibatch_iter = tqdm.notebook.tqdm(dl_train, desc=\"Minibatch\", leave=False)\n",
    "\n",
    "    for j, (x_batch, y_batch) in enumerate(minibatch_iter):\n",
    "        ### Perform NGD step to optimize variational parameters\n",
    "        variational_ngd_optimizer.zero_grad()\n",
    "        hyperparameter_optimizer.zero_grad()\n",
    "        output = model(x_batch)\n",
    "        loss = -mll(output, y_batch)\n",
    "        minibatch_iter.set_postfix(loss=loss.item())\n",
    "        loss.backward()\n",
    "        variational_ngd_optimizer.step()\n",
    "        hyperparameter_optimizer.step()\n",
    "        wandb.log({\"nll_loss\": loss.item(), \"batch\":j , \"epoch\":i})\n",
    "        "
   ]
  },
  {
   "cell_type": "markdown",
   "id": "62ed2cdc-b549-4969-8d98-204f9728bee3",
   "metadata": {},
   "source": [
    "### Save models"
   ]
  },
  {
   "cell_type": "code",
   "execution_count": 187,
   "id": "ed63a01f-45a1-4c00-bc03-2cfcb9910978",
   "metadata": {},
   "outputs": [
    {
     "data": {
      "text/plain": []
     },
     "execution_count": 187,
     "metadata": {},
     "output_type": "execute_result"
    }
   ],
   "source": [
    "# objects\n",
    "path_scaler = \"scaler.pickle\"\n",
    "path_model = \"model.pickle\"\n",
    "\n",
    "# models to save\n",
    "torch.save(model.state_dict(), path_model)\n",
    "save_object(scaler, path_scaler)\n",
    "\n",
    "# save with wandb\n",
    "wandb.save(str(path_scaler))\n",
    "wandb.save(str(path_model))"
   ]
  },
  {
   "cell_type": "markdown",
   "id": "3952eecb-b099-4422-8c91-52285bb01c6e",
   "metadata": {},
   "source": [
    "### Load Models (Optional)"
   ]
  },
  {
   "cell_type": "code",
   "execution_count": 188,
   "id": "50cccbdb-ac0a-49e0-84e9-e14067312257",
   "metadata": {},
   "outputs": [],
   "source": [
    "# # if args.server == \"jz\":\n",
    "# # get id (from this run or a run you can set)\n",
    "# run_id = wandb.run.id\n",
    "\n",
    "# # initialize api\n",
    "# api = wandb.Api()\n",
    "\n",
    "# # get run\n",
    "# run = api.run(f\"{args.entity}/{args.project}/{run_id}\")\n",
    "\n",
    "# # download the files\n",
    "# files = [\n",
    "#     \"scaler.pickle\", \n",
    "#     \"model.pickle\"\n",
    "# ]\n",
    "\n",
    "# for ifile in files:\n",
    "    \n",
    "#     run.file(ifile).download(replace=True)"
   ]
  },
  {
   "cell_type": "code",
   "execution_count": 189,
   "id": "cef597ca-bc1f-4996-b51a-f5deed6c5491",
   "metadata": {},
   "outputs": [],
   "source": [
    "# model = load_object(\"./model.pickle\")\n",
    "# scaler = load_object(\"./scaler.pickle\")"
   ]
  },
  {
   "cell_type": "markdown",
   "id": "450003ae-4943-4704-b6f4-5b7eab4f21ba",
   "metadata": {},
   "source": [
    "### PostProcessing"
   ]
  },
  {
   "cell_type": "code",
   "execution_count": 216,
   "id": "316e79d9-efc8-4707-9c67-e9781e110004",
   "metadata": {},
   "outputs": [
    {
     "data": {
      "text/html": [
       "<div>\n",
       "<style scoped>\n",
       "    .dataframe tbody tr th:only-of-type {\n",
       "        vertical-align: middle;\n",
       "    }\n",
       "\n",
       "    .dataframe tbody tr th {\n",
       "        vertical-align: top;\n",
       "    }\n",
       "\n",
       "    .dataframe thead th {\n",
       "        text-align: right;\n",
       "    }\n",
       "</style>\n",
       "<table border=\"1\" class=\"dataframe\">\n",
       "  <thead>\n",
       "    <tr style=\"text-align: right;\">\n",
       "      <th></th>\n",
       "      <th>longitude</th>\n",
       "      <th>latitude</th>\n",
       "      <th>vtime</th>\n",
       "    </tr>\n",
       "  </thead>\n",
       "  <tbody>\n",
       "    <tr>\n",
       "      <th>count</th>\n",
       "      <td>2664.000000</td>\n",
       "      <td>2664.000000</td>\n",
       "      <td>2664.000000</td>\n",
       "    </tr>\n",
       "    <tr>\n",
       "      <th>mean</th>\n",
       "      <td>300.000000</td>\n",
       "      <td>38.000000</td>\n",
       "      <td>213.500000</td>\n",
       "    </tr>\n",
       "    <tr>\n",
       "      <th>std</th>\n",
       "      <td>3.416292</td>\n",
       "      <td>3.416292</td>\n",
       "      <td>106.820098</td>\n",
       "    </tr>\n",
       "    <tr>\n",
       "      <th>min</th>\n",
       "      <td>295.000000</td>\n",
       "      <td>33.000000</td>\n",
       "      <td>31.000000</td>\n",
       "    </tr>\n",
       "    <tr>\n",
       "      <th>25%</th>\n",
       "      <td>297.000000</td>\n",
       "      <td>35.000000</td>\n",
       "      <td>121.000000</td>\n",
       "    </tr>\n",
       "    <tr>\n",
       "      <th>50%</th>\n",
       "      <td>300.000000</td>\n",
       "      <td>38.000000</td>\n",
       "      <td>213.500000</td>\n",
       "    </tr>\n",
       "    <tr>\n",
       "      <th>75%</th>\n",
       "      <td>303.000000</td>\n",
       "      <td>41.000000</td>\n",
       "      <td>306.000000</td>\n",
       "    </tr>\n",
       "    <tr>\n",
       "      <th>max</th>\n",
       "      <td>305.000000</td>\n",
       "      <td>43.000000</td>\n",
       "      <td>396.000000</td>\n",
       "    </tr>\n",
       "  </tbody>\n",
       "</table>\n",
       "</div>"
      ],
      "text/plain": [
       "         longitude     latitude        vtime\n",
       "count  2664.000000  2664.000000  2664.000000\n",
       "mean    300.000000    38.000000   213.500000\n",
       "std       3.416292     3.416292   106.820098\n",
       "min     295.000000    33.000000    31.000000\n",
       "25%     297.000000    35.000000   121.000000\n",
       "50%     300.000000    38.000000   213.500000\n",
       "75%     303.000000    41.000000   306.000000\n",
       "max     305.000000    43.000000   396.000000"
      ]
     },
     "execution_count": 216,
     "metadata": {},
     "output_type": "execute_result"
    }
   ],
   "source": [
    "df_grid = generate_eval_data(args)\n",
    "\n",
    "df_grid.describe()"
   ]
  },
  {
   "cell_type": "code",
   "execution_count": 217,
   "id": "d4d296bb-b91d-4993-b0ee-bff91208b6e9",
   "metadata": {},
   "outputs": [
    {
     "name": "stdout",
     "output_type": "stream",
     "text": [
      "['longitude', 'latitude', 'time']\n"
     ]
    },
    {
     "data": {
      "text/html": [
       "<div>\n",
       "<style scoped>\n",
       "    .dataframe tbody tr th:only-of-type {\n",
       "        vertical-align: middle;\n",
       "    }\n",
       "\n",
       "    .dataframe tbody tr th {\n",
       "        vertical-align: top;\n",
       "    }\n",
       "\n",
       "    .dataframe thead th {\n",
       "        text-align: right;\n",
       "    }\n",
       "</style>\n",
       "<table border=\"1\" class=\"dataframe\">\n",
       "  <thead>\n",
       "    <tr style=\"text-align: right;\">\n",
       "      <th></th>\n",
       "      <th>longitude</th>\n",
       "      <th>latitude</th>\n",
       "      <th>time</th>\n",
       "      <th>vtime</th>\n",
       "    </tr>\n",
       "  </thead>\n",
       "  <tbody>\n",
       "    <tr>\n",
       "      <th>count</th>\n",
       "      <td>2664.000000</td>\n",
       "      <td>2664.000000</td>\n",
       "      <td>2664.000000</td>\n",
       "      <td>2664.000000</td>\n",
       "    </tr>\n",
       "    <tr>\n",
       "      <th>mean</th>\n",
       "      <td>-0.176144</td>\n",
       "      <td>0.279259</td>\n",
       "      <td>0.054567</td>\n",
       "      <td>213.500000</td>\n",
       "    </tr>\n",
       "    <tr>\n",
       "      <th>std</th>\n",
       "      <td>0.403951</td>\n",
       "      <td>0.436710</td>\n",
       "      <td>0.863828</td>\n",
       "      <td>106.820098</td>\n",
       "    </tr>\n",
       "    <tr>\n",
       "      <th>min</th>\n",
       "      <td>-0.767357</td>\n",
       "      <td>-0.359899</td>\n",
       "      <td>-1.421267</td>\n",
       "      <td>31.000000</td>\n",
       "    </tr>\n",
       "    <tr>\n",
       "      <th>25%</th>\n",
       "      <td>-0.530872</td>\n",
       "      <td>-0.104236</td>\n",
       "      <td>-0.693458</td>\n",
       "      <td>121.000000</td>\n",
       "    </tr>\n",
       "    <tr>\n",
       "      <th>50%</th>\n",
       "      <td>-0.176144</td>\n",
       "      <td>0.279259</td>\n",
       "      <td>0.054567</td>\n",
       "      <td>213.500000</td>\n",
       "    </tr>\n",
       "    <tr>\n",
       "      <th>75%</th>\n",
       "      <td>0.178584</td>\n",
       "      <td>0.662754</td>\n",
       "      <td>0.802592</td>\n",
       "      <td>306.000000</td>\n",
       "    </tr>\n",
       "    <tr>\n",
       "      <th>max</th>\n",
       "      <td>0.415069</td>\n",
       "      <td>0.918417</td>\n",
       "      <td>1.530400</td>\n",
       "      <td>396.000000</td>\n",
       "    </tr>\n",
       "  </tbody>\n",
       "</table>\n",
       "</div>"
      ],
      "text/plain": [
       "         longitude     latitude         time        vtime\n",
       "count  2664.000000  2664.000000  2664.000000  2664.000000\n",
       "mean     -0.176144     0.279259     0.054567   213.500000\n",
       "std       0.403951     0.436710     0.863828   106.820098\n",
       "min      -0.767357    -0.359899    -1.421267    31.000000\n",
       "25%      -0.530872    -0.104236    -0.693458   121.000000\n",
       "50%      -0.176144     0.279259     0.054567   213.500000\n",
       "75%       0.178584     0.662754     0.802592   306.000000\n",
       "max       0.415069     0.918417     1.530400   396.000000"
      ]
     },
     "execution_count": 217,
     "metadata": {},
     "output_type": "execute_result"
    }
   ],
   "source": [
    "df_pred = feature_transform(df_grid.copy(), args, scaler=scaler)\n",
    "df_pred.describe()"
   ]
  },
  {
   "cell_type": "code",
   "execution_count": 218,
   "id": "acbd5cfd-7e16-4aab-88e0-8acbc5edb53e",
   "metadata": {},
   "outputs": [
    {
     "data": {
      "text/html": [
       "<div>\n",
       "<style scoped>\n",
       "    .dataframe tbody tr th:only-of-type {\n",
       "        vertical-align: middle;\n",
       "    }\n",
       "\n",
       "    .dataframe tbody tr th {\n",
       "        vertical-align: top;\n",
       "    }\n",
       "\n",
       "    .dataframe thead th {\n",
       "        text-align: right;\n",
       "    }\n",
       "</style>\n",
       "<table border=\"1\" class=\"dataframe\">\n",
       "  <thead>\n",
       "    <tr style=\"text-align: right;\">\n",
       "      <th></th>\n",
       "      <th>longitude</th>\n",
       "      <th>latitude</th>\n",
       "      <th>vtime</th>\n",
       "    </tr>\n",
       "  </thead>\n",
       "  <tbody>\n",
       "    <tr>\n",
       "      <th>count</th>\n",
       "      <td>2664.000000</td>\n",
       "      <td>2664.000000</td>\n",
       "      <td>2664.000000</td>\n",
       "    </tr>\n",
       "    <tr>\n",
       "      <th>mean</th>\n",
       "      <td>300.000000</td>\n",
       "      <td>38.000000</td>\n",
       "      <td>213.500000</td>\n",
       "    </tr>\n",
       "    <tr>\n",
       "      <th>std</th>\n",
       "      <td>3.416292</td>\n",
       "      <td>3.416292</td>\n",
       "      <td>106.820098</td>\n",
       "    </tr>\n",
       "    <tr>\n",
       "      <th>min</th>\n",
       "      <td>295.000000</td>\n",
       "      <td>33.000000</td>\n",
       "      <td>31.000000</td>\n",
       "    </tr>\n",
       "    <tr>\n",
       "      <th>25%</th>\n",
       "      <td>297.000000</td>\n",
       "      <td>35.000000</td>\n",
       "      <td>121.000000</td>\n",
       "    </tr>\n",
       "    <tr>\n",
       "      <th>50%</th>\n",
       "      <td>300.000000</td>\n",
       "      <td>38.000000</td>\n",
       "      <td>213.500000</td>\n",
       "    </tr>\n",
       "    <tr>\n",
       "      <th>75%</th>\n",
       "      <td>303.000000</td>\n",
       "      <td>41.000000</td>\n",
       "      <td>306.000000</td>\n",
       "    </tr>\n",
       "    <tr>\n",
       "      <th>max</th>\n",
       "      <td>305.000000</td>\n",
       "      <td>43.000000</td>\n",
       "      <td>396.000000</td>\n",
       "    </tr>\n",
       "  </tbody>\n",
       "</table>\n",
       "</div>"
      ],
      "text/plain": [
       "         longitude     latitude        vtime\n",
       "count  2664.000000  2664.000000  2664.000000\n",
       "mean    300.000000    38.000000   213.500000\n",
       "std       3.416292     3.416292   106.820098\n",
       "min     295.000000    33.000000    31.000000\n",
       "25%     297.000000    35.000000   121.000000\n",
       "50%     300.000000    38.000000   213.500000\n",
       "75%     303.000000    41.000000   306.000000\n",
       "max     305.000000    43.000000   396.000000"
      ]
     },
     "execution_count": 218,
     "metadata": {},
     "output_type": "execute_result"
    }
   ],
   "source": [
    "df_grid.describe()"
   ]
  },
  {
   "cell_type": "code",
   "execution_count": 219,
   "id": "8eb60b56-b570-42dd-82f7-77d92d2fe3a0",
   "metadata": {},
   "outputs": [],
   "source": [
    "df_pred = df_pred[df_pred.attrs[\"input_cols\"]]"
   ]
  },
  {
   "cell_type": "code",
   "execution_count": 220,
   "id": "77a4c5c6-ef56-485c-9db3-77a678598b51",
   "metadata": {},
   "outputs": [
    {
     "data": {
      "text/html": [
       "<div>\n",
       "<style scoped>\n",
       "    .dataframe tbody tr th:only-of-type {\n",
       "        vertical-align: middle;\n",
       "    }\n",
       "\n",
       "    .dataframe tbody tr th {\n",
       "        vertical-align: top;\n",
       "    }\n",
       "\n",
       "    .dataframe thead th {\n",
       "        text-align: right;\n",
       "    }\n",
       "</style>\n",
       "<table border=\"1\" class=\"dataframe\">\n",
       "  <thead>\n",
       "    <tr style=\"text-align: right;\">\n",
       "      <th></th>\n",
       "      <th>longitude</th>\n",
       "      <th>latitude</th>\n",
       "      <th>time</th>\n",
       "    </tr>\n",
       "  </thead>\n",
       "  <tbody>\n",
       "    <tr>\n",
       "      <th>0</th>\n",
       "      <td>-0.767357</td>\n",
       "      <td>-0.359899</td>\n",
       "      <td>-1.421267</td>\n",
       "    </tr>\n",
       "    <tr>\n",
       "      <th>1</th>\n",
       "      <td>-0.767357</td>\n",
       "      <td>-0.359899</td>\n",
       "      <td>-1.380833</td>\n",
       "    </tr>\n",
       "    <tr>\n",
       "      <th>2</th>\n",
       "      <td>-0.767357</td>\n",
       "      <td>-0.359899</td>\n",
       "      <td>-1.340399</td>\n",
       "    </tr>\n",
       "    <tr>\n",
       "      <th>3</th>\n",
       "      <td>-0.767357</td>\n",
       "      <td>-0.359899</td>\n",
       "      <td>-1.299965</td>\n",
       "    </tr>\n",
       "    <tr>\n",
       "      <th>4</th>\n",
       "      <td>-0.767357</td>\n",
       "      <td>-0.359899</td>\n",
       "      <td>-1.259531</td>\n",
       "    </tr>\n",
       "  </tbody>\n",
       "</table>\n",
       "</div>"
      ],
      "text/plain": [
       "   longitude  latitude      time\n",
       "0  -0.767357 -0.359899 -1.421267\n",
       "1  -0.767357 -0.359899 -1.380833\n",
       "2  -0.767357 -0.359899 -1.340399\n",
       "3  -0.767357 -0.359899 -1.299965\n",
       "4  -0.767357 -0.359899 -1.259531"
      ]
     },
     "execution_count": 220,
     "metadata": {},
     "output_type": "execute_result"
    }
   ],
   "source": [
    "df_pred.head()"
   ]
  },
  {
   "cell_type": "code",
   "execution_count": 221,
   "id": "ef8c0188-5c72-4414-b0f2-5d273d549f50",
   "metadata": {},
   "outputs": [],
   "source": [
    "xtest = df_pred.values"
   ]
  },
  {
   "cell_type": "code",
   "execution_count": 222,
   "id": "c80fc761-30ec-45ee-8101-95ef5d6a83f5",
   "metadata": {},
   "outputs": [],
   "source": [
    "from torch.utils.data import TensorDataset"
   ]
  },
  {
   "cell_type": "code",
   "execution_count": 223,
   "id": "b155deaa-5227-41b5-aa38-edb8308b4772",
   "metadata": {},
   "outputs": [],
   "source": [
    "# initialize dataset\n",
    "xtest = torch.Tensor(xtest)\n",
    "if torch.cuda.is_available():\n",
    "    xtest = xtest.cuda()\n",
    "\n",
    "ds_test = TensorDataset(xtest)\n",
    "# initialize dataloader\n",
    "dl_test = DataLoader(\n",
    "    ds_test, \n",
    "    batch_size=args.eval_batch_size, \n",
    "    shuffle=False, \n",
    "    pin_memory=True\n",
    ")"
   ]
  },
  {
   "cell_type": "code",
   "execution_count": 226,
   "id": "224e84e2-7d1f-4a9b-afee-0299a088fc99",
   "metadata": {},
   "outputs": [
    {
     "data": {
      "text/plain": [
       "[tensor([[-0.7674, -0.3599, -1.4213],\n",
       "         [-0.7674, -0.3599, -1.3808],\n",
       "         [-0.7674, -0.3599, -1.3404],\n",
       "         ...,\n",
       "         [ 0.4151,  0.9184,  1.4495],\n",
       "         [ 0.4151,  0.9184,  1.4900],\n",
       "         [ 0.4151,  0.9184,  1.5304]])]"
      ]
     },
     "execution_count": 226,
     "metadata": {},
     "output_type": "execute_result"
    }
   ],
   "source": [
    "x_batch"
   ]
  },
  {
   "cell_type": "code",
   "execution_count": 228,
   "id": "af97e585-5b8a-4cb9-bff2-f4ede435be57",
   "metadata": {},
   "outputs": [
    {
     "name": "stderr",
     "output_type": "stream",
     "text": [
      "100%|██████████| 1/1 [00:00<00:00, 10.91it/s]\n"
     ]
    }
   ],
   "source": [
    "\n",
    "\n",
    "model.eval()\n",
    "likelihood.eval()\n",
    "means = torch.tensor([])\n",
    "variances = torch.tensor([])\n",
    "\n",
    "# t0 = time.time()\n",
    "\n",
    "with torch.no_grad():\n",
    "    for x_batch in tqdm.tqdm(dl_test):\n",
    "        preds = model(x_batch[0])\n",
    "        means = torch.cat([means, preds.mean.cpu()])\n",
    "        variances = torch.cat([variances, preds.variance.cpu()])\n"
   ]
  },
  {
   "cell_type": "code",
   "execution_count": 229,
   "id": "c010e7a5-a111-4838-8240-0fee416cbcc2",
   "metadata": {},
   "outputs": [],
   "source": [
    "df_grid[\"pred\"] = means.numpy()\n",
    "df_grid[\"var\"] = variances.numpy()"
   ]
  },
  {
   "cell_type": "code",
   "execution_count": 230,
   "id": "665740c1-03cb-49ea-8ce1-22db16a85b84",
   "metadata": {},
   "outputs": [],
   "source": [
    "wandb.config.update(\n",
    "    {\n",
    "        \"n_test\": df_pred.shape[0],\n",
    "    }\n",
    ")"
   ]
  },
  {
   "cell_type": "code",
   "execution_count": 231,
   "id": "11412828-7bd7-4c9c-aaf9-3b638d638313",
   "metadata": {},
   "outputs": [
    {
     "name": "stderr",
     "output_type": "stream",
     "text": [
      "/home/johnsonj/miniconda3/envs/jaxtftorch_cpu_py39/lib/python3.9/site-packages/xarray/core/missing.py:562: FutureWarning: Passing method to Float64Index.get_loc is deprecated and will raise in a future version. Use index.get_indexer([item], method=...) instead.\n",
      "  imin = index.get_loc(minval, method=\"nearest\")\n",
      "/home/johnsonj/miniconda3/envs/jaxtftorch_cpu_py39/lib/python3.9/site-packages/xarray/core/missing.py:563: FutureWarning: Passing method to Float64Index.get_loc is deprecated and will raise in a future version. Use index.get_indexer([item], method=...) instead.\n",
      "  imax = index.get_loc(maxval, method=\"nearest\")\n",
      "/home/johnsonj/miniconda3/envs/jaxtftorch_cpu_py39/lib/python3.9/site-packages/xarray/core/missing.py:562: FutureWarning: Passing method to Float64Index.get_loc is deprecated and will raise in a future version. Use index.get_indexer([item], method=...) instead.\n",
      "  imin = index.get_loc(minval, method=\"nearest\")\n",
      "/home/johnsonj/miniconda3/envs/jaxtftorch_cpu_py39/lib/python3.9/site-packages/xarray/core/missing.py:563: FutureWarning: Passing method to Float64Index.get_loc is deprecated and will raise in a future version. Use index.get_indexer([item], method=...) instead.\n",
      "  imax = index.get_loc(maxval, method=\"nearest\")\n"
     ]
    }
   ],
   "source": [
    "ds_oi = postprocess_data(df_grid, args)"
   ]
  },
  {
   "cell_type": "code",
   "execution_count": 232,
   "id": "974dab93-a32b-4fa7-82f8-dc6fcffbc68a",
   "metadata": {},
   "outputs": [
    {
     "data": {
      "text/html": [
       "<div><svg style=\"position: absolute; width: 0; height: 0; overflow: hidden\">\n",
       "<defs>\n",
       "<symbol id=\"icon-database\" viewBox=\"0 0 32 32\">\n",
       "<path d=\"M16 0c-8.837 0-16 2.239-16 5v4c0 2.761 7.163 5 16 5s16-2.239 16-5v-4c0-2.761-7.163-5-16-5z\"></path>\n",
       "<path d=\"M16 17c-8.837 0-16-2.239-16-5v6c0 2.761 7.163 5 16 5s16-2.239 16-5v-6c0 2.761-7.163 5-16 5z\"></path>\n",
       "<path d=\"M16 26c-8.837 0-16-2.239-16-5v6c0 2.761 7.163 5 16 5s16-2.239 16-5v-6c0 2.761-7.163 5-16 5z\"></path>\n",
       "</symbol>\n",
       "<symbol id=\"icon-file-text2\" viewBox=\"0 0 32 32\">\n",
       "<path d=\"M28.681 7.159c-0.694-0.947-1.662-2.053-2.724-3.116s-2.169-2.030-3.116-2.724c-1.612-1.182-2.393-1.319-2.841-1.319h-15.5c-1.378 0-2.5 1.121-2.5 2.5v27c0 1.378 1.122 2.5 2.5 2.5h23c1.378 0 2.5-1.122 2.5-2.5v-19.5c0-0.448-0.137-1.23-1.319-2.841zM24.543 5.457c0.959 0.959 1.712 1.825 2.268 2.543h-4.811v-4.811c0.718 0.556 1.584 1.309 2.543 2.268zM28 29.5c0 0.271-0.229 0.5-0.5 0.5h-23c-0.271 0-0.5-0.229-0.5-0.5v-27c0-0.271 0.229-0.5 0.5-0.5 0 0 15.499-0 15.5 0v7c0 0.552 0.448 1 1 1h7v19.5z\"></path>\n",
       "<path d=\"M23 26h-14c-0.552 0-1-0.448-1-1s0.448-1 1-1h14c0.552 0 1 0.448 1 1s-0.448 1-1 1z\"></path>\n",
       "<path d=\"M23 22h-14c-0.552 0-1-0.448-1-1s0.448-1 1-1h14c0.552 0 1 0.448 1 1s-0.448 1-1 1z\"></path>\n",
       "<path d=\"M23 18h-14c-0.552 0-1-0.448-1-1s0.448-1 1-1h14c0.552 0 1 0.448 1 1s-0.448 1-1 1z\"></path>\n",
       "</symbol>\n",
       "</defs>\n",
       "</svg>\n",
       "<style>/* CSS stylesheet for displaying xarray objects in jupyterlab.\n",
       " *\n",
       " */\n",
       "\n",
       ":root {\n",
       "  --xr-font-color0: var(--jp-content-font-color0, rgba(0, 0, 0, 1));\n",
       "  --xr-font-color2: var(--jp-content-font-color2, rgba(0, 0, 0, 0.54));\n",
       "  --xr-font-color3: var(--jp-content-font-color3, rgba(0, 0, 0, 0.38));\n",
       "  --xr-border-color: var(--jp-border-color2, #e0e0e0);\n",
       "  --xr-disabled-color: var(--jp-layout-color3, #bdbdbd);\n",
       "  --xr-background-color: var(--jp-layout-color0, white);\n",
       "  --xr-background-color-row-even: var(--jp-layout-color1, white);\n",
       "  --xr-background-color-row-odd: var(--jp-layout-color2, #eeeeee);\n",
       "}\n",
       "\n",
       "html[theme=dark],\n",
       "body.vscode-dark {\n",
       "  --xr-font-color0: rgba(255, 255, 255, 1);\n",
       "  --xr-font-color2: rgba(255, 255, 255, 0.54);\n",
       "  --xr-font-color3: rgba(255, 255, 255, 0.38);\n",
       "  --xr-border-color: #1F1F1F;\n",
       "  --xr-disabled-color: #515151;\n",
       "  --xr-background-color: #111111;\n",
       "  --xr-background-color-row-even: #111111;\n",
       "  --xr-background-color-row-odd: #313131;\n",
       "}\n",
       "\n",
       ".xr-wrap {\n",
       "  display: block;\n",
       "  min-width: 300px;\n",
       "  max-width: 700px;\n",
       "}\n",
       "\n",
       ".xr-text-repr-fallback {\n",
       "  /* fallback to plain text repr when CSS is not injected (untrusted notebook) */\n",
       "  display: none;\n",
       "}\n",
       "\n",
       ".xr-header {\n",
       "  padding-top: 6px;\n",
       "  padding-bottom: 6px;\n",
       "  margin-bottom: 4px;\n",
       "  border-bottom: solid 1px var(--xr-border-color);\n",
       "}\n",
       "\n",
       ".xr-header > div,\n",
       ".xr-header > ul {\n",
       "  display: inline;\n",
       "  margin-top: 0;\n",
       "  margin-bottom: 0;\n",
       "}\n",
       "\n",
       ".xr-obj-type,\n",
       ".xr-array-name {\n",
       "  margin-left: 2px;\n",
       "  margin-right: 10px;\n",
       "}\n",
       "\n",
       ".xr-obj-type {\n",
       "  color: var(--xr-font-color2);\n",
       "}\n",
       "\n",
       ".xr-sections {\n",
       "  padding-left: 0 !important;\n",
       "  display: grid;\n",
       "  grid-template-columns: 150px auto auto 1fr 20px 20px;\n",
       "}\n",
       "\n",
       ".xr-section-item {\n",
       "  display: contents;\n",
       "}\n",
       "\n",
       ".xr-section-item input {\n",
       "  display: none;\n",
       "}\n",
       "\n",
       ".xr-section-item input + label {\n",
       "  color: var(--xr-disabled-color);\n",
       "}\n",
       "\n",
       ".xr-section-item input:enabled + label {\n",
       "  cursor: pointer;\n",
       "  color: var(--xr-font-color2);\n",
       "}\n",
       "\n",
       ".xr-section-item input:enabled + label:hover {\n",
       "  color: var(--xr-font-color0);\n",
       "}\n",
       "\n",
       ".xr-section-summary {\n",
       "  grid-column: 1;\n",
       "  color: var(--xr-font-color2);\n",
       "  font-weight: 500;\n",
       "}\n",
       "\n",
       ".xr-section-summary > span {\n",
       "  display: inline-block;\n",
       "  padding-left: 0.5em;\n",
       "}\n",
       "\n",
       ".xr-section-summary-in:disabled + label {\n",
       "  color: var(--xr-font-color2);\n",
       "}\n",
       "\n",
       ".xr-section-summary-in + label:before {\n",
       "  display: inline-block;\n",
       "  content: '►';\n",
       "  font-size: 11px;\n",
       "  width: 15px;\n",
       "  text-align: center;\n",
       "}\n",
       "\n",
       ".xr-section-summary-in:disabled + label:before {\n",
       "  color: var(--xr-disabled-color);\n",
       "}\n",
       "\n",
       ".xr-section-summary-in:checked + label:before {\n",
       "  content: '▼';\n",
       "}\n",
       "\n",
       ".xr-section-summary-in:checked + label > span {\n",
       "  display: none;\n",
       "}\n",
       "\n",
       ".xr-section-summary,\n",
       ".xr-section-inline-details {\n",
       "  padding-top: 4px;\n",
       "  padding-bottom: 4px;\n",
       "}\n",
       "\n",
       ".xr-section-inline-details {\n",
       "  grid-column: 2 / -1;\n",
       "}\n",
       "\n",
       ".xr-section-details {\n",
       "  display: none;\n",
       "  grid-column: 1 / -1;\n",
       "  margin-bottom: 5px;\n",
       "}\n",
       "\n",
       ".xr-section-summary-in:checked ~ .xr-section-details {\n",
       "  display: contents;\n",
       "}\n",
       "\n",
       ".xr-array-wrap {\n",
       "  grid-column: 1 / -1;\n",
       "  display: grid;\n",
       "  grid-template-columns: 20px auto;\n",
       "}\n",
       "\n",
       ".xr-array-wrap > label {\n",
       "  grid-column: 1;\n",
       "  vertical-align: top;\n",
       "}\n",
       "\n",
       ".xr-preview {\n",
       "  color: var(--xr-font-color3);\n",
       "}\n",
       "\n",
       ".xr-array-preview,\n",
       ".xr-array-data {\n",
       "  padding: 0 5px !important;\n",
       "  grid-column: 2;\n",
       "}\n",
       "\n",
       ".xr-array-data,\n",
       ".xr-array-in:checked ~ .xr-array-preview {\n",
       "  display: none;\n",
       "}\n",
       "\n",
       ".xr-array-in:checked ~ .xr-array-data,\n",
       ".xr-array-preview {\n",
       "  display: inline-block;\n",
       "}\n",
       "\n",
       ".xr-dim-list {\n",
       "  display: inline-block !important;\n",
       "  list-style: none;\n",
       "  padding: 0 !important;\n",
       "  margin: 0;\n",
       "}\n",
       "\n",
       ".xr-dim-list li {\n",
       "  display: inline-block;\n",
       "  padding: 0;\n",
       "  margin: 0;\n",
       "}\n",
       "\n",
       ".xr-dim-list:before {\n",
       "  content: '(';\n",
       "}\n",
       "\n",
       ".xr-dim-list:after {\n",
       "  content: ')';\n",
       "}\n",
       "\n",
       ".xr-dim-list li:not(:last-child):after {\n",
       "  content: ',';\n",
       "  padding-right: 5px;\n",
       "}\n",
       "\n",
       ".xr-has-index {\n",
       "  font-weight: bold;\n",
       "}\n",
       "\n",
       ".xr-var-list,\n",
       ".xr-var-item {\n",
       "  display: contents;\n",
       "}\n",
       "\n",
       ".xr-var-item > div,\n",
       ".xr-var-item label,\n",
       ".xr-var-item > .xr-var-name span {\n",
       "  background-color: var(--xr-background-color-row-even);\n",
       "  margin-bottom: 0;\n",
       "}\n",
       "\n",
       ".xr-var-item > .xr-var-name:hover span {\n",
       "  padding-right: 5px;\n",
       "}\n",
       "\n",
       ".xr-var-list > li:nth-child(odd) > div,\n",
       ".xr-var-list > li:nth-child(odd) > label,\n",
       ".xr-var-list > li:nth-child(odd) > .xr-var-name span {\n",
       "  background-color: var(--xr-background-color-row-odd);\n",
       "}\n",
       "\n",
       ".xr-var-name {\n",
       "  grid-column: 1;\n",
       "}\n",
       "\n",
       ".xr-var-dims {\n",
       "  grid-column: 2;\n",
       "}\n",
       "\n",
       ".xr-var-dtype {\n",
       "  grid-column: 3;\n",
       "  text-align: right;\n",
       "  color: var(--xr-font-color2);\n",
       "}\n",
       "\n",
       ".xr-var-preview {\n",
       "  grid-column: 4;\n",
       "}\n",
       "\n",
       ".xr-var-name,\n",
       ".xr-var-dims,\n",
       ".xr-var-dtype,\n",
       ".xr-preview,\n",
       ".xr-attrs dt {\n",
       "  white-space: nowrap;\n",
       "  overflow: hidden;\n",
       "  text-overflow: ellipsis;\n",
       "  padding-right: 10px;\n",
       "}\n",
       "\n",
       ".xr-var-name:hover,\n",
       ".xr-var-dims:hover,\n",
       ".xr-var-dtype:hover,\n",
       ".xr-attrs dt:hover {\n",
       "  overflow: visible;\n",
       "  width: auto;\n",
       "  z-index: 1;\n",
       "}\n",
       "\n",
       ".xr-var-attrs,\n",
       ".xr-var-data {\n",
       "  display: none;\n",
       "  background-color: var(--xr-background-color) !important;\n",
       "  padding-bottom: 5px !important;\n",
       "}\n",
       "\n",
       ".xr-var-attrs-in:checked ~ .xr-var-attrs,\n",
       ".xr-var-data-in:checked ~ .xr-var-data {\n",
       "  display: block;\n",
       "}\n",
       "\n",
       ".xr-var-data > table {\n",
       "  float: right;\n",
       "}\n",
       "\n",
       ".xr-var-name span,\n",
       ".xr-var-data,\n",
       ".xr-attrs {\n",
       "  padding-left: 25px !important;\n",
       "}\n",
       "\n",
       ".xr-attrs,\n",
       ".xr-var-attrs,\n",
       ".xr-var-data {\n",
       "  grid-column: 1 / -1;\n",
       "}\n",
       "\n",
       "dl.xr-attrs {\n",
       "  padding: 0;\n",
       "  margin: 0;\n",
       "  display: grid;\n",
       "  grid-template-columns: 125px auto;\n",
       "}\n",
       "\n",
       ".xr-attrs dt,\n",
       ".xr-attrs dd {\n",
       "  padding: 0;\n",
       "  margin: 0;\n",
       "  float: left;\n",
       "  padding-right: 10px;\n",
       "  width: auto;\n",
       "}\n",
       "\n",
       ".xr-attrs dt {\n",
       "  font-weight: normal;\n",
       "  grid-column: 1;\n",
       "}\n",
       "\n",
       ".xr-attrs dt:hover span {\n",
       "  display: inline-block;\n",
       "  background: var(--xr-background-color);\n",
       "  padding-right: 10px;\n",
       "}\n",
       "\n",
       ".xr-attrs dd {\n",
       "  grid-column: 2;\n",
       "  white-space: pre-wrap;\n",
       "  word-break: break-all;\n",
       "}\n",
       "\n",
       ".xr-icon-database,\n",
       ".xr-icon-file-text2 {\n",
       "  display: inline-block;\n",
       "  vertical-align: middle;\n",
       "  width: 1em;\n",
       "  height: 1.5em !important;\n",
       "  stroke-width: 0;\n",
       "  stroke: currentColor;\n",
       "  fill: currentColor;\n",
       "}\n",
       "</style><pre class='xr-text-repr-fallback'>&lt;xarray.Dataset&gt;\n",
       "Dimensions:    (latitude: 6, longitude: 6, time: 74)\n",
       "Coordinates:\n",
       "  * latitude   (latitude) float64 33.0 35.0 37.0 39.0 41.0 43.0\n",
       "  * longitude  (longitude) float64 295.0 297.0 299.0 301.0 303.0 305.0\n",
       "  * time       (time) datetime64[ns] 2017-01-01 2017-01-06 ... 2018-01-01\n",
       "Data variables:\n",
       "    index      (latitude, longitude, time) int64 0 1 2 3 ... 2660 2661 2662 2663\n",
       "    vtime      (latitude, longitude, time) float64 31.0 36.0 ... 391.0 396.0\n",
       "    pred       (latitude, longitude, time) float32 -0.0002424 ... 0.0007132\n",
       "    var        (latitude, longitude, time) float32 0.6932 0.6932 ... 0.6932\n",
       "    ssh        (latitude, longitude, time) float64 0.5994 0.5994 ... -0.1707</pre><div class='xr-wrap' hidden><div class='xr-header'><div class='xr-obj-type'>xarray.Dataset</div></div><ul class='xr-sections'><li class='xr-section-item'><input id='section-7603817a-6d55-4507-99b8-5875eaf8a26a' class='xr-section-summary-in' type='checkbox' disabled ><label for='section-7603817a-6d55-4507-99b8-5875eaf8a26a' class='xr-section-summary'  title='Expand/collapse section'>Dimensions:</label><div class='xr-section-inline-details'><ul class='xr-dim-list'><li><span class='xr-has-index'>latitude</span>: 6</li><li><span class='xr-has-index'>longitude</span>: 6</li><li><span class='xr-has-index'>time</span>: 74</li></ul></div><div class='xr-section-details'></div></li><li class='xr-section-item'><input id='section-ed64eb30-92f8-4b16-9329-2e2801392fb6' class='xr-section-summary-in' type='checkbox'  checked><label for='section-ed64eb30-92f8-4b16-9329-2e2801392fb6' class='xr-section-summary' >Coordinates: <span>(3)</span></label><div class='xr-section-inline-details'></div><div class='xr-section-details'><ul class='xr-var-list'><li class='xr-var-item'><div class='xr-var-name'><span class='xr-has-index'>latitude</span></div><div class='xr-var-dims'>(latitude)</div><div class='xr-var-dtype'>float64</div><div class='xr-var-preview xr-preview'>33.0 35.0 37.0 39.0 41.0 43.0</div><input id='attrs-7430dfbc-8b23-463f-9e9b-7f4c617fd5d8' class='xr-var-attrs-in' type='checkbox' disabled><label for='attrs-7430dfbc-8b23-463f-9e9b-7f4c617fd5d8' title='Show/Hide attributes'><svg class='icon xr-icon-file-text2'><use xlink:href='#icon-file-text2'></use></svg></label><input id='data-259b76ea-f490-4294-aa75-4fdeffeb9554' class='xr-var-data-in' type='checkbox'><label for='data-259b76ea-f490-4294-aa75-4fdeffeb9554' title='Show/Hide data repr'><svg class='icon xr-icon-database'><use xlink:href='#icon-database'></use></svg></label><div class='xr-var-attrs'><dl class='xr-attrs'></dl></div><div class='xr-var-data'><pre>array([33., 35., 37., 39., 41., 43.])</pre></div></li><li class='xr-var-item'><div class='xr-var-name'><span class='xr-has-index'>longitude</span></div><div class='xr-var-dims'>(longitude)</div><div class='xr-var-dtype'>float64</div><div class='xr-var-preview xr-preview'>295.0 297.0 299.0 301.0 303.0 305.0</div><input id='attrs-949ef6d8-edc5-4ebf-884c-9c48c0852e39' class='xr-var-attrs-in' type='checkbox' disabled><label for='attrs-949ef6d8-edc5-4ebf-884c-9c48c0852e39' title='Show/Hide attributes'><svg class='icon xr-icon-file-text2'><use xlink:href='#icon-file-text2'></use></svg></label><input id='data-ef92dc16-51b4-43f9-a7fd-69a51f4b3862' class='xr-var-data-in' type='checkbox'><label for='data-ef92dc16-51b4-43f9-a7fd-69a51f4b3862' title='Show/Hide data repr'><svg class='icon xr-icon-database'><use xlink:href='#icon-database'></use></svg></label><div class='xr-var-attrs'><dl class='xr-attrs'></dl></div><div class='xr-var-data'><pre>array([295., 297., 299., 301., 303., 305.])</pre></div></li><li class='xr-var-item'><div class='xr-var-name'><span class='xr-has-index'>time</span></div><div class='xr-var-dims'>(time)</div><div class='xr-var-dtype'>datetime64[ns]</div><div class='xr-var-preview xr-preview'>2017-01-01 ... 2018-01-01</div><input id='attrs-586513d2-4ef6-49cc-87cd-a3ae5c55e4dc' class='xr-var-attrs-in' type='checkbox' disabled><label for='attrs-586513d2-4ef6-49cc-87cd-a3ae5c55e4dc' title='Show/Hide attributes'><svg class='icon xr-icon-file-text2'><use xlink:href='#icon-file-text2'></use></svg></label><input id='data-cb289df6-06e0-4d61-a15c-0b36553e12aa' class='xr-var-data-in' type='checkbox'><label for='data-cb289df6-06e0-4d61-a15c-0b36553e12aa' title='Show/Hide data repr'><svg class='icon xr-icon-database'><use xlink:href='#icon-database'></use></svg></label><div class='xr-var-attrs'><dl class='xr-attrs'></dl></div><div class='xr-var-data'><pre>array([&#x27;2017-01-01T00:00:00.000000000&#x27;, &#x27;2017-01-06T00:00:00.000000000&#x27;,\n",
       "       &#x27;2017-01-11T00:00:00.000000000&#x27;, &#x27;2017-01-16T00:00:00.000000000&#x27;,\n",
       "       &#x27;2017-01-21T00:00:00.000000000&#x27;, &#x27;2017-01-26T00:00:00.000000000&#x27;,\n",
       "       &#x27;2017-01-31T00:00:00.000000000&#x27;, &#x27;2017-02-05T00:00:00.000000000&#x27;,\n",
       "       &#x27;2017-02-10T00:00:00.000000000&#x27;, &#x27;2017-02-15T00:00:00.000000000&#x27;,\n",
       "       &#x27;2017-02-20T00:00:00.000000000&#x27;, &#x27;2017-02-25T00:00:00.000000000&#x27;,\n",
       "       &#x27;2017-03-02T00:00:00.000000000&#x27;, &#x27;2017-03-07T00:00:00.000000000&#x27;,\n",
       "       &#x27;2017-03-12T00:00:00.000000000&#x27;, &#x27;2017-03-17T00:00:00.000000000&#x27;,\n",
       "       &#x27;2017-03-22T00:00:00.000000000&#x27;, &#x27;2017-03-27T00:00:00.000000000&#x27;,\n",
       "       &#x27;2017-04-01T00:00:00.000000000&#x27;, &#x27;2017-04-06T00:00:00.000000000&#x27;,\n",
       "       &#x27;2017-04-11T00:00:00.000000000&#x27;, &#x27;2017-04-16T00:00:00.000000000&#x27;,\n",
       "       &#x27;2017-04-21T00:00:00.000000000&#x27;, &#x27;2017-04-26T00:00:00.000000000&#x27;,\n",
       "       &#x27;2017-05-01T00:00:00.000000000&#x27;, &#x27;2017-05-06T00:00:00.000000000&#x27;,\n",
       "       &#x27;2017-05-11T00:00:00.000000000&#x27;, &#x27;2017-05-16T00:00:00.000000000&#x27;,\n",
       "       &#x27;2017-05-21T00:00:00.000000000&#x27;, &#x27;2017-05-26T00:00:00.000000000&#x27;,\n",
       "       &#x27;2017-05-31T00:00:00.000000000&#x27;, &#x27;2017-06-05T00:00:00.000000000&#x27;,\n",
       "       &#x27;2017-06-10T00:00:00.000000000&#x27;, &#x27;2017-06-15T00:00:00.000000000&#x27;,\n",
       "       &#x27;2017-06-20T00:00:00.000000000&#x27;, &#x27;2017-06-25T00:00:00.000000000&#x27;,\n",
       "       &#x27;2017-06-30T00:00:00.000000000&#x27;, &#x27;2017-07-05T00:00:00.000000000&#x27;,\n",
       "       &#x27;2017-07-10T00:00:00.000000000&#x27;, &#x27;2017-07-15T00:00:00.000000000&#x27;,\n",
       "       &#x27;2017-07-20T00:00:00.000000000&#x27;, &#x27;2017-07-25T00:00:00.000000000&#x27;,\n",
       "       &#x27;2017-07-30T00:00:00.000000000&#x27;, &#x27;2017-08-04T00:00:00.000000000&#x27;,\n",
       "       &#x27;2017-08-09T00:00:00.000000000&#x27;, &#x27;2017-08-14T00:00:00.000000000&#x27;,\n",
       "       &#x27;2017-08-19T00:00:00.000000000&#x27;, &#x27;2017-08-24T00:00:00.000000000&#x27;,\n",
       "       &#x27;2017-08-29T00:00:00.000000000&#x27;, &#x27;2017-09-03T00:00:00.000000000&#x27;,\n",
       "       &#x27;2017-09-08T00:00:00.000000000&#x27;, &#x27;2017-09-13T00:00:00.000000000&#x27;,\n",
       "       &#x27;2017-09-18T00:00:00.000000000&#x27;, &#x27;2017-09-23T00:00:00.000000000&#x27;,\n",
       "       &#x27;2017-09-28T00:00:00.000000000&#x27;, &#x27;2017-10-03T00:00:00.000000000&#x27;,\n",
       "       &#x27;2017-10-08T00:00:00.000000000&#x27;, &#x27;2017-10-13T00:00:00.000000000&#x27;,\n",
       "       &#x27;2017-10-18T00:00:00.000000000&#x27;, &#x27;2017-10-23T00:00:00.000000000&#x27;,\n",
       "       &#x27;2017-10-28T00:00:00.000000000&#x27;, &#x27;2017-11-02T00:00:00.000000000&#x27;,\n",
       "       &#x27;2017-11-07T00:00:00.000000000&#x27;, &#x27;2017-11-12T00:00:00.000000000&#x27;,\n",
       "       &#x27;2017-11-17T00:00:00.000000000&#x27;, &#x27;2017-11-22T00:00:00.000000000&#x27;,\n",
       "       &#x27;2017-11-27T00:00:00.000000000&#x27;, &#x27;2017-12-02T00:00:00.000000000&#x27;,\n",
       "       &#x27;2017-12-07T00:00:00.000000000&#x27;, &#x27;2017-12-12T00:00:00.000000000&#x27;,\n",
       "       &#x27;2017-12-17T00:00:00.000000000&#x27;, &#x27;2017-12-22T00:00:00.000000000&#x27;,\n",
       "       &#x27;2017-12-27T00:00:00.000000000&#x27;, &#x27;2018-01-01T00:00:00.000000000&#x27;],\n",
       "      dtype=&#x27;datetime64[ns]&#x27;)</pre></div></li></ul></div></li><li class='xr-section-item'><input id='section-bd092eae-6fb3-4e38-8f61-3ce680eb2c10' class='xr-section-summary-in' type='checkbox'  checked><label for='section-bd092eae-6fb3-4e38-8f61-3ce680eb2c10' class='xr-section-summary' >Data variables: <span>(5)</span></label><div class='xr-section-inline-details'></div><div class='xr-section-details'><ul class='xr-var-list'><li class='xr-var-item'><div class='xr-var-name'><span>index</span></div><div class='xr-var-dims'>(latitude, longitude, time)</div><div class='xr-var-dtype'>int64</div><div class='xr-var-preview xr-preview'>0 1 2 3 4 ... 2660 2661 2662 2663</div><input id='attrs-4549b06f-7016-4f1a-8ccc-875035cdcc69' class='xr-var-attrs-in' type='checkbox' disabled><label for='attrs-4549b06f-7016-4f1a-8ccc-875035cdcc69' title='Show/Hide attributes'><svg class='icon xr-icon-file-text2'><use xlink:href='#icon-file-text2'></use></svg></label><input id='data-0c202f59-738d-4966-beaa-11ded34cc4f3' class='xr-var-data-in' type='checkbox'><label for='data-0c202f59-738d-4966-beaa-11ded34cc4f3' title='Show/Hide data repr'><svg class='icon xr-icon-database'><use xlink:href='#icon-database'></use></svg></label><div class='xr-var-attrs'><dl class='xr-attrs'></dl></div><div class='xr-var-data'><pre>array([[[   0,    1,    2, ...,   71,   72,   73],\n",
       "        [  74,   75,   76, ...,  145,  146,  147],\n",
       "        [ 148,  149,  150, ...,  219,  220,  221],\n",
       "        [ 222,  223,  224, ...,  293,  294,  295],\n",
       "        [ 296,  297,  298, ...,  367,  368,  369],\n",
       "        [ 370,  371,  372, ...,  441,  442,  443]],\n",
       "\n",
       "       [[ 444,  445,  446, ...,  515,  516,  517],\n",
       "        [ 518,  519,  520, ...,  589,  590,  591],\n",
       "        [ 592,  593,  594, ...,  663,  664,  665],\n",
       "        [ 666,  667,  668, ...,  737,  738,  739],\n",
       "        [ 740,  741,  742, ...,  811,  812,  813],\n",
       "        [ 814,  815,  816, ...,  885,  886,  887]],\n",
       "\n",
       "       [[ 888,  889,  890, ...,  959,  960,  961],\n",
       "        [ 962,  963,  964, ..., 1033, 1034, 1035],\n",
       "        [1036, 1037, 1038, ..., 1107, 1108, 1109],\n",
       "        [1110, 1111, 1112, ..., 1181, 1182, 1183],\n",
       "        [1184, 1185, 1186, ..., 1255, 1256, 1257],\n",
       "        [1258, 1259, 1260, ..., 1329, 1330, 1331]],\n",
       "...\n",
       "       [[1332, 1333, 1334, ..., 1403, 1404, 1405],\n",
       "        [1406, 1407, 1408, ..., 1477, 1478, 1479],\n",
       "        [1480, 1481, 1482, ..., 1551, 1552, 1553],\n",
       "        [1554, 1555, 1556, ..., 1625, 1626, 1627],\n",
       "        [1628, 1629, 1630, ..., 1699, 1700, 1701],\n",
       "        [1702, 1703, 1704, ..., 1773, 1774, 1775]],\n",
       "\n",
       "       [[1776, 1777, 1778, ..., 1847, 1848, 1849],\n",
       "        [1850, 1851, 1852, ..., 1921, 1922, 1923],\n",
       "        [1924, 1925, 1926, ..., 1995, 1996, 1997],\n",
       "        [1998, 1999, 2000, ..., 2069, 2070, 2071],\n",
       "        [2072, 2073, 2074, ..., 2143, 2144, 2145],\n",
       "        [2146, 2147, 2148, ..., 2217, 2218, 2219]],\n",
       "\n",
       "       [[2220, 2221, 2222, ..., 2291, 2292, 2293],\n",
       "        [2294, 2295, 2296, ..., 2365, 2366, 2367],\n",
       "        [2368, 2369, 2370, ..., 2439, 2440, 2441],\n",
       "        [2442, 2443, 2444, ..., 2513, 2514, 2515],\n",
       "        [2516, 2517, 2518, ..., 2587, 2588, 2589],\n",
       "        [2590, 2591, 2592, ..., 2661, 2662, 2663]]])</pre></div></li><li class='xr-var-item'><div class='xr-var-name'><span>vtime</span></div><div class='xr-var-dims'>(latitude, longitude, time)</div><div class='xr-var-dtype'>float64</div><div class='xr-var-preview xr-preview'>31.0 36.0 41.0 ... 391.0 396.0</div><input id='attrs-5cf88320-6efa-4722-b043-8d70d178301d' class='xr-var-attrs-in' type='checkbox' disabled><label for='attrs-5cf88320-6efa-4722-b043-8d70d178301d' title='Show/Hide attributes'><svg class='icon xr-icon-file-text2'><use xlink:href='#icon-file-text2'></use></svg></label><input id='data-1be66abb-b35a-4680-b906-b77a0db3cf56' class='xr-var-data-in' type='checkbox'><label for='data-1be66abb-b35a-4680-b906-b77a0db3cf56' title='Show/Hide data repr'><svg class='icon xr-icon-database'><use xlink:href='#icon-database'></use></svg></label><div class='xr-var-attrs'><dl class='xr-attrs'></dl></div><div class='xr-var-data'><pre>array([[[ 31.,  36.,  41., ..., 386., 391., 396.],\n",
       "        [ 31.,  36.,  41., ..., 386., 391., 396.],\n",
       "        [ 31.,  36.,  41., ..., 386., 391., 396.],\n",
       "        [ 31.,  36.,  41., ..., 386., 391., 396.],\n",
       "        [ 31.,  36.,  41., ..., 386., 391., 396.],\n",
       "        [ 31.,  36.,  41., ..., 386., 391., 396.]],\n",
       "\n",
       "       [[ 31.,  36.,  41., ..., 386., 391., 396.],\n",
       "        [ 31.,  36.,  41., ..., 386., 391., 396.],\n",
       "        [ 31.,  36.,  41., ..., 386., 391., 396.],\n",
       "        [ 31.,  36.,  41., ..., 386., 391., 396.],\n",
       "        [ 31.,  36.,  41., ..., 386., 391., 396.],\n",
       "        [ 31.,  36.,  41., ..., 386., 391., 396.]],\n",
       "\n",
       "       [[ 31.,  36.,  41., ..., 386., 391., 396.],\n",
       "        [ 31.,  36.,  41., ..., 386., 391., 396.],\n",
       "        [ 31.,  36.,  41., ..., 386., 391., 396.],\n",
       "        [ 31.,  36.,  41., ..., 386., 391., 396.],\n",
       "        [ 31.,  36.,  41., ..., 386., 391., 396.],\n",
       "        [ 31.,  36.,  41., ..., 386., 391., 396.]],\n",
       "...\n",
       "       [[ 31.,  36.,  41., ..., 386., 391., 396.],\n",
       "        [ 31.,  36.,  41., ..., 386., 391., 396.],\n",
       "        [ 31.,  36.,  41., ..., 386., 391., 396.],\n",
       "        [ 31.,  36.,  41., ..., 386., 391., 396.],\n",
       "        [ 31.,  36.,  41., ..., 386., 391., 396.],\n",
       "        [ 31.,  36.,  41., ..., 386., 391., 396.]],\n",
       "\n",
       "       [[ 31.,  36.,  41., ..., 386., 391., 396.],\n",
       "        [ 31.,  36.,  41., ..., 386., 391., 396.],\n",
       "        [ 31.,  36.,  41., ..., 386., 391., 396.],\n",
       "        [ 31.,  36.,  41., ..., 386., 391., 396.],\n",
       "        [ 31.,  36.,  41., ..., 386., 391., 396.],\n",
       "        [ 31.,  36.,  41., ..., 386., 391., 396.]],\n",
       "\n",
       "       [[ 31.,  36.,  41., ..., 386., 391., 396.],\n",
       "        [ 31.,  36.,  41., ..., 386., 391., 396.],\n",
       "        [ 31.,  36.,  41., ..., 386., 391., 396.],\n",
       "        [ 31.,  36.,  41., ..., 386., 391., 396.],\n",
       "        [ 31.,  36.,  41., ..., 386., 391., 396.],\n",
       "        [ 31.,  36.,  41., ..., 386., 391., 396.]]])</pre></div></li><li class='xr-var-item'><div class='xr-var-name'><span>pred</span></div><div class='xr-var-dims'>(latitude, longitude, time)</div><div class='xr-var-dtype'>float32</div><div class='xr-var-preview xr-preview'>-0.0002424 -0.0002396 ... 0.0007132</div><input id='attrs-86892833-0557-4492-bfc1-0baed9115894' class='xr-var-attrs-in' type='checkbox' disabled><label for='attrs-86892833-0557-4492-bfc1-0baed9115894' title='Show/Hide attributes'><svg class='icon xr-icon-file-text2'><use xlink:href='#icon-file-text2'></use></svg></label><input id='data-2d6e8f53-aff5-4335-8e6b-6de7ffe35988' class='xr-var-data-in' type='checkbox'><label for='data-2d6e8f53-aff5-4335-8e6b-6de7ffe35988' title='Show/Hide data repr'><svg class='icon xr-icon-database'><use xlink:href='#icon-database'></use></svg></label><div class='xr-var-attrs'><dl class='xr-attrs'></dl></div><div class='xr-var-data'><pre>array([[[-2.42445996e-04, -2.39630390e-04, -2.33988831e-04, ...,\n",
       "         -4.82043833e-04, -5.18487999e-04, -5.54546830e-04],\n",
       "        [-2.78538617e-04, -2.78537598e-04, -2.76299339e-04, ...,\n",
       "         -1.96248875e-04, -2.07875506e-04, -2.21326482e-04],\n",
       "        [-6.00517611e-04, -6.04722823e-04, -6.06067595e-04, ...,\n",
       "          7.58454844e-05,  8.16850807e-05,  8.41936562e-05],\n",
       "        [-9.66455438e-04, -9.75461560e-04, -9.80643672e-04, ...,\n",
       "          2.19025402e-04,  2.35486601e-04,  2.48074619e-04],\n",
       "        [-1.11562014e-03, -1.13183307e-03, -1.14409765e-03, ...,\n",
       "          1.61972683e-04,  1.84343357e-04,  2.03231029e-04],\n",
       "        [-9.23369778e-04, -9.51267895e-04, -9.76518902e-04, ...,\n",
       "         -7.09899323e-05, -4.70443811e-05, -2.54246770e-05]],\n",
       "\n",
       "       [[-5.68102289e-04, -5.53924358e-04, -5.36249310e-04, ...,\n",
       "         -8.00031936e-04, -8.32045625e-04, -8.63126712e-04],\n",
       "        [-6.77083386e-04, -6.63175248e-04, -6.46065921e-04, ...,\n",
       "         -5.06892626e-04, -5.11551916e-04, -5.17625653e-04],\n",
       "        [-9.99741838e-04, -9.89944208e-04, -9.76226991e-04, ...,\n",
       "         -1.90624909e-04, -1.76353802e-04, -1.65154488e-04],\n",
       "        [-1.30486675e-03, -1.30120572e-03, -1.29277911e-03, ...,\n",
       "...\n",
       "        [-5.89447620e-04, -5.52454439e-04, -5.14638261e-04, ...,\n",
       "          7.52406660e-04,  7.54801091e-04,  7.52379536e-04],\n",
       "        [-4.29433625e-04, -4.02991660e-04, -3.76752374e-04, ...,\n",
       "          7.75923487e-04,  7.79877650e-04,  7.78935500e-04],\n",
       "        [-1.51848508e-04, -1.38825242e-04, -1.27703359e-04, ...,\n",
       "          7.68751896e-04,  7.72298605e-04,  7.70926592e-04]],\n",
       "\n",
       "       [[-7.49903847e-05, -4.88947262e-05, -2.36686901e-05, ...,\n",
       "          1.09258038e-03,  1.07583730e-03,  1.05429103e-03],\n",
       "        [-2.89748714e-05,  7.48576713e-06,  4.27490450e-05, ...,\n",
       "          1.08248903e-03,  1.07250235e-03,  1.05739001e-03],\n",
       "        [ 2.36440101e-05,  6.43846870e-05,  1.03619532e-04, ...,\n",
       "          9.74756083e-04,  9.69676184e-04,  9.59671394e-04],\n",
       "        [ 1.15229668e-04,  1.53909205e-04,  1.90547871e-04, ...,\n",
       "          8.48245458e-04,  8.45881994e-04,  8.38927168e-04],\n",
       "        [ 2.67407479e-04,  2.98757921e-04,  3.27112968e-04, ...,\n",
       "          7.57101632e-04,  7.55551853e-04,  7.49581610e-04],\n",
       "        [ 4.66692756e-04,  4.86932084e-04,  5.02812560e-04, ...,\n",
       "          7.22725235e-04,  7.20218290e-04,  7.13230635e-04]]],\n",
       "      dtype=float32)</pre></div></li><li class='xr-var-item'><div class='xr-var-name'><span>var</span></div><div class='xr-var-dims'>(latitude, longitude, time)</div><div class='xr-var-dtype'>float32</div><div class='xr-var-preview xr-preview'>0.6932 0.6932 ... 0.6932 0.6932</div><input id='attrs-a5063bb2-d66a-4cbe-a226-ff9ea0fbcfdb' class='xr-var-attrs-in' type='checkbox' disabled><label for='attrs-a5063bb2-d66a-4cbe-a226-ff9ea0fbcfdb' title='Show/Hide attributes'><svg class='icon xr-icon-file-text2'><use xlink:href='#icon-file-text2'></use></svg></label><input id='data-52e3d324-6280-407d-85ec-8ff5b4d78a7d' class='xr-var-data-in' type='checkbox'><label for='data-52e3d324-6280-407d-85ec-8ff5b4d78a7d' title='Show/Hide data repr'><svg class='icon xr-icon-database'><use xlink:href='#icon-database'></use></svg></label><div class='xr-var-attrs'><dl class='xr-attrs'></dl></div><div class='xr-var-data'><pre>array([[[0.6932472, 0.6932472, 0.6932472, ..., 0.6932472, 0.6932472,\n",
       "         0.6932472],\n",
       "        [0.6932472, 0.6932472, 0.6932472, ..., 0.6932472, 0.6932472,\n",
       "         0.6932472],\n",
       "        [0.6932472, 0.6932472, 0.6932472, ..., 0.6932472, 0.6932472,\n",
       "         0.6932472],\n",
       "        [0.6932472, 0.6932472, 0.6932472, ..., 0.6932472, 0.6932472,\n",
       "         0.6932472],\n",
       "        [0.6932472, 0.6932472, 0.6932472, ..., 0.6932472, 0.6932472,\n",
       "         0.6932472],\n",
       "        [0.6932472, 0.6932472, 0.6932472, ..., 0.6932472, 0.6932472,\n",
       "         0.6932472]],\n",
       "\n",
       "       [[0.6932472, 0.6932472, 0.6932472, ..., 0.6932472, 0.6932472,\n",
       "         0.6932472],\n",
       "        [0.6932472, 0.6932472, 0.6932472, ..., 0.6932472, 0.6932472,\n",
       "         0.6932472],\n",
       "        [0.6932472, 0.6932472, 0.6932472, ..., 0.6932472, 0.6932472,\n",
       "         0.6932472],\n",
       "        [0.6932472, 0.6932472, 0.6932472, ..., 0.6932472, 0.6932472,\n",
       "...\n",
       "         0.6932472],\n",
       "        [0.6932472, 0.6932472, 0.6932472, ..., 0.6932472, 0.6932472,\n",
       "         0.6932472],\n",
       "        [0.6932472, 0.6932472, 0.6932472, ..., 0.6932472, 0.6932472,\n",
       "         0.6932472],\n",
       "        [0.6932472, 0.6932472, 0.6932472, ..., 0.6932472, 0.6932472,\n",
       "         0.6932472]],\n",
       "\n",
       "       [[0.6932472, 0.6932472, 0.6932472, ..., 0.6932472, 0.6932472,\n",
       "         0.6932472],\n",
       "        [0.6932472, 0.6932472, 0.6932472, ..., 0.6932472, 0.6932472,\n",
       "         0.6932472],\n",
       "        [0.6932472, 0.6932472, 0.6932472, ..., 0.6932472, 0.6932472,\n",
       "         0.6932472],\n",
       "        [0.6932472, 0.6932472, 0.6932472, ..., 0.6932472, 0.6932472,\n",
       "         0.6932472],\n",
       "        [0.6932472, 0.6932472, 0.6932472, ..., 0.6932472, 0.6932472,\n",
       "         0.6932472],\n",
       "        [0.6932472, 0.6932472, 0.6932472, ..., 0.6932472, 0.6932472,\n",
       "         0.6932472]]], dtype=float32)</pre></div></li><li class='xr-var-item'><div class='xr-var-name'><span>ssh</span></div><div class='xr-var-dims'>(latitude, longitude, time)</div><div class='xr-var-dtype'>float64</div><div class='xr-var-preview xr-preview'>0.5994 0.5994 ... -0.1707 -0.1707</div><input id='attrs-4c0f5a58-5e35-462a-a036-fb70cf4fad54' class='xr-var-attrs-in' type='checkbox' disabled><label for='attrs-4c0f5a58-5e35-462a-a036-fb70cf4fad54' title='Show/Hide attributes'><svg class='icon xr-icon-file-text2'><use xlink:href='#icon-file-text2'></use></svg></label><input id='data-4f3b2714-6b42-4712-8e89-e1a60094db94' class='xr-var-data-in' type='checkbox'><label for='data-4f3b2714-6b42-4712-8e89-e1a60094db94' title='Show/Hide data repr'><svg class='icon xr-icon-database'><use xlink:href='#icon-database'></use></svg></label><div class='xr-var-attrs'><dl class='xr-attrs'></dl></div><div class='xr-var-data'><pre>array([[[ 0.59943692,  0.59943974,  0.59944538, ...,  0.59919732,\n",
       "          0.59916088,  0.59912482],\n",
       "        [ 0.5984136 ,  0.5984136 ,  0.59841584, ...,  0.59849589,\n",
       "          0.59848426,  0.59847081],\n",
       "        [ 0.57089275,  0.57088854,  0.5708872 , ...,  0.57156911,\n",
       "          0.57157495,  0.57157746],\n",
       "        [ 0.56352012,  0.56351111,  0.56350593, ...,  0.5647056 ,\n",
       "          0.56472206,  0.56473465],\n",
       "        [ 0.55196871,  0.55195249,  0.55194023, ...,  0.5532463 ,\n",
       "          0.55326867,  0.55328756],\n",
       "        [ 0.53389935,  0.53387145,  0.5338462 , ...,  0.53475173,\n",
       "          0.53477567,  0.53479729]],\n",
       "\n",
       "       [[ 0.7193892 ,  0.71940338,  0.71942106, ...,  0.71915727,\n",
       "          0.71912526,  0.71909418],\n",
       "        [ 0.66301624,  0.66303014,  0.66304725, ...,  0.66318643,\n",
       "          0.66318177,  0.66317569],\n",
       "        [ 0.63180198,  0.63181178,  0.63182549, ...,  0.6326111 ,\n",
       "          0.63262537,  0.63263657],\n",
       "        [ 0.6118494 ,  0.61185306,  0.61186148, ...,  0.61319809,\n",
       "...\n",
       "         -0.09917229, -0.09917869],\n",
       "        [-0.08526018, -0.08522318, -0.08518537, ..., -0.08391832,\n",
       "         -0.08391593, -0.08391835],\n",
       "        [ 0.03971836,  0.0397448 ,  0.03977104, ...,  0.04092371,\n",
       "          0.04092767,  0.04092673],\n",
       "        [-0.02520079, -0.02518777, -0.02517664, ..., -0.02428019,\n",
       "         -0.02427664, -0.02427801]],\n",
       "\n",
       "       [[-0.09606052, -0.09603443, -0.0960092 , ..., -0.09489295,\n",
       "         -0.09490969, -0.09493124],\n",
       "        [-0.14223935, -0.14220289, -0.14216762, ..., -0.14112788,\n",
       "         -0.14113787, -0.14115298],\n",
       "        [-0.16890937, -0.16886863, -0.1688294 , ..., -0.16795826,\n",
       "         -0.16796334, -0.16797334],\n",
       "        [-0.17482958, -0.1747909 , -0.17475426, ..., -0.17409656,\n",
       "         -0.17409893, -0.17410588],\n",
       "        [-0.14953659, -0.14950524, -0.14947688, ..., -0.1490469 ,\n",
       "         -0.14904844, -0.14905442],\n",
       "        [-0.17098743, -0.17096719, -0.17095131, ..., -0.17073139,\n",
       "         -0.1707339 , -0.17074089]]])</pre></div></li></ul></div></li><li class='xr-section-item'><input id='section-50bb4a17-8ffc-4a62-b21b-52786162aa02' class='xr-section-summary-in' type='checkbox' disabled ><label for='section-50bb4a17-8ffc-4a62-b21b-52786162aa02' class='xr-section-summary'  title='Expand/collapse section'>Attributes: <span>(0)</span></label><div class='xr-section-inline-details'></div><div class='xr-section-details'><dl class='xr-attrs'></dl></div></li></ul></div></div>"
      ],
      "text/plain": [
       "<xarray.Dataset>\n",
       "Dimensions:    (latitude: 6, longitude: 6, time: 74)\n",
       "Coordinates:\n",
       "  * latitude   (latitude) float64 33.0 35.0 37.0 39.0 41.0 43.0\n",
       "  * longitude  (longitude) float64 295.0 297.0 299.0 301.0 303.0 305.0\n",
       "  * time       (time) datetime64[ns] 2017-01-01 2017-01-06 ... 2018-01-01\n",
       "Data variables:\n",
       "    index      (latitude, longitude, time) int64 0 1 2 3 ... 2660 2661 2662 2663\n",
       "    vtime      (latitude, longitude, time) float64 31.0 36.0 ... 391.0 396.0\n",
       "    pred       (latitude, longitude, time) float32 -0.0002424 ... 0.0007132\n",
       "    var        (latitude, longitude, time) float32 0.6932 0.6932 ... 0.6932\n",
       "    ssh        (latitude, longitude, time) float64 0.5994 0.5994 ... -0.1707"
      ]
     },
     "execution_count": 232,
     "metadata": {},
     "output_type": "execute_result"
    }
   ],
   "source": [
    "ds_oi"
   ]
  },
  {
   "cell_type": "code",
   "execution_count": 233,
   "id": "f0779492-1be0-48fc-a10b-413666ad305d",
   "metadata": {},
   "outputs": [
    {
     "name": "stdout",
     "output_type": "stream",
     "text": [
      "RMSE (Mean): 0.292\n",
      "RMSE (Std): 0.084\n",
      "NRMSE (Mean): 0.532\n",
      "NRMSE (Std): 0.163\n",
      "CPU times: user 384 ms, sys: 20 ms, total: 404 ms\n",
      "Wall time: 408 ms\n"
     ]
    }
   ],
   "source": [
    "%%time\n",
    "\n",
    "rmse_metrics = get_rmse_metrics(ds_oi, args)\n",
    "\n",
    "wandb.log(\n",
    "    {\n",
    "        \"model_rmse_mean\": rmse_metrics[0],\n",
    "        \"model_rmse_std\": rmse_metrics[1],\n",
    "        \"model_nrmse_mean\": rmse_metrics[2],\n",
    "        \"model_nrmse_std\": rmse_metrics[3],\n",
    "    }\n",
    ")\n",
    "\n",
    "print(rmse_metrics)"
   ]
  },
  {
   "cell_type": "code",
   "execution_count": 234,
   "id": "07446478-0947-46d3-9c92-f2d609be69ed",
   "metadata": {},
   "outputs": [
    {
     "name": "stdout",
     "output_type": "stream",
     "text": [
      "Resolved Scale: 562688034889918.688 (km)\n"
     ]
    }
   ],
   "source": [
    "psd_metrics = get_psd_metrics(ds_oi, args)\n",
    "print(psd_metrics)\n",
    "\n",
    "wandb.log(\n",
    "    {\n",
    "        \"resolved_scale\": psd_metrics.resolved_scale,\n",
    "    }\n",
    ")"
   ]
  },
  {
   "cell_type": "markdown",
   "id": "bd079855-f082-4097-94d5-d5d13d9a31df",
   "metadata": {},
   "source": [
    "### Figures"
   ]
  },
  {
   "cell_type": "code",
   "execution_count": 235,
   "id": "9dd9f802-4cc7-4458-8ce7-ffc63fbab688",
   "metadata": {},
   "outputs": [
    {
     "data": {
      "image/png": "[encoded data removed]",
      "text/plain": [
       "<Figure size 504x360 with 1 Axes>"
      ]
     },
     "metadata": {
      "needs_background": "light"
     },
     "output_type": "display_data"
    }
   ],
   "source": [
    "fig, ax = plot_psd_spectrum(\n",
    "    psd_metrics.psd_study, \n",
    "    psd_metrics.psd_ref, \n",
    "    psd_metrics.wavenumber\n",
    ")\n",
    "\n",
    "\n",
    "wandb.log(\n",
    "    {\n",
    "        \"model_psd_spectrum\": wandb.Image(fig),\n",
    "    }\n",
    ")"
   ]
  },
  {
   "cell_type": "code",
   "execution_count": 236,
   "id": "230a6088-eeb1-4ab3-8031-a2d267b1cdb6",
   "metadata": {},
   "outputs": [
    {
     "data": {
      "image/png": "[encoded data removed]",
      "text/plain": [
       "<Figure size 504x360 with 1 Axes>"
      ]
     },
     "metadata": {
      "needs_background": "light"
     },
     "output_type": "display_data"
    }
   ],
   "source": [
    "fig, ax = plot_psd_score(\n",
    "    psd_metrics.psd_diff, \n",
    "    psd_metrics.psd_ref, \n",
    "    psd_metrics.wavenumber, \n",
    "    psd_metrics.resolved_scale)\n",
    "\n",
    "wandb.log(\n",
    "    {\n",
    "        \"model_psd_score\": wandb.Image(fig),\n",
    "    }\n",
    ")"
   ]
  },
  {
   "cell_type": "markdown",
   "id": "4a2bd7b7-dcb5-4536-b326-cc679b9a8300",
   "metadata": {},
   "source": [
    "### Movies"
   ]
  },
  {
   "cell_type": "code",
   "execution_count": 118,
   "id": "f3253cd8-1f73-425d-85c6-94768652288d",
   "metadata": {},
   "outputs": [],
   "source": [
    "wandb.finish()"
   ]
  },
  {
   "cell_type": "code",
   "execution_count": 42,
   "id": "e5998a5e-152a-47b0-8e35-f364e630bcab",
   "metadata": {},
   "outputs": [],
   "source": [
    "# save_path = wandb.run.dir #Path(root).joinpath(\"experiments/dc_2021b\")"
   ]
  },
  {
   "cell_type": "code",
   "execution_count": 43,
   "id": "af137cf9-e718-497d-be4e-80bf049b6271",
   "metadata": {},
   "outputs": [],
   "source": [
    "# import hvplot.xarray\n",
    "\n",
    "\n",
    "# ds_oi.ssh.hvplot.image(\n",
    "#     x=\"longitude\",\n",
    "#     y=\"latitude\",\n",
    "#     # groupby='time',\n",
    "#     # rasterize=True, \n",
    "#     width=500, height=400, cmap=\"viridis\")"
   ]
  },
  {
   "cell_type": "code",
   "execution_count": 44,
   "id": "0d0aaa8c-6d83-46e2-86b4-cf23cdca1da2",
   "metadata": {},
   "outputs": [],
   "source": [
    "# create_movie(ds_oi.ssh.isel(time=slice(50,60)), f\"pred\", \"time\", cmap=\"viridis\", file_path=save_path)"
   ]
  },
  {
   "cell_type": "markdown",
   "id": "e7956edd-7b4d-4ada-983a-ad0cf3e8f662",
   "metadata": {},
   "source": [
    "<!-- ![](wandb/run-20220601_174733-kx2nr6qb/files/movie_pred.gif) -->"
   ]
  },
  {
   "cell_type": "code",
   "execution_count": 45,
   "id": "98f0bcf3-7732-44bd-b30a-48e6612325af",
   "metadata": {},
   "outputs": [],
   "source": [
    "# if args.smoke_test:\n",
    "#     create_movie(ds_oi.ssh.isel(time=slice(50,60)), f\"pred\", \"time\", cmap=\"viridis\", file_path=save_path)\n",
    "# else:\n",
    "#     create_movie(ds_oi.ssh, f\"pred\", \"time\", cmap=\"viridis\", file_path=save_path)\n"
   ]
  },
  {
   "cell_type": "code",
   "execution_count": 46,
   "id": "4292fd48-f99a-4a12-9ba2-35b9f32c403e",
   "metadata": {},
   "outputs": [],
   "source": [
    "# wandb.log(\n",
    "#     {\n",
    "#         \"predictions_gif\": wandb.Image(f\"{save_path}/movie_pred.gif\"),\n",
    "#     }\n",
    "# )"
   ]
  },
  {
   "cell_type": "markdown",
   "id": "3f7cdb4b-468b-4f37-992b-6403056a2ba9",
   "metadata": {},
   "source": [
    "### Gradients"
   ]
  },
  {
   "cell_type": "code",
   "execution_count": 47,
   "id": "22e7dfb4-8f7c-4cbe-8989-e9e64eab9453",
   "metadata": {},
   "outputs": [],
   "source": [
    "ds_oi[\"ssh_grad\"] = calculate_gradient(ds_oi[\"ssh\"], \"longitude\", \"latitude\")"
   ]
  },
  {
   "cell_type": "code",
   "execution_count": 48,
   "id": "278f6131-30c8-48f5-8250-386124ecc956",
   "metadata": {},
   "outputs": [],
   "source": [
    "# ds_oi.ssh_grad.hvplot.image(\n",
    "#     x=\"longitude\",\n",
    "#     y=\"latitude\",\n",
    "#     # groupby='time',\n",
    "#     # rasterize=True, \n",
    "#     width=500, height=400, cmap=\"Spectral_r\")"
   ]
  },
  {
   "cell_type": "code",
   "execution_count": 49,
   "id": "3975b43e-f722-4948-999f-4e60eaf87362",
   "metadata": {},
   "outputs": [],
   "source": [
    "# if args.smoke_test:\n",
    "#     create_movie(ds_oi.ssh_grad.isel(time=slice(50,60)), f\"pred_grad\", \"time\", cmap=\"Spectral_r\", file_path=save_path)\n",
    "# else:\n",
    "#     create_movie(ds_oi.ssh_grad, f\"pred_grad\", \"time\", cmap=\"Spectral_r\", file_path=save_path)"
   ]
  },
  {
   "cell_type": "code",
   "execution_count": 50,
   "id": "6872c78a-d596-446f-911f-3444b2701991",
   "metadata": {},
   "outputs": [],
   "source": [
    "# wandb.log(\n",
    "#     {\n",
    "#         \"predictions_grad_gif\": wandb.Image(f\"{save_path}/movie_pred_grad.gif\"),\n",
    "#     }\n",
    "# )"
   ]
  },
  {
   "cell_type": "markdown",
   "id": "5d08cd6d-20cb-4726-9204-bab5405e584d",
   "metadata": {},
   "source": [
    "### Laplacian"
   ]
  },
  {
   "cell_type": "code",
   "execution_count": 51,
   "id": "2816a06f-c1bf-485a-8966-a0adffd91df0",
   "metadata": {},
   "outputs": [],
   "source": [
    "ds_oi[\"ssh_lap\"] = calculate_laplacian(ds_oi[\"ssh\"], \"longitude\", \"latitude\")"
   ]
  },
  {
   "cell_type": "code",
   "execution_count": 52,
   "id": "7d39b798-65d0-4f04-a655-16b1f202667b",
   "metadata": {},
   "outputs": [],
   "source": [
    "# ds_oi.ssh_lap.hvplot.image(\n",
    "#     x=\"longitude\",\n",
    "#     y=\"latitude\",\n",
    "#     # groupby='time',\n",
    "#     # rasterize=True, \n",
    "#     width=500, height=400, cmap=\"RdBu_r\")"
   ]
  },
  {
   "cell_type": "code",
   "execution_count": 53,
   "id": "6f401c5c-1ff3-4934-8a24-404366860b99",
   "metadata": {},
   "outputs": [],
   "source": [
    "# if args.smoke_test:\n",
    "#     create_movie(ds_oi.ssh_lap.isel(time=slice(50,60)), f\"pred_lap\", \"time\", cmap=\"RdBu_r\", file_path=save_path)\n",
    "# else:\n",
    "#     create_movie(ds_oi.ssh_lap, f\"pred_lap\", \"time\", cmap=\"RdBu_r\", file_path=save_path)\n"
   ]
  },
  {
   "cell_type": "code",
   "execution_count": 54,
   "id": "05ede2ed-4fe4-4209-83b0-6b25ac618daf",
   "metadata": {},
   "outputs": [],
   "source": [
    "# wandb.log(\n",
    "#     {\n",
    "#         \"predictions_laplacian_gif\": wandb.Image(f\"{save_path}/movie_pred_lap.gif\"),\n",
    "#     }\n",
    "# )"
   ]
  },
  {
   "cell_type": "code",
   "execution_count": null,
   "id": "a9485293-abcd-4af0-9af8-70487d42b1be",
   "metadata": {},
   "outputs": [],
   "source": []
  }
 ],
 "metadata": {
  "kernelspec": {
   "display_name": "Python [conda env:jaxtftorch_cpu_py39]",
   "language": "python",
   "name": "conda-env-jaxtftorch_cpu_py39-py"
  },
  "language_info": {
   "codemirror_mode": {
    "name": "ipython",
    "version": 3
   },
   "file_extension": ".py",
   "mimetype": "text/x-python",
   "name": "python",
   "nbconvert_exporter": "python",
   "pygments_lexer": "ipython3",
   "version": "3.9.12"
  }
 },
 "nbformat": 4,
 "nbformat_minor": 5
}
