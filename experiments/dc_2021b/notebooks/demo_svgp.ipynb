{
 "cells": [
  {
   "cell_type": "code",
   "execution_count": 1,
   "id": "c8a2ee9e-04cc-4c5e-a3eb-4742a7ad7cd1",
   "metadata": {},
   "outputs": [],
   "source": [
    "import sys, os\n",
    "from pyprojroot import here\n",
    "\n",
    "\n",
    "# spyder up to find the root\n",
    "\n",
    "root = here(project_files=[\".root\"])\n",
    "local = here(project_files=[\".local\"])\n",
    "\n",
    "# append to path\n",
    "sys.path.append(str(root))\n",
    "sys.path.append(str(local))"
   ]
  },
  {
   "cell_type": "code",
   "execution_count": 2,
   "id": "4e08b309-df46-4190-96f7-914907b8b422",
   "metadata": {},
   "outputs": [
    {
     "name": "stderr",
     "output_type": "stream",
     "text": [
      "2022-06-03 15:31:39.060219: W tensorflow/stream_executor/platform/default/dso_loader.cc:64] Could not load dynamic library 'libcudart.so.11.0'; dlerror: libcudart.so.11.0: cannot open shared object file: No such file or directory\n",
      "2022-06-03 15:31:39.060258: I tensorflow/stream_executor/cuda/cudart_stub.cc:29] Ignore above cudart dlerror if you do not have a GPU set up on your machine.\n"
     ]
    }
   ],
   "source": [
    "from pathlib import Path\n",
    "import argparse\n",
    "import wandb\n",
    "import tqdm\n",
    "import numpy as np\n",
    "import matplotlib.pyplot as plt\n",
    "import seaborn as sns\n",
    "sns.reset_defaults()\n",
    "sns.set_context(context=\"talk\", font_scale=0.7)\n",
    "# import hvplot.xarray\n",
    "\n",
    "import tensorflow as tf\n",
    "import tensorflow_datasets as tfd\n",
    "import jax\n",
    "import jax.random as jrandom\n",
    "import jax.numpy as jnp\n",
    "import equinox as eqx\n",
    "from ml4ssh._src.io import load_object, save_object\n",
    "from ml4ssh._src.viz import create_movie, plot_psd_spectrum, plot_psd_score\n",
    "from ml4ssh._src.utils import get_meshgrid, calculate_gradient, calculate_laplacian\n",
    "\n",
    "# import parsers\n",
    "from data import get_data_args, load_data\n",
    "from preprocess import add_preprocess_args, preprocess_data\n",
    "from features import add_feature_args, feature_transform\n",
    "from split import add_split_args, split_data\n",
    "from models.gp_tf import add_model_args, get_likelihood, get_kernel, get_inducing_points\n",
    "from loss import add_loss_args, get_loss_fn\n",
    "from logger import add_logger_args\n",
    "from optimizer import add_optimizer_gpflow_args\n",
    "from postprocess import add_postprocess_args, postprocess_data, generate_eval_data\n",
    "from evaluation import add_eval_args, get_rmse_metrics, get_psd_metrics\n",
    "from smoke_test import add_winter_smoke_test_args, add_january_smoke_test_args\n",
    "\n",
    "%matplotlib inline\n",
    "%load_ext autoreload\n",
    "%autoreload 2"
   ]
  },
  {
   "cell_type": "markdown",
   "id": "305ed40f-5926-41e3-8f76-22d50df60c1e",
   "metadata": {},
   "source": [
    "### Arguments"
   ]
  },
  {
   "cell_type": "code",
   "execution_count": 3,
   "id": "ad519f7b-be94-419e-ba50-f14958c2b2a8",
   "metadata": {},
   "outputs": [],
   "source": [
    "parser = argparse.ArgumentParser()\n",
    "\n",
    "# logger\n",
    "parser = add_logger_args(parser)\n",
    "\n",
    "# data\n",
    "parser = get_data_args(parser)\n",
    "\n",
    "# preprocessing, feature transform, split\n",
    "parser = add_preprocess_args(parser)\n",
    "parser = add_feature_args(parser)\n",
    "parser = add_split_args(parser)\n",
    "\n",
    "# model, optimizer, loss\n",
    "parser = add_model_args(parser)\n",
    "parser = add_optimizer_gpflow_args(parser)\n",
    "parser = add_loss_args(parser)\n",
    "\n",
    "# postprocessing, metrics\n",
    "parser = add_postprocess_args(parser)\n",
    "parser = add_eval_args(parser)\n",
    "\n",
    "# parse args\n",
    "args = parser.parse_args([])\n",
    "\n",
    "# # jeanzay specific\n",
    "# args.train_data_dir = \"/gpfsdswork/projects/rech/cli/uvo53rl/data/data_challenges/ssh_mapping_2021/train/\"\n",
    "# args.ref_data_dir = \"/gpfsdswork/projects/rech/cli/uvo53rl/data/data_challenges/ssh_mapping_2021/ref/\"\n",
    "# args.test_data_dir = \"/gpfsdswork/projects/rech/cli/uvo53rl/data/data_challenges/ssh_mapping_2021/test/\"\n",
    "# args.log_dir = \"/gpfswork/rech/cli/uvo53rl/logs\"\n",
    "\n",
    "# subset\n",
    "args.feature_scaler = \"standard\"\n",
    "args.model = \"svgp\"\n",
    "args.smoke_test = True\n",
    "args.wandb_mode = \"online\"\n",
    "args.wandb_resume = True\n",
    "args.id = None # \"2uuq7tks\"\n",
    "args.batch_size = 2048\n",
    "args.n_epochs = 10\n",
    "args.learning_rate = 1e-2\n",
    "\n",
    "args = add_january_smoke_test_args(args)\n",
    "# args = add_winter_smoke_test_args(args)"
   ]
  },
  {
   "cell_type": "code",
   "execution_count": null,
   "id": "088d7aa7-6d84-4b91-8a9f-7ba31028a043",
   "metadata": {},
   "outputs": [],
   "source": []
  },
  {
   "cell_type": "markdown",
   "id": "2816cbb2-1a8f-431d-a12b-d0e4f008b7f5",
   "metadata": {},
   "source": [
    "### Logger\n"
   ]
  },
  {
   "cell_type": "code",
   "execution_count": 4,
   "id": "7733fbe0-fb43-4eda-af8e-50f00e380ec1",
   "metadata": {},
   "outputs": [
    {
     "name": "stderr",
     "output_type": "stream",
     "text": [
      "Failed to detect the name of this notebook, you can set it manually with the WANDB_NOTEBOOK_NAME environment variable to enable code saving.\n",
      "\u001b[34m\u001b[1mwandb\u001b[0m: Currently logged in as: \u001b[33memanjohnson91\u001b[0m (\u001b[33mige\u001b[0m). Use \u001b[1m`wandb login --relogin`\u001b[0m to force relogin\n",
      "2022-06-03 15:31:47.665730: W tensorflow/stream_executor/platform/default/dso_loader.cc:64] Could not load dynamic library 'libcudart.so.11.0'; dlerror: libcudart.so.11.0: cannot open shared object file: No such file or directory\n"
     ]
    },
    {
     "data": {
      "text/html": [
       "Tracking run with wandb version 0.12.17"
      ],
      "text/plain": [
       "<IPython.core.display.HTML object>"
      ]
     },
     "metadata": {},
     "output_type": "display_data"
    },
    {
     "data": {
      "text/html": [
       "Run data is saved locally in <code>./wandb/run-20220603_153145-zlx895gq</code>"
      ],
      "text/plain": [
       "<IPython.core.display.HTML object>"
      ]
     },
     "metadata": {},
     "output_type": "display_data"
    },
    {
     "data": {
      "text/html": [
       "Resuming run <strong><a href=\"https://wandb.ai/ige/gpflow4ssh/runs/zlx895gq\" target=\"_blank\">sweet-snowball-1</a></strong> to <a href=\"https://wandb.ai/ige/gpflow4ssh\" target=\"_blank\">Weights & Biases</a> (<a href=\"https://wandb.me/run\" target=\"_blank\">docs</a>)<br/>"
      ],
      "text/plain": [
       "<IPython.core.display.HTML object>"
      ]
     },
     "metadata": {},
     "output_type": "display_data"
    },
    {
     "data": {
      "text/html": [
       "<button onClick=\"this.nextSibling.style.display='block';this.style.display='none';\">Display W&B run</button><iframe src=\"https://wandb.ai/ige/gpflow4ssh/runs/zlx895gq?jupyter=true\" style=\"border:none;width:100%;height:420px;display:none;\"></iframe>"
      ],
      "text/plain": [
       "<wandb.sdk.wandb_run.Run at 0x7fa9082c6f10>"
      ]
     },
     "execution_count": 4,
     "metadata": {},
     "output_type": "execute_result"
    }
   ],
   "source": [
    "# init wandb logger\n",
    "wandb.init(\n",
    "    id=args.id,\n",
    "    config=args,\n",
    "    mode=args.wandb_mode,\n",
    "    project=args.project,\n",
    "    entity=args.entity,\n",
    "    dir=args.log_dir,\n",
    "    resume=args.wandb_resume\n",
    ")"
   ]
  },
  {
   "cell_type": "markdown",
   "id": "dce2df15-f422-406b-8e53-64edf65f4172",
   "metadata": {},
   "source": [
    "### Load Data"
   ]
  },
  {
   "cell_type": "code",
   "execution_count": 5,
   "id": "74eae4be-332c-4a7a-ad1c-d6055bf6cea6",
   "metadata": {},
   "outputs": [
    {
     "name": "stderr",
     "output_type": "stream",
     "text": [
      "100%|██████████| 6/6 [00:00<00:00, 21.85it/s]\n"
     ]
    },
    {
     "name": "stdout",
     "output_type": "stream",
     "text": [
      "CPU times: user 684 ms, sys: 280 ms, total: 964 ms\n",
      "Wall time: 1.21 s\n"
     ]
    }
   ],
   "source": [
    "%%time\n",
    "\n",
    "# load data\n",
    "data = load_data(args)\n",
    "\n",
    "# preprocess data\n",
    "data = preprocess_data(data, args)\n",
    "\n",
    "# feature transformation\n",
    "data, scaler = feature_transform(data, args)"
   ]
  },
  {
   "cell_type": "code",
   "execution_count": 6,
   "id": "7fd13e5c-5611-45db-8c6b-d168a2a878af",
   "metadata": {},
   "outputs": [
    {
     "data": {
      "text/html": [
       "<div>\n",
       "<style scoped>\n",
       "    .dataframe tbody tr th:only-of-type {\n",
       "        vertical-align: middle;\n",
       "    }\n",
       "\n",
       "    .dataframe tbody tr th {\n",
       "        vertical-align: top;\n",
       "    }\n",
       "\n",
       "    .dataframe thead th {\n",
       "        text-align: right;\n",
       "    }\n",
       "</style>\n",
       "<table border=\"1\" class=\"dataframe\">\n",
       "  <thead>\n",
       "    <tr style=\"text-align: right;\">\n",
       "      <th></th>\n",
       "      <th>longitude</th>\n",
       "      <th>latitude</th>\n",
       "      <th>time</th>\n",
       "    </tr>\n",
       "  </thead>\n",
       "  <tbody>\n",
       "    <tr>\n",
       "      <th>0</th>\n",
       "      <td>1.600540</td>\n",
       "      <td>0.545403</td>\n",
       "      <td>-1.706420</td>\n",
       "    </tr>\n",
       "    <tr>\n",
       "      <th>1</th>\n",
       "      <td>1.598256</td>\n",
       "      <td>0.552926</td>\n",
       "      <td>-1.706420</td>\n",
       "    </tr>\n",
       "    <tr>\n",
       "      <th>2</th>\n",
       "      <td>1.595968</td>\n",
       "      <td>0.560448</td>\n",
       "      <td>-1.706419</td>\n",
       "    </tr>\n",
       "    <tr>\n",
       "      <th>3</th>\n",
       "      <td>1.593677</td>\n",
       "      <td>0.567970</td>\n",
       "      <td>-1.706418</td>\n",
       "    </tr>\n",
       "    <tr>\n",
       "      <th>4</th>\n",
       "      <td>1.591384</td>\n",
       "      <td>0.575492</td>\n",
       "      <td>-1.706418</td>\n",
       "    </tr>\n",
       "  </tbody>\n",
       "</table>\n",
       "</div>"
      ],
      "text/plain": [
       "   longitude  latitude      time\n",
       "0   1.600540  0.545403 -1.706420\n",
       "1   1.598256  0.552926 -1.706420\n",
       "2   1.595968  0.560448 -1.706419\n",
       "3   1.593677  0.567970 -1.706418\n",
       "4   1.591384  0.575492 -1.706418"
      ]
     },
     "execution_count": 6,
     "metadata": {},
     "output_type": "execute_result"
    }
   ],
   "source": [
    "data[data.attrs[\"input_cols\"]].head()"
   ]
  },
  {
   "cell_type": "code",
   "execution_count": 7,
   "id": "db36ee78-49b1-49c9-933a-cc63b04c9403",
   "metadata": {},
   "outputs": [
    {
     "data": {
      "text/html": [
       "<div>\n",
       "<style scoped>\n",
       "    .dataframe tbody tr th:only-of-type {\n",
       "        vertical-align: middle;\n",
       "    }\n",
       "\n",
       "    .dataframe tbody tr th {\n",
       "        vertical-align: top;\n",
       "    }\n",
       "\n",
       "    .dataframe thead th {\n",
       "        text-align: right;\n",
       "    }\n",
       "</style>\n",
       "<table border=\"1\" class=\"dataframe\">\n",
       "  <thead>\n",
       "    <tr style=\"text-align: right;\">\n",
       "      <th></th>\n",
       "      <th>longitude</th>\n",
       "      <th>latitude</th>\n",
       "      <th>time</th>\n",
       "    </tr>\n",
       "  </thead>\n",
       "  <tbody>\n",
       "    <tr>\n",
       "      <th>count</th>\n",
       "      <td>2.835390e+05</td>\n",
       "      <td>2.835390e+05</td>\n",
       "      <td>2.835390e+05</td>\n",
       "    </tr>\n",
       "    <tr>\n",
       "      <th>mean</th>\n",
       "      <td>-4.498517e-13</td>\n",
       "      <td>9.988473e-15</td>\n",
       "      <td>-1.240917e-09</td>\n",
       "    </tr>\n",
       "    <tr>\n",
       "      <th>std</th>\n",
       "      <td>1.000002e+00</td>\n",
       "      <td>1.000002e+00</td>\n",
       "      <td>1.000002e+00</td>\n",
       "    </tr>\n",
       "    <tr>\n",
       "      <th>min</th>\n",
       "      <td>-1.945946e+00</td>\n",
       "      <td>-1.642479e+00</td>\n",
       "      <td>-1.706420e+00</td>\n",
       "    </tr>\n",
       "    <tr>\n",
       "      <th>25%</th>\n",
       "      <td>-8.227600e-01</td>\n",
       "      <td>-8.426432e-01</td>\n",
       "      <td>-8.609840e-01</td>\n",
       "    </tr>\n",
       "    <tr>\n",
       "      <th>50%</th>\n",
       "      <td>5.412140e-02</td>\n",
       "      <td>-5.230742e-02</td>\n",
       "      <td>-2.617701e-02</td>\n",
       "    </tr>\n",
       "    <tr>\n",
       "      <th>75%</th>\n",
       "      <td>8.788459e-01</td>\n",
       "      <td>7.522707e-01</td>\n",
       "      <td>8.565812e-01</td>\n",
       "    </tr>\n",
       "    <tr>\n",
       "      <th>max</th>\n",
       "      <td>1.601480e+00</td>\n",
       "      <td>2.220775e+00</td>\n",
       "      <td>1.760150e+00</td>\n",
       "    </tr>\n",
       "  </tbody>\n",
       "</table>\n",
       "</div>"
      ],
      "text/plain": [
       "          longitude      latitude          time\n",
       "count  2.835390e+05  2.835390e+05  2.835390e+05\n",
       "mean  -4.498517e-13  9.988473e-15 -1.240917e-09\n",
       "std    1.000002e+00  1.000002e+00  1.000002e+00\n",
       "min   -1.945946e+00 -1.642479e+00 -1.706420e+00\n",
       "25%   -8.227600e-01 -8.426432e-01 -8.609840e-01\n",
       "50%    5.412140e-02 -5.230742e-02 -2.617701e-02\n",
       "75%    8.788459e-01  7.522707e-01  8.565812e-01\n",
       "max    1.601480e+00  2.220775e+00  1.760150e+00"
      ]
     },
     "execution_count": 7,
     "metadata": {},
     "output_type": "execute_result"
    }
   ],
   "source": [
    "data[data.attrs[\"input_cols\"]].describe()"
   ]
  },
  {
   "cell_type": "code",
   "execution_count": 8,
   "id": "7386abc3-3927-4ae3-8eb8-cf0ac87426a1",
   "metadata": {},
   "outputs": [
    {
     "name": "stdout",
     "output_type": "stream",
     "text": [
      "N Training: 2_000\n",
      "CPU times: user 4 ms, sys: 0 ns, total: 4 ms\n",
      "Wall time: 4.47 ms\n"
     ]
    }
   ],
   "source": [
    "%%time\n",
    "\n",
    "\n",
    "# extract data\n",
    "xtrain = data[data.attrs[\"input_cols\"]].values\n",
    "ytrain = data[data.attrs[\"output_cols\"]].values\n",
    "\n",
    "args.in_dim = xtrain.shape[-1]\n",
    "args.n_train = xtrain.shape[0]\n",
    "\n",
    "\n",
    "if args.smoke_test:\n",
    "    rng = np.random.RandomState(args.split_seed)\n",
    "    idx = rng.choice(np.arange(args.n_train), size=2_000)\n",
    "    xtrain = xtrain[idx]\n",
    "    ytrain = ytrain[idx]\n",
    "\n",
    "# rng = np.random.RandomState(args.split_seed+10)\n",
    "# idx = rng.choice(np.arange(args.n_valid), size=1_000)\n",
    "# xvalid = xvalid[idx]\n",
    "# yvalid = yvalid[idx]\n",
    "\n",
    "    \n",
    "wandb.config.update(\n",
    "    {\n",
    "        \"in_dim\": args.in_dim,\n",
    "        \"n_train\": args.n_train,\n",
    "    }\n",
    ")\n",
    "print(f\"N Training: {xtrain.shape[0]:_}\")"
   ]
  },
  {
   "cell_type": "markdown",
   "id": "ef39f5ec-1066-467c-b4ba-d205adc4fba2",
   "metadata": {},
   "source": [
    "## Model - Stochastic Variational GP"
   ]
  },
  {
   "cell_type": "code",
   "execution_count": 9,
   "id": "e71cdd9a-be48-405e-a2ea-cd4e8d6b55a3",
   "metadata": {},
   "outputs": [
    {
     "name": "stderr",
     "output_type": "stream",
     "text": [
      "2022-06-03 15:31:51.496047: W tensorflow/stream_executor/platform/default/dso_loader.cc:64] Could not load dynamic library 'libcuda.so.1'; dlerror: libcuda.so.1: cannot open shared object file: No such file or directory\n",
      "2022-06-03 15:31:51.496081: W tensorflow/stream_executor/cuda/cuda_driver.cc:326] failed call to cuInit: UNKNOWN ERROR (303)\n",
      "2022-06-03 15:31:51.496101: I tensorflow/stream_executor/cuda/cuda_diagnostics.cc:156] kernel driver does not appear to be running on this host (ige-meom-cal1): /proc/driver/nvidia/version does not exist\n"
     ]
    }
   ],
   "source": [
    "import gpflow\n",
    "import gpflux\n",
    "import numpy as np\n",
    "from gpflow.utilities import print_summary\n",
    "from tqdm.notebook import trange\n",
    "\n",
    "# # Ensure TF does not see GPU and grab all GPU memory.\n",
    "import tensorflow as tf\n",
    "tf.config.set_visible_devices([], device_type='GPU')"
   ]
  },
  {
   "cell_type": "code",
   "execution_count": 10,
   "id": "09b7d080-c083-4bad-aba2-db11d2ba0457",
   "metadata": {},
   "outputs": [],
   "source": [
    "def make_ds(shuffle=True):\n",
    "    ds = tf.data.Dataset.from_tensor_slices(\n",
    "        (xtrain.astype(np.float64), ytrain.astype(np.float64))\n",
    "    )\n",
    "\n",
    "    \n",
    "    ds = ds.prefetch(args.prefetch_buffer)\n",
    "    ds = ds.repeat()\n",
    "    if shuffle:\n",
    "        ds = ds.shuffle(buffer_size=10 * args.batch_size)\n",
    "    ds = ds.batch(args.batch_size)\n",
    "    \n",
    "    \n",
    "    return iter(ds)"
   ]
  },
  {
   "cell_type": "code",
   "execution_count": 11,
   "id": "88236593-ed23-4553-bd61-ef7e7c0e4d87",
   "metadata": {},
   "outputs": [
    {
     "name": "stderr",
     "output_type": "stream",
     "text": [
      "2022-06-03 15:31:51.610278: I tensorflow/core/platform/cpu_feature_guard.cc:142] This TensorFlow binary is optimized with oneAPI Deep Neural Network Library (oneDNN) to use the following CPU instructions in performance-critical operations:  AVX2 FMA\n",
      "To enable them in other operations, rebuild TensorFlow with the appropriate compiler flags.\n"
     ]
    }
   ],
   "source": [
    "ds_train = make_ds()    "
   ]
  },
  {
   "cell_type": "code",
   "execution_count": 12,
   "id": "6913fac4-9485-471c-9138-aa262b995e28",
   "metadata": {},
   "outputs": [
    {
     "name": "stderr",
     "output_type": "stream",
     "text": [
      "2022-06-03 15:31:51.733043: W tensorflow/python/util/util.cc:348] Sets are not currently considered sequences, but this may change in the future, so consider avoiding using them.\n"
     ]
    }
   ],
   "source": [
    "# get kernel\n",
    "kernel = get_kernel(args)\n",
    "# get likelihood\n",
    "likelihood = get_likelihood(args)\n",
    "# get inducing points\n",
    "Z = get_inducing_points(xtrain, args)\n",
    "\n",
    "\n",
    "# don't train the inducing inputs\n",
    "model = gpflow.models.SVGP(kernel, likelihood, Z.astype(np.float64), num_data=xtrain.shape[0])\n",
    "\n",
    "# train the inducing inputs\n",
    "gpflow.set_trainable(model.inducing_variable, True)"
   ]
  },
  {
   "cell_type": "code",
   "execution_count": 13,
   "id": "24474ac8-b2b5-48e0-b562-532f509c24ff",
   "metadata": {},
   "outputs": [
    {
     "name": "stdout",
     "output_type": "stream",
     "text": [
      "╒══════════════════════════╤═══════════╤══════════════════╤═════════╤═════════════╤═══════════════╤═════════╤═══════════════════════════════════════════╕\n",
      "│ name                     │ class     │ transform        │ prior   │ trainable   │ shape         │ dtype   │ value                                     │\n",
      "╞══════════════════════════╪═══════════╪══════════════════╪═════════╪═════════════╪═══════════════╪═════════╪═══════════════════════════════════════════╡\n",
      "│ SVGP.kernel.variance     │ Parameter │ Softplus         │         │ True        │ ()            │ float64 │ 1.0                                       │\n",
      "├──────────────────────────┼───────────┼──────────────────┼─────────┼─────────────┼───────────────┼─────────┼───────────────────────────────────────────┤\n",
      "│ SVGP.kernel.lengthscales │ Parameter │ Softplus         │         │ True        │ (3,)          │ float64 │ [7. 1. 1.]                                │\n",
      "├──────────────────────────┼───────────┼──────────────────┼─────────┼─────────────┼───────────────┼─────────┼───────────────────────────────────────────┤\n",
      "│ SVGP.likelihood.variance │ Parameter │ Softplus + Shift │         │ True        │ ()            │ float64 │ 0.05000000000000001                       │\n",
      "├──────────────────────────┼───────────┼──────────────────┼─────────┼─────────────┼───────────────┼─────────┼───────────────────────────────────────────┤\n",
      "│ SVGP.inducing_variable.Z │ Parameter │ Identity         │         │ True        │ (100, 3)      │ float64 │ [[-1.00524817, -1.42055072, 0.17041904... │\n",
      "├──────────────────────────┼───────────┼──────────────────┼─────────┼─────────────┼───────────────┼─────────┼───────────────────────────────────────────┤\n",
      "│ SVGP.q_mu                │ Parameter │ Identity         │         │ True        │ (100, 1)      │ float64 │ [[0....                                   │\n",
      "├──────────────────────────┼───────────┼──────────────────┼─────────┼─────────────┼───────────────┼─────────┼───────────────────────────────────────────┤\n",
      "│ SVGP.q_sqrt              │ Parameter │ FillTriangular   │         │ True        │ (1, 100, 100) │ float64 │ [[[1., 0., 0....                          │\n",
      "╘══════════════════════════╧═══════════╧══════════════════╧═════════╧═════════════╧═══════════════╧═════════╧═══════════════════════════════════════════╛\n"
     ]
    }
   ],
   "source": [
    "print_summary(model)"
   ]
  },
  {
   "cell_type": "code",
   "execution_count": 14,
   "id": "dca80724-7e79-4fba-bd84-afb377a004cf",
   "metadata": {},
   "outputs": [],
   "source": [
    "from gpflow import set_trainable\n",
    "from gpflow.optimizers import NaturalGradient\n",
    "\n",
    "\n",
    "\n",
    "\n",
    "# Create an Adam Optimizer\n",
    "ordinary_adam_opt = tf.optimizers.Adam(args.learning_rate)\n",
    "\n",
    "\n",
    "# NatGrads and Adam for SVGP\n",
    "# Stop Adam from optimizing the variational parameters\n",
    "set_trainable(model.q_mu, False)\n",
    "set_trainable(model.q_sqrt, False)\n",
    "\n",
    "# Create the optimize_tensors for SVGP\n",
    "adam_opt = tf.optimizers.Adam(args.learning_rate)\n",
    "\n",
    "natgrad_opt = NaturalGradient(gamma=args.learning_rate_ng)\n",
    "variational_params = [(model.q_mu, model.q_sqrt)]\n",
    "\n",
    "\n",
    "# make training loss\n",
    "training_loss = model.training_loss_closure(ds_train, compile=True)"
   ]
  },
  {
   "cell_type": "code",
   "execution_count": 15,
   "id": "633aca24-3bc7-42c6-8b91-4bf1e1a78b58",
   "metadata": {},
   "outputs": [],
   "source": [
    "n_steps_per_epoch = args.n_train / args.batch_size\n",
    "steps = int(n_steps_per_epoch * args.n_epochs) if not args.smoke_test else 500\n",
    "\n",
    "\n",
    "wandb.config.update(\n",
    "    {\n",
    "        \"steps\": steps,\n",
    "        \"n_steps_per_epoch\": n_steps_per_epoch,\n",
    "    }\n",
    ")"
   ]
  },
  {
   "cell_type": "code",
   "execution_count": 16,
   "id": "85cb2ac0-1774-439f-997f-4ec3d1323a6d",
   "metadata": {},
   "outputs": [],
   "source": [
    "\n",
    "# # make dataset\n",
    "# ds_train = make_ds()\n",
    "\n",
    "# # don't train the inducing inputs\n",
    "# # create gp model\n",
    "# model = gpflow.models.SVGP(kernel, likelihood, Z.astype(np.float64), num_data=xtrain.shape[0])\n",
    "# gpflow.set_trainable(model.inducing_variable, False)\n",
    "\n",
    "\n",
    "# # Create an Adam Optimizer\n",
    "# losses[\"standard\"] = []\n",
    "# optimizer = tf.optimizers.Adam(learning_rate=args.learning_rate)\n",
    "\n",
    "# # make training loss\n",
    "# training_loss = model.training_loss_closure(ds_train, compile=True)\n",
    "\n",
    "\n",
    "# @tf.function\n",
    "# def optimization_step():\n",
    "#     optimizer.minimize(training_loss, model.trainable_variables)\n",
    "\n",
    "# with trange(steps) as pbar:\n",
    "#     for step in pbar:\n",
    "#         optimization_step()\n",
    "#         elbo = -training_loss().numpy()\n",
    "#         losses[\"standard\"].append(elbo)\n",
    "#         wandb.log({\"elbo\": elbo}, step=step)\n",
    "        \n",
    "#         if step % 10 == 0:\n",
    "#             pbar.set_description(f\"Loss (ELBO): {elbo:.4e}\")\n",
    "            \n",
    "            "
   ]
  },
  {
   "cell_type": "code",
   "execution_count": 17,
   "id": "16005fab-9dbc-446a-8761-fb024b5e6b70",
   "metadata": {},
   "outputs": [
    {
     "data": {
      "application/vnd.jupyter.widget-view+json": {
       "model_id": "2e8b82de4db1439e896ce148c5932269",
       "version_major": 2,
       "version_minor": 0
      },
      "text/plain": [
       "  0%|          | 0/500 [00:00<?, ?it/s]"
      ]
     },
     "metadata": {},
     "output_type": "display_data"
    },
    {
     "name": "stderr",
     "output_type": "stream",
     "text": [
      "2022-06-03 15:31:56.207798: I tensorflow/compiler/mlir/mlir_graph_optimization_pass.cc:176] None of the MLIR Optimization Passes are enabled (registered 2)\n",
      "2022-06-03 15:31:56.246389: I tensorflow/core/platform/profile_utils/cpu_utils.cc:114] CPU Frequency: 2299995000 Hz\n"
     ]
    }
   ],
   "source": [
    "losses = []\n",
    "@tf.function\n",
    "def optimization_step():\n",
    "    adam_opt.minimize(training_loss, var_list=model.trainable_variables)\n",
    "\n",
    "@tf.function\n",
    "def natgrad_optimization_step():\n",
    "    natgrad_opt.minimize(training_loss, var_list=variational_params)\n",
    "    \n",
    "with trange(steps) as pbar:\n",
    "    for step in pbar:\n",
    "        optimization_step()\n",
    "        natgrad_optimization_step()\n",
    "        elbo = -training_loss().numpy()\n",
    "        losses.append(elbo)\n",
    "        wandb.log({\"elbo\": elbo}, step=step)\n",
    "        \n",
    "        if step % 10 == 0:\n",
    "            pbar.set_description(f\"Loss (ELBO): {elbo:.4e}\")"
   ]
  },
  {
   "cell_type": "code",
   "execution_count": 18,
   "id": "3341dc7f-e574-4c26-9987-dc62b88d157b",
   "metadata": {},
   "outputs": [
    {
     "data": {
      "image/png": "[encoded data removed]",
      "text/plain": [
       "<Figure size 432x288 with 1 Axes>"
      ]
     },
     "metadata": {
      "needs_background": "light"
     },
     "output_type": "display_data"
    }
   ],
   "source": [
    "fig, ax = plt.subplots()\n",
    "\n",
    "ax.plot(losses, label=\"Training Loss (NatGrad)\")\n",
    "ax.set(xlabel=\"Iterations\", ylabel=\"ELBO\")\n",
    "plt.legend()\n",
    "plt.show()"
   ]
  },
  {
   "cell_type": "code",
   "execution_count": 19,
   "id": "1127003c-b427-4ac0-a9b3-315f5518ea0a",
   "metadata": {},
   "outputs": [
    {
     "name": "stdout",
     "output_type": "stream",
     "text": [
      "╒══════════════════════════╤═══════════╤══════════════════╤═════════╤═════════════╤═══════════════╤═════════╤════════════════════════════════════════════════════════╕\n",
      "│ name                     │ class     │ transform        │ prior   │ trainable   │ shape         │ dtype   │ value                                                  │\n",
      "╞══════════════════════════╪═══════════╪══════════════════╪═════════╪═════════════╪═══════════════╪═════════╪════════════════════════════════════════════════════════╡\n",
      "│ SVGP.kernel.variance     │ Parameter │ Softplus         │         │ True        │ ()            │ float64 │ 0.9307501305151612                                     │\n",
      "├──────────────────────────┼───────────┼──────────────────┼─────────┼─────────────┼───────────────┼─────────┼────────────────────────────────────────────────────────┤\n",
      "│ SVGP.kernel.lengthscales │ Parameter │ Softplus         │         │ True        │ (3,)          │ float64 │ [9.12219912 2.3079613  2.72851319]                     │\n",
      "├──────────────────────────┼───────────┼──────────────────┼─────────┼─────────────┼───────────────┼─────────┼────────────────────────────────────────────────────────┤\n",
      "│ SVGP.likelihood.variance │ Parameter │ Softplus + Shift │         │ True        │ ()            │ float64 │ 0.01959744478669994                                    │\n",
      "├──────────────────────────┼───────────┼──────────────────┼─────────┼─────────────┼───────────────┼─────────┼────────────────────────────────────────────────────────┤\n",
      "│ SVGP.inducing_variable.Z │ Parameter │ Identity         │         │ True        │ (100, 3)      │ float64 │ [[-8.46234112e-01, -1.51248289e+00, -8.46962968e-02... │\n",
      "├──────────────────────────┼───────────┼──────────────────┼─────────┼─────────────┼───────────────┼─────────┼────────────────────────────────────────────────────────┤\n",
      "│ SVGP.q_mu                │ Parameter │ Identity         │         │ False       │ (100, 1)      │ float64 │ [[8.00206726e-02...                                    │\n",
      "├──────────────────────────┼───────────┼──────────────────┼─────────┼─────────────┼───────────────┼─────────┼────────────────────────────────────────────────────────┤\n",
      "│ SVGP.q_sqrt              │ Parameter │ FillTriangular   │         │ False       │ (1, 100, 100) │ float64 │ [[[1.57276870e-02, 0.00000000e+00, 0.00000000e+00...   │\n",
      "╘══════════════════════════╧═══════════╧══════════════════╧═════════╧═════════════╧═══════════════╧═════════╧════════════════════════════════════════════════════════╛\n"
     ]
    }
   ],
   "source": [
    "print_summary(model)"
   ]
  },
  {
   "cell_type": "code",
   "execution_count": 20,
   "id": "964116c5-15ab-495c-bc33-5de4a074c94c",
   "metadata": {},
   "outputs": [
    {
     "data": {
      "text/plain": [
       "['./wandb/run-20220603_153145-zlx895gq/files/wandb/run-20220603_153145-zlx895gq/files/scaler.pickle']"
      ]
     },
     "execution_count": 20,
     "metadata": {},
     "output_type": "execute_result"
    }
   ],
   "source": [
    "# objects\n",
    "path_model = Path(wandb.run.dir).joinpath(\"model.pickle\")\n",
    "path_scaler = Path(wandb.run.dir).joinpath(\"scaler.pickle\")\n",
    "\n",
    "# models to save\n",
    "save_object(gpflow.utilities.parameter_dict(model), path_model)\n",
    "save_object(scaler, path_scaler)\n",
    "\n",
    "# save with wandb\n",
    "wandb.save(str(path_model), policy=\"now\")\n",
    "wandb.save(str(path_scaler), policy=\"now\")"
   ]
  },
  {
   "cell_type": "code",
   "execution_count": 21,
   "id": "1f46a72f-bf48-4ae4-9dc9-10a396cbe512",
   "metadata": {},
   "outputs": [],
   "source": [
    "# if args.server == \"jz\":\n",
    "# get id (from this run or a run you can set)\n",
    "run_id = wandb.run.id\n",
    "\n",
    "# initialize api\n",
    "api = wandb.Api()\n",
    "\n",
    "# get run\n",
    "run = api.run(f\"{args.entity}/{args.project}/{run_id}\")\n",
    "\n",
    "# download the files\n",
    "files = [\n",
    "    \"scaler.pickle\", \n",
    "    \"model.pickle\"\n",
    "]\n",
    "\n",
    "for ifile in files:\n",
    "    \n",
    "    run.file(ifile).download(replace=True)"
   ]
  },
  {
   "cell_type": "code",
   "execution_count": 22,
   "id": "89d4f220-5bb2-4d1c-bedf-ddcada358cd4",
   "metadata": {},
   "outputs": [],
   "source": [
    "params = load_object(\"./model.pickle\")\n",
    "scaler = load_object(\"./scaler.pickle\")"
   ]
  },
  {
   "cell_type": "code",
   "execution_count": 23,
   "id": "e3537f46-3f2e-442a-a104-12ec246a029b",
   "metadata": {},
   "outputs": [],
   "source": [
    "gpflow.utilities.multiple_assign(model, params)"
   ]
  },
  {
   "cell_type": "code",
   "execution_count": 24,
   "id": "4e6accfb-2240-4cf6-b085-20a98099754b",
   "metadata": {},
   "outputs": [
    {
     "name": "stdout",
     "output_type": "stream",
     "text": [
      "╒══════════════════════════╤═══════════╤══════════════════╤═════════╤═════════════╤═══════════════╤═════════╤════════════════════════════════════════════════════════╕\n",
      "│ name                     │ class     │ transform        │ prior   │ trainable   │ shape         │ dtype   │ value                                                  │\n",
      "╞══════════════════════════╪═══════════╪══════════════════╪═════════╪═════════════╪═══════════════╪═════════╪════════════════════════════════════════════════════════╡\n",
      "│ SVGP.kernel.variance     │ Parameter │ Softplus         │         │ True        │ ()            │ float64 │ 0.9307501305151612                                     │\n",
      "├──────────────────────────┼───────────┼──────────────────┼─────────┼─────────────┼───────────────┼─────────┼────────────────────────────────────────────────────────┤\n",
      "│ SVGP.kernel.lengthscales │ Parameter │ Softplus         │         │ True        │ (3,)          │ float64 │ [9.12219912 2.3079613  2.72851319]                     │\n",
      "├──────────────────────────┼───────────┼──────────────────┼─────────┼─────────────┼───────────────┼─────────┼────────────────────────────────────────────────────────┤\n",
      "│ SVGP.likelihood.variance │ Parameter │ Softplus + Shift │         │ True        │ ()            │ float64 │ 0.01959744478669994                                    │\n",
      "├──────────────────────────┼───────────┼──────────────────┼─────────┼─────────────┼───────────────┼─────────┼────────────────────────────────────────────────────────┤\n",
      "│ SVGP.inducing_variable.Z │ Parameter │ Identity         │         │ True        │ (100, 3)      │ float64 │ [[-8.46234112e-01, -1.51248289e+00, -8.46962968e-02... │\n",
      "├──────────────────────────┼───────────┼──────────────────┼─────────┼─────────────┼───────────────┼─────────┼────────────────────────────────────────────────────────┤\n",
      "│ SVGP.q_mu                │ Parameter │ Identity         │         │ False       │ (100, 1)      │ float64 │ [[8.00206726e-02...                                    │\n",
      "├──────────────────────────┼───────────┼──────────────────┼─────────┼─────────────┼───────────────┼─────────┼────────────────────────────────────────────────────────┤\n",
      "│ SVGP.q_sqrt              │ Parameter │ FillTriangular   │         │ False       │ (1, 100, 100) │ float64 │ [[[1.57276870e-02, 0.00000000e+00, 0.00000000e+00...   │\n",
      "╘══════════════════════════╧═══════════╧══════════════════╧═════════╧═════════════╧═══════════════╧═════════╧════════════════════════════════════════════════════════╛\n"
     ]
    }
   ],
   "source": [
    "print_summary(model)"
   ]
  },
  {
   "cell_type": "code",
   "execution_count": 25,
   "id": "198577ff-22ce-40ca-91e3-3180a2397250",
   "metadata": {},
   "outputs": [],
   "source": [
    "wandb.log({\n",
    "    \"time_scale\": model.kernel.lengthscales[0].numpy(),\n",
    "    \"lon_scale\": model.kernel.lengthscales[1].numpy(),\n",
    "    \"lat_scale\": model.kernel.lengthscales[2].numpy(),\n",
    "    \"variance\": model.kernel.variance.numpy(),\n",
    "    \"noise\": model.likelihood.variance.numpy(),\n",
    "})"
   ]
  },
  {
   "cell_type": "code",
   "execution_count": 26,
   "id": "f88e177a-892b-43b8-a0e2-ddd697bfdbad",
   "metadata": {},
   "outputs": [],
   "source": [
    "import tensorflow_datasets as tfd\n",
    "import time\n",
    "\n",
    "def predict_grid(gp_model, n_batches:int=5_000):\n",
    "    # generate grid\n",
    "    df_grid = generate_eval_data(args)\n",
    "    \n",
    "    # set input columns\n",
    "    df_pred = df_grid[df_grid.attrs[\"input_cols\"]].values\n",
    "    \n",
    "    # create dataloader\n",
    "    ds_test = tf.data.Dataset.from_tensor_slices(df_pred).batch(n_batches)\n",
    "    n_iters = len(ds_test)\n",
    "    means, variances = [], []\n",
    "    ds_test = iter(ds_test)\n",
    "    with trange(n_iters) as pbar:\n",
    "        for i in pbar:\n",
    "            ix = next(ds_test)\n",
    "            # predict using GP\n",
    "            imean, ivar = gp_model.predict_f(ix)\n",
    "\n",
    "            # add stuff\n",
    "            means.append(imean)\n",
    "            variances.append(ivar)\n",
    "\n",
    "    mean = np.vstack(means)\n",
    "    variance = np.vstack(variances)\n",
    "    \n",
    "    df_grid[\"pred\"] = mean\n",
    "    df_grid[\"variance\"] = variance\n",
    "    \n",
    "    return df_grid\n",
    "    "
   ]
  },
  {
   "cell_type": "code",
   "execution_count": 27,
   "id": "54b7afff-747e-4f75-a020-eb6ca80d9bee",
   "metadata": {},
   "outputs": [
    {
     "data": {
      "application/vnd.jupyter.widget-view+json": {
       "model_id": "c6b0af4765c648b1a1dffbb7472aa40d",
       "version_major": 2,
       "version_minor": 0
      },
      "text/plain": [
       "  0%|          | 0/1 [00:00<?, ?it/s]"
      ]
     },
     "metadata": {},
     "output_type": "display_data"
    },
    {
     "name": "stderr",
     "output_type": "stream",
     "text": [
      "/home/johnsonj/miniconda3/envs/jaxtf_cpu_py39/lib/python3.9/site-packages/xarray/core/missing.py:562: FutureWarning: Passing method to Float64Index.get_loc is deprecated and will raise in a future version. Use index.get_indexer([item], method=...) instead.\n",
      "  imin = index.get_loc(minval, method=\"nearest\")\n",
      "/home/johnsonj/miniconda3/envs/jaxtf_cpu_py39/lib/python3.9/site-packages/xarray/core/missing.py:563: FutureWarning: Passing method to Float64Index.get_loc is deprecated and will raise in a future version. Use index.get_indexer([item], method=...) instead.\n",
      "  imax = index.get_loc(maxval, method=\"nearest\")\n",
      "/home/johnsonj/miniconda3/envs/jaxtf_cpu_py39/lib/python3.9/site-packages/xarray/core/missing.py:562: FutureWarning: Passing method to Float64Index.get_loc is deprecated and will raise in a future version. Use index.get_indexer([item], method=...) instead.\n",
      "  imin = index.get_loc(minval, method=\"nearest\")\n",
      "/home/johnsonj/miniconda3/envs/jaxtf_cpu_py39/lib/python3.9/site-packages/xarray/core/missing.py:563: FutureWarning: Passing method to Float64Index.get_loc is deprecated and will raise in a future version. Use index.get_indexer([item], method=...) instead.\n",
      "  imax = index.get_loc(maxval, method=\"nearest\")\n"
     ]
    }
   ],
   "source": [
    "t0 = time.time()\n",
    "# make predictions\n",
    "df_grid = predict_grid(model)\n",
    "t1 = time.time() - t0\n",
    "\n",
    "# create OI\n",
    "ds_oi = postprocess_data(df_grid, args)"
   ]
  },
  {
   "cell_type": "code",
   "execution_count": 28,
   "id": "720abdc1-cc84-4cf5-9642-5b837b2dfd14",
   "metadata": {},
   "outputs": [],
   "source": [
    "wandb.config.update(\n",
    "    {\n",
    "        \"time_predict_batches\": t1,\n",
    "    }\n",
    ")"
   ]
  },
  {
   "cell_type": "markdown",
   "id": "671a4cfd-15ec-4812-82be-27d7748bf0c6",
   "metadata": {},
   "source": [
    "### Metrics"
   ]
  },
  {
   "cell_type": "code",
   "execution_count": 29,
   "id": "ea592896-57ab-4058-bebb-fd675c6afaf9",
   "metadata": {},
   "outputs": [
    {
     "name": "stdout",
     "output_type": "stream",
     "text": [
      "RMSE (Mean): 0.226\n",
      "RMSE (Std): 0.061\n",
      "NRMSE (Mean): 0.597\n",
      "NRMSE (Std): 0.104\n",
      "CPU times: user 296 ms, sys: 16 ms, total: 312 ms\n",
      "Wall time: 315 ms\n"
     ]
    }
   ],
   "source": [
    "%%time\n",
    "\n",
    "rmse_metrics = get_rmse_metrics(ds_oi, args)\n",
    "print(rmse_metrics)\n",
    "\n",
    "wandb.log(\n",
    "    {\n",
    "        \"model_rmse_mean\": rmse_metrics[0],\n",
    "        \"model_rmse_std\": rmse_metrics[1],\n",
    "        \"model_nrmse_mean\": rmse_metrics[2],\n",
    "        \"model_nrmse_std\": rmse_metrics[3],\n",
    "    }\n",
    ")"
   ]
  },
  {
   "cell_type": "code",
   "execution_count": 30,
   "id": "c84d5382-2d8a-41a8-b576-e26943b19aac",
   "metadata": {},
   "outputs": [
    {
     "name": "stdout",
     "output_type": "stream",
     "text": [
      "Resolved Scale: 876250220628965.000 (km)\n"
     ]
    }
   ],
   "source": [
    "psd_metrics = get_psd_metrics(ds_oi, args)\n",
    "print(psd_metrics)"
   ]
  },
  {
   "cell_type": "code",
   "execution_count": 31,
   "id": "edf2e43c-4e20-4800-aa65-826baeeed91f",
   "metadata": {},
   "outputs": [
    {
     "data": {
      "image/png": "[encoded data removed]",
      "text/plain": [
       "<Figure size 504x360 with 1 Axes>"
      ]
     },
     "metadata": {
      "needs_background": "light"
     },
     "output_type": "display_data"
    },
    {
     "data": {
      "image/png": "[encoded data removed]",
      "text/plain": [
       "<Figure size 504x360 with 1 Axes>"
      ]
     },
     "metadata": {
      "needs_background": "light"
     },
     "output_type": "display_data"
    }
   ],
   "source": [
    "\n",
    "fig, ax = plot_psd_spectrum(\n",
    "    psd_metrics.psd_study, \n",
    "    psd_metrics.psd_ref, \n",
    "    psd_metrics.wavenumber\n",
    ")\n",
    "wandb.log(\n",
    "    {\n",
    "        \"model_psd_spectrum\": wandb.Image(fig),\n",
    "    }\n",
    ")\n",
    "\n",
    "fig, ax = plot_psd_score(\n",
    "    psd_metrics.psd_diff, \n",
    "    psd_metrics.psd_ref, \n",
    "    psd_metrics.wavenumber, \n",
    "    psd_metrics.resolved_scale)\n",
    "\n",
    "wandb.log(\n",
    "    {\n",
    "        \"model_psd_score\": wandb.Image(fig),\n",
    "    }\n",
    ")"
   ]
  },
  {
   "cell_type": "code",
   "execution_count": null,
   "id": "de49e30a-ac7d-47b7-84d6-8a24e3fc0320",
   "metadata": {},
   "outputs": [],
   "source": []
  },
  {
   "cell_type": "code",
   "execution_count": null,
   "id": "38159dd3-a7c8-4778-beff-8cee1c924fd4",
   "metadata": {},
   "outputs": [],
   "source": []
  }
 ],
 "metadata": {
  "kernelspec": {
   "display_name": "Python [conda env:jaxtf_cpu_py39]",
   "language": "python",
   "name": "conda-env-jaxtf_cpu_py39-py"
  },
  "language_info": {
   "codemirror_mode": {
    "name": "ipython",
    "version": 3
   },
   "file_extension": ".py",
   "mimetype": "text/x-python",
   "name": "python",
   "nbconvert_exporter": "python",
   "pygments_lexer": "ipython3",
   "version": "3.9.12"
  }
 },
 "nbformat": 4,
 "nbformat_minor": 5
}
