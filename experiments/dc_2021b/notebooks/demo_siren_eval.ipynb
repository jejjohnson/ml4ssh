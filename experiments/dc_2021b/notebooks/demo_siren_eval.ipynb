{
 "cells": [
  {
   "cell_type": "code",
   "execution_count": 1,
   "id": "c8a2ee9e-04cc-4c5e-a3eb-4742a7ad7cd1",
   "metadata": {},
   "outputs": [],
   "source": [
    "import sys, os\n",
    "from pyprojroot import here\n",
    "\n",
    "\n",
    "# spyder up to find the root\n",
    "\n",
    "root = here(project_files=[\".root\"])\n",
    "local = here(project_files=[\".local\"])\n",
    "\n",
    "# append to path\n",
    "sys.path.append(str(root))\n",
    "sys.path.append(str(local))"
   ]
  },
  {
   "cell_type": "code",
   "execution_count": 2,
   "id": "4e08b309-df46-4190-96f7-914907b8b422",
   "metadata": {},
   "outputs": [
    {
     "name": "stderr",
     "output_type": "stream",
     "text": [
      "2022-06-01 17:47:26.740554: W tensorflow/stream_executor/platform/default/dso_loader.cc:64] Could not load dynamic library 'libcudart.so.11.0'; dlerror: libcudart.so.11.0: cannot open shared object file: No such file or directory\n"
     ]
    }
   ],
   "source": [
    "from pathlib import Path\n",
    "import argparse\n",
    "import wandb\n",
    "import tqdm\n",
    "import matplotlib.pyplot as plt\n",
    "import seaborn as sns\n",
    "sns.reset_defaults()\n",
    "sns.set_context(context=\"talk\", font_scale=0.7)\n",
    "\n",
    "# # Ensure TF does not see GPU and grab all GPU memory.\n",
    "# import tensorflow as tf\n",
    "# tf.config.set_visible_devices([], device_type='GPU')\n",
    "\n",
    "# os.environ[\"JAX_PLATFORM_NAME\"] = \"CPU\"\n",
    "# # ENSURE JAX DOESNT PREALLOCATE\n",
    "# os.environ[\"XLA_PYTHON_CLIENT_PREALLOCATE\"] = str(False)\n",
    "\n",
    "import jax\n",
    "import jax.random as jrandom\n",
    "import jax.numpy as jnp\n",
    "import equinox as eqx\n",
    "from ml4ssh._src.data import make_mini_batcher\n",
    "from ml4ssh._src.io import load_object, save_object\n",
    "from ml4ssh._src.viz import create_movie, plot_psd_spectrum, plot_psd_score\n",
    "from ml4ssh._src.utils import get_meshgrid, calculate_gradient, calculate_laplacian\n",
    "\n",
    "# import parsers\n",
    "from data import get_data_args, load_data\n",
    "from preprocess import add_preprocess_args, preprocess_data\n",
    "from features import add_feature_args, feature_transform\n",
    "from split import add_split_args, split_data\n",
    "from model import add_model_args, get_model\n",
    "from loss import add_loss_args, get_loss_fn\n",
    "from logger import add_logger_args\n",
    "from optimizer import add_optimizer_args, get_optimizer\n",
    "from postprocess import add_postprocess_args, postprocess_data, generate_eval_data\n",
    "from evaluation import add_eval_args, get_rmse_metrics, get_psd_metrics\n",
    "\n",
    "%matplotlib inline\n",
    "%load_ext autoreload\n",
    "%autoreload 2"
   ]
  },
  {
   "cell_type": "markdown",
   "id": "305ed40f-5926-41e3-8f76-22d50df60c1e",
   "metadata": {},
   "source": [
    "### Argumentsget_data_args"
   ]
  },
  {
   "cell_type": "code",
   "execution_count": 3,
   "id": "ad519f7b-be94-419e-ba50-f14958c2b2a8",
   "metadata": {},
   "outputs": [],
   "source": [
    "parser = argparse.ArgumentParser()\n",
    "\n",
    "# logger\n",
    "parser = add_logger_args(parser)\n",
    "\n",
    "# data\n",
    "parser = get_data_args(parser)\n",
    "\n",
    "# preprocessing, feature transform, split\n",
    "parser = add_preprocess_args(parser)\n",
    "parser = add_feature_args(parser)\n",
    "parser = add_split_args(parser)\n",
    "\n",
    "# model, optimizer, loss\n",
    "parser = add_model_args(parser)\n",
    "parser = add_optimizer_args(parser)\n",
    "parser = add_loss_args(parser)\n",
    "\n",
    "# postprocessing, metrics\n",
    "parser = add_postprocess_args(parser)\n",
    "parser = add_eval_args(parser)\n",
    "\n",
    "# parse args\n",
    "args = parser.parse_args([])\n",
    "\n",
    "# # jeanzay specific\n",
    "# args.train_data_dir = \"/gpfsdswork/projects/rech/cli/uvo53rl/data/data_challenges/ssh_mapping_2021/train/\"\n",
    "# args.ref_data_dir = \"/gpfsdswork/projects/rech/cli/uvo53rl/data/data_challenges/ssh_mapping_2021/ref/\"\n",
    "# args.test_data_dir = \"/gpfsdswork/projects/rech/cli/uvo53rl/data/data_challenges/ssh_mapping_2021/test/\"\n",
    "# args.log_dir = \"/gpfswork/rech/cli/uvo53rl/logs\"\n",
    "\n",
    "args.smoke_test = False\n",
    "args.wandb_mode = \"online\"\n",
    "args.wandb_resume = True\n",
    "# ige/nerf4ssh/kx2nr6qb\n",
    "args.id = \"kx2nr6qb\" # \"mikf2n1v\" # \"2uuq7tks\" \"generous-snowflake-46\"\n",
    "# args.entity = \"ige\"\n",
    "args.batch_size = 2048\n",
    "args.n_epochs = 10\n",
    "args.batch_size = 4096"
   ]
  },
  {
   "cell_type": "markdown",
   "id": "2816cbb2-1a8f-431d-a12b-d0e4f008b7f5",
   "metadata": {},
   "source": [
    "### Logger\n"
   ]
  },
  {
   "cell_type": "code",
   "execution_count": 4,
   "id": "7733fbe0-fb43-4eda-af8e-50f00e380ec1",
   "metadata": {},
   "outputs": [
    {
     "name": "stderr",
     "output_type": "stream",
     "text": [
      "Failed to detect the name of this notebook, you can set it manually with the WANDB_NOTEBOOK_NAME environment variable to enable code saving.\n",
      "\u001b[34m\u001b[1mwandb\u001b[0m: Currently logged in as: \u001b[33memanjohnson91\u001b[0m (\u001b[33mige\u001b[0m). Use \u001b[1m`wandb login --relogin`\u001b[0m to force relogin\n",
      "2022-06-01 17:47:35.427081: W tensorflow/stream_executor/platform/default/dso_loader.cc:64] Could not load dynamic library 'libcudart.so.11.0'; dlerror: libcudart.so.11.0: cannot open shared object file: No such file or directory\n"
     ]
    },
    {
     "data": {
      "text/html": [
       "Tracking run with wandb version 0.12.17"
      ],
      "text/plain": [
       "<IPython.core.display.HTML object>"
      ]
     },
     "metadata": {},
     "output_type": "display_data"
    },
    {
     "data": {
      "text/html": [
       "Run data is saved locally in <code>./wandb/run-20220601_174733-kx2nr6qb</code>"
      ],
      "text/plain": [
       "<IPython.core.display.HTML object>"
      ]
     },
     "metadata": {},
     "output_type": "display_data"
    },
    {
     "data": {
      "text/html": [
       "Resuming run <strong><a href=\"https://wandb.ai/ige/nerf4ssh/runs/kx2nr6qb\" target=\"_blank\">glorious-cloud-53</a></strong> to <a href=\"https://wandb.ai/ige/nerf4ssh\" target=\"_blank\">Weights & Biases</a> (<a href=\"https://wandb.me/run\" target=\"_blank\">docs</a>)<br/>"
      ],
      "text/plain": [
       "<IPython.core.display.HTML object>"
      ]
     },
     "metadata": {},
     "output_type": "display_data"
    },
    {
     "data": {
      "text/html": [
       "<button onClick=\"this.nextSibling.style.display='block';this.style.display='none';\">Display W&B run</button><iframe src=\"https://wandb.ai/ige/nerf4ssh/runs/kx2nr6qb?jupyter=true\" style=\"border:none;width:100%;height:420px;display:none;\"></iframe>"
      ],
      "text/plain": [
       "<wandb.sdk.wandb_run.Run at 0x7f13281de130>"
      ]
     },
     "execution_count": 4,
     "metadata": {},
     "output_type": "execute_result"
    }
   ],
   "source": [
    "# init wandb logger\n",
    "wandb.init(\n",
    "    id=args.id,\n",
    "    config=args,\n",
    "    mode=args.wandb_mode,\n",
    "    project=args.project,\n",
    "    entity=args.entity,\n",
    "    dir=args.log_dir,\n",
    "    resume=args.wandb_resume\n",
    ")"
   ]
  },
  {
   "cell_type": "markdown",
   "id": "dce2df15-f422-406b-8e53-64edf65f4172",
   "metadata": {},
   "source": [
    "### Load Data"
   ]
  },
  {
   "cell_type": "code",
   "execution_count": 5,
   "id": "7386abc3-3927-4ae3-8eb8-cf0ac87426a1",
   "metadata": {},
   "outputs": [
    {
     "name": "stderr",
     "output_type": "stream",
     "text": [
      "100%|██████████| 6/6 [00:00<00:00, 16.67it/s]\n"
     ]
    },
    {
     "name": "stdout",
     "output_type": "stream",
     "text": [
      "CPU times: user 2.48 s, sys: 246 ms, total: 2.73 s\n",
      "Wall time: 2.98 s\n"
     ]
    }
   ],
   "source": [
    "%%time\n",
    "\n",
    "# load data\n",
    "data = load_data(args)\n",
    "\n",
    "# preprocess data\n",
    "data = preprocess_data(data, args)\n",
    "\n",
    "# feature transformation\n",
    "data, scaler = feature_transform(data, args)\n",
    "\n",
    "# split data\n",
    "xtrain, ytrain, xvalid, yvalid = split_data(data, args)\n",
    "\n",
    "args.in_dim = xtrain.shape[-1]\n",
    "args.n_train = xtrain.shape[0]\n",
    "args.n_valid = xvalid.shape[0]\n",
    "\n",
    "wandb.config.update(\n",
    "    {\n",
    "        \"in_dim\": args.in_dim,\n",
    "        \"n_train\": args.n_train,\n",
    "        \"n_valid\": args.n_valid,\n",
    "    }\n",
    ")"
   ]
  },
  {
   "cell_type": "code",
   "execution_count": 6,
   "id": "9d2d93f7-0344-4fae-8f56-9dbe02ba09c0",
   "metadata": {},
   "outputs": [
    {
     "data": {
      "text/html": [
       "<div>\n",
       "<style scoped>\n",
       "    .dataframe tbody tr th:only-of-type {\n",
       "        vertical-align: middle;\n",
       "    }\n",
       "\n",
       "    .dataframe tbody tr th {\n",
       "        vertical-align: top;\n",
       "    }\n",
       "\n",
       "    .dataframe thead th {\n",
       "        text-align: right;\n",
       "    }\n",
       "</style>\n",
       "<table border=\"1\" class=\"dataframe\">\n",
       "  <thead>\n",
       "    <tr style=\"text-align: right;\">\n",
       "      <th></th>\n",
       "      <th>longitude</th>\n",
       "      <th>latitude</th>\n",
       "      <th>time_transform</th>\n",
       "    </tr>\n",
       "  </thead>\n",
       "  <tbody>\n",
       "    <tr>\n",
       "      <th>0</th>\n",
       "      <td>0.633663</td>\n",
       "      <td>-0.998266</td>\n",
       "      <td>-1.0</td>\n",
       "    </tr>\n",
       "    <tr>\n",
       "      <th>1</th>\n",
       "      <td>0.632683</td>\n",
       "      <td>-0.994338</td>\n",
       "      <td>-1.0</td>\n",
       "    </tr>\n",
       "    <tr>\n",
       "      <th>2</th>\n",
       "      <td>0.631703</td>\n",
       "      <td>-0.990410</td>\n",
       "      <td>-1.0</td>\n",
       "    </tr>\n",
       "    <tr>\n",
       "      <th>3</th>\n",
       "      <td>0.630723</td>\n",
       "      <td>-0.986482</td>\n",
       "      <td>-1.0</td>\n",
       "    </tr>\n",
       "    <tr>\n",
       "      <th>4</th>\n",
       "      <td>0.629742</td>\n",
       "      <td>-0.982554</td>\n",
       "      <td>-1.0</td>\n",
       "    </tr>\n",
       "  </tbody>\n",
       "</table>\n",
       "</div>"
      ],
      "text/plain": [
       "   longitude  latitude  time_transform\n",
       "0   0.633663 -0.998266            -1.0\n",
       "1   0.632683 -0.994338            -1.0\n",
       "2   0.631703 -0.990410            -1.0\n",
       "3   0.630723 -0.986482            -1.0\n",
       "4   0.629742 -0.982554            -1.0"
      ]
     },
     "execution_count": 6,
     "metadata": {},
     "output_type": "execute_result"
    }
   ],
   "source": [
    "data[[\"longitude\", \"latitude\", \"time_transform\"]].head()"
   ]
  },
  {
   "cell_type": "markdown",
   "id": "ef39f5ec-1066-467c-b4ba-d205adc4fba2",
   "metadata": {},
   "source": [
    "### Model"
   ]
  },
  {
   "cell_type": "code",
   "execution_count": 7,
   "id": "575288f1-04f7-4bd0-bc3f-cf11615ce605",
   "metadata": {},
   "outputs": [
    {
     "name": "stdout",
     "output_type": "stream",
     "text": [
      "CPU times: user 1.29 s, sys: 237 ms, total: 1.52 s\n",
      "Wall time: 3.34 s\n"
     ]
    }
   ],
   "source": [
    "%%time\n",
    "\n",
    "\n",
    "# model\n",
    "model = get_model(args)\n",
    "\n",
    "# optimizer\n",
    "optimizer = get_optimizer(args)\n",
    "\n",
    "# loss\n",
    "make_step, val_step = get_loss_fn(args)\n",
    "\n",
    "# init model\n",
    "opt_state = optimizer.init(model)"
   ]
  },
  {
   "cell_type": "code",
   "execution_count": 8,
   "id": "1208851b-909f-4489-be12-b1818c00f2cf",
   "metadata": {},
   "outputs": [],
   "source": [
    "n_steps_per_epoch = args.n_train / args.batch_size\n",
    "steps = int(n_steps_per_epoch * args.n_epochs) if not args.smoke_test else 500\n",
    "\n",
    "\n",
    "wandb.config.update(\n",
    "    {\n",
    "        \"steps\": steps,\n",
    "        \"n_steps_per_epoch\": n_steps_per_epoch,\n",
    "    }\n",
    ")"
   ]
  },
  {
   "cell_type": "markdown",
   "id": "c2a1d68f-2cc9-4246-8bd8-a83b234dd49f",
   "metadata": {},
   "source": [
    "### Training"
   ]
  },
  {
   "cell_type": "code",
   "execution_count": null,
   "id": "5b5c443d-31a6-4336-9c27-2d5890e56335",
   "metadata": {},
   "outputs": [
    {
     "name": "stderr",
     "output_type": "stream",
     "text": [
      "2022-05-31 16:53:54.580108: I tensorflow/core/platform/cpu_feature_guard.cc:193] This TensorFlow binary is optimized with oneAPI Deep Neural Network Library (oneDNN) to use the following CPU instructions in performance-critical operations:  AVX2 AVX512F AVX512_VNNI FMA\n",
      "To enable them in other operations, rebuild TensorFlow with the appropriate compiler flags.\n",
      "Step: 180 | Train Loss: 2.399e-02 | Valid Loss: 1.438e-01:   5%|▍         | 186/3933 [00:28<07:30,  8.33it/s]"
     ]
    }
   ],
   "source": [
    "train_ds = make_mini_batcher(xtrain, ytrain, args.batch_size, 5, shuffle=True)\n",
    "valid_ds = make_mini_batcher(xvalid, yvalid, args.batch_size, 5, shuffle=False)\n",
    "\n",
    "\n",
    "losses = {} \n",
    "losses[\"train\"] = []\n",
    "losses[\"valid\"] = []\n",
    "\n",
    "\n",
    "with tqdm.trange(steps) as pbar:\n",
    "    for step in pbar:\n",
    "        \n",
    "        ix, iy = next(train_ds)\n",
    "        loss, grads = make_step(model, jnp.asarray(ix), jnp.asarray(iy))\n",
    "        \n",
    "        updates, opt_state = optimizer.update(grads, opt_state)\n",
    "        model = eqx.apply_updates(model, updates)\n",
    "        \n",
    "        losses[\"train\"].append(loss)\n",
    "        wandb.log({\"train_loss\": loss}, step=step)\n",
    "        ix, iy = next(valid_ds)\n",
    "        # validation step\n",
    "        vloss = val_step(model, jnp.asarray(ix), jnp.asarray(iy))\n",
    "        losses[\"valid\"].append(vloss)\n",
    "        \n",
    "        \n",
    "        wandb.log({\"val_loss\": vloss}, step=step)\n",
    "        \n",
    "        if step % 10 == 0:\n",
    "            pbar.set_description(f\"Step: {step:_} | Train Loss: {loss:.3e} | Valid Loss: {vloss:.3e}\")\n",
    "            \n"
   ]
  },
  {
   "cell_type": "markdown",
   "id": "62ed2cdc-b549-4969-8d98-204f9728bee3",
   "metadata": {},
   "source": [
    "### Save models"
   ]
  },
  {
   "cell_type": "code",
   "execution_count": 23,
   "id": "ed63a01f-45a1-4c00-bc03-2cfcb9910978",
   "metadata": {},
   "outputs": [
    {
     "data": {
      "text/plain": []
     },
     "execution_count": 23,
     "metadata": {},
     "output_type": "execute_result"
    }
   ],
   "source": [
    "# objects\n",
    "path_model = Path(wandb.run.dir).joinpath(\"model.pickle\")\n",
    "path_scaler = Path(wandb.run.dir).joinpath(\"scaler.pickle\")\n",
    "\n",
    "# models to save\n",
    "save_object(model, path_model)\n",
    "save_object(scaler, path_scaler)\n",
    "\n",
    "# save with wandb\n",
    "wandb.save(str(path_model), policy=\"now\")\n",
    "wandb.save(str(path_scaler), policy=\"now\")"
   ]
  },
  {
   "cell_type": "markdown",
   "id": "3952eecb-b099-4422-8c91-52285bb01c6e",
   "metadata": {},
   "source": [
    "### Load Models (Optional)"
   ]
  },
  {
   "cell_type": "code",
   "execution_count": 5,
   "id": "50cccbdb-ac0a-49e0-84e9-e14067312257",
   "metadata": {},
   "outputs": [],
   "source": [
    "# if args.server == \"jz\":\n",
    "# get id (from this run or a run you can set)\n",
    "run_id = wandb.run.id\n",
    "\n",
    "# initialize api\n",
    "api = wandb.Api()\n",
    "\n",
    "# get run\n",
    "run = api.run(f\"{args.entity}/{args.project}/{run_id}\")\n",
    "\n",
    "# download the files\n",
    "files = [\n",
    "    \"scaler.pickle\", \n",
    "    \"model.pickle\"\n",
    "]\n",
    "\n",
    "for ifile in files:\n",
    "    \n",
    "    run.file(ifile).download(replace=True)"
   ]
  },
  {
   "cell_type": "code",
   "execution_count": 6,
   "id": "cef597ca-bc1f-4996-b51a-f5deed6c5491",
   "metadata": {},
   "outputs": [
    {
     "name": "stderr",
     "output_type": "stream",
     "text": [
      "/home/johnsonj/miniconda3/envs/jax_cpu_py39/lib/python3.9/site-packages/sklearn/base.py:329: UserWarning: Trying to unpickle estimator MinMaxScaler from version 1.1.1 when using version 1.0.2. This might lead to breaking code or invalid results. Use at your own risk. For more info please refer to:\n",
      "https://scikit-learn.org/stable/modules/model_persistence.html#security-maintainability-limitations\n",
      "  warnings.warn(\n"
     ]
    }
   ],
   "source": [
    "model = load_object(\"./model.pickle\")\n",
    "scaler = load_object(\"./scaler.pickle\")"
   ]
  },
  {
   "cell_type": "markdown",
   "id": "450003ae-4943-4704-b6f4-5b7eab4f21ba",
   "metadata": {},
   "source": [
    "### PostProcessing"
   ]
  },
  {
   "cell_type": "code",
   "execution_count": 7,
   "id": "316e79d9-efc8-4707-9c67-e9781e110004",
   "metadata": {},
   "outputs": [
    {
     "data": {
      "text/html": [
       "<div>\n",
       "<style scoped>\n",
       "    .dataframe tbody tr th:only-of-type {\n",
       "        vertical-align: middle;\n",
       "    }\n",
       "\n",
       "    .dataframe tbody tr th {\n",
       "        vertical-align: top;\n",
       "    }\n",
       "\n",
       "    .dataframe thead th {\n",
       "        text-align: right;\n",
       "    }\n",
       "</style>\n",
       "<table border=\"1\" class=\"dataframe\">\n",
       "  <thead>\n",
       "    <tr style=\"text-align: right;\">\n",
       "      <th></th>\n",
       "      <th>longitude</th>\n",
       "      <th>latitude</th>\n",
       "    </tr>\n",
       "  </thead>\n",
       "  <tbody>\n",
       "    <tr>\n",
       "      <th>count</th>\n",
       "      <td>967980.000000</td>\n",
       "      <td>967980.000000</td>\n",
       "    </tr>\n",
       "    <tr>\n",
       "      <th>mean</th>\n",
       "      <td>300.000000</td>\n",
       "      <td>38.100000</td>\n",
       "    </tr>\n",
       "    <tr>\n",
       "      <th>std</th>\n",
       "      <td>2.943922</td>\n",
       "      <td>3.001668</td>\n",
       "    </tr>\n",
       "    <tr>\n",
       "      <th>min</th>\n",
       "      <td>295.000000</td>\n",
       "      <td>33.000000</td>\n",
       "    </tr>\n",
       "    <tr>\n",
       "      <th>25%</th>\n",
       "      <td>297.400000</td>\n",
       "      <td>35.550000</td>\n",
       "    </tr>\n",
       "    <tr>\n",
       "      <th>50%</th>\n",
       "      <td>300.000000</td>\n",
       "      <td>38.100000</td>\n",
       "    </tr>\n",
       "    <tr>\n",
       "      <th>75%</th>\n",
       "      <td>302.600000</td>\n",
       "      <td>40.650000</td>\n",
       "    </tr>\n",
       "    <tr>\n",
       "      <th>max</th>\n",
       "      <td>305.000000</td>\n",
       "      <td>43.200000</td>\n",
       "    </tr>\n",
       "  </tbody>\n",
       "</table>\n",
       "</div>"
      ],
      "text/plain": [
       "           longitude       latitude\n",
       "count  967980.000000  967980.000000\n",
       "mean      300.000000      38.100000\n",
       "std         2.943922       3.001668\n",
       "min       295.000000      33.000000\n",
       "25%       297.400000      35.550000\n",
       "50%       300.000000      38.100000\n",
       "75%       302.600000      40.650000\n",
       "max       305.000000      43.200000"
      ]
     },
     "execution_count": 7,
     "metadata": {},
     "output_type": "execute_result"
    }
   ],
   "source": [
    "df_grid = generate_eval_data(args)\n",
    "\n",
    "df_grid.describe()"
   ]
  },
  {
   "cell_type": "code",
   "execution_count": 8,
   "id": "d4d296bb-b91d-4993-b0ee-bff91208b6e9",
   "metadata": {},
   "outputs": [
    {
     "data": {
      "text/plain": [
       "(          longitude       latitude  time_transform\n",
       " count  9.679800e+05  967980.000000   967980.000000\n",
       " mean  -2.666668e-07       0.006669       -0.000004\n",
       " std    1.962616e-01       0.200112        0.494783\n",
       " min   -3.333338e-01      -0.333332       -0.854648\n",
       " 25%   -1.733337e-01      -0.163331       -0.427326\n",
       " 50%   -2.666668e-07       0.006669       -0.000004\n",
       " 75%    1.733332e-01       0.176670        0.427317\n",
       " max    3.333333e-01       0.346671        0.854639,\n",
       "            longitude       latitude\n",
       " count  967980.000000  967980.000000\n",
       " mean      300.000000      38.100000\n",
       " std         2.943922       3.001668\n",
       " min       295.000000      33.000000\n",
       " 25%       297.400000      35.550000\n",
       " 50%       300.000000      38.100000\n",
       " 75%       302.600000      40.650000\n",
       " max       305.000000      43.200000)"
      ]
     },
     "execution_count": 8,
     "metadata": {},
     "output_type": "execute_result"
    }
   ],
   "source": [
    "df_pred = feature_transform(df_grid.copy(), args, scaler=scaler)\n",
    "df_pred.describe(), df_grid.describe()"
   ]
  },
  {
   "cell_type": "code",
   "execution_count": 9,
   "id": "665740c1-03cb-49ea-8ce1-22db16a85b84",
   "metadata": {},
   "outputs": [],
   "source": [
    "wandb.config.update(\n",
    "    {\n",
    "        \"n_test\": df_pred.shape[0],\n",
    "    }\n",
    ")"
   ]
  },
  {
   "cell_type": "markdown",
   "id": "b1224ed1-2071-47a2-abe6-df2767580fc4",
   "metadata": {},
   "source": [
    "### Predictions\n"
   ]
  },
  {
   "cell_type": "code",
   "execution_count": 10,
   "id": "2abeed1c-76f0-4f4f-a54a-fecef4cf0981",
   "metadata": {},
   "outputs": [],
   "source": [
    "@jax.jit\n",
    "def pred_step(model, data):\n",
    "    return jax.vmap(model)(data)"
   ]
  },
  {
   "cell_type": "code",
   "execution_count": 11,
   "id": "54c2ef06-b427-448f-87b7-28d8f33cd6bc",
   "metadata": {},
   "outputs": [],
   "source": [
    "from ml4ssh._src.model_utils import batch_predict\n",
    "from functools import partial\n",
    "import time"
   ]
  },
  {
   "cell_type": "code",
   "execution_count": 12,
   "id": "02fd8a42-3bc2-4d1f-bc00-19801a1b92e7",
   "metadata": {},
   "outputs": [
    {
     "name": "stderr",
     "output_type": "stream",
     "text": [
      "WARNING:absl:No GPU/TPU found, falling back to CPU. (Set TF_CPP_MIN_LOG_LEVEL=0 and rerun for more info.)\n",
      "97it [00:24,  4.00it/s]\n"
     ]
    }
   ],
   "source": [
    "df_pred = jnp.asarray(df_pred[df_pred.columns.difference([\"time\"])].values)\n",
    "\n",
    "fn = partial(pred_step, model)\n",
    "\n",
    "t0 = time.time()\n",
    "df_grid[\"pred\"] = batch_predict(df_pred, fn, args.eval_batch_size)\n",
    "t1 = time.time() - t0"
   ]
  },
  {
   "cell_type": "code",
   "execution_count": 13,
   "id": "3888b407-18b4-4827-99ee-bed6ff447912",
   "metadata": {},
   "outputs": [],
   "source": [
    "# wandb.config.update(\n",
    "#     {\n",
    "#         \"time_predict_batches\": t1,\n",
    "#     }\n",
    "# )"
   ]
  },
  {
   "cell_type": "code",
   "execution_count": 14,
   "id": "11412828-7bd7-4c9c-aaf9-3b638d638313",
   "metadata": {},
   "outputs": [
    {
     "name": "stderr",
     "output_type": "stream",
     "text": [
      "/home/johnsonj/miniconda3/envs/jax_cpu_py39/lib/python3.9/site-packages/xarray/core/missing.py:562: FutureWarning: Passing method to Float64Index.get_loc is deprecated and will raise in a future version. Use index.get_indexer([item], method=...) instead.\n",
      "  imin = index.get_loc(minval, method=\"nearest\")\n",
      "/home/johnsonj/miniconda3/envs/jax_cpu_py39/lib/python3.9/site-packages/xarray/core/missing.py:563: FutureWarning: Passing method to Float64Index.get_loc is deprecated and will raise in a future version. Use index.get_indexer([item], method=...) instead.\n",
      "  imax = index.get_loc(maxval, method=\"nearest\")\n",
      "/home/johnsonj/miniconda3/envs/jax_cpu_py39/lib/python3.9/site-packages/xarray/core/missing.py:562: FutureWarning: Passing method to Float64Index.get_loc is deprecated and will raise in a future version. Use index.get_indexer([item], method=...) instead.\n",
      "  imin = index.get_loc(minval, method=\"nearest\")\n",
      "/home/johnsonj/miniconda3/envs/jax_cpu_py39/lib/python3.9/site-packages/xarray/core/missing.py:563: FutureWarning: Passing method to Float64Index.get_loc is deprecated and will raise in a future version. Use index.get_indexer([item], method=...) instead.\n",
      "  imax = index.get_loc(maxval, method=\"nearest\")\n"
     ]
    }
   ],
   "source": [
    "ds_oi = postprocess_data(df_grid, args)"
   ]
  },
  {
   "cell_type": "code",
   "execution_count": 15,
   "id": "974dab93-a32b-4fa7-82f8-dc6fcffbc68a",
   "metadata": {},
   "outputs": [
    {
     "data": {
      "text/html": [
       "<div><svg style=\"position: absolute; width: 0; height: 0; overflow: hidden\">\n",
       "<defs>\n",
       "<symbol id=\"icon-database\" viewBox=\"0 0 32 32\">\n",
       "<path d=\"M16 0c-8.837 0-16 2.239-16 5v4c0 2.761 7.163 5 16 5s16-2.239 16-5v-4c0-2.761-7.163-5-16-5z\"></path>\n",
       "<path d=\"M16 17c-8.837 0-16-2.239-16-5v6c0 2.761 7.163 5 16 5s16-2.239 16-5v-6c0 2.761-7.163 5-16 5z\"></path>\n",
       "<path d=\"M16 26c-8.837 0-16-2.239-16-5v6c0 2.761 7.163 5 16 5s16-2.239 16-5v-6c0 2.761-7.163 5-16 5z\"></path>\n",
       "</symbol>\n",
       "<symbol id=\"icon-file-text2\" viewBox=\"0 0 32 32\">\n",
       "<path d=\"M28.681 7.159c-0.694-0.947-1.662-2.053-2.724-3.116s-2.169-2.030-3.116-2.724c-1.612-1.182-2.393-1.319-2.841-1.319h-15.5c-1.378 0-2.5 1.121-2.5 2.5v27c0 1.378 1.122 2.5 2.5 2.5h23c1.378 0 2.5-1.122 2.5-2.5v-19.5c0-0.448-0.137-1.23-1.319-2.841zM24.543 5.457c0.959 0.959 1.712 1.825 2.268 2.543h-4.811v-4.811c0.718 0.556 1.584 1.309 2.543 2.268zM28 29.5c0 0.271-0.229 0.5-0.5 0.5h-23c-0.271 0-0.5-0.229-0.5-0.5v-27c0-0.271 0.229-0.5 0.5-0.5 0 0 15.499-0 15.5 0v7c0 0.552 0.448 1 1 1h7v19.5z\"></path>\n",
       "<path d=\"M23 26h-14c-0.552 0-1-0.448-1-1s0.448-1 1-1h14c0.552 0 1 0.448 1 1s-0.448 1-1 1z\"></path>\n",
       "<path d=\"M23 22h-14c-0.552 0-1-0.448-1-1s0.448-1 1-1h14c0.552 0 1 0.448 1 1s-0.448 1-1 1z\"></path>\n",
       "<path d=\"M23 18h-14c-0.552 0-1-0.448-1-1s0.448-1 1-1h14c0.552 0 1 0.448 1 1s-0.448 1-1 1z\"></path>\n",
       "</symbol>\n",
       "</defs>\n",
       "</svg>\n",
       "<style>/* CSS stylesheet for displaying xarray objects in jupyterlab.\n",
       " *\n",
       " */\n",
       "\n",
       ":root {\n",
       "  --xr-font-color0: var(--jp-content-font-color0, rgba(0, 0, 0, 1));\n",
       "  --xr-font-color2: var(--jp-content-font-color2, rgba(0, 0, 0, 0.54));\n",
       "  --xr-font-color3: var(--jp-content-font-color3, rgba(0, 0, 0, 0.38));\n",
       "  --xr-border-color: var(--jp-border-color2, #e0e0e0);\n",
       "  --xr-disabled-color: var(--jp-layout-color3, #bdbdbd);\n",
       "  --xr-background-color: var(--jp-layout-color0, white);\n",
       "  --xr-background-color-row-even: var(--jp-layout-color1, white);\n",
       "  --xr-background-color-row-odd: var(--jp-layout-color2, #eeeeee);\n",
       "}\n",
       "\n",
       "html[theme=dark],\n",
       "body.vscode-dark {\n",
       "  --xr-font-color0: rgba(255, 255, 255, 1);\n",
       "  --xr-font-color2: rgba(255, 255, 255, 0.54);\n",
       "  --xr-font-color3: rgba(255, 255, 255, 0.38);\n",
       "  --xr-border-color: #1F1F1F;\n",
       "  --xr-disabled-color: #515151;\n",
       "  --xr-background-color: #111111;\n",
       "  --xr-background-color-row-even: #111111;\n",
       "  --xr-background-color-row-odd: #313131;\n",
       "}\n",
       "\n",
       ".xr-wrap {\n",
       "  display: block;\n",
       "  min-width: 300px;\n",
       "  max-width: 700px;\n",
       "}\n",
       "\n",
       ".xr-text-repr-fallback {\n",
       "  /* fallback to plain text repr when CSS is not injected (untrusted notebook) */\n",
       "  display: none;\n",
       "}\n",
       "\n",
       ".xr-header {\n",
       "  padding-top: 6px;\n",
       "  padding-bottom: 6px;\n",
       "  margin-bottom: 4px;\n",
       "  border-bottom: solid 1px var(--xr-border-color);\n",
       "}\n",
       "\n",
       ".xr-header > div,\n",
       ".xr-header > ul {\n",
       "  display: inline;\n",
       "  margin-top: 0;\n",
       "  margin-bottom: 0;\n",
       "}\n",
       "\n",
       ".xr-obj-type,\n",
       ".xr-array-name {\n",
       "  margin-left: 2px;\n",
       "  margin-right: 10px;\n",
       "}\n",
       "\n",
       ".xr-obj-type {\n",
       "  color: var(--xr-font-color2);\n",
       "}\n",
       "\n",
       ".xr-sections {\n",
       "  padding-left: 0 !important;\n",
       "  display: grid;\n",
       "  grid-template-columns: 150px auto auto 1fr 20px 20px;\n",
       "}\n",
       "\n",
       ".xr-section-item {\n",
       "  display: contents;\n",
       "}\n",
       "\n",
       ".xr-section-item input {\n",
       "  display: none;\n",
       "}\n",
       "\n",
       ".xr-section-item input + label {\n",
       "  color: var(--xr-disabled-color);\n",
       "}\n",
       "\n",
       ".xr-section-item input:enabled + label {\n",
       "  cursor: pointer;\n",
       "  color: var(--xr-font-color2);\n",
       "}\n",
       "\n",
       ".xr-section-item input:enabled + label:hover {\n",
       "  color: var(--xr-font-color0);\n",
       "}\n",
       "\n",
       ".xr-section-summary {\n",
       "  grid-column: 1;\n",
       "  color: var(--xr-font-color2);\n",
       "  font-weight: 500;\n",
       "}\n",
       "\n",
       ".xr-section-summary > span {\n",
       "  display: inline-block;\n",
       "  padding-left: 0.5em;\n",
       "}\n",
       "\n",
       ".xr-section-summary-in:disabled + label {\n",
       "  color: var(--xr-font-color2);\n",
       "}\n",
       "\n",
       ".xr-section-summary-in + label:before {\n",
       "  display: inline-block;\n",
       "  content: '►';\n",
       "  font-size: 11px;\n",
       "  width: 15px;\n",
       "  text-align: center;\n",
       "}\n",
       "\n",
       ".xr-section-summary-in:disabled + label:before {\n",
       "  color: var(--xr-disabled-color);\n",
       "}\n",
       "\n",
       ".xr-section-summary-in:checked + label:before {\n",
       "  content: '▼';\n",
       "}\n",
       "\n",
       ".xr-section-summary-in:checked + label > span {\n",
       "  display: none;\n",
       "}\n",
       "\n",
       ".xr-section-summary,\n",
       ".xr-section-inline-details {\n",
       "  padding-top: 4px;\n",
       "  padding-bottom: 4px;\n",
       "}\n",
       "\n",
       ".xr-section-inline-details {\n",
       "  grid-column: 2 / -1;\n",
       "}\n",
       "\n",
       ".xr-section-details {\n",
       "  display: none;\n",
       "  grid-column: 1 / -1;\n",
       "  margin-bottom: 5px;\n",
       "}\n",
       "\n",
       ".xr-section-summary-in:checked ~ .xr-section-details {\n",
       "  display: contents;\n",
       "}\n",
       "\n",
       ".xr-array-wrap {\n",
       "  grid-column: 1 / -1;\n",
       "  display: grid;\n",
       "  grid-template-columns: 20px auto;\n",
       "}\n",
       "\n",
       ".xr-array-wrap > label {\n",
       "  grid-column: 1;\n",
       "  vertical-align: top;\n",
       "}\n",
       "\n",
       ".xr-preview {\n",
       "  color: var(--xr-font-color3);\n",
       "}\n",
       "\n",
       ".xr-array-preview,\n",
       ".xr-array-data {\n",
       "  padding: 0 5px !important;\n",
       "  grid-column: 2;\n",
       "}\n",
       "\n",
       ".xr-array-data,\n",
       ".xr-array-in:checked ~ .xr-array-preview {\n",
       "  display: none;\n",
       "}\n",
       "\n",
       ".xr-array-in:checked ~ .xr-array-data,\n",
       ".xr-array-preview {\n",
       "  display: inline-block;\n",
       "}\n",
       "\n",
       ".xr-dim-list {\n",
       "  display: inline-block !important;\n",
       "  list-style: none;\n",
       "  padding: 0 !important;\n",
       "  margin: 0;\n",
       "}\n",
       "\n",
       ".xr-dim-list li {\n",
       "  display: inline-block;\n",
       "  padding: 0;\n",
       "  margin: 0;\n",
       "}\n",
       "\n",
       ".xr-dim-list:before {\n",
       "  content: '(';\n",
       "}\n",
       "\n",
       ".xr-dim-list:after {\n",
       "  content: ')';\n",
       "}\n",
       "\n",
       ".xr-dim-list li:not(:last-child):after {\n",
       "  content: ',';\n",
       "  padding-right: 5px;\n",
       "}\n",
       "\n",
       ".xr-has-index {\n",
       "  font-weight: bold;\n",
       "}\n",
       "\n",
       ".xr-var-list,\n",
       ".xr-var-item {\n",
       "  display: contents;\n",
       "}\n",
       "\n",
       ".xr-var-item > div,\n",
       ".xr-var-item label,\n",
       ".xr-var-item > .xr-var-name span {\n",
       "  background-color: var(--xr-background-color-row-even);\n",
       "  margin-bottom: 0;\n",
       "}\n",
       "\n",
       ".xr-var-item > .xr-var-name:hover span {\n",
       "  padding-right: 5px;\n",
       "}\n",
       "\n",
       ".xr-var-list > li:nth-child(odd) > div,\n",
       ".xr-var-list > li:nth-child(odd) > label,\n",
       ".xr-var-list > li:nth-child(odd) > .xr-var-name span {\n",
       "  background-color: var(--xr-background-color-row-odd);\n",
       "}\n",
       "\n",
       ".xr-var-name {\n",
       "  grid-column: 1;\n",
       "}\n",
       "\n",
       ".xr-var-dims {\n",
       "  grid-column: 2;\n",
       "}\n",
       "\n",
       ".xr-var-dtype {\n",
       "  grid-column: 3;\n",
       "  text-align: right;\n",
       "  color: var(--xr-font-color2);\n",
       "}\n",
       "\n",
       ".xr-var-preview {\n",
       "  grid-column: 4;\n",
       "}\n",
       "\n",
       ".xr-var-name,\n",
       ".xr-var-dims,\n",
       ".xr-var-dtype,\n",
       ".xr-preview,\n",
       ".xr-attrs dt {\n",
       "  white-space: nowrap;\n",
       "  overflow: hidden;\n",
       "  text-overflow: ellipsis;\n",
       "  padding-right: 10px;\n",
       "}\n",
       "\n",
       ".xr-var-name:hover,\n",
       ".xr-var-dims:hover,\n",
       ".xr-var-dtype:hover,\n",
       ".xr-attrs dt:hover {\n",
       "  overflow: visible;\n",
       "  width: auto;\n",
       "  z-index: 1;\n",
       "}\n",
       "\n",
       ".xr-var-attrs,\n",
       ".xr-var-data {\n",
       "  display: none;\n",
       "  background-color: var(--xr-background-color) !important;\n",
       "  padding-bottom: 5px !important;\n",
       "}\n",
       "\n",
       ".xr-var-attrs-in:checked ~ .xr-var-attrs,\n",
       ".xr-var-data-in:checked ~ .xr-var-data {\n",
       "  display: block;\n",
       "}\n",
       "\n",
       ".xr-var-data > table {\n",
       "  float: right;\n",
       "}\n",
       "\n",
       ".xr-var-name span,\n",
       ".xr-var-data,\n",
       ".xr-attrs {\n",
       "  padding-left: 25px !important;\n",
       "}\n",
       "\n",
       ".xr-attrs,\n",
       ".xr-var-attrs,\n",
       ".xr-var-data {\n",
       "  grid-column: 1 / -1;\n",
       "}\n",
       "\n",
       "dl.xr-attrs {\n",
       "  padding: 0;\n",
       "  margin: 0;\n",
       "  display: grid;\n",
       "  grid-template-columns: 125px auto;\n",
       "}\n",
       "\n",
       ".xr-attrs dt,\n",
       ".xr-attrs dd {\n",
       "  padding: 0;\n",
       "  margin: 0;\n",
       "  float: left;\n",
       "  padding-right: 10px;\n",
       "  width: auto;\n",
       "}\n",
       "\n",
       ".xr-attrs dt {\n",
       "  font-weight: normal;\n",
       "  grid-column: 1;\n",
       "}\n",
       "\n",
       ".xr-attrs dt:hover span {\n",
       "  display: inline-block;\n",
       "  background: var(--xr-background-color);\n",
       "  padding-right: 10px;\n",
       "}\n",
       "\n",
       ".xr-attrs dd {\n",
       "  grid-column: 2;\n",
       "  white-space: pre-wrap;\n",
       "  word-break: break-all;\n",
       "}\n",
       "\n",
       ".xr-icon-database,\n",
       ".xr-icon-file-text2 {\n",
       "  display: inline-block;\n",
       "  vertical-align: middle;\n",
       "  width: 1em;\n",
       "  height: 1.5em !important;\n",
       "  stroke-width: 0;\n",
       "  stroke: currentColor;\n",
       "  fill: currentColor;\n",
       "}\n",
       "</style><pre class='xr-text-repr-fallback'>&lt;xarray.Dataset&gt;\n",
       "Dimensions:    (latitude: 52, longitude: 51, time: 365)\n",
       "Coordinates:\n",
       "  * latitude   (latitude) float64 33.0 33.2 33.4 33.6 ... 42.6 42.8 43.0 43.2\n",
       "  * longitude  (longitude) float64 295.0 295.2 295.4 295.6 ... 304.6 304.8 305.0\n",
       "  * time       (time) datetime64[ns] 2017-01-01 2017-01-02 ... 2017-12-31\n",
       "Data variables:\n",
       "    index      (latitude, longitude, time) int64 0 1 2 ... 967977 967978 967979\n",
       "    pred       (latitude, longitude, time) float32 0.02316 0.01256 ... 0.1113\n",
       "    ssh        (latitude, longitude, time) float64 0.6228 0.6122 ... -0.06499</pre><div class='xr-wrap' hidden><div class='xr-header'><div class='xr-obj-type'>xarray.Dataset</div></div><ul class='xr-sections'><li class='xr-section-item'><input id='section-4e6299f5-b4ac-47ef-96c2-0ce3f617ee9a' class='xr-section-summary-in' type='checkbox' disabled ><label for='section-4e6299f5-b4ac-47ef-96c2-0ce3f617ee9a' class='xr-section-summary'  title='Expand/collapse section'>Dimensions:</label><div class='xr-section-inline-details'><ul class='xr-dim-list'><li><span class='xr-has-index'>latitude</span>: 52</li><li><span class='xr-has-index'>longitude</span>: 51</li><li><span class='xr-has-index'>time</span>: 365</li></ul></div><div class='xr-section-details'></div></li><li class='xr-section-item'><input id='section-9353f051-29b2-4314-a6f0-6bd54a5a6b2a' class='xr-section-summary-in' type='checkbox'  checked><label for='section-9353f051-29b2-4314-a6f0-6bd54a5a6b2a' class='xr-section-summary' >Coordinates: <span>(3)</span></label><div class='xr-section-inline-details'></div><div class='xr-section-details'><ul class='xr-var-list'><li class='xr-var-item'><div class='xr-var-name'><span class='xr-has-index'>latitude</span></div><div class='xr-var-dims'>(latitude)</div><div class='xr-var-dtype'>float64</div><div class='xr-var-preview xr-preview'>33.0 33.2 33.4 ... 42.8 43.0 43.2</div><input id='attrs-cb5f5fac-f660-4197-aaf4-89346eb3579c' class='xr-var-attrs-in' type='checkbox' disabled><label for='attrs-cb5f5fac-f660-4197-aaf4-89346eb3579c' title='Show/Hide attributes'><svg class='icon xr-icon-file-text2'><use xlink:href='#icon-file-text2'></use></svg></label><input id='data-37494b81-f9fc-4e00-9a4a-d764c05b325d' class='xr-var-data-in' type='checkbox'><label for='data-37494b81-f9fc-4e00-9a4a-d764c05b325d' title='Show/Hide data repr'><svg class='icon xr-icon-database'><use xlink:href='#icon-database'></use></svg></label><div class='xr-var-attrs'><dl class='xr-attrs'></dl></div><div class='xr-var-data'><pre>array([33. , 33.2, 33.4, 33.6, 33.8, 34. , 34.2, 34.4, 34.6, 34.8, 35. , 35.2,\n",
       "       35.4, 35.6, 35.8, 36. , 36.2, 36.4, 36.6, 36.8, 37. , 37.2, 37.4, 37.6,\n",
       "       37.8, 38. , 38.2, 38.4, 38.6, 38.8, 39. , 39.2, 39.4, 39.6, 39.8, 40. ,\n",
       "       40.2, 40.4, 40.6, 40.8, 41. , 41.2, 41.4, 41.6, 41.8, 42. , 42.2, 42.4,\n",
       "       42.6, 42.8, 43. , 43.2])</pre></div></li><li class='xr-var-item'><div class='xr-var-name'><span class='xr-has-index'>longitude</span></div><div class='xr-var-dims'>(longitude)</div><div class='xr-var-dtype'>float64</div><div class='xr-var-preview xr-preview'>295.0 295.2 295.4 ... 304.8 305.0</div><input id='attrs-5e21b597-1485-41b5-98e9-8083dfeca62d' class='xr-var-attrs-in' type='checkbox' disabled><label for='attrs-5e21b597-1485-41b5-98e9-8083dfeca62d' title='Show/Hide attributes'><svg class='icon xr-icon-file-text2'><use xlink:href='#icon-file-text2'></use></svg></label><input id='data-aae72581-cd06-4e61-a2da-27f7f8ba5d8e' class='xr-var-data-in' type='checkbox'><label for='data-aae72581-cd06-4e61-a2da-27f7f8ba5d8e' title='Show/Hide data repr'><svg class='icon xr-icon-database'><use xlink:href='#icon-database'></use></svg></label><div class='xr-var-attrs'><dl class='xr-attrs'></dl></div><div class='xr-var-data'><pre>array([295. , 295.2, 295.4, 295.6, 295.8, 296. , 296.2, 296.4, 296.6, 296.8,\n",
       "       297. , 297.2, 297.4, 297.6, 297.8, 298. , 298.2, 298.4, 298.6, 298.8,\n",
       "       299. , 299.2, 299.4, 299.6, 299.8, 300. , 300.2, 300.4, 300.6, 300.8,\n",
       "       301. , 301.2, 301.4, 301.6, 301.8, 302. , 302.2, 302.4, 302.6, 302.8,\n",
       "       303. , 303.2, 303.4, 303.6, 303.8, 304. , 304.2, 304.4, 304.6, 304.8,\n",
       "       305. ])</pre></div></li><li class='xr-var-item'><div class='xr-var-name'><span class='xr-has-index'>time</span></div><div class='xr-var-dims'>(time)</div><div class='xr-var-dtype'>datetime64[ns]</div><div class='xr-var-preview xr-preview'>2017-01-01 ... 2017-12-31</div><input id='attrs-f238b768-bdfb-4920-9d32-e54a1a201d9c' class='xr-var-attrs-in' type='checkbox' disabled><label for='attrs-f238b768-bdfb-4920-9d32-e54a1a201d9c' title='Show/Hide attributes'><svg class='icon xr-icon-file-text2'><use xlink:href='#icon-file-text2'></use></svg></label><input id='data-5574970a-c9b0-4ef8-879a-8b0a5a1f6642' class='xr-var-data-in' type='checkbox'><label for='data-5574970a-c9b0-4ef8-879a-8b0a5a1f6642' title='Show/Hide data repr'><svg class='icon xr-icon-database'><use xlink:href='#icon-database'></use></svg></label><div class='xr-var-attrs'><dl class='xr-attrs'></dl></div><div class='xr-var-data'><pre>array([&#x27;2017-01-01T00:00:00.000000000&#x27;, &#x27;2017-01-02T00:00:00.000000000&#x27;,\n",
       "       &#x27;2017-01-03T00:00:00.000000000&#x27;, ..., &#x27;2017-12-29T00:00:00.000000000&#x27;,\n",
       "       &#x27;2017-12-30T00:00:00.000000000&#x27;, &#x27;2017-12-31T00:00:00.000000000&#x27;],\n",
       "      dtype=&#x27;datetime64[ns]&#x27;)</pre></div></li></ul></div></li><li class='xr-section-item'><input id='section-fd48c29e-a100-4930-8032-2f0fc0100897' class='xr-section-summary-in' type='checkbox'  checked><label for='section-fd48c29e-a100-4930-8032-2f0fc0100897' class='xr-section-summary' >Data variables: <span>(3)</span></label><div class='xr-section-inline-details'></div><div class='xr-section-details'><ul class='xr-var-list'><li class='xr-var-item'><div class='xr-var-name'><span>index</span></div><div class='xr-var-dims'>(latitude, longitude, time)</div><div class='xr-var-dtype'>int64</div><div class='xr-var-preview xr-preview'>0 1 2 3 ... 967977 967978 967979</div><input id='attrs-c2d0f0fe-1ac5-46de-88bf-1c0853004686' class='xr-var-attrs-in' type='checkbox' disabled><label for='attrs-c2d0f0fe-1ac5-46de-88bf-1c0853004686' title='Show/Hide attributes'><svg class='icon xr-icon-file-text2'><use xlink:href='#icon-file-text2'></use></svg></label><input id='data-dee70d06-27ef-45c3-ba6c-2faf01d3fed4' class='xr-var-data-in' type='checkbox'><label for='data-dee70d06-27ef-45c3-ba6c-2faf01d3fed4' title='Show/Hide data repr'><svg class='icon xr-icon-database'><use xlink:href='#icon-database'></use></svg></label><div class='xr-var-attrs'><dl class='xr-attrs'></dl></div><div class='xr-var-data'><pre>array([[[     0,      1,      2, ...,    362,    363,    364],\n",
       "        [   365,    366,    367, ...,    727,    728,    729],\n",
       "        [   730,    731,    732, ...,   1092,   1093,   1094],\n",
       "        ...,\n",
       "        [ 17520,  17521,  17522, ...,  17882,  17883,  17884],\n",
       "        [ 17885,  17886,  17887, ...,  18247,  18248,  18249],\n",
       "        [ 18250,  18251,  18252, ...,  18612,  18613,  18614]],\n",
       "\n",
       "       [[ 18615,  18616,  18617, ...,  18977,  18978,  18979],\n",
       "        [ 18980,  18981,  18982, ...,  19342,  19343,  19344],\n",
       "        [ 19345,  19346,  19347, ...,  19707,  19708,  19709],\n",
       "        ...,\n",
       "        [ 36135,  36136,  36137, ...,  36497,  36498,  36499],\n",
       "        [ 36500,  36501,  36502, ...,  36862,  36863,  36864],\n",
       "        [ 36865,  36866,  36867, ...,  37227,  37228,  37229]],\n",
       "\n",
       "       [[ 37230,  37231,  37232, ...,  37592,  37593,  37594],\n",
       "        [ 37595,  37596,  37597, ...,  37957,  37958,  37959],\n",
       "        [ 37960,  37961,  37962, ...,  38322,  38323,  38324],\n",
       "        ...,\n",
       "...\n",
       "        ...,\n",
       "        [929655, 929656, 929657, ..., 930017, 930018, 930019],\n",
       "        [930020, 930021, 930022, ..., 930382, 930383, 930384],\n",
       "        [930385, 930386, 930387, ..., 930747, 930748, 930749]],\n",
       "\n",
       "       [[930750, 930751, 930752, ..., 931112, 931113, 931114],\n",
       "        [931115, 931116, 931117, ..., 931477, 931478, 931479],\n",
       "        [931480, 931481, 931482, ..., 931842, 931843, 931844],\n",
       "        ...,\n",
       "        [948270, 948271, 948272, ..., 948632, 948633, 948634],\n",
       "        [948635, 948636, 948637, ..., 948997, 948998, 948999],\n",
       "        [949000, 949001, 949002, ..., 949362, 949363, 949364]],\n",
       "\n",
       "       [[949365, 949366, 949367, ..., 949727, 949728, 949729],\n",
       "        [949730, 949731, 949732, ..., 950092, 950093, 950094],\n",
       "        [950095, 950096, 950097, ..., 950457, 950458, 950459],\n",
       "        ...,\n",
       "        [966885, 966886, 966887, ..., 967247, 967248, 967249],\n",
       "        [967250, 967251, 967252, ..., 967612, 967613, 967614],\n",
       "        [967615, 967616, 967617, ..., 967977, 967978, 967979]]])</pre></div></li><li class='xr-var-item'><div class='xr-var-name'><span>pred</span></div><div class='xr-var-dims'>(latitude, longitude, time)</div><div class='xr-var-dtype'>float32</div><div class='xr-var-preview xr-preview'>0.02316 0.01256 ... 0.1312 0.1113</div><input id='attrs-4f6a566c-993f-4553-96b9-4c244eec81a8' class='xr-var-attrs-in' type='checkbox' disabled><label for='attrs-4f6a566c-993f-4553-96b9-4c244eec81a8' title='Show/Hide attributes'><svg class='icon xr-icon-file-text2'><use xlink:href='#icon-file-text2'></use></svg></label><input id='data-5e1b30a8-34cf-45c4-b573-d48044328058' class='xr-var-data-in' type='checkbox'><label for='data-5e1b30a8-34cf-45c4-b573-d48044328058' title='Show/Hide data repr'><svg class='icon xr-icon-database'><use xlink:href='#icon-database'></use></svg></label><div class='xr-var-attrs'><dl class='xr-attrs'></dl></div><div class='xr-var-data'><pre>array([[[ 2.31608711e-02,  1.25635453e-02, -9.66961309e-03, ...,\n",
       "          5.31274490e-02,  6.39114380e-02,  6.97428659e-02],\n",
       "        [-3.73605154e-02, -3.95698212e-02, -4.52919863e-02, ...,\n",
       "          2.71447450e-02,  3.55395451e-02,  4.45709191e-02],\n",
       "        [-2.58169658e-02, -2.07724534e-02, -2.26382427e-02, ...,\n",
       "          1.10533573e-02,  1.08118653e-02,  1.85876042e-02],\n",
       "        ...,\n",
       "        [ 8.00605118e-03,  1.75561383e-02,  2.58968975e-02, ...,\n",
       "          5.81611916e-02,  5.94818816e-02,  6.11348189e-02],\n",
       "        [-3.22998054e-02, -2.69742049e-02, -1.57854073e-02, ...,\n",
       "          2.58076396e-02,  2.00009383e-02,  2.36673951e-02],\n",
       "        [-2.05060840e-03, -2.43756175e-03, -4.49264795e-03, ...,\n",
       "          1.82710923e-02,  1.89026538e-02,  1.80615019e-02]],\n",
       "\n",
       "       [[ 2.92264856e-02,  8.12692940e-03, -1.85289495e-02, ...,\n",
       "          4.02505770e-02,  5.04368879e-02,  5.59584647e-02],\n",
       "        [-1.05863474e-02, -2.33799554e-02, -3.93341370e-02, ...,\n",
       "          1.50450841e-02,  2.32428946e-02,  3.34977284e-02],\n",
       "        [-2.26619467e-03, -9.06807929e-03, -2.47346275e-02, ...,\n",
       "          1.49710104e-03,  1.45412236e-03,  1.11501552e-02],\n",
       "...\n",
       "          1.06955707e-01,  9.57577825e-02,  9.10084993e-02],\n",
       "        [ 3.95146012e-02,  4.42492142e-02,  5.17409816e-02, ...,\n",
       "          1.43185899e-01,  1.25965908e-01,  1.08060069e-01],\n",
       "        [ 8.02488327e-02,  7.79099092e-02,  8.12728330e-02, ...,\n",
       "          1.38837248e-01,  1.28530234e-01,  1.10467777e-01]],\n",
       "\n",
       "       [[ 1.06724977e-01,  1.07199311e-01,  1.10516980e-01, ...,\n",
       "          2.59589311e-02,  3.70731764e-02,  5.09025119e-02],\n",
       "        [ 1.31838411e-01,  1.31882042e-01,  1.37799218e-01, ...,\n",
       "         -3.24312225e-03, -6.19992614e-04,  1.03248954e-02],\n",
       "        [ 1.75031766e-01,  1.63809091e-01,  1.58056363e-01, ...,\n",
       "          3.05103082e-02,  2.01444700e-02,  1.76904742e-02],\n",
       "        ...,\n",
       "        [ 3.71707082e-02,  4.03388329e-02,  4.65471558e-02, ...,\n",
       "          1.10535592e-01,  1.02348268e-01,  9.92954969e-02],\n",
       "        [ 5.02532832e-02,  5.43249287e-02,  5.99597618e-02, ...,\n",
       "          1.44399464e-01,  1.26001924e-01,  1.07370727e-01],\n",
       "        [ 9.46526825e-02,  9.29054320e-02,  9.38340575e-02, ...,\n",
       "          1.44222125e-01,  1.31195411e-01,  1.11347988e-01]]],\n",
       "      dtype=float32)</pre></div></li><li class='xr-var-item'><div class='xr-var-name'><span>ssh</span></div><div class='xr-var-dims'>(latitude, longitude, time)</div><div class='xr-var-dtype'>float64</div><div class='xr-var-preview xr-preview'>0.6228 0.6122 ... -0.04515 -0.06499</div><input id='attrs-476e6c49-21f1-4220-a68e-b0977d566ae6' class='xr-var-attrs-in' type='checkbox' disabled><label for='attrs-476e6c49-21f1-4220-a68e-b0977d566ae6' title='Show/Hide attributes'><svg class='icon xr-icon-file-text2'><use xlink:href='#icon-file-text2'></use></svg></label><input id='data-42c3f463-f81d-48bc-9b60-00ee4d3b4e33' class='xr-var-data-in' type='checkbox'><label for='data-42c3f463-f81d-48bc-9b60-00ee4d3b4e33' title='Show/Hide data repr'><svg class='icon xr-icon-database'><use xlink:href='#icon-database'></use></svg></label><div class='xr-var-attrs'><dl class='xr-attrs'></dl></div><div class='xr-var-data'><pre>array([[[ 0.62284024,  0.61224291,  0.59000975, ...,  0.65280682,\n",
       "          0.6635908 ,  0.66942223],\n",
       "        [ 0.56162146,  0.55941215,  0.55368999, ...,  0.62612672,\n",
       "          0.63452152,  0.64355289],\n",
       "        [ 0.57374288,  0.57878739,  0.5769216 , ...,  0.6106132 ,\n",
       "          0.61037171,  0.61814745],\n",
       "        ...,\n",
       "        [ 0.54547692,  0.55502701,  0.56336777, ...,  0.59563206,\n",
       "          0.59695275,  0.59860569],\n",
       "        [ 0.5036464 ,  0.508972  ,  0.5201608 , ...,  0.56175384,\n",
       "          0.55594714,  0.5596136 ],\n",
       "        [ 0.53277211,  0.53238515,  0.53033007, ...,  0.55309381,\n",
       "          0.55372537,  0.55288422]],\n",
       "\n",
       "       [[ 0.63201612,  0.61091657,  0.58426069, ...,  0.64304021,\n",
       "          0.65322652,  0.6587481 ],\n",
       "        [ 0.59042502,  0.57763141,  0.56167723, ...,  0.61605645,\n",
       "          0.62425426,  0.6345091 ],\n",
       "        [ 0.59818097,  0.59137908,  0.57571253, ...,  0.60194426,\n",
       "          0.60190128,  0.61159732],\n",
       "...\n",
       "        [-0.13985986, -0.13473422, -0.12660012, ..., -0.06648198,\n",
       "         -0.07767991, -0.08242919],\n",
       "        [-0.13254227, -0.12780766, -0.12031589, ..., -0.02887097,\n",
       "         -0.04609096, -0.0639968 ],\n",
       "        [-0.09120529, -0.09354421, -0.09018128, ..., -0.03261687,\n",
       "         -0.04292388, -0.06098634]],\n",
       "\n",
       "       [[ 0.00601216,  0.00648649,  0.00980416, ..., -0.07475389,\n",
       "         -0.06363965, -0.04981031],\n",
       "        [ 0.03133718,  0.03138081,  0.03729799, ..., -0.10374435,\n",
       "         -0.10112122, -0.09017634],\n",
       "        [ 0.07333824,  0.06211556,  0.05636283, ..., -0.07118322,\n",
       "         -0.08154906, -0.08400306],\n",
       "        ...,\n",
       "        [-0.13989202, -0.13672389, -0.13051557, ..., -0.06652713,\n",
       "         -0.07471446, -0.07776723],\n",
       "        [-0.12600765, -0.12193601, -0.11630117, ..., -0.03186147,\n",
       "         -0.05025901, -0.06889021],\n",
       "        [-0.08168802, -0.08343527, -0.08250665, ..., -0.03211858,\n",
       "         -0.04514529, -0.06499271]]])</pre></div></li></ul></div></li><li class='xr-section-item'><input id='section-38dea21c-9052-4d7d-b370-f51eda696705' class='xr-section-summary-in' type='checkbox' disabled ><label for='section-38dea21c-9052-4d7d-b370-f51eda696705' class='xr-section-summary'  title='Expand/collapse section'>Attributes: <span>(0)</span></label><div class='xr-section-inline-details'></div><div class='xr-section-details'><dl class='xr-attrs'></dl></div></li></ul></div></div>"
      ],
      "text/plain": [
       "<xarray.Dataset>\n",
       "Dimensions:    (latitude: 52, longitude: 51, time: 365)\n",
       "Coordinates:\n",
       "  * latitude   (latitude) float64 33.0 33.2 33.4 33.6 ... 42.6 42.8 43.0 43.2\n",
       "  * longitude  (longitude) float64 295.0 295.2 295.4 295.6 ... 304.6 304.8 305.0\n",
       "  * time       (time) datetime64[ns] 2017-01-01 2017-01-02 ... 2017-12-31\n",
       "Data variables:\n",
       "    index      (latitude, longitude, time) int64 0 1 2 ... 967977 967978 967979\n",
       "    pred       (latitude, longitude, time) float32 0.02316 0.01256 ... 0.1113\n",
       "    ssh        (latitude, longitude, time) float64 0.6228 0.6122 ... -0.06499"
      ]
     },
     "execution_count": 15,
     "metadata": {},
     "output_type": "execute_result"
    }
   ],
   "source": [
    "ds_oi"
   ]
  },
  {
   "cell_type": "code",
   "execution_count": 16,
   "id": "f0779492-1be0-48fc-a10b-413666ad305d",
   "metadata": {},
   "outputs": [
    {
     "name": "stdout",
     "output_type": "stream",
     "text": [
      "CPU times: user 760 ms, sys: 40 ms, total: 800 ms\n",
      "Wall time: 785 ms\n"
     ]
    }
   ],
   "source": [
    "%%time\n",
    "\n",
    "rmse_metrics = get_rmse_metrics(ds_oi, args)\n",
    "\n",
    "wandb.log(\n",
    "    {\n",
    "        \"model_rmse_mean\": rmse_metrics[0],\n",
    "        \"model_rmse_std\": rmse_metrics[1],\n",
    "        \"model_nrmse_mean\": rmse_metrics[2],\n",
    "        \"model_nrmse_std\": rmse_metrics[3],\n",
    "    }\n",
    ")"
   ]
  },
  {
   "cell_type": "code",
   "execution_count": 17,
   "id": "8d4adb47-3630-411a-b6ec-a0f86d75baed",
   "metadata": {},
   "outputs": [
    {
     "data": {
      "text/plain": [
       "RMSEStats(rmse_mean=0.3046778244607079, rmse_std=0.09943663095106017, nrmse_mean=0.4846125014914514, nrmse_std=0.35582778394737674)"
      ]
     },
     "execution_count": 17,
     "metadata": {},
     "output_type": "execute_result"
    }
   ],
   "source": [
    "rmse_metrics"
   ]
  },
  {
   "cell_type": "code",
   "execution_count": 18,
   "id": "07446478-0947-46d3-9c92-f2d609be69ed",
   "metadata": {},
   "outputs": [],
   "source": [
    "psd_metrics = get_psd_metrics(ds_oi, args)"
   ]
  },
  {
   "cell_type": "markdown",
   "id": "bd079855-f082-4097-94d5-d5d13d9a31df",
   "metadata": {},
   "source": [
    "### Figures"
   ]
  },
  {
   "cell_type": "code",
   "execution_count": 19,
   "id": "9dd9f802-4cc7-4458-8ce7-ffc63fbab688",
   "metadata": {},
   "outputs": [
    {
     "data": {
      "image/png": "[encoded data removed]",
      "text/plain": [
       "<Figure size 504x360 with 1 Axes>"
      ]
     },
     "metadata": {
      "needs_background": "light"
     },
     "output_type": "display_data"
    }
   ],
   "source": [
    "fig, ax = plot_psd_spectrum(\n",
    "    psd_metrics.psd_study, \n",
    "    psd_metrics.psd_ref, \n",
    "    psd_metrics.wavenumber\n",
    ")\n",
    "\n",
    "\n",
    "wandb.log(\n",
    "    {\n",
    "        \"model_psd_spectrum\": wandb.Image(fig),\n",
    "    }\n",
    ")"
   ]
  },
  {
   "cell_type": "code",
   "execution_count": 20,
   "id": "230a6088-eeb1-4ab3-8031-a2d267b1cdb6",
   "metadata": {},
   "outputs": [
    {
     "data": {
      "image/png": "[encoded data removed]",
      "text/plain": [
       "<Figure size 504x360 with 1 Axes>"
      ]
     },
     "metadata": {
      "needs_background": "light"
     },
     "output_type": "display_data"
    }
   ],
   "source": [
    "fig, ax = plot_psd_score(\n",
    "    psd_metrics.psd_diff, \n",
    "    psd_metrics.psd_ref, \n",
    "    psd_metrics.wavenumber, \n",
    "    psd_metrics.resolved_scale)\n",
    "\n",
    "wandb.log(\n",
    "    {\n",
    "        \"model_psd_score\": wandb.Image(fig),\n",
    "    }\n",
    ")"
   ]
  },
  {
   "cell_type": "code",
   "execution_count": 23,
   "id": "825a0fe5-dc15-4f45-bed2-a49c660149bd",
   "metadata": {},
   "outputs": [
    {
     "data": {
      "text/plain": [
       "SirenNet(\n",
       "  layers=[\n",
       "    Siren(\n",
       "      weight=f32[512,3](numpy),\n",
       "      bias=f32[512](numpy),\n",
       "      w0=30.0,\n",
       "      activation=Sine(w0=30.0)\n",
       "    ),\n",
       "    Siren(\n",
       "      weight=f32[512,512](numpy),\n",
       "      bias=f32[512](numpy),\n",
       "      w0=1.0,\n",
       "      activation=Sine(w0=1.0)\n",
       "    ),\n",
       "    Siren(\n",
       "      weight=f32[512,512](numpy),\n",
       "      bias=f32[512](numpy),\n",
       "      w0=1.0,\n",
       "      activation=Sine(w0=1.0)\n",
       "    ),\n",
       "    Siren(\n",
       "      weight=f32[512,512](numpy),\n",
       "      bias=f32[512](numpy),\n",
       "      w0=1.0,\n",
       "      activation=Sine(w0=1.0)\n",
       "    ),\n",
       "    Siren(\n",
       "      weight=f32[512,512](numpy),\n",
       "      bias=f32[512](numpy),\n",
       "      w0=1.0,\n",
       "      activation=Sine(w0=1.0)\n",
       "    ),\n",
       "    Siren(\n",
       "      weight=f32[512,512](numpy),\n",
       "      bias=f32[512](numpy),\n",
       "      w0=1.0,\n",
       "      activation=Sine(w0=1.0)\n",
       "    ),\n",
       "    Siren(\n",
       "      weight=f32[512,512](numpy),\n",
       "      bias=f32[512](numpy),\n",
       "      w0=1.0,\n",
       "      activation=Sine(w0=1.0)\n",
       "    ),\n",
       "    Siren(\n",
       "      weight=f32[1,512](numpy),\n",
       "      bias=f32[1](numpy),\n",
       "      w0=1.0,\n",
       "      activation=Identity()\n",
       "    )\n",
       "  ],\n",
       "  w0=1.0,\n",
       "  final_scale=1.0,\n",
       "  final_activation=Identity()\n",
       ")"
      ]
     },
     "execution_count": 23,
     "metadata": {},
     "output_type": "execute_result"
    }
   ],
   "source": [
    "model"
   ]
  },
  {
   "cell_type": "markdown",
   "id": "4a2bd7b7-dcb5-4536-b326-cc679b9a8300",
   "metadata": {},
   "source": [
    "### Movies"
   ]
  },
  {
   "cell_type": "code",
   "execution_count": 24,
   "id": "e5998a5e-152a-47b0-8e35-f364e630bcab",
   "metadata": {},
   "outputs": [],
   "source": [
    "save_path = wandb.run.dir #Path(root).joinpath(\"experiments/dc_2021b\")"
   ]
  },
  {
   "cell_type": "code",
   "execution_count": 1,
   "id": "af137cf9-e718-497d-be4e-80bf049b6271",
   "metadata": {},
   "outputs": [],
   "source": [
    "# import hvplot.xarray\n",
    "\n",
    "\n",
    "# ds_oi.ssh.hvplot.image(\n",
    "#     x=\"longitude\",\n",
    "#     y=\"latitude\",\n",
    "#     # groupby='time',\n",
    "#     # rasterize=True, \n",
    "#     width=500, height=400, cmap=\"viridis\")"
   ]
  },
  {
   "cell_type": "markdown",
   "id": "3f7cdb4b-468b-4f37-992b-6403056a2ba9",
   "metadata": {},
   "source": [
    "### Gradients"
   ]
  },
  {
   "cell_type": "code",
   "execution_count": 29,
   "id": "22e7dfb4-8f7c-4cbe-8989-e9e64eab9453",
   "metadata": {},
   "outputs": [],
   "source": [
    "ds_oi[\"ssh_grad\"] = calculate_gradient(ds_oi[\"ssh\"], \"longitude\", \"latitude\")"
   ]
  },
  {
   "cell_type": "code",
   "execution_count": 2,
   "id": "278f6131-30c8-48f5-8250-386124ecc956",
   "metadata": {},
   "outputs": [],
   "source": [
    "# ds_oi.ssh_grad.hvplot.image(\n",
    "#     x=\"longitude\",\n",
    "#     y=\"latitude\",\n",
    "#     # groupby='time',\n",
    "#     # rasterize=True, \n",
    "#     width=500, height=400, cmap=\"Spectral_r\")"
   ]
  },
  {
   "cell_type": "markdown",
   "id": "5d08cd6d-20cb-4726-9204-bab5405e584d",
   "metadata": {},
   "source": [
    "### Laplacian"
   ]
  },
  {
   "cell_type": "code",
   "execution_count": 31,
   "id": "2816a06f-c1bf-485a-8966-a0adffd91df0",
   "metadata": {},
   "outputs": [],
   "source": [
    "ds_oi[\"ssh_lap\"] = calculate_laplacian(ds_oi[\"ssh\"], \"longitude\", \"latitude\")"
   ]
  },
  {
   "cell_type": "code",
   "execution_count": 32,
   "id": "7d39b798-65d0-4f04-a655-16b1f202667b",
   "metadata": {},
   "outputs": [
    {
     "data": {},
     "metadata": {},
     "output_type": "display_data"
    },
    {
     "data": {
      "application/vnd.holoviews_exec.v0+json": "",
      "text/html": [
       "<div id='1568'>\n",
       "\n",
       "\n",
       "\n",
       "\n",
       "\n",
       "  <div class=\"bk-root\" id=\"c71b7231-843d-460c-b3d6-d291fc2c3b40\" data-root-id=\"1568\"></div>\n",
       "</div>\n",
       "<script type=\"application/javascript\">(function(root) {\n",
       "  function embed_document(root) {\n",
       "    var docs_json = {\"993e709b-87d7-405a-b744-a5a64600f0f2\":{\"defs\":[{\"extends\":null,\"module\":null,\"name\":\"ReactiveHTML1\",\"overrides\":[],\"properties\":[]},{\"extends\":null,\"module\":null,\"name\":\"FlexBox1\",\"overrides\":[],\"properties\":[{\"default\":\"flex-start\",\"kind\":null,\"name\":\"align_content\"},{\"default\":\"flex-start\",\"kind\":null,\"name\":\"align_items\"},{\"default\":\"row\",\"kind\":null,\"name\":\"flex_direction\"},{\"default\":\"wrap\",\"kind\":null,\"name\":\"flex_wrap\"},{\"default\":\"flex-start\",\"kind\":null,\"name\":\"justify_content\"}]},{\"extends\":null,\"module\":null,\"name\":\"GridStack1\",\"overrides\":[],\"properties\":[{\"default\":\"warn\",\"kind\":null,\"name\":\"mode\"},{\"default\":null,\"kind\":null,\"name\":\"ncols\"},{\"default\":null,\"kind\":null,\"name\":\"nrows\"},{\"default\":true,\"kind\":null,\"name\":\"allow_resize\"},{\"default\":true,\"kind\":null,\"name\":\"allow_drag\"},{\"default\":[],\"kind\":null,\"name\":\"state\"}]},{\"extends\":null,\"module\":null,\"name\":\"click1\",\"overrides\":[],\"properties\":[{\"default\":\"\",\"kind\":null,\"name\":\"terminal_output\"},{\"default\":\"\",\"kind\":null,\"name\":\"debug_name\"},{\"default\":0,\"kind\":null,\"name\":\"clears\"}]},{\"extends\":null,\"module\":null,\"name\":\"TemplateActions1\",\"overrides\":[],\"properties\":[{\"default\":0,\"kind\":null,\"name\":\"open_modal\"},{\"default\":0,\"kind\":null,\"name\":\"close_modal\"}]},{\"extends\":null,\"module\":null,\"name\":\"MaterialTemplateActions1\",\"overrides\":[],\"properties\":[{\"default\":0,\"kind\":null,\"name\":\"open_modal\"},{\"default\":0,\"kind\":null,\"name\":\"close_modal\"}]}],\"roots\":{\"references\":[{\"attributes\":{},\"id\":\"1590\",\"type\":\"SaveTool\"},{\"attributes\":{\"high\":5.150466811775036,\"low\":4.107714837604002e-11,\"nan_color\":\"rgba(0, 0, 0, 0)\",\"palette\":[\"#053061\",\"#063263\",\"#073466\",\"#083669\",\"#09386c\",\"#0a3a6f\",\"#0b3c72\",\"#0c3e75\",\"#0d4078\",\"#0e437b\",\"#0f457e\",\"#114781\",\"#124984\",\"#134b87\",\"#144d8a\",\"#154f8d\",\"#165190\",\"#175493\",\"#185695\",\"#195898\",\"#1a5a9b\",\"#1c5c9e\",\"#1d5ea1\",\"#1e60a4\",\"#1f62a7\",\"#2064aa\",\"#2166ac\",\"#2368ad\",\"#246aae\",\"#256caf\",\"#276db0\",\"#286fb0\",\"#2971b1\",\"#2b73b2\",\"#2c75b3\",\"#2d76b4\",\"#2f78b5\",\"#307ab6\",\"#317cb7\",\"#337db8\",\"#347fb9\",\"#3581b9\",\"#3783ba\",\"#3884bb\",\"#3986bc\",\"#3b88bd\",\"#3c8abe\",\"#3d8bbf\",\"#3f8dc0\",\"#408fc1\",\"#4191c2\",\"#4393c3\",\"#4694c4\",\"#4996c5\",\"#4c98c6\",\"#4f9ac7\",\"#529cc8\",\"#559ec9\",\"#58a0ca\",\"#5ba2cb\",\"#5ea4cc\",\"#61a6cd\",\"#65a8ce\",\"#68aacf\",\"#6bacd0\",\"#6eaed1\",\"#71b0d2\",\"#74b2d3\",\"#77b4d5\",\"#7ab6d6\",\"#7db8d7\",\"#80bad8\",\"#84bcd9\",\"#87beda\",\"#8ac0db\",\"#8dc2dc\",\"#90c4dd\",\"#93c5de\",\"#95c6df\",\"#98c8df\",\"#9ac9e0\",\"#9dcae1\",\"#9fcbe1\",\"#a2cde2\",\"#a4cee3\",\"#a7cfe4\",\"#a9d0e4\",\"#abd2e5\",\"#aed3e6\",\"#b0d4e6\",\"#b3d5e7\",\"#b5d7e8\",\"#b8d8e8\",\"#bad9e9\",\"#bddaea\",\"#bfdceb\",\"#c2ddeb\",\"#c4deec\",\"#c7dfed\",\"#c9e1ed\",\"#cce2ee\",\"#cee3ef\",\"#d1e5f0\",\"#d2e5f0\",\"#d3e6f0\",\"#d5e7f0\",\"#d6e7f1\",\"#d8e8f1\",\"#d9e9f1\",\"#dbe9f1\",\"#dceaf2\",\"#deebf2\",\"#dfecf2\",\"#e1ecf3\",\"#e2edf3\",\"#e4eef3\",\"#e5eef3\",\"#e7eff4\",\"#e8f0f4\",\"#eaf1f4\",\"#ebf1f4\",\"#edf2f5\",\"#eef3f5\",\"#f0f3f5\",\"#f1f4f6\",\"#f3f5f6\",\"#f4f5f6\",\"#f6f6f6\",\"#f7f6f6\",\"#f7f5f4\",\"#f7f4f2\",\"#f7f3f0\",\"#f8f2ee\",\"#f8f0ec\",\"#f8efea\",\"#f8eee8\",\"#f9ede7\",\"#f9ece5\",\"#f9ebe3\",\"#f9eae1\",\"#f9e9df\",\"#fae8dd\",\"#fae7db\",\"#fae5d9\",\"#fae4d7\",\"#fbe3d6\",\"#fbe2d4\",\"#fbe1d2\",\"#fbe0d0\",\"#fcdfce\",\"#fcdecc\",\"#fcddca\",\"#fcdcc8\",\"#fddbc7\",\"#fcd8c4\",\"#fcd6c1\",\"#fbd4be\",\"#fbd2bc\",\"#fbd0b9\",\"#faceb6\",\"#faccb4\",\"#facab1\",\"#f9c7ae\",\"#f9c5ab\",\"#f9c3a9\",\"#f8c1a6\",\"#f8bfa3\",\"#f8bda1\",\"#f7bb9e\",\"#f7b99b\",\"#f7b799\",\"#f6b496\",\"#f6b293\",\"#f5b090\",\"#f5ae8e\",\"#f5ac8b\",\"#f4aa88\",\"#f4a886\",\"#f4a683\",\"#f3a380\",\"#f2a07e\",\"#f19e7c\",\"#ef9b7a\",\"#ee9878\",\"#ed9676\",\"#ec9374\",\"#eb9072\",\"#ea8e70\",\"#e88b6e\",\"#e7886c\",\"#e6856a\",\"#e58368\",\"#e48065\",\"#e27d63\",\"#e17b61\",\"#e0785f\",\"#df755d\",\"#de725b\",\"#dd7059\",\"#db6d57\",\"#da6a55\",\"#d96853\",\"#d86551\",\"#d7624f\",\"#d6604d\",\"#d45d4b\",\"#d35a4a\",\"#d15749\",\"#d05447\",\"#ce5146\",\"#cd4f45\",\"#cc4c43\",\"#ca4942\",\"#c94641\",\"#c7433f\",\"#c6403e\",\"#c53e3c\",\"#c33b3b\",\"#c2383a\",\"#c03538\",\"#bf3237\",\"#be3036\",\"#bc2d34\",\"#bb2a33\",\"#b92732\",\"#b82431\",\"#b6212f\",\"#b51f2e\",\"#b41c2d\",\"#b2192b\",\"#b0172a\",\"#ad162a\",\"#aa1529\",\"#a71429\",\"#a41328\",\"#a11228\",\"#9e1127\",\"#9b1027\",\"#991027\",\"#960f26\",\"#930e26\",\"#900d25\",\"#8d0c25\",\"#8a0b24\",\"#870a24\",\"#840923\",\"#810823\",\"#7e0722\",\"#7b0622\",\"#780521\",\"#750421\",\"#720320\",\"#6f0220\",\"#6c011f\",\"#69001f\",\"#67001f\"]},\"id\":\"1603\",\"type\":\"LinearColorMapper\"},{\"attributes\":{},\"id\":\"1615\",\"type\":\"BasicTicker\"},{\"attributes\":{\"overlay\":{\"id\":\"1595\"}},\"id\":\"1593\",\"type\":\"BoxZoomTool\"},{\"attributes\":{\"end\":43.300000000000146,\"reset_end\":43.300000000000146,\"reset_start\":32.9,\"start\":32.9,\"tags\":[[[\"latitude\",\"latitude\",null]]]},\"id\":\"1571\",\"type\":\"Range1d\"},{\"attributes\":{},\"id\":\"1594\",\"type\":\"ResetTool\"},{\"attributes\":{\"end\":364,\"js_property_callbacks\":{\"change:value\":[{\"id\":\"1672\"}]},\"margin\":[0,20,20,20],\"min_width\":250,\"show_value\":false,\"start\":0,\"tooltips\":false,\"value\":0,\"width\":250},\"id\":\"1659\",\"type\":\"Slider\"},{\"attributes\":{\"bar_line_color\":\"black\",\"color_mapper\":{\"id\":\"1603\"},\"coordinates\":null,\"group\":null,\"label_standoff\":8,\"location\":[0,0],\"major_label_policy\":{\"id\":\"1635\"},\"major_tick_line_color\":\"black\",\"ticker\":{\"id\":\"1615\"}},\"id\":\"1616\",\"type\":\"ColorBar\"},{\"attributes\":{\"color_mapper\":{\"id\":\"1603\"},\"dh\":{\"field\":\"dh\"},\"dw\":{\"field\":\"dw\"},\"global_alpha\":{\"value\":0.2},\"image\":{\"field\":\"image\"},\"x\":{\"field\":\"x\"},\"y\":{\"field\":\"y\"}},\"id\":\"1611\",\"type\":\"Image\"},{\"attributes\":{\"bottom_units\":\"screen\",\"coordinates\":null,\"fill_alpha\":0.5,\"fill_color\":\"lightgrey\",\"group\":null,\"left_units\":\"screen\",\"level\":\"overlay\",\"line_alpha\":1.0,\"line_color\":\"black\",\"line_dash\":[4,4],\"line_width\":2,\"right_units\":\"screen\",\"syncable\":false,\"top_units\":\"screen\"},\"id\":\"1595\",\"type\":\"BoxAnnotation\"},{\"attributes\":{\"args\":{\"bidirectional\":false,\"properties\":{},\"source\":{\"id\":\"1659\"},\"target\":{\"id\":\"1658\"}},\"code\":\"try { \\n    var labels = ['time: <b>2017-01-01 00:00:00</b>', 'time: <b>2017-01-02 00:00:00</b>', 'time: <b>2017-01-03 00:00:00</b>', 'time: <b>2017-01-04 00:00:00</b>', 'time: <b>2017-01-05 00:00:00</b>', 'time: <b>2017-01-06 00:00:00</b>', 'time: <b>2017-01-07 00:00:00</b>', 'time: <b>2017-01-08 00:00:00</b>', 'time: <b>2017-01-09 00:00:00</b>', 'time: <b>2017-01-10 00:00:00</b>', 'time: <b>2017-01-11 00:00:00</b>', 'time: <b>2017-01-12 00:00:00</b>', 'time: <b>2017-01-13 00:00:00</b>', 'time: <b>2017-01-14 00:00:00</b>', 'time: <b>2017-01-15 00:00:00</b>', 'time: <b>2017-01-16 00:00:00</b>', 'time: <b>2017-01-17 00:00:00</b>', 'time: <b>2017-01-18 00:00:00</b>', 'time: <b>2017-01-19 00:00:00</b>', 'time: <b>2017-01-20 00:00:00</b>', 'time: <b>2017-01-21 00:00:00</b>', 'time: <b>2017-01-22 00:00:00</b>', 'time: <b>2017-01-23 00:00:00</b>', 'time: <b>2017-01-24 00:00:00</b>', 'time: <b>2017-01-25 00:00:00</b>', 'time: <b>2017-01-26 00:00:00</b>', 'time: <b>2017-01-27 00:00:00</b>', 'time: <b>2017-01-28 00:00:00</b>', 'time: <b>2017-01-29 00:00:00</b>', 'time: <b>2017-01-30 00:00:00</b>', 'time: <b>2017-01-31 00:00:00</b>', 'time: <b>2017-02-01 00:00:00</b>', 'time: <b>2017-02-02 00:00:00</b>', 'time: <b>2017-02-03 00:00:00</b>', 'time: <b>2017-02-04 00:00:00</b>', 'time: <b>2017-02-05 00:00:00</b>', 'time: <b>2017-02-06 00:00:00</b>', 'time: <b>2017-02-07 00:00:00</b>', 'time: <b>2017-02-08 00:00:00</b>', 'time: <b>2017-02-09 00:00:00</b>', 'time: <b>2017-02-10 00:00:00</b>', 'time: <b>2017-02-11 00:00:00</b>', 'time: <b>2017-02-12 00:00:00</b>', 'time: <b>2017-02-13 00:00:00</b>', 'time: <b>2017-02-14 00:00:00</b>', 'time: <b>2017-02-15 00:00:00</b>', 'time: <b>2017-02-16 00:00:00</b>', 'time: <b>2017-02-17 00:00:00</b>', 'time: <b>2017-02-18 00:00:00</b>', 'time: <b>2017-02-19 00:00:00</b>', 'time: <b>2017-02-20 00:00:00</b>', 'time: <b>2017-02-21 00:00:00</b>', 'time: <b>2017-02-22 00:00:00</b>', 'time: <b>2017-02-23 00:00:00</b>', 'time: <b>2017-02-24 00:00:00</b>', 'time: <b>2017-02-25 00:00:00</b>', 'time: <b>2017-02-26 00:00:00</b>', 'time: <b>2017-02-27 00:00:00</b>', 'time: <b>2017-02-28 00:00:00</b>', 'time: <b>2017-03-01 00:00:00</b>', 'time: <b>2017-03-02 00:00:00</b>', 'time: <b>2017-03-03 00:00:00</b>', 'time: <b>2017-03-04 00:00:00</b>', 'time: <b>2017-03-05 00:00:00</b>', 'time: <b>2017-03-06 00:00:00</b>', 'time: <b>2017-03-07 00:00:00</b>', 'time: <b>2017-03-08 00:00:00</b>', 'time: <b>2017-03-09 00:00:00</b>', 'time: <b>2017-03-10 00:00:00</b>', 'time: <b>2017-03-11 00:00:00</b>', 'time: <b>2017-03-12 00:00:00</b>', 'time: <b>2017-03-13 00:00:00</b>', 'time: <b>2017-03-14 00:00:00</b>', 'time: <b>2017-03-15 00:00:00</b>', 'time: <b>2017-03-16 00:00:00</b>', 'time: <b>2017-03-17 00:00:00</b>', 'time: <b>2017-03-18 00:00:00</b>', 'time: <b>2017-03-19 00:00:00</b>', 'time: <b>2017-03-20 00:00:00</b>', 'time: <b>2017-03-21 00:00:00</b>', 'time: <b>2017-03-22 00:00:00</b>', 'time: <b>2017-03-23 00:00:00</b>', 'time: <b>2017-03-24 00:00:00</b>', 'time: <b>2017-03-25 00:00:00</b>', 'time: <b>2017-03-26 00:00:00</b>', 'time: <b>2017-03-27 00:00:00</b>', 'time: <b>2017-03-28 00:00:00</b>', 'time: <b>2017-03-29 00:00:00</b>', 'time: <b>2017-03-30 00:00:00</b>', 'time: <b>2017-03-31 00:00:00</b>', 'time: <b>2017-04-01 00:00:00</b>', 'time: <b>2017-04-02 00:00:00</b>', 'time: <b>2017-04-03 00:00:00</b>', 'time: <b>2017-04-04 00:00:00</b>', 'time: <b>2017-04-05 00:00:00</b>', 'time: <b>2017-04-06 00:00:00</b>', 'time: <b>2017-04-07 00:00:00</b>', 'time: <b>2017-04-08 00:00:00</b>', 'time: <b>2017-04-09 00:00:00</b>', 'time: <b>2017-04-10 00:00:00</b>', 'time: <b>2017-04-11 00:00:00</b>', 'time: <b>2017-04-12 00:00:00</b>', 'time: <b>2017-04-13 00:00:00</b>', 'time: <b>2017-04-14 00:00:00</b>', 'time: <b>2017-04-15 00:00:00</b>', 'time: <b>2017-04-16 00:00:00</b>', 'time: <b>2017-04-17 00:00:00</b>', 'time: <b>2017-04-18 00:00:00</b>', 'time: <b>2017-04-19 00:00:00</b>', 'time: <b>2017-04-20 00:00:00</b>', 'time: <b>2017-04-21 00:00:00</b>', 'time: <b>2017-04-22 00:00:00</b>', 'time: <b>2017-04-23 00:00:00</b>', 'time: <b>2017-04-24 00:00:00</b>', 'time: <b>2017-04-25 00:00:00</b>', 'time: <b>2017-04-26 00:00:00</b>', 'time: <b>2017-04-27 00:00:00</b>', 'time: <b>2017-04-28 00:00:00</b>', 'time: <b>2017-04-29 00:00:00</b>', 'time: <b>2017-04-30 00:00:00</b>', 'time: <b>2017-05-01 00:00:00</b>', 'time: <b>2017-05-02 00:00:00</b>', 'time: <b>2017-05-03 00:00:00</b>', 'time: <b>2017-05-04 00:00:00</b>', 'time: <b>2017-05-05 00:00:00</b>', 'time: <b>2017-05-06 00:00:00</b>', 'time: <b>2017-05-07 00:00:00</b>', 'time: <b>2017-05-08 00:00:00</b>', 'time: <b>2017-05-09 00:00:00</b>', 'time: <b>2017-05-10 00:00:00</b>', 'time: <b>2017-05-11 00:00:00</b>', 'time: <b>2017-05-12 00:00:00</b>', 'time: <b>2017-05-13 00:00:00</b>', 'time: <b>2017-05-14 00:00:00</b>', 'time: <b>2017-05-15 00:00:00</b>', 'time: <b>2017-05-16 00:00:00</b>', 'time: <b>2017-05-17 00:00:00</b>', 'time: <b>2017-05-18 00:00:00</b>', 'time: <b>2017-05-19 00:00:00</b>', 'time: <b>2017-05-20 00:00:00</b>', 'time: <b>2017-05-21 00:00:00</b>', 'time: <b>2017-05-22 00:00:00</b>', 'time: <b>2017-05-23 00:00:00</b>', 'time: <b>2017-05-24 00:00:00</b>', 'time: <b>2017-05-25 00:00:00</b>', 'time: <b>2017-05-26 00:00:00</b>', 'time: <b>2017-05-27 00:00:00</b>', 'time: <b>2017-05-28 00:00:00</b>', 'time: <b>2017-05-29 00:00:00</b>', 'time: <b>2017-05-30 00:00:00</b>', 'time: <b>2017-05-31 00:00:00</b>', 'time: <b>2017-06-01 00:00:00</b>', 'time: <b>2017-06-02 00:00:00</b>', 'time: <b>2017-06-03 00:00:00</b>', 'time: <b>2017-06-04 00:00:00</b>', 'time: <b>2017-06-05 00:00:00</b>', 'time: <b>2017-06-06 00:00:00</b>', 'time: <b>2017-06-07 00:00:00</b>', 'time: <b>2017-06-08 00:00:00</b>', 'time: <b>2017-06-09 00:00:00</b>', 'time: <b>2017-06-10 00:00:00</b>', 'time: <b>2017-06-11 00:00:00</b>', 'time: <b>2017-06-12 00:00:00</b>', 'time: <b>2017-06-13 00:00:00</b>', 'time: <b>2017-06-14 00:00:00</b>', 'time: <b>2017-06-15 00:00:00</b>', 'time: <b>2017-06-16 00:00:00</b>', 'time: <b>2017-06-17 00:00:00</b>', 'time: <b>2017-06-18 00:00:00</b>', 'time: <b>2017-06-19 00:00:00</b>', 'time: <b>2017-06-20 00:00:00</b>', 'time: <b>2017-06-21 00:00:00</b>', 'time: <b>2017-06-22 00:00:00</b>', 'time: <b>2017-06-23 00:00:00</b>', 'time: <b>2017-06-24 00:00:00</b>', 'time: <b>2017-06-25 00:00:00</b>', 'time: <b>2017-06-26 00:00:00</b>', 'time: <b>2017-06-27 00:00:00</b>', 'time: <b>2017-06-28 00:00:00</b>', 'time: <b>2017-06-29 00:00:00</b>', 'time: <b>2017-06-30 00:00:00</b>', 'time: <b>2017-07-01 00:00:00</b>', 'time: <b>2017-07-02 00:00:00</b>', 'time: <b>2017-07-03 00:00:00</b>', 'time: <b>2017-07-04 00:00:00</b>', 'time: <b>2017-07-05 00:00:00</b>', 'time: <b>2017-07-06 00:00:00</b>', 'time: <b>2017-07-07 00:00:00</b>', 'time: <b>2017-07-08 00:00:00</b>', 'time: <b>2017-07-09 00:00:00</b>', 'time: <b>2017-07-10 00:00:00</b>', 'time: <b>2017-07-11 00:00:00</b>', 'time: <b>2017-07-12 00:00:00</b>', 'time: <b>2017-07-13 00:00:00</b>', 'time: <b>2017-07-14 00:00:00</b>', 'time: <b>2017-07-15 00:00:00</b>', 'time: <b>2017-07-16 00:00:00</b>', 'time: <b>2017-07-17 00:00:00</b>', 'time: <b>2017-07-18 00:00:00</b>', 'time: <b>2017-07-19 00:00:00</b>', 'time: <b>2017-07-20 00:00:00</b>', 'time: <b>2017-07-21 00:00:00</b>', 'time: <b>2017-07-22 00:00:00</b>', 'time: <b>2017-07-23 00:00:00</b>', 'time: <b>2017-07-24 00:00:00</b>', 'time: <b>2017-07-25 00:00:00</b>', 'time: <b>2017-07-26 00:00:00</b>', 'time: <b>2017-07-27 00:00:00</b>', 'time: <b>2017-07-28 00:00:00</b>', 'time: <b>2017-07-29 00:00:00</b>', 'time: <b>2017-07-30 00:00:00</b>', 'time: <b>2017-07-31 00:00:00</b>', 'time: <b>2017-08-01 00:00:00</b>', 'time: <b>2017-08-02 00:00:00</b>', 'time: <b>2017-08-03 00:00:00</b>', 'time: <b>2017-08-04 00:00:00</b>', 'time: <b>2017-08-05 00:00:00</b>', 'time: <b>2017-08-06 00:00:00</b>', 'time: <b>2017-08-07 00:00:00</b>', 'time: <b>2017-08-08 00:00:00</b>', 'time: <b>2017-08-09 00:00:00</b>', 'time: <b>2017-08-10 00:00:00</b>', 'time: <b>2017-08-11 00:00:00</b>', 'time: <b>2017-08-12 00:00:00</b>', 'time: <b>2017-08-13 00:00:00</b>', 'time: <b>2017-08-14 00:00:00</b>', 'time: <b>2017-08-15 00:00:00</b>', 'time: <b>2017-08-16 00:00:00</b>', 'time: <b>2017-08-17 00:00:00</b>', 'time: <b>2017-08-18 00:00:00</b>', 'time: <b>2017-08-19 00:00:00</b>', 'time: <b>2017-08-20 00:00:00</b>', 'time: <b>2017-08-21 00:00:00</b>', 'time: <b>2017-08-22 00:00:00</b>', 'time: <b>2017-08-23 00:00:00</b>', 'time: <b>2017-08-24 00:00:00</b>', 'time: <b>2017-08-25 00:00:00</b>', 'time: <b>2017-08-26 00:00:00</b>', 'time: <b>2017-08-27 00:00:00</b>', 'time: <b>2017-08-28 00:00:00</b>', 'time: <b>2017-08-29 00:00:00</b>', 'time: <b>2017-08-30 00:00:00</b>', 'time: <b>2017-08-31 00:00:00</b>', 'time: <b>2017-09-01 00:00:00</b>', 'time: <b>2017-09-02 00:00:00</b>', 'time: <b>2017-09-03 00:00:00</b>', 'time: <b>2017-09-04 00:00:00</b>', 'time: <b>2017-09-05 00:00:00</b>', 'time: <b>2017-09-06 00:00:00</b>', 'time: <b>2017-09-07 00:00:00</b>', 'time: <b>2017-09-08 00:00:00</b>', 'time: <b>2017-09-09 00:00:00</b>', 'time: <b>2017-09-10 00:00:00</b>', 'time: <b>2017-09-11 00:00:00</b>', 'time: <b>2017-09-12 00:00:00</b>', 'time: <b>2017-09-13 00:00:00</b>', 'time: <b>2017-09-14 00:00:00</b>', 'time: <b>2017-09-15 00:00:00</b>', 'time: <b>2017-09-16 00:00:00</b>', 'time: <b>2017-09-17 00:00:00</b>', 'time: <b>2017-09-18 00:00:00</b>', 'time: <b>2017-09-19 00:00:00</b>', 'time: <b>2017-09-20 00:00:00</b>', 'time: <b>2017-09-21 00:00:00</b>', 'time: <b>2017-09-22 00:00:00</b>', 'time: <b>2017-09-23 00:00:00</b>', 'time: <b>2017-09-24 00:00:00</b>', 'time: <b>2017-09-25 00:00:00</b>', 'time: <b>2017-09-26 00:00:00</b>', 'time: <b>2017-09-27 00:00:00</b>', 'time: <b>2017-09-28 00:00:00</b>', 'time: <b>2017-09-29 00:00:00</b>', 'time: <b>2017-09-30 00:00:00</b>', 'time: <b>2017-10-01 00:00:00</b>', 'time: <b>2017-10-02 00:00:00</b>', 'time: <b>2017-10-03 00:00:00</b>', 'time: <b>2017-10-04 00:00:00</b>', 'time: <b>2017-10-05 00:00:00</b>', 'time: <b>2017-10-06 00:00:00</b>', 'time: <b>2017-10-07 00:00:00</b>', 'time: <b>2017-10-08 00:00:00</b>', 'time: <b>2017-10-09 00:00:00</b>', 'time: <b>2017-10-10 00:00:00</b>', 'time: <b>2017-10-11 00:00:00</b>', 'time: <b>2017-10-12 00:00:00</b>', 'time: <b>2017-10-13 00:00:00</b>', 'time: <b>2017-10-14 00:00:00</b>', 'time: <b>2017-10-15 00:00:00</b>', 'time: <b>2017-10-16 00:00:00</b>', 'time: <b>2017-10-17 00:00:00</b>', 'time: <b>2017-10-18 00:00:00</b>', 'time: <b>2017-10-19 00:00:00</b>', 'time: <b>2017-10-20 00:00:00</b>', 'time: <b>2017-10-21 00:00:00</b>', 'time: <b>2017-10-22 00:00:00</b>', 'time: <b>2017-10-23 00:00:00</b>', 'time: <b>2017-10-24 00:00:00</b>', 'time: <b>2017-10-25 00:00:00</b>', 'time: <b>2017-10-26 00:00:00</b>', 'time: <b>2017-10-27 00:00:00</b>', 'time: <b>2017-10-28 00:00:00</b>', 'time: <b>2017-10-29 00:00:00</b>', 'time: <b>2017-10-30 00:00:00</b>', 'time: <b>2017-10-31 00:00:00</b>', 'time: <b>2017-11-01 00:00:00</b>', 'time: <b>2017-11-02 00:00:00</b>', 'time: <b>2017-11-03 00:00:00</b>', 'time: <b>2017-11-04 00:00:00</b>', 'time: <b>2017-11-05 00:00:00</b>', 'time: <b>2017-11-06 00:00:00</b>', 'time: <b>2017-11-07 00:00:00</b>', 'time: <b>2017-11-08 00:00:00</b>', 'time: <b>2017-11-09 00:00:00</b>', 'time: <b>2017-11-10 00:00:00</b>', 'time: <b>2017-11-11 00:00:00</b>', 'time: <b>2017-11-12 00:00:00</b>', 'time: <b>2017-11-13 00:00:00</b>', 'time: <b>2017-11-14 00:00:00</b>', 'time: <b>2017-11-15 00:00:00</b>', 'time: <b>2017-11-16 00:00:00</b>', 'time: <b>2017-11-17 00:00:00</b>', 'time: <b>2017-11-18 00:00:00</b>', 'time: <b>2017-11-19 00:00:00</b>', 'time: <b>2017-11-20 00:00:00</b>', 'time: <b>2017-11-21 00:00:00</b>', 'time: <b>2017-11-22 00:00:00</b>', 'time: <b>2017-11-23 00:00:00</b>', 'time: <b>2017-11-24 00:00:00</b>', 'time: <b>2017-11-25 00:00:00</b>', 'time: <b>2017-11-26 00:00:00</b>', 'time: <b>2017-11-27 00:00:00</b>', 'time: <b>2017-11-28 00:00:00</b>', 'time: <b>2017-11-29 00:00:00</b>', 'time: <b>2017-11-30 00:00:00</b>', 'time: <b>2017-12-01 00:00:00</b>', 'time: <b>2017-12-02 00:00:00</b>', 'time: <b>2017-12-03 00:00:00</b>', 'time: <b>2017-12-04 00:00:00</b>', 'time: <b>2017-12-05 00:00:00</b>', 'time: <b>2017-12-06 00:00:00</b>', 'time: <b>2017-12-07 00:00:00</b>', 'time: <b>2017-12-08 00:00:00</b>', 'time: <b>2017-12-09 00:00:00</b>', 'time: <b>2017-12-10 00:00:00</b>', 'time: <b>2017-12-11 00:00:00</b>', 'time: <b>2017-12-12 00:00:00</b>', 'time: <b>2017-12-13 00:00:00</b>', 'time: <b>2017-12-14 00:00:00</b>', 'time: <b>2017-12-15 00:00:00</b>', 'time: <b>2017-12-16 00:00:00</b>', 'time: <b>2017-12-17 00:00:00</b>', 'time: <b>2017-12-18 00:00:00</b>', 'time: <b>2017-12-19 00:00:00</b>', 'time: <b>2017-12-20 00:00:00</b>', 'time: <b>2017-12-21 00:00:00</b>', 'time: <b>2017-12-22 00:00:00</b>', 'time: <b>2017-12-23 00:00:00</b>', 'time: <b>2017-12-24 00:00:00</b>', 'time: <b>2017-12-25 00:00:00</b>', 'time: <b>2017-12-26 00:00:00</b>', 'time: <b>2017-12-27 00:00:00</b>', 'time: <b>2017-12-28 00:00:00</b>', 'time: <b>2017-12-29 00:00:00</b>', 'time: <b>2017-12-30 00:00:00</b>', 'time: <b>2017-12-31 00:00:00</b>']\\n    target.text = labels[source.value]\\n     } catch(err) { console.log(err) }\",\"tags\":[[139716095421696,[null,\"value\"],[null,null]]]},\"id\":\"1672\",\"type\":\"CustomJS\"},{\"attributes\":{\"coordinates\":null,\"data_source\":{\"id\":\"1604\"},\"glyph\":{\"id\":\"1607\"},\"group\":null,\"hover_glyph\":null,\"muted_glyph\":{\"id\":\"1611\"},\"nonselection_glyph\":{\"id\":\"1609\"},\"selection_glyph\":{\"id\":\"1617\"},\"view\":{\"id\":\"1614\"}},\"id\":\"1613\",\"type\":\"GlyphRenderer\"},{\"attributes\":{\"color_mapper\":{\"id\":\"1603\"},\"dh\":{\"field\":\"dh\"},\"dw\":{\"field\":\"dw\"},\"global_alpha\":{\"value\":0.1},\"image\":{\"field\":\"image\"},\"x\":{\"field\":\"x\"},\"y\":{\"field\":\"y\"}},\"id\":\"1609\",\"type\":\"Image\"},{\"attributes\":{\"source\":{\"id\":\"1604\"}},\"id\":\"1614\",\"type\":\"CDSView\"},{\"attributes\":{\"client_comm_id\":\"a9d169f82249485abb6a313a1099c75b\",\"comm_id\":\"4fc09262e74543f5bd8ce1f89981b57a\",\"plot_id\":\"1568\"},\"id\":\"1695\",\"type\":\"panel.models.comm_manager.CommManager\"},{\"attributes\":{\"color_mapper\":{\"id\":\"1603\"},\"dh\":{\"field\":\"dh\"},\"dw\":{\"field\":\"dw\"},\"global_alpha\":{\"value\":1.0},\"image\":{\"field\":\"image\"},\"x\":{\"field\":\"x\"},\"y\":{\"field\":\"y\"}},\"id\":\"1617\",\"type\":\"Image\"},{\"attributes\":{\"tools\":[{\"id\":\"1572\"},{\"id\":\"1590\"},{\"id\":\"1591\"},{\"id\":\"1592\"},{\"id\":\"1593\"},{\"id\":\"1594\"}]},\"id\":\"1596\",\"type\":\"Toolbar\"},{\"attributes\":{},\"id\":\"1578\",\"type\":\"LinearScale\"},{\"attributes\":{},\"id\":\"1621\",\"type\":\"AllLabels\"},{\"attributes\":{},\"id\":\"1580\",\"type\":\"LinearScale\"},{\"attributes\":{\"children\":[{\"id\":\"1657\"}],\"css_classes\":[\"panel-widget-box\"],\"margin\":[5,5,5,5],\"name\":\"WidgetBox05403\"},\"id\":\"1656\",\"type\":\"Column\"},{\"attributes\":{\"margin\":[5,5,5,5],\"name\":\"VSpacer05415\",\"sizing_mode\":\"stretch_height\"},\"id\":\"1655\",\"type\":\"Spacer\"},{\"attributes\":{},\"id\":\"1635\",\"type\":\"NoOverlap\"},{\"attributes\":{},\"id\":\"1605\",\"type\":\"Selection\"},{\"attributes\":{},\"id\":\"1624\",\"type\":\"AllLabels\"},{\"attributes\":{\"axis\":{\"id\":\"1582\"},\"coordinates\":null,\"grid_line_color\":null,\"group\":null,\"ticker\":null},\"id\":\"1585\",\"type\":\"Grid\"},{\"attributes\":{\"children\":[{\"id\":\"1655\"},{\"id\":\"1656\"},{\"id\":\"1660\"}],\"margin\":[0,0,0,0],\"name\":\"Column05417\"},\"id\":\"1654\",\"type\":\"Column\"},{\"attributes\":{\"below\":[{\"id\":\"1582\"}],\"center\":[{\"id\":\"1585\"},{\"id\":\"1589\"}],\"height\":400,\"left\":[{\"id\":\"1586\"}],\"margin\":[5,5,5,5],\"min_border_bottom\":10,\"min_border_left\":10,\"min_border_right\":10,\"min_border_top\":10,\"renderers\":[{\"id\":\"1613\"}],\"right\":[{\"id\":\"1616\"}],\"sizing_mode\":\"fixed\",\"title\":{\"id\":\"1574\"},\"toolbar\":{\"id\":\"1596\"},\"width\":500,\"x_range\":{\"id\":\"1570\"},\"x_scale\":{\"id\":\"1578\"},\"y_range\":{\"id\":\"1571\"},\"y_scale\":{\"id\":\"1580\"}},\"id\":\"1573\",\"subtype\":\"Figure\",\"type\":\"Plot\"},{\"attributes\":{},\"id\":\"1583\",\"type\":\"BasicTicker\"},{\"attributes\":{},\"id\":\"1620\",\"type\":\"BasicTickFormatter\"},{\"attributes\":{},\"id\":\"1639\",\"type\":\"UnionRenderers\"},{\"attributes\":{\"end\":305.09999999999945,\"reset_end\":305.09999999999945,\"reset_start\":294.9,\"start\":294.9,\"tags\":[[[\"longitude\",\"longitude\",null]]]},\"id\":\"1570\",\"type\":\"Range1d\"},{\"attributes\":{\"coordinates\":null,\"group\":null,\"text\":\"time: 2017-01-01 00:00:00\",\"text_color\":\"black\",\"text_font_size\":\"12pt\"},\"id\":\"1574\",\"type\":\"Title\"},{\"attributes\":{\"color_mapper\":{\"id\":\"1603\"},\"dh\":{\"field\":\"dh\"},\"dw\":{\"field\":\"dw\"},\"image\":{\"field\":\"image\"},\"x\":{\"field\":\"x\"},\"y\":{\"field\":\"y\"}},\"id\":\"1607\",\"type\":\"Image\"},{\"attributes\":{\"children\":[{\"id\":\"1658\"},{\"id\":\"1659\"}],\"margin\":[0,0,0,0],\"min_width\":290,\"name\":\"Column05412\",\"width\":290},\"id\":\"1657\",\"type\":\"Column\"},{\"attributes\":{\"margin\":[5,5,5,5],\"name\":\"HSpacer05419\",\"sizing_mode\":\"stretch_width\"},\"id\":\"1653\",\"type\":\"Spacer\"},{\"attributes\":{\"callback\":null,\"renderers\":[{\"id\":\"1613\"}],\"tags\":[\"hv_created\"],\"tooltips\":[[\"longitude\",\"$x\"],[\"latitude\",\"$y\"],[\"ssh_lap\",\"@image\"]]},\"id\":\"1572\",\"type\":\"HoverTool\"},{\"attributes\":{},\"id\":\"1623\",\"type\":\"BasicTickFormatter\"},{\"attributes\":{\"axis_label\":\"longitude\",\"coordinates\":null,\"formatter\":{\"id\":\"1620\"},\"group\":null,\"major_label_policy\":{\"id\":\"1621\"},\"ticker\":{\"id\":\"1583\"}},\"id\":\"1582\",\"type\":\"LinearAxis\"},{\"attributes\":{\"children\":[{\"id\":\"1569\"},{\"id\":\"1573\"},{\"id\":\"1653\"},{\"id\":\"1654\"}],\"margin\":[0,0,0,0],\"name\":\"Row05402\"},\"id\":\"1568\",\"type\":\"Row\"},{\"attributes\":{\"margin\":[5,5,5,5],\"name\":\"VSpacer05416\",\"sizing_mode\":\"stretch_height\"},\"id\":\"1660\",\"type\":\"Spacer\"},{\"attributes\":{\"axis\":{\"id\":\"1586\"},\"coordinates\":null,\"dimension\":1,\"grid_line_color\":null,\"group\":null,\"ticker\":null},\"id\":\"1589\",\"type\":\"Grid\"},{\"attributes\":{},\"id\":\"1591\",\"type\":\"PanTool\"},{\"attributes\":{\"data\":{\"dh\":[10.400000000000148],\"dw\":[10.199999999999477],\"image\":[{\"__ndarray__\":\"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\",\"dtype\":\"float64\",\"order\":\"little\",\"shape\":[52,51]}],\"x\":[294.9],\"y\":[32.9]},\"selected\":{\"id\":\"1605\"},\"selection_policy\":{\"id\":\"1639\"}},\"id\":\"1604\",\"type\":\"ColumnDataSource\"},{\"attributes\":{\"axis_label\":\"latitude\",\"coordinates\":null,\"formatter\":{\"id\":\"1623\"},\"group\":null,\"major_label_policy\":{\"id\":\"1624\"},\"ticker\":{\"id\":\"1587\"}},\"id\":\"1586\",\"type\":\"LinearAxis\"},{\"attributes\":{\"margin\":[5,5,5,5],\"name\":\"HSpacer05418\",\"sizing_mode\":\"stretch_width\"},\"id\":\"1569\",\"type\":\"Spacer\"},{\"attributes\":{},\"id\":\"1587\",\"type\":\"BasicTicker\"},{\"attributes\":{},\"id\":\"1592\",\"type\":\"WheelZoomTool\"},{\"attributes\":{\"margin\":[20,0,0,20],\"name\":\"\",\"style\":{\"white-space\":\"nowrap\"},\"text\":\"time: <b>2017-01-01 00:00:00</b>\",\"width\":250},\"id\":\"1658\",\"type\":\"Div\"}],\"root_ids\":[\"1568\",\"1695\"]},\"title\":\"Bokeh Application\",\"version\":\"2.4.2\"}};\n",
       "    var render_items = [{\"docid\":\"993e709b-87d7-405a-b744-a5a64600f0f2\",\"root_ids\":[\"1568\"],\"roots\":{\"1568\":\"c71b7231-843d-460c-b3d6-d291fc2c3b40\"}}];\n",
       "    root.Bokeh.embed.embed_items_notebook(docs_json, render_items);\n",
       "  }\n",
       "  if (root.Bokeh !== undefined && root.Bokeh.Panel !== undefined) {\n",
       "    embed_document(root);\n",
       "  } else {\n",
       "    var attempts = 0;\n",
       "    var timer = setInterval(function(root) {\n",
       "      if (root.Bokeh !== undefined && root.Bokeh.Panel !== undefined) {\n",
       "        clearInterval(timer);\n",
       "        embed_document(root);\n",
       "      } else if (document.readyState == \"complete\") {\n",
       "        attempts++;\n",
       "        if (attempts > 200) {\n",
       "          clearInterval(timer);\n",
       "          console.log(\"Bokeh: ERROR: Unable to run BokehJS code because BokehJS library is missing\");\n",
       "        }\n",
       "      }\n",
       "    }, 25, root)\n",
       "  }\n",
       "})(window);</script>"
      ],
      "text/plain": [
       ":DynamicMap   [time]\n",
       "   :Image   [longitude,latitude]   (ssh_lap)"
      ]
     },
     "execution_count": 32,
     "metadata": {
      "application/vnd.holoviews_exec.v0+json": {
       "id": "1568"
      }
     },
     "output_type": "execute_result"
    }
   ],
   "source": [
    "# ds_oi.ssh_lap.hvplot.image(\n",
    "#     x=\"longitude\",\n",
    "#     y=\"latitude\",\n",
    "#     # groupby='time',\n",
    "#     # rasterize=True, \n",
    "#     width=500, height=400, cmap=\"RdBu_r\")"
   ]
  }
 ],
 "metadata": {
  "kernelspec": {
   "display_name": "Python [conda env:jax_cpu_py39]",
   "language": "python",
   "name": "conda-env-jax_cpu_py39-py"
  },
  "language_info": {
   "codemirror_mode": {
    "name": "ipython",
    "version": 3
   },
   "file_extension": ".py",
   "mimetype": "text/x-python",
   "name": "python",
   "nbconvert_exporter": "python",
   "pygments_lexer": "ipython3",
   "version": "3.9.12"
  }
 },
 "nbformat": 4,
 "nbformat_minor": 5
}
