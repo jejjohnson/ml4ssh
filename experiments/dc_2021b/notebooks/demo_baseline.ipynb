{
 "cells": [
  {
   "cell_type": "code",
   "execution_count": 4,
   "id": "c8a2ee9e-04cc-4c5e-a3eb-4742a7ad7cd1",
   "metadata": {},
   "outputs": [],
   "source": [
    "import sys, os\n",
    "from pyprojroot import here\n",
    "\n",
    "\n",
    "# spyder up to find the root\n",
    "\n",
    "root = here(project_files=[\".root\"])\n",
    "local = here(project_files=[\".local\"])\n",
    "\n",
    "# append to path\n",
    "sys.path.append(str(root))\n",
    "sys.path.append(str(local))"
   ]
  },
  {
   "cell_type": "code",
   "execution_count": 5,
   "id": "4e08b309-df46-4190-96f7-914907b8b422",
   "metadata": {},
   "outputs": [],
   "source": [
    "from pathlib import Path\n",
    "import argparse\n",
    "import wandb\n",
    "import tqdm\n",
    "import matplotlib.pyplot as plt\n",
    "import seaborn as sns\n",
    "sns.reset_defaults()\n",
    "sns.set_context(context=\"talk\", font_scale=0.7)\n",
    "\n",
    "# Ensure TF does not see GPU and grab all GPU memory.\n",
    "import tensorflow as tf\n",
    "tf.config.set_visible_devices([], device_type='GPU')\n",
    "\n",
    "import jax\n",
    "import jax.random as jrandom\n",
    "import jax.numpy as jnp\n",
    "import equinox as eqx\n",
    "from ml4ssh._src.io import load_object, save_object\n",
    "from ml4ssh._src.viz import create_movie, plot_psd_spectrum, plot_psd_score\n",
    "from ml4ssh._src.utils import get_meshgrid, calculate_gradient, calculate_laplacian\n",
    "\n",
    "# import parsers\n",
    "from data import get_data_args, load_data\n",
    "from preprocess import add_preprocess_args, preprocess_data\n",
    "from features import add_feature_args, feature_transform\n",
    "from split import add_split_args, split_data\n",
    "from model import add_model_args, get_model\n",
    "from loss import add_loss_args, get_loss_fn\n",
    "from logger import add_logger_args\n",
    "from optimizer import add_optimizer_args, get_optimizer\n",
    "from postprocess import add_postprocess_args, postprocess_data, generate_eval_data\n",
    "from evaluation import add_eval_args, get_rmse_metrics, get_psd_metrics\n",
    "\n",
    "%matplotlib inline\n",
    "%load_ext autoreload\n",
    "%autoreload 2"
   ]
  },
  {
   "cell_type": "markdown",
   "id": "305ed40f-5926-41e3-8f76-22d50df60c1e",
   "metadata": {},
   "source": [
    "### Argumentsget_data_args"
   ]
  },
  {
   "cell_type": "code",
   "execution_count": 15,
   "id": "ad519f7b-be94-419e-ba50-f14958c2b2a8",
   "metadata": {},
   "outputs": [],
   "source": [
    "parser = argparse.ArgumentParser()\n",
    "\n",
    "# logger\n",
    "parser = add_logger_args(parser)\n",
    "\n",
    "# data\n",
    "parser = get_data_args(parser)\n",
    "\n",
    "# preprocessing, feature transform, split\n",
    "parser = add_preprocess_args(parser)\n",
    "parser = add_feature_args(parser)\n",
    "parser = add_split_args(parser)\n",
    "\n",
    "# model, optimizer, loss\n",
    "parser = add_model_args(parser)\n",
    "parser = add_optimizer_args(parser)\n",
    "parser = add_loss_args(parser)\n",
    "\n",
    "# postprocessing, metrics\n",
    "parser = add_postprocess_args(parser)\n",
    "parser = add_eval_args(parser)\n",
    "\n",
    "# parse args\n",
    "args = parser.parse_args([])\n",
    "\n",
    "# # jeanzay specific\n",
    "# args.train_data_dir = \"/gpfsdswork/projects/rech/cli/uvo53rl/data/data_challenges/ssh_mapping_2021/train/\"\n",
    "# args.ref_data_dir = \"/gpfsdswork/projects/rech/cli/uvo53rl/data/data_challenges/ssh_mapping_2021/ref/\"\n",
    "# args.test_data_dir = \"/gpfsdswork/projects/rech/cli/uvo53rl/data/data_challenges/ssh_mapping_2021/test/\"\n",
    "# args.log_dir = \"/gpfswork/rech/cli/uvo53rl/logs\"\n",
    "args.feature_scaler = \"standard\"\n",
    "\n",
    "args.smoke_test = False\n",
    "args.wandb_mode = \"disabled\"\n",
    "args.wandb_resume = True\n",
    "args.id = None # \"2uuq7tks\"\n",
    "args.batch_size = 2048\n",
    "args.n_epochs = 10\n",
    "args.model = \"lr\""
   ]
  },
  {
   "cell_type": "markdown",
   "id": "2816cbb2-1a8f-431d-a12b-d0e4f008b7f5",
   "metadata": {},
   "source": [
    "### Logger\n"
   ]
  },
  {
   "cell_type": "code",
   "execution_count": 16,
   "id": "7733fbe0-fb43-4eda-af8e-50f00e380ec1",
   "metadata": {},
   "outputs": [
    {
     "data": {
      "text/plain": []
     },
     "execution_count": 16,
     "metadata": {},
     "output_type": "execute_result"
    }
   ],
   "source": [
    "# init wandb logger\n",
    "wandb.init(\n",
    "    id=args.id,\n",
    "    config=args,\n",
    "    mode=args.wandb_mode,\n",
    "    project=args.project,\n",
    "    entity=args.entity,\n",
    "    dir=args.log_dir,\n",
    "    resume=args.wandb_resume\n",
    ")"
   ]
  },
  {
   "cell_type": "markdown",
   "id": "dce2df15-f422-406b-8e53-64edf65f4172",
   "metadata": {},
   "source": [
    "### Load Data"
   ]
  },
  {
   "cell_type": "code",
   "execution_count": 17,
   "id": "7386abc3-3927-4ae3-8eb8-cf0ac87426a1",
   "metadata": {},
   "outputs": [
    {
     "name": "stderr",
     "output_type": "stream",
     "text": [
      "100%|██████████| 6/6 [00:00<00:00, 61.19it/s]\n"
     ]
    },
    {
     "name": "stdout",
     "output_type": "stream",
     "text": [
      "CPU times: user 2.74 s, sys: 256 ms, total: 3 s\n",
      "Wall time: 3 s\n"
     ]
    }
   ],
   "source": [
    "%%time\n",
    "\n",
    "# load data\n",
    "data = load_data(args)\n",
    "\n",
    "# preprocess data\n",
    "data = preprocess_data(data, args)\n",
    "\n",
    "# feature transformation\n",
    "data, scaler = feature_transform(data, args)\n",
    "\n",
    "# split data\n",
    "xtrain, ytrain, xvalid, yvalid = split_data(data, args)\n",
    "\n",
    "args.in_dim = xtrain.shape[-1]\n",
    "args.n_train = xtrain.shape[0]\n",
    "args.n_valid = xvalid.shape[0]\n",
    "\n",
    "wandb.config.update(\n",
    "    {\n",
    "        \"in_dim\": args.in_dim,\n",
    "        \"n_train\": args.n_train,\n",
    "        \"n_valid\": args.n_valid,\n",
    "    }\n",
    ")"
   ]
  },
  {
   "cell_type": "code",
   "execution_count": 19,
   "id": "9d2d93f7-0344-4fae-8f56-9dbe02ba09c0",
   "metadata": {},
   "outputs": [
    {
     "data": {
      "text/html": [
       "<div>\n",
       "<style scoped>\n",
       "    .dataframe tbody tr th:only-of-type {\n",
       "        vertical-align: middle;\n",
       "    }\n",
       "\n",
       "    .dataframe tbody tr th {\n",
       "        vertical-align: top;\n",
       "    }\n",
       "\n",
       "    .dataframe thead th {\n",
       "        text-align: right;\n",
       "    }\n",
       "</style>\n",
       "<table border=\"1\" class=\"dataframe\">\n",
       "  <thead>\n",
       "    <tr style=\"text-align: right;\">\n",
       "      <th></th>\n",
       "      <th>longitude</th>\n",
       "      <th>latitude</th>\n",
       "      <th>time</th>\n",
       "    </tr>\n",
       "  </thead>\n",
       "  <tbody>\n",
       "    <tr>\n",
       "      <th>count</th>\n",
       "      <td>1.790094e+06</td>\n",
       "      <td>1.790094e+06</td>\n",
       "      <td>1.790094e+06</td>\n",
       "    </tr>\n",
       "    <tr>\n",
       "      <th>mean</th>\n",
       "      <td>-1.999917e-12</td>\n",
       "      <td>-8.776303e-13</td>\n",
       "      <td>3.685513e-10</td>\n",
       "    </tr>\n",
       "    <tr>\n",
       "      <th>std</th>\n",
       "      <td>1.000000e+00</td>\n",
       "      <td>1.000000e+00</td>\n",
       "      <td>1.000000e+00</td>\n",
       "    </tr>\n",
       "    <tr>\n",
       "      <th>min</th>\n",
       "      <td>-1.949781e+00</td>\n",
       "      <td>-1.638213e+00</td>\n",
       "      <td>-1.671579e+00</td>\n",
       "    </tr>\n",
       "    <tr>\n",
       "      <th>25%</th>\n",
       "      <td>-8.239073e-01</td>\n",
       "      <td>-8.429874e-01</td>\n",
       "      <td>-9.186683e-01</td>\n",
       "    </tr>\n",
       "    <tr>\n",
       "      <th>50%</th>\n",
       "      <td>5.915465e-02</td>\n",
       "      <td>-5.483249e-02</td>\n",
       "      <td>5.081266e-02</td>\n",
       "    </tr>\n",
       "    <tr>\n",
       "      <th>75%</th>\n",
       "      <td>8.765120e-01</td>\n",
       "      <td>7.516934e-01</td>\n",
       "      <td>8.303645e-01</td>\n",
       "    </tr>\n",
       "    <tr>\n",
       "      <th>max</th>\n",
       "      <td>1.597494e+00</td>\n",
       "      <td>2.196721e+00</td>\n",
       "      <td>1.772641e+00</td>\n",
       "    </tr>\n",
       "  </tbody>\n",
       "</table>\n",
       "</div>"
      ],
      "text/plain": [
       "          longitude      latitude          time\n",
       "count  1.790094e+06  1.790094e+06  1.790094e+06\n",
       "mean  -1.999917e-12 -8.776303e-13  3.685513e-10\n",
       "std    1.000000e+00  1.000000e+00  1.000000e+00\n",
       "min   -1.949781e+00 -1.638213e+00 -1.671579e+00\n",
       "25%   -8.239073e-01 -8.429874e-01 -9.186683e-01\n",
       "50%    5.915465e-02 -5.483249e-02  5.081266e-02\n",
       "75%    8.765120e-01  7.516934e-01  8.303645e-01\n",
       "max    1.597494e+00  2.196721e+00  1.772641e+00"
      ]
     },
     "execution_count": 19,
     "metadata": {},
     "output_type": "execute_result"
    }
   ],
   "source": [
    "data[data.attrs[\"input_cols\"]].describe()"
   ]
  },
  {
   "cell_type": "markdown",
   "id": "ef39f5ec-1066-467c-b4ba-d205adc4fba2",
   "metadata": {},
   "source": [
    "### Model"
   ]
  },
  {
   "cell_type": "code",
   "execution_count": 20,
   "id": "575288f1-04f7-4bd0-bc3f-cf11615ce605",
   "metadata": {},
   "outputs": [],
   "source": [
    "# %%time\n",
    "\n",
    "\n",
    "# # model\n",
    "# model = get_model(args)\n",
    "\n",
    "# # optimizer\n",
    "# optimizer = get_optimizer(args)\n",
    "\n",
    "# # loss\n",
    "# make_step, val_step = get_loss_fn(args)\n",
    "\n",
    "# # init model\n",
    "# opt_state = optimizer.init(model)"
   ]
  },
  {
   "cell_type": "code",
   "execution_count": 21,
   "id": "1208851b-909f-4489-be12-b1818c00f2cf",
   "metadata": {},
   "outputs": [],
   "source": [
    "# n_steps_per_epoch = args.n_train / args.batch_size\n",
    "# steps = int(n_steps_per_epoch * args.n_epochs) if not args.smoke_test else 500\n",
    "\n",
    "\n",
    "# wandb.config.update(\n",
    "#     {\n",
    "#         \"steps\": steps,\n",
    "#         \"n_steps_per_epoch\": n_steps_per_epoch,\n",
    "#     }\n",
    "# )"
   ]
  },
  {
   "cell_type": "code",
   "execution_count": 22,
   "id": "31416aba-0fbe-4045-9bae-c4eff4bf3d2f",
   "metadata": {},
   "outputs": [],
   "source": [
    "from sklearn.linear_model import LinearRegression"
   ]
  },
  {
   "cell_type": "markdown",
   "id": "c2a1d68f-2cc9-4246-8bd8-a83b234dd49f",
   "metadata": {},
   "source": [
    "### Training"
   ]
  },
  {
   "cell_type": "code",
   "execution_count": 23,
   "id": "9f5a317f-b33e-47fc-bd55-571c8d0cf2f4",
   "metadata": {},
   "outputs": [],
   "source": [
    "from sklearn.metrics import mean_absolute_error, mean_squared_error"
   ]
  },
  {
   "cell_type": "markdown",
   "id": "95a2fbdd-155d-41e9-a8cb-638333658278",
   "metadata": {},
   "source": [
    "#### Linear Regression"
   ]
  },
  {
   "cell_type": "code",
   "execution_count": 24,
   "id": "aaa0e68e-a028-4668-a74e-b620faf46bf0",
   "metadata": {},
   "outputs": [
    {
     "name": "stdout",
     "output_type": "stream",
     "text": [
      "CPU times: user 116 ms, sys: 52 ms, total: 168 ms\n",
      "Wall time: 209 ms\n"
     ]
    }
   ],
   "source": [
    "%%time\n",
    "\n",
    "model = LinearRegression()\n",
    "\n",
    "# fit model\n",
    "model.fit(xtrain, ytrain)\n",
    "\n",
    "# predict model\n",
    "preds = model.predict(xvalid)\n",
    "\n",
    "# mae = "
   ]
  },
  {
   "cell_type": "code",
   "execution_count": null,
   "id": "a0c50d30-d7a9-497c-af0b-819c57442f00",
   "metadata": {},
   "outputs": [],
   "source": []
  },
  {
   "cell_type": "markdown",
   "id": "62ed2cdc-b549-4969-8d98-204f9728bee3",
   "metadata": {},
   "source": [
    "### Save models"
   ]
  },
  {
   "cell_type": "code",
   "execution_count": 26,
   "id": "ed63a01f-45a1-4c00-bc03-2cfcb9910978",
   "metadata": {},
   "outputs": [
    {
     "data": {
      "text/plain": []
     },
     "execution_count": 26,
     "metadata": {},
     "output_type": "execute_result"
    }
   ],
   "source": [
    "# objects\n",
    "path_model = Path(wandb.run.dir).joinpath(\"model.pickle\")\n",
    "path_scaler = Path(wandb.run.dir).joinpath(\"scaler.pickle\")\n",
    "\n",
    "# models to save\n",
    "save_object(model, path_model)\n",
    "save_object(scaler, path_scaler)\n",
    "\n",
    "# save with wandb\n",
    "wandb.save(str(path_model), policy=\"now\")\n",
    "wandb.save(str(path_scaler), policy=\"now\")"
   ]
  },
  {
   "cell_type": "markdown",
   "id": "3952eecb-b099-4422-8c91-52285bb01c6e",
   "metadata": {},
   "source": [
    "### Load Models (Optional)"
   ]
  },
  {
   "cell_type": "code",
   "execution_count": 27,
   "id": "50cccbdb-ac0a-49e0-84e9-e14067312257",
   "metadata": {},
   "outputs": [],
   "source": [
    "# # if args.server == \"jz\":\n",
    "# # get id (from this run or a run you can set)\n",
    "# run_id = wandb.run.id\n",
    "\n",
    "# # initialize api\n",
    "# api = wandb.Api()\n",
    "\n",
    "# # get run\n",
    "# run = api.run(f\"{args.entity}/{args.project}/{run_id}\")\n",
    "\n",
    "# # download the files\n",
    "# files = [\"scaler.pickle\", \"model.pickle\"]\n",
    "\n",
    "# for ifile in files:\n",
    "    \n",
    "#     run.file(ifile).download(replace=True)"
   ]
  },
  {
   "cell_type": "code",
   "execution_count": 28,
   "id": "cef597ca-bc1f-4996-b51a-f5deed6c5491",
   "metadata": {},
   "outputs": [],
   "source": [
    "# model = load_object(\"./model.pickle\")\n",
    "# scaler = load_object(\"./scaler.pickle\")"
   ]
  },
  {
   "cell_type": "markdown",
   "id": "450003ae-4943-4704-b6f4-5b7eab4f21ba",
   "metadata": {},
   "source": [
    "### PostProcessing"
   ]
  },
  {
   "cell_type": "code",
   "execution_count": 29,
   "id": "316e79d9-efc8-4707-9c67-e9781e110004",
   "metadata": {},
   "outputs": [
    {
     "data": {
      "text/html": [
       "<div>\n",
       "<style scoped>\n",
       "    .dataframe tbody tr th:only-of-type {\n",
       "        vertical-align: middle;\n",
       "    }\n",
       "\n",
       "    .dataframe tbody tr th {\n",
       "        vertical-align: top;\n",
       "    }\n",
       "\n",
       "    .dataframe thead th {\n",
       "        text-align: right;\n",
       "    }\n",
       "</style>\n",
       "<table border=\"1\" class=\"dataframe\">\n",
       "  <thead>\n",
       "    <tr style=\"text-align: right;\">\n",
       "      <th></th>\n",
       "      <th>longitude</th>\n",
       "      <th>latitude</th>\n",
       "      <th>vtime</th>\n",
       "    </tr>\n",
       "  </thead>\n",
       "  <tbody>\n",
       "    <tr>\n",
       "      <th>count</th>\n",
       "      <td>967980.000000</td>\n",
       "      <td>967980.000000</td>\n",
       "      <td>967980.000000</td>\n",
       "    </tr>\n",
       "    <tr>\n",
       "      <th>mean</th>\n",
       "      <td>300.000000</td>\n",
       "      <td>38.100000</td>\n",
       "      <td>213.000000</td>\n",
       "    </tr>\n",
       "    <tr>\n",
       "      <th>std</th>\n",
       "      <td>2.943922</td>\n",
       "      <td>3.001668</td>\n",
       "      <td>105.366083</td>\n",
       "    </tr>\n",
       "    <tr>\n",
       "      <th>min</th>\n",
       "      <td>295.000000</td>\n",
       "      <td>33.000000</td>\n",
       "      <td>31.000000</td>\n",
       "    </tr>\n",
       "    <tr>\n",
       "      <th>25%</th>\n",
       "      <td>297.400000</td>\n",
       "      <td>35.550000</td>\n",
       "      <td>122.000000</td>\n",
       "    </tr>\n",
       "    <tr>\n",
       "      <th>50%</th>\n",
       "      <td>300.000000</td>\n",
       "      <td>38.100000</td>\n",
       "      <td>213.000000</td>\n",
       "    </tr>\n",
       "    <tr>\n",
       "      <th>75%</th>\n",
       "      <td>302.600000</td>\n",
       "      <td>40.650000</td>\n",
       "      <td>304.000000</td>\n",
       "    </tr>\n",
       "    <tr>\n",
       "      <th>max</th>\n",
       "      <td>305.000000</td>\n",
       "      <td>43.200000</td>\n",
       "      <td>395.000000</td>\n",
       "    </tr>\n",
       "  </tbody>\n",
       "</table>\n",
       "</div>"
      ],
      "text/plain": [
       "           longitude       latitude          vtime\n",
       "count  967980.000000  967980.000000  967980.000000\n",
       "mean      300.000000      38.100000     213.000000\n",
       "std         2.943922       3.001668     105.366083\n",
       "min       295.000000      33.000000      31.000000\n",
       "25%       297.400000      35.550000     122.000000\n",
       "50%       300.000000      38.100000     213.000000\n",
       "75%       302.600000      40.650000     304.000000\n",
       "max       305.000000      43.200000     395.000000"
      ]
     },
     "execution_count": 29,
     "metadata": {},
     "output_type": "execute_result"
    }
   ],
   "source": [
    "df_grid = generate_eval_data(args)\n",
    "\n",
    "df_grid.describe()"
   ]
  },
  {
   "cell_type": "code",
   "execution_count": 43,
   "id": "d4d296bb-b91d-4993-b0ee-bff91208b6e9",
   "metadata": {},
   "outputs": [
    {
     "name": "stdout",
     "output_type": "stream",
     "text": [
      "['longitude', 'latitude', 'time']\n"
     ]
    },
    {
     "data": {
      "text/html": [
       "<div>\n",
       "<style scoped>\n",
       "    .dataframe tbody tr th:only-of-type {\n",
       "        vertical-align: middle;\n",
       "    }\n",
       "\n",
       "    .dataframe tbody tr th {\n",
       "        vertical-align: top;\n",
       "    }\n",
       "\n",
       "    .dataframe thead th {\n",
       "        text-align: right;\n",
       "    }\n",
       "</style>\n",
       "<table border=\"1\" class=\"dataframe\">\n",
       "  <thead>\n",
       "    <tr style=\"text-align: right;\">\n",
       "      <th></th>\n",
       "      <th>longitude</th>\n",
       "      <th>latitude</th>\n",
       "      <th>time</th>\n",
       "      <th>vtime</th>\n",
       "      <th>pred</th>\n",
       "    </tr>\n",
       "  </thead>\n",
       "  <tbody>\n",
       "    <tr>\n",
       "      <th>count</th>\n",
       "      <td>967980.000000</td>\n",
       "      <td>967980.000000</td>\n",
       "      <td>967980.000000</td>\n",
       "      <td>967980.000000</td>\n",
       "      <td>967980.000000</td>\n",
       "    </tr>\n",
       "    <tr>\n",
       "      <th>mean</th>\n",
       "      <td>-0.176144</td>\n",
       "      <td>0.292042</td>\n",
       "      <td>0.050524</td>\n",
       "      <td>213.000000</td>\n",
       "      <td>0.096517</td>\n",
       "    </tr>\n",
       "    <tr>\n",
       "      <th>std</th>\n",
       "      <td>0.348097</td>\n",
       "      <td>0.383708</td>\n",
       "      <td>0.852070</td>\n",
       "      <td>105.366083</td>\n",
       "      <td>0.021474</td>\n",
       "    </tr>\n",
       "    <tr>\n",
       "      <th>min</th>\n",
       "      <td>-0.767357</td>\n",
       "      <td>-0.359899</td>\n",
       "      <td>-1.421267</td>\n",
       "      <td>31.000000</td>\n",
       "      <td>0.050180</td>\n",
       "    </tr>\n",
       "    <tr>\n",
       "      <th>25%</th>\n",
       "      <td>-0.483575</td>\n",
       "      <td>-0.033928</td>\n",
       "      <td>-0.685372</td>\n",
       "      <td>122.000000</td>\n",
       "      <td>0.078396</td>\n",
       "    </tr>\n",
       "    <tr>\n",
       "      <th>50%</th>\n",
       "      <td>-0.176144</td>\n",
       "      <td>0.292042</td>\n",
       "      <td>0.050524</td>\n",
       "      <td>213.000000</td>\n",
       "      <td>0.096517</td>\n",
       "    </tr>\n",
       "    <tr>\n",
       "      <th>75%</th>\n",
       "      <td>0.131287</td>\n",
       "      <td>0.618013</td>\n",
       "      <td>0.786419</td>\n",
       "      <td>304.000000</td>\n",
       "      <td>0.114637</td>\n",
       "    </tr>\n",
       "    <tr>\n",
       "      <th>max</th>\n",
       "      <td>0.415069</td>\n",
       "      <td>0.943984</td>\n",
       "      <td>1.522314</td>\n",
       "      <td>395.000000</td>\n",
       "      <td>0.142853</td>\n",
       "    </tr>\n",
       "  </tbody>\n",
       "</table>\n",
       "</div>"
      ],
      "text/plain": [
       "           longitude       latitude           time          vtime  \\\n",
       "count  967980.000000  967980.000000  967980.000000  967980.000000   \n",
       "mean       -0.176144       0.292042       0.050524     213.000000   \n",
       "std         0.348097       0.383708       0.852070     105.366083   \n",
       "min        -0.767357      -0.359899      -1.421267      31.000000   \n",
       "25%        -0.483575      -0.033928      -0.685372     122.000000   \n",
       "50%        -0.176144       0.292042       0.050524     213.000000   \n",
       "75%         0.131287       0.618013       0.786419     304.000000   \n",
       "max         0.415069       0.943984       1.522314     395.000000   \n",
       "\n",
       "                pred  \n",
       "count  967980.000000  \n",
       "mean        0.096517  \n",
       "std         0.021474  \n",
       "min         0.050180  \n",
       "25%         0.078396  \n",
       "50%         0.096517  \n",
       "75%         0.114637  \n",
       "max         0.142853  "
      ]
     },
     "execution_count": 43,
     "metadata": {},
     "output_type": "execute_result"
    }
   ],
   "source": [
    "df_pred = feature_transform(df_grid.copy(), args, scaler=scaler)\n",
    "df_pred.describe()"
   ]
  },
  {
   "cell_type": "code",
   "execution_count": 31,
   "id": "665740c1-03cb-49ea-8ce1-22db16a85b84",
   "metadata": {},
   "outputs": [],
   "source": [
    "wandb.config.update(\n",
    "    {\n",
    "        \"n_test\": df_pred.shape[0],\n",
    "    }\n",
    ")"
   ]
  },
  {
   "cell_type": "markdown",
   "id": "b1224ed1-2071-47a2-abe6-df2767580fc4",
   "metadata": {},
   "source": [
    "### Predictions\n"
   ]
  },
  {
   "cell_type": "code",
   "execution_count": 18,
   "id": "2abeed1c-76f0-4f4f-a54a-fecef4cf0981",
   "metadata": {},
   "outputs": [],
   "source": [
    "# @jax.jit\n",
    "# def pred_step(model, data):\n",
    "#     return jax.vmap(model)(data)"
   ]
  },
  {
   "cell_type": "code",
   "execution_count": 32,
   "id": "d863e59b-67c9-4bf3-ad6b-a00ae406cece",
   "metadata": {},
   "outputs": [],
   "source": [
    "df_pred = df_pred[df_pred.attrs[\"input_cols\"]]"
   ]
  },
  {
   "cell_type": "code",
   "execution_count": 33,
   "id": "90422d39-fde7-40d5-a373-386b173f30c6",
   "metadata": {},
   "outputs": [
    {
     "name": "stderr",
     "output_type": "stream",
     "text": [
      "/home/johnsonj/miniconda3/envs/jaxtftorch_cpu_py39/lib/python3.9/site-packages/sklearn/base.py:443: UserWarning: X has feature names, but LinearRegression was fitted without feature names\n",
      "  warnings.warn(\n"
     ]
    }
   ],
   "source": [
    "\n",
    "import time\n",
    "\n",
    "t0 = time.time()\n",
    "df_grid[\"pred\"] = model.predict(df_pred)\n",
    "t1 = time.time() - t0"
   ]
  },
  {
   "cell_type": "code",
   "execution_count": 34,
   "id": "54c2ef06-b427-448f-87b7-28d8f33cd6bc",
   "metadata": {},
   "outputs": [],
   "source": [
    "from functools import partial\n",
    "import time"
   ]
  },
  {
   "cell_type": "code",
   "execution_count": 35,
   "id": "3888b407-18b4-4827-99ee-bed6ff447912",
   "metadata": {},
   "outputs": [],
   "source": [
    "wandb.config.update(\n",
    "    {\n",
    "        \"time_predict_batches\": t1,\n",
    "    }\n",
    ")"
   ]
  },
  {
   "cell_type": "code",
   "execution_count": 36,
   "id": "11412828-7bd7-4c9c-aaf9-3b638d638313",
   "metadata": {},
   "outputs": [
    {
     "name": "stderr",
     "output_type": "stream",
     "text": [
      "/home/johnsonj/miniconda3/envs/jaxtftorch_cpu_py39/lib/python3.9/site-packages/xarray/core/missing.py:562: FutureWarning: Passing method to Float64Index.get_loc is deprecated and will raise in a future version. Use index.get_indexer([item], method=...) instead.\n",
      "  imin = index.get_loc(minval, method=\"nearest\")\n",
      "/home/johnsonj/miniconda3/envs/jaxtftorch_cpu_py39/lib/python3.9/site-packages/xarray/core/missing.py:563: FutureWarning: Passing method to Float64Index.get_loc is deprecated and will raise in a future version. Use index.get_indexer([item], method=...) instead.\n",
      "  imax = index.get_loc(maxval, method=\"nearest\")\n",
      "/home/johnsonj/miniconda3/envs/jaxtftorch_cpu_py39/lib/python3.9/site-packages/xarray/core/missing.py:562: FutureWarning: Passing method to Float64Index.get_loc is deprecated and will raise in a future version. Use index.get_indexer([item], method=...) instead.\n",
      "  imin = index.get_loc(minval, method=\"nearest\")\n",
      "/home/johnsonj/miniconda3/envs/jaxtftorch_cpu_py39/lib/python3.9/site-packages/xarray/core/missing.py:563: FutureWarning: Passing method to Float64Index.get_loc is deprecated and will raise in a future version. Use index.get_indexer([item], method=...) instead.\n",
      "  imax = index.get_loc(maxval, method=\"nearest\")\n"
     ]
    }
   ],
   "source": [
    "ds_oi = postprocess_data(df_grid, args)"
   ]
  },
  {
   "cell_type": "code",
   "execution_count": 37,
   "id": "974dab93-a32b-4fa7-82f8-dc6fcffbc68a",
   "metadata": {},
   "outputs": [
    {
     "data": {
      "text/html": [
       "<div><svg style=\"position: absolute; width: 0; height: 0; overflow: hidden\">\n",
       "<defs>\n",
       "<symbol id=\"icon-database\" viewBox=\"0 0 32 32\">\n",
       "<path d=\"M16 0c-8.837 0-16 2.239-16 5v4c0 2.761 7.163 5 16 5s16-2.239 16-5v-4c0-2.761-7.163-5-16-5z\"></path>\n",
       "<path d=\"M16 17c-8.837 0-16-2.239-16-5v6c0 2.761 7.163 5 16 5s16-2.239 16-5v-6c0 2.761-7.163 5-16 5z\"></path>\n",
       "<path d=\"M16 26c-8.837 0-16-2.239-16-5v6c0 2.761 7.163 5 16 5s16-2.239 16-5v-6c0 2.761-7.163 5-16 5z\"></path>\n",
       "</symbol>\n",
       "<symbol id=\"icon-file-text2\" viewBox=\"0 0 32 32\">\n",
       "<path d=\"M28.681 7.159c-0.694-0.947-1.662-2.053-2.724-3.116s-2.169-2.030-3.116-2.724c-1.612-1.182-2.393-1.319-2.841-1.319h-15.5c-1.378 0-2.5 1.121-2.5 2.5v27c0 1.378 1.122 2.5 2.5 2.5h23c1.378 0 2.5-1.122 2.5-2.5v-19.5c0-0.448-0.137-1.23-1.319-2.841zM24.543 5.457c0.959 0.959 1.712 1.825 2.268 2.543h-4.811v-4.811c0.718 0.556 1.584 1.309 2.543 2.268zM28 29.5c0 0.271-0.229 0.5-0.5 0.5h-23c-0.271 0-0.5-0.229-0.5-0.5v-27c0-0.271 0.229-0.5 0.5-0.5 0 0 15.499-0 15.5 0v7c0 0.552 0.448 1 1 1h7v19.5z\"></path>\n",
       "<path d=\"M23 26h-14c-0.552 0-1-0.448-1-1s0.448-1 1-1h14c0.552 0 1 0.448 1 1s-0.448 1-1 1z\"></path>\n",
       "<path d=\"M23 22h-14c-0.552 0-1-0.448-1-1s0.448-1 1-1h14c0.552 0 1 0.448 1 1s-0.448 1-1 1z\"></path>\n",
       "<path d=\"M23 18h-14c-0.552 0-1-0.448-1-1s0.448-1 1-1h14c0.552 0 1 0.448 1 1s-0.448 1-1 1z\"></path>\n",
       "</symbol>\n",
       "</defs>\n",
       "</svg>\n",
       "<style>/* CSS stylesheet for displaying xarray objects in jupyterlab.\n",
       " *\n",
       " */\n",
       "\n",
       ":root {\n",
       "  --xr-font-color0: var(--jp-content-font-color0, rgba(0, 0, 0, 1));\n",
       "  --xr-font-color2: var(--jp-content-font-color2, rgba(0, 0, 0, 0.54));\n",
       "  --xr-font-color3: var(--jp-content-font-color3, rgba(0, 0, 0, 0.38));\n",
       "  --xr-border-color: var(--jp-border-color2, #e0e0e0);\n",
       "  --xr-disabled-color: var(--jp-layout-color3, #bdbdbd);\n",
       "  --xr-background-color: var(--jp-layout-color0, white);\n",
       "  --xr-background-color-row-even: var(--jp-layout-color1, white);\n",
       "  --xr-background-color-row-odd: var(--jp-layout-color2, #eeeeee);\n",
       "}\n",
       "\n",
       "html[theme=dark],\n",
       "body.vscode-dark {\n",
       "  --xr-font-color0: rgba(255, 255, 255, 1);\n",
       "  --xr-font-color2: rgba(255, 255, 255, 0.54);\n",
       "  --xr-font-color3: rgba(255, 255, 255, 0.38);\n",
       "  --xr-border-color: #1F1F1F;\n",
       "  --xr-disabled-color: #515151;\n",
       "  --xr-background-color: #111111;\n",
       "  --xr-background-color-row-even: #111111;\n",
       "  --xr-background-color-row-odd: #313131;\n",
       "}\n",
       "\n",
       ".xr-wrap {\n",
       "  display: block;\n",
       "  min-width: 300px;\n",
       "  max-width: 700px;\n",
       "}\n",
       "\n",
       ".xr-text-repr-fallback {\n",
       "  /* fallback to plain text repr when CSS is not injected (untrusted notebook) */\n",
       "  display: none;\n",
       "}\n",
       "\n",
       ".xr-header {\n",
       "  padding-top: 6px;\n",
       "  padding-bottom: 6px;\n",
       "  margin-bottom: 4px;\n",
       "  border-bottom: solid 1px var(--xr-border-color);\n",
       "}\n",
       "\n",
       ".xr-header > div,\n",
       ".xr-header > ul {\n",
       "  display: inline;\n",
       "  margin-top: 0;\n",
       "  margin-bottom: 0;\n",
       "}\n",
       "\n",
       ".xr-obj-type,\n",
       ".xr-array-name {\n",
       "  margin-left: 2px;\n",
       "  margin-right: 10px;\n",
       "}\n",
       "\n",
       ".xr-obj-type {\n",
       "  color: var(--xr-font-color2);\n",
       "}\n",
       "\n",
       ".xr-sections {\n",
       "  padding-left: 0 !important;\n",
       "  display: grid;\n",
       "  grid-template-columns: 150px auto auto 1fr 20px 20px;\n",
       "}\n",
       "\n",
       ".xr-section-item {\n",
       "  display: contents;\n",
       "}\n",
       "\n",
       ".xr-section-item input {\n",
       "  display: none;\n",
       "}\n",
       "\n",
       ".xr-section-item input + label {\n",
       "  color: var(--xr-disabled-color);\n",
       "}\n",
       "\n",
       ".xr-section-item input:enabled + label {\n",
       "  cursor: pointer;\n",
       "  color: var(--xr-font-color2);\n",
       "}\n",
       "\n",
       ".xr-section-item input:enabled + label:hover {\n",
       "  color: var(--xr-font-color0);\n",
       "}\n",
       "\n",
       ".xr-section-summary {\n",
       "  grid-column: 1;\n",
       "  color: var(--xr-font-color2);\n",
       "  font-weight: 500;\n",
       "}\n",
       "\n",
       ".xr-section-summary > span {\n",
       "  display: inline-block;\n",
       "  padding-left: 0.5em;\n",
       "}\n",
       "\n",
       ".xr-section-summary-in:disabled + label {\n",
       "  color: var(--xr-font-color2);\n",
       "}\n",
       "\n",
       ".xr-section-summary-in + label:before {\n",
       "  display: inline-block;\n",
       "  content: '►';\n",
       "  font-size: 11px;\n",
       "  width: 15px;\n",
       "  text-align: center;\n",
       "}\n",
       "\n",
       ".xr-section-summary-in:disabled + label:before {\n",
       "  color: var(--xr-disabled-color);\n",
       "}\n",
       "\n",
       ".xr-section-summary-in:checked + label:before {\n",
       "  content: '▼';\n",
       "}\n",
       "\n",
       ".xr-section-summary-in:checked + label > span {\n",
       "  display: none;\n",
       "}\n",
       "\n",
       ".xr-section-summary,\n",
       ".xr-section-inline-details {\n",
       "  padding-top: 4px;\n",
       "  padding-bottom: 4px;\n",
       "}\n",
       "\n",
       ".xr-section-inline-details {\n",
       "  grid-column: 2 / -1;\n",
       "}\n",
       "\n",
       ".xr-section-details {\n",
       "  display: none;\n",
       "  grid-column: 1 / -1;\n",
       "  margin-bottom: 5px;\n",
       "}\n",
       "\n",
       ".xr-section-summary-in:checked ~ .xr-section-details {\n",
       "  display: contents;\n",
       "}\n",
       "\n",
       ".xr-array-wrap {\n",
       "  grid-column: 1 / -1;\n",
       "  display: grid;\n",
       "  grid-template-columns: 20px auto;\n",
       "}\n",
       "\n",
       ".xr-array-wrap > label {\n",
       "  grid-column: 1;\n",
       "  vertical-align: top;\n",
       "}\n",
       "\n",
       ".xr-preview {\n",
       "  color: var(--xr-font-color3);\n",
       "}\n",
       "\n",
       ".xr-array-preview,\n",
       ".xr-array-data {\n",
       "  padding: 0 5px !important;\n",
       "  grid-column: 2;\n",
       "}\n",
       "\n",
       ".xr-array-data,\n",
       ".xr-array-in:checked ~ .xr-array-preview {\n",
       "  display: none;\n",
       "}\n",
       "\n",
       ".xr-array-in:checked ~ .xr-array-data,\n",
       ".xr-array-preview {\n",
       "  display: inline-block;\n",
       "}\n",
       "\n",
       ".xr-dim-list {\n",
       "  display: inline-block !important;\n",
       "  list-style: none;\n",
       "  padding: 0 !important;\n",
       "  margin: 0;\n",
       "}\n",
       "\n",
       ".xr-dim-list li {\n",
       "  display: inline-block;\n",
       "  padding: 0;\n",
       "  margin: 0;\n",
       "}\n",
       "\n",
       ".xr-dim-list:before {\n",
       "  content: '(';\n",
       "}\n",
       "\n",
       ".xr-dim-list:after {\n",
       "  content: ')';\n",
       "}\n",
       "\n",
       ".xr-dim-list li:not(:last-child):after {\n",
       "  content: ',';\n",
       "  padding-right: 5px;\n",
       "}\n",
       "\n",
       ".xr-has-index {\n",
       "  font-weight: bold;\n",
       "}\n",
       "\n",
       ".xr-var-list,\n",
       ".xr-var-item {\n",
       "  display: contents;\n",
       "}\n",
       "\n",
       ".xr-var-item > div,\n",
       ".xr-var-item label,\n",
       ".xr-var-item > .xr-var-name span {\n",
       "  background-color: var(--xr-background-color-row-even);\n",
       "  margin-bottom: 0;\n",
       "}\n",
       "\n",
       ".xr-var-item > .xr-var-name:hover span {\n",
       "  padding-right: 5px;\n",
       "}\n",
       "\n",
       ".xr-var-list > li:nth-child(odd) > div,\n",
       ".xr-var-list > li:nth-child(odd) > label,\n",
       ".xr-var-list > li:nth-child(odd) > .xr-var-name span {\n",
       "  background-color: var(--xr-background-color-row-odd);\n",
       "}\n",
       "\n",
       ".xr-var-name {\n",
       "  grid-column: 1;\n",
       "}\n",
       "\n",
       ".xr-var-dims {\n",
       "  grid-column: 2;\n",
       "}\n",
       "\n",
       ".xr-var-dtype {\n",
       "  grid-column: 3;\n",
       "  text-align: right;\n",
       "  color: var(--xr-font-color2);\n",
       "}\n",
       "\n",
       ".xr-var-preview {\n",
       "  grid-column: 4;\n",
       "}\n",
       "\n",
       ".xr-var-name,\n",
       ".xr-var-dims,\n",
       ".xr-var-dtype,\n",
       ".xr-preview,\n",
       ".xr-attrs dt {\n",
       "  white-space: nowrap;\n",
       "  overflow: hidden;\n",
       "  text-overflow: ellipsis;\n",
       "  padding-right: 10px;\n",
       "}\n",
       "\n",
       ".xr-var-name:hover,\n",
       ".xr-var-dims:hover,\n",
       ".xr-var-dtype:hover,\n",
       ".xr-attrs dt:hover {\n",
       "  overflow: visible;\n",
       "  width: auto;\n",
       "  z-index: 1;\n",
       "}\n",
       "\n",
       ".xr-var-attrs,\n",
       ".xr-var-data {\n",
       "  display: none;\n",
       "  background-color: var(--xr-background-color) !important;\n",
       "  padding-bottom: 5px !important;\n",
       "}\n",
       "\n",
       ".xr-var-attrs-in:checked ~ .xr-var-attrs,\n",
       ".xr-var-data-in:checked ~ .xr-var-data {\n",
       "  display: block;\n",
       "}\n",
       "\n",
       ".xr-var-data > table {\n",
       "  float: right;\n",
       "}\n",
       "\n",
       ".xr-var-name span,\n",
       ".xr-var-data,\n",
       ".xr-attrs {\n",
       "  padding-left: 25px !important;\n",
       "}\n",
       "\n",
       ".xr-attrs,\n",
       ".xr-var-attrs,\n",
       ".xr-var-data {\n",
       "  grid-column: 1 / -1;\n",
       "}\n",
       "\n",
       "dl.xr-attrs {\n",
       "  padding: 0;\n",
       "  margin: 0;\n",
       "  display: grid;\n",
       "  grid-template-columns: 125px auto;\n",
       "}\n",
       "\n",
       ".xr-attrs dt,\n",
       ".xr-attrs dd {\n",
       "  padding: 0;\n",
       "  margin: 0;\n",
       "  float: left;\n",
       "  padding-right: 10px;\n",
       "  width: auto;\n",
       "}\n",
       "\n",
       ".xr-attrs dt {\n",
       "  font-weight: normal;\n",
       "  grid-column: 1;\n",
       "}\n",
       "\n",
       ".xr-attrs dt:hover span {\n",
       "  display: inline-block;\n",
       "  background: var(--xr-background-color);\n",
       "  padding-right: 10px;\n",
       "}\n",
       "\n",
       ".xr-attrs dd {\n",
       "  grid-column: 2;\n",
       "  white-space: pre-wrap;\n",
       "  word-break: break-all;\n",
       "}\n",
       "\n",
       ".xr-icon-database,\n",
       ".xr-icon-file-text2 {\n",
       "  display: inline-block;\n",
       "  vertical-align: middle;\n",
       "  width: 1em;\n",
       "  height: 1.5em !important;\n",
       "  stroke-width: 0;\n",
       "  stroke: currentColor;\n",
       "  fill: currentColor;\n",
       "}\n",
       "</style><pre class='xr-text-repr-fallback'>&lt;xarray.Dataset&gt;\n",
       "Dimensions:    (latitude: 52, longitude: 51, time: 365)\n",
       "Coordinates:\n",
       "  * latitude   (latitude) float64 33.0 33.2 33.4 33.6 ... 42.6 42.8 43.0 43.2\n",
       "  * longitude  (longitude) float64 295.0 295.2 295.4 295.6 ... 304.6 304.8 305.0\n",
       "  * time       (time) datetime64[ns] 2017-01-01 2017-01-02 ... 2017-12-31\n",
       "Data variables:\n",
       "    index      (latitude, longitude, time) int64 0 1 2 ... 967977 967978 967979\n",
       "    vtime      (latitude, longitude, time) float64 31.0 32.0 ... 394.0 395.0\n",
       "    pred       (latitude, longitude, time) float64 0.07057 0.07077 ... 0.1225\n",
       "    ssh        (latitude, longitude, time) float64 0.6702 0.6704 ... -0.05388</pre><div class='xr-wrap' hidden><div class='xr-header'><div class='xr-obj-type'>xarray.Dataset</div></div><ul class='xr-sections'><li class='xr-section-item'><input id='section-9df07eb9-dafc-495e-9132-3e46346eb46c' class='xr-section-summary-in' type='checkbox' disabled ><label for='section-9df07eb9-dafc-495e-9132-3e46346eb46c' class='xr-section-summary'  title='Expand/collapse section'>Dimensions:</label><div class='xr-section-inline-details'><ul class='xr-dim-list'><li><span class='xr-has-index'>latitude</span>: 52</li><li><span class='xr-has-index'>longitude</span>: 51</li><li><span class='xr-has-index'>time</span>: 365</li></ul></div><div class='xr-section-details'></div></li><li class='xr-section-item'><input id='section-7667427f-138d-4bb3-93be-7e9163a63851' class='xr-section-summary-in' type='checkbox'  checked><label for='section-7667427f-138d-4bb3-93be-7e9163a63851' class='xr-section-summary' >Coordinates: <span>(3)</span></label><div class='xr-section-inline-details'></div><div class='xr-section-details'><ul class='xr-var-list'><li class='xr-var-item'><div class='xr-var-name'><span class='xr-has-index'>latitude</span></div><div class='xr-var-dims'>(latitude)</div><div class='xr-var-dtype'>float64</div><div class='xr-var-preview xr-preview'>33.0 33.2 33.4 ... 42.8 43.0 43.2</div><input id='attrs-d4b4701c-2f58-4917-a2f4-9f4603bbec63' class='xr-var-attrs-in' type='checkbox' disabled><label for='attrs-d4b4701c-2f58-4917-a2f4-9f4603bbec63' title='Show/Hide attributes'><svg class='icon xr-icon-file-text2'><use xlink:href='#icon-file-text2'></use></svg></label><input id='data-4341a09d-cd2c-4466-99f6-56b644787094' class='xr-var-data-in' type='checkbox'><label for='data-4341a09d-cd2c-4466-99f6-56b644787094' title='Show/Hide data repr'><svg class='icon xr-icon-database'><use xlink:href='#icon-database'></use></svg></label><div class='xr-var-attrs'><dl class='xr-attrs'></dl></div><div class='xr-var-data'><pre>array([33. , 33.2, 33.4, 33.6, 33.8, 34. , 34.2, 34.4, 34.6, 34.8, 35. , 35.2,\n",
       "       35.4, 35.6, 35.8, 36. , 36.2, 36.4, 36.6, 36.8, 37. , 37.2, 37.4, 37.6,\n",
       "       37.8, 38. , 38.2, 38.4, 38.6, 38.8, 39. , 39.2, 39.4, 39.6, 39.8, 40. ,\n",
       "       40.2, 40.4, 40.6, 40.8, 41. , 41.2, 41.4, 41.6, 41.8, 42. , 42.2, 42.4,\n",
       "       42.6, 42.8, 43. , 43.2])</pre></div></li><li class='xr-var-item'><div class='xr-var-name'><span class='xr-has-index'>longitude</span></div><div class='xr-var-dims'>(longitude)</div><div class='xr-var-dtype'>float64</div><div class='xr-var-preview xr-preview'>295.0 295.2 295.4 ... 304.8 305.0</div><input id='attrs-4c13eee3-cc1d-48a4-a882-c3a907590193' class='xr-var-attrs-in' type='checkbox' disabled><label for='attrs-4c13eee3-cc1d-48a4-a882-c3a907590193' title='Show/Hide attributes'><svg class='icon xr-icon-file-text2'><use xlink:href='#icon-file-text2'></use></svg></label><input id='data-3cf6da2d-f8e9-42b8-9c6d-9c7774dc3aba' class='xr-var-data-in' type='checkbox'><label for='data-3cf6da2d-f8e9-42b8-9c6d-9c7774dc3aba' title='Show/Hide data repr'><svg class='icon xr-icon-database'><use xlink:href='#icon-database'></use></svg></label><div class='xr-var-attrs'><dl class='xr-attrs'></dl></div><div class='xr-var-data'><pre>array([295. , 295.2, 295.4, 295.6, 295.8, 296. , 296.2, 296.4, 296.6, 296.8,\n",
       "       297. , 297.2, 297.4, 297.6, 297.8, 298. , 298.2, 298.4, 298.6, 298.8,\n",
       "       299. , 299.2, 299.4, 299.6, 299.8, 300. , 300.2, 300.4, 300.6, 300.8,\n",
       "       301. , 301.2, 301.4, 301.6, 301.8, 302. , 302.2, 302.4, 302.6, 302.8,\n",
       "       303. , 303.2, 303.4, 303.6, 303.8, 304. , 304.2, 304.4, 304.6, 304.8,\n",
       "       305. ])</pre></div></li><li class='xr-var-item'><div class='xr-var-name'><span class='xr-has-index'>time</span></div><div class='xr-var-dims'>(time)</div><div class='xr-var-dtype'>datetime64[ns]</div><div class='xr-var-preview xr-preview'>2017-01-01 ... 2017-12-31</div><input id='attrs-359f1ebf-5523-4543-b176-149eb84226e7' class='xr-var-attrs-in' type='checkbox' disabled><label for='attrs-359f1ebf-5523-4543-b176-149eb84226e7' title='Show/Hide attributes'><svg class='icon xr-icon-file-text2'><use xlink:href='#icon-file-text2'></use></svg></label><input id='data-d734179c-2ce0-49af-89bc-72d98b69b79b' class='xr-var-data-in' type='checkbox'><label for='data-d734179c-2ce0-49af-89bc-72d98b69b79b' title='Show/Hide data repr'><svg class='icon xr-icon-database'><use xlink:href='#icon-database'></use></svg></label><div class='xr-var-attrs'><dl class='xr-attrs'></dl></div><div class='xr-var-data'><pre>array([&#x27;2017-01-01T00:00:00.000000000&#x27;, &#x27;2017-01-02T00:00:00.000000000&#x27;,\n",
       "       &#x27;2017-01-03T00:00:00.000000000&#x27;, ..., &#x27;2017-12-29T00:00:00.000000000&#x27;,\n",
       "       &#x27;2017-12-30T00:00:00.000000000&#x27;, &#x27;2017-12-31T00:00:00.000000000&#x27;],\n",
       "      dtype=&#x27;datetime64[ns]&#x27;)</pre></div></li></ul></div></li><li class='xr-section-item'><input id='section-ea45d603-c366-4e23-975b-945e9a25320b' class='xr-section-summary-in' type='checkbox'  checked><label for='section-ea45d603-c366-4e23-975b-945e9a25320b' class='xr-section-summary' >Data variables: <span>(4)</span></label><div class='xr-section-inline-details'></div><div class='xr-section-details'><ul class='xr-var-list'><li class='xr-var-item'><div class='xr-var-name'><span>index</span></div><div class='xr-var-dims'>(latitude, longitude, time)</div><div class='xr-var-dtype'>int64</div><div class='xr-var-preview xr-preview'>0 1 2 3 ... 967977 967978 967979</div><input id='attrs-d6ffd948-8ba5-4ab3-838f-786527c3d257' class='xr-var-attrs-in' type='checkbox' disabled><label for='attrs-d6ffd948-8ba5-4ab3-838f-786527c3d257' title='Show/Hide attributes'><svg class='icon xr-icon-file-text2'><use xlink:href='#icon-file-text2'></use></svg></label><input id='data-af4f1ce9-2a66-48f9-9418-29cfe56feb51' class='xr-var-data-in' type='checkbox'><label for='data-af4f1ce9-2a66-48f9-9418-29cfe56feb51' title='Show/Hide data repr'><svg class='icon xr-icon-database'><use xlink:href='#icon-database'></use></svg></label><div class='xr-var-attrs'><dl class='xr-attrs'></dl></div><div class='xr-var-data'><pre>array([[[     0,      1,      2, ...,    362,    363,    364],\n",
       "        [   365,    366,    367, ...,    727,    728,    729],\n",
       "        [   730,    731,    732, ...,   1092,   1093,   1094],\n",
       "        ...,\n",
       "        [ 17520,  17521,  17522, ...,  17882,  17883,  17884],\n",
       "        [ 17885,  17886,  17887, ...,  18247,  18248,  18249],\n",
       "        [ 18250,  18251,  18252, ...,  18612,  18613,  18614]],\n",
       "\n",
       "       [[ 18615,  18616,  18617, ...,  18977,  18978,  18979],\n",
       "        [ 18980,  18981,  18982, ...,  19342,  19343,  19344],\n",
       "        [ 19345,  19346,  19347, ...,  19707,  19708,  19709],\n",
       "        ...,\n",
       "        [ 36135,  36136,  36137, ...,  36497,  36498,  36499],\n",
       "        [ 36500,  36501,  36502, ...,  36862,  36863,  36864],\n",
       "        [ 36865,  36866,  36867, ...,  37227,  37228,  37229]],\n",
       "\n",
       "       [[ 37230,  37231,  37232, ...,  37592,  37593,  37594],\n",
       "        [ 37595,  37596,  37597, ...,  37957,  37958,  37959],\n",
       "        [ 37960,  37961,  37962, ...,  38322,  38323,  38324],\n",
       "        ...,\n",
       "...\n",
       "        ...,\n",
       "        [929655, 929656, 929657, ..., 930017, 930018, 930019],\n",
       "        [930020, 930021, 930022, ..., 930382, 930383, 930384],\n",
       "        [930385, 930386, 930387, ..., 930747, 930748, 930749]],\n",
       "\n",
       "       [[930750, 930751, 930752, ..., 931112, 931113, 931114],\n",
       "        [931115, 931116, 931117, ..., 931477, 931478, 931479],\n",
       "        [931480, 931481, 931482, ..., 931842, 931843, 931844],\n",
       "        ...,\n",
       "        [948270, 948271, 948272, ..., 948632, 948633, 948634],\n",
       "        [948635, 948636, 948637, ..., 948997, 948998, 948999],\n",
       "        [949000, 949001, 949002, ..., 949362, 949363, 949364]],\n",
       "\n",
       "       [[949365, 949366, 949367, ..., 949727, 949728, 949729],\n",
       "        [949730, 949731, 949732, ..., 950092, 950093, 950094],\n",
       "        [950095, 950096, 950097, ..., 950457, 950458, 950459],\n",
       "        ...,\n",
       "        [966885, 966886, 966887, ..., 967247, 967248, 967249],\n",
       "        [967250, 967251, 967252, ..., 967612, 967613, 967614],\n",
       "        [967615, 967616, 967617, ..., 967977, 967978, 967979]]])</pre></div></li><li class='xr-var-item'><div class='xr-var-name'><span>vtime</span></div><div class='xr-var-dims'>(latitude, longitude, time)</div><div class='xr-var-dtype'>float64</div><div class='xr-var-preview xr-preview'>31.0 32.0 33.0 ... 394.0 395.0</div><input id='attrs-1f9ec47a-bb9e-418a-bc37-fc60ad3b4e91' class='xr-var-attrs-in' type='checkbox' disabled><label for='attrs-1f9ec47a-bb9e-418a-bc37-fc60ad3b4e91' title='Show/Hide attributes'><svg class='icon xr-icon-file-text2'><use xlink:href='#icon-file-text2'></use></svg></label><input id='data-415df071-7371-4a04-9462-a5cc593e13ed' class='xr-var-data-in' type='checkbox'><label for='data-415df071-7371-4a04-9462-a5cc593e13ed' title='Show/Hide data repr'><svg class='icon xr-icon-database'><use xlink:href='#icon-database'></use></svg></label><div class='xr-var-attrs'><dl class='xr-attrs'></dl></div><div class='xr-var-data'><pre>array([[[ 31.,  32.,  33., ..., 393., 394., 395.],\n",
       "        [ 31.,  32.,  33., ..., 393., 394., 395.],\n",
       "        [ 31.,  32.,  33., ..., 393., 394., 395.],\n",
       "        ...,\n",
       "        [ 31.,  32.,  33., ..., 393., 394., 395.],\n",
       "        [ 31.,  32.,  33., ..., 393., 394., 395.],\n",
       "        [ 31.,  32.,  33., ..., 393., 394., 395.]],\n",
       "\n",
       "       [[ 31.,  32.,  33., ..., 393., 394., 395.],\n",
       "        [ 31.,  32.,  33., ..., 393., 394., 395.],\n",
       "        [ 31.,  32.,  33., ..., 393., 394., 395.],\n",
       "        ...,\n",
       "        [ 31.,  32.,  33., ..., 393., 394., 395.],\n",
       "        [ 31.,  32.,  33., ..., 393., 394., 395.],\n",
       "        [ 31.,  32.,  33., ..., 393., 394., 395.]],\n",
       "\n",
       "       [[ 31.,  32.,  33., ..., 393., 394., 395.],\n",
       "        [ 31.,  32.,  33., ..., 393., 394., 395.],\n",
       "        [ 31.,  32.,  33., ..., 393., 394., 395.],\n",
       "        ...,\n",
       "...\n",
       "        ...,\n",
       "        [ 31.,  32.,  33., ..., 393., 394., 395.],\n",
       "        [ 31.,  32.,  33., ..., 393., 394., 395.],\n",
       "        [ 31.,  32.,  33., ..., 393., 394., 395.]],\n",
       "\n",
       "       [[ 31.,  32.,  33., ..., 393., 394., 395.],\n",
       "        [ 31.,  32.,  33., ..., 393., 394., 395.],\n",
       "        [ 31.,  32.,  33., ..., 393., 394., 395.],\n",
       "        ...,\n",
       "        [ 31.,  32.,  33., ..., 393., 394., 395.],\n",
       "        [ 31.,  32.,  33., ..., 393., 394., 395.],\n",
       "        [ 31.,  32.,  33., ..., 393., 394., 395.]],\n",
       "\n",
       "       [[ 31.,  32.,  33., ..., 393., 394., 395.],\n",
       "        [ 31.,  32.,  33., ..., 393., 394., 395.],\n",
       "        [ 31.,  32.,  33., ..., 393., 394., 395.],\n",
       "        ...,\n",
       "        [ 31.,  32.,  33., ..., 393., 394., 395.],\n",
       "        [ 31.,  32.,  33., ..., 393., 394., 395.],\n",
       "        [ 31.,  32.,  33., ..., 393., 394., 395.]]])</pre></div></li><li class='xr-var-item'><div class='xr-var-name'><span>pred</span></div><div class='xr-var-dims'>(latitude, longitude, time)</div><div class='xr-var-dtype'>float64</div><div class='xr-var-preview xr-preview'>0.07057 0.07077 ... 0.1223 0.1225</div><input id='attrs-d3d4759c-ec47-4079-a15d-3a402bb0361f' class='xr-var-attrs-in' type='checkbox' disabled><label for='attrs-d3d4759c-ec47-4079-a15d-3a402bb0361f' title='Show/Hide attributes'><svg class='icon xr-icon-file-text2'><use xlink:href='#icon-file-text2'></use></svg></label><input id='data-55f08f96-889d-4d30-8a38-55c0d56f399b' class='xr-var-data-in' type='checkbox'><label for='data-55f08f96-889d-4d30-8a38-55c0d56f399b' title='Show/Hide data repr'><svg class='icon xr-icon-database'><use xlink:href='#icon-database'></use></svg></label><div class='xr-var-attrs'><dl class='xr-attrs'></dl></div><div class='xr-var-data'><pre>array([[[0.07057002, 0.0707686 , 0.07096718, ..., 0.14245603,\n",
       "         0.14265461, 0.14285319],\n",
       "        [0.07047711, 0.07067569, 0.07087427, ..., 0.14236312,\n",
       "         0.1425617 , 0.14276028],\n",
       "        [0.0703842 , 0.07058278, 0.07078136, ..., 0.14227021,\n",
       "         0.14246879, 0.14266737],\n",
       "        ...,\n",
       "        [0.06611041, 0.06630899, 0.06650757, ..., 0.13799643,\n",
       "         0.13819501, 0.13839359],\n",
       "        [0.06601751, 0.06621609, 0.06641467, ..., 0.13790352,\n",
       "         0.1381021 , 0.13830068],\n",
       "        [0.0659246 , 0.06612318, 0.06632176, ..., 0.13781061,\n",
       "         0.13800919, 0.13820777]],\n",
       "\n",
       "       [[0.0702613 , 0.07045988, 0.07065846, ..., 0.14214732,\n",
       "         0.1423459 , 0.14254448],\n",
       "        [0.0701684 , 0.07036698, 0.07056556, ..., 0.14205441,\n",
       "         0.14225299, 0.14245157],\n",
       "        [0.07007549, 0.07027407, 0.07047265, ..., 0.1419615 ,\n",
       "         0.14216008, 0.14235866],\n",
       "...\n",
       "        [0.05067484, 0.05087342, 0.051072  , ..., 0.12256086,\n",
       "         0.12275944, 0.12295802],\n",
       "        [0.05058193, 0.05078052, 0.0509791 , ..., 0.12246795,\n",
       "         0.12266653, 0.12286511],\n",
       "        [0.05048903, 0.05068761, 0.05088619, ..., 0.12237504,\n",
       "         0.12257362, 0.1227722 ]],\n",
       "\n",
       "       [[0.05482573, 0.05502431, 0.05522289, ..., 0.12671175,\n",
       "         0.12691033, 0.12710891],\n",
       "        [0.05473282, 0.0549314 , 0.05512999, ..., 0.12661884,\n",
       "         0.12681742, 0.127016  ],\n",
       "        [0.05463992, 0.0548385 , 0.05503708, ..., 0.12652593,\n",
       "         0.12672451, 0.12692309],\n",
       "        ...,\n",
       "        [0.05036613, 0.05056471, 0.05076329, ..., 0.12225215,\n",
       "         0.12245073, 0.12264931],\n",
       "        [0.05027322, 0.0504718 , 0.05067038, ..., 0.12215924,\n",
       "         0.12235782, 0.1225564 ],\n",
       "        [0.05018032, 0.0503789 , 0.05057748, ..., 0.12206633,\n",
       "         0.12226491, 0.12246349]]])</pre></div></li><li class='xr-var-item'><div class='xr-var-name'><span>ssh</span></div><div class='xr-var-dims'>(latitude, longitude, time)</div><div class='xr-var-dtype'>float64</div><div class='xr-var-preview xr-preview'>0.6702 0.6704 ... -0.05408 -0.05388</div><input id='attrs-dd256292-72fa-40e2-aa20-26b4eb7877c9' class='xr-var-attrs-in' type='checkbox' disabled><label for='attrs-dd256292-72fa-40e2-aa20-26b4eb7877c9' title='Show/Hide attributes'><svg class='icon xr-icon-file-text2'><use xlink:href='#icon-file-text2'></use></svg></label><input id='data-9cd32599-2e96-4dc9-9ae8-d32dc0ea24a6' class='xr-var-data-in' type='checkbox'><label for='data-9cd32599-2e96-4dc9-9ae8-d32dc0ea24a6' title='Show/Hide data repr'><svg class='icon xr-icon-database'><use xlink:href='#icon-database'></use></svg></label><div class='xr-var-attrs'><dl class='xr-attrs'></dl></div><div class='xr-var-data'><pre>array([[[ 0.67024938,  0.67044796,  0.67064654, ...,  0.7421354 ,\n",
       "          0.74233398,  0.74253256],\n",
       "        [ 0.66945908,  0.66965766,  0.66985624, ...,  0.7413451 ,\n",
       "          0.74154368,  0.74174226],\n",
       "        [ 0.66994404,  0.67014262,  0.6703412 , ...,  0.74183006,\n",
       "          0.74202864,  0.74222722],\n",
       "        ...,\n",
       "        [ 0.60358128,  0.60377986,  0.60397844, ...,  0.6754673 ,\n",
       "          0.67566588,  0.67586446],\n",
       "        [ 0.60196371,  0.60216229,  0.60236087, ...,  0.67384972,\n",
       "          0.6740483 ,  0.67424689],\n",
       "        [ 0.60074731,  0.60094589,  0.60114447, ...,  0.67263333,\n",
       "          0.67283191,  0.67303049]],\n",
       "\n",
       "       [[ 0.67305094,  0.67324952,  0.6734481 , ...,  0.74493696,\n",
       "          0.74513554,  0.74533412],\n",
       "        [ 0.67117976,  0.67137834,  0.67157692, ...,  0.74306578,\n",
       "          0.74326436,  0.74346294],\n",
       "        [ 0.67052265,  0.67072123,  0.67091981, ...,  0.74240867,\n",
       "          0.74260725,  0.74280583],\n",
       "...\n",
       "        [-0.12276285, -0.12256427, -0.12236569, ..., -0.05087683,\n",
       "         -0.05067825, -0.05047967],\n",
       "        [-0.12147494, -0.12127636, -0.12107778, ..., -0.04958892,\n",
       "         -0.04939034, -0.04919176],\n",
       "        [-0.12096509, -0.12076651, -0.12056793, ..., -0.04907908,\n",
       "         -0.0488805 , -0.04868192]],\n",
       "\n",
       "       [[-0.04588709, -0.04568851, -0.04548993, ...,  0.02599893,\n",
       "          0.02619751,  0.02639609],\n",
       "        [-0.04576841, -0.04556983, -0.04537125, ...,  0.02611761,\n",
       "          0.02631619,  0.02651477],\n",
       "        [-0.04705361, -0.04685503, -0.04665645, ...,  0.0248324 ,\n",
       "          0.02503098,  0.02522956],\n",
       "        ...,\n",
       "        [-0.12669659, -0.12649801, -0.12629943, ..., -0.05481058,\n",
       "         -0.054612  , -0.05441342],\n",
       "        [-0.12598771, -0.12578913, -0.12559055, ..., -0.0541017 ,\n",
       "         -0.05390312, -0.05370454],\n",
       "        [-0.12616039, -0.12596181, -0.12576323, ..., -0.05427437,\n",
       "         -0.05407579, -0.05387721]]])</pre></div></li></ul></div></li><li class='xr-section-item'><input id='section-d1595193-83e5-4097-aad9-b6a92a8d60a6' class='xr-section-summary-in' type='checkbox' disabled ><label for='section-d1595193-83e5-4097-aad9-b6a92a8d60a6' class='xr-section-summary'  title='Expand/collapse section'>Attributes: <span>(0)</span></label><div class='xr-section-inline-details'></div><div class='xr-section-details'><dl class='xr-attrs'></dl></div></li></ul></div></div>"
      ],
      "text/plain": [
       "<xarray.Dataset>\n",
       "Dimensions:    (latitude: 52, longitude: 51, time: 365)\n",
       "Coordinates:\n",
       "  * latitude   (latitude) float64 33.0 33.2 33.4 33.6 ... 42.6 42.8 43.0 43.2\n",
       "  * longitude  (longitude) float64 295.0 295.2 295.4 295.6 ... 304.6 304.8 305.0\n",
       "  * time       (time) datetime64[ns] 2017-01-01 2017-01-02 ... 2017-12-31\n",
       "Data variables:\n",
       "    index      (latitude, longitude, time) int64 0 1 2 ... 967977 967978 967979\n",
       "    vtime      (latitude, longitude, time) float64 31.0 32.0 ... 394.0 395.0\n",
       "    pred       (latitude, longitude, time) float64 0.07057 0.07077 ... 0.1225\n",
       "    ssh        (latitude, longitude, time) float64 0.6702 0.6704 ... -0.05388"
      ]
     },
     "execution_count": 37,
     "metadata": {},
     "output_type": "execute_result"
    }
   ],
   "source": [
    "ds_oi"
   ]
  },
  {
   "cell_type": "code",
   "execution_count": 38,
   "id": "f0779492-1be0-48fc-a10b-413666ad305d",
   "metadata": {},
   "outputs": [
    {
     "name": "stdout",
     "output_type": "stream",
     "text": [
      "RMSE (Mean): 0.266\n",
      "RMSE (Std): 0.078\n",
      "NRMSE (Mean): 0.564\n",
      "NRMSE (Std): 0.174\n",
      "CPU times: user 436 ms, sys: 32 ms, total: 468 ms\n",
      "Wall time: 630 ms\n"
     ]
    }
   ],
   "source": [
    "%%time\n",
    "\n",
    "rmse_metrics = get_rmse_metrics(ds_oi, args)\n",
    "\n",
    "wandb.log(\n",
    "    {\n",
    "        \"model_rmse_mean\": rmse_metrics[0],\n",
    "        \"model_rmse_std\": rmse_metrics[1],\n",
    "        \"model_nrmse_mean\": rmse_metrics[2],\n",
    "        \"model_nrmse_std\": rmse_metrics[3],\n",
    "    }\n",
    ")\n",
    "print(rmse_metrics)"
   ]
  },
  {
   "cell_type": "code",
   "execution_count": 39,
   "id": "07446478-0947-46d3-9c92-f2d609be69ed",
   "metadata": {},
   "outputs": [],
   "source": [
    "psd_metrics = get_psd_metrics(ds_oi, args)"
   ]
  },
  {
   "cell_type": "code",
   "execution_count": 40,
   "id": "50d92c91-80b7-431c-8fd9-d3656949883b",
   "metadata": {},
   "outputs": [
    {
     "name": "stdout",
     "output_type": "stream",
     "text": [
      "Resolved Scale: 572909062560892.375 (km)\n"
     ]
    }
   ],
   "source": [
    "print(psd_metrics)"
   ]
  },
  {
   "cell_type": "markdown",
   "id": "bd079855-f082-4097-94d5-d5d13d9a31df",
   "metadata": {},
   "source": [
    "### Figures"
   ]
  },
  {
   "cell_type": "code",
   "execution_count": 41,
   "id": "9dd9f802-4cc7-4458-8ce7-ffc63fbab688",
   "metadata": {},
   "outputs": [
    {
     "data": {
      "image/png": "[encoded data removed]",
      "text/plain": [
       "<Figure size 504x360 with 1 Axes>"
      ]
     },
     "metadata": {
      "needs_background": "light"
     },
     "output_type": "display_data"
    }
   ],
   "source": [
    "fig, ax = plot_psd_spectrum(\n",
    "    psd_metrics.psd_study, \n",
    "    psd_metrics.psd_ref, \n",
    "    psd_metrics.wavenumber\n",
    ")\n",
    "\n",
    "\n",
    "wandb.log(\n",
    "    {\n",
    "        \"model_psd_spectrum\": wandb.Image(fig),\n",
    "    }\n",
    ")"
   ]
  },
  {
   "cell_type": "code",
   "execution_count": 42,
   "id": "230a6088-eeb1-4ab3-8031-a2d267b1cdb6",
   "metadata": {},
   "outputs": [
    {
     "data": {
      "image/png": "[encoded data removed]",
      "text/plain": [
       "<Figure size 504x360 with 1 Axes>"
      ]
     },
     "metadata": {
      "needs_background": "light"
     },
     "output_type": "display_data"
    }
   ],
   "source": [
    "fig, ax = plot_psd_score(\n",
    "    psd_metrics.psd_diff, \n",
    "    psd_metrics.psd_ref, \n",
    "    psd_metrics.wavenumber, \n",
    "    psd_metrics.resolved_scale)\n",
    "\n",
    "wandb.log(\n",
    "    {\n",
    "        \"model_psd_score\": wandb.Image(fig),\n",
    "    }\n",
    ")"
   ]
  },
  {
   "cell_type": "markdown",
   "id": "4a2bd7b7-dcb5-4536-b326-cc679b9a8300",
   "metadata": {},
   "source": [
    "### Movies"
   ]
  },
  {
   "cell_type": "code",
   "execution_count": 31,
   "id": "e5998a5e-152a-47b0-8e35-f364e630bcab",
   "metadata": {},
   "outputs": [],
   "source": [
    "save_path = wandb.run.dir #Path(root).joinpath(\"experiments/dc_2021b\")"
   ]
  },
  {
   "cell_type": "code",
   "execution_count": 1,
   "id": "53bd7812-1373-4566-8802-a57bd37e9fd8",
   "metadata": {},
   "outputs": [],
   "source": [
    "# import hvplot.xarray\n",
    "\n",
    "\n",
    "# ds_oi.ssh.hvplot.image(\n",
    "#     x=\"longitude\",\n",
    "#     y=\"latitude\",\n",
    "#     # groupby='time',\n",
    "#     # rasterize=True, \n",
    "#     width=500, height=400, cmap=\"viridis\")"
   ]
  },
  {
   "cell_type": "code",
   "execution_count": 33,
   "id": "98f0bcf3-7732-44bd-b30a-48e6612325af",
   "metadata": {},
   "outputs": [],
   "source": [
    "# if args.smoke_test:\n",
    "#     create_movie(ds_oi.ssh.isel(time=slice(50,60)), f\"pred\", \"time\", cmap=\"viridis\", file_path=save_path)\n",
    "# else:\n",
    "#     create_movie(ds_oi.ssh, f\"pred\", \"time\", cmap=\"viridis\", file_path=save_path)\n"
   ]
  },
  {
   "cell_type": "code",
   "execution_count": 34,
   "id": "4292fd48-f99a-4a12-9ba2-35b9f32c403e",
   "metadata": {},
   "outputs": [],
   "source": [
    "# wandb.log(\n",
    "#     {\n",
    "#         \"predictions_gif\": wandb.Image(f\"{save_path}/movie_pred.gif\"),\n",
    "#     }\n",
    "# )"
   ]
  },
  {
   "cell_type": "code",
   "execution_count": 35,
   "id": "1623b13a-a17e-4c03-a168-4352e2417148",
   "metadata": {},
   "outputs": [
    {
     "data": {
      "text/plain": [
       "'/tmp/movie_pred.gif'"
      ]
     },
     "execution_count": 35,
     "metadata": {},
     "output_type": "execute_result"
    }
   ],
   "source": [
    "f\"{save_path}/movie_pred.gif\""
   ]
  },
  {
   "cell_type": "markdown",
   "id": "038a0383-f89e-4704-b9ba-f552ee40a519",
   "metadata": {},
   "source": [
    "![](/tmp/movie_pred.gif)"
   ]
  },
  {
   "cell_type": "markdown",
   "id": "3f7cdb4b-468b-4f37-992b-6403056a2ba9",
   "metadata": {},
   "source": [
    "### Gradients"
   ]
  },
  {
   "cell_type": "code",
   "execution_count": 36,
   "id": "22e7dfb4-8f7c-4cbe-8989-e9e64eab9453",
   "metadata": {},
   "outputs": [],
   "source": [
    "ds_oi[\"ssh_grad\"] = calculate_gradient(ds_oi[\"ssh\"], \"longitude\", \"latitude\")"
   ]
  },
  {
   "cell_type": "code",
   "execution_count": 37,
   "id": "579a630e-6ecc-4048-9ee2-132302dd9a7f",
   "metadata": {},
   "outputs": [
    {
     "data": {},
     "metadata": {},
     "output_type": "display_data"
    },
    {
     "data": {
      "application/vnd.holoviews_exec.v0+json": "",
      "text/html": [
       "<div id='1174'>\n",
       "  <div class=\"bk-root\" id=\"566e7672-b242-4b22-bb52-f603f931b404\" data-root-id=\"1174\"></div>\n",
       "</div>\n",
       "<script type=\"application/javascript\">(function(root) {\n",
       "  function embed_document(root) {\n",
       "    var docs_json = {\"361f760c-76f9-4c30-a6b1-f5d5ec4f4b9d\":{\"defs\":[{\"extends\":null,\"module\":null,\"name\":\"ReactiveHTML1\",\"overrides\":[],\"properties\":[]},{\"extends\":null,\"module\":null,\"name\":\"FlexBox1\",\"overrides\":[],\"properties\":[{\"default\":\"flex-start\",\"kind\":null,\"name\":\"align_content\"},{\"default\":\"flex-start\",\"kind\":null,\"name\":\"align_items\"},{\"default\":\"row\",\"kind\":null,\"name\":\"flex_direction\"},{\"default\":\"wrap\",\"kind\":null,\"name\":\"flex_wrap\"},{\"default\":\"flex-start\",\"kind\":null,\"name\":\"justify_content\"}]},{\"extends\":null,\"module\":null,\"name\":\"GridStack1\",\"overrides\":[],\"properties\":[{\"default\":\"warn\",\"kind\":null,\"name\":\"mode\"},{\"default\":null,\"kind\":null,\"name\":\"ncols\"},{\"default\":null,\"kind\":null,\"name\":\"nrows\"},{\"default\":true,\"kind\":null,\"name\":\"allow_resize\"},{\"default\":true,\"kind\":null,\"name\":\"allow_drag\"},{\"default\":[],\"kind\":null,\"name\":\"state\"}]},{\"extends\":null,\"module\":null,\"name\":\"click1\",\"overrides\":[],\"properties\":[{\"default\":\"\",\"kind\":null,\"name\":\"terminal_output\"},{\"default\":\"\",\"kind\":null,\"name\":\"debug_name\"},{\"default\":0,\"kind\":null,\"name\":\"clears\"}]},{\"extends\":null,\"module\":null,\"name\":\"NotificationAreaBase1\",\"overrides\":[],\"properties\":[{\"default\":\"bottom-right\",\"kind\":null,\"name\":\"position\"},{\"default\":0,\"kind\":null,\"name\":\"_clear\"}]},{\"extends\":null,\"module\":null,\"name\":\"NotificationArea1\",\"overrides\":[],\"properties\":[{\"default\":[],\"kind\":null,\"name\":\"notifications\"},{\"default\":\"bottom-right\",\"kind\":null,\"name\":\"position\"},{\"default\":0,\"kind\":null,\"name\":\"_clear\"},{\"default\":[{\"background\":\"#ffc107\",\"icon\":{\"className\":\"fas fa-exclamation-triangle\",\"color\":\"white\",\"tagName\":\"i\"},\"type\":\"warning\"},{\"background\":\"#007bff\",\"icon\":{\"className\":\"fas fa-info-circle\",\"color\":\"white\",\"tagName\":\"i\"},\"type\":\"info\"}],\"kind\":null,\"name\":\"types\"}]},{\"extends\":null,\"module\":null,\"name\":\"Notification\",\"overrides\":[],\"properties\":[{\"default\":null,\"kind\":null,\"name\":\"background\"},{\"default\":3000,\"kind\":null,\"name\":\"duration\"},{\"default\":null,\"kind\":null,\"name\":\"icon\"},{\"default\":\"\",\"kind\":null,\"name\":\"message\"},{\"default\":null,\"kind\":null,\"name\":\"notification_type\"},{\"default\":false,\"kind\":null,\"name\":\"_destroyed\"}]},{\"extends\":null,\"module\":null,\"name\":\"TemplateActions1\",\"overrides\":[],\"properties\":[{\"default\":0,\"kind\":null,\"name\":\"open_modal\"},{\"default\":0,\"kind\":null,\"name\":\"close_modal\"}]},{\"extends\":null,\"module\":null,\"name\":\"MaterialTemplateActions1\",\"overrides\":[],\"properties\":[{\"default\":0,\"kind\":null,\"name\":\"open_modal\"},{\"default\":0,\"kind\":null,\"name\":\"close_modal\"}]}],\"roots\":{\"references\":[{\"attributes\":{},\"id\":\"1221\",\"type\":\"BasicTicker\"},{\"attributes\":{\"axis_label\":\"latitude\",\"coordinates\":null,\"formatter\":{\"id\":\"1229\"},\"group\":null,\"major_label_policy\":{\"id\":\"1230\"},\"ticker\":{\"id\":\"1193\"}},\"id\":\"1192\",\"type\":\"LinearAxis\"},{\"attributes\":{\"high\":0.2283663860990078,\"low\":1.0441147472249638e-06,\"nan_color\":\"rgba(0, 0, 0, 0)\",\"palette\":[\"#5e4fa2\",\"#5c51a3\",\"#5a53a4\",\"#5855a5\",\"#5757a6\",\"#555aa7\",\"#535ca8\",\"#515ea9\",\"#5060aa\",\"#4e63ab\",\"#4c65ac\",\"#4b67ad\",\"#4969ae\",\"#476caf\",\"#456eb0\",\"#4470b1\",\"#4272b2\",\"#4075b4\",\"#3e77b5\",\"#3d79b6\",\"#3b7bb7\",\"#397db8\",\"#3880b9\",\"#3682ba\",\"#3484bb\",\"#3286bc\",\"#3389bc\",\"#358bbb\",\"#378dba\",\"#398fb9\",\"#3b92b8\",\"#3d94b7\",\"#3f96b6\",\"#4199b5\",\"#439bb5\",\"#459db4\",\"#479fb3\",\"#49a2b2\",\"#4ba4b1\",\"#4da6b0\",\"#4fa8af\",\"#51abae\",\"#53adad\",\"#55afac\",\"#57b2ab\",\"#59b4aa\",\"#5bb6a9\",\"#5db8a8\",\"#5fbba7\",\"#61bda6\",\"#63bfa5\",\"#66c2a5\",\"#68c3a4\",\"#6bc4a4\",\"#6ec5a4\",\"#70c6a4\",\"#73c7a4\",\"#76c8a4\",\"#78c9a4\",\"#7bcaa4\",\"#7ecba4\",\"#81cca4\",\"#83cda4\",\"#86cea4\",\"#89cfa4\",\"#8bd0a4\",\"#8ed1a4\",\"#91d2a4\",\"#94d4a4\",\"#96d5a4\",\"#99d6a4\",\"#9cd7a4\",\"#9ed8a4\",\"#a1d9a4\",\"#a4daa4\",\"#a6dba4\",\"#a9dca4\",\"#acdda3\",\"#aedea3\",\"#b0dfa2\",\"#b3e0a2\",\"#b5e1a1\",\"#b7e2a1\",\"#bae3a0\",\"#bce4a0\",\"#bee5a0\",\"#c0e59f\",\"#c3e69f\",\"#c5e79e\",\"#c7e89e\",\"#cae99d\",\"#ccea9d\",\"#ceeb9c\",\"#d1ec9c\",\"#d3ed9b\",\"#d5ee9b\",\"#d8ef9a\",\"#daf09a\",\"#dcf199\",\"#dff299\",\"#e1f398\",\"#e3f498\",\"#e6f598\",\"#e6f599\",\"#e7f59b\",\"#e8f69c\",\"#e9f69e\",\"#eaf69f\",\"#ebf7a1\",\"#ecf7a2\",\"#edf8a4\",\"#eef8a5\",\"#eff8a7\",\"#f0f9a8\",\"#f1f9aa\",\"#f2faab\",\"#f3faad\",\"#f4faae\",\"#f5fbb0\",\"#f6fbb2\",\"#f7fcb3\",\"#f8fcb5\",\"#f9fcb6\",\"#fafdb8\",\"#fbfdb9\",\"#fcfebb\",\"#fdfebc\",\"#fefebe\",\"#fefebd\",\"#fefdbb\",\"#fefbb9\",\"#fefab7\",\"#fef9b5\",\"#fef8b3\",\"#fef7b1\",\"#fef5af\",\"#fef4ad\",\"#fef3ab\",\"#fef2a9\",\"#fef1a7\",\"#feefa5\",\"#feeea3\",\"#feeda1\",\"#feec9f\",\"#feea9d\",\"#fee99b\",\"#fee899\",\"#fee797\",\"#fee695\",\"#fee493\",\"#fee391\",\"#fee28f\",\"#fee18d\",\"#fee08b\",\"#fdde89\",\"#fddc87\",\"#fdda86\",\"#fdd884\",\"#fdd682\",\"#fdd481\",\"#fdd27f\",\"#fdd07d\",\"#fdce7c\",\"#fdcc7a\",\"#fdca78\",\"#fdc877\",\"#fdc675\",\"#fdc473\",\"#fdc272\",\"#fdc070\",\"#fdbe6f\",\"#fdbc6d\",\"#fdba6b\",\"#fdb86a\",\"#fdb668\",\"#fdb466\",\"#fdb265\",\"#fdb063\",\"#fdae61\",\"#fcac60\",\"#fcaa5f\",\"#fca75e\",\"#fba55c\",\"#fba25b\",\"#fb9f5a\",\"#fa9d59\",\"#fa9a58\",\"#fa9857\",\"#f99555\",\"#f99354\",\"#f89053\",\"#f88e52\",\"#f88b51\",\"#f7894f\",\"#f7864e\",\"#f7834d\",\"#f6814c\",\"#f67e4b\",\"#f67c4a\",\"#f57948\",\"#f57747\",\"#f57446\",\"#f47245\",\"#f46f44\",\"#f46d43\",\"#f26b43\",\"#f16943\",\"#f06744\",\"#ef6544\",\"#ed6345\",\"#ec6145\",\"#eb6046\",\"#ea5e46\",\"#e95c47\",\"#e75a47\",\"#e65848\",\"#e55648\",\"#e45549\",\"#e25349\",\"#e1514a\",\"#e04f4a\",\"#df4d4b\",\"#de4b4b\",\"#dc494b\",\"#db484c\",\"#da464c\",\"#d9444d\",\"#d8424d\",\"#d6404e\",\"#d53e4e\",\"#d33c4e\",\"#d13a4e\",\"#cf384d\",\"#cd354d\",\"#cb334c\",\"#c9304c\",\"#c62e4b\",\"#c42c4b\",\"#c2294a\",\"#c0274a\",\"#be2449\",\"#bc2249\",\"#ba2048\",\"#b71d48\",\"#b51b47\",\"#b31847\",\"#b11646\",\"#af1446\",\"#ad1145\",\"#aa0f45\",\"#a80c44\",\"#a60a44\",\"#a40843\",\"#a20543\",\"#a00342\",\"#9e0142\"]},\"id\":\"1209\",\"type\":\"LinearColorMapper\"},{\"attributes\":{\"axis\":{\"id\":\"1188\"},\"coordinates\":null,\"grid_line_color\":null,\"group\":null,\"ticker\":null},\"id\":\"1191\",\"type\":\"Grid\"},{\"attributes\":{\"bar_line_color\":\"black\",\"color_mapper\":{\"id\":\"1209\"},\"coordinates\":null,\"group\":null,\"label_standoff\":8,\"location\":[0,0],\"major_label_policy\":{\"id\":\"1241\"},\"major_tick_line_color\":\"black\",\"ticker\":{\"id\":\"1221\"}},\"id\":\"1222\",\"type\":\"ColorBar\"},{\"attributes\":{\"end\":43.300000000000146,\"reset_end\":43.300000000000146,\"reset_start\":32.9,\"start\":32.9,\"tags\":[[[\"latitude\",\"latitude\",null]]]},\"id\":\"1177\",\"type\":\"Range1d\"},{\"attributes\":{\"color_mapper\":{\"id\":\"1209\"},\"dh\":{\"field\":\"dh\"},\"dw\":{\"field\":\"dw\"},\"global_alpha\":{\"value\":0.2},\"image\":{\"field\":\"image\"},\"x\":{\"field\":\"x\"},\"y\":{\"field\":\"y\"}},\"id\":\"1217\",\"type\":\"Image\"},{\"attributes\":{\"client_comm_id\":\"7b586ea81e074030b350da525fbb456a\",\"comm_id\":\"42c51ecab0624283b98198000ffc2e04\",\"plot_id\":\"1174\"},\"id\":\"1290\",\"type\":\"panel.models.comm_manager.CommManager\"},{\"attributes\":{\"children\":[{\"id\":\"1250\"},{\"id\":\"1251\"},{\"id\":\"1255\"}],\"margin\":[0,0,0,0],\"name\":\"Column01862\"},\"id\":\"1249\",\"type\":\"Column\"},{\"attributes\":{\"overlay\":{\"id\":\"1201\"}},\"id\":\"1199\",\"type\":\"BoxZoomTool\"},{\"attributes\":{\"children\":[{\"id\":\"1252\"}],\"css_classes\":[\"panel-widget-box\"],\"margin\":[5,5,5,5],\"name\":\"WidgetBox01848\"},\"id\":\"1251\",\"type\":\"Column\"},{\"attributes\":{\"coordinates\":null,\"data_source\":{\"id\":\"1210\"},\"glyph\":{\"id\":\"1213\"},\"group\":null,\"hover_glyph\":null,\"muted_glyph\":{\"id\":\"1217\"},\"nonselection_glyph\":{\"id\":\"1215\"},\"selection_glyph\":{\"id\":\"1223\"},\"view\":{\"id\":\"1220\"}},\"id\":\"1219\",\"type\":\"GlyphRenderer\"},{\"attributes\":{\"margin\":[5,5,5,5],\"name\":\"VSpacer01860\",\"sizing_mode\":\"stretch_height\"},\"id\":\"1250\",\"type\":\"Spacer\"},{\"attributes\":{},\"id\":\"1189\",\"type\":\"BasicTicker\"},{\"attributes\":{\"axis\":{\"id\":\"1192\"},\"coordinates\":null,\"dimension\":1,\"grid_line_color\":null,\"group\":null,\"ticker\":null},\"id\":\"1195\",\"type\":\"Grid\"},{\"attributes\":{\"data\":{\"dh\":[10.400000000000148],\"dw\":[10.199999999999477],\"image\":[{\"__ndarray__\":\"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\",\"dtype\":\"float64\",\"order\":\"little\",\"shape\":[52,51]}],\"x\":[294.9],\"y\":[32.9]},\"selected\":{\"id\":\"1211\"},\"selection_policy\":{\"id\":\"1245\"}},\"id\":\"1210\",\"type\":\"ColumnDataSource\"},{\"attributes\":{},\"id\":\"1186\",\"type\":\"LinearScale\"},{\"attributes\":{\"margin\":[5,5,5,5],\"name\":\"VSpacer01861\",\"sizing_mode\":\"stretch_height\"},\"id\":\"1255\",\"type\":\"Spacer\"},{\"attributes\":{\"source\":{\"id\":\"1210\"}},\"id\":\"1220\",\"type\":\"CDSView\"},{\"attributes\":{},\"id\":\"1193\",\"type\":\"BasicTicker\"},{\"attributes\":{\"margin\":[20,0,0,20],\"name\":\"\",\"style\":{\"white-space\":\"nowrap\"},\"text\":\"time: <b>2017-01-01 00:00:00</b>\",\"width\":250},\"id\":\"1253\",\"type\":\"Div\"},{\"attributes\":{\"color_mapper\":{\"id\":\"1209\"},\"dh\":{\"field\":\"dh\"},\"dw\":{\"field\":\"dw\"},\"global_alpha\":{\"value\":1.0},\"image\":{\"field\":\"image\"},\"x\":{\"field\":\"x\"},\"y\":{\"field\":\"y\"}},\"id\":\"1223\",\"type\":\"Image\"},{\"attributes\":{\"callback\":null,\"renderers\":[{\"id\":\"1219\"}],\"tags\":[\"hv_created\"],\"tooltips\":[[\"longitude\",\"$x\"],[\"latitude\",\"$y\"],[\"ssh_grad\",\"@image\"]]},\"id\":\"1178\",\"type\":\"HoverTool\"},{\"attributes\":{\"children\":[{\"id\":\"1253\"},{\"id\":\"1254\"}],\"margin\":[0,0,0,0],\"min_width\":290,\"name\":\"Column01857\",\"width\":290},\"id\":\"1252\",\"type\":\"Column\"},{\"attributes\":{},\"id\":\"1227\",\"type\":\"AllLabels\"},{\"attributes\":{\"below\":[{\"id\":\"1188\"}],\"center\":[{\"id\":\"1191\"},{\"id\":\"1195\"}],\"height\":400,\"left\":[{\"id\":\"1192\"}],\"margin\":[5,5,5,5],\"min_border_bottom\":10,\"min_border_left\":10,\"min_border_right\":10,\"min_border_top\":10,\"renderers\":[{\"id\":\"1219\"}],\"right\":[{\"id\":\"1222\"}],\"sizing_mode\":\"fixed\",\"title\":{\"id\":\"1180\"},\"toolbar\":{\"id\":\"1202\"},\"width\":500,\"x_range\":{\"id\":\"1176\"},\"x_scale\":{\"id\":\"1184\"},\"y_range\":{\"id\":\"1177\"},\"y_scale\":{\"id\":\"1186\"}},\"id\":\"1179\",\"subtype\":\"Figure\",\"type\":\"Plot\"},{\"attributes\":{\"color_mapper\":{\"id\":\"1209\"},\"dh\":{\"field\":\"dh\"},\"dw\":{\"field\":\"dw\"},\"image\":{\"field\":\"image\"},\"x\":{\"field\":\"x\"},\"y\":{\"field\":\"y\"}},\"id\":\"1213\",\"type\":\"Image\"},{\"attributes\":{\"end\":364,\"js_property_callbacks\":{\"change:value\":[{\"id\":\"1267\"}]},\"margin\":[0,20,20,20],\"min_width\":250,\"show_value\":false,\"start\":0,\"tooltips\":false,\"value\":0,\"width\":250},\"id\":\"1254\",\"type\":\"Slider\"},{\"attributes\":{\"tools\":[{\"id\":\"1178\"},{\"id\":\"1196\"},{\"id\":\"1197\"},{\"id\":\"1198\"},{\"id\":\"1199\"},{\"id\":\"1200\"}]},\"id\":\"1202\",\"type\":\"Toolbar\"},{\"attributes\":{},\"id\":\"1198\",\"type\":\"WheelZoomTool\"},{\"attributes\":{\"args\":{\"bidirectional\":false,\"properties\":{},\"source\":{\"id\":\"1254\"},\"target\":{\"id\":\"1253\"}},\"code\":\"try { \\n    var labels = ['time: <b>2017-01-01 00:00:00</b>', 'time: <b>2017-01-02 00:00:00</b>', 'time: <b>2017-01-03 00:00:00</b>', 'time: <b>2017-01-04 00:00:00</b>', 'time: <b>2017-01-05 00:00:00</b>', 'time: <b>2017-01-06 00:00:00</b>', 'time: <b>2017-01-07 00:00:00</b>', 'time: <b>2017-01-08 00:00:00</b>', 'time: <b>2017-01-09 00:00:00</b>', 'time: <b>2017-01-10 00:00:00</b>', 'time: <b>2017-01-11 00:00:00</b>', 'time: <b>2017-01-12 00:00:00</b>', 'time: <b>2017-01-13 00:00:00</b>', 'time: <b>2017-01-14 00:00:00</b>', 'time: <b>2017-01-15 00:00:00</b>', 'time: <b>2017-01-16 00:00:00</b>', 'time: <b>2017-01-17 00:00:00</b>', 'time: <b>2017-01-18 00:00:00</b>', 'time: <b>2017-01-19 00:00:00</b>', 'time: <b>2017-01-20 00:00:00</b>', 'time: <b>2017-01-21 00:00:00</b>', 'time: <b>2017-01-22 00:00:00</b>', 'time: <b>2017-01-23 00:00:00</b>', 'time: <b>2017-01-24 00:00:00</b>', 'time: <b>2017-01-25 00:00:00</b>', 'time: <b>2017-01-26 00:00:00</b>', 'time: <b>2017-01-27 00:00:00</b>', 'time: <b>2017-01-28 00:00:00</b>', 'time: <b>2017-01-29 00:00:00</b>', 'time: <b>2017-01-30 00:00:00</b>', 'time: <b>2017-01-31 00:00:00</b>', 'time: <b>2017-02-01 00:00:00</b>', 'time: <b>2017-02-02 00:00:00</b>', 'time: <b>2017-02-03 00:00:00</b>', 'time: <b>2017-02-04 00:00:00</b>', 'time: <b>2017-02-05 00:00:00</b>', 'time: <b>2017-02-06 00:00:00</b>', 'time: <b>2017-02-07 00:00:00</b>', 'time: <b>2017-02-08 00:00:00</b>', 'time: <b>2017-02-09 00:00:00</b>', 'time: <b>2017-02-10 00:00:00</b>', 'time: <b>2017-02-11 00:00:00</b>', 'time: <b>2017-02-12 00:00:00</b>', 'time: <b>2017-02-13 00:00:00</b>', 'time: <b>2017-02-14 00:00:00</b>', 'time: <b>2017-02-15 00:00:00</b>', 'time: <b>2017-02-16 00:00:00</b>', 'time: <b>2017-02-17 00:00:00</b>', 'time: <b>2017-02-18 00:00:00</b>', 'time: <b>2017-02-19 00:00:00</b>', 'time: <b>2017-02-20 00:00:00</b>', 'time: <b>2017-02-21 00:00:00</b>', 'time: <b>2017-02-22 00:00:00</b>', 'time: <b>2017-02-23 00:00:00</b>', 'time: <b>2017-02-24 00:00:00</b>', 'time: <b>2017-02-25 00:00:00</b>', 'time: <b>2017-02-26 00:00:00</b>', 'time: <b>2017-02-27 00:00:00</b>', 'time: <b>2017-02-28 00:00:00</b>', 'time: <b>2017-03-01 00:00:00</b>', 'time: <b>2017-03-02 00:00:00</b>', 'time: <b>2017-03-03 00:00:00</b>', 'time: <b>2017-03-04 00:00:00</b>', 'time: <b>2017-03-05 00:00:00</b>', 'time: <b>2017-03-06 00:00:00</b>', 'time: <b>2017-03-07 00:00:00</b>', 'time: <b>2017-03-08 00:00:00</b>', 'time: <b>2017-03-09 00:00:00</b>', 'time: <b>2017-03-10 00:00:00</b>', 'time: <b>2017-03-11 00:00:00</b>', 'time: <b>2017-03-12 00:00:00</b>', 'time: <b>2017-03-13 00:00:00</b>', 'time: <b>2017-03-14 00:00:00</b>', 'time: <b>2017-03-15 00:00:00</b>', 'time: <b>2017-03-16 00:00:00</b>', 'time: <b>2017-03-17 00:00:00</b>', 'time: <b>2017-03-18 00:00:00</b>', 'time: <b>2017-03-19 00:00:00</b>', 'time: <b>2017-03-20 00:00:00</b>', 'time: <b>2017-03-21 00:00:00</b>', 'time: <b>2017-03-22 00:00:00</b>', 'time: <b>2017-03-23 00:00:00</b>', 'time: <b>2017-03-24 00:00:00</b>', 'time: <b>2017-03-25 00:00:00</b>', 'time: <b>2017-03-26 00:00:00</b>', 'time: <b>2017-03-27 00:00:00</b>', 'time: <b>2017-03-28 00:00:00</b>', 'time: <b>2017-03-29 00:00:00</b>', 'time: <b>2017-03-30 00:00:00</b>', 'time: <b>2017-03-31 00:00:00</b>', 'time: <b>2017-04-01 00:00:00</b>', 'time: <b>2017-04-02 00:00:00</b>', 'time: <b>2017-04-03 00:00:00</b>', 'time: <b>2017-04-04 00:00:00</b>', 'time: <b>2017-04-05 00:00:00</b>', 'time: <b>2017-04-06 00:00:00</b>', 'time: <b>2017-04-07 00:00:00</b>', 'time: <b>2017-04-08 00:00:00</b>', 'time: <b>2017-04-09 00:00:00</b>', 'time: <b>2017-04-10 00:00:00</b>', 'time: <b>2017-04-11 00:00:00</b>', 'time: <b>2017-04-12 00:00:00</b>', 'time: <b>2017-04-13 00:00:00</b>', 'time: <b>2017-04-14 00:00:00</b>', 'time: <b>2017-04-15 00:00:00</b>', 'time: <b>2017-04-16 00:00:00</b>', 'time: <b>2017-04-17 00:00:00</b>', 'time: <b>2017-04-18 00:00:00</b>', 'time: <b>2017-04-19 00:00:00</b>', 'time: <b>2017-04-20 00:00:00</b>', 'time: <b>2017-04-21 00:00:00</b>', 'time: <b>2017-04-22 00:00:00</b>', 'time: <b>2017-04-23 00:00:00</b>', 'time: <b>2017-04-24 00:00:00</b>', 'time: <b>2017-04-25 00:00:00</b>', 'time: <b>2017-04-26 00:00:00</b>', 'time: <b>2017-04-27 00:00:00</b>', 'time: <b>2017-04-28 00:00:00</b>', 'time: <b>2017-04-29 00:00:00</b>', 'time: <b>2017-04-30 00:00:00</b>', 'time: <b>2017-05-01 00:00:00</b>', 'time: <b>2017-05-02 00:00:00</b>', 'time: <b>2017-05-03 00:00:00</b>', 'time: <b>2017-05-04 00:00:00</b>', 'time: <b>2017-05-05 00:00:00</b>', 'time: <b>2017-05-06 00:00:00</b>', 'time: <b>2017-05-07 00:00:00</b>', 'time: <b>2017-05-08 00:00:00</b>', 'time: <b>2017-05-09 00:00:00</b>', 'time: <b>2017-05-10 00:00:00</b>', 'time: <b>2017-05-11 00:00:00</b>', 'time: <b>2017-05-12 00:00:00</b>', 'time: <b>2017-05-13 00:00:00</b>', 'time: <b>2017-05-14 00:00:00</b>', 'time: <b>2017-05-15 00:00:00</b>', 'time: <b>2017-05-16 00:00:00</b>', 'time: <b>2017-05-17 00:00:00</b>', 'time: <b>2017-05-18 00:00:00</b>', 'time: <b>2017-05-19 00:00:00</b>', 'time: <b>2017-05-20 00:00:00</b>', 'time: <b>2017-05-21 00:00:00</b>', 'time: <b>2017-05-22 00:00:00</b>', 'time: <b>2017-05-23 00:00:00</b>', 'time: <b>2017-05-24 00:00:00</b>', 'time: <b>2017-05-25 00:00:00</b>', 'time: <b>2017-05-26 00:00:00</b>', 'time: <b>2017-05-27 00:00:00</b>', 'time: <b>2017-05-28 00:00:00</b>', 'time: <b>2017-05-29 00:00:00</b>', 'time: <b>2017-05-30 00:00:00</b>', 'time: <b>2017-05-31 00:00:00</b>', 'time: <b>2017-06-01 00:00:00</b>', 'time: <b>2017-06-02 00:00:00</b>', 'time: <b>2017-06-03 00:00:00</b>', 'time: <b>2017-06-04 00:00:00</b>', 'time: <b>2017-06-05 00:00:00</b>', 'time: <b>2017-06-06 00:00:00</b>', 'time: <b>2017-06-07 00:00:00</b>', 'time: <b>2017-06-08 00:00:00</b>', 'time: <b>2017-06-09 00:00:00</b>', 'time: <b>2017-06-10 00:00:00</b>', 'time: <b>2017-06-11 00:00:00</b>', 'time: <b>2017-06-12 00:00:00</b>', 'time: <b>2017-06-13 00:00:00</b>', 'time: <b>2017-06-14 00:00:00</b>', 'time: <b>2017-06-15 00:00:00</b>', 'time: <b>2017-06-16 00:00:00</b>', 'time: <b>2017-06-17 00:00:00</b>', 'time: <b>2017-06-18 00:00:00</b>', 'time: <b>2017-06-19 00:00:00</b>', 'time: <b>2017-06-20 00:00:00</b>', 'time: <b>2017-06-21 00:00:00</b>', 'time: <b>2017-06-22 00:00:00</b>', 'time: <b>2017-06-23 00:00:00</b>', 'time: <b>2017-06-24 00:00:00</b>', 'time: <b>2017-06-25 00:00:00</b>', 'time: <b>2017-06-26 00:00:00</b>', 'time: <b>2017-06-27 00:00:00</b>', 'time: <b>2017-06-28 00:00:00</b>', 'time: <b>2017-06-29 00:00:00</b>', 'time: <b>2017-06-30 00:00:00</b>', 'time: <b>2017-07-01 00:00:00</b>', 'time: <b>2017-07-02 00:00:00</b>', 'time: <b>2017-07-03 00:00:00</b>', 'time: <b>2017-07-04 00:00:00</b>', 'time: <b>2017-07-05 00:00:00</b>', 'time: <b>2017-07-06 00:00:00</b>', 'time: <b>2017-07-07 00:00:00</b>', 'time: <b>2017-07-08 00:00:00</b>', 'time: <b>2017-07-09 00:00:00</b>', 'time: <b>2017-07-10 00:00:00</b>', 'time: <b>2017-07-11 00:00:00</b>', 'time: <b>2017-07-12 00:00:00</b>', 'time: <b>2017-07-13 00:00:00</b>', 'time: <b>2017-07-14 00:00:00</b>', 'time: <b>2017-07-15 00:00:00</b>', 'time: <b>2017-07-16 00:00:00</b>', 'time: <b>2017-07-17 00:00:00</b>', 'time: <b>2017-07-18 00:00:00</b>', 'time: <b>2017-07-19 00:00:00</b>', 'time: <b>2017-07-20 00:00:00</b>', 'time: <b>2017-07-21 00:00:00</b>', 'time: <b>2017-07-22 00:00:00</b>', 'time: <b>2017-07-23 00:00:00</b>', 'time: <b>2017-07-24 00:00:00</b>', 'time: <b>2017-07-25 00:00:00</b>', 'time: <b>2017-07-26 00:00:00</b>', 'time: <b>2017-07-27 00:00:00</b>', 'time: <b>2017-07-28 00:00:00</b>', 'time: <b>2017-07-29 00:00:00</b>', 'time: <b>2017-07-30 00:00:00</b>', 'time: <b>2017-07-31 00:00:00</b>', 'time: <b>2017-08-01 00:00:00</b>', 'time: <b>2017-08-02 00:00:00</b>', 'time: <b>2017-08-03 00:00:00</b>', 'time: <b>2017-08-04 00:00:00</b>', 'time: <b>2017-08-05 00:00:00</b>', 'time: <b>2017-08-06 00:00:00</b>', 'time: <b>2017-08-07 00:00:00</b>', 'time: <b>2017-08-08 00:00:00</b>', 'time: <b>2017-08-09 00:00:00</b>', 'time: <b>2017-08-10 00:00:00</b>', 'time: <b>2017-08-11 00:00:00</b>', 'time: <b>2017-08-12 00:00:00</b>', 'time: <b>2017-08-13 00:00:00</b>', 'time: <b>2017-08-14 00:00:00</b>', 'time: <b>2017-08-15 00:00:00</b>', 'time: <b>2017-08-16 00:00:00</b>', 'time: <b>2017-08-17 00:00:00</b>', 'time: <b>2017-08-18 00:00:00</b>', 'time: <b>2017-08-19 00:00:00</b>', 'time: <b>2017-08-20 00:00:00</b>', 'time: <b>2017-08-21 00:00:00</b>', 'time: <b>2017-08-22 00:00:00</b>', 'time: <b>2017-08-23 00:00:00</b>', 'time: <b>2017-08-24 00:00:00</b>', 'time: <b>2017-08-25 00:00:00</b>', 'time: <b>2017-08-26 00:00:00</b>', 'time: <b>2017-08-27 00:00:00</b>', 'time: <b>2017-08-28 00:00:00</b>', 'time: <b>2017-08-29 00:00:00</b>', 'time: <b>2017-08-30 00:00:00</b>', 'time: <b>2017-08-31 00:00:00</b>', 'time: <b>2017-09-01 00:00:00</b>', 'time: <b>2017-09-02 00:00:00</b>', 'time: <b>2017-09-03 00:00:00</b>', 'time: <b>2017-09-04 00:00:00</b>', 'time: <b>2017-09-05 00:00:00</b>', 'time: <b>2017-09-06 00:00:00</b>', 'time: <b>2017-09-07 00:00:00</b>', 'time: <b>2017-09-08 00:00:00</b>', 'time: <b>2017-09-09 00:00:00</b>', 'time: <b>2017-09-10 00:00:00</b>', 'time: <b>2017-09-11 00:00:00</b>', 'time: <b>2017-09-12 00:00:00</b>', 'time: <b>2017-09-13 00:00:00</b>', 'time: <b>2017-09-14 00:00:00</b>', 'time: <b>2017-09-15 00:00:00</b>', 'time: <b>2017-09-16 00:00:00</b>', 'time: <b>2017-09-17 00:00:00</b>', 'time: <b>2017-09-18 00:00:00</b>', 'time: <b>2017-09-19 00:00:00</b>', 'time: <b>2017-09-20 00:00:00</b>', 'time: <b>2017-09-21 00:00:00</b>', 'time: <b>2017-09-22 00:00:00</b>', 'time: <b>2017-09-23 00:00:00</b>', 'time: <b>2017-09-24 00:00:00</b>', 'time: <b>2017-09-25 00:00:00</b>', 'time: <b>2017-09-26 00:00:00</b>', 'time: <b>2017-09-27 00:00:00</b>', 'time: <b>2017-09-28 00:00:00</b>', 'time: <b>2017-09-29 00:00:00</b>', 'time: <b>2017-09-30 00:00:00</b>', 'time: <b>2017-10-01 00:00:00</b>', 'time: <b>2017-10-02 00:00:00</b>', 'time: <b>2017-10-03 00:00:00</b>', 'time: <b>2017-10-04 00:00:00</b>', 'time: <b>2017-10-05 00:00:00</b>', 'time: <b>2017-10-06 00:00:00</b>', 'time: <b>2017-10-07 00:00:00</b>', 'time: <b>2017-10-08 00:00:00</b>', 'time: <b>2017-10-09 00:00:00</b>', 'time: <b>2017-10-10 00:00:00</b>', 'time: <b>2017-10-11 00:00:00</b>', 'time: <b>2017-10-12 00:00:00</b>', 'time: <b>2017-10-13 00:00:00</b>', 'time: <b>2017-10-14 00:00:00</b>', 'time: <b>2017-10-15 00:00:00</b>', 'time: <b>2017-10-16 00:00:00</b>', 'time: <b>2017-10-17 00:00:00</b>', 'time: <b>2017-10-18 00:00:00</b>', 'time: <b>2017-10-19 00:00:00</b>', 'time: <b>2017-10-20 00:00:00</b>', 'time: <b>2017-10-21 00:00:00</b>', 'time: <b>2017-10-22 00:00:00</b>', 'time: <b>2017-10-23 00:00:00</b>', 'time: <b>2017-10-24 00:00:00</b>', 'time: <b>2017-10-25 00:00:00</b>', 'time: <b>2017-10-26 00:00:00</b>', 'time: <b>2017-10-27 00:00:00</b>', 'time: <b>2017-10-28 00:00:00</b>', 'time: <b>2017-10-29 00:00:00</b>', 'time: <b>2017-10-30 00:00:00</b>', 'time: <b>2017-10-31 00:00:00</b>', 'time: <b>2017-11-01 00:00:00</b>', 'time: <b>2017-11-02 00:00:00</b>', 'time: <b>2017-11-03 00:00:00</b>', 'time: <b>2017-11-04 00:00:00</b>', 'time: <b>2017-11-05 00:00:00</b>', 'time: <b>2017-11-06 00:00:00</b>', 'time: <b>2017-11-07 00:00:00</b>', 'time: <b>2017-11-08 00:00:00</b>', 'time: <b>2017-11-09 00:00:00</b>', 'time: <b>2017-11-10 00:00:00</b>', 'time: <b>2017-11-11 00:00:00</b>', 'time: <b>2017-11-12 00:00:00</b>', 'time: <b>2017-11-13 00:00:00</b>', 'time: <b>2017-11-14 00:00:00</b>', 'time: <b>2017-11-15 00:00:00</b>', 'time: <b>2017-11-16 00:00:00</b>', 'time: <b>2017-11-17 00:00:00</b>', 'time: <b>2017-11-18 00:00:00</b>', 'time: <b>2017-11-19 00:00:00</b>', 'time: <b>2017-11-20 00:00:00</b>', 'time: <b>2017-11-21 00:00:00</b>', 'time: <b>2017-11-22 00:00:00</b>', 'time: <b>2017-11-23 00:00:00</b>', 'time: <b>2017-11-24 00:00:00</b>', 'time: <b>2017-11-25 00:00:00</b>', 'time: <b>2017-11-26 00:00:00</b>', 'time: <b>2017-11-27 00:00:00</b>', 'time: <b>2017-11-28 00:00:00</b>', 'time: <b>2017-11-29 00:00:00</b>', 'time: <b>2017-11-30 00:00:00</b>', 'time: <b>2017-12-01 00:00:00</b>', 'time: <b>2017-12-02 00:00:00</b>', 'time: <b>2017-12-03 00:00:00</b>', 'time: <b>2017-12-04 00:00:00</b>', 'time: <b>2017-12-05 00:00:00</b>', 'time: <b>2017-12-06 00:00:00</b>', 'time: <b>2017-12-07 00:00:00</b>', 'time: <b>2017-12-08 00:00:00</b>', 'time: <b>2017-12-09 00:00:00</b>', 'time: <b>2017-12-10 00:00:00</b>', 'time: <b>2017-12-11 00:00:00</b>', 'time: <b>2017-12-12 00:00:00</b>', 'time: <b>2017-12-13 00:00:00</b>', 'time: <b>2017-12-14 00:00:00</b>', 'time: <b>2017-12-15 00:00:00</b>', 'time: <b>2017-12-16 00:00:00</b>', 'time: <b>2017-12-17 00:00:00</b>', 'time: <b>2017-12-18 00:00:00</b>', 'time: <b>2017-12-19 00:00:00</b>', 'time: <b>2017-12-20 00:00:00</b>', 'time: <b>2017-12-21 00:00:00</b>', 'time: <b>2017-12-22 00:00:00</b>', 'time: <b>2017-12-23 00:00:00</b>', 'time: <b>2017-12-24 00:00:00</b>', 'time: <b>2017-12-25 00:00:00</b>', 'time: <b>2017-12-26 00:00:00</b>', 'time: <b>2017-12-27 00:00:00</b>', 'time: <b>2017-12-28 00:00:00</b>', 'time: <b>2017-12-29 00:00:00</b>', 'time: <b>2017-12-30 00:00:00</b>', 'time: <b>2017-12-31 00:00:00</b>']\\n    target.text = labels[source.value]\\n     } catch(err) { console.log(err) }\",\"tags\":[[22619271481520,[null,\"value\"],[null,null]]]},\"id\":\"1267\",\"type\":\"CustomJS\"},{\"attributes\":{},\"id\":\"1196\",\"type\":\"SaveTool\"},{\"attributes\":{},\"id\":\"1211\",\"type\":\"Selection\"},{\"attributes\":{\"margin\":[5,5,5,5],\"name\":\"HSpacer01863\",\"sizing_mode\":\"stretch_width\"},\"id\":\"1175\",\"type\":\"Spacer\"},{\"attributes\":{},\"id\":\"1200\",\"type\":\"ResetTool\"},{\"attributes\":{},\"id\":\"1230\",\"type\":\"AllLabels\"},{\"attributes\":{},\"id\":\"1184\",\"type\":\"LinearScale\"},{\"attributes\":{\"children\":[{\"id\":\"1175\"},{\"id\":\"1179\"},{\"id\":\"1248\"},{\"id\":\"1249\"}],\"margin\":[0,0,0,0],\"name\":\"Row01847\"},\"id\":\"1174\",\"type\":\"Row\"},{\"attributes\":{},\"id\":\"1241\",\"type\":\"NoOverlap\"},{\"attributes\":{},\"id\":\"1226\",\"type\":\"BasicTickFormatter\"},{\"attributes\":{\"coordinates\":null,\"group\":null,\"text\":\"time: 2017-01-01 00:00:00\",\"text_color\":\"black\",\"text_font_size\":\"12pt\"},\"id\":\"1180\",\"type\":\"Title\"},{\"attributes\":{\"margin\":[5,5,5,5],\"name\":\"HSpacer01864\",\"sizing_mode\":\"stretch_width\"},\"id\":\"1248\",\"type\":\"Spacer\"},{\"attributes\":{\"bottom_units\":\"screen\",\"coordinates\":null,\"fill_alpha\":0.5,\"fill_color\":\"lightgrey\",\"group\":null,\"left_units\":\"screen\",\"level\":\"overlay\",\"line_alpha\":1.0,\"line_color\":\"black\",\"line_dash\":[4,4],\"line_width\":2,\"right_units\":\"screen\",\"syncable\":false,\"top_units\":\"screen\"},\"id\":\"1201\",\"type\":\"BoxAnnotation\"},{\"attributes\":{\"axis_label\":\"longitude\",\"coordinates\":null,\"formatter\":{\"id\":\"1226\"},\"group\":null,\"major_label_policy\":{\"id\":\"1227\"},\"ticker\":{\"id\":\"1189\"}},\"id\":\"1188\",\"type\":\"LinearAxis\"},{\"attributes\":{},\"id\":\"1229\",\"type\":\"BasicTickFormatter\"},{\"attributes\":{\"color_mapper\":{\"id\":\"1209\"},\"dh\":{\"field\":\"dh\"},\"dw\":{\"field\":\"dw\"},\"global_alpha\":{\"value\":0.1},\"image\":{\"field\":\"image\"},\"x\":{\"field\":\"x\"},\"y\":{\"field\":\"y\"}},\"id\":\"1215\",\"type\":\"Image\"},{\"attributes\":{},\"id\":\"1197\",\"type\":\"PanTool\"},{\"attributes\":{},\"id\":\"1245\",\"type\":\"UnionRenderers\"},{\"attributes\":{\"end\":305.09999999999945,\"reset_end\":305.09999999999945,\"reset_start\":294.9,\"start\":294.9,\"tags\":[[[\"longitude\",\"longitude\",null]]]},\"id\":\"1176\",\"type\":\"Range1d\"}],\"root_ids\":[\"1174\",\"1290\"]},\"title\":\"Bokeh Application\",\"version\":\"2.4.3\"}};\n",
       "    var render_items = [{\"docid\":\"361f760c-76f9-4c30-a6b1-f5d5ec4f4b9d\",\"root_ids\":[\"1174\"],\"roots\":{\"1174\":\"566e7672-b242-4b22-bb52-f603f931b404\"}}];\n",
       "    root.Bokeh.embed.embed_items_notebook(docs_json, render_items);\n",
       "  }\n",
       "  if (root.Bokeh !== undefined && root.Bokeh.Panel !== undefined) {\n",
       "    embed_document(root);\n",
       "  } else {\n",
       "    var attempts = 0;\n",
       "    var timer = setInterval(function(root) {\n",
       "      if (root.Bokeh !== undefined && root.Bokeh.Panel !== undefined) {\n",
       "        clearInterval(timer);\n",
       "        embed_document(root);\n",
       "      } else if (document.readyState == \"complete\") {\n",
       "        attempts++;\n",
       "        if (attempts > 200) {\n",
       "          clearInterval(timer);\n",
       "          console.log(\"Bokeh: ERROR: Unable to run BokehJS code because BokehJS library is missing\");\n",
       "        }\n",
       "      }\n",
       "    }, 25, root)\n",
       "  }\n",
       "})(window);</script>"
      ],
      "text/plain": [
       ":DynamicMap   [time]\n",
       "   :Image   [longitude,latitude]   (ssh_grad)"
      ]
     },
     "execution_count": 37,
     "metadata": {
      "application/vnd.holoviews_exec.v0+json": {
       "id": "1174"
      }
     },
     "output_type": "execute_result"
    }
   ],
   "source": [
    "ds_oi.ssh_grad.hvplot.image(\n",
    "    x=\"longitude\",\n",
    "    y=\"latitude\",\n",
    "    # groupby='time',\n",
    "    # rasterize=True, \n",
    "    width=500, height=400, cmap=\"Spectral_r\")"
   ]
  },
  {
   "cell_type": "code",
   "execution_count": 38,
   "id": "3975b43e-f722-4948-999f-4e60eaf87362",
   "metadata": {},
   "outputs": [],
   "source": [
    "# if args.smoke_test:\n",
    "#     create_movie(ds_oi.ssh_grad.isel(time=slice(50,60)), f\"pred_grad\", \"time\", cmap=\"Spectral_r\", file_path=save_path)\n",
    "# else:\n",
    "#     create_movie(ds_oi.ssh_grad, f\"pred_grad\", \"time\", cmap=\"Spectral_r\", file_path=save_path)"
   ]
  },
  {
   "cell_type": "code",
   "execution_count": 39,
   "id": "6872c78a-d596-446f-911f-3444b2701991",
   "metadata": {},
   "outputs": [],
   "source": [
    "# wandb.log(\n",
    "#     {\n",
    "#         \"predictions_grad_gif\": wandb.Image(f\"{save_path}/movie_pred_grad.gif\"),\n",
    "#     }\n",
    "# )"
   ]
  },
  {
   "cell_type": "markdown",
   "id": "5d08cd6d-20cb-4726-9204-bab5405e584d",
   "metadata": {},
   "source": [
    "### Laplacian"
   ]
  },
  {
   "cell_type": "code",
   "execution_count": 40,
   "id": "2816a06f-c1bf-485a-8966-a0adffd91df0",
   "metadata": {},
   "outputs": [],
   "source": [
    "ds_oi[\"ssh_lap\"] = calculate_laplacian(ds_oi[\"ssh\"], \"longitude\", \"latitude\")"
   ]
  },
  {
   "cell_type": "code",
   "execution_count": 41,
   "id": "297ef4c0-aa21-4850-89ee-e6a84b8c03cf",
   "metadata": {},
   "outputs": [
    {
     "data": {},
     "metadata": {},
     "output_type": "display_data"
    },
    {
     "data": {
      "application/vnd.holoviews_exec.v0+json": "",
      "text/html": [
       "<div id='1346'>\n",
       "  <div class=\"bk-root\" id=\"6a762c82-a543-42ef-af1f-3732e3233449\" data-root-id=\"1346\"></div>\n",
       "</div>\n",
       "<script type=\"application/javascript\">(function(root) {\n",
       "  function embed_document(root) {\n",
       "    var docs_json = {\"a9f2af3f-acc9-4e84-a527-f7f4e085e33e\":{\"defs\":[{\"extends\":null,\"module\":null,\"name\":\"ReactiveHTML1\",\"overrides\":[],\"properties\":[]},{\"extends\":null,\"module\":null,\"name\":\"FlexBox1\",\"overrides\":[],\"properties\":[{\"default\":\"flex-start\",\"kind\":null,\"name\":\"align_content\"},{\"default\":\"flex-start\",\"kind\":null,\"name\":\"align_items\"},{\"default\":\"row\",\"kind\":null,\"name\":\"flex_direction\"},{\"default\":\"wrap\",\"kind\":null,\"name\":\"flex_wrap\"},{\"default\":\"flex-start\",\"kind\":null,\"name\":\"justify_content\"}]},{\"extends\":null,\"module\":null,\"name\":\"GridStack1\",\"overrides\":[],\"properties\":[{\"default\":\"warn\",\"kind\":null,\"name\":\"mode\"},{\"default\":null,\"kind\":null,\"name\":\"ncols\"},{\"default\":null,\"kind\":null,\"name\":\"nrows\"},{\"default\":true,\"kind\":null,\"name\":\"allow_resize\"},{\"default\":true,\"kind\":null,\"name\":\"allow_drag\"},{\"default\":[],\"kind\":null,\"name\":\"state\"}]},{\"extends\":null,\"module\":null,\"name\":\"click1\",\"overrides\":[],\"properties\":[{\"default\":\"\",\"kind\":null,\"name\":\"terminal_output\"},{\"default\":\"\",\"kind\":null,\"name\":\"debug_name\"},{\"default\":0,\"kind\":null,\"name\":\"clears\"}]},{\"extends\":null,\"module\":null,\"name\":\"NotificationAreaBase1\",\"overrides\":[],\"properties\":[{\"default\":\"bottom-right\",\"kind\":null,\"name\":\"position\"},{\"default\":0,\"kind\":null,\"name\":\"_clear\"}]},{\"extends\":null,\"module\":null,\"name\":\"NotificationArea1\",\"overrides\":[],\"properties\":[{\"default\":[],\"kind\":null,\"name\":\"notifications\"},{\"default\":\"bottom-right\",\"kind\":null,\"name\":\"position\"},{\"default\":0,\"kind\":null,\"name\":\"_clear\"},{\"default\":[{\"background\":\"#ffc107\",\"icon\":{\"className\":\"fas fa-exclamation-triangle\",\"color\":\"white\",\"tagName\":\"i\"},\"type\":\"warning\"},{\"background\":\"#007bff\",\"icon\":{\"className\":\"fas fa-info-circle\",\"color\":\"white\",\"tagName\":\"i\"},\"type\":\"info\"}],\"kind\":null,\"name\":\"types\"}]},{\"extends\":null,\"module\":null,\"name\":\"Notification\",\"overrides\":[],\"properties\":[{\"default\":null,\"kind\":null,\"name\":\"background\"},{\"default\":3000,\"kind\":null,\"name\":\"duration\"},{\"default\":null,\"kind\":null,\"name\":\"icon\"},{\"default\":\"\",\"kind\":null,\"name\":\"message\"},{\"default\":null,\"kind\":null,\"name\":\"notification_type\"},{\"default\":false,\"kind\":null,\"name\":\"_destroyed\"}]},{\"extends\":null,\"module\":null,\"name\":\"TemplateActions1\",\"overrides\":[],\"properties\":[{\"default\":0,\"kind\":null,\"name\":\"open_modal\"},{\"default\":0,\"kind\":null,\"name\":\"close_modal\"}]},{\"extends\":null,\"module\":null,\"name\":\"MaterialTemplateActions1\",\"overrides\":[],\"properties\":[{\"default\":0,\"kind\":null,\"name\":\"open_modal\"},{\"default\":0,\"kind\":null,\"name\":\"close_modal\"}]}],\"roots\":{\"references\":[{\"attributes\":{\"data\":{\"dh\":[10.400000000000148],\"dw\":[10.199999999999477],\"image\":[{\"__ndarray__\":\"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\",\"dtype\":\"float64\",\"order\":\"little\",\"shape\":[52,51]}],\"x\":[294.9],\"y\":[32.9]},\"selected\":{\"id\":\"1383\"},\"selection_policy\":{\"id\":\"1417\"}},\"id\":\"1382\",\"type\":\"ColumnDataSource\"},{\"attributes\":{\"client_comm_id\":\"3657f2bb1f55450dab98440403ca536a\",\"comm_id\":\"011afed593b442d38ffc59ebd0f3120a\",\"plot_id\":\"1346\"},\"id\":\"1462\",\"type\":\"panel.models.comm_manager.CommManager\"},{\"attributes\":{},\"id\":\"1383\",\"type\":\"Selection\"},{\"attributes\":{\"axis_label\":\"longitude\",\"coordinates\":null,\"formatter\":{\"id\":\"1398\"},\"group\":null,\"major_label_policy\":{\"id\":\"1399\"},\"ticker\":{\"id\":\"1361\"}},\"id\":\"1360\",\"type\":\"LinearAxis\"},{\"attributes\":{\"axis\":{\"id\":\"1364\"},\"coordinates\":null,\"dimension\":1,\"grid_line_color\":null,\"group\":null,\"ticker\":null},\"id\":\"1367\",\"type\":\"Grid\"},{\"attributes\":{\"children\":[{\"id\":\"1424\"}],\"css_classes\":[\"panel-widget-box\"],\"margin\":[5,5,5,5],\"name\":\"WidgetBox02118\"},\"id\":\"1423\",\"type\":\"Column\"},{\"attributes\":{\"children\":[{\"id\":\"1347\"},{\"id\":\"1351\"},{\"id\":\"1420\"},{\"id\":\"1421\"}],\"margin\":[0,0,0,0],\"name\":\"Row02117\"},\"id\":\"1346\",\"type\":\"Row\"},{\"attributes\":{\"margin\":[5,5,5,5],\"name\":\"VSpacer02130\",\"sizing_mode\":\"stretch_height\"},\"id\":\"1422\",\"type\":\"Spacer\"},{\"attributes\":{},\"id\":\"1369\",\"type\":\"PanTool\"},{\"attributes\":{},\"id\":\"1393\",\"type\":\"BasicTicker\"},{\"attributes\":{\"axis_label\":\"latitude\",\"coordinates\":null,\"formatter\":{\"id\":\"1401\"},\"group\":null,\"major_label_policy\":{\"id\":\"1402\"},\"ticker\":{\"id\":\"1365\"}},\"id\":\"1364\",\"type\":\"LinearAxis\"},{\"attributes\":{\"margin\":[5,5,5,5],\"name\":\"VSpacer02131\",\"sizing_mode\":\"stretch_height\"},\"id\":\"1427\",\"type\":\"Spacer\"},{\"attributes\":{},\"id\":\"1365\",\"type\":\"BasicTicker\"},{\"attributes\":{\"margin\":[20,0,0,20],\"name\":\"\",\"style\":{\"white-space\":\"nowrap\"},\"text\":\"time: <b>2017-01-01 00:00:00</b>\",\"width\":250},\"id\":\"1425\",\"type\":\"Div\"},{\"attributes\":{\"color_mapper\":{\"id\":\"1381\"},\"dh\":{\"field\":\"dh\"},\"dw\":{\"field\":\"dw\"},\"image\":{\"field\":\"image\"},\"x\":{\"field\":\"x\"},\"y\":{\"field\":\"y\"}},\"id\":\"1385\",\"type\":\"Image\"},{\"attributes\":{},\"id\":\"1370\",\"type\":\"WheelZoomTool\"},{\"attributes\":{\"children\":[{\"id\":\"1425\"},{\"id\":\"1426\"}],\"margin\":[0,0,0,0],\"min_width\":290,\"name\":\"Column02127\",\"width\":290},\"id\":\"1424\",\"type\":\"Column\"},{\"attributes\":{},\"id\":\"1368\",\"type\":\"SaveTool\"},{\"attributes\":{\"high\":0.027995062107111158,\"low\":2.1577120824454067e-10,\"nan_color\":\"rgba(0, 0, 0, 0)\",\"palette\":[\"#053061\",\"#063263\",\"#073466\",\"#083669\",\"#09386c\",\"#0a3a6f\",\"#0b3c72\",\"#0c3e75\",\"#0d4078\",\"#0e437b\",\"#0f457e\",\"#114781\",\"#124984\",\"#134b87\",\"#144d8a\",\"#154f8d\",\"#165190\",\"#175493\",\"#185695\",\"#195898\",\"#1a5a9b\",\"#1c5c9e\",\"#1d5ea1\",\"#1e60a4\",\"#1f62a7\",\"#2064aa\",\"#2166ac\",\"#2368ad\",\"#246aae\",\"#256caf\",\"#276db0\",\"#286fb0\",\"#2971b1\",\"#2b73b2\",\"#2c75b3\",\"#2d76b4\",\"#2f78b5\",\"#307ab6\",\"#317cb7\",\"#337db8\",\"#347fb9\",\"#3581b9\",\"#3783ba\",\"#3884bb\",\"#3986bc\",\"#3b88bd\",\"#3c8abe\",\"#3d8bbf\",\"#3f8dc0\",\"#408fc1\",\"#4191c2\",\"#4393c3\",\"#4694c4\",\"#4996c5\",\"#4c98c6\",\"#4f9ac7\",\"#529cc8\",\"#559ec9\",\"#58a0ca\",\"#5ba2cb\",\"#5ea4cc\",\"#61a6cd\",\"#65a8ce\",\"#68aacf\",\"#6bacd0\",\"#6eaed1\",\"#71b0d2\",\"#74b2d3\",\"#77b4d5\",\"#7ab6d6\",\"#7db8d7\",\"#80bad8\",\"#84bcd9\",\"#87beda\",\"#8ac0db\",\"#8dc2dc\",\"#90c4dd\",\"#93c5de\",\"#95c6df\",\"#98c8df\",\"#9ac9e0\",\"#9dcae1\",\"#9fcbe1\",\"#a2cde2\",\"#a4cee3\",\"#a7cfe4\",\"#a9d0e4\",\"#abd2e5\",\"#aed3e6\",\"#b0d4e6\",\"#b3d5e7\",\"#b5d7e8\",\"#b8d8e8\",\"#bad9e9\",\"#bddaea\",\"#bfdceb\",\"#c2ddeb\",\"#c4deec\",\"#c7dfed\",\"#c9e1ed\",\"#cce2ee\",\"#cee3ef\",\"#d1e5f0\",\"#d2e5f0\",\"#d3e6f0\",\"#d5e7f0\",\"#d6e7f1\",\"#d8e8f1\",\"#d9e9f1\",\"#dbe9f1\",\"#dceaf2\",\"#deebf2\",\"#dfecf2\",\"#e1ecf3\",\"#e2edf3\",\"#e4eef3\",\"#e5eef3\",\"#e7eff4\",\"#e8f0f4\",\"#eaf1f4\",\"#ebf1f4\",\"#edf2f5\",\"#eef3f5\",\"#f0f3f5\",\"#f1f4f6\",\"#f3f5f6\",\"#f4f5f6\",\"#f6f6f6\",\"#f7f6f6\",\"#f7f5f4\",\"#f7f4f2\",\"#f7f3f0\",\"#f8f2ee\",\"#f8f0ec\",\"#f8efea\",\"#f8eee8\",\"#f9ede7\",\"#f9ece5\",\"#f9ebe3\",\"#f9eae1\",\"#f9e9df\",\"#fae8dd\",\"#fae7db\",\"#fae5d9\",\"#fae4d7\",\"#fbe3d6\",\"#fbe2d4\",\"#fbe1d2\",\"#fbe0d0\",\"#fcdfce\",\"#fcdecc\",\"#fcddca\",\"#fcdcc8\",\"#fddbc7\",\"#fcd8c4\",\"#fcd6c1\",\"#fbd4be\",\"#fbd2bc\",\"#fbd0b9\",\"#faceb6\",\"#faccb4\",\"#facab1\",\"#f9c7ae\",\"#f9c5ab\",\"#f9c3a9\",\"#f8c1a6\",\"#f8bfa3\",\"#f8bda1\",\"#f7bb9e\",\"#f7b99b\",\"#f7b799\",\"#f6b496\",\"#f6b293\",\"#f5b090\",\"#f5ae8e\",\"#f5ac8b\",\"#f4aa88\",\"#f4a886\",\"#f4a683\",\"#f3a380\",\"#f2a07e\",\"#f19e7c\",\"#ef9b7a\",\"#ee9878\",\"#ed9676\",\"#ec9374\",\"#eb9072\",\"#ea8e70\",\"#e88b6e\",\"#e7886c\",\"#e6856a\",\"#e58368\",\"#e48065\",\"#e27d63\",\"#e17b61\",\"#e0785f\",\"#df755d\",\"#de725b\",\"#dd7059\",\"#db6d57\",\"#da6a55\",\"#d96853\",\"#d86551\",\"#d7624f\",\"#d6604d\",\"#d45d4b\",\"#d35a4a\",\"#d15749\",\"#d05447\",\"#ce5146\",\"#cd4f45\",\"#cc4c43\",\"#ca4942\",\"#c94641\",\"#c7433f\",\"#c6403e\",\"#c53e3c\",\"#c33b3b\",\"#c2383a\",\"#c03538\",\"#bf3237\",\"#be3036\",\"#bc2d34\",\"#bb2a33\",\"#b92732\",\"#b82431\",\"#b6212f\",\"#b51f2e\",\"#b41c2d\",\"#b2192b\",\"#b0172a\",\"#ad162a\",\"#aa1529\",\"#a71429\",\"#a41328\",\"#a11228\",\"#9e1127\",\"#9b1027\",\"#991027\",\"#960f26\",\"#930e26\",\"#900d25\",\"#8d0c25\",\"#8a0b24\",\"#870a24\",\"#840923\",\"#810823\",\"#7e0722\",\"#7b0622\",\"#780521\",\"#750421\",\"#720320\",\"#6f0220\",\"#6c011f\",\"#69001f\",\"#67001f\"]},\"id\":\"1381\",\"type\":\"LinearColorMapper\"},{\"attributes\":{\"end\":364,\"js_property_callbacks\":{\"change:value\":[{\"id\":\"1439\"}]},\"margin\":[0,20,20,20],\"min_width\":250,\"show_value\":false,\"start\":0,\"tooltips\":false,\"value\":0,\"width\":250},\"id\":\"1426\",\"type\":\"Slider\"},{\"attributes\":{\"color_mapper\":{\"id\":\"1381\"},\"dh\":{\"field\":\"dh\"},\"dw\":{\"field\":\"dw\"},\"global_alpha\":{\"value\":0.1},\"image\":{\"field\":\"image\"},\"x\":{\"field\":\"x\"},\"y\":{\"field\":\"y\"}},\"id\":\"1387\",\"type\":\"Image\"},{\"attributes\":{\"overlay\":{\"id\":\"1373\"}},\"id\":\"1371\",\"type\":\"BoxZoomTool\"},{\"attributes\":{\"bar_line_color\":\"black\",\"color_mapper\":{\"id\":\"1381\"},\"coordinates\":null,\"group\":null,\"label_standoff\":8,\"location\":[0,0],\"major_label_policy\":{\"id\":\"1413\"},\"major_tick_line_color\":\"black\",\"ticker\":{\"id\":\"1393\"}},\"id\":\"1394\",\"type\":\"ColorBar\"},{\"attributes\":{},\"id\":\"1372\",\"type\":\"ResetTool\"},{\"attributes\":{\"args\":{\"bidirectional\":false,\"properties\":{},\"source\":{\"id\":\"1426\"},\"target\":{\"id\":\"1425\"}},\"code\":\"try { \\n    var labels = ['time: <b>2017-01-01 00:00:00</b>', 'time: <b>2017-01-02 00:00:00</b>', 'time: <b>2017-01-03 00:00:00</b>', 'time: <b>2017-01-04 00:00:00</b>', 'time: <b>2017-01-05 00:00:00</b>', 'time: <b>2017-01-06 00:00:00</b>', 'time: <b>2017-01-07 00:00:00</b>', 'time: <b>2017-01-08 00:00:00</b>', 'time: <b>2017-01-09 00:00:00</b>', 'time: <b>2017-01-10 00:00:00</b>', 'time: <b>2017-01-11 00:00:00</b>', 'time: <b>2017-01-12 00:00:00</b>', 'time: <b>2017-01-13 00:00:00</b>', 'time: <b>2017-01-14 00:00:00</b>', 'time: <b>2017-01-15 00:00:00</b>', 'time: <b>2017-01-16 00:00:00</b>', 'time: <b>2017-01-17 00:00:00</b>', 'time: <b>2017-01-18 00:00:00</b>', 'time: <b>2017-01-19 00:00:00</b>', 'time: <b>2017-01-20 00:00:00</b>', 'time: <b>2017-01-21 00:00:00</b>', 'time: <b>2017-01-22 00:00:00</b>', 'time: <b>2017-01-23 00:00:00</b>', 'time: <b>2017-01-24 00:00:00</b>', 'time: <b>2017-01-25 00:00:00</b>', 'time: <b>2017-01-26 00:00:00</b>', 'time: <b>2017-01-27 00:00:00</b>', 'time: <b>2017-01-28 00:00:00</b>', 'time: <b>2017-01-29 00:00:00</b>', 'time: <b>2017-01-30 00:00:00</b>', 'time: <b>2017-01-31 00:00:00</b>', 'time: <b>2017-02-01 00:00:00</b>', 'time: <b>2017-02-02 00:00:00</b>', 'time: <b>2017-02-03 00:00:00</b>', 'time: <b>2017-02-04 00:00:00</b>', 'time: <b>2017-02-05 00:00:00</b>', 'time: <b>2017-02-06 00:00:00</b>', 'time: <b>2017-02-07 00:00:00</b>', 'time: <b>2017-02-08 00:00:00</b>', 'time: <b>2017-02-09 00:00:00</b>', 'time: <b>2017-02-10 00:00:00</b>', 'time: <b>2017-02-11 00:00:00</b>', 'time: <b>2017-02-12 00:00:00</b>', 'time: <b>2017-02-13 00:00:00</b>', 'time: <b>2017-02-14 00:00:00</b>', 'time: <b>2017-02-15 00:00:00</b>', 'time: <b>2017-02-16 00:00:00</b>', 'time: <b>2017-02-17 00:00:00</b>', 'time: <b>2017-02-18 00:00:00</b>', 'time: <b>2017-02-19 00:00:00</b>', 'time: <b>2017-02-20 00:00:00</b>', 'time: <b>2017-02-21 00:00:00</b>', 'time: <b>2017-02-22 00:00:00</b>', 'time: <b>2017-02-23 00:00:00</b>', 'time: <b>2017-02-24 00:00:00</b>', 'time: <b>2017-02-25 00:00:00</b>', 'time: <b>2017-02-26 00:00:00</b>', 'time: <b>2017-02-27 00:00:00</b>', 'time: <b>2017-02-28 00:00:00</b>', 'time: <b>2017-03-01 00:00:00</b>', 'time: <b>2017-03-02 00:00:00</b>', 'time: <b>2017-03-03 00:00:00</b>', 'time: <b>2017-03-04 00:00:00</b>', 'time: <b>2017-03-05 00:00:00</b>', 'time: <b>2017-03-06 00:00:00</b>', 'time: <b>2017-03-07 00:00:00</b>', 'time: <b>2017-03-08 00:00:00</b>', 'time: <b>2017-03-09 00:00:00</b>', 'time: <b>2017-03-10 00:00:00</b>', 'time: <b>2017-03-11 00:00:00</b>', 'time: <b>2017-03-12 00:00:00</b>', 'time: <b>2017-03-13 00:00:00</b>', 'time: <b>2017-03-14 00:00:00</b>', 'time: <b>2017-03-15 00:00:00</b>', 'time: <b>2017-03-16 00:00:00</b>', 'time: <b>2017-03-17 00:00:00</b>', 'time: <b>2017-03-18 00:00:00</b>', 'time: <b>2017-03-19 00:00:00</b>', 'time: <b>2017-03-20 00:00:00</b>', 'time: <b>2017-03-21 00:00:00</b>', 'time: <b>2017-03-22 00:00:00</b>', 'time: <b>2017-03-23 00:00:00</b>', 'time: <b>2017-03-24 00:00:00</b>', 'time: <b>2017-03-25 00:00:00</b>', 'time: <b>2017-03-26 00:00:00</b>', 'time: <b>2017-03-27 00:00:00</b>', 'time: <b>2017-03-28 00:00:00</b>', 'time: <b>2017-03-29 00:00:00</b>', 'time: <b>2017-03-30 00:00:00</b>', 'time: <b>2017-03-31 00:00:00</b>', 'time: <b>2017-04-01 00:00:00</b>', 'time: <b>2017-04-02 00:00:00</b>', 'time: <b>2017-04-03 00:00:00</b>', 'time: <b>2017-04-04 00:00:00</b>', 'time: <b>2017-04-05 00:00:00</b>', 'time: <b>2017-04-06 00:00:00</b>', 'time: <b>2017-04-07 00:00:00</b>', 'time: <b>2017-04-08 00:00:00</b>', 'time: <b>2017-04-09 00:00:00</b>', 'time: <b>2017-04-10 00:00:00</b>', 'time: <b>2017-04-11 00:00:00</b>', 'time: <b>2017-04-12 00:00:00</b>', 'time: <b>2017-04-13 00:00:00</b>', 'time: <b>2017-04-14 00:00:00</b>', 'time: <b>2017-04-15 00:00:00</b>', 'time: <b>2017-04-16 00:00:00</b>', 'time: <b>2017-04-17 00:00:00</b>', 'time: <b>2017-04-18 00:00:00</b>', 'time: <b>2017-04-19 00:00:00</b>', 'time: <b>2017-04-20 00:00:00</b>', 'time: <b>2017-04-21 00:00:00</b>', 'time: <b>2017-04-22 00:00:00</b>', 'time: <b>2017-04-23 00:00:00</b>', 'time: <b>2017-04-24 00:00:00</b>', 'time: <b>2017-04-25 00:00:00</b>', 'time: <b>2017-04-26 00:00:00</b>', 'time: <b>2017-04-27 00:00:00</b>', 'time: <b>2017-04-28 00:00:00</b>', 'time: <b>2017-04-29 00:00:00</b>', 'time: <b>2017-04-30 00:00:00</b>', 'time: <b>2017-05-01 00:00:00</b>', 'time: <b>2017-05-02 00:00:00</b>', 'time: <b>2017-05-03 00:00:00</b>', 'time: <b>2017-05-04 00:00:00</b>', 'time: <b>2017-05-05 00:00:00</b>', 'time: <b>2017-05-06 00:00:00</b>', 'time: <b>2017-05-07 00:00:00</b>', 'time: <b>2017-05-08 00:00:00</b>', 'time: <b>2017-05-09 00:00:00</b>', 'time: <b>2017-05-10 00:00:00</b>', 'time: <b>2017-05-11 00:00:00</b>', 'time: <b>2017-05-12 00:00:00</b>', 'time: <b>2017-05-13 00:00:00</b>', 'time: <b>2017-05-14 00:00:00</b>', 'time: <b>2017-05-15 00:00:00</b>', 'time: <b>2017-05-16 00:00:00</b>', 'time: <b>2017-05-17 00:00:00</b>', 'time: <b>2017-05-18 00:00:00</b>', 'time: <b>2017-05-19 00:00:00</b>', 'time: <b>2017-05-20 00:00:00</b>', 'time: <b>2017-05-21 00:00:00</b>', 'time: <b>2017-05-22 00:00:00</b>', 'time: <b>2017-05-23 00:00:00</b>', 'time: <b>2017-05-24 00:00:00</b>', 'time: <b>2017-05-25 00:00:00</b>', 'time: <b>2017-05-26 00:00:00</b>', 'time: <b>2017-05-27 00:00:00</b>', 'time: <b>2017-05-28 00:00:00</b>', 'time: <b>2017-05-29 00:00:00</b>', 'time: <b>2017-05-30 00:00:00</b>', 'time: <b>2017-05-31 00:00:00</b>', 'time: <b>2017-06-01 00:00:00</b>', 'time: <b>2017-06-02 00:00:00</b>', 'time: <b>2017-06-03 00:00:00</b>', 'time: <b>2017-06-04 00:00:00</b>', 'time: <b>2017-06-05 00:00:00</b>', 'time: <b>2017-06-06 00:00:00</b>', 'time: <b>2017-06-07 00:00:00</b>', 'time: <b>2017-06-08 00:00:00</b>', 'time: <b>2017-06-09 00:00:00</b>', 'time: <b>2017-06-10 00:00:00</b>', 'time: <b>2017-06-11 00:00:00</b>', 'time: <b>2017-06-12 00:00:00</b>', 'time: <b>2017-06-13 00:00:00</b>', 'time: <b>2017-06-14 00:00:00</b>', 'time: <b>2017-06-15 00:00:00</b>', 'time: <b>2017-06-16 00:00:00</b>', 'time: <b>2017-06-17 00:00:00</b>', 'time: <b>2017-06-18 00:00:00</b>', 'time: <b>2017-06-19 00:00:00</b>', 'time: <b>2017-06-20 00:00:00</b>', 'time: <b>2017-06-21 00:00:00</b>', 'time: <b>2017-06-22 00:00:00</b>', 'time: <b>2017-06-23 00:00:00</b>', 'time: <b>2017-06-24 00:00:00</b>', 'time: <b>2017-06-25 00:00:00</b>', 'time: <b>2017-06-26 00:00:00</b>', 'time: <b>2017-06-27 00:00:00</b>', 'time: <b>2017-06-28 00:00:00</b>', 'time: <b>2017-06-29 00:00:00</b>', 'time: <b>2017-06-30 00:00:00</b>', 'time: <b>2017-07-01 00:00:00</b>', 'time: <b>2017-07-02 00:00:00</b>', 'time: <b>2017-07-03 00:00:00</b>', 'time: <b>2017-07-04 00:00:00</b>', 'time: <b>2017-07-05 00:00:00</b>', 'time: <b>2017-07-06 00:00:00</b>', 'time: <b>2017-07-07 00:00:00</b>', 'time: <b>2017-07-08 00:00:00</b>', 'time: <b>2017-07-09 00:00:00</b>', 'time: <b>2017-07-10 00:00:00</b>', 'time: <b>2017-07-11 00:00:00</b>', 'time: <b>2017-07-12 00:00:00</b>', 'time: <b>2017-07-13 00:00:00</b>', 'time: <b>2017-07-14 00:00:00</b>', 'time: <b>2017-07-15 00:00:00</b>', 'time: <b>2017-07-16 00:00:00</b>', 'time: <b>2017-07-17 00:00:00</b>', 'time: <b>2017-07-18 00:00:00</b>', 'time: <b>2017-07-19 00:00:00</b>', 'time: <b>2017-07-20 00:00:00</b>', 'time: <b>2017-07-21 00:00:00</b>', 'time: <b>2017-07-22 00:00:00</b>', 'time: <b>2017-07-23 00:00:00</b>', 'time: <b>2017-07-24 00:00:00</b>', 'time: <b>2017-07-25 00:00:00</b>', 'time: <b>2017-07-26 00:00:00</b>', 'time: <b>2017-07-27 00:00:00</b>', 'time: <b>2017-07-28 00:00:00</b>', 'time: <b>2017-07-29 00:00:00</b>', 'time: <b>2017-07-30 00:00:00</b>', 'time: <b>2017-07-31 00:00:00</b>', 'time: <b>2017-08-01 00:00:00</b>', 'time: <b>2017-08-02 00:00:00</b>', 'time: <b>2017-08-03 00:00:00</b>', 'time: <b>2017-08-04 00:00:00</b>', 'time: <b>2017-08-05 00:00:00</b>', 'time: <b>2017-08-06 00:00:00</b>', 'time: <b>2017-08-07 00:00:00</b>', 'time: <b>2017-08-08 00:00:00</b>', 'time: <b>2017-08-09 00:00:00</b>', 'time: <b>2017-08-10 00:00:00</b>', 'time: <b>2017-08-11 00:00:00</b>', 'time: <b>2017-08-12 00:00:00</b>', 'time: <b>2017-08-13 00:00:00</b>', 'time: <b>2017-08-14 00:00:00</b>', 'time: <b>2017-08-15 00:00:00</b>', 'time: <b>2017-08-16 00:00:00</b>', 'time: <b>2017-08-17 00:00:00</b>', 'time: <b>2017-08-18 00:00:00</b>', 'time: <b>2017-08-19 00:00:00</b>', 'time: <b>2017-08-20 00:00:00</b>', 'time: <b>2017-08-21 00:00:00</b>', 'time: <b>2017-08-22 00:00:00</b>', 'time: <b>2017-08-23 00:00:00</b>', 'time: <b>2017-08-24 00:00:00</b>', 'time: <b>2017-08-25 00:00:00</b>', 'time: <b>2017-08-26 00:00:00</b>', 'time: <b>2017-08-27 00:00:00</b>', 'time: <b>2017-08-28 00:00:00</b>', 'time: <b>2017-08-29 00:00:00</b>', 'time: <b>2017-08-30 00:00:00</b>', 'time: <b>2017-08-31 00:00:00</b>', 'time: <b>2017-09-01 00:00:00</b>', 'time: <b>2017-09-02 00:00:00</b>', 'time: <b>2017-09-03 00:00:00</b>', 'time: <b>2017-09-04 00:00:00</b>', 'time: <b>2017-09-05 00:00:00</b>', 'time: <b>2017-09-06 00:00:00</b>', 'time: <b>2017-09-07 00:00:00</b>', 'time: <b>2017-09-08 00:00:00</b>', 'time: <b>2017-09-09 00:00:00</b>', 'time: <b>2017-09-10 00:00:00</b>', 'time: <b>2017-09-11 00:00:00</b>', 'time: <b>2017-09-12 00:00:00</b>', 'time: <b>2017-09-13 00:00:00</b>', 'time: <b>2017-09-14 00:00:00</b>', 'time: <b>2017-09-15 00:00:00</b>', 'time: <b>2017-09-16 00:00:00</b>', 'time: <b>2017-09-17 00:00:00</b>', 'time: <b>2017-09-18 00:00:00</b>', 'time: <b>2017-09-19 00:00:00</b>', 'time: <b>2017-09-20 00:00:00</b>', 'time: <b>2017-09-21 00:00:00</b>', 'time: <b>2017-09-22 00:00:00</b>', 'time: <b>2017-09-23 00:00:00</b>', 'time: <b>2017-09-24 00:00:00</b>', 'time: <b>2017-09-25 00:00:00</b>', 'time: <b>2017-09-26 00:00:00</b>', 'time: <b>2017-09-27 00:00:00</b>', 'time: <b>2017-09-28 00:00:00</b>', 'time: <b>2017-09-29 00:00:00</b>', 'time: <b>2017-09-30 00:00:00</b>', 'time: <b>2017-10-01 00:00:00</b>', 'time: <b>2017-10-02 00:00:00</b>', 'time: <b>2017-10-03 00:00:00</b>', 'time: <b>2017-10-04 00:00:00</b>', 'time: <b>2017-10-05 00:00:00</b>', 'time: <b>2017-10-06 00:00:00</b>', 'time: <b>2017-10-07 00:00:00</b>', 'time: <b>2017-10-08 00:00:00</b>', 'time: <b>2017-10-09 00:00:00</b>', 'time: <b>2017-10-10 00:00:00</b>', 'time: <b>2017-10-11 00:00:00</b>', 'time: <b>2017-10-12 00:00:00</b>', 'time: <b>2017-10-13 00:00:00</b>', 'time: <b>2017-10-14 00:00:00</b>', 'time: <b>2017-10-15 00:00:00</b>', 'time: <b>2017-10-16 00:00:00</b>', 'time: <b>2017-10-17 00:00:00</b>', 'time: <b>2017-10-18 00:00:00</b>', 'time: <b>2017-10-19 00:00:00</b>', 'time: <b>2017-10-20 00:00:00</b>', 'time: <b>2017-10-21 00:00:00</b>', 'time: <b>2017-10-22 00:00:00</b>', 'time: <b>2017-10-23 00:00:00</b>', 'time: <b>2017-10-24 00:00:00</b>', 'time: <b>2017-10-25 00:00:00</b>', 'time: <b>2017-10-26 00:00:00</b>', 'time: <b>2017-10-27 00:00:00</b>', 'time: <b>2017-10-28 00:00:00</b>', 'time: <b>2017-10-29 00:00:00</b>', 'time: <b>2017-10-30 00:00:00</b>', 'time: <b>2017-10-31 00:00:00</b>', 'time: <b>2017-11-01 00:00:00</b>', 'time: <b>2017-11-02 00:00:00</b>', 'time: <b>2017-11-03 00:00:00</b>', 'time: <b>2017-11-04 00:00:00</b>', 'time: <b>2017-11-05 00:00:00</b>', 'time: <b>2017-11-06 00:00:00</b>', 'time: <b>2017-11-07 00:00:00</b>', 'time: <b>2017-11-08 00:00:00</b>', 'time: <b>2017-11-09 00:00:00</b>', 'time: <b>2017-11-10 00:00:00</b>', 'time: <b>2017-11-11 00:00:00</b>', 'time: <b>2017-11-12 00:00:00</b>', 'time: <b>2017-11-13 00:00:00</b>', 'time: <b>2017-11-14 00:00:00</b>', 'time: <b>2017-11-15 00:00:00</b>', 'time: <b>2017-11-16 00:00:00</b>', 'time: <b>2017-11-17 00:00:00</b>', 'time: <b>2017-11-18 00:00:00</b>', 'time: <b>2017-11-19 00:00:00</b>', 'time: <b>2017-11-20 00:00:00</b>', 'time: <b>2017-11-21 00:00:00</b>', 'time: <b>2017-11-22 00:00:00</b>', 'time: <b>2017-11-23 00:00:00</b>', 'time: <b>2017-11-24 00:00:00</b>', 'time: <b>2017-11-25 00:00:00</b>', 'time: <b>2017-11-26 00:00:00</b>', 'time: <b>2017-11-27 00:00:00</b>', 'time: <b>2017-11-28 00:00:00</b>', 'time: <b>2017-11-29 00:00:00</b>', 'time: <b>2017-11-30 00:00:00</b>', 'time: <b>2017-12-01 00:00:00</b>', 'time: <b>2017-12-02 00:00:00</b>', 'time: <b>2017-12-03 00:00:00</b>', 'time: <b>2017-12-04 00:00:00</b>', 'time: <b>2017-12-05 00:00:00</b>', 'time: <b>2017-12-06 00:00:00</b>', 'time: <b>2017-12-07 00:00:00</b>', 'time: <b>2017-12-08 00:00:00</b>', 'time: <b>2017-12-09 00:00:00</b>', 'time: <b>2017-12-10 00:00:00</b>', 'time: <b>2017-12-11 00:00:00</b>', 'time: <b>2017-12-12 00:00:00</b>', 'time: <b>2017-12-13 00:00:00</b>', 'time: <b>2017-12-14 00:00:00</b>', 'time: <b>2017-12-15 00:00:00</b>', 'time: <b>2017-12-16 00:00:00</b>', 'time: <b>2017-12-17 00:00:00</b>', 'time: <b>2017-12-18 00:00:00</b>', 'time: <b>2017-12-19 00:00:00</b>', 'time: <b>2017-12-20 00:00:00</b>', 'time: <b>2017-12-21 00:00:00</b>', 'time: <b>2017-12-22 00:00:00</b>', 'time: <b>2017-12-23 00:00:00</b>', 'time: <b>2017-12-24 00:00:00</b>', 'time: <b>2017-12-25 00:00:00</b>', 'time: <b>2017-12-26 00:00:00</b>', 'time: <b>2017-12-27 00:00:00</b>', 'time: <b>2017-12-28 00:00:00</b>', 'time: <b>2017-12-29 00:00:00</b>', 'time: <b>2017-12-30 00:00:00</b>', 'time: <b>2017-12-31 00:00:00</b>']\\n    target.text = labels[source.value]\\n     } catch(err) { console.log(err) }\",\"tags\":[[22619271399120,[null,\"value\"],[null,null]]]},\"id\":\"1439\",\"type\":\"CustomJS\"},{\"attributes\":{\"color_mapper\":{\"id\":\"1381\"},\"dh\":{\"field\":\"dh\"},\"dw\":{\"field\":\"dw\"},\"global_alpha\":{\"value\":0.2},\"image\":{\"field\":\"image\"},\"x\":{\"field\":\"x\"},\"y\":{\"field\":\"y\"}},\"id\":\"1389\",\"type\":\"Image\"},{\"attributes\":{\"bottom_units\":\"screen\",\"coordinates\":null,\"fill_alpha\":0.5,\"fill_color\":\"lightgrey\",\"group\":null,\"left_units\":\"screen\",\"level\":\"overlay\",\"line_alpha\":1.0,\"line_color\":\"black\",\"line_dash\":[4,4],\"line_width\":2,\"right_units\":\"screen\",\"syncable\":false,\"top_units\":\"screen\"},\"id\":\"1373\",\"type\":\"BoxAnnotation\"},{\"attributes\":{\"coordinates\":null,\"data_source\":{\"id\":\"1382\"},\"glyph\":{\"id\":\"1385\"},\"group\":null,\"hover_glyph\":null,\"muted_glyph\":{\"id\":\"1389\"},\"nonselection_glyph\":{\"id\":\"1387\"},\"selection_glyph\":{\"id\":\"1395\"},\"view\":{\"id\":\"1392\"}},\"id\":\"1391\",\"type\":\"GlyphRenderer\"},{\"attributes\":{},\"id\":\"1358\",\"type\":\"LinearScale\"},{\"attributes\":{\"source\":{\"id\":\"1382\"}},\"id\":\"1392\",\"type\":\"CDSView\"},{\"attributes\":{},\"id\":\"1401\",\"type\":\"BasicTickFormatter\"},{\"attributes\":{\"tools\":[{\"id\":\"1350\"},{\"id\":\"1368\"},{\"id\":\"1369\"},{\"id\":\"1370\"},{\"id\":\"1371\"},{\"id\":\"1372\"}]},\"id\":\"1374\",\"type\":\"Toolbar\"},{\"attributes\":{\"color_mapper\":{\"id\":\"1381\"},\"dh\":{\"field\":\"dh\"},\"dw\":{\"field\":\"dw\"},\"global_alpha\":{\"value\":1.0},\"image\":{\"field\":\"image\"},\"x\":{\"field\":\"x\"},\"y\":{\"field\":\"y\"}},\"id\":\"1395\",\"type\":\"Image\"},{\"attributes\":{},\"id\":\"1356\",\"type\":\"LinearScale\"},{\"attributes\":{},\"id\":\"1413\",\"type\":\"NoOverlap\"},{\"attributes\":{},\"id\":\"1399\",\"type\":\"AllLabels\"},{\"attributes\":{\"children\":[{\"id\":\"1422\"},{\"id\":\"1423\"},{\"id\":\"1427\"}],\"margin\":[0,0,0,0],\"name\":\"Column02132\"},\"id\":\"1421\",\"type\":\"Column\"},{\"attributes\":{\"end\":305.09999999999945,\"reset_end\":305.09999999999945,\"reset_start\":294.9,\"start\":294.9,\"tags\":[[[\"longitude\",\"longitude\",null]]]},\"id\":\"1348\",\"type\":\"Range1d\"},{\"attributes\":{\"end\":43.300000000000146,\"reset_end\":43.300000000000146,\"reset_start\":32.9,\"start\":32.9,\"tags\":[[[\"latitude\",\"latitude\",null]]]},\"id\":\"1349\",\"type\":\"Range1d\"},{\"attributes\":{\"margin\":[5,5,5,5],\"name\":\"HSpacer02134\",\"sizing_mode\":\"stretch_width\"},\"id\":\"1420\",\"type\":\"Spacer\"},{\"attributes\":{},\"id\":\"1402\",\"type\":\"AllLabels\"},{\"attributes\":{},\"id\":\"1417\",\"type\":\"UnionRenderers\"},{\"attributes\":{\"coordinates\":null,\"group\":null,\"text\":\"time: 2017-01-01 00:00:00\",\"text_color\":\"black\",\"text_font_size\":\"12pt\"},\"id\":\"1352\",\"type\":\"Title\"},{\"attributes\":{\"below\":[{\"id\":\"1360\"}],\"center\":[{\"id\":\"1363\"},{\"id\":\"1367\"}],\"height\":400,\"left\":[{\"id\":\"1364\"}],\"margin\":[5,5,5,5],\"min_border_bottom\":10,\"min_border_left\":10,\"min_border_right\":10,\"min_border_top\":10,\"renderers\":[{\"id\":\"1391\"}],\"right\":[{\"id\":\"1394\"}],\"sizing_mode\":\"fixed\",\"title\":{\"id\":\"1352\"},\"toolbar\":{\"id\":\"1374\"},\"width\":500,\"x_range\":{\"id\":\"1348\"},\"x_scale\":{\"id\":\"1356\"},\"y_range\":{\"id\":\"1349\"},\"y_scale\":{\"id\":\"1358\"}},\"id\":\"1351\",\"subtype\":\"Figure\",\"type\":\"Plot\"},{\"attributes\":{},\"id\":\"1398\",\"type\":\"BasicTickFormatter\"},{\"attributes\":{\"margin\":[5,5,5,5],\"name\":\"HSpacer02133\",\"sizing_mode\":\"stretch_width\"},\"id\":\"1347\",\"type\":\"Spacer\"},{\"attributes\":{},\"id\":\"1361\",\"type\":\"BasicTicker\"},{\"attributes\":{\"callback\":null,\"renderers\":[{\"id\":\"1391\"}],\"tags\":[\"hv_created\"],\"tooltips\":[[\"longitude\",\"$x\"],[\"latitude\",\"$y\"],[\"ssh_lap\",\"@image\"]]},\"id\":\"1350\",\"type\":\"HoverTool\"},{\"attributes\":{\"axis\":{\"id\":\"1360\"},\"coordinates\":null,\"grid_line_color\":null,\"group\":null,\"ticker\":null},\"id\":\"1363\",\"type\":\"Grid\"}],\"root_ids\":[\"1346\",\"1462\"]},\"title\":\"Bokeh Application\",\"version\":\"2.4.3\"}};\n",
       "    var render_items = [{\"docid\":\"a9f2af3f-acc9-4e84-a527-f7f4e085e33e\",\"root_ids\":[\"1346\"],\"roots\":{\"1346\":\"6a762c82-a543-42ef-af1f-3732e3233449\"}}];\n",
       "    root.Bokeh.embed.embed_items_notebook(docs_json, render_items);\n",
       "  }\n",
       "  if (root.Bokeh !== undefined && root.Bokeh.Panel !== undefined) {\n",
       "    embed_document(root);\n",
       "  } else {\n",
       "    var attempts = 0;\n",
       "    var timer = setInterval(function(root) {\n",
       "      if (root.Bokeh !== undefined && root.Bokeh.Panel !== undefined) {\n",
       "        clearInterval(timer);\n",
       "        embed_document(root);\n",
       "      } else if (document.readyState == \"complete\") {\n",
       "        attempts++;\n",
       "        if (attempts > 200) {\n",
       "          clearInterval(timer);\n",
       "          console.log(\"Bokeh: ERROR: Unable to run BokehJS code because BokehJS library is missing\");\n",
       "        }\n",
       "      }\n",
       "    }, 25, root)\n",
       "  }\n",
       "})(window);</script>"
      ],
      "text/plain": [
       ":DynamicMap   [time]\n",
       "   :Image   [longitude,latitude]   (ssh_lap)"
      ]
     },
     "execution_count": 41,
     "metadata": {
      "application/vnd.holoviews_exec.v0+json": {
       "id": "1346"
      }
     },
     "output_type": "execute_result"
    }
   ],
   "source": [
    "ds_oi.ssh_lap.hvplot.image(\n",
    "    x=\"longitude\",\n",
    "    y=\"latitude\",\n",
    "    # groupby='time',\n",
    "    # rasterize=True, \n",
    "    width=500, height=400, cmap=\"RdBu_r\")"
   ]
  },
  {
   "cell_type": "code",
   "execution_count": 42,
   "id": "6f401c5c-1ff3-4934-8a24-404366860b99",
   "metadata": {},
   "outputs": [],
   "source": [
    "# if args.smoke_test:\n",
    "#     create_movie(ds_oi.ssh_lap.isel(time=slice(50,60)), f\"pred_lap\", \"time\", cmap=\"RdBu_r\", file_path=save_path)\n",
    "# else:\n",
    "#     create_movie(ds_oi.ssh_lap, f\"pred_lap\", \"time\", cmap=\"RdBu_r\", file_path=save_path)\n"
   ]
  },
  {
   "cell_type": "code",
   "execution_count": 43,
   "id": "05ede2ed-4fe4-4209-83b0-6b25ac618daf",
   "metadata": {},
   "outputs": [],
   "source": [
    "# wandb.log(\n",
    "#     {\n",
    "#         \"predictions_laplacian_gif\": wandb.Image(f\"{save_path}/movie_pred_lap.gif\"),\n",
    "#     }\n",
    "# )"
   ]
  },
  {
   "cell_type": "code",
   "execution_count": null,
   "id": "d377f7ff-4392-4510-8f9f-6664e50c862f",
   "metadata": {},
   "outputs": [],
   "source": []
  }
 ],
 "metadata": {
  "kernelspec": {
   "display_name": "Python [conda env:jaxtftorch_cpu_py39]",
   "language": "python",
   "name": "conda-env-jaxtftorch_cpu_py39-py"
  },
  "language_info": {
   "codemirror_mode": {
    "name": "ipython",
    "version": 3
   },
   "file_extension": ".py",
   "mimetype": "text/x-python",
   "name": "python",
   "nbconvert_exporter": "python",
   "pygments_lexer": "ipython3",
   "version": "3.9.12"
  }
 },
 "nbformat": 4,
 "nbformat_minor": 5
}
