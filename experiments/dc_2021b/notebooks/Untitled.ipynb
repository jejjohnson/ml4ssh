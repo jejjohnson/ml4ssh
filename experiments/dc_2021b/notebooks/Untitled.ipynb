{
 "cells": [
  {
   "cell_type": "markdown",
   "id": "7bf6bba7-401b-459b-8378-ec7a52ac61ca",
   "metadata": {},
   "source": [
    "# Demo: Neural Implicit Functions (NIF)"
   ]
  },
  {
   "cell_type": "code",
   "execution_count": 1,
   "id": "72604e6b-7449-4644-af27-ffadd1fe901f",
   "metadata": {},
   "outputs": [],
   "source": [
    "import sys, os\n",
    "from pyprojroot import here\n",
    "\n",
    "\n",
    "# spyder up to find the root, local\n",
    "root = here(project_files=[\".root\"])\n",
    "local = here(project_files=[\".local\"])\n",
    "\n",
    "# append to path\n",
    "sys.path.append(str(root))\n",
    "sys.path.append(str(local))"
   ]
  },
  {
   "cell_type": "code",
   "execution_count": 2,
   "id": "5e2a848b-4b08-4f4b-9ebd-60aae3c73624",
   "metadata": {},
   "outputs": [
    {
     "name": "stderr",
     "output_type": "stream",
     "text": [
      "2022-06-02 17:58:46.598280: W tensorflow/stream_executor/platform/default/dso_loader.cc:64] Could not load dynamic library 'libcudart.so.11.0'; dlerror: libcudart.so.11.0: cannot open shared object file: No such file or directory\n"
     ]
    }
   ],
   "source": [
    "from pathlib import Path\n",
    "import argparse\n",
    "import wandb\n",
    "import tqdm\n",
    "import matplotlib.pyplot as plt\n",
    "import seaborn as sns\n",
    "sns.reset_defaults()\n",
    "sns.set_context(context=\"talk\", font_scale=0.7)\n",
    "\n",
    "# # Ensure TF does not see GPU and grab all GPU memory.\n",
    "# import tensorflow as tf\n",
    "# tf.config.set_visible_devices([], device_type='GPU')\n",
    "\n",
    "# os.environ[\"JAX_PLATFORM_NAME\"] = \"CPU\"\n",
    "# # ENSURE JAX DOESNT PREALLOCATE\n",
    "# os.environ[\"XLA_PYTHON_CLIENT_PREALLOCATE\"] = str(False)\n",
    "\n",
    "import jax\n",
    "import jax.random as jrandom\n",
    "import jax.numpy as jnp\n",
    "import equinox as eqx\n",
    "from ml4ssh._src.data import make_mini_batcher\n",
    "from ml4ssh._src.io import load_object, save_object\n",
    "from ml4ssh._src.viz import create_movie, plot_psd_spectrum, plot_psd_score\n",
    "from ml4ssh._src.utils import get_meshgrid, calculate_gradient, calculate_laplacian\n",
    "\n",
    "# import parsers\n",
    "from data import get_data_args, load_data\n",
    "from preprocess import add_preprocess_args, preprocess_data\n",
    "from features import add_feature_args, feature_transform\n",
    "from split import add_split_args, split_data\n",
    "from model import add_model_args, get_model\n",
    "from loss import add_loss_args, get_loss_fn\n",
    "from logger import add_logger_args\n",
    "from optimizer import add_optimizer_args, get_optimizer\n",
    "from postprocess import add_postprocess_args, postprocess_data, generate_eval_data\n",
    "from evaluation import add_eval_args, get_rmse_metrics, get_psd_metrics\n",
    "\n",
    "%matplotlib inline\n",
    "%load_ext autoreload\n",
    "%autoreload 2"
   ]
  },
  {
   "cell_type": "code",
   "execution_count": 3,
   "id": "cd4af8f9-3d73-4bf1-9c30-8b30fa1212c0",
   "metadata": {},
   "outputs": [],
   "source": [
    "parser = argparse.ArgumentParser()\n",
    "\n",
    "# logger\n",
    "parser = add_logger_args(parser)\n",
    "\n",
    "# data\n",
    "parser = get_data_args(parser)\n",
    "\n",
    "# preprocessing, feature transform, split\n",
    "parser = add_preprocess_args(parser)\n",
    "parser = add_feature_args(parser)\n",
    "parser = add_split_args(parser)\n",
    "\n",
    "# model, optimizer, loss\n",
    "parser = add_model_args(parser)\n",
    "parser = add_optimizer_args(parser)\n",
    "parser = add_loss_args(parser)\n",
    "\n",
    "# postprocessing, metrics\n",
    "parser = add_postprocess_args(parser)\n",
    "parser = add_eval_args(parser)\n",
    "\n",
    "# parse args\n",
    "args = parser.parse_args([])\n",
    "\n",
    "# # jeanzay specific\n",
    "# args.train_data_dir = \"/gpfsdswork/projects/rech/cli/uvo53rl/data/data_challenges/ssh_mapping_2021/train/\"\n",
    "# args.ref_data_dir = \"/gpfsdswork/projects/rech/cli/uvo53rl/data/data_challenges/ssh_mapping_2021/ref/\"\n",
    "# args.test_data_dir = \"/gpfsdswork/projects/rech/cli/uvo53rl/data/data_challenges/ssh_mapping_2021/test/\"\n",
    "# args.log_dir = \"/gpfswork/rech/cli/uvo53rl/logs\"\n",
    "\n",
    "# training args\n",
    "args.batch_size = 4096\n",
    "args.n_epochs = 1\n",
    "\n",
    "# model args\n",
    "args.model = \"nif\"\n",
    "args.block = \"siren\"\n",
    "args.activation = \"sine\"\n",
    "args.julian_time = True\n",
    "\n",
    "# smoke test\n",
    "args.smoke_test = True\n",
    "\n",
    "# logging stuff\n",
    "args.wandb_mode = \"disabled\"\n",
    "args.wandb_resume = True\n",
    "# ige/nerf4ssh/kx2nr6qb\n",
    "args.id = None # \"mikf2n1v\" # \"2uuq7tks\" \"kx2nr6qb\"\n",
    "# args.entity = \"ige\""
   ]
  },
  {
   "cell_type": "code",
   "execution_count": 4,
   "id": "9f6116a6-598a-4012-8a2c-f50a3cea19ae",
   "metadata": {},
   "outputs": [
    {
     "name": "stderr",
     "output_type": "stream",
     "text": [
      "Failed to detect the name of this notebook, you can set it manually with the WANDB_NOTEBOOK_NAME environment variable to enable code saving.\n"
     ]
    },
    {
     "data": {
      "text/plain": []
     },
     "execution_count": 4,
     "metadata": {},
     "output_type": "execute_result"
    }
   ],
   "source": [
    "# init wandb logger\n",
    "wandb.init(\n",
    "    id=args.id,\n",
    "    config=args,\n",
    "    mode=args.wandb_mode,\n",
    "    project=args.project,\n",
    "    entity=args.entity,\n",
    "    dir=args.log_dir,\n",
    "    resume=args.wandb_resume\n",
    ")"
   ]
  },
  {
   "cell_type": "code",
   "execution_count": 5,
   "id": "c7680bd8-7e9d-4b69-9a4a-a955274415a0",
   "metadata": {},
   "outputs": [
    {
     "name": "stderr",
     "output_type": "stream",
     "text": [
      "100%|██████████| 6/6 [00:00<00:00, 15.48it/s]\n"
     ]
    },
    {
     "name": "stdout",
     "output_type": "stream",
     "text": [
      "CPU times: user 2.14 s, sys: 632 ms, total: 2.77 s\n",
      "Wall time: 2.89 s\n"
     ]
    }
   ],
   "source": [
    "%%time\n",
    "\n",
    "# load data\n",
    "data = load_data(args)\n",
    "\n",
    "# preprocess data\n",
    "data = preprocess_data(data, args)\n",
    "\n",
    "\n",
    "# feature transformation\n",
    "data, scaler = feature_transform(data, args)"
   ]
  },
  {
   "cell_type": "code",
   "execution_count": 6,
   "id": "d3860a70-a2b2-47d6-b887-8e700ef43148",
   "metadata": {},
   "outputs": [],
   "source": [
    "\n",
    "\n",
    "\n",
    "# split data\n",
    "xtrain, ytrain, xvalid, yvalid = split_data(data, args)\n",
    "\n",
    "args.in_dim = xtrain.shape[-1]\n",
    "args.n_train = xtrain.shape[0]\n",
    "args.n_valid = xvalid.shape[0]\n",
    "\n",
    "wandb.config.update(\n",
    "    {\n",
    "        \"in_dim\": args.in_dim,\n",
    "        \"n_train\": args.n_train,\n",
    "        \"n_valid\": args.n_valid,\n",
    "    }\n",
    ")"
   ]
  },
  {
   "cell_type": "code",
   "execution_count": 7,
   "id": "31274e7e-ad16-47c9-b6f5-22435988ebed",
   "metadata": {},
   "outputs": [],
   "source": [
    "import equinox as eqx\n",
    "import numpy as np"
   ]
  },
  {
   "cell_type": "code",
   "execution_count": 84,
   "id": "e7c03a1a-98bc-4c58-83bb-dcfb95f1d747",
   "metadata": {},
   "outputs": [
    {
     "name": "stdout",
     "output_type": "stream",
     "text": [
      "Total Dims: 3\n",
      "Input Dims: 3\n"
     ]
    }
   ],
   "source": [
    "n_spatial = 2\n",
    "n_temporal = 1\n",
    "\n",
    "total_n_dims = n_spatial + n_temporal\n",
    "print(f\"Total Dims: {total_n_dims}\")\n",
    "\n",
    "# create random matrix\n",
    "inputs = np.random.randn(total_n_dims)\n",
    "print(f\"Input Dims: {inputs.shape[0]}\")"
   ]
  },
  {
   "cell_type": "code",
   "execution_count": 131,
   "id": "d33c1ce6-b9c5-4050-86d0-2bb2a220bee7",
   "metadata": {},
   "outputs": [
    {
     "name": "stdout",
     "output_type": "stream",
     "text": [
      "Hidden Dims (Shape Net): [2, 5, 10, 2, 1]\n",
      "Param Dims (Param Net): [3, 6, 11, 3, 2]\n",
      "Param Dims (Param Net): 25\n"
     ]
    }
   ],
   "source": [
    "spatial_dims = [2, 5, 10, 2, 1]\n",
    "print(f\"Hidden Dims (Shape Net): {spatial_dims}\")\n",
    "param_dims = list(map(lambda x: x + 1, spatial_dims))\n",
    "print(f\"Param Dims (Param Net): {param_dims}\")\n",
    "params = np.random.randn(sum(param_dims))\n",
    "print(f\"Param Dims (Param Net): {params.shape[0]}\")"
   ]
  },
  {
   "cell_type": "code",
   "execution_count": 135,
   "id": "9370df3b-1010-4d9b-829b-612700a1e082",
   "metadata": {},
   "outputs": [
    {
     "name": "stdout",
     "output_type": "stream",
     "text": [
      "Hidden Dims (Shape Net): [2, 5, 10, 2, 1]\n",
      "[2, 5, 10, 2, 1, 0]\n",
      "[0, 2, 5, 10, 2, 1, 0]\n"
     ]
    }
   ],
   "source": [
    "spatial_dims = [2, 5, 10, 2, 1]\n",
    "print(f\"Hidden Dims (Shape Net): {spatial_dims}\")\n",
    "print([2, 5, 10, 2, 1, 0])\n",
    "print([0, 2, 5, 10, 2, 1, 0])"
   ]
  },
  {
   "cell_type": "code",
   "execution_count": 161,
   "id": "ceb480dc-10e4-405d-afa3-ec23268b157a",
   "metadata": {},
   "outputs": [],
   "source": [
    "# get total number of dims\n",
    "n_layers = len(spatial_dims)\n",
    "layer_dims = np.asarray(spatial_dims + [0]) * np.asarray([0] + spatial_dims)\n",
    "layer_dims = layer_dims[1:-1]\n",
    "total_out_dims = np.dot(spatial_dims + [0], [0] + spatial_dims)\n",
    "\n",
    "assert total_out_dims == 2*5 + 5*10 + 10 * 2 + 2 * 1\n",
    "assert sorted(layer_dims) == sorted([2*5, 5*10, 10*2, 2*1])\n",
    "# plus bias sorted([2*5+5, 5*10+10, 10*2+2, 2*1+1])\n",
    "# todo add bias!"
   ]
  },
  {
   "cell_type": "code",
   "execution_count": null,
   "id": "7c8b4c6e-7918-4097-a26a-86d159bf4c08",
   "metadata": {},
   "outputs": [],
   "source": []
  },
  {
   "cell_type": "code",
   "execution_count": 160,
   "id": "0e1d80b9-1fd2-4d84-a3c8-15870e044661",
   "metadata": {},
   "outputs": [
    {
     "data": {
      "text/plain": [
       "array([10, 50, 20,  2])"
      ]
     },
     "execution_count": 160,
     "metadata": {},
     "output_type": "execute_result"
    }
   ],
   "source": [
    "layer_dims"
   ]
  },
  {
   "cell_type": "code",
   "execution_count": 146,
   "id": "4b1547b7-4ca0-4553-aae9-77adcfb63e78",
   "metadata": {},
   "outputs": [
    {
     "data": {
      "text/plain": [
       "[2, 5, 10, 2, 1, 0]"
      ]
     },
     "execution_count": 146,
     "metadata": {},
     "output_type": "execute_result"
    }
   ],
   "source": [
    "spatial_dims + [0]"
   ]
  },
  {
   "cell_type": "code",
   "execution_count": 147,
   "id": "14adea71-840f-4a4a-aaf2-8026071b48e1",
   "metadata": {},
   "outputs": [
    {
     "data": {
      "text/plain": [
       "[0, 2, 5, 10, 2, 1]"
      ]
     },
     "execution_count": 147,
     "metadata": {},
     "output_type": "execute_result"
    }
   ],
   "source": [
    "[0] + spatial_dims"
   ]
  },
  {
   "cell_type": "code",
   "execution_count": 134,
   "id": "20605abf-662b-49a2-b4fd-4ac01e7db4ac",
   "metadata": {},
   "outputs": [
    {
     "data": {
      "text/plain": [
       "134"
      ]
     },
     "execution_count": 134,
     "metadata": {},
     "output_type": "execute_result"
    }
   ],
   "source": [
    "all_elems = np.inner(spatial_dims, spatial_dims)\n",
    "all_elems"
   ]
  },
  {
   "cell_type": "code",
   "execution_count": 106,
   "id": "cc42ca1a-ed9c-4f60-b7f3-423c89841ec3",
   "metadata": {},
   "outputs": [
    {
     "data": {
      "text/plain": [
       "[array([-0.45176115,  0.09466085, -2.20262684,  2.15884523,  0.80498531,\n",
       "         1.0330875 ]),\n",
       " array([ 0.06380215,  0.12346026, -0.15383907, -1.168401  , -0.23856133,\n",
       "         0.34684593,  0.95689255, -0.74685097, -0.94385985, -1.33021461,\n",
       "         1.2193369 ]),\n",
       " array([1.02685605, 0.17787037, 1.49893591]),\n",
       " array([ 0.28416399, -0.59514816])]"
      ]
     },
     "execution_count": 106,
     "metadata": {},
     "output_type": "execute_result"
    }
   ],
   "source": [
    "split_params = np.split(params, np.cumsum(param_dims[:-1]), axis=0)\n",
    "split_params"
   ]
  },
  {
   "cell_type": "code",
   "execution_count": 105,
   "id": "03936881-aee4-4f05-9d7a-64ce8f79ee11",
   "metadata": {},
   "outputs": [
    {
     "data": {
      "text/plain": [
       "array([ 6, 17, 20, 22])"
      ]
     },
     "execution_count": 105,
     "metadata": {},
     "output_type": "execute_result"
    }
   ],
   "source": [
    "np.cumsum(param_dims)"
   ]
  },
  {
   "cell_type": "markdown",
   "id": "25fff8be-3ce8-4322-ba66-e0cea254cb23",
   "metadata": {},
   "source": [
    "### Method 1: NIFs"
   ]
  },
  {
   "cell_type": "code",
   "execution_count": 111,
   "id": "4bef6550-b1cc-4729-92e5-e80abf060afb",
   "metadata": {},
   "outputs": [],
   "source": [
    "def forward(inputs, params):\n",
    "    # split inputs (x,t)\n",
    "    l_params =  np.array_split(params, np.cumsum(param_dims[:-1]), axis=0)\n",
    "    \n",
    "    for idim, iparam in zip(hidden_dims, l_params):\n",
    "        print(f\"N Hidden Dims: {idim} | N Params: {iparam.shape[0]}\")\n",
    "        assert idim == (iparam.shape[0]-1)\n",
    "    \n",
    "    outputs = inputs\n",
    "    return outputs"
   ]
  },
  {
   "cell_type": "code",
   "execution_count": 128,
   "id": "b1f4dfc0-8960-4741-9bf1-8dbad358290a",
   "metadata": {},
   "outputs": [],
   "source": [
    "def linear(x, params):\n",
    "    w, b = np.array_split(params, [params.shape[0]-1], axis=0)\n",
    "    print(x.shape, w.shape, b.shape)\n",
    "    x = np.einsum(\"j,j->j\", x, w) + b\n",
    "    return x"
   ]
  },
  {
   "cell_type": "code",
   "execution_count": 129,
   "id": "cfd69a9e-ab42-41be-9486-7d608622ad8b",
   "metadata": {},
   "outputs": [
    {
     "name": "stdout",
     "output_type": "stream",
     "text": [
      "(5,) (5,) (1,)\n",
      "(5,)\n"
     ]
    }
   ],
   "source": [
    "params = np.random.randn(6)\n",
    "x = np.random.randn(5)\n",
    "x = linear(x, params)\n",
    "print(x.shape)"
   ]
  },
  {
   "cell_type": "code",
   "execution_count": 112,
   "id": "97ec33b9-a6e9-43ea-8494-8f627b4d3740",
   "metadata": {},
   "outputs": [
    {
     "name": "stdout",
     "output_type": "stream",
     "text": [
      "N Hidden Dims: 5 | N Params: 6\n",
      "N Hidden Dims: 10 | N Params: 11\n",
      "N Hidden Dims: 2 | N Params: 3\n",
      "N Hidden Dims: 1 | N Params: 2\n",
      "Outputs: 3\n"
     ]
    }
   ],
   "source": [
    "\n",
    "# propagate forward\n",
    "outputs = forward(inputs, params)\n",
    "print(f\"Outputs: {outputs.shape[0]}\")"
   ]
  },
  {
   "cell_type": "markdown",
   "id": "de307648-551c-47b4-98bb-2b1117510e8e",
   "metadata": {},
   "source": [
    "### Method 2: Neural Flows"
   ]
  },
  {
   "cell_type": "code",
   "execution_count": 52,
   "id": "bc1a09be-8ee1-4fdf-92bc-5411a91df42b",
   "metadata": {},
   "outputs": [],
   "source": [
    "def forward(inputs):\n",
    "    # split inputs (x,t)\n",
    "    x, t =  np.array_split(inputs, [n_spatial], axis=0)\n",
    "    assert x.shape[0] == n_spatial\n",
    "    assert t.shape[0] == n_temporal\n",
    "    \n",
    "    outputs = inputs\n",
    "    return outputs"
   ]
  },
  {
   "cell_type": "code",
   "execution_count": 49,
   "id": "d315536d-e5e4-46cc-8c84-7df171304ff1",
   "metadata": {},
   "outputs": [
    {
     "name": "stdout",
     "output_type": "stream",
     "text": [
      "Inputs: 3\n",
      "Outputs: 3\n"
     ]
    }
   ],
   "source": [
    "# create random matrix\n",
    "inputs = np.random.randn(total_n_dims)\n",
    "print(f\"Inputs: {inputs.shape[0]}\")\n",
    "\n",
    "# propagate forward\n",
    "outputs = forward(inputs)\n",
    "print(f\"Outputs: {outputs.shape[0]}\")"
   ]
  },
  {
   "cell_type": "code",
   "execution_count": 22,
   "id": "9a2c8588-bcc9-4a06-bbb9-41ba0c9eb12b",
   "metadata": {},
   "outputs": [
    {
     "data": {
      "text/plain": [
       "[array([-1.87486774, -0.36550761]),\n",
       " array([0.72380307]),\n",
       " array([0.97598894, 2.54082406, 1.46186936])]"
      ]
     },
     "execution_count": 22,
     "metadata": {},
     "output_type": "execute_result"
    }
   ],
   "source": [
    "\n",
    "\n",
    "# split inputs\n",
    "# x = inputs[\n",
    "out = np.array_split(inputs, [n_spatial, n_spatial + n_temporal], axis=0)\n",
    "# x, t, mu\n",
    "out"
   ]
  },
  {
   "cell_type": "code",
   "execution_count": 23,
   "id": "18a839a8-3bd8-4b77-9e5c-57c6e70514d7",
   "metadata": {},
   "outputs": [
    {
     "data": {
      "text/plain": [
       "1"
      ]
     },
     "execution_count": 23,
     "metadata": {},
     "output_type": "execute_result"
    }
   ],
   "source": [
    "n_temporal"
   ]
  },
  {
   "cell_type": "code",
   "execution_count": null,
   "id": "c12cc5a1-6988-4415-b8d7-8b8634098323",
   "metadata": {},
   "outputs": [],
   "source": []
  }
 ],
 "metadata": {
  "kernelspec": {
   "display_name": "Python [conda env:jax_cpu_py39]",
   "language": "python",
   "name": "conda-env-jax_cpu_py39-py"
  },
  "language_info": {
   "codemirror_mode": {
    "name": "ipython",
    "version": 3
   },
   "file_extension": ".py",
   "mimetype": "text/x-python",
   "name": "python",
   "nbconvert_exporter": "python",
   "pygments_lexer": "ipython3",
   "version": "3.9.12"
  }
 },
 "nbformat": 4,
 "nbformat_minor": 5
}
