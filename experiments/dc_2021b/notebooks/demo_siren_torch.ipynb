{
 "cells": [
  {
   "cell_type": "markdown",
   "id": "48671f14-4157-4801-9aeb-26379ae459ea",
   "metadata": {},
   "source": [
    "# Demo - Siren (PyTorch)"
   ]
  },
  {
   "cell_type": "code",
   "execution_count": 1,
   "id": "c8a2ee9e-04cc-4c5e-a3eb-4742a7ad7cd1",
   "metadata": {},
   "outputs": [],
   "source": [
    "import sys, os\n",
    "from pyprojroot import here\n",
    "\n",
    "\n",
    "# spyder up to find the root, local\n",
    "root = here(project_files=[\".root\"])\n",
    "local = here(project_files=[\".local\"])\n",
    "\n",
    "# append to path\n",
    "sys.path.append(str(root))\n",
    "sys.path.append(str(local))"
   ]
  },
  {
   "cell_type": "code",
   "execution_count": 2,
   "id": "4e08b309-df46-4190-96f7-914907b8b422",
   "metadata": {},
   "outputs": [
    {
     "name": "stderr",
     "output_type": "stream",
     "text": [
      "2022-06-04 11:27:12.340457: W tensorflow/stream_executor/platform/default/dso_loader.cc:64] Could not load dynamic library 'libcudart.so.11.0'; dlerror: libcudart.so.11.0: cannot open shared object file: No such file or directory\n"
     ]
    }
   ],
   "source": [
    "from pathlib import Path\n",
    "import argparse\n",
    "import wandb\n",
    "import tqdm\n",
    "import matplotlib.pyplot as plt\n",
    "import seaborn as sns\n",
    "sns.reset_defaults()\n",
    "sns.set_context(context=\"talk\", font_scale=0.7)\n",
    "\n",
    "# # Ensure TF does not see GPU and grab all GPU memory.\n",
    "# import tensorflow as tf\n",
    "# tf.config.set_visible_devices([], device_type='GPU')\n",
    "\n",
    "# os.environ[\"JAX_PLATFORM_NAME\"] = \"CPU\"\n",
    "# # ENSURE JAX DOESNT PREALLOCATE\n",
    "# os.environ[\"XLA_PYTHON_CLIENT_PREALLOCATE\"] = str(False)\n",
    "\n",
    "import jax\n",
    "import jax.random as jrandom\n",
    "import jax.numpy as jnp\n",
    "import equinox as eqx\n",
    "from ml4ssh._src.io import load_object, save_object\n",
    "from ml4ssh._src.viz import create_movie, plot_psd_spectrum, plot_psd_score\n",
    "from ml4ssh._src.utils import get_meshgrid, calculate_gradient, calculate_laplacian\n",
    "\n",
    "# import parsers\n",
    "from data import get_data_args, load_data\n",
    "from preprocess import add_preprocess_args, preprocess_data\n",
    "from features import add_feature_args, feature_transform\n",
    "from split import add_split_args, split_data\n",
    "from models.siren_torch import add_model_args\n",
    "from loss import add_loss_args, get_loss_fn\n",
    "from logger import add_logger_args\n",
    "from optimizer import add_optimizer_args, get_optimizer\n",
    "from postprocess import add_postprocess_args, postprocess_data, generate_eval_data\n",
    "from evaluation import add_eval_args, get_rmse_metrics, get_psd_metrics\n",
    "\n",
    "from pytorch_lightning.loggers import WandbLogger\n",
    "from pytorch_lightning import Trainer\n",
    "from pytorch_lightning.utilities.argparse import add_argparse_args\n",
    "\n",
    "%matplotlib inline\n",
    "%load_ext autoreload\n",
    "%autoreload 2"
   ]
  },
  {
   "cell_type": "code",
   "execution_count": 1,
   "id": "48e97f26-5316-4b1b-b3cb-5dc94badb788",
   "metadata": {},
   "outputs": [],
   "source": [
    "import loguru"
   ]
  },
  {
   "cell_type": "markdown",
   "id": "305ed40f-5926-41e3-8f76-22d50df60c1e",
   "metadata": {},
   "source": [
    "### Arguments"
   ]
  },
  {
   "cell_type": "code",
   "execution_count": 3,
   "id": "ad519f7b-be94-419e-ba50-f14958c2b2a8",
   "metadata": {},
   "outputs": [],
   "source": [
    "parser = argparse.ArgumentParser()\n",
    "\n",
    "# logger\n",
    "parser = add_logger_args(parser)\n",
    "\n",
    "# data\n",
    "parser = get_data_args(parser)\n",
    "\n",
    "# preprocessing, feature transform, split\n",
    "parser = add_preprocess_args(parser)\n",
    "parser = add_feature_args(parser)\n",
    "parser = add_split_args(parser)\n",
    "\n",
    "# model, optimizer, loss\n",
    "parser = add_model_args(parser)\n",
    "parser = add_optimizer_args(parser)\n",
    "parser = add_loss_args(parser)\n",
    "parser = add_argparse_args(Trainer, parser)\n",
    "\n",
    "# postprocessing, metrics\n",
    "parser = add_postprocess_args(parser)\n",
    "parser = add_eval_args(parser)\n",
    "\n",
    "# parse args\n",
    "args = parser.parse_args([])\n",
    "\n",
    "# # jeanzay specific\n",
    "# args.train_data_dir = \"/gpfsdswork/projects/rech/cli/uvo53rl/data/data_challenges/ssh_mapping_2021/train/\"\n",
    "# args.ref_data_dir = \"/gpfsdswork/projects/rech/cli/uvo53rl/data/data_challenges/ssh_mapping_2021/ref/\"\n",
    "# args.test_data_dir = \"/gpfsdswork/projects/rech/cli/uvo53rl/data/data_challenges/ssh_mapping_2021/test/\"\n",
    "# args.log_dir = \"/gpfswork/rech/cli/uvo53rl/logs\"\n",
    "\n",
    "# training args\n",
    "# args.log_dir = \n",
    "args.batch_size = 4096\n",
    "args.n_epochs = 2\n",
    "\n",
    "# model args\n",
    "args.model = \"siren\"\n",
    "args.activation = \"sine\"\n",
    "args.julian_time = True\n",
    "args.framework = \"pytorch\"\n",
    "\n",
    "# smoke test\n",
    "args.smoke_test = True\n",
    "\n",
    "# logging stuff\n",
    "args.project = \"nerf4ssh\"\n",
    "args.wandb_mode = \"online\"\n",
    "args.wandb_resume = False\n",
    "# ige/nerf4ssh/kx2nr6qb\n",
    "args.id = None # \"mikf2n1v\" # \"2uuq7tks\" \"kx2nr6qb\"\n",
    "# args.entity = \"ige\"\n"
   ]
  },
  {
   "cell_type": "markdown",
   "id": "2816cbb2-1a8f-431d-a12b-d0e4f008b7f5",
   "metadata": {},
   "source": [
    "### Logger\n"
   ]
  },
  {
   "cell_type": "code",
   "execution_count": 4,
   "id": "7733fbe0-fb43-4eda-af8e-50f00e380ec1",
   "metadata": {},
   "outputs": [
    {
     "name": "stderr",
     "output_type": "stream",
     "text": [
      "Failed to detect the name of this notebook, you can set it manually with the WANDB_NOTEBOOK_NAME environment variable to enable code saving.\n",
      "\u001b[34m\u001b[1mwandb\u001b[0m: Currently logged in as: \u001b[33memanjohnson91\u001b[0m (\u001b[33mige\u001b[0m). Use \u001b[1m`wandb login --relogin`\u001b[0m to force relogin\n",
      "2022-06-04 11:27:18.906144: W tensorflow/stream_executor/platform/default/dso_loader.cc:64] Could not load dynamic library 'libcudart.so.11.0'; dlerror: libcudart.so.11.0: cannot open shared object file: No such file or directory\n"
     ]
    },
    {
     "data": {
      "text/html": [
       "Tracking run with wandb version 0.12.17"
      ],
      "text/plain": [
       "<IPython.core.display.HTML object>"
      ]
     },
     "metadata": {},
     "output_type": "display_data"
    },
    {
     "data": {
      "text/html": [
       "Run data is saved locally in <code>./wandb/run-20220604_112718-1f5rirai</code>"
      ],
      "text/plain": [
       "<IPython.core.display.HTML object>"
      ]
     },
     "metadata": {},
     "output_type": "display_data"
    },
    {
     "data": {
      "text/html": [
       "Syncing run <strong><a href=\"https://wandb.ai/ige/nerf4ssh/runs/1f5rirai\" target=\"_blank\">serene-snowball-73</a></strong> to <a href=\"https://wandb.ai/ige/nerf4ssh\" target=\"_blank\">Weights & Biases</a> (<a href=\"https://wandb.me/run\" target=\"_blank\">docs</a>)<br/>"
      ],
      "text/plain": [
       "<IPython.core.display.HTML object>"
      ]
     },
     "metadata": {},
     "output_type": "display_data"
    }
   ],
   "source": [
    "# init wandb logger\n",
    "wandb_logger = WandbLogger(\n",
    "    id=args.id,\n",
    "    config=args,\n",
    "    mode=args.wandb_mode,\n",
    "    project=args.project,\n",
    "    entity=args.entity,\n",
    "    dir=args.log_dir,\n",
    "    resume=args.wandb_resume\n",
    ")"
   ]
  },
  {
   "cell_type": "markdown",
   "id": "dce2df15-f422-406b-8e53-64edf65f4172",
   "metadata": {},
   "source": [
    "### Load Data"
   ]
  },
  {
   "cell_type": "code",
   "execution_count": 5,
   "id": "1a204743-93da-4f08-a080-67fcd404f1ec",
   "metadata": {},
   "outputs": [
    {
     "name": "stderr",
     "output_type": "stream",
     "text": [
      "100%|██████████| 6/6 [00:00<00:00, 21.95it/s]\n"
     ]
    },
    {
     "name": "stdout",
     "output_type": "stream",
     "text": [
      "CPU times: user 412 ms, sys: 180 ms, total: 592 ms\n",
      "Wall time: 615 ms\n"
     ]
    }
   ],
   "source": [
    "%%time\n",
    "\n",
    "# load data\n",
    "data = load_data(args)"
   ]
  },
  {
   "cell_type": "code",
   "execution_count": 6,
   "id": "255a4c24-1d0a-47f1-a6d8-60d91ff6c572",
   "metadata": {},
   "outputs": [],
   "source": [
    "# preprocess data\n",
    "data = preprocess_data(data, args)"
   ]
  },
  {
   "cell_type": "code",
   "execution_count": 7,
   "id": "359782c7-7835-4303-b544-b51a2857da57",
   "metadata": {},
   "outputs": [],
   "source": [
    "# feature transformation\n",
    "data, scaler = feature_transform(data, args)"
   ]
  },
  {
   "cell_type": "code",
   "execution_count": 9,
   "id": "7386abc3-3927-4ae3-8eb8-cf0ac87426a1",
   "metadata": {},
   "outputs": [],
   "source": [
    "# split data\n",
    "xtrain, ytrain, xvalid, yvalid = split_data(data, args)\n",
    "\n",
    "args.in_dim = xtrain.shape[-1]\n",
    "args.n_train = xtrain.shape[0]\n",
    "args.n_valid = xvalid.shape[0]\n",
    "\n",
    "wandb_logger.log_hyperparams(\n",
    "    {\n",
    "        \"in_dim\": args.in_dim,\n",
    "        \"n_train\": args.n_train,\n",
    "        \"n_valid\": args.n_valid,\n",
    "    }\n",
    ")"
   ]
  },
  {
   "cell_type": "code",
   "execution_count": 10,
   "id": "9d2d93f7-0344-4fae-8f56-9dbe02ba09c0",
   "metadata": {},
   "outputs": [
    {
     "data": {
      "text/html": [
       "<div>\n",
       "<style scoped>\n",
       "    .dataframe tbody tr th:only-of-type {\n",
       "        vertical-align: middle;\n",
       "    }\n",
       "\n",
       "    .dataframe tbody tr th {\n",
       "        vertical-align: top;\n",
       "    }\n",
       "\n",
       "    .dataframe thead th {\n",
       "        text-align: right;\n",
       "    }\n",
       "</style>\n",
       "<table border=\"1\" class=\"dataframe\">\n",
       "  <thead>\n",
       "    <tr style=\"text-align: right;\">\n",
       "      <th></th>\n",
       "      <th>longitude</th>\n",
       "      <th>latitude</th>\n",
       "      <th>time</th>\n",
       "    </tr>\n",
       "  </thead>\n",
       "  <tbody>\n",
       "    <tr>\n",
       "      <th>0</th>\n",
       "      <td>0.633663</td>\n",
       "      <td>-0.998266</td>\n",
       "      <td>-1.0</td>\n",
       "    </tr>\n",
       "    <tr>\n",
       "      <th>1</th>\n",
       "      <td>0.632683</td>\n",
       "      <td>-0.994338</td>\n",
       "      <td>-1.0</td>\n",
       "    </tr>\n",
       "    <tr>\n",
       "      <th>2</th>\n",
       "      <td>0.631703</td>\n",
       "      <td>-0.990410</td>\n",
       "      <td>-1.0</td>\n",
       "    </tr>\n",
       "    <tr>\n",
       "      <th>3</th>\n",
       "      <td>0.630723</td>\n",
       "      <td>-0.986482</td>\n",
       "      <td>-1.0</td>\n",
       "    </tr>\n",
       "    <tr>\n",
       "      <th>4</th>\n",
       "      <td>0.629742</td>\n",
       "      <td>-0.982554</td>\n",
       "      <td>-1.0</td>\n",
       "    </tr>\n",
       "  </tbody>\n",
       "</table>\n",
       "</div>"
      ],
      "text/plain": [
       "   longitude  latitude  time\n",
       "0   0.633663 -0.998266  -1.0\n",
       "1   0.632683 -0.994338  -1.0\n",
       "2   0.631703 -0.990410  -1.0\n",
       "3   0.630723 -0.986482  -1.0\n",
       "4   0.629742 -0.982554  -1.0"
      ]
     },
     "execution_count": 10,
     "metadata": {},
     "output_type": "execute_result"
    }
   ],
   "source": [
    "data[[\"longitude\", \"latitude\", \"time\"]].head()"
   ]
  },
  {
   "cell_type": "markdown",
   "id": "426d54d7-20bd-4139-bf64-938301bc73fa",
   "metadata": {},
   "source": [
    "### Dataset"
   ]
  },
  {
   "cell_type": "code",
   "execution_count": 12,
   "id": "9555d40a-8cd1-4b64-96f8-4ff81fa7691d",
   "metadata": {},
   "outputs": [],
   "source": [
    "import torch\n",
    "from torch.utils.data import Dataset, DataLoader"
   ]
  },
  {
   "cell_type": "code",
   "execution_count": 13,
   "id": "b3822730-7c0e-47c1-aaae-66b68ef13c3d",
   "metadata": {},
   "outputs": [],
   "source": [
    "class PointsDataset(Dataset):\n",
    "    def __init__(self, X, y):\n",
    "        self.X = X\n",
    "        self.y = y\n",
    "        \n",
    "    def __len__(self):\n",
    "        return len(self.X)\n",
    "    \n",
    "    def __getitem__(self, index):\n",
    "        X = self.X[index]\n",
    "        y = self.y[index]\n",
    "        \n",
    "        return X, y"
   ]
  },
  {
   "cell_type": "code",
   "execution_count": 15,
   "id": "320345f0-9294-42aa-ba82-7501a63f784b",
   "metadata": {},
   "outputs": [],
   "source": [
    "# initialize dataset\n",
    "ds_train = PointsDataset(torch.Tensor(xtrain), torch.Tensor(ytrain))\n",
    "ds_valid = PointsDataset(torch.Tensor(xvalid), torch.Tensor(yvalid))\n",
    "# initialize dataloader\n",
    "# initialize dataloader\n",
    "dl_train = DataLoader(\n",
    "    ds_train, \n",
    "    batch_size=args.batch_size, \n",
    "    shuffle=True, \n",
    "    pin_memory=True,\n",
    "    num_workers=args.num_workers\n",
    ")\n",
    "dl_valid = DataLoader(\n",
    "    ds_valid, \n",
    "    batch_size=args.batch_size, \n",
    "    shuffle=False, \n",
    "    pin_memory=True,\n",
    "    num_workers=args.num_workers,\n",
    ")"
   ]
  },
  {
   "cell_type": "markdown",
   "id": "ef39f5ec-1066-467c-b4ba-d205adc4fba2",
   "metadata": {},
   "source": [
    "### Model"
   ]
  },
  {
   "cell_type": "code",
   "execution_count": 16,
   "id": "3fcb8cad-8f94-49a7-bc1e-b17933cf28c1",
   "metadata": {},
   "outputs": [],
   "source": [
    "from ml4ssh._src.models_torch.siren import SirenNet"
   ]
  },
  {
   "cell_type": "code",
   "execution_count": 17,
   "id": "3e2113ae-281a-4d52-a987-63c9143837ab",
   "metadata": {},
   "outputs": [],
   "source": [
    "model = SirenNet(\n",
    "    dim_in=3,\n",
    "    dim_hidden=args.hidden_dim,\n",
    "    dim_out=ytrain.shape[1], \n",
    "    num_layers=args.n_hidden, \n",
    "    w0=args.w0,\n",
    "    w0_initial=args.w0_initial,\n",
    "    use_bias=True,\n",
    "    final_activation=None\n",
    ")\n",
    "    "
   ]
  },
  {
   "cell_type": "code",
   "execution_count": 18,
   "id": "3eb128e5-8f99-4df4-a2a1-2464ca8006e9",
   "metadata": {},
   "outputs": [
    {
     "data": {
      "text/plain": [
       "(1.0, 30.0)"
      ]
     },
     "execution_count": 18,
     "metadata": {},
     "output_type": "execute_result"
    }
   ],
   "source": [
    "args.w0, args.w0_initial"
   ]
  },
  {
   "cell_type": "markdown",
   "id": "c2a1d68f-2cc9-4246-8bd8-a83b234dd49f",
   "metadata": {},
   "source": [
    "### Training"
   ]
  },
  {
   "cell_type": "code",
   "execution_count": 19,
   "id": "59bcbd75-1ba0-4c95-9960-900393572ef8",
   "metadata": {},
   "outputs": [],
   "source": [
    "import torch\n",
    "from torch import nn\n"
   ]
  },
  {
   "cell_type": "code",
   "execution_count": 20,
   "id": "1d11e9de-daa2-4257-9b79-a1c12cc92209",
   "metadata": {},
   "outputs": [],
   "source": [
    "import pytorch_lightning as pl\n",
    "\n",
    "class LearnerPoints(pl.LightningModule):\n",
    "    def __init__(self, model:nn.Module):\n",
    "        super().__init__()\n",
    "        self.model = model\n",
    "        self.loss = nn.MSELoss(reduction=\"mean\")\n",
    "\n",
    "    def forward(self, x):\n",
    "        return self.model(x)\n",
    "    \n",
    "    def predict_step(self, batch, batch_idx, dataloader_idx=0):\n",
    "        \n",
    "        \n",
    "        x, y = batch\n",
    "        pred = self.model(x)\n",
    "        \n",
    "        return pred\n",
    "\n",
    "    def training_step(self, batch, batch_idx):\n",
    "        x, y = batch\n",
    "        # loss function\n",
    "        pred = self.model(x)\n",
    "        loss = self.loss(pred, y)\n",
    "        \n",
    "        self.log(\"train_loss\", loss)\n",
    "        \n",
    "        return loss\n",
    "    \n",
    "    def validation_step(self, batch, batch_idx):\n",
    "        x, y = batch\n",
    "        # loss function\n",
    "        pred = self.model(x)\n",
    "        loss = self.loss(pred, y)\n",
    "        \n",
    "        self.log(\"valid_loss\", loss)\n",
    "        \n",
    "        return loss\n",
    "    \n",
    "    def configure_optimizers(self):\n",
    "        return torch.optim.Adam(self.model.parameters(), lr=args.learning_rate)"
   ]
  },
  {
   "cell_type": "code",
   "execution_count": 21,
   "id": "29560448-ec2d-4fee-a2a8-b578e1a75bc3",
   "metadata": {},
   "outputs": [],
   "source": [
    "from pytorch_lightning.callbacks.early_stopping import EarlyStopping\n",
    "from pytorch_lightning.callbacks.model_checkpoint import ModelCheckpoint\n",
    "\n",
    "callbacks = [\n",
    "    ModelCheckpoint(\n",
    "        dirpath = f\"{wandb_logger.experiment.dir}/checkpoints\",\n",
    "    ),\n",
    "    EarlyStopping(monitor=\"valid_loss\", mode=\"min\", patience=3),\n",
    "    \n",
    "]"
   ]
  },
  {
   "cell_type": "code",
   "execution_count": 22,
   "id": "a3b0e042-4852-4d3b-8d2a-bf42ab78f93c",
   "metadata": {},
   "outputs": [],
   "source": [
    "# initialize trainer\n",
    "learn = LearnerPoints(model)"
   ]
  },
  {
   "cell_type": "code",
   "execution_count": 23,
   "id": "5961ecdb-ab96-48db-9ac6-8955d897f897",
   "metadata": {},
   "outputs": [
    {
     "name": "stderr",
     "output_type": "stream",
     "text": [
      "Global seed set to 123\n"
     ]
    },
    {
     "data": {
      "text/plain": [
       "123"
      ]
     },
     "execution_count": 23,
     "metadata": {},
     "output_type": "execute_result"
    }
   ],
   "source": [
    "from pytorch_lightning import seed_everything\n",
    "seed_everything(123)"
   ]
  },
  {
   "cell_type": "code",
   "execution_count": 24,
   "id": "b22433d2-b623-4333-8b86-f6db78a7a863",
   "metadata": {},
   "outputs": [
    {
     "name": "stderr",
     "output_type": "stream",
     "text": [
      "Multiprocessing is handled by SLURM.\n",
      "GPU available: False, used: False\n",
      "TPU available: False, using: 0 TPU cores\n",
      "IPU available: False, using: 0 IPUs\n",
      "HPU available: False, using: 0 HPUs\n"
     ]
    }
   ],
   "source": [
    "# initialize trainer\n",
    "trainer = pl.Trainer(\n",
    "    min_epochs=args.min_epochs, \n",
    "    max_epochs=args.n_epochs, \n",
    "    gpus=args.gpus, \n",
    "    enable_progress_bar=True, \n",
    "    logger=wandb_logger,\n",
    "    callbacks=callbacks,\n",
    ")"
   ]
  },
  {
   "cell_type": "code",
   "execution_count": 25,
   "id": "5b5c443d-31a6-4336-9c27-2d5890e56335",
   "metadata": {},
   "outputs": [
    {
     "name": "stderr",
     "output_type": "stream",
     "text": [
      "\n",
      "  | Name  | Type     | Params\n",
      "-----------------------------------\n",
      "0 | model | SirenNet | 1.3 M \n",
      "1 | loss  | MSELoss  | 0     \n",
      "-----------------------------------\n",
      "1.3 M     Trainable params\n",
      "0         Non-trainable params\n",
      "1.3 M     Total params\n",
      "5.263     Total estimated model params size (MB)\n",
      "SLURM auto-requeueing enabled. Setting signal handlers.\n"
     ]
    },
    {
     "data": {
      "application/vnd.jupyter.widget-view+json": {
       "model_id": "",
       "version_major": 2,
       "version_minor": 0
      },
      "text/plain": [
       "Sanity Checking: 0it [00:00, ?it/s]"
      ]
     },
     "metadata": {},
     "output_type": "display_data"
    },
    {
     "name": "stderr",
     "output_type": "stream",
     "text": [
      "/home/johnsonj/miniconda3/envs/jaxtftorch_cpu_py39/lib/python3.9/site-packages/pytorch_lightning/trainer/connectors/data_connector.py:240: PossibleUserWarning: The dataloader, val_dataloader 0, does not have many workers which may be a bottleneck. Consider increasing the value of the `num_workers` argument` (try 10 which is the number of cpus on this machine) in the `DataLoader` init to improve performance.\n",
      "  rank_zero_warn(\n",
      "/home/johnsonj/miniconda3/envs/jaxtftorch_cpu_py39/lib/python3.9/site-packages/torchmetrics/utilities/prints.py:36: UserWarning: Torchmetrics v0.9 introduced a new argument class property called `full_state_update` that has\n",
      "                not been set for this class (_ResultMetric). The property determines if `update` by\n",
      "                default needs access to the full metric state. If this is not the case, significant speedups can be\n",
      "                achieved and we recommend setting this to `False`.\n",
      "                We provide an checking function\n",
      "                `from torchmetrics.utilities import check_forward_no_full_state`\n",
      "                that can be used to check if the `full_state_update=True` (old and potential slower behaviour,\n",
      "                default for now) or if `full_state_update=False` can be used safely.\n",
      "                \n",
      "  warnings.warn(*args, **kwargs)\n",
      "/home/johnsonj/miniconda3/envs/jaxtftorch_cpu_py39/lib/python3.9/site-packages/pytorch_lightning/trainer/connectors/data_connector.py:240: PossibleUserWarning: The dataloader, train_dataloader, does not have many workers which may be a bottleneck. Consider increasing the value of the `num_workers` argument` (try 10 which is the number of cpus on this machine) in the `DataLoader` init to improve performance.\n",
      "  rank_zero_warn(\n"
     ]
    },
    {
     "data": {
      "application/vnd.jupyter.widget-view+json": {
       "model_id": "32b4ddeb7d0b4afba199e04c2952e92f",
       "version_major": 2,
       "version_minor": 0
      },
      "text/plain": [
       "Training: 0it [00:00, ?it/s]"
      ]
     },
     "metadata": {},
     "output_type": "display_data"
    },
    {
     "data": {
      "application/vnd.jupyter.widget-view+json": {
       "model_id": "",
       "version_major": 2,
       "version_minor": 0
      },
      "text/plain": [
       "Validation: 0it [00:00, ?it/s]"
      ]
     },
     "metadata": {},
     "output_type": "display_data"
    },
    {
     "data": {
      "application/vnd.jupyter.widget-view+json": {
       "model_id": "",
       "version_major": 2,
       "version_minor": 0
      },
      "text/plain": [
       "Validation: 0it [00:00, ?it/s]"
      ]
     },
     "metadata": {},
     "output_type": "display_data"
    }
   ],
   "source": [
    "trainer.fit(learn, train_dataloaders=dl_train, val_dataloaders=dl_valid)"
   ]
  },
  {
   "cell_type": "markdown",
   "id": "62ed2cdc-b549-4969-8d98-204f9728bee3",
   "metadata": {},
   "source": [
    "### Save models"
   ]
  },
  {
   "cell_type": "code",
   "execution_count": 27,
   "id": "52ca9974-363e-4649-8660-aabef5808789",
   "metadata": {},
   "outputs": [
    {
     "data": {
      "text/plain": [
       "'./wandb/run-20220604_112718-1f5rirai/files'"
      ]
     },
     "execution_count": 27,
     "metadata": {},
     "output_type": "execute_result"
    }
   ],
   "source": [
    "wandb.run.dir"
   ]
  },
  {
   "cell_type": "code",
   "execution_count": 33,
   "id": "ed63a01f-45a1-4c00-bc03-2cfcb9910978",
   "metadata": {},
   "outputs": [
    {
     "data": {
      "text/plain": [
       "['./wandb/run-20220604_112718-1f5rirai/files/scaler.pickle',\n",
       " './wandb/run-20220604_112718-1f5rirai/files/scaler.pickle']"
      ]
     },
     "execution_count": 33,
     "metadata": {},
     "output_type": "execute_result"
    }
   ],
   "source": [
    "# objects\n",
    "path_scaler = \"./scaler.pickle\"\n",
    "\n",
    "# models to save\n",
    "save_object(scaler, path_scaler)\n",
    "\n",
    "# save with wandb\n",
    "wandb_logger.experiment.save(str(path_scaler))"
   ]
  },
  {
   "cell_type": "markdown",
   "id": "3952eecb-b099-4422-8c91-52285bb01c6e",
   "metadata": {},
   "source": [
    "### Load Models (Optional)"
   ]
  },
  {
   "cell_type": "code",
   "execution_count": 25,
   "id": "50cccbdb-ac0a-49e0-84e9-e14067312257",
   "metadata": {},
   "outputs": [],
   "source": [
    "# # if args.server == \"jz\":\n",
    "# # get id (from this run or a run you can set)\n",
    "# run_id = wandb.run.id\n",
    "\n",
    "# # initialize api\n",
    "# api = wandb.Api()\n",
    "\n",
    "# # get run\n",
    "# run = api.run(f\"{args.entity}/{args.project}/{run_id}\")\n",
    "\n",
    "# # download the files\n",
    "# files = [\n",
    "#     \"scaler.pickle\", \n",
    "#     \"model.pickle\"\n",
    "# ]\n",
    "\n",
    "# for ifile in files:\n",
    "    \n",
    "#     run.file(ifile).download(replace=True)"
   ]
  },
  {
   "cell_type": "code",
   "execution_count": 26,
   "id": "cef597ca-bc1f-4996-b51a-f5deed6c5491",
   "metadata": {},
   "outputs": [],
   "source": [
    "# model = load_object(\"./model.pickle\")\n",
    "# scaler = load_object(\"./scaler.pickle\")"
   ]
  },
  {
   "cell_type": "markdown",
   "id": "450003ae-4943-4704-b6f4-5b7eab4f21ba",
   "metadata": {},
   "source": [
    "### PostProcessing"
   ]
  },
  {
   "cell_type": "code",
   "execution_count": 34,
   "id": "316e79d9-efc8-4707-9c67-e9781e110004",
   "metadata": {},
   "outputs": [
    {
     "data": {
      "text/html": [
       "<div>\n",
       "<style scoped>\n",
       "    .dataframe tbody tr th:only-of-type {\n",
       "        vertical-align: middle;\n",
       "    }\n",
       "\n",
       "    .dataframe tbody tr th {\n",
       "        vertical-align: top;\n",
       "    }\n",
       "\n",
       "    .dataframe thead th {\n",
       "        text-align: right;\n",
       "    }\n",
       "</style>\n",
       "<table border=\"1\" class=\"dataframe\">\n",
       "  <thead>\n",
       "    <tr style=\"text-align: right;\">\n",
       "      <th></th>\n",
       "      <th>longitude</th>\n",
       "      <th>latitude</th>\n",
       "      <th>vtime</th>\n",
       "    </tr>\n",
       "  </thead>\n",
       "  <tbody>\n",
       "    <tr>\n",
       "      <th>count</th>\n",
       "      <td>2664.000000</td>\n",
       "      <td>2664.000000</td>\n",
       "      <td>2664.000000</td>\n",
       "    </tr>\n",
       "    <tr>\n",
       "      <th>mean</th>\n",
       "      <td>300.000000</td>\n",
       "      <td>38.000000</td>\n",
       "      <td>213.500000</td>\n",
       "    </tr>\n",
       "    <tr>\n",
       "      <th>std</th>\n",
       "      <td>3.416292</td>\n",
       "      <td>3.416292</td>\n",
       "      <td>106.820098</td>\n",
       "    </tr>\n",
       "    <tr>\n",
       "      <th>min</th>\n",
       "      <td>295.000000</td>\n",
       "      <td>33.000000</td>\n",
       "      <td>31.000000</td>\n",
       "    </tr>\n",
       "    <tr>\n",
       "      <th>25%</th>\n",
       "      <td>297.000000</td>\n",
       "      <td>35.000000</td>\n",
       "      <td>121.000000</td>\n",
       "    </tr>\n",
       "    <tr>\n",
       "      <th>50%</th>\n",
       "      <td>300.000000</td>\n",
       "      <td>38.000000</td>\n",
       "      <td>213.500000</td>\n",
       "    </tr>\n",
       "    <tr>\n",
       "      <th>75%</th>\n",
       "      <td>303.000000</td>\n",
       "      <td>41.000000</td>\n",
       "      <td>306.000000</td>\n",
       "    </tr>\n",
       "    <tr>\n",
       "      <th>max</th>\n",
       "      <td>305.000000</td>\n",
       "      <td>43.000000</td>\n",
       "      <td>396.000000</td>\n",
       "    </tr>\n",
       "  </tbody>\n",
       "</table>\n",
       "</div>"
      ],
      "text/plain": [
       "         longitude     latitude        vtime\n",
       "count  2664.000000  2664.000000  2664.000000\n",
       "mean    300.000000    38.000000   213.500000\n",
       "std       3.416292     3.416292   106.820098\n",
       "min     295.000000    33.000000    31.000000\n",
       "25%     297.000000    35.000000   121.000000\n",
       "50%     300.000000    38.000000   213.500000\n",
       "75%     303.000000    41.000000   306.000000\n",
       "max     305.000000    43.000000   396.000000"
      ]
     },
     "execution_count": 34,
     "metadata": {},
     "output_type": "execute_result"
    }
   ],
   "source": [
    "df_grid = generate_eval_data(args)\n",
    "\n",
    "df_grid.describe()"
   ]
  },
  {
   "cell_type": "code",
   "execution_count": 35,
   "id": "d4d296bb-b91d-4993-b0ee-bff91208b6e9",
   "metadata": {},
   "outputs": [
    {
     "data": {
      "text/plain": [
       "(          longitude     latitude         time        vtime\n",
       " count  2.664000e+03  2664.000000  2664.000000  2664.000000\n",
       " mean  -2.666668e-07     0.000003     0.002343   213.500000\n",
       " std    2.277529e-01     0.227754     0.501610   106.820098\n",
       " min   -3.333338e-01    -0.333332    -0.854648    31.000000\n",
       " 25%   -2.000004e-01    -0.199998    -0.432022   121.000000\n",
       " 50%   -2.666668e-07     0.000003     0.002343   213.500000\n",
       " 75%    1.999999e-01     0.200003     0.436709   306.000000\n",
       " max    3.333333e-01     0.333337     0.859335   396.000000,\n",
       "          longitude     latitude        vtime\n",
       " count  2664.000000  2664.000000  2664.000000\n",
       " mean    300.000000    38.000000   213.500000\n",
       " std       3.416292     3.416292   106.820098\n",
       " min     295.000000    33.000000    31.000000\n",
       " 25%     297.000000    35.000000   121.000000\n",
       " 50%     300.000000    38.000000   213.500000\n",
       " 75%     303.000000    41.000000   306.000000\n",
       " max     305.000000    43.000000   396.000000)"
      ]
     },
     "execution_count": 35,
     "metadata": {},
     "output_type": "execute_result"
    }
   ],
   "source": [
    "df_pred = feature_transform(df_grid.copy(), args, scaler=scaler)\n",
    "df_pred.describe(), df_grid.describe()"
   ]
  },
  {
   "cell_type": "code",
   "execution_count": 36,
   "id": "8eb60b56-b570-42dd-82f7-77d92d2fe3a0",
   "metadata": {},
   "outputs": [],
   "source": [
    "df_pred = df_pred[df_pred.columns.difference([\"time\"])].values"
   ]
  },
  {
   "cell_type": "code",
   "execution_count": 37,
   "id": "f4b760ae-310e-4d5f-996d-1ce8570f6f80",
   "metadata": {},
   "outputs": [],
   "source": [
    "# initialize dataset\n",
    "ds_test = PointsDataset(torch.Tensor(df_pred), torch.Tensor(df_pred))\n",
    "# initialize dataloader\n",
    "dl_test = DataLoader(\n",
    "    ds_test, \n",
    "    batch_size=args.batch_size, \n",
    "    shuffle=False, \n",
    "    pin_memory=True\n",
    ")"
   ]
  },
  {
   "cell_type": "code",
   "execution_count": 38,
   "id": "b88fd4cb-35ae-468b-9292-812f215fecbf",
   "metadata": {},
   "outputs": [
    {
     "name": "stderr",
     "output_type": "stream",
     "text": [
      "/home/johnsonj/miniconda3/envs/jaxtftorch_cpu_py39/lib/python3.9/site-packages/pytorch_lightning/trainer/connectors/data_connector.py:240: PossibleUserWarning: The dataloader, predict_dataloader 0, does not have many workers which may be a bottleneck. Consider increasing the value of the `num_workers` argument` (try 10 which is the number of cpus on this machine) in the `DataLoader` init to improve performance.\n",
      "  rank_zero_warn(\n"
     ]
    },
    {
     "data": {
      "application/vnd.jupyter.widget-view+json": {
       "model_id": "deaa1218adc04629b1eaf83499754d22",
       "version_major": 2,
       "version_minor": 0
      },
      "text/plain": [
       "Predicting: 394it [00:00, ?it/s]"
      ]
     },
     "metadata": {},
     "output_type": "display_data"
    }
   ],
   "source": [
    "predictions = trainer.predict(learn, dataloaders=dl_test)"
   ]
  },
  {
   "cell_type": "code",
   "execution_count": 39,
   "id": "c010e7a5-a111-4838-8240-0fee416cbcc2",
   "metadata": {},
   "outputs": [],
   "source": [
    "df_grid[\"pred\"] = predictions[0].numpy()"
   ]
  },
  {
   "cell_type": "code",
   "execution_count": 40,
   "id": "665740c1-03cb-49ea-8ce1-22db16a85b84",
   "metadata": {},
   "outputs": [],
   "source": [
    "wandb_logger.log_hyperparams(\n",
    "    {\n",
    "        \"n_test\": df_pred.shape[0],\n",
    "    }\n",
    ")"
   ]
  },
  {
   "cell_type": "code",
   "execution_count": 41,
   "id": "11412828-7bd7-4c9c-aaf9-3b638d638313",
   "metadata": {},
   "outputs": [
    {
     "name": "stderr",
     "output_type": "stream",
     "text": [
      "/home/johnsonj/miniconda3/envs/jaxtftorch_cpu_py39/lib/python3.9/site-packages/xarray/core/missing.py:562: FutureWarning: Passing method to Float64Index.get_loc is deprecated and will raise in a future version. Use index.get_indexer([item], method=...) instead.\n",
      "  imin = index.get_loc(minval, method=\"nearest\")\n",
      "/home/johnsonj/miniconda3/envs/jaxtftorch_cpu_py39/lib/python3.9/site-packages/xarray/core/missing.py:563: FutureWarning: Passing method to Float64Index.get_loc is deprecated and will raise in a future version. Use index.get_indexer([item], method=...) instead.\n",
      "  imax = index.get_loc(maxval, method=\"nearest\")\n",
      "/home/johnsonj/miniconda3/envs/jaxtftorch_cpu_py39/lib/python3.9/site-packages/xarray/core/missing.py:562: FutureWarning: Passing method to Float64Index.get_loc is deprecated and will raise in a future version. Use index.get_indexer([item], method=...) instead.\n",
      "  imin = index.get_loc(minval, method=\"nearest\")\n",
      "/home/johnsonj/miniconda3/envs/jaxtftorch_cpu_py39/lib/python3.9/site-packages/xarray/core/missing.py:563: FutureWarning: Passing method to Float64Index.get_loc is deprecated and will raise in a future version. Use index.get_indexer([item], method=...) instead.\n",
      "  imax = index.get_loc(maxval, method=\"nearest\")\n"
     ]
    }
   ],
   "source": [
    "ds_oi = postprocess_data(df_grid, args)"
   ]
  },
  {
   "cell_type": "code",
   "execution_count": 42,
   "id": "974dab93-a32b-4fa7-82f8-dc6fcffbc68a",
   "metadata": {},
   "outputs": [
    {
     "data": {
      "text/html": [
       "<div><svg style=\"position: absolute; width: 0; height: 0; overflow: hidden\">\n",
       "<defs>\n",
       "<symbol id=\"icon-database\" viewBox=\"0 0 32 32\">\n",
       "<path d=\"M16 0c-8.837 0-16 2.239-16 5v4c0 2.761 7.163 5 16 5s16-2.239 16-5v-4c0-2.761-7.163-5-16-5z\"></path>\n",
       "<path d=\"M16 17c-8.837 0-16-2.239-16-5v6c0 2.761 7.163 5 16 5s16-2.239 16-5v-6c0 2.761-7.163 5-16 5z\"></path>\n",
       "<path d=\"M16 26c-8.837 0-16-2.239-16-5v6c0 2.761 7.163 5 16 5s16-2.239 16-5v-6c0 2.761-7.163 5-16 5z\"></path>\n",
       "</symbol>\n",
       "<symbol id=\"icon-file-text2\" viewBox=\"0 0 32 32\">\n",
       "<path d=\"M28.681 7.159c-0.694-0.947-1.662-2.053-2.724-3.116s-2.169-2.030-3.116-2.724c-1.612-1.182-2.393-1.319-2.841-1.319h-15.5c-1.378 0-2.5 1.121-2.5 2.5v27c0 1.378 1.122 2.5 2.5 2.5h23c1.378 0 2.5-1.122 2.5-2.5v-19.5c0-0.448-0.137-1.23-1.319-2.841zM24.543 5.457c0.959 0.959 1.712 1.825 2.268 2.543h-4.811v-4.811c0.718 0.556 1.584 1.309 2.543 2.268zM28 29.5c0 0.271-0.229 0.5-0.5 0.5h-23c-0.271 0-0.5-0.229-0.5-0.5v-27c0-0.271 0.229-0.5 0.5-0.5 0 0 15.499-0 15.5 0v7c0 0.552 0.448 1 1 1h7v19.5z\"></path>\n",
       "<path d=\"M23 26h-14c-0.552 0-1-0.448-1-1s0.448-1 1-1h14c0.552 0 1 0.448 1 1s-0.448 1-1 1z\"></path>\n",
       "<path d=\"M23 22h-14c-0.552 0-1-0.448-1-1s0.448-1 1-1h14c0.552 0 1 0.448 1 1s-0.448 1-1 1z\"></path>\n",
       "<path d=\"M23 18h-14c-0.552 0-1-0.448-1-1s0.448-1 1-1h14c0.552 0 1 0.448 1 1s-0.448 1-1 1z\"></path>\n",
       "</symbol>\n",
       "</defs>\n",
       "</svg>\n",
       "<style>/* CSS stylesheet for displaying xarray objects in jupyterlab.\n",
       " *\n",
       " */\n",
       "\n",
       ":root {\n",
       "  --xr-font-color0: var(--jp-content-font-color0, rgba(0, 0, 0, 1));\n",
       "  --xr-font-color2: var(--jp-content-font-color2, rgba(0, 0, 0, 0.54));\n",
       "  --xr-font-color3: var(--jp-content-font-color3, rgba(0, 0, 0, 0.38));\n",
       "  --xr-border-color: var(--jp-border-color2, #e0e0e0);\n",
       "  --xr-disabled-color: var(--jp-layout-color3, #bdbdbd);\n",
       "  --xr-background-color: var(--jp-layout-color0, white);\n",
       "  --xr-background-color-row-even: var(--jp-layout-color1, white);\n",
       "  --xr-background-color-row-odd: var(--jp-layout-color2, #eeeeee);\n",
       "}\n",
       "\n",
       "html[theme=dark],\n",
       "body.vscode-dark {\n",
       "  --xr-font-color0: rgba(255, 255, 255, 1);\n",
       "  --xr-font-color2: rgba(255, 255, 255, 0.54);\n",
       "  --xr-font-color3: rgba(255, 255, 255, 0.38);\n",
       "  --xr-border-color: #1F1F1F;\n",
       "  --xr-disabled-color: #515151;\n",
       "  --xr-background-color: #111111;\n",
       "  --xr-background-color-row-even: #111111;\n",
       "  --xr-background-color-row-odd: #313131;\n",
       "}\n",
       "\n",
       ".xr-wrap {\n",
       "  display: block;\n",
       "  min-width: 300px;\n",
       "  max-width: 700px;\n",
       "}\n",
       "\n",
       ".xr-text-repr-fallback {\n",
       "  /* fallback to plain text repr when CSS is not injected (untrusted notebook) */\n",
       "  display: none;\n",
       "}\n",
       "\n",
       ".xr-header {\n",
       "  padding-top: 6px;\n",
       "  padding-bottom: 6px;\n",
       "  margin-bottom: 4px;\n",
       "  border-bottom: solid 1px var(--xr-border-color);\n",
       "}\n",
       "\n",
       ".xr-header > div,\n",
       ".xr-header > ul {\n",
       "  display: inline;\n",
       "  margin-top: 0;\n",
       "  margin-bottom: 0;\n",
       "}\n",
       "\n",
       ".xr-obj-type,\n",
       ".xr-array-name {\n",
       "  margin-left: 2px;\n",
       "  margin-right: 10px;\n",
       "}\n",
       "\n",
       ".xr-obj-type {\n",
       "  color: var(--xr-font-color2);\n",
       "}\n",
       "\n",
       ".xr-sections {\n",
       "  padding-left: 0 !important;\n",
       "  display: grid;\n",
       "  grid-template-columns: 150px auto auto 1fr 20px 20px;\n",
       "}\n",
       "\n",
       ".xr-section-item {\n",
       "  display: contents;\n",
       "}\n",
       "\n",
       ".xr-section-item input {\n",
       "  display: none;\n",
       "}\n",
       "\n",
       ".xr-section-item input + label {\n",
       "  color: var(--xr-disabled-color);\n",
       "}\n",
       "\n",
       ".xr-section-item input:enabled + label {\n",
       "  cursor: pointer;\n",
       "  color: var(--xr-font-color2);\n",
       "}\n",
       "\n",
       ".xr-section-item input:enabled + label:hover {\n",
       "  color: var(--xr-font-color0);\n",
       "}\n",
       "\n",
       ".xr-section-summary {\n",
       "  grid-column: 1;\n",
       "  color: var(--xr-font-color2);\n",
       "  font-weight: 500;\n",
       "}\n",
       "\n",
       ".xr-section-summary > span {\n",
       "  display: inline-block;\n",
       "  padding-left: 0.5em;\n",
       "}\n",
       "\n",
       ".xr-section-summary-in:disabled + label {\n",
       "  color: var(--xr-font-color2);\n",
       "}\n",
       "\n",
       ".xr-section-summary-in + label:before {\n",
       "  display: inline-block;\n",
       "  content: '►';\n",
       "  font-size: 11px;\n",
       "  width: 15px;\n",
       "  text-align: center;\n",
       "}\n",
       "\n",
       ".xr-section-summary-in:disabled + label:before {\n",
       "  color: var(--xr-disabled-color);\n",
       "}\n",
       "\n",
       ".xr-section-summary-in:checked + label:before {\n",
       "  content: '▼';\n",
       "}\n",
       "\n",
       ".xr-section-summary-in:checked + label > span {\n",
       "  display: none;\n",
       "}\n",
       "\n",
       ".xr-section-summary,\n",
       ".xr-section-inline-details {\n",
       "  padding-top: 4px;\n",
       "  padding-bottom: 4px;\n",
       "}\n",
       "\n",
       ".xr-section-inline-details {\n",
       "  grid-column: 2 / -1;\n",
       "}\n",
       "\n",
       ".xr-section-details {\n",
       "  display: none;\n",
       "  grid-column: 1 / -1;\n",
       "  margin-bottom: 5px;\n",
       "}\n",
       "\n",
       ".xr-section-summary-in:checked ~ .xr-section-details {\n",
       "  display: contents;\n",
       "}\n",
       "\n",
       ".xr-array-wrap {\n",
       "  grid-column: 1 / -1;\n",
       "  display: grid;\n",
       "  grid-template-columns: 20px auto;\n",
       "}\n",
       "\n",
       ".xr-array-wrap > label {\n",
       "  grid-column: 1;\n",
       "  vertical-align: top;\n",
       "}\n",
       "\n",
       ".xr-preview {\n",
       "  color: var(--xr-font-color3);\n",
       "}\n",
       "\n",
       ".xr-array-preview,\n",
       ".xr-array-data {\n",
       "  padding: 0 5px !important;\n",
       "  grid-column: 2;\n",
       "}\n",
       "\n",
       ".xr-array-data,\n",
       ".xr-array-in:checked ~ .xr-array-preview {\n",
       "  display: none;\n",
       "}\n",
       "\n",
       ".xr-array-in:checked ~ .xr-array-data,\n",
       ".xr-array-preview {\n",
       "  display: inline-block;\n",
       "}\n",
       "\n",
       ".xr-dim-list {\n",
       "  display: inline-block !important;\n",
       "  list-style: none;\n",
       "  padding: 0 !important;\n",
       "  margin: 0;\n",
       "}\n",
       "\n",
       ".xr-dim-list li {\n",
       "  display: inline-block;\n",
       "  padding: 0;\n",
       "  margin: 0;\n",
       "}\n",
       "\n",
       ".xr-dim-list:before {\n",
       "  content: '(';\n",
       "}\n",
       "\n",
       ".xr-dim-list:after {\n",
       "  content: ')';\n",
       "}\n",
       "\n",
       ".xr-dim-list li:not(:last-child):after {\n",
       "  content: ',';\n",
       "  padding-right: 5px;\n",
       "}\n",
       "\n",
       ".xr-has-index {\n",
       "  font-weight: bold;\n",
       "}\n",
       "\n",
       ".xr-var-list,\n",
       ".xr-var-item {\n",
       "  display: contents;\n",
       "}\n",
       "\n",
       ".xr-var-item > div,\n",
       ".xr-var-item label,\n",
       ".xr-var-item > .xr-var-name span {\n",
       "  background-color: var(--xr-background-color-row-even);\n",
       "  margin-bottom: 0;\n",
       "}\n",
       "\n",
       ".xr-var-item > .xr-var-name:hover span {\n",
       "  padding-right: 5px;\n",
       "}\n",
       "\n",
       ".xr-var-list > li:nth-child(odd) > div,\n",
       ".xr-var-list > li:nth-child(odd) > label,\n",
       ".xr-var-list > li:nth-child(odd) > .xr-var-name span {\n",
       "  background-color: var(--xr-background-color-row-odd);\n",
       "}\n",
       "\n",
       ".xr-var-name {\n",
       "  grid-column: 1;\n",
       "}\n",
       "\n",
       ".xr-var-dims {\n",
       "  grid-column: 2;\n",
       "}\n",
       "\n",
       ".xr-var-dtype {\n",
       "  grid-column: 3;\n",
       "  text-align: right;\n",
       "  color: var(--xr-font-color2);\n",
       "}\n",
       "\n",
       ".xr-var-preview {\n",
       "  grid-column: 4;\n",
       "}\n",
       "\n",
       ".xr-var-name,\n",
       ".xr-var-dims,\n",
       ".xr-var-dtype,\n",
       ".xr-preview,\n",
       ".xr-attrs dt {\n",
       "  white-space: nowrap;\n",
       "  overflow: hidden;\n",
       "  text-overflow: ellipsis;\n",
       "  padding-right: 10px;\n",
       "}\n",
       "\n",
       ".xr-var-name:hover,\n",
       ".xr-var-dims:hover,\n",
       ".xr-var-dtype:hover,\n",
       ".xr-attrs dt:hover {\n",
       "  overflow: visible;\n",
       "  width: auto;\n",
       "  z-index: 1;\n",
       "}\n",
       "\n",
       ".xr-var-attrs,\n",
       ".xr-var-data {\n",
       "  display: none;\n",
       "  background-color: var(--xr-background-color) !important;\n",
       "  padding-bottom: 5px !important;\n",
       "}\n",
       "\n",
       ".xr-var-attrs-in:checked ~ .xr-var-attrs,\n",
       ".xr-var-data-in:checked ~ .xr-var-data {\n",
       "  display: block;\n",
       "}\n",
       "\n",
       ".xr-var-data > table {\n",
       "  float: right;\n",
       "}\n",
       "\n",
       ".xr-var-name span,\n",
       ".xr-var-data,\n",
       ".xr-attrs {\n",
       "  padding-left: 25px !important;\n",
       "}\n",
       "\n",
       ".xr-attrs,\n",
       ".xr-var-attrs,\n",
       ".xr-var-data {\n",
       "  grid-column: 1 / -1;\n",
       "}\n",
       "\n",
       "dl.xr-attrs {\n",
       "  padding: 0;\n",
       "  margin: 0;\n",
       "  display: grid;\n",
       "  grid-template-columns: 125px auto;\n",
       "}\n",
       "\n",
       ".xr-attrs dt,\n",
       ".xr-attrs dd {\n",
       "  padding: 0;\n",
       "  margin: 0;\n",
       "  float: left;\n",
       "  padding-right: 10px;\n",
       "  width: auto;\n",
       "}\n",
       "\n",
       ".xr-attrs dt {\n",
       "  font-weight: normal;\n",
       "  grid-column: 1;\n",
       "}\n",
       "\n",
       ".xr-attrs dt:hover span {\n",
       "  display: inline-block;\n",
       "  background: var(--xr-background-color);\n",
       "  padding-right: 10px;\n",
       "}\n",
       "\n",
       ".xr-attrs dd {\n",
       "  grid-column: 2;\n",
       "  white-space: pre-wrap;\n",
       "  word-break: break-all;\n",
       "}\n",
       "\n",
       ".xr-icon-database,\n",
       ".xr-icon-file-text2 {\n",
       "  display: inline-block;\n",
       "  vertical-align: middle;\n",
       "  width: 1em;\n",
       "  height: 1.5em !important;\n",
       "  stroke-width: 0;\n",
       "  stroke: currentColor;\n",
       "  fill: currentColor;\n",
       "}\n",
       "</style><pre class='xr-text-repr-fallback'>&lt;xarray.Dataset&gt;\n",
       "Dimensions:    (latitude: 6, longitude: 6, time: 74)\n",
       "Coordinates:\n",
       "  * latitude   (latitude) float64 33.0 35.0 37.0 39.0 41.0 43.0\n",
       "  * longitude  (longitude) float64 295.0 297.0 299.0 301.0 303.0 305.0\n",
       "  * time       (time) datetime64[ns] 2017-01-01 2017-01-06 ... 2018-01-01\n",
       "Data variables:\n",
       "    index      (latitude, longitude, time) int64 0 1 2 3 ... 2660 2661 2662 2663\n",
       "    vtime      (latitude, longitude, time) float64 31.0 36.0 ... 391.0 396.0\n",
       "    pred       (latitude, longitude, time) float32 0.01655 0.1454 ... 0.1087\n",
       "    ssh        (latitude, longitude, time) float64 0.6162 0.7451 ... -0.0628</pre><div class='xr-wrap' hidden><div class='xr-header'><div class='xr-obj-type'>xarray.Dataset</div></div><ul class='xr-sections'><li class='xr-section-item'><input id='section-7b2398ca-9225-4060-831e-f7e31d1d9bf3' class='xr-section-summary-in' type='checkbox' disabled ><label for='section-7b2398ca-9225-4060-831e-f7e31d1d9bf3' class='xr-section-summary'  title='Expand/collapse section'>Dimensions:</label><div class='xr-section-inline-details'><ul class='xr-dim-list'><li><span class='xr-has-index'>latitude</span>: 6</li><li><span class='xr-has-index'>longitude</span>: 6</li><li><span class='xr-has-index'>time</span>: 74</li></ul></div><div class='xr-section-details'></div></li><li class='xr-section-item'><input id='section-10fc4526-b1ac-4af9-a73c-51dc4128820d' class='xr-section-summary-in' type='checkbox'  checked><label for='section-10fc4526-b1ac-4af9-a73c-51dc4128820d' class='xr-section-summary' >Coordinates: <span>(3)</span></label><div class='xr-section-inline-details'></div><div class='xr-section-details'><ul class='xr-var-list'><li class='xr-var-item'><div class='xr-var-name'><span class='xr-has-index'>latitude</span></div><div class='xr-var-dims'>(latitude)</div><div class='xr-var-dtype'>float64</div><div class='xr-var-preview xr-preview'>33.0 35.0 37.0 39.0 41.0 43.0</div><input id='attrs-1568a04b-c746-4fc2-ac67-b36ec50ea9d5' class='xr-var-attrs-in' type='checkbox' disabled><label for='attrs-1568a04b-c746-4fc2-ac67-b36ec50ea9d5' title='Show/Hide attributes'><svg class='icon xr-icon-file-text2'><use xlink:href='#icon-file-text2'></use></svg></label><input id='data-4371b8f4-df99-49b8-8264-9a1e3507a126' class='xr-var-data-in' type='checkbox'><label for='data-4371b8f4-df99-49b8-8264-9a1e3507a126' title='Show/Hide data repr'><svg class='icon xr-icon-database'><use xlink:href='#icon-database'></use></svg></label><div class='xr-var-attrs'><dl class='xr-attrs'></dl></div><div class='xr-var-data'><pre>array([33., 35., 37., 39., 41., 43.])</pre></div></li><li class='xr-var-item'><div class='xr-var-name'><span class='xr-has-index'>longitude</span></div><div class='xr-var-dims'>(longitude)</div><div class='xr-var-dtype'>float64</div><div class='xr-var-preview xr-preview'>295.0 297.0 299.0 301.0 303.0 305.0</div><input id='attrs-e0694220-3ab1-44a3-8e3e-115b1060a9f9' class='xr-var-attrs-in' type='checkbox' disabled><label for='attrs-e0694220-3ab1-44a3-8e3e-115b1060a9f9' title='Show/Hide attributes'><svg class='icon xr-icon-file-text2'><use xlink:href='#icon-file-text2'></use></svg></label><input id='data-3c08e680-67e2-4ff7-b3b6-3a7d0df1f240' class='xr-var-data-in' type='checkbox'><label for='data-3c08e680-67e2-4ff7-b3b6-3a7d0df1f240' title='Show/Hide data repr'><svg class='icon xr-icon-database'><use xlink:href='#icon-database'></use></svg></label><div class='xr-var-attrs'><dl class='xr-attrs'></dl></div><div class='xr-var-data'><pre>array([295., 297., 299., 301., 303., 305.])</pre></div></li><li class='xr-var-item'><div class='xr-var-name'><span class='xr-has-index'>time</span></div><div class='xr-var-dims'>(time)</div><div class='xr-var-dtype'>datetime64[ns]</div><div class='xr-var-preview xr-preview'>2017-01-01 ... 2018-01-01</div><input id='attrs-6412153d-19dd-420d-b50a-13151a4e56b7' class='xr-var-attrs-in' type='checkbox' disabled><label for='attrs-6412153d-19dd-420d-b50a-13151a4e56b7' title='Show/Hide attributes'><svg class='icon xr-icon-file-text2'><use xlink:href='#icon-file-text2'></use></svg></label><input id='data-188a9dfb-845e-430d-b5b2-6f01016f7b79' class='xr-var-data-in' type='checkbox'><label for='data-188a9dfb-845e-430d-b5b2-6f01016f7b79' title='Show/Hide data repr'><svg class='icon xr-icon-database'><use xlink:href='#icon-database'></use></svg></label><div class='xr-var-attrs'><dl class='xr-attrs'></dl></div><div class='xr-var-data'><pre>array([&#x27;2017-01-01T00:00:00.000000000&#x27;, &#x27;2017-01-06T00:00:00.000000000&#x27;,\n",
       "       &#x27;2017-01-11T00:00:00.000000000&#x27;, &#x27;2017-01-16T00:00:00.000000000&#x27;,\n",
       "       &#x27;2017-01-21T00:00:00.000000000&#x27;, &#x27;2017-01-26T00:00:00.000000000&#x27;,\n",
       "       &#x27;2017-01-31T00:00:00.000000000&#x27;, &#x27;2017-02-05T00:00:00.000000000&#x27;,\n",
       "       &#x27;2017-02-10T00:00:00.000000000&#x27;, &#x27;2017-02-15T00:00:00.000000000&#x27;,\n",
       "       &#x27;2017-02-20T00:00:00.000000000&#x27;, &#x27;2017-02-25T00:00:00.000000000&#x27;,\n",
       "       &#x27;2017-03-02T00:00:00.000000000&#x27;, &#x27;2017-03-07T00:00:00.000000000&#x27;,\n",
       "       &#x27;2017-03-12T00:00:00.000000000&#x27;, &#x27;2017-03-17T00:00:00.000000000&#x27;,\n",
       "       &#x27;2017-03-22T00:00:00.000000000&#x27;, &#x27;2017-03-27T00:00:00.000000000&#x27;,\n",
       "       &#x27;2017-04-01T00:00:00.000000000&#x27;, &#x27;2017-04-06T00:00:00.000000000&#x27;,\n",
       "       &#x27;2017-04-11T00:00:00.000000000&#x27;, &#x27;2017-04-16T00:00:00.000000000&#x27;,\n",
       "       &#x27;2017-04-21T00:00:00.000000000&#x27;, &#x27;2017-04-26T00:00:00.000000000&#x27;,\n",
       "       &#x27;2017-05-01T00:00:00.000000000&#x27;, &#x27;2017-05-06T00:00:00.000000000&#x27;,\n",
       "       &#x27;2017-05-11T00:00:00.000000000&#x27;, &#x27;2017-05-16T00:00:00.000000000&#x27;,\n",
       "       &#x27;2017-05-21T00:00:00.000000000&#x27;, &#x27;2017-05-26T00:00:00.000000000&#x27;,\n",
       "       &#x27;2017-05-31T00:00:00.000000000&#x27;, &#x27;2017-06-05T00:00:00.000000000&#x27;,\n",
       "       &#x27;2017-06-10T00:00:00.000000000&#x27;, &#x27;2017-06-15T00:00:00.000000000&#x27;,\n",
       "       &#x27;2017-06-20T00:00:00.000000000&#x27;, &#x27;2017-06-25T00:00:00.000000000&#x27;,\n",
       "       &#x27;2017-06-30T00:00:00.000000000&#x27;, &#x27;2017-07-05T00:00:00.000000000&#x27;,\n",
       "       &#x27;2017-07-10T00:00:00.000000000&#x27;, &#x27;2017-07-15T00:00:00.000000000&#x27;,\n",
       "       &#x27;2017-07-20T00:00:00.000000000&#x27;, &#x27;2017-07-25T00:00:00.000000000&#x27;,\n",
       "       &#x27;2017-07-30T00:00:00.000000000&#x27;, &#x27;2017-08-04T00:00:00.000000000&#x27;,\n",
       "       &#x27;2017-08-09T00:00:00.000000000&#x27;, &#x27;2017-08-14T00:00:00.000000000&#x27;,\n",
       "       &#x27;2017-08-19T00:00:00.000000000&#x27;, &#x27;2017-08-24T00:00:00.000000000&#x27;,\n",
       "       &#x27;2017-08-29T00:00:00.000000000&#x27;, &#x27;2017-09-03T00:00:00.000000000&#x27;,\n",
       "       &#x27;2017-09-08T00:00:00.000000000&#x27;, &#x27;2017-09-13T00:00:00.000000000&#x27;,\n",
       "       &#x27;2017-09-18T00:00:00.000000000&#x27;, &#x27;2017-09-23T00:00:00.000000000&#x27;,\n",
       "       &#x27;2017-09-28T00:00:00.000000000&#x27;, &#x27;2017-10-03T00:00:00.000000000&#x27;,\n",
       "       &#x27;2017-10-08T00:00:00.000000000&#x27;, &#x27;2017-10-13T00:00:00.000000000&#x27;,\n",
       "       &#x27;2017-10-18T00:00:00.000000000&#x27;, &#x27;2017-10-23T00:00:00.000000000&#x27;,\n",
       "       &#x27;2017-10-28T00:00:00.000000000&#x27;, &#x27;2017-11-02T00:00:00.000000000&#x27;,\n",
       "       &#x27;2017-11-07T00:00:00.000000000&#x27;, &#x27;2017-11-12T00:00:00.000000000&#x27;,\n",
       "       &#x27;2017-11-17T00:00:00.000000000&#x27;, &#x27;2017-11-22T00:00:00.000000000&#x27;,\n",
       "       &#x27;2017-11-27T00:00:00.000000000&#x27;, &#x27;2017-12-02T00:00:00.000000000&#x27;,\n",
       "       &#x27;2017-12-07T00:00:00.000000000&#x27;, &#x27;2017-12-12T00:00:00.000000000&#x27;,\n",
       "       &#x27;2017-12-17T00:00:00.000000000&#x27;, &#x27;2017-12-22T00:00:00.000000000&#x27;,\n",
       "       &#x27;2017-12-27T00:00:00.000000000&#x27;, &#x27;2018-01-01T00:00:00.000000000&#x27;],\n",
       "      dtype=&#x27;datetime64[ns]&#x27;)</pre></div></li></ul></div></li><li class='xr-section-item'><input id='section-be1a5fb4-d8bf-485c-99af-000153d3c325' class='xr-section-summary-in' type='checkbox'  checked><label for='section-be1a5fb4-d8bf-485c-99af-000153d3c325' class='xr-section-summary' >Data variables: <span>(4)</span></label><div class='xr-section-inline-details'></div><div class='xr-section-details'><ul class='xr-var-list'><li class='xr-var-item'><div class='xr-var-name'><span>index</span></div><div class='xr-var-dims'>(latitude, longitude, time)</div><div class='xr-var-dtype'>int64</div><div class='xr-var-preview xr-preview'>0 1 2 3 4 ... 2660 2661 2662 2663</div><input id='attrs-84acc22c-951b-4da7-b377-e9c28c2e7560' class='xr-var-attrs-in' type='checkbox' disabled><label for='attrs-84acc22c-951b-4da7-b377-e9c28c2e7560' title='Show/Hide attributes'><svg class='icon xr-icon-file-text2'><use xlink:href='#icon-file-text2'></use></svg></label><input id='data-ea9fb10a-c5dc-4cea-a260-83c0056fceed' class='xr-var-data-in' type='checkbox'><label for='data-ea9fb10a-c5dc-4cea-a260-83c0056fceed' title='Show/Hide data repr'><svg class='icon xr-icon-database'><use xlink:href='#icon-database'></use></svg></label><div class='xr-var-attrs'><dl class='xr-attrs'></dl></div><div class='xr-var-data'><pre>array([[[   0,    1,    2, ...,   71,   72,   73],\n",
       "        [  74,   75,   76, ...,  145,  146,  147],\n",
       "        [ 148,  149,  150, ...,  219,  220,  221],\n",
       "        [ 222,  223,  224, ...,  293,  294,  295],\n",
       "        [ 296,  297,  298, ...,  367,  368,  369],\n",
       "        [ 370,  371,  372, ...,  441,  442,  443]],\n",
       "\n",
       "       [[ 444,  445,  446, ...,  515,  516,  517],\n",
       "        [ 518,  519,  520, ...,  589,  590,  591],\n",
       "        [ 592,  593,  594, ...,  663,  664,  665],\n",
       "        [ 666,  667,  668, ...,  737,  738,  739],\n",
       "        [ 740,  741,  742, ...,  811,  812,  813],\n",
       "        [ 814,  815,  816, ...,  885,  886,  887]],\n",
       "\n",
       "       [[ 888,  889,  890, ...,  959,  960,  961],\n",
       "        [ 962,  963,  964, ..., 1033, 1034, 1035],\n",
       "        [1036, 1037, 1038, ..., 1107, 1108, 1109],\n",
       "        [1110, 1111, 1112, ..., 1181, 1182, 1183],\n",
       "        [1184, 1185, 1186, ..., 1255, 1256, 1257],\n",
       "        [1258, 1259, 1260, ..., 1329, 1330, 1331]],\n",
       "...\n",
       "       [[1332, 1333, 1334, ..., 1403, 1404, 1405],\n",
       "        [1406, 1407, 1408, ..., 1477, 1478, 1479],\n",
       "        [1480, 1481, 1482, ..., 1551, 1552, 1553],\n",
       "        [1554, 1555, 1556, ..., 1625, 1626, 1627],\n",
       "        [1628, 1629, 1630, ..., 1699, 1700, 1701],\n",
       "        [1702, 1703, 1704, ..., 1773, 1774, 1775]],\n",
       "\n",
       "       [[1776, 1777, 1778, ..., 1847, 1848, 1849],\n",
       "        [1850, 1851, 1852, ..., 1921, 1922, 1923],\n",
       "        [1924, 1925, 1926, ..., 1995, 1996, 1997],\n",
       "        [1998, 1999, 2000, ..., 2069, 2070, 2071],\n",
       "        [2072, 2073, 2074, ..., 2143, 2144, 2145],\n",
       "        [2146, 2147, 2148, ..., 2217, 2218, 2219]],\n",
       "\n",
       "       [[2220, 2221, 2222, ..., 2291, 2292, 2293],\n",
       "        [2294, 2295, 2296, ..., 2365, 2366, 2367],\n",
       "        [2368, 2369, 2370, ..., 2439, 2440, 2441],\n",
       "        [2442, 2443, 2444, ..., 2513, 2514, 2515],\n",
       "        [2516, 2517, 2518, ..., 2587, 2588, 2589],\n",
       "        [2590, 2591, 2592, ..., 2661, 2662, 2663]]])</pre></div></li><li class='xr-var-item'><div class='xr-var-name'><span>vtime</span></div><div class='xr-var-dims'>(latitude, longitude, time)</div><div class='xr-var-dtype'>float64</div><div class='xr-var-preview xr-preview'>31.0 36.0 41.0 ... 391.0 396.0</div><input id='attrs-543ebbf0-c810-4d84-85fe-3b58d15056bb' class='xr-var-attrs-in' type='checkbox' disabled><label for='attrs-543ebbf0-c810-4d84-85fe-3b58d15056bb' title='Show/Hide attributes'><svg class='icon xr-icon-file-text2'><use xlink:href='#icon-file-text2'></use></svg></label><input id='data-872fed95-a2c3-4bce-bb57-80966fc76d1d' class='xr-var-data-in' type='checkbox'><label for='data-872fed95-a2c3-4bce-bb57-80966fc76d1d' title='Show/Hide data repr'><svg class='icon xr-icon-database'><use xlink:href='#icon-database'></use></svg></label><div class='xr-var-attrs'><dl class='xr-attrs'></dl></div><div class='xr-var-data'><pre>array([[[ 31.,  36.,  41., ..., 386., 391., 396.],\n",
       "        [ 31.,  36.,  41., ..., 386., 391., 396.],\n",
       "        [ 31.,  36.,  41., ..., 386., 391., 396.],\n",
       "        [ 31.,  36.,  41., ..., 386., 391., 396.],\n",
       "        [ 31.,  36.,  41., ..., 386., 391., 396.],\n",
       "        [ 31.,  36.,  41., ..., 386., 391., 396.]],\n",
       "\n",
       "       [[ 31.,  36.,  41., ..., 386., 391., 396.],\n",
       "        [ 31.,  36.,  41., ..., 386., 391., 396.],\n",
       "        [ 31.,  36.,  41., ..., 386., 391., 396.],\n",
       "        [ 31.,  36.,  41., ..., 386., 391., 396.],\n",
       "        [ 31.,  36.,  41., ..., 386., 391., 396.],\n",
       "        [ 31.,  36.,  41., ..., 386., 391., 396.]],\n",
       "\n",
       "       [[ 31.,  36.,  41., ..., 386., 391., 396.],\n",
       "        [ 31.,  36.,  41., ..., 386., 391., 396.],\n",
       "        [ 31.,  36.,  41., ..., 386., 391., 396.],\n",
       "        [ 31.,  36.,  41., ..., 386., 391., 396.],\n",
       "        [ 31.,  36.,  41., ..., 386., 391., 396.],\n",
       "        [ 31.,  36.,  41., ..., 386., 391., 396.]],\n",
       "...\n",
       "       [[ 31.,  36.,  41., ..., 386., 391., 396.],\n",
       "        [ 31.,  36.,  41., ..., 386., 391., 396.],\n",
       "        [ 31.,  36.,  41., ..., 386., 391., 396.],\n",
       "        [ 31.,  36.,  41., ..., 386., 391., 396.],\n",
       "        [ 31.,  36.,  41., ..., 386., 391., 396.],\n",
       "        [ 31.,  36.,  41., ..., 386., 391., 396.]],\n",
       "\n",
       "       [[ 31.,  36.,  41., ..., 386., 391., 396.],\n",
       "        [ 31.,  36.,  41., ..., 386., 391., 396.],\n",
       "        [ 31.,  36.,  41., ..., 386., 391., 396.],\n",
       "        [ 31.,  36.,  41., ..., 386., 391., 396.],\n",
       "        [ 31.,  36.,  41., ..., 386., 391., 396.],\n",
       "        [ 31.,  36.,  41., ..., 386., 391., 396.]],\n",
       "\n",
       "       [[ 31.,  36.,  41., ..., 386., 391., 396.],\n",
       "        [ 31.,  36.,  41., ..., 386., 391., 396.],\n",
       "        [ 31.,  36.,  41., ..., 386., 391., 396.],\n",
       "        [ 31.,  36.,  41., ..., 386., 391., 396.],\n",
       "        [ 31.,  36.,  41., ..., 386., 391., 396.],\n",
       "        [ 31.,  36.,  41., ..., 386., 391., 396.]]])</pre></div></li><li class='xr-var-item'><div class='xr-var-name'><span>pred</span></div><div class='xr-var-dims'>(latitude, longitude, time)</div><div class='xr-var-dtype'>float32</div><div class='xr-var-preview xr-preview'>0.01655 0.1454 ... -0.2265 0.1087</div><input id='attrs-f177b67d-6166-4731-a1ce-17cc90a7dd70' class='xr-var-attrs-in' type='checkbox' disabled><label for='attrs-f177b67d-6166-4731-a1ce-17cc90a7dd70' title='Show/Hide attributes'><svg class='icon xr-icon-file-text2'><use xlink:href='#icon-file-text2'></use></svg></label><input id='data-965f0218-584f-45f8-839b-e42a14849a08' class='xr-var-data-in' type='checkbox'><label for='data-965f0218-584f-45f8-839b-e42a14849a08' title='Show/Hide data repr'><svg class='icon xr-icon-database'><use xlink:href='#icon-database'></use></svg></label><div class='xr-var-attrs'><dl class='xr-attrs'></dl></div><div class='xr-var-data'><pre>array([[[ 0.01654861,  0.1454232 ,  0.6406643 , ...,  0.36076847,\n",
       "          0.35599843,  0.14412159],\n",
       "        [ 0.50493443,  0.6045205 ,  0.18361434, ..., -0.01112547,\n",
       "         -0.21400967,  0.5326872 ],\n",
       "        [ 0.17470396,  0.06102616,  0.07985839, ..., -0.04333939,\n",
       "         -0.0261336 ,  0.18505102],\n",
       "        [ 0.77846605,  0.03652082, -0.32245633, ..., -0.5392427 ,\n",
       "          0.23583642, -0.00236314],\n",
       "        [ 0.5687665 ,  0.13066983, -0.31839547, ..., -0.6013286 ,\n",
       "         -0.15319571, -0.29251343],\n",
       "        [ 0.43964818, -0.12453534, -0.31288055, ...,  0.18372577,\n",
       "          0.59172803,  0.29435158]],\n",
       "\n",
       "       [[ 0.391727  ,  0.43100885,  0.01728163, ..., -0.04449866,\n",
       "          0.16718102,  0.7075999 ],\n",
       "        [ 0.04512218,  0.36514622, -0.15530962, ...,  0.0533601 ,\n",
       "         -0.23294422,  0.8988687 ],\n",
       "        [ 0.12305818,  0.49119562,  0.24387923, ..., -0.18229252,\n",
       "          0.5922722 , -0.43459237],\n",
       "        [ 0.09714375,  0.03950352,  0.27616197, ...,  0.31308475,\n",
       "...\n",
       "          0.25865102,  0.01263954],\n",
       "        [ 0.38979176,  0.46115813, -0.4853411 , ..., -0.24664915,\n",
       "          0.18508375, -0.16205499],\n",
       "        [ 0.39093563,  0.55037665, -0.16490802, ..., -0.11215229,\n",
       "         -0.3044624 , -0.04479789],\n",
       "        [ 0.07274125, -0.0287938 , -0.07090225, ..., -0.37746057,\n",
       "          0.28970185,  0.4073399 ]],\n",
       "\n",
       "       [[ 0.919273  ,  0.04209981, -1.0893062 , ..., -0.45236138,\n",
       "          0.29836008, -0.121838  ],\n",
       "        [ 0.5482925 ,  0.08874019,  0.11085419, ..., -0.10353368,\n",
       "         -0.1058893 , -0.21084455],\n",
       "        [ 0.1406456 ,  0.05244649,  0.33475342, ..., -0.06136932,\n",
       "          0.16750526, -0.13285023],\n",
       "        [ 0.21618989,  0.25277412,  0.36150265, ...,  0.3104861 ,\n",
       "         -0.0317978 , -0.03608844],\n",
       "        [ 0.43000945,  0.21338135, -0.37128928, ..., -0.08817946,\n",
       "         -0.7557379 ,  0.1770634 ],\n",
       "        [ 0.07265946,  0.08294923, -0.25007072, ...,  0.06822977,\n",
       "         -0.22649914,  0.10865707]]], dtype=float32)</pre></div></li><li class='xr-var-item'><div class='xr-var-name'><span>ssh</span></div><div class='xr-var-dims'>(latitude, longitude, time)</div><div class='xr-var-dtype'>float64</div><div class='xr-var-preview xr-preview'>0.6162 0.7451 ... -0.398 -0.0628</div><input id='attrs-e3c78456-f158-4cf7-9223-1831cf751e05' class='xr-var-attrs-in' type='checkbox' disabled><label for='attrs-e3c78456-f158-4cf7-9223-1831cf751e05' title='Show/Hide attributes'><svg class='icon xr-icon-file-text2'><use xlink:href='#icon-file-text2'></use></svg></label><input id='data-86df9803-d923-4383-acca-fba40e0423a0' class='xr-var-data-in' type='checkbox'><label for='data-86df9803-d923-4383-acca-fba40e0423a0' title='Show/Hide data repr'><svg class='icon xr-icon-database'><use xlink:href='#icon-database'></use></svg></label><div class='xr-var-attrs'><dl class='xr-attrs'></dl></div><div class='xr-var-data'><pre>array([[[ 6.16227978e-01,  7.45102570e-01,  1.24034365e+00, ...,\n",
       "          9.60447834e-01,  9.55677793e-01,  7.43800954e-01],\n",
       "        [ 1.10362656e+00,  1.20321263e+00,  7.82306478e-01, ...,\n",
       "          5.87566667e-01,  3.84682462e-01,  1.13137932e+00],\n",
       "        [ 7.46197220e-01,  6.32519428e-01,  6.51351649e-01, ...,\n",
       "          5.28153870e-01,  5.45359660e-01,  7.56544288e-01],\n",
       "        [ 1.34295262e+00,  6.01007390e-01,  2.42030244e-01, ...,\n",
       "          2.52438888e-02,  8.00322990e-01,  5.62123436e-01],\n",
       "        [ 1.12185080e+00,  6.83754158e-01,  2.34688860e-01, ...,\n",
       "         -4.82442861e-02,  3.99888616e-01,  2.60570895e-01],\n",
       "        [ 9.74470897e-01,  4.10287372e-01,  2.21942170e-01, ...,\n",
       "          7.18548491e-01,  1.12655075e+00,  8.29174294e-01]],\n",
       "\n",
       "       [[ 1.11168431e+00,  1.15096615e+00,  7.37238936e-01, ...,\n",
       "          6.75458647e-01,  8.87138322e-01,  1.42755718e+00],\n",
       "        [ 7.08815504e-01,  1.02883954e+00,  5.08383703e-01, ...,\n",
       "          7.17053417e-01,  4.30749100e-01,  1.56256200e+00],\n",
       "        [ 7.55859899e-01,  1.12399734e+00,  8.76680951e-01, ...,\n",
       "          4.50509201e-01,  1.22507394e+00,  1.98209356e-01],\n",
       "        [ 7.10298009e-01,  6.52657784e-01,  8.89316231e-01, ...,\n",
       "...\n",
       "         -1.41822268e-01,  1.58770356e-01, -8.72411172e-02],\n",
       "        [ 3.05121028e-01,  3.76487398e-01, -5.70011831e-01, ...,\n",
       "         -3.31319875e-01,  1.00413018e-01, -2.46725714e-01],\n",
       "        [ 4.31083421e-01,  5.90524445e-01, -1.24760231e-01, ...,\n",
       "         -7.20044949e-02, -2.64314612e-01, -4.65009895e-03],\n",
       "        [ 4.76923067e-02, -5.38427454e-02, -9.59511917e-02, ...,\n",
       "         -4.02509510e-01,  2.64652908e-01,  3.82290960e-01]],\n",
       "\n",
       "       [[ 8.23287487e-01, -5.38857207e-02, -1.18529177e+00, ...,\n",
       "         -5.48346907e-01,  2.02374548e-01, -2.17823528e-01],\n",
       "        [ 4.06082145e-01, -5.34701798e-02, -3.13561861e-02, ...,\n",
       "         -2.45744050e-01, -2.48099670e-01, -3.53054919e-01],\n",
       "        [-2.82874217e-02, -1.16486523e-01,  1.65820409e-01, ...,\n",
       "         -2.30302337e-01, -1.42775078e-03, -3.01783245e-01],\n",
       "        [ 4.12450809e-02,  7.78293092e-02,  1.86557837e-01, ...,\n",
       "          1.35541298e-01, -2.06742607e-01, -2.11033254e-01],\n",
       "        [ 2.80205458e-01,  6.35773533e-02, -5.21093280e-01, ...,\n",
       "         -2.37983458e-01, -9.05541898e-01,  2.72594087e-02],\n",
       "        [-9.87946628e-02, -8.85048894e-02, -4.21524839e-01, ...,\n",
       "         -1.03224346e-01, -3.97953258e-01, -6.27970485e-02]]])</pre></div></li></ul></div></li><li class='xr-section-item'><input id='section-03261519-8880-451c-8e2e-cd2150b538e6' class='xr-section-summary-in' type='checkbox' disabled ><label for='section-03261519-8880-451c-8e2e-cd2150b538e6' class='xr-section-summary'  title='Expand/collapse section'>Attributes: <span>(0)</span></label><div class='xr-section-inline-details'></div><div class='xr-section-details'><dl class='xr-attrs'></dl></div></li></ul></div></div>"
      ],
      "text/plain": [
       "<xarray.Dataset>\n",
       "Dimensions:    (latitude: 6, longitude: 6, time: 74)\n",
       "Coordinates:\n",
       "  * latitude   (latitude) float64 33.0 35.0 37.0 39.0 41.0 43.0\n",
       "  * longitude  (longitude) float64 295.0 297.0 299.0 301.0 303.0 305.0\n",
       "  * time       (time) datetime64[ns] 2017-01-01 2017-01-06 ... 2018-01-01\n",
       "Data variables:\n",
       "    index      (latitude, longitude, time) int64 0 1 2 3 ... 2660 2661 2662 2663\n",
       "    vtime      (latitude, longitude, time) float64 31.0 36.0 ... 391.0 396.0\n",
       "    pred       (latitude, longitude, time) float32 0.01655 0.1454 ... 0.1087\n",
       "    ssh        (latitude, longitude, time) float64 0.6162 0.7451 ... -0.0628"
      ]
     },
     "execution_count": 42,
     "metadata": {},
     "output_type": "execute_result"
    }
   ],
   "source": [
    "ds_oi"
   ]
  },
  {
   "cell_type": "code",
   "execution_count": 43,
   "id": "f0779492-1be0-48fc-a10b-413666ad305d",
   "metadata": {},
   "outputs": [
    {
     "name": "stdout",
     "output_type": "stream",
     "text": [
      "RMSE (Mean): 0.348\n",
      "RMSE (Std): 0.102\n",
      "NRMSE (Mean): 0.421\n",
      "NRMSE (Std): 0.274\n",
      "CPU times: user 448 ms, sys: 8 ms, total: 456 ms\n",
      "Wall time: 461 ms\n"
     ]
    }
   ],
   "source": [
    "%%time\n",
    "\n",
    "rmse_metrics = get_rmse_metrics(ds_oi, args)\n",
    "\n",
    "wandb_logger.log_metrics(\n",
    "    {\n",
    "        \"model_rmse_mean\": rmse_metrics[0],\n",
    "        \"model_rmse_std\": rmse_metrics[1],\n",
    "        \"model_nrmse_mean\": rmse_metrics[2],\n",
    "        \"model_nrmse_std\": rmse_metrics[3],\n",
    "    }\n",
    ")\n",
    "\n",
    "print(rmse_metrics)"
   ]
  },
  {
   "cell_type": "code",
   "execution_count": 45,
   "id": "1f112b68-d785-4a86-973a-3afe81a5733b",
   "metadata": {},
   "outputs": [
    {
     "data": {
      "text/plain": [
       "10000000000.0"
      ]
     },
     "execution_count": 45,
     "metadata": {},
     "output_type": "execute_result"
    }
   ],
   "source": []
  },
  {
   "cell_type": "code",
   "execution_count": 53,
   "id": "07446478-0947-46d3-9c92-f2d609be69ed",
   "metadata": {},
   "outputs": [
    {
     "name": "stdout",
     "output_type": "stream",
     "text": [
      "Resolved Scale: 10000000000.000 (km)\n"
     ]
    },
    {
     "name": "stderr",
     "output_type": "stream",
     "text": [
      "/mnt/meom/workdir/johnsonj/projects/ml4ssh/ml4ssh/_src/psd.py:26: UserWarning: The interpolated value is outside the range.\n",
      "  warnings.warn(f\"The interpolated value is outside the range.\")\n"
     ]
    }
   ],
   "source": [
    "psd_metrics = get_psd_metrics(ds_oi, args)\n",
    "print(psd_metrics)\n",
    "\n",
    "wandb_logger.log_metrics(\n",
    "    {\n",
    "        \"resolved_scale\": psd_metrics.resolved_scale,\n",
    "    }\n",
    ")"
   ]
  },
  {
   "cell_type": "markdown",
   "id": "bd079855-f082-4097-94d5-d5d13d9a31df",
   "metadata": {},
   "source": [
    "### Figures"
   ]
  },
  {
   "cell_type": "code",
   "execution_count": 51,
   "id": "9dd9f802-4cc7-4458-8ce7-ffc63fbab688",
   "metadata": {},
   "outputs": [
    {
     "data": {
      "image/png": "[encoded data removed]",
      "text/plain": [
       "<Figure size 504x360 with 1 Axes>"
      ]
     },
     "metadata": {
      "needs_background": "light"
     },
     "output_type": "display_data"
    }
   ],
   "source": [
    "fig, ax = plot_psd_spectrum(\n",
    "    psd_metrics.psd_study, \n",
    "    psd_metrics.psd_ref, \n",
    "    psd_metrics.wavenumber\n",
    ")\n",
    "\n",
    "\n",
    "wandb_logger.experiment.log(\n",
    "    {\n",
    "        \"model_psd_spectrum\": wandb.Image(fig),\n",
    "    }\n",
    ")"
   ]
  },
  {
   "cell_type": "code",
   "execution_count": 52,
   "id": "230a6088-eeb1-4ab3-8031-a2d267b1cdb6",
   "metadata": {},
   "outputs": [
    {
     "data": {
      "image/png": "[encoded data removed]",
      "text/plain": [
       "<Figure size 504x360 with 1 Axes>"
      ]
     },
     "metadata": {
      "needs_background": "light"
     },
     "output_type": "display_data"
    }
   ],
   "source": [
    "fig, ax = plot_psd_score(\n",
    "    psd_metrics.psd_diff, \n",
    "    psd_metrics.psd_ref, \n",
    "    psd_metrics.wavenumber, \n",
    "    psd_metrics.resolved_scale)\n",
    "\n",
    "wandb_logger.experiment.log(\n",
    "    {\n",
    "        \"model_psd_score\": wandb.Image(fig),\n",
    "    }\n",
    ")"
   ]
  },
  {
   "cell_type": "markdown",
   "id": "4a2bd7b7-dcb5-4536-b326-cc679b9a8300",
   "metadata": {},
   "source": [
    "### Movies"
   ]
  },
  {
   "cell_type": "code",
   "execution_count": 40,
   "id": "e5998a5e-152a-47b0-8e35-f364e630bcab",
   "metadata": {},
   "outputs": [],
   "source": [
    "save_path = wandb.run.dir #Path(root).joinpath(\"experiments/dc_2021b\")"
   ]
  },
  {
   "cell_type": "code",
   "execution_count": 41,
   "id": "af137cf9-e718-497d-be4e-80bf049b6271",
   "metadata": {},
   "outputs": [],
   "source": [
    "# import hvplot.xarray\n",
    "\n",
    "\n",
    "# ds_oi.ssh.hvplot.image(\n",
    "#     x=\"longitude\",\n",
    "#     y=\"latitude\",\n",
    "#     # groupby='time',\n",
    "#     # rasterize=True, \n",
    "#     width=500, height=400, cmap=\"viridis\")"
   ]
  },
  {
   "cell_type": "code",
   "execution_count": 42,
   "id": "0d0aaa8c-6d83-46e2-86b4-cf23cdca1da2",
   "metadata": {},
   "outputs": [],
   "source": [
    "# create_movie(ds_oi.ssh.isel(time=slice(50,60)), f\"pred\", \"time\", cmap=\"viridis\", file_path=save_path)"
   ]
  },
  {
   "cell_type": "markdown",
   "id": "e7956edd-7b4d-4ada-983a-ad0cf3e8f662",
   "metadata": {},
   "source": [
    "<!-- ![](wandb/run-20220601_174733-kx2nr6qb/files/movie_pred.gif) -->"
   ]
  },
  {
   "cell_type": "code",
   "execution_count": 43,
   "id": "98f0bcf3-7732-44bd-b30a-48e6612325af",
   "metadata": {},
   "outputs": [],
   "source": [
    "# if args.smoke_test:\n",
    "#     create_movie(ds_oi.ssh.isel(time=slice(50,60)), f\"pred\", \"time\", cmap=\"viridis\", file_path=save_path)\n",
    "# else:\n",
    "#     create_movie(ds_oi.ssh, f\"pred\", \"time\", cmap=\"viridis\", file_path=save_path)\n"
   ]
  },
  {
   "cell_type": "code",
   "execution_count": 44,
   "id": "4292fd48-f99a-4a12-9ba2-35b9f32c403e",
   "metadata": {},
   "outputs": [],
   "source": [
    "# wandb.log(\n",
    "#     {\n",
    "#         \"predictions_gif\": wandb.Image(f\"{save_path}/movie_pred.gif\"),\n",
    "#     }\n",
    "# )"
   ]
  },
  {
   "cell_type": "markdown",
   "id": "3f7cdb4b-468b-4f37-992b-6403056a2ba9",
   "metadata": {},
   "source": [
    "### Gradients"
   ]
  },
  {
   "cell_type": "code",
   "execution_count": 45,
   "id": "22e7dfb4-8f7c-4cbe-8989-e9e64eab9453",
   "metadata": {},
   "outputs": [],
   "source": [
    "ds_oi[\"ssh_grad\"] = calculate_gradient(ds_oi[\"ssh\"], \"longitude\", \"latitude\")"
   ]
  },
  {
   "cell_type": "code",
   "execution_count": 46,
   "id": "278f6131-30c8-48f5-8250-386124ecc956",
   "metadata": {},
   "outputs": [],
   "source": [
    "# ds_oi.ssh_grad.hvplot.image(\n",
    "#     x=\"longitude\",\n",
    "#     y=\"latitude\",\n",
    "#     # groupby='time',\n",
    "#     # rasterize=True, \n",
    "#     width=500, height=400, cmap=\"Spectral_r\")"
   ]
  },
  {
   "cell_type": "code",
   "execution_count": 47,
   "id": "3975b43e-f722-4948-999f-4e60eaf87362",
   "metadata": {},
   "outputs": [],
   "source": [
    "# if args.smoke_test:\n",
    "#     create_movie(ds_oi.ssh_grad.isel(time=slice(50,60)), f\"pred_grad\", \"time\", cmap=\"Spectral_r\", file_path=save_path)\n",
    "# else:\n",
    "#     create_movie(ds_oi.ssh_grad, f\"pred_grad\", \"time\", cmap=\"Spectral_r\", file_path=save_path)"
   ]
  },
  {
   "cell_type": "code",
   "execution_count": 48,
   "id": "6872c78a-d596-446f-911f-3444b2701991",
   "metadata": {},
   "outputs": [],
   "source": [
    "# wandb.log(\n",
    "#     {\n",
    "#         \"predictions_grad_gif\": wandb.Image(f\"{save_path}/movie_pred_grad.gif\"),\n",
    "#     }\n",
    "# )"
   ]
  },
  {
   "cell_type": "markdown",
   "id": "5d08cd6d-20cb-4726-9204-bab5405e584d",
   "metadata": {},
   "source": [
    "### Laplacian"
   ]
  },
  {
   "cell_type": "code",
   "execution_count": 49,
   "id": "2816a06f-c1bf-485a-8966-a0adffd91df0",
   "metadata": {},
   "outputs": [],
   "source": [
    "ds_oi[\"ssh_lap\"] = calculate_laplacian(ds_oi[\"ssh\"], \"longitude\", \"latitude\")"
   ]
  },
  {
   "cell_type": "code",
   "execution_count": 50,
   "id": "7d39b798-65d0-4f04-a655-16b1f202667b",
   "metadata": {},
   "outputs": [],
   "source": [
    "# ds_oi.ssh_lap.hvplot.image(\n",
    "#     x=\"longitude\",\n",
    "#     y=\"latitude\",\n",
    "#     # groupby='time',\n",
    "#     # rasterize=True, \n",
    "#     width=500, height=400, cmap=\"RdBu_r\")"
   ]
  },
  {
   "cell_type": "code",
   "execution_count": 51,
   "id": "6f401c5c-1ff3-4934-8a24-404366860b99",
   "metadata": {},
   "outputs": [],
   "source": [
    "# if args.smoke_test:\n",
    "#     create_movie(ds_oi.ssh_lap.isel(time=slice(50,60)), f\"pred_lap\", \"time\", cmap=\"RdBu_r\", file_path=save_path)\n",
    "# else:\n",
    "#     create_movie(ds_oi.ssh_lap, f\"pred_lap\", \"time\", cmap=\"RdBu_r\", file_path=save_path)\n"
   ]
  },
  {
   "cell_type": "code",
   "execution_count": 52,
   "id": "05ede2ed-4fe4-4209-83b0-6b25ac618daf",
   "metadata": {},
   "outputs": [],
   "source": [
    "# wandb.log(\n",
    "#     {\n",
    "#         \"predictions_laplacian_gif\": wandb.Image(f\"{save_path}/movie_pred_lap.gif\"),\n",
    "#     }\n",
    "# )"
   ]
  },
  {
   "cell_type": "code",
   "execution_count": null,
   "id": "a9485293-abcd-4af0-9af8-70487d42b1be",
   "metadata": {},
   "outputs": [],
   "source": []
  }
 ],
 "metadata": {
  "kernelspec": {
   "display_name": "Python [conda env:jaxtftorch_cpu_py39]",
   "language": "python",
   "name": "conda-env-jaxtftorch_cpu_py39-py"
  },
  "language_info": {
   "codemirror_mode": {
    "name": "ipython",
    "version": 3
   },
   "file_extension": ".py",
   "mimetype": "text/x-python",
   "name": "python",
   "nbconvert_exporter": "python",
   "pygments_lexer": "ipython3",
   "version": "3.9.12"
  }
 },
 "nbformat": 4,
 "nbformat_minor": 5
}
