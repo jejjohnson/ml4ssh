{
 "cells": [
  {
   "cell_type": "markdown",
   "id": "48671f14-4157-4801-9aeb-26379ae459ea",
   "metadata": {},
   "source": [
    "# Demo - Evaluation - Siren (PyTorch)"
   ]
  },
  {
   "cell_type": "code",
   "execution_count": 1,
   "id": "c8a2ee9e-04cc-4c5e-a3eb-4742a7ad7cd1",
   "metadata": {},
   "outputs": [],
   "source": [
    "import sys, os\n",
    "from pyprojroot import here\n",
    "\n",
    "\n",
    "# spyder up to find the root, local\n",
    "root = here(project_files=[\".root\"])\n",
    "local = here(project_files=[\".local\"])\n",
    "\n",
    "# append to path\n",
    "sys.path.append(str(root))\n",
    "sys.path.append(str(local))"
   ]
  },
  {
   "cell_type": "code",
   "execution_count": 2,
   "id": "4e08b309-df46-4190-96f7-914907b8b422",
   "metadata": {},
   "outputs": [],
   "source": [
    "from pathlib import Path\n",
    "import argparse\n",
    "import wandb\n",
    "from tqdm.notebook import tqdm\n",
    "import matplotlib.pyplot as plt\n",
    "import seaborn as sns\n",
    "sns.reset_defaults()\n",
    "sns.set_context(context=\"talk\", font_scale=0.7)\n",
    "\n",
    "# # Ensure TF does not see GPU and grab all GPU memory.\n",
    "# import tensorflow as tf\n",
    "# tf.config.set_visible_devices([], device_type='GPU')\n",
    "\n",
    "# os.environ[\"JAX_PLATFORM_NAME\"] = \"CPU\"\n",
    "# # ENSURE JAX DOESNT PREALLOCATE\n",
    "# os.environ[\"XLA_PYTHON_CLIENT_PREALLOCATE\"] = str(False)\n",
    "\n",
    "import jax\n",
    "import jax.random as jrandom\n",
    "import jax.numpy as jnp\n",
    "import equinox as eqx\n",
    "from ml4ssh._src.io import load_object, save_object\n",
    "from ml4ssh._src.viz import create_movie, plot_psd_spectrum, plot_psd_score\n",
    "from ml4ssh._src.utils import get_meshgrid, calculate_gradient, calculate_laplacian\n",
    "\n",
    "# import parsers\n",
    "from data import get_data_args, load_data\n",
    "from preprocess import add_preprocess_args, preprocess_data\n",
    "from features import add_feature_args, feature_transform\n",
    "from split import add_split_args, split_data\n",
    "from models.siren_torch import add_model_args\n",
    "from loss import add_loss_args, get_loss_fn\n",
    "from logger import add_logger_args\n",
    "from optimizer import add_optimizer_args, get_optimizer\n",
    "from postprocess import add_postprocess_args, postprocess_data, generate_eval_data\n",
    "from evaluation import add_eval_args, get_rmse_metrics, get_psd_metrics\n",
    "\n",
    "from pytorch_lightning.loggers import WandbLogger\n",
    "from pytorch_lightning import Trainer\n",
    "from pytorch_lightning.utilities.argparse import add_argparse_args\n",
    "\n",
    "%matplotlib inline\n",
    "%load_ext autoreload\n",
    "%autoreload 2"
   ]
  },
  {
   "cell_type": "code",
   "execution_count": 3,
   "id": "48e97f26-5316-4b1b-b3cb-5dc94badb788",
   "metadata": {},
   "outputs": [],
   "source": [
    "import loguru"
   ]
  },
  {
   "cell_type": "markdown",
   "id": "305ed40f-5926-41e3-8f76-22d50df60c1e",
   "metadata": {},
   "source": [
    "### Arguments"
   ]
  },
  {
   "cell_type": "code",
   "execution_count": 4,
   "id": "3df16f7c-7359-44b8-8330-763db501793b",
   "metadata": {},
   "outputs": [],
   "source": [
    "# ige/nerf4ssh/3jxcg0xh\n",
    "# ige/nerf4ssh/3d4rerfr # epoch=1171-step=461768.ckpt # avid-cloud (3 layers)\n",
    "# ige/nerf4ssh/akq2iv1z # epoch=1095-step=431824.ckpt # icy-plant (4 layers)\n",
    "# ige/nerf4ssh/2wbe5r2u * epoch=871-step=343568.ckpt # fiery-sunset ( 5 layers )\n",
    "# ige/nerf4ssh/24kiuvw8 # epoch=536-step=211578.ckpt # apricot-field (6 layers)\n",
    "# ige/nerf4ssh/1vijztr6 # epoch=453-step=178876.ckpt # fancy-wave (7 layers)\n",
    "wandb_id = \"24kiuvw8\"\n",
    "entity = \"ige\"\n",
    "project = \"nerf4ssh\"\n",
    "resume = True\n",
    "mode = \"online\"\n",
    "checkpoint_name = \"epoch=536-step=211578.ckpt\""
   ]
  },
  {
   "cell_type": "markdown",
   "id": "2816cbb2-1a8f-431d-a12b-d0e4f008b7f5",
   "metadata": {},
   "source": [
    "### Logger\n"
   ]
  },
  {
   "cell_type": "code",
   "execution_count": 5,
   "id": "7733fbe0-fb43-4eda-af8e-50f00e380ec1",
   "metadata": {},
   "outputs": [
    {
     "name": "stderr",
     "output_type": "stream",
     "text": [
      "Failed to detect the name of this notebook, you can set it manually with the WANDB_NOTEBOOK_NAME environment variable to enable code saving.\n",
      "\u001b[34m\u001b[1mwandb\u001b[0m: Currently logged in as: \u001b[33memanjohnson91\u001b[0m (\u001b[33mige\u001b[0m). Use \u001b[1m`wandb login --relogin`\u001b[0m to force relogin\n",
      "2022-06-06 19:48:09.162897: W tensorflow/stream_executor/platform/default/dso_loader.cc:64] Could not load dynamic library 'libcudart.so.11.0'; dlerror: libcudart.so.11.0: cannot open shared object file: No such file or directory\n"
     ]
    },
    {
     "data": {
      "text/html": [
       "Tracking run with wandb version 0.12.17"
      ],
      "text/plain": [
       "<IPython.core.display.HTML object>"
      ]
     },
     "metadata": {},
     "output_type": "display_data"
    },
    {
     "data": {
      "text/html": [
       "Run data is saved locally in <code>/mnt/meom/workdir/johnsonj/projects/ml4ssh/experiments/dc_2021b/notebooks/siren/wandb/run-20220606_194808-24kiuvw8</code>"
      ],
      "text/plain": [
       "<IPython.core.display.HTML object>"
      ]
     },
     "metadata": {},
     "output_type": "display_data"
    },
    {
     "data": {
      "text/html": [
       "Resuming run <strong><a href=\"https://wandb.ai/ige/nerf4ssh/runs/24kiuvw8\" target=\"_blank\">apricot-field-87</a></strong> to <a href=\"https://wandb.ai/ige/nerf4ssh\" target=\"_blank\">Weights & Biases</a> (<a href=\"https://wandb.me/run\" target=\"_blank\">docs</a>)<br/>"
      ],
      "text/plain": [
       "<IPython.core.display.HTML object>"
      ]
     },
     "metadata": {},
     "output_type": "display_data"
    }
   ],
   "source": [
    "# init wandb logger\n",
    "wandb_logger = WandbLogger(\n",
    "    id=wandb_id,\n",
    "    mode=mode,\n",
    "    project=project,\n",
    "    entity=entity,\n",
    "    resume=resume,\n",
    ")"
   ]
  },
  {
   "cell_type": "code",
   "execution_count": 6,
   "id": "2c459543-ecf1-45a1-927c-3119838adcfb",
   "metadata": {},
   "outputs": [],
   "source": [
    "args = wandb_logger.experiment.config"
   ]
  },
  {
   "cell_type": "code",
   "execution_count": 7,
   "id": "7bfd2044-8edc-4443-b8eb-dce5947d6adb",
   "metadata": {},
   "outputs": [],
   "source": [
    "args.train_data_dir = \"/home/johnsonj/data/dc_2021/raw/train\"\n",
    "args.ref_data_dir = \"/home/johnsonj/data/dc_2021/raw/ref\"\n",
    "args.test_data_dir = \"/home/johnsonj/data/dc_2021/raw/test\""
   ]
  },
  {
   "cell_type": "markdown",
   "id": "dce2df15-f422-406b-8e53-64edf65f4172",
   "metadata": {},
   "source": [
    "### Load Data"
   ]
  },
  {
   "cell_type": "code",
   "execution_count": 8,
   "id": "1a204743-93da-4f08-a080-67fcd404f1ec",
   "metadata": {},
   "outputs": [
    {
     "name": "stderr",
     "output_type": "stream",
     "text": [
      "100%|██████████| 6/6 [00:00<00:00, 19.29it/s]\n"
     ]
    },
    {
     "name": "stdout",
     "output_type": "stream",
     "text": [
      "CPU times: user 416 ms, sys: 412 ms, total: 828 ms\n",
      "Wall time: 2.34 s\n"
     ]
    }
   ],
   "source": [
    "%%time\n",
    "\n",
    "# load data\n",
    "data = load_data(args)"
   ]
  },
  {
   "cell_type": "code",
   "execution_count": 9,
   "id": "255a4c24-1d0a-47f1-a6d8-60d91ff6c572",
   "metadata": {},
   "outputs": [],
   "source": [
    "# preprocess data\n",
    "data = preprocess_data(data, args)"
   ]
  },
  {
   "cell_type": "code",
   "execution_count": 10,
   "id": "f185ee88-4a48-4190-9ad9-9399d26a315d",
   "metadata": {},
   "outputs": [
    {
     "data": {
      "text/html": [
       "<div>\n",
       "<style scoped>\n",
       "    .dataframe tbody tr th:only-of-type {\n",
       "        vertical-align: middle;\n",
       "    }\n",
       "\n",
       "    .dataframe tbody tr th {\n",
       "        vertical-align: top;\n",
       "    }\n",
       "\n",
       "    .dataframe thead th {\n",
       "        text-align: right;\n",
       "    }\n",
       "</style>\n",
       "<table border=\"1\" class=\"dataframe\">\n",
       "  <thead>\n",
       "    <tr style=\"text-align: right;\">\n",
       "      <th></th>\n",
       "      <th>longitude</th>\n",
       "      <th>latitude</th>\n",
       "    </tr>\n",
       "  </thead>\n",
       "  <tbody>\n",
       "    <tr>\n",
       "      <th>count</th>\n",
       "      <td>1.790094e+06</td>\n",
       "      <td>1.790094e+06</td>\n",
       "    </tr>\n",
       "    <tr>\n",
       "      <th>mean</th>\n",
       "      <td>3.014897e+02</td>\n",
       "      <td>3.581542e+01</td>\n",
       "    </tr>\n",
       "    <tr>\n",
       "      <th>std</th>\n",
       "      <td>8.457194e+00</td>\n",
       "      <td>7.822792e+00</td>\n",
       "    </tr>\n",
       "    <tr>\n",
       "      <th>min</th>\n",
       "      <td>2.850000e+02</td>\n",
       "      <td>2.300002e+01</td>\n",
       "    </tr>\n",
       "    <tr>\n",
       "      <th>25%</th>\n",
       "      <td>2.945217e+02</td>\n",
       "      <td>2.922090e+01</td>\n",
       "    </tr>\n",
       "    <tr>\n",
       "      <th>50%</th>\n",
       "      <td>3.019900e+02</td>\n",
       "      <td>3.538647e+01</td>\n",
       "    </tr>\n",
       "    <tr>\n",
       "      <th>75%</th>\n",
       "      <td>3.089025e+02</td>\n",
       "      <td>4.169575e+01</td>\n",
       "    </tr>\n",
       "    <tr>\n",
       "      <th>max</th>\n",
       "      <td>3.150000e+02</td>\n",
       "      <td>5.299990e+01</td>\n",
       "    </tr>\n",
       "  </tbody>\n",
       "</table>\n",
       "</div>"
      ],
      "text/plain": [
       "          longitude      latitude\n",
       "count  1.790094e+06  1.790094e+06\n",
       "mean   3.014897e+02  3.581542e+01\n",
       "std    8.457194e+00  7.822792e+00\n",
       "min    2.850000e+02  2.300002e+01\n",
       "25%    2.945217e+02  2.922090e+01\n",
       "50%    3.019900e+02  3.538647e+01\n",
       "75%    3.089025e+02  4.169575e+01\n",
       "max    3.150000e+02  5.299990e+01"
      ]
     },
     "execution_count": 10,
     "metadata": {},
     "output_type": "execute_result"
    }
   ],
   "source": [
    "data[data.attrs[\"input_cols\"]].describe()"
   ]
  },
  {
   "cell_type": "code",
   "execution_count": 11,
   "id": "359782c7-7835-4303-b544-b51a2857da57",
   "metadata": {},
   "outputs": [],
   "source": [
    "# feature transformation\n",
    "data, scaler = feature_transform(data, args)"
   ]
  },
  {
   "cell_type": "code",
   "execution_count": 12,
   "id": "c4df878b-966d-427d-b218-1bdef0b4fcbd",
   "metadata": {},
   "outputs": [
    {
     "data": {
      "text/plain": [
       "['longitude', 'latitude', 'time']"
      ]
     },
     "execution_count": 12,
     "metadata": {},
     "output_type": "execute_result"
    }
   ],
   "source": [
    "data.attrs[\"input_cols\"]"
   ]
  },
  {
   "cell_type": "code",
   "execution_count": 13,
   "id": "1661e9a1-59cb-4b15-ab5a-a5654f5dadf3",
   "metadata": {},
   "outputs": [
    {
     "data": {
      "text/html": [
       "<div>\n",
       "<style scoped>\n",
       "    .dataframe tbody tr th:only-of-type {\n",
       "        vertical-align: middle;\n",
       "    }\n",
       "\n",
       "    .dataframe tbody tr th {\n",
       "        vertical-align: top;\n",
       "    }\n",
       "\n",
       "    .dataframe thead th {\n",
       "        text-align: right;\n",
       "    }\n",
       "</style>\n",
       "<table border=\"1\" class=\"dataframe\">\n",
       "  <thead>\n",
       "    <tr style=\"text-align: right;\">\n",
       "      <th></th>\n",
       "      <th>longitude</th>\n",
       "      <th>latitude</th>\n",
       "      <th>time</th>\n",
       "    </tr>\n",
       "  </thead>\n",
       "  <tbody>\n",
       "    <tr>\n",
       "      <th>count</th>\n",
       "      <td>1.790094e+06</td>\n",
       "      <td>1.790094e+06</td>\n",
       "      <td>1.790094e+06</td>\n",
       "    </tr>\n",
       "    <tr>\n",
       "      <th>mean</th>\n",
       "      <td>9.931211e-02</td>\n",
       "      <td>-1.456369e-01</td>\n",
       "      <td>-2.934260e-02</td>\n",
       "    </tr>\n",
       "    <tr>\n",
       "      <th>std</th>\n",
       "      <td>5.638133e-01</td>\n",
       "      <td>5.215216e-01</td>\n",
       "      <td>5.806831e-01</td>\n",
       "    </tr>\n",
       "    <tr>\n",
       "      <th>min</th>\n",
       "      <td>-1.000000e+00</td>\n",
       "      <td>-1.000000e+00</td>\n",
       "      <td>-1.000000e+00</td>\n",
       "    </tr>\n",
       "    <tr>\n",
       "      <th>25%</th>\n",
       "      <td>-3.652177e-01</td>\n",
       "      <td>-5.852729e-01</td>\n",
       "      <td>-5.627976e-01</td>\n",
       "    </tr>\n",
       "    <tr>\n",
       "      <th>50%</th>\n",
       "      <td>1.326643e-01</td>\n",
       "      <td>-1.742332e-01</td>\n",
       "      <td>1.634461e-04</td>\n",
       "    </tr>\n",
       "    <tr>\n",
       "      <th>75%</th>\n",
       "      <td>5.935011e-01</td>\n",
       "      <td>2.463873e-01</td>\n",
       "      <td>4.528359e-01</td>\n",
       "    </tr>\n",
       "    <tr>\n",
       "      <th>max</th>\n",
       "      <td>1.000000e+00</td>\n",
       "      <td>1.000000e+00</td>\n",
       "      <td>1.000000e+00</td>\n",
       "    </tr>\n",
       "  </tbody>\n",
       "</table>\n",
       "</div>"
      ],
      "text/plain": [
       "          longitude      latitude          time\n",
       "count  1.790094e+06  1.790094e+06  1.790094e+06\n",
       "mean   9.931211e-02 -1.456369e-01 -2.934260e-02\n",
       "std    5.638133e-01  5.215216e-01  5.806831e-01\n",
       "min   -1.000000e+00 -1.000000e+00 -1.000000e+00\n",
       "25%   -3.652177e-01 -5.852729e-01 -5.627976e-01\n",
       "50%    1.326643e-01 -1.742332e-01  1.634461e-04\n",
       "75%    5.935011e-01  2.463873e-01  4.528359e-01\n",
       "max    1.000000e+00  1.000000e+00  1.000000e+00"
      ]
     },
     "execution_count": 13,
     "metadata": {},
     "output_type": "execute_result"
    }
   ],
   "source": [
    "data[data.attrs[\"input_cols\"]].describe()"
   ]
  },
  {
   "cell_type": "code",
   "execution_count": 14,
   "id": "7504124d-cfc4-419f-9de7-52f9034d840f",
   "metadata": {},
   "outputs": [
    {
     "data": {
      "text/plain": [
       "(array([3.14999995e+02, 5.29998990e+01, 2.45814946e+06]),\n",
       " array([2.85000013e+02, 2.30000210e+01, 2.45772355e+06]))"
      ]
     },
     "execution_count": 14,
     "metadata": {},
     "output_type": "execute_result"
    }
   ],
   "source": [
    "scaler.data_max_, scaler.data_min_"
   ]
  },
  {
   "cell_type": "code",
   "execution_count": 15,
   "id": "7386abc3-3927-4ae3-8eb8-cf0ac87426a1",
   "metadata": {},
   "outputs": [],
   "source": [
    "# split data\n",
    "xtrain, ytrain, xvalid, yvalid = split_data(data, args)\n",
    "\n",
    "args.in_dim = xtrain.shape[-1]\n",
    "args.n_train = xtrain.shape[0]\n",
    "args.n_valid = xvalid.shape[0]\n",
    "\n",
    "wandb_logger.log_hyperparams(\n",
    "    {\n",
    "        \"in_dim\": args.in_dim,\n",
    "        \"n_train\": args.n_train,\n",
    "        \"n_valid\": args.n_valid,\n",
    "    }\n",
    ")"
   ]
  },
  {
   "cell_type": "code",
   "execution_count": 16,
   "id": "734addf4-bc15-41c1-b9be-4963e2132bfc",
   "metadata": {},
   "outputs": [
    {
     "data": {
      "text/plain": [
       "(1611084, 179010)"
      ]
     },
     "execution_count": 16,
     "metadata": {},
     "output_type": "execute_result"
    }
   ],
   "source": [
    "args.n_train, args.n_valid"
   ]
  },
  {
   "cell_type": "code",
   "execution_count": 17,
   "id": "9d2d93f7-0344-4fae-8f56-9dbe02ba09c0",
   "metadata": {},
   "outputs": [
    {
     "data": {
      "text/html": [
       "<div>\n",
       "<style scoped>\n",
       "    .dataframe tbody tr th:only-of-type {\n",
       "        vertical-align: middle;\n",
       "    }\n",
       "\n",
       "    .dataframe tbody tr th {\n",
       "        vertical-align: top;\n",
       "    }\n",
       "\n",
       "    .dataframe thead th {\n",
       "        text-align: right;\n",
       "    }\n",
       "</style>\n",
       "<table border=\"1\" class=\"dataframe\">\n",
       "  <thead>\n",
       "    <tr style=\"text-align: right;\">\n",
       "      <th></th>\n",
       "      <th>longitude</th>\n",
       "      <th>latitude</th>\n",
       "      <th>time</th>\n",
       "    </tr>\n",
       "  </thead>\n",
       "  <tbody>\n",
       "    <tr>\n",
       "      <th>count</th>\n",
       "      <td>1.790094e+06</td>\n",
       "      <td>1.790094e+06</td>\n",
       "      <td>1.790094e+06</td>\n",
       "    </tr>\n",
       "    <tr>\n",
       "      <th>mean</th>\n",
       "      <td>9.931211e-02</td>\n",
       "      <td>-1.456369e-01</td>\n",
       "      <td>-2.934260e-02</td>\n",
       "    </tr>\n",
       "    <tr>\n",
       "      <th>std</th>\n",
       "      <td>5.638133e-01</td>\n",
       "      <td>5.215216e-01</td>\n",
       "      <td>5.806831e-01</td>\n",
       "    </tr>\n",
       "    <tr>\n",
       "      <th>min</th>\n",
       "      <td>-1.000000e+00</td>\n",
       "      <td>-1.000000e+00</td>\n",
       "      <td>-1.000000e+00</td>\n",
       "    </tr>\n",
       "    <tr>\n",
       "      <th>25%</th>\n",
       "      <td>-3.652177e-01</td>\n",
       "      <td>-5.852729e-01</td>\n",
       "      <td>-5.627976e-01</td>\n",
       "    </tr>\n",
       "    <tr>\n",
       "      <th>50%</th>\n",
       "      <td>1.326643e-01</td>\n",
       "      <td>-1.742332e-01</td>\n",
       "      <td>1.634461e-04</td>\n",
       "    </tr>\n",
       "    <tr>\n",
       "      <th>75%</th>\n",
       "      <td>5.935011e-01</td>\n",
       "      <td>2.463873e-01</td>\n",
       "      <td>4.528359e-01</td>\n",
       "    </tr>\n",
       "    <tr>\n",
       "      <th>max</th>\n",
       "      <td>1.000000e+00</td>\n",
       "      <td>1.000000e+00</td>\n",
       "      <td>1.000000e+00</td>\n",
       "    </tr>\n",
       "  </tbody>\n",
       "</table>\n",
       "</div>"
      ],
      "text/plain": [
       "          longitude      latitude          time\n",
       "count  1.790094e+06  1.790094e+06  1.790094e+06\n",
       "mean   9.931211e-02 -1.456369e-01 -2.934260e-02\n",
       "std    5.638133e-01  5.215216e-01  5.806831e-01\n",
       "min   -1.000000e+00 -1.000000e+00 -1.000000e+00\n",
       "25%   -3.652177e-01 -5.852729e-01 -5.627976e-01\n",
       "50%    1.326643e-01 -1.742332e-01  1.634461e-04\n",
       "75%    5.935011e-01  2.463873e-01  4.528359e-01\n",
       "max    1.000000e+00  1.000000e+00  1.000000e+00"
      ]
     },
     "execution_count": 17,
     "metadata": {},
     "output_type": "execute_result"
    }
   ],
   "source": [
    "data[data.attrs[\"input_cols\"]].describe()"
   ]
  },
  {
   "cell_type": "markdown",
   "id": "426d54d7-20bd-4139-bf64-938301bc73fa",
   "metadata": {},
   "source": [
    "### Dataset"
   ]
  },
  {
   "cell_type": "code",
   "execution_count": 18,
   "id": "9555d40a-8cd1-4b64-96f8-4ff81fa7691d",
   "metadata": {},
   "outputs": [],
   "source": [
    "import torch\n",
    "from torch.utils.data import Dataset, DataLoader"
   ]
  },
  {
   "cell_type": "code",
   "execution_count": 19,
   "id": "b3822730-7c0e-47c1-aaae-66b68ef13c3d",
   "metadata": {},
   "outputs": [],
   "source": [
    "class PointsDataset(Dataset):\n",
    "    def __init__(self, X, y):\n",
    "        self.X = X\n",
    "        self.y = y\n",
    "        \n",
    "    def __len__(self):\n",
    "        return len(self.X)\n",
    "    \n",
    "    def __getitem__(self, index):\n",
    "        X = self.X[index]\n",
    "        y = self.y[index]\n",
    "        \n",
    "        return X, y"
   ]
  },
  {
   "cell_type": "code",
   "execution_count": 20,
   "id": "320345f0-9294-42aa-ba82-7501a63f784b",
   "metadata": {},
   "outputs": [],
   "source": [
    "# initialize dataset\n",
    "ds_train = PointsDataset(torch.Tensor(xtrain), torch.Tensor(ytrain))\n",
    "ds_valid = PointsDataset(torch.Tensor(xvalid), torch.Tensor(yvalid))\n",
    "# initialize dataloader\n",
    "# initialize dataloader\n",
    "dl_train = DataLoader(\n",
    "    ds_train, \n",
    "    batch_size=args.batch_size, \n",
    "    shuffle=True, \n",
    "    pin_memory=True,\n",
    "    num_workers=0#args.num_workers\n",
    ")\n",
    "dl_valid = DataLoader(\n",
    "    ds_valid, \n",
    "    batch_size=args.batch_size, \n",
    "    shuffle=False, \n",
    "    pin_memory=True,\n",
    "    num_workers=0#args.num_workers,\n",
    ")"
   ]
  },
  {
   "cell_type": "markdown",
   "id": "ef39f5ec-1066-467c-b4ba-d205adc4fba2",
   "metadata": {},
   "source": [
    "### Model"
   ]
  },
  {
   "cell_type": "code",
   "execution_count": 21,
   "id": "3fcb8cad-8f94-49a7-bc1e-b17933cf28c1",
   "metadata": {},
   "outputs": [],
   "source": [
    "from ml4ssh._src.models_torch.siren import SirenNet"
   ]
  },
  {
   "cell_type": "code",
   "execution_count": 22,
   "id": "3e2113ae-281a-4d52-a987-63c9143837ab",
   "metadata": {},
   "outputs": [],
   "source": [
    "model = SirenNet(\n",
    "    dim_in=3,\n",
    "    dim_hidden=args.hidden_dim,\n",
    "    dim_out=ytrain.shape[1], \n",
    "    num_layers=args.n_hidden, \n",
    "    w0=args.w0,\n",
    "    w0_initial=args.w0_initial,\n",
    "    use_bias=True,\n",
    "    final_activation=None\n",
    ")\n",
    "    "
   ]
  },
  {
   "cell_type": "markdown",
   "id": "c2a1d68f-2cc9-4246-8bd8-a83b234dd49f",
   "metadata": {},
   "source": [
    "### Training"
   ]
  },
  {
   "cell_type": "code",
   "execution_count": 23,
   "id": "59bcbd75-1ba0-4c95-9960-900393572ef8",
   "metadata": {},
   "outputs": [],
   "source": [
    "import torch\n",
    "from torch import nn\n"
   ]
  },
  {
   "cell_type": "code",
   "execution_count": 24,
   "id": "1d11e9de-daa2-4257-9b79-a1c12cc92209",
   "metadata": {},
   "outputs": [],
   "source": [
    "import pytorch_lightning as pl\n",
    "\n",
    "class LearnerPoints(pl.LightningModule):\n",
    "    def __init__(self, model:nn.Module):\n",
    "        super().__init__()\n",
    "        self.model = model\n",
    "        self.loss = nn.MSELoss(reduction=\"mean\")\n",
    "\n",
    "    def forward(self, x):\n",
    "        return self.model(x)\n",
    "    \n",
    "    def predict_step(self, batch, batch_idx, dataloader_idx=0):\n",
    "        \n",
    "        \n",
    "        x, y = batch\n",
    "        pred = self.model(x)\n",
    "        \n",
    "        return pred\n",
    "\n",
    "    def training_step(self, batch, batch_idx):\n",
    "        x, y = batch\n",
    "        # loss function\n",
    "        pred = self.model(x)\n",
    "        loss = self.loss(pred, y)\n",
    "        \n",
    "        self.log(\"train_loss\", loss)\n",
    "        \n",
    "        return loss\n",
    "    \n",
    "    def validation_step(self, batch, batch_idx):\n",
    "        x, y = batch\n",
    "        # loss function\n",
    "        pred = self.model(x)\n",
    "        loss = self.loss(pred, y)\n",
    "        \n",
    "        self.log(\"valid_loss\", loss)\n",
    "        \n",
    "        return loss\n",
    "    \n",
    "    def configure_optimizers(self):\n",
    "        return torch.optim.Adam(self.model.parameters(), lr=args.learning_rate)"
   ]
  },
  {
   "cell_type": "code",
   "execution_count": 25,
   "id": "29560448-ec2d-4fee-a2a8-b578e1a75bc3",
   "metadata": {},
   "outputs": [],
   "source": [
    "# from pytorch_lightning.callbacks.early_stopping import EarlyStopping\n",
    "# from pytorch_lightning.callbacks.model_checkpoint import ModelCheckpoint\n",
    "\n",
    "# callbacks = [\n",
    "#     ModelCheckpoint(\n",
    "#         dirpath = f\"{wandb_logger.experiment.dir}/checkpoints\",\n",
    "#         monitor=\"valid_loss\",\n",
    "#         mode=\"min\",\n",
    "#         save_top_k=1,\n",
    "#         save_last=True,\n",
    "#     ),\n",
    "#     EarlyStopping(monitor=\"valid_loss\", mode=\"min\", patience=10),\n",
    "    \n",
    "# ]"
   ]
  },
  {
   "cell_type": "code",
   "execution_count": 26,
   "id": "a3b0e042-4852-4d3b-8d2a-bf42ab78f93c",
   "metadata": {},
   "outputs": [],
   "source": [
    "# initialize trainer\n",
    "learn = LearnerPoints(model)"
   ]
  },
  {
   "cell_type": "code",
   "execution_count": 27,
   "id": "5961ecdb-ab96-48db-9ac6-8955d897f897",
   "metadata": {},
   "outputs": [
    {
     "name": "stderr",
     "output_type": "stream",
     "text": [
      "Global seed set to 123\n"
     ]
    },
    {
     "data": {
      "text/plain": [
       "123"
      ]
     },
     "execution_count": 27,
     "metadata": {},
     "output_type": "execute_result"
    }
   ],
   "source": [
    "from pytorch_lightning import seed_everything\n",
    "seed_everything(123)"
   ]
  },
  {
   "cell_type": "code",
   "execution_count": 28,
   "id": "b22433d2-b623-4333-8b86-f6db78a7a863",
   "metadata": {},
   "outputs": [
    {
     "name": "stderr",
     "output_type": "stream",
     "text": [
      "Multiprocessing is handled by SLURM.\n",
      "GPU available: False, used: False\n",
      "TPU available: False, using: 0 TPU cores\n",
      "IPU available: False, using: 0 IPUs\n",
      "HPU available: False, using: 0 HPUs\n"
     ]
    }
   ],
   "source": [
    "# initialize trainer\n",
    "trainer = pl.Trainer(\n",
    "    min_epochs=args.min_epochs, \n",
    "    max_epochs=args.n_epochs, \n",
    "    gpus=0, \n",
    "    enable_progress_bar=True, \n",
    "    logger=wandb_logger,\n",
    "    # callbacks=callbacks,\n",
    ")"
   ]
  },
  {
   "cell_type": "code",
   "execution_count": 29,
   "id": "5b5c443d-31a6-4336-9c27-2d5890e56335",
   "metadata": {},
   "outputs": [],
   "source": [
    "# trainer.fit(learn, train_dataloaders=dl_train, val_dataloaders=dl_valid)"
   ]
  },
  {
   "cell_type": "markdown",
   "id": "62ed2cdc-b549-4969-8d98-204f9728bee3",
   "metadata": {},
   "source": [
    "### Save models"
   ]
  },
  {
   "cell_type": "code",
   "execution_count": 30,
   "id": "52ad9002-384b-46b8-a5f2-173a7140d3f9",
   "metadata": {},
   "outputs": [],
   "source": [
    "# callbacks[0].best_model_path"
   ]
  },
  {
   "cell_type": "code",
   "execution_count": 31,
   "id": "59ce98d7-4765-4e91-9643-b2067ef7d1cd",
   "metadata": {},
   "outputs": [],
   "source": [
    "# torch.save(model.state_dict(), 'save/to/path/model.pth'﻿)"
   ]
  },
  {
   "cell_type": "code",
   "execution_count": 32,
   "id": "52ca9974-363e-4649-8660-aabef5808789",
   "metadata": {},
   "outputs": [],
   "source": [
    "# wandb_logger.experiment.dir"
   ]
  },
  {
   "cell_type": "code",
   "execution_count": 33,
   "id": "ed63a01f-45a1-4c00-bc03-2cfcb9910978",
   "metadata": {},
   "outputs": [],
   "source": [
    "# # objects\n",
    "# path_scaler = \"scaler.pickle\"\n",
    "\n",
    "# # models to save\n",
    "# save_object(scaler, path_scaler)\n",
    "\n",
    "# # save with wandb\n",
    "# wandb_logger.experiment.save(str(path_scaler))"
   ]
  },
  {
   "cell_type": "markdown",
   "id": "3952eecb-b099-4422-8c91-52285bb01c6e",
   "metadata": {},
   "source": [
    "### Load Models (Optional)"
   ]
  },
  {
   "cell_type": "code",
   "execution_count": 34,
   "id": "50cccbdb-ac0a-49e0-84e9-e14067312257",
   "metadata": {},
   "outputs": [],
   "source": [
    "# if args.server == \"jz\":\n",
    "# get id (from this run or a run you can set)\n",
    "run_id = wandb.run.id\n",
    "\n",
    "# initialize api\n",
    "api = wandb.Api()\n",
    "\n",
    "# get run\n",
    "run = api.run(f\"{args.entity}/{args.project}/{run_id}\")\n",
    "\n",
    "# download the files\n",
    "files = [\n",
    "    \"scaler.pickle\", \n",
    "    f\"checkpoints/{checkpoint_name}\"\n",
    "    # \"checkpoints/last.ckpt\"\n",
    "]\n",
    "\n",
    "for ifile in files:\n",
    "    \n",
    "    run.file(ifile).download(replace=True)"
   ]
  },
  {
   "cell_type": "code",
   "execution_count": 35,
   "id": "cef597ca-bc1f-4996-b51a-f5deed6c5491",
   "metadata": {},
   "outputs": [],
   "source": [
    "\n",
    "scaler = load_object(\"./scaler.pickle\")"
   ]
  },
  {
   "cell_type": "code",
   "execution_count": 36,
   "id": "bef81b26-8d65-4d39-b0f1-d0bcaab80d60",
   "metadata": {},
   "outputs": [],
   "source": [
    "learn = LearnerPoints.load_from_checkpoint(\n",
    "    checkpoint_path=f\"checkpoints/{checkpoint_name}\",\n",
    "    model=model\n",
    ")"
   ]
  },
  {
   "cell_type": "markdown",
   "id": "450003ae-4943-4704-b6f4-5b7eab4f21ba",
   "metadata": {},
   "source": [
    "### PostProcessing"
   ]
  },
  {
   "cell_type": "code",
   "execution_count": 37,
   "id": "316e79d9-efc8-4707-9c67-e9781e110004",
   "metadata": {},
   "outputs": [
    {
     "data": {
      "text/html": [
       "<div>\n",
       "<style scoped>\n",
       "    .dataframe tbody tr th:only-of-type {\n",
       "        vertical-align: middle;\n",
       "    }\n",
       "\n",
       "    .dataframe tbody tr th {\n",
       "        vertical-align: top;\n",
       "    }\n",
       "\n",
       "    .dataframe thead th {\n",
       "        text-align: right;\n",
       "    }\n",
       "</style>\n",
       "<table border=\"1\" class=\"dataframe\">\n",
       "  <thead>\n",
       "    <tr style=\"text-align: right;\">\n",
       "      <th></th>\n",
       "      <th>longitude</th>\n",
       "      <th>latitude</th>\n",
       "      <th>vtime</th>\n",
       "    </tr>\n",
       "  </thead>\n",
       "  <tbody>\n",
       "    <tr>\n",
       "      <th>count</th>\n",
       "      <td>967980.000000</td>\n",
       "      <td>967980.000000</td>\n",
       "      <td>967980.000000</td>\n",
       "    </tr>\n",
       "    <tr>\n",
       "      <th>mean</th>\n",
       "      <td>300.000000</td>\n",
       "      <td>38.100000</td>\n",
       "      <td>213.000000</td>\n",
       "    </tr>\n",
       "    <tr>\n",
       "      <th>std</th>\n",
       "      <td>2.943922</td>\n",
       "      <td>3.001668</td>\n",
       "      <td>105.366083</td>\n",
       "    </tr>\n",
       "    <tr>\n",
       "      <th>min</th>\n",
       "      <td>295.000000</td>\n",
       "      <td>33.000000</td>\n",
       "      <td>31.000000</td>\n",
       "    </tr>\n",
       "    <tr>\n",
       "      <th>25%</th>\n",
       "      <td>297.400000</td>\n",
       "      <td>35.550000</td>\n",
       "      <td>122.000000</td>\n",
       "    </tr>\n",
       "    <tr>\n",
       "      <th>50%</th>\n",
       "      <td>300.000000</td>\n",
       "      <td>38.100000</td>\n",
       "      <td>213.000000</td>\n",
       "    </tr>\n",
       "    <tr>\n",
       "      <th>75%</th>\n",
       "      <td>302.600000</td>\n",
       "      <td>40.650000</td>\n",
       "      <td>304.000000</td>\n",
       "    </tr>\n",
       "    <tr>\n",
       "      <th>max</th>\n",
       "      <td>305.000000</td>\n",
       "      <td>43.200000</td>\n",
       "      <td>395.000000</td>\n",
       "    </tr>\n",
       "  </tbody>\n",
       "</table>\n",
       "</div>"
      ],
      "text/plain": [
       "           longitude       latitude          vtime\n",
       "count  967980.000000  967980.000000  967980.000000\n",
       "mean      300.000000      38.100000     213.000000\n",
       "std         2.943922       3.001668     105.366083\n",
       "min       295.000000      33.000000      31.000000\n",
       "25%       297.400000      35.550000     122.000000\n",
       "50%       300.000000      38.100000     213.000000\n",
       "75%       302.600000      40.650000     304.000000\n",
       "max       305.000000      43.200000     395.000000"
      ]
     },
     "execution_count": 37,
     "metadata": {},
     "output_type": "execute_result"
    }
   ],
   "source": [
    "df_grid = generate_eval_data(args)\n",
    "\n",
    "df_grid.describe()"
   ]
  },
  {
   "cell_type": "code",
   "execution_count": 38,
   "id": "c323cb8a-aa45-4471-a0ef-d6c20d221238",
   "metadata": {},
   "outputs": [
    {
     "data": {
      "text/plain": [
       "(array([3.14999995e+02, 5.29998990e+01, 2.45814946e+06]),\n",
       " array([2.85000013e+02, 2.30000210e+01, 2.45772355e+06]))"
      ]
     },
     "execution_count": 38,
     "metadata": {},
     "output_type": "execute_result"
    }
   ],
   "source": [
    "scaler.data_max_, scaler.data_min_"
   ]
  },
  {
   "cell_type": "code",
   "execution_count": 39,
   "id": "d4d296bb-b91d-4993-b0ee-bff91208b6e9",
   "metadata": {},
   "outputs": [
    {
     "name": "stdout",
     "output_type": "stream",
     "text": [
      "['longitude', 'latitude', 'time']\n"
     ]
    },
    {
     "data": {
      "text/html": [
       "<div>\n",
       "<style scoped>\n",
       "    .dataframe tbody tr th:only-of-type {\n",
       "        vertical-align: middle;\n",
       "    }\n",
       "\n",
       "    .dataframe tbody tr th {\n",
       "        vertical-align: top;\n",
       "    }\n",
       "\n",
       "    .dataframe thead th {\n",
       "        text-align: right;\n",
       "    }\n",
       "</style>\n",
       "<table border=\"1\" class=\"dataframe\">\n",
       "  <thead>\n",
       "    <tr style=\"text-align: right;\">\n",
       "      <th></th>\n",
       "      <th>longitude</th>\n",
       "      <th>latitude</th>\n",
       "      <th>time</th>\n",
       "      <th>vtime</th>\n",
       "    </tr>\n",
       "  </thead>\n",
       "  <tbody>\n",
       "    <tr>\n",
       "      <th>count</th>\n",
       "      <td>9.679800e+05</td>\n",
       "      <td>967980.000000</td>\n",
       "      <td>967980.000000</td>\n",
       "      <td>967980.000000</td>\n",
       "    </tr>\n",
       "    <tr>\n",
       "      <th>mean</th>\n",
       "      <td>-2.666668e-07</td>\n",
       "      <td>0.006669</td>\n",
       "      <td>-0.000004</td>\n",
       "      <td>213.000000</td>\n",
       "    </tr>\n",
       "    <tr>\n",
       "      <th>std</th>\n",
       "      <td>1.962616e-01</td>\n",
       "      <td>0.200112</td>\n",
       "      <td>0.494783</td>\n",
       "      <td>105.366083</td>\n",
       "    </tr>\n",
       "    <tr>\n",
       "      <th>min</th>\n",
       "      <td>-3.333338e-01</td>\n",
       "      <td>-0.333332</td>\n",
       "      <td>-0.854648</td>\n",
       "      <td>31.000000</td>\n",
       "    </tr>\n",
       "    <tr>\n",
       "      <th>25%</th>\n",
       "      <td>-1.733337e-01</td>\n",
       "      <td>-0.163331</td>\n",
       "      <td>-0.427326</td>\n",
       "      <td>122.000000</td>\n",
       "    </tr>\n",
       "    <tr>\n",
       "      <th>50%</th>\n",
       "      <td>-2.666668e-07</td>\n",
       "      <td>0.006669</td>\n",
       "      <td>-0.000004</td>\n",
       "      <td>213.000000</td>\n",
       "    </tr>\n",
       "    <tr>\n",
       "      <th>75%</th>\n",
       "      <td>1.733332e-01</td>\n",
       "      <td>0.176670</td>\n",
       "      <td>0.427317</td>\n",
       "      <td>304.000000</td>\n",
       "    </tr>\n",
       "    <tr>\n",
       "      <th>max</th>\n",
       "      <td>3.333333e-01</td>\n",
       "      <td>0.346671</td>\n",
       "      <td>0.854639</td>\n",
       "      <td>395.000000</td>\n",
       "    </tr>\n",
       "  </tbody>\n",
       "</table>\n",
       "</div>"
      ],
      "text/plain": [
       "          longitude       latitude           time          vtime\n",
       "count  9.679800e+05  967980.000000  967980.000000  967980.000000\n",
       "mean  -2.666668e-07       0.006669      -0.000004     213.000000\n",
       "std    1.962616e-01       0.200112       0.494783     105.366083\n",
       "min   -3.333338e-01      -0.333332      -0.854648      31.000000\n",
       "25%   -1.733337e-01      -0.163331      -0.427326     122.000000\n",
       "50%   -2.666668e-07       0.006669      -0.000004     213.000000\n",
       "75%    1.733332e-01       0.176670       0.427317     304.000000\n",
       "max    3.333333e-01       0.346671       0.854639     395.000000"
      ]
     },
     "execution_count": 39,
     "metadata": {},
     "output_type": "execute_result"
    }
   ],
   "source": [
    "df_pred = feature_transform(df_grid.copy(), args, scaler=scaler)\n",
    "df_pred.describe()"
   ]
  },
  {
   "cell_type": "code",
   "execution_count": 40,
   "id": "da60a497-6d7f-44fb-8ddc-200f2350e67b",
   "metadata": {},
   "outputs": [
    {
     "data": {
      "text/html": [
       "<div>\n",
       "<style scoped>\n",
       "    .dataframe tbody tr th:only-of-type {\n",
       "        vertical-align: middle;\n",
       "    }\n",
       "\n",
       "    .dataframe tbody tr th {\n",
       "        vertical-align: top;\n",
       "    }\n",
       "\n",
       "    .dataframe thead th {\n",
       "        text-align: right;\n",
       "    }\n",
       "</style>\n",
       "<table border=\"1\" class=\"dataframe\">\n",
       "  <thead>\n",
       "    <tr style=\"text-align: right;\">\n",
       "      <th></th>\n",
       "      <th>longitude</th>\n",
       "      <th>latitude</th>\n",
       "      <th>time</th>\n",
       "      <th>vtime</th>\n",
       "    </tr>\n",
       "  </thead>\n",
       "  <tbody>\n",
       "    <tr>\n",
       "      <th>count</th>\n",
       "      <td>9.679800e+05</td>\n",
       "      <td>967980.000000</td>\n",
       "      <td>967980.000000</td>\n",
       "      <td>967980.000000</td>\n",
       "    </tr>\n",
       "    <tr>\n",
       "      <th>mean</th>\n",
       "      <td>-2.666668e-07</td>\n",
       "      <td>0.006669</td>\n",
       "      <td>-0.000004</td>\n",
       "      <td>213.000000</td>\n",
       "    </tr>\n",
       "    <tr>\n",
       "      <th>std</th>\n",
       "      <td>1.962616e-01</td>\n",
       "      <td>0.200112</td>\n",
       "      <td>0.494783</td>\n",
       "      <td>105.366083</td>\n",
       "    </tr>\n",
       "    <tr>\n",
       "      <th>min</th>\n",
       "      <td>-3.333338e-01</td>\n",
       "      <td>-0.333332</td>\n",
       "      <td>-0.854648</td>\n",
       "      <td>31.000000</td>\n",
       "    </tr>\n",
       "    <tr>\n",
       "      <th>25%</th>\n",
       "      <td>-1.733337e-01</td>\n",
       "      <td>-0.163331</td>\n",
       "      <td>-0.427326</td>\n",
       "      <td>122.000000</td>\n",
       "    </tr>\n",
       "    <tr>\n",
       "      <th>50%</th>\n",
       "      <td>-2.666668e-07</td>\n",
       "      <td>0.006669</td>\n",
       "      <td>-0.000004</td>\n",
       "      <td>213.000000</td>\n",
       "    </tr>\n",
       "    <tr>\n",
       "      <th>75%</th>\n",
       "      <td>1.733332e-01</td>\n",
       "      <td>0.176670</td>\n",
       "      <td>0.427317</td>\n",
       "      <td>304.000000</td>\n",
       "    </tr>\n",
       "    <tr>\n",
       "      <th>max</th>\n",
       "      <td>3.333333e-01</td>\n",
       "      <td>0.346671</td>\n",
       "      <td>0.854639</td>\n",
       "      <td>395.000000</td>\n",
       "    </tr>\n",
       "  </tbody>\n",
       "</table>\n",
       "</div>"
      ],
      "text/plain": [
       "          longitude       latitude           time          vtime\n",
       "count  9.679800e+05  967980.000000  967980.000000  967980.000000\n",
       "mean  -2.666668e-07       0.006669      -0.000004     213.000000\n",
       "std    1.962616e-01       0.200112       0.494783     105.366083\n",
       "min   -3.333338e-01      -0.333332      -0.854648      31.000000\n",
       "25%   -1.733337e-01      -0.163331      -0.427326     122.000000\n",
       "50%   -2.666668e-07       0.006669      -0.000004     213.000000\n",
       "75%    1.733332e-01       0.176670       0.427317     304.000000\n",
       "max    3.333333e-01       0.346671       0.854639     395.000000"
      ]
     },
     "execution_count": 40,
     "metadata": {},
     "output_type": "execute_result"
    }
   ],
   "source": [
    "df_pred.describe()"
   ]
  },
  {
   "cell_type": "code",
   "execution_count": 41,
   "id": "8eb60b56-b570-42dd-82f7-77d92d2fe3a0",
   "metadata": {},
   "outputs": [],
   "source": [
    "df_pred = df_pred[df_pred.attrs[\"input_cols\"]].values"
   ]
  },
  {
   "cell_type": "code",
   "execution_count": 42,
   "id": "f4b760ae-310e-4d5f-996d-1ce8570f6f80",
   "metadata": {},
   "outputs": [],
   "source": [
    "# initialize dataset\n",
    "ds_test = PointsDataset(torch.Tensor(df_pred), torch.Tensor(df_pred))\n",
    "# initialize dataloader\n",
    "dl_test = DataLoader(\n",
    "    ds_test, \n",
    "    batch_size=args.eval_batch_size, \n",
    "    shuffle=False, \n",
    "    pin_memory=True\n",
    ")"
   ]
  },
  {
   "cell_type": "code",
   "execution_count": 43,
   "id": "b88fd4cb-35ae-468b-9292-812f215fecbf",
   "metadata": {},
   "outputs": [
    {
     "name": "stderr",
     "output_type": "stream",
     "text": [
      "/home/johnsonj/miniconda3/envs/jaxtftorch_cpu_py39/lib/python3.9/site-packages/pytorch_lightning/trainer/connectors/data_connector.py:240: PossibleUserWarning: The dataloader, predict_dataloader 0, does not have many workers which may be a bottleneck. Consider increasing the value of the `num_workers` argument` (try 10 which is the number of cpus on this machine) in the `DataLoader` init to improve performance.\n",
      "  rank_zero_warn(\n"
     ]
    },
    {
     "data": {
      "application/vnd.jupyter.widget-view+json": {
       "model_id": "aad05b2afc344cedba2005291e4a6415",
       "version_major": 2,
       "version_minor": 0
      },
      "text/plain": [
       "Predicting: 0it [00:00, ?it/s]"
      ]
     },
     "metadata": {},
     "output_type": "display_data"
    },
    {
     "name": "stdout",
     "output_type": "stream",
     "text": [
      "CPU times: user 1min 26s, sys: 6.61 s, total: 1min 33s\n",
      "Wall time: 26.5 s\n"
     ]
    }
   ],
   "source": [
    "%%time\n",
    "\n",
    "predictions = trainer.predict(learn, dataloaders=dl_test, return_predictions=True)\n"
   ]
  },
  {
   "cell_type": "code",
   "execution_count": 44,
   "id": "321c54ec-360c-4b99-849f-a79d89e94159",
   "metadata": {},
   "outputs": [],
   "source": [
    "predictions = torch.cat(predictions)"
   ]
  },
  {
   "cell_type": "code",
   "execution_count": 45,
   "id": "c010e7a5-a111-4838-8240-0fee416cbcc2",
   "metadata": {},
   "outputs": [],
   "source": [
    "df_grid[\"pred\"] = predictions.numpy()"
   ]
  },
  {
   "cell_type": "code",
   "execution_count": 46,
   "id": "665740c1-03cb-49ea-8ce1-22db16a85b84",
   "metadata": {},
   "outputs": [],
   "source": [
    "wandb_logger.log_hyperparams(\n",
    "    {\n",
    "        \"n_test\": df_pred.shape[0],\n",
    "    }\n",
    ")"
   ]
  },
  {
   "cell_type": "code",
   "execution_count": 47,
   "id": "11412828-7bd7-4c9c-aaf9-3b638d638313",
   "metadata": {},
   "outputs": [
    {
     "name": "stderr",
     "output_type": "stream",
     "text": [
      "/home/johnsonj/miniconda3/envs/jaxtftorch_cpu_py39/lib/python3.9/site-packages/xarray/core/missing.py:562: FutureWarning: Passing method to Float64Index.get_loc is deprecated and will raise in a future version. Use index.get_indexer([item], method=...) instead.\n",
      "  imin = index.get_loc(minval, method=\"nearest\")\n",
      "/home/johnsonj/miniconda3/envs/jaxtftorch_cpu_py39/lib/python3.9/site-packages/xarray/core/missing.py:563: FutureWarning: Passing method to Float64Index.get_loc is deprecated and will raise in a future version. Use index.get_indexer([item], method=...) instead.\n",
      "  imax = index.get_loc(maxval, method=\"nearest\")\n",
      "/home/johnsonj/miniconda3/envs/jaxtftorch_cpu_py39/lib/python3.9/site-packages/xarray/core/missing.py:562: FutureWarning: Passing method to Float64Index.get_loc is deprecated and will raise in a future version. Use index.get_indexer([item], method=...) instead.\n",
      "  imin = index.get_loc(minval, method=\"nearest\")\n",
      "/home/johnsonj/miniconda3/envs/jaxtftorch_cpu_py39/lib/python3.9/site-packages/xarray/core/missing.py:563: FutureWarning: Passing method to Float64Index.get_loc is deprecated and will raise in a future version. Use index.get_indexer([item], method=...) instead.\n",
      "  imax = index.get_loc(maxval, method=\"nearest\")\n"
     ]
    }
   ],
   "source": [
    "ds_oi = postprocess_data(df_grid, args)"
   ]
  },
  {
   "cell_type": "code",
   "execution_count": 48,
   "id": "974dab93-a32b-4fa7-82f8-dc6fcffbc68a",
   "metadata": {},
   "outputs": [
    {
     "data": {
      "text/html": [
       "<div><svg style=\"position: absolute; width: 0; height: 0; overflow: hidden\">\n",
       "<defs>\n",
       "<symbol id=\"icon-database\" viewBox=\"0 0 32 32\">\n",
       "<path d=\"M16 0c-8.837 0-16 2.239-16 5v4c0 2.761 7.163 5 16 5s16-2.239 16-5v-4c0-2.761-7.163-5-16-5z\"></path>\n",
       "<path d=\"M16 17c-8.837 0-16-2.239-16-5v6c0 2.761 7.163 5 16 5s16-2.239 16-5v-6c0 2.761-7.163 5-16 5z\"></path>\n",
       "<path d=\"M16 26c-8.837 0-16-2.239-16-5v6c0 2.761 7.163 5 16 5s16-2.239 16-5v-6c0 2.761-7.163 5-16 5z\"></path>\n",
       "</symbol>\n",
       "<symbol id=\"icon-file-text2\" viewBox=\"0 0 32 32\">\n",
       "<path d=\"M28.681 7.159c-0.694-0.947-1.662-2.053-2.724-3.116s-2.169-2.030-3.116-2.724c-1.612-1.182-2.393-1.319-2.841-1.319h-15.5c-1.378 0-2.5 1.121-2.5 2.5v27c0 1.378 1.122 2.5 2.5 2.5h23c1.378 0 2.5-1.122 2.5-2.5v-19.5c0-0.448-0.137-1.23-1.319-2.841zM24.543 5.457c0.959 0.959 1.712 1.825 2.268 2.543h-4.811v-4.811c0.718 0.556 1.584 1.309 2.543 2.268zM28 29.5c0 0.271-0.229 0.5-0.5 0.5h-23c-0.271 0-0.5-0.229-0.5-0.5v-27c0-0.271 0.229-0.5 0.5-0.5 0 0 15.499-0 15.5 0v7c0 0.552 0.448 1 1 1h7v19.5z\"></path>\n",
       "<path d=\"M23 26h-14c-0.552 0-1-0.448-1-1s0.448-1 1-1h14c0.552 0 1 0.448 1 1s-0.448 1-1 1z\"></path>\n",
       "<path d=\"M23 22h-14c-0.552 0-1-0.448-1-1s0.448-1 1-1h14c0.552 0 1 0.448 1 1s-0.448 1-1 1z\"></path>\n",
       "<path d=\"M23 18h-14c-0.552 0-1-0.448-1-1s0.448-1 1-1h14c0.552 0 1 0.448 1 1s-0.448 1-1 1z\"></path>\n",
       "</symbol>\n",
       "</defs>\n",
       "</svg>\n",
       "<style>/* CSS stylesheet for displaying xarray objects in jupyterlab.\n",
       " *\n",
       " */\n",
       "\n",
       ":root {\n",
       "  --xr-font-color0: var(--jp-content-font-color0, rgba(0, 0, 0, 1));\n",
       "  --xr-font-color2: var(--jp-content-font-color2, rgba(0, 0, 0, 0.54));\n",
       "  --xr-font-color3: var(--jp-content-font-color3, rgba(0, 0, 0, 0.38));\n",
       "  --xr-border-color: var(--jp-border-color2, #e0e0e0);\n",
       "  --xr-disabled-color: var(--jp-layout-color3, #bdbdbd);\n",
       "  --xr-background-color: var(--jp-layout-color0, white);\n",
       "  --xr-background-color-row-even: var(--jp-layout-color1, white);\n",
       "  --xr-background-color-row-odd: var(--jp-layout-color2, #eeeeee);\n",
       "}\n",
       "\n",
       "html[theme=dark],\n",
       "body.vscode-dark {\n",
       "  --xr-font-color0: rgba(255, 255, 255, 1);\n",
       "  --xr-font-color2: rgba(255, 255, 255, 0.54);\n",
       "  --xr-font-color3: rgba(255, 255, 255, 0.38);\n",
       "  --xr-border-color: #1F1F1F;\n",
       "  --xr-disabled-color: #515151;\n",
       "  --xr-background-color: #111111;\n",
       "  --xr-background-color-row-even: #111111;\n",
       "  --xr-background-color-row-odd: #313131;\n",
       "}\n",
       "\n",
       ".xr-wrap {\n",
       "  display: block;\n",
       "  min-width: 300px;\n",
       "  max-width: 700px;\n",
       "}\n",
       "\n",
       ".xr-text-repr-fallback {\n",
       "  /* fallback to plain text repr when CSS is not injected (untrusted notebook) */\n",
       "  display: none;\n",
       "}\n",
       "\n",
       ".xr-header {\n",
       "  padding-top: 6px;\n",
       "  padding-bottom: 6px;\n",
       "  margin-bottom: 4px;\n",
       "  border-bottom: solid 1px var(--xr-border-color);\n",
       "}\n",
       "\n",
       ".xr-header > div,\n",
       ".xr-header > ul {\n",
       "  display: inline;\n",
       "  margin-top: 0;\n",
       "  margin-bottom: 0;\n",
       "}\n",
       "\n",
       ".xr-obj-type,\n",
       ".xr-array-name {\n",
       "  margin-left: 2px;\n",
       "  margin-right: 10px;\n",
       "}\n",
       "\n",
       ".xr-obj-type {\n",
       "  color: var(--xr-font-color2);\n",
       "}\n",
       "\n",
       ".xr-sections {\n",
       "  padding-left: 0 !important;\n",
       "  display: grid;\n",
       "  grid-template-columns: 150px auto auto 1fr 20px 20px;\n",
       "}\n",
       "\n",
       ".xr-section-item {\n",
       "  display: contents;\n",
       "}\n",
       "\n",
       ".xr-section-item input {\n",
       "  display: none;\n",
       "}\n",
       "\n",
       ".xr-section-item input + label {\n",
       "  color: var(--xr-disabled-color);\n",
       "}\n",
       "\n",
       ".xr-section-item input:enabled + label {\n",
       "  cursor: pointer;\n",
       "  color: var(--xr-font-color2);\n",
       "}\n",
       "\n",
       ".xr-section-item input:enabled + label:hover {\n",
       "  color: var(--xr-font-color0);\n",
       "}\n",
       "\n",
       ".xr-section-summary {\n",
       "  grid-column: 1;\n",
       "  color: var(--xr-font-color2);\n",
       "  font-weight: 500;\n",
       "}\n",
       "\n",
       ".xr-section-summary > span {\n",
       "  display: inline-block;\n",
       "  padding-left: 0.5em;\n",
       "}\n",
       "\n",
       ".xr-section-summary-in:disabled + label {\n",
       "  color: var(--xr-font-color2);\n",
       "}\n",
       "\n",
       ".xr-section-summary-in + label:before {\n",
       "  display: inline-block;\n",
       "  content: '►';\n",
       "  font-size: 11px;\n",
       "  width: 15px;\n",
       "  text-align: center;\n",
       "}\n",
       "\n",
       ".xr-section-summary-in:disabled + label:before {\n",
       "  color: var(--xr-disabled-color);\n",
       "}\n",
       "\n",
       ".xr-section-summary-in:checked + label:before {\n",
       "  content: '▼';\n",
       "}\n",
       "\n",
       ".xr-section-summary-in:checked + label > span {\n",
       "  display: none;\n",
       "}\n",
       "\n",
       ".xr-section-summary,\n",
       ".xr-section-inline-details {\n",
       "  padding-top: 4px;\n",
       "  padding-bottom: 4px;\n",
       "}\n",
       "\n",
       ".xr-section-inline-details {\n",
       "  grid-column: 2 / -1;\n",
       "}\n",
       "\n",
       ".xr-section-details {\n",
       "  display: none;\n",
       "  grid-column: 1 / -1;\n",
       "  margin-bottom: 5px;\n",
       "}\n",
       "\n",
       ".xr-section-summary-in:checked ~ .xr-section-details {\n",
       "  display: contents;\n",
       "}\n",
       "\n",
       ".xr-array-wrap {\n",
       "  grid-column: 1 / -1;\n",
       "  display: grid;\n",
       "  grid-template-columns: 20px auto;\n",
       "}\n",
       "\n",
       ".xr-array-wrap > label {\n",
       "  grid-column: 1;\n",
       "  vertical-align: top;\n",
       "}\n",
       "\n",
       ".xr-preview {\n",
       "  color: var(--xr-font-color3);\n",
       "}\n",
       "\n",
       ".xr-array-preview,\n",
       ".xr-array-data {\n",
       "  padding: 0 5px !important;\n",
       "  grid-column: 2;\n",
       "}\n",
       "\n",
       ".xr-array-data,\n",
       ".xr-array-in:checked ~ .xr-array-preview {\n",
       "  display: none;\n",
       "}\n",
       "\n",
       ".xr-array-in:checked ~ .xr-array-data,\n",
       ".xr-array-preview {\n",
       "  display: inline-block;\n",
       "}\n",
       "\n",
       ".xr-dim-list {\n",
       "  display: inline-block !important;\n",
       "  list-style: none;\n",
       "  padding: 0 !important;\n",
       "  margin: 0;\n",
       "}\n",
       "\n",
       ".xr-dim-list li {\n",
       "  display: inline-block;\n",
       "  padding: 0;\n",
       "  margin: 0;\n",
       "}\n",
       "\n",
       ".xr-dim-list:before {\n",
       "  content: '(';\n",
       "}\n",
       "\n",
       ".xr-dim-list:after {\n",
       "  content: ')';\n",
       "}\n",
       "\n",
       ".xr-dim-list li:not(:last-child):after {\n",
       "  content: ',';\n",
       "  padding-right: 5px;\n",
       "}\n",
       "\n",
       ".xr-has-index {\n",
       "  font-weight: bold;\n",
       "}\n",
       "\n",
       ".xr-var-list,\n",
       ".xr-var-item {\n",
       "  display: contents;\n",
       "}\n",
       "\n",
       ".xr-var-item > div,\n",
       ".xr-var-item label,\n",
       ".xr-var-item > .xr-var-name span {\n",
       "  background-color: var(--xr-background-color-row-even);\n",
       "  margin-bottom: 0;\n",
       "}\n",
       "\n",
       ".xr-var-item > .xr-var-name:hover span {\n",
       "  padding-right: 5px;\n",
       "}\n",
       "\n",
       ".xr-var-list > li:nth-child(odd) > div,\n",
       ".xr-var-list > li:nth-child(odd) > label,\n",
       ".xr-var-list > li:nth-child(odd) > .xr-var-name span {\n",
       "  background-color: var(--xr-background-color-row-odd);\n",
       "}\n",
       "\n",
       ".xr-var-name {\n",
       "  grid-column: 1;\n",
       "}\n",
       "\n",
       ".xr-var-dims {\n",
       "  grid-column: 2;\n",
       "}\n",
       "\n",
       ".xr-var-dtype {\n",
       "  grid-column: 3;\n",
       "  text-align: right;\n",
       "  color: var(--xr-font-color2);\n",
       "}\n",
       "\n",
       ".xr-var-preview {\n",
       "  grid-column: 4;\n",
       "}\n",
       "\n",
       ".xr-var-name,\n",
       ".xr-var-dims,\n",
       ".xr-var-dtype,\n",
       ".xr-preview,\n",
       ".xr-attrs dt {\n",
       "  white-space: nowrap;\n",
       "  overflow: hidden;\n",
       "  text-overflow: ellipsis;\n",
       "  padding-right: 10px;\n",
       "}\n",
       "\n",
       ".xr-var-name:hover,\n",
       ".xr-var-dims:hover,\n",
       ".xr-var-dtype:hover,\n",
       ".xr-attrs dt:hover {\n",
       "  overflow: visible;\n",
       "  width: auto;\n",
       "  z-index: 1;\n",
       "}\n",
       "\n",
       ".xr-var-attrs,\n",
       ".xr-var-data {\n",
       "  display: none;\n",
       "  background-color: var(--xr-background-color) !important;\n",
       "  padding-bottom: 5px !important;\n",
       "}\n",
       "\n",
       ".xr-var-attrs-in:checked ~ .xr-var-attrs,\n",
       ".xr-var-data-in:checked ~ .xr-var-data {\n",
       "  display: block;\n",
       "}\n",
       "\n",
       ".xr-var-data > table {\n",
       "  float: right;\n",
       "}\n",
       "\n",
       ".xr-var-name span,\n",
       ".xr-var-data,\n",
       ".xr-attrs {\n",
       "  padding-left: 25px !important;\n",
       "}\n",
       "\n",
       ".xr-attrs,\n",
       ".xr-var-attrs,\n",
       ".xr-var-data {\n",
       "  grid-column: 1 / -1;\n",
       "}\n",
       "\n",
       "dl.xr-attrs {\n",
       "  padding: 0;\n",
       "  margin: 0;\n",
       "  display: grid;\n",
       "  grid-template-columns: 125px auto;\n",
       "}\n",
       "\n",
       ".xr-attrs dt,\n",
       ".xr-attrs dd {\n",
       "  padding: 0;\n",
       "  margin: 0;\n",
       "  float: left;\n",
       "  padding-right: 10px;\n",
       "  width: auto;\n",
       "}\n",
       "\n",
       ".xr-attrs dt {\n",
       "  font-weight: normal;\n",
       "  grid-column: 1;\n",
       "}\n",
       "\n",
       ".xr-attrs dt:hover span {\n",
       "  display: inline-block;\n",
       "  background: var(--xr-background-color);\n",
       "  padding-right: 10px;\n",
       "}\n",
       "\n",
       ".xr-attrs dd {\n",
       "  grid-column: 2;\n",
       "  white-space: pre-wrap;\n",
       "  word-break: break-all;\n",
       "}\n",
       "\n",
       ".xr-icon-database,\n",
       ".xr-icon-file-text2 {\n",
       "  display: inline-block;\n",
       "  vertical-align: middle;\n",
       "  width: 1em;\n",
       "  height: 1.5em !important;\n",
       "  stroke-width: 0;\n",
       "  stroke: currentColor;\n",
       "  fill: currentColor;\n",
       "}\n",
       "</style><pre class='xr-text-repr-fallback'>&lt;xarray.Dataset&gt;\n",
       "Dimensions:    (latitude: 52, longitude: 51, time: 365)\n",
       "Coordinates:\n",
       "  * latitude   (latitude) float64 33.0 33.2 33.4 33.6 ... 42.6 42.8 43.0 43.2\n",
       "  * longitude  (longitude) float64 295.0 295.2 295.4 295.6 ... 304.6 304.8 305.0\n",
       "  * time       (time) datetime64[ns] 2017-01-01 2017-01-02 ... 2017-12-31\n",
       "Data variables:\n",
       "    index      (latitude, longitude, time) int64 0 1 2 ... 967977 967978 967979\n",
       "    vtime      (latitude, longitude, time) float64 31.0 32.0 ... 394.0 395.0\n",
       "    pred       (latitude, longitude, time) float32 0.2606 0.2446 ... 0.2035\n",
       "    ssh        (latitude, longitude, time) float64 0.8603 0.8443 ... 0.02714</pre><div class='xr-wrap' hidden><div class='xr-header'><div class='xr-obj-type'>xarray.Dataset</div></div><ul class='xr-sections'><li class='xr-section-item'><input id='section-69d0de51-47a1-4135-a967-36d11f5a68ca' class='xr-section-summary-in' type='checkbox' disabled ><label for='section-69d0de51-47a1-4135-a967-36d11f5a68ca' class='xr-section-summary'  title='Expand/collapse section'>Dimensions:</label><div class='xr-section-inline-details'><ul class='xr-dim-list'><li><span class='xr-has-index'>latitude</span>: 52</li><li><span class='xr-has-index'>longitude</span>: 51</li><li><span class='xr-has-index'>time</span>: 365</li></ul></div><div class='xr-section-details'></div></li><li class='xr-section-item'><input id='section-33a462a1-78b9-43cf-a6a6-4cccc4d3528b' class='xr-section-summary-in' type='checkbox'  checked><label for='section-33a462a1-78b9-43cf-a6a6-4cccc4d3528b' class='xr-section-summary' >Coordinates: <span>(3)</span></label><div class='xr-section-inline-details'></div><div class='xr-section-details'><ul class='xr-var-list'><li class='xr-var-item'><div class='xr-var-name'><span class='xr-has-index'>latitude</span></div><div class='xr-var-dims'>(latitude)</div><div class='xr-var-dtype'>float64</div><div class='xr-var-preview xr-preview'>33.0 33.2 33.4 ... 42.8 43.0 43.2</div><input id='attrs-38f1e1be-3141-48c9-9c2c-93a8ed090a92' class='xr-var-attrs-in' type='checkbox' disabled><label for='attrs-38f1e1be-3141-48c9-9c2c-93a8ed090a92' title='Show/Hide attributes'><svg class='icon xr-icon-file-text2'><use xlink:href='#icon-file-text2'></use></svg></label><input id='data-2a1b7512-de53-46e7-8aa9-071e35fb4b1b' class='xr-var-data-in' type='checkbox'><label for='data-2a1b7512-de53-46e7-8aa9-071e35fb4b1b' title='Show/Hide data repr'><svg class='icon xr-icon-database'><use xlink:href='#icon-database'></use></svg></label><div class='xr-var-attrs'><dl class='xr-attrs'></dl></div><div class='xr-var-data'><pre>array([33. , 33.2, 33.4, 33.6, 33.8, 34. , 34.2, 34.4, 34.6, 34.8, 35. , 35.2,\n",
       "       35.4, 35.6, 35.8, 36. , 36.2, 36.4, 36.6, 36.8, 37. , 37.2, 37.4, 37.6,\n",
       "       37.8, 38. , 38.2, 38.4, 38.6, 38.8, 39. , 39.2, 39.4, 39.6, 39.8, 40. ,\n",
       "       40.2, 40.4, 40.6, 40.8, 41. , 41.2, 41.4, 41.6, 41.8, 42. , 42.2, 42.4,\n",
       "       42.6, 42.8, 43. , 43.2])</pre></div></li><li class='xr-var-item'><div class='xr-var-name'><span class='xr-has-index'>longitude</span></div><div class='xr-var-dims'>(longitude)</div><div class='xr-var-dtype'>float64</div><div class='xr-var-preview xr-preview'>295.0 295.2 295.4 ... 304.8 305.0</div><input id='attrs-9559d055-53a0-4144-a865-8eb2c4268dd4' class='xr-var-attrs-in' type='checkbox' disabled><label for='attrs-9559d055-53a0-4144-a865-8eb2c4268dd4' title='Show/Hide attributes'><svg class='icon xr-icon-file-text2'><use xlink:href='#icon-file-text2'></use></svg></label><input id='data-303e6f6b-f3dc-429e-b122-8acf771194ea' class='xr-var-data-in' type='checkbox'><label for='data-303e6f6b-f3dc-429e-b122-8acf771194ea' title='Show/Hide data repr'><svg class='icon xr-icon-database'><use xlink:href='#icon-database'></use></svg></label><div class='xr-var-attrs'><dl class='xr-attrs'></dl></div><div class='xr-var-data'><pre>array([295. , 295.2, 295.4, 295.6, 295.8, 296. , 296.2, 296.4, 296.6, 296.8,\n",
       "       297. , 297.2, 297.4, 297.6, 297.8, 298. , 298.2, 298.4, 298.6, 298.8,\n",
       "       299. , 299.2, 299.4, 299.6, 299.8, 300. , 300.2, 300.4, 300.6, 300.8,\n",
       "       301. , 301.2, 301.4, 301.6, 301.8, 302. , 302.2, 302.4, 302.6, 302.8,\n",
       "       303. , 303.2, 303.4, 303.6, 303.8, 304. , 304.2, 304.4, 304.6, 304.8,\n",
       "       305. ])</pre></div></li><li class='xr-var-item'><div class='xr-var-name'><span class='xr-has-index'>time</span></div><div class='xr-var-dims'>(time)</div><div class='xr-var-dtype'>datetime64[ns]</div><div class='xr-var-preview xr-preview'>2017-01-01 ... 2017-12-31</div><input id='attrs-9b3be23c-5b07-48d6-a387-14c0f80fa01f' class='xr-var-attrs-in' type='checkbox' disabled><label for='attrs-9b3be23c-5b07-48d6-a387-14c0f80fa01f' title='Show/Hide attributes'><svg class='icon xr-icon-file-text2'><use xlink:href='#icon-file-text2'></use></svg></label><input id='data-f3a63bbb-d9ec-4797-83f5-aa5910ae92bd' class='xr-var-data-in' type='checkbox'><label for='data-f3a63bbb-d9ec-4797-83f5-aa5910ae92bd' title='Show/Hide data repr'><svg class='icon xr-icon-database'><use xlink:href='#icon-database'></use></svg></label><div class='xr-var-attrs'><dl class='xr-attrs'></dl></div><div class='xr-var-data'><pre>array([&#x27;2017-01-01T00:00:00.000000000&#x27;, &#x27;2017-01-02T00:00:00.000000000&#x27;,\n",
       "       &#x27;2017-01-03T00:00:00.000000000&#x27;, ..., &#x27;2017-12-29T00:00:00.000000000&#x27;,\n",
       "       &#x27;2017-12-30T00:00:00.000000000&#x27;, &#x27;2017-12-31T00:00:00.000000000&#x27;],\n",
       "      dtype=&#x27;datetime64[ns]&#x27;)</pre></div></li></ul></div></li><li class='xr-section-item'><input id='section-77826915-7670-4096-969f-cfa73d6730dd' class='xr-section-summary-in' type='checkbox'  checked><label for='section-77826915-7670-4096-969f-cfa73d6730dd' class='xr-section-summary' >Data variables: <span>(4)</span></label><div class='xr-section-inline-details'></div><div class='xr-section-details'><ul class='xr-var-list'><li class='xr-var-item'><div class='xr-var-name'><span>index</span></div><div class='xr-var-dims'>(latitude, longitude, time)</div><div class='xr-var-dtype'>int64</div><div class='xr-var-preview xr-preview'>0 1 2 3 ... 967977 967978 967979</div><input id='attrs-c92293ff-1a08-49fa-b631-9c86978c2c7f' class='xr-var-attrs-in' type='checkbox' disabled><label for='attrs-c92293ff-1a08-49fa-b631-9c86978c2c7f' title='Show/Hide attributes'><svg class='icon xr-icon-file-text2'><use xlink:href='#icon-file-text2'></use></svg></label><input id='data-223c97e3-9fcc-4456-b69e-0b65ca88cdda' class='xr-var-data-in' type='checkbox'><label for='data-223c97e3-9fcc-4456-b69e-0b65ca88cdda' title='Show/Hide data repr'><svg class='icon xr-icon-database'><use xlink:href='#icon-database'></use></svg></label><div class='xr-var-attrs'><dl class='xr-attrs'></dl></div><div class='xr-var-data'><pre>array([[[     0,      1,      2, ...,    362,    363,    364],\n",
       "        [   365,    366,    367, ...,    727,    728,    729],\n",
       "        [   730,    731,    732, ...,   1092,   1093,   1094],\n",
       "        ...,\n",
       "        [ 17520,  17521,  17522, ...,  17882,  17883,  17884],\n",
       "        [ 17885,  17886,  17887, ...,  18247,  18248,  18249],\n",
       "        [ 18250,  18251,  18252, ...,  18612,  18613,  18614]],\n",
       "\n",
       "       [[ 18615,  18616,  18617, ...,  18977,  18978,  18979],\n",
       "        [ 18980,  18981,  18982, ...,  19342,  19343,  19344],\n",
       "        [ 19345,  19346,  19347, ...,  19707,  19708,  19709],\n",
       "        ...,\n",
       "        [ 36135,  36136,  36137, ...,  36497,  36498,  36499],\n",
       "        [ 36500,  36501,  36502, ...,  36862,  36863,  36864],\n",
       "        [ 36865,  36866,  36867, ...,  37227,  37228,  37229]],\n",
       "\n",
       "       [[ 37230,  37231,  37232, ...,  37592,  37593,  37594],\n",
       "        [ 37595,  37596,  37597, ...,  37957,  37958,  37959],\n",
       "        [ 37960,  37961,  37962, ...,  38322,  38323,  38324],\n",
       "        ...,\n",
       "...\n",
       "        ...,\n",
       "        [929655, 929656, 929657, ..., 930017, 930018, 930019],\n",
       "        [930020, 930021, 930022, ..., 930382, 930383, 930384],\n",
       "        [930385, 930386, 930387, ..., 930747, 930748, 930749]],\n",
       "\n",
       "       [[930750, 930751, 930752, ..., 931112, 931113, 931114],\n",
       "        [931115, 931116, 931117, ..., 931477, 931478, 931479],\n",
       "        [931480, 931481, 931482, ..., 931842, 931843, 931844],\n",
       "        ...,\n",
       "        [948270, 948271, 948272, ..., 948632, 948633, 948634],\n",
       "        [948635, 948636, 948637, ..., 948997, 948998, 948999],\n",
       "        [949000, 949001, 949002, ..., 949362, 949363, 949364]],\n",
       "\n",
       "       [[949365, 949366, 949367, ..., 949727, 949728, 949729],\n",
       "        [949730, 949731, 949732, ..., 950092, 950093, 950094],\n",
       "        [950095, 950096, 950097, ..., 950457, 950458, 950459],\n",
       "        ...,\n",
       "        [966885, 966886, 966887, ..., 967247, 967248, 967249],\n",
       "        [967250, 967251, 967252, ..., 967612, 967613, 967614],\n",
       "        [967615, 967616, 967617, ..., 967977, 967978, 967979]]])</pre></div></li><li class='xr-var-item'><div class='xr-var-name'><span>vtime</span></div><div class='xr-var-dims'>(latitude, longitude, time)</div><div class='xr-var-dtype'>float64</div><div class='xr-var-preview xr-preview'>31.0 32.0 33.0 ... 394.0 395.0</div><input id='attrs-b8c7c695-1447-4cb5-a7dc-0a1635d51608' class='xr-var-attrs-in' type='checkbox' disabled><label for='attrs-b8c7c695-1447-4cb5-a7dc-0a1635d51608' title='Show/Hide attributes'><svg class='icon xr-icon-file-text2'><use xlink:href='#icon-file-text2'></use></svg></label><input id='data-a9a3c2ca-3d9e-4c2b-8a43-196c87771d8a' class='xr-var-data-in' type='checkbox'><label for='data-a9a3c2ca-3d9e-4c2b-8a43-196c87771d8a' title='Show/Hide data repr'><svg class='icon xr-icon-database'><use xlink:href='#icon-database'></use></svg></label><div class='xr-var-attrs'><dl class='xr-attrs'></dl></div><div class='xr-var-data'><pre>array([[[ 31.,  32.,  33., ..., 393., 394., 395.],\n",
       "        [ 31.,  32.,  33., ..., 393., 394., 395.],\n",
       "        [ 31.,  32.,  33., ..., 393., 394., 395.],\n",
       "        ...,\n",
       "        [ 31.,  32.,  33., ..., 393., 394., 395.],\n",
       "        [ 31.,  32.,  33., ..., 393., 394., 395.],\n",
       "        [ 31.,  32.,  33., ..., 393., 394., 395.]],\n",
       "\n",
       "       [[ 31.,  32.,  33., ..., 393., 394., 395.],\n",
       "        [ 31.,  32.,  33., ..., 393., 394., 395.],\n",
       "        [ 31.,  32.,  33., ..., 393., 394., 395.],\n",
       "        ...,\n",
       "        [ 31.,  32.,  33., ..., 393., 394., 395.],\n",
       "        [ 31.,  32.,  33., ..., 393., 394., 395.],\n",
       "        [ 31.,  32.,  33., ..., 393., 394., 395.]],\n",
       "\n",
       "       [[ 31.,  32.,  33., ..., 393., 394., 395.],\n",
       "        [ 31.,  32.,  33., ..., 393., 394., 395.],\n",
       "        [ 31.,  32.,  33., ..., 393., 394., 395.],\n",
       "        ...,\n",
       "...\n",
       "        ...,\n",
       "        [ 31.,  32.,  33., ..., 393., 394., 395.],\n",
       "        [ 31.,  32.,  33., ..., 393., 394., 395.],\n",
       "        [ 31.,  32.,  33., ..., 393., 394., 395.]],\n",
       "\n",
       "       [[ 31.,  32.,  33., ..., 393., 394., 395.],\n",
       "        [ 31.,  32.,  33., ..., 393., 394., 395.],\n",
       "        [ 31.,  32.,  33., ..., 393., 394., 395.],\n",
       "        ...,\n",
       "        [ 31.,  32.,  33., ..., 393., 394., 395.],\n",
       "        [ 31.,  32.,  33., ..., 393., 394., 395.],\n",
       "        [ 31.,  32.,  33., ..., 393., 394., 395.]],\n",
       "\n",
       "       [[ 31.,  32.,  33., ..., 393., 394., 395.],\n",
       "        [ 31.,  32.,  33., ..., 393., 394., 395.],\n",
       "        [ 31.,  32.,  33., ..., 393., 394., 395.],\n",
       "        ...,\n",
       "        [ 31.,  32.,  33., ..., 393., 394., 395.],\n",
       "        [ 31.,  32.,  33., ..., 393., 394., 395.],\n",
       "        [ 31.,  32.,  33., ..., 393., 394., 395.]]])</pre></div></li><li class='xr-var-item'><div class='xr-var-name'><span>pred</span></div><div class='xr-var-dims'>(latitude, longitude, time)</div><div class='xr-var-dtype'>float32</div><div class='xr-var-preview xr-preview'>0.2606 0.2446 ... 0.1871 0.2035</div><input id='attrs-923b060b-ba13-4c49-a5fc-3eb95d584a7a' class='xr-var-attrs-in' type='checkbox' disabled><label for='attrs-923b060b-ba13-4c49-a5fc-3eb95d584a7a' title='Show/Hide attributes'><svg class='icon xr-icon-file-text2'><use xlink:href='#icon-file-text2'></use></svg></label><input id='data-627bebeb-ea8a-46ed-8fc8-7fe534467447' class='xr-var-data-in' type='checkbox'><label for='data-627bebeb-ea8a-46ed-8fc8-7fe534467447' title='Show/Hide data repr'><svg class='icon xr-icon-database'><use xlink:href='#icon-database'></use></svg></label><div class='xr-var-attrs'><dl class='xr-attrs'></dl></div><div class='xr-var-data'><pre>array([[[ 0.26064837,  0.2446486 ,  0.22250089, ..., -0.02300497,\n",
       "         -0.04139771, -0.06277302],\n",
       "        [ 0.23141547,  0.2192192 ,  0.21035963, ..., -0.08904552,\n",
       "         -0.12016419, -0.1495602 ],\n",
       "        [ 0.2038766 ,  0.18874148,  0.17704342, ..., -0.1460682 ,\n",
       "         -0.17403473, -0.19325452],\n",
       "        ...,\n",
       "        [ 0.0650651 ,  0.04945455,  0.02970823, ...,  0.19992594,\n",
       "          0.19115748,  0.18303914],\n",
       "        [ 0.04202778,  0.0264684 ,  0.01621681, ...,  0.18635757,\n",
       "          0.17336126,  0.16175446],\n",
       "        [ 0.03162153,  0.03382422,  0.04760205, ...,  0.16148163,\n",
       "          0.14785445,  0.13631424]],\n",
       "\n",
       "       [[ 0.21393132,  0.19005097,  0.1652733 , ..., -0.03099174,\n",
       "         -0.03810769, -0.05174333],\n",
       "        [ 0.20494549,  0.18768808,  0.17503445, ..., -0.10410147,\n",
       "         -0.12528305, -0.15045412],\n",
       "        [ 0.22580986,  0.20685686,  0.18755709, ..., -0.16147883,\n",
       "         -0.19924669, -0.23410563],\n",
       "...\n",
       "        [ 0.03528335,  0.04304951,  0.05386991, ...,  0.22222905,\n",
       "          0.21788602,  0.21908359],\n",
       "        [ 0.03872011,  0.05600726,  0.06928913, ...,  0.21415888,\n",
       "          0.21621525,  0.22041854],\n",
       "        [ 0.07424055,  0.08268724,  0.08671589, ...,  0.17794581,\n",
       "          0.19024883,  0.20435946]],\n",
       "\n",
       "       [[ 0.14231685,  0.14165306,  0.1486608 , ...,  0.08846385,\n",
       "          0.06760054,  0.04886631],\n",
       "        [ 0.16358225,  0.17003636,  0.16839975, ...,  0.10003031,\n",
       "          0.07308774,  0.05028615],\n",
       "        [ 0.1630607 ,  0.16085641,  0.14375843, ...,  0.11046124,\n",
       "          0.08512711,  0.05739465],\n",
       "        ...,\n",
       "        [ 0.1011345 ,  0.10662424,  0.10934835, ...,  0.21002702,\n",
       "          0.21518986,  0.2226865 ],\n",
       "        [ 0.08443863,  0.08789621,  0.086968  , ...,  0.19664785,\n",
       "          0.20416728,  0.21788205],\n",
       "        [ 0.10923723,  0.10777767,  0.10137151, ...,  0.1766162 ,\n",
       "          0.18706293,  0.20348065]]], dtype=float32)</pre></div></li><li class='xr-var-item'><div class='xr-var-name'><span>ssh</span></div><div class='xr-var-dims'>(latitude, longitude, time)</div><div class='xr-var-dtype'>float64</div><div class='xr-var-preview xr-preview'>0.8603 0.8443 ... 0.01072 0.02714</div><input id='attrs-29877945-2afb-427d-ab80-efffbb04c784' class='xr-var-attrs-in' type='checkbox' disabled><label for='attrs-29877945-2afb-427d-ab80-efffbb04c784' title='Show/Hide attributes'><svg class='icon xr-icon-file-text2'><use xlink:href='#icon-file-text2'></use></svg></label><input id='data-b200263b-3403-4c65-86be-1ee6f39077fe' class='xr-var-data-in' type='checkbox'><label for='data-b200263b-3403-4c65-86be-1ee6f39077fe' title='Show/Hide data repr'><svg class='icon xr-icon-database'><use xlink:href='#icon-database'></use></svg></label><div class='xr-var-attrs'><dl class='xr-attrs'></dl></div><div class='xr-var-data'><pre>array([[[ 8.60327736e-01,  8.44327972e-01,  8.22180257e-01, ...,\n",
       "          5.76674393e-01,  5.58281661e-01,  5.36906347e-01],\n",
       "        [ 8.30397441e-01,  8.18201168e-01,  8.09341608e-01, ...,\n",
       "          5.09936458e-01,  4.78817782e-01,  4.49421777e-01],\n",
       "        [ 8.03436444e-01,  7.88301320e-01,  7.76603268e-01, ...,\n",
       "          4.53491644e-01,  4.25525115e-01,  4.06305329e-01],\n",
       "        ...,\n",
       "        [ 6.02535971e-01,  5.86925425e-01,  5.67179097e-01, ...,\n",
       "          7.37396814e-01,  7.28628345e-01,  7.20510014e-01],\n",
       "        [ 5.77973982e-01,  5.62414605e-01,  5.52163009e-01, ...,\n",
       "          7.22303776e-01,  7.09307460e-01,  6.97700662e-01],\n",
       "        [ 5.66444247e-01,  5.68646937e-01,  5.82424766e-01, ...,\n",
       "          6.96304350e-01,  6.82677164e-01,  6.71136959e-01]],\n",
       "\n",
       "       [[ 8.16720959e-01,  7.92840612e-01,  7.68062931e-01, ...,\n",
       "          5.71797898e-01,  5.64681944e-01,  5.51046308e-01],\n",
       "        [ 8.05956857e-01,  7.88699449e-01,  7.76045815e-01, ...,\n",
       "          4.96909895e-01,  4.75728319e-01,  4.50557248e-01],\n",
       "        [ 8.26257020e-01,  8.07304024e-01,  7.88004249e-01, ...,\n",
       "          4.38968330e-01,  4.01200473e-01,  3.66341531e-01],\n",
       "...\n",
       "        [-1.38154341e-01, -1.30388176e-01, -1.19567780e-01, ...,\n",
       "          4.87913585e-02,  4.44483256e-02,  4.56459022e-02],\n",
       "        [-1.33336763e-01, -1.16049613e-01, -1.02767739e-01, ...,\n",
       "          4.21020060e-02,  4.41583812e-02,  4.83616709e-02],\n",
       "        [-9.72135676e-02, -8.87668816e-02, -8.47382260e-02, ...,\n",
       "          6.49168958e-03,  1.87947141e-02,  3.29053389e-02]],\n",
       "\n",
       "       [[ 4.16040261e-02,  4.09402390e-02,  4.79479720e-02, ...,\n",
       "         -1.22489716e-02, -3.31122811e-02, -5.18465127e-02],\n",
       "        [ 6.30810195e-02,  6.95351296e-02,  6.78985202e-02, ...,\n",
       "         -4.70920529e-04, -2.74134866e-02, -5.02150795e-02],\n",
       "        [ 6.13671657e-02,  5.91628817e-02,  4.20649019e-02, ...,\n",
       "          8.76770584e-03, -1.65664214e-02, -4.42988831e-02],\n",
       "        ...,\n",
       "        [-7.59282233e-02, -7.04384865e-02, -6.77143754e-02, ...,\n",
       "          3.29642994e-02,  3.81271346e-02,  4.56237746e-02],\n",
       "        [-9.18223063e-02, -8.83647228e-02, -8.92929385e-02, ...,\n",
       "          2.03869170e-02,  2.79063409e-02,  4.16211164e-02],\n",
       "        [-6.71034715e-02, -6.85630328e-02, -7.49691910e-02, ...,\n",
       "          2.75503956e-04,  1.07222312e-02,  2.71399432e-02]]])</pre></div></li></ul></div></li><li class='xr-section-item'><input id='section-9d7e8523-0b63-452e-9d1b-0e3c594b5647' class='xr-section-summary-in' type='checkbox' disabled ><label for='section-9d7e8523-0b63-452e-9d1b-0e3c594b5647' class='xr-section-summary'  title='Expand/collapse section'>Attributes: <span>(0)</span></label><div class='xr-section-inline-details'></div><div class='xr-section-details'><dl class='xr-attrs'></dl></div></li></ul></div></div>"
      ],
      "text/plain": [
       "<xarray.Dataset>\n",
       "Dimensions:    (latitude: 52, longitude: 51, time: 365)\n",
       "Coordinates:\n",
       "  * latitude   (latitude) float64 33.0 33.2 33.4 33.6 ... 42.6 42.8 43.0 43.2\n",
       "  * longitude  (longitude) float64 295.0 295.2 295.4 295.6 ... 304.6 304.8 305.0\n",
       "  * time       (time) datetime64[ns] 2017-01-01 2017-01-02 ... 2017-12-31\n",
       "Data variables:\n",
       "    index      (latitude, longitude, time) int64 0 1 2 ... 967977 967978 967979\n",
       "    vtime      (latitude, longitude, time) float64 31.0 32.0 ... 394.0 395.0\n",
       "    pred       (latitude, longitude, time) float32 0.2606 0.2446 ... 0.2035\n",
       "    ssh        (latitude, longitude, time) float64 0.8603 0.8443 ... 0.02714"
      ]
     },
     "execution_count": 48,
     "metadata": {},
     "output_type": "execute_result"
    }
   ],
   "source": [
    "ds_oi"
   ]
  },
  {
   "cell_type": "code",
   "execution_count": 49,
   "id": "f0779492-1be0-48fc-a10b-413666ad305d",
   "metadata": {},
   "outputs": [
    {
     "name": "stdout",
     "output_type": "stream",
     "text": [
      "RMSE (Mean): 0.075\n",
      "RMSE (Std): 0.023\n",
      "NRMSE (Mean): 0.871\n",
      "NRMSE (Std): 0.084\n",
      "CPU times: user 456 ms, sys: 32 ms, total: 488 ms\n",
      "Wall time: 506 ms\n"
     ]
    }
   ],
   "source": [
    "%%time\n",
    "\n",
    "rmse_metrics = get_rmse_metrics(ds_oi, args)\n",
    "\n",
    "wandb_logger.log_metrics(\n",
    "    {\n",
    "        \"model_rmse_mean\": rmse_metrics[0],\n",
    "        \"model_rmse_std\": rmse_metrics[1],\n",
    "        \"model_nrmse_mean\": rmse_metrics[2],\n",
    "        \"model_nrmse_std\": rmse_metrics[3],\n",
    "    }\n",
    ")\n",
    "\n",
    "print(rmse_metrics)"
   ]
  },
  {
   "cell_type": "code",
   "execution_count": null,
   "id": "1f112b68-d785-4a86-973a-3afe81a5733b",
   "metadata": {},
   "outputs": [],
   "source": []
  },
  {
   "cell_type": "code",
   "execution_count": 50,
   "id": "07446478-0947-46d3-9c92-f2d609be69ed",
   "metadata": {},
   "outputs": [
    {
     "name": "stdout",
     "output_type": "stream",
     "text": [
      "Resolved Scale: 150.034 (km)\n"
     ]
    }
   ],
   "source": [
    "psd_metrics = get_psd_metrics(ds_oi, args)\n",
    "print(psd_metrics)\n",
    "\n",
    "wandb_logger.log_metrics(\n",
    "    {\n",
    "        \"resolved_scale\": psd_metrics.resolved_scale,\n",
    "    }\n",
    ")"
   ]
  },
  {
   "cell_type": "markdown",
   "id": "bd079855-f082-4097-94d5-d5d13d9a31df",
   "metadata": {},
   "source": [
    "### Figures"
   ]
  },
  {
   "cell_type": "code",
   "execution_count": 51,
   "id": "9dd9f802-4cc7-4458-8ce7-ffc63fbab688",
   "metadata": {},
   "outputs": [
    {
     "data": {
      "image/png": "[encoded data removed]",
      "text/plain": [
       "<Figure size 504x360 with 1 Axes>"
      ]
     },
     "metadata": {
      "needs_background": "light"
     },
     "output_type": "display_data"
    }
   ],
   "source": [
    "fig, ax = plot_psd_spectrum(\n",
    "    psd_metrics.psd_study, \n",
    "    psd_metrics.psd_ref, \n",
    "    psd_metrics.wavenumber\n",
    ")\n",
    "\n",
    "\n",
    "wandb_logger.experiment.log(\n",
    "    {\n",
    "        \"model_psd_spectrum\": wandb.Image(fig),\n",
    "    }\n",
    ")"
   ]
  },
  {
   "cell_type": "code",
   "execution_count": 52,
   "id": "230a6088-eeb1-4ab3-8031-a2d267b1cdb6",
   "metadata": {},
   "outputs": [
    {
     "data": {
      "image/png": "[encoded data removed]",
      "text/plain": [
       "<Figure size 504x360 with 1 Axes>"
      ]
     },
     "metadata": {
      "needs_background": "light"
     },
     "output_type": "display_data"
    }
   ],
   "source": [
    "fig, ax = plot_psd_score(\n",
    "    psd_metrics.psd_diff, \n",
    "    psd_metrics.psd_ref, \n",
    "    psd_metrics.wavenumber, \n",
    "    psd_metrics.resolved_scale)\n",
    "\n",
    "wandb_logger.experiment.log(\n",
    "    {\n",
    "        \"model_psd_score\": wandb.Image(fig),\n",
    "    }\n",
    ")"
   ]
  },
  {
   "cell_type": "markdown",
   "id": "4a2bd7b7-dcb5-4536-b326-cc679b9a8300",
   "metadata": {},
   "source": [
    "### Movies"
   ]
  },
  {
   "cell_type": "code",
   "execution_count": 53,
   "id": "f3253cd8-1f73-425d-85c6-94768652288d",
   "metadata": {},
   "outputs": [
    {
     "data": {
      "text/html": [
       "Waiting for W&B process to finish... <strong style=\"color:green\">(success).</strong>"
      ],
      "text/plain": [
       "<IPython.core.display.HTML object>"
      ]
     },
     "metadata": {},
     "output_type": "display_data"
    },
    {
     "data": {
      "application/vnd.jupyter.widget-view+json": {
       "model_id": "",
       "version_major": 2,
       "version_minor": 0
      },
      "text/plain": [
       "VBox(children=(Label(value='0.039 MB of 0.039 MB uploaded (0.000 MB deduped)\\r'), FloatProgress(value=1.0, max…"
      ]
     },
     "metadata": {},
     "output_type": "display_data"
    },
    {
     "data": {
      "text/html": [
       "<style>\n",
       "    table.wandb td:nth-child(1) { padding: 0 10px; text-align: left ; width: auto;} td:nth-child(2) {text-align: left ; width: 100%}\n",
       "    .wandb-row { display: flex; flex-direction: row; flex-wrap: wrap; justify-content: flex-start; width: 100% }\n",
       "    .wandb-col { display: flex; flex-direction: column; flex-basis: 100%; flex: 1; padding: 10px; }\n",
       "    </style>\n",
       "<div class=\"wandb-row\"><div class=\"wandb-col\"><h3>Run history:</h3><br/><table class=\"wandb\"><tr><td>model_nrmse_mean</td><td>▁</td></tr><tr><td>model_nrmse_std</td><td>▁</td></tr><tr><td>model_rmse_mean</td><td>▁</td></tr><tr><td>model_rmse_std</td><td>▁</td></tr><tr><td>resolved_scale</td><td>▁</td></tr></table><br/></div><div class=\"wandb-col\"><h3>Run summary:</h3><br/><table class=\"wandb\"><tr><td>epoch</td><td>1536</td></tr><tr><td>model_nrmse_mean</td><td>0.87053</td></tr><tr><td>model_nrmse_std</td><td>0.08437</td></tr><tr><td>model_rmse_mean</td><td>0.07499</td></tr><tr><td>model_rmse_std</td><td>0.02337</td></tr><tr><td>resolved_scale</td><td>150.03365</td></tr><tr><td>time_predict_batches</td><td>9.38812</td></tr><tr><td>train_loss</td><td>0.00041</td></tr><tr><td>trainer/global_step</td><td>605577</td></tr><tr><td>valid_loss</td><td>0.00078</td></tr></table><br/></div></div>"
      ],
      "text/plain": [
       "<IPython.core.display.HTML object>"
      ]
     },
     "metadata": {},
     "output_type": "display_data"
    },
    {
     "data": {
      "text/html": [
       "Synced <strong style=\"color:#cdcd00\">apricot-field-87</strong>: <a href=\"https://wandb.ai/ige/nerf4ssh/runs/24kiuvw8\" target=\"_blank\">https://wandb.ai/ige/nerf4ssh/runs/24kiuvw8</a><br/>Synced 3 W&B file(s), 2 media file(s), 0 artifact file(s) and 0 other file(s)"
      ],
      "text/plain": [
       "<IPython.core.display.HTML object>"
      ]
     },
     "metadata": {},
     "output_type": "display_data"
    },
    {
     "data": {
      "text/html": [
       "Find logs at: <code>./wandb/run-20220606_194808-24kiuvw8/logs</code>"
      ],
      "text/plain": [
       "<IPython.core.display.HTML object>"
      ]
     },
     "metadata": {},
     "output_type": "display_data"
    }
   ],
   "source": [
    "wandb_logger.experiment.finish()"
   ]
  },
  {
   "cell_type": "code",
   "execution_count": 54,
   "id": "e5998a5e-152a-47b0-8e35-f364e630bcab",
   "metadata": {},
   "outputs": [],
   "source": [
    "# save_path = wandb.run.dir #Path(root).joinpath(\"experiments/dc_2021b\")"
   ]
  },
  {
   "cell_type": "code",
   "execution_count": 55,
   "id": "af137cf9-e718-497d-be4e-80bf049b6271",
   "metadata": {},
   "outputs": [],
   "source": [
    "# import hvplot.xarray\n",
    "\n",
    "\n",
    "# ds_oi.ssh.hvplot.image(\n",
    "#     x=\"longitude\",\n",
    "#     y=\"latitude\",\n",
    "#     # groupby='time',\n",
    "#     # rasterize=True, \n",
    "#     width=500, height=400, cmap=\"viridis\")"
   ]
  },
  {
   "cell_type": "code",
   "execution_count": 56,
   "id": "0d0aaa8c-6d83-46e2-86b4-cf23cdca1da2",
   "metadata": {},
   "outputs": [],
   "source": [
    "# create_movie(ds_oi.ssh.isel(time=slice(50,60)), f\"pred\", \"time\", cmap=\"viridis\", file_path=save_path)"
   ]
  },
  {
   "cell_type": "markdown",
   "id": "e7956edd-7b4d-4ada-983a-ad0cf3e8f662",
   "metadata": {},
   "source": [
    "<!-- ![](wandb/run-20220601_174733-kx2nr6qb/files/movie_pred.gif) -->"
   ]
  },
  {
   "cell_type": "code",
   "execution_count": 57,
   "id": "98f0bcf3-7732-44bd-b30a-48e6612325af",
   "metadata": {},
   "outputs": [],
   "source": [
    "# if args.smoke_test:\n",
    "#     create_movie(ds_oi.ssh.isel(time=slice(50,60)), f\"pred\", \"time\", cmap=\"viridis\", file_path=save_path)\n",
    "# else:\n",
    "#     create_movie(ds_oi.ssh, f\"pred\", \"time\", cmap=\"viridis\", file_path=save_path)\n"
   ]
  },
  {
   "cell_type": "code",
   "execution_count": 58,
   "id": "4292fd48-f99a-4a12-9ba2-35b9f32c403e",
   "metadata": {},
   "outputs": [],
   "source": [
    "# wandb.log(\n",
    "#     {\n",
    "#         \"predictions_gif\": wandb.Image(f\"{save_path}/movie_pred.gif\"),\n",
    "#     }\n",
    "# )"
   ]
  },
  {
   "cell_type": "markdown",
   "id": "3f7cdb4b-468b-4f37-992b-6403056a2ba9",
   "metadata": {},
   "source": [
    "### Gradients"
   ]
  },
  {
   "cell_type": "code",
   "execution_count": 59,
   "id": "22e7dfb4-8f7c-4cbe-8989-e9e64eab9453",
   "metadata": {},
   "outputs": [],
   "source": [
    "ds_oi[\"ssh_grad\"] = calculate_gradient(ds_oi[\"ssh\"], \"longitude\", \"latitude\")"
   ]
  },
  {
   "cell_type": "code",
   "execution_count": 60,
   "id": "278f6131-30c8-48f5-8250-386124ecc956",
   "metadata": {},
   "outputs": [],
   "source": [
    "# ds_oi.ssh_grad.hvplot.image(\n",
    "#     x=\"longitude\",\n",
    "#     y=\"latitude\",\n",
    "#     # groupby='time',\n",
    "#     # rasterize=True, \n",
    "#     width=500, height=400, cmap=\"Spectral_r\")"
   ]
  },
  {
   "cell_type": "code",
   "execution_count": 61,
   "id": "3975b43e-f722-4948-999f-4e60eaf87362",
   "metadata": {},
   "outputs": [],
   "source": [
    "# if args.smoke_test:\n",
    "#     create_movie(ds_oi.ssh_grad.isel(time=slice(50,60)), f\"pred_grad\", \"time\", cmap=\"Spectral_r\", file_path=save_path)\n",
    "# else:\n",
    "#     create_movie(ds_oi.ssh_grad, f\"pred_grad\", \"time\", cmap=\"Spectral_r\", file_path=save_path)"
   ]
  },
  {
   "cell_type": "code",
   "execution_count": 62,
   "id": "6872c78a-d596-446f-911f-3444b2701991",
   "metadata": {},
   "outputs": [],
   "source": [
    "# wandb.log(\n",
    "#     {\n",
    "#         \"predictions_grad_gif\": wandb.Image(f\"{save_path}/movie_pred_grad.gif\"),\n",
    "#     }\n",
    "# )"
   ]
  },
  {
   "cell_type": "markdown",
   "id": "5d08cd6d-20cb-4726-9204-bab5405e584d",
   "metadata": {},
   "source": [
    "### Laplacian"
   ]
  },
  {
   "cell_type": "code",
   "execution_count": 63,
   "id": "2816a06f-c1bf-485a-8966-a0adffd91df0",
   "metadata": {},
   "outputs": [],
   "source": [
    "ds_oi[\"ssh_lap\"] = calculate_laplacian(ds_oi[\"ssh\"], \"longitude\", \"latitude\")"
   ]
  },
  {
   "cell_type": "code",
   "execution_count": 64,
   "id": "7d39b798-65d0-4f04-a655-16b1f202667b",
   "metadata": {},
   "outputs": [],
   "source": [
    "# ds_oi.ssh_lap.hvplot.image(\n",
    "#     x=\"longitude\",\n",
    "#     y=\"latitude\",\n",
    "#     # groupby='time',\n",
    "#     # rasterize=True, \n",
    "#     width=500, height=400, cmap=\"RdBu_r\")"
   ]
  },
  {
   "cell_type": "code",
   "execution_count": 65,
   "id": "6f401c5c-1ff3-4934-8a24-404366860b99",
   "metadata": {},
   "outputs": [],
   "source": [
    "# if args.smoke_test:\n",
    "#     create_movie(ds_oi.ssh_lap.isel(time=slice(50,60)), f\"pred_lap\", \"time\", cmap=\"RdBu_r\", file_path=save_path)\n",
    "# else:\n",
    "#     create_movie(ds_oi.ssh_lap, f\"pred_lap\", \"time\", cmap=\"RdBu_r\", file_path=save_path)\n"
   ]
  },
  {
   "cell_type": "code",
   "execution_count": 66,
   "id": "05ede2ed-4fe4-4209-83b0-6b25ac618daf",
   "metadata": {},
   "outputs": [],
   "source": [
    "# wandb.log(\n",
    "#     {\n",
    "#         \"predictions_laplacian_gif\": wandb.Image(f\"{save_path}/movie_pred_lap.gif\"),\n",
    "#     }\n",
    "# )"
   ]
  },
  {
   "cell_type": "code",
   "execution_count": null,
   "id": "a9485293-abcd-4af0-9af8-70487d42b1be",
   "metadata": {},
   "outputs": [],
   "source": []
  }
 ],
 "metadata": {
  "kernelspec": {
   "display_name": "Python [conda env:jaxtftorch_cpu_py39]",
   "language": "python",
   "name": "conda-env-jaxtftorch_cpu_py39-py"
  },
  "language_info": {
   "codemirror_mode": {
    "name": "ipython",
    "version": 3
   },
   "file_extension": ".py",
   "mimetype": "text/x-python",
   "name": "python",
   "nbconvert_exporter": "python",
   "pygments_lexer": "ipython3",
   "version": "3.9.12"
  }
 },
 "nbformat": 4,
 "nbformat_minor": 5
}
