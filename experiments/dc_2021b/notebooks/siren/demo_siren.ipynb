{
 "cells": [
  {
   "cell_type": "markdown",
   "id": "48671f14-4157-4801-9aeb-26379ae459ea",
   "metadata": {},
   "source": [
    "# Demo - Siren"
   ]
  },
  {
   "cell_type": "code",
   "execution_count": 1,
   "id": "c8a2ee9e-04cc-4c5e-a3eb-4742a7ad7cd1",
   "metadata": {},
   "outputs": [],
   "source": [
    "import sys, os\n",
    "from pyprojroot import here\n",
    "\n",
    "\n",
    "# spyder up to find the root, local\n",
    "root = here(project_files=[\".root\"])\n",
    "local = here(project_files=[\".local\"])\n",
    "\n",
    "# append to path\n",
    "sys.path.append(str(root))\n",
    "sys.path.append(str(local))"
   ]
  },
  {
   "cell_type": "code",
   "execution_count": 2,
   "id": "4e08b309-df46-4190-96f7-914907b8b422",
   "metadata": {},
   "outputs": [
    {
     "name": "stderr",
     "output_type": "stream",
     "text": [
      "2022-06-02 13:55:02.456472: W tensorflow/stream_executor/platform/default/dso_loader.cc:64] Could not load dynamic library 'libcudart.so.11.0'; dlerror: libcudart.so.11.0: cannot open shared object file: No such file or directory\n"
     ]
    }
   ],
   "source": [
    "from pathlib import Path\n",
    "import argparse\n",
    "import wandb\n",
    "import tqdm\n",
    "import matplotlib.pyplot as plt\n",
    "import seaborn as sns\n",
    "sns.reset_defaults()\n",
    "sns.set_context(context=\"talk\", font_scale=0.7)\n",
    "\n",
    "# # Ensure TF does not see GPU and grab all GPU memory.\n",
    "# import tensorflow as tf\n",
    "# tf.config.set_visible_devices([], device_type='GPU')\n",
    "\n",
    "# os.environ[\"JAX_PLATFORM_NAME\"] = \"CPU\"\n",
    "# # ENSURE JAX DOESNT PREALLOCATE\n",
    "# os.environ[\"XLA_PYTHON_CLIENT_PREALLOCATE\"] = str(False)\n",
    "\n",
    "import jax\n",
    "import jax.random as jrandom\n",
    "import jax.numpy as jnp\n",
    "import equinox as eqx\n",
    "from ml4ssh._src.data import make_mini_batcher\n",
    "from ml4ssh._src.io import load_object, save_object\n",
    "from ml4ssh._src.viz import create_movie, plot_psd_spectrum, plot_psd_score\n",
    "from ml4ssh._src.utils import get_meshgrid, calculate_gradient, calculate_laplacian\n",
    "\n",
    "# import parsers\n",
    "from data import get_data_args, load_data\n",
    "from preprocess import add_preprocess_args, preprocess_data\n",
    "from features import add_feature_args, feature_transform\n",
    "from split import add_split_args, split_data\n",
    "from model import add_model_args, get_model\n",
    "from loss import add_loss_args, get_loss_fn\n",
    "from logger import add_logger_args\n",
    "from optimizer import add_optimizer_args, get_optimizer\n",
    "from postprocess import add_postprocess_args, postprocess_data, generate_eval_data\n",
    "from evaluation import add_eval_args, get_rmse_metrics, get_psd_metrics\n",
    "\n",
    "%matplotlib inline\n",
    "%load_ext autoreload\n",
    "%autoreload 2"
   ]
  },
  {
   "cell_type": "markdown",
   "id": "305ed40f-5926-41e3-8f76-22d50df60c1e",
   "metadata": {},
   "source": [
    "### Argumentsget_data_args"
   ]
  },
  {
   "cell_type": "code",
   "execution_count": 48,
   "id": "ad519f7b-be94-419e-ba50-f14958c2b2a8",
   "metadata": {},
   "outputs": [],
   "source": [
    "parser = argparse.ArgumentParser()\n",
    "\n",
    "# logger\n",
    "parser = add_logger_args(parser)\n",
    "\n",
    "# data\n",
    "parser = get_data_args(parser)\n",
    "\n",
    "# preprocessing, feature transform, split\n",
    "parser = add_preprocess_args(parser)\n",
    "parser = add_feature_args(parser)\n",
    "parser = add_split_args(parser)\n",
    "\n",
    "# model, optimizer, loss\n",
    "parser = add_model_args(parser)\n",
    "parser = add_optimizer_args(parser)\n",
    "parser = add_loss_args(parser)\n",
    "\n",
    "# postprocessing, metrics\n",
    "parser = add_postprocess_args(parser)\n",
    "parser = add_eval_args(parser)\n",
    "\n",
    "# parse args\n",
    "args = parser.parse_args([])\n",
    "\n",
    "# # jeanzay specific\n",
    "# args.train_data_dir = \"/gpfsdswork/projects/rech/cli/uvo53rl/data/data_challenges/ssh_mapping_2021/train/\"\n",
    "# args.ref_data_dir = \"/gpfsdswork/projects/rech/cli/uvo53rl/data/data_challenges/ssh_mapping_2021/ref/\"\n",
    "# args.test_data_dir = \"/gpfsdswork/projects/rech/cli/uvo53rl/data/data_challenges/ssh_mapping_2021/test/\"\n",
    "# args.log_dir = \"/gpfswork/rech/cli/uvo53rl/logs\"\n",
    "\n",
    "# training args\n",
    "args.batch_size = 4096\n",
    "args.n_epochs = 1\n",
    "\n",
    "# model args\n",
    "args.model = \"siren\"\n",
    "args.activation = \"sine\"\n",
    "args.julian_time = True\n",
    "\n",
    "# smoke test\n",
    "args.smoke_test = True\n",
    "\n",
    "# logging stuff\n",
    "args.wandb_mode = \"disabled\"\n",
    "args.wandb_resume = True\n",
    "# ige/nerf4ssh/kx2nr6qb\n",
    "args.id = None # \"mikf2n1v\" # \"2uuq7tks\" \"kx2nr6qb\"\n",
    "# args.entity = \"ige\"\n"
   ]
  },
  {
   "cell_type": "code",
   "execution_count": 49,
   "id": "5c3c6d2f-5655-4459-8065-52f0ac34f8bd",
   "metadata": {},
   "outputs": [
    {
     "data": {
      "text/plain": [
       "'siren'"
      ]
     },
     "execution_count": 49,
     "metadata": {},
     "output_type": "execute_result"
    }
   ],
   "source": [
    "args.model"
   ]
  },
  {
   "cell_type": "markdown",
   "id": "2816cbb2-1a8f-431d-a12b-d0e4f008b7f5",
   "metadata": {},
   "source": [
    "### Logger\n"
   ]
  },
  {
   "cell_type": "code",
   "execution_count": 50,
   "id": "7733fbe0-fb43-4eda-af8e-50f00e380ec1",
   "metadata": {},
   "outputs": [
    {
     "data": {
      "text/plain": []
     },
     "execution_count": 50,
     "metadata": {},
     "output_type": "execute_result"
    }
   ],
   "source": [
    "# init wandb logger\n",
    "wandb.init(\n",
    "    id=args.id,\n",
    "    config=args,\n",
    "    mode=args.wandb_mode,\n",
    "    project=args.project,\n",
    "    entity=args.entity,\n",
    "    dir=args.log_dir,\n",
    "    resume=args.wandb_resume\n",
    ")"
   ]
  },
  {
   "cell_type": "markdown",
   "id": "dce2df15-f422-406b-8e53-64edf65f4172",
   "metadata": {},
   "source": [
    "### Load Data"
   ]
  },
  {
   "cell_type": "code",
   "execution_count": 51,
   "id": "1a204743-93da-4f08-a080-67fcd404f1ec",
   "metadata": {},
   "outputs": [
    {
     "name": "stderr",
     "output_type": "stream",
     "text": [
      "100%|██████████| 6/6 [00:00<00:00, 60.14it/s]\n"
     ]
    },
    {
     "name": "stdout",
     "output_type": "stream",
     "text": [
      "CPU times: user 300 ms, sys: 640 ms, total: 940 ms\n",
      "Wall time: 946 ms\n"
     ]
    }
   ],
   "source": [
    "%%time\n",
    "\n",
    "# load data\n",
    "data = load_data(args)"
   ]
  },
  {
   "cell_type": "code",
   "execution_count": 52,
   "id": "255a4c24-1d0a-47f1-a6d8-60d91ff6c572",
   "metadata": {},
   "outputs": [],
   "source": [
    "# preprocess data\n",
    "data = preprocess_data(data, args)"
   ]
  },
  {
   "cell_type": "code",
   "execution_count": 53,
   "id": "359782c7-7835-4303-b544-b51a2857da57",
   "metadata": {},
   "outputs": [
    {
     "name": "stdout",
     "output_type": "stream",
     "text": [
      "Juliennnn!\n",
      "2457723.546630142 2458149.4552697684\n"
     ]
    }
   ],
   "source": [
    "# feature transformation\n",
    "data, scaler = feature_transform(data, args)"
   ]
  },
  {
   "cell_type": "code",
   "execution_count": 54,
   "id": "564ed75e-9244-4722-b60c-b407f506a7ad",
   "metadata": {},
   "outputs": [],
   "source": [
    "juliantime = data[\"time\"]"
   ]
  },
  {
   "cell_type": "code",
   "execution_count": 47,
   "id": "2f7780fa-96ba-4355-8e81-4b50736c3916",
   "metadata": {},
   "outputs": [],
   "source": [
    "njuliantime = data[\"time\"]\n"
   ]
  },
  {
   "cell_type": "code",
   "execution_count": 56,
   "id": "b905ebf7-149f-47f8-a7b5-97fd98237220",
   "metadata": {},
   "outputs": [
    {
     "data": {
      "text/plain": [
       "[<matplotlib.lines.Line2D at 0x7f0d00df99d0>]"
      ]
     },
     "execution_count": 56,
     "metadata": {},
     "output_type": "execute_result"
    },
    {
     "data": {
      "image/png": "[encoded data removed]",
      "text/plain": [
       "<Figure size 432x288 with 1 Axes>"
      ]
     },
     "metadata": {
      "needs_background": "light"
     },
     "output_type": "display_data"
    }
   ],
   "source": [
    "\n",
    "plt.plot(njuliantime)\n",
    "plt.plot(juliantime)"
   ]
  },
  {
   "cell_type": "code",
   "execution_count": 34,
   "id": "7386abc3-3927-4ae3-8eb8-cf0ac87426a1",
   "metadata": {},
   "outputs": [],
   "source": [
    "\n",
    "\n",
    "\n",
    "# split data\n",
    "xtrain, ytrain, xvalid, yvalid = split_data(data, args)\n",
    "\n",
    "args.in_dim = xtrain.shape[-1]\n",
    "args.n_train = xtrain.shape[0]\n",
    "args.n_valid = xvalid.shape[0]\n",
    "\n",
    "wandb.config.update(\n",
    "    {\n",
    "        \"in_dim\": args.in_dim,\n",
    "        \"n_train\": args.n_train,\n",
    "        \"n_valid\": args.n_valid,\n",
    "    }\n",
    ")"
   ]
  },
  {
   "cell_type": "code",
   "execution_count": 35,
   "id": "9d2d93f7-0344-4fae-8f56-9dbe02ba09c0",
   "metadata": {},
   "outputs": [
    {
     "data": {
      "text/html": [
       "<div>\n",
       "<style scoped>\n",
       "    .dataframe tbody tr th:only-of-type {\n",
       "        vertical-align: middle;\n",
       "    }\n",
       "\n",
       "    .dataframe tbody tr th {\n",
       "        vertical-align: top;\n",
       "    }\n",
       "\n",
       "    .dataframe thead th {\n",
       "        text-align: right;\n",
       "    }\n",
       "</style>\n",
       "<table border=\"1\" class=\"dataframe\">\n",
       "  <thead>\n",
       "    <tr style=\"text-align: right;\">\n",
       "      <th></th>\n",
       "      <th>longitude</th>\n",
       "      <th>latitude</th>\n",
       "      <th>time</th>\n",
       "    </tr>\n",
       "  </thead>\n",
       "  <tbody>\n",
       "    <tr>\n",
       "      <th>0</th>\n",
       "      <td>0.633663</td>\n",
       "      <td>-0.998266</td>\n",
       "      <td>-1.0</td>\n",
       "    </tr>\n",
       "    <tr>\n",
       "      <th>1</th>\n",
       "      <td>0.632683</td>\n",
       "      <td>-0.994338</td>\n",
       "      <td>-1.0</td>\n",
       "    </tr>\n",
       "    <tr>\n",
       "      <th>2</th>\n",
       "      <td>0.631703</td>\n",
       "      <td>-0.990410</td>\n",
       "      <td>-1.0</td>\n",
       "    </tr>\n",
       "    <tr>\n",
       "      <th>3</th>\n",
       "      <td>0.630723</td>\n",
       "      <td>-0.986482</td>\n",
       "      <td>-1.0</td>\n",
       "    </tr>\n",
       "    <tr>\n",
       "      <th>4</th>\n",
       "      <td>0.629742</td>\n",
       "      <td>-0.982554</td>\n",
       "      <td>-1.0</td>\n",
       "    </tr>\n",
       "  </tbody>\n",
       "</table>\n",
       "</div>"
      ],
      "text/plain": [
       "   longitude  latitude  time\n",
       "0   0.633663 -0.998266  -1.0\n",
       "1   0.632683 -0.994338  -1.0\n",
       "2   0.631703 -0.990410  -1.0\n",
       "3   0.630723 -0.986482  -1.0\n",
       "4   0.629742 -0.982554  -1.0"
      ]
     },
     "execution_count": 35,
     "metadata": {},
     "output_type": "execute_result"
    }
   ],
   "source": [
    "data[[\"longitude\", \"latitude\", \"time\"]].head()"
   ]
  },
  {
   "cell_type": "markdown",
   "id": "ef39f5ec-1066-467c-b4ba-d205adc4fba2",
   "metadata": {},
   "source": [
    "### Model"
   ]
  },
  {
   "cell_type": "code",
   "execution_count": 8,
   "id": "575288f1-04f7-4bd0-bc3f-cf11615ce605",
   "metadata": {},
   "outputs": [
    {
     "name": "stderr",
     "output_type": "stream",
     "text": [
      "WARNING:absl:No GPU/TPU found, falling back to CPU. (Set TF_CPP_MIN_LOG_LEVEL=0 and rerun for more info.)\n"
     ]
    },
    {
     "name": "stdout",
     "output_type": "stream",
     "text": [
      "CPU times: user 1.51 s, sys: 16 ms, total: 1.53 s\n",
      "Wall time: 1.55 s\n"
     ]
    }
   ],
   "source": [
    "%%time\n",
    "\n",
    "\n",
    "# model\n",
    "model = get_model(args)\n",
    "\n",
    "# optimizer\n",
    "optimizer = get_optimizer(args)\n",
    "\n",
    "# loss\n",
    "make_step, val_step = get_loss_fn(args)\n",
    "\n",
    "# init optimizer\n",
    "opt_state = optimizer.init(model)"
   ]
  },
  {
   "cell_type": "code",
   "execution_count": 9,
   "id": "1208851b-909f-4489-be12-b1818c00f2cf",
   "metadata": {},
   "outputs": [],
   "source": [
    "n_steps_per_epoch = args.n_train / args.batch_size\n",
    "steps = int(n_steps_per_epoch * args.n_epochs) if not args.smoke_test else 500\n",
    "\n",
    "\n",
    "wandb.config.update(\n",
    "    {\n",
    "        \"steps\": steps,\n",
    "        \"n_steps_per_epoch\": n_steps_per_epoch,\n",
    "    }\n",
    ")"
   ]
  },
  {
   "cell_type": "code",
   "execution_count": 10,
   "id": "7bf1a228-e420-498b-8e0c-4c86e22bdc77",
   "metadata": {},
   "outputs": [
    {
     "data": {
      "text/plain": [
       "786"
      ]
     },
     "execution_count": 10,
     "metadata": {},
     "output_type": "execute_result"
    }
   ],
   "source": [
    "int((args.n_train / args.batch_size) * 1)"
   ]
  },
  {
   "cell_type": "markdown",
   "id": "c2a1d68f-2cc9-4246-8bd8-a83b234dd49f",
   "metadata": {},
   "source": [
    "### Training"
   ]
  },
  {
   "cell_type": "code",
   "execution_count": 11,
   "id": "5b5c443d-31a6-4336-9c27-2d5890e56335",
   "metadata": {},
   "outputs": [
    {
     "name": "stderr",
     "output_type": "stream",
     "text": [
      "2022-06-01 22:50:51.182815: W tensorflow/stream_executor/platform/default/dso_loader.cc:64] Could not load dynamic library 'libcuda.so.1'; dlerror: libcuda.so.1: cannot open shared object file: No such file or directory\n",
      "2022-06-01 22:50:51.182922: W tensorflow/stream_executor/cuda/cuda_driver.cc:269] failed call to cuInit: UNKNOWN ERROR (303)\n",
      "Step: 490 | Train Loss: 9.411e-02 | Valid Loss: 1.227e-01: 100%|██████████| 500/500 [02:16<00:00,  3.67it/s]\n"
     ]
    }
   ],
   "source": [
    "train_ds = make_mini_batcher(xtrain, ytrain, args.batch_size, 5, shuffle=True)\n",
    "valid_ds = make_mini_batcher(xvalid, yvalid, args.batch_size, 5, shuffle=False)\n",
    "\n",
    "\n",
    "losses = {} \n",
    "losses[\"train\"] = []\n",
    "losses[\"valid\"] = []\n",
    "\n",
    "\n",
    "with tqdm.trange(steps) as pbar:\n",
    "    for step in pbar:\n",
    "        \n",
    "        ix, iy = next(train_ds)\n",
    "        loss, grads = make_step(model, jnp.asarray(ix), jnp.asarray(iy))\n",
    "        \n",
    "        updates, opt_state = optimizer.update(grads, opt_state)\n",
    "        model = eqx.apply_updates(model, updates)\n",
    "        \n",
    "        losses[\"train\"].append(loss)\n",
    "        wandb.log({\"train_loss\": loss}, step=step)\n",
    "        ix, iy = next(valid_ds)\n",
    "        # validation step\n",
    "        vloss = val_step(model, jnp.asarray(ix), jnp.asarray(iy))\n",
    "        losses[\"valid\"].append(vloss)\n",
    "        \n",
    "        \n",
    "        wandb.log({\"val_loss\": vloss}, step=step)\n",
    "        \n",
    "        if step % 10 == 0:\n",
    "            pbar.set_description(f\"Step: {step:_} | Train Loss: {loss:.3e} | Valid Loss: {vloss:.3e}\")\n",
    "            \n"
   ]
  },
  {
   "cell_type": "code",
   "execution_count": 12,
   "id": "8e331a95-039c-425b-a178-b35022b5eebe",
   "metadata": {},
   "outputs": [
    {
     "data": {
      "image/png": "[encoded data removed]",
      "text/plain": [
       "<Figure size 432x288 with 1 Axes>"
      ]
     },
     "metadata": {
      "needs_background": "light"
     },
     "output_type": "display_data"
    }
   ],
   "source": [
    "fig, ax = plt.subplots()\n",
    "ax.plot(losses[\"train\"], label=\"train loss\")\n",
    "ax.plot(losses[\"valid\"], label=\"valid loss\")\n",
    "plt.yscale(\"log\")\n",
    "plt.legend()\n",
    "plt.show()"
   ]
  },
  {
   "cell_type": "markdown",
   "id": "62ed2cdc-b549-4969-8d98-204f9728bee3",
   "metadata": {},
   "source": [
    "### Save models"
   ]
  },
  {
   "cell_type": "code",
   "execution_count": null,
   "id": "3b341ba6-3961-4eca-bb9e-8edd2d72ef6a",
   "metadata": {},
   "outputs": [],
   "source": []
  },
  {
   "cell_type": "code",
   "execution_count": 12,
   "id": "ed63a01f-45a1-4c00-bc03-2cfcb9910978",
   "metadata": {},
   "outputs": [
    {
     "data": {
      "text/plain": []
     },
     "execution_count": 12,
     "metadata": {},
     "output_type": "execute_result"
    }
   ],
   "source": [
    "# objects\n",
    "path_model = Path(wandb.run.dir).joinpath(\"model.pickle\")\n",
    "path_scaler = Path(wandb.run.dir).joinpath(\"scaler.pickle\")\n",
    "\n",
    "# models to save\n",
    "save_object(model, path_model)\n",
    "save_object(scaler, path_scaler)\n",
    "\n",
    "# save with wandb\n",
    "wandb.save(str(path_model), policy=\"now\")\n",
    "wandb.save(str(path_scaler), policy=\"now\")"
   ]
  },
  {
   "cell_type": "markdown",
   "id": "3952eecb-b099-4422-8c91-52285bb01c6e",
   "metadata": {},
   "source": [
    "### Load Models (Optional)"
   ]
  },
  {
   "cell_type": "code",
   "execution_count": 13,
   "id": "50cccbdb-ac0a-49e0-84e9-e14067312257",
   "metadata": {},
   "outputs": [],
   "source": [
    "# # if args.server == \"jz\":\n",
    "# # get id (from this run or a run you can set)\n",
    "# run_id = wandb.run.id\n",
    "\n",
    "# # initialize api\n",
    "# api = wandb.Api()\n",
    "\n",
    "# # get run\n",
    "# run = api.run(f\"{args.entity}/{args.project}/{run_id}\")\n",
    "\n",
    "# # download the files\n",
    "# files = [\n",
    "#     \"scaler.pickle\", \n",
    "#     \"model.pickle\"\n",
    "# ]\n",
    "\n",
    "# for ifile in files:\n",
    "    \n",
    "#     run.file(ifile).download(replace=True)"
   ]
  },
  {
   "cell_type": "code",
   "execution_count": 14,
   "id": "cef597ca-bc1f-4996-b51a-f5deed6c5491",
   "metadata": {},
   "outputs": [],
   "source": [
    "# model = load_object(\"./model.pickle\")\n",
    "# scaler = load_object(\"./scaler.pickle\")"
   ]
  },
  {
   "cell_type": "markdown",
   "id": "450003ae-4943-4704-b6f4-5b7eab4f21ba",
   "metadata": {},
   "source": [
    "### PostProcessing"
   ]
  },
  {
   "cell_type": "code",
   "execution_count": 15,
   "id": "316e79d9-efc8-4707-9c67-e9781e110004",
   "metadata": {},
   "outputs": [
    {
     "data": {
      "text/html": [
       "<div>\n",
       "<style scoped>\n",
       "    .dataframe tbody tr th:only-of-type {\n",
       "        vertical-align: middle;\n",
       "    }\n",
       "\n",
       "    .dataframe tbody tr th {\n",
       "        vertical-align: top;\n",
       "    }\n",
       "\n",
       "    .dataframe thead th {\n",
       "        text-align: right;\n",
       "    }\n",
       "</style>\n",
       "<table border=\"1\" class=\"dataframe\">\n",
       "  <thead>\n",
       "    <tr style=\"text-align: right;\">\n",
       "      <th></th>\n",
       "      <th>longitude</th>\n",
       "      <th>latitude</th>\n",
       "      <th>vtime</th>\n",
       "    </tr>\n",
       "  </thead>\n",
       "  <tbody>\n",
       "    <tr>\n",
       "      <th>count</th>\n",
       "      <td>2664.000000</td>\n",
       "      <td>2664.000000</td>\n",
       "      <td>2664.000000</td>\n",
       "    </tr>\n",
       "    <tr>\n",
       "      <th>mean</th>\n",
       "      <td>300.000000</td>\n",
       "      <td>38.000000</td>\n",
       "      <td>213.500000</td>\n",
       "    </tr>\n",
       "    <tr>\n",
       "      <th>std</th>\n",
       "      <td>3.416292</td>\n",
       "      <td>3.416292</td>\n",
       "      <td>106.820098</td>\n",
       "    </tr>\n",
       "    <tr>\n",
       "      <th>min</th>\n",
       "      <td>295.000000</td>\n",
       "      <td>33.000000</td>\n",
       "      <td>31.000000</td>\n",
       "    </tr>\n",
       "    <tr>\n",
       "      <th>25%</th>\n",
       "      <td>297.000000</td>\n",
       "      <td>35.000000</td>\n",
       "      <td>121.000000</td>\n",
       "    </tr>\n",
       "    <tr>\n",
       "      <th>50%</th>\n",
       "      <td>300.000000</td>\n",
       "      <td>38.000000</td>\n",
       "      <td>213.500000</td>\n",
       "    </tr>\n",
       "    <tr>\n",
       "      <th>75%</th>\n",
       "      <td>303.000000</td>\n",
       "      <td>41.000000</td>\n",
       "      <td>306.000000</td>\n",
       "    </tr>\n",
       "    <tr>\n",
       "      <th>max</th>\n",
       "      <td>305.000000</td>\n",
       "      <td>43.000000</td>\n",
       "      <td>396.000000</td>\n",
       "    </tr>\n",
       "  </tbody>\n",
       "</table>\n",
       "</div>"
      ],
      "text/plain": [
       "         longitude     latitude        vtime\n",
       "count  2664.000000  2664.000000  2664.000000\n",
       "mean    300.000000    38.000000   213.500000\n",
       "std       3.416292     3.416292   106.820098\n",
       "min     295.000000    33.000000    31.000000\n",
       "25%     297.000000    35.000000   121.000000\n",
       "50%     300.000000    38.000000   213.500000\n",
       "75%     303.000000    41.000000   306.000000\n",
       "max     305.000000    43.000000   396.000000"
      ]
     },
     "execution_count": 15,
     "metadata": {},
     "output_type": "execute_result"
    }
   ],
   "source": [
    "df_grid = generate_eval_data(args)\n",
    "\n",
    "df_grid.describe()"
   ]
  },
  {
   "cell_type": "code",
   "execution_count": 16,
   "id": "d4d296bb-b91d-4993-b0ee-bff91208b6e9",
   "metadata": {},
   "outputs": [
    {
     "data": {
      "text/plain": [
       "(          longitude     latitude         time        vtime\n",
       " count  2.664000e+03  2664.000000  2664.000000  2664.000000\n",
       " mean  -2.666668e-07     0.000003     0.002343   213.500000\n",
       " std    2.277529e-01     0.227754     0.501610   106.820098\n",
       " min   -3.333338e-01    -0.333332    -0.854648    31.000000\n",
       " 25%   -2.000004e-01    -0.199998    -0.432022   121.000000\n",
       " 50%   -2.666668e-07     0.000003     0.002343   213.500000\n",
       " 75%    1.999999e-01     0.200003     0.436709   306.000000\n",
       " max    3.333333e-01     0.333337     0.859335   396.000000,\n",
       "          longitude     latitude        vtime\n",
       " count  2664.000000  2664.000000  2664.000000\n",
       " mean    300.000000    38.000000   213.500000\n",
       " std       3.416292     3.416292   106.820098\n",
       " min     295.000000    33.000000    31.000000\n",
       " 25%     297.000000    35.000000   121.000000\n",
       " 50%     300.000000    38.000000   213.500000\n",
       " 75%     303.000000    41.000000   306.000000\n",
       " max     305.000000    43.000000   396.000000)"
      ]
     },
     "execution_count": 16,
     "metadata": {},
     "output_type": "execute_result"
    }
   ],
   "source": [
    "df_pred = feature_transform(df_grid.copy(), args, scaler=scaler)\n",
    "df_pred.describe(), df_grid.describe()"
   ]
  },
  {
   "cell_type": "code",
   "execution_count": 17,
   "id": "8eb60b56-b570-42dd-82f7-77d92d2fe3a0",
   "metadata": {},
   "outputs": [],
   "source": [
    "df_pred = jnp.asarray(df_pred[df_pred.columns.difference([\"time\"])].values)"
   ]
  },
  {
   "cell_type": "code",
   "execution_count": 18,
   "id": "665740c1-03cb-49ea-8ce1-22db16a85b84",
   "metadata": {},
   "outputs": [],
   "source": [
    "wandb.config.update(\n",
    "    {\n",
    "        \"n_test\": df_pred.shape[0],\n",
    "    }\n",
    ")"
   ]
  },
  {
   "cell_type": "markdown",
   "id": "b1224ed1-2071-47a2-abe6-df2767580fc4",
   "metadata": {},
   "source": [
    "### Predictions\n"
   ]
  },
  {
   "cell_type": "code",
   "execution_count": 19,
   "id": "2abeed1c-76f0-4f4f-a54a-fecef4cf0981",
   "metadata": {},
   "outputs": [],
   "source": [
    "@jax.jit\n",
    "def pred_step(model, data):\n",
    "    return jax.vmap(model)(data)"
   ]
  },
  {
   "cell_type": "code",
   "execution_count": 20,
   "id": "54c2ef06-b427-448f-87b7-28d8f33cd6bc",
   "metadata": {},
   "outputs": [],
   "source": [
    "from ml4ssh._src.model_utils import batch_predict\n",
    "from functools import partial\n",
    "import time"
   ]
  },
  {
   "cell_type": "code",
   "execution_count": 21,
   "id": "137bdedd-a957-46e7-81e9-19da71bd4aa1",
   "metadata": {},
   "outputs": [
    {
     "data": {
      "text/plain": [
       "10000"
      ]
     },
     "execution_count": 21,
     "metadata": {},
     "output_type": "execute_result"
    }
   ],
   "source": [
    "args.eval_batch_size"
   ]
  },
  {
   "cell_type": "code",
   "execution_count": 22,
   "id": "02fd8a42-3bc2-4d1f-bc00-19801a1b92e7",
   "metadata": {},
   "outputs": [
    {
     "name": "stderr",
     "output_type": "stream",
     "text": [
      "100%|██████████| 27/27 [00:00<00:00, 46.36it/s]\n"
     ]
    }
   ],
   "source": [
    "\n",
    "\n",
    "fn = partial(pred_step, model)\n",
    "\n",
    "t0 = time.time()\n",
    "df_grid[\"pred\"] = batch_predict(\n",
    "    df_pred, \n",
    "    fn, \n",
    "    100, #args.eval_batch_size, \n",
    "    jnp.asarray\n",
    ")\n",
    "t1 = time.time() - t0"
   ]
  },
  {
   "cell_type": "code",
   "execution_count": 23,
   "id": "3888b407-18b4-4827-99ee-bed6ff447912",
   "metadata": {},
   "outputs": [],
   "source": [
    "# wandb.config.update(\n",
    "#     {\n",
    "#         \"time_predict_batches\": t1,\n",
    "#     }\n",
    "# )"
   ]
  },
  {
   "cell_type": "code",
   "execution_count": 24,
   "id": "11412828-7bd7-4c9c-aaf9-3b638d638313",
   "metadata": {},
   "outputs": [
    {
     "name": "stderr",
     "output_type": "stream",
     "text": [
      "/home/johnsonj/miniconda3/envs/jax_cpu_py39/lib/python3.9/site-packages/xarray/core/missing.py:562: FutureWarning: Passing method to Float64Index.get_loc is deprecated and will raise in a future version. Use index.get_indexer([item], method=...) instead.\n",
      "  imin = index.get_loc(minval, method=\"nearest\")\n",
      "/home/johnsonj/miniconda3/envs/jax_cpu_py39/lib/python3.9/site-packages/xarray/core/missing.py:563: FutureWarning: Passing method to Float64Index.get_loc is deprecated and will raise in a future version. Use index.get_indexer([item], method=...) instead.\n",
      "  imax = index.get_loc(maxval, method=\"nearest\")\n",
      "/home/johnsonj/miniconda3/envs/jax_cpu_py39/lib/python3.9/site-packages/xarray/core/missing.py:562: FutureWarning: Passing method to Float64Index.get_loc is deprecated and will raise in a future version. Use index.get_indexer([item], method=...) instead.\n",
      "  imin = index.get_loc(minval, method=\"nearest\")\n",
      "/home/johnsonj/miniconda3/envs/jax_cpu_py39/lib/python3.9/site-packages/xarray/core/missing.py:563: FutureWarning: Passing method to Float64Index.get_loc is deprecated and will raise in a future version. Use index.get_indexer([item], method=...) instead.\n",
      "  imax = index.get_loc(maxval, method=\"nearest\")\n"
     ]
    }
   ],
   "source": [
    "ds_oi = postprocess_data(df_grid, args)"
   ]
  },
  {
   "cell_type": "code",
   "execution_count": 25,
   "id": "974dab93-a32b-4fa7-82f8-dc6fcffbc68a",
   "metadata": {},
   "outputs": [
    {
     "data": {
      "text/html": [
       "<div><svg style=\"position: absolute; width: 0; height: 0; overflow: hidden\">\n",
       "<defs>\n",
       "<symbol id=\"icon-database\" viewBox=\"0 0 32 32\">\n",
       "<path d=\"M16 0c-8.837 0-16 2.239-16 5v4c0 2.761 7.163 5 16 5s16-2.239 16-5v-4c0-2.761-7.163-5-16-5z\"></path>\n",
       "<path d=\"M16 17c-8.837 0-16-2.239-16-5v6c0 2.761 7.163 5 16 5s16-2.239 16-5v-6c0 2.761-7.163 5-16 5z\"></path>\n",
       "<path d=\"M16 26c-8.837 0-16-2.239-16-5v6c0 2.761 7.163 5 16 5s16-2.239 16-5v-6c0 2.761-7.163 5-16 5z\"></path>\n",
       "</symbol>\n",
       "<symbol id=\"icon-file-text2\" viewBox=\"0 0 32 32\">\n",
       "<path d=\"M28.681 7.159c-0.694-0.947-1.662-2.053-2.724-3.116s-2.169-2.030-3.116-2.724c-1.612-1.182-2.393-1.319-2.841-1.319h-15.5c-1.378 0-2.5 1.121-2.5 2.5v27c0 1.378 1.122 2.5 2.5 2.5h23c1.378 0 2.5-1.122 2.5-2.5v-19.5c0-0.448-0.137-1.23-1.319-2.841zM24.543 5.457c0.959 0.959 1.712 1.825 2.268 2.543h-4.811v-4.811c0.718 0.556 1.584 1.309 2.543 2.268zM28 29.5c0 0.271-0.229 0.5-0.5 0.5h-23c-0.271 0-0.5-0.229-0.5-0.5v-27c0-0.271 0.229-0.5 0.5-0.5 0 0 15.499-0 15.5 0v7c0 0.552 0.448 1 1 1h7v19.5z\"></path>\n",
       "<path d=\"M23 26h-14c-0.552 0-1-0.448-1-1s0.448-1 1-1h14c0.552 0 1 0.448 1 1s-0.448 1-1 1z\"></path>\n",
       "<path d=\"M23 22h-14c-0.552 0-1-0.448-1-1s0.448-1 1-1h14c0.552 0 1 0.448 1 1s-0.448 1-1 1z\"></path>\n",
       "<path d=\"M23 18h-14c-0.552 0-1-0.448-1-1s0.448-1 1-1h14c0.552 0 1 0.448 1 1s-0.448 1-1 1z\"></path>\n",
       "</symbol>\n",
       "</defs>\n",
       "</svg>\n",
       "<style>/* CSS stylesheet for displaying xarray objects in jupyterlab.\n",
       " *\n",
       " */\n",
       "\n",
       ":root {\n",
       "  --xr-font-color0: var(--jp-content-font-color0, rgba(0, 0, 0, 1));\n",
       "  --xr-font-color2: var(--jp-content-font-color2, rgba(0, 0, 0, 0.54));\n",
       "  --xr-font-color3: var(--jp-content-font-color3, rgba(0, 0, 0, 0.38));\n",
       "  --xr-border-color: var(--jp-border-color2, #e0e0e0);\n",
       "  --xr-disabled-color: var(--jp-layout-color3, #bdbdbd);\n",
       "  --xr-background-color: var(--jp-layout-color0, white);\n",
       "  --xr-background-color-row-even: var(--jp-layout-color1, white);\n",
       "  --xr-background-color-row-odd: var(--jp-layout-color2, #eeeeee);\n",
       "}\n",
       "\n",
       "html[theme=dark],\n",
       "body.vscode-dark {\n",
       "  --xr-font-color0: rgba(255, 255, 255, 1);\n",
       "  --xr-font-color2: rgba(255, 255, 255, 0.54);\n",
       "  --xr-font-color3: rgba(255, 255, 255, 0.38);\n",
       "  --xr-border-color: #1F1F1F;\n",
       "  --xr-disabled-color: #515151;\n",
       "  --xr-background-color: #111111;\n",
       "  --xr-background-color-row-even: #111111;\n",
       "  --xr-background-color-row-odd: #313131;\n",
       "}\n",
       "\n",
       ".xr-wrap {\n",
       "  display: block;\n",
       "  min-width: 300px;\n",
       "  max-width: 700px;\n",
       "}\n",
       "\n",
       ".xr-text-repr-fallback {\n",
       "  /* fallback to plain text repr when CSS is not injected (untrusted notebook) */\n",
       "  display: none;\n",
       "}\n",
       "\n",
       ".xr-header {\n",
       "  padding-top: 6px;\n",
       "  padding-bottom: 6px;\n",
       "  margin-bottom: 4px;\n",
       "  border-bottom: solid 1px var(--xr-border-color);\n",
       "}\n",
       "\n",
       ".xr-header > div,\n",
       ".xr-header > ul {\n",
       "  display: inline;\n",
       "  margin-top: 0;\n",
       "  margin-bottom: 0;\n",
       "}\n",
       "\n",
       ".xr-obj-type,\n",
       ".xr-array-name {\n",
       "  margin-left: 2px;\n",
       "  margin-right: 10px;\n",
       "}\n",
       "\n",
       ".xr-obj-type {\n",
       "  color: var(--xr-font-color2);\n",
       "}\n",
       "\n",
       ".xr-sections {\n",
       "  padding-left: 0 !important;\n",
       "  display: grid;\n",
       "  grid-template-columns: 150px auto auto 1fr 20px 20px;\n",
       "}\n",
       "\n",
       ".xr-section-item {\n",
       "  display: contents;\n",
       "}\n",
       "\n",
       ".xr-section-item input {\n",
       "  display: none;\n",
       "}\n",
       "\n",
       ".xr-section-item input + label {\n",
       "  color: var(--xr-disabled-color);\n",
       "}\n",
       "\n",
       ".xr-section-item input:enabled + label {\n",
       "  cursor: pointer;\n",
       "  color: var(--xr-font-color2);\n",
       "}\n",
       "\n",
       ".xr-section-item input:enabled + label:hover {\n",
       "  color: var(--xr-font-color0);\n",
       "}\n",
       "\n",
       ".xr-section-summary {\n",
       "  grid-column: 1;\n",
       "  color: var(--xr-font-color2);\n",
       "  font-weight: 500;\n",
       "}\n",
       "\n",
       ".xr-section-summary > span {\n",
       "  display: inline-block;\n",
       "  padding-left: 0.5em;\n",
       "}\n",
       "\n",
       ".xr-section-summary-in:disabled + label {\n",
       "  color: var(--xr-font-color2);\n",
       "}\n",
       "\n",
       ".xr-section-summary-in + label:before {\n",
       "  display: inline-block;\n",
       "  content: '►';\n",
       "  font-size: 11px;\n",
       "  width: 15px;\n",
       "  text-align: center;\n",
       "}\n",
       "\n",
       ".xr-section-summary-in:disabled + label:before {\n",
       "  color: var(--xr-disabled-color);\n",
       "}\n",
       "\n",
       ".xr-section-summary-in:checked + label:before {\n",
       "  content: '▼';\n",
       "}\n",
       "\n",
       ".xr-section-summary-in:checked + label > span {\n",
       "  display: none;\n",
       "}\n",
       "\n",
       ".xr-section-summary,\n",
       ".xr-section-inline-details {\n",
       "  padding-top: 4px;\n",
       "  padding-bottom: 4px;\n",
       "}\n",
       "\n",
       ".xr-section-inline-details {\n",
       "  grid-column: 2 / -1;\n",
       "}\n",
       "\n",
       ".xr-section-details {\n",
       "  display: none;\n",
       "  grid-column: 1 / -1;\n",
       "  margin-bottom: 5px;\n",
       "}\n",
       "\n",
       ".xr-section-summary-in:checked ~ .xr-section-details {\n",
       "  display: contents;\n",
       "}\n",
       "\n",
       ".xr-array-wrap {\n",
       "  grid-column: 1 / -1;\n",
       "  display: grid;\n",
       "  grid-template-columns: 20px auto;\n",
       "}\n",
       "\n",
       ".xr-array-wrap > label {\n",
       "  grid-column: 1;\n",
       "  vertical-align: top;\n",
       "}\n",
       "\n",
       ".xr-preview {\n",
       "  color: var(--xr-font-color3);\n",
       "}\n",
       "\n",
       ".xr-array-preview,\n",
       ".xr-array-data {\n",
       "  padding: 0 5px !important;\n",
       "  grid-column: 2;\n",
       "}\n",
       "\n",
       ".xr-array-data,\n",
       ".xr-array-in:checked ~ .xr-array-preview {\n",
       "  display: none;\n",
       "}\n",
       "\n",
       ".xr-array-in:checked ~ .xr-array-data,\n",
       ".xr-array-preview {\n",
       "  display: inline-block;\n",
       "}\n",
       "\n",
       ".xr-dim-list {\n",
       "  display: inline-block !important;\n",
       "  list-style: none;\n",
       "  padding: 0 !important;\n",
       "  margin: 0;\n",
       "}\n",
       "\n",
       ".xr-dim-list li {\n",
       "  display: inline-block;\n",
       "  padding: 0;\n",
       "  margin: 0;\n",
       "}\n",
       "\n",
       ".xr-dim-list:before {\n",
       "  content: '(';\n",
       "}\n",
       "\n",
       ".xr-dim-list:after {\n",
       "  content: ')';\n",
       "}\n",
       "\n",
       ".xr-dim-list li:not(:last-child):after {\n",
       "  content: ',';\n",
       "  padding-right: 5px;\n",
       "}\n",
       "\n",
       ".xr-has-index {\n",
       "  font-weight: bold;\n",
       "}\n",
       "\n",
       ".xr-var-list,\n",
       ".xr-var-item {\n",
       "  display: contents;\n",
       "}\n",
       "\n",
       ".xr-var-item > div,\n",
       ".xr-var-item label,\n",
       ".xr-var-item > .xr-var-name span {\n",
       "  background-color: var(--xr-background-color-row-even);\n",
       "  margin-bottom: 0;\n",
       "}\n",
       "\n",
       ".xr-var-item > .xr-var-name:hover span {\n",
       "  padding-right: 5px;\n",
       "}\n",
       "\n",
       ".xr-var-list > li:nth-child(odd) > div,\n",
       ".xr-var-list > li:nth-child(odd) > label,\n",
       ".xr-var-list > li:nth-child(odd) > .xr-var-name span {\n",
       "  background-color: var(--xr-background-color-row-odd);\n",
       "}\n",
       "\n",
       ".xr-var-name {\n",
       "  grid-column: 1;\n",
       "}\n",
       "\n",
       ".xr-var-dims {\n",
       "  grid-column: 2;\n",
       "}\n",
       "\n",
       ".xr-var-dtype {\n",
       "  grid-column: 3;\n",
       "  text-align: right;\n",
       "  color: var(--xr-font-color2);\n",
       "}\n",
       "\n",
       ".xr-var-preview {\n",
       "  grid-column: 4;\n",
       "}\n",
       "\n",
       ".xr-var-name,\n",
       ".xr-var-dims,\n",
       ".xr-var-dtype,\n",
       ".xr-preview,\n",
       ".xr-attrs dt {\n",
       "  white-space: nowrap;\n",
       "  overflow: hidden;\n",
       "  text-overflow: ellipsis;\n",
       "  padding-right: 10px;\n",
       "}\n",
       "\n",
       ".xr-var-name:hover,\n",
       ".xr-var-dims:hover,\n",
       ".xr-var-dtype:hover,\n",
       ".xr-attrs dt:hover {\n",
       "  overflow: visible;\n",
       "  width: auto;\n",
       "  z-index: 1;\n",
       "}\n",
       "\n",
       ".xr-var-attrs,\n",
       ".xr-var-data {\n",
       "  display: none;\n",
       "  background-color: var(--xr-background-color) !important;\n",
       "  padding-bottom: 5px !important;\n",
       "}\n",
       "\n",
       ".xr-var-attrs-in:checked ~ .xr-var-attrs,\n",
       ".xr-var-data-in:checked ~ .xr-var-data {\n",
       "  display: block;\n",
       "}\n",
       "\n",
       ".xr-var-data > table {\n",
       "  float: right;\n",
       "}\n",
       "\n",
       ".xr-var-name span,\n",
       ".xr-var-data,\n",
       ".xr-attrs {\n",
       "  padding-left: 25px !important;\n",
       "}\n",
       "\n",
       ".xr-attrs,\n",
       ".xr-var-attrs,\n",
       ".xr-var-data {\n",
       "  grid-column: 1 / -1;\n",
       "}\n",
       "\n",
       "dl.xr-attrs {\n",
       "  padding: 0;\n",
       "  margin: 0;\n",
       "  display: grid;\n",
       "  grid-template-columns: 125px auto;\n",
       "}\n",
       "\n",
       ".xr-attrs dt,\n",
       ".xr-attrs dd {\n",
       "  padding: 0;\n",
       "  margin: 0;\n",
       "  float: left;\n",
       "  padding-right: 10px;\n",
       "  width: auto;\n",
       "}\n",
       "\n",
       ".xr-attrs dt {\n",
       "  font-weight: normal;\n",
       "  grid-column: 1;\n",
       "}\n",
       "\n",
       ".xr-attrs dt:hover span {\n",
       "  display: inline-block;\n",
       "  background: var(--xr-background-color);\n",
       "  padding-right: 10px;\n",
       "}\n",
       "\n",
       ".xr-attrs dd {\n",
       "  grid-column: 2;\n",
       "  white-space: pre-wrap;\n",
       "  word-break: break-all;\n",
       "}\n",
       "\n",
       ".xr-icon-database,\n",
       ".xr-icon-file-text2 {\n",
       "  display: inline-block;\n",
       "  vertical-align: middle;\n",
       "  width: 1em;\n",
       "  height: 1.5em !important;\n",
       "  stroke-width: 0;\n",
       "  stroke: currentColor;\n",
       "  fill: currentColor;\n",
       "}\n",
       "</style><pre class='xr-text-repr-fallback'>&lt;xarray.Dataset&gt;\n",
       "Dimensions:    (latitude: 6, longitude: 6, time: 74)\n",
       "Coordinates:\n",
       "  * latitude   (latitude) float64 33.0 35.0 37.0 39.0 41.0 43.0\n",
       "  * longitude  (longitude) float64 295.0 297.0 299.0 301.0 303.0 305.0\n",
       "  * time       (time) datetime64[ns] 2017-01-01 2017-01-06 ... 2018-01-01\n",
       "Data variables:\n",
       "    index      (latitude, longitude, time) int64 0 1 2 3 ... 2660 2661 2662 2663\n",
       "    vtime      (latitude, longitude, time) float64 31.0 36.0 ... 391.0 396.0\n",
       "    pred       (latitude, longitude, time) float32 0.09012 0.09249 ... 0.15\n",
       "    ssh        (latitude, longitude, time) float64 0.6898 0.6922 ... -0.02144</pre><div class='xr-wrap' hidden><div class='xr-header'><div class='xr-obj-type'>xarray.Dataset</div></div><ul class='xr-sections'><li class='xr-section-item'><input id='section-6644263b-73d9-4cc8-a852-9c9986e63148' class='xr-section-summary-in' type='checkbox' disabled ><label for='section-6644263b-73d9-4cc8-a852-9c9986e63148' class='xr-section-summary'  title='Expand/collapse section'>Dimensions:</label><div class='xr-section-inline-details'><ul class='xr-dim-list'><li><span class='xr-has-index'>latitude</span>: 6</li><li><span class='xr-has-index'>longitude</span>: 6</li><li><span class='xr-has-index'>time</span>: 74</li></ul></div><div class='xr-section-details'></div></li><li class='xr-section-item'><input id='section-58f7f7bc-1551-4430-9ed5-b981c939433a' class='xr-section-summary-in' type='checkbox'  checked><label for='section-58f7f7bc-1551-4430-9ed5-b981c939433a' class='xr-section-summary' >Coordinates: <span>(3)</span></label><div class='xr-section-inline-details'></div><div class='xr-section-details'><ul class='xr-var-list'><li class='xr-var-item'><div class='xr-var-name'><span class='xr-has-index'>latitude</span></div><div class='xr-var-dims'>(latitude)</div><div class='xr-var-dtype'>float64</div><div class='xr-var-preview xr-preview'>33.0 35.0 37.0 39.0 41.0 43.0</div><input id='attrs-4085a875-20f6-42ec-8666-02b9a0635456' class='xr-var-attrs-in' type='checkbox' disabled><label for='attrs-4085a875-20f6-42ec-8666-02b9a0635456' title='Show/Hide attributes'><svg class='icon xr-icon-file-text2'><use xlink:href='#icon-file-text2'></use></svg></label><input id='data-692d02ca-84d7-4f03-931b-af730b9cde34' class='xr-var-data-in' type='checkbox'><label for='data-692d02ca-84d7-4f03-931b-af730b9cde34' title='Show/Hide data repr'><svg class='icon xr-icon-database'><use xlink:href='#icon-database'></use></svg></label><div class='xr-var-attrs'><dl class='xr-attrs'></dl></div><div class='xr-var-data'><pre>array([33., 35., 37., 39., 41., 43.])</pre></div></li><li class='xr-var-item'><div class='xr-var-name'><span class='xr-has-index'>longitude</span></div><div class='xr-var-dims'>(longitude)</div><div class='xr-var-dtype'>float64</div><div class='xr-var-preview xr-preview'>295.0 297.0 299.0 301.0 303.0 305.0</div><input id='attrs-62dd3f29-db99-4fa8-a8b3-1840888d5f19' class='xr-var-attrs-in' type='checkbox' disabled><label for='attrs-62dd3f29-db99-4fa8-a8b3-1840888d5f19' title='Show/Hide attributes'><svg class='icon xr-icon-file-text2'><use xlink:href='#icon-file-text2'></use></svg></label><input id='data-29181041-8258-46e9-8dbe-0c3820e2a766' class='xr-var-data-in' type='checkbox'><label for='data-29181041-8258-46e9-8dbe-0c3820e2a766' title='Show/Hide data repr'><svg class='icon xr-icon-database'><use xlink:href='#icon-database'></use></svg></label><div class='xr-var-attrs'><dl class='xr-attrs'></dl></div><div class='xr-var-data'><pre>array([295., 297., 299., 301., 303., 305.])</pre></div></li><li class='xr-var-item'><div class='xr-var-name'><span class='xr-has-index'>time</span></div><div class='xr-var-dims'>(time)</div><div class='xr-var-dtype'>datetime64[ns]</div><div class='xr-var-preview xr-preview'>2017-01-01 ... 2018-01-01</div><input id='attrs-7f1082cd-c2a3-42f1-ab4a-b0154a267f75' class='xr-var-attrs-in' type='checkbox' disabled><label for='attrs-7f1082cd-c2a3-42f1-ab4a-b0154a267f75' title='Show/Hide attributes'><svg class='icon xr-icon-file-text2'><use xlink:href='#icon-file-text2'></use></svg></label><input id='data-583e21b3-ee2b-4406-b35d-99fd02937a0c' class='xr-var-data-in' type='checkbox'><label for='data-583e21b3-ee2b-4406-b35d-99fd02937a0c' title='Show/Hide data repr'><svg class='icon xr-icon-database'><use xlink:href='#icon-database'></use></svg></label><div class='xr-var-attrs'><dl class='xr-attrs'></dl></div><div class='xr-var-data'><pre>array([&#x27;2017-01-01T00:00:00.000000000&#x27;, &#x27;2017-01-06T00:00:00.000000000&#x27;,\n",
       "       &#x27;2017-01-11T00:00:00.000000000&#x27;, &#x27;2017-01-16T00:00:00.000000000&#x27;,\n",
       "       &#x27;2017-01-21T00:00:00.000000000&#x27;, &#x27;2017-01-26T00:00:00.000000000&#x27;,\n",
       "       &#x27;2017-01-31T00:00:00.000000000&#x27;, &#x27;2017-02-05T00:00:00.000000000&#x27;,\n",
       "       &#x27;2017-02-10T00:00:00.000000000&#x27;, &#x27;2017-02-15T00:00:00.000000000&#x27;,\n",
       "       &#x27;2017-02-20T00:00:00.000000000&#x27;, &#x27;2017-02-25T00:00:00.000000000&#x27;,\n",
       "       &#x27;2017-03-02T00:00:00.000000000&#x27;, &#x27;2017-03-07T00:00:00.000000000&#x27;,\n",
       "       &#x27;2017-03-12T00:00:00.000000000&#x27;, &#x27;2017-03-17T00:00:00.000000000&#x27;,\n",
       "       &#x27;2017-03-22T00:00:00.000000000&#x27;, &#x27;2017-03-27T00:00:00.000000000&#x27;,\n",
       "       &#x27;2017-04-01T00:00:00.000000000&#x27;, &#x27;2017-04-06T00:00:00.000000000&#x27;,\n",
       "       &#x27;2017-04-11T00:00:00.000000000&#x27;, &#x27;2017-04-16T00:00:00.000000000&#x27;,\n",
       "       &#x27;2017-04-21T00:00:00.000000000&#x27;, &#x27;2017-04-26T00:00:00.000000000&#x27;,\n",
       "       &#x27;2017-05-01T00:00:00.000000000&#x27;, &#x27;2017-05-06T00:00:00.000000000&#x27;,\n",
       "       &#x27;2017-05-11T00:00:00.000000000&#x27;, &#x27;2017-05-16T00:00:00.000000000&#x27;,\n",
       "       &#x27;2017-05-21T00:00:00.000000000&#x27;, &#x27;2017-05-26T00:00:00.000000000&#x27;,\n",
       "       &#x27;2017-05-31T00:00:00.000000000&#x27;, &#x27;2017-06-05T00:00:00.000000000&#x27;,\n",
       "       &#x27;2017-06-10T00:00:00.000000000&#x27;, &#x27;2017-06-15T00:00:00.000000000&#x27;,\n",
       "       &#x27;2017-06-20T00:00:00.000000000&#x27;, &#x27;2017-06-25T00:00:00.000000000&#x27;,\n",
       "       &#x27;2017-06-30T00:00:00.000000000&#x27;, &#x27;2017-07-05T00:00:00.000000000&#x27;,\n",
       "       &#x27;2017-07-10T00:00:00.000000000&#x27;, &#x27;2017-07-15T00:00:00.000000000&#x27;,\n",
       "       &#x27;2017-07-20T00:00:00.000000000&#x27;, &#x27;2017-07-25T00:00:00.000000000&#x27;,\n",
       "       &#x27;2017-07-30T00:00:00.000000000&#x27;, &#x27;2017-08-04T00:00:00.000000000&#x27;,\n",
       "       &#x27;2017-08-09T00:00:00.000000000&#x27;, &#x27;2017-08-14T00:00:00.000000000&#x27;,\n",
       "       &#x27;2017-08-19T00:00:00.000000000&#x27;, &#x27;2017-08-24T00:00:00.000000000&#x27;,\n",
       "       &#x27;2017-08-29T00:00:00.000000000&#x27;, &#x27;2017-09-03T00:00:00.000000000&#x27;,\n",
       "       &#x27;2017-09-08T00:00:00.000000000&#x27;, &#x27;2017-09-13T00:00:00.000000000&#x27;,\n",
       "       &#x27;2017-09-18T00:00:00.000000000&#x27;, &#x27;2017-09-23T00:00:00.000000000&#x27;,\n",
       "       &#x27;2017-09-28T00:00:00.000000000&#x27;, &#x27;2017-10-03T00:00:00.000000000&#x27;,\n",
       "       &#x27;2017-10-08T00:00:00.000000000&#x27;, &#x27;2017-10-13T00:00:00.000000000&#x27;,\n",
       "       &#x27;2017-10-18T00:00:00.000000000&#x27;, &#x27;2017-10-23T00:00:00.000000000&#x27;,\n",
       "       &#x27;2017-10-28T00:00:00.000000000&#x27;, &#x27;2017-11-02T00:00:00.000000000&#x27;,\n",
       "       &#x27;2017-11-07T00:00:00.000000000&#x27;, &#x27;2017-11-12T00:00:00.000000000&#x27;,\n",
       "       &#x27;2017-11-17T00:00:00.000000000&#x27;, &#x27;2017-11-22T00:00:00.000000000&#x27;,\n",
       "       &#x27;2017-11-27T00:00:00.000000000&#x27;, &#x27;2017-12-02T00:00:00.000000000&#x27;,\n",
       "       &#x27;2017-12-07T00:00:00.000000000&#x27;, &#x27;2017-12-12T00:00:00.000000000&#x27;,\n",
       "       &#x27;2017-12-17T00:00:00.000000000&#x27;, &#x27;2017-12-22T00:00:00.000000000&#x27;,\n",
       "       &#x27;2017-12-27T00:00:00.000000000&#x27;, &#x27;2018-01-01T00:00:00.000000000&#x27;],\n",
       "      dtype=&#x27;datetime64[ns]&#x27;)</pre></div></li></ul></div></li><li class='xr-section-item'><input id='section-955b8c79-7279-41ff-ad6c-d28f16fd9817' class='xr-section-summary-in' type='checkbox'  checked><label for='section-955b8c79-7279-41ff-ad6c-d28f16fd9817' class='xr-section-summary' >Data variables: <span>(4)</span></label><div class='xr-section-inline-details'></div><div class='xr-section-details'><ul class='xr-var-list'><li class='xr-var-item'><div class='xr-var-name'><span>index</span></div><div class='xr-var-dims'>(latitude, longitude, time)</div><div class='xr-var-dtype'>int64</div><div class='xr-var-preview xr-preview'>0 1 2 3 4 ... 2660 2661 2662 2663</div><input id='attrs-fbc2ef9e-452b-482a-8260-d1f343352258' class='xr-var-attrs-in' type='checkbox' disabled><label for='attrs-fbc2ef9e-452b-482a-8260-d1f343352258' title='Show/Hide attributes'><svg class='icon xr-icon-file-text2'><use xlink:href='#icon-file-text2'></use></svg></label><input id='data-7ae437f3-8f29-4795-aa54-c4f9655f838e' class='xr-var-data-in' type='checkbox'><label for='data-7ae437f3-8f29-4795-aa54-c4f9655f838e' title='Show/Hide data repr'><svg class='icon xr-icon-database'><use xlink:href='#icon-database'></use></svg></label><div class='xr-var-attrs'><dl class='xr-attrs'></dl></div><div class='xr-var-data'><pre>array([[[   0,    1,    2, ...,   71,   72,   73],\n",
       "        [  74,   75,   76, ...,  145,  146,  147],\n",
       "        [ 148,  149,  150, ...,  219,  220,  221],\n",
       "        [ 222,  223,  224, ...,  293,  294,  295],\n",
       "        [ 296,  297,  298, ...,  367,  368,  369],\n",
       "        [ 370,  371,  372, ...,  441,  442,  443]],\n",
       "\n",
       "       [[ 444,  445,  446, ...,  515,  516,  517],\n",
       "        [ 518,  519,  520, ...,  589,  590,  591],\n",
       "        [ 592,  593,  594, ...,  663,  664,  665],\n",
       "        [ 666,  667,  668, ...,  737,  738,  739],\n",
       "        [ 740,  741,  742, ...,  811,  812,  813],\n",
       "        [ 814,  815,  816, ...,  885,  886,  887]],\n",
       "\n",
       "       [[ 888,  889,  890, ...,  959,  960,  961],\n",
       "        [ 962,  963,  964, ..., 1033, 1034, 1035],\n",
       "        [1036, 1037, 1038, ..., 1107, 1108, 1109],\n",
       "        [1110, 1111, 1112, ..., 1181, 1182, 1183],\n",
       "        [1184, 1185, 1186, ..., 1255, 1256, 1257],\n",
       "        [1258, 1259, 1260, ..., 1329, 1330, 1331]],\n",
       "...\n",
       "       [[1332, 1333, 1334, ..., 1403, 1404, 1405],\n",
       "        [1406, 1407, 1408, ..., 1477, 1478, 1479],\n",
       "        [1480, 1481, 1482, ..., 1551, 1552, 1553],\n",
       "        [1554, 1555, 1556, ..., 1625, 1626, 1627],\n",
       "        [1628, 1629, 1630, ..., 1699, 1700, 1701],\n",
       "        [1702, 1703, 1704, ..., 1773, 1774, 1775]],\n",
       "\n",
       "       [[1776, 1777, 1778, ..., 1847, 1848, 1849],\n",
       "        [1850, 1851, 1852, ..., 1921, 1922, 1923],\n",
       "        [1924, 1925, 1926, ..., 1995, 1996, 1997],\n",
       "        [1998, 1999, 2000, ..., 2069, 2070, 2071],\n",
       "        [2072, 2073, 2074, ..., 2143, 2144, 2145],\n",
       "        [2146, 2147, 2148, ..., 2217, 2218, 2219]],\n",
       "\n",
       "       [[2220, 2221, 2222, ..., 2291, 2292, 2293],\n",
       "        [2294, 2295, 2296, ..., 2365, 2366, 2367],\n",
       "        [2368, 2369, 2370, ..., 2439, 2440, 2441],\n",
       "        [2442, 2443, 2444, ..., 2513, 2514, 2515],\n",
       "        [2516, 2517, 2518, ..., 2587, 2588, 2589],\n",
       "        [2590, 2591, 2592, ..., 2661, 2662, 2663]]])</pre></div></li><li class='xr-var-item'><div class='xr-var-name'><span>vtime</span></div><div class='xr-var-dims'>(latitude, longitude, time)</div><div class='xr-var-dtype'>float64</div><div class='xr-var-preview xr-preview'>31.0 36.0 41.0 ... 391.0 396.0</div><input id='attrs-cb21fe1f-98ec-4794-95f6-6546c65e1b46' class='xr-var-attrs-in' type='checkbox' disabled><label for='attrs-cb21fe1f-98ec-4794-95f6-6546c65e1b46' title='Show/Hide attributes'><svg class='icon xr-icon-file-text2'><use xlink:href='#icon-file-text2'></use></svg></label><input id='data-b1f018e0-d188-4dba-afd9-2db6fc4e93dd' class='xr-var-data-in' type='checkbox'><label for='data-b1f018e0-d188-4dba-afd9-2db6fc4e93dd' title='Show/Hide data repr'><svg class='icon xr-icon-database'><use xlink:href='#icon-database'></use></svg></label><div class='xr-var-attrs'><dl class='xr-attrs'></dl></div><div class='xr-var-data'><pre>array([[[ 31.,  36.,  41., ..., 386., 391., 396.],\n",
       "        [ 31.,  36.,  41., ..., 386., 391., 396.],\n",
       "        [ 31.,  36.,  41., ..., 386., 391., 396.],\n",
       "        [ 31.,  36.,  41., ..., 386., 391., 396.],\n",
       "        [ 31.,  36.,  41., ..., 386., 391., 396.],\n",
       "        [ 31.,  36.,  41., ..., 386., 391., 396.]],\n",
       "\n",
       "       [[ 31.,  36.,  41., ..., 386., 391., 396.],\n",
       "        [ 31.,  36.,  41., ..., 386., 391., 396.],\n",
       "        [ 31.,  36.,  41., ..., 386., 391., 396.],\n",
       "        [ 31.,  36.,  41., ..., 386., 391., 396.],\n",
       "        [ 31.,  36.,  41., ..., 386., 391., 396.],\n",
       "        [ 31.,  36.,  41., ..., 386., 391., 396.]],\n",
       "\n",
       "       [[ 31.,  36.,  41., ..., 386., 391., 396.],\n",
       "        [ 31.,  36.,  41., ..., 386., 391., 396.],\n",
       "        [ 31.,  36.,  41., ..., 386., 391., 396.],\n",
       "        [ 31.,  36.,  41., ..., 386., 391., 396.],\n",
       "        [ 31.,  36.,  41., ..., 386., 391., 396.],\n",
       "        [ 31.,  36.,  41., ..., 386., 391., 396.]],\n",
       "...\n",
       "       [[ 31.,  36.,  41., ..., 386., 391., 396.],\n",
       "        [ 31.,  36.,  41., ..., 386., 391., 396.],\n",
       "        [ 31.,  36.,  41., ..., 386., 391., 396.],\n",
       "        [ 31.,  36.,  41., ..., 386., 391., 396.],\n",
       "        [ 31.,  36.,  41., ..., 386., 391., 396.],\n",
       "        [ 31.,  36.,  41., ..., 386., 391., 396.]],\n",
       "\n",
       "       [[ 31.,  36.,  41., ..., 386., 391., 396.],\n",
       "        [ 31.,  36.,  41., ..., 386., 391., 396.],\n",
       "        [ 31.,  36.,  41., ..., 386., 391., 396.],\n",
       "        [ 31.,  36.,  41., ..., 386., 391., 396.],\n",
       "        [ 31.,  36.,  41., ..., 386., 391., 396.],\n",
       "        [ 31.,  36.,  41., ..., 386., 391., 396.]],\n",
       "\n",
       "       [[ 31.,  36.,  41., ..., 386., 391., 396.],\n",
       "        [ 31.,  36.,  41., ..., 386., 391., 396.],\n",
       "        [ 31.,  36.,  41., ..., 386., 391., 396.],\n",
       "        [ 31.,  36.,  41., ..., 386., 391., 396.],\n",
       "        [ 31.,  36.,  41., ..., 386., 391., 396.],\n",
       "        [ 31.,  36.,  41., ..., 386., 391., 396.]]])</pre></div></li><li class='xr-var-item'><div class='xr-var-name'><span>pred</span></div><div class='xr-var-dims'>(latitude, longitude, time)</div><div class='xr-var-dtype'>float32</div><div class='xr-var-preview xr-preview'>0.09012 0.09249 ... 0.1498 0.15</div><input id='attrs-54c1dada-f944-4ebe-a66d-44891f7f7412' class='xr-var-attrs-in' type='checkbox' disabled><label for='attrs-54c1dada-f944-4ebe-a66d-44891f7f7412' title='Show/Hide attributes'><svg class='icon xr-icon-file-text2'><use xlink:href='#icon-file-text2'></use></svg></label><input id='data-24e08d0f-3ed9-44d2-91af-2eb7b4b3ecb2' class='xr-var-data-in' type='checkbox'><label for='data-24e08d0f-3ed9-44d2-91af-2eb7b4b3ecb2' title='Show/Hide data repr'><svg class='icon xr-icon-database'><use xlink:href='#icon-database'></use></svg></label><div class='xr-var-attrs'><dl class='xr-attrs'></dl></div><div class='xr-var-data'><pre>array([[[0.09012403, 0.09249294, 0.09477136, ..., 0.14962658,\n",
       "         0.14983737, 0.15004373],\n",
       "        [0.09006481, 0.09243882, 0.09472112, ..., 0.14962423,\n",
       "         0.14983559, 0.15004224],\n",
       "        [0.0900056 , 0.09238454, 0.09467053, ..., 0.14962208,\n",
       "         0.14983368, 0.15004084],\n",
       "        [0.08994642, 0.09233017, 0.09461979, ..., 0.14961967,\n",
       "         0.14983183, 0.15003935],\n",
       "        [0.08988713, 0.09227542, 0.09456863, ..., 0.14961737,\n",
       "         0.14982983, 0.1500378 ],\n",
       "        [0.08982769, 0.09222058, 0.09451734, ..., 0.14961496,\n",
       "         0.14982784, 0.15003616]],\n",
       "\n",
       "       [[0.09008124, 0.09245177, 0.09473191, ..., 0.14962274,\n",
       "         0.14983359, 0.15003979],\n",
       "        [0.09002216, 0.09239768, 0.09468159, ..., 0.14962032,\n",
       "         0.14983177, 0.15003845],\n",
       "        [0.08996304, 0.09234341, 0.09463108, ..., 0.14961812,\n",
       "         0.14982986, 0.15003696],\n",
       "        [0.08990392, 0.09228897, 0.09458021, ..., 0.14961576,\n",
       "...\n",
       "         0.1498181 , 0.15002537],\n",
       "        [0.08977923, 0.09216754, 0.09446301, ..., 0.14960364,\n",
       "         0.14981613, 0.15002373],\n",
       "        [0.08972027, 0.09211297, 0.09441181, ..., 0.14960131,\n",
       "         0.1498141 , 0.15002224],\n",
       "        [0.08966118, 0.09205813, 0.09436043, ..., 0.14959878,\n",
       "         0.1498119 , 0.15002039]],\n",
       "\n",
       "       [[0.08991414, 0.09228977, 0.09457618, ..., 0.14960662,\n",
       "         0.14981788, 0.15002438],\n",
       "        [0.08985556, 0.09223589, 0.09452589, ..., 0.1496045 ,\n",
       "         0.14981598, 0.1500229 ],\n",
       "        [0.08979706, 0.0921819 , 0.09447534, ..., 0.14960194,\n",
       "         0.14981413, 0.1500214 ],\n",
       "        [0.08973835, 0.09212767, 0.09442449, ..., 0.14959964,\n",
       "         0.14981201, 0.15001985],\n",
       "        [0.08967955, 0.09207318, 0.09437327, ..., 0.14959726,\n",
       "         0.14980999, 0.15001836],\n",
       "        [0.08962065, 0.09201833, 0.09432174, ..., 0.14959481,\n",
       "         0.14980802, 0.15001655]]], dtype=float32)</pre></div></li><li class='xr-var-item'><div class='xr-var-name'><span>ssh</span></div><div class='xr-var-dims'>(latitude, longitude, time)</div><div class='xr-var-dtype'>float64</div><div class='xr-var-preview xr-preview'>0.6898 0.6922 ... -0.02165 -0.02144</div><input id='attrs-ff785406-1aa8-487f-b55b-0cb30f88788c' class='xr-var-attrs-in' type='checkbox' disabled><label for='attrs-ff785406-1aa8-487f-b55b-0cb30f88788c' title='Show/Hide attributes'><svg class='icon xr-icon-file-text2'><use xlink:href='#icon-file-text2'></use></svg></label><input id='data-ba43e595-bd2d-4ea2-8926-cc8258c26fc3' class='xr-var-data-in' type='checkbox'><label for='data-ba43e595-bd2d-4ea2-8926-cc8258c26fc3' title='Show/Hide data repr'><svg class='icon xr-icon-database'><use xlink:href='#icon-database'></use></svg></label><div class='xr-var-attrs'><dl class='xr-attrs'></dl></div><div class='xr-var-data'><pre>array([[[ 6.89803392e-01,  6.92172304e-01,  6.94450729e-01, ...,\n",
       "          7.49305949e-01,  7.49516741e-01,  7.49723092e-01],\n",
       "        [ 6.88756943e-01,  6.91130959e-01,  6.93413251e-01, ...,\n",
       "          7.48316363e-01,  7.48527721e-01,  7.48734371e-01],\n",
       "        [ 6.61498863e-01,  6.63877804e-01,  6.66163798e-01, ...,\n",
       "          7.21115347e-01,  7.21326943e-01,  7.21534099e-01],\n",
       "        [ 6.54432993e-01,  6.56816739e-01,  6.59106362e-01, ...,\n",
       "          7.14106242e-01,  7.14318405e-01,  7.14525919e-01],\n",
       "        [ 6.42971460e-01,  6.45359744e-01,  6.47652950e-01, ...,\n",
       "          7.02701699e-01,  7.02914160e-01,  7.03122121e-01],\n",
       "        [ 6.24650403e-01,  6.27043298e-01,  6.29340052e-01, ...,\n",
       "          6.84437676e-01,  6.84650554e-01,  6.84858872e-01]],\n",
       "\n",
       "       [[ 8.10038551e-01,  8.12409080e-01,  8.14689219e-01, ...,\n",
       "          8.69580045e-01,  8.69790896e-01,  8.69997099e-01],\n",
       "        [ 7.53715482e-01,  7.56091002e-01,  7.58374911e-01, ...,\n",
       "          8.13313644e-01,  8.13525092e-01,  8.13731771e-01],\n",
       "        [ 7.22764763e-01,  7.25145134e-01,  7.27432805e-01, ...,\n",
       "          7.82419841e-01,  7.82631586e-01,  7.82838683e-01],\n",
       "        [ 7.03058183e-01,  7.05443233e-01,  7.07734473e-01, ...,\n",
       "...\n",
       "          4.97254466e-02,  4.99374305e-02,  5.01447056e-02],\n",
       "        [ 5.10849925e-03,  7.49681266e-03,  9.79228439e-03, ...,\n",
       "          6.49329063e-02,  6.51453969e-02,  6.53529999e-02],\n",
       "        [ 1.29868062e-01,  1.32260757e-01,  1.34559604e-01, ...,\n",
       "          1.89749101e-01,  1.89961890e-01,  1.90170029e-01],\n",
       "        [ 6.46122400e-02,  6.70091886e-02,  6.93114850e-02, ...,\n",
       "          1.24549836e-01,  1.24762953e-01,  1.24971450e-01]],\n",
       "\n",
       "       [[-6.07139624e-03, -3.69576372e-03, -1.40935190e-03, ...,\n",
       "          5.36210834e-02,  5.38323521e-02,  5.40388524e-02],\n",
       "        [-5.23548130e-02, -4.99744792e-02, -4.76844836e-02, ...,\n",
       "          7.39412714e-03,  7.60560442e-03,  7.81252195e-03],\n",
       "        [-7.91359579e-02, -7.67511164e-02, -7.44576712e-02, ...,\n",
       "         -1.93310787e-02, -1.91188862e-02, -1.89116110e-02],\n",
       "        [-8.52064561e-02, -8.28171368e-02, -8.05203166e-02, ...,\n",
       "         -2.53451686e-02, -2.51327973e-02, -2.49249559e-02],\n",
       "        [-6.01244427e-02, -5.77308170e-02, -5.54307259e-02, ...,\n",
       "         -2.06739407e-04,  5.98957062e-06,  2.14367409e-04],\n",
       "        [-8.18334682e-02, -7.94357894e-02, -7.71323753e-02, ...,\n",
       "         -2.18593044e-02, -2.16460986e-02, -2.14375717e-02]]])</pre></div></li></ul></div></li><li class='xr-section-item'><input id='section-5312e220-267e-464a-8cdd-f6eb86c76521' class='xr-section-summary-in' type='checkbox' disabled ><label for='section-5312e220-267e-464a-8cdd-f6eb86c76521' class='xr-section-summary'  title='Expand/collapse section'>Attributes: <span>(0)</span></label><div class='xr-section-inline-details'></div><div class='xr-section-details'><dl class='xr-attrs'></dl></div></li></ul></div></div>"
      ],
      "text/plain": [
       "<xarray.Dataset>\n",
       "Dimensions:    (latitude: 6, longitude: 6, time: 74)\n",
       "Coordinates:\n",
       "  * latitude   (latitude) float64 33.0 35.0 37.0 39.0 41.0 43.0\n",
       "  * longitude  (longitude) float64 295.0 297.0 299.0 301.0 303.0 305.0\n",
       "  * time       (time) datetime64[ns] 2017-01-01 2017-01-06 ... 2018-01-01\n",
       "Data variables:\n",
       "    index      (latitude, longitude, time) int64 0 1 2 3 ... 2660 2661 2662 2663\n",
       "    vtime      (latitude, longitude, time) float64 31.0 36.0 ... 391.0 396.0\n",
       "    pred       (latitude, longitude, time) float32 0.09012 0.09249 ... 0.15\n",
       "    ssh        (latitude, longitude, time) float64 0.6898 0.6922 ... -0.02144"
      ]
     },
     "execution_count": 25,
     "metadata": {},
     "output_type": "execute_result"
    }
   ],
   "source": [
    "ds_oi"
   ]
  },
  {
   "cell_type": "code",
   "execution_count": 26,
   "id": "f0779492-1be0-48fc-a10b-413666ad305d",
   "metadata": {},
   "outputs": [
    {
     "name": "stdout",
     "output_type": "stream",
     "text": [
      "RMSE (Mean): 0.268\n",
      "RMSE (Std): 0.074\n",
      "NRMSE (Mean): 0.553\n",
      "NRMSE (Std): 0.199\n",
      "CPU times: user 432 ms, sys: 8 ms, total: 440 ms\n",
      "Wall time: 447 ms\n"
     ]
    }
   ],
   "source": [
    "%%time\n",
    "\n",
    "rmse_metrics = get_rmse_metrics(ds_oi, args)\n",
    "\n",
    "wandb.log(\n",
    "    {\n",
    "        \"model_rmse_mean\": rmse_metrics[0],\n",
    "        \"model_rmse_std\": rmse_metrics[1],\n",
    "        \"model_nrmse_mean\": rmse_metrics[2],\n",
    "        \"model_nrmse_std\": rmse_metrics[3],\n",
    "    }\n",
    ")\n",
    "\n",
    "print(rmse_metrics)"
   ]
  },
  {
   "cell_type": "code",
   "execution_count": 27,
   "id": "07446478-0947-46d3-9c92-f2d609be69ed",
   "metadata": {},
   "outputs": [
    {
     "name": "stdout",
     "output_type": "stream",
     "text": [
      "Resolved Scale: 562766771201742.000 (km)\n"
     ]
    }
   ],
   "source": [
    "psd_metrics = get_psd_metrics(ds_oi, args)\n",
    "print(psd_metrics)"
   ]
  },
  {
   "cell_type": "markdown",
   "id": "bd079855-f082-4097-94d5-d5d13d9a31df",
   "metadata": {},
   "source": [
    "### Figures"
   ]
  },
  {
   "cell_type": "code",
   "execution_count": 28,
   "id": "9dd9f802-4cc7-4458-8ce7-ffc63fbab688",
   "metadata": {},
   "outputs": [
    {
     "data": {
      "image/png": "[encoded data removed]",
      "text/plain": [
       "<Figure size 504x360 with 1 Axes>"
      ]
     },
     "metadata": {
      "needs_background": "light"
     },
     "output_type": "display_data"
    }
   ],
   "source": [
    "fig, ax = plot_psd_spectrum(\n",
    "    psd_metrics.psd_study, \n",
    "    psd_metrics.psd_ref, \n",
    "    psd_metrics.wavenumber\n",
    ")\n",
    "\n",
    "\n",
    "wandb.log(\n",
    "    {\n",
    "        \"model_psd_spectrum\": wandb.Image(fig),\n",
    "    }\n",
    ")"
   ]
  },
  {
   "cell_type": "code",
   "execution_count": 29,
   "id": "230a6088-eeb1-4ab3-8031-a2d267b1cdb6",
   "metadata": {},
   "outputs": [
    {
     "data": {
      "image/png": "[encoded data removed]",
      "text/plain": [
       "<Figure size 504x360 with 1 Axes>"
      ]
     },
     "metadata": {
      "needs_background": "light"
     },
     "output_type": "display_data"
    }
   ],
   "source": [
    "fig, ax = plot_psd_score(\n",
    "    psd_metrics.psd_diff, \n",
    "    psd_metrics.psd_ref, \n",
    "    psd_metrics.wavenumber, \n",
    "    psd_metrics.resolved_scale)\n",
    "\n",
    "wandb.log(\n",
    "    {\n",
    "        \"model_psd_score\": wandb.Image(fig),\n",
    "    }\n",
    ")"
   ]
  },
  {
   "cell_type": "markdown",
   "id": "4a2bd7b7-dcb5-4536-b326-cc679b9a8300",
   "metadata": {},
   "source": [
    "### Movies"
   ]
  },
  {
   "cell_type": "code",
   "execution_count": 24,
   "id": "e5998a5e-152a-47b0-8e35-f364e630bcab",
   "metadata": {},
   "outputs": [],
   "source": [
    "save_path = wandb.run.dir #Path(root).joinpath(\"experiments/dc_2021b\")"
   ]
  },
  {
   "cell_type": "code",
   "execution_count": 25,
   "id": "af137cf9-e718-497d-be4e-80bf049b6271",
   "metadata": {},
   "outputs": [],
   "source": [
    "# import hvplot.xarray\n",
    "\n",
    "\n",
    "# ds_oi.ssh.hvplot.image(\n",
    "#     x=\"longitude\",\n",
    "#     y=\"latitude\",\n",
    "#     # groupby='time',\n",
    "#     # rasterize=True, \n",
    "#     width=500, height=400, cmap=\"viridis\")"
   ]
  },
  {
   "cell_type": "code",
   "execution_count": 26,
   "id": "0d0aaa8c-6d83-46e2-86b4-cf23cdca1da2",
   "metadata": {},
   "outputs": [
    {
     "name": "stderr",
     "output_type": "stream",
     "text": [
      "/home/johnsonj/miniconda3/envs/jax_cpu_py39/lib/python3.9/site-packages/xmovie/core.py:46: UserWarning: No `vmin` provided. Data limits are calculated from input. Depending on the input this can take long. Pass `vmin` to avoid this step\n",
      "  warnings.warn(\n",
      "/home/johnsonj/miniconda3/envs/jax_cpu_py39/lib/python3.9/site-packages/xmovie/core.py:53: UserWarning: No `vmax` provided. Data limits are calculated from input. Depending on the input this can take long. Pass `vmax` to avoid this step\n",
      "  warnings.warn(\n"
     ]
    },
    {
     "data": {
      "application/vnd.jupyter.widget-view+json": {
       "model_id": "eaac96659c214f6c86eee95224036a97",
       "version_major": 2,
       "version_minor": 0
      },
      "text/plain": [
       "  0%|          | 0/10 [00:00<?, ?it/s]"
      ]
     },
     "metadata": {},
     "output_type": "display_data"
    },
    {
     "name": "stdout",
     "output_type": "stream",
     "text": [
      "Movie created at movie_pred.mp4\n",
      "GIF created at wandb/run-20220601_174733-kx2nr6qb/files/movie_pred.gif\n"
     ]
    }
   ],
   "source": [
    "create_movie(ds_oi.ssh.isel(time=slice(50,60)), f\"pred\", \"time\", cmap=\"viridis\", file_path=save_path)"
   ]
  },
  {
   "cell_type": "markdown",
   "id": "e7956edd-7b4d-4ada-983a-ad0cf3e8f662",
   "metadata": {},
   "source": [
    "![](wandb/run-20220601_174733-kx2nr6qb/files/movie_pred.gif)"
   ]
  },
  {
   "cell_type": "code",
   "execution_count": null,
   "id": "98f0bcf3-7732-44bd-b30a-48e6612325af",
   "metadata": {},
   "outputs": [
    {
     "name": "stderr",
     "output_type": "stream",
     "text": [
      "/home/johnsonj/miniconda3/envs/jax_cpu_py39/lib/python3.9/site-packages/xmovie/core.py:46: UserWarning: No `vmin` provided. Data limits are calculated from input. Depending on the input this can take long. Pass `vmin` to avoid this step\n",
      "  warnings.warn(\n",
      "/home/johnsonj/miniconda3/envs/jax_cpu_py39/lib/python3.9/site-packages/xmovie/core.py:53: UserWarning: No `vmax` provided. Data limits are calculated from input. Depending on the input this can take long. Pass `vmax` to avoid this step\n",
      "  warnings.warn(\n"
     ]
    },
    {
     "data": {
      "application/vnd.jupyter.widget-view+json": {
       "model_id": "73822c9b228c4e79b722c48540004e1e",
       "version_major": 2,
       "version_minor": 0
      },
      "text/plain": [
       "  0%|          | 0/365 [00:00<?, ?it/s]"
      ]
     },
     "metadata": {},
     "output_type": "display_data"
    },
    {
     "name": "stderr",
     "output_type": "stream",
     "text": [
      "Exception in thread ChkStopThr:\n",
      "Traceback (most recent call last):\n",
      "  File \"/home/johnsonj/miniconda3/envs/jax_cpu_py39/lib/python3.9/threading.py\", line 973, in _bootstrap_inner\n",
      "    self.run()\n",
      "  File \"/home/johnsonj/miniconda3/envs/jax_cpu_py39/lib/python3.9/threading.py\", line 910, in run\n",
      "    self._target(*self._args, **self._kwargs)\n",
      "  File \"/home/johnsonj/miniconda3/envs/jax_cpu_py39/lib/python3.9/site-packages/wandb/sdk/wandb_run.py\", line 170, in check_status\n",
      "    status_response = self._interface.communicate_stop_status()\n",
      "  File \"/home/johnsonj/miniconda3/envs/jax_cpu_py39/lib/python3.9/site-packages/wandb/sdk/interface/interface.py\", line 127, in communicate_stop_status\n",
      "    resp = self._communicate_stop_status(status)\n",
      "  File \"/home/johnsonj/miniconda3/envs/jax_cpu_py39/lib/python3.9/site-packages/wandb/sdk/interface/interface_shared.py\", line 395, in _communicate_stop_status\n",
      "    resp = self._communicate(req, local=True)\n",
      "  File \"/home/johnsonj/miniconda3/envs/jax_cpu_py39/lib/python3.9/site-packages/wandb/sdk/interface/interface_shared.py\", line 226, in _communicate\n",
      "    return self._communicate_async(rec, local=local).get(timeout=timeout)\n",
      "  File \"/home/johnsonj/miniconda3/envs/jax_cpu_py39/lib/python3.9/site-packages/wandb/sdk/interface/interface_shared.py\", line 231, in _communicate_async\n",
      "    raise Exception(\"The wandb backend process has shutdown\")\n",
      "Exception: The wandb backend process has shutdown\n",
      "Exception in thread NetStatThr:\n",
      "Traceback (most recent call last):\n",
      "  File \"/home/johnsonj/miniconda3/envs/jax_cpu_py39/lib/python3.9/threading.py\", line 973, in _bootstrap_inner\n",
      "    self.run()\n",
      "  File \"/home/johnsonj/miniconda3/envs/jax_cpu_py39/lib/python3.9/threading.py\", line 910, in run\n",
      "    self._target(*self._args, **self._kwargs)\n",
      "  File \"/home/johnsonj/miniconda3/envs/jax_cpu_py39/lib/python3.9/site-packages/wandb/sdk/wandb_run.py\", line 152, in check_network_status\n",
      "    status_response = self._interface.communicate_network_status()\n",
      "  File \"/home/johnsonj/miniconda3/envs/jax_cpu_py39/lib/python3.9/site-packages/wandb/sdk/interface/interface.py\", line 138, in communicate_network_status\n",
      "    resp = self._communicate_network_status(status)\n",
      "  File \"/home/johnsonj/miniconda3/envs/jax_cpu_py39/lib/python3.9/site-packages/wandb/sdk/interface/interface_shared.py\", line 405, in _communicate_network_status\n",
      "    resp = self._communicate(req, local=True)\n",
      "  File \"/home/johnsonj/miniconda3/envs/jax_cpu_py39/lib/python3.9/site-packages/wandb/sdk/interface/interface_shared.py\", line 226, in _communicate\n",
      "    return self._communicate_async(rec, local=local).get(timeout=timeout)\n",
      "  File \"/home/johnsonj/miniconda3/envs/jax_cpu_py39/lib/python3.9/site-packages/wandb/sdk/interface/interface_shared.py\", line 231, in _communicate_async\n",
      "    raise Exception(\"The wandb backend process has shutdown\")\n",
      "Exception: The wandb backend process has shutdown\n"
     ]
    }
   ],
   "source": [
    "if args.smoke_test:\n",
    "    create_movie(ds_oi.ssh.isel(time=slice(50,60)), f\"pred\", \"time\", cmap=\"viridis\", file_path=save_path)\n",
    "else:\n",
    "    create_movie(ds_oi.ssh, f\"pred\", \"time\", cmap=\"viridis\", file_path=save_path)\n"
   ]
  },
  {
   "cell_type": "code",
   "execution_count": 27,
   "id": "4292fd48-f99a-4a12-9ba2-35b9f32c403e",
   "metadata": {},
   "outputs": [],
   "source": [
    "wandb.log(\n",
    "    {\n",
    "        \"predictions_gif\": wandb.Image(f\"{save_path}/movie_pred.gif\"),\n",
    "    }\n",
    ")"
   ]
  },
  {
   "cell_type": "markdown",
   "id": "3f7cdb4b-468b-4f37-992b-6403056a2ba9",
   "metadata": {},
   "source": [
    "### Gradients"
   ]
  },
  {
   "cell_type": "code",
   "execution_count": 45,
   "id": "22e7dfb4-8f7c-4cbe-8989-e9e64eab9453",
   "metadata": {},
   "outputs": [],
   "source": [
    "ds_oi[\"ssh_grad\"] = calculate_gradient(ds_oi[\"ssh\"], \"longitude\", \"latitude\")"
   ]
  },
  {
   "cell_type": "code",
   "execution_count": null,
   "id": "278f6131-30c8-48f5-8250-386124ecc956",
   "metadata": {},
   "outputs": [],
   "source": [
    "# ds_oi.ssh_grad.hvplot.image(\n",
    "#     x=\"longitude\",\n",
    "#     y=\"latitude\",\n",
    "#     # groupby='time',\n",
    "#     # rasterize=True, \n",
    "#     width=500, height=400, cmap=\"Spectral_r\")"
   ]
  },
  {
   "cell_type": "code",
   "execution_count": 46,
   "id": "3975b43e-f722-4948-999f-4e60eaf87362",
   "metadata": {},
   "outputs": [],
   "source": [
    "# if args.smoke_test:\n",
    "#     create_movie(ds_oi.ssh_grad.isel(time=slice(50,60)), f\"pred_grad\", \"time\", cmap=\"Spectral_r\", file_path=save_path)\n",
    "# else:\n",
    "#     create_movie(ds_oi.ssh_grad, f\"pred_grad\", \"time\", cmap=\"Spectral_r\", file_path=save_path)"
   ]
  },
  {
   "cell_type": "code",
   "execution_count": 47,
   "id": "6872c78a-d596-446f-911f-3444b2701991",
   "metadata": {},
   "outputs": [],
   "source": [
    "# wandb.log(\n",
    "#     {\n",
    "#         \"predictions_grad_gif\": wandb.Image(f\"{save_path}/movie_pred_grad.gif\"),\n",
    "#     }\n",
    "# )"
   ]
  },
  {
   "cell_type": "markdown",
   "id": "5d08cd6d-20cb-4726-9204-bab5405e584d",
   "metadata": {},
   "source": [
    "### Laplacian"
   ]
  },
  {
   "cell_type": "code",
   "execution_count": 49,
   "id": "2816a06f-c1bf-485a-8966-a0adffd91df0",
   "metadata": {},
   "outputs": [],
   "source": [
    "ds_oi[\"ssh_lap\"] = calculate_laplacian(ds_oi[\"ssh\"], \"longitude\", \"latitude\")"
   ]
  },
  {
   "cell_type": "code",
   "execution_count": null,
   "id": "7d39b798-65d0-4f04-a655-16b1f202667b",
   "metadata": {},
   "outputs": [],
   "source": [
    "# ds_oi.ssh_lap.hvplot.image(\n",
    "#     x=\"longitude\",\n",
    "#     y=\"latitude\",\n",
    "#     # groupby='time',\n",
    "#     # rasterize=True, \n",
    "#     width=500, height=400, cmap=\"RdBu_r\")"
   ]
  },
  {
   "cell_type": "code",
   "execution_count": 36,
   "id": "6f401c5c-1ff3-4934-8a24-404366860b99",
   "metadata": {},
   "outputs": [
    {
     "name": "stderr",
     "output_type": "stream",
     "text": [
      "/gpfswork/rech/cli/uvo53rl/.conda/envs/jax_gpu_py39/lib/python3.9/site-packages/xmovie/core.py:46: UserWarning: No `vmin` provided. Data limits are calculated from input. Depending on the input this can take long. Pass `vmin` to avoid this step\n",
      "  warnings.warn(\n",
      "/gpfswork/rech/cli/uvo53rl/.conda/envs/jax_gpu_py39/lib/python3.9/site-packages/xmovie/core.py:53: UserWarning: No `vmax` provided. Data limits are calculated from input. Depending on the input this can take long. Pass `vmax` to avoid this step\n",
      "  warnings.warn(\n"
     ]
    },
    {
     "data": {
      "application/vnd.jupyter.widget-view+json": {
       "model_id": "4828abe2e7db40aa87ec863bfc63dd3f",
       "version_major": 2,
       "version_minor": 0
      },
      "text/plain": [
       "  0%|          | 0/10 [00:00<?, ?it/s]"
      ]
     },
     "metadata": {},
     "output_type": "display_data"
    },
    {
     "name": "stdout",
     "output_type": "stream",
     "text": [
      "Movie created at movie_pred_lap.mp4\n",
      "GIF created at movie_pred_lap.gif\n"
     ]
    }
   ],
   "source": [
    "# if args.smoke_test:\n",
    "#     create_movie(ds_oi.ssh_lap.isel(time=slice(50,60)), f\"pred_lap\", \"time\", cmap=\"RdBu_r\", file_path=save_path)\n",
    "# else:\n",
    "#     create_movie(ds_oi.ssh_lap, f\"pred_lap\", \"time\", cmap=\"RdBu_r\", file_path=save_path)\n"
   ]
  },
  {
   "cell_type": "code",
   "execution_count": 50,
   "id": "05ede2ed-4fe4-4209-83b0-6b25ac618daf",
   "metadata": {},
   "outputs": [
    {
     "ename": "FileNotFoundError",
     "evalue": "[Errno 2] No such file or directory: '/tmp/movie_pred_lap.gif'",
     "output_type": "error",
     "traceback": [
      "\u001b[0;31m---------------------------------------------------------------------------\u001b[0m",
      "\u001b[0;31mFileNotFoundError\u001b[0m                         Traceback (most recent call last)",
      "Input \u001b[0;32mIn [50]\u001b[0m, in \u001b[0;36m<cell line: 1>\u001b[0;34m()\u001b[0m\n\u001b[1;32m      1\u001b[0m wandb\u001b[38;5;241m.\u001b[39mlog(\n\u001b[1;32m      2\u001b[0m     {\n\u001b[0;32m----> 3\u001b[0m         \u001b[38;5;124m\"\u001b[39m\u001b[38;5;124mpredictions_laplacian_gif\u001b[39m\u001b[38;5;124m\"\u001b[39m: \u001b[43mwandb\u001b[49m\u001b[38;5;241;43m.\u001b[39;49m\u001b[43mImage\u001b[49m\u001b[43m(\u001b[49m\u001b[38;5;124;43mf\u001b[39;49m\u001b[38;5;124;43m\"\u001b[39;49m\u001b[38;5;132;43;01m{\u001b[39;49;00m\u001b[43msave_path\u001b[49m\u001b[38;5;132;43;01m}\u001b[39;49;00m\u001b[38;5;124;43m/movie_pred_lap.gif\u001b[39;49m\u001b[38;5;124;43m\"\u001b[39;49m\u001b[43m)\u001b[49m,\n\u001b[1;32m      4\u001b[0m     }\n\u001b[1;32m      5\u001b[0m )\n",
      "File \u001b[0;32m/gpfswork/rech/cli/uvo53rl/.conda/envs/jax_gpu_py39/lib/python3.9/site-packages/wandb/sdk/data_types/image.py:141\u001b[0m, in \u001b[0;36mImage.__init__\u001b[0;34m(self, data_or_path, mode, caption, grouping, classes, boxes, masks)\u001b[0m\n\u001b[1;32m    139\u001b[0m     \u001b[38;5;28mself\u001b[39m\u001b[38;5;241m.\u001b[39m_initialize_from_wbimage(data_or_path)\n\u001b[1;32m    140\u001b[0m \u001b[38;5;28;01melif\u001b[39;00m \u001b[38;5;28misinstance\u001b[39m(data_or_path, \u001b[38;5;28mstr\u001b[39m):\n\u001b[0;32m--> 141\u001b[0m     \u001b[38;5;28;43mself\u001b[39;49m\u001b[38;5;241;43m.\u001b[39;49m\u001b[43m_initialize_from_path\u001b[49m\u001b[43m(\u001b[49m\u001b[43mdata_or_path\u001b[49m\u001b[43m)\u001b[49m\n\u001b[1;32m    142\u001b[0m \u001b[38;5;28;01melse\u001b[39;00m:\n\u001b[1;32m    143\u001b[0m     \u001b[38;5;28mself\u001b[39m\u001b[38;5;241m.\u001b[39m_initialize_from_data(data_or_path, mode)\n",
      "File \u001b[0;32m/gpfswork/rech/cli/uvo53rl/.conda/envs/jax_gpu_py39/lib/python3.9/site-packages/wandb/sdk/data_types/image.py:235\u001b[0m, in \u001b[0;36mImage._initialize_from_path\u001b[0;34m(self, path)\u001b[0m\n\u001b[1;32m    230\u001b[0m \u001b[38;5;28;01mdef\u001b[39;00m \u001b[38;5;21m_initialize_from_path\u001b[39m(\u001b[38;5;28mself\u001b[39m, path: \u001b[38;5;28mstr\u001b[39m) \u001b[38;5;241m-\u001b[39m\u001b[38;5;241m>\u001b[39m \u001b[38;5;28;01mNone\u001b[39;00m:\n\u001b[1;32m    231\u001b[0m     pil_image \u001b[38;5;241m=\u001b[39m util\u001b[38;5;241m.\u001b[39mget_module(\n\u001b[1;32m    232\u001b[0m         \u001b[38;5;124m\"\u001b[39m\u001b[38;5;124mPIL.Image\u001b[39m\u001b[38;5;124m\"\u001b[39m,\n\u001b[1;32m    233\u001b[0m         required\u001b[38;5;241m=\u001b[39m\u001b[38;5;124m'\u001b[39m\u001b[38;5;124mwandb.Image needs the PIL package. To get it, run \u001b[39m\u001b[38;5;124m\"\u001b[39m\u001b[38;5;124mpip install pillow\u001b[39m\u001b[38;5;124m\"\u001b[39m\u001b[38;5;124m.\u001b[39m\u001b[38;5;124m'\u001b[39m,\n\u001b[1;32m    234\u001b[0m     )\n\u001b[0;32m--> 235\u001b[0m     \u001b[38;5;28;43mself\u001b[39;49m\u001b[38;5;241;43m.\u001b[39;49m\u001b[43m_set_file\u001b[49m\u001b[43m(\u001b[49m\u001b[43mpath\u001b[49m\u001b[43m,\u001b[49m\u001b[43m \u001b[49m\u001b[43mis_tmp\u001b[49m\u001b[38;5;241;43m=\u001b[39;49m\u001b[38;5;28;43;01mFalse\u001b[39;49;00m\u001b[43m)\u001b[49m\n\u001b[1;32m    236\u001b[0m     \u001b[38;5;28mself\u001b[39m\u001b[38;5;241m.\u001b[39m_image \u001b[38;5;241m=\u001b[39m pil_image\u001b[38;5;241m.\u001b[39mopen(path)\n\u001b[1;32m    237\u001b[0m     \u001b[38;5;28mself\u001b[39m\u001b[38;5;241m.\u001b[39m_image\u001b[38;5;241m.\u001b[39mload()\n",
      "File \u001b[0;32m/gpfswork/rech/cli/uvo53rl/.conda/envs/jax_gpu_py39/lib/python3.9/site-packages/wandb/sdk/data_types/base_types/media.py:65\u001b[0m, in \u001b[0;36mMedia._set_file\u001b[0;34m(self, path, is_tmp, extension)\u001b[0m\n\u001b[1;32m     58\u001b[0m \u001b[38;5;28mself\u001b[39m\u001b[38;5;241m.\u001b[39m_extension \u001b[38;5;241m=\u001b[39m extension\n\u001b[1;32m     59\u001b[0m \u001b[38;5;28;01massert\u001b[39;00m extension \u001b[38;5;129;01mis\u001b[39;00m \u001b[38;5;28;01mNone\u001b[39;00m \u001b[38;5;129;01mor\u001b[39;00m path\u001b[38;5;241m.\u001b[39mendswith(\n\u001b[1;32m     60\u001b[0m     extension\n\u001b[1;32m     61\u001b[0m ), \u001b[38;5;124m'\u001b[39m\u001b[38;5;124mMedia file extension \u001b[39m\u001b[38;5;124m\"\u001b[39m\u001b[38;5;132;01m{}\u001b[39;00m\u001b[38;5;124m\"\u001b[39m\u001b[38;5;124m must occur at the end of path \u001b[39m\u001b[38;5;124m\"\u001b[39m\u001b[38;5;132;01m{}\u001b[39;00m\u001b[38;5;124m\"\u001b[39m\u001b[38;5;124m.\u001b[39m\u001b[38;5;124m'\u001b[39m\u001b[38;5;241m.\u001b[39mformat(\n\u001b[1;32m     62\u001b[0m     extension, path\n\u001b[1;32m     63\u001b[0m )\n\u001b[0;32m---> 65\u001b[0m \u001b[38;5;28;01mwith\u001b[39;00m \u001b[38;5;28;43mopen\u001b[39;49m\u001b[43m(\u001b[49m\u001b[38;5;28;43mself\u001b[39;49m\u001b[38;5;241;43m.\u001b[39;49m\u001b[43m_path\u001b[49m\u001b[43m,\u001b[49m\u001b[43m \u001b[49m\u001b[38;5;124;43m\"\u001b[39;49m\u001b[38;5;124;43mrb\u001b[39;49m\u001b[38;5;124;43m\"\u001b[39;49m\u001b[43m)\u001b[49m \u001b[38;5;28;01mas\u001b[39;00m f:\n\u001b[1;32m     66\u001b[0m     \u001b[38;5;28mself\u001b[39m\u001b[38;5;241m.\u001b[39m_sha256 \u001b[38;5;241m=\u001b[39m hashlib\u001b[38;5;241m.\u001b[39msha256(f\u001b[38;5;241m.\u001b[39mread())\u001b[38;5;241m.\u001b[39mhexdigest()\n\u001b[1;32m     67\u001b[0m \u001b[38;5;28mself\u001b[39m\u001b[38;5;241m.\u001b[39m_size \u001b[38;5;241m=\u001b[39m os\u001b[38;5;241m.\u001b[39mpath\u001b[38;5;241m.\u001b[39mgetsize(\u001b[38;5;28mself\u001b[39m\u001b[38;5;241m.\u001b[39m_path)\n",
      "\u001b[0;31mFileNotFoundError\u001b[0m: [Errno 2] No such file or directory: '/tmp/movie_pred_lap.gif'"
     ]
    }
   ],
   "source": [
    "# wandb.log(\n",
    "#     {\n",
    "#         \"predictions_laplacian_gif\": wandb.Image(f\"{save_path}/movie_pred_lap.gif\"),\n",
    "#     }\n",
    "# )"
   ]
  },
  {
   "cell_type": "code",
   "execution_count": 62,
   "id": "d377f7ff-4392-4510-8f9f-6664e50c862f",
   "metadata": {},
   "outputs": [
    {
     "data": {
      "text/plain": [
       "((5, 4), (5, 2), (5, 2))"
      ]
     },
     "execution_count": 62,
     "metadata": {},
     "output_type": "execute_result"
    }
   ],
   "source": [
    "\n",
    "t = jnp.ones((5,4))\n",
    "t1, t2 = jnp.array_split(t,2, axis=1) \n",
    "t.shape, t1.shape, t2.shape"
   ]
  },
  {
   "cell_type": "code",
   "execution_count": null,
   "id": "a9485293-abcd-4af0-9af8-70487d42b1be",
   "metadata": {},
   "outputs": [],
   "source": []
  }
 ],
 "metadata": {
  "kernelspec": {
   "display_name": "Python [conda env:jax_cpu_py39]",
   "language": "python",
   "name": "conda-env-jax_cpu_py39-py"
  },
  "language_info": {
   "codemirror_mode": {
    "name": "ipython",
    "version": 3
   },
   "file_extension": ".py",
   "mimetype": "text/x-python",
   "name": "python",
   "nbconvert_exporter": "python",
   "pygments_lexer": "ipython3",
   "version": "3.9.12"
  }
 },
 "nbformat": 4,
 "nbformat_minor": 5
}
