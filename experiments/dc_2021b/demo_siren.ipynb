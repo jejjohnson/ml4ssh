{
 "cells": [
  {
   "cell_type": "code",
   "execution_count": 1,
   "id": "c8a2ee9e-04cc-4c5e-a3eb-4742a7ad7cd1",
   "metadata": {},
   "outputs": [],
   "source": [
    "import sys, os\n",
    "from pyprojroot import here\n",
    "\n",
    "\n",
    "# spyder up to find the root\n",
    "\n",
    "root = here(project_files=[\".root\"])\n",
    "\n",
    "# append to path\n",
    "sys.path.append(str(root))"
   ]
  },
  {
   "cell_type": "code",
   "execution_count": 2,
   "id": "4e08b309-df46-4190-96f7-914907b8b422",
   "metadata": {},
   "outputs": [
    {
     "name": "stderr",
     "output_type": "stream",
     "text": [
      "2022-05-30 12:25:36.887575: I tensorflow/core/util/util.cc:169] oneDNN custom operations are on. You may see slightly different numerical results due to floating-point round-off errors from different computation orders. To turn them off, set the environment variable `TF_ENABLE_ONEDNN_OPTS=0`.\n",
      "2022-05-30 12:25:39.186758: W tensorflow/stream_executor/platform/default/dso_loader.cc:64] Could not load dynamic library 'libcudnn.so.8'; dlerror: libcudnn.so.8: cannot open shared object file: No such file or directory; LD_LIBRARY_PATH: /gpfslocalsup/spack_soft/perl-alien-svn/1.8.11.0/gcc-8.3.1-eh7pljynxmzypyxlcw5yekfobkhe3f6f/lib/perl5/x86_64-linux-thread-multi/Alien/SVN:/gpfslocalsup/pub/cudnn/9.2-v7.5.1.10/lib64:/gpfslocalsys/cuda/11.2/nvvm/lib64:/gpfslocalsys/cuda/11.2/extras/CUPTI/lib64:/gpfslocalsys/cuda/11.2/lib64:/gpfslocalsys/cuda/11.2/samples/common/lib/linux/x86_64:/gpfslocalsys/cuda/11.2/targets/x86_64-linux/lib:/gpfslocalsys/slurm/current/lib/slurm:/gpfslocalsys/slurm/current/lib:/lib/\n",
      "2022-05-30 12:25:39.186789: W tensorflow/core/common_runtime/gpu/gpu_device.cc:1850] Cannot dlopen some GPU libraries. Please make sure the missing libraries mentioned above are installed properly if you would like to use GPU. Follow the guide at https://www.tensorflow.org/install/gpu for how to download and setup the required libraries for your platform.\n",
      "Skipping registering GPU devices...\n"
     ]
    }
   ],
   "source": [
    "from pathlib import Path\n",
    "import argparse\n",
    "import wandb\n",
    "import tqdm\n",
    "import matplotlib.pyplot as plt\n",
    "import seaborn as sns\n",
    "sns.reset_defaults()\n",
    "sns.set_context(context=\"talk\", font_scale=0.7)\n",
    "\n",
    "# Ensure TF does not see GPU and grab all GPU memory.\n",
    "import tensorflow as tf\n",
    "tf.config.set_visible_devices([], device_type='GPU')\n",
    "\n",
    "import jax\n",
    "import jax.random as jrandom\n",
    "import jax.numpy as jnp\n",
    "import equinox as eqx\n",
    "from ml4ssh._src.data import make_mini_batcher\n",
    "from ml4ssh._src.io import load_object, save_object\n",
    "from ml4ssh._src.viz import create_movie, plot_psd_spectrum, plot_psd_score\n",
    "from ml4ssh._src.utils import get_meshgrid, calculate_gradient, calculate_laplacian\n",
    "\n",
    "# import parsers\n",
    "from data import get_data_args, load_data\n",
    "from preprocess import add_preprocess_args, preprocess_data\n",
    "from features import add_feature_args, feature_transform\n",
    "from split import add_split_args, split_data\n",
    "from model import add_model_args, get_model\n",
    "from loss import add_loss_args, get_loss_fn\n",
    "from logger import add_logger_args\n",
    "from optimizer import add_optimizer_args, get_optimizer\n",
    "from postprocess import add_postprocess_args, postprocess_data, generate_eval_data\n",
    "from evaluation import add_eval_args, get_rmse_metrics, get_psd_metrics\n",
    "\n",
    "%matplotlib inline\n",
    "%load_ext autoreload\n",
    "%autoreload 2"
   ]
  },
  {
   "cell_type": "markdown",
   "id": "305ed40f-5926-41e3-8f76-22d50df60c1e",
   "metadata": {},
   "source": [
    "### Argumentsget_data_args"
   ]
  },
  {
   "cell_type": "code",
   "execution_count": 3,
   "id": "ad519f7b-be94-419e-ba50-f14958c2b2a8",
   "metadata": {},
   "outputs": [],
   "source": [
    "parser = argparse.ArgumentParser()\n",
    "\n",
    "# logger\n",
    "parser = add_logger_args(parser)\n",
    "\n",
    "# data\n",
    "parser = get_data_args(parser)\n",
    "\n",
    "# preprocessing, feature transform, split\n",
    "parser = add_preprocess_args(parser)\n",
    "parser = add_feature_args(parser)\n",
    "parser = add_split_args(parser)\n",
    "\n",
    "# model, optimizer, loss\n",
    "parser = add_model_args(parser)\n",
    "parser = add_optimizer_args(parser)\n",
    "parser = add_loss_args(parser)\n",
    "\n",
    "# postprocessing, metrics\n",
    "parser = add_postprocess_args(parser)\n",
    "parser = add_eval_args(parser)\n",
    "\n",
    "# parse args\n",
    "args = parser.parse_args([])\n",
    "\n",
    "# jeanzay specific\n",
    "args.train_data_dir = \"/gpfsdswork/projects/rech/cli/uvo53rl/data/data_challenges/ssh_mapping_2021/train/\"\n",
    "args.ref_data_dir = \"/gpfsdswork/projects/rech/cli/uvo53rl/data/data_challenges/ssh_mapping_2021/ref/\"\n",
    "args.test_data_dir = \"/gpfsdswork/projects/rech/cli/uvo53rl/data/data_challenges/ssh_mapping_2021/test/\"\n",
    "args.log_dir = \"/gpfswork/rech/cli/uvo53rl/logs\"\n",
    "\n",
    "args.smoke_test = True\n",
    "args.wandb_mode = \"disabled\"\n",
    "args.wandb_resume = True\n",
    "args.id = None # \"2uuq7tks\""
   ]
  },
  {
   "cell_type": "markdown",
   "id": "2816cbb2-1a8f-431d-a12b-d0e4f008b7f5",
   "metadata": {},
   "source": [
    "### Logger\n"
   ]
  },
  {
   "cell_type": "code",
   "execution_count": 4,
   "id": "7733fbe0-fb43-4eda-af8e-50f00e380ec1",
   "metadata": {},
   "outputs": [
    {
     "name": "stderr",
     "output_type": "stream",
     "text": [
      "Failed to detect the name of this notebook, you can set it manually with the WANDB_NOTEBOOK_NAME environment variable to enable code saving.\n"
     ]
    },
    {
     "data": {
      "text/plain": []
     },
     "execution_count": 4,
     "metadata": {},
     "output_type": "execute_result"
    }
   ],
   "source": [
    "# init wandb logger\n",
    "wandb.init(\n",
    "    id=args.id,\n",
    "    config=args,\n",
    "    mode=args.wandb_mode,\n",
    "    project=args.project,\n",
    "    entity=args.entity,\n",
    "    dir=args.log_dir,\n",
    "    resume=args.wandb_resume\n",
    ")"
   ]
  },
  {
   "cell_type": "markdown",
   "id": "dce2df15-f422-406b-8e53-64edf65f4172",
   "metadata": {},
   "source": [
    "### Load Data"
   ]
  },
  {
   "cell_type": "code",
   "execution_count": 5,
   "id": "7386abc3-3927-4ae3-8eb8-cf0ac87426a1",
   "metadata": {},
   "outputs": [
    {
     "name": "stderr",
     "output_type": "stream",
     "text": [
      "100%|██████████| 6/6 [00:00<00:00, 14.24it/s]\n"
     ]
    },
    {
     "name": "stdout",
     "output_type": "stream",
     "text": [
      "CPU times: user 2.5 s, sys: 269 ms, total: 2.77 s\n",
      "Wall time: 3.07 s\n"
     ]
    }
   ],
   "source": [
    "%%time\n",
    "\n",
    "# load data\n",
    "data = load_data(args)\n",
    "\n",
    "# preprocess data\n",
    "data = preprocess_data(data, args)\n",
    "\n",
    "# feature transformation\n",
    "data, scaler = feature_transform(data, args)\n",
    "\n",
    "# split data\n",
    "xtrain, ytrain, xvalid, yvalid = split_data(data, args)\n",
    "\n",
    "args.in_dim = xtrain.shape[-1]\n",
    "args.n_train = xtrain.shape[0]\n",
    "args.n_valid = xvalid.shape[0]\n",
    "\n",
    "wandb.config.update(\n",
    "    {\n",
    "        \"in_dim\": args.in_dim,\n",
    "        \"n_train\": args.n_train,\n",
    "        \"n_valid\": args.n_valid,\n",
    "    }\n",
    ")"
   ]
  },
  {
   "cell_type": "code",
   "execution_count": 6,
   "id": "9d2d93f7-0344-4fae-8f56-9dbe02ba09c0",
   "metadata": {},
   "outputs": [
    {
     "data": {
      "text/html": [
       "<div>\n",
       "<style scoped>\n",
       "    .dataframe tbody tr th:only-of-type {\n",
       "        vertical-align: middle;\n",
       "    }\n",
       "\n",
       "    .dataframe tbody tr th {\n",
       "        vertical-align: top;\n",
       "    }\n",
       "\n",
       "    .dataframe thead th {\n",
       "        text-align: right;\n",
       "    }\n",
       "</style>\n",
       "<table border=\"1\" class=\"dataframe\">\n",
       "  <thead>\n",
       "    <tr style=\"text-align: right;\">\n",
       "      <th></th>\n",
       "      <th>longitude</th>\n",
       "      <th>latitude</th>\n",
       "      <th>time_transform</th>\n",
       "    </tr>\n",
       "  </thead>\n",
       "  <tbody>\n",
       "    <tr>\n",
       "      <th>0</th>\n",
       "      <td>0.633663</td>\n",
       "      <td>-0.998266</td>\n",
       "      <td>-1.0</td>\n",
       "    </tr>\n",
       "    <tr>\n",
       "      <th>1</th>\n",
       "      <td>0.632683</td>\n",
       "      <td>-0.994338</td>\n",
       "      <td>-1.0</td>\n",
       "    </tr>\n",
       "    <tr>\n",
       "      <th>2</th>\n",
       "      <td>0.631703</td>\n",
       "      <td>-0.990410</td>\n",
       "      <td>-1.0</td>\n",
       "    </tr>\n",
       "    <tr>\n",
       "      <th>3</th>\n",
       "      <td>0.630723</td>\n",
       "      <td>-0.986482</td>\n",
       "      <td>-1.0</td>\n",
       "    </tr>\n",
       "    <tr>\n",
       "      <th>4</th>\n",
       "      <td>0.629742</td>\n",
       "      <td>-0.982554</td>\n",
       "      <td>-1.0</td>\n",
       "    </tr>\n",
       "  </tbody>\n",
       "</table>\n",
       "</div>"
      ],
      "text/plain": [
       "   longitude  latitude  time_transform\n",
       "0   0.633663 -0.998266            -1.0\n",
       "1   0.632683 -0.994338            -1.0\n",
       "2   0.631703 -0.990410            -1.0\n",
       "3   0.630723 -0.986482            -1.0\n",
       "4   0.629742 -0.982554            -1.0"
      ]
     },
     "execution_count": 6,
     "metadata": {},
     "output_type": "execute_result"
    }
   ],
   "source": [
    "data[[\"longitude\", \"latitude\", \"time_transform\"]].head()"
   ]
  },
  {
   "cell_type": "markdown",
   "id": "ef39f5ec-1066-467c-b4ba-d205adc4fba2",
   "metadata": {},
   "source": [
    "### Model"
   ]
  },
  {
   "cell_type": "code",
   "execution_count": 7,
   "id": "575288f1-04f7-4bd0-bc3f-cf11615ce605",
   "metadata": {},
   "outputs": [
    {
     "name": "stdout",
     "output_type": "stream",
     "text": [
      "CPU times: user 1.35 s, sys: 507 ms, total: 1.86 s\n",
      "Wall time: 3.68 s\n"
     ]
    }
   ],
   "source": [
    "%%time\n",
    "\n",
    "\n",
    "# model\n",
    "model = get_model(args)\n",
    "\n",
    "# optimizer\n",
    "optimizer = get_optimizer(args)\n",
    "\n",
    "# loss\n",
    "make_step, val_step = get_loss_fn(args)\n",
    "\n",
    "# init model\n",
    "opt_state = optimizer.init(model)"
   ]
  },
  {
   "cell_type": "code",
   "execution_count": 8,
   "id": "1208851b-909f-4489-be12-b1818c00f2cf",
   "metadata": {},
   "outputs": [],
   "source": [
    "n_steps_per_epoch = args.n_train / args.batch_size\n",
    "steps = int(n_steps_per_epoch * args.n_epochs) if not args.smoke_test else 500\n",
    "\n",
    "\n",
    "wandb.config.update(\n",
    "    {\n",
    "        \"steps\": steps,\n",
    "        \"n_steps_per_epoch\": n_steps_per_epoch,\n",
    "    }\n",
    ")"
   ]
  },
  {
   "cell_type": "markdown",
   "id": "c2a1d68f-2cc9-4246-8bd8-a83b234dd49f",
   "metadata": {},
   "source": [
    "### Training"
   ]
  },
  {
   "cell_type": "code",
   "execution_count": 9,
   "id": "5b5c443d-31a6-4336-9c27-2d5890e56335",
   "metadata": {},
   "outputs": [
    {
     "name": "stderr",
     "output_type": "stream",
     "text": [
      "2022-05-30 12:26:05.233518: I tensorflow/core/platform/cpu_feature_guard.cc:193] This TensorFlow binary is optimized with oneAPI Deep Neural Network Library (oneDNN) to use the following CPU instructions in performance-critical operations:  AVX2 AVX512F AVX512_VNNI FMA\n",
      "To enable them in other operations, rebuild TensorFlow with the appropriate compiler flags.\n",
      "Step: 490 | Train Loss: 2.014e-02 | Valid Loss: 1.812e-02: 100%|██████████| 500/500 [01:05<00:00,  7.58it/s]\n"
     ]
    }
   ],
   "source": [
    "train_ds = make_mini_batcher(xtrain, ytrain, args.batch_size, 1, shuffle=True)\n",
    "valid_ds = make_mini_batcher(xvalid, yvalid, args.batch_size, 1, shuffle=False)\n",
    "\n",
    "\n",
    "losses = {} \n",
    "losses[\"train\"] = []\n",
    "losses[\"valid\"] = []\n",
    "\n",
    "\n",
    "with tqdm.trange(steps) as pbar:\n",
    "    for step in pbar:\n",
    "        \n",
    "        ix, iy = train_ds()\n",
    "        loss, grads = make_step(model, ix, iy)\n",
    "        \n",
    "        updates, opt_state = optimizer.update(grads, opt_state)\n",
    "        model = eqx.apply_updates(model, updates)\n",
    "        \n",
    "        losses[\"train\"].append(loss)\n",
    "        wandb.log({\"train_loss\": loss}, step=step)\n",
    "        ix, iy = valid_ds()\n",
    "        # validation step\n",
    "        vloss = val_step(model, ix, iy)\n",
    "        losses[\"valid\"].append(vloss)\n",
    "        \n",
    "        \n",
    "        wandb.log({\"val_loss\": vloss}, step=step)\n",
    "        \n",
    "        if step % 10 == 0:\n",
    "            pbar.set_description(f\"Step: {step:_} | Train Loss: {loss:.3e} | Valid Loss: {vloss:.3e}\")\n",
    "            \n"
   ]
  },
  {
   "cell_type": "markdown",
   "id": "62ed2cdc-b549-4969-8d98-204f9728bee3",
   "metadata": {},
   "source": [
    "### Save models"
   ]
  },
  {
   "cell_type": "code",
   "execution_count": 10,
   "id": "ed63a01f-45a1-4c00-bc03-2cfcb9910978",
   "metadata": {},
   "outputs": [
    {
     "data": {
      "text/plain": []
     },
     "execution_count": 10,
     "metadata": {},
     "output_type": "execute_result"
    }
   ],
   "source": [
    "# objects\n",
    "path_model = Path(wandb.run.dir).joinpath(\"model.pickle\")\n",
    "path_scaler = Path(wandb.run.dir).joinpath(\"scaler.pickle\")\n",
    "\n",
    "# models to save\n",
    "save_object(model, path_model)\n",
    "save_object(scaler, path_scaler)\n",
    "\n",
    "# save with wandb\n",
    "wandb.save(str(path_model), policy=\"now\")\n",
    "wandb.save(str(path_scaler), policy=\"now\")"
   ]
  },
  {
   "cell_type": "markdown",
   "id": "3952eecb-b099-4422-8c91-52285bb01c6e",
   "metadata": {},
   "source": [
    "### Load Models (Optional)"
   ]
  },
  {
   "cell_type": "code",
   "execution_count": 12,
   "id": "50cccbdb-ac0a-49e0-84e9-e14067312257",
   "metadata": {},
   "outputs": [],
   "source": [
    "# # if args.server == \"jz\":\n",
    "# # get id (from this run or a run you can set)\n",
    "# run_id = wandb.run.id\n",
    "\n",
    "# # initialize api\n",
    "# api = wandb.Api()\n",
    "\n",
    "# # get run\n",
    "# run = api.run(f\"{args.entity}/{args.project}/{run_id}\")\n",
    "\n",
    "# # download the files\n",
    "# files = [\"scaler.pickle\", \"model.pickle\"]\n",
    "\n",
    "# for ifile in files:\n",
    "    \n",
    "#     run.file(ifile).download(replace=True)"
   ]
  },
  {
   "cell_type": "code",
   "execution_count": 13,
   "id": "cef597ca-bc1f-4996-b51a-f5deed6c5491",
   "metadata": {},
   "outputs": [],
   "source": [
    "# model = load_object(\"./model.pickle\")\n",
    "# scaler = load_object(\"./scaler.pickle\")"
   ]
  },
  {
   "cell_type": "markdown",
   "id": "450003ae-4943-4704-b6f4-5b7eab4f21ba",
   "metadata": {},
   "source": [
    "### PostProcessing"
   ]
  },
  {
   "cell_type": "code",
   "execution_count": 14,
   "id": "316e79d9-efc8-4707-9c67-e9781e110004",
   "metadata": {},
   "outputs": [
    {
     "data": {
      "text/html": [
       "<div>\n",
       "<style scoped>\n",
       "    .dataframe tbody tr th:only-of-type {\n",
       "        vertical-align: middle;\n",
       "    }\n",
       "\n",
       "    .dataframe tbody tr th {\n",
       "        vertical-align: top;\n",
       "    }\n",
       "\n",
       "    .dataframe thead th {\n",
       "        text-align: right;\n",
       "    }\n",
       "</style>\n",
       "<table border=\"1\" class=\"dataframe\">\n",
       "  <thead>\n",
       "    <tr style=\"text-align: right;\">\n",
       "      <th></th>\n",
       "      <th>longitude</th>\n",
       "      <th>latitude</th>\n",
       "    </tr>\n",
       "  </thead>\n",
       "  <tbody>\n",
       "    <tr>\n",
       "      <th>count</th>\n",
       "      <td>967980.000000</td>\n",
       "      <td>967980.000000</td>\n",
       "    </tr>\n",
       "    <tr>\n",
       "      <th>mean</th>\n",
       "      <td>300.000000</td>\n",
       "      <td>38.100000</td>\n",
       "    </tr>\n",
       "    <tr>\n",
       "      <th>std</th>\n",
       "      <td>2.943922</td>\n",
       "      <td>3.001668</td>\n",
       "    </tr>\n",
       "    <tr>\n",
       "      <th>min</th>\n",
       "      <td>295.000000</td>\n",
       "      <td>33.000000</td>\n",
       "    </tr>\n",
       "    <tr>\n",
       "      <th>25%</th>\n",
       "      <td>297.400000</td>\n",
       "      <td>35.550000</td>\n",
       "    </tr>\n",
       "    <tr>\n",
       "      <th>50%</th>\n",
       "      <td>300.000000</td>\n",
       "      <td>38.100000</td>\n",
       "    </tr>\n",
       "    <tr>\n",
       "      <th>75%</th>\n",
       "      <td>302.600000</td>\n",
       "      <td>40.650000</td>\n",
       "    </tr>\n",
       "    <tr>\n",
       "      <th>max</th>\n",
       "      <td>305.000000</td>\n",
       "      <td>43.200000</td>\n",
       "    </tr>\n",
       "  </tbody>\n",
       "</table>\n",
       "</div>"
      ],
      "text/plain": [
       "           longitude       latitude\n",
       "count  967980.000000  967980.000000\n",
       "mean      300.000000      38.100000\n",
       "std         2.943922       3.001668\n",
       "min       295.000000      33.000000\n",
       "25%       297.400000      35.550000\n",
       "50%       300.000000      38.100000\n",
       "75%       302.600000      40.650000\n",
       "max       305.000000      43.200000"
      ]
     },
     "execution_count": 14,
     "metadata": {},
     "output_type": "execute_result"
    }
   ],
   "source": [
    "df_grid = generate_eval_data(args)\n",
    "\n",
    "df_grid.describe()"
   ]
  },
  {
   "cell_type": "code",
   "execution_count": 15,
   "id": "d4d296bb-b91d-4993-b0ee-bff91208b6e9",
   "metadata": {},
   "outputs": [
    {
     "data": {
      "text/plain": [
       "(          longitude       latitude  time_transform\n",
       " count  9.679800e+05  967980.000000   967980.000000\n",
       " mean  -2.666668e-07       0.006669       -0.000004\n",
       " std    1.962616e-01       0.200112        0.494783\n",
       " min   -3.333338e-01      -0.333332       -0.854648\n",
       " 25%   -1.733337e-01      -0.163331       -0.427326\n",
       " 50%   -2.666668e-07       0.006669       -0.000004\n",
       " 75%    1.733332e-01       0.176670        0.427317\n",
       " max    3.333333e-01       0.346671        0.854639,\n",
       "            longitude       latitude\n",
       " count  967980.000000  967980.000000\n",
       " mean      300.000000      38.100000\n",
       " std         2.943922       3.001668\n",
       " min       295.000000      33.000000\n",
       " 25%       297.400000      35.550000\n",
       " 50%       300.000000      38.100000\n",
       " 75%       302.600000      40.650000\n",
       " max       305.000000      43.200000)"
      ]
     },
     "execution_count": 15,
     "metadata": {},
     "output_type": "execute_result"
    }
   ],
   "source": [
    "df_pred = feature_transform(df_grid.copy(), args, scaler=scaler)\n",
    "df_pred.describe(), df_grid.describe()"
   ]
  },
  {
   "cell_type": "code",
   "execution_count": 16,
   "id": "665740c1-03cb-49ea-8ce1-22db16a85b84",
   "metadata": {},
   "outputs": [],
   "source": [
    "wandb.config.update(\n",
    "    {\n",
    "        \"n_test\": df_pred.shape[0],\n",
    "    }\n",
    ")"
   ]
  },
  {
   "cell_type": "markdown",
   "id": "b1224ed1-2071-47a2-abe6-df2767580fc4",
   "metadata": {},
   "source": [
    "### Predictions\n"
   ]
  },
  {
   "cell_type": "code",
   "execution_count": 17,
   "id": "2abeed1c-76f0-4f4f-a54a-fecef4cf0981",
   "metadata": {},
   "outputs": [],
   "source": [
    "@jax.jit\n",
    "def pred_step(model, data):\n",
    "    return jax.vmap(model)(data)"
   ]
  },
  {
   "cell_type": "code",
   "execution_count": 18,
   "id": "54c2ef06-b427-448f-87b7-28d8f33cd6bc",
   "metadata": {},
   "outputs": [],
   "source": [
    "from ml4ssh._src.model_utils import batch_predict\n",
    "from functools import partial\n",
    "import time"
   ]
  },
  {
   "cell_type": "code",
   "execution_count": 19,
   "id": "02fd8a42-3bc2-4d1f-bc00-19801a1b92e7",
   "metadata": {},
   "outputs": [
    {
     "name": "stderr",
     "output_type": "stream",
     "text": [
      "97it [00:02, 46.12it/s] \n"
     ]
    }
   ],
   "source": [
    "df_pred = jnp.asarray(df_pred[df_pred.columns.difference([\"time\"])].values)\n",
    "\n",
    "fn = partial(pred_step, model)\n",
    "\n",
    "t0 = time.time()\n",
    "df_grid[\"pred\"] = batch_predict(df_pred, fn, args.eval_batch_size)\n",
    "t1 = time.time() - t0"
   ]
  },
  {
   "cell_type": "code",
   "execution_count": 20,
   "id": "3888b407-18b4-4827-99ee-bed6ff447912",
   "metadata": {},
   "outputs": [],
   "source": [
    "wandb.config.update(\n",
    "    {\n",
    "        \"time_predict_batches\": t1,\n",
    "    }\n",
    ")"
   ]
  },
  {
   "cell_type": "code",
   "execution_count": 25,
   "id": "11412828-7bd7-4c9c-aaf9-3b638d638313",
   "metadata": {},
   "outputs": [],
   "source": [
    "ds_oi = postprocess_data(df_grid, args)"
   ]
  },
  {
   "cell_type": "code",
   "execution_count": 26,
   "id": "974dab93-a32b-4fa7-82f8-dc6fcffbc68a",
   "metadata": {},
   "outputs": [
    {
     "data": {
      "text/html": [
       "<div><svg style=\"position: absolute; width: 0; height: 0; overflow: hidden\">\n",
       "<defs>\n",
       "<symbol id=\"icon-database\" viewBox=\"0 0 32 32\">\n",
       "<path d=\"M16 0c-8.837 0-16 2.239-16 5v4c0 2.761 7.163 5 16 5s16-2.239 16-5v-4c0-2.761-7.163-5-16-5z\"></path>\n",
       "<path d=\"M16 17c-8.837 0-16-2.239-16-5v6c0 2.761 7.163 5 16 5s16-2.239 16-5v-6c0 2.761-7.163 5-16 5z\"></path>\n",
       "<path d=\"M16 26c-8.837 0-16-2.239-16-5v6c0 2.761 7.163 5 16 5s16-2.239 16-5v-6c0 2.761-7.163 5-16 5z\"></path>\n",
       "</symbol>\n",
       "<symbol id=\"icon-file-text2\" viewBox=\"0 0 32 32\">\n",
       "<path d=\"M28.681 7.159c-0.694-0.947-1.662-2.053-2.724-3.116s-2.169-2.030-3.116-2.724c-1.612-1.182-2.393-1.319-2.841-1.319h-15.5c-1.378 0-2.5 1.121-2.5 2.5v27c0 1.378 1.122 2.5 2.5 2.5h23c1.378 0 2.5-1.122 2.5-2.5v-19.5c0-0.448-0.137-1.23-1.319-2.841zM24.543 5.457c0.959 0.959 1.712 1.825 2.268 2.543h-4.811v-4.811c0.718 0.556 1.584 1.309 2.543 2.268zM28 29.5c0 0.271-0.229 0.5-0.5 0.5h-23c-0.271 0-0.5-0.229-0.5-0.5v-27c0-0.271 0.229-0.5 0.5-0.5 0 0 15.499-0 15.5 0v7c0 0.552 0.448 1 1 1h7v19.5z\"></path>\n",
       "<path d=\"M23 26h-14c-0.552 0-1-0.448-1-1s0.448-1 1-1h14c0.552 0 1 0.448 1 1s-0.448 1-1 1z\"></path>\n",
       "<path d=\"M23 22h-14c-0.552 0-1-0.448-1-1s0.448-1 1-1h14c0.552 0 1 0.448 1 1s-0.448 1-1 1z\"></path>\n",
       "<path d=\"M23 18h-14c-0.552 0-1-0.448-1-1s0.448-1 1-1h14c0.552 0 1 0.448 1 1s-0.448 1-1 1z\"></path>\n",
       "</symbol>\n",
       "</defs>\n",
       "</svg>\n",
       "<style>/* CSS stylesheet for displaying xarray objects in jupyterlab.\n",
       " *\n",
       " */\n",
       "\n",
       ":root {\n",
       "  --xr-font-color0: var(--jp-content-font-color0, rgba(0, 0, 0, 1));\n",
       "  --xr-font-color2: var(--jp-content-font-color2, rgba(0, 0, 0, 0.54));\n",
       "  --xr-font-color3: var(--jp-content-font-color3, rgba(0, 0, 0, 0.38));\n",
       "  --xr-border-color: var(--jp-border-color2, #e0e0e0);\n",
       "  --xr-disabled-color: var(--jp-layout-color3, #bdbdbd);\n",
       "  --xr-background-color: var(--jp-layout-color0, white);\n",
       "  --xr-background-color-row-even: var(--jp-layout-color1, white);\n",
       "  --xr-background-color-row-odd: var(--jp-layout-color2, #eeeeee);\n",
       "}\n",
       "\n",
       "html[theme=dark],\n",
       "body.vscode-dark {\n",
       "  --xr-font-color0: rgba(255, 255, 255, 1);\n",
       "  --xr-font-color2: rgba(255, 255, 255, 0.54);\n",
       "  --xr-font-color3: rgba(255, 255, 255, 0.38);\n",
       "  --xr-border-color: #1F1F1F;\n",
       "  --xr-disabled-color: #515151;\n",
       "  --xr-background-color: #111111;\n",
       "  --xr-background-color-row-even: #111111;\n",
       "  --xr-background-color-row-odd: #313131;\n",
       "}\n",
       "\n",
       ".xr-wrap {\n",
       "  display: block !important;\n",
       "  min-width: 300px;\n",
       "  max-width: 700px;\n",
       "}\n",
       "\n",
       ".xr-text-repr-fallback {\n",
       "  /* fallback to plain text repr when CSS is not injected (untrusted notebook) */\n",
       "  display: none;\n",
       "}\n",
       "\n",
       ".xr-header {\n",
       "  padding-top: 6px;\n",
       "  padding-bottom: 6px;\n",
       "  margin-bottom: 4px;\n",
       "  border-bottom: solid 1px var(--xr-border-color);\n",
       "}\n",
       "\n",
       ".xr-header > div,\n",
       ".xr-header > ul {\n",
       "  display: inline;\n",
       "  margin-top: 0;\n",
       "  margin-bottom: 0;\n",
       "}\n",
       "\n",
       ".xr-obj-type,\n",
       ".xr-array-name {\n",
       "  margin-left: 2px;\n",
       "  margin-right: 10px;\n",
       "}\n",
       "\n",
       ".xr-obj-type {\n",
       "  color: var(--xr-font-color2);\n",
       "}\n",
       "\n",
       ".xr-sections {\n",
       "  padding-left: 0 !important;\n",
       "  display: grid;\n",
       "  grid-template-columns: 150px auto auto 1fr 20px 20px;\n",
       "}\n",
       "\n",
       ".xr-section-item {\n",
       "  display: contents;\n",
       "}\n",
       "\n",
       ".xr-section-item input {\n",
       "  display: none;\n",
       "}\n",
       "\n",
       ".xr-section-item input + label {\n",
       "  color: var(--xr-disabled-color);\n",
       "}\n",
       "\n",
       ".xr-section-item input:enabled + label {\n",
       "  cursor: pointer;\n",
       "  color: var(--xr-font-color2);\n",
       "}\n",
       "\n",
       ".xr-section-item input:enabled + label:hover {\n",
       "  color: var(--xr-font-color0);\n",
       "}\n",
       "\n",
       ".xr-section-summary {\n",
       "  grid-column: 1;\n",
       "  color: var(--xr-font-color2);\n",
       "  font-weight: 500;\n",
       "}\n",
       "\n",
       ".xr-section-summary > span {\n",
       "  display: inline-block;\n",
       "  padding-left: 0.5em;\n",
       "}\n",
       "\n",
       ".xr-section-summary-in:disabled + label {\n",
       "  color: var(--xr-font-color2);\n",
       "}\n",
       "\n",
       ".xr-section-summary-in + label:before {\n",
       "  display: inline-block;\n",
       "  content: '►';\n",
       "  font-size: 11px;\n",
       "  width: 15px;\n",
       "  text-align: center;\n",
       "}\n",
       "\n",
       ".xr-section-summary-in:disabled + label:before {\n",
       "  color: var(--xr-disabled-color);\n",
       "}\n",
       "\n",
       ".xr-section-summary-in:checked + label:before {\n",
       "  content: '▼';\n",
       "}\n",
       "\n",
       ".xr-section-summary-in:checked + label > span {\n",
       "  display: none;\n",
       "}\n",
       "\n",
       ".xr-section-summary,\n",
       ".xr-section-inline-details {\n",
       "  padding-top: 4px;\n",
       "  padding-bottom: 4px;\n",
       "}\n",
       "\n",
       ".xr-section-inline-details {\n",
       "  grid-column: 2 / -1;\n",
       "}\n",
       "\n",
       ".xr-section-details {\n",
       "  display: none;\n",
       "  grid-column: 1 / -1;\n",
       "  margin-bottom: 5px;\n",
       "}\n",
       "\n",
       ".xr-section-summary-in:checked ~ .xr-section-details {\n",
       "  display: contents;\n",
       "}\n",
       "\n",
       ".xr-array-wrap {\n",
       "  grid-column: 1 / -1;\n",
       "  display: grid;\n",
       "  grid-template-columns: 20px auto;\n",
       "}\n",
       "\n",
       ".xr-array-wrap > label {\n",
       "  grid-column: 1;\n",
       "  vertical-align: top;\n",
       "}\n",
       "\n",
       ".xr-preview {\n",
       "  color: var(--xr-font-color3);\n",
       "}\n",
       "\n",
       ".xr-array-preview,\n",
       ".xr-array-data {\n",
       "  padding: 0 5px !important;\n",
       "  grid-column: 2;\n",
       "}\n",
       "\n",
       ".xr-array-data,\n",
       ".xr-array-in:checked ~ .xr-array-preview {\n",
       "  display: none;\n",
       "}\n",
       "\n",
       ".xr-array-in:checked ~ .xr-array-data,\n",
       ".xr-array-preview {\n",
       "  display: inline-block;\n",
       "}\n",
       "\n",
       ".xr-dim-list {\n",
       "  display: inline-block !important;\n",
       "  list-style: none;\n",
       "  padding: 0 !important;\n",
       "  margin: 0;\n",
       "}\n",
       "\n",
       ".xr-dim-list li {\n",
       "  display: inline-block;\n",
       "  padding: 0;\n",
       "  margin: 0;\n",
       "}\n",
       "\n",
       ".xr-dim-list:before {\n",
       "  content: '(';\n",
       "}\n",
       "\n",
       ".xr-dim-list:after {\n",
       "  content: ')';\n",
       "}\n",
       "\n",
       ".xr-dim-list li:not(:last-child):after {\n",
       "  content: ',';\n",
       "  padding-right: 5px;\n",
       "}\n",
       "\n",
       ".xr-has-index {\n",
       "  font-weight: bold;\n",
       "}\n",
       "\n",
       ".xr-var-list,\n",
       ".xr-var-item {\n",
       "  display: contents;\n",
       "}\n",
       "\n",
       ".xr-var-item > div,\n",
       ".xr-var-item label,\n",
       ".xr-var-item > .xr-var-name span {\n",
       "  background-color: var(--xr-background-color-row-even);\n",
       "  margin-bottom: 0;\n",
       "}\n",
       "\n",
       ".xr-var-item > .xr-var-name:hover span {\n",
       "  padding-right: 5px;\n",
       "}\n",
       "\n",
       ".xr-var-list > li:nth-child(odd) > div,\n",
       ".xr-var-list > li:nth-child(odd) > label,\n",
       ".xr-var-list > li:nth-child(odd) > .xr-var-name span {\n",
       "  background-color: var(--xr-background-color-row-odd);\n",
       "}\n",
       "\n",
       ".xr-var-name {\n",
       "  grid-column: 1;\n",
       "}\n",
       "\n",
       ".xr-var-dims {\n",
       "  grid-column: 2;\n",
       "}\n",
       "\n",
       ".xr-var-dtype {\n",
       "  grid-column: 3;\n",
       "  text-align: right;\n",
       "  color: var(--xr-font-color2);\n",
       "}\n",
       "\n",
       ".xr-var-preview {\n",
       "  grid-column: 4;\n",
       "}\n",
       "\n",
       ".xr-var-name,\n",
       ".xr-var-dims,\n",
       ".xr-var-dtype,\n",
       ".xr-preview,\n",
       ".xr-attrs dt {\n",
       "  white-space: nowrap;\n",
       "  overflow: hidden;\n",
       "  text-overflow: ellipsis;\n",
       "  padding-right: 10px;\n",
       "}\n",
       "\n",
       ".xr-var-name:hover,\n",
       ".xr-var-dims:hover,\n",
       ".xr-var-dtype:hover,\n",
       ".xr-attrs dt:hover {\n",
       "  overflow: visible;\n",
       "  width: auto;\n",
       "  z-index: 1;\n",
       "}\n",
       "\n",
       ".xr-var-attrs,\n",
       ".xr-var-data {\n",
       "  display: none;\n",
       "  background-color: var(--xr-background-color) !important;\n",
       "  padding-bottom: 5px !important;\n",
       "}\n",
       "\n",
       ".xr-var-attrs-in:checked ~ .xr-var-attrs,\n",
       ".xr-var-data-in:checked ~ .xr-var-data {\n",
       "  display: block;\n",
       "}\n",
       "\n",
       ".xr-var-data > table {\n",
       "  float: right;\n",
       "}\n",
       "\n",
       ".xr-var-name span,\n",
       ".xr-var-data,\n",
       ".xr-attrs {\n",
       "  padding-left: 25px !important;\n",
       "}\n",
       "\n",
       ".xr-attrs,\n",
       ".xr-var-attrs,\n",
       ".xr-var-data {\n",
       "  grid-column: 1 / -1;\n",
       "}\n",
       "\n",
       "dl.xr-attrs {\n",
       "  padding: 0;\n",
       "  margin: 0;\n",
       "  display: grid;\n",
       "  grid-template-columns: 125px auto;\n",
       "}\n",
       "\n",
       ".xr-attrs dt,\n",
       ".xr-attrs dd {\n",
       "  padding: 0;\n",
       "  margin: 0;\n",
       "  float: left;\n",
       "  padding-right: 10px;\n",
       "  width: auto;\n",
       "}\n",
       "\n",
       ".xr-attrs dt {\n",
       "  font-weight: normal;\n",
       "  grid-column: 1;\n",
       "}\n",
       "\n",
       ".xr-attrs dt:hover span {\n",
       "  display: inline-block;\n",
       "  background: var(--xr-background-color);\n",
       "  padding-right: 10px;\n",
       "}\n",
       "\n",
       ".xr-attrs dd {\n",
       "  grid-column: 2;\n",
       "  white-space: pre-wrap;\n",
       "  word-break: break-all;\n",
       "}\n",
       "\n",
       ".xr-icon-database,\n",
       ".xr-icon-file-text2 {\n",
       "  display: inline-block;\n",
       "  vertical-align: middle;\n",
       "  width: 1em;\n",
       "  height: 1.5em !important;\n",
       "  stroke-width: 0;\n",
       "  stroke: currentColor;\n",
       "  fill: currentColor;\n",
       "}\n",
       "</style><pre class='xr-text-repr-fallback'>&lt;xarray.Dataset&gt;\n",
       "Dimensions:    (latitude: 52, longitude: 51, time: 365)\n",
       "Coordinates:\n",
       "  * latitude   (latitude) float64 33.0 33.2 33.4 33.6 ... 42.6 42.8 43.0 43.2\n",
       "  * longitude  (longitude) float64 295.0 295.2 295.4 295.6 ... 304.6 304.8 305.0\n",
       "  * time       (time) datetime64[ns] 2017-01-01 2017-01-02 ... 2017-12-31\n",
       "Data variables:\n",
       "    index      (latitude, longitude, time) int64 0 1 2 ... 967977 967978 967979\n",
       "    pred       (latitude, longitude, time) float32 0.05324 0.05312 ... 0.3141\n",
       "    ssh        (latitude, longitude, time) float64 0.6529 0.6528 ... 0.1378</pre><div class='xr-wrap' style='display:none'><div class='xr-header'><div class='xr-obj-type'>xarray.Dataset</div></div><ul class='xr-sections'><li class='xr-section-item'><input id='section-bab83d6f-b711-4aea-940a-7ca3034f6ee8' class='xr-section-summary-in' type='checkbox' disabled ><label for='section-bab83d6f-b711-4aea-940a-7ca3034f6ee8' class='xr-section-summary'  title='Expand/collapse section'>Dimensions:</label><div class='xr-section-inline-details'><ul class='xr-dim-list'><li><span class='xr-has-index'>latitude</span>: 52</li><li><span class='xr-has-index'>longitude</span>: 51</li><li><span class='xr-has-index'>time</span>: 365</li></ul></div><div class='xr-section-details'></div></li><li class='xr-section-item'><input id='section-cb2e8639-2fc4-4ce2-a971-3b88f49bbe34' class='xr-section-summary-in' type='checkbox'  checked><label for='section-cb2e8639-2fc4-4ce2-a971-3b88f49bbe34' class='xr-section-summary' >Coordinates: <span>(3)</span></label><div class='xr-section-inline-details'></div><div class='xr-section-details'><ul class='xr-var-list'><li class='xr-var-item'><div class='xr-var-name'><span class='xr-has-index'>latitude</span></div><div class='xr-var-dims'>(latitude)</div><div class='xr-var-dtype'>float64</div><div class='xr-var-preview xr-preview'>33.0 33.2 33.4 ... 42.8 43.0 43.2</div><input id='attrs-fefec9b0-fff9-47b5-b31c-8581e2a03a41' class='xr-var-attrs-in' type='checkbox' disabled><label for='attrs-fefec9b0-fff9-47b5-b31c-8581e2a03a41' title='Show/Hide attributes'><svg class='icon xr-icon-file-text2'><use xlink:href='#icon-file-text2'></use></svg></label><input id='data-96c4683d-dfbe-4217-add0-a439369fbca0' class='xr-var-data-in' type='checkbox'><label for='data-96c4683d-dfbe-4217-add0-a439369fbca0' title='Show/Hide data repr'><svg class='icon xr-icon-database'><use xlink:href='#icon-database'></use></svg></label><div class='xr-var-attrs'><dl class='xr-attrs'></dl></div><div class='xr-var-data'><pre>array([33. , 33.2, 33.4, 33.6, 33.8, 34. , 34.2, 34.4, 34.6, 34.8, 35. , 35.2,\n",
       "       35.4, 35.6, 35.8, 36. , 36.2, 36.4, 36.6, 36.8, 37. , 37.2, 37.4, 37.6,\n",
       "       37.8, 38. , 38.2, 38.4, 38.6, 38.8, 39. , 39.2, 39.4, 39.6, 39.8, 40. ,\n",
       "       40.2, 40.4, 40.6, 40.8, 41. , 41.2, 41.4, 41.6, 41.8, 42. , 42.2, 42.4,\n",
       "       42.6, 42.8, 43. , 43.2])</pre></div></li><li class='xr-var-item'><div class='xr-var-name'><span class='xr-has-index'>longitude</span></div><div class='xr-var-dims'>(longitude)</div><div class='xr-var-dtype'>float64</div><div class='xr-var-preview xr-preview'>295.0 295.2 295.4 ... 304.8 305.0</div><input id='attrs-b8061be5-8ca3-4ec4-ab9a-321daad7cc72' class='xr-var-attrs-in' type='checkbox' disabled><label for='attrs-b8061be5-8ca3-4ec4-ab9a-321daad7cc72' title='Show/Hide attributes'><svg class='icon xr-icon-file-text2'><use xlink:href='#icon-file-text2'></use></svg></label><input id='data-5b5eb6cd-7e38-4b5e-8bdf-256e41408222' class='xr-var-data-in' type='checkbox'><label for='data-5b5eb6cd-7e38-4b5e-8bdf-256e41408222' title='Show/Hide data repr'><svg class='icon xr-icon-database'><use xlink:href='#icon-database'></use></svg></label><div class='xr-var-attrs'><dl class='xr-attrs'></dl></div><div class='xr-var-data'><pre>array([295. , 295.2, 295.4, 295.6, 295.8, 296. , 296.2, 296.4, 296.6, 296.8,\n",
       "       297. , 297.2, 297.4, 297.6, 297.8, 298. , 298.2, 298.4, 298.6, 298.8,\n",
       "       299. , 299.2, 299.4, 299.6, 299.8, 300. , 300.2, 300.4, 300.6, 300.8,\n",
       "       301. , 301.2, 301.4, 301.6, 301.8, 302. , 302.2, 302.4, 302.6, 302.8,\n",
       "       303. , 303.2, 303.4, 303.6, 303.8, 304. , 304.2, 304.4, 304.6, 304.8,\n",
       "       305. ])</pre></div></li><li class='xr-var-item'><div class='xr-var-name'><span class='xr-has-index'>time</span></div><div class='xr-var-dims'>(time)</div><div class='xr-var-dtype'>datetime64[ns]</div><div class='xr-var-preview xr-preview'>2017-01-01 ... 2017-12-31</div><input id='attrs-d8143257-439e-4563-8f7a-cb7b3f47f860' class='xr-var-attrs-in' type='checkbox' disabled><label for='attrs-d8143257-439e-4563-8f7a-cb7b3f47f860' title='Show/Hide attributes'><svg class='icon xr-icon-file-text2'><use xlink:href='#icon-file-text2'></use></svg></label><input id='data-3bcfbb93-69a8-4be1-8018-98501c7d5af8' class='xr-var-data-in' type='checkbox'><label for='data-3bcfbb93-69a8-4be1-8018-98501c7d5af8' title='Show/Hide data repr'><svg class='icon xr-icon-database'><use xlink:href='#icon-database'></use></svg></label><div class='xr-var-attrs'><dl class='xr-attrs'></dl></div><div class='xr-var-data'><pre>array([&#x27;2017-01-01T00:00:00.000000000&#x27;, &#x27;2017-01-02T00:00:00.000000000&#x27;,\n",
       "       &#x27;2017-01-03T00:00:00.000000000&#x27;, ..., &#x27;2017-12-29T00:00:00.000000000&#x27;,\n",
       "       &#x27;2017-12-30T00:00:00.000000000&#x27;, &#x27;2017-12-31T00:00:00.000000000&#x27;],\n",
       "      dtype=&#x27;datetime64[ns]&#x27;)</pre></div></li></ul></div></li><li class='xr-section-item'><input id='section-7a98fcab-cdc6-4945-ad2c-f5fc5405321e' class='xr-section-summary-in' type='checkbox'  checked><label for='section-7a98fcab-cdc6-4945-ad2c-f5fc5405321e' class='xr-section-summary' >Data variables: <span>(3)</span></label><div class='xr-section-inline-details'></div><div class='xr-section-details'><ul class='xr-var-list'><li class='xr-var-item'><div class='xr-var-name'><span>index</span></div><div class='xr-var-dims'>(latitude, longitude, time)</div><div class='xr-var-dtype'>int64</div><div class='xr-var-preview xr-preview'>0 1 2 3 ... 967977 967978 967979</div><input id='attrs-145545fd-02c0-4710-b4e2-1358174e5584' class='xr-var-attrs-in' type='checkbox' disabled><label for='attrs-145545fd-02c0-4710-b4e2-1358174e5584' title='Show/Hide attributes'><svg class='icon xr-icon-file-text2'><use xlink:href='#icon-file-text2'></use></svg></label><input id='data-0505b99f-2549-40d2-9dc3-60c82ea7f608' class='xr-var-data-in' type='checkbox'><label for='data-0505b99f-2549-40d2-9dc3-60c82ea7f608' title='Show/Hide data repr'><svg class='icon xr-icon-database'><use xlink:href='#icon-database'></use></svg></label><div class='xr-var-attrs'><dl class='xr-attrs'></dl></div><div class='xr-var-data'><pre>array([[[     0,      1,      2, ...,    362,    363,    364],\n",
       "        [   365,    366,    367, ...,    727,    728,    729],\n",
       "        [   730,    731,    732, ...,   1092,   1093,   1094],\n",
       "        ...,\n",
       "        [ 17520,  17521,  17522, ...,  17882,  17883,  17884],\n",
       "        [ 17885,  17886,  17887, ...,  18247,  18248,  18249],\n",
       "        [ 18250,  18251,  18252, ...,  18612,  18613,  18614]],\n",
       "\n",
       "       [[ 18615,  18616,  18617, ...,  18977,  18978,  18979],\n",
       "        [ 18980,  18981,  18982, ...,  19342,  19343,  19344],\n",
       "        [ 19345,  19346,  19347, ...,  19707,  19708,  19709],\n",
       "        ...,\n",
       "        [ 36135,  36136,  36137, ...,  36497,  36498,  36499],\n",
       "        [ 36500,  36501,  36502, ...,  36862,  36863,  36864],\n",
       "        [ 36865,  36866,  36867, ...,  37227,  37228,  37229]],\n",
       "\n",
       "       [[ 37230,  37231,  37232, ...,  37592,  37593,  37594],\n",
       "        [ 37595,  37596,  37597, ...,  37957,  37958,  37959],\n",
       "        [ 37960,  37961,  37962, ...,  38322,  38323,  38324],\n",
       "        ...,\n",
       "...\n",
       "        ...,\n",
       "        [929655, 929656, 929657, ..., 930017, 930018, 930019],\n",
       "        [930020, 930021, 930022, ..., 930382, 930383, 930384],\n",
       "        [930385, 930386, 930387, ..., 930747, 930748, 930749]],\n",
       "\n",
       "       [[930750, 930751, 930752, ..., 931112, 931113, 931114],\n",
       "        [931115, 931116, 931117, ..., 931477, 931478, 931479],\n",
       "        [931480, 931481, 931482, ..., 931842, 931843, 931844],\n",
       "        ...,\n",
       "        [948270, 948271, 948272, ..., 948632, 948633, 948634],\n",
       "        [948635, 948636, 948637, ..., 948997, 948998, 948999],\n",
       "        [949000, 949001, 949002, ..., 949362, 949363, 949364]],\n",
       "\n",
       "       [[949365, 949366, 949367, ..., 949727, 949728, 949729],\n",
       "        [949730, 949731, 949732, ..., 950092, 950093, 950094],\n",
       "        [950095, 950096, 950097, ..., 950457, 950458, 950459],\n",
       "        ...,\n",
       "        [966885, 966886, 966887, ..., 967247, 967248, 967249],\n",
       "        [967250, 967251, 967252, ..., 967612, 967613, 967614],\n",
       "        [967615, 967616, 967617, ..., 967977, 967978, 967979]]])</pre></div></li><li class='xr-var-item'><div class='xr-var-name'><span>pred</span></div><div class='xr-var-dims'>(latitude, longitude, time)</div><div class='xr-var-dtype'>float32</div><div class='xr-var-preview xr-preview'>0.05324 0.05312 ... 0.3083 0.3141</div><input id='attrs-e7910247-9f30-400e-ad66-f4aa10da79d8' class='xr-var-attrs-in' type='checkbox' disabled><label for='attrs-e7910247-9f30-400e-ad66-f4aa10da79d8' title='Show/Hide attributes'><svg class='icon xr-icon-file-text2'><use xlink:href='#icon-file-text2'></use></svg></label><input id='data-d803d6f0-2570-4156-b33b-c97a80458d50' class='xr-var-data-in' type='checkbox'><label for='data-d803d6f0-2570-4156-b33b-c97a80458d50' title='Show/Hide data repr'><svg class='icon xr-icon-database'><use xlink:href='#icon-database'></use></svg></label><div class='xr-var-attrs'><dl class='xr-attrs'></dl></div><div class='xr-var-data'><pre>array([[[ 0.05324383,  0.05312357,  0.05293257, ..., -0.33258742,\n",
       "         -0.3335722 , -0.33448148],\n",
       "        [ 0.05797894,  0.05781205,  0.05757312, ..., -0.32881337,\n",
       "         -0.32954177, -0.33019108],\n",
       "        [ 0.06273834,  0.06253208,  0.06225578, ..., -0.32437438,\n",
       "         -0.3248546 , -0.32526398],\n",
       "        ...,\n",
       "        [-0.01624583, -0.01522707, -0.01423632, ..., -0.04969831,\n",
       "         -0.04870864, -0.04761415],\n",
       "        [-0.01917844, -0.01818805, -0.01722734, ..., -0.04943549,\n",
       "         -0.04861132, -0.04767903],\n",
       "        [-0.02186256, -0.0209056 , -0.01997649, ..., -0.04912766,\n",
       "         -0.04847052, -0.04769887]],\n",
       "\n",
       "       [[ 0.0564949 ,  0.05627311,  0.05598293, ..., -0.3432011 ,\n",
       "         -0.3440777 , -0.34487268],\n",
       "        [ 0.06144364,  0.06117291,  0.06083561, ..., -0.33961552,\n",
       "         -0.3402255 , -0.3407538 ],\n",
       "        [ 0.0664248 ,  0.06611814,  0.06574397, ..., -0.33534038,\n",
       "         -0.3356958 , -0.3359722 ],\n",
       "...\n",
       "        [ 0.5089574 ,  0.5105005 ,  0.51201284, ...,  0.30406946,\n",
       "          0.3100692 ,  0.31613708],\n",
       "        [ 0.52143276,  0.5229974 ,  0.5245298 , ...,  0.30127794,\n",
       "          0.307255  ,  0.31330597],\n",
       "        [ 0.53355783,  0.53512716,  0.5366601 , ...,  0.29796195,\n",
       "          0.30391333,  0.30994356]],\n",
       "\n",
       "       [[ 0.1854375 ,  0.1835278 ,  0.1816143 , ...,  0.11559476,\n",
       "          0.11523558,  0.11481453],\n",
       "        [ 0.18813832,  0.18635704,  0.1845694 , ...,  0.12195148,\n",
       "          0.12176551,  0.12152   ],\n",
       "        [ 0.19091551,  0.18925561,  0.18759124, ...,  0.12813832,\n",
       "          0.12812723,  0.12805606],\n",
       "        ...,\n",
       "        [ 0.5057255 ,  0.5072705 ,  0.50878334, ...,  0.30845556,\n",
       "          0.31431282,  0.3202386 ],\n",
       "        [ 0.5178952 ,  0.5194604 ,  0.520992  , ...,  0.30571005,\n",
       "          0.3115443 ,  0.3174466 ],\n",
       "        [ 0.52972513,  0.53129184,  0.53282464, ...,  0.30244654,\n",
       "          0.308254  ,  0.3141381 ]]], dtype=float32)</pre></div></li><li class='xr-var-item'><div class='xr-var-name'><span>ssh</span></div><div class='xr-var-dims'>(latitude, longitude, time)</div><div class='xr-var-dtype'>float64</div><div class='xr-var-preview xr-preview'>0.6529 0.6528 ... 0.1319 0.1378</div><input id='attrs-e99bd601-fdaf-44f9-88e4-083a1663f661' class='xr-var-attrs-in' type='checkbox' disabled><label for='attrs-e99bd601-fdaf-44f9-88e4-083a1663f661' title='Show/Hide attributes'><svg class='icon xr-icon-file-text2'><use xlink:href='#icon-file-text2'></use></svg></label><input id='data-f336e9cd-cb0b-4ece-8f2d-7e1185bdd6d9' class='xr-var-data-in' type='checkbox'><label for='data-f336e9cd-cb0b-4ece-8f2d-7e1185bdd6d9' title='Show/Hide data repr'><svg class='icon xr-icon-database'><use xlink:href='#icon-database'></use></svg></label><div class='xr-var-attrs'><dl class='xr-attrs'></dl></div><div class='xr-var-data'><pre>array([[[0.65292319, 0.65280294, 0.65261194, ..., 0.26709195,\n",
       "         0.26610716, 0.26519789],\n",
       "        [0.65696091, 0.65679402, 0.6565551 , ..., 0.2701686 ,\n",
       "         0.2694402 , 0.2687909 ],\n",
       "        [0.66229819, 0.66209193, 0.66181563, ..., 0.27518547,\n",
       "         0.27470523, 0.27429587],\n",
       "        ...,\n",
       "        [0.52122504, 0.5222438 , 0.52323455, ..., 0.48777256,\n",
       "         0.48876223, 0.48985672],\n",
       "        [0.51676776, 0.51775816, 0.51871886, ..., 0.48651072,\n",
       "         0.48733489, 0.48826718],\n",
       "        [0.51296016, 0.51391711, 0.51484623, ..., 0.48569506,\n",
       "         0.4863522 , 0.48712384]],\n",
       "\n",
       "       [[0.65928454, 0.65906275, 0.65877257, ..., 0.25958854,\n",
       "         0.25871193, 0.25791695],\n",
       "        [0.662455  , 0.66218428, 0.66184698, ..., 0.26139584,\n",
       "         0.26078588, 0.26025757],\n",
       "        [0.66687196, 0.6665653 , 0.66619113, ..., 0.26510678,\n",
       "         0.26475136, 0.26447497],\n",
       "...\n",
       "        [0.3355197 , 0.3370628 , 0.33857515, ..., 0.13063177,\n",
       "         0.13663151, 0.14269939],\n",
       "        [0.34937589, 0.35094051, 0.35247294, ..., 0.12922106,\n",
       "         0.13519813, 0.1412491 ],\n",
       "        [0.36210371, 0.36367304, 0.36520596, ..., 0.12650783,\n",
       "         0.13245921, 0.13848944]],\n",
       "\n",
       "       [[0.08472468, 0.08281498, 0.08090147, ..., 0.01488194,\n",
       "         0.01452276, 0.01410171],\n",
       "        [0.08763709, 0.08585581, 0.08406817, ..., 0.02145024,\n",
       "         0.02126428, 0.02101877],\n",
       "        [0.08922198, 0.08756208, 0.08589771, ..., 0.02644479,\n",
       "         0.0264337 , 0.02636254],\n",
       "        ...,\n",
       "        [0.32866278, 0.33020779, 0.33172062, ..., 0.13139283,\n",
       "         0.13725009, 0.14317587],\n",
       "        [0.34163429, 0.34319944, 0.34473105, ..., 0.12944911,\n",
       "         0.13528336, 0.14118565],\n",
       "        [0.35338443, 0.35495114, 0.35648393, ..., 0.12610584,\n",
       "         0.1319133 , 0.13779741]]])</pre></div></li></ul></div></li><li class='xr-section-item'><input id='section-294189a2-f926-451e-a4b2-4a7e3dbb36a0' class='xr-section-summary-in' type='checkbox' disabled ><label for='section-294189a2-f926-451e-a4b2-4a7e3dbb36a0' class='xr-section-summary'  title='Expand/collapse section'>Attributes: <span>(0)</span></label><div class='xr-section-inline-details'></div><div class='xr-section-details'><dl class='xr-attrs'></dl></div></li></ul></div></div>"
      ],
      "text/plain": [
       "<xarray.Dataset>\n",
       "Dimensions:    (latitude: 52, longitude: 51, time: 365)\n",
       "Coordinates:\n",
       "  * latitude   (latitude) float64 33.0 33.2 33.4 33.6 ... 42.6 42.8 43.0 43.2\n",
       "  * longitude  (longitude) float64 295.0 295.2 295.4 295.6 ... 304.6 304.8 305.0\n",
       "  * time       (time) datetime64[ns] 2017-01-01 2017-01-02 ... 2017-12-31\n",
       "Data variables:\n",
       "    index      (latitude, longitude, time) int64 0 1 2 ... 967977 967978 967979\n",
       "    pred       (latitude, longitude, time) float32 0.05324 0.05312 ... 0.3141\n",
       "    ssh        (latitude, longitude, time) float64 0.6529 0.6528 ... 0.1378"
      ]
     },
     "execution_count": 26,
     "metadata": {},
     "output_type": "execute_result"
    }
   ],
   "source": [
    "ds_oi"
   ]
  },
  {
   "cell_type": "code",
   "execution_count": 27,
   "id": "f0779492-1be0-48fc-a10b-413666ad305d",
   "metadata": {},
   "outputs": [
    {
     "name": "stdout",
     "output_type": "stream",
     "text": [
      "CPU times: user 844 ms, sys: 1.03 s, total: 1.88 s\n",
      "Wall time: 2.31 s\n"
     ]
    }
   ],
   "source": [
    "%%time\n",
    "\n",
    "rmse_metrics = get_rmse_metrics(ds_oi, args)\n",
    "\n",
    "wandb.log(\n",
    "    {\n",
    "        \"model_rmse_mean\": rmse_metrics[0],\n",
    "        \"model_rmse_std\": rmse_metrics[1],\n",
    "        \"model_nrmse_mean\": rmse_metrics[2],\n",
    "        \"model_nrmse_std\": rmse_metrics[3],\n",
    "    }\n",
    ")"
   ]
  },
  {
   "cell_type": "code",
   "execution_count": 28,
   "id": "07446478-0947-46d3-9c92-f2d609be69ed",
   "metadata": {},
   "outputs": [],
   "source": [
    "psd_metrics = get_psd_metrics(ds_oi, args)"
   ]
  },
  {
   "cell_type": "markdown",
   "id": "bd079855-f082-4097-94d5-d5d13d9a31df",
   "metadata": {},
   "source": [
    "### Figures"
   ]
  },
  {
   "cell_type": "code",
   "execution_count": 29,
   "id": "9dd9f802-4cc7-4458-8ce7-ffc63fbab688",
   "metadata": {},
   "outputs": [
    {
     "data": {
      "image/png": "[encoded data removed]",
      "text/plain": [
       "<Figure size 504x360 with 1 Axes>"
      ]
     },
     "metadata": {
      "needs_background": "light"
     },
     "output_type": "display_data"
    }
   ],
   "source": [
    "fig, ax = plot_psd_spectrum(\n",
    "    psd_metrics.psd_study, \n",
    "    psd_metrics.psd_ref, \n",
    "    psd_metrics.wavenumber\n",
    ")\n",
    "\n",
    "\n",
    "wandb.log(\n",
    "    {\n",
    "        \"model_psd_spectrum\": wandb.Image(fig),\n",
    "    }\n",
    ")"
   ]
  },
  {
   "cell_type": "code",
   "execution_count": 30,
   "id": "230a6088-eeb1-4ab3-8031-a2d267b1cdb6",
   "metadata": {},
   "outputs": [
    {
     "data": {
      "image/png": "[encoded data removed]",
      "text/plain": [
       "<Figure size 504x360 with 1 Axes>"
      ]
     },
     "metadata": {
      "needs_background": "light"
     },
     "output_type": "display_data"
    }
   ],
   "source": [
    "fig, ax = plot_psd_score(\n",
    "    psd_metrics.psd_diff, \n",
    "    psd_metrics.psd_ref, \n",
    "    psd_metrics.wavenumber, \n",
    "    psd_metrics.resolved_scale)\n",
    "\n",
    "wandb.log(\n",
    "    {\n",
    "        \"model_psd_score\": wandb.Image(fig),\n",
    "    }\n",
    ")"
   ]
  },
  {
   "cell_type": "markdown",
   "id": "4a2bd7b7-dcb5-4536-b326-cc679b9a8300",
   "metadata": {},
   "source": [
    "### Movies"
   ]
  },
  {
   "cell_type": "code",
   "execution_count": 31,
   "id": "98f0bcf3-7732-44bd-b30a-48e6612325af",
   "metadata": {},
   "outputs": [
    {
     "name": "stderr",
     "output_type": "stream",
     "text": [
      "/gpfswork/rech/cli/uvo53rl/.conda/envs/jax_gpu_py39/lib/python3.9/site-packages/xmovie/core.py:46: UserWarning: No `vmin` provided. Data limits are calculated from input. Depending on the input this can take long. Pass `vmin` to avoid this step\n",
      "  warnings.warn(\n",
      "/gpfswork/rech/cli/uvo53rl/.conda/envs/jax_gpu_py39/lib/python3.9/site-packages/xmovie/core.py:53: UserWarning: No `vmax` provided. Data limits are calculated from input. Depending on the input this can take long. Pass `vmax` to avoid this step\n",
      "  warnings.warn(\n"
     ]
    },
    {
     "data": {
      "application/vnd.jupyter.widget-view+json": {
       "model_id": "58bb9cb24d6a4b45b30ccf3a6d6df773",
       "version_major": 2,
       "version_minor": 0
      },
      "text/plain": [
       "  0%|          | 0/10 [00:00<?, ?it/s]"
      ]
     },
     "metadata": {},
     "output_type": "display_data"
    },
    {
     "name": "stdout",
     "output_type": "stream",
     "text": [
      "Movie created at movie_pred.mp4\n",
      "GIF created at movie_pred.gif\n"
     ]
    }
   ],
   "source": [
    "if args.smoke_test:\n",
    "    create_movie(ds_oi.ssh.isel(time=slice(50,60)), \"pred\", \"time\", cmap=\"viridis\")\n",
    "else:\n",
    "    create_movie(ds_oi.ssh, \"pred\", \"time\", cmap=\"viridis\")"
   ]
  },
  {
   "cell_type": "code",
   "execution_count": 32,
   "id": "4292fd48-f99a-4a12-9ba2-35b9f32c403e",
   "metadata": {},
   "outputs": [],
   "source": [
    "wandb.log(\n",
    "    {\n",
    "        \"predictions_gif\": wandb.Image(\"movie_pred.gif\"),\n",
    "    }\n",
    ")"
   ]
  },
  {
   "cell_type": "markdown",
   "id": "3f7cdb4b-468b-4f37-992b-6403056a2ba9",
   "metadata": {},
   "source": [
    "### Gradients"
   ]
  },
  {
   "cell_type": "code",
   "execution_count": 33,
   "id": "22e7dfb4-8f7c-4cbe-8989-e9e64eab9453",
   "metadata": {},
   "outputs": [],
   "source": [
    "ds_oi[\"ssh_grad\"] = calculate_gradient(ds_oi[\"ssh\"], \"longitude\", \"latitude\")"
   ]
  },
  {
   "cell_type": "code",
   "execution_count": 34,
   "id": "3975b43e-f722-4948-999f-4e60eaf87362",
   "metadata": {},
   "outputs": [
    {
     "name": "stderr",
     "output_type": "stream",
     "text": [
      "/gpfswork/rech/cli/uvo53rl/.conda/envs/jax_gpu_py39/lib/python3.9/site-packages/xmovie/core.py:46: UserWarning: No `vmin` provided. Data limits are calculated from input. Depending on the input this can take long. Pass `vmin` to avoid this step\n",
      "  warnings.warn(\n",
      "/gpfswork/rech/cli/uvo53rl/.conda/envs/jax_gpu_py39/lib/python3.9/site-packages/xmovie/core.py:53: UserWarning: No `vmax` provided. Data limits are calculated from input. Depending on the input this can take long. Pass `vmax` to avoid this step\n",
      "  warnings.warn(\n"
     ]
    },
    {
     "data": {
      "application/vnd.jupyter.widget-view+json": {
       "model_id": "5c8bf2b5020045dcba89ca256c557d7d",
       "version_major": 2,
       "version_minor": 0
      },
      "text/plain": [
       "  0%|          | 0/10 [00:00<?, ?it/s]"
      ]
     },
     "metadata": {},
     "output_type": "display_data"
    },
    {
     "name": "stdout",
     "output_type": "stream",
     "text": [
      "Movie created at movie_pred_grad.mp4\n",
      "GIF created at movie_pred_grad.gif\n"
     ]
    }
   ],
   "source": [
    "if args.smoke_test:\n",
    "    create_movie(ds_oi.ssh_grad.isel(time=slice(50,60)), \"pred_grad\", \"time\", cmap=\"Spectral_r\")\n",
    "else:\n",
    "    create_movie(ds_oi.ssh_grad, \"pred_grad\", \"time\", cmap=\"Spectral_r\")"
   ]
  },
  {
   "cell_type": "code",
   "execution_count": 37,
   "id": "6872c78a-d596-446f-911f-3444b2701991",
   "metadata": {},
   "outputs": [],
   "source": [
    "wandb.log(\n",
    "    {\n",
    "        \"predictions_grad_gif\": wandb.Image(\"movie_pred_grad.gif\"),\n",
    "    }\n",
    ")"
   ]
  },
  {
   "cell_type": "markdown",
   "id": "5d08cd6d-20cb-4726-9204-bab5405e584d",
   "metadata": {},
   "source": [
    "### Laplacian"
   ]
  },
  {
   "cell_type": "code",
   "execution_count": 35,
   "id": "2816a06f-c1bf-485a-8966-a0adffd91df0",
   "metadata": {},
   "outputs": [],
   "source": [
    "ds_oi[\"ssh_lap\"] = calculate_laplacian(ds_oi[\"ssh\"], \"longitude\", \"latitude\")"
   ]
  },
  {
   "cell_type": "code",
   "execution_count": 36,
   "id": "6f401c5c-1ff3-4934-8a24-404366860b99",
   "metadata": {},
   "outputs": [
    {
     "name": "stderr",
     "output_type": "stream",
     "text": [
      "/gpfswork/rech/cli/uvo53rl/.conda/envs/jax_gpu_py39/lib/python3.9/site-packages/xmovie/core.py:46: UserWarning: No `vmin` provided. Data limits are calculated from input. Depending on the input this can take long. Pass `vmin` to avoid this step\n",
      "  warnings.warn(\n",
      "/gpfswork/rech/cli/uvo53rl/.conda/envs/jax_gpu_py39/lib/python3.9/site-packages/xmovie/core.py:53: UserWarning: No `vmax` provided. Data limits are calculated from input. Depending on the input this can take long. Pass `vmax` to avoid this step\n",
      "  warnings.warn(\n"
     ]
    },
    {
     "data": {
      "application/vnd.jupyter.widget-view+json": {
       "model_id": "4828abe2e7db40aa87ec863bfc63dd3f",
       "version_major": 2,
       "version_minor": 0
      },
      "text/plain": [
       "  0%|          | 0/10 [00:00<?, ?it/s]"
      ]
     },
     "metadata": {},
     "output_type": "display_data"
    },
    {
     "name": "stdout",
     "output_type": "stream",
     "text": [
      "Movie created at movie_pred_lap.mp4\n",
      "GIF created at movie_pred_lap.gif\n"
     ]
    }
   ],
   "source": [
    "if args.smoke_test:\n",
    "    create_movie(ds_oi.ssh_lap.isel(time=slice(50,60)), \"pred_lap\", \"time\", cmap=\"RdBu_r\")\n",
    "else:\n",
    "    create_movie(ds_oi.ssh_lap, \"pred_lap\", \"time\", cmap=\"RdBu_r\")"
   ]
  },
  {
   "cell_type": "code",
   "execution_count": 38,
   "id": "05ede2ed-4fe4-4209-83b0-6b25ac618daf",
   "metadata": {},
   "outputs": [],
   "source": [
    "wandb.log(\n",
    "    {\n",
    "        \"predictions_laplacian_gif\": wandb.Image(\"movie_pred_lap.gif\"),\n",
    "    }\n",
    ")"
   ]
  },
  {
   "cell_type": "code",
   "execution_count": null,
   "id": "d377f7ff-4392-4510-8f9f-6664e50c862f",
   "metadata": {},
   "outputs": [],
   "source": []
  }
 ],
 "metadata": {
  "kernelspec": {
   "display_name": "Python [conda env:.conda-jax_gpu_py39]",
   "language": "python",
   "name": "conda-env-.conda-jax_gpu_py39-py"
  },
  "language_info": {
   "codemirror_mode": {
    "name": "ipython",
    "version": 3
   },
   "file_extension": ".py",
   "mimetype": "text/x-python",
   "name": "python",
   "nbconvert_exporter": "python",
   "pygments_lexer": "ipython3",
   "version": "3.9.13"
  }
 },
 "nbformat": 4,
 "nbformat_minor": 5
}
